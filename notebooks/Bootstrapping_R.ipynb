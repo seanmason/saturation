{
 "cells": [
  {
   "cell_type": "code",
   "execution_count": 19,
   "id": "8ae4b8a1-f7f7-49f1-be90-fba84e04a280",
   "metadata": {},
   "outputs": [],
   "source": [
    "library(boot)"
   ]
  },
  {
   "cell_type": "code",
   "execution_count": 20,
   "id": "d42e96d0-c289-4bca-9084-3d1c0d2059b5",
   "metadata": {},
   "outputs": [],
   "source": [
    "n.samples = 50\n",
    "n.sets = 10\n",
    "n.resamples = 100\n",
    "# n.repetitions = 10"
   ]
  },
  {
   "cell_type": "markdown",
   "id": "c3134e99-a5d5-44d4-8935-451a447a3a5f",
   "metadata": {},
   "source": [
    "## Determining Distribution Equality Using a CI of the Bootstrapped KS Statistic\n",
    "\n",
    "We sample from two distributions, $A$ and $B$, and attempt to bootstrap a CI on the KS statistic.\n",
    "\n",
    "Let $X_{A,i}$ be a vector of N samples from distribution A, for $i \\in \\{1..N_{sets}\\}$. \"A\" is a stand-in for Python simulation code, \"B\" for the IDL. The \"sets\" are a stand-in for simulation runs.\n",
    "\n",
    "Let $K_{j,k}$ be the KS statistic applied to sample vectors j and k."
   ]
  },
  {
   "cell_type": "markdown",
   "id": "2585ebff-589f-4906-a33f-e528b33c4166",
   "metadata": {},
   "source": [
    "### Test 1\n",
    "\n",
    "This is one method that was suggested in our call. I am not entirely sure it is implemented as described. The expectation is that, since sets of samples are from the same distribution, the test would confirm that the distributions are equivalent.\n",
    "\n",
    "A and B ~ N(0,1)\n",
    "\n",
    "We bootstrap two 95% confidence intervals: \n",
    "\n",
    "$CI_1$ is constructed by sampling from $K_{j,k}, \\forall j \\in X_{A,i}$, $\\forall k \\in X_{A,i}$\n",
    "\n",
    "$CI_2$ is constructed by sampling from $K_{j,k}, \\forall j \\in X_{B,i}$, $\\forall k \\in X_{B,i}$\n",
    "\n",
    "We run this process repeatedly, and find that the CIs overlap in 40-60% of trials. This does not appear to be successful."
   ]
  },
  {
   "cell_type": "code",
   "execution_count": 16,
   "id": "a73317b0-046e-4975-a088-b0518ba1dd1f",
   "metadata": {},
   "outputs": [],
   "source": [
    "calculate.mean.for.bootstrap <- function(data, indices) {\n",
    "    return(mean(data[indices]))\n",
    "}\n",
    "\n",
    "cis.overlap <- function(ci1, ci2) {\n",
    "    return(ci1[1] > ci2[1] && ci1[1] < ci2[2] || ci2[1] > ci1[1] && ci2[1] < ci1[2])\n",
    "}"
   ]
  },
  {
   "cell_type": "code",
   "execution_count": 17,
   "id": "62eb971d-aa9b-475e-94a7-0a6de75a70c1",
   "metadata": {},
   "outputs": [
    {
     "data": {
      "text/html": [
       "0.41"
      ],
      "text/latex": [
       "0.41"
      ],
      "text/markdown": [
       "0.41"
      ],
      "text/plain": [
       "[1] 0.41"
      ]
     },
     "metadata": {},
     "output_type": "display_data"
    }
   ],
   "source": [
    "repetition.results <- vector(\"numeric\", n.repetitions)\n",
    "for(x in 1:n.repetitions) {\n",
    "    # Generate X.A and X.B\n",
    "    X.A <- rnorm(n.samples * n.sets)\n",
    "    X.A <- matrix(X.A, nrow=n.sets, byrow=TRUE)\n",
    "    X.B <- rnorm(n.samples * n.sets)\n",
    "    X.B <- matrix(X.B, nrow=n.sets, byrow=TRUE)\n",
    "    \n",
    "    # Calculate KS statistics for all pairs of sets\n",
    "    # Generate X.A and X.B\n",
    "    X.A <- rnorm(n.samples * n.sets)\n",
    "    X.A <- matrix(X.A, nrow=n.sets, byrow=TRUE)\n",
    "    X.B <- rnorm(n.samples * n.sets)\n",
    "    X.B <- matrix(X.B, nrow=n.sets, byrow=TRUE)\n",
    "    \n",
    "    # Calculate KS statistics for all pairs of sets\n",
    "    K.A.A <- vector(\"numeric\", n.sets * (n.sets - 1))\n",
    "    K.B.B <- vector(\"numeric\", n.sets * (n.sets - 1))\n",
    "    counter <- 1\n",
    "    for(i in 1:n.sets) {\n",
    "        for(j in 1:n.sets) {\n",
    "            if(i != j) {\n",
    "                K.A.A[counter] <- as.numeric(ks.test(X.A[i,], X.A[j,])$statistic)\n",
    "                K.B.B[counter] <- as.numeric(ks.test(X.B[i,], X.B[j,])$statistic)\n",
    "                counter = counter + 1\n",
    "            }\n",
    "        }\n",
    "    }\n",
    "    \n",
    "    # Boostrap two CIs\n",
    "    boot.res <- boot(data=K.A.A, statistic=calculate.mean.for.bootstrap, R=n.resamples)\n",
    "    ci.res <- boot.ci(boot.res, type=\"bca\")\n",
    "    K.A.A.ci <- c(ci.res$bca[4], ci.res$bca[5])\n",
    "    \n",
    "    boot.res <- boot(data=K.B.B, statistic=calculate.mean.for.bootstrap, R=n.resamples)\n",
    "    ci.res <- boot.ci(boot.res, type=\"bca\")\n",
    "    K.B.B.ci <- c(ci.res$bca[4], ci.res$bca[5])\n",
    "    \n",
    "    # Check if the CIs overlap\n",
    "    repetition.results[x] <- cis.overlap(K.A.A.ci, K.B.B.ci)\n",
    "}\n",
    "\n",
    "mean(repetition.results)"
   ]
  },
  {
   "cell_type": "code",
   "execution_count": null,
   "id": "e9fc5545-6b70-4a3a-bbc4-793f206a1901",
   "metadata": {},
   "outputs": [],
   "source": []
  },
  {
   "cell_type": "code",
   "execution_count": 18,
   "id": "42d51cca-17b7-4106-b2d6-d264aeb69d05",
   "metadata": {},
   "outputs": [
    {
     "data": {
      "text/html": [
       "0.393"
      ],
      "text/latex": [
       "0.393"
      ],
      "text/markdown": [
       "0.393"
      ],
      "text/plain": [
       "[1] 0.393"
      ]
     },
     "metadata": {},
     "output_type": "display_data"
    }
   ],
   "source": [
    "# If we sample from two normal distributions with different means and variances, we get roughly the same results\n",
    "\n",
    "repetition.results <- vector(\"numeric\", n.repetitions)\n",
    "for(x in 1:n.repetitions) {\n",
    "    # Generate X.A and X.B\n",
    "    X.A <- rnorm(n.samples * n.sets)\n",
    "    X.A <- matrix(X.A, nrow=n.sets, byrow=TRUE)\n",
    "    X.B <- rnorm(n.samples * n.sets, mean=5, sd=3)\n",
    "    X.B <- matrix(X.B, nrow=n.sets, byrow=TRUE)\n",
    "    \n",
    "    # Calculate KS statistics for all pairs of sets\n",
    "    # Generate X.A and X.B\n",
    "    X.A <- rnorm(n.samples * n.sets)\n",
    "    X.A <- matrix(X.A, nrow=n.sets, byrow=TRUE)\n",
    "    X.B <- rnorm(n.samples * n.sets)\n",
    "    X.B <- matrix(X.B, nrow=n.sets, byrow=TRUE)\n",
    "    \n",
    "    # Calculate KS statistics for all pairs of sets\n",
    "    K.A.A <- vector(\"numeric\", n.sets * (n.sets - 1))\n",
    "    K.B.B <- vector(\"numeric\", n.sets * (n.sets - 1))\n",
    "    counter <- 1\n",
    "    for(i in 1:n.sets) {\n",
    "        for(j in 1:n.sets) {\n",
    "            if(i != j) {\n",
    "                K.A.A[counter] <- as.numeric(ks.test(X.A[i,], X.A[j,])$statistic)\n",
    "                K.B.B[counter] <- as.numeric(ks.test(X.B[i,], X.B[j,])$statistic)\n",
    "                counter = counter + 1\n",
    "            }\n",
    "        }\n",
    "    }\n",
    "    \n",
    "    # Boostrap two CIs\n",
    "    boot.res <- boot(data=K.A.A, statistic=calculate.mean.for.bootstrap, R=n.resamples)\n",
    "    ci.res <- boot.ci(boot.res, type=\"bca\")\n",
    "    K.A.A.ci <- c(ci.res$bca[4], ci.res$bca[5])\n",
    "    \n",
    "    boot.res <- boot(data=K.B.B, statistic=calculate.mean.for.bootstrap, R=n.resamples)\n",
    "    ci.res <- boot.ci(boot.res, type=\"bca\")\n",
    "    K.B.B.ci <- c(ci.res$bca[4], ci.res$bca[5])\n",
    "    \n",
    "    # Check if the CIs overlap\n",
    "    repetition.results[x] <- cis.overlap(K.A.A.ci, K.B.B.ci)\n",
    "}\n",
    "\n",
    "mean(repetition.results)"
   ]
  },
  {
   "cell_type": "code",
   "execution_count": null,
   "id": "9f9df34f-5460-462f-aac4-c765ea8df5cc",
   "metadata": {},
   "outputs": [],
   "source": []
  }
 ],
 "metadata": {
  "kernelspec": {
   "display_name": "R",
   "language": "R",
   "name": "ir"
  },
  "language_info": {
   "codemirror_mode": "r",
   "file_extension": ".r",
   "mimetype": "text/x-r-source",
   "name": "R",
   "pygments_lexer": "r",
   "version": "4.1.2"
  }
 },
 "nbformat": 4,
 "nbformat_minor": 5
}
