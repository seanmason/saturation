{
 "cells": [
  {
   "cell_type": "code",
   "execution_count": 1,
   "id": "dd61695f-1346-4bf8-91f7-fb45d0fb505c",
   "metadata": {},
   "outputs": [],
   "source": [
    "import numpy as np\n",
    "import matplotlib.pyplot as plt\n",
    "from sklearn.linear_model import LinearRegression\n",
    "\n",
    "from saturation.distributions import *"
   ]
  },
  {
   "cell_type": "markdown",
   "id": "7f085f34-50d8-4274-8865-ccf5d5b8c977",
   "metadata": {},
   "source": [
    "### Power Law Distribution Sampling\n",
    "\n",
    "PDF: $ p(x) = C x^b $\n",
    "\n",
    "CDF = $ \\frac{C}{b+1} x^{b + 1} $\n",
    "\n",
    "In the following, 100,000 uniform random numbers on [0, 1] are transformed to a power law distribution with a slope of -2.8. The cumulative frequency of samples X >= x is plotted on a log-log scale compared to the expectation derived from the CDF. A linear regression is also calculated on the cumulative frequency of samples in log-log scale, and the slope of the the regression is found to match that of the CDF."
   ]
  },
  {
   "cell_type": "code",
   "execution_count": 2,
   "id": "ffbe2638-bf27-4f46-a279-45b698efbf2d",
   "metadata": {},
   "outputs": [],
   "source": [
    "slope = -2.8\n",
    "pdf = PowerLawProbabilityDistribution(slope=slope, min_value=5)"
   ]
  },
  {
   "cell_type": "code",
   "execution_count": 3,
   "id": "d92f12cc-88bf-44a9-b4bf-4da4b4e135c7",
   "metadata": {},
   "outputs": [
    {
     "data": {
      "image/png": "[encoded data removed]",
      "text/plain": [
       "<Figure size 432x288 with 1 Axes>"
      ]
     },
     "metadata": {
      "needs_background": "light"
     },
     "output_type": "display_data"
    }
   ],
   "source": [
    "# Plot the CDF\n",
    "n_samples = 100000\n",
    "y = np.arange(n_samples, 0, -1)\n",
    "\n",
    "x = [pdf.uniform_to_value(x) for x in np.random.rand(n_samples)]\n",
    "x = sorted(x)\n",
    "\n",
    "plt.plot(x, y)\n",
    "\n",
    "# Plot the calculated CDF line\n",
    "line_y = [np.exp(np.log(pdf._constant/(-slope - 1)) + (slope + 1) * np.log(x)) * n_samples for x in x]\n",
    "plt.plot(x, line_y, 'b')\n",
    "\n",
    "# Regression line\n",
    "ln_x = np.reshape(np.log(x), newshape=(len(x), 1))\n",
    "ln_y = np.log(y)\n",
    "\n",
    "reg = LinearRegression().fit(ln_x, ln_y)\n",
    "line_y = [np.exp(reg.intercept_ + reg.coef_ * np.log(x)) for x in x]\n",
    "plt.plot(x, line_y, 'r')\n",
    "\n",
    "plt.xscale('log')\n",
    "plt.yscale('log')\n",
    "\n",
    "plt.show()"
   ]
  },
  {
   "cell_type": "code",
   "execution_count": 4,
   "id": "765c7b39-1aa2-4f07-9ce2-12338b1beb25",
   "metadata": {},
   "outputs": [
    {
     "data": {
      "text/plain": [
       "-1.8000961443431218"
      ]
     },
     "execution_count": 4,
     "metadata": {},
     "output_type": "execute_result"
    }
   ],
   "source": [
    "# Regression coefficient - close to the slope of the CDF = -1.8\n",
    "reg.coef_[0]"
   ]
  },
  {
   "cell_type": "code",
   "execution_count": null,
   "id": "844d38c4-8435-4aa9-968f-bfff0bc1ec35",
   "metadata": {},
   "outputs": [],
   "source": []
  }
 ],
 "metadata": {
  "kernelspec": {
   "display_name": "Python 3 (ipykernel)",
   "language": "python",
   "name": "python3"
  },
  "language_info": {
   "codemirror_mode": {
    "name": "ipython",
    "version": 3
   },
   "file_extension": ".py",
   "mimetype": "text/x-python",
   "name": "python",
   "nbconvert_exporter": "python",
   "pygments_lexer": "ipython3",
   "version": "3.10.4"
  }
 },
 "nbformat": 4,
 "nbformat_minor": 5
}
