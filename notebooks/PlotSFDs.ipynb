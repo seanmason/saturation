{
 "cells": [
  {
   "cell_type": "code",
   "execution_count": 1,
   "id": "5ce14023-493d-40fe-9a60-a773cd0400c1",
   "metadata": {},
   "outputs": [],
   "source": [
    "import pandas as pd\n",
    "import numpy as np\n",
    "from pathlib import Path\n",
    "import glob\n",
    "import yaml\n",
    "from typing import *\n",
    "import matplotlib.pyplot as plt\n",
    "\n",
    "import pyspark\n",
    "import pyspark.sql.functions as F\n",
    "from pyspark.sql import SparkSession, DataFrame, Row, Window"
   ]
  },
  {
   "cell_type": "code",
   "execution_count": 77,
   "id": "508b570c-bd62-4fb5-be74-7e9b8ad409b4",
   "metadata": {},
   "outputs": [],
   "source": [
    "base_path = \"/data/saturation/ir_random_1/1.884_0.250_4.333_3.708\"\n",
    "\n",
    "n_cores = 8"
   ]
  },
  {
   "cell_type": "code",
   "execution_count": 52,
   "id": "cab67114-53df-44ee-bddd-da12c6e4bd94",
   "metadata": {},
   "outputs": [],
   "source": [
    "spark = SparkSession.builder \\\n",
    "                    .master(f\"local[{n_cores}]\") \\\n",
    "                    .appName(\"Saturation\") \\\n",
    "                    .config(\"spark.driver.memory\", \"32g\") \\\n",
    "                    .getOrCreate()\n",
    "sc = spark.sparkContext"
   ]
  },
  {
   "cell_type": "code",
   "execution_count": null,
   "id": "df156dc8-0f31-4077-b210-cea7d7c9cf00",
   "metadata": {},
   "outputs": [],
   "source": []
  },
  {
   "cell_type": "code",
   "execution_count": 78,
   "id": "66ba1efa-e788-48fb-b912-71ac75e1fe93",
   "metadata": {},
   "outputs": [],
   "source": [
    "min_x = 500\n",
    "max_x = 4500\n",
    "min_y = 500\n",
    "max_y = 4500\n",
    "\n",
    "craters = spark.read.format(\"parquet\").load([f\"{base_path}/craters_*.parquet\"])\n",
    "craters.createOrReplaceTempView(\"all_craters\")\n",
    "\n",
    "craters = craters.where(craters.x.between(min_x, max_x)).where(craters.y.between(min_y, max_y))\n",
    "window = Window.orderBy(\"id\")\n",
    "craters = craters.withColumn(\"N\", F.row_number().over(window))\n",
    "craters.createOrReplaceTempView(\"craters_in_study_region\")\n",
    "\n",
    "removals = spark.read.parquet(f\"{base_path}/crater_removals_*.parquet\")\n",
    "removals.createOrReplaceTempView(\"removals\")"
   ]
  },
  {
   "cell_type": "code",
   "execution_count": 79,
   "id": "2b0530ef-9ecc-4767-b168-16498b49c374",
   "metadata": {},
   "outputs": [
    {
     "name": "stderr",
     "output_type": "stream",
     "text": [
      "23/09/12 21:04:14 WARN WindowExec: No Partition Defined for Window operation! Moving all data to a single partition, this can cause serious performance degradation.\n",
      "23/09/12 21:04:14 WARN WindowExec: No Partition Defined for Window operation! Moving all data to a single partition, this can cause serious performance degradation.\n",
      "23/09/12 21:04:14 WARN WindowExec: No Partition Defined for Window operation! Moving all data to a single partition, this can cause serious performance degradation.\n",
      "23/09/12 21:04:14 WARN WindowExec: No Partition Defined for Window operation! Moving all data to a single partition, this can cause serious performance degradation.\n",
      "23/09/12 21:04:15 WARN WindowExec: No Partition Defined for Window operation! Moving all data to a single partition, this can cause serious performance degradation.\n",
      "23/09/12 21:04:15 WARN WindowExec: No Partition Defined for Window operation! Moving all data to a single partition, this can cause serious performance degradation.\n",
      "23/09/12 21:04:15 WARN WindowExec: No Partition Defined for Window operation! Moving all data to a single partition, this can cause serious performance degradation.\n",
      "23/09/12 21:04:15 WARN WindowExec: No Partition Defined for Window operation! Moving all data to a single partition, this can cause serious performance degradation.\n",
      "23/09/12 21:04:16 WARN WindowExec: No Partition Defined for Window operation! Moving all data to a single partition, this can cause serious performance degradation.\n",
      "23/09/12 21:04:16 WARN WindowExec: No Partition Defined for Window operation! Moving all data to a single partition, this can cause serious performance degradation.\n",
      "23/09/12 21:04:16 WARN WindowExec: No Partition Defined for Window operation! Moving all data to a single partition, this can cause serious performance degradation.\n",
      "23/09/12 21:04:16 WARN WindowExec: No Partition Defined for Window operation! Moving all data to a single partition, this can cause serious performance degradation.\n"
     ]
    }
   ],
   "source": [
    "max_N = 100000\n",
    "\n",
    "query = f\"\"\"\n",
    "SELECT\n",
    "    c1.N,\n",
    "    c1.id,\n",
    "    c1.radius\n",
    "FROM\n",
    "    craters_in_study_region c1\n",
    "    LEFT JOIN removals r\n",
    "        ON r.removed_crater_id = c1.id\n",
    "    LEFT JOIN all_craters c2\n",
    "        ON c2.id = r.removed_by_crater_id\n",
    "WHERE\n",
    "    c1.N <= {max_N}\n",
    "    AND (c2.id IS NULL OR c2.id <= \n",
    "        (\n",
    "            SELECT\n",
    "                MAX(id)\n",
    "            FROM\n",
    "                craters_in_study_region\n",
    "            WHERE\n",
    "                N <= {max_N}\n",
    "        )\n",
    "    )\n",
    "ORDER BY\n",
    "    c1.N\n",
    "\"\"\"\n",
    "\n",
    "df = spark.sql(query).toPandas()"
   ]
  },
  {
   "cell_type": "code",
   "execution_count": 80,
   "id": "b2f7236c-5ceb-4467-953e-8f712c8c024c",
   "metadata": {},
   "outputs": [
    {
     "data": {
      "text/html": [
       "<div>\n",
       "<style scoped>\n",
       "    .dataframe tbody tr th:only-of-type {\n",
       "        vertical-align: middle;\n",
       "    }\n",
       "\n",
       "    .dataframe tbody tr th {\n",
       "        vertical-align: top;\n",
       "    }\n",
       "\n",
       "    .dataframe thead th {\n",
       "        text-align: right;\n",
       "    }\n",
       "</style>\n",
       "<table border=\"1\" class=\"dataframe\">\n",
       "  <thead>\n",
       "    <tr style=\"text-align: right;\">\n",
       "      <th></th>\n",
       "      <th>N</th>\n",
       "      <th>id</th>\n",
       "      <th>radius</th>\n",
       "    </tr>\n",
       "  </thead>\n",
       "  <tbody>\n",
       "    <tr>\n",
       "      <th>0</th>\n",
       "      <td>1</td>\n",
       "      <td>524</td>\n",
       "      <td>5.052048</td>\n",
       "    </tr>\n",
       "    <tr>\n",
       "      <th>1</th>\n",
       "      <td>2</td>\n",
       "      <td>721</td>\n",
       "      <td>5.403654</td>\n",
       "    </tr>\n",
       "    <tr>\n",
       "      <th>2</th>\n",
       "      <td>3</td>\n",
       "      <td>1604</td>\n",
       "      <td>8.696503</td>\n",
       "    </tr>\n",
       "    <tr>\n",
       "      <th>3</th>\n",
       "      <td>4</td>\n",
       "      <td>1817</td>\n",
       "      <td>5.018136</td>\n",
       "    </tr>\n",
       "    <tr>\n",
       "      <th>4</th>\n",
       "      <td>5</td>\n",
       "      <td>2433</td>\n",
       "      <td>8.135170</td>\n",
       "    </tr>\n",
       "    <tr>\n",
       "      <th>...</th>\n",
       "      <td>...</td>\n",
       "      <td>...</td>\n",
       "      <td>...</td>\n",
       "    </tr>\n",
       "    <tr>\n",
       "      <th>65155</th>\n",
       "      <td>99174</td>\n",
       "      <td>35607862</td>\n",
       "      <td>6.776742</td>\n",
       "    </tr>\n",
       "    <tr>\n",
       "      <th>65156</th>\n",
       "      <td>99256</td>\n",
       "      <td>35632552</td>\n",
       "      <td>5.047503</td>\n",
       "    </tr>\n",
       "    <tr>\n",
       "      <th>65157</th>\n",
       "      <td>99354</td>\n",
       "      <td>35667164</td>\n",
       "      <td>6.338941</td>\n",
       "    </tr>\n",
       "    <tr>\n",
       "      <th>65158</th>\n",
       "      <td>99520</td>\n",
       "      <td>35727035</td>\n",
       "      <td>5.763909</td>\n",
       "    </tr>\n",
       "    <tr>\n",
       "      <th>65159</th>\n",
       "      <td>99860</td>\n",
       "      <td>35858232</td>\n",
       "      <td>5.095642</td>\n",
       "    </tr>\n",
       "  </tbody>\n",
       "</table>\n",
       "<p>65160 rows × 3 columns</p>\n",
       "</div>"
      ],
      "text/plain": [
       "           N        id    radius\n",
       "0          1       524  5.052048\n",
       "1          2       721  5.403654\n",
       "2          3      1604  8.696503\n",
       "3          4      1817  5.018136\n",
       "4          5      2433  8.135170\n",
       "...      ...       ...       ...\n",
       "65155  99174  35607862  6.776742\n",
       "65156  99256  35632552  5.047503\n",
       "65157  99354  35667164  6.338941\n",
       "65158  99520  35727035  5.763909\n",
       "65159  99860  35858232  5.095642\n",
       "\n",
       "[65160 rows x 3 columns]"
      ]
     },
     "execution_count": 80,
     "metadata": {},
     "output_type": "execute_result"
    }
   ],
   "source": [
    "df"
   ]
  },
  {
   "cell_type": "code",
   "execution_count": null,
   "id": "629dbd77-3cb6-4d3d-a9d1-32c00b1d925c",
   "metadata": {},
   "outputs": [],
   "source": []
  },
  {
   "cell_type": "code",
   "execution_count": 88,
   "id": "e6dc883b-f282-4322-81c8-63ded07397fa",
   "metadata": {},
   "outputs": [],
   "source": [
    "def plot_sfds(data: pd.DataFrame, slope: float, times: List[int]):\n",
    "    # Track min and max radii\n",
    "    min_radius = 1e10\n",
    "    max_radius = 0\n",
    "    \n",
    "    for time in times:\n",
    "        state_at_time = data[data.N <= time]\n",
    "        radii = state_at_time.radius.sort_values()\n",
    "        \n",
    "        min_r = radii.head(1).squeeze()\n",
    "        max_r = radii.tail(1).squeeze()\n",
    "        if min_r < min_radius:\n",
    "            min_radius = min_r\n",
    "        if max_r > max_radius:\n",
    "            max_radius = max_r\n",
    "        \n",
    "        plt.plot(radii, range(len(radii) + 1, 1, -1), label=time)\n",
    "\n",
    "    # Plot geometric saturation lines\n",
    "    saturation_range = np.array(range(int(min_radius), int(max_radius)))\n",
    "    saturation_vals = np.array([4000**2 / (np.pi * x**2) for x in saturation_range])\n",
    "    plt.plot(saturation_range, saturation_vals/10, 'b--', label=\"10% Sat\")\n",
    "    plt.plot(saturation_range, saturation_vals/100, 'r--', label=\"1% Sat\")\n",
    "    \n",
    "    # Plot production lines\n",
    "    production_vals = np.array([x**-slope for x in saturation_range])\n",
    "    # plt.plot(saturation_range, production_vals * 1e5, 'g--', label=\"Prod 1e5\")\n",
    "    plt.plot(saturation_range, production_vals * 1e6, 'g--', label=\"Prod 1e6\")\n",
    "    plt.plot(saturation_range, production_vals * 1e7, 'g--', label=\"Prod 1e7\")\n",
    "    plt.plot(saturation_range, production_vals * 1e8, 'g--', label=\"Prod 1e8\")\n",
    "    \n",
    "    plt.subplots_adjust(right=0.7)\n",
    "    plt.tight_layout(rect=[0, 0, 0.75, 1])\n",
    "    \n",
    "    plt.legend(bbox_to_anchor=(1.04, 1), loc=\"upper left\")\n",
    "    plt.xscale('log')\n",
    "    plt.yscale('log')\n",
    "    plt.show()"
   ]
  },
  {
   "cell_type": "code",
   "execution_count": 96,
   "id": "ec3275b5-0aa8-4e2b-ae99-71cbff7ff59d",
   "metadata": {},
   "outputs": [
    {
     "data": {
      "image/png": "[encoded data removed]",
      "text/plain": [
       "<Figure size 640x480 with 1 Axes>"
      ]
     },
     "metadata": {},
     "output_type": "display_data"
    }
   ],
   "source": [
    "slope = 3.708\n",
    "plot_sfds(df, slope, [1000, 10000, 50000])"
   ]
  },
  {
   "cell_type": "code",
   "execution_count": 92,
   "id": "41393b9c-7735-4302-945b-7ba61ae1f7fd",
   "metadata": {},
   "outputs": [
    {
     "data": {
      "text/html": [
       "<div>\n",
       "<style scoped>\n",
       "    .dataframe tbody tr th:only-of-type {\n",
       "        vertical-align: middle;\n",
       "    }\n",
       "\n",
       "    .dataframe tbody tr th {\n",
       "        vertical-align: top;\n",
       "    }\n",
       "\n",
       "    .dataframe thead th {\n",
       "        text-align: right;\n",
       "    }\n",
       "</style>\n",
       "<table border=\"1\" class=\"dataframe\">\n",
       "  <thead>\n",
       "    <tr style=\"text-align: right;\">\n",
       "      <th></th>\n",
       "      <th>max(radius)</th>\n",
       "    </tr>\n",
       "  </thead>\n",
       "  <tbody>\n",
       "    <tr>\n",
       "      <th>0</th>\n",
       "      <td>224.045654</td>\n",
       "    </tr>\n",
       "  </tbody>\n",
       "</table>\n",
       "</div>"
      ],
      "text/plain": [
       "   max(radius)\n",
       "0   224.045654"
      ]
     },
     "execution_count": 92,
     "metadata": {},
     "output_type": "execute_result"
    }
   ],
   "source": [
    "craters.select(F.max(craters.radius)).toPandas()"
   ]
  },
  {
   "cell_type": "code",
   "execution_count": null,
   "id": "d2746874-4695-4be9-99af-0001be26f05b",
   "metadata": {},
   "outputs": [],
   "source": [
    "craters.count()"
   ]
  },
  {
   "cell_type": "code",
   "execution_count": null,
   "id": "62626243-2da2-49f4-938a-1591352d1f25",
   "metadata": {},
   "outputs": [],
   "source": []
  }
 ],
 "metadata": {
  "kernelspec": {
   "display_name": "Python 3 (ipykernel)",
   "language": "python",
   "name": "python3"
  },
  "language_info": {
   "codemirror_mode": {
    "name": "ipython",
    "version": 3
   },
   "file_extension": ".py",
   "mimetype": "text/x-python",
   "name": "python",
   "nbconvert_exporter": "python",
   "pygments_lexer": "ipython3",
   "version": "3.11.5"
  }
 },
 "nbformat": 4,
 "nbformat_minor": 5
}
