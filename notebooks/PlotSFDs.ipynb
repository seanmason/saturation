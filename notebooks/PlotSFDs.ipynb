{
 "cells": [
  {
   "cell_type": "code",
   "execution_count": 1,
   "id": "5ce14023-493d-40fe-9a60-a773cd0400c1",
   "metadata": {},
   "source": [
    "import pandas as pd\n",
    "import numpy as np\n",
    "from pathlib import Path\n",
    "import glob\n",
    "import yaml\n",
    "from typing import *\n",
    "import matplotlib.pyplot as plt\n",
    "\n",
    "import pyspark\n",
    "import pyspark.sql.functions as F\n",
    "from pyspark.sql import SparkSession, DataFrame, Row, Window"
   ],
   "outputs": []
  },
  {
   "cell_type": "code",
   "execution_count": 77,
   "id": "508b570c-bd62-4fb5-be74-7e9b8ad409b4",
   "metadata": {},
   "source": [
    "base_path = \"/data/saturation/ir_random_1/1.884_0.250_4.333_3.708\"\n",
    "\n",
    "n_cores = 8"
   ],
   "outputs": []
  },
  {
   "cell_type": "code",
   "execution_count": 52,
   "id": "cab67114-53df-44ee-bddd-da12c6e4bd94",
   "metadata": {},
   "source": [
    "spark = SparkSession.builder \\\n",
    "                    .master(f\"local[{n_cores}]\") \\\n",
    "                    .appName(\"Saturation\") \\\n",
    "                    .config(\"spark.driver.memory\", \"32g\") \\\n",
    "                    .getOrCreate()\n",
    "sc = spark.sparkContext"
   ],
   "outputs": []
  },
  {
   "cell_type": "code",
   "execution_count": null,
   "id": "df156dc8-0f31-4077-b210-cea7d7c9cf00",
   "metadata": {},
   "source": [],
   "outputs": []
  },
  {
   "cell_type": "code",
   "execution_count": 78,
   "id": "66ba1efa-e788-48fb-b912-71ac75e1fe93",
   "metadata": {},
   "source": [
    "min_x = 500\n",
    "max_x = 4500\n",
    "min_y = 500\n",
    "max_y = 4500\n",
    "\n",
    "craters = spark.read.format(\"parquet\").load([f\"{base_path}/craters_*.parquet\"])\n",
    "craters.createOrReplaceTempView(\"all_craters\")\n",
    "\n",
    "craters = craters.where(craters.x.between(min_x, max_x)).where(craters.y.between(min_y, max_y))\n",
    "window = Window.orderBy(\"id\")\n",
    "craters = craters.withColumn(\"N\", F.row_number().over(window))\n",
    "craters.createOrReplaceTempView(\"craters_in_study_region\")\n",
    "\n",
    "removals = spark.read.parquet(f\"{base_path}/crater_removals_*.parquet\")\n",
    "removals.createOrReplaceTempView(\"removals\")"
   ],
   "outputs": []
  },
  {
   "cell_type": "code",
   "execution_count": 79,
   "id": "2b0530ef-9ecc-4767-b168-16498b49c374",
   "metadata": {},
   "source": [
    "max_N = 100000\n",
    "\n",
    "query = f\"\"\"\n",
    "SELECT\n",
    "    c1.N,\n",
    "    c1.id,\n",
    "    c1.radius\n",
    "FROM\n",
    "    craters_in_study_region c1\n",
    "    LEFT JOIN removals r\n",
    "        ON r.removed_crater_id = c1.id\n",
    "    LEFT JOIN all_craters c2\n",
    "        ON c2.id = r.removed_by_crater_id\n",
    "WHERE\n",
    "    c1.N <= {max_N}\n",
    "    AND (c2.id IS NULL OR c2.id <= \n",
    "        (\n",
    "            SELECT\n",
    "                MAX(id)\n",
    "            FROM\n",
    "                craters_in_study_region\n",
    "            WHERE\n",
    "                N <= {max_N}\n",
    "        )\n",
    "    )\n",
    "ORDER BY\n",
    "    c1.N\n",
    "\"\"\"\n",
    "\n",
    "df = spark.sql(query).toPandas()"
   ],
   "outputs": []
  },
  {
   "cell_type": "code",
   "execution_count": 80,
   "id": "b2f7236c-5ceb-4467-953e-8f712c8c024c",
   "metadata": {},
   "source": [
    "df"
   ],
   "outputs": []
  },
  {
   "cell_type": "code",
   "execution_count": null,
   "id": "629dbd77-3cb6-4d3d-a9d1-32c00b1d925c",
   "metadata": {},
   "source": [],
   "outputs": []
  },
  {
   "cell_type": "code",
   "execution_count": 88,
   "id": "e6dc883b-f282-4322-81c8-63ded07397fa",
   "metadata": {},
   "source": [
    "def plot_sfds(data: pd.DataFrame, slope: float, times: List[int]):\n",
    "    # Track min and max radii\n",
    "    min_radius = 1e10\n",
    "    max_radius = 0\n",
    "    \n",
    "    for time in times:\n",
    "        state_at_time = data[data.N <= time]\n",
    "        radii = state_at_time.radius.sort_values()\n",
    "        \n",
    "        min_r = radii.head(1).squeeze()\n",
    "        max_r = radii.tail(1).squeeze()\n",
    "        if min_r < min_radius:\n",
    "            min_radius = min_r\n",
    "        if max_r > max_radius:\n",
    "            max_radius = max_r\n",
    "        \n",
    "        plt.plot(radii, range(len(radii) + 1, 1, -1), label=time)\n",
    "\n",
    "    # Plot geometric saturation lines\n",
    "    saturation_range = np.array(range(int(min_radius), int(max_radius)))\n",
    "    saturation_vals = np.array([4000**2 / (np.pi * x**2) for x in saturation_range])\n",
    "    plt.plot(saturation_range, saturation_vals/10, 'b--', label=\"10% Sat\")\n",
    "    plt.plot(saturation_range, saturation_vals/100, 'r--', label=\"1% Sat\")\n",
    "    \n",
    "    # Plot production lines\n",
    "    production_vals = np.array([x**-slope for x in saturation_range])\n",
    "    # plt.plot(saturation_range, production_vals * 1e5, 'g--', label=\"Prod 1e5\")\n",
    "    plt.plot(saturation_range, production_vals * 1e6, 'g--', label=\"Prod 1e6\")\n",
    "    plt.plot(saturation_range, production_vals * 1e7, 'g--', label=\"Prod 1e7\")\n",
    "    plt.plot(saturation_range, production_vals * 1e8, 'g--', label=\"Prod 1e8\")\n",
    "    \n",
    "    plt.subplots_adjust(right=0.7)\n",
    "    plt.tight_layout(rect=[0, 0, 0.75, 1])\n",
    "    \n",
    "    plt.legend(bbox_to_anchor=(1.04, 1), loc=\"upper left\")\n",
    "    plt.xscale('log')\n",
    "    plt.yscale('log')\n",
    "    plt.show()"
   ],
   "outputs": []
  },
  {
   "cell_type": "code",
   "execution_count": 96,
   "id": "ec3275b5-0aa8-4e2b-ae99-71cbff7ff59d",
   "metadata": {},
   "source": [
    "slope = 3.708\n",
    "plot_sfds(df, slope, [1000, 10000, 50000])"
   ],
   "outputs": []
  },
  {
   "cell_type": "code",
   "execution_count": 92,
   "id": "41393b9c-7735-4302-945b-7ba61ae1f7fd",
   "metadata": {},
   "source": [
    "craters.select(F.max(craters.radius)).toPandas()"
   ],
   "outputs": []
  },
  {
   "cell_type": "code",
   "execution_count": null,
   "id": "d2746874-4695-4be9-99af-0001be26f05b",
   "metadata": {},
   "source": [
    "craters.count()"
   ],
   "outputs": []
  },
  {
   "cell_type": "code",
   "execution_count": null,
   "id": "62626243-2da2-49f4-938a-1591352d1f25",
   "metadata": {},
   "source": [],
   "outputs": []
  }
 ],
 "metadata": {
  "kernelspec": {
   "display_name": "Python 3 (ipykernel)",
   "language": "python",
   "name": "python3"
  },
  "language_info": {
   "codemirror_mode": {
    "name": "ipython",
    "version": 3
   },
   "file_extension": ".py",
   "mimetype": "text/x-python",
   "name": "python",
   "nbconvert_exporter": "python",
   "pygments_lexer": "ipython3",
   "version": "3.11.6"
  }
 },
 "nbformat": 4,
 "nbformat_minor": 5
}
