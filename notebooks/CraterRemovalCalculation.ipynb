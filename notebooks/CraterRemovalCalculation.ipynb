{
 "cells": [
  {
   "cell_type": "markdown",
   "id": "7a1232eb-8bc0-41ed-8569-afcc779d7b58",
   "metadata": {},
   "source": [
    "### Calculation of Crater Removal\n",
    "\n",
    "Demonstration of calculating which craters to remove from the record."
   ]
  },
  {
   "cell_type": "code",
   "execution_count": 1,
   "id": "ff7b0bba-30c1-451a-b118-e334ec9e239c",
   "metadata": {},
   "source": [
    "import numpy as np\n",
    "\n",
    "from saturation.simulation import *\n",
    "from saturation.distributions import *\n",
    "from saturation.geometry import *\n",
    "from saturation.plotting import *"
   ],
   "outputs": []
  },
  {
   "cell_type": "code",
   "execution_count": 2,
   "id": "1003dee1-075f-4ff5-9f81-73524c5e977f",
   "metadata": {},
   "source": [
    "scale = 35\n",
    "crater_data = [\n",
    "    [1, 10, 10, 10],\n",
    "    [2, 20, 10, 10],\n",
    "    [3, 10, 20, 10],\n",
    "]\n",
    "craters = pd.DataFrame(crater_data, columns=['id', 'x', 'y', 'radius']).set_index(['id'])"
   ],
   "outputs": []
  },
  {
   "cell_type": "code",
   "execution_count": 3,
   "id": "140d6186-89a9-4f8e-a365-824d58aaf799",
   "metadata": {},
   "source": [
    "erased_rim_arcs = get_erased_rim_arcs(craters, 1, 1)\n",
    "plot_up_to_crater(3, craters, erased_rim_arcs, scale)"
   ],
   "outputs": []
  },
  {
   "cell_type": "code",
   "execution_count": 4,
   "id": "0c770902-0631-4c65-a6ee-4b6d3008bc00",
   "metadata": {},
   "source": [
    "erased_rim_arcs"
   ],
   "outputs": []
  },
  {
   "cell_type": "code",
   "execution_count": 5,
   "id": "0c8be224-4bcd-4d30-8417-434085d34e42",
   "metadata": {},
   "source": [
    "arcs_for_id_1 = [(x.theta1, x.theta2) for x in list(erased_rim_arcs.groupby(['old_id']))[0][1].itertuples()]\n",
    "calculate_rim_percentage_remaining(arcs_for_id_1)"
   ],
   "outputs": []
  }
 ],
 "metadata": {
  "kernelspec": {
   "display_name": "Python 3 (ipykernel)",
   "language": "python",
   "name": "python3"
  },
  "language_info": {
   "codemirror_mode": {
    "name": "ipython",
    "version": 3
   },
   "file_extension": ".py",
   "mimetype": "text/x-python",
   "name": "python",
   "nbconvert_exporter": "python",
   "pygments_lexer": "ipython3",
   "version": "3.10.6"
  }
 },
 "nbformat": 4,
 "nbformat_minor": 5
}
