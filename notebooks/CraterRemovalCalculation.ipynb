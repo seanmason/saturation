{
 "cells": [
  {
   "cell_type": "markdown",
   "id": "7a1232eb-8bc0-41ed-8569-afcc779d7b58",
   "metadata": {},
   "source": [
    "### Calculation of Crater Removal\n",
    "\n",
    "Demonstration of calculating which craters to remove from the record."
   ]
  },
  {
   "cell_type": "code",
   "execution_count": 1,
   "id": "ff7b0bba-30c1-451a-b118-e334ec9e239c",
   "metadata": {},
   "outputs": [],
   "source": [
    "import numpy as np\n",
    "\n",
    "from saturation.simulation import *\n",
    "from saturation.distributions import *\n",
    "from saturation.geometry import *\n",
    "from saturation.plotting import *"
   ]
  },
  {
   "cell_type": "code",
   "execution_count": 2,
   "id": "1003dee1-075f-4ff5-9f81-73524c5e977f",
   "metadata": {},
   "outputs": [],
   "source": [
    "scale = 35\n",
    "crater_data = [\n",
    "    [1, 10, 10, 10],\n",
    "    [2, 20, 10, 10],\n",
    "    [3, 10, 20, 10],\n",
    "]\n",
    "craters = pd.DataFrame(crater_data, columns=['id', 'x', 'y', 'radius']).set_index(['id'])"
   ]
  },
  {
   "cell_type": "code",
   "execution_count": 3,
   "id": "140d6186-89a9-4f8e-a365-824d58aaf799",
   "metadata": {},
   "outputs": [
    {
     "data": {
      "image/png": "[encoded data removed]",
      "text/plain": [
       "<Figure size 288x288 with 1 Axes>"
      ]
     },
     "metadata": {
      "needs_background": "light"
     },
     "output_type": "display_data"
    }
   ],
   "source": [
    "erased_rim_arcs = get_erased_rim_arcs(craters, 1)\n",
    "plot_up_to_crater(3, craters, erased_rim_arcs, scale)"
   ]
  },
  {
   "cell_type": "code",
   "execution_count": 4,
   "id": "0c770902-0631-4c65-a6ee-4b6d3008bc00",
   "metadata": {},
   "outputs": [
    {
     "data": {
      "text/html": [
       "<div>\n",
       "<style scoped>\n",
       "    .dataframe tbody tr th:only-of-type {\n",
       "        vertical-align: middle;\n",
       "    }\n",
       "\n",
       "    .dataframe tbody tr th {\n",
       "        vertical-align: top;\n",
       "    }\n",
       "\n",
       "    .dataframe thead th {\n",
       "        text-align: right;\n",
       "    }\n",
       "</style>\n",
       "<table border=\"1\" class=\"dataframe\">\n",
       "  <thead>\n",
       "    <tr style=\"text-align: right;\">\n",
       "      <th></th>\n",
       "      <th>new_id</th>\n",
       "      <th>old_id</th>\n",
       "      <th>theta1</th>\n",
       "      <th>theta2</th>\n",
       "    </tr>\n",
       "  </thead>\n",
       "  <tbody>\n",
       "    <tr>\n",
       "      <th>0</th>\n",
       "      <td>2</td>\n",
       "      <td>1</td>\n",
       "      <td>5.235988</td>\n",
       "      <td>1.047198</td>\n",
       "    </tr>\n",
       "    <tr>\n",
       "      <th>1</th>\n",
       "      <td>3</td>\n",
       "      <td>1</td>\n",
       "      <td>0.523599</td>\n",
       "      <td>2.617994</td>\n",
       "    </tr>\n",
       "    <tr>\n",
       "      <th>2</th>\n",
       "      <td>3</td>\n",
       "      <td>2</td>\n",
       "      <td>1.570796</td>\n",
       "      <td>3.141593</td>\n",
       "    </tr>\n",
       "  </tbody>\n",
       "</table>\n",
       "</div>"
      ],
      "text/plain": [
       "   new_id  old_id    theta1    theta2\n",
       "0       2       1  5.235988  1.047198\n",
       "1       3       1  0.523599  2.617994\n",
       "2       3       2  1.570796  3.141593"
      ]
     },
     "execution_count": 4,
     "metadata": {},
     "output_type": "execute_result"
    }
   ],
   "source": [
    "erased_rim_arcs"
   ]
  },
  {
   "cell_type": "code",
   "execution_count": 5,
   "id": "0c8be224-4bcd-4d30-8417-434085d34e42",
   "metadata": {},
   "outputs": [
    {
     "data": {
      "text/plain": [
       "0.41666666666666674"
      ]
     },
     "execution_count": 5,
     "metadata": {},
     "output_type": "execute_result"
    }
   ],
   "source": [
    "arcs_for_id_1 = [(x.theta1, x.theta2) for x in list(erased_rim_arcs.groupby(['old_id']))[0][1].itertuples()]\n",
    "calculate_rim_percentage_remaining(arcs_for_id_1)"
   ]
  },
  {
   "cell_type": "code",
   "execution_count": 6,
   "id": "5c7a8828-85a9-45a6-9b67-5a59665c5067",
   "metadata": {},
   "outputs": [
    {
     "data": {
      "text/plain": [
       "{1}"
      ]
     },
     "execution_count": 6,
     "metadata": {},
     "output_type": "execute_result"
    }
   ],
   "source": [
    "# We will remove crater 1 from the record\n",
    "get_craters_to_remove(erased_rim_arcs, 0.5)"
   ]
  }
 ],
 "metadata": {
  "kernelspec": {
   "display_name": "Python 3 (ipykernel)",
   "language": "python",
   "name": "python3"
  },
  "language_info": {
   "codemirror_mode": {
    "name": "ipython",
    "version": 3
   },
   "file_extension": ".py",
   "mimetype": "text/x-python",
   "name": "python",
   "nbconvert_exporter": "python",
   "pygments_lexer": "ipython3",
   "version": "3.10.4"
  }
 },
 "nbformat": 4,
 "nbformat_minor": 5
}
