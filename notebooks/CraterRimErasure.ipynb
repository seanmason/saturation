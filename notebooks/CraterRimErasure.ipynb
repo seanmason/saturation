{
 "cells": [
  {
   "cell_type": "markdown",
   "id": "7dab4188-26fa-4100-a0dd-fde22491184f",
   "metadata": {},
   "source": [
    "### Crater Rim Erasure\n",
    "\n",
    "This notebook visualizes crater rim erasure as a result of new crater formation. A simulation is run and craters are plotted with erased crater segments shown in blue."
   ]
  },
  {
   "cell_type": "code",
   "execution_count": 1,
   "id": "033e4fe4-80f3-454f-8453-c104ed350766",
   "metadata": {},
   "outputs": [],
   "source": [
    "import numpy as np\n",
    "import matplotlib\n",
    "import matplotlib.pyplot as plt\n",
    "import itertools\n",
    "\n",
    "from typing import Dict\n",
    "\n",
    "from saturation.simulation import *\n",
    "from saturation.distributions import *\n",
    "from saturation.geometry import *\n",
    "from saturation.plotting import *\n",
    "from saturation.crater_record import *"
   ]
  },
  {
   "cell_type": "markdown",
   "id": "e2942dae-505e-4cfb-a28e-5cac4e529eaf",
   "metadata": {},
   "source": [
    "These first three plots show an effective radius multiplier of 1 after 100, 200, and 300 craters."
   ]
  },
  {
   "cell_type": "code",
   "execution_count": 2,
   "id": "6943629c-0859-4153-886a-5353aa406794",
   "metadata": {},
   "outputs": [],
   "source": [
    "x_min = 12\n",
    "x_max = 250\n",
    "r_stat = 1 * x_min\n",
    "min_rim_percentage = 0.5\n",
    "cdf_slope = 1.5\n",
    "observed_terrain_size = 1000\n",
    "terrain_padding = 125\n",
    "full_terrain_size = observed_terrain_size + 2 * terrain_padding\n",
    "n_craters = 150\n",
    "effective_radius_multiplier = 1\n",
    "\n",
    "np.random.seed(123)\n",
    "distribution = ParetoProbabilityDistribution(cdf_slope=cdf_slope, x_min=x_min, x_max=x_max)\n",
    "craters = list(itertools.islice(get_craters(distribution, full_terrain_size), n_craters))"
   ]
  },
  {
   "cell_type": "code",
   "execution_count": null,
   "id": "fdce3d79-8f13-4192-99e4-f497a6a36d1e",
   "metadata": {},
   "outputs": [],
   "source": [
    "crater_record = CraterRecord(r_stat, min_rim_percentage, effective_radius_multiplier, observed_terrain_size, terrain_padding)\n",
    "\n",
    "for crater in craters[:50]:\n",
    "    crater_record.add(crater)\n",
    "plot_crater_record(crater_record, observed_terrain_size, terrain_padding, figsize=6)\n",
    "\n",
    "for crater in craters[50:100]:\n",
    "    crater_record.add(crater)\n",
    "plot_crater_record(crater_record, observed_terrain_size, terrain_padding, figsize=6)\n",
    "\n",
    "for crater in craters[100:]:\n",
    "    crater_record.add(crater)\n",
    "plot_crater_record(crater_record, observed_terrain_size, terrain_padding, figsize=6)"
   ]
  },
  {
   "cell_type": "markdown",
   "id": "031f55fd-5c3f-4cc0-b492-ea2ed16df9ba",
   "metadata": {},
   "source": [
    "These plots show an effective radius multiplier of 1.5"
   ]
  },
  {
   "cell_type": "code",
   "execution_count": null,
   "id": "c0447557-fa8b-4d15-9215-cdc52d497c83",
   "metadata": {},
   "outputs": [],
   "source": [
    "crater_record = CraterRecord(r_stat, min_rim_percentage, 1.5, observed_terrain_size, terrain_padding)\n",
    "\n",
    "for crater in craters[:50]:\n",
    "    crater_record.add(crater)\n",
    "plot_crater_record(crater_record, observed_terrain_size, terrain_padding, figsize=6)\n",
    "\n",
    "for crater in craters[50:100]:\n",
    "    crater_record.add(crater)\n",
    "plot_crater_record(crater_record, observed_terrain_size, terrain_padding, figsize=6)\n",
    "\n",
    "for crater in craters[100:]:\n",
    "    crater_record.add(crater)\n",
    "plot_crater_record(crater_record, observed_terrain_size, terrain_padding, figsize=6)"
   ]
  },
  {
   "cell_type": "code",
   "execution_count": null,
   "id": "75e13de2-2f73-45de-9da2-6224db64faee",
   "metadata": {},
   "outputs": [],
   "source": []
  },
  {
   "cell_type": "markdown",
   "id": "865b9cff-f508-4f68-b36b-68934371349c",
   "metadata": {},
   "source": [
    "### Examining Arcs"
   ]
  },
  {
   "cell_type": "code",
   "execution_count": null,
   "id": "f2ecad77-2e10-4e14-a52e-41df4cdefebc",
   "metadata": {},
   "outputs": [],
   "source": [
    "r_stat = 1\n",
    "min_rim_percentage = 0.5\n",
    "observed_terrain_size = 1000\n",
    "terrain_padding = 0\n",
    "full_terrain_size = observed_terrain_size + 2 * terrain_padding\n",
    "effective_radius_multiplier = 1\n",
    "\n",
    "craters = [\n",
    "    Crater(id=1, x=500, y=500, radius=300),\n",
    "    Crater(id=2, x=850, y=550, radius=150),\n",
    "    Crater(id=3, x=250, y=450, radius=150),\n",
    "    Crater(id=4, x=280, y=450, radius=100),\n",
    "    Crater(id=5, x=500, y=800, radius=100),\n",
    "    Crater(id=6, x=500, y=300, radius=250),\n",
    "]\n",
    "crater_record = CraterRecord(r_stat, min_rim_percentage, effective_radius_multiplier, observed_terrain_size, terrain_padding)"
   ]
  },
  {
   "cell_type": "code",
   "execution_count": null,
   "id": "d7422d52-efe3-44d0-8fe9-5dd313007221",
   "metadata": {},
   "outputs": [],
   "source": [
    "for crater in craters:\n",
    "    crater_record.add(crater)\n",
    "plot_crater_record(crater_record, observed_terrain_size, terrain_padding, figsize=6)"
   ]
  },
  {
   "cell_type": "code",
   "execution_count": null,
   "id": "04c28a23-8484-40e5-bb7d-f1b4e4b79dd6",
   "metadata": {},
   "outputs": [],
   "source": [
    "# Arc remaining\n",
    "1 - sum(x[1] - x[0] for x in crater_record._erased_arcs[1]) / (2 * np.pi)"
   ]
  },
  {
   "cell_type": "code",
   "execution_count": null,
   "id": "dca4dc37-f4fa-40c8-9ae3-8489353bb5f2",
   "metadata": {},
   "outputs": [],
   "source": []
  },
  {
   "cell_type": "code",
   "execution_count": null,
   "id": "5e49e8e9-f43d-4e2f-a13d-47ae142c5a0b",
   "metadata": {},
   "outputs": [],
   "source": [
    "# Compare with plot exported to an image\n",
    "fig, ax = plt.subplots(figsize=(1, 1), dpi=observed_terrain_size)\n",
    "fig.tight_layout()\n",
    "plt.tight_layout()\n",
    "\n",
    "ax.set_frame_on(False)\n",
    "ax.axis('off')\n",
    "ax.set_xlim([terrain_padding, observed_terrain_size + terrain_padding])\n",
    "ax.set_ylim([terrain_padding, observed_terrain_size + terrain_padding])\n",
    "\n",
    "plt.subplots_adjust(left=0.0,\n",
    "                    bottom=0.0, \n",
    "                    right=1, \n",
    "                    top=1, \n",
    "                    wspace=0.0, \n",
    "                    hspace=0.0)\n",
    "\n",
    "# Plot craters\n",
    "first = craters[0]\n",
    "plot_circle((first.x, first.y), first.radius, ax, fill=False, color='black', antialiased=False, lw=1/observed_terrain_size*72)\n",
    "   \n",
    "img = convert_plot_to_array(fig, show_plot=True)\n",
    "before = img.sum()\n",
    "\n",
    "# After\n",
    "for crater in craters[1:]:\n",
    "    plot_circle((crater.x, crater.y), crater.radius, ax, fill=True, color='white', antialiased=False, lw=0)\n",
    "    \n",
    "img = convert_plot_to_array(fig, show_plot=True)\n",
    "after = img.sum()\n",
    "\n",
    "after/before"
   ]
  },
  {
   "cell_type": "code",
   "execution_count": null,
   "id": "4439e716-467c-442d-be11-7d9cdde088d4",
   "metadata": {},
   "outputs": [],
   "source": []
  },
  {
   "cell_type": "code",
   "execution_count": null,
   "id": "c6d2f187-6a7d-4cda-9b49-a781453169dd",
   "metadata": {},
   "outputs": [],
   "source": []
  },
  {
   "cell_type": "code",
   "execution_count": 3,
   "id": "bb8d28d9-a47b-4d94-9ae9-529338a0c4e8",
   "metadata": {},
   "outputs": [],
   "source": [
    "craters = list(itertools.islice(get_craters(distribution, full_terrain_size), 1500))"
   ]
  },
  {
   "cell_type": "code",
   "execution_count": 17,
   "id": "7444db5f-10db-4b3b-b809-9aa02bccd3fe",
   "metadata": {},
   "outputs": [],
   "source": [
    "new_crater = Crater(id=2000, x=500, y=500, radius=50)\n",
    "effective_radius = new_crater.radius * effective_radius_multiplier"
   ]
  },
  {
   "cell_type": "code",
   "execution_count": 24,
   "id": "3e785e8d-041b-4d36-a817-e3a002288d67",
   "metadata": {},
   "outputs": [
    {
     "name": "stdout",
     "output_type": "stream",
     "text": [
      "3.48 s ± 169 ms per loop (mean ± std. dev. of 7 runs, 1 loop each)\n"
     ]
    }
   ],
   "source": [
    "%%timeit\n",
    "\n",
    "for x in range(1000):\n",
    "    craters_in_range = [\n",
    "        old_crater.id\n",
    "        for old_crater in craters\n",
    "        if old_crater.radius - effective_radius < np.sqrt((old_crater.x - new_crater.x) ** 2 + (old_crater.y - new_crater.y) ** 2) < old_crater.radius + effective_radius\n",
    "    ]"
   ]
  },
  {
   "cell_type": "code",
   "execution_count": null,
   "id": "706af1b6-e7c3-497b-9cd5-a5e6ed79235a",
   "metadata": {},
   "outputs": [],
   "source": []
  },
  {
   "cell_type": "code",
   "execution_count": 43,
   "id": "608d35cc-7f51-46d6-8fcd-80bb8ba08255",
   "metadata": {},
   "outputs": [],
   "source": [
    "# As dataframe\n",
    "data = pd.DataFrame(craters).set_index(['id'])"
   ]
  },
  {
   "cell_type": "code",
   "execution_count": 41,
   "id": "e322ab8b-44d9-4210-b761-af407f4ffb43",
   "metadata": {},
   "outputs": [
    {
     "name": "stdout",
     "output_type": "stream",
     "text": [
      "569 ms ± 14.9 ms per loop (mean ± std. dev. of 7 runs, 1 loop each)\n"
     ]
    }
   ],
   "source": [
    "%%timeit\n",
    "for x in range(1000):\n",
    "    distances = np.sqrt((data.x - new_crater.x) ** 2 + (data.y - new_crater.y) ** 2)\n",
    "    result = data[(distances < data.radius + effective_radius) & (distances > data.radius - effective_radius)]"
   ]
  },
  {
   "cell_type": "code",
   "execution_count": 45,
   "id": "2ed9c6f3-7e59-4a95-8ba5-67ecfd9a2e52",
   "metadata": {},
   "outputs": [
    {
     "data": {
      "text/plain": [
       "Int64Index([48, 134, 192, 227, 719, 921, 1044, 1137, 1190, 1328, 1357, 1379,\n",
       "            1454],\n",
       "           dtype='int64', name='id')"
      ]
     },
     "execution_count": 45,
     "metadata": {},
     "output_type": "execute_result"
    }
   ],
   "source": [
    "distances = np.sqrt((data.x - new_crater.x) ** 2 + (data.y - new_crater.y) ** 2)\n",
    "data.index[(distances < data.radius + effective_radius) & (distances > data.radius - effective_radius)]"
   ]
  },
  {
   "cell_type": "code",
   "execution_count": 38,
   "id": "487367a2-1e54-440b-b528-7848658dcbfb",
   "metadata": {},
   "outputs": [
    {
     "data": {
      "text/html": [
       "<div>\n",
       "<style scoped>\n",
       "    .dataframe tbody tr th:only-of-type {\n",
       "        vertical-align: middle;\n",
       "    }\n",
       "\n",
       "    .dataframe tbody tr th {\n",
       "        vertical-align: top;\n",
       "    }\n",
       "\n",
       "    .dataframe thead th {\n",
       "        text-align: right;\n",
       "    }\n",
       "</style>\n",
       "<table border=\"1\" class=\"dataframe\">\n",
       "  <thead>\n",
       "    <tr style=\"text-align: right;\">\n",
       "      <th></th>\n",
       "      <th>x</th>\n",
       "      <th>y</th>\n",
       "      <th>radius</th>\n",
       "    </tr>\n",
       "    <tr>\n",
       "      <th>id</th>\n",
       "      <th></th>\n",
       "      <th></th>\n",
       "      <th></th>\n",
       "    </tr>\n",
       "  </thead>\n",
       "  <tbody>\n",
       "    <tr>\n",
       "      <th>1</th>\n",
       "      <td>116.783836</td>\n",
       "      <td>1046.832636</td>\n",
       "      <td>16.981127</td>\n",
       "    </tr>\n",
       "    <tr>\n",
       "      <th>2</th>\n",
       "      <td>827.145675</td>\n",
       "      <td>1179.000698</td>\n",
       "      <td>14.441522</td>\n",
       "    </tr>\n",
       "    <tr>\n",
       "      <th>3</th>\n",
       "      <td>16.449789</td>\n",
       "      <td>30.185507</td>\n",
       "      <td>26.892517</td>\n",
       "    </tr>\n",
       "    <tr>\n",
       "      <th>4</th>\n",
       "      <td>1155.689856</td>\n",
       "      <td>584.162841</td>\n",
       "      <td>16.348949</td>\n",
       "    </tr>\n",
       "    <tr>\n",
       "      <th>5</th>\n",
       "      <td>678.575531</td>\n",
       "      <td>1073.646047</td>\n",
       "      <td>23.948054</td>\n",
       "    </tr>\n",
       "    <tr>\n",
       "      <th>...</th>\n",
       "      <td>...</td>\n",
       "      <td>...</td>\n",
       "      <td>...</td>\n",
       "    </tr>\n",
       "    <tr>\n",
       "      <th>1497</th>\n",
       "      <td>1063.357980</td>\n",
       "      <td>922.748960</td>\n",
       "      <td>17.574876</td>\n",
       "    </tr>\n",
       "    <tr>\n",
       "      <th>1498</th>\n",
       "      <td>971.011412</td>\n",
       "      <td>187.231537</td>\n",
       "      <td>14.010172</td>\n",
       "    </tr>\n",
       "    <tr>\n",
       "      <th>1499</th>\n",
       "      <td>736.100687</td>\n",
       "      <td>130.497189</td>\n",
       "      <td>24.775013</td>\n",
       "    </tr>\n",
       "    <tr>\n",
       "      <th>1500</th>\n",
       "      <td>400.794605</td>\n",
       "      <td>1118.521889</td>\n",
       "      <td>22.955946</td>\n",
       "    </tr>\n",
       "    <tr>\n",
       "      <th>2000</th>\n",
       "      <td>500.000000</td>\n",
       "      <td>500.000000</td>\n",
       "      <td>50.000000</td>\n",
       "    </tr>\n",
       "  </tbody>\n",
       "</table>\n",
       "<p>1501 rows × 3 columns</p>\n",
       "</div>"
      ],
      "text/plain": [
       "                x            y     radius\n",
       "id                                       \n",
       "1      116.783836  1046.832636  16.981127\n",
       "2      827.145675  1179.000698  14.441522\n",
       "3       16.449789    30.185507  26.892517\n",
       "4     1155.689856   584.162841  16.348949\n",
       "5      678.575531  1073.646047  23.948054\n",
       "...           ...          ...        ...\n",
       "1497  1063.357980   922.748960  17.574876\n",
       "1498   971.011412   187.231537  14.010172\n",
       "1499   736.100687   130.497189  24.775013\n",
       "1500   400.794605  1118.521889  22.955946\n",
       "2000   500.000000   500.000000  50.000000\n",
       "\n",
       "[1501 rows x 3 columns]"
      ]
     },
     "execution_count": 38,
     "metadata": {},
     "output_type": "execute_result"
    }
   ],
   "source": [
    "pd.concat([data, pd.DataFrame([new_crater]).set_index(['id'])], axis=0)"
   ]
  },
  {
   "cell_type": "code",
   "execution_count": 39,
   "id": "774a374d-efad-400d-9f31-bd041d0a031e",
   "metadata": {},
   "outputs": [
    {
     "data": {
      "text/html": [
       "<div>\n",
       "<style scoped>\n",
       "    .dataframe tbody tr th:only-of-type {\n",
       "        vertical-align: middle;\n",
       "    }\n",
       "\n",
       "    .dataframe tbody tr th {\n",
       "        vertical-align: top;\n",
       "    }\n",
       "\n",
       "    .dataframe thead th {\n",
       "        text-align: right;\n",
       "    }\n",
       "</style>\n",
       "<table border=\"1\" class=\"dataframe\">\n",
       "  <thead>\n",
       "    <tr style=\"text-align: right;\">\n",
       "      <th></th>\n",
       "      <th>x</th>\n",
       "      <th>y</th>\n",
       "      <th>radius</th>\n",
       "    </tr>\n",
       "    <tr>\n",
       "      <th>id</th>\n",
       "      <th></th>\n",
       "      <th></th>\n",
       "      <th></th>\n",
       "    </tr>\n",
       "  </thead>\n",
       "  <tbody>\n",
       "    <tr>\n",
       "      <th>2</th>\n",
       "      <td>827.145675</td>\n",
       "      <td>1179.000698</td>\n",
       "      <td>14.441522</td>\n",
       "    </tr>\n",
       "    <tr>\n",
       "      <th>3</th>\n",
       "      <td>16.449789</td>\n",
       "      <td>30.185507</td>\n",
       "      <td>26.892517</td>\n",
       "    </tr>\n",
       "    <tr>\n",
       "      <th>4</th>\n",
       "      <td>1155.689856</td>\n",
       "      <td>584.162841</td>\n",
       "      <td>16.348949</td>\n",
       "    </tr>\n",
       "    <tr>\n",
       "      <th>5</th>\n",
       "      <td>678.575531</td>\n",
       "      <td>1073.646047</td>\n",
       "      <td>23.948054</td>\n",
       "    </tr>\n",
       "    <tr>\n",
       "      <th>6</th>\n",
       "      <td>291.224871</td>\n",
       "      <td>968.225256</td>\n",
       "      <td>13.199818</td>\n",
       "    </tr>\n",
       "    <tr>\n",
       "      <th>...</th>\n",
       "      <td>...</td>\n",
       "      <td>...</td>\n",
       "      <td>...</td>\n",
       "    </tr>\n",
       "    <tr>\n",
       "      <th>1496</th>\n",
       "      <td>425.014892</td>\n",
       "      <td>201.274101</td>\n",
       "      <td>13.593734</td>\n",
       "    </tr>\n",
       "    <tr>\n",
       "      <th>1497</th>\n",
       "      <td>1063.357980</td>\n",
       "      <td>922.748960</td>\n",
       "      <td>17.574876</td>\n",
       "    </tr>\n",
       "    <tr>\n",
       "      <th>1498</th>\n",
       "      <td>971.011412</td>\n",
       "      <td>187.231537</td>\n",
       "      <td>14.010172</td>\n",
       "    </tr>\n",
       "    <tr>\n",
       "      <th>1499</th>\n",
       "      <td>736.100687</td>\n",
       "      <td>130.497189</td>\n",
       "      <td>24.775013</td>\n",
       "    </tr>\n",
       "    <tr>\n",
       "      <th>1500</th>\n",
       "      <td>400.794605</td>\n",
       "      <td>1118.521889</td>\n",
       "      <td>22.955946</td>\n",
       "    </tr>\n",
       "  </tbody>\n",
       "</table>\n",
       "<p>1499 rows × 3 columns</p>\n",
       "</div>"
      ],
      "text/plain": [
       "                x            y     radius\n",
       "id                                       \n",
       "2      827.145675  1179.000698  14.441522\n",
       "3       16.449789    30.185507  26.892517\n",
       "4     1155.689856   584.162841  16.348949\n",
       "5      678.575531  1073.646047  23.948054\n",
       "6      291.224871   968.225256  13.199818\n",
       "...           ...          ...        ...\n",
       "1496   425.014892   201.274101  13.593734\n",
       "1497  1063.357980   922.748960  17.574876\n",
       "1498   971.011412   187.231537  14.010172\n",
       "1499   736.100687   130.497189  24.775013\n",
       "1500   400.794605  1118.521889  22.955946\n",
       "\n",
       "[1499 rows x 3 columns]"
      ]
     },
     "execution_count": 39,
     "metadata": {},
     "output_type": "execute_result"
    }
   ],
   "source": [
    "data.drop([1], axis=0)"
   ]
  },
  {
   "cell_type": "code",
   "execution_count": null,
   "id": "649927ee-9fb2-41f7-bfe0-7a5902513060",
   "metadata": {},
   "outputs": [],
   "source": []
  }
 ],
 "metadata": {
  "kernelspec": {
   "display_name": "Python 3 (ipykernel)",
   "language": "python",
   "name": "python3"
  },
  "language_info": {
   "codemirror_mode": {
    "name": "ipython",
    "version": 3
   },
   "file_extension": ".py",
   "mimetype": "text/x-python",
   "name": "python",
   "nbconvert_exporter": "python",
   "pygments_lexer": "ipython3",
   "version": "3.10.4"
  }
 },
 "nbformat": 4,
 "nbformat_minor": 5
}
