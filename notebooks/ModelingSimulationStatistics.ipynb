{
 "cells": [
  {
   "cell_type": "code",
   "execution_count": 1,
   "id": "55e0efce-6a46-44c6-8945-804d72b55b6c",
   "metadata": {},
   "outputs": [],
   "source": [
    "import matplotlib.pyplot as plt\n",
    "import plotly.express as px\n",
    "import plotly.io as pio\n",
    "\n",
    "from pathlib import Path\n",
    "import pandas as pd\n",
    "\n",
    "import statsmodels.api as sm\n",
    "import scipy.stats as stats\n",
    "\n",
    "import sklearn\n",
    "from sklearn.linear_model import LinearRegression\n",
    "from sklearn.ensemble import RandomForestRegressor\n",
    "from sklearn.ensemble import GradientBoostingRegressor\n",
    "\n",
    "from sklearn.model_selection import train_test_split\n",
    "from sklearn.metrics import *"
   ]
  },
  {
   "cell_type": "code",
   "execution_count": 2,
   "id": "d493bc87-832f-4806-92ca-e275f0dcf95e",
   "metadata": {},
   "outputs": [],
   "source": [
    "pio.renderers.default = \"iframe\""
   ]
  },
  {
   "cell_type": "code",
   "execution_count": 3,
   "id": "5c53298e-9414-4908-9ccc-c21ca98a8bf5",
   "metadata": {},
   "outputs": [],
   "source": [
    "# base_path = \"/data/saturation/random_runs_large_bungled\"\n",
    "# base_path = \"/data/saturation/random_runs_large\"\n",
    "# base_path = \"/data/saturation/r_stat_changes_messy\"\n",
    "# base_path = \"/data/saturation/r_stat_changes\"\n",
    "# base_path = \"/data/saturation/r_stat_changes_smaller_min\"\n",
    "# base_path = \"/data/saturation/central_composite_design/ccd3\"\n",
    "base_path = \"/data/saturation/central_composite_design/ccd5\"\n",
    "ivs = [\"slope\", \"effective_radius_multiplier\", \"r_stat_multiplier\", \"min_rim_percentage\"]"
   ]
  },
  {
   "cell_type": "code",
   "execution_count": null,
   "id": "49f00a09-629a-4aac-84bc-047277229ada",
   "metadata": {},
   "outputs": [],
   "source": [
    "stats_df = pd.read_csv(f\"{base_path}/post_saturation_statistics_corners.csv\")\n",
    "# stats_df = pd.read_csv(f\"{base_path}/post_saturation_statistics_interior.csv\")\n",
    "stats_df.head()"
   ]
  },
  {
   "cell_type": "code",
   "execution_count": null,
   "id": "36fc375e-4d56-4bd9-936a-b4c097b91460",
   "metadata": {},
   "outputs": [],
   "source": [
    "plt.scatter(stats_df.n_craters_at_completion, stats_df.run_duration_seconds)"
   ]
  },
  {
   "cell_type": "markdown",
   "id": "783be127-0de8-4ea1-9bd0-d96155198226",
   "metadata": {},
   "source": [
    "### Visualizing 99th percentile post-saturation areal density"
   ]
  },
  {
   "cell_type": "markdown",
   "id": "e5da1b1b-d6dc-48c4-852d-ec2e07b9a5a7",
   "metadata": {},
   "source": [
    "Notes on simulation parameters:\n",
    "- Slope:\n",
    "    - Controls the SFD of new craters. Larger slope -> more smaller craters\n",
    "- R_stat multiplier:\n",
    "    - Affects the minimum crater size for statistics collection: R_stat = R_stat multiplier * R_min\n",
    "    - Range ~ 3-9\n",
    "    - Affects how large a new crater must be to affect an existing crater. R_existing / R_new < R_stat multiplier\n",
    "        - Larger R_stat multiplier -> more crater destruction\n",
    "- Min rim percentage:\n",
    "    - Controls how much of a crater's rim must be intact to remain in the record.\n",
    "    - Larger min rim percentage -> more crater destruction\n",
    "- Effective radius mutiplier:\n",
    "    - Represents the effect of ejecta\n",
    "    - Multiplies the radius of a new crater for the purposes of destroying existing craters' rims\n",
    "    - Larger effective radius multiplier -> more crater destruction\n",
    "    \n",
    "Generally - the more crater destruction, the lower the areal density at saturation.\n",
    "\n",
    "\n",
    "\n",
    "Questions for Dr. Kirchoff:\n",
    "- Is it reasonable to fix the minimum crater size for statistics (R_stat), and allow R_min to vary instead?\n",
    "- What are reasonable ranges for these four parameters?\n",
    "- May we assume researchers can specify a reasonable range for all four of these parameters for a given terrain?\n",
    "\n",
    "\n",
    "\n",
    "To do:\n",
    "- Review Squyres' explanation of R_stat\n",
    "- Normalize parameters' scales\n",
    "- Indicators on plots for higher destruction direction?\n",
    "- Look into effect sizes for linear models\n",
    "- If we build models using Za, AD, etc, when do they match?\n",
    "- Request a meeting with Dr. Kirchoff"
   ]
  },
  {
   "cell_type": "code",
   "execution_count": null,
   "id": "7048b31f-e3fa-4f0a-818b-5eb05d1b004d",
   "metadata": {},
   "outputs": [],
   "source": [
    "metric = \"areal_density_median\""
   ]
  },
  {
   "cell_type": "code",
   "execution_count": null,
   "id": "a228018f-aa0a-4c28-8489-228a7e686466",
   "metadata": {},
   "outputs": [],
   "source": [
    "# Normalize for coloring plot markers\n",
    "stats_df[\"marker_size\"] = 1\n",
    "hover_data = {\n",
    "    \"slope\": \":.3f\",\n",
    "    \"effective_radius_multiplier\": \":.3f\",\n",
    "    \"r_stat_multiplier\": \":.3f\",\n",
    "    \"min_rim_percentage\": \":.3f\",\n",
    "    metric : \":.3f\"\n",
    "}\n",
    "fig = px.scatter_matrix(\n",
    "    stats_df,\n",
    "    dimensions=ivs,\n",
    "    hover_data=hover_data,\n",
    "    color=metric,\n",
    "    size=\"marker_size\",\n",
    "    size_max=5,\n",
    "    width=1200,\n",
    "    height=800\n",
    ")\n",
    "fig.show()"
   ]
  },
  {
   "cell_type": "code",
   "execution_count": null,
   "id": "47fa700b-ee07-4616-ba85-2ba56f52d81b",
   "metadata": {},
   "outputs": [],
   "source": [
    "# Destructive parameters\n",
    "fig = px.scatter_3d(\n",
    "    stats_df,\n",
    "    x=\"min_rim_percentage\",\n",
    "    y=\"effective_radius_multiplier\",\n",
    "    z=\"r_stat_multiplier\",\n",
    "    color=metric,\n",
    "    size=\"marker_size\",\n",
    "    size_max=10,\n",
    "    hover_data=hover_data,\n",
    "    width=1000,\n",
    "    height=1000\n",
    ")\n",
    "fig.show()"
   ]
  },
  {
   "cell_type": "code",
   "execution_count": null,
   "id": "4e87326a-f05f-43d9-9d65-1d525f35d120",
   "metadata": {},
   "outputs": [],
   "source": [
    "fig = px.scatter_3d(\n",
    "    stats_df,\n",
    "    x=\"slope\",\n",
    "    y=\"effective_radius_multiplier\",\n",
    "    z=\"r_stat_multiplier\",\n",
    "    color=metric,\n",
    "    size=\"marker_size\",\n",
    "    size_max=10,\n",
    "    hover_data=hover_data,\n",
    "    width=1000,\n",
    "    height=1000\n",
    ")\n",
    "fig.show()"
   ]
  },
  {
   "cell_type": "code",
   "execution_count": null,
   "id": "3991294f-f5da-414d-b1d9-bd96d8f3d33a",
   "metadata": {},
   "outputs": [],
   "source": [
    "fig = px.scatter_3d(\n",
    "    stats_df,\n",
    "    x=\"slope\",\n",
    "    y=\"min_rim_percentage\",\n",
    "    z=\"r_stat_multiplier\",\n",
    "    color=metric,\n",
    "    size=\"marker_size\",\n",
    "    size_max=10,\n",
    "    hover_data=hover_data,\n",
    "    width=1000,\n",
    "    height=1000\n",
    ")\n",
    "fig.show()"
   ]
  },
  {
   "cell_type": "code",
   "execution_count": null,
   "id": "3da60fc1-ec88-4730-b286-c8ca75de25c6",
   "metadata": {},
   "outputs": [],
   "source": [
    "fig = px.scatter_3d(\n",
    "    stats_df,\n",
    "    x=\"slope\",\n",
    "    y=\"effective_radius_multiplier\",\n",
    "    z=\"min_rim_percentage\",\n",
    "    color=metric,\n",
    "    size=\"marker_size\",\n",
    "    size_max=10,\n",
    "    hover_data=hover_data,\n",
    "    width=1000,\n",
    "    height=1000\n",
    ")\n",
    "fig.show()"
   ]
  },
  {
   "cell_type": "code",
   "execution_count": null,
   "id": "01885dcb-5013-44ff-a80f-e7fa0e975dc4",
   "metadata": {},
   "outputs": [],
   "source": []
  },
  {
   "cell_type": "markdown",
   "id": "0ffa6d6e-a8e4-4e83-8844-19ebf9d2a282",
   "metadata": {},
   "source": [
    "### Linear regression model"
   ]
  },
  {
   "cell_type": "code",
   "execution_count": null,
   "id": "ef4b7d47-a2db-443d-b0ac-ccd2536d8217",
   "metadata": {},
   "outputs": [],
   "source": [
    "def fit_and_report_model(model, data, dependent_variable, model_name):\n",
    "    # X = data[[\"slope\", \"effective_radius_multiplier\", \"r_stat_multiplier\", \"min_rim_percentage\"]].copy()\n",
    "    X = data.drop([dependent_variable], axis=1)\n",
    "    y = data[dependent_variable]\n",
    "\n",
    "    X_train, X_test, y_train, y_test = train_test_split(X, y, test_size=0.20, random_state=42)\n",
    "    model_fit = model.fit(X_train, y_train)\n",
    "    \n",
    "    y_pred = model.predict(X_train)\n",
    "    rmse = mean_squared_error(y_pred, y_train, squared=False)\n",
    "    mape = mean_absolute_percentage_error(y_pred, y_train)\n",
    "    print(f\"{model_name}: Train RMSE: {rmse:.4f}, Train MAPE: {mape:.4f}\")\n",
    "    \n",
    "    residuals = y_train - y_pred\n",
    "    plt.hist(residuals)\n",
    "    \n",
    "    ks_norm_p = stats.kstest(residuals, cdf=stats.norm.cdf).pvalue\n",
    "    ad_result = stats.anderson(residuals, dist=\"norm\")\n",
    "    print(f\"KS test p-value on training residuals: {ks_norm_p:.3f}\")\n",
    "    print(f\"AD test on training residuals: {ad_result.statistic:.3f}, critical values: {ad_result.critical_values}, significance levels: {ad_result.significance_level}\")\n",
    "    \n",
    "    y_pred = model.predict(X_test)\n",
    "    rmse = mean_squared_error(y_pred, y_test, squared=False)\n",
    "    mape = mean_absolute_percentage_error(y_pred, y_test)\n",
    "    print(f\"{model_name}: Test RMSE: {rmse:.4f}, Test MAPE: {mape:.4f}\")\n",
    "    \n",
    "    y_pred_mean_model = [y_train.mean()] * len(y_test)\n",
    "    rmse = mean_squared_error(y_pred_mean_model, y_test, squared=False)\n",
    "    mape = mean_absolute_percentage_error(y_pred_mean_model, y_test)\n",
    "    print(f\"Mean model: RMSE: {rmse:.4f}, MAPE: {mape:.4f}\")\n",
    "    \n",
    "    return model_fit"
   ]
  },
  {
   "cell_type": "markdown",
   "id": "b58f0ab7-ca90-4110-a46a-2958e77d37f6",
   "metadata": {},
   "source": [
    "#### Checking scatterplots"
   ]
  },
  {
   "cell_type": "code",
   "execution_count": null,
   "id": "63c2d9d7-9f46-41cc-a00a-a05da71821a8",
   "metadata": {},
   "outputs": [],
   "source": [
    "metric = \"areal_density_median\"\n",
    "series = stats_df[metric]\n",
    "\n",
    "for iv in ivs:\n",
    "    plt.scatter(stats_df[iv], series, s=1)\n",
    "    plt.xlabel(iv)\n",
    "    plt.ylabel(metric)\n",
    "    plt.show()"
   ]
  },
  {
   "cell_type": "code",
   "execution_count": null,
   "id": "dff60f59-98d3-4277-b4ee-192473fc2da0",
   "metadata": {},
   "outputs": [],
   "source": [
    "metric = \"areal_density_99_percentile\"\n",
    "series = stats_df[metric]\n",
    "\n",
    "for iv in ivs:\n",
    "    plt.scatter(stats_df[iv], series, s=1)\n",
    "    plt.xlabel(iv)\n",
    "    plt.ylabel(metric)\n",
    "    plt.show()"
   ]
  },
  {
   "cell_type": "markdown",
   "id": "5bf6f3d9-dfbc-4642-a051-c58935660674",
   "metadata": {},
   "source": [
    "AD_max = f(slope, min_rim, eff_rad, r_stat_mult)\n",
    "f(slope=1.8-2.0, min_rim=.4-.45, ....)\n",
    "AD_max in (0.4, 0.6)"
   ]
  },
  {
   "cell_type": "code",
   "execution_count": null,
   "id": "692d02af-c4a2-4235-9d16-0a93b6b4d5f2",
   "metadata": {},
   "outputs": [],
   "source": [
    "# Fit using sklearn\n",
    "model = LinearRegression(fit_intercept=True)\n",
    "model = fit_and_report_model(model, stats_df[ivs + [metric]], metric, \"lm\")"
   ]
  },
  {
   "cell_type": "code",
   "execution_count": null,
   "id": "e98a5fd8-48b4-4769-9c3b-4ef1ca46febd",
   "metadata": {},
   "outputs": [],
   "source": [
    "poly_transform = sklearn.preprocessing.PolynomialFeatures(degree=2)\n",
    "X = poly_transform.fit_transform(stats_df[ivs])\n",
    "X = pd.DataFrame(X, columns=poly_transform.get_feature_names_out())\n",
    "X[metric] = stats_df[metric]"
   ]
  },
  {
   "cell_type": "code",
   "execution_count": null,
   "id": "1dbf531b-6c6b-4a3b-b62a-eefe79c0c6e2",
   "metadata": {},
   "outputs": [],
   "source": [
    "# Fit using sklearn\n",
    "model = LinearRegression(fit_intercept=True)\n",
    "model = fit_and_report_model(model, X, metric, \"lm\")"
   ]
  },
  {
   "cell_type": "code",
   "execution_count": null,
   "id": "4d05d073-9172-4e29-9582-64485f542149",
   "metadata": {},
   "outputs": [],
   "source": [
    "exclude = {\n",
    "    metric,\n",
    "    \"r_stat_multiplier\",\n",
    "    \"slope effective_radius_multiplier\",\n",
    "    \"effective_radius_multiplier r_stat_multiplier\",\n",
    "    \"slope r_stat_multiplier\",\n",
    "    \"min_rim_percentage^2\",\n",
    "    \"r_stat_multiplier min_rim_percentage\",\n",
    "    \"r_stat_multiplier^2\"\n",
    "}\n",
    "model = sm.OLS(stats_df[metric], sm.add_constant(X[[x for x in X.columns if x not in exclude]]))\n",
    "result = model.fit()\n",
    "result.summary()"
   ]
  },
  {
   "cell_type": "code",
   "execution_count": null,
   "id": "1b9de193-7d97-45c6-9ae1-c638d5f8d1ac",
   "metadata": {},
   "outputs": [],
   "source": []
  },
  {
   "cell_type": "code",
   "execution_count": null,
   "id": "153ca124-fd59-42c3-8f22-55f23262027a",
   "metadata": {},
   "outputs": [],
   "source": []
  },
  {
   "cell_type": "code",
   "execution_count": null,
   "id": "23e5960e-eee7-4c0c-890c-fb9d38ea8619",
   "metadata": {},
   "outputs": [],
   "source": [
    "# Fit using sklearn\n",
    "model = LinearRegression(fit_intercept=True)\n",
    "model = fit_and_report_model(model, stats_df[[\n",
    "    #\"slope_effective_radius_multiplier\",\n",
    "                                                           \"slope_r_stat_multiplier\",\n",
    "                                                           #\"slope_min_rim_percentage\",\n",
    "                                                           #\"r_stat_multiplier_effective_radius_multiplier\", \n",
    "                                                           #\"r_stat_multiplier_min_rim_percentage\",\n",
    "                                                           \"effective_radius_multiplier_min_rim_percentage\",\n",
    "                                                           \"slope_effective_radius_multiplier_min_rim_percentage\",\n",
    "                                                           \"slope\",\n",
    "                                                           \"effective_radius_multiplier\",\n",
    "                                                           \"r_stat_multiplier\",\n",
    "                                                           \"min_rim_percentage\", metric]], metric, \"lm\")"
   ]
  },
  {
   "cell_type": "code",
   "execution_count": null,
   "id": "a9ce5008-36a8-4023-8ae6-8657f1aa3385",
   "metadata": {},
   "outputs": [],
   "source": [
    "# Fit using statsmodels for p-values\n",
    "stats_df[\"slope_effective_radius_multiplier\"] = stats_df.slope * stats_df.effective_radius_multiplier\n",
    "stats_df[\"slope_r_stat_multiplier\"] = stats_df.slope * stats_df.r_stat_multiplier\n",
    "stats_df[\"slope_min_rim_percentage\"] = stats_df.slope * stats_df.min_rim_percentage\n",
    "stats_df[\"r_stat_multiplier_effective_radius_multiplier\"] = stats_df.r_stat_multiplier * stats_df.effective_radius_multiplier\n",
    "stats_df[\"r_stat_multiplier_min_rim_percentage\"] = stats_df.r_stat_multiplier * stats_df.min_rim_percentage\n",
    "stats_df[\"effective_radius_multiplier_min_rim_percentage\"] = stats_df.min_rim_percentage * stats_df.effective_radius_multiplier\n",
    "stats_df[\"slope_effective_radius_multiplier_min_rim_percentage\"] = stats_df.slope * stats_df.min_rim_percentage * stats_df.effective_radius_multiplier\n",
    "stats_df[\"slope_effective_radius_multiplier_squared\"] = stats_df.effective_radius_multiplier * stats_df.effective_radius_multiplier\n",
    "\n",
    "model = sm.OLS(stats_df[metric], sm.add_constant(stats_df[[\n",
    "    #\"slope_effective_radius_multiplier\",\n",
    "                                                           \"slope_r_stat_multiplier\",\n",
    "                                                           \"slope_effective_radius_multiplier_squared\",\n",
    "                                                           #\"slope_min_rim_percentage\",\n",
    "                                                           #\"r_stat_multiplier_effective_radius_multiplier\", \n",
    "                                                           #\"r_stat_multiplier_min_rim_percentage\",\n",
    "                                                           \"effective_radius_multiplier_min_rim_percentage\",\n",
    "                                                           \"slope_effective_radius_multiplier_min_rim_percentage\",\n",
    "                                                           \"slope\",\n",
    "                                                           \"effective_radius_multiplier\",\n",
    "                                                           \"r_stat_multiplier\",\n",
    "                                                           \"min_rim_percentage\"]]))\n",
    "result = model.fit()\n",
    "result.summary()"
   ]
  },
  {
   "cell_type": "code",
   "execution_count": null,
   "id": "89f70253-88c0-4239-bf31-4ecf077fe6de",
   "metadata": {},
   "outputs": [],
   "source": [
    "model = sm.OLS(stats_df[metric], sm.add_constant(stats_df[ivs]))\n",
    "result = model.fit()\n",
    "result.summary()"
   ]
  },
  {
   "cell_type": "code",
   "execution_count": null,
   "id": "9523f3b4-9dd5-4717-b7bd-bffb81190b42",
   "metadata": {},
   "outputs": [],
   "source": [
    "model = sm.OLS(stats_df[metric], sm.add_constant(stats_df[[\n",
    "    # \"slope_effective_radius_multiplier\",\n",
    "                                                           # \"slope_r_stat_multiplier\",\n",
    "                                                           \"slope_effective_radius_multiplier_squared\",\n",
    "                                                           # \"slope_min_rim_percentage\",\n",
    "                                                           \"r_stat_multiplier_effective_radius_multiplier\", \n",
    "                                                           # \"r_stat_multiplier_min_rim_percentage\",\n",
    "                                                           \"effective_radius_multiplier_min_rim_percentage\",\n",
    "                                                           \"slope_effective_radius_multiplier_min_rim_percentage\",\n",
    "                                                           \"slope\",\n",
    "                                                           \"effective_radius_multiplier\",\n",
    "                                                           \"r_stat_multiplier\",\n",
    "                                                           \"min_rim_percentage\"]]))\n",
    "result = model.fit()\n",
    "result.summary()"
   ]
  },
  {
   "cell_type": "code",
   "execution_count": null,
   "id": "1dce5afa-bce9-489e-9c92-157d06c29565",
   "metadata": {},
   "outputs": [],
   "source": [
    "# Fit using statsmodels for p-values\n",
    "stats_df[\"slope_effective_radius_multiplier\"] = stats_df.slope * stats_df.effective_radius_multiplier\n",
    "stats_df[\"slope_r_stat_multiplier\"] = stats_df.slope * stats_df.r_stat_multiplier\n",
    "stats_df[\"slope_min_rim_percentage\"] = stats_df.slope * stats_df.min_rim_percentage\n",
    "stats_df[\"r_stat_multiplier_effective_radius_multiplier\"] = stats_df.r_stat_multiplier * stats_df.effective_radius_multiplier\n",
    "stats_df[\"r_stat_multiplier_min_rim_percentage\"] = stats_df.r_stat_multiplier * stats_df.min_rim_percentage\n",
    "stats_df[\"effective_radius_multiplier_min_rim_percentage\"] = stats_df.min_rim_percentage * stats_df.effective_radius_multiplier\n",
    "stats_df[\"slope_effective_radius_multiplier_min_rim_percentage\"] = stats_df.slope * stats_df.min_rim_percentage * stats_df.effective_radius_multiplier\n",
    "\n",
    "model = sm.OLS(stats_df[metric], sm.add_constant(stats_df[[\n",
    "    # \"slope_effective_radius_multiplier\",\n",
    "                                                           \"slope_r_stat_multiplier\",\n",
    "                                                           # \"slope_min_rim_percentage\",\n",
    "                                                           # \"r_stat_multiplier_effective_radius_multiplier\", \n",
    "                                                           # \"r_stat_multiplier_min_rim_percentage\",\n",
    "                                                           \"effective_radius_multiplier_min_rim_percentage\",\n",
    "                                                           \"slope_effective_radius_multiplier_min_rim_percentage\",\n",
    "                                                           \"slope\",\n",
    "                                                           \"effective_radius_multiplier\",\n",
    "                                                           \"r_stat_multiplier\",\n",
    "                                                           \"min_rim_percentage\"]]))\n",
    "result = model.fit()\n",
    "result.summary()"
   ]
  },
  {
   "cell_type": "code",
   "execution_count": null,
   "id": "bfab840c-3564-4a8d-a9fd-5168973b95b9",
   "metadata": {},
   "outputs": [],
   "source": []
  },
  {
   "cell_type": "markdown",
   "id": "54d882f4-c046-43d0-bf2c-e38542a13b28",
   "metadata": {},
   "source": [
    "### Random forest model"
   ]
  },
  {
   "cell_type": "code",
   "execution_count": null,
   "id": "8cf54df6-61b5-4f04-bce5-78eb3bab80a4",
   "metadata": {},
   "outputs": [],
   "source": [
    "max_depth = 5\n",
    "n_estimators = 5000\n",
    "\n",
    "model = RandomForestRegressor(max_depth=max_depth,\n",
    "                              n_estimators=n_estimators,\n",
    "                              random_state=42)\n",
    "model_fit = fit_and_report_model(model, stats_df, metric, f\"RF({max_depth}, {n_estimators})\")"
   ]
  },
  {
   "cell_type": "code",
   "execution_count": null,
   "id": "a127a355-df6e-47e7-863f-6f76d3614f9b",
   "metadata": {},
   "outputs": [],
   "source": []
  },
  {
   "cell_type": "markdown",
   "id": "e195c88f-4cd5-4a05-909a-12fec161f35a",
   "metadata": {},
   "source": [
    "### Gradient boosted trees model"
   ]
  },
  {
   "cell_type": "code",
   "execution_count": null,
   "id": "4e101a31-85b7-42a3-8d9b-867c777f91a0",
   "metadata": {},
   "outputs": [],
   "source": [
    "max_depth = 3\n",
    "n_estimators = 500\n",
    "\n",
    "model = GradientBoostingRegressor(max_depth=max_depth,\n",
    "                                  n_estimators=n_estimators,\n",
    "                                  random_state=42)\n",
    "model_fit = fit_and_report_model(model, stats_df, metric, f\"GBT({max_depth}, {n_estimators})\")"
   ]
  },
  {
   "cell_type": "code",
   "execution_count": null,
   "id": "fea63081-892c-4042-8c5d-e8432aed5bcb",
   "metadata": {},
   "outputs": [],
   "source": []
  },
  {
   "cell_type": "code",
   "execution_count": null,
   "id": "4881eb56-d594-435e-b696-6e90d50db457",
   "metadata": {},
   "outputs": [],
   "source": []
  },
  {
   "cell_type": "markdown",
   "id": "717a1800-cd43-465f-a146-258e465f9693",
   "metadata": {},
   "source": [
    "### Plotting a single simulation's statistics"
   ]
  },
  {
   "cell_type": "code",
   "execution_count": null,
   "id": "898357f3-bec3-443d-ae93-a063d029c6e1",
   "metadata": {},
   "outputs": [],
   "source": [
    "def read_stats_parquets(path: str) -> pd.DataFrame:\n",
    "    # Read all statistics parquet files\n",
    "    filenames = Path(path).glob(\"statistics*.parquet\")\n",
    "    dataframes = []\n",
    "    for filename in filenames:\n",
    "        df = pd.read_parquet(filename)\n",
    "        dataframes.append(df)\n",
    "    df = pd.concat(dataframes)\n",
    "    df = df.sort_values(by=[\"crater_id\"]).reset_index(drop=True)\n",
    "    \n",
    "    return df\n",
    "\n",
    "def get_path(slope: float,\n",
    "             effective_radius_multiplier: float,\n",
    "             r_stat_multiplier: float,\n",
    "             min_rim_percentage: float,\n",
    "             base_path: str,\n",
    "             prefix: str = \"interior_point\") -> pd.DataFrame:\n",
    "    return f\"{base_path}/{prefix}_{effective_radius_multiplier:.3f}_{min_rim_percentage:.3f}_{r_stat_multiplier:.3f}_{slope:.3f}/1/\"\n"
   ]
  },
  {
   "cell_type": "code",
   "execution_count": null,
   "id": "35bc07f0-8469-48a9-9a6b-ae76330ce772",
   "metadata": {},
   "outputs": [],
   "source": [
    "paths = list(Path(base_path).glob(\"corner*/1/\"))\n",
    "\n",
    "for path in paths[-3:]:\n",
    "    df = read_stats_parquets(path)\n",
    "    plt.plot(df.n_craters_added_in_study_region, df.areal_density)\n",
    "    plt.title(path)\n",
    "    plt.show()"
   ]
  },
  {
   "cell_type": "code",
   "execution_count": null,
   "id": "35d3a914-090f-4fb1-b652-93dd7017100c",
   "metadata": {},
   "outputs": [],
   "source": [
    "# # Finding saturation points\n",
    "# for path in paths[:]:\n",
    "#     df = read_stats_parquets(path)\n",
    "#     n_sims = df.shape[0]\n",
    "#     checkpoint = n_sims // 3 * 2\n",
    "#     checkpoint_max_ad = df.areal_density[:checkpoint].max()\n",
    "#     checkpoint_max_n = df.n_craters_in_study_region[:checkpoint].max()\n",
    "#     max_index = max(df.areal_density.idxmax(), df.n_craters_in_study_region.idxmax())\n",
    "#     print(f\"{path}, {max_index / df.shape[0]:.3f}\")\n",
    "#     # print(f\"{path}, {max_index}, {df.shape[0]}, {checkpoint_max_ad:.3f}, {df.areal_density.max():.3f}, {checkpoint_max_n}, {df.n_craters_in_study_region.max()}\")"
   ]
  },
  {
   "cell_type": "code",
   "execution_count": null,
   "id": "1c7ac226-524d-4186-90ee-81f076bf0f66",
   "metadata": {},
   "outputs": [],
   "source": [
    "# all_ads = []\n",
    "# for path in paths:\n",
    "#     df = read_stats_parquets(path)\n",
    "#     max_index = df.areal_density.idxmax()\n",
    "#     df_sat = df.iloc[max_index:]\n",
    "#     print(f\"{path}, {df_sat.areal_density.median()}, {df_sat.areal_density.std()}, {len(df_sat)}, {max_index}\")\n",
    "#     # plt.hist(df_sat.areal_density)\n",
    "#     # plt.show()\n",
    "#     all_ads += list(df_sat.areal_density)"
   ]
  },
  {
   "cell_type": "code",
   "execution_count": null,
   "id": "efda4812-80fa-469f-8eea-8cdf0f254878",
   "metadata": {},
   "outputs": [],
   "source": [
    "all_ads = []\n",
    "for path in paths[:5]:\n",
    "    df = read_stats_parquets(path)\n",
    "    max_index = df.areal_density.idxmax()\n",
    "    df_sat = df.iloc[-200000:]\n",
    "    print(f\"{df_sat.areal_density.median()}, {df_sat.areal_density.std()}\")\n",
    "    # plt.hist(df_sat.areal_density)\n",
    "    # plt.show()\n",
    "    all_ads += list(df_sat.areal_density)"
   ]
  },
  {
   "cell_type": "code",
   "execution_count": null,
   "id": "0c1c95fd-21d4-414f-aa2c-ae6760143b0c",
   "metadata": {},
   "outputs": [],
   "source": [
    "plt.hist(all_ads)"
   ]
  },
  {
   "cell_type": "code",
   "execution_count": null,
   "id": "83aae775-c885-453c-b3e4-eb84d3448953",
   "metadata": {},
   "outputs": [],
   "source": []
  },
  {
   "cell_type": "code",
   "execution_count": null,
   "id": "e11c8e9d-b41b-4095-894e-15c04076897d",
   "metadata": {},
   "outputs": [],
   "source": [
    "max_index = df.areal_density.idxmax()\n",
    "df_sat = df.iloc[max_index:]\n",
    "plt.plot(df_sat.n_craters_added_in_study_region, df_sat.areal_density)\n",
    "plt.show()\n",
    "plt.hist(df_sat.areal_density)\n",
    "plt.show()"
   ]
  },
  {
   "cell_type": "code",
   "execution_count": null,
   "id": "041b8bb5-aec2-46d6-b7e2-4a1432370177",
   "metadata": {},
   "outputs": [],
   "source": []
  },
  {
   "cell_type": "code",
   "execution_count": null,
   "id": "67e1d892-8f25-420f-b829-3804d02e06d5",
   "metadata": {},
   "outputs": [],
   "source": []
  },
  {
   "cell_type": "code",
   "execution_count": null,
   "id": "0826ed2c-fa20-481a-adfd-6d8974c44196",
   "metadata": {},
   "outputs": [],
   "source": []
  },
  {
   "cell_type": "code",
   "execution_count": null,
   "id": "cb673000-3697-4296-b274-4a6cadcf42c9",
   "metadata": {},
   "outputs": [],
   "source": []
  },
  {
   "cell_type": "code",
   "execution_count": null,
   "id": "1394a428-8973-4ea3-9a8c-46a128bc8da4",
   "metadata": {},
   "outputs": [],
   "source": []
  },
  {
   "cell_type": "code",
   "execution_count": null,
   "id": "1e9cc8d0-8f22-4df9-baa1-a0e8057359ef",
   "metadata": {},
   "outputs": [],
   "source": [
    "# Modeling areal density using post-saturation sample"
   ]
  },
  {
   "cell_type": "code",
   "execution_count": 4,
   "id": "a2b3283a-243e-4db9-a483-af780968e054",
   "metadata": {},
   "outputs": [],
   "source": [
    "def fit_and_report_model(model, data, dependent_variable, model_name):\n",
    "    X = data.drop([dependent_variable], axis=1)\n",
    "    y = data[dependent_variable]\n",
    "\n",
    "    X_train, X_test, y_train, y_test = train_test_split(X, y, test_size=0.20, random_state=42)\n",
    "    model_fit = model.fit(X_train, y_train)\n",
    "    \n",
    "    y_pred = model.predict(X_train)\n",
    "    rmse = mean_squared_error(y_pred, y_train, squared=False)\n",
    "    mape = mean_absolute_percentage_error(y_pred, y_train)\n",
    "    print(f\"{model_name}: Train RMSE: {rmse:.4f}, Train MAPE: {mape:.4f}\")\n",
    "    \n",
    "    residuals = y_train - y_pred\n",
    "    plt.hist(residuals)\n",
    "    \n",
    "    ks_norm_p = stats.kstest(residuals, cdf=stats.norm.cdf).pvalue\n",
    "    ad_result = stats.anderson(residuals, dist=\"norm\")\n",
    "    print(f\"KS test p-value on training residuals: {ks_norm_p:.3f}\")\n",
    "    print(f\"AD test on training residuals: {ad_result.statistic:.3f}, critical values: {ad_result.critical_values}, significance levels: {ad_result.significance_level}\")\n",
    "    \n",
    "    y_pred = model.predict(X_test)\n",
    "    rmse = mean_squared_error(y_pred, y_test, squared=False)\n",
    "    mape = mean_absolute_percentage_error(y_pred, y_test)\n",
    "    print(f\"{model_name}: Test RMSE: {rmse:.4f}, Test MAPE: {mape:.4f}\")\n",
    "    \n",
    "    y_pred_mean_model = [y_train.mean()] * len(y_test)\n",
    "    rmse = mean_squared_error(y_pred_mean_model, y_test, squared=False)\n",
    "    mape = mean_absolute_percentage_error(y_pred_mean_model, y_test)\n",
    "    print(f\"Mean model: RMSE: {rmse:.4f}, MAPE: {mape:.4f}\")\n",
    "    \n",
    "    return model_fit"
   ]
  },
  {
   "cell_type": "code",
   "execution_count": 5,
   "id": "39baab9d-1b7a-48fe-98f5-6ff5e6e2c1ee",
   "metadata": {},
   "outputs": [
    {
     "data": {
      "text/html": [
       "<div>\n",
       "<style scoped>\n",
       "    .dataframe tbody tr th:only-of-type {\n",
       "        vertical-align: middle;\n",
       "    }\n",
       "\n",
       "    .dataframe tbody tr th {\n",
       "        vertical-align: top;\n",
       "    }\n",
       "\n",
       "    .dataframe thead th {\n",
       "        text-align: right;\n",
       "    }\n",
       "</style>\n",
       "<table border=\"1\" class=\"dataframe\">\n",
       "  <thead>\n",
       "    <tr style=\"text-align: right;\">\n",
       "      <th></th>\n",
       "      <th>simulation_id</th>\n",
       "      <th>slope</th>\n",
       "      <th>r_stat_multiplier</th>\n",
       "      <th>effective_radius_multiplier</th>\n",
       "      <th>min_rim_percentage</th>\n",
       "      <th>crater_id</th>\n",
       "      <th>n_craters_added_in_study_region</th>\n",
       "      <th>n_craters_in_study_region</th>\n",
       "      <th>areal_density</th>\n",
       "      <th>z</th>\n",
       "      <th>za</th>\n",
       "    </tr>\n",
       "  </thead>\n",
       "  <tbody>\n",
       "    <tr>\n",
       "      <th>0</th>\n",
       "      <td>26</td>\n",
       "      <td>1.113464</td>\n",
       "      <td>3.024217</td>\n",
       "      <td>1.899068</td>\n",
       "      <td>0.700091</td>\n",
       "      <td>2686130</td>\n",
       "      <td>499998</td>\n",
       "      <td>426</td>\n",
       "      <td>0.224960</td>\n",
       "      <td>-5.387406</td>\n",
       "      <td>-0.753683</td>\n",
       "    </tr>\n",
       "    <tr>\n",
       "      <th>1</th>\n",
       "      <td>26</td>\n",
       "      <td>1.113464</td>\n",
       "      <td>3.024217</td>\n",
       "      <td>1.899068</td>\n",
       "      <td>0.700091</td>\n",
       "      <td>2686097</td>\n",
       "      <td>499991</td>\n",
       "      <td>421</td>\n",
       "      <td>0.224657</td>\n",
       "      <td>-5.411498</td>\n",
       "      <td>-0.820158</td>\n",
       "    </tr>\n",
       "    <tr>\n",
       "      <th>2</th>\n",
       "      <td>26</td>\n",
       "      <td>1.113464</td>\n",
       "      <td>3.024217</td>\n",
       "      <td>1.899068</td>\n",
       "      <td>0.700091</td>\n",
       "      <td>2686043</td>\n",
       "      <td>499984</td>\n",
       "      <td>414</td>\n",
       "      <td>0.224270</td>\n",
       "      <td>-5.336032</td>\n",
       "      <td>-0.788430</td>\n",
       "    </tr>\n",
       "    <tr>\n",
       "      <th>3</th>\n",
       "      <td>26</td>\n",
       "      <td>1.113464</td>\n",
       "      <td>3.024217</td>\n",
       "      <td>1.899068</td>\n",
       "      <td>0.700091</td>\n",
       "      <td>2686002</td>\n",
       "      <td>499975</td>\n",
       "      <td>427</td>\n",
       "      <td>0.220655</td>\n",
       "      <td>-5.433428</td>\n",
       "      <td>-0.906793</td>\n",
       "    </tr>\n",
       "    <tr>\n",
       "      <th>4</th>\n",
       "      <td>26</td>\n",
       "      <td>1.113464</td>\n",
       "      <td>3.024217</td>\n",
       "      <td>1.899068</td>\n",
       "      <td>0.700091</td>\n",
       "      <td>2685887</td>\n",
       "      <td>499954</td>\n",
       "      <td>406</td>\n",
       "      <td>0.219667</td>\n",
       "      <td>-5.788088</td>\n",
       "      <td>-1.462709</td>\n",
       "    </tr>\n",
       "  </tbody>\n",
       "</table>\n",
       "</div>"
      ],
      "text/plain": [
       "   simulation_id     slope  r_stat_multiplier  effective_radius_multiplier  \\\n",
       "0             26  1.113464           3.024217                     1.899068   \n",
       "1             26  1.113464           3.024217                     1.899068   \n",
       "2             26  1.113464           3.024217                     1.899068   \n",
       "3             26  1.113464           3.024217                     1.899068   \n",
       "4             26  1.113464           3.024217                     1.899068   \n",
       "\n",
       "   min_rim_percentage  crater_id  n_craters_added_in_study_region  \\\n",
       "0            0.700091    2686130                           499998   \n",
       "1            0.700091    2686097                           499991   \n",
       "2            0.700091    2686043                           499984   \n",
       "3            0.700091    2686002                           499975   \n",
       "4            0.700091    2685887                           499954   \n",
       "\n",
       "   n_craters_in_study_region  areal_density         z        za  \n",
       "0                        426       0.224960 -5.387406 -0.753683  \n",
       "1                        421       0.224657 -5.411498 -0.820158  \n",
       "2                        414       0.224270 -5.336032 -0.788430  \n",
       "3                        427       0.220655 -5.433428 -0.906793  \n",
       "4                        406       0.219667 -5.788088 -1.462709  "
      ]
     },
     "execution_count": 5,
     "metadata": {},
     "output_type": "execute_result"
    }
   ],
   "source": [
    "stats_df = pd.read_csv(f\"{base_path}/post_saturation_sample_5000.csv\")\n",
    "stats_df.head()"
   ]
  },
  {
   "cell_type": "code",
   "execution_count": null,
   "id": "ca164743-2ed7-4cd9-8f91-bb8d9d91680a",
   "metadata": {},
   "outputs": [],
   "source": [
    "# Some plots"
   ]
  },
  {
   "cell_type": "code",
   "execution_count": 7,
   "id": "c70371b3-099a-4e29-8ed3-56dbed316bdd",
   "metadata": {},
   "outputs": [],
   "source": [
    "metric = \"areal_density\""
   ]
  },
  {
   "cell_type": "code",
   "execution_count": null,
   "id": "f773285b-78a0-465d-9956-27cf49316ec3",
   "metadata": {},
   "outputs": [],
   "source": [
    "plt.hist(stats_df.areal_density)"
   ]
  },
  {
   "cell_type": "code",
   "execution_count": null,
   "id": "c1f0b7d5-3684-4fb5-bd4e-e74ccacfa44e",
   "metadata": {},
   "outputs": [],
   "source": [
    "plt.hist(stats_df.z)"
   ]
  },
  {
   "cell_type": "code",
   "execution_count": null,
   "id": "c062a970-af8d-447c-b885-b6fbd8540376",
   "metadata": {},
   "outputs": [],
   "source": [
    "plt.hist(stats_df.za)"
   ]
  },
  {
   "cell_type": "code",
   "execution_count": 8,
   "id": "9c4296e4-cc2e-4398-ae5d-025ea95caa18",
   "metadata": {},
   "outputs": [],
   "source": [
    "poly_transform = sklearn.preprocessing.PolynomialFeatures(degree=2)\n",
    "X = poly_transform.fit_transform(stats_df[ivs])\n",
    "X = pd.DataFrame(X, columns=poly_transform.get_feature_names_out())\n",
    "X[metric] = stats_df[metric]"
   ]
  },
  {
   "cell_type": "code",
   "execution_count": 9,
   "id": "b3ca8948-ca85-4487-a865-1ecc483bc454",
   "metadata": {},
   "outputs": [
    {
     "name": "stdout",
     "output_type": "stream",
     "text": [
      "lm: Train RMSE: 0.0376, Train MAPE: 0.0739\n",
      "KS test p-value on training residuals: 0.000\n",
      "AD test on training residuals: 27342.366, critical values: [0.576 0.656 0.787 0.918 1.092], significance levels: [15.  10.   5.   2.5  1. ]\n",
      "lm: Test RMSE: 0.0377, Test MAPE: 0.0740\n",
      "Mean model: RMSE: 0.1751, MAPE: 0.3686\n"
     ]
    },
    {
     "data": {
      "image/png": "[encoded data removed]",
      "text/plain": [
       "<Figure size 432x288 with 1 Axes>"
      ]
     },
     "metadata": {
      "needs_background": "light"
     },
     "output_type": "display_data"
    }
   ],
   "source": [
    "# Fit using sklearn\n",
    "model = LinearRegression(fit_intercept=True)\n",
    "model = fit_and_report_model(model, X, metric, \"lm\")"
   ]
  },
  {
   "cell_type": "code",
   "execution_count": null,
   "id": "295bb026-0fcf-4417-963e-60f9b3033492",
   "metadata": {},
   "outputs": [],
   "source": []
  },
  {
   "cell_type": "code",
   "execution_count": 10,
   "id": "8902c01c-fb53-4694-9823-b86b67340527",
   "metadata": {},
   "outputs": [
    {
     "name": "stdout",
     "output_type": "stream",
     "text": [
      "lm: Train RMSE: 0.0368, Train MAPE: 0.0705\n",
      "KS test p-value on training residuals: 0.000\n",
      "AD test on training residuals: 33572.410, critical values: [0.576 0.656 0.787 0.918 1.092], significance levels: [15.  10.   5.   2.5  1. ]\n",
      "lm: Test RMSE: 0.0369, Test MAPE: 0.0707\n",
      "Mean model: RMSE: 0.1751, MAPE: 0.3686\n"
     ]
    },
    {
     "data": {
      "image/png": "[encoded data removed]",
      "text/plain": [
       "<Figure size 432x288 with 1 Axes>"
      ]
     },
     "metadata": {
      "needs_background": "light"
     },
     "output_type": "display_data"
    }
   ],
   "source": [
    "# Fit using sklearn\n",
    "model = RandomForestRegressor(max_depth=5,\n",
    "                              n_estimators=500,\n",
    "                              n_jobs=25,\n",
    "                              random_state=42)\n",
    "model = fit_and_report_model(model, X, metric, \"lm\")"
   ]
  },
  {
   "cell_type": "code",
   "execution_count": 11,
   "id": "5f1d5a45-3f44-4431-9465-1a816c7442f2",
   "metadata": {},
   "outputs": [
    {
     "name": "stdout",
     "output_type": "stream",
     "text": [
      "lm: Train RMSE: 0.0363, Train MAPE: 0.0679\n",
      "KS test p-value on training residuals: 0.000\n",
      "AD test on training residuals: 39344.945, critical values: [0.576 0.656 0.787 0.918 1.092], significance levels: [15.  10.   5.   2.5  1. ]\n",
      "lm: Test RMSE: 0.0364, Test MAPE: 0.0681\n",
      "Mean model: RMSE: 0.1751, MAPE: 0.3686\n"
     ]
    },
    {
     "data": {
      "image/png": "[encoded data removed]",
      "text/plain": [
       "<Figure size 432x288 with 1 Axes>"
      ]
     },
     "metadata": {
      "needs_background": "light"
     },
     "output_type": "display_data"
    }
   ],
   "source": [
    "# Fit using sklearn\n",
    "model = GradientBoostingRegressor(max_depth=5,\n",
    "                              n_estimators=1000,\n",
    "                              random_state=42)\n",
    "model = fit_and_report_model(model, X, metric, \"lm\")"
   ]
  },
  {
   "cell_type": "code",
   "execution_count": null,
   "id": "e92ad084-936c-4d9d-9694-dc1ec7581804",
   "metadata": {},
   "outputs": [],
   "source": []
  },
  {
   "cell_type": "code",
   "execution_count": null,
   "id": "0c00d974-729a-4a01-88c4-471efb58c31c",
   "metadata": {},
   "outputs": [],
   "source": [
    "metric = \"areal_density\"\n",
    "ivs = [\"slope\", \"r_stat_multiplier\", \"effective_radius_multiplier\", \"min_rim_percentage\", \"n_craters_in_study_region\"]"
   ]
  },
  {
   "cell_type": "code",
   "execution_count": null,
   "id": "777b49c5-b486-4895-9e56-64befe49c64f",
   "metadata": {},
   "outputs": [],
   "source": [
    "poly_transform = sklearn.preprocessing.PolynomialFeatures(degree=2)\n",
    "X = poly_transform.fit_transform(stats_df[ivs])\n",
    "X = pd.DataFrame(X, columns=poly_transform.get_feature_names_out())"
   ]
  },
  {
   "cell_type": "code",
   "execution_count": null,
   "id": "bbeebe01-023b-4a84-8254-ce76ccf216d8",
   "metadata": {},
   "outputs": [],
   "source": [
    "X[x for x in X.columns if x not in exclude]"
   ]
  },
  {
   "cell_type": "code",
   "execution_count": null,
   "id": "48a7090a-1041-4bb4-8362-89fd2fc525f8",
   "metadata": {},
   "outputs": [],
   "source": [
    "exclude = {\n",
    "    \"r_stat_multiplier^2\",\n",
    "    \"slope n_craters_in_study_region\",\n",
    "    \"slope r_stat_multiplier\"\n",
    "}\n",
    "model = sm.OLS(stats_df[metric], sm.add_constant(X[[x for x in X.columns if x not in exclude]]))\n",
    "result = model.fit()\n",
    "result.summary()"
   ]
  },
  {
   "cell_type": "code",
   "execution_count": null,
   "id": "f18cbb8e-3864-483b-abc5-a39200cf705c",
   "metadata": {},
   "outputs": [],
   "source": [
    "plt.hist(result.resid)"
   ]
  },
  {
   "cell_type": "code",
   "execution_count": null,
   "id": "9d9cd5a8-e847-4ee9-9f86-b68f29ffce21",
   "metadata": {},
   "outputs": [],
   "source": [
    "resid_df = stats_df[[metric] + ivs].copy()\n",
    "resid_df[\"residual\"] = result.resid"
   ]
  },
  {
   "cell_type": "code",
   "execution_count": null,
   "id": "fb9b9fb1-730b-4ba2-be92-8c9387835979",
   "metadata": {},
   "outputs": [],
   "source": [
    "resid_df"
   ]
  },
  {
   "cell_type": "code",
   "execution_count": null,
   "id": "8ea03472-6908-4f1e-890d-de2fc79d8313",
   "metadata": {},
   "outputs": [],
   "source": []
  },
  {
   "cell_type": "code",
   "execution_count": null,
   "id": "8cd4d615-df51-40bf-90cd-de45f45ac3c5",
   "metadata": {},
   "outputs": [],
   "source": [
    "import sklearn"
   ]
  },
  {
   "cell_type": "code",
   "execution_count": null,
   "id": "3a5f480f-2c0c-4d23-8488-0050edc44587",
   "metadata": {},
   "outputs": [],
   "source": [
    "model = sklearn.linear_model.LinearRegression().fit(stats_df[[\"areal_density\", \"z\", \"za\"]], stats_df[ivs])"
   ]
  },
  {
   "cell_type": "code",
   "execution_count": null,
   "id": "2842717e-ac16-4d65-9f9a-ac778e95b36a",
   "metadata": {},
   "outputs": [],
   "source": [
    "model.coef_"
   ]
  },
  {
   "cell_type": "code",
   "execution_count": null,
   "id": "36cb97cf-fc2d-451e-a445-738692aa3919",
   "metadata": {},
   "outputs": [],
   "source": [
    "model."
   ]
  }
 ],
 "metadata": {
  "kernelspec": {
   "display_name": "Python 3 (ipykernel)",
   "language": "python",
   "name": "python3"
  },
  "language_info": {
   "codemirror_mode": {
    "name": "ipython",
    "version": 3
   },
   "file_extension": ".py",
   "mimetype": "text/x-python",
   "name": "python",
   "nbconvert_exporter": "python",
   "pygments_lexer": "ipython3",
   "version": "3.10.6"
  }
 },
 "nbformat": 4,
 "nbformat_minor": 5
}
