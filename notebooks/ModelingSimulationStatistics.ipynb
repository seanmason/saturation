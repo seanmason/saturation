{
 "cells": [
  {
   "cell_type": "code",
   "execution_count": 59,
   "id": "55e0efce-6a46-44c6-8945-804d72b55b6c",
   "metadata": {},
   "outputs": [],
   "source": [
    "import matplotlib.pyplot as plt\n",
    "import plotly.express as px\n",
    "import plotly.io as pio\n",
    "\n",
    "from pathlib import Path\n",
    "import pandas as pd\n",
    "\n",
    "import statsmodels.api as sm\n",
    "import scipy.stats as stats\n",
    "\n",
    "import sklearn\n",
    "from sklearn.linear_model import LinearRegression\n",
    "from sklearn.ensemble import RandomForestRegressor\n",
    "from sklearn.ensemble import GradientBoostingRegressor\n",
    "\n",
    "from sklearn.model_selection import train_test_split\n",
    "from sklearn.metrics import *"
   ]
  },
  {
   "cell_type": "code",
   "execution_count": 60,
   "id": "d493bc87-832f-4806-92ca-e275f0dcf95e",
   "metadata": {},
   "outputs": [],
   "source": [
    "pio.renderers.default = \"iframe\""
   ]
  },
  {
   "cell_type": "code",
   "execution_count": 71,
   "id": "5c53298e-9414-4908-9ccc-c21ca98a8bf5",
   "metadata": {},
   "outputs": [],
   "source": [
    "# base_path = \"/data/saturation/random_runs_large_bungled\"\n",
    "# base_path = \"/data/saturation/random_runs_large\"\n",
    "# base_path = \"/data/saturation/r_stat_changes_messy\"\n",
    "# base_path = \"/data/saturation/r_stat_changes\"\n",
    "# base_path = \"/data/saturation/r_stat_changes_smaller_min\"\n",
    "# base_path = \"/data/saturation/central_composite_design/ccd3\"\n",
    "base_path = \"/data/saturation/central_composite_design/ccd4\"\n",
    "ivs = [\"slope\", \"effective_radius_multiplier\", \"r_stat_multiplier\", \"min_rim_percentage\"]"
   ]
  },
  {
   "cell_type": "code",
   "execution_count": 72,
   "id": "49f00a09-629a-4aac-84bc-047277229ada",
   "metadata": {},
   "outputs": [
    {
     "data": {
      "text/html": [
       "<div>\n",
       "<style scoped>\n",
       "    .dataframe tbody tr th:only-of-type {\n",
       "        vertical-align: middle;\n",
       "    }\n",
       "\n",
       "    .dataframe tbody tr th {\n",
       "        vertical-align: top;\n",
       "    }\n",
       "\n",
       "    .dataframe thead th {\n",
       "        text-align: right;\n",
       "    }\n",
       "</style>\n",
       "<table border=\"1\" class=\"dataframe\">\n",
       "  <thead>\n",
       "    <tr style=\"text-align: right;\">\n",
       "      <th></th>\n",
       "      <th>areal_density_1_percentile</th>\n",
       "      <th>areal_density_2_percentile</th>\n",
       "      <th>areal_density_3_percentile</th>\n",
       "      <th>areal_density_4_percentile</th>\n",
       "      <th>areal_density_5_percentile</th>\n",
       "      <th>areal_density_6_percentile</th>\n",
       "      <th>areal_density_7_percentile</th>\n",
       "      <th>areal_density_8_percentile</th>\n",
       "      <th>areal_density_9_percentile</th>\n",
       "      <th>areal_density_10_percentile</th>\n",
       "      <th>...</th>\n",
       "      <th>min_rim_percentage</th>\n",
       "      <th>areal_density_index_90_percentile_max</th>\n",
       "      <th>areal_density_index_95_percentile_max</th>\n",
       "      <th>areal_density_index_97_percentile_max</th>\n",
       "      <th>areal_density_index_99_percentile_max</th>\n",
       "      <th>areal_density_index_995_percentile_max</th>\n",
       "      <th>path</th>\n",
       "      <th>n_craters_at_completion</th>\n",
       "      <th>n_craters_saturation</th>\n",
       "      <th>run_duration_seconds</th>\n",
       "    </tr>\n",
       "  </thead>\n",
       "  <tbody>\n",
       "    <tr>\n",
       "      <th>0</th>\n",
       "      <td>0.214910</td>\n",
       "      <td>0.215802</td>\n",
       "      <td>0.216375</td>\n",
       "      <td>0.218411</td>\n",
       "      <td>0.226900</td>\n",
       "      <td>0.227179</td>\n",
       "      <td>0.227589</td>\n",
       "      <td>0.229509</td>\n",
       "      <td>0.229774</td>\n",
       "      <td>0.230107</td>\n",
       "      <td>...</td>\n",
       "      <td>0.303038</td>\n",
       "      <td>0.004056</td>\n",
       "      <td>0.004520</td>\n",
       "      <td>0.004520</td>\n",
       "      <td>0.004520</td>\n",
       "      <td>0.005006</td>\n",
       "      <td>/data/saturation/central_composite_design/ccd4...</td>\n",
       "      <td>500000</td>\n",
       "      <td>497232</td>\n",
       "      <td>2267.46</td>\n",
       "    </tr>\n",
       "    <tr>\n",
       "      <th>1</th>\n",
       "      <td>0.430176</td>\n",
       "      <td>0.433057</td>\n",
       "      <td>0.436613</td>\n",
       "      <td>0.439200</td>\n",
       "      <td>0.440679</td>\n",
       "      <td>0.442086</td>\n",
       "      <td>0.443254</td>\n",
       "      <td>0.444578</td>\n",
       "      <td>0.445701</td>\n",
       "      <td>0.446654</td>\n",
       "      <td>...</td>\n",
       "      <td>0.297486</td>\n",
       "      <td>0.086440</td>\n",
       "      <td>0.090926</td>\n",
       "      <td>0.094528</td>\n",
       "      <td>0.094930</td>\n",
       "      <td>0.098310</td>\n",
       "      <td>/data/saturation/central_composite_design/ccd4...</td>\n",
       "      <td>500000</td>\n",
       "      <td>235594</td>\n",
       "      <td>1248.05</td>\n",
       "    </tr>\n",
       "    <tr>\n",
       "      <th>2</th>\n",
       "      <td>0.581536</td>\n",
       "      <td>0.582109</td>\n",
       "      <td>0.583038</td>\n",
       "      <td>0.583200</td>\n",
       "      <td>0.583460</td>\n",
       "      <td>0.583594</td>\n",
       "      <td>0.583740</td>\n",
       "      <td>0.583886</td>\n",
       "      <td>0.583978</td>\n",
       "      <td>0.584127</td>\n",
       "      <td>...</td>\n",
       "      <td>0.498906</td>\n",
       "      <td>0.666908</td>\n",
       "      <td>0.670810</td>\n",
       "      <td>0.672269</td>\n",
       "      <td>0.699297</td>\n",
       "      <td>0.707623</td>\n",
       "      <td>/data/saturation/central_composite_design/ccd4...</td>\n",
       "      <td>596346</td>\n",
       "      <td>423577</td>\n",
       "      <td>5555.08</td>\n",
       "    </tr>\n",
       "    <tr>\n",
       "      <th>3</th>\n",
       "      <td>0.175753</td>\n",
       "      <td>0.183953</td>\n",
       "      <td>0.186645</td>\n",
       "      <td>0.196349</td>\n",
       "      <td>0.200808</td>\n",
       "      <td>0.202517</td>\n",
       "      <td>0.205036</td>\n",
       "      <td>0.207065</td>\n",
       "      <td>0.208939</td>\n",
       "      <td>0.210707</td>\n",
       "      <td>...</td>\n",
       "      <td>0.496452</td>\n",
       "      <td>0.103711</td>\n",
       "      <td>0.104020</td>\n",
       "      <td>0.105572</td>\n",
       "      <td>0.665635</td>\n",
       "      <td>0.665635</td>\n",
       "      <td>/data/saturation/central_composite_design/ccd4...</td>\n",
       "      <td>608913</td>\n",
       "      <td>522591</td>\n",
       "      <td>845.44</td>\n",
       "    </tr>\n",
       "    <tr>\n",
       "      <th>4</th>\n",
       "      <td>0.183548</td>\n",
       "      <td>0.191722</td>\n",
       "      <td>0.201123</td>\n",
       "      <td>0.210671</td>\n",
       "      <td>0.221206</td>\n",
       "      <td>0.226495</td>\n",
       "      <td>0.231780</td>\n",
       "      <td>0.235628</td>\n",
       "      <td>0.239513</td>\n",
       "      <td>0.245424</td>\n",
       "      <td>...</td>\n",
       "      <td>0.299489</td>\n",
       "      <td>0.010554</td>\n",
       "      <td>0.012424</td>\n",
       "      <td>0.012424</td>\n",
       "      <td>0.022340</td>\n",
       "      <td>0.098684</td>\n",
       "      <td>/data/saturation/central_composite_design/ccd4...</td>\n",
       "      <td>500000</td>\n",
       "      <td>469523</td>\n",
       "      <td>2365.33</td>\n",
       "    </tr>\n",
       "  </tbody>\n",
       "</table>\n",
       "<p>5 rows × 538 columns</p>\n",
       "</div>"
      ],
      "text/plain": [
       "   areal_density_1_percentile  areal_density_2_percentile  \\\n",
       "0                    0.214910                    0.215802   \n",
       "1                    0.430176                    0.433057   \n",
       "2                    0.581536                    0.582109   \n",
       "3                    0.175753                    0.183953   \n",
       "4                    0.183548                    0.191722   \n",
       "\n",
       "   areal_density_3_percentile  areal_density_4_percentile  \\\n",
       "0                    0.216375                    0.218411   \n",
       "1                    0.436613                    0.439200   \n",
       "2                    0.583038                    0.583200   \n",
       "3                    0.186645                    0.196349   \n",
       "4                    0.201123                    0.210671   \n",
       "\n",
       "   areal_density_5_percentile  areal_density_6_percentile  \\\n",
       "0                    0.226900                    0.227179   \n",
       "1                    0.440679                    0.442086   \n",
       "2                    0.583460                    0.583594   \n",
       "3                    0.200808                    0.202517   \n",
       "4                    0.221206                    0.226495   \n",
       "\n",
       "   areal_density_7_percentile  areal_density_8_percentile  \\\n",
       "0                    0.227589                    0.229509   \n",
       "1                    0.443254                    0.444578   \n",
       "2                    0.583740                    0.583886   \n",
       "3                    0.205036                    0.207065   \n",
       "4                    0.231780                    0.235628   \n",
       "\n",
       "   areal_density_9_percentile  areal_density_10_percentile  ...  \\\n",
       "0                    0.229774                     0.230107  ...   \n",
       "1                    0.445701                     0.446654  ...   \n",
       "2                    0.583978                     0.584127  ...   \n",
       "3                    0.208939                     0.210707  ...   \n",
       "4                    0.239513                     0.245424  ...   \n",
       "\n",
       "   min_rim_percentage  areal_density_index_90_percentile_max  \\\n",
       "0            0.303038                               0.004056   \n",
       "1            0.297486                               0.086440   \n",
       "2            0.498906                               0.666908   \n",
       "3            0.496452                               0.103711   \n",
       "4            0.299489                               0.010554   \n",
       "\n",
       "   areal_density_index_95_percentile_max  \\\n",
       "0                               0.004520   \n",
       "1                               0.090926   \n",
       "2                               0.670810   \n",
       "3                               0.104020   \n",
       "4                               0.012424   \n",
       "\n",
       "   areal_density_index_97_percentile_max  \\\n",
       "0                               0.004520   \n",
       "1                               0.094528   \n",
       "2                               0.672269   \n",
       "3                               0.105572   \n",
       "4                               0.012424   \n",
       "\n",
       "   areal_density_index_99_percentile_max  \\\n",
       "0                               0.004520   \n",
       "1                               0.094930   \n",
       "2                               0.699297   \n",
       "3                               0.665635   \n",
       "4                               0.022340   \n",
       "\n",
       "   areal_density_index_995_percentile_max  \\\n",
       "0                                0.005006   \n",
       "1                                0.098310   \n",
       "2                                0.707623   \n",
       "3                                0.665635   \n",
       "4                                0.098684   \n",
       "\n",
       "                                                path  n_craters_at_completion  \\\n",
       "0  /data/saturation/central_composite_design/ccd4...                   500000   \n",
       "1  /data/saturation/central_composite_design/ccd4...                   500000   \n",
       "2  /data/saturation/central_composite_design/ccd4...                   596346   \n",
       "3  /data/saturation/central_composite_design/ccd4...                   608913   \n",
       "4  /data/saturation/central_composite_design/ccd4...                   500000   \n",
       "\n",
       "   n_craters_saturation  run_duration_seconds  \n",
       "0                497232               2267.46  \n",
       "1                235594               1248.05  \n",
       "2                423577               5555.08  \n",
       "3                522591                845.44  \n",
       "4                469523               2365.33  \n",
       "\n",
       "[5 rows x 538 columns]"
      ]
     },
     "execution_count": 72,
     "metadata": {},
     "output_type": "execute_result"
    }
   ],
   "source": [
    "stats_df = pd.read_csv(f\"{base_path}/post_saturation_statistics_corners.csv\")\n",
    "# stats_df = pd.read_csv(f\"{base_path}/post_saturation_statistics_interior.csv\")\n",
    "stats_df.head()"
   ]
  },
  {
   "cell_type": "code",
   "execution_count": 73,
   "id": "36fc375e-4d56-4bd9-936a-b4c097b91460",
   "metadata": {},
   "outputs": [
    {
     "data": {
      "text/plain": [
       "<matplotlib.collections.PathCollection at 0x7fce0ffb6c20>"
      ]
     },
     "execution_count": 73,
     "metadata": {},
     "output_type": "execute_result"
    },
    {
     "data": {
      "image/png": "[encoded data removed]",
      "text/plain": [
       "<Figure size 432x288 with 1 Axes>"
      ]
     },
     "metadata": {
      "needs_background": "light"
     },
     "output_type": "display_data"
    }
   ],
   "source": [
    "plt.scatter(stats_df.n_craters_at_completion, stats_df.run_duration_seconds)"
   ]
  },
  {
   "cell_type": "markdown",
   "id": "783be127-0de8-4ea1-9bd0-d96155198226",
   "metadata": {},
   "source": [
    "### Visualizing 99th percentile post-saturation areal density"
   ]
  },
  {
   "cell_type": "markdown",
   "id": "e5da1b1b-d6dc-48c4-852d-ec2e07b9a5a7",
   "metadata": {},
   "source": [
    "Notes on simulation parameters:\n",
    "- Slope:\n",
    "    - Controls the SFD of new craters. Larger slope -> more smaller craters\n",
    "- R_stat multiplier:\n",
    "    - Affects the minimum crater size for statistics collection: R_stat = R_stat multiplier * R_min\n",
    "    - Range ~ 3-9\n",
    "    - Affects how large a new crater must be to affect an existing crater. R_existing / R_new < R_stat multiplier\n",
    "        - Larger R_stat multiplier -> more crater destruction\n",
    "- Min rim percentage:\n",
    "    - Controls how much of a crater's rim must be intact to remain in the record.\n",
    "    - Larger min rim percentage -> more crater destruction\n",
    "- Effective radius mutiplier:\n",
    "    - Represents the effect of ejecta\n",
    "    - Multiplies the radius of a new crater for the purposes of destroying existing craters' rims\n",
    "    - Larger effective radius multiplier -> more crater destruction\n",
    "    \n",
    "Generally - the more crater destruction, the lower the areal density at saturation.\n",
    "\n",
    "\n",
    "\n",
    "Questions for Dr. Kirchoff:\n",
    "- Is it reasonable to fix the minimum crater size for statistics (R_stat), and allow R_min to vary instead?\n",
    "- What are reasonable ranges for these four parameters?\n",
    "- May we assume researchers can specify a reasonable range for all four of these parameters for a given terrain?\n",
    "\n",
    "\n",
    "\n",
    "To do:\n",
    "- Review Squyres' explanation of R_stat\n",
    "- Normalize parameters' scales\n",
    "- Indicators on plots for higher destruction direction?\n",
    "- Look into effect sizes for linear models\n",
    "- If we build models using Za, AD, etc, when do they match?\n",
    "- Request a meeting with Dr. Kirchoff"
   ]
  },
  {
   "cell_type": "code",
   "execution_count": 75,
   "id": "7048b31f-e3fa-4f0a-818b-5eb05d1b004d",
   "metadata": {},
   "outputs": [],
   "source": [
    "metric = \"areal_density_median\""
   ]
  },
  {
   "cell_type": "code",
   "execution_count": 76,
   "id": "a228018f-aa0a-4c28-8489-228a7e686466",
   "metadata": {},
   "outputs": [
    {
     "data": {
      "text/html": [
       "<iframe\n",
       "    scrolling=\"no\"\n",
       "    width=\"1220px\"\n",
       "    height=\"820\"\n",
       "    src=\"iframe_figures/figure_76.html\"\n",
       "    frameborder=\"0\"\n",
       "    allowfullscreen\n",
       "></iframe>\n"
      ]
     },
     "metadata": {},
     "output_type": "display_data"
    }
   ],
   "source": [
    "# Normalize for coloring plot markers\n",
    "stats_df[\"marker_size\"] = 1\n",
    "hover_data = {\n",
    "    \"slope\": \":.3f\",\n",
    "    \"effective_radius_multiplier\": \":.3f\",\n",
    "    \"r_stat_multiplier\": \":.3f\",\n",
    "    \"min_rim_percentage\": \":.3f\",\n",
    "    metric : \":.3f\"\n",
    "}\n",
    "fig = px.scatter_matrix(\n",
    "    stats_df,\n",
    "    dimensions=ivs,\n",
    "    hover_data=hover_data,\n",
    "    color=metric,\n",
    "    size=\"marker_size\",\n",
    "    size_max=5,\n",
    "    width=1200,\n",
    "    height=800\n",
    ")\n",
    "fig.show()"
   ]
  },
  {
   "cell_type": "code",
   "execution_count": 77,
   "id": "47fa700b-ee07-4616-ba85-2ba56f52d81b",
   "metadata": {},
   "outputs": [
    {
     "data": {
      "text/html": [
       "<iframe\n",
       "    scrolling=\"no\"\n",
       "    width=\"1020px\"\n",
       "    height=\"1020\"\n",
       "    src=\"iframe_figures/figure_77.html\"\n",
       "    frameborder=\"0\"\n",
       "    allowfullscreen\n",
       "></iframe>\n"
      ]
     },
     "metadata": {},
     "output_type": "display_data"
    }
   ],
   "source": [
    "# Destructive parameters\n",
    "fig = px.scatter_3d(\n",
    "    stats_df,\n",
    "    x=\"min_rim_percentage\",\n",
    "    y=\"effective_radius_multiplier\",\n",
    "    z=\"r_stat_multiplier\",\n",
    "    color=metric,\n",
    "    size=\"marker_size\",\n",
    "    size_max=10,\n",
    "    hover_data=hover_data,\n",
    "    width=1000,\n",
    "    height=1000\n",
    ")\n",
    "fig.show()"
   ]
  },
  {
   "cell_type": "code",
   "execution_count": 218,
   "id": "4e87326a-f05f-43d9-9d65-1d525f35d120",
   "metadata": {},
   "outputs": [
    {
     "data": {
      "text/html": [
       "<iframe\n",
       "    scrolling=\"no\"\n",
       "    width=\"1020px\"\n",
       "    height=\"1020\"\n",
       "    src=\"iframe_figures/figure_218.html\"\n",
       "    frameborder=\"0\"\n",
       "    allowfullscreen\n",
       "></iframe>\n"
      ]
     },
     "metadata": {},
     "output_type": "display_data"
    }
   ],
   "source": [
    "fig = px.scatter_3d(\n",
    "    stats_df,\n",
    "    x=\"slope\",\n",
    "    y=\"effective_radius_multiplier\",\n",
    "    z=\"r_stat_multiplier\",\n",
    "    color=metric,\n",
    "    size=\"marker_size\",\n",
    "    size_max=10,\n",
    "    hover_data=hover_data,\n",
    "    width=1000,\n",
    "    height=1000\n",
    ")\n",
    "fig.show()"
   ]
  },
  {
   "cell_type": "code",
   "execution_count": 219,
   "id": "3991294f-f5da-414d-b1d9-bd96d8f3d33a",
   "metadata": {},
   "outputs": [
    {
     "data": {
      "text/html": [
       "<iframe\n",
       "    scrolling=\"no\"\n",
       "    width=\"1020px\"\n",
       "    height=\"1020\"\n",
       "    src=\"iframe_figures/figure_219.html\"\n",
       "    frameborder=\"0\"\n",
       "    allowfullscreen\n",
       "></iframe>\n"
      ]
     },
     "metadata": {},
     "output_type": "display_data"
    }
   ],
   "source": [
    "fig = px.scatter_3d(\n",
    "    stats_df,\n",
    "    x=\"slope\",\n",
    "    y=\"min_rim_percentage\",\n",
    "    z=\"r_stat_multiplier\",\n",
    "    color=metric,\n",
    "    size=\"marker_size\",\n",
    "    size_max=10,\n",
    "    hover_data=hover_data,\n",
    "    width=1000,\n",
    "    height=1000\n",
    ")\n",
    "fig.show()"
   ]
  },
  {
   "cell_type": "code",
   "execution_count": 220,
   "id": "3da60fc1-ec88-4730-b286-c8ca75de25c6",
   "metadata": {},
   "outputs": [
    {
     "data": {
      "text/html": [
       "<iframe\n",
       "    scrolling=\"no\"\n",
       "    width=\"1020px\"\n",
       "    height=\"1020\"\n",
       "    src=\"iframe_figures/figure_220.html\"\n",
       "    frameborder=\"0\"\n",
       "    allowfullscreen\n",
       "></iframe>\n"
      ]
     },
     "metadata": {},
     "output_type": "display_data"
    }
   ],
   "source": [
    "fig = px.scatter_3d(\n",
    "    stats_df,\n",
    "    x=\"slope\",\n",
    "    y=\"effective_radius_multiplier\",\n",
    "    z=\"min_rim_percentage\",\n",
    "    color=metric,\n",
    "    size=\"marker_size\",\n",
    "    size_max=10,\n",
    "    hover_data=hover_data,\n",
    "    width=1000,\n",
    "    height=1000\n",
    ")\n",
    "fig.show()"
   ]
  },
  {
   "cell_type": "code",
   "execution_count": null,
   "id": "01885dcb-5013-44ff-a80f-e7fa0e975dc4",
   "metadata": {},
   "outputs": [],
   "source": []
  },
  {
   "cell_type": "markdown",
   "id": "0ffa6d6e-a8e4-4e83-8844-19ebf9d2a282",
   "metadata": {},
   "source": [
    "### Linear regression model"
   ]
  },
  {
   "cell_type": "code",
   "execution_count": 50,
   "id": "ef4b7d47-a2db-443d-b0ac-ccd2536d8217",
   "metadata": {},
   "outputs": [],
   "source": [
    "def fit_and_report_model(model, data, dependent_variable, model_name):\n",
    "    # X = data[[\"slope\", \"effective_radius_multiplier\", \"r_stat_multiplier\", \"min_rim_percentage\"]].copy()\n",
    "    X = data.drop([dependent_variable], axis=1)\n",
    "    y = data[dependent_variable]\n",
    "\n",
    "    X_train, X_test, y_train, y_test = train_test_split(X, y, test_size=0.20, random_state=42)\n",
    "    model_fit = model.fit(X_train, y_train)\n",
    "    \n",
    "    y_pred = model.predict(X_train)\n",
    "    rmse = mean_squared_error(y_pred, y_train, squared=False)\n",
    "    mape = mean_absolute_percentage_error(y_pred, y_train)\n",
    "    print(f\"{model_name}: Train RMSE: {rmse:.4f}, Train MAPE: {mape:.4f}\")\n",
    "    \n",
    "    residuals = y_train - y_pred\n",
    "    plt.hist(residuals)\n",
    "    \n",
    "    ks_norm_p = stats.kstest(residuals, cdf=stats.norm.cdf).pvalue\n",
    "    ad_result = stats.anderson(residuals, dist=\"norm\")\n",
    "    print(f\"KS test p-value on training residuals: {ks_norm_p:.3f}\")\n",
    "    print(f\"AD test on training residuals: {ad_result.statistic:.3f}, critical values: {ad_result.critical_values}, significance levels: {ad_result.significance_level}\")\n",
    "    \n",
    "    y_pred = model.predict(X_test)\n",
    "    rmse = mean_squared_error(y_pred, y_test, squared=False)\n",
    "    mape = mean_absolute_percentage_error(y_pred, y_test)\n",
    "    print(f\"{model_name}: Test RMSE: {rmse:.4f}, Test MAPE: {mape:.4f}\")\n",
    "    \n",
    "    y_pred_mean_model = [y_train.mean()] * len(y_test)\n",
    "    rmse = mean_squared_error(y_pred_mean_model, y_test, squared=False)\n",
    "    mape = mean_absolute_percentage_error(y_pred_mean_model, y_test)\n",
    "    print(f\"Mean model: RMSE: {rmse:.4f}, MAPE: {mape:.4f}\")\n",
    "    \n",
    "    return model_fit"
   ]
  },
  {
   "cell_type": "markdown",
   "id": "b58f0ab7-ca90-4110-a46a-2958e77d37f6",
   "metadata": {},
   "source": [
    "#### Checking scatterplots"
   ]
  },
  {
   "cell_type": "code",
   "execution_count": 78,
   "id": "63c2d9d7-9f46-41cc-a00a-a05da71821a8",
   "metadata": {},
   "outputs": [
    {
     "data": {
      "image/png": "[encoded data removed]",
      "text/plain": [
       "<Figure size 432x288 with 1 Axes>"
      ]
     },
     "metadata": {
      "needs_background": "light"
     },
     "output_type": "display_data"
    },
    {
     "data": {
      "image/png": "[encoded data removed]",
      "text/plain": [
       "<Figure size 432x288 with 1 Axes>"
      ]
     },
     "metadata": {
      "needs_background": "light"
     },
     "output_type": "display_data"
    },
    {
     "data": {
      "image/png": "[encoded data removed]",
      "text/plain": [
       "<Figure size 432x288 with 1 Axes>"
      ]
     },
     "metadata": {
      "needs_background": "light"
     },
     "output_type": "display_data"
    },
    {
     "data": {
      "image/png": "[encoded data removed]",
      "text/plain": [
       "<Figure size 432x288 with 1 Axes>"
      ]
     },
     "metadata": {
      "needs_background": "light"
     },
     "output_type": "display_data"
    }
   ],
   "source": [
    "metric = \"areal_density_median\"\n",
    "series = stats_df[metric]\n",
    "\n",
    "for iv in ivs:\n",
    "    plt.scatter(stats_df[iv], series, s=1)\n",
    "    plt.xlabel(iv)\n",
    "    plt.ylabel(metric)\n",
    "    plt.show()"
   ]
  },
  {
   "cell_type": "code",
   "execution_count": 79,
   "id": "dff60f59-98d3-4277-b4ee-192473fc2da0",
   "metadata": {},
   "outputs": [
    {
     "data": {
      "image/png": "[encoded data removed]",
      "text/plain": [
       "<Figure size 432x288 with 1 Axes>"
      ]
     },
     "metadata": {
      "needs_background": "light"
     },
     "output_type": "display_data"
    },
    {
     "data": {
      "image/png": "[encoded data removed]",
      "text/plain": [
       "<Figure size 432x288 with 1 Axes>"
      ]
     },
     "metadata": {
      "needs_background": "light"
     },
     "output_type": "display_data"
    },
    {
     "data": {
      "image/png": "[encoded data removed]",
      "text/plain": [
       "<Figure size 432x288 with 1 Axes>"
      ]
     },
     "metadata": {
      "needs_background": "light"
     },
     "output_type": "display_data"
    },
    {
     "data": {
      "image/png": "[encoded data removed]",
      "text/plain": [
       "<Figure size 432x288 with 1 Axes>"
      ]
     },
     "metadata": {
      "needs_background": "light"
     },
     "output_type": "display_data"
    }
   ],
   "source": [
    "metric = \"areal_density_99_percentile\"\n",
    "series = stats_df[metric]\n",
    "\n",
    "for iv in ivs:\n",
    "    plt.scatter(stats_df[iv], series, s=1)\n",
    "    plt.xlabel(iv)\n",
    "    plt.ylabel(metric)\n",
    "    plt.show()"
   ]
  },
  {
   "cell_type": "markdown",
   "id": "5bf6f3d9-dfbc-4642-a051-c58935660674",
   "metadata": {},
   "source": [
    "AD_max = f(slope, min_rim, eff_rad, r_stat_mult)\n",
    "f(slope=1.8-2.0, min_rim=.4-.45, ....)\n",
    "AD_max in (0.4, 0.6)"
   ]
  },
  {
   "cell_type": "code",
   "execution_count": 80,
   "id": "692d02af-c4a2-4235-9d16-0a93b6b4d5f2",
   "metadata": {},
   "outputs": [
    {
     "name": "stdout",
     "output_type": "stream",
     "text": [
      "lm: Train RMSE: 0.0387, Train MAPE: 0.0877\n",
      "KS test p-value on training residuals: 0.000\n",
      "AD test on training residuals: 3.125, critical values: [0.565 0.643 0.772 0.9   1.071], significance levels: [15.  10.   5.   2.5  1. ]\n",
      "lm: Test RMSE: 0.0422, Test MAPE: 0.1247\n",
      "Mean model: RMSE: 0.1898, MAPE: 0.3549\n"
     ]
    },
    {
     "data": {
      "image/png": "[encoded data removed]",
      "text/plain": [
       "<Figure size 432x288 with 1 Axes>"
      ]
     },
     "metadata": {
      "needs_background": "light"
     },
     "output_type": "display_data"
    }
   ],
   "source": [
    "# Fit using sklearn\n",
    "model = LinearRegression(fit_intercept=True)\n",
    "model = fit_and_report_model(model, stats_df[ivs + [metric]], metric, \"lm\")"
   ]
  },
  {
   "cell_type": "code",
   "execution_count": 81,
   "id": "e98a5fd8-48b4-4769-9c3b-4ef1ca46febd",
   "metadata": {},
   "outputs": [],
   "source": [
    "poly_transform = sklearn.preprocessing.PolynomialFeatures(degree=2)\n",
    "X = poly_transform.fit_transform(stats_df[ivs])\n",
    "X = pd.DataFrame(X, columns=poly_transform.get_feature_names_out())\n",
    "X[metric] = stats_df[metric]"
   ]
  },
  {
   "cell_type": "code",
   "execution_count": 82,
   "id": "1dbf531b-6c6b-4a3b-b62a-eefe79c0c6e2",
   "metadata": {},
   "outputs": [
    {
     "name": "stdout",
     "output_type": "stream",
     "text": [
      "lm: Train RMSE: 0.0186, Train MAPE: 0.0280\n",
      "KS test p-value on training residuals: 0.000\n",
      "AD test on training residuals: 4.671, critical values: [0.565 0.643 0.772 0.9   1.071], significance levels: [15.  10.   5.   2.5  1. ]\n",
      "lm: Test RMSE: 0.0152, Test MAPE: 0.0308\n",
      "Mean model: RMSE: 0.1898, MAPE: 0.3549\n"
     ]
    },
    {
     "data": {
      "image/png": "[encoded data removed]",
      "text/plain": [
       "<Figure size 432x288 with 1 Axes>"
      ]
     },
     "metadata": {
      "needs_background": "light"
     },
     "output_type": "display_data"
    }
   ],
   "source": [
    "# Fit using sklearn\n",
    "model = LinearRegression(fit_intercept=True)\n",
    "model = fit_and_report_model(model, X, metric, \"lm\")"
   ]
  },
  {
   "cell_type": "code",
   "execution_count": 83,
   "id": "4d05d073-9172-4e29-9582-64485f542149",
   "metadata": {},
   "outputs": [
    {
     "data": {
      "text/html": [
       "<table class=\"simpletable\">\n",
       "<caption>OLS Regression Results</caption>\n",
       "<tr>\n",
       "  <th>Dep. Variable:</th>    <td>areal_density_99_percentile</td> <th>  R-squared:         </th> <td>   0.988</td> \n",
       "</tr>\n",
       "<tr>\n",
       "  <th>Model:</th>                        <td>OLS</td>             <th>  Adj. R-squared:    </th> <td>   0.988</td> \n",
       "</tr>\n",
       "<tr>\n",
       "  <th>Method:</th>                  <td>Least Squares</td>        <th>  F-statistic:       </th> <td>   2832.</td> \n",
       "</tr>\n",
       "<tr>\n",
       "  <th>Date:</th>                  <td>Mon, 23 Jan 2023</td>       <th>  Prob (F-statistic):</th> <td>5.49e-223</td>\n",
       "</tr>\n",
       "<tr>\n",
       "  <th>Time:</th>                      <td>18:38:23</td>           <th>  Log-Likelihood:    </th> <td>  621.07</td> \n",
       "</tr>\n",
       "<tr>\n",
       "  <th>No. Observations:</th>           <td>   243</td>            <th>  AIC:               </th> <td>  -1226.</td> \n",
       "</tr>\n",
       "<tr>\n",
       "  <th>Df Residuals:</th>               <td>   235</td>            <th>  BIC:               </th> <td>  -1198.</td> \n",
       "</tr>\n",
       "<tr>\n",
       "  <th>Df Model:</th>                   <td>     7</td>            <th>                     </th>     <td> </td>    \n",
       "</tr>\n",
       "<tr>\n",
       "  <th>Covariance Type:</th>           <td>nonrobust</td>          <th>                     </th>     <td> </td>    \n",
       "</tr>\n",
       "</table>\n",
       "<table class=\"simpletable\">\n",
       "<tr>\n",
       "                         <td></td>                           <th>coef</th>     <th>std err</th>      <th>t</th>      <th>P>|t|</th>  <th>[0.025</th>    <th>0.975]</th>  \n",
       "</tr>\n",
       "<tr>\n",
       "  <th>1</th>                                              <td>    2.4524</td> <td>    0.042</td> <td>   58.381</td> <td> 0.000</td> <td>    2.370</td> <td>    2.535</td>\n",
       "</tr>\n",
       "<tr>\n",
       "  <th>slope</th>                                          <td>   -0.0590</td> <td>    0.013</td> <td>   -4.581</td> <td> 0.000</td> <td>   -0.084</td> <td>   -0.034</td>\n",
       "</tr>\n",
       "<tr>\n",
       "  <th>effective_radius_multiplier</th>                    <td>   -1.5314</td> <td>    0.050</td> <td>  -30.555</td> <td> 0.000</td> <td>   -1.630</td> <td>   -1.433</td>\n",
       "</tr>\n",
       "<tr>\n",
       "  <th>min_rim_percentage</th>                             <td>   -1.2243</td> <td>    0.040</td> <td>  -30.257</td> <td> 0.000</td> <td>   -1.304</td> <td>   -1.145</td>\n",
       "</tr>\n",
       "<tr>\n",
       "  <th>slope^2</th>                                        <td>    0.0034</td> <td>    0.003</td> <td>    1.168</td> <td> 0.244</td> <td>   -0.002</td> <td>    0.009</td>\n",
       "</tr>\n",
       "<tr>\n",
       "  <th>slope min_rim_percentage</th>                       <td>   -0.0300</td> <td>    0.010</td> <td>   -3.098</td> <td> 0.002</td> <td>   -0.049</td> <td>   -0.011</td>\n",
       "</tr>\n",
       "<tr>\n",
       "  <th>effective_radius_multiplier^2</th>                  <td>    0.2903</td> <td>    0.016</td> <td>   17.890</td> <td> 0.000</td> <td>    0.258</td> <td>    0.322</td>\n",
       "</tr>\n",
       "<tr>\n",
       "  <th>effective_radius_multiplier min_rim_percentage</th> <td>    0.4916</td> <td>    0.023</td> <td>   21.401</td> <td> 0.000</td> <td>    0.446</td> <td>    0.537</td>\n",
       "</tr>\n",
       "</table>\n",
       "<table class=\"simpletable\">\n",
       "<tr>\n",
       "  <th>Omnibus:</th>       <td>45.172</td> <th>  Durbin-Watson:     </th> <td>   1.885</td>\n",
       "</tr>\n",
       "<tr>\n",
       "  <th>Prob(Omnibus):</th> <td> 0.000</td> <th>  Jarque-Bera (JB):  </th> <td> 226.706</td>\n",
       "</tr>\n",
       "<tr>\n",
       "  <th>Skew:</th>          <td>-0.588</td> <th>  Prob(JB):          </th> <td>5.91e-50</td>\n",
       "</tr>\n",
       "<tr>\n",
       "  <th>Kurtosis:</th>      <td> 7.583</td> <th>  Cond. No.          </th> <td>    380.</td>\n",
       "</tr>\n",
       "</table><br/><br/>Notes:<br/>[1] Standard Errors assume that the covariance matrix of the errors is correctly specified."
      ],
      "text/plain": [
       "<class 'statsmodels.iolib.summary.Summary'>\n",
       "\"\"\"\n",
       "                                 OLS Regression Results                                \n",
       "=======================================================================================\n",
       "Dep. Variable:     areal_density_99_percentile   R-squared:                       0.988\n",
       "Model:                                     OLS   Adj. R-squared:                  0.988\n",
       "Method:                          Least Squares   F-statistic:                     2832.\n",
       "Date:                         Mon, 23 Jan 2023   Prob (F-statistic):          5.49e-223\n",
       "Time:                                 18:38:23   Log-Likelihood:                 621.07\n",
       "No. Observations:                          243   AIC:                            -1226.\n",
       "Df Residuals:                              235   BIC:                            -1198.\n",
       "Df Model:                                    7                                         \n",
       "Covariance Type:                     nonrobust                                         \n",
       "==================================================================================================================\n",
       "                                                     coef    std err          t      P>|t|      [0.025      0.975]\n",
       "------------------------------------------------------------------------------------------------------------------\n",
       "1                                                  2.4524      0.042     58.381      0.000       2.370       2.535\n",
       "slope                                             -0.0590      0.013     -4.581      0.000      -0.084      -0.034\n",
       "effective_radius_multiplier                       -1.5314      0.050    -30.555      0.000      -1.630      -1.433\n",
       "min_rim_percentage                                -1.2243      0.040    -30.257      0.000      -1.304      -1.145\n",
       "slope^2                                            0.0034      0.003      1.168      0.244      -0.002       0.009\n",
       "slope min_rim_percentage                          -0.0300      0.010     -3.098      0.002      -0.049      -0.011\n",
       "effective_radius_multiplier^2                      0.2903      0.016     17.890      0.000       0.258       0.322\n",
       "effective_radius_multiplier min_rim_percentage     0.4916      0.023     21.401      0.000       0.446       0.537\n",
       "==============================================================================\n",
       "Omnibus:                       45.172   Durbin-Watson:                   1.885\n",
       "Prob(Omnibus):                  0.000   Jarque-Bera (JB):              226.706\n",
       "Skew:                          -0.588   Prob(JB):                     5.91e-50\n",
       "Kurtosis:                       7.583   Cond. No.                         380.\n",
       "==============================================================================\n",
       "\n",
       "Notes:\n",
       "[1] Standard Errors assume that the covariance matrix of the errors is correctly specified.\n",
       "\"\"\""
      ]
     },
     "execution_count": 83,
     "metadata": {},
     "output_type": "execute_result"
    }
   ],
   "source": [
    "exclude = {\n",
    "    metric,\n",
    "    \"r_stat_multiplier\",\n",
    "    \"slope effective_radius_multiplier\",\n",
    "    \"effective_radius_multiplier r_stat_multiplier\",\n",
    "    \"slope r_stat_multiplier\",\n",
    "    \"min_rim_percentage^2\",\n",
    "    \"r_stat_multiplier min_rim_percentage\",\n",
    "    \"r_stat_multiplier^2\"\n",
    "}\n",
    "model = sm.OLS(stats_df[metric], sm.add_constant(X[[x for x in X.columns if x not in exclude]]))\n",
    "result = model.fit()\n",
    "result.summary()"
   ]
  },
  {
   "cell_type": "code",
   "execution_count": null,
   "id": "1b9de193-7d97-45c6-9ae1-c638d5f8d1ac",
   "metadata": {},
   "outputs": [],
   "source": []
  },
  {
   "cell_type": "code",
   "execution_count": null,
   "id": "153ca124-fd59-42c3-8f22-55f23262027a",
   "metadata": {},
   "outputs": [],
   "source": []
  },
  {
   "cell_type": "code",
   "execution_count": 86,
   "id": "23e5960e-eee7-4c0c-890c-fb9d38ea8619",
   "metadata": {},
   "outputs": [
    {
     "name": "stdout",
     "output_type": "stream",
     "text": [
      "lm: Train RMSE: 0.0289, Train MAPE: 0.0575\n",
      "KS test p-value on training residuals: 0.000\n",
      "AD test on training residuals: 2.453, critical values: [0.565 0.643 0.772 0.9   1.071], significance levels: [15.  10.   5.   2.5  1. ]\n",
      "lm: Test RMSE: 0.0282, Test MAPE: 0.0697\n",
      "Mean model: RMSE: 0.1898, MAPE: 0.3549\n"
     ]
    },
    {
     "data": {
      "image/png": "[encoded data removed]",
      "text/plain": [
       "<Figure size 432x288 with 1 Axes>"
      ]
     },
     "metadata": {
      "needs_background": "light"
     },
     "output_type": "display_data"
    }
   ],
   "source": [
    "# Fit using sklearn\n",
    "model = LinearRegression(fit_intercept=True)\n",
    "model = fit_and_report_model(model, stats_df[[\n",
    "    #\"slope_effective_radius_multiplier\",\n",
    "                                                           \"slope_r_stat_multiplier\",\n",
    "                                                           #\"slope_min_rim_percentage\",\n",
    "                                                           #\"r_stat_multiplier_effective_radius_multiplier\", \n",
    "                                                           #\"r_stat_multiplier_min_rim_percentage\",\n",
    "                                                           \"effective_radius_multiplier_min_rim_percentage\",\n",
    "                                                           \"slope_effective_radius_multiplier_min_rim_percentage\",\n",
    "                                                           \"slope\",\n",
    "                                                           \"effective_radius_multiplier\",\n",
    "                                                           \"r_stat_multiplier\",\n",
    "                                                           \"min_rim_percentage\", metric]], metric, \"lm\")"
   ]
  },
  {
   "cell_type": "code",
   "execution_count": 87,
   "id": "a9ce5008-36a8-4023-8ae6-8657f1aa3385",
   "metadata": {},
   "outputs": [
    {
     "data": {
      "text/html": [
       "<table class=\"simpletable\">\n",
       "<caption>OLS Regression Results</caption>\n",
       "<tr>\n",
       "  <th>Dep. Variable:</th>    <td>areal_density_99_percentile</td> <th>  R-squared:         </th> <td>   0.989</td> \n",
       "</tr>\n",
       "<tr>\n",
       "  <th>Model:</th>                        <td>OLS</td>             <th>  Adj. R-squared:    </th> <td>   0.988</td> \n",
       "</tr>\n",
       "<tr>\n",
       "  <th>Method:</th>                  <td>Least Squares</td>        <th>  F-statistic:       </th> <td>   2583.</td> \n",
       "</tr>\n",
       "<tr>\n",
       "  <th>Date:</th>                  <td>Mon, 23 Jan 2023</td>       <th>  Prob (F-statistic):</th> <td>1.53e-223</td>\n",
       "</tr>\n",
       "<tr>\n",
       "  <th>Time:</th>                      <td>18:38:40</td>           <th>  Log-Likelihood:    </th> <td>  626.57</td> \n",
       "</tr>\n",
       "<tr>\n",
       "  <th>No. Observations:</th>           <td>   243</td>            <th>  AIC:               </th> <td>  -1235.</td> \n",
       "</tr>\n",
       "<tr>\n",
       "  <th>Df Residuals:</th>               <td>   234</td>            <th>  BIC:               </th> <td>  -1204.</td> \n",
       "</tr>\n",
       "<tr>\n",
       "  <th>Df Model:</th>                   <td>     8</td>            <th>                     </th>     <td> </td>    \n",
       "</tr>\n",
       "<tr>\n",
       "  <th>Covariance Type:</th>           <td>nonrobust</td>          <th>                     </th>     <td> </td>    \n",
       "</tr>\n",
       "</table>\n",
       "<table class=\"simpletable\">\n",
       "<tr>\n",
       "                            <td></td>                              <th>coef</th>     <th>std err</th>      <th>t</th>      <th>P>|t|</th>  <th>[0.025</th>    <th>0.975]</th>  \n",
       "</tr>\n",
       "<tr>\n",
       "  <th>const</th>                                                <td>    2.4390</td> <td>    0.040</td> <td>   60.405</td> <td> 0.000</td> <td>    2.359</td> <td>    2.519</td>\n",
       "</tr>\n",
       "<tr>\n",
       "  <th>slope_r_stat_multiplier</th>                              <td>    0.0001</td> <td>    0.001</td> <td>    0.171</td> <td> 0.865</td> <td>   -0.001</td> <td>    0.001</td>\n",
       "</tr>\n",
       "<tr>\n",
       "  <th>slope_effective_radius_multiplier_squared</th>            <td>    0.2903</td> <td>    0.016</td> <td>   18.259</td> <td> 0.000</td> <td>    0.259</td> <td>    0.322</td>\n",
       "</tr>\n",
       "<tr>\n",
       "  <th>effective_radius_multiplier_min_rim_percentage</th>       <td>    0.5401</td> <td>    0.025</td> <td>   21.721</td> <td> 0.000</td> <td>    0.491</td> <td>    0.589</td>\n",
       "</tr>\n",
       "<tr>\n",
       "  <th>slope_effective_radius_multiplier_min_rim_percentage</th> <td>   -0.0237</td> <td>    0.005</td> <td>   -4.582</td> <td> 0.000</td> <td>   -0.034</td> <td>   -0.014</td>\n",
       "</tr>\n",
       "<tr>\n",
       "  <th>slope</th>                                                <td>   -0.0430</td> <td>    0.006</td> <td>   -7.608</td> <td> 0.000</td> <td>   -0.054</td> <td>   -0.032</td>\n",
       "</tr>\n",
       "<tr>\n",
       "  <th>effective_radius_multiplier</th>                          <td>   -1.5313</td> <td>    0.049</td> <td>  -31.186</td> <td> 0.000</td> <td>   -1.628</td> <td>   -1.435</td>\n",
       "</tr>\n",
       "<tr>\n",
       "  <th>r_stat_multiplier</th>                                    <td>   -0.0008</td> <td>    0.001</td> <td>   -0.546</td> <td> 0.586</td> <td>   -0.003</td> <td>    0.002</td>\n",
       "</tr>\n",
       "<tr>\n",
       "  <th>min_rim_percentage</th>                                   <td>   -1.2856</td> <td>    0.035</td> <td>  -37.226</td> <td> 0.000</td> <td>   -1.354</td> <td>   -1.218</td>\n",
       "</tr>\n",
       "</table>\n",
       "<table class=\"simpletable\">\n",
       "<tr>\n",
       "  <th>Omnibus:</th>       <td>53.190</td> <th>  Durbin-Watson:     </th> <td>   1.858</td>\n",
       "</tr>\n",
       "<tr>\n",
       "  <th>Prob(Omnibus):</th> <td> 0.000</td> <th>  Jarque-Bera (JB):  </th> <td> 306.059</td>\n",
       "</tr>\n",
       "<tr>\n",
       "  <th>Skew:</th>          <td>-0.688</td> <th>  Prob(JB):          </th> <td>3.47e-67</td>\n",
       "</tr>\n",
       "<tr>\n",
       "  <th>Kurtosis:</th>      <td> 8.323</td> <th>  Cond. No.          </th> <td>    872.</td>\n",
       "</tr>\n",
       "</table><br/><br/>Notes:<br/>[1] Standard Errors assume that the covariance matrix of the errors is correctly specified."
      ],
      "text/plain": [
       "<class 'statsmodels.iolib.summary.Summary'>\n",
       "\"\"\"\n",
       "                                 OLS Regression Results                                \n",
       "=======================================================================================\n",
       "Dep. Variable:     areal_density_99_percentile   R-squared:                       0.989\n",
       "Model:                                     OLS   Adj. R-squared:                  0.988\n",
       "Method:                          Least Squares   F-statistic:                     2583.\n",
       "Date:                         Mon, 23 Jan 2023   Prob (F-statistic):          1.53e-223\n",
       "Time:                                 18:38:40   Log-Likelihood:                 626.57\n",
       "No. Observations:                          243   AIC:                            -1235.\n",
       "Df Residuals:                              234   BIC:                            -1204.\n",
       "Df Model:                                    8                                         \n",
       "Covariance Type:                     nonrobust                                         \n",
       "========================================================================================================================\n",
       "                                                           coef    std err          t      P>|t|      [0.025      0.975]\n",
       "------------------------------------------------------------------------------------------------------------------------\n",
       "const                                                    2.4390      0.040     60.405      0.000       2.359       2.519\n",
       "slope_r_stat_multiplier                                  0.0001      0.001      0.171      0.865      -0.001       0.001\n",
       "slope_effective_radius_multiplier_squared                0.2903      0.016     18.259      0.000       0.259       0.322\n",
       "effective_radius_multiplier_min_rim_percentage           0.5401      0.025     21.721      0.000       0.491       0.589\n",
       "slope_effective_radius_multiplier_min_rim_percentage    -0.0237      0.005     -4.582      0.000      -0.034      -0.014\n",
       "slope                                                   -0.0430      0.006     -7.608      0.000      -0.054      -0.032\n",
       "effective_radius_multiplier                             -1.5313      0.049    -31.186      0.000      -1.628      -1.435\n",
       "r_stat_multiplier                                       -0.0008      0.001     -0.546      0.586      -0.003       0.002\n",
       "min_rim_percentage                                      -1.2856      0.035    -37.226      0.000      -1.354      -1.218\n",
       "==============================================================================\n",
       "Omnibus:                       53.190   Durbin-Watson:                   1.858\n",
       "Prob(Omnibus):                  0.000   Jarque-Bera (JB):              306.059\n",
       "Skew:                          -0.688   Prob(JB):                     3.47e-67\n",
       "Kurtosis:                       8.323   Cond. No.                         872.\n",
       "==============================================================================\n",
       "\n",
       "Notes:\n",
       "[1] Standard Errors assume that the covariance matrix of the errors is correctly specified.\n",
       "\"\"\""
      ]
     },
     "execution_count": 87,
     "metadata": {},
     "output_type": "execute_result"
    }
   ],
   "source": [
    "# Fit using statsmodels for p-values\n",
    "stats_df[\"slope_effective_radius_multiplier\"] = stats_df.slope * stats_df.effective_radius_multiplier\n",
    "stats_df[\"slope_r_stat_multiplier\"] = stats_df.slope * stats_df.r_stat_multiplier\n",
    "stats_df[\"slope_min_rim_percentage\"] = stats_df.slope * stats_df.min_rim_percentage\n",
    "stats_df[\"r_stat_multiplier_effective_radius_multiplier\"] = stats_df.r_stat_multiplier * stats_df.effective_radius_multiplier\n",
    "stats_df[\"r_stat_multiplier_min_rim_percentage\"] = stats_df.r_stat_multiplier * stats_df.min_rim_percentage\n",
    "stats_df[\"effective_radius_multiplier_min_rim_percentage\"] = stats_df.min_rim_percentage * stats_df.effective_radius_multiplier\n",
    "stats_df[\"slope_effective_radius_multiplier_min_rim_percentage\"] = stats_df.slope * stats_df.min_rim_percentage * stats_df.effective_radius_multiplier\n",
    "stats_df[\"slope_effective_radius_multiplier_squared\"] = stats_df.effective_radius_multiplier * stats_df.effective_radius_multiplier\n",
    "\n",
    "model = sm.OLS(stats_df[metric], sm.add_constant(stats_df[[\n",
    "    #\"slope_effective_radius_multiplier\",\n",
    "                                                           \"slope_r_stat_multiplier\",\n",
    "                                                           \"slope_effective_radius_multiplier_squared\",\n",
    "                                                           #\"slope_min_rim_percentage\",\n",
    "                                                           #\"r_stat_multiplier_effective_radius_multiplier\", \n",
    "                                                           #\"r_stat_multiplier_min_rim_percentage\",\n",
    "                                                           \"effective_radius_multiplier_min_rim_percentage\",\n",
    "                                                           \"slope_effective_radius_multiplier_min_rim_percentage\",\n",
    "                                                           \"slope\",\n",
    "                                                           \"effective_radius_multiplier\",\n",
    "                                                           \"r_stat_multiplier\",\n",
    "                                                           \"min_rim_percentage\"]]))\n",
    "result = model.fit()\n",
    "result.summary()"
   ]
  },
  {
   "cell_type": "code",
   "execution_count": 88,
   "id": "89f70253-88c0-4239-bf31-4ecf077fe6de",
   "metadata": {},
   "outputs": [
    {
     "data": {
      "text/html": [
       "<table class=\"simpletable\">\n",
       "<caption>OLS Regression Results</caption>\n",
       "<tr>\n",
       "  <th>Dep. Variable:</th>    <td>areal_density_99_percentile</td> <th>  R-squared:         </th> <td>   0.949</td> \n",
       "</tr>\n",
       "<tr>\n",
       "  <th>Model:</th>                        <td>OLS</td>             <th>  Adj. R-squared:    </th> <td>   0.948</td> \n",
       "</tr>\n",
       "<tr>\n",
       "  <th>Method:</th>                  <td>Least Squares</td>        <th>  F-statistic:       </th> <td>   1102.</td> \n",
       "</tr>\n",
       "<tr>\n",
       "  <th>Date:</th>                  <td>Mon, 23 Jan 2023</td>       <th>  Prob (F-statistic):</th> <td>2.93e-152</td>\n",
       "</tr>\n",
       "<tr>\n",
       "  <th>Time:</th>                      <td>18:38:52</td>           <th>  Log-Likelihood:    </th> <td>  441.87</td> \n",
       "</tr>\n",
       "<tr>\n",
       "  <th>No. Observations:</th>           <td>   243</td>            <th>  AIC:               </th> <td>  -873.7</td> \n",
       "</tr>\n",
       "<tr>\n",
       "  <th>Df Residuals:</th>               <td>   238</td>            <th>  BIC:               </th> <td>  -856.3</td> \n",
       "</tr>\n",
       "<tr>\n",
       "  <th>Df Model:</th>                   <td>     4</td>            <th>                     </th>     <td> </td>    \n",
       "</tr>\n",
       "<tr>\n",
       "  <th>Covariance Type:</th>           <td>nonrobust</td>          <th>                     </th>     <td> </td>    \n",
       "</tr>\n",
       "</table>\n",
       "<table class=\"simpletable\">\n",
       "<tr>\n",
       "               <td></td>                  <th>coef</th>     <th>std err</th>      <th>t</th>      <th>P>|t|</th>  <th>[0.025</th>    <th>0.975]</th>  \n",
       "</tr>\n",
       "<tr>\n",
       "  <th>const</th>                       <td>    1.4839</td> <td>    0.017</td> <td>   87.451</td> <td> 0.000</td> <td>    1.450</td> <td>    1.517</td>\n",
       "</tr>\n",
       "<tr>\n",
       "  <th>slope</th>                       <td>   -0.0602</td> <td>    0.003</td> <td>  -18.308</td> <td> 0.000</td> <td>   -0.067</td> <td>   -0.054</td>\n",
       "</tr>\n",
       "<tr>\n",
       "  <th>effective_radius_multiplier</th> <td>   -0.4146</td> <td>    0.008</td> <td>  -53.209</td> <td> 0.000</td> <td>   -0.430</td> <td>   -0.399</td>\n",
       "</tr>\n",
       "<tr>\n",
       "  <th>r_stat_multiplier</th>           <td>   -0.0006</td> <td>    0.001</td> <td>   -0.549</td> <td> 0.584</td> <td>   -0.003</td> <td>    0.001</td>\n",
       "</tr>\n",
       "<tr>\n",
       "  <th>min_rim_percentage</th>          <td>   -0.5490</td> <td>    0.016</td> <td>  -35.209</td> <td> 0.000</td> <td>   -0.580</td> <td>   -0.518</td>\n",
       "</tr>\n",
       "</table>\n",
       "<table class=\"simpletable\">\n",
       "<tr>\n",
       "  <th>Omnibus:</th>       <td> 3.696</td> <th>  Durbin-Watson:     </th> <td>   1.753</td>\n",
       "</tr>\n",
       "<tr>\n",
       "  <th>Prob(Omnibus):</th> <td> 0.158</td> <th>  Jarque-Bera (JB):  </th> <td>   3.603</td>\n",
       "</tr>\n",
       "<tr>\n",
       "  <th>Skew:</th>          <td> 0.251</td> <th>  Prob(JB):          </th> <td>   0.165</td>\n",
       "</tr>\n",
       "<tr>\n",
       "  <th>Kurtosis:</th>      <td> 2.677</td> <th>  Cond. No.          </th> <td>    55.2</td>\n",
       "</tr>\n",
       "</table><br/><br/>Notes:<br/>[1] Standard Errors assume that the covariance matrix of the errors is correctly specified."
      ],
      "text/plain": [
       "<class 'statsmodels.iolib.summary.Summary'>\n",
       "\"\"\"\n",
       "                                 OLS Regression Results                                \n",
       "=======================================================================================\n",
       "Dep. Variable:     areal_density_99_percentile   R-squared:                       0.949\n",
       "Model:                                     OLS   Adj. R-squared:                  0.948\n",
       "Method:                          Least Squares   F-statistic:                     1102.\n",
       "Date:                         Mon, 23 Jan 2023   Prob (F-statistic):          2.93e-152\n",
       "Time:                                 18:38:52   Log-Likelihood:                 441.87\n",
       "No. Observations:                          243   AIC:                            -873.7\n",
       "Df Residuals:                              238   BIC:                            -856.3\n",
       "Df Model:                                    4                                         \n",
       "Covariance Type:                     nonrobust                                         \n",
       "===============================================================================================\n",
       "                                  coef    std err          t      P>|t|      [0.025      0.975]\n",
       "-----------------------------------------------------------------------------------------------\n",
       "const                           1.4839      0.017     87.451      0.000       1.450       1.517\n",
       "slope                          -0.0602      0.003    -18.308      0.000      -0.067      -0.054\n",
       "effective_radius_multiplier    -0.4146      0.008    -53.209      0.000      -0.430      -0.399\n",
       "r_stat_multiplier              -0.0006      0.001     -0.549      0.584      -0.003       0.001\n",
       "min_rim_percentage             -0.5490      0.016    -35.209      0.000      -0.580      -0.518\n",
       "==============================================================================\n",
       "Omnibus:                        3.696   Durbin-Watson:                   1.753\n",
       "Prob(Omnibus):                  0.158   Jarque-Bera (JB):                3.603\n",
       "Skew:                           0.251   Prob(JB):                        0.165\n",
       "Kurtosis:                       2.677   Cond. No.                         55.2\n",
       "==============================================================================\n",
       "\n",
       "Notes:\n",
       "[1] Standard Errors assume that the covariance matrix of the errors is correctly specified.\n",
       "\"\"\""
      ]
     },
     "execution_count": 88,
     "metadata": {},
     "output_type": "execute_result"
    }
   ],
   "source": [
    "model = sm.OLS(stats_df[metric], sm.add_constant(stats_df[ivs]))\n",
    "result = model.fit()\n",
    "result.summary()"
   ]
  },
  {
   "cell_type": "code",
   "execution_count": 89,
   "id": "9523f3b4-9dd5-4717-b7bd-bffb81190b42",
   "metadata": {},
   "outputs": [
    {
     "data": {
      "text/html": [
       "<table class=\"simpletable\">\n",
       "<caption>OLS Regression Results</caption>\n",
       "<tr>\n",
       "  <th>Dep. Variable:</th>    <td>areal_density_99_percentile</td> <th>  R-squared:         </th> <td>   0.989</td> \n",
       "</tr>\n",
       "<tr>\n",
       "  <th>Model:</th>                        <td>OLS</td>             <th>  Adj. R-squared:    </th> <td>   0.989</td> \n",
       "</tr>\n",
       "<tr>\n",
       "  <th>Method:</th>                  <td>Least Squares</td>        <th>  F-statistic:       </th> <td>   2610.</td> \n",
       "</tr>\n",
       "<tr>\n",
       "  <th>Date:</th>                  <td>Mon, 23 Jan 2023</td>       <th>  Prob (F-statistic):</th> <td>4.52e-224</td>\n",
       "</tr>\n",
       "<tr>\n",
       "  <th>Time:</th>                      <td>18:39:04</td>           <th>  Log-Likelihood:    </th> <td>  627.84</td> \n",
       "</tr>\n",
       "<tr>\n",
       "  <th>No. Observations:</th>           <td>   243</td>            <th>  AIC:               </th> <td>  -1238.</td> \n",
       "</tr>\n",
       "<tr>\n",
       "  <th>Df Residuals:</th>               <td>   234</td>            <th>  BIC:               </th> <td>  -1206.</td> \n",
       "</tr>\n",
       "<tr>\n",
       "  <th>Df Model:</th>                   <td>     8</td>            <th>                     </th>     <td> </td>    \n",
       "</tr>\n",
       "<tr>\n",
       "  <th>Covariance Type:</th>           <td>nonrobust</td>          <th>                     </th>     <td> </td>    \n",
       "</tr>\n",
       "</table>\n",
       "<table class=\"simpletable\">\n",
       "<tr>\n",
       "                            <td></td>                              <th>coef</th>     <th>std err</th>      <th>t</th>      <th>P>|t|</th>  <th>[0.025</th>    <th>0.975]</th>  \n",
       "</tr>\n",
       "<tr>\n",
       "  <th>const</th>                                                <td>    2.4589</td> <td>    0.042</td> <td>   59.036</td> <td> 0.000</td> <td>    2.377</td> <td>    2.541</td>\n",
       "</tr>\n",
       "<tr>\n",
       "  <th>slope_effective_radius_multiplier_squared</th>            <td>    0.2903</td> <td>    0.016</td> <td>   18.355</td> <td> 0.000</td> <td>    0.259</td> <td>    0.322</td>\n",
       "</tr>\n",
       "<tr>\n",
       "  <th>r_stat_multiplier_effective_radius_multiplier</th>        <td>    0.0024</td> <td>    0.001</td> <td>    1.576</td> <td> 0.116</td> <td>   -0.001</td> <td>    0.005</td>\n",
       "</tr>\n",
       "<tr>\n",
       "  <th>effective_radius_multiplier_min_rim_percentage</th>       <td>    0.5402</td> <td>    0.025</td> <td>   21.837</td> <td> 0.000</td> <td>    0.491</td> <td>    0.589</td>\n",
       "</tr>\n",
       "<tr>\n",
       "  <th>slope_effective_radius_multiplier_min_rim_percentage</th> <td>   -0.0237</td> <td>    0.005</td> <td>   -4.607</td> <td> 0.000</td> <td>   -0.034</td> <td>   -0.014</td>\n",
       "</tr>\n",
       "<tr>\n",
       "  <th>slope</th>                                                <td>   -0.0424</td> <td>    0.004</td> <td>  -10.185</td> <td> 0.000</td> <td>   -0.051</td> <td>   -0.034</td>\n",
       "</tr>\n",
       "<tr>\n",
       "  <th>effective_radius_multiplier</th>                          <td>   -1.5455</td> <td>    0.050</td> <td>  -31.117</td> <td> 0.000</td> <td>   -1.643</td> <td>   -1.448</td>\n",
       "</tr>\n",
       "<tr>\n",
       "  <th>r_stat_multiplier</th>                                    <td>   -0.0041</td> <td>    0.002</td> <td>   -1.774</td> <td> 0.077</td> <td>   -0.009</td> <td>    0.000</td>\n",
       "</tr>\n",
       "<tr>\n",
       "  <th>min_rim_percentage</th>                                   <td>   -1.2857</td> <td>    0.034</td> <td>  -37.421</td> <td> 0.000</td> <td>   -1.353</td> <td>   -1.218</td>\n",
       "</tr>\n",
       "</table>\n",
       "<table class=\"simpletable\">\n",
       "<tr>\n",
       "  <th>Omnibus:</th>       <td>54.838</td> <th>  Durbin-Watson:     </th> <td>   1.852</td>\n",
       "</tr>\n",
       "<tr>\n",
       "  <th>Prob(Omnibus):</th> <td> 0.000</td> <th>  Jarque-Bera (JB):  </th> <td> 323.415</td>\n",
       "</tr>\n",
       "<tr>\n",
       "  <th>Skew:</th>          <td>-0.709</td> <th>  Prob(JB):          </th> <td>5.91e-71</td>\n",
       "</tr>\n",
       "<tr>\n",
       "  <th>Kurtosis:</th>      <td> 8.471</td> <th>  Cond. No.          </th> <td>    696.</td>\n",
       "</tr>\n",
       "</table><br/><br/>Notes:<br/>[1] Standard Errors assume that the covariance matrix of the errors is correctly specified."
      ],
      "text/plain": [
       "<class 'statsmodels.iolib.summary.Summary'>\n",
       "\"\"\"\n",
       "                                 OLS Regression Results                                \n",
       "=======================================================================================\n",
       "Dep. Variable:     areal_density_99_percentile   R-squared:                       0.989\n",
       "Model:                                     OLS   Adj. R-squared:                  0.989\n",
       "Method:                          Least Squares   F-statistic:                     2610.\n",
       "Date:                         Mon, 23 Jan 2023   Prob (F-statistic):          4.52e-224\n",
       "Time:                                 18:39:04   Log-Likelihood:                 627.84\n",
       "No. Observations:                          243   AIC:                            -1238.\n",
       "Df Residuals:                              234   BIC:                            -1206.\n",
       "Df Model:                                    8                                         \n",
       "Covariance Type:                     nonrobust                                         \n",
       "========================================================================================================================\n",
       "                                                           coef    std err          t      P>|t|      [0.025      0.975]\n",
       "------------------------------------------------------------------------------------------------------------------------\n",
       "const                                                    2.4589      0.042     59.036      0.000       2.377       2.541\n",
       "slope_effective_radius_multiplier_squared                0.2903      0.016     18.355      0.000       0.259       0.322\n",
       "r_stat_multiplier_effective_radius_multiplier            0.0024      0.001      1.576      0.116      -0.001       0.005\n",
       "effective_radius_multiplier_min_rim_percentage           0.5402      0.025     21.837      0.000       0.491       0.589\n",
       "slope_effective_radius_multiplier_min_rim_percentage    -0.0237      0.005     -4.607      0.000      -0.034      -0.014\n",
       "slope                                                   -0.0424      0.004    -10.185      0.000      -0.051      -0.034\n",
       "effective_radius_multiplier                             -1.5455      0.050    -31.117      0.000      -1.643      -1.448\n",
       "r_stat_multiplier                                       -0.0041      0.002     -1.774      0.077      -0.009       0.000\n",
       "min_rim_percentage                                      -1.2857      0.034    -37.421      0.000      -1.353      -1.218\n",
       "==============================================================================\n",
       "Omnibus:                       54.838   Durbin-Watson:                   1.852\n",
       "Prob(Omnibus):                  0.000   Jarque-Bera (JB):              323.415\n",
       "Skew:                          -0.709   Prob(JB):                     5.91e-71\n",
       "Kurtosis:                       8.471   Cond. No.                         696.\n",
       "==============================================================================\n",
       "\n",
       "Notes:\n",
       "[1] Standard Errors assume that the covariance matrix of the errors is correctly specified.\n",
       "\"\"\""
      ]
     },
     "execution_count": 89,
     "metadata": {},
     "output_type": "execute_result"
    }
   ],
   "source": [
    "model = sm.OLS(stats_df[metric], sm.add_constant(stats_df[[\n",
    "    # \"slope_effective_radius_multiplier\",\n",
    "                                                           # \"slope_r_stat_multiplier\",\n",
    "                                                           \"slope_effective_radius_multiplier_squared\",\n",
    "                                                           # \"slope_min_rim_percentage\",\n",
    "                                                           \"r_stat_multiplier_effective_radius_multiplier\", \n",
    "                                                           # \"r_stat_multiplier_min_rim_percentage\",\n",
    "                                                           \"effective_radius_multiplier_min_rim_percentage\",\n",
    "                                                           \"slope_effective_radius_multiplier_min_rim_percentage\",\n",
    "                                                           \"slope\",\n",
    "                                                           \"effective_radius_multiplier\",\n",
    "                                                           \"r_stat_multiplier\",\n",
    "                                                           \"min_rim_percentage\"]]))\n",
    "result = model.fit()\n",
    "result.summary()"
   ]
  },
  {
   "cell_type": "code",
   "execution_count": 198,
   "id": "1dce5afa-bce9-489e-9c92-157d06c29565",
   "metadata": {},
   "outputs": [
    {
     "data": {
      "text/html": [
       "<table class=\"simpletable\">\n",
       "<caption>OLS Regression Results</caption>\n",
       "<tr>\n",
       "  <th>Dep. Variable:</th>    <td>areal_density_99_percentile</td> <th>  R-squared:         </th> <td>   0.960</td> \n",
       "</tr>\n",
       "<tr>\n",
       "  <th>Model:</th>                        <td>OLS</td>             <th>  Adj. R-squared:    </th> <td>   0.958</td> \n",
       "</tr>\n",
       "<tr>\n",
       "  <th>Method:</th>                  <td>Least Squares</td>        <th>  F-statistic:       </th> <td>   547.1</td> \n",
       "</tr>\n",
       "<tr>\n",
       "  <th>Date:</th>                  <td>Fri, 16 Dec 2022</td>       <th>  Prob (F-statistic):</th> <td>9.03e-108</td>\n",
       "</tr>\n",
       "<tr>\n",
       "  <th>Time:</th>                      <td>17:34:13</td>           <th>  Log-Likelihood:    </th> <td>  339.78</td> \n",
       "</tr>\n",
       "<tr>\n",
       "  <th>No. Observations:</th>           <td>   167</td>            <th>  AIC:               </th> <td>  -663.6</td> \n",
       "</tr>\n",
       "<tr>\n",
       "  <th>Df Residuals:</th>               <td>   159</td>            <th>  BIC:               </th> <td>  -638.6</td> \n",
       "</tr>\n",
       "<tr>\n",
       "  <th>Df Model:</th>                   <td>     7</td>            <th>                     </th>     <td> </td>    \n",
       "</tr>\n",
       "<tr>\n",
       "  <th>Covariance Type:</th>           <td>nonrobust</td>          <th>                     </th>     <td> </td>    \n",
       "</tr>\n",
       "</table>\n",
       "<table class=\"simpletable\">\n",
       "<tr>\n",
       "                            <td></td>                              <th>coef</th>     <th>std err</th>      <th>t</th>      <th>P>|t|</th>  <th>[0.025</th>    <th>0.975]</th>  \n",
       "</tr>\n",
       "<tr>\n",
       "  <th>const</th>                                                <td>    1.5685</td> <td>    0.045</td> <td>   34.743</td> <td> 0.000</td> <td>    1.479</td> <td>    1.658</td>\n",
       "</tr>\n",
       "<tr>\n",
       "  <th>slope_r_stat_multiplier</th>                              <td>   -0.0145</td> <td>    0.002</td> <td>   -8.410</td> <td> 0.000</td> <td>   -0.018</td> <td>   -0.011</td>\n",
       "</tr>\n",
       "<tr>\n",
       "  <th>effective_radius_multiplier_min_rim_percentage</th>       <td>    0.3759</td> <td>    0.048</td> <td>    7.862</td> <td> 0.000</td> <td>    0.281</td> <td>    0.470</td>\n",
       "</tr>\n",
       "<tr>\n",
       "  <th>slope_effective_radius_multiplier_min_rim_percentage</th> <td>   -0.0439</td> <td>    0.014</td> <td>   -3.062</td> <td> 0.003</td> <td>   -0.072</td> <td>   -0.016</td>\n",
       "</tr>\n",
       "<tr>\n",
       "  <th>slope</th>                                                <td>    0.1097</td> <td>    0.016</td> <td>    6.662</td> <td> 0.000</td> <td>    0.077</td> <td>    0.142</td>\n",
       "</tr>\n",
       "<tr>\n",
       "  <th>effective_radius_multiplier</th>                          <td>   -0.5171</td> <td>    0.023</td> <td>  -22.275</td> <td> 0.000</td> <td>   -0.563</td> <td>   -0.471</td>\n",
       "</tr>\n",
       "<tr>\n",
       "  <th>r_stat_multiplier</th>                                    <td>    0.0058</td> <td>    0.003</td> <td>    2.151</td> <td> 0.033</td> <td>    0.000</td> <td>    0.011</td>\n",
       "</tr>\n",
       "<tr>\n",
       "  <th>min_rim_percentage</th>                                   <td>   -1.0094</td> <td>    0.069</td> <td>  -14.531</td> <td> 0.000</td> <td>   -1.147</td> <td>   -0.872</td>\n",
       "</tr>\n",
       "</table>\n",
       "<table class=\"simpletable\">\n",
       "<tr>\n",
       "  <th>Omnibus:</th>       <td>13.706</td> <th>  Durbin-Watson:     </th> <td>   1.643</td>\n",
       "</tr>\n",
       "<tr>\n",
       "  <th>Prob(Omnibus):</th> <td> 0.001</td> <th>  Jarque-Bera (JB):  </th> <td>  15.641</td>\n",
       "</tr>\n",
       "<tr>\n",
       "  <th>Skew:</th>          <td>-0.594</td> <th>  Prob(JB):          </th> <td>0.000401</td>\n",
       "</tr>\n",
       "<tr>\n",
       "  <th>Kurtosis:</th>      <td> 3.914</td> <th>  Cond. No.          </th> <td>    460.</td>\n",
       "</tr>\n",
       "</table><br/><br/>Notes:<br/>[1] Standard Errors assume that the covariance matrix of the errors is correctly specified."
      ],
      "text/plain": [
       "<class 'statsmodels.iolib.summary.Summary'>\n",
       "\"\"\"\n",
       "                                 OLS Regression Results                                \n",
       "=======================================================================================\n",
       "Dep. Variable:     areal_density_99_percentile   R-squared:                       0.960\n",
       "Model:                                     OLS   Adj. R-squared:                  0.958\n",
       "Method:                          Least Squares   F-statistic:                     547.1\n",
       "Date:                         Fri, 16 Dec 2022   Prob (F-statistic):          9.03e-108\n",
       "Time:                                 17:34:13   Log-Likelihood:                 339.78\n",
       "No. Observations:                          167   AIC:                            -663.6\n",
       "Df Residuals:                              159   BIC:                            -638.6\n",
       "Df Model:                                    7                                         \n",
       "Covariance Type:                     nonrobust                                         \n",
       "========================================================================================================================\n",
       "                                                           coef    std err          t      P>|t|      [0.025      0.975]\n",
       "------------------------------------------------------------------------------------------------------------------------\n",
       "const                                                    1.5685      0.045     34.743      0.000       1.479       1.658\n",
       "slope_r_stat_multiplier                                 -0.0145      0.002     -8.410      0.000      -0.018      -0.011\n",
       "effective_radius_multiplier_min_rim_percentage           0.3759      0.048      7.862      0.000       0.281       0.470\n",
       "slope_effective_radius_multiplier_min_rim_percentage    -0.0439      0.014     -3.062      0.003      -0.072      -0.016\n",
       "slope                                                    0.1097      0.016      6.662      0.000       0.077       0.142\n",
       "effective_radius_multiplier                             -0.5171      0.023    -22.275      0.000      -0.563      -0.471\n",
       "r_stat_multiplier                                        0.0058      0.003      2.151      0.033       0.000       0.011\n",
       "min_rim_percentage                                      -1.0094      0.069    -14.531      0.000      -1.147      -0.872\n",
       "==============================================================================\n",
       "Omnibus:                       13.706   Durbin-Watson:                   1.643\n",
       "Prob(Omnibus):                  0.001   Jarque-Bera (JB):               15.641\n",
       "Skew:                          -0.594   Prob(JB):                     0.000401\n",
       "Kurtosis:                       3.914   Cond. No.                         460.\n",
       "==============================================================================\n",
       "\n",
       "Notes:\n",
       "[1] Standard Errors assume that the covariance matrix of the errors is correctly specified.\n",
       "\"\"\""
      ]
     },
     "execution_count": 198,
     "metadata": {},
     "output_type": "execute_result"
    }
   ],
   "source": [
    "# Fit using statsmodels for p-values\n",
    "stats_df[\"slope_effective_radius_multiplier\"] = stats_df.slope * stats_df.effective_radius_multiplier\n",
    "stats_df[\"slope_r_stat_multiplier\"] = stats_df.slope * stats_df.r_stat_multiplier\n",
    "stats_df[\"slope_min_rim_percentage\"] = stats_df.slope * stats_df.min_rim_percentage\n",
    "stats_df[\"r_stat_multiplier_effective_radius_multiplier\"] = stats_df.r_stat_multiplier * stats_df.effective_radius_multiplier\n",
    "stats_df[\"r_stat_multiplier_min_rim_percentage\"] = stats_df.r_stat_multiplier * stats_df.min_rim_percentage\n",
    "stats_df[\"effective_radius_multiplier_min_rim_percentage\"] = stats_df.min_rim_percentage * stats_df.effective_radius_multiplier\n",
    "stats_df[\"slope_effective_radius_multiplier_min_rim_percentage\"] = stats_df.slope * stats_df.min_rim_percentage * stats_df.effective_radius_multiplier\n",
    "\n",
    "model = sm.OLS(stats_df[metric], sm.add_constant(stats_df[[\n",
    "    # \"slope_effective_radius_multiplier\",\n",
    "                                                           \"slope_r_stat_multiplier\",\n",
    "                                                           # \"slope_min_rim_percentage\",\n",
    "                                                           # \"r_stat_multiplier_effective_radius_multiplier\", \n",
    "                                                           # \"r_stat_multiplier_min_rim_percentage\",\n",
    "                                                           \"effective_radius_multiplier_min_rim_percentage\",\n",
    "                                                           \"slope_effective_radius_multiplier_min_rim_percentage\",\n",
    "                                                           \"slope\",\n",
    "                                                           \"effective_radius_multiplier\",\n",
    "                                                           \"r_stat_multiplier\",\n",
    "                                                           \"min_rim_percentage\"]]))\n",
    "result = model.fit()\n",
    "result.summary()"
   ]
  },
  {
   "cell_type": "code",
   "execution_count": null,
   "id": "bfab840c-3564-4a8d-a9fd-5168973b95b9",
   "metadata": {},
   "outputs": [],
   "source": []
  },
  {
   "cell_type": "markdown",
   "id": "54d882f4-c046-43d0-bf2c-e38542a13b28",
   "metadata": {},
   "source": [
    "### Random forest model"
   ]
  },
  {
   "cell_type": "code",
   "execution_count": 451,
   "id": "8cf54df6-61b5-4f04-bce5-78eb3bab80a4",
   "metadata": {},
   "outputs": [
    {
     "name": "stdout",
     "output_type": "stream",
     "text": [
      "RF(5, 5000): Train RMSE: 0.0165, Train MAPE: 0.0251\n",
      "KS test p-value on training residuals: 0.000\n",
      "AD test on training residuals: 4.782, critical values: [0.569 0.649 0.778 0.908 1.08 ], significance levels: [15.  10.   5.   2.5  1. ]\n",
      "RF(5, 5000): Test RMSE: 0.0209, Test MAPE: 0.0338\n",
      "Mean model: RMSE: 0.1689, MAPE: 0.2659\n"
     ]
    },
    {
     "data": {
      "image/png": "[encoded data removed]",
      "text/plain": [
       "<Figure size 432x288 with 1 Axes>"
      ]
     },
     "metadata": {
      "needs_background": "light"
     },
     "output_type": "display_data"
    }
   ],
   "source": [
    "max_depth = 5\n",
    "n_estimators = 5000\n",
    "\n",
    "model = RandomForestRegressor(max_depth=max_depth,\n",
    "                              n_estimators=n_estimators,\n",
    "                              random_state=42)\n",
    "model_fit = fit_and_report_model(model, stats_df, metric, f\"RF({max_depth}, {n_estimators})\")"
   ]
  },
  {
   "cell_type": "code",
   "execution_count": null,
   "id": "a127a355-df6e-47e7-863f-6f76d3614f9b",
   "metadata": {},
   "outputs": [],
   "source": []
  },
  {
   "cell_type": "markdown",
   "id": "e195c88f-4cd5-4a05-909a-12fec161f35a",
   "metadata": {},
   "source": [
    "### Gradient boosted trees model"
   ]
  },
  {
   "cell_type": "code",
   "execution_count": 452,
   "id": "4e101a31-85b7-42a3-8d9b-867c777f91a0",
   "metadata": {},
   "outputs": [
    {
     "name": "stdout",
     "output_type": "stream",
     "text": [
      "GBT(3, 500): Train RMSE: 0.0028, Train MAPE: 0.0045\n",
      "KS test p-value on training residuals: 0.000\n",
      "AD test on training residuals: 1.278, critical values: [0.569 0.649 0.778 0.908 1.08 ], significance levels: [15.  10.   5.   2.5  1. ]\n",
      "GBT(3, 500): Test RMSE: 0.0232, Test MAPE: 0.0394\n",
      "Mean model: RMSE: 0.1689, MAPE: 0.2659\n"
     ]
    },
    {
     "data": {
      "image/png": "[encoded data removed]",
      "text/plain": [
       "<Figure size 432x288 with 1 Axes>"
      ]
     },
     "metadata": {
      "needs_background": "light"
     },
     "output_type": "display_data"
    }
   ],
   "source": [
    "max_depth = 3\n",
    "n_estimators = 500\n",
    "\n",
    "model = GradientBoostingRegressor(max_depth=max_depth,\n",
    "                                  n_estimators=n_estimators,\n",
    "                                  random_state=42)\n",
    "model_fit = fit_and_report_model(model, stats_df, metric, f\"GBT({max_depth}, {n_estimators})\")"
   ]
  },
  {
   "cell_type": "code",
   "execution_count": null,
   "id": "fea63081-892c-4042-8c5d-e8432aed5bcb",
   "metadata": {},
   "outputs": [],
   "source": []
  },
  {
   "cell_type": "code",
   "execution_count": null,
   "id": "4881eb56-d594-435e-b696-6e90d50db457",
   "metadata": {},
   "outputs": [],
   "source": []
  },
  {
   "cell_type": "markdown",
   "id": "717a1800-cd43-465f-a146-258e465f9693",
   "metadata": {},
   "source": [
    "### Plotting a single simulation's statistics"
   ]
  },
  {
   "cell_type": "code",
   "execution_count": 336,
   "id": "898357f3-bec3-443d-ae93-a063d029c6e1",
   "metadata": {},
   "outputs": [],
   "source": [
    "def read_stats_parquets(path: str) -> pd.DataFrame:\n",
    "    # Read all statistics parquet files\n",
    "    filenames = Path(path).glob(\"statistics*.parquet\")\n",
    "    dataframes = []\n",
    "    for filename in filenames:\n",
    "        df = pd.read_parquet(filename)\n",
    "        dataframes.append(df)\n",
    "    df = pd.concat(dataframes)\n",
    "    df = df.sort_values(by=[\"crater_id\"]).reset_index(drop=True)\n",
    "    \n",
    "    return df\n",
    "\n",
    "def get_path(slope: float,\n",
    "             effective_radius_multiplier: float,\n",
    "             r_stat_multiplier: float,\n",
    "             min_rim_percentage: float,\n",
    "             base_path: str,\n",
    "             prefix: str = \"interior_point\") -> pd.DataFrame:\n",
    "    return f\"{base_path}/{prefix}_{effective_radius_multiplier:.3f}_{min_rim_percentage:.3f}_{r_stat_multiplier:.3f}_{slope:.3f}/1/\"\n"
   ]
  },
  {
   "cell_type": "code",
   "execution_count": 340,
   "id": "35bc07f0-8469-48a9-9a6b-ae76330ce772",
   "metadata": {},
   "outputs": [
    {
     "data": {
      "image/png": "[encoded data removed]",
      "text/plain": [
       "<Figure size 432x288 with 1 Axes>"
      ]
     },
     "metadata": {
      "needs_background": "light"
     },
     "output_type": "display_data"
    },
    {
     "data": {
      "image/png": "[encoded data removed]",
      "text/plain": [
       "<Figure size 432x288 with 1 Axes>"
      ]
     },
     "metadata": {
      "needs_background": "light"
     },
     "output_type": "display_data"
    },
    {
     "data": {
      "image/png": "[encoded data removed]",
      "text/plain": [
       "<Figure size 432x288 with 1 Axes>"
      ]
     },
     "metadata": {
      "needs_background": "light"
     },
     "output_type": "display_data"
    }
   ],
   "source": [
    "paths = list(Path(base_path).glob(\"corner*/1/\"))\n",
    "\n",
    "for path in paths[-3:]:\n",
    "    df = read_stats_parquets(path)\n",
    "    plt.plot(df.n_craters_added_in_study_region, df.areal_density)\n",
    "    plt.title(path)\n",
    "    plt.show()"
   ]
  },
  {
   "cell_type": "code",
   "execution_count": 342,
   "id": "35d3a914-090f-4fb1-b652-93dd7017100c",
   "metadata": {},
   "outputs": [
    {
     "name": "stdout",
     "output_type": "stream",
     "text": [
      "/data/saturation/random_runs_large/corner_point_1.314_0.292_4.989_2.497/1, 0.516\n",
      "/data/saturation/random_runs_large/corner_point_1.899_0.321_8.997_2.494/1, 0.431\n",
      "/data/saturation/random_runs_large/corner_point_1.888_0.310_9.005_2.494/1, 0.155\n",
      "/data/saturation/random_runs_large/corner_point_1.907_0.308_8.993_2.505/1, 0.667\n",
      "/data/saturation/random_runs_large/corner_point_1.910_0.313_9.002_1.013/1, 0.667\n",
      "/data/saturation/random_runs_large/corner_point_1.913_0.708_4.998_2.520/1, 0.503\n",
      "/data/saturation/random_runs_large/corner_point_1.907_0.699_4.992_2.507/1, 0.253\n",
      "/data/saturation/random_runs_large/corner_point_1.298_0.703_9.001_2.505/1, 0.647\n",
      "/data/saturation/random_runs_large/corner_point_1.917_0.718_5.003_2.489/1, 0.667\n",
      "/data/saturation/random_runs_large/corner_point_1.904_0.299_4.989_2.500/1, 0.667\n",
      "/data/saturation/random_runs_large/corner_point_1.310_0.708_8.992_1.011/1, 0.338\n",
      "/data/saturation/random_runs_large/corner_point_1.909_0.709_9.013_0.998/1, 0.351\n",
      "/data/saturation/random_runs_large/corner_point_1.903_0.311_8.999_1.011/1, 0.667\n",
      "/data/saturation/random_runs_large/corner_point_1.305_0.296_8.984_2.491/1, 0.667\n",
      "/data/saturation/random_runs_large/corner_point_1.302_0.690_5.003_2.495/1, 0.571\n",
      "/data/saturation/random_runs_large/corner_point_1.910_0.297_5.007_2.505/1, 0.667\n",
      "/data/saturation/random_runs_large/corner_point_1.298_0.312_9.015_2.494/1, 0.667\n",
      "/data/saturation/random_runs_large/corner_point_1.889_0.315_4.991_1.007/1, 0.328\n",
      "/data/saturation/random_runs_large/corner_point_1.279_0.696_5.007_2.516/1, 0.389\n",
      "/data/saturation/random_runs_large/corner_point_1.308_0.317_4.993_1.013/1, 0.667\n",
      "/data/saturation/random_runs_large/corner_point_1.317_0.296_8.998_2.491/1, 0.792\n",
      "/data/saturation/random_runs_large/corner_point_1.307_0.707_4.982_2.507/1, 0.667\n",
      "/data/saturation/random_runs_large/corner_point_1.293_0.282_9.010_1.000/1, 0.667\n",
      "/data/saturation/random_runs_large/corner_point_1.889_0.708_9.004_1.009/1, 0.430\n",
      "/data/saturation/random_runs_large/corner_point_1.897_0.705_8.993_2.489/1, 0.667\n",
      "/data/saturation/random_runs_large/corner_point_1.900_0.285_9.002_0.999/1, 0.506\n",
      "/data/saturation/random_runs_large/corner_point_1.893_0.685_5.008_2.505/1, 0.627\n",
      "/data/saturation/random_runs_large/corner_point_1.896_0.707_5.006_2.485/1, 0.667\n",
      "/data/saturation/random_runs_large/corner_point_1.904_0.696_4.987_2.490/1, 0.352\n",
      "/data/saturation/random_runs_large/corner_point_1.290_0.693_8.993_1.000/1, 0.024\n",
      "/data/saturation/random_runs_large/corner_point_1.290_0.287_5.022_1.010/1, 0.407\n",
      "/data/saturation/random_runs_large/corner_point_1.304_0.309_8.998_1.010/1, 0.623\n",
      "/data/saturation/random_runs_large/corner_point_1.318_0.705_9.000_2.486/1, 0.667\n",
      "/data/saturation/random_runs_large/corner_point_1.303_0.703_5.009_2.504/1, 0.667\n",
      "/data/saturation/random_runs_large/corner_point_1.883_0.300_8.993_2.508/1, 0.667\n",
      "/data/saturation/random_runs_large/corner_point_1.892_0.307_8.990_2.498/1, 0.667\n",
      "/data/saturation/random_runs_large/corner_point_1.302_0.283_5.002_2.496/1, 0.667\n",
      "/data/saturation/random_runs_large/corner_point_1.302_0.692_9.017_2.510/1, 0.667\n",
      "/data/saturation/random_runs_large/corner_point_1.276_0.295_8.999_1.007/1, 0.667\n",
      "/data/saturation/random_runs_large/corner_point_1.303_0.304_9.009_1.000/1, 0.625\n",
      "/data/saturation/random_runs_large/corner_point_1.885_0.699_8.996_2.510/1, 0.667\n",
      "/data/saturation/random_runs_large/corner_point_1.908_0.693_5.013_0.999/1, 0.904\n",
      "/data/saturation/random_runs_large/corner_point_1.884_0.272_9.015_0.997/1, 0.657\n",
      "/data/saturation/random_runs_large/corner_point_1.300_0.692_5.004_1.009/1, 0.449\n",
      "/data/saturation/random_runs_large/corner_point_1.296_0.705_8.989_1.006/1, 0.618\n",
      "/data/saturation/random_runs_large/corner_point_1.303_0.291_5.007_1.000/1, 0.667\n",
      "/data/saturation/random_runs_large/corner_point_1.314_0.296_8.986_2.503/1, 0.588\n",
      "/data/saturation/random_runs_large/corner_point_1.903_0.302_9.016_1.002/1, 0.667\n",
      "/data/saturation/random_runs_large/corner_point_1.884_0.713_5.005_1.001/1, 0.667\n",
      "/data/saturation/random_runs_large/corner_point_1.902_0.698_5.002_0.997/1, 0.832\n",
      "/data/saturation/random_runs_large/corner_point_1.300_0.309_4.988_2.496/1, 0.667\n",
      "/data/saturation/random_runs_large/corner_point_1.282_0.284_4.990_2.495/1, 0.667\n",
      "/data/saturation/random_runs_large/corner_point_1.906_0.309_9.004_2.499/1, 0.667\n",
      "/data/saturation/random_runs_large/corner_point_1.316_0.693_4.986_0.997/1, 0.478\n",
      "/data/saturation/random_runs_large/corner_point_1.304_0.708_9.003_2.510/1, 0.522\n",
      "/data/saturation/random_runs_large/corner_point_1.311_0.300_4.992_1.017/1, 0.667\n",
      "/data/saturation/random_runs_large/corner_point_1.904_0.716_8.991_1.000/1, 0.849\n",
      "/data/saturation/random_runs_large/corner_point_1.317_0.704_8.995_2.495/1, 0.667\n",
      "/data/saturation/random_runs_large/corner_point_1.897_0.310_4.993_2.504/1, 0.667\n",
      "/data/saturation/random_runs_large/corner_point_1.303_0.706_4.996_1.010/1, 0.177\n",
      "/data/saturation/random_runs_large/corner_point_1.293_0.697_9.013_2.496/1, 0.667\n",
      "/data/saturation/random_runs_large/corner_point_1.895_0.297_4.988_2.504/1, 0.443\n",
      "/data/saturation/random_runs_large/corner_point_1.892_0.300_5.003_2.494/1, 0.667\n",
      "/data/saturation/random_runs_large/corner_point_1.308_0.291_5.002_2.500/1, 0.667\n",
      "/data/saturation/random_runs_large/corner_point_1.311_0.685_8.999_1.000/1, 0.374\n",
      "/data/saturation/random_runs_large/corner_point_1.918_0.310_9.001_1.004/1, 0.667\n",
      "/data/saturation/random_runs_large/corner_point_1.311_0.301_9.016_1.002/1, 0.580\n",
      "/data/saturation/random_runs_large/corner_point_1.315_0.711_8.993_2.518/1, 0.667\n",
      "/data/saturation/random_runs_large/corner_point_1.307_0.302_5.014_2.481/1, 0.667\n",
      "/data/saturation/random_runs_large/corner_point_1.306_0.706_5.003_0.999/1, 0.667\n",
      "/data/saturation/random_runs_large/corner_point_1.298_0.705_9.015_2.502/1, 0.397\n",
      "/data/saturation/random_runs_large/corner_point_1.303_0.318_8.984_1.002/1, 0.667\n",
      "/data/saturation/random_runs_large/corner_point_1.308_0.702_5.004_1.019/1, 0.667\n",
      "/data/saturation/random_runs_large/corner_point_1.292_0.705_8.999_2.507/1, 0.667\n",
      "/data/saturation/random_runs_large/corner_point_1.311_0.315_5.018_1.009/1, 0.667\n",
      "/data/saturation/random_runs_large/corner_point_1.907_0.692_5.001_0.997/1, 0.966\n",
      "/data/saturation/random_runs_large/corner_point_1.906_0.285_9.006_2.496/1, 0.385\n",
      "/data/saturation/random_runs_large/corner_point_1.917_0.712_8.991_2.495/1, 0.667\n",
      "/data/saturation/random_runs_large/corner_point_1.303_0.304_9.003_2.511/1, 0.667\n",
      "/data/saturation/random_runs_large/corner_point_1.923_0.297_8.996_2.502/1, 0.667\n",
      "/data/saturation/random_runs_large/corner_point_1.287_0.688_5.004_1.012/1, 0.535\n",
      "/data/saturation/random_runs_large/corner_point_1.299_0.293_4.991_1.013/1, 0.667\n",
      "/data/saturation/random_runs_large/corner_point_1.906_0.691_4.993_2.514/1, 0.557\n",
      "/data/saturation/random_runs_large/corner_point_1.316_0.703_9.000_1.004/1, 0.667\n",
      "/data/saturation/random_runs_large/corner_point_1.897_0.702_9.011_2.513/1, 0.667\n",
      "/data/saturation/random_runs_large/corner_point_1.897_0.297_4.988_2.481/1, 0.558\n",
      "/data/saturation/random_runs_large/corner_point_1.888_0.696_8.989_2.493/1, 0.667\n",
      "/data/saturation/random_runs_large/corner_point_1.299_0.291_8.993_2.504/1, 0.532\n",
      "/data/saturation/random_runs_large/corner_point_1.884_0.317_5.014_2.505/1, 0.667\n",
      "/data/saturation/random_runs_large/corner_point_1.307_0.322_8.999_2.489/1, 0.667\n",
      "/data/saturation/random_runs_large/corner_point_1.313_0.297_8.998_2.506/1, 0.494\n",
      "/data/saturation/random_runs_large/corner_point_1.308_0.695_9.002_2.484/1, 0.667\n",
      "/data/saturation/random_runs_large/corner_point_1.309_0.712_8.996_2.516/1, 0.667\n",
      "/data/saturation/random_runs_large/corner_point_1.310_0.279_4.989_1.012/1, 0.505\n",
      "/data/saturation/random_runs_large/corner_point_1.889_0.305_4.991_2.511/1, 0.667\n",
      "/data/saturation/random_runs_large/corner_point_1.298_0.300_5.008_1.014/1, 0.667\n",
      "/data/saturation/random_runs_large/corner_point_1.293_0.291_8.989_2.503/1, 0.667\n",
      "/data/saturation/random_runs_large/corner_point_1.282_0.708_8.996_2.504/1, 0.667\n",
      "/data/saturation/random_runs_large/corner_point_1.881_0.302_5.000_1.000/1, 0.667\n",
      "/data/saturation/random_runs_large/corner_point_1.901_0.697_9.015_2.502/1, 0.667\n",
      "/data/saturation/random_runs_large/corner_point_1.308_0.681_4.993_2.503/1, 0.667\n",
      "/data/saturation/random_runs_large/corner_point_1.310_0.310_4.995_2.501/1, 0.628\n",
      "/data/saturation/random_runs_large/corner_point_1.892_0.301_8.993_2.492/1, 0.667\n",
      "/data/saturation/random_runs_large/corner_point_1.907_0.705_8.988_2.501/1, 0.667\n",
      "/data/saturation/random_runs_large/corner_point_1.301_0.307_8.996_2.498/1, 0.667\n",
      "/data/saturation/random_runs_large/corner_point_1.894_0.677_5.002_1.004/1, 0.667\n",
      "/data/saturation/random_runs_large/corner_point_1.279_0.720_5.008_2.504/1, 0.667\n",
      "/data/saturation/random_runs_large/corner_point_1.292_0.709_4.998_2.513/1, 0.667\n",
      "/data/saturation/random_runs_large/corner_point_1.891_0.307_9.005_2.499/1, 0.667\n",
      "/data/saturation/random_runs_large/corner_point_1.880_0.703_9.007_2.497/1, 0.667\n",
      "/data/saturation/random_runs_large/corner_point_1.895_0.290_9.013_1.013/1, 0.667\n",
      "/data/saturation/random_runs_large/corner_point_1.302_0.711_9.002_2.508/1, 0.667\n",
      "/data/saturation/random_runs_large/corner_point_1.291_0.706_8.991_2.518/1, 0.667\n",
      "/data/saturation/random_runs_large/corner_point_1.301_0.701_9.012_2.497/1, 0.366\n",
      "/data/saturation/random_runs_large/corner_point_1.293_0.692_4.992_2.491/1, 0.473\n",
      "/data/saturation/random_runs_large/corner_point_1.912_0.709_4.993_1.003/1, 0.467\n",
      "/data/saturation/random_runs_large/corner_point_1.868_0.302_4.999_1.002/1, 0.167\n",
      "/data/saturation/random_runs_large/corner_point_1.295_0.288_4.998_2.495/1, 0.334\n",
      "/data/saturation/random_runs_large/corner_point_1.301_0.296_8.994_1.012/1, 0.667\n",
      "/data/saturation/random_runs_large/corner_point_1.903_0.708_5.016_2.494/1, 0.667\n",
      "/data/saturation/random_runs_large/corner_point_1.890_0.697_5.001_2.497/1, 0.613\n",
      "/data/saturation/random_runs_large/corner_point_1.907_0.711_8.987_2.481/1, 0.667\n",
      "/data/saturation/random_runs_large/corner_point_1.294_0.699_4.998_1.000/1, 0.667\n",
      "/data/saturation/random_runs_large/corner_point_1.903_0.683_5.024_2.487/1, 0.667\n",
      "/data/saturation/random_runs_large/corner_point_1.895_0.292_8.992_2.495/1, 0.606\n",
      "/data/saturation/random_runs_large/corner_point_1.289_0.698_4.981_2.505/1, 0.514\n",
      "/data/saturation/random_runs_large/corner_point_1.900_0.689_9.013_2.488/1, 0.667\n",
      "/data/saturation/random_runs_large/corner_point_1.315_0.307_9.006_1.009/1, 0.667\n",
      "/data/saturation/random_runs_large/corner_point_1.902_0.319_8.998_0.997/1, 0.520\n",
      "/data/saturation/random_runs_large/corner_point_1.272_0.297_4.991_0.999/1, 0.667\n",
      "/data/saturation/random_runs_large/corner_point_1.310_0.311_9.020_1.006/1, 0.078\n",
      "/data/saturation/random_runs_large/corner_point_1.293_0.692_8.988_0.997/1, 0.916\n",
      "/data/saturation/random_runs_large/corner_point_1.901_0.288_4.982_2.496/1, 0.667\n",
      "/data/saturation/random_runs_large/corner_point_1.883_0.302_8.983_2.492/1, 0.667\n",
      "/data/saturation/random_runs_large/corner_point_1.888_0.694_9.012_2.516/1, 0.667\n",
      "/data/saturation/random_runs_large/corner_point_1.283_0.697_4.981_2.499/1, 0.234\n",
      "/data/saturation/random_runs_large/corner_point_1.906_0.693_4.992_1.008/1, 0.428\n",
      "/data/saturation/random_runs_large/corner_point_1.282_0.296_4.987_2.503/1, 0.667\n",
      "/data/saturation/random_runs_large/corner_point_1.892_0.293_4.996_2.501/1, 0.631\n",
      "/data/saturation/random_runs_large/corner_point_1.304_0.310_5.022_1.022/1, 0.667\n",
      "/data/saturation/random_runs_large/corner_point_1.905_0.290_9.013_1.017/1, 0.614\n",
      "/data/saturation/random_runs_large/corner_point_1.304_0.324_5.000_1.003/1, 0.667\n",
      "/data/saturation/random_runs_large/corner_point_1.881_0.684_8.986_1.012/1, 0.667\n",
      "/data/saturation/random_runs_large/corner_point_1.907_0.688_5.001_1.011/1, 0.654\n",
      "/data/saturation/random_runs_large/corner_point_1.316_0.698_9.006_1.000/1, 0.496\n",
      "/data/saturation/random_runs_large/corner_point_1.296_0.298_5.009_2.514/1, 0.577\n",
      "/data/saturation/random_runs_large/corner_point_1.885_0.704_8.983_2.498/1, 0.667\n",
      "/data/saturation/random_runs_large/corner_point_1.887_0.692_9.010_0.999/1, 0.860\n",
      "/data/saturation/random_runs_large/corner_point_1.904_0.685_8.993_2.483/1, 0.667\n",
      "/data/saturation/random_runs_large/corner_point_1.910_0.295_4.998_2.482/1, 0.667\n",
      "/data/saturation/random_runs_large/corner_point_1.902_0.698_5.004_2.511/1, 0.667\n",
      "/data/saturation/random_runs_large/corner_point_1.912_0.292_5.008_2.510/1, 0.661\n",
      "/data/saturation/random_runs_large/corner_point_1.877_0.299_4.999_2.497/1, 0.445\n",
      "/data/saturation/random_runs_large/corner_point_1.298_0.310_5.004_2.489/1, 0.667\n",
      "/data/saturation/random_runs_large/corner_point_1.291_0.697_5.002_2.496/1, 0.388\n",
      "/data/saturation/random_runs_large/corner_point_1.936_0.698_9.004_1.003/1, 0.571\n",
      "/data/saturation/random_runs_large/corner_point_1.312_0.291_5.015_1.007/1, 0.667\n",
      "/data/saturation/random_runs_large/corner_point_1.303_0.707_5.013_2.506/1, 0.667\n",
      "/data/saturation/random_runs_large/corner_point_1.904_0.308_8.993_2.495/1, 0.667\n",
      "/data/saturation/random_runs_large/corner_point_1.299_0.692_5.003_2.486/1, 0.452\n",
      "/data/saturation/random_runs_large/corner_point_1.283_0.310_9.005_0.998/1, 0.701\n",
      "/data/saturation/random_runs_large/corner_point_1.290_0.702_5.003_1.003/1, 0.667\n",
      "/data/saturation/random_runs_large/corner_point_1.301_0.289_8.999_2.483/1, 0.667\n",
      "/data/saturation/random_runs_large/corner_point_1.896_0.706_5.002_2.515/1, 0.667\n",
      "/data/saturation/random_runs_large/corner_point_1.312_0.309_8.989_1.002/1, 0.555\n",
      "/data/saturation/random_runs_large/corner_point_1.289_0.720_9.003_1.012/1, 0.188\n",
      "/data/saturation/random_runs_large/corner_point_1.903_0.303_5.001_0.998/1, 0.948\n",
      "/data/saturation/random_runs_large/corner_point_1.288_0.293_4.989_0.997/1, 0.692\n",
      "/data/saturation/random_runs_large/corner_point_1.299_0.311_5.016_2.486/1, 0.667\n",
      "/data/saturation/random_runs_large/corner_point_1.894_0.697_5.005_2.517/1, 0.667\n",
      "/data/saturation/random_runs_large/corner_point_1.897_0.318_5.004_2.506/1, 0.159\n",
      "/data/saturation/random_runs_large/corner_point_1.904_0.672_5.006_2.503/1, 0.652\n",
      "/data/saturation/random_runs_large/corner_point_1.911_0.682_8.993_1.015/1, 0.666\n",
      "/data/saturation/random_runs_large/corner_point_1.895_0.695_5.010_2.503/1, 0.667\n",
      "/data/saturation/random_runs_large/corner_point_1.296_0.703_5.001_0.998/1, 0.965\n",
      "/data/saturation/random_runs_large/corner_point_1.298_0.298_5.003_2.516/1, 0.653\n",
      "/data/saturation/random_runs_large/corner_point_1.899_0.313_9.003_2.508/1, 0.667\n",
      "/data/saturation/random_runs_large/corner_point_1.288_0.312_9.003_2.509/1, 0.667\n",
      "/data/saturation/random_runs_large/corner_point_1.898_0.297_4.999_0.997/1, 0.814\n",
      "/data/saturation/random_runs_large/corner_point_1.298_0.706_4.998_1.010/1, 0.667\n",
      "/data/saturation/random_runs_large/corner_point_1.898_0.301_9.008_1.002/1, 0.633\n",
      "/data/saturation/random_runs_large/corner_point_1.891_0.687_4.990_1.008/1, 0.667\n",
      "/data/saturation/random_runs_large/corner_point_1.294_0.300_9.010_1.010/1, 0.266\n",
      "/data/saturation/random_runs_large/corner_point_1.298_0.706_9.009_1.000/1, 0.667\n",
      "/data/saturation/random_runs_large/corner_point_1.894_0.714_8.998_2.497/1, 0.667\n",
      "/data/saturation/random_runs_large/corner_point_1.881_0.704_4.991_2.511/1, 0.667\n",
      "/data/saturation/random_runs_large/corner_point_1.896_0.314_5.015_1.001/1, 0.510\n",
      "/data/saturation/random_runs_large/corner_point_1.294_0.304_8.988_2.494/1, 0.667\n",
      "/data/saturation/random_runs_large/corner_point_1.897_0.682_4.996_1.005/1, 0.667\n",
      "/data/saturation/random_runs_large/corner_point_1.902_0.301_5.013_2.500/1, 0.667\n",
      "/data/saturation/random_runs_large/corner_point_1.915_0.305_4.998_1.006/1, 0.667\n",
      "/data/saturation/random_runs_large/corner_point_1.900_0.302_5.004_0.996/1, 0.689\n",
      "/data/saturation/random_runs_large/corner_point_1.306_0.706_4.987_2.492/1, 0.667\n",
      "/data/saturation/random_runs_large/corner_point_1.297_0.706_5.002_2.476/1, 0.667\n",
      "/data/saturation/random_runs_large/corner_point_1.315_0.703_4.988_2.500/1, 0.250\n",
      "/data/saturation/random_runs_large/corner_point_1.905_0.702_9.006_2.487/1, 0.667\n",
      "/data/saturation/random_runs_large/corner_point_1.899_0.314_4.995_1.006/1, 0.353\n",
      "/data/saturation/random_runs_large/corner_point_1.297_0.693_9.020_0.999/1, 0.623\n",
      "/data/saturation/random_runs_large/corner_point_1.307_0.696_9.003_2.501/1, 0.667\n",
      "/data/saturation/random_runs_large/corner_point_1.903_0.304_9.012_2.496/1, 0.667\n",
      "/data/saturation/random_runs_large/corner_point_1.294_0.281_9.014_1.000/1, 0.518\n",
      "/data/saturation/random_runs_large/corner_point_1.926_0.716_4.984_2.512/1, 0.174\n",
      "/data/saturation/random_runs_large/corner_point_1.318_0.694_8.991_1.015/1, 0.667\n",
      "/data/saturation/random_runs_large/corner_point_1.900_0.700_4.997_2.505/1, 0.326\n",
      "/data/saturation/random_runs_large/corner_point_1.289_0.301_4.983_2.496/1, 0.667\n",
      "/data/saturation/random_runs_large/corner_point_1.898_0.296_4.978_2.498/1, 0.591\n",
      "/data/saturation/random_runs_large/corner_point_1.907_0.709_8.993_2.483/1, 0.667\n",
      "/data/saturation/random_runs_large/corner_point_1.310_0.313_9.002_2.511/1, 0.667\n",
      "/data/saturation/random_runs_large/corner_point_1.307_0.722_4.994_1.007/1, 0.667\n",
      "/data/saturation/random_runs_large/corner_point_1.903_0.695_9.009_2.491/1, 0.667\n",
      "/data/saturation/random_runs_large/corner_point_1.905_0.287_8.990_2.503/1, 0.567\n",
      "/data/saturation/random_runs_large/corner_point_1.278_0.306_9.013_2.516/1, 0.667\n",
      "/data/saturation/random_runs_large/corner_point_1.908_0.688_8.995_2.496/1, 0.667\n",
      "/data/saturation/random_runs_large/corner_point_1.893_0.312_8.982_0.999/1, 0.745\n",
      "/data/saturation/random_runs_large/corner_point_1.893_0.303_8.991_2.522/1, 0.667\n",
      "/data/saturation/random_runs_large/corner_point_1.314_0.705_8.984_2.499/1, 0.318\n",
      "/data/saturation/random_runs_large/corner_point_1.906_0.289_8.996_1.019/1, 0.667\n",
      "/data/saturation/random_runs_large/corner_point_1.893_0.697_9.003_2.503/1, 0.336\n",
      "/data/saturation/random_runs_large/corner_point_1.298_0.709_9.010_2.489/1, 0.392\n",
      "/data/saturation/random_runs_large/corner_point_1.292_0.292_8.990_2.483/1, 0.667\n",
      "/data/saturation/random_runs_large/corner_point_1.291_0.699_4.998_1.000/1, 0.621\n",
      "/data/saturation/random_runs_large/corner_point_1.900_0.326_9.013_1.006/1, 0.667\n",
      "/data/saturation/random_runs_large/corner_point_1.297_0.701_9.006_1.009/1, 0.667\n",
      "/data/saturation/random_runs_large/corner_point_1.297_0.683_8.997_2.501/1, 0.667\n",
      "/data/saturation/random_runs_large/corner_point_1.303_0.703_4.998_2.502/1, 0.667\n",
      "/data/saturation/random_runs_large/corner_point_1.299_0.328_5.001_2.493/1, 0.667\n",
      "/data/saturation/random_runs_large/corner_point_1.298_0.305_8.996_2.504/1, 0.667\n",
      "/data/saturation/random_runs_large/corner_point_1.900_0.698_8.984_1.001/1, 0.667\n",
      "/data/saturation/random_runs_large/corner_point_1.296_0.296_4.994_1.015/1, 0.667\n",
      "/data/saturation/random_runs_large/corner_point_1.296_0.302_8.993_2.513/1, 0.494\n",
      "/data/saturation/random_runs_large/corner_point_1.905_0.308_4.997_1.016/1, 0.667\n",
      "/data/saturation/random_runs_large/corner_point_1.895_0.689_9.019_1.007/1, 0.573\n",
      "/data/saturation/random_runs_large/corner_point_1.287_0.312_5.002_1.021/1, 0.667\n",
      "/data/saturation/random_runs_large/corner_point_1.312_0.711_5.002_2.493/1, 0.385\n",
      "/data/saturation/random_runs_large/corner_point_1.304_0.309_5.019_2.498/1, 0.667\n",
      "/data/saturation/random_runs_large/corner_point_1.926_0.307_4.980_1.006/1, 0.667\n",
      "/data/saturation/random_runs_large/corner_point_1.295_0.305_5.013_2.487/1, 0.304\n",
      "/data/saturation/random_runs_large/corner_point_1.896_0.682_4.998_0.999/1, 0.204\n",
      "/data/saturation/random_runs_large/corner_point_1.278_0.706_4.997_1.004/1, 0.308\n",
      "/data/saturation/random_runs_large/corner_point_1.899_0.299_9.009_0.999/1, 0.860\n",
      "/data/saturation/random_runs_large/corner_point_1.302_0.295_4.996_2.496/1, 0.425\n",
      "/data/saturation/random_runs_large/corner_point_1.904_0.321_9.005_2.496/1, 0.667\n",
      "/data/saturation/random_runs_large/corner_point_1.900_0.695_8.986_1.009/1, 0.667\n",
      "/data/saturation/random_runs_large/corner_point_1.897_0.697_5.014_2.512/1, 0.667\n",
      "/data/saturation/random_runs_large/corner_point_1.886_0.691_4.997_2.503/1, 0.667\n",
      "/data/saturation/random_runs_large/corner_point_1.908_0.706_9.010_2.471/1, 0.558\n",
      "/data/saturation/random_runs_large/corner_point_1.899_0.691_5.005_2.498/1, 0.269\n",
      "/data/saturation/random_runs_large/corner_point_1.308_0.701_8.979_1.010/1, 0.553\n",
      "/data/saturation/random_runs_large/corner_point_1.298_0.285_8.994_1.023/1, 0.667\n",
      "/data/saturation/random_runs_large/corner_point_1.887_0.289_4.993_2.468/1, 0.667\n",
      "/data/saturation/random_runs_large/corner_point_1.300_0.678_8.998_1.004/1, 0.158\n",
      "/data/saturation/random_runs_large/corner_point_1.298_0.708_8.996_1.002/1, 0.366\n",
      "/data/saturation/random_runs_large/corner_point_1.898_0.699_9.000_0.997/1, 0.233\n",
      "/data/saturation/random_runs_large/corner_point_1.315_0.303_4.999_2.511/1, 0.610\n",
      "/data/saturation/random_runs_large/corner_point_1.906_0.690_9.006_2.505/1, 0.667\n",
      "/data/saturation/random_runs_large/corner_point_1.297_0.702_9.000_2.506/1, 0.589\n",
      "/data/saturation/random_runs_large/corner_point_1.309_0.311_9.005_2.493/1, 0.395\n",
      "/data/saturation/random_runs_large/corner_point_1.907_0.315_5.000_2.501/1, 0.542\n",
      "/data/saturation/random_runs_large/corner_point_1.899_0.290_4.997_1.001/1, 0.667\n",
      "/data/saturation/random_runs_large/corner_point_1.907_0.301_4.998_1.000/1, 0.643\n",
      "/data/saturation/random_runs_large/corner_point_1.296_0.703_8.992_1.011/1, 0.292\n",
      "/data/saturation/random_runs_large/corner_point_1.321_0.706_9.007_2.499/1, 0.667\n",
      "/data/saturation/random_runs_large/corner_point_1.302_0.709_5.012_2.501/1, 0.540\n",
      "/data/saturation/random_runs_large/corner_point_1.308_0.698_4.996_2.504/1, 0.617\n",
      "/data/saturation/random_runs_large/corner_point_1.289_0.299_9.011_2.513/1, 0.667\n",
      "/data/saturation/random_runs_large/corner_point_1.285_0.698_9.017_1.016/1, 0.667\n",
      "/data/saturation/random_runs_large/corner_point_1.898_0.695_9.016_2.516/1, 0.667\n",
      "/data/saturation/random_runs_large/corner_point_1.899_0.700_9.015_2.520/1, 0.667\n",
      "/data/saturation/random_runs_large/corner_point_1.901_0.296_4.994_1.003/1, 0.667\n",
      "/data/saturation/random_runs_large/corner_point_1.289_0.699_9.008_2.493/1, 0.623\n",
      "/data/saturation/random_runs_large/corner_point_1.909_0.297_9.001_1.008/1, 0.060\n",
      "/data/saturation/random_runs_large/corner_point_1.300_0.304_9.010_2.501/1, 0.667\n",
      "/data/saturation/random_runs_large/corner_point_1.299_0.684_8.991_1.002/1, 0.296\n",
      "/data/saturation/random_runs_large/corner_point_1.912_0.296_4.984_1.004/1, 0.667\n",
      "/data/saturation/random_runs_large/corner_point_1.889_0.290_4.994_1.005/1, 0.667\n",
      "/data/saturation/random_runs_large/corner_point_1.301_0.319_4.991_2.497/1, 0.667\n",
      "/data/saturation/random_runs_large/corner_point_1.897_0.295_8.998_2.504/1, 0.375\n",
      "/data/saturation/random_runs_large/corner_point_1.302_0.305_5.003_2.507/1, 0.667\n",
      "/data/saturation/random_runs_large/corner_point_1.907_0.712_4.999_1.003/1, 0.263\n",
      "/data/saturation/random_runs_large/corner_point_1.909_0.310_5.009_2.495/1, 0.291\n",
      "/data/saturation/random_runs_large/corner_point_1.306_0.700_8.996_1.012/1, 0.186\n",
      "/data/saturation/random_runs_large/corner_point_1.907_0.301_4.994_0.997/1, 0.637\n",
      "/data/saturation/random_runs_large/corner_point_1.905_0.298_8.993_2.489/1, 0.062\n",
      "/data/saturation/random_runs_large/corner_point_1.895_0.292_4.996_2.493/1, 0.667\n",
      "/data/saturation/random_runs_large/corner_point_1.907_0.700_4.993_0.998/1, 0.317\n",
      "/data/saturation/random_runs_large/corner_point_1.294_0.302_8.999_2.489/1, 0.531\n",
      "/data/saturation/random_runs_large/corner_point_1.311_0.288_4.988_2.501/1, 0.667\n",
      "/data/saturation/random_runs_large/corner_point_1.299_0.703_5.004_2.493/1, 0.667\n",
      "/data/saturation/random_runs_large/corner_point_1.902_0.303_9.005_1.001/1, 0.667\n",
      "/data/saturation/random_runs_large/corner_point_1.299_0.303_9.000_1.005/1, 0.667\n",
      "/data/saturation/random_runs_large/corner_point_1.287_0.295_8.995_1.015/1, 0.667\n",
      "/data/saturation/random_runs_large/corner_point_1.906_0.300_9.001_1.016/1, 0.667\n",
      "/data/saturation/random_runs_large/corner_point_1.900_0.689_4.977_2.504/1, 0.475\n",
      "/data/saturation/random_runs_large/corner_point_1.293_0.687_4.994_1.014/1, 0.139\n",
      "/data/saturation/random_runs_large/corner_point_1.911_0.686_8.980_0.998/1, 0.245\n",
      "/data/saturation/random_runs_large/corner_point_1.900_0.293_5.006_2.503/1, 0.197\n",
      "/data/saturation/random_runs_large/corner_point_1.903_0.302_8.989_2.501/1, 0.611\n",
      "/data/saturation/random_runs_large/corner_point_1.307_0.681_4.991_1.010/1, 0.494\n",
      "/data/saturation/random_runs_large/corner_point_1.301_0.297_4.982_2.508/1, 0.667\n",
      "/data/saturation/random_runs_large/corner_point_1.919_0.699_5.004_0.998/1, 0.290\n",
      "/data/saturation/random_runs_large/corner_point_1.906_0.702_8.984_2.498/1, 0.486\n",
      "/data/saturation/random_runs_large/corner_point_1.307_0.301_9.005_2.508/1, 0.573\n",
      "/data/saturation/random_runs_large/corner_point_1.330_0.700_5.001_1.006/1, 0.667\n",
      "/data/saturation/random_runs_large/corner_point_1.290_0.707_5.006_2.493/1, 0.482\n",
      "/data/saturation/random_runs_large/corner_point_1.886_0.305_9.006_1.007/1, 0.667\n",
      "/data/saturation/random_runs_large/corner_point_1.293_0.691_4.986_1.013/1, 0.667\n",
      "/data/saturation/random_runs_large/corner_point_1.287_0.301_9.001_1.016/1, 0.667\n",
      "/data/saturation/random_runs_large/corner_point_1.898_0.303_9.003_2.513/1, 0.666\n",
      "/data/saturation/random_runs_large/corner_point_1.903_0.692_9.001_2.492/1, 0.667\n",
      "/data/saturation/random_runs_large/corner_point_1.910_0.290_5.005_2.486/1, 0.667\n",
      "/data/saturation/random_runs_large/corner_point_1.299_0.702_4.996_2.513/1, 0.667\n",
      "/data/saturation/random_runs_large/corner_point_1.903_0.308_8.995_2.513/1, 0.192\n",
      "/data/saturation/random_runs_large/corner_point_1.311_0.295_5.010_2.488/1, 0.667\n",
      "/data/saturation/random_runs_large/corner_point_1.302_0.305_8.999_2.490/1, 0.328\n",
      "/data/saturation/random_runs_large/corner_point_1.310_0.297_5.012_1.002/1, 0.667\n",
      "/data/saturation/random_runs_large/corner_point_1.302_0.291_4.980_2.499/1, 0.667\n",
      "/data/saturation/random_runs_large/corner_point_1.894_0.705_5.001_2.502/1, 0.371\n",
      "/data/saturation/random_runs_large/corner_point_1.302_0.298_8.984_2.502/1, 0.667\n",
      "/data/saturation/random_runs_large/corner_point_1.879_0.302_5.007_2.505/1, 0.667\n",
      "/data/saturation/random_runs_large/corner_point_1.904_0.688_4.994_2.498/1, 0.667\n",
      "/data/saturation/random_runs_large/corner_point_1.895_0.716_9.008_0.997/1, 0.896\n",
      "/data/saturation/random_runs_large/corner_point_1.901_0.307_8.998_2.498/1, 0.371\n",
      "/data/saturation/random_runs_large/corner_point_1.299_0.724_8.997_2.507/1, 0.667\n",
      "/data/saturation/random_runs_large/corner_point_1.906_0.296_4.981_2.487/1, 0.667\n",
      "/data/saturation/random_runs_large/corner_point_1.305_0.706_8.989_2.508/1, 0.587\n",
      "/data/saturation/random_runs_large/corner_point_1.323_0.708_4.999_2.510/1, 0.667\n",
      "/data/saturation/random_runs_large/corner_point_1.310_0.707_8.987_2.506/1, 0.667\n",
      "/data/saturation/random_runs_large/corner_point_1.894_0.689_5.007_2.493/1, 0.406\n",
      "/data/saturation/random_runs_large/corner_point_1.303_0.287_9.001_1.011/1, 0.536\n",
      "/data/saturation/random_runs_large/corner_point_1.296_0.700_4.992_2.522/1, 0.667\n",
      "/data/saturation/random_runs_large/corner_point_1.902_0.295_9.010_2.485/1, 0.667\n",
      "/data/saturation/random_runs_large/corner_point_1.286_0.691_4.986_1.010/1, 0.581\n",
      "/data/saturation/random_runs_large/corner_point_1.906_0.309_5.000_2.497/1, 0.667\n"
     ]
    }
   ],
   "source": [
    "# Finding saturation points\n",
    "for path in paths[:]:\n",
    "    df = read_stats_parquets(path)\n",
    "    n_sims = df.shape[0]\n",
    "    checkpoint = n_sims // 3 * 2\n",
    "    checkpoint_max_ad = df.areal_density[:checkpoint].max()\n",
    "    checkpoint_max_n = df.n_craters_in_study_region[:checkpoint].max()\n",
    "    max_index = max(df.areal_density.idxmax(), df.n_craters_in_study_region.idxmax())\n",
    "    print(f\"{path}, {max_index / df.shape[0]:.3f}\")\n",
    "    # print(f\"{path}, {max_index}, {df.shape[0]}, {checkpoint_max_ad:.3f}, {df.areal_density.max():.3f}, {checkpoint_max_n}, {df.n_craters_in_study_region.max()}\")"
   ]
  },
  {
   "cell_type": "code",
   "execution_count": 271,
   "id": "1c7ac226-524d-4186-90ee-81f076bf0f66",
   "metadata": {},
   "outputs": [
    {
     "name": "stdout",
     "output_type": "stream",
     "text": [
      "/data/saturation/random_runs_large/corner_point_1.279_0.696_5.007_2.516/1/, 0.37869560718536377, 0.04118308797478676, 1070801, 1429199\n",
      "/data/saturation/random_runs_large/corner_point_1.279_0.720_5.008_2.504/1/, 0.38555464148521423, 0.053694453090429306, 268168, 3829583\n",
      "/data/saturation/random_runs_large/corner_point_1.283_0.697_4.981_2.499/1/, 0.3523689806461334, 0.03518760949373245, 1678090, 821910\n",
      "/data/saturation/random_runs_large/corner_point_1.315_0.703_4.988_2.500/1/, 0.376109778881073, 0.036757152527570724, 1611031, 888969\n",
      "/data/saturation/random_runs_large/corner_point_1.323_0.708_4.999_2.510/1/, 0.34863096475601196, 0.05429280921816826, 7333923, 1047723\n",
      "/data/saturation/random_runs_large/corner_point_1.278_0.306_9.013_2.516/1/, 0.5223565697669983, 0.04482534900307655, 2033493, 1227264\n",
      "/data/saturation/random_runs_large/corner_point_1.282_0.296_4.987_2.503/1/, 0.7404835224151611, 0.029829982668161392, 2428292, 484981\n",
      "/data/saturation/random_runs_large/corner_point_1.282_0.708_8.996_2.504/1/, 0.22294196486473083, 0.049124836921691895, 4087834, 1575662\n",
      "/data/saturation/random_runs_large/corner_point_1.288_0.312_9.003_2.509/1/, 0.517166018486023, 0.051726724952459335, 1811183, 1076467\n",
      "/data/saturation/random_runs_large/corner_point_1.314_0.296_8.986_2.503/1/, 0.5912284851074219, 0.03796549513936043, 129530, 2370470\n",
      "/data/saturation/random_runs_large/corner_point_1.314_0.705_8.984_2.499/1/, 0.20201870799064636, 0.0412784069776535, 904213, 1595787\n",
      "/data/saturation/random_runs_large/corner_point_1.315_0.303_4.999_2.511/1/, 0.7054830193519592, 0.04160909727215767, 2375013, 124987\n",
      "/data/saturation/random_runs_large/corner_point_1.315_0.711_8.993_2.518/1/, 0.20028938353061676, 0.039754949510097504, 1458265, 1801196\n",
      "/data/saturation/random_runs_large/corner_point_1.321_0.706_9.007_2.499/1/, 0.18491476774215698, 0.029423912987113, 131570, 3145864\n",
      "/data/saturation/random_runs_large/corner_point_1.877_0.299_4.999_2.497/1/, 0.4192201793193817, 0.03362632915377617, 2187969, 312031\n",
      "/data/saturation/random_runs_large/corner_point_1.879_0.302_5.007_2.505/1/, 0.4206277132034302, 0.07231978327035904, 2128403, 2156803\n",
      "/data/saturation/random_runs_large/corner_point_1.881_0.704_4.991_2.511/1/, 0.19716212153434753, 0.048229072242975235, 1239294, 1278582\n",
      "/data/saturation/random_runs_large/corner_point_1.883_0.300_8.993_2.508/1/, 0.2650810778141022, 0.04335604980587959, 3995772, 1391538\n",
      "/data/saturation/random_runs_large/corner_point_1.884_0.317_5.014_2.505/1/, 0.4346616864204407, 0.027576323598623276, 220942, 6047648\n",
      "/data/saturation/random_runs_large/corner_point_1.923_0.297_8.996_2.502/1/, 0.26658326387405396, 0.04822500795125961, 2186811, 1090572\n",
      "/data/saturation/random_runs_large/corner_point_1.885_0.699_8.996_2.510/1/, 0.10627277940511703, 0.03589849919080734, 1607309, 1126726\n",
      "/data/saturation/random_runs_large/corner_point_1.907_0.705_8.988_2.501/1/, 0.10406206548213959, 0.037590865045785904, 851164, 2619488\n",
      "/data/saturation/random_runs_large/corner_point_1.906_0.702_8.984_2.498/1/, 0.10701495409011841, 0.037075500935316086, 2183882, 316118\n"
     ]
    }
   ],
   "source": [
    "all_ads = []\n",
    "for path in paths:\n",
    "    df = read_stats_parquets(path)\n",
    "    max_index = df.areal_density.idxmax()\n",
    "    df_sat = df.iloc[max_index:]\n",
    "    print(f\"{path}, {df_sat.areal_density.median()}, {df_sat.areal_density.std()}, {len(df_sat)}, {max_index}\")\n",
    "    # plt.hist(df_sat.areal_density)\n",
    "    # plt.show()\n",
    "    all_ads += list(df_sat.areal_density)"
   ]
  },
  {
   "cell_type": "code",
   "execution_count": 244,
   "id": "efda4812-80fa-469f-8eea-8cdf0f254878",
   "metadata": {},
   "outputs": [
    {
     "name": "stdout",
     "output_type": "stream",
     "text": [
      "0.3337796926498413, 0.0303382258862257\n",
      "0.3838573098182678, 0.057279832661151886\n",
      "0.3964063823223114, 0.04864026978611946\n",
      "0.3873107433319092, 0.02527277171611786\n",
      "0.3799813389778137, 0.041593410074710846\n"
     ]
    }
   ],
   "source": [
    "all_ads = []\n",
    "for path in paths[:5]:\n",
    "    df = read_stats_parquets(path)\n",
    "    max_index = df.areal_density.idxmax()\n",
    "    df_sat = df.iloc[-200000:]\n",
    "    print(f\"{df_sat.areal_density.median()}, {df_sat.areal_density.std()}\")\n",
    "    # plt.hist(df_sat.areal_density)\n",
    "    # plt.show()\n",
    "    all_ads += list(df_sat.areal_density)"
   ]
  },
  {
   "cell_type": "code",
   "execution_count": 241,
   "id": "0c1c95fd-21d4-414f-aa2c-ae6760143b0c",
   "metadata": {},
   "outputs": [
    {
     "data": {
      "text/plain": [
       "(array([ 11706.,  69224., 298511., 488837., 662387., 562797., 138384.,\n",
       "        159897.,  65676.,  42581.]),\n",
       " array([0.25035217, 0.27706864, 0.30378511, 0.33050158, 0.35721804,\n",
       "        0.38393451, 0.41065098, 0.43736745, 0.46408392, 0.49080038,\n",
       "        0.51751685]),\n",
       " <BarContainer object of 10 artists>)"
      ]
     },
     "execution_count": 241,
     "metadata": {},
     "output_type": "execute_result"
    },
    {
     "data": {
      "image/png": "[encoded data removed]",
      "text/plain": [
       "<Figure size 432x288 with 1 Axes>"
      ]
     },
     "metadata": {
      "needs_background": "light"
     },
     "output_type": "display_data"
    }
   ],
   "source": [
    "plt.hist(all_ads)"
   ]
  },
  {
   "cell_type": "code",
   "execution_count": null,
   "id": "83aae775-c885-453c-b3e4-eb84d3448953",
   "metadata": {},
   "outputs": [],
   "source": []
  },
  {
   "cell_type": "code",
   "execution_count": 222,
   "id": "e11c8e9d-b41b-4095-894e-15c04076897d",
   "metadata": {},
   "outputs": [
    {
     "data": {
      "image/png": "[encoded data removed]",
      "text/plain": [
       "<Figure size 432x288 with 1 Axes>"
      ]
     },
     "metadata": {
      "needs_background": "light"
     },
     "output_type": "display_data"
    },
    {
     "data": {
      "image/png": "[encoded data removed]",
      "text/plain": [
       "<Figure size 432x288 with 1 Axes>"
      ]
     },
     "metadata": {
      "needs_background": "light"
     },
     "output_type": "display_data"
    }
   ],
   "source": [
    "max_index = df.areal_density.idxmax()\n",
    "df_sat = df.iloc[max_index:]\n",
    "plt.plot(df_sat.n_craters_added_in_study_region, df_sat.areal_density)\n",
    "plt.show()\n",
    "plt.hist(df_sat.areal_density)\n",
    "plt.show()"
   ]
  },
  {
   "cell_type": "code",
   "execution_count": 210,
   "id": "041b8bb5-aec2-46d6-b7e2-4a1432370177",
   "metadata": {},
   "outputs": [],
   "source": []
  },
  {
   "cell_type": "code",
   "execution_count": 211,
   "id": "67e1d892-8f25-420f-b829-3804d02e06d5",
   "metadata": {},
   "outputs": [
    {
     "data": {
      "text/plain": [
       "(array([17562., 39570., 13394., 80495., 33785.,   736., 32577., 16689.,\n",
       "        19341., 14019.]),\n",
       " array([0.30460125, 0.3258928 , 0.34718436, 0.36847594, 0.3897675 ,\n",
       "        0.41105905, 0.4323506 , 0.45364216, 0.47493374, 0.4962253 ,\n",
       "        0.51751685], dtype=float32),\n",
       " <BarContainer object of 10 artists>)"
      ]
     },
     "execution_count": 211,
     "metadata": {},
     "output_type": "execute_result"
    },
    {
     "data": {
      "image/png": "[encoded data removed]",
      "text/plain": [
       "<Figure size 432x288 with 1 Axes>"
      ]
     },
     "metadata": {
      "needs_background": "light"
     },
     "output_type": "display_data"
    }
   ],
   "source": []
  },
  {
   "cell_type": "code",
   "execution_count": 207,
   "id": "0826ed2c-fa20-481a-adfd-6d8974c44196",
   "metadata": {},
   "outputs": [
    {
     "data": {
      "text/plain": [
       "[<matplotlib.lines.Line2D at 0x7fb76f42bd60>]"
      ]
     },
     "execution_count": 207,
     "metadata": {},
     "output_type": "execute_result"
    },
    {
     "data": {
      "image/png": "[encoded data removed]",
      "text/plain": [
       "<Figure size 432x288 with 1 Axes>"
      ]
     },
     "metadata": {
      "needs_background": "light"
     },
     "output_type": "display_data"
    }
   ],
   "source": []
  },
  {
   "cell_type": "code",
   "execution_count": null,
   "id": "cb673000-3697-4296-b274-4a6cadcf42c9",
   "metadata": {},
   "outputs": [],
   "source": []
  }
 ],
 "metadata": {
  "kernelspec": {
   "display_name": "Python 3 (ipykernel)",
   "language": "python",
   "name": "python3"
  },
  "language_info": {
   "codemirror_mode": {
    "name": "ipython",
    "version": 3
   },
   "file_extension": ".py",
   "mimetype": "text/x-python",
   "name": "python",
   "nbconvert_exporter": "python",
   "pygments_lexer": "ipython3",
   "version": "3.10.6"
  }
 },
 "nbformat": 4,
 "nbformat_minor": 5
}
