{
 "cells": [
  {
   "cell_type": "markdown",
   "id": "6e8553de-4999-4259-b402-aa308bbd8415",
   "metadata": {},
   "source": [
    "### Areal Density Calculation"
   ]
  },
  {
   "cell_type": "code",
   "execution_count": 1,
   "id": "09b50175-3bd9-4b49-88cc-6b3de5f38d2e",
   "metadata": {},
   "outputs": [],
   "source": [
    "import numpy as np\n",
    "\n",
    "from saturation.simulation import *\n",
    "from saturation.distributions import *\n",
    "from saturation.geometry import *\n",
    "from saturation.plotting import *"
   ]
  },
  {
   "cell_type": "code",
   "execution_count": 181,
   "id": "0dfb84c1-e9dc-448b-9f05-0ef42b1e10fd",
   "metadata": {},
   "outputs": [],
   "source": [
    "def calculate_areal_density(craters: pd.DataFrame, terrain_size: int, margin: int) -> float:\n",
    "    \"\"\"\n",
    "    Calculates the areal density of the craters.\n",
    "    \"\"\"\n",
    "    terrain = np.zeros((terrain_size - 2 * margin, terrain_size - 2 * margin), dtype=bool)\n",
    "    \n",
    "    for row in craters.itertuples():\n",
    "        place_circle((row.x, row.y), row.radius, terrain, margin)\n",
    "        \n",
    "    return terrain.mean()\n",
    "\n",
    "def place_circle(center: Location, radius: float, terrain: np.array, margin: int):\n",
    "    terrain_size = terrain.shape[0]\n",
    "    \n",
    "    x_min = int(max(center[0] - radius, margin))\n",
    "    x_max = int(min(center[0] + radius, terrain_size - 1))\n",
    "    y_min = int(max(center[1] - radius, margin))\n",
    "    y_max = int(min(center[1] + radius, terrain_size - 1))\n",
    "    \n",
    "    limit = int(radius**2)\n",
    "    \n",
    "    for x in range(x_min, x_max + 1):\n",
    "        for y in range(y_min, y_max + 1):\n",
    "            if (x - center[0])**2 + (y - center[1])**2 <= limit:\n",
    "                terrain[x - margin, y - margin] = True"
   ]
  },
  {
   "cell_type": "code",
   "execution_count": 182,
   "id": "e4c7e634-8189-4a45-a4a4-8d4fc23113ea",
   "metadata": {},
   "outputs": [
    {
     "data": {
      "text/plain": [
       "0.1962953125"
      ]
     },
     "execution_count": 182,
     "metadata": {},
     "output_type": "execute_result"
    }
   ],
   "source": [
    "terrain_size = 1000\n",
    "craters = pd.DataFrame([[500, 500, 200]], columns=['x', 'y', 'radius'])\n",
    "calculate_areal_density(craters, terrain_size, terrain_size // 10)"
   ]
  },
  {
   "cell_type": "code",
   "execution_count": 183,
   "id": "2a1e918a-b4cb-4d62-b430-c8776db66999",
   "metadata": {},
   "outputs": [
    {
     "data": {
      "text/plain": [
       "0.19634954084936207"
      ]
     },
     "execution_count": 183,
     "metadata": {},
     "output_type": "execute_result"
    }
   ],
   "source": [
    "# Manually calculated\n",
    "craters.iloc[0].radius ** 2 * np.pi / (terrain_size * 0.8)**2"
   ]
  },
  {
   "cell_type": "code",
   "execution_count": null,
   "id": "c6a37b31-43cf-4d51-9678-aa2e634911c0",
   "metadata": {},
   "outputs": [],
   "source": []
  },
  {
   "cell_type": "code",
   "execution_count": 169,
   "id": "0cd157a8-f1c7-4390-8138-95408a5e6b8b",
   "metadata": {},
   "outputs": [
    {
     "data": {
      "text/plain": [
       "0.48330664"
      ]
     },
     "execution_count": 169,
     "metadata": {},
     "output_type": "execute_result"
    }
   ],
   "source": [
    "# Larger set of craters\n",
    "terrain_size = 5000\n",
    "power_law_distribution = PowerLawProbabilityDistribution(slope=-2.8, min_value=8)\n",
    "craters = get_craters(5000, power_law_distribution, terrain_size)\n",
    "calculate_areal_density(craters, terrain_size, terrain_size // 10)"
   ]
  },
  {
   "cell_type": "code",
   "execution_count": null,
   "id": "52de8e76-0bb4-45d6-ad62-d18bef3c86b1",
   "metadata": {},
   "outputs": [],
   "source": []
  }
 ],
 "metadata": {
  "kernelspec": {
   "display_name": "Python 3 (ipykernel)",
   "language": "python",
   "name": "python3"
  },
  "language_info": {
   "codemirror_mode": {
    "name": "ipython",
    "version": 3
   },
   "file_extension": ".py",
   "mimetype": "text/x-python",
   "name": "python",
   "nbconvert_exporter": "python",
   "pygments_lexer": "ipython3",
   "version": "3.10.4"
  }
 },
 "nbformat": 4,
 "nbformat_minor": 5
}
