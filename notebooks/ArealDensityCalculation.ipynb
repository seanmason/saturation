{
 "cells": [
  {
   "cell_type": "markdown",
   "id": "6e8553de-4999-4259-b402-aa308bbd8415",
   "metadata": {},
   "source": [
    "### Areal Density Calculation\n",
    "\n",
    "Demonstration of calculation of areal density"
   ]
  },
  {
   "cell_type": "code",
   "execution_count": 1,
   "id": "09b50175-3bd9-4b49-88cc-6b3de5f38d2e",
   "metadata": {},
   "outputs": [],
   "source": [
    "import numpy as np\n",
    "import itertools\n",
    "\n",
    "from saturation.simulation import *\n",
    "from saturation.distributions import *\n",
    "from saturation.geometry import *\n",
    "from saturation.areal_density import *"
   ]
  },
  {
   "cell_type": "code",
   "execution_count": 2,
   "id": "e4c7e634-8189-4a45-a4a4-8d4fc23113ea",
   "metadata": {},
   "outputs": [
    {
     "data": {
      "text/plain": [
       "0.125629"
      ]
     },
     "execution_count": 2,
     "metadata": {},
     "output_type": "execute_result"
    }
   ],
   "source": [
    "study_region_size = 1000\n",
    "study_region_padding = study_region_size // 10\n",
    "rstat = 2.5 * 5\n",
    "\n",
    "craters = [\n",
    "    Crater(id=1, x=500, y=500, radius=200)\n",
    "]\n",
    "\n",
    "calculator = ArealDensityCalculator(study_region_size, study_region_padding, rstat)\n",
    "\n",
    "for crater in craters:\n",
    "    calculator.add_crater(crater)\n",
    "    \n",
    "calculator.areal_density"
   ]
  },
  {
   "cell_type": "code",
   "execution_count": 3,
   "id": "2a1e918a-b4cb-4d62-b430-c8776db66999",
   "metadata": {},
   "outputs": [
    {
     "data": {
      "text/plain": [
       "0.12566370614359174"
      ]
     },
     "execution_count": 3,
     "metadata": {},
     "output_type": "execute_result"
    }
   ],
   "source": [
    "# Manually calculated\n",
    "craters[0].radius ** 2 * np.pi / study_region_size**2"
   ]
  },
  {
   "cell_type": "code",
   "execution_count": null,
   "id": "c6a37b31-43cf-4d51-9678-aa2e634911c0",
   "metadata": {},
   "outputs": [],
   "source": []
  },
  {
   "cell_type": "markdown",
   "id": "41649b72-b04b-4085-8b88-8223f8fce9d5",
   "metadata": {},
   "source": [
    "### Downsampling the Terrain\n",
    "\n",
    "Here we compare several different scales for the terrain, trying to see what we lose by effectively downsampling the terrain. We try 1, 2, 4, and 8x. Downsampling may be possible, depending on the minimum radius of craters."
   ]
  },
  {
   "cell_type": "code",
   "execution_count": 4,
   "id": "0cd157a8-f1c7-4390-8138-95408a5e6b8b",
   "metadata": {},
   "outputs": [
    {
     "data": {
      "text/plain": [
       "0.08031702"
      ]
     },
     "execution_count": 4,
     "metadata": {},
     "output_type": "execute_result"
    }
   ],
   "source": [
    "# Larger set of craters\n",
    "scale = 1\n",
    "study_region_size = 10000 // scale\n",
    "study_region_padding = study_region_size // 10\n",
    "\n",
    "np.random.seed(123)\n",
    "distribution = ParetoProbabilityDistribution(alpha=1.8, x_min=8//scale, x_max=study_region_size//4//scale)\n",
    "craters = list(itertools.islice(get_craters(distribution, study_region_size), 5000))\n",
    "\n",
    "calculator = ArealDensityCalculator(study_region_size, study_region_padding, rstat)\n",
    "\n",
    "for crater in craters:\n",
    "    calculator.add_crater(crater)\n",
    "    \n",
    "calculator.areal_density"
   ]
  },
  {
   "cell_type": "code",
   "execution_count": 5,
   "id": "85e55992-9078-4ee0-9833-252b709406ef",
   "metadata": {},
   "outputs": [
    {
     "data": {
      "text/plain": [
       "0.06652616"
      ]
     },
     "execution_count": 5,
     "metadata": {},
     "output_type": "execute_result"
    }
   ],
   "source": [
    "# Downsampled by a factor of 2\n",
    "scale = 2\n",
    "study_region_size = 10000 // scale\n",
    "study_region_padding = study_region_size // 10\n",
    "\n",
    "np.random.seed(123)\n",
    "distribution = ParetoProbabilityDistribution(alpha=1.8, x_min=8//scale, x_max=study_region_size//4//scale)\n",
    "craters = list(itertools.islice(get_craters(distribution, study_region_size), 5000))\n",
    "\n",
    "calculator = ArealDensityCalculator(study_region_size, study_region_padding, rstat)\n",
    "\n",
    "for crater in craters:\n",
    "    calculator.add_crater(crater)\n",
    "    \n",
    "calculator.areal_density"
   ]
  },
  {
   "cell_type": "code",
   "execution_count": 6,
   "id": "0ff516ab-7c5d-41ae-929c-a83e4f1dbd7f",
   "metadata": {},
   "outputs": [
    {
     "data": {
      "text/plain": [
       "0.0466128"
      ]
     },
     "execution_count": 6,
     "metadata": {},
     "output_type": "execute_result"
    }
   ],
   "source": [
    "# Downsampled by a factor of 4\n",
    "scale = 4\n",
    "study_region_size = 10000 // scale\n",
    "study_region_padding = study_region_size // 10\n",
    "\n",
    "np.random.seed(123)\n",
    "distribution = ParetoProbabilityDistribution(alpha=1.8, x_min=8//scale, x_max=study_region_size//4//scale)\n",
    "craters = list(itertools.islice(get_craters(distribution, study_region_size), 5000))\n",
    "\n",
    "calculator = ArealDensityCalculator(study_region_size, study_region_padding, rstat)\n",
    "\n",
    "for crater in craters:\n",
    "    calculator.add_crater(crater)\n",
    "    \n",
    "calculator.areal_density"
   ]
  },
  {
   "cell_type": "code",
   "execution_count": 7,
   "id": "5dc51b83-b277-4cb5-9964-8d707c12e6a6",
   "metadata": {},
   "outputs": [
    {
     "data": {
      "text/plain": [
       "0.02094976"
      ]
     },
     "execution_count": 7,
     "metadata": {},
     "output_type": "execute_result"
    }
   ],
   "source": [
    "# Downsampled by a factor of 8\n",
    "scale = 8\n",
    "study_region_size = 10000 // scale\n",
    "study_region_padding = study_region_size // 10\n",
    "\n",
    "np.random.seed(123)\n",
    "distribution = ParetoProbabilityDistribution(alpha=1.8, x_min=8//scale, x_max=study_region_size//4//scale)\n",
    "craters = list(itertools.islice(get_craters(distribution, study_region_size), 5000))\n",
    "\n",
    "calculator = ArealDensityCalculator(study_region_size, study_region_padding, rstat)\n",
    "\n",
    "for crater in craters:\n",
    "    calculator.add_crater(crater)\n",
    "    \n",
    "calculator.areal_density"
   ]
  },
  {
   "cell_type": "code",
   "execution_count": null,
   "id": "96b581a2-0b03-433d-a44e-22641f05fb38",
   "metadata": {},
   "outputs": [],
   "source": []
  }
 ],
 "metadata": {
  "kernelspec": {
   "display_name": "Python 3 (ipykernel)",
   "language": "python",
   "name": "python3"
  },
  "language_info": {
   "codemirror_mode": {
    "name": "ipython",
    "version": 3
   },
   "file_extension": ".py",
   "mimetype": "text/x-python",
   "name": "python",
   "nbconvert_exporter": "python",
   "pygments_lexer": "ipython3",
   "version": "3.10.6"
  }
 },
 "nbformat": 4,
 "nbformat_minor": 5
}
