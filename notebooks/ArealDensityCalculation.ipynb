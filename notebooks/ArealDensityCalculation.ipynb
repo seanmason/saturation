{
 "cells": [
  {
   "cell_type": "markdown",
   "id": "6e8553de-4999-4259-b402-aa308bbd8415",
   "metadata": {},
   "source": [
    "### Areal Density Calculation\n",
    "\n",
    "Demonstration of calculation of areal density"
   ]
  },
  {
   "cell_type": "code",
   "execution_count": 1,
   "id": "09b50175-3bd9-4b49-88cc-6b3de5f38d2e",
   "metadata": {},
   "outputs": [],
   "source": [
    "import numpy as np\n",
    "\n",
    "from saturation.simulation import *\n",
    "from saturation.distributions import *\n",
    "from saturation.geometry import *\n",
    "from saturation.plotting import *"
   ]
  },
  {
   "cell_type": "code",
   "execution_count": 2,
   "id": "e4c7e634-8189-4a45-a4a4-8d4fc23113ea",
   "metadata": {},
   "outputs": [
    {
     "data": {
      "text/plain": [
       "0.1962953125"
      ]
     },
     "execution_count": 2,
     "metadata": {},
     "output_type": "execute_result"
    }
   ],
   "source": [
    "terrain_size = 1000\n",
    "craters = pd.DataFrame([[500, 500, 200]], columns=['x', 'y', 'radius'])\n",
    "\n",
    "margin = terrain_size // 10\n",
    "terrain = np.zeros((terrain_size - 2 * margin, terrain_size - 2 * margin))\n",
    "calculate_areal_density(craters, terrain, margin)"
   ]
  },
  {
   "cell_type": "code",
   "execution_count": 3,
   "id": "2a1e918a-b4cb-4d62-b430-c8776db66999",
   "metadata": {},
   "outputs": [
    {
     "data": {
      "text/plain": [
       "0.19634954084936207"
      ]
     },
     "execution_count": 3,
     "metadata": {},
     "output_type": "execute_result"
    }
   ],
   "source": [
    "# Manually calculated\n",
    "craters.iloc[0].radius ** 2 * np.pi / (terrain_size * 0.8)**2"
   ]
  },
  {
   "cell_type": "code",
   "execution_count": null,
   "id": "c6a37b31-43cf-4d51-9678-aa2e634911c0",
   "metadata": {},
   "outputs": [],
   "source": []
  },
  {
   "cell_type": "code",
   "execution_count": 4,
   "id": "0cd157a8-f1c7-4390-8138-95408a5e6b8b",
   "metadata": {},
   "outputs": [
    {
     "data": {
      "text/plain": [
       "0.7486588125"
      ]
     },
     "execution_count": 4,
     "metadata": {},
     "output_type": "execute_result"
    }
   ],
   "source": [
    "# Larger set of craters\n",
    "terrain_size = 5000\n",
    "power_law_distribution = PowerLawProbabilityDistribution(slope=-2.8, min_value=8)\n",
    "craters = get_craters(5000, power_law_distribution, terrain_size)\n",
    "\n",
    "margin = terrain_size // 10\n",
    "terrain = np.zeros((terrain_size - 2 * margin, terrain_size - 2 * margin))\n",
    "calculate_areal_density(craters, terrain, margin)"
   ]
  }
 ],
 "metadata": {
  "kernelspec": {
   "display_name": "Python 3 (ipykernel)",
   "language": "python",
   "name": "python3"
  },
  "language_info": {
   "codemirror_mode": {
    "name": "ipython",
    "version": 3
   },
   "file_extension": ".py",
   "mimetype": "text/x-python",
   "name": "python",
   "nbconvert_exporter": "python",
   "pygments_lexer": "ipython3",
   "version": "3.10.4"
  }
 },
 "nbformat": 4,
 "nbformat_minor": 5
}
