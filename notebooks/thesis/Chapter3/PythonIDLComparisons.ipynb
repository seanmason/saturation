{
 "cells": [
  {
   "cell_type": "code",
   "execution_count": 130,
   "id": "69e9c216-1e48-4dff-b0a4-de42ae16b1a8",
   "metadata": {},
   "outputs": [],
   "source": [
    "import pandas as pd\n",
    "import numpy as np\n",
    "import matplotlib\n",
    "import matplotlib.pyplot as plt\n",
    "import matplotlib.transforms as mtransforms\n",
    "import scipy.stats as stats\n",
    "from dataclasses import dataclass"
   ]
  },
  {
   "cell_type": "markdown",
   "id": "af68a613-7ac1-4f33-8722-30045aa555e2",
   "metadata": {},
   "source": [
    "### Testing "
   ]
  },
  {
   "cell_type": "code",
   "execution_count": 264,
   "id": "64bc2eec-b319-445c-89a8-8cadaa4dfb12",
   "metadata": {},
   "outputs": [],
   "source": [
    "def read_idl_radii(n_sims: int,\n",
    "                   base_path: str,\n",
    "                   slope: float,\n",
    "                   r_stat_multiplier: float,\n",
    "                   min_rim_percentage: float,\n",
    "                   effective_radius_multiplier: float) -> pd.DataFrame:\n",
    "    x_min = 2.5\n",
    "    \n",
    "    all_radii = []\n",
    "    for x in range(n_sims):\n",
    "        filename = f'{base_path}/{slope:.2f}_{r_stat_multiplier:.2f}_{min_rim_percentage:.2f}_{effective_radius_multiplier:.2f}/run_-{slope:.2f}_{effective_radius_multiplier:.2f}_{min_rim_percentage:.2f}_{r_stat_multiplier:.2f}_{sim_number}_2.csv'\n",
    "        radii = pd.read_csv(filename, header=1)\n",
    "        radii = radii.iloc[1:].copy()\n",
    "        radii = radii.rename(columns={\" center x\": \"x\", \" center y\": \"y\", \" crater radius\": \"radius\"})\n",
    "        radii = radii[(radii.radius >= x_min * r_stat_multiplier * 1.1) & (radii.radius < 2250)].copy()\n",
    "        all_radii.append(radii.radius)\n",
    "        \n",
    "    return pd.concat(all_radii, axis=0)\n",
    "\n",
    "def read_python_radii(n_sims: int,\n",
    "                      base_path: str,\n",
    "                      slope: float,\n",
    "                      r_stat_multiplier: float,\n",
    "                      min_rim_percentage: float,\n",
    "                      effective_radius_multiplier: float) -> pd.DataFrame:\n",
    "    x_min = 2.5\n",
    "    \n",
    "    all_radii = []\n",
    "    for x in range(n_sims):\n",
    "        filename = f'{base_path}/{slope:.2f}_{r_stat_multiplier:.2f}_{min_rim_percentage:.2f}_{effective_radius_multiplier:.2f}/{sim_number}/all_craters.csv'\n",
    "        radii = pd.read_csv(filename)\n",
    "        radii = radii[(radii.radius >= x_min * r_stat_multiplier * 1.1)  & (radii.radius < 2250)].copy()\n",
    "        all_radii.append(radii.radius)\n",
    "        \n",
    "    return pd.concat(all_radii, axis=0)"
   ]
  },
  {
   "cell_type": "code",
   "execution_count": 219,
   "id": "6432a720-440f-45cb-b4ce-ce2031161452",
   "metadata": {},
   "outputs": [],
   "source": [
    "python_base_path = '/home/mason/full_runs/python/verification_runs'\n",
    "idl_base_path = '/home/mason/full_runs/idl'"
   ]
  },
  {
   "cell_type": "code",
   "execution_count": 279,
   "id": "15c5dbd1-4f33-4d87-ac49-0b7d9698f7db",
   "metadata": {},
   "outputs": [
    {
     "name": "stdout",
     "output_type": "stream",
     "text": [
      "KstestResult(statistic=0.05, pvalue=0.5600220048872044)\n",
      "KS critical value: 0.086\n",
      "Anderson_ksampResult(statistic=-0.01616497329680163, critical_values=array([0.325, 1.226, 1.961, 2.718, 3.752, 4.592, 6.546]), significance_level=0.25)\n"
     ]
    },
    {
     "name": "stderr",
     "output_type": "stream",
     "text": [
      "/tmp/ipykernel_39092/2295190258.py:28: UserWarning: p-value capped: true value larger than 0.25\n",
      "  print(stats.anderson_ksamp([choice1, choice2]))\n"
     ]
    }
   ],
   "source": [
    "n_sims = 50\n",
    "slope = 1.00\n",
    "r_stat_multiplier = 3.00\n",
    "min_rim_percentage = 0.40\n",
    "effective_radius_multiplier = 1.50\n",
    "\n",
    "idl_radii = read_idl_radii(n_sims,\n",
    "                           idl_base_path,\n",
    "                           slope,\n",
    "                           r_stat_multiplier,\n",
    "                           min_rim_percentage,\n",
    "                           effective_radius_multiplier)\n",
    "\n",
    "python_radii = read_python_radii(n_sims,\n",
    "                                 python_base_path,\n",
    "                                 slope,\n",
    "                                 r_stat_multiplier,\n",
    "                                 min_rim_percentage,\n",
    "                                 effective_radius_multiplier)\n",
    "\n",
    "np.random.seed(123)\n",
    "choice1 = np.random.choice(python_radii.values, size=500)\n",
    "choice2 = np.random.choice(idl_radii.values, size=500)\n",
    "\n",
    "print(stats.ks_2samp(choice1, choice2))\n",
    "print(f\"KS critical value: {1.358*np.sqrt(1000/500**2):0.3f}\")\n",
    "\n",
    "print(stats.anderson_ksamp([choice1, choice2]))"
   ]
  },
  {
   "cell_type": "code",
   "execution_count": null,
   "id": "7f513d5a-a467-4117-9ea9-5cf7bcabcc4a",
   "metadata": {},
   "outputs": [],
   "source": []
  },
  {
   "cell_type": "code",
   "execution_count": 280,
   "id": "882f30b1-c166-4511-98c9-52f44ff694b7",
   "metadata": {},
   "outputs": [
    {
     "name": "stdout",
     "output_type": "stream",
     "text": [
      "KstestResult(statistic=0.06, pvalue=0.3293581065813255)\n",
      "KS critical value: 0.086\n",
      "Anderson_ksampResult(statistic=-0.1976158811374768, critical_values=array([0.325, 1.226, 1.961, 2.718, 3.752, 4.592, 6.546]), significance_level=0.25)\n"
     ]
    },
    {
     "name": "stderr",
     "output_type": "stream",
     "text": [
      "/tmp/ipykernel_39092/3372983162.py:28: UserWarning: p-value capped: true value larger than 0.25\n",
      "  print(stats.anderson_ksamp([choice1, choice2]))\n"
     ]
    }
   ],
   "source": [
    "n_sims = 50\n",
    "slope = 2.00\n",
    "r_stat_multiplier = 3.00\n",
    "min_rim_percentage = 0.40\n",
    "effective_radius_multiplier = 1.70\n",
    "\n",
    "idl_radii = read_idl_radii(n_sims,\n",
    "                           idl_base_path,\n",
    "                           slope,\n",
    "                           r_stat_multiplier,\n",
    "                           min_rim_percentage,\n",
    "                           effective_radius_multiplier)\n",
    "\n",
    "python_radii = read_python_radii(n_sims,\n",
    "                                 python_base_path,\n",
    "                                 slope,\n",
    "                                 r_stat_multiplier,\n",
    "                                 min_rim_percentage,\n",
    "                                 effective_radius_multiplier)\n",
    "\n",
    "np.random.seed(123)\n",
    "choice1 = np.random.choice(python_radii.values, size=500)\n",
    "choice2 = np.random.choice(idl_radii.values, size=500)\n",
    "\n",
    "print(stats.ks_2samp(choice1, choice2))\n",
    "print(f\"KS critical value: {1.358*np.sqrt(1000/500**2):0.3f}\")\n",
    "\n",
    "print(stats.anderson_ksamp([choice1, choice2]))"
   ]
  },
  {
   "cell_type": "code",
   "execution_count": null,
   "id": "61d49c76-9e28-4f3c-9fe7-84fed7503ee2",
   "metadata": {},
   "outputs": [],
   "source": []
  }
 ],
 "metadata": {
  "kernelspec": {
   "display_name": "Python 3 (ipykernel)",
   "language": "python",
   "name": "python3"
  },
  "language_info": {
   "codemirror_mode": {
    "name": "ipython",
    "version": 3
   },
   "file_extension": ".py",
   "mimetype": "text/x-python",
   "name": "python",
   "nbconvert_exporter": "python",
   "pygments_lexer": "ipython3",
   "version": "3.10.6"
  }
 },
 "nbformat": 4,
 "nbformat_minor": 5
}
