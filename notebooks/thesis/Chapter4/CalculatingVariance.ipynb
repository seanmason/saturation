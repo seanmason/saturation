{
 "cells": [
  {
   "cell_type": "code",
   "execution_count": 1,
   "id": "f95e021c-01fb-408f-9543-819c20c296f2",
   "metadata": {},
   "outputs": [],
   "source": [
    "from pathlib import Path\n",
    "import pandas as pd\n",
    "import numpy as np\n",
    "import numba as nb\n",
    "import pandarallel\n",
    "import itertools\n",
    "import glob\n",
    "from bisect import bisect_left, bisect_right\n",
    "\n",
    "import plotly.express as px\n",
    "import plotly.io as pio\n",
    "import plotly.graph_objects as go\n",
    "import matplotlib.pyplot as plt\n",
    "\n",
    "pio.renderers.default = \"iframe\""
   ]
  },
  {
   "cell_type": "code",
   "execution_count": 2,
   "id": "a3a84a1f-0ab8-43d7-9623-66f3372a9386",
   "metadata": {},
   "outputs": [],
   "source": [
    "def fix_up_df(df: pd.DataFrame):\n",
    "    df[\"information_remaining\"] = df.n_craters_in_study_region / df.n_craters_added_in_study_region\n",
    "    df[\"removals\"] = df.n_craters_added_in_study_region - df.n_craters_in_study_region\n",
    "    df = df[(df.isna().sum(axis=1) == 0)\n",
    "            & (df.z != 0)\n",
    "            & (df.za != 0)\n",
    "    ].copy()\n",
    "    df[\"log_center_to_center_nearest_neighbor_distance_mean\"] = np.log10(df.center_to_center_nearest_neighbor_distance_mean)\n",
    "    df[\"log_n_craters_added_in_study_region\"] = np.log10(df.n_craters_added_in_study_region)\n",
    "    return df"
   ]
  },
  {
   "cell_type": "code",
   "execution_count": 3,
   "id": "f21b18ea-dc9e-45d1-993e-da8dacc7090e",
   "metadata": {},
   "outputs": [],
   "source": [
    "# base_path = \"/data/saturation/random_runs_20230812/\"\n",
    "# base_path = \"/data/saturation/ir_random_1/\"\n",
    "base_path = \"/data/saturation/n_craters_stop_condition_20230918\"\n",
    "\n",
    "# train_df = pd.read_parquet(f\"{base_path}/train_10000_5000.parquet\")\n",
    "# train_df = pd.read_parquet(f\"{base_path}/train_2500_500.parquet\")\n",
    "train_df = pd.read_parquet(f\"{base_path}/train_2500_100.parquet\")\n",
    "train_df = fix_up_df(train_df)\n",
    "\n",
    "# test_df = pd.read_parquet(f\"{base_path}/test_10000_5000.parquet\")\n",
    "# test_df = pd.read_parquet(f\"{base_path}/test_2500_500.parquet\")\n",
    "test_df = pd.read_parquet(f\"{base_path}/test_2500_100.parquet\")\n",
    "test_df = fix_up_df(test_df)"
   ]
  },
  {
   "cell_type": "code",
   "execution_count": 4,
   "id": "225a4923-346f-41d4-b555-5ae0dce101b9",
   "metadata": {},
   "outputs": [],
   "source": [
    "# Combine train and test\n",
    "train_df[\"test\"] = 0\n",
    "test_df[\"test\"] = 1\n",
    "df = pd.concat([train_df, test_df], axis=0).reset_index(drop=True)\n",
    "\n",
    "del train_df\n",
    "del test_df"
   ]
  },
  {
   "cell_type": "code",
   "execution_count": 5,
   "id": "46a3db57-66cd-42dd-8821-330235507410",
   "metadata": {},
   "outputs": [],
   "source": [
    "def get_closests(df, col, val):\n",
    "    lower_idx = bisect_left(df[col].values, val)\n",
    "    higher_idx = bisect_right(df[col].values, val)\n",
    "    if higher_idx == lower_idx:      #val is not in the list\n",
    "        return lower_idx - 1, lower_idx\n",
    "    else:                            #val is in the list\n",
    "        return lower_idx, lower_idx"
   ]
  },
  {
   "cell_type": "code",
   "execution_count": 6,
   "id": "d199a59d-9a31-4432-80ac-0cfb186bb10a",
   "metadata": {},
   "outputs": [],
   "source": [
    "# def add_var(df: pd.DataFrame):\n",
    "#     df = df.sort_values(\"log_center_to_center_nearest_neighbor_distance_mean\").copy()\n",
    "#     df[\"variance\"] = 0\n",
    "    \n",
    "#     half_window = n_samples_in_window // 2\n",
    "#     for idx, row in enumerate(df.itertuples()):\n",
    "#         d = df.iloc[idx:]\n",
    "#         d = d[\n",
    "#             (d.simulation_id != row.simulation_id)\n",
    "#             & (d.slope > row.slope)\n",
    "#         ]\n",
    "#         variance = d.log_n_craters_added_in_study_region.var()\n",
    "#         df.loc[row.Index, \"variance\"] = variance\n",
    "#     return df\n",
    "\n",
    "# def add_var(df: pd.DataFrame,\n",
    "#             slope_delta: float,\n",
    "#             n_samples_for_variance: int):\n",
    "#     df = df.sort_values(\"log_center_to_center_nearest_neighbor_distance_mean\").copy()\n",
    "#     df[\"variance\"] = 0\n",
    "    \n",
    "#     for row in df.itertuples():\n",
    "#         # d = df.iloc[idx-half_window:idx+half_window]\n",
    "#         # Find the closest value\n",
    "#         d = df[\n",
    "#             (df.simulation_id != row.simulation_id)\n",
    "#             & (df.slope > row.slope - slope_delta)\n",
    "#             & (df.slope <= row.slope + slope_delta)\n",
    "#         ]\n",
    "#         idx_low, idx_high = get_closests(d, \"log_center_to_center_nearest_neighbor_distance_mean\", row.log_center_to_center_nearest_neighbor_distance_mean)\n",
    "#         d = d.iloc[idx_low - n_samples_for_variance//2:idx_low+n_samples_for_variance//2]\n",
    "#         variance = d.log_n_craters_added_in_study_region.var()\n",
    "#         df.loc[row.Index, \"variance\"] = variance\n",
    "#         df.loc[row.Index, \"n_variance_samples\"] = d.shape[0]\n",
    "\n",
    "#     return df\n",
    "\n",
    "\n",
    "# def add_var(df: pd.DataFrame,\n",
    "#             slope_delta: float,\n",
    "#             n_samples_for_variance: int):\n",
    "#     df = df.sort_values(\"log_center_to_center_nearest_neighbor_distance_mean\").copy()\n",
    "#     df[\"variance\"] = 0\n",
    "    \n",
    "#     for row in df.itertuples():\n",
    "#         # d = df.iloc[idx-half_window:idx+half_window]\n",
    "#         # Find the closest value\n",
    "#         d = df[\n",
    "#             (df.simulation_id != row.simulation_id)\n",
    "#             & (df.slope > row.slope)\n",
    "#         ]\n",
    "#         idx_low, idx_high = get_closests(df, \"log_center_to_center_nearest_neighbor_distance_mean\", row.log_center_to_center_nearest_neighbor_distance_mean)\n",
    "#         variance_after = df.iloc[idx_high:].log_n_craters_added_in_study_region.var()\n",
    "#         variance_before = df.iloc[:idx_high].log_n_craters_added_in_study_region.var()\n",
    "#         df.loc[row.Index, \"variance_after\"] = variance_after\n",
    "#         df.loc[row.Index, \"variance_before\"] = variance_before\n",
    "\n",
    "#     return df\n",
    "\n",
    "def add_var_v1(df: pd.DataFrame,\n",
    "               c2c_delta: float,\n",
    "               sample_proportion: float):\n",
    "    df = df.sort_values(\"log_center_to_center_nearest_neighbor_distance_mean\").copy()\n",
    "    df[\"variance\"] = 0\n",
    "    df[\"n_samples\"] = 0\n",
    "\n",
    "    sampled = df.sample(int(df.shape[0] * sample_proportion))\n",
    "    for row in sampled.itertuples():\n",
    "        c2c_d = c2c_delta\n",
    "\n",
    "        while c2c_d is not None:\n",
    "            d = df.log_n_craters_added_in_study_region[\n",
    "                (df.slope > row.slope)\n",
    "                & (df.log_center_to_center_nearest_neighbor_distance_mean >= row.log_center_to_center_nearest_neighbor_distance_mean - c2c_d)\n",
    "                & (df.log_center_to_center_nearest_neighbor_distance_mean < row.log_center_to_center_nearest_neighbor_distance_mean + c2c_d)\n",
    "            ]\n",
    "            if d.shape[0] < 50:\n",
    "                c2c_d *= 1.5\n",
    "            else:\n",
    "                c2c_d = None\n",
    "                \n",
    "        df.loc[row.Index, \"variance\"] = d.var()\n",
    "        df.loc[row.Index, \"n_samples\"] = d.shape[0]\n",
    "\n",
    "    return df\n",
    "\n",
    "\n",
    "def create_inner_v1(df: pd.DataFrame,\n",
    "                    c2c_delta: float):\n",
    "    def inner_v1(row):\n",
    "        c2c_d = c2c_delta\n",
    "\n",
    "        while c2c_d is not None:\n",
    "            d = df.log_n_craters_added_in_study_region[\n",
    "                (df.slope > row.slope)\n",
    "                & (df.log_center_to_center_nearest_neighbor_distance_mean >= row.log_center_to_center_nearest_neighbor_distance_mean - c2c_d)\n",
    "                & (df.log_center_to_center_nearest_neighbor_distance_mean < row.log_center_to_center_nearest_neighbor_distance_mean + c2c_d)\n",
    "            ]\n",
    "            if d.shape[0] < 50:\n",
    "                c2c_d *= 1.5\n",
    "            else:\n",
    "                c2c_d = None\n",
    "\n",
    "            if c2c_d and c2c_d > c2c_delta * 100:\n",
    "                c2c_d = None\n",
    "\n",
    "        return d.var()\n",
    "\n",
    "    return inner_v1\n",
    "\n",
    "\n",
    "def add_var_v1_pandarallel(df: pd.DataFrame,\n",
    "                           c2c_delta: float,\n",
    "                           sample_proportion: float):\n",
    "    d = df.sort_values(\"log_center_to_center_nearest_neighbor_distance_mean\").copy()\n",
    "    d[\"variance\"] = 0\n",
    "    d[\"n_samples\"] = 0\n",
    "\n",
    "    sampled = d.sample(int(d.shape[0] * sample_proportion))\n",
    "    d[\"variance\"] = sampled.parallel_apply(create_inner_v1(d, c2c_delta), axis=1)\n",
    "  \n",
    "    return d\n",
    "\n",
    "\n",
    "def create_inner_v1_1(df: pd.DataFrame,\n",
    "                    c2c_delta: float):\n",
    "    def inner_v1(row):\n",
    "        c2c_d = c2c_delta\n",
    "\n",
    "        finished = False\n",
    "        while not finished:\n",
    "            d = df.log_n_craters_added_in_study_region[\n",
    "                (df.slope > row.slope)\n",
    "                & (df.log_center_to_center_nearest_neighbor_distance_mean >= row.log_center_to_center_nearest_neighbor_distance_mean - c2c_d)\n",
    "                & (df.log_center_to_center_nearest_neighbor_distance_mean < row.log_center_to_center_nearest_neighbor_distance_mean + c2c_d)\n",
    "            ]\n",
    "            if d.shape[0] < 50:\n",
    "                c2c_d *= 1.5\n",
    "            else:\n",
    "                finished = True\n",
    "\n",
    "            if not finished and c2c_d > c2c_delta * 100:\n",
    "                finished = True\n",
    "\n",
    "        return d.var(), d.shape[0], c2c_d\n",
    "\n",
    "    return inner_v1\n",
    "\n",
    "\n",
    "def add_var_v1_1_pandarallel(df: pd.DataFrame,\n",
    "                             c2c_delta: float,\n",
    "                             sample_proportion: float):\n",
    "    d = df.sort_values(\"log_center_to_center_nearest_neighbor_distance_mean\").copy()\n",
    "    d[\"variance\"] = 0\n",
    "    d[\"n_samples\"] = 0\n",
    "\n",
    "    sampled = d.sample(int(d.shape[0] * sample_proportion))\n",
    "    res = sampled.parallel_apply(create_inner_v1_1(d, c2c_delta), axis=1)\n",
    "    d[[\"variance\", \"n_samples\", \"final_c2c_delta\"]] = res.parallel_apply(pd.Series)\n",
    "  \n",
    "    return d\n",
    "\n",
    "\n",
    "def add_var_v2(df: pd.DataFrame,\n",
    "               n_samples_for_variance: int,\n",
    "               sample_proportion: float):\n",
    "    df = df.sort_values(\"log_center_to_center_nearest_neighbor_distance_mean\").copy()\n",
    "    df[\"variance\"] = 0\n",
    "    df[\"n_samples\"] = 0\n",
    "\n",
    "    sampled = df.sample(int(df.shape[0] * sample_proportion))\n",
    "    for row in sampled.itertuples():\n",
    "        d = df[\n",
    "            (df.slope > row.slope)\n",
    "        ][[\"log_center_to_center_nearest_neighbor_distance_mean\", \"log_n_craters_added_in_study_region\"]]\n",
    "\n",
    "        idx_low, idx_high = get_closests(d, \"log_center_to_center_nearest_neighbor_distance_mean\", row.log_center_to_center_nearest_neighbor_distance_mean)\n",
    "        variance = d.iloc[idx_high-n_samples_for_variance//2:idx_high+n_samples_for_variance//2].log_n_craters_added_in_study_region.var()\n",
    "        \n",
    "        df.loc[row.Index, \"variance\"] = variance\n",
    "        df.loc[row.Index, \"n_samples\"] = d.shape[0]\n",
    "\n",
    "    return df\n",
    "\n",
    "\n",
    "def create_inner_v3(df: pd.DataFrame,\n",
    "                    c2c_delta: float,\n",
    "                    slope_delta: float):\n",
    "    def inner_v1(row):\n",
    "        c2c_d = c2c_delta\n",
    "\n",
    "        finished = False\n",
    "        while not finished:\n",
    "            d = df.log_n_craters_added_in_study_region[\n",
    "                (df.slope > row.slope)\n",
    "                & (df.slope <= row.slope + slope_delta)\n",
    "                & (df.log_center_to_center_nearest_neighbor_distance_mean >= row.log_center_to_center_nearest_neighbor_distance_mean - c2c_d)\n",
    "                & (df.log_center_to_center_nearest_neighbor_distance_mean < row.log_center_to_center_nearest_neighbor_distance_mean + c2c_d)\n",
    "            ]\n",
    "            if d.shape[0] < 50:\n",
    "                c2c_d *= 1.5\n",
    "            else:\n",
    "                finished = True\n",
    "\n",
    "            if not finished and c2c_d > c2c_delta * 100:\n",
    "                finished = True\n",
    "\n",
    "        return d.var(), d.shape[0], c2c_d\n",
    "\n",
    "    return inner_v1\n",
    "\n",
    "\n",
    "def add_var_v3_pandarallel(df: pd.DataFrame,\n",
    "                           c2c_delta: float,\n",
    "                           slope_delta: float,\n",
    "                           sample_proportion: float):\n",
    "    d = df.sort_values(\"log_center_to_center_nearest_neighbor_distance_mean\").copy()\n",
    "    d[\"variance\"] = 0\n",
    "    d[\"n_samples\"] = 0\n",
    "\n",
    "    if sample_proportion < 1.0:\n",
    "        sampled = d.sample(int(d.shape[0] * sample_proportion))\n",
    "    else:\n",
    "        sampled = d\n",
    "    res = sampled.parallel_apply(create_inner_v3(d, c2c_delta, slope_delta), axis=1)\n",
    "    d[[\"variance\", \"n_samples\", \"final_c2c_delta\"]] = res.parallel_apply(pd.Series)\n",
    "  \n",
    "    return d\n",
    "\n",
    "\n",
    "def create_inner_v4(df: pd.DataFrame,\n",
    "                    c2c_delta: float,\n",
    "                    slope_delta: float):\n",
    "    def inner_v1(row):\n",
    "        c2c_d = c2c_delta\n",
    "\n",
    "        finished = False\n",
    "        while not finished:\n",
    "            d = df.log_n_craters_added_in_study_region[\n",
    "                (df.slope > row.slope - slope_delta)\n",
    "                & (df.slope <= row.slope + slope_delta)\n",
    "                & (df.log_center_to_center_nearest_neighbor_distance_mean >= row.log_center_to_center_nearest_neighbor_distance_mean - c2c_d)\n",
    "                & (df.log_center_to_center_nearest_neighbor_distance_mean < row.log_center_to_center_nearest_neighbor_distance_mean + c2c_d)\n",
    "            ]\n",
    "            if d.shape[0] < 10:\n",
    "                c2c_d *= 1.5\n",
    "            else:\n",
    "                finished = True\n",
    "\n",
    "            if not finished and c2c_d > c2c_delta * 100:\n",
    "                finished = True\n",
    "\n",
    "        return d.var(), d.shape[0], c2c_d\n",
    "\n",
    "    return inner_v1\n",
    "\n",
    "\n",
    "def add_var_v4_pandarallel(df: pd.DataFrame,\n",
    "                           c2c_delta: float,\n",
    "                           slope_delta: float,\n",
    "                           sample_proportion: float):\n",
    "    d = df.sort_values(\"log_center_to_center_nearest_neighbor_distance_mean\").copy()\n",
    "    d[\"variance\"] = 0\n",
    "    d[\"n_samples\"] = 0\n",
    "\n",
    "    sampled = d.sample(int(d.shape[0] * sample_proportion))\n",
    "    res = sampled.parallel_apply(create_inner_v4(d, c2c_delta, slope_delta), axis=1)\n",
    "    d[[\"variance\", \"n_samples\", \"final_c2c_delta\"]] = res.parallel_apply(pd.Series)\n",
    "  \n",
    "    return d"
   ]
  },
  {
   "cell_type": "code",
   "execution_count": 7,
   "id": "652a48f0-b09e-404b-bc3b-0c1b3ac23586",
   "metadata": {},
   "outputs": [],
   "source": [
    "# pandarallel.pandarallel.initialize(progress_bar=True, use_memory_fs=True, nb_workers=20)\n",
    "# df = add_var_v1_pandarallel(df, 0.025, .5)"
   ]
  },
  {
   "cell_type": "code",
   "execution_count": 8,
   "id": "d1413732-4557-4a58-a390-5ceab653b142",
   "metadata": {},
   "outputs": [],
   "source": [
    "# pandarallel.pandarallel.initialize(progress_bar=True, use_memory_fs=True, nb_workers=20)\n",
    "# df = add_var_v1_1_pandarallel(df, 0.005, .15)"
   ]
  },
  {
   "cell_type": "code",
   "execution_count": 8,
   "id": "61d8ec02-13b4-4cc9-8169-9f7553ff0d62",
   "metadata": {},
   "outputs": [],
   "source": [
    "# pandarallel.pandarallel.initialize(progress_bar=True, use_memory_fs=True, nb_workers=20)\n",
    "# df = add_var_v3_pandarallel(df, 0.005, 0.2, .25)"
   ]
  },
  {
   "cell_type": "code",
   "execution_count": 9,
   "id": "f4082b93-a975-49da-b662-8bcdea562651",
   "metadata": {},
   "outputs": [],
   "source": [
    "# # This seems to be the best method yet\n",
    "# pandarallel.pandarallel.initialize(progress_bar=True, use_memory_fs=True, nb_workers=20)\n",
    "# df = add_var_v4_pandarallel(df, 0.005, 0.05, .25)"
   ]
  },
  {
   "cell_type": "code",
   "execution_count": 9,
   "id": "5e075e03-7107-453d-a7bc-f21715f319a2",
   "metadata": {},
   "outputs": [
    {
     "name": "stdout",
     "output_type": "stream",
     "text": [
      "INFO: Pandarallel will run on 16 workers.\n",
      "INFO: Pandarallel will use Memory file system to transfer data between the main process and workers.\n"
     ]
    },
    {
     "data": {
      "application/vnd.jupyter.widget-view+json": {
       "model_id": "3d0495bf060c4ba68105c3860e795a23",
       "version_major": 2,
       "version_minor": 0
      },
      "text/plain": [
       "VBox(children=(HBox(children=(IntProgress(value=0, description='0.00%', max=15625), Label(value='0 / 15625')))…"
      ]
     },
     "metadata": {},
     "output_type": "display_data"
    },
    {
     "data": {
      "application/vnd.jupyter.widget-view+json": {
       "model_id": "3df8a4d32f0040ce9fd621d6faad66ea",
       "version_major": 2,
       "version_minor": 0
      },
      "text/plain": [
       "VBox(children=(HBox(children=(IntProgress(value=0, description='0.00%', max=15625), Label(value='0 / 15625')))…"
      ]
     },
     "metadata": {},
     "output_type": "display_data"
    }
   ],
   "source": [
    "# Trying alternate settings\n",
    "pandarallel.pandarallel.initialize(progress_bar=True, use_memory_fs=True)\n",
    "df = add_var_v4_pandarallel(df, 0.005, 0.05, 1)"
   ]
  },
  {
   "cell_type": "code",
   "execution_count": null,
   "id": "76bad5b4-1945-4861-a20b-bdfe50dcf2f0",
   "metadata": {},
   "outputs": [],
   "source": []
  },
  {
   "cell_type": "code",
   "execution_count": 10,
   "id": "e5de9a85-0389-4dc2-9bf0-44d0245188dd",
   "metadata": {},
   "outputs": [
    {
     "name": "stderr",
     "output_type": "stream",
     "text": [
      "/home/mason/code/saturation/venv_311/lib/python3.11/site-packages/pandas/core/arraylike.py:396: RuntimeWarning:\n",
      "\n",
      "divide by zero encountered in log10\n",
      "\n"
     ]
    },
    {
     "data": {
      "text/html": [
       "<iframe\n",
       "    scrolling=\"no\"\n",
       "    width=\"100%\"\n",
       "    height=\"545px\"\n",
       "    src=\"iframe_figures/figure_10.html\"\n",
       "    frameborder=\"0\"\n",
       "    allowfullscreen\n",
       "></iframe>\n"
      ]
     },
     "metadata": {},
     "output_type": "display_data"
    }
   ],
   "source": [
    "df[\"log_stdev_n\"] = np.log10(np.sqrt(df.variance))\n",
    "to_show = df.sample(df.shape[0] // 10)\n",
    "to_show = to_show[to_show.variance > 0]\n",
    "\n",
    "fig = px.scatter(\n",
    "    to_show,\n",
    "    x=\"log_center_to_center_nearest_neighbor_distance_mean\",\n",
    "    y=\"log_n_craters_added_in_study_region\",\n",
    "    color=\"information_remaining\",\n",
    "    hover_data=[\"slope\", \"n_craters_added_in_study_region\", \"areal_density\", \"n_craters_in_study_region\", \"simulation_id\"],\n",
    "    size_max=1,\n",
    ")\n",
    "fig.update_layout(\n",
    "    xaxis_title=dict(\n",
    "        text=\"$log_{10}(\\overline{NN_d})$\",\n",
    "        font=dict(size=18)\n",
    "    ),\n",
    "    yaxis_title=dict(\n",
    "        text=\"$log_{10}(N_{tot})$\",\n",
    "        font=dict(size=18)\n",
    "    ),\n",
    ")\n",
    "fig.update_traces(marker={\"size\":3})\n",
    "fig.show()"
   ]
  },
  {
   "cell_type": "code",
   "execution_count": 40,
   "id": "6b37c766-105e-47b9-9e05-6f9ea6784ba8",
   "metadata": {},
   "outputs": [
    {
     "name": "stderr",
     "output_type": "stream",
     "text": [
      "/home/mason/code/saturation/venv_311/lib/python3.11/site-packages/pandas/core/arraylike.py:396: RuntimeWarning:\n",
      "\n",
      "divide by zero encountered in log10\n",
      "\n"
     ]
    },
    {
     "data": {
      "text/html": [
       "<iframe\n",
       "    scrolling=\"no\"\n",
       "    width=\"100%\"\n",
       "    height=\"545px\"\n",
       "    src=\"iframe_figures/figure_40.html\"\n",
       "    frameborder=\"0\"\n",
       "    allowfullscreen\n",
       "></iframe>\n"
      ]
     },
     "metadata": {},
     "output_type": "display_data"
    }
   ],
   "source": [
    "# Trying a range selector\n",
    "df[\"log_stdev_n\"] = np.log10(np.sqrt(df.variance))\n",
    "to_show = df[(df.variance > 0)].copy()\n",
    "# to_show = to_show.sample(to_show.shape[0] // 10)\n",
    "to_show[\"slope_selector\"] = ((to_show.slope - 1) * 10).astype(\"int\") / 10 + 1\n",
    "to_show = to_show.sort_values(\"slope_selector\")\n",
    "to_show[\"index\"] = range(to_show.shape[0])\n",
    "\n",
    "range_x = [to_show.log_center_to_center_nearest_neighbor_distance_mean.min(), to_show.log_center_to_center_nearest_neighbor_distance_mean.max()]\n",
    "range_y = [to_show.log_n_craters_added_in_study_region.min(), to_show.log_n_craters_added_in_study_region.max()]\n",
    "range_color = [to_show.log_variance.min(), to_show.log_variance.max()]\n",
    "\n",
    "fig = px.scatter(\n",
    "    to_show,\n",
    "    x=\"log_center_to_center_nearest_neighbor_distance_mean\",\n",
    "    y=\"log_n_craters_added_in_study_region\",\n",
    "    hover_data=[\"slope\", \"n_craters_added_in_study_region\", \"n_samples\", \"final_c2c_delta\"],\n",
    "    size_max=1,\n",
    "    animation_frame=\"slope_selector\",\n",
    "    animation_group=\"index\",\n",
    "    range_x=range_x,\n",
    "    range_y=range_y,\n",
    "    range_color=range_color\n",
    ")\n",
    "fig.update_layout(\n",
    "    xaxis_title=dict(\n",
    "        text=\"$log_{10}(\\overline{NN_d})$\",\n",
    "        font=dict(size=18)\n",
    "    ),\n",
    "    yaxis_title=dict(\n",
    "        text=\"$log(N_{tot})$\",\n",
    "        font=dict(size=18)\n",
    "    ),\n",
    ")\n",
    "fig.update_traces(marker={\"size\":3})\n",
    "fig.show()"
   ]
  },
  {
   "cell_type": "code",
   "execution_count": null,
   "id": "2b5777cb-79bd-4d68-b835-a72b14116197",
   "metadata": {},
   "outputs": [],
   "source": []
  },
  {
   "cell_type": "code",
   "execution_count": null,
   "id": "4df1a13c-33e9-406c-a5fc-00699f0bf355",
   "metadata": {},
   "outputs": [],
   "source": []
  },
  {
   "cell_type": "code",
   "execution_count": 11,
   "id": "309fe668-1e5b-4319-adb4-51847530ca02",
   "metadata": {},
   "outputs": [
    {
     "data": {
      "text/html": [
       "<iframe\n",
       "    scrolling=\"no\"\n",
       "    width=\"100%\"\n",
       "    height=\"545px\"\n",
       "    src=\"iframe_figures/figure_11.html\"\n",
       "    frameborder=\"0\"\n",
       "    allowfullscreen\n",
       "></iframe>\n"
      ]
     },
     "metadata": {},
     "output_type": "display_data"
    }
   ],
   "source": [
    "# Just slicing\n",
    "to_show = df[(df.variance > 0)].copy()\n",
    "to_show = to_show[\n",
    "    (to_show.slope > 2.1)\n",
    "    & (to_show.slope < 2.2)\n",
    "]\n",
    "\n",
    "range_x = [to_show.log_center_to_center_nearest_neighbor_distance_mean.min(), to_show.log_center_to_center_nearest_neighbor_distance_mean.max()]\n",
    "range_y = [to_show.log_n_craters_added_in_study_region.min(), to_show.log_n_craters_added_in_study_region.max()]\n",
    "\n",
    "fig = px.scatter(\n",
    "    to_show,\n",
    "    x=\"log_center_to_center_nearest_neighbor_distance_mean\",\n",
    "    y=\"log_n_craters_added_in_study_region\",\n",
    "    size_max=1,\n",
    "    range_x=range_x,\n",
    "    range_y=range_y,\n",
    ")\n",
    "fig.update_layout(\n",
    "    xaxis_title=dict(\n",
    "        text=\"$log_{10}(\\overline{NN_d})$\",\n",
    "        font=dict(size=18)\n",
    "    ),\n",
    "    yaxis_title=dict(\n",
    "        text=\"$log_{10}(N_{tot})$\",\n",
    "        font=dict(size=18)\n",
    "    ),\n",
    ")\n",
    "fig.add_shape(type=\"line\",\n",
    "              x0=1.6,\n",
    "              y0=range_y[0],\n",
    "              x1=1.6,\n",
    "              y1=range_y[1],\n",
    "              line=dict(dash=\"dash\")\n",
    "             )\n",
    "fig.add_shape(type=\"line\",\n",
    "              x0=1.7,\n",
    "              y0=range_y[0],\n",
    "              x1=1.7,\n",
    "              y1=range_y[1],\n",
    "             )\n",
    "fig.add_shape(type=\"line\",\n",
    "              x0=1.8,\n",
    "              y0=range_y[0],\n",
    "              x1=1.8,\n",
    "              y1=range_y[1],\n",
    "              line=dict(dash=\"dash\")\n",
    "             )\n",
    "fig.update_traces(marker={\"size\":3})\n",
    "fig.show()"
   ]
  },
  {
   "cell_type": "code",
   "execution_count": 23,
   "id": "961ecc49-ad03-43a7-a8ba-ded30fd9fd1e",
   "metadata": {},
   "outputs": [
    {
     "data": {
      "text/html": [
       "<iframe\n",
       "    scrolling=\"no\"\n",
       "    width=\"100%\"\n",
       "    height=\"545px\"\n",
       "    src=\"iframe_figures/figure_23.html\"\n",
       "    frameborder=\"0\"\n",
       "    allowfullscreen\n",
       "></iframe>\n"
      ]
     },
     "metadata": {},
     "output_type": "display_data"
    }
   ],
   "source": [
    "# Just slicing\n",
    "to_show = df[(df.variance > 0)].copy()\n",
    "to_show = to_show[\n",
    "    (to_show.slope > 2.1)\n",
    "    & (to_show.slope < 2.2)\n",
    "]\n",
    "\n",
    "range_x = [to_show.log_center_to_center_nearest_neighbor_distance_mean.min(), to_show.log_center_to_center_nearest_neighbor_distance_mean.max()]\n",
    "range_y = [to_show.log_n_craters_added_in_study_region.min(), to_show.log_n_craters_added_in_study_region.max()]\n",
    "\n",
    "fig = px.scatter(\n",
    "    to_show,\n",
    "    x=\"log_center_to_center_nearest_neighbor_distance_mean\",\n",
    "    y=\"log_n_craters_added_in_study_region\",\n",
    "    size_max=1,\n",
    "    range_x=range_x,\n",
    "    range_y=range_y,\n",
    ")\n",
    "fig.update_layout(\n",
    "    xaxis_title=dict(\n",
    "        text=\"$log_{10}(\\overline{NN_d})$\",\n",
    "        font=dict(size=18)\n",
    "    ),\n",
    "    yaxis_title=dict(\n",
    "        text=\"$log_{10}(N_{tot})$\",\n",
    "        font=dict(size=18)\n",
    "    ),\n",
    ")\n",
    "fig.add_shape(type=\"line\",\n",
    "              x0=1.2,\n",
    "              y0=range_y[0],\n",
    "              x1=1.2,\n",
    "              y1=range_y[1],\n",
    "              line=dict(dash=\"dash\")\n",
    "             )\n",
    "fig.add_shape(type=\"line\",\n",
    "              x0=1.3,\n",
    "              y0=range_y[0],\n",
    "              x1=1.3,\n",
    "              y1=range_y[1],\n",
    "             )\n",
    "fig.add_shape(type=\"line\",\n",
    "              x0=1.4,\n",
    "              y0=range_y[0],\n",
    "              x1=1.4,\n",
    "              y1=range_y[1],\n",
    "              line=dict(dash=\"dash\")\n",
    "             )\n",
    "fig.update_traces(marker={\"size\":3})\n",
    "fig.show()"
   ]
  },
  {
   "cell_type": "code",
   "execution_count": null,
   "id": "98f76189-330e-4cdc-acc3-dce4d7cd4ea5",
   "metadata": {},
   "outputs": [],
   "source": []
  },
  {
   "cell_type": "code",
   "execution_count": 14,
   "id": "5491b043-1996-4df6-9d58-9853290084a2",
   "metadata": {},
   "outputs": [
    {
     "data": {
      "text/plain": [
       "Text(0, 0.5, '$log_{10}(N_{tot})$')"
      ]
     },
     "execution_count": 14,
     "metadata": {},
     "output_type": "execute_result"
    },
    {
     "data": {
      "image/png": "[encoded data removed]",
      "text/plain": [
       "<Figure size 640x480 with 1 Axes>"
      ]
     },
     "metadata": {},
     "output_type": "display_data"
    }
   ],
   "source": [
    "# Density to show 95% CI on N\n",
    "import seaborn as sns\n",
    "\n",
    "to_show = df[(df.variance > 0)].copy()\n",
    "to_show = to_show[\n",
    "    (to_show.slope > 2.1)\n",
    "    & (to_show.slope < 2.2)\n",
    "    & (to_show.log_center_to_center_nearest_neighbor_distance_mean > 1.6)\n",
    "    & (to_show.log_center_to_center_nearest_neighbor_distance_mean < 1.8)\n",
    "]\n",
    "\n",
    "sns.histplot(\n",
    "    y=to_show.log_n_craters_added_in_study_region,\n",
    "    kde=True,\n",
    ")\n",
    "plt.xlim(0, 15)\n",
    "plt.hlines(y=[3.08, 3.485], xmin=0, xmax=15, linestyles=\"dashed\", color=\"red\", linewidth=1.8)\n",
    "plt.ylabel(\"$log_{10}(N_{tot})$\")"
   ]
  },
  {
   "cell_type": "code",
   "execution_count": 22,
   "id": "c197917a-2f5e-4535-8420-a16766785ec7",
   "metadata": {},
   "outputs": [
    {
     "data": {
      "text/plain": [
       "Text(0, 0.5, '$log_{10}(N_{tot})$')"
      ]
     },
     "execution_count": 22,
     "metadata": {},
     "output_type": "execute_result"
    },
    {
     "data": {
      "image/png": "[encoded data removed]",
      "text/plain": [
       "<Figure size 640x480 with 1 Axes>"
      ]
     },
     "metadata": {},
     "output_type": "display_data"
    }
   ],
   "source": [
    "# Density to show 95% CI on N\n",
    "import seaborn as sns\n",
    "\n",
    "to_show = df[(df.variance > 0)].copy()\n",
    "to_show = to_show[\n",
    "    (to_show.slope > 2.1)\n",
    "    & (to_show.slope < 2.2)\n",
    "    & (to_show.log_center_to_center_nearest_neighbor_distance_mean > 1.2)\n",
    "    & (to_show.log_center_to_center_nearest_neighbor_distance_mean < 1.4)\n",
    "]\n",
    "\n",
    "sns.histplot(\n",
    "    y=to_show.log_n_craters_added_in_study_region,\n",
    "    kde=True,\n",
    "    bins=8\n",
    ")\n",
    "plt.xlim(0, 3500)\n",
    "plt.hlines(y=[4.15, 5.5], xmin=0, xmax=3500, linestyles=\"dashed\", color=\"red\", linewidth=1.8)\n",
    "plt.ylabel(\"$log_{10}(N_{tot})$\")"
   ]
  },
  {
   "cell_type": "code",
   "execution_count": 25,
   "id": "d180253d-d38a-4750-9263-b20a9e6cefb7",
   "metadata": {},
   "outputs": [
    {
     "data": {
      "text/plain": [
       "4.149988456491476"
      ]
     },
     "execution_count": 25,
     "metadata": {},
     "output_type": "execute_result"
    }
   ],
   "source": [
    "np.log10(316226) \n",
    "np.log10(14125)"
   ]
  },
  {
   "cell_type": "code",
   "execution_count": 27,
   "id": "9b572048-a88c-4e3f-8c5b-47cf2350664a",
   "metadata": {},
   "outputs": [
    {
     "data": {
      "text/plain": [
       "3.484869032720402"
      ]
     },
     "execution_count": 27,
     "metadata": {},
     "output_type": "execute_result"
    }
   ],
   "source": [
    "# np.log10(1202)\n",
    "np.log10(3054)"
   ]
  },
  {
   "cell_type": "code",
   "execution_count": null,
   "id": "cedadae9-6ef7-4ac7-b879-ac3aa6c36346",
   "metadata": {},
   "outputs": [],
   "source": []
  },
  {
   "cell_type": "code",
   "execution_count": 18,
   "id": "7045acb1-a640-4e0c-98fb-8dc20cc1876a",
   "metadata": {},
   "outputs": [
    {
     "name": "stderr",
     "output_type": "stream",
     "text": [
      "/home/mason/code/saturation/venv_311/lib/python3.11/site-packages/pandas/core/arraylike.py:396: RuntimeWarning:\n",
      "\n",
      "divide by zero encountered in log10\n",
      "\n"
     ]
    },
    {
     "data": {
      "text/html": [
       "<iframe\n",
       "    scrolling=\"no\"\n",
       "    width=\"100%\"\n",
       "    height=\"545px\"\n",
       "    src=\"iframe_figures/figure_18.html\"\n",
       "    frameborder=\"0\"\n",
       "    allowfullscreen\n",
       "></iframe>\n"
      ]
     },
     "metadata": {},
     "output_type": "display_data"
    }
   ],
   "source": [
    "df[\"log_var\"] = np.log10(df.variance)\n",
    "to_show = df.sample(df.shape[0] // 10)\n",
    "to_show = to_show[to_show.variance > 0]\n",
    "fig = px.scatter_3d(\n",
    "    to_show,\n",
    "    x=\"log_center_to_center_nearest_neighbor_distance_mean\",\n",
    "    y=\"log_n_craters_added_in_study_region\",\n",
    "    z=\"slope\",\n",
    "    color=\"log_variance\",\n",
    "    hover_data=[\"slope\", \"n_craters_added_in_study_region\"],\n",
    "    size_max=1,\n",
    ")\n",
    "fig.update_traces(marker={\"size\":3})\n",
    "fig.show()"
   ]
  },
  {
   "cell_type": "code",
   "execution_count": 19,
   "id": "9890006f-06f9-4169-8399-fb1616b93da5",
   "metadata": {},
   "outputs": [],
   "source": [
    "d = df[df.variance > 0]\n",
    "\n",
    "d[d.test == 0].sort_values(\"crater_id\").to_parquet(f\"{base_path}/train_with_variance.parquet\")\n",
    "d[d.test == 1].sort_values(\"crater_id\").to_parquet(f\"{base_path}/test_with_variance.parquet\")"
   ]
  },
  {
   "cell_type": "code",
   "execution_count": null,
   "id": "38727a85-5856-48b3-8185-be71ce5a27f3",
   "metadata": {},
   "outputs": [],
   "source": []
  }
 ],
 "metadata": {
  "kernelspec": {
   "display_name": "Python 3 (ipykernel)",
   "language": "python",
   "name": "python3"
  },
  "language_info": {
   "codemirror_mode": {
    "name": "ipython",
    "version": 3
   },
   "file_extension": ".py",
   "mimetype": "text/x-python",
   "name": "python",
   "nbconvert_exporter": "python",
   "pygments_lexer": "ipython3",
   "version": "3.11.6"
  }
 },
 "nbformat": 4,
 "nbformat_minor": 5
}
