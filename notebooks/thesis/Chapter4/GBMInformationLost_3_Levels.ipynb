{
 "cells": [
  {
   "cell_type": "code",
   "execution_count": 1,
   "id": "55e0efce-6a46-44c6-8945-804d72b55b6c",
   "metadata": {},
   "outputs": [],
   "source": [
    "import matplotlib.pyplot as plt\n",
    "import plotly.express as px\n",
    "import plotly.io as pio\n",
    "import plotly.graph_objects as go\n",
    "\n",
    "from pathlib import Path\n",
    "import pandas as pd\n",
    "import numpy as np\n",
    "\n",
    "import pyspark\n",
    "import pyspark.sql.functions as F\n",
    "from pyspark.sql import SparkSession, DataFrame, Row, Window\n",
    "from pyspark.ml.linalg import Vectors\n",
    "from pyspark.ml.feature import VectorAssembler\n",
    "\n",
    "import statsmodels.api as sm\n",
    "import scipy.stats as stats\n",
    "\n",
    "import sklearn\n",
    "from sklearn.linear_model import LinearRegression\n",
    "from sklearn.ensemble import RandomForestRegressor\n",
    "from sklearn.ensemble import GradientBoostingRegressor\n",
    "from sklearn.feature_selection import RFECV\n",
    "from sklearn.model_selection import KFold\n",
    "\n",
    "from sklearn.model_selection import train_test_split\n",
    "from sklearn.metrics import *\n",
    "\n",
    "from synapse.ml.lightgbm import *\n",
    "\n",
    "pio.renderers.default = \"iframe\""
   ]
  },
  {
   "cell_type": "code",
   "execution_count": 34,
   "id": "5c53298e-9414-4908-9ccc-c21ca98a8bf5",
   "metadata": {},
   "outputs": [],
   "source": [
    "# base_path = \"/data/saturation/central_composite_design/ccd6\"\n",
    "# base_path_holdout = \"/data/saturation/central_composite_design/ccd6_holdout_larger\"\n",
    "\n",
    "base_path = \"/data/saturation/central_composite_design/ccd9\"\n",
    "base_path_holdout = \"/data/saturation/central_composite_design/ccd9_holdout\"\n",
    "\n",
    "ivs = [\"slope\", \"min_rim_percentage\", \"effective_radius_multiplier\", \"n_craters_in_study_region\", \"z\", \"za\", \"areal_density\"]"
   ]
  },
  {
   "cell_type": "code",
   "execution_count": 35,
   "id": "49f00a09-629a-4aac-84bc-047277229ada",
   "metadata": {},
   "outputs": [],
   "source": [
    "sample_size = 5000\n",
    "\n",
    "train_df = pd.read_csv(f\"{base_path}/sample_{sample_size}.csv\")\n",
    "train_df[\"za\"] = train_df.za.fillna(0)\n",
    "train_df[\"z\"] = train_df.z.fillna(0)\n",
    "train_df[\"information_lost\"] = (1 - train_df.n_craters_in_study_region / train_df.n_craters_added_in_study_region).fillna(0)\n",
    "\n",
    "# First test_df contains simulations that are near the vertices of the CCD\n",
    "# Second test_df contains simulations that are in the midpoints of CCD levels\n",
    "test_dfs = [\n",
    "    pd.read_csv(f\"{base_path}/in_sample_holdout_sample_{sample_size}.csv\"),\n",
    "    pd.read_csv(f\"{base_path_holdout}/sample_{sample_size}.csv\")\n",
    "]\n",
    "\n",
    "for test_df in test_dfs:\n",
    "    test_df[\"za\"] = test_df.za.fillna(0)\n",
    "    test_df[\"z\"] = test_df.z.fillna(0)\n",
    "    test_df[\"information_lost\"] = (1 - test_df.n_craters_in_study_region / test_df.n_craters_added_in_study_region).fillna(0)\n",
    "\n",
    "metric = \"information_lost\""
   ]
  },
  {
   "cell_type": "code",
   "execution_count": null,
   "id": "01885dcb-5013-44ff-a80f-e7fa0e975dc4",
   "metadata": {},
   "outputs": [],
   "source": []
  },
  {
   "cell_type": "code",
   "execution_count": 4,
   "id": "b9363eba-da9b-469f-b341-8385e453f481",
   "metadata": {},
   "outputs": [
    {
     "name": "stdout",
     "output_type": "stream",
     "text": [
      "23/06/13 16:47:08 WARN Utils: Your hostname, muninn resolves to a loopback address: 127.0.1.1; using 192.168.86.20 instead (on interface enp8s0)\n",
      "23/06/13 16:47:08 WARN Utils: Set SPARK_LOCAL_IP if you need to bind to another address\n"
     ]
    },
    {
     "name": "stderr",
     "output_type": "stream",
     "text": [
      "https://mmlspark.azureedge.net/maven added as a remote repository with the name: repo-1\n",
      "Ivy Default Cache set to: /home/mason/.ivy2/cache\n",
      "The jars for the packages stored in: /home/mason/.ivy2/jars\n",
      "com.microsoft.azure#synapseml_2.12 added as a dependency\n",
      ":: resolving dependencies :: org.apache.spark#spark-submit-parent-e504a693-5d50-4ea6-9e2c-c61cca928754;1.0\n",
      "\tconfs: [default]\n"
     ]
    },
    {
     "name": "stdout",
     "output_type": "stream",
     "text": [
      ":: loading settings :: url = jar:file:/home/mason/code/saturation/venv/lib/python3.10/site-packages/pyspark/jars/ivy-2.5.0.jar!/org/apache/ivy/core/settings/ivysettings.xml\n"
     ]
    },
    {
     "name": "stderr",
     "output_type": "stream",
     "text": [
      "\tfound com.microsoft.azure#synapseml_2.12;0.10.2 in central\n",
      "\tfound com.microsoft.azure#synapseml-core_2.12;0.10.2 in central\n",
      "\tfound org.scalactic#scalactic_2.12;3.2.14 in central\n",
      "\tfound org.scala-lang#scala-reflect;2.12.15 in central\n",
      "\tfound io.spray#spray-json_2.12;1.3.5 in central\n",
      "\tfound com.jcraft#jsch;0.1.54 in central\n",
      "\tfound org.apache.httpcomponents.client5#httpclient5;5.1.3 in central\n",
      "\tfound org.apache.httpcomponents.core5#httpcore5;5.1.3 in central\n",
      "\tfound org.apache.httpcomponents.core5#httpcore5-h2;5.1.3 in central\n",
      "\tfound org.slf4j#slf4j-api;1.7.25 in central\n",
      "\tfound commons-codec#commons-codec;1.15 in central\n",
      "\tfound org.apache.httpcomponents#httpmime;4.5.13 in central\n",
      "\tfound org.apache.httpcomponents#httpclient;4.5.13 in central\n",
      "\tfound org.apache.httpcomponents#httpcore;4.4.13 in central\n",
      "\tfound commons-logging#commons-logging;1.2 in central\n",
      "\tfound com.linkedin.isolation-forest#isolation-forest_3.2.0_2.12;2.0.8 in central\n",
      "\tfound com.chuusai#shapeless_2.12;2.3.2 in central\n",
      "\tfound org.typelevel#macro-compat_2.12;1.1.1 in central\n",
      "\tfound org.apache.spark#spark-avro_2.12;3.2.0 in central\n",
      "\tfound org.tukaani#xz;1.8 in central\n",
      "\tfound org.spark-project.spark#unused;1.0.0 in central\n",
      "\tfound org.testng#testng;6.8.8 in central\n",
      "\tfound org.beanshell#bsh;2.0b4 in central\n",
      "\tfound com.beust#jcommander;1.27 in central\n",
      "\tfound com.microsoft.azure#synapseml-deep-learning_2.12;0.10.2 in central\n",
      "\tfound com.microsoft.azure#synapseml-opencv_2.12;0.10.2 in central\n",
      "\tfound org.openpnp#opencv;3.2.0-1 in central\n",
      "\tfound com.microsoft.azure#onnx-protobuf_2.12;0.9.1 in central\n",
      "\tfound com.microsoft.cntk#cntk;2.4 in central\n",
      "\tfound com.microsoft.onnxruntime#onnxruntime_gpu;1.8.1 in central\n",
      "\tfound com.microsoft.azure#synapseml-cognitive_2.12;0.10.2 in central\n",
      "\tfound com.microsoft.cognitiveservices.speech#client-jar-sdk;1.14.0 in central\n",
      "\tfound com.microsoft.azure#synapseml-vw_2.12;0.10.2 in central\n",
      "\tfound com.github.vowpalwabbit#vw-jni;8.9.1 in central\n",
      "\tfound com.microsoft.azure#synapseml-lightgbm_2.12;0.10.2 in central\n",
      "\tfound com.microsoft.ml.lightgbm#lightgbmlib;3.2.110 in central\n",
      ":: resolution report :: resolve 480ms :: artifacts dl 37ms\n",
      "\t:: modules in use:\n",
      "\tcom.beust#jcommander;1.27 from central in [default]\n",
      "\tcom.chuusai#shapeless_2.12;2.3.2 from central in [default]\n",
      "\tcom.github.vowpalwabbit#vw-jni;8.9.1 from central in [default]\n",
      "\tcom.jcraft#jsch;0.1.54 from central in [default]\n",
      "\tcom.linkedin.isolation-forest#isolation-forest_3.2.0_2.12;2.0.8 from central in [default]\n",
      "\tcom.microsoft.azure#onnx-protobuf_2.12;0.9.1 from central in [default]\n",
      "\tcom.microsoft.azure#synapseml-cognitive_2.12;0.10.2 from central in [default]\n",
      "\tcom.microsoft.azure#synapseml-core_2.12;0.10.2 from central in [default]\n",
      "\tcom.microsoft.azure#synapseml-deep-learning_2.12;0.10.2 from central in [default]\n",
      "\tcom.microsoft.azure#synapseml-lightgbm_2.12;0.10.2 from central in [default]\n",
      "\tcom.microsoft.azure#synapseml-opencv_2.12;0.10.2 from central in [default]\n",
      "\tcom.microsoft.azure#synapseml-vw_2.12;0.10.2 from central in [default]\n",
      "\tcom.microsoft.azure#synapseml_2.12;0.10.2 from central in [default]\n",
      "\tcom.microsoft.cntk#cntk;2.4 from central in [default]\n",
      "\tcom.microsoft.cognitiveservices.speech#client-jar-sdk;1.14.0 from central in [default]\n",
      "\tcom.microsoft.ml.lightgbm#lightgbmlib;3.2.110 from central in [default]\n",
      "\tcom.microsoft.onnxruntime#onnxruntime_gpu;1.8.1 from central in [default]\n",
      "\tcommons-codec#commons-codec;1.15 from central in [default]\n",
      "\tcommons-logging#commons-logging;1.2 from central in [default]\n",
      "\tio.spray#spray-json_2.12;1.3.5 from central in [default]\n",
      "\torg.apache.httpcomponents#httpclient;4.5.13 from central in [default]\n",
      "\torg.apache.httpcomponents#httpcore;4.4.13 from central in [default]\n",
      "\torg.apache.httpcomponents#httpmime;4.5.13 from central in [default]\n",
      "\torg.apache.httpcomponents.client5#httpclient5;5.1.3 from central in [default]\n",
      "\torg.apache.httpcomponents.core5#httpcore5;5.1.3 from central in [default]\n",
      "\torg.apache.httpcomponents.core5#httpcore5-h2;5.1.3 from central in [default]\n",
      "\torg.apache.spark#spark-avro_2.12;3.2.0 from central in [default]\n",
      "\torg.beanshell#bsh;2.0b4 from central in [default]\n",
      "\torg.openpnp#opencv;3.2.0-1 from central in [default]\n",
      "\torg.scala-lang#scala-reflect;2.12.15 from central in [default]\n",
      "\torg.scalactic#scalactic_2.12;3.2.14 from central in [default]\n",
      "\torg.slf4j#slf4j-api;1.7.25 from central in [default]\n",
      "\torg.spark-project.spark#unused;1.0.0 from central in [default]\n",
      "\torg.testng#testng;6.8.8 from central in [default]\n",
      "\torg.tukaani#xz;1.8 from central in [default]\n",
      "\torg.typelevel#macro-compat_2.12;1.1.1 from central in [default]\n",
      "\t:: evicted modules:\n",
      "\tcommons-codec#commons-codec;1.11 by [commons-codec#commons-codec;1.15] in [default]\n",
      "\t---------------------------------------------------------------------\n",
      "\t|                  |            modules            ||   artifacts   |\n",
      "\t|       conf       | number| search|dwnlded|evicted|| number|dwnlded|\n",
      "\t---------------------------------------------------------------------\n",
      "\t|      default     |   37  |   0   |   0   |   1   ||   36  |   0   |\n",
      "\t---------------------------------------------------------------------\n",
      ":: retrieving :: org.apache.spark#spark-submit-parent-e504a693-5d50-4ea6-9e2c-c61cca928754\n",
      "\tconfs: [default]\n",
      "\t0 artifacts copied, 36 already retrieved (0kB/9ms)\n"
     ]
    },
    {
     "name": "stdout",
     "output_type": "stream",
     "text": [
      "23/06/13 16:47:09 WARN NativeCodeLoader: Unable to load native-hadoop library for your platform... using builtin-java classes where applicable\n"
     ]
    },
    {
     "name": "stderr",
     "output_type": "stream",
     "text": [
      "Setting default log level to \"WARN\".\n",
      "To adjust logging level use sc.setLogLevel(newLevel). For SparkR, use setLogLevel(newLevel).\n"
     ]
    }
   ],
   "source": [
    "n_cores = 28\n",
    "\n",
    "spark = SparkSession.builder \\\n",
    "                    .master(f\"local[{n_cores}]\") \\\n",
    "                    .appName(\"Saturation\") \\\n",
    "                    .config(\"spark.driver.memory\", \"48g\") \\\n",
    "                    .config(\"spark.jars.packages\", \"com.microsoft.azure:synapseml_2.12:0.10.2\") \\\n",
    "                    .config(\"spark.jars.repositories\", \"https://mmlspark.azureedge.net/maven\") \\\n",
    "                    .getOrCreate()\n",
    "sc = spark.sparkContext"
   ]
  },
  {
   "cell_type": "code",
   "execution_count": null,
   "id": "d7a24c77-f7f2-4575-b1df-30355baa41bb",
   "metadata": {},
   "outputs": [],
   "source": []
  },
  {
   "cell_type": "markdown",
   "id": "0ffa6d6e-a8e4-4e83-8844-19ebf9d2a282",
   "metadata": {},
   "source": [
    "### LightGBM models"
   ]
  },
  {
   "cell_type": "markdown",
   "id": "39fcdd6f-df8a-4c4a-a211-39316a790068",
   "metadata": {},
   "source": [
    "#### Baseline Model"
   ]
  },
  {
   "cell_type": "code",
   "execution_count": 9,
   "id": "3a464ad6-9d30-4524-b022-3f68489ef06b",
   "metadata": {},
   "outputs": [],
   "source": [
    "def score_model(model,\n",
    "                df: pd.DataFrame,\n",
    "                metric: str,\n",
    "                assembler: VectorAssembler,\n",
    "                ivs: List[str],\n",
    "                features: List[str],\n",
    "                sample_cadence: int = 1):\n",
    "    sampled = df.iloc[[x * sample_cadence for x in range(df.shape[0] // sample_cadence)]].copy()\n",
    "    y = sampled[metric]\n",
    "    \n",
    "    X = poly_transform.transform(sampled[ivs])\n",
    "    X = pd.DataFrame(X, columns=poly_transform.get_feature_names_out())\n",
    "    \n",
    "    df_spark = spark.createDataFrame(X)\n",
    "    spark_X = assembler.transform(df_spark)[[\"features\"]]\n",
    "    predictions = model.transform(spark_X).toPandas()[\"prediction\"]\n",
    "\n",
    "    pred_df = pd.concat([X, predictions], axis=1)\n",
    "    pred_df[\"actual\"] = y.reset_index(drop=True)\n",
    "    pred_df[\"n_craters\"] = list(sampled.index)\n",
    "    \n",
    "    return pred_df\n",
    "\n",
    "\n",
    "def plot_sim_ci(model,\n",
    "                df: pd.DataFrame,\n",
    "                metric: str,\n",
    "                assembler: VectorAssembler,\n",
    "                ivs: List[str],\n",
    "                features: List[str],\n",
    "                sample_cadence: int = 250):   \n",
    "    # Show params\n",
    "    print(f\"Simulation parameters: {df[ivs].iloc[0]}\")\n",
    "    \n",
    "    ns_max = 100000\n",
    "    plt.plot(df.n_craters_added_in_study_region.iloc[:ns_max],\n",
    "             df[metric].iloc[:ns_max])\n",
    "    plt.xlabel(\"$N_S$\")\n",
    "    plt.ylabel(\"$A_d$\")\n",
    "    plt.show()\n",
    "\n",
    "    pred_df = score_model(model, df, metric, assembler, ivs, features, sample_cadence)\n",
    "   \n",
    "    fig = go.Figure()\n",
    "    fig.add_scatter(x=pred_df[\"n_craters\"],\n",
    "                    y=pred_df[\"actual\"],\n",
    "                    mode=\"lines\",\n",
    "                    name=\"Actual\")\n",
    "    fig.add_scatter(x=pred_df[\"n_craters\"],\n",
    "                    y=pred_df[\"prediction\"],\n",
    "                    mode=\"lines\",\n",
    "                    name=\"95% Threshold\")\n",
    "\n",
    "    fig.update_layout(\n",
    "        xaxis_title=\"$N_S$\",\n",
    "        yaxis_title=metric\n",
    "    )\n",
    "\n",
    "    fig.show()"
   ]
  },
  {
   "cell_type": "code",
   "execution_count": null,
   "id": "35ecfda0-13c1-45da-a77d-6296ba2eb7a6",
   "metadata": {},
   "outputs": [],
   "source": [
    "# Small model first\n",
    "poly_transform = sklearn.preprocessing.PolynomialFeatures(degree=1, include_bias=False)\n",
    "X_train = poly_transform.fit_transform(train_df[ivs])\n",
    "X_train = pd.DataFrame(X_train, columns=poly_transform.get_feature_names_out())\n",
    "\n",
    "train_df_spark = spark.createDataFrame(pd.concat([train_df[metric], X_train], axis=1))\n",
    "\n",
    "assembler = VectorAssembler(\n",
    "    inputCols=ivs,\n",
    "    outputCol=\"features\")\n",
    "\n",
    "train_df_featurized = assembler.transform(train_df_spark)[metric, \"features\"]\n",
    "\n",
    "model = (LightGBMRegressor()\n",
    "    .setObjective('quantile')\n",
    "    .setLabelCol(metric)\n",
    "    .setAlpha(0.5)\n",
    "    .setLearningRate(0.1)\n",
    "    .setNumIterations(5)\n",
    "    .setNumLeaves(5)\n",
    "    .setNumThreads(n_cores)\n",
    "    .fit(train_df_featurized))\n",
    "\n",
    "# Metrics for all train data\n",
    "pred_df = score_model(model, train_df, metric, assembler, ivs, list(X_train.columns))\n",
    "pred_df[\"outside_range\"] = pred_df.actual < pred_df.prediction\n",
    "print(f\"Training % outside of range: {pred_df.outside_range.mean():.3f}\")\n",
    "\n",
    "# Metrics for all test data\n",
    "pred_df = score_model(model, test_df, metric, assembler, ivs, list(X_train.columns))\n",
    "pred_df[\"outside_range\"] = pred_df.actual < pred_df.prediction\n",
    "pred_df.outside_range.mean()\n",
    "print(f\"Testing % outside of range: {pred_df.outside_range.mean():.3f}\")\n",
    "\n",
    "importances = sorted(zip(ivs, model.getFeatureImportances()), key=lambda x: -x[1])\n",
    "print(f\"Feature importances:\")\n",
    "for x in importances:\n",
    "    print(f\"   {x[0]}: {x[1]}\")"
   ]
  },
  {
   "cell_type": "code",
   "execution_count": null,
   "id": "e9720405-99d3-4312-a7d8-e1b91210ea93",
   "metadata": {},
   "outputs": [],
   "source": []
  },
  {
   "cell_type": "code",
   "execution_count": null,
   "id": "db280c40-eb8c-4476-9c63-f1921fe3fd07",
   "metadata": {},
   "outputs": [],
   "source": [
    "# More iterations\n",
    "\n",
    "poly_transform = sklearn.preprocessing.PolynomialFeatures(degree=1, include_bias=False)\n",
    "X_train = poly_transform.fit_transform(train_df[ivs])\n",
    "X_train = pd.DataFrame(X_train, columns=poly_transform.get_feature_names_out())\n",
    "\n",
    "train_df_spark = spark.createDataFrame(pd.concat([train_df[metric], X_train], axis=1))\n",
    "\n",
    "assembler = VectorAssembler(\n",
    "    inputCols=ivs,\n",
    "    outputCol=\"features\")\n",
    "\n",
    "train_df_featurized = assembler.transform(train_df_spark)[metric, \"features\"]\n",
    "\n",
    "model = (LightGBMRegressor()\n",
    "    .setObjective('quantile')\n",
    "    .setLabelCol(metric)\n",
    "    .setAlpha(0.5)\n",
    "    .setLearningRate(0.3)\n",
    "    .setNumIterations(100)\n",
    "    .setNumLeaves(5)\n",
    "    .setNumThreads(n_cores)\n",
    "    .fit(train_df_featurized))\n",
    "\n",
    "# Metrics for all train data\n",
    "pred_df = score_model(model, train_df, metric, assembler, ivs, list(X_train.columns))\n",
    "pred_df[\"outside_range\"] = pred_df.actual < pred_df.prediction\n",
    "print(f\"Training % outside of range: {pred_df.outside_range.mean():.3f}\")\n",
    "\n",
    "# Metrics for all test data\n",
    "pred_df = score_model(model, test_df, metric, assembler, ivs, list(X_train.columns))\n",
    "pred_df[\"outside_range\"] = pred_df.actual < pred_df.prediction\n",
    "pred_df.outside_range.mean()\n",
    "print(f\"Testing % outside of range: {pred_df.outside_range.mean():.3f}\")\n",
    "\n",
    "importances = sorted(zip(ivs, model.getFeatureImportances()), key=lambda x: -x[1])\n",
    "print(f\"Feature importances:\")\n",
    "for x in importances:\n",
    "    print(f\"   {x[0]}: {x[1]}\")"
   ]
  },
  {
   "cell_type": "code",
   "execution_count": null,
   "id": "4be5f2c0-5d20-4cca-b8b7-6232d17decd3",
   "metadata": {},
   "outputs": [],
   "source": []
  },
  {
   "cell_type": "code",
   "execution_count": 36,
   "id": "071e8a88-94ed-4583-b9b3-331184c9819b",
   "metadata": {},
   "outputs": [
    {
     "name": "stdout",
     "output_type": "stream",
     "text": [
      "23/06/13 18:13:25 WARN TaskSetManager: Stage 85 contains a task of very large size (36832 KiB). The maximum recommended task size is 1000 KiB.\n"
     ]
    },
    {
     "name": "stderr",
     "output_type": "stream",
     "text": [
      "[Stage 85:>                                                         (0 + 1) / 1]\r"
     ]
    },
    {
     "name": "stdout",
     "output_type": "stream",
     "text": [
      "23/06/13 18:13:29 WARN PythonRunner: Detected deadlock while completing task 0.0 in stage 85 (TID 2164): Attempting to kill Python Worker\n",
      "23/06/13 18:13:29 WARN TaskSetManager: Stage 86 contains a task of very large size (36832 KiB). The maximum recommended task size is 1000 KiB.\n"
     ]
    },
    {
     "name": "stderr",
     "output_type": "stream",
     "text": [
      "[Stage 86:======================================================> (27 + 1) / 28]\r"
     ]
    },
    {
     "name": "stdout",
     "output_type": "stream",
     "text": [
      "[LightGBM] [Warning] Find whitespaces in feature_names, replace with underlines\n"
     ]
    },
    {
     "name": "stderr",
     "output_type": "stream",
     "text": [
      "                                                                                \r"
     ]
    },
    {
     "name": "stdout",
     "output_type": "stream",
     "text": [
      "23/06/13 18:18:15 WARN DAGScheduler: Broadcasting large task binary with size 3.0 MiB\n",
      "23/06/13 18:18:15 WARN TaskSetManager: Stage 87 contains a task of very large size (36526 KiB). The maximum recommended task size is 1000 KiB.\n"
     ]
    },
    {
     "name": "stderr",
     "output_type": "stream",
     "text": [
      "                                                                                \r"
     ]
    },
    {
     "name": "stdout",
     "output_type": "stream",
     "text": [
      "Training % outside of range: 0.500\n",
      "23/06/13 18:21:19 WARN DAGScheduler: Broadcasting large task binary with size 3.0 MiB\n",
      "23/06/13 18:21:19 WARN TaskSetManager: Stage 88 contains a task of very large size (22561 KiB). The maximum recommended task size is 1000 KiB.\n"
     ]
    },
    {
     "name": "stderr",
     "output_type": "stream",
     "text": [
      "                                                                                \r"
     ]
    },
    {
     "name": "stdout",
     "output_type": "stream",
     "text": [
      "Testing % outside of range: 0.512\n",
      "Feature importances:\n",
      "   min_rim_percentage effective_radius_multiplier areal_density: 1700.0\n",
      "   effective_radius_multiplier^2 areal_density: 1638.0\n",
      "   slope: 1542.0\n",
      "   effective_radius_multiplier: 1386.0\n",
      "   effective_radius_multiplier^2 n_craters_in_study_region: 1270.0\n",
      "   min_rim_percentage effective_radius_multiplier n_craters_in_study_region: 1084.0\n",
      "   min_rim_percentage: 1072.0\n",
      "   min_rim_percentage effective_radius_multiplier^2: 629.0\n",
      "   slope min_rim_percentage: 615.0\n",
      "   slope^2 min_rim_percentage: 593.0\n",
      "   min_rim_percentage effective_radius_multiplier: 578.0\n",
      "   min_rim_percentage^2 n_craters_in_study_region: 577.0\n",
      "   min_rim_percentage^2 areal_density: 539.0\n",
      "   slope^2 effective_radius_multiplier: 509.0\n",
      "   slope min_rim_percentage areal_density: 493.0\n",
      "   slope min_rim_percentage effective_radius_multiplier: 473.0\n",
      "   slope^2 areal_density: 469.0\n",
      "   slope effective_radius_multiplier: 467.0\n",
      "   slope effective_radius_multiplier^2: 445.0\n",
      "   min_rim_percentage^2 effective_radius_multiplier: 409.0\n",
      "   min_rim_percentage areal_density^2: 400.0\n",
      "   effective_radius_multiplier areal_density: 394.0\n",
      "   min_rim_percentage areal_density: 362.0\n",
      "   slope effective_radius_multiplier areal_density: 358.0\n",
      "   slope min_rim_percentage^2: 355.0\n",
      "   min_rim_percentage n_craters_in_study_region^2: 307.0\n",
      "   effective_radius_multiplier^2 z: 305.0\n",
      "   min_rim_percentage n_craters_in_study_region: 294.0\n",
      "   effective_radius_multiplier z areal_density: 283.0\n",
      "   min_rim_percentage n_craters_in_study_region areal_density: 282.0\n",
      "   slope min_rim_percentage n_craters_in_study_region: 277.0\n",
      "   z^2 areal_density: 272.0\n",
      "   min_rim_percentage z areal_density: 266.0\n",
      "   slope^2 z: 263.0\n",
      "   areal_density: 259.0\n",
      "   min_rim_percentage^2 z: 258.0\n",
      "   effective_radius_multiplier n_craters_in_study_region: 252.0\n",
      "   z areal_density^2: 248.0\n",
      "   slope^2 n_craters_in_study_region: 241.0\n",
      "   slope effective_radius_multiplier n_craters_in_study_region: 240.0\n",
      "   effective_radius_multiplier areal_density^2: 237.0\n",
      "   effective_radius_multiplier n_craters_in_study_region areal_density: 234.0\n",
      "   slope areal_density: 231.0\n",
      "   min_rim_percentage z za: 228.0\n",
      "   n_craters_in_study_region: 223.0\n",
      "   slope z za: 208.0\n",
      "   effective_radius_multiplier z^2: 191.0\n",
      "   z: 189.0\n",
      "   n_craters_in_study_region areal_density^2: 184.0\n",
      "   n_craters_in_study_region^2 areal_density: 178.0\n",
      "   n_craters_in_study_region^2 z: 175.0\n",
      "   effective_radius_multiplier^2 za: 174.0\n",
      "   slope^2 za: 172.0\n",
      "   min_rim_percentage^2 za: 172.0\n",
      "   effective_radius_multiplier n_craters_in_study_region^2: 171.0\n",
      "   z^2 za: 168.0\n",
      "   slope z areal_density: 166.0\n",
      "   slope areal_density^2: 154.0\n",
      "   min_rim_percentage effective_radius_multiplier z: 144.0\n",
      "   effective_radius_multiplier n_craters_in_study_region z: 142.0\n",
      "   n_craters_in_study_region areal_density: 141.0\n",
      "   min_rim_percentage z: 137.0\n",
      "   effective_radius_multiplier z: 130.0\n",
      "   slope effective_radius_multiplier z: 130.0\n",
      "   slope min_rim_percentage z: 127.0\n",
      "   z areal_density: 123.0\n",
      "   min_rim_percentage effective_radius_multiplier za: 123.0\n",
      "   slope n_craters_in_study_region: 120.0\n",
      "   slope min_rim_percentage za: 116.0\n",
      "   za areal_density^2: 111.0\n",
      "   n_craters_in_study_region z^2: 110.0\n",
      "   min_rim_percentage z^2: 109.0\n",
      "   slope z^2: 107.0\n",
      "   slope n_craters_in_study_region^2: 105.0\n",
      "   z za^2: 105.0\n",
      "   z^2: 96.0\n",
      "   slope effective_radius_multiplier za: 94.0\n",
      "   slope z: 92.0\n",
      "   z za areal_density: 92.0\n",
      "   slope n_craters_in_study_region areal_density: 90.0\n",
      "   effective_radius_multiplier z za: 84.0\n",
      "   z za: 82.0\n",
      "   min_rim_percentage n_craters_in_study_region z: 79.0\n",
      "   n_craters_in_study_region z: 78.0\n",
      "   n_craters_in_study_region z za: 77.0\n",
      "   min_rim_percentage za: 76.0\n",
      "   min_rim_percentage za areal_density: 74.0\n",
      "   slope n_craters_in_study_region z: 73.0\n",
      "   za areal_density: 66.0\n",
      "   za: 59.0\n",
      "   n_craters_in_study_region^2 za: 59.0\n",
      "   min_rim_percentage za^2: 55.0\n",
      "   effective_radius_multiplier za areal_density: 54.0\n",
      "   effective_radius_multiplier za: 53.0\n",
      "   min_rim_percentage n_craters_in_study_region za: 51.0\n",
      "   slope za areal_density: 47.0\n",
      "   slope za: 45.0\n",
      "   n_craters_in_study_region z areal_density: 45.0\n",
      "   effective_radius_multiplier n_craters_in_study_region za: 42.0\n",
      "   n_craters_in_study_region za: 39.0\n",
      "   za^2 areal_density: 38.0\n",
      "   n_craters_in_study_region za areal_density: 27.0\n",
      "   effective_radius_multiplier za^2: 26.0\n",
      "   za^2: 23.0\n",
      "   slope n_craters_in_study_region za: 22.0\n",
      "   slope za^2: 17.0\n",
      "   n_craters_in_study_region za^2: 15.0\n",
      "   slope^2: 0.0\n",
      "   min_rim_percentage^2: 0.0\n",
      "   effective_radius_multiplier^2: 0.0\n",
      "   n_craters_in_study_region^2: 0.0\n",
      "   areal_density^2: 0.0\n",
      "   slope^3: 0.0\n",
      "   min_rim_percentage^3: 0.0\n",
      "   effective_radius_multiplier^3: 0.0\n",
      "   n_craters_in_study_region^3: 0.0\n",
      "   z^3: 0.0\n",
      "   za^3: 0.0\n",
      "   areal_density^3: 0.0\n"
     ]
    }
   ],
   "source": [
    "poly_transform = sklearn.preprocessing.PolynomialFeatures(degree=3, include_bias=False)\n",
    "X_train = poly_transform.fit_transform(train_df[ivs])\n",
    "X_train = pd.DataFrame(X_train, columns=poly_transform.get_feature_names_out())\n",
    "\n",
    "train_df_spark = spark.createDataFrame(pd.concat([train_df[metric], X_train], axis=1))\n",
    "\n",
    "assembler = VectorAssembler(\n",
    "    inputCols=list(X_train.columns),\n",
    "    outputCol=\"features\")\n",
    "\n",
    "train_df_featurized = assembler.transform(train_df_spark)[metric, \"features\"]\n",
    "\n",
    "model = (LightGBMRegressor()\n",
    "    .setObjective('quantile')\n",
    "    .setAlpha(0.5)\n",
    "    .setLabelCol(metric)\n",
    "    .setLearningRate(0.1)\n",
    "    .setLambdaL2(0.1)\n",
    "    .setNumIterations(1000)\n",
    "    .setNumLeaves(127)\n",
    "    .setMaxDepth(5)\n",
    "    .setNumThreads(n_cores)\n",
    "    .setParallelism(\"data_parallel\")\n",
    "    .fit(train_df_featurized))\n",
    "\n",
    "# Metrics for all train data\n",
    "pred_df = score_model(model, train_df, metric, assembler, ivs, list(X_train.columns))\n",
    "pred_df[\"outside_range\"] = pred_df.actual < pred_df.prediction\n",
    "print(f\"Training % outside of range: {pred_df.outside_range.mean():.3f}\")\n",
    "\n",
    "# Metrics for all test data\n",
    "pred_df = score_model(model, test_df, metric, assembler, ivs, list(X_train.columns))\n",
    "pred_df[\"outside_range\"] = pred_df.actual < pred_df.prediction\n",
    "pred_df.outside_range.mean()\n",
    "print(f\"Testing % outside of range: {pred_df.outside_range.mean():.3f}\")\n",
    "\n",
    "importances = sorted(zip(poly_transform.get_feature_names_out(), model.getFeatureImportances()), key=lambda x: -x[1])\n",
    "print(f\"Feature importances:\")\n",
    "for x in importances:\n",
    "    print(f\"   {x[0]}: {x[1]}\")"
   ]
  },
  {
   "cell_type": "code",
   "execution_count": null,
   "id": "d3852772-bd1e-4911-ac3e-726744a2dfeb",
   "metadata": {},
   "outputs": [],
   "source": []
  },
  {
   "cell_type": "markdown",
   "id": "4018a02c-d914-4125-a337-140b35b3b12f",
   "metadata": {},
   "source": [
    "### Plotting thresholds"
   ]
  },
  {
   "cell_type": "code",
   "execution_count": 38,
   "id": "ba21e1e7-f308-4c2b-829f-ef2dfc5f88a7",
   "metadata": {},
   "outputs": [],
   "source": [
    "def read_simulation_parquet(path: Path, sample_cadence: int) -> pd.DataFrame:\n",
    "    df = pd.read_parquet(path, columns=ivs + [\"simulation_id\", \"n_craters_added_in_study_region\"])\n",
    "    df = df.iloc[[x * sample_cadence for x in range(df.shape[0] // sample_cadence)]].copy()\n",
    "    df[\"z\"] = df.z.fillna(0)\n",
    "    df[\"za\"] = df.za.fillna(0)\n",
    "    df[\"information_lost\"] = (1 - df.n_craters_in_study_region / df.n_craters_added_in_study_region).fillna(0)\n",
    "    return df"
   ]
  },
  {
   "cell_type": "code",
   "execution_count": 39,
   "id": "3a432a4c-556c-47b5-adb0-d66de7a75a31",
   "metadata": {},
   "outputs": [],
   "source": [
    "# Load up a subset of the test DFs\n",
    "np.random.seed(123)\n",
    "\n",
    "paths = list(Path(base_path_holdout).glob(\"simulation_*.parquet\"))\n",
    "choices = set(np.random.choice(len(paths), 50))\n",
    "\n",
    "sample_cadence = 100\n",
    "holdout_dfs = [read_simulation_parquet(x, sample_cadence) for idx, x in enumerate(paths) if idx in choices]"
   ]
  },
  {
   "cell_type": "code",
   "execution_count": null,
   "id": "a810933e-42ca-4e2b-8950-fe64ecdc7777",
   "metadata": {},
   "outputs": [],
   "source": []
  },
  {
   "cell_type": "code",
   "execution_count": null,
   "id": "c22806b2-f602-4a8b-a23e-da0bd32330b9",
   "metadata": {},
   "outputs": [],
   "source": [
    "# poly_transform = sklearn.preprocessing.PolynomialFeatures(degree=2, include_bias=False)\n",
    "# X_train = poly_transform.fit_transform(train_df[ivs])\n",
    "# X_train = pd.DataFrame(X_train, columns=poly_transform.get_feature_names_out())\n",
    "# X_train = X_train[[\n",
    "#     \"effective_radius_multiplier areal_density\",\n",
    "# \"min_rim_percentage areal_density\",\n",
    "# \"r_stat_multiplier n_craters_in_study_region\",\n",
    "# \"min_rim_percentage n_craters_in_study_region\",\n",
    "# \"effective_radius_multiplier n_craters_in_study_region\",\n",
    "# \"r_stat_multiplier areal_density\",\n",
    "# \"n_craters_in_study_region areal_density\",\n",
    "# \"n_craters_in_study_region\",\n",
    "# \"areal_density\",\n",
    "# \"slope areal_density\",\n",
    "# \"r_stat_multiplier z\",\n",
    "# \"slope n_craters_in_study_region\",\n",
    "# \"z^2\",\n",
    "# \"r_stat_multiplier za\",\n",
    "# \"slope\",\n",
    "# \"effective_radius_multiplier z\",\n",
    "# \"n_craters_in_study_region z\",\n",
    "# \"n_craters_in_study_region za\",\n",
    "# \"min_rim_percentage za\",\n",
    "# \"min_rim_percentage z\",\n",
    "# \"effective_radius_multiplier\",\n",
    "# \"za areal_density\",\n",
    "# \"z areal_density\",\n",
    "# \"effective_radius_multiplier za\",\n",
    "# ]].copy()\n",
    "\n",
    "# train_df_spark = spark.createDataFrame(pd.concat([train_df[metric], X_train], axis=1))\n",
    "\n",
    "# assembler = VectorAssembler(\n",
    "#     inputCols=list(X_train.columns),\n",
    "#     outputCol=\"features\")\n",
    "\n",
    "# train_df_featurized = assembler.transform(train_df_spark)[metric, \"features\"]\n",
    "\n",
    "# model = (LightGBMRegressor()\n",
    "#     .setObjective('quantile')\n",
    "#     .setAlpha(0.5)\n",
    "#     .setLabelCol(metric)\n",
    "#     .setLearningRate(0.3)\n",
    "#     .setNumIterations(1000)\n",
    "#     .setNumLeaves(50)\n",
    "#     .setLambdaL2(0.01)\n",
    "#     .setNumThreads(n_cores)\n",
    "#     .fit(train_df_featurized))\n",
    "\n",
    "# # Metrics for all train data\n",
    "# pred_df = score_model(model, train_df, metric, assembler, ivs, list(X_train.columns))\n",
    "# pred_df[\"outside_range\"] = pred_df.actual < pred_df.prediction\n",
    "# print(f\"Training % outside of range: {pred_df.outside_range.mean():.3f}\")\n",
    "\n",
    "# # Metrics for all test data\n",
    "# pred_df = score_model(model, test_df, metric, assembler, ivs, list(X_train.columns))\n",
    "# pred_df[\"outside_range\"] = pred_df.actual < pred_df.prediction\n",
    "# pred_df.outside_range.mean()\n",
    "# print(f\"Testing % outside of range: {pred_df.outside_range.mean():.3f}\")\n",
    "\n",
    "# importances = sorted(zip(poly_transform.get_feature_names_out(), model.getFeatureImportances()), key=lambda x: -x[1])\n",
    "# print(f\"Feature importances:\")\n",
    "# for x in importances:\n",
    "#     print(f\"   {x[0]}: {x[1]}\")"
   ]
  },
  {
   "cell_type": "code",
   "execution_count": 40,
   "id": "292f6cdc-aae9-4aad-9c74-e2721e506215",
   "metadata": {},
   "outputs": [
    {
     "name": "stdout",
     "output_type": "stream",
     "text": [
      "Simulation parameters: slope                          1.207184\n",
      "min_rim_percentage             0.551948\n",
      "effective_radius_multiplier    1.583289\n",
      "n_craters_in_study_region      1.000000\n",
      "z                              0.000000\n",
      "za                             0.000000\n",
      "areal_density                  0.000095\n",
      "Name: 0, dtype: float64\n"
     ]
    },
    {
     "data": {
      "image/png": "[encoded data removed]",
      "text/plain": [
       "<Figure size 432x288 with 1 Axes>"
      ]
     },
     "metadata": {
      "needs_background": "light"
     },
     "output_type": "display_data"
    },
    {
     "name": "stdout",
     "output_type": "stream",
     "text": [
      "23/06/13 18:22:36 WARN DAGScheduler: Broadcasting large task binary with size 3.0 MiB\n"
     ]
    },
    {
     "data": {
      "text/html": [
       "<iframe\n",
       "    scrolling=\"no\"\n",
       "    width=\"100%\"\n",
       "    height=\"545px\"\n",
       "    src=\"iframe_figures/figure_40.html\"\n",
       "    frameborder=\"0\"\n",
       "    allowfullscreen\n",
       "></iframe>\n"
      ]
     },
     "metadata": {},
     "output_type": "display_data"
    },
    {
     "name": "stdout",
     "output_type": "stream",
     "text": [
      "Simulation parameters: slope                          1.186144\n",
      "min_rim_percentage             0.352566\n",
      "effective_radius_multiplier    1.583192\n",
      "n_craters_in_study_region      1.000000\n",
      "z                              0.000000\n",
      "za                             0.000000\n",
      "areal_density                  0.000010\n",
      "Name: 0, dtype: float64\n"
     ]
    },
    {
     "data": {
      "image/png": "[encoded data removed]",
      "text/plain": [
       "<Figure size 432x288 with 1 Axes>"
      ]
     },
     "metadata": {
      "needs_background": "light"
     },
     "output_type": "display_data"
    },
    {
     "name": "stdout",
     "output_type": "stream",
     "text": [
      "23/06/13 18:22:37 WARN DAGScheduler: Broadcasting large task binary with size 3.0 MiB\n"
     ]
    },
    {
     "data": {
      "text/html": [
       "<iframe\n",
       "    scrolling=\"no\"\n",
       "    width=\"100%\"\n",
       "    height=\"545px\"\n",
       "    src=\"iframe_figures/figure_40.html\"\n",
       "    frameborder=\"0\"\n",
       "    allowfullscreen\n",
       "></iframe>\n"
      ]
     },
     "metadata": {},
     "output_type": "display_data"
    },
    {
     "name": "stdout",
     "output_type": "stream",
     "text": [
      "Simulation parameters: slope                          1.741412\n",
      "min_rim_percentage             0.449210\n",
      "effective_radius_multiplier    1.749021\n",
      "n_craters_in_study_region      1.000000\n",
      "z                              0.000000\n",
      "za                             0.000000\n",
      "areal_density                  0.000014\n",
      "Name: 0, dtype: float64\n"
     ]
    },
    {
     "data": {
      "image/png": "[encoded data removed]",
      "text/plain": [
       "<Figure size 432x288 with 1 Axes>"
      ]
     },
     "metadata": {
      "needs_background": "light"
     },
     "output_type": "display_data"
    },
    {
     "name": "stdout",
     "output_type": "stream",
     "text": [
      "23/06/13 18:22:37 WARN DAGScheduler: Broadcasting large task binary with size 3.0 MiB\n"
     ]
    },
    {
     "data": {
      "text/html": [
       "<iframe\n",
       "    scrolling=\"no\"\n",
       "    width=\"100%\"\n",
       "    height=\"545px\"\n",
       "    src=\"iframe_figures/figure_40.html\"\n",
       "    frameborder=\"0\"\n",
       "    allowfullscreen\n",
       "></iframe>\n"
      ]
     },
     "metadata": {},
     "output_type": "display_data"
    },
    {
     "name": "stdout",
     "output_type": "stream",
     "text": [
      "Simulation parameters: slope                          2.267193\n",
      "min_rim_percentage             0.548644\n",
      "effective_radius_multiplier    1.586159\n",
      "n_craters_in_study_region      1.000000\n",
      "z                              0.000000\n",
      "za                             0.000000\n",
      "areal_density                  0.000011\n",
      "Name: 0, dtype: float64\n"
     ]
    },
    {
     "data": {
      "image/png": "[encoded data removed]",
      "text/plain": [
       "<Figure size 432x288 with 1 Axes>"
      ]
     },
     "metadata": {
      "needs_background": "light"
     },
     "output_type": "display_data"
    },
    {
     "name": "stdout",
     "output_type": "stream",
     "text": [
      "23/06/13 18:22:37 WARN DAGScheduler: Broadcasting large task binary with size 3.0 MiB\n"
     ]
    },
    {
     "data": {
      "text/html": [
       "<iframe\n",
       "    scrolling=\"no\"\n",
       "    width=\"100%\"\n",
       "    height=\"545px\"\n",
       "    src=\"iframe_figures/figure_40.html\"\n",
       "    frameborder=\"0\"\n",
       "    allowfullscreen\n",
       "></iframe>\n"
      ]
     },
     "metadata": {},
     "output_type": "display_data"
    },
    {
     "name": "stdout",
     "output_type": "stream",
     "text": [
      "Simulation parameters: slope                          2.808754\n",
      "min_rim_percentage             0.550884\n",
      "effective_radius_multiplier    1.751545\n",
      "n_craters_in_study_region      1.000000\n",
      "z                              0.000000\n",
      "za                             0.000000\n",
      "areal_density                  0.000003\n",
      "Name: 0, dtype: float64\n"
     ]
    },
    {
     "data": {
      "image/png": "[encoded data removed]",
      "text/plain": [
       "<Figure size 432x288 with 1 Axes>"
      ]
     },
     "metadata": {
      "needs_background": "light"
     },
     "output_type": "display_data"
    },
    {
     "name": "stdout",
     "output_type": "stream",
     "text": [
      "23/06/13 18:22:38 WARN DAGScheduler: Broadcasting large task binary with size 3.0 MiB\n"
     ]
    },
    {
     "data": {
      "text/html": [
       "<iframe\n",
       "    scrolling=\"no\"\n",
       "    width=\"100%\"\n",
       "    height=\"545px\"\n",
       "    src=\"iframe_figures/figure_40.html\"\n",
       "    frameborder=\"0\"\n",
       "    allowfullscreen\n",
       "></iframe>\n"
      ]
     },
     "metadata": {},
     "output_type": "display_data"
    }
   ],
   "source": [
    "for x in range(0,5):\n",
    "    plot_sim_ci(model, holdout_dfs[x], metric, assembler, ivs, assembler.getInputCols())"
   ]
  },
  {
   "cell_type": "code",
   "execution_count": null,
   "id": "79f08623-c2dd-4cae-b5ef-5585449e6572",
   "metadata": {},
   "outputs": [],
   "source": [
    "# Metrics for all train data\n",
    "pred_df = score_model(model, train_df, metric, assembler, ivs, list(X_train.columns), sample_cadence=1)\n",
    "pred_df[\"outside_range\"] = pred_df.actual < pred_df.prediction\n",
    "pred_df.outside_range.mean()"
   ]
  },
  {
   "cell_type": "code",
   "execution_count": null,
   "id": "205946b3-d7c5-4793-964e-710ea62aa667",
   "metadata": {},
   "outputs": [],
   "source": [
    "resid = pred_df[\"actual\"] - pred_df[\"prediction\"]\n",
    "plt.scatter(pred_df[\"actual\"], resid)\n",
    "plt.xlabel(\"$A_d$\")\n",
    "plt.ylabel(\"Residual\")\n",
    "plt.show()\n",
    "\n",
    "for iv in assembler.getInputCols():\n",
    "    if iv in pred_df.columns:\n",
    "        plt.scatter(pred_df[iv], resid)\n",
    "        plt.xlabel(iv)\n",
    "        plt.ylabel(\"Residual\")\n",
    "        plt.show()"
   ]
  },
  {
   "cell_type": "code",
   "execution_count": null,
   "id": "123227bf-df87-42cf-aacb-9b671d7ec604",
   "metadata": {},
   "outputs": [],
   "source": []
  },
  {
   "cell_type": "code",
   "execution_count": null,
   "id": "8514e2f3-e93f-48de-87ef-1b38e1d2cd6d",
   "metadata": {},
   "outputs": [],
   "source": [
    "# Metrics for all test data\n",
    "all_holdout = pd.concat([x.iloc[-50000:] for x in holdout_dfs])\n",
    "pred_df = score_model(model, all_holdout, metric, assembler, ivs, list(X_train.columns), sample_cadence=1)\n",
    "pred_df[\"outside_range\"] = pred_df.actual < pred_df.prediction\n",
    "pred_df.outside_range.mean()"
   ]
  },
  {
   "cell_type": "code",
   "execution_count": null,
   "id": "f1f407ca-09d4-4092-a2ff-8fad507a7c3c",
   "metadata": {},
   "outputs": [],
   "source": [
    "resid = pred_df[\"actual\"] - pred_df[\"prediction\"]\n",
    "plt.scatter(pred_df[\"actual\"], resid)\n",
    "plt.xlabel(\"$A_d$\")\n",
    "plt.ylabel(\"Residual\")\n",
    "plt.show()\n",
    "\n",
    "for iv in assembler.getInputCols():\n",
    "    if iv in pred_df.columns:\n",
    "        plt.scatter(pred_df[iv], resid)\n",
    "        plt.xlabel(iv)\n",
    "        plt.ylabel(\"Residual\")\n",
    "        plt.show()"
   ]
  },
  {
   "cell_type": "code",
   "execution_count": null,
   "id": "7004fd4b-bcc4-4af3-afa0-4c039b8a55a8",
   "metadata": {},
   "outputs": [],
   "source": []
  }
 ],
 "metadata": {
  "kernelspec": {
   "display_name": "Python 3 (ipykernel)",
   "language": "python",
   "name": "python3"
  },
  "language_info": {
   "codemirror_mode": {
    "name": "ipython",
    "version": 3
   },
   "file_extension": ".py",
   "mimetype": "text/x-python",
   "name": "python",
   "nbconvert_exporter": "python",
   "pygments_lexer": "ipython3",
   "version": "3.10.6"
  }
 },
 "nbformat": 4,
 "nbformat_minor": 5
}
