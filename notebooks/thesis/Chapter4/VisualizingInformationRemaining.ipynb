{
 "cells": [
  {
   "cell_type": "code",
   "execution_count": 14,
   "id": "379c5566-dcbf-402e-8203-1279ddd2c063",
   "metadata": {},
   "outputs": [],
   "source": [
    "import matplotlib.pyplot as plt\n",
    "import matplotlib.transforms as mtransforms\n",
    "import plotly.express as px\n",
    "import plotly.io as pio\n",
    "import seaborn as sns\n",
    "\n",
    "from pathlib import Path\n",
    "import pandas as pd\n",
    "import numpy as np\n",
    "import itertools\n",
    "import glob\n",
    "\n",
    "import statsmodels.api as sm\n",
    "import scipy.stats as stats\n",
    "\n",
    "import sklearn\n",
    "from sklearn.linear_model import LinearRegression\n",
    "from sklearn.ensemble import RandomForestRegressor\n",
    "from sklearn.ensemble import GradientBoostingRegressor\n",
    "\n",
    "from sklearn.model_selection import train_test_split\n",
    "from sklearn.metrics import *\n",
    "\n",
    "import plotly.express as px\n",
    "import plotly.io as pio\n",
    "import plotly.graph_objects as go\n",
    "\n",
    "pio.renderers.default = \"iframe\""
   ]
  },
  {
   "cell_type": "code",
   "execution_count": 15,
   "id": "537682f0-b785-4487-bcdf-3a2d30e3eb1d",
   "metadata": {},
   "outputs": [],
   "source": [
    "def fix_up_df(df: pd.DataFrame):\n",
    "    df[\"z\"] = df.z.fillna(0)\n",
    "    df[\"za\"] = df.za.fillna(0)\n",
    "    df[\"information_remaining\"] = df.n_craters_in_study_region / df.n_craters_added_in_study_region\n",
    "    df[\"removals\"] = df.n_craters_added_in_study_region - df.n_craters_in_study_region\n",
    "    return df"
   ]
  },
  {
   "cell_type": "code",
   "execution_count": 16,
   "id": "4d8f8857-f3ee-4713-ba40-76fd98c41210",
   "metadata": {},
   "outputs": [],
   "source": [
    "def plot_n_ad_and_ir_for_simulation(simulation_id: int, stats_df: pd.DataFrame):\n",
    "    df = stats_df[stats_df.simulation_id == simulation_id]\n",
    "    df.head()\n",
    "    \n",
    "    print(df[[\"slope\", \"effective_radius_multiplier\", \"r_stat_multiplier\", \"min_rim_percentage\"]].iloc[0])\n",
    "    \n",
    "    fig = plt.figure(figsize=(18, 4))\n",
    "    ax1 = fig.add_subplot(121)\n",
    "    \n",
    "    plt1 = ax1.plot(df.n_craters_added_in_study_region, df.information_remaining, color='red', label=\"Information Remaining\")\n",
    "    ax1.set_ylabel(\"Information Remaining\")\n",
    "    ax1.set_xlabel(\"N Craters Added\")\n",
    "    \n",
    "    ax2 = ax1.twinx()\n",
    "    plt2 = ax2.plot(df.n_craters_added_in_study_region, df.areal_density, color=\"blue\", label=\"Areal Density\")\n",
    "    ax2.set_ylabel(\"Areal Density\")\n",
    "    \n",
    "    lns = plt1 + plt2\n",
    "    ax1.legend(lns, [l.get_label() for l in lns], loc=4)\n",
    "    \n",
    "    ax1.set_title(f\"Simulation {simulation_id}\")\n",
    "\n",
    "\n",
    "    ax1 = fig.add_subplot(122)\n",
    "    \n",
    "    plt1 = ax1.plot(df.n_craters_added_in_study_region, df.information_remaining, color='red', label=\"Information Remaining\")\n",
    "    ax1.set_ylabel(\"Information Remaining\")\n",
    "    ax1.set_xlabel(\"N Craters Added\")\n",
    "    \n",
    "    ax2 = ax1.twinx()\n",
    "    plt2 = ax2.plot(df.n_craters_added_in_study_region, df.n_craters_in_study_region, color=\"blue\", label=\"N Craters Remaining\")\n",
    "    ax2.set_ylabel(\"Areal Density\")\n",
    "    \n",
    "    lns = plt1 + plt2\n",
    "    ax1.legend(lns, [l.get_label() for l in lns], loc=4)\n",
    "    \n",
    "    ax1.set_title(f\"Simulation {simulation_id}\")\n",
    "    plt.show()"
   ]
  },
  {
   "cell_type": "code",
   "execution_count": 17,
   "id": "f4acbf9e-d1c8-4856-b553-2319893c1730",
   "metadata": {},
   "outputs": [],
   "source": [
    "ivs = [\n",
    "    \"slope\",\n",
    "    \"effective_radius_multiplier\",\n",
    "    \"r_stat_multiplier\",\n",
    "    \"min_rim_percentage\",\n",
    "    \"z\",\n",
    "    \"za\",\n",
    "    \"areal_density\",\n",
    "    \"areal_density_overlap_2\",\n",
    "    \"areal_density_overlap_3\",\n",
    "    \"center_to_center_nearest_neighbor_distance_mean\",\n",
    "    \"center_to_center_nearest_neighbor_distance_stdev\",\n",
    "    \"center_to_center_nearest_neighbor_distance_min\",\n",
    "    \"center_to_center_nearest_neighbor_distance_max\",\n",
    "    \"n_craters_in_study_region\",\n",
    "]\n",
    "\n",
    "non_constant_ivs = [\n",
    "    \"z\",\n",
    "    \"za\",\n",
    "    \"areal_density\",\n",
    "    \"areal_density_overlap_2\",\n",
    "    \"areal_density_overlap_3\",\n",
    "    \"center_to_center_nearest_neighbor_distance_mean\",\n",
    "    \"center_to_center_nearest_neighbor_distance_stdev\",\n",
    "    \"center_to_center_nearest_neighbor_distance_min\",\n",
    "    \"center_to_center_nearest_neighbor_distance_max\",\n",
    "    \"n_craters_in_study_region\",\n",
    "]\n",
    "\n",
    "iv_labels = {\n",
    "    \"slope\": \"$b$\",\n",
    "    \"effective_radius_multiplier\": \"$E_{mult}$\",\n",
    "    \"r_stat_multiplier\": \"$E_{ratio}$\",\n",
    "    \"min_rim_percentage\": \"$M_r$\",\n",
    "    \"n_craters_in_study_region\": \"$N_S$\",\n",
    "    \"areal_density\": \"Median $A_d$\",\n",
    "    \"information_remaining\": \"Information Remaining\",\n",
    "}"
   ]
  },
  {
   "cell_type": "code",
   "execution_count": 23,
   "id": "90fb3fd3-db1e-42a5-8336-114e32e35cdf",
   "metadata": {},
   "outputs": [],
   "source": [
    "# base_path = \"/data/saturation/random_runs_20230812/\"\n",
    "# base_path = \"/data/saturation/ir_random_1/\"\n",
    "base_path = \"/data/saturation/n_craters_stop_condition_20230918\"\n",
    "\n",
    "stats_df = pd.read_parquet(f\"{base_path}/train_500_500.parquet\").sort_values(\"crater_id\")\n",
    "# stats_df = pd.read_parquet(f\"{base_path}/train_10.parquet\").sort_values(\"crater_id\")\n",
    "stats_df = fix_up_df(stats_df)\n",
    "\n",
    "test_df = pd.read_parquet(f\"{base_path}/test_500_500.parquet\").sort_values(\"crater_id\")\n",
    "# test_df = pd.read_parquet(f\"{base_path}/test_10.parquet\").sort_values(\"crater_id\")\n",
    "test_df = fix_up_df(test_df)\n",
    "\n",
    "simulation_ids = stats_df.simulation_id.unique()"
   ]
  },
  {
   "cell_type": "code",
   "execution_count": null,
   "id": "4013f2c5-0e3b-43da-a269-68dafa5b401a",
   "metadata": {},
   "outputs": [],
   "source": []
  },
  {
   "cell_type": "markdown",
   "id": "a5d65e87-3076-4b3c-a484-99f5915c934d",
   "metadata": {},
   "source": [
    "### Visualizing Information Remaining for a few simulations\n",
    "\n",
    "It appears that around IR in (0.4, 0.6), saturation is reached according to AD and N.\n",
    "\n",
    "n = number of craters observable on the surface at present\n",
    "\n",
    "N = number of craters ever to impact surface\n",
    "\n",
    "IR = n / N"
   ]
  },
  {
   "cell_type": "code",
   "execution_count": null,
   "id": "8ff89b19-b5c4-4319-8f2b-9b3a373d3248",
   "metadata": {},
   "outputs": [],
   "source": [
    "for x in range(8, 15):\n",
    "    plot_n_ad_and_ir_for_simulation(simulation_ids[x], stats_df)"
   ]
  },
  {
   "cell_type": "code",
   "execution_count": null,
   "id": "fb18f446-7df8-442a-96ee-16fb46a56c41",
   "metadata": {},
   "outputs": [],
   "source": []
  },
  {
   "cell_type": "markdown",
   "id": "ddd83bfb-18dd-412f-98f8-53e1bbbc6aff",
   "metadata": {},
   "source": [
    "### Examining Relationships"
   ]
  },
  {
   "cell_type": "markdown",
   "id": "1f59dad0-2e86-4722-86c6-cedf4fe16a92",
   "metadata": {},
   "source": [
    "#### All correlations"
   ]
  },
  {
   "cell_type": "code",
   "execution_count": null,
   "id": "9fb5253a-f0a6-4141-a814-2d25bcc640dc",
   "metadata": {
    "scrolled": true
   },
   "outputs": [],
   "source": [
    "sns.heatmap(stats_df[ivs + [\"information_remaining\", \"n_craters_added_in_study_region\"]].corr())"
   ]
  },
  {
   "cell_type": "code",
   "execution_count": null,
   "id": "b49faa2a-7ca9-4b77-9de1-fe50f340bbc3",
   "metadata": {},
   "outputs": [],
   "source": [
    "sns.heatmap(np.log(stats_df[ivs + [\"information_remaining\", \"n_craters_added_in_study_region\"]]).corr())"
   ]
  },
  {
   "cell_type": "code",
   "execution_count": null,
   "id": "83352770-4968-4bb2-a287-e8945fc698cb",
   "metadata": {},
   "outputs": [],
   "source": [
    "stats_df[ivs + [\"information_remaining\", \"n_craters_added_in_study_region\"]].corr()"
   ]
  },
  {
   "cell_type": "code",
   "execution_count": null,
   "id": "f629a7d9-168d-4c61-9a77-12cb1a9b156e",
   "metadata": {},
   "outputs": [],
   "source": []
  },
  {
   "cell_type": "markdown",
   "id": "47ee677d-3122-46c8-9c32-74e88cc531a2",
   "metadata": {},
   "source": [
    "### Plot of NN_d vs N"
   ]
  },
  {
   "cell_type": "code",
   "execution_count": 25,
   "id": "06fdf917-5380-450c-bd23-0c4877956efb",
   "metadata": {},
   "outputs": [
    {
     "data": {
      "text/html": [
       "<div>\n",
       "<style scoped>\n",
       "    .dataframe tbody tr th:only-of-type {\n",
       "        vertical-align: middle;\n",
       "    }\n",
       "\n",
       "    .dataframe tbody tr th {\n",
       "        vertical-align: top;\n",
       "    }\n",
       "\n",
       "    .dataframe thead th {\n",
       "        text-align: right;\n",
       "    }\n",
       "</style>\n",
       "<table border=\"1\" class=\"dataframe\">\n",
       "  <thead>\n",
       "    <tr style=\"text-align: right;\">\n",
       "      <th></th>\n",
       "      <th>simulation_id</th>\n",
       "      <th>crater_id</th>\n",
       "      <th>n_craters_added_in_study_region</th>\n",
       "      <th>n_craters_in_study_region</th>\n",
       "      <th>areal_density</th>\n",
       "      <th>areal_density_overlap_2</th>\n",
       "      <th>areal_density_overlap_3</th>\n",
       "      <th>center_to_center_nearest_neighbor_distance_mean</th>\n",
       "      <th>center_to_center_nearest_neighbor_distance_stdev</th>\n",
       "      <th>center_to_center_nearest_neighbor_distance_min</th>\n",
       "      <th>...</th>\n",
       "      <th>z</th>\n",
       "      <th>za</th>\n",
       "      <th>information_remaining</th>\n",
       "      <th>post_saturation_n_craters_in_study_region_percentile</th>\n",
       "      <th>post_saturation_areal_density_percentile</th>\n",
       "      <th>effective_radius_multiplier</th>\n",
       "      <th>min_rim_percentage</th>\n",
       "      <th>r_stat_multiplier</th>\n",
       "      <th>slope</th>\n",
       "      <th>removals</th>\n",
       "    </tr>\n",
       "  </thead>\n",
       "  <tbody>\n",
       "    <tr>\n",
       "      <th>43629</th>\n",
       "      <td>9178</td>\n",
       "      <td>10</td>\n",
       "      <td>1</td>\n",
       "      <td>1</td>\n",
       "      <td>0.000006</td>\n",
       "      <td>0.000000</td>\n",
       "      <td>0.000000</td>\n",
       "      <td>0.000000</td>\n",
       "      <td>0.000000</td>\n",
       "      <td>7500.000000</td>\n",
       "      <td>...</td>\n",
       "      <td>0.000000</td>\n",
       "      <td>0.000000</td>\n",
       "      <td>1.000000</td>\n",
       "      <td>0.00</td>\n",
       "      <td>0.00</td>\n",
       "      <td>1.680587</td>\n",
       "      <td>0.720628</td>\n",
       "      <td>6.633683</td>\n",
       "      <td>2.584424</td>\n",
       "      <td>0</td>\n",
       "    </tr>\n",
       "    <tr>\n",
       "      <th>158319</th>\n",
       "      <td>8174</td>\n",
       "      <td>32</td>\n",
       "      <td>3</td>\n",
       "      <td>3</td>\n",
       "      <td>0.000126</td>\n",
       "      <td>0.000000</td>\n",
       "      <td>0.000000</td>\n",
       "      <td>1102.081380</td>\n",
       "      <td>424.622787</td>\n",
       "      <td>856.925293</td>\n",
       "      <td>...</td>\n",
       "      <td>-0.150996</td>\n",
       "      <td>-0.150797</td>\n",
       "      <td>1.000000</td>\n",
       "      <td>0.00</td>\n",
       "      <td>0.00</td>\n",
       "      <td>1.213210</td>\n",
       "      <td>0.705417</td>\n",
       "      <td>3.848464</td>\n",
       "      <td>1.632000</td>\n",
       "      <td>0</td>\n",
       "    </tr>\n",
       "    <tr>\n",
       "      <th>83701</th>\n",
       "      <td>7597</td>\n",
       "      <td>70</td>\n",
       "      <td>7</td>\n",
       "      <td>7</td>\n",
       "      <td>0.000308</td>\n",
       "      <td>0.000000</td>\n",
       "      <td>0.000000</td>\n",
       "      <td>846.784249</td>\n",
       "      <td>335.378598</td>\n",
       "      <td>598.327881</td>\n",
       "      <td>...</td>\n",
       "      <td>0.608344</td>\n",
       "      <td>0.609217</td>\n",
       "      <td>1.000000</td>\n",
       "      <td>0.00</td>\n",
       "      <td>0.00</td>\n",
       "      <td>1.868214</td>\n",
       "      <td>0.730485</td>\n",
       "      <td>7.980788</td>\n",
       "      <td>1.134110</td>\n",
       "      <td>0</td>\n",
       "    </tr>\n",
       "    <tr>\n",
       "      <th>187788</th>\n",
       "      <td>4190</td>\n",
       "      <td>75</td>\n",
       "      <td>3</td>\n",
       "      <td>3</td>\n",
       "      <td>0.000025</td>\n",
       "      <td>0.000000</td>\n",
       "      <td>0.000000</td>\n",
       "      <td>1665.770915</td>\n",
       "      <td>213.604447</td>\n",
       "      <td>1542.446167</td>\n",
       "      <td>...</td>\n",
       "      <td>1.466570</td>\n",
       "      <td>1.466630</td>\n",
       "      <td>1.000000</td>\n",
       "      <td>0.00</td>\n",
       "      <td>0.00</td>\n",
       "      <td>1.713365</td>\n",
       "      <td>0.695958</td>\n",
       "      <td>5.357592</td>\n",
       "      <td>1.242984</td>\n",
       "      <td>0</td>\n",
       "    </tr>\n",
       "    <tr>\n",
       "      <th>187562</th>\n",
       "      <td>4190</td>\n",
       "      <td>77</td>\n",
       "      <td>4</td>\n",
       "      <td>4</td>\n",
       "      <td>0.000037</td>\n",
       "      <td>0.000000</td>\n",
       "      <td>0.000000</td>\n",
       "      <td>977.627106</td>\n",
       "      <td>608.060947</td>\n",
       "      <td>451.751282</td>\n",
       "      <td>...</td>\n",
       "      <td>-0.085602</td>\n",
       "      <td>-0.085532</td>\n",
       "      <td>1.000000</td>\n",
       "      <td>0.00</td>\n",
       "      <td>0.00</td>\n",
       "      <td>1.713365</td>\n",
       "      <td>0.695958</td>\n",
       "      <td>5.357592</td>\n",
       "      <td>1.242984</td>\n",
       "      <td>0</td>\n",
       "    </tr>\n",
       "    <tr>\n",
       "      <th>...</th>\n",
       "      <td>...</td>\n",
       "      <td>...</td>\n",
       "      <td>...</td>\n",
       "      <td>...</td>\n",
       "      <td>...</td>\n",
       "      <td>...</td>\n",
       "      <td>...</td>\n",
       "      <td>...</td>\n",
       "      <td>...</td>\n",
       "      <td>...</td>\n",
       "      <td>...</td>\n",
       "      <td>...</td>\n",
       "      <td>...</td>\n",
       "      <td>...</td>\n",
       "      <td>...</td>\n",
       "      <td>...</td>\n",
       "      <td>...</td>\n",
       "      <td>...</td>\n",
       "      <td>...</td>\n",
       "      <td>...</td>\n",
       "      <td>...</td>\n",
       "    </tr>\n",
       "    <tr>\n",
       "      <th>152860</th>\n",
       "      <td>1477</td>\n",
       "      <td>290935022</td>\n",
       "      <td>464394</td>\n",
       "      <td>23043</td>\n",
       "      <td>0.387289</td>\n",
       "      <td>0.039891</td>\n",
       "      <td>0.002417</td>\n",
       "      <td>15.369740</td>\n",
       "      <td>6.453320</td>\n",
       "      <td>0.231264</td>\n",
       "      <td>...</td>\n",
       "      <td>48.368637</td>\n",
       "      <td>142.388848</td>\n",
       "      <td>0.049620</td>\n",
       "      <td>0.42</td>\n",
       "      <td>0.99</td>\n",
       "      <td>1.671990</td>\n",
       "      <td>0.368286</td>\n",
       "      <td>8.495252</td>\n",
       "      <td>2.800900</td>\n",
       "      <td>441351</td>\n",
       "    </tr>\n",
       "    <tr>\n",
       "      <th>152633</th>\n",
       "      <td>1477</td>\n",
       "      <td>292123206</td>\n",
       "      <td>466278</td>\n",
       "      <td>23217</td>\n",
       "      <td>0.384593</td>\n",
       "      <td>0.040081</td>\n",
       "      <td>0.002484</td>\n",
       "      <td>15.373173</td>\n",
       "      <td>6.359115</td>\n",
       "      <td>0.231264</td>\n",
       "      <td>...</td>\n",
       "      <td>49.908594</td>\n",
       "      <td>143.703459</td>\n",
       "      <td>0.049792</td>\n",
       "      <td>0.45</td>\n",
       "      <td>0.96</td>\n",
       "      <td>1.671990</td>\n",
       "      <td>0.368286</td>\n",
       "      <td>8.495252</td>\n",
       "      <td>2.800900</td>\n",
       "      <td>443061</td>\n",
       "    </tr>\n",
       "    <tr>\n",
       "      <th>152746</th>\n",
       "      <td>1477</td>\n",
       "      <td>293185723</td>\n",
       "      <td>468063</td>\n",
       "      <td>22575</td>\n",
       "      <td>0.382860</td>\n",
       "      <td>0.038776</td>\n",
       "      <td>0.002470</td>\n",
       "      <td>15.442292</td>\n",
       "      <td>6.557485</td>\n",
       "      <td>0.231264</td>\n",
       "      <td>...</td>\n",
       "      <td>46.019051</td>\n",
       "      <td>137.033222</td>\n",
       "      <td>0.048231</td>\n",
       "      <td>0.26</td>\n",
       "      <td>0.92</td>\n",
       "      <td>1.671990</td>\n",
       "      <td>0.368286</td>\n",
       "      <td>8.495252</td>\n",
       "      <td>2.800900</td>\n",
       "      <td>445488</td>\n",
       "    </tr>\n",
       "    <tr>\n",
       "      <th>152620</th>\n",
       "      <td>1477</td>\n",
       "      <td>294828545</td>\n",
       "      <td>470757</td>\n",
       "      <td>22863</td>\n",
       "      <td>0.384806</td>\n",
       "      <td>0.038811</td>\n",
       "      <td>0.001765</td>\n",
       "      <td>15.420649</td>\n",
       "      <td>6.439934</td>\n",
       "      <td>0.231264</td>\n",
       "      <td>...</td>\n",
       "      <td>47.972119</td>\n",
       "      <td>140.696486</td>\n",
       "      <td>0.048566</td>\n",
       "      <td>0.36</td>\n",
       "      <td>0.96</td>\n",
       "      <td>1.671990</td>\n",
       "      <td>0.368286</td>\n",
       "      <td>8.495252</td>\n",
       "      <td>2.800900</td>\n",
       "      <td>447894</td>\n",
       "    </tr>\n",
       "    <tr>\n",
       "      <th>152556</th>\n",
       "      <td>1477</td>\n",
       "      <td>294979913</td>\n",
       "      <td>471025</td>\n",
       "      <td>22920</td>\n",
       "      <td>0.385160</td>\n",
       "      <td>0.039080</td>\n",
       "      <td>0.001781</td>\n",
       "      <td>15.412216</td>\n",
       "      <td>6.426033</td>\n",
       "      <td>0.231264</td>\n",
       "      <td>...</td>\n",
       "      <td>48.267646</td>\n",
       "      <td>141.296571</td>\n",
       "      <td>0.048660</td>\n",
       "      <td>0.38</td>\n",
       "      <td>0.97</td>\n",
       "      <td>1.671990</td>\n",
       "      <td>0.368286</td>\n",
       "      <td>8.495252</td>\n",
       "      <td>2.800900</td>\n",
       "      <td>448105</td>\n",
       "    </tr>\n",
       "  </tbody>\n",
       "</table>\n",
       "<p>200000 rows × 23 columns</p>\n",
       "</div>"
      ],
      "text/plain": [
       "        simulation_id  crater_id  n_craters_added_in_study_region  \\\n",
       "43629            9178         10                                1   \n",
       "158319           8174         32                                3   \n",
       "83701            7597         70                                7   \n",
       "187788           4190         75                                3   \n",
       "187562           4190         77                                4   \n",
       "...               ...        ...                              ...   \n",
       "152860           1477  290935022                           464394   \n",
       "152633           1477  292123206                           466278   \n",
       "152746           1477  293185723                           468063   \n",
       "152620           1477  294828545                           470757   \n",
       "152556           1477  294979913                           471025   \n",
       "\n",
       "        n_craters_in_study_region  areal_density  areal_density_overlap_2  \\\n",
       "43629                           1       0.000006                 0.000000   \n",
       "158319                          3       0.000126                 0.000000   \n",
       "83701                           7       0.000308                 0.000000   \n",
       "187788                          3       0.000025                 0.000000   \n",
       "187562                          4       0.000037                 0.000000   \n",
       "...                           ...            ...                      ...   \n",
       "152860                      23043       0.387289                 0.039891   \n",
       "152633                      23217       0.384593                 0.040081   \n",
       "152746                      22575       0.382860                 0.038776   \n",
       "152620                      22863       0.384806                 0.038811   \n",
       "152556                      22920       0.385160                 0.039080   \n",
       "\n",
       "        areal_density_overlap_3  \\\n",
       "43629                  0.000000   \n",
       "158319                 0.000000   \n",
       "83701                  0.000000   \n",
       "187788                 0.000000   \n",
       "187562                 0.000000   \n",
       "...                         ...   \n",
       "152860                 0.002417   \n",
       "152633                 0.002484   \n",
       "152746                 0.002470   \n",
       "152620                 0.001765   \n",
       "152556                 0.001781   \n",
       "\n",
       "        center_to_center_nearest_neighbor_distance_mean  \\\n",
       "43629                                          0.000000   \n",
       "158319                                      1102.081380   \n",
       "83701                                        846.784249   \n",
       "187788                                      1665.770915   \n",
       "187562                                       977.627106   \n",
       "...                                                 ...   \n",
       "152860                                        15.369740   \n",
       "152633                                        15.373173   \n",
       "152746                                        15.442292   \n",
       "152620                                        15.420649   \n",
       "152556                                        15.412216   \n",
       "\n",
       "        center_to_center_nearest_neighbor_distance_stdev  \\\n",
       "43629                                           0.000000   \n",
       "158319                                        424.622787   \n",
       "83701                                         335.378598   \n",
       "187788                                        213.604447   \n",
       "187562                                        608.060947   \n",
       "...                                                  ...   \n",
       "152860                                          6.453320   \n",
       "152633                                          6.359115   \n",
       "152746                                          6.557485   \n",
       "152620                                          6.439934   \n",
       "152556                                          6.426033   \n",
       "\n",
       "        center_to_center_nearest_neighbor_distance_min  ...          z  \\\n",
       "43629                                      7500.000000  ...   0.000000   \n",
       "158319                                      856.925293  ...  -0.150996   \n",
       "83701                                       598.327881  ...   0.608344   \n",
       "187788                                     1542.446167  ...   1.466570   \n",
       "187562                                      451.751282  ...  -0.085602   \n",
       "...                                                ...  ...        ...   \n",
       "152860                                        0.231264  ...  48.368637   \n",
       "152633                                        0.231264  ...  49.908594   \n",
       "152746                                        0.231264  ...  46.019051   \n",
       "152620                                        0.231264  ...  47.972119   \n",
       "152556                                        0.231264  ...  48.267646   \n",
       "\n",
       "                za  information_remaining  \\\n",
       "43629     0.000000               1.000000   \n",
       "158319   -0.150797               1.000000   \n",
       "83701     0.609217               1.000000   \n",
       "187788    1.466630               1.000000   \n",
       "187562   -0.085532               1.000000   \n",
       "...            ...                    ...   \n",
       "152860  142.388848               0.049620   \n",
       "152633  143.703459               0.049792   \n",
       "152746  137.033222               0.048231   \n",
       "152620  140.696486               0.048566   \n",
       "152556  141.296571               0.048660   \n",
       "\n",
       "        post_saturation_n_craters_in_study_region_percentile  \\\n",
       "43629                                                0.00      \n",
       "158319                                               0.00      \n",
       "83701                                                0.00      \n",
       "187788                                               0.00      \n",
       "187562                                               0.00      \n",
       "...                                                   ...      \n",
       "152860                                               0.42      \n",
       "152633                                               0.45      \n",
       "152746                                               0.26      \n",
       "152620                                               0.36      \n",
       "152556                                               0.38      \n",
       "\n",
       "        post_saturation_areal_density_percentile  effective_radius_multiplier  \\\n",
       "43629                                       0.00                     1.680587   \n",
       "158319                                      0.00                     1.213210   \n",
       "83701                                       0.00                     1.868214   \n",
       "187788                                      0.00                     1.713365   \n",
       "187562                                      0.00                     1.713365   \n",
       "...                                          ...                          ...   \n",
       "152860                                      0.99                     1.671990   \n",
       "152633                                      0.96                     1.671990   \n",
       "152746                                      0.92                     1.671990   \n",
       "152620                                      0.96                     1.671990   \n",
       "152556                                      0.97                     1.671990   \n",
       "\n",
       "        min_rim_percentage  r_stat_multiplier     slope  removals  \n",
       "43629             0.720628           6.633683  2.584424         0  \n",
       "158319            0.705417           3.848464  1.632000         0  \n",
       "83701             0.730485           7.980788  1.134110         0  \n",
       "187788            0.695958           5.357592  1.242984         0  \n",
       "187562            0.695958           5.357592  1.242984         0  \n",
       "...                    ...                ...       ...       ...  \n",
       "152860            0.368286           8.495252  2.800900    441351  \n",
       "152633            0.368286           8.495252  2.800900    443061  \n",
       "152746            0.368286           8.495252  2.800900    445488  \n",
       "152620            0.368286           8.495252  2.800900    447894  \n",
       "152556            0.368286           8.495252  2.800900    448105  \n",
       "\n",
       "[200000 rows x 23 columns]"
      ]
     },
     "execution_count": 25,
     "metadata": {},
     "output_type": "execute_result"
    }
   ],
   "source": [
    "stats_df"
   ]
  },
  {
   "cell_type": "code",
   "execution_count": 37,
   "id": "a6fdb5a5-0f3c-4bc8-87f1-a0f4ba020fa6",
   "metadata": {},
   "outputs": [
    {
     "data": {
      "image/png": "[encoded data removed]",
      "text/plain": [
       "<Figure size 640x480 with 1 Axes>"
      ]
     },
     "metadata": {},
     "output_type": "display_data"
    }
   ],
   "source": [
    "r = stats_df[stats_df.simulation_id == 1477]\n",
    "plt.plot((r.n_craters_added_in_study_region), np.log10(r.center_to_center_nearest_neighbor_distance_mean))\n",
    "plt.xlabel(\"N_tot\")\n",
    "plt.ylabel(\"log(NN_d)\")\n",
    "plt.show()"
   ]
  },
  {
   "cell_type": "code",
   "execution_count": 38,
   "id": "f43ac666-f19e-4794-b48a-17ac1301bf35",
   "metadata": {},
   "outputs": [
    {
     "data": {
      "image/png": "[encoded data removed]",
      "text/plain": [
       "<Figure size 640x480 with 1 Axes>"
      ]
     },
     "metadata": {},
     "output_type": "display_data"
    }
   ],
   "source": [
    "r = stats_df[stats_df.simulation_id == 1477]\n",
    "plt.plot((r.n_craters_added_in_study_region), r.information_remaining)\n",
    "plt.xlabel(\"N_tot\")\n",
    "plt.ylabel(\"log(NN_d)\")\n",
    "plt.show()"
   ]
  },
  {
   "cell_type": "code",
   "execution_count": null,
   "id": "230bf314-33fc-4b51-a708-c9bc85505f0a",
   "metadata": {},
   "outputs": [],
   "source": []
  },
  {
   "cell_type": "markdown",
   "id": "92108fe9-8add-4e29-b002-d09c21310674",
   "metadata": {},
   "source": [
    "#### Plots of IVs vs IR\n",
    "\n",
    "I am not sure how to interpret these plots.\n",
    "\n",
    "At the very least, high IR (near 1) occurs across a wide range of other IVs. This is easily explained: crater destruction has not yet become a factor."
   ]
  },
  {
   "cell_type": "code",
   "execution_count": null,
   "id": "35276fb1-5e17-452d-85aa-6627b1b79ec7",
   "metadata": {},
   "outputs": [],
   "source": [
    "plt.scatter(np.log(stats_df.n_craters_in_study_region), np.log(stats_df.information_remaining))\n",
    "plt.xlabel(\"log(N_r)\")\n",
    "plt.ylabel(\"log(N)\")\n",
    "plt.show()"
   ]
  },
  {
   "cell_type": "code",
   "execution_count": null,
   "id": "a2b0da22-3a57-48fa-919a-271962ccd884",
   "metadata": {},
   "outputs": [],
   "source": [
    "for x in non_constant_ivs:\n",
    "    plt.scatter(stats_df[x], stats_df.information_remaining)\n",
    "    plt.xlabel(f\"{x}\")\n",
    "    plt.ylabel(\"IR\")\n",
    "    plt.show()"
   ]
  },
  {
   "cell_type": "code",
   "execution_count": null,
   "id": "7ac809f3-0bc7-4af5-9d87-ba8d7a6c40bb",
   "metadata": {},
   "outputs": [],
   "source": [
    "for x in non_constant_ivs:\n",
    "    plt.scatter(np.log(stats_df[x]), stats_df.information_remaining)\n",
    "    plt.xlabel(f\"log({x})\")\n",
    "    plt.ylabel(\"IR\")\n",
    "    plt.show()"
   ]
  },
  {
   "cell_type": "code",
   "execution_count": null,
   "id": "ce593952-dfcf-421c-b252-856650d7f28f",
   "metadata": {},
   "outputs": [],
   "source": [
    "for x in non_constant_ivs:\n",
    "    plt.scatter(np.log10(stats_df[x]), stats_df.information_remaining)\n",
    "    plt.xlabel(f\"log({x})\")\n",
    "    plt.ylabel(\"IR\")\n",
    "    plt.show()"
   ]
  },
  {
   "cell_type": "code",
   "execution_count": null,
   "id": "b2463791-2aad-40d2-aa45-7432d3a34198",
   "metadata": {},
   "outputs": [],
   "source": [
    "for x in non_constant_ivs:\n",
    "    plt.scatter(np.log10(stats_df[x]), np.log10(stats_df.removals))\n",
    "    plt.xlabel(f\"log({x})\")\n",
    "    plt.ylabel(\"log(removals)\")\n",
    "    plt.show()"
   ]
  },
  {
   "cell_type": "code",
   "execution_count": null,
   "id": "09915c69-3052-4454-9efb-75382b015781",
   "metadata": {},
   "outputs": [],
   "source": [
    "plt.scatter(stats_df.effective_radius_multiplier, np.log10(stats_df.removals))\n",
    "plt.xlabel(f\"effective_radius_multiplier)\")\n",
    "plt.ylabel(\"log(removals)\")\n",
    "plt.show()"
   ]
  },
  {
   "cell_type": "code",
   "execution_count": null,
   "id": "9a8a9885-2773-4825-b85b-7dfc77c897a6",
   "metadata": {},
   "outputs": [],
   "source": [
    "plt.scatter(stats_df.min_rim_percentage, np.log10(stats_df.removals))\n",
    "plt.xlabel(f\"min_rim_percentage)\")\n",
    "plt.ylabel(\"log(removals)\")\n",
    "plt.show()"
   ]
  },
  {
   "cell_type": "code",
   "execution_count": null,
   "id": "838fd763-9904-4b94-ac67-db5a8463576e",
   "metadata": {},
   "outputs": [],
   "source": [
    "plt.scatter(stats_df.slope, np.log10(stats_df.removals))\n",
    "plt.xlabel(f\"slope)\")\n",
    "plt.ylabel(\"log(removals)\")\n",
    "plt.show()"
   ]
  },
  {
   "cell_type": "code",
   "execution_count": null,
   "id": "6373a775-c5cd-46f9-8b5c-3e0050da1062",
   "metadata": {},
   "outputs": [],
   "source": [
    "# Failed experiment\n",
    "df = stats_df[stats_df.simulation_id == 10].copy()\n",
    "# df = stats_df[stats_df.information_remaining < 0.95]\n",
    "# df = df.sample(df.shape[0] // 10).copy()\n",
    "\n",
    "x_min = 5\n",
    "mean_r_sq = (df.slope + 1) / df.slope * x_min**2\n",
    "df[\"destruction_rate\"] = mean_r_sq * df.effective_radius_multiplier ** 2 * df.min_rim_percentage * df.n_craters_in_study_region\n",
    "\n",
    "fig = px.scatter(\n",
    "    df,\n",
    "    x=\"removals\",\n",
    "    y=\"destruction_rate\",\n",
    "    hover_data=ivs + [\"removals\"],\n",
    "    size_max=0.25,\n",
    "    color=\"areal_density\"\n",
    ")\n",
    "fig.show()\n",
    "\n",
    "# plt.scatter(df.information_remaining, destruction)\n",
    "# plt.xlabel(\"IR\")\n",
    "# plt.ylabel(\"destruction\")\n",
    "# plt.show()"
   ]
  },
  {
   "cell_type": "code",
   "execution_count": null,
   "id": "4d6d64f8-6869-44bc-bc29-f48d587a81a7",
   "metadata": {},
   "outputs": [],
   "source": []
  },
  {
   "cell_type": "code",
   "execution_count": null,
   "id": "ff0c7756-110e-47e8-b47a-c960d0ab3cb9",
   "metadata": {},
   "outputs": [],
   "source": [
    "def plot_n_destruction_and_ad_for_simulation(simulation_id: int, stats_df: pd.DataFrame):\n",
    "    df = stats_df[stats_df.simulation_id == simulation_id]\n",
    "    df.head()\n",
    "    \n",
    "    print(df[[\"slope\", \"effective_radius_multiplier\", \"r_stat_multiplier\", \"min_rim_percentage\"]].iloc[0])\n",
    "    \n",
    "    fig = plt.figure(figsize=(18, 4))\n",
    "    ax1 = fig.add_subplot(121)\n",
    "    \n",
    "    plt1 = ax1.plot(df.n_craters_added_in_study_region, df.destruction_rate, color='red', label=\"Destruction Rate\")\n",
    "    ax1.set_ylabel(\"Destruction Rate\")\n",
    "    ax1.set_xlabel(\"N Craters Added\")\n",
    "    \n",
    "    ax2 = ax1.twinx()\n",
    "    plt2 = ax2.plot(df.n_craters_added_in_study_region, df.areal_density, color=\"blue\", label=\"Areal Density\")\n",
    "    ax2.set_ylabel(\"Areal Density\")\n",
    "    \n",
    "    lns = plt1 + plt2\n",
    "    ax1.legend(lns, [l.get_label() for l in lns], loc=4)\n",
    "    \n",
    "    ax1.set_title(f\"Simulation {simulation_id}\")\n",
    "\n",
    "\n",
    "    ax1 = fig.add_subplot(122)\n",
    "    \n",
    "    plt1 = ax1.plot(df.n_craters_added_in_study_region, df.information_remaining, color='red', label=\"Information Remaining\")\n",
    "    ax1.set_ylabel(\"Information Remaining\")\n",
    "    ax1.set_xlabel(\"N Craters Added\")\n",
    "    \n",
    "    ax2 = ax1.twinx()\n",
    "    plt2 = ax2.plot(df.n_craters_added_in_study_region, df.n_craters_in_study_region, color=\"blue\", label=\"N Craters Remaining\")\n",
    "    ax2.set_ylabel(\"Areal Density\")\n",
    "    \n",
    "    lns = plt1 + plt2\n",
    "    ax1.legend(lns, [l.get_label() for l in lns], loc=4)\n",
    "    \n",
    "    ax1.set_title(f\"Simulation {simulation_id}\")\n",
    "    plt.show()"
   ]
  },
  {
   "cell_type": "code",
   "execution_count": null,
   "id": "5b1d8838-6aaf-4098-86d8-ceac5b69aff6",
   "metadata": {},
   "outputs": [],
   "source": [
    "constant = 4000**2 / 300\n",
    "\n",
    "df = stats_df[stats_df.slope > 2].copy()\n",
    "ids = df.simulation_id.unique()\n",
    "\n",
    "x_min = 5\n",
    "mean_r_sq = (df.slope - 1) / (df.slope - 2) * x_min**2\n",
    "df[\"destruction_rate\"] = mean_r_sq * df.effective_radius_multiplier ** 2 * df.min_rim_percentage / df.center_to_center_nearest_neighbor_distance_mean\n",
    "\n",
    "for x in range(8, 15):\n",
    "    plot_n_destruction_and_ad_for_simulation(ids[x], df)"
   ]
  },
  {
   "cell_type": "code",
   "execution_count": null,
   "id": "fb529515-906d-4454-83ad-f635b45465c6",
   "metadata": {},
   "outputs": [],
   "source": []
  },
  {
   "cell_type": "markdown",
   "id": "058e1972-7e5c-498c-9f9a-c3c7b6931565",
   "metadata": {},
   "source": [
    "#### Plots of N vs IVs\n",
    "\n",
    "Here, N = count of craters ever to hit the study region.\n",
    "\n",
    "There appear to be relationships between several IVs and N:\n",
    "- za: positive correlation\n",
    "- areal_density: positive correlation\n",
    "\n",
    "center-to-center and rim-to-rim distance metrics seem to tell a similar story as the IR plots: once crater destruction becomes a factor, N has larger variance. Perhaps examining plots where crater destruction has started will help?"
   ]
  },
  {
   "cell_type": "code",
   "execution_count": null,
   "id": "10cc0892-b618-4e80-9b5c-f282eeddc535",
   "metadata": {},
   "outputs": [],
   "source": [
    "for x in non_constant_ivs:\n",
    "    plt.scatter(stats_df[x], stats_df.n_craters_added_in_study_region)\n",
    "    plt.xlabel(f\"{x}\")\n",
    "    plt.ylabel(\"N\")\n",
    "    plt.show()"
   ]
  },
  {
   "cell_type": "code",
   "execution_count": null,
   "id": "4c212d34-9581-4fae-ae30-70dc0f90bfba",
   "metadata": {},
   "outputs": [],
   "source": [
    "for x in non_constant_ivs:\n",
    "    plt.scatter(stats_df[x], np.log(stats_df.n_craters_added_in_study_region))\n",
    "    plt.xlabel(f\"{x}\")\n",
    "    plt.ylabel(\"log(N)\")\n",
    "    plt.show()"
   ]
  },
  {
   "cell_type": "code",
   "execution_count": null,
   "id": "c67091bd-d6d4-4fee-a91a-232613b26224",
   "metadata": {},
   "outputs": [],
   "source": [
    "for x in non_constant_ivs:\n",
    "    plt.scatter(np.log(stats_df[x]), np.log(stats_df.removals))\n",
    "    plt.xlabel(f\"log({x})\")\n",
    "    plt.ylabel(\"log(N)\")\n",
    "    plt.show()"
   ]
  },
  {
   "cell_type": "code",
   "execution_count": null,
   "id": "d4ac6fff-06fe-4ca3-b57a-74e0f982f152",
   "metadata": {},
   "outputs": [],
   "source": []
  },
  {
   "cell_type": "markdown",
   "id": "686d601d-a181-4522-9627-ab3e4a69c903",
   "metadata": {},
   "source": [
    "#### Plots of N vs IVs after crater destruction has started"
   ]
  },
  {
   "cell_type": "code",
   "execution_count": null,
   "id": "534149a5-8277-4b84-b47d-794526434efa",
   "metadata": {
    "scrolled": true
   },
   "outputs": [],
   "source": [
    "df = stats_df[stats_df.information_remaining < 0.8].copy()\n",
    "for x in non_constant_ivs:\n",
    "    plt.scatter(df[x], df.n_craters_added_in_study_region)\n",
    "    plt.xlabel(f\"{x}\")\n",
    "    plt.ylabel(\"N\")\n",
    "    plt.show()"
   ]
  },
  {
   "cell_type": "code",
   "execution_count": null,
   "id": "375e944a-74e1-4c9b-b713-4667085c15fb",
   "metadata": {},
   "outputs": [],
   "source": [
    "df = stats_df[stats_df.information_remaining < 0.8].copy()\n",
    "for x in non_constant_ivs:\n",
    "    plt.scatter(df[x], np.log(df.n_craters_added_in_study_region))\n",
    "    plt.xlabel(f\"{x}\")\n",
    "    plt.ylabel(\"log(N)\")\n",
    "    plt.show()"
   ]
  },
  {
   "cell_type": "code",
   "execution_count": null,
   "id": "1f5ad855-52ed-4c90-9f25-4204fbca8549",
   "metadata": {},
   "outputs": [],
   "source": [
    "df = stats_df #[stats_df.information_remaining < 1].copy()\n",
    "for x in [\"center_to_center_nearest_neighbor_distance_mean\"]:\n",
    "    plt.scatter(np.log(df[x]), np.log(df.n_craters_added_in_study_region))\n",
    "    plt.xlabel(f\"log({x})\")\n",
    "    plt.ylabel(\"log(N)\")\n",
    "    plt.show()"
   ]
  },
  {
   "cell_type": "code",
   "execution_count": null,
   "id": "42254869-3fa4-4e71-9e76-6a8cf4c33995",
   "metadata": {},
   "outputs": [],
   "source": [
    "df = stats_df #[stats_df.information_remaining < 1].copy()\n",
    "for x in [\"center_to_center_nearest_neighbor_distance_mean\"]:\n",
    "    plt.scatter(np.log10(df[x]), np.log10(df.n_craters_added_in_study_region))\n",
    "    plt.xlabel(f\"log({x})\")\n",
    "    plt.ylabel(\"log(N)\")\n",
    "    plt.show()"
   ]
  },
  {
   "cell_type": "code",
   "execution_count": null,
   "id": "41590c48-3d9d-4d91-8944-b894ca0b006a",
   "metadata": {},
   "outputs": [],
   "source": [
    "df = stats_df #[stats_df.information_remaining < 1].copy()\n",
    "for x in [\"center_to_center_nearest_neighbor_distance_mean\"]:\n",
    "    plt.scatter(np.log10(df[x]), np.log10(df.information_remaining))\n",
    "    plt.xlabel(f\"log({x})\")\n",
    "    plt.ylabel(\"log(IR)\")\n",
    "    plt.show()"
   ]
  },
  {
   "cell_type": "code",
   "execution_count": null,
   "id": "760b70fb-0051-4e80-b790-504f0c9f1f5c",
   "metadata": {},
   "outputs": [],
   "source": []
  },
  {
   "cell_type": "code",
   "execution_count": null,
   "id": "9ffd5f6f-250a-49aa-84ab-75d44bbb8a55",
   "metadata": {},
   "outputs": [],
   "source": []
  },
  {
   "cell_type": "code",
   "execution_count": null,
   "id": "e7720dfd-9ca1-4a09-98f3-0b59a7894432",
   "metadata": {},
   "outputs": [],
   "source": []
  },
  {
   "cell_type": "markdown",
   "id": "22332968-466b-47ed-b571-8c82d2d5c785",
   "metadata": {},
   "source": [
    "N appears to have greater variance after some cutoff values of most of the center-to-center and rim-to-rim distance metrics.\n",
    "\n",
    "Examining these at these more closely with different cutoffs of IR, we find that the thin \"tail\" at greater values of the distance metrics shrinks. Around IR < 0.5, the tail is mostly gone.\n",
    "\n",
    "This seems to imply that after about 50% information lost from the record, the behavior of N is different. It has larger variance, but still exhibits a relationship with some IVs."
   ]
  },
  {
   "cell_type": "code",
   "execution_count": null,
   "id": "6e2abe12-fdcf-4ffa-bee1-49fbf9e55a24",
   "metadata": {},
   "outputs": [],
   "source": [
    "distance_metrics = [\n",
    "    \"center_to_center_nearest_neighbor_distance_mean\",\n",
    "    \"center_to_center_nearest_neighbor_distance_stdev\",\n",
    "    \"center_to_center_nearest_neighbor_distance_min\",\n",
    "    \"center_to_center_nearest_neighbor_distance_max\",\n",
    "]"
   ]
  },
  {
   "cell_type": "code",
   "execution_count": null,
   "id": "558067d4-1d08-4d09-932e-beeba5b9408c",
   "metadata": {},
   "outputs": [],
   "source": [
    "df = stats_df[stats_df.information_remaining < 0.8].copy()\n",
    "for x in distance_metrics:\n",
    "    plt.scatter(np.log(df[x]), np.log(df.n_craters_added_in_study_region))\n",
    "    plt.xlabel(f\"log({x})\")\n",
    "    plt.ylabel(\"log(N)\")\n",
    "    plt.show()"
   ]
  },
  {
   "cell_type": "code",
   "execution_count": null,
   "id": "b97819b3-17d0-43d5-a091-7c8bdfb49791",
   "metadata": {},
   "outputs": [],
   "source": [
    "df = stats_df[stats_df.information_remaining < 0.5].copy()\n",
    "for x in distance_metrics:\n",
    "    plt.scatter(np.log(df[x]), np.log(df.n_craters_added_in_study_region))\n",
    "    plt.xlabel(f\"log({x})\")\n",
    "    plt.ylabel(\"log(N)\")\n",
    "    plt.show()"
   ]
  },
  {
   "cell_type": "markdown",
   "id": "217cd758-39c1-420c-adf6-0f554ad2e33f",
   "metadata": {},
   "source": [
    "Examining correlation matrices of observations with high vs low IR.\n",
    "\n",
    "- IR vs distance metrics correlations greatly diminishes when IR is low.\n",
    "- Effective radius correlation increases in higher IR.\n",
    "- Min rim percentage correlation increases in higher IR."
   ]
  },
  {
   "cell_type": "code",
   "execution_count": null,
   "id": "cdd68aaf-c39a-40cd-8551-0b38164011de",
   "metadata": {},
   "outputs": [],
   "source": [
    "df = stats_df[stats_df.information_remaining > 0.7].copy()\n",
    "sns.heatmap(df[ivs + [\"information_remaining\", \"n_craters_added_in_study_region\"]].corr())"
   ]
  },
  {
   "cell_type": "code",
   "execution_count": null,
   "id": "aaf61ab3-2a9e-4dc7-8e7d-7726e567f0b9",
   "metadata": {},
   "outputs": [],
   "source": [
    "df = stats_df[stats_df.information_remaining < 0.5].copy()\n",
    "sns.heatmap(df[ivs + [\"information_remaining\", \"n_craters_added_in_study_region\"]].corr())"
   ]
  },
  {
   "cell_type": "markdown",
   "id": "810c1fb6-9d0a-4e07-82e4-9cdf86a621ce",
   "metadata": {},
   "source": [
    "Correlation differences between high IR and low IR observations.\n",
    "\n",
    "First heatmap: positive = higher correlation in high IR\n",
    "\n",
    "Second heatmap: abs differences in correlations\n",
    "\n",
    "Third heatmap: abs differences in correlations of log-transformed data\n",
    "\n",
    "Notes:\n",
    "- Slope has higher correlation with distance metrics in high IR\n",
    "- z, za, and AD metrics have higher correlation with high IR\n",
    "- Sim parameters (eff radius, r_stat, slope, min rim perc) appear to have the same correlation in high and low IR\n",
    "- Log-transformed distance metrics have much higher correlation with high IR"
   ]
  },
  {
   "cell_type": "code",
   "execution_count": null,
   "id": "5c0bb8aa-5c7e-4a9a-8b7f-8ea67fe1b7ba",
   "metadata": {},
   "outputs": [],
   "source": [
    "df = stats_df[stats_df.information_remaining > 0.7].copy()\n",
    "corr1 = df[ivs + [\"information_remaining\", \"n_craters_added_in_study_region\"]].corr()\n",
    "\n",
    "df = stats_df[stats_df.information_remaining < 0.5].copy()\n",
    "corr2 = df[ivs + [\"information_remaining\", \"n_craters_added_in_study_region\"]].corr()\n",
    "\n",
    "sns.heatmap(corr1 - corr2)"
   ]
  },
  {
   "cell_type": "code",
   "execution_count": null,
   "id": "22ae959e-60ca-4e03-8cfb-088b6befbb82",
   "metadata": {},
   "outputs": [],
   "source": [
    "df = stats_df[stats_df.information_remaining > 0.7].copy()\n",
    "corr1 = df[ivs + [\"information_remaining\", \"n_craters_added_in_study_region\"]].corr()\n",
    "\n",
    "df = stats_df[stats_df.information_remaining < 0.5].copy()\n",
    "corr2 = df[ivs + [\"information_remaining\", \"n_craters_added_in_study_region\"]].corr()\n",
    "\n",
    "sns.heatmap(np.abs(corr1 - corr2))"
   ]
  },
  {
   "cell_type": "code",
   "execution_count": null,
   "id": "48c86def-2d58-4ed7-9abc-3dc75bd00e57",
   "metadata": {},
   "outputs": [],
   "source": [
    "df = np.log(stats_df[stats_df.information_remaining > 0.7].copy())\n",
    "corr1 = df[ivs + [\"information_remaining\", \"n_craters_added_in_study_region\"]].corr()\n",
    "\n",
    "df = np.log(stats_df[stats_df.information_remaining < 0.5].copy())\n",
    "corr2 = df[ivs + [\"information_remaining\", \"n_craters_added_in_study_region\"]].corr()\n",
    "\n",
    "sns.heatmap(np.abs(corr1 - corr2))"
   ]
  },
  {
   "cell_type": "code",
   "execution_count": null,
   "id": "0a858165-995a-484b-95f9-16f123ca6ec6",
   "metadata": {},
   "outputs": [],
   "source": []
  },
  {
   "cell_type": "code",
   "execution_count": null,
   "id": "c2b33432-b471-446f-af74-128ebecce738",
   "metadata": {},
   "outputs": [],
   "source": []
  },
  {
   "cell_type": "markdown",
   "id": "4f817e19-4e3e-4e21-92a2-2e218f0ff15c",
   "metadata": {},
   "source": [
    "#### Exploratory plots of distance metrics\n",
    "\n",
    "mean center-to-center nearest neighbor distance showed a peculiar relationship in the previous sections. Let's examine further."
   ]
  },
  {
   "cell_type": "code",
   "execution_count": null,
   "id": "4e4a22b7-b1a1-4c21-87c1-55e00fd9467e",
   "metadata": {
    "scrolled": true
   },
   "outputs": [],
   "source": [
    "df = stats_df #[stats_df.information_remaining < 0.5].copy()\n",
    "# df = stats_df.copy()\n",
    "df = df.sample(df.shape[0] // 10).copy()\n",
    "df[\"log_center_to_center_nearest_neighbor_distance_mean\"] = np.log10(df.center_to_center_nearest_neighbor_distance_mean)\n",
    "df[\"log_n_craters_added_in_study_region\"] = np.log10(df.n_craters_added_in_study_region)\n",
    "\n",
    "df[\"log_center_to_center_nearest_neighbor_distance_mean\"] = np.log10(df.center_to_center_nearest_neighbor_distance_mean)\n",
    "df[\"log_removals\"] = np.log10(1 + df.removals)\n",
    "df[\"log_areal_density\"] = np.log10(df.areal_density)\n",
    "df[\"color\"] = df.min_rim_percentage * df.effective_radius_multiplier\n",
    "\n",
    "fig = px.scatter(\n",
    "    df,\n",
    "    x=\"log_removals\",\n",
    "    y=\"log_areal_density\",\n",
    "    hover_data=ivs + [\"removals\", \"information_remaining\"],\n",
    "    size_max=0.25,\n",
    "    color=\"slope\"\n",
    ")\n",
    "fig.show()"
   ]
  },
  {
   "cell_type": "code",
   "execution_count": null,
   "id": "44637440-9fe8-4bbc-b60d-e7e707f381a1",
   "metadata": {},
   "outputs": [],
   "source": [
    "ir_lower = 0.4\n",
    "delta = 0.01\n",
    "# df = stats_df[(stats_df.information_remaining >= ir_lower) & (stats_df.information_remaining <= ir_lower + delta)].copy()\n",
    "# df = stats_df[stats_df.simulation_id == 11].copy()\n",
    "df = stats_df.copy()\n",
    "df = df.sample(df.shape[0] // 10).copy()\n",
    "df[\"log_center_to_center_nearest_neighbor_distance_mean\"] = np.log10(df.center_to_center_nearest_neighbor_distance_mean)\n",
    "df[\"log_n_craters_added_in_study_region\"] = np.log10(df.n_craters_added_in_study_region)\n",
    "df[\"log_za\"] = np.log10(df.za)\n",
    "\n",
    "df[\"log_center_to_center_nearest_neighbor_distance_mean\"] = np.log10(df.center_to_center_nearest_neighbor_distance_mean)\n",
    "df[\"log_removals\"] = np.log10(1 + df.n_craters_added_in_study_region - df.n_craters_in_study_region)\n",
    "df[\"removals\"] = df.n_craters_added_in_study_region - df.n_craters_in_study_region\n",
    "df[\"color\"] = df.min_rim_percentage * df.effective_radius_multiplier\n",
    "df[\"e_slope\"] = np.exp(df.slope)\n",
    "\n",
    "fig = px.scatter(\n",
    "    df,\n",
    "    y=\"log_n_craters_added_in_study_region\",\n",
    "    x=\"log_center_to_center_nearest_neighbor_distance_mean\",\n",
    "    hover_data=ivs + [\"removals\"],\n",
    "    size_max=1,\n",
    "    color=\"slope\",\n",
    ")\n",
    "fig.show()"
   ]
  },
  {
   "cell_type": "code",
   "execution_count": null,
   "id": "b1288b11-eac2-43ac-acc8-77930c28dc96",
   "metadata": {},
   "outputs": [],
   "source": []
  },
  {
   "cell_type": "code",
   "execution_count": null,
   "id": "d5f2d0c0-8c2e-4678-ad68-0c2b1397e8e4",
   "metadata": {},
   "outputs": [],
   "source": []
  },
  {
   "cell_type": "code",
   "execution_count": null,
   "id": "b57f4c03-2638-4ec0-8bb7-9863c0ea82e5",
   "metadata": {},
   "outputs": [],
   "source": []
  },
  {
   "cell_type": "code",
   "execution_count": null,
   "id": "ba96d81f-a8d1-4d86-9306-ed42c948b9d1",
   "metadata": {},
   "outputs": [],
   "source": []
  },
  {
   "cell_type": "code",
   "execution_count": 113,
   "id": "ad5f6667-dae5-446c-8297-d84ae73ddb0b",
   "metadata": {},
   "outputs": [],
   "source": [
    "base_path = \"/data/saturation/random_runs_20230812/\"\n",
    "# base_path = \"/data/saturation/ir_random_1/\"\n",
    "# base_path = \"/data/saturation/n_craters_stop_condition_20230918\"\n",
    "\n",
    "# stats_df = pd.read_parquet(f\"{base_path}/train_1000_100.parquet\").sort_values(\"crater_id\")\n",
    "stats_df = pd.read_parquet(f\"{base_path}/train_10.parquet\").sort_values(\"crater_id\")\n",
    "stats_df = fix_up_df(stats_df)\n",
    "\n",
    "# test_df = pd.read_parquet(f\"{base_path}/test_1000_100.parquet\").sort_values(\"crater_id\")\n",
    "test_df = pd.read_parquet(f\"{base_path}/test_10.parquet\").sort_values(\"crater_id\")\n",
    "test_df = fix_up_df(test_df)\n",
    "\n",
    "simulation_ids = stats_df.simulation_id.unique()"
   ]
  },
  {
   "cell_type": "code",
   "execution_count": 163,
   "id": "e131a5f0-f200-44ac-849a-a15fbce4ff34",
   "metadata": {},
   "outputs": [
    {
     "data": {
      "text/html": [
       "<iframe\n",
       "    scrolling=\"no\"\n",
       "    width=\"100%\"\n",
       "    height=\"545px\"\n",
       "    src=\"iframe_figures/figure_163.html\"\n",
       "    frameborder=\"0\"\n",
       "    allowfullscreen\n",
       "></iframe>\n"
      ]
     },
     "metadata": {},
     "output_type": "display_data"
    }
   ],
   "source": [
    "df = stats_df.copy()\n",
    "df = df[df.n_craters_in_study_region > 25]\n",
    "# df = df.sample(df.shape[0] // 10).copy()\n",
    "\n",
    "min_slope = 2.0\n",
    "max_slope = 2.1\n",
    "\n",
    "df = df[(df.slope > min_slope) & (df.slope < max_slope)]\n",
    "df[\"log_center_to_center_nearest_neighbor_distance_mean\"] = np.log10(df.center_to_center_nearest_neighbor_distance_mean)\n",
    "df[\"log_n_craters_added_in_study_region\"] = np.log10(df.n_craters_added_in_study_region)\n",
    "df[\"log_n_craters_in_study_region\"] = np.log10(df.n_craters_in_study_region)\n",
    "\n",
    "fig = px.scatter(\n",
    "    df,\n",
    "    x=\"log_center_to_center_nearest_neighbor_distance_mean\",\n",
    "    y=\"log_n_craters_added_in_study_region\",\n",
    "    hover_data=ivs + [\"information_remaining\"],\n",
    "    size_max=1,\n",
    "    color=\"log_n_craters_in_study_region\",\n",
    ")\n",
    "fig.show()"
   ]
  },
  {
   "cell_type": "code",
   "execution_count": 161,
   "id": "898fd11d-b190-474c-8c16-976a6fe22fbf",
   "metadata": {},
   "outputs": [
    {
     "data": {
      "text/plain": [
       "9.821004080330002"
      ]
     },
     "execution_count": 161,
     "metadata": {},
     "output_type": "execute_result"
    }
   ],
   "source": [
    "from saturation.distributions import ProbabilityDistribution, ParetoProbabilityDistribution\n",
    "\n",
    "slope = 2\n",
    "x_min = 5\n",
    "x_max = 1000\n",
    "\n",
    "size_distribution = ParetoProbabilityDistribution(cdf_slope=slope,\n",
    "                                                  x_min=x_min,\n",
    "                                                  x_max=x_max)\n",
    "size_distribution.pullback(np.random.rand(10000)).mean()"
   ]
  },
  {
   "cell_type": "code",
   "execution_count": null,
   "id": "4d710fec-37f1-4b52-8f99-fa3b11054744",
   "metadata": {},
   "outputs": [],
   "source": []
  },
  {
   "cell_type": "code",
   "execution_count": 200,
   "id": "5c287b0d-7c47-44f0-873e-44daface93e3",
   "metadata": {},
   "outputs": [
    {
     "name": "stdout",
     "output_type": "stream",
     "text": [
      "268440\n"
     ]
    }
   ],
   "source": [
    "# Trying to approximate variance\n",
    "df = stats_df.copy()\n",
    "\n",
    "slope_center = 2\n",
    "slope_epsilon = .1\n",
    "min_slope = slope_center - slope_epsilon\n",
    "max_slope = slope_center + slope_epsilon\n",
    "interior_min = slope_center - slope_epsilon / 2\n",
    "interior_max = slope_center + slope_epsilon / 2\n",
    "\n",
    "calc_df = df[(df.slope >= interior_min) & (df.slope < interior_max)].sort_values(\"center_to_center_nearest_neighbor_distance_mean\").copy()\n",
    "search_df = df[(df.slope >= min_slope) & (df.slope < max_slope)][[\"center_to_center_nearest_neighbor_distance_mean\"]].sort_values(\"center_to_center_nearest_neighbor_distance_mean\").reset_index(drop=True).copy()\n",
    "search_df[\"idx\"] = range(search_df.shape[0])\n",
    "\n",
    "results = []\n",
    "for row in calc_df.itertuples():\n",
    "    print(row.Index)\n",
    "    break"
   ]
  },
  {
   "cell_type": "code",
   "execution_count": 202,
   "id": "57e3f9f6-6f08-44e0-b6df-89b5483abd2d",
   "metadata": {},
   "outputs": [
    {
     "data": {
      "text/html": [
       "<div>\n",
       "<style scoped>\n",
       "    .dataframe tbody tr th:only-of-type {\n",
       "        vertical-align: middle;\n",
       "    }\n",
       "\n",
       "    .dataframe tbody tr th {\n",
       "        vertical-align: top;\n",
       "    }\n",
       "\n",
       "    .dataframe thead th {\n",
       "        text-align: right;\n",
       "    }\n",
       "</style>\n",
       "<table border=\"1\" class=\"dataframe\">\n",
       "  <thead>\n",
       "    <tr style=\"text-align: right;\">\n",
       "      <th></th>\n",
       "      <th>center_to_center_nearest_neighbor_distance_mean</th>\n",
       "      <th>idx</th>\n",
       "    </tr>\n",
       "  </thead>\n",
       "  <tbody>\n",
       "    <tr>\n",
       "      <th>0</th>\n",
       "      <td>0.000000</td>\n",
       "      <td>0</td>\n",
       "    </tr>\n",
       "    <tr>\n",
       "      <th>1</th>\n",
       "      <td>0.000000</td>\n",
       "      <td>1</td>\n",
       "    </tr>\n",
       "    <tr>\n",
       "      <th>2</th>\n",
       "      <td>0.000000</td>\n",
       "      <td>2</td>\n",
       "    </tr>\n",
       "    <tr>\n",
       "      <th>3</th>\n",
       "      <td>0.000000</td>\n",
       "      <td>3</td>\n",
       "    </tr>\n",
       "    <tr>\n",
       "      <th>4</th>\n",
       "      <td>0.000000</td>\n",
       "      <td>4</td>\n",
       "    </tr>\n",
       "    <tr>\n",
       "      <th>...</th>\n",
       "      <td>...</td>\n",
       "      <td>...</td>\n",
       "    </tr>\n",
       "    <tr>\n",
       "      <th>40705</th>\n",
       "      <td>2940.310547</td>\n",
       "      <td>40705</td>\n",
       "    </tr>\n",
       "    <tr>\n",
       "      <th>40706</th>\n",
       "      <td>2961.814941</td>\n",
       "      <td>40706</td>\n",
       "    </tr>\n",
       "    <tr>\n",
       "      <th>40707</th>\n",
       "      <td>2967.325928</td>\n",
       "      <td>40707</td>\n",
       "    </tr>\n",
       "    <tr>\n",
       "      <th>40708</th>\n",
       "      <td>3666.637451</td>\n",
       "      <td>40708</td>\n",
       "    </tr>\n",
       "    <tr>\n",
       "      <th>40709</th>\n",
       "      <td>4811.432129</td>\n",
       "      <td>40709</td>\n",
       "    </tr>\n",
       "  </tbody>\n",
       "</table>\n",
       "<p>40710 rows × 2 columns</p>\n",
       "</div>"
      ],
      "text/plain": [
       "       center_to_center_nearest_neighbor_distance_mean    idx\n",
       "0                                             0.000000      0\n",
       "1                                             0.000000      1\n",
       "2                                             0.000000      2\n",
       "3                                             0.000000      3\n",
       "4                                             0.000000      4\n",
       "...                                                ...    ...\n",
       "40705                                      2940.310547  40705\n",
       "40706                                      2961.814941  40706\n",
       "40707                                      2967.325928  40707\n",
       "40708                                      3666.637451  40708\n",
       "40709                                      4811.432129  40709\n",
       "\n",
       "[40710 rows x 2 columns]"
      ]
     },
     "execution_count": 202,
     "metadata": {},
     "output_type": "execute_result"
    }
   ],
   "source": [
    "search_df"
   ]
  },
  {
   "cell_type": "code",
   "execution_count": 201,
   "id": "23380e88-3a2b-4b69-8a94-deaf0e6085f3",
   "metadata": {},
   "outputs": [],
   "source": [
    "merged = pd.merge_asof(\n",
    "    calc_df,\n",
    "    search_df,\n",
    "    left_on=\"center_to_center_nearest_neighbor_distance_mean\",\n",
    "    right_on=\"center_to_center_nearest_neighbor_distance_mean\",\n",
    "    allow_exact_matches=False,\n",
    "    direction=\"nearest\"\n",
    ")"
   ]
  },
  {
   "cell_type": "code",
   "execution_count": 191,
   "id": "7e6243fc-6455-47e6-af32-1eb5fa8c14ea",
   "metadata": {},
   "outputs": [
    {
     "data": {
      "text/html": [
       "<div>\n",
       "<style scoped>\n",
       "    .dataframe tbody tr th:only-of-type {\n",
       "        vertical-align: middle;\n",
       "    }\n",
       "\n",
       "    .dataframe tbody tr th {\n",
       "        vertical-align: top;\n",
       "    }\n",
       "\n",
       "    .dataframe thead th {\n",
       "        text-align: right;\n",
       "    }\n",
       "</style>\n",
       "<table border=\"1\" class=\"dataframe\">\n",
       "  <thead>\n",
       "    <tr style=\"text-align: right;\">\n",
       "      <th></th>\n",
       "      <th>index</th>\n",
       "      <th>simulation_id</th>\n",
       "      <th>crater_id</th>\n",
       "      <th>n_craters_added_in_study_region</th>\n",
       "      <th>n_craters_in_study_region</th>\n",
       "      <th>areal_density</th>\n",
       "      <th>areal_density_overlap_2</th>\n",
       "      <th>areal_density_overlap_3</th>\n",
       "      <th>center_to_center_nearest_neighbor_distance_mean</th>\n",
       "      <th>center_to_center_nearest_neighbor_distance_stdev</th>\n",
       "      <th>...</th>\n",
       "      <th>rim_to_rim_nearest_neighbor_distance_max</th>\n",
       "      <th>n_non_zero_rim_to_rim_nearest_neighbor_distances</th>\n",
       "      <th>z</th>\n",
       "      <th>za</th>\n",
       "      <th>information_remaining</th>\n",
       "      <th>effective_radius_multiplier</th>\n",
       "      <th>min_rim_percentage</th>\n",
       "      <th>r_stat_multiplier</th>\n",
       "      <th>slope</th>\n",
       "      <th>removals</th>\n",
       "    </tr>\n",
       "  </thead>\n",
       "  <tbody>\n",
       "    <tr>\n",
       "      <th>0</th>\n",
       "      <td>268440</td>\n",
       "      <td>10</td>\n",
       "      <td>2</td>\n",
       "      <td>1</td>\n",
       "      <td>1</td>\n",
       "      <td>0.000015</td>\n",
       "      <td>0.0</td>\n",
       "      <td>0.0</td>\n",
       "      <td>0.000000</td>\n",
       "      <td>0.0</td>\n",
       "      <td>...</td>\n",
       "      <td>0.000000</td>\n",
       "      <td>0</td>\n",
       "      <td>0.000000</td>\n",
       "      <td>0.000000</td>\n",
       "      <td>1.0</td>\n",
       "      <td>1.187143</td>\n",
       "      <td>0.708349</td>\n",
       "      <td>7.099577</td>\n",
       "      <td>1.994618</td>\n",
       "      <td>0</td>\n",
       "    </tr>\n",
       "    <tr>\n",
       "      <th>1</th>\n",
       "      <td>215278</td>\n",
       "      <td>2309</td>\n",
       "      <td>73</td>\n",
       "      <td>1</td>\n",
       "      <td>1</td>\n",
       "      <td>0.000006</td>\n",
       "      <td>0.0</td>\n",
       "      <td>0.0</td>\n",
       "      <td>0.000000</td>\n",
       "      <td>0.0</td>\n",
       "      <td>...</td>\n",
       "      <td>0.000000</td>\n",
       "      <td>0</td>\n",
       "      <td>0.000000</td>\n",
       "      <td>0.000000</td>\n",
       "      <td>1.0</td>\n",
       "      <td>1.874091</td>\n",
       "      <td>0.513008</td>\n",
       "      <td>3.897285</td>\n",
       "      <td>1.953064</td>\n",
       "      <td>0</td>\n",
       "    </tr>\n",
       "    <tr>\n",
       "      <th>2</th>\n",
       "      <td>279029</td>\n",
       "      <td>2404</td>\n",
       "      <td>38</td>\n",
       "      <td>1</td>\n",
       "      <td>1</td>\n",
       "      <td>0.000008</td>\n",
       "      <td>0.0</td>\n",
       "      <td>0.0</td>\n",
       "      <td>0.000000</td>\n",
       "      <td>0.0</td>\n",
       "      <td>...</td>\n",
       "      <td>0.000000</td>\n",
       "      <td>0</td>\n",
       "      <td>0.000000</td>\n",
       "      <td>0.000000</td>\n",
       "      <td>1.0</td>\n",
       "      <td>1.663088</td>\n",
       "      <td>0.443837</td>\n",
       "      <td>6.159380</td>\n",
       "      <td>2.049174</td>\n",
       "      <td>0</td>\n",
       "    </tr>\n",
       "    <tr>\n",
       "      <th>3</th>\n",
       "      <td>133252</td>\n",
       "      <td>2500</td>\n",
       "      <td>64</td>\n",
       "      <td>1</td>\n",
       "      <td>1</td>\n",
       "      <td>0.000008</td>\n",
       "      <td>0.0</td>\n",
       "      <td>0.0</td>\n",
       "      <td>0.000000</td>\n",
       "      <td>0.0</td>\n",
       "      <td>...</td>\n",
       "      <td>0.000000</td>\n",
       "      <td>0</td>\n",
       "      <td>0.000000</td>\n",
       "      <td>0.000000</td>\n",
       "      <td>1.0</td>\n",
       "      <td>1.645326</td>\n",
       "      <td>0.538338</td>\n",
       "      <td>6.587640</td>\n",
       "      <td>2.073390</td>\n",
       "      <td>0</td>\n",
       "    </tr>\n",
       "    <tr>\n",
       "      <th>4</th>\n",
       "      <td>141787</td>\n",
       "      <td>1206</td>\n",
       "      <td>23</td>\n",
       "      <td>1</td>\n",
       "      <td>1</td>\n",
       "      <td>0.000022</td>\n",
       "      <td>0.0</td>\n",
       "      <td>0.0</td>\n",
       "      <td>0.000000</td>\n",
       "      <td>0.0</td>\n",
       "      <td>...</td>\n",
       "      <td>0.000000</td>\n",
       "      <td>0</td>\n",
       "      <td>0.000000</td>\n",
       "      <td>0.000000</td>\n",
       "      <td>1.0</td>\n",
       "      <td>1.649914</td>\n",
       "      <td>0.267792</td>\n",
       "      <td>4.405230</td>\n",
       "      <td>2.099258</td>\n",
       "      <td>0</td>\n",
       "    </tr>\n",
       "    <tr>\n",
       "      <th>...</th>\n",
       "      <td>...</td>\n",
       "      <td>...</td>\n",
       "      <td>...</td>\n",
       "      <td>...</td>\n",
       "      <td>...</td>\n",
       "      <td>...</td>\n",
       "      <td>...</td>\n",
       "      <td>...</td>\n",
       "      <td>...</td>\n",
       "      <td>...</td>\n",
       "      <td>...</td>\n",
       "      <td>...</td>\n",
       "      <td>...</td>\n",
       "      <td>...</td>\n",
       "      <td>...</td>\n",
       "      <td>...</td>\n",
       "      <td>...</td>\n",
       "      <td>...</td>\n",
       "      <td>...</td>\n",
       "      <td>...</td>\n",
       "      <td>...</td>\n",
       "    </tr>\n",
       "    <tr>\n",
       "      <th>40705</th>\n",
       "      <td>305426</td>\n",
       "      <td>1351</td>\n",
       "      <td>24</td>\n",
       "      <td>2</td>\n",
       "      <td>2</td>\n",
       "      <td>0.000025</td>\n",
       "      <td>0.0</td>\n",
       "      <td>0.0</td>\n",
       "      <td>2940.310547</td>\n",
       "      <td>0.0</td>\n",
       "      <td>...</td>\n",
       "      <td>2925.154541</td>\n",
       "      <td>2</td>\n",
       "      <td>2.919530</td>\n",
       "      <td>2.919600</td>\n",
       "      <td>1.0</td>\n",
       "      <td>1.705948</td>\n",
       "      <td>0.672229</td>\n",
       "      <td>7.395973</td>\n",
       "      <td>2.002413</td>\n",
       "      <td>0</td>\n",
       "    </tr>\n",
       "    <tr>\n",
       "      <th>40706</th>\n",
       "      <td>210419</td>\n",
       "      <td>595</td>\n",
       "      <td>43</td>\n",
       "      <td>2</td>\n",
       "      <td>2</td>\n",
       "      <td>0.000019</td>\n",
       "      <td>0.0</td>\n",
       "      <td>0.0</td>\n",
       "      <td>2961.814941</td>\n",
       "      <td>0.0</td>\n",
       "      <td>...</td>\n",
       "      <td>2947.882324</td>\n",
       "      <td>2</td>\n",
       "      <td>2.960670</td>\n",
       "      <td>2.960724</td>\n",
       "      <td>1.0</td>\n",
       "      <td>1.368665</td>\n",
       "      <td>0.263233</td>\n",
       "      <td>5.652390</td>\n",
       "      <td>1.977874</td>\n",
       "      <td>0</td>\n",
       "    </tr>\n",
       "    <tr>\n",
       "      <th>40707</th>\n",
       "      <td>260140</td>\n",
       "      <td>1075</td>\n",
       "      <td>63</td>\n",
       "      <td>1</td>\n",
       "      <td>1</td>\n",
       "      <td>0.000006</td>\n",
       "      <td>0.0</td>\n",
       "      <td>0.0</td>\n",
       "      <td>2967.325928</td>\n",
       "      <td>0.0</td>\n",
       "      <td>...</td>\n",
       "      <td>2956.116455</td>\n",
       "      <td>1</td>\n",
       "      <td>0.000000</td>\n",
       "      <td>0.000000</td>\n",
       "      <td>1.0</td>\n",
       "      <td>1.464989</td>\n",
       "      <td>0.386049</td>\n",
       "      <td>6.714479</td>\n",
       "      <td>1.994093</td>\n",
       "      <td>0</td>\n",
       "    </tr>\n",
       "    <tr>\n",
       "      <th>40708</th>\n",
       "      <td>282115</td>\n",
       "      <td>1335</td>\n",
       "      <td>13</td>\n",
       "      <td>2</td>\n",
       "      <td>2</td>\n",
       "      <td>0.000021</td>\n",
       "      <td>0.0</td>\n",
       "      <td>0.0</td>\n",
       "      <td>3666.637451</td>\n",
       "      <td>0.0</td>\n",
       "      <td>...</td>\n",
       "      <td>3652.338135</td>\n",
       "      <td>2</td>\n",
       "      <td>4.309045</td>\n",
       "      <td>4.309118</td>\n",
       "      <td>1.0</td>\n",
       "      <td>1.783780</td>\n",
       "      <td>0.255604</td>\n",
       "      <td>4.338353</td>\n",
       "      <td>1.924827</td>\n",
       "      <td>0</td>\n",
       "    </tr>\n",
       "    <tr>\n",
       "      <th>40709</th>\n",
       "      <td>328053</td>\n",
       "      <td>70</td>\n",
       "      <td>38</td>\n",
       "      <td>1</td>\n",
       "      <td>1</td>\n",
       "      <td>0.000007</td>\n",
       "      <td>0.0</td>\n",
       "      <td>0.0</td>\n",
       "      <td>4811.432129</td>\n",
       "      <td>0.0</td>\n",
       "      <td>...</td>\n",
       "      <td>4795.389160</td>\n",
       "      <td>1</td>\n",
       "      <td>0.000000</td>\n",
       "      <td>0.000000</td>\n",
       "      <td>1.0</td>\n",
       "      <td>1.769801</td>\n",
       "      <td>0.539749</td>\n",
       "      <td>6.131045</td>\n",
       "      <td>2.026979</td>\n",
       "      <td>0</td>\n",
       "    </tr>\n",
       "  </tbody>\n",
       "</table>\n",
       "<p>40710 rows × 24 columns</p>\n",
       "</div>"
      ],
      "text/plain": [
       "        index  simulation_id  crater_id  n_craters_added_in_study_region  \\\n",
       "0      268440             10          2                                1   \n",
       "1      215278           2309         73                                1   \n",
       "2      279029           2404         38                                1   \n",
       "3      133252           2500         64                                1   \n",
       "4      141787           1206         23                                1   \n",
       "...       ...            ...        ...                              ...   \n",
       "40705  305426           1351         24                                2   \n",
       "40706  210419            595         43                                2   \n",
       "40707  260140           1075         63                                1   \n",
       "40708  282115           1335         13                                2   \n",
       "40709  328053             70         38                                1   \n",
       "\n",
       "       n_craters_in_study_region  areal_density  areal_density_overlap_2  \\\n",
       "0                              1       0.000015                      0.0   \n",
       "1                              1       0.000006                      0.0   \n",
       "2                              1       0.000008                      0.0   \n",
       "3                              1       0.000008                      0.0   \n",
       "4                              1       0.000022                      0.0   \n",
       "...                          ...            ...                      ...   \n",
       "40705                          2       0.000025                      0.0   \n",
       "40706                          2       0.000019                      0.0   \n",
       "40707                          1       0.000006                      0.0   \n",
       "40708                          2       0.000021                      0.0   \n",
       "40709                          1       0.000007                      0.0   \n",
       "\n",
       "       areal_density_overlap_3  \\\n",
       "0                          0.0   \n",
       "1                          0.0   \n",
       "2                          0.0   \n",
       "3                          0.0   \n",
       "4                          0.0   \n",
       "...                        ...   \n",
       "40705                      0.0   \n",
       "40706                      0.0   \n",
       "40707                      0.0   \n",
       "40708                      0.0   \n",
       "40709                      0.0   \n",
       "\n",
       "       center_to_center_nearest_neighbor_distance_mean  \\\n",
       "0                                             0.000000   \n",
       "1                                             0.000000   \n",
       "2                                             0.000000   \n",
       "3                                             0.000000   \n",
       "4                                             0.000000   \n",
       "...                                                ...   \n",
       "40705                                      2940.310547   \n",
       "40706                                      2961.814941   \n",
       "40707                                      2967.325928   \n",
       "40708                                      3666.637451   \n",
       "40709                                      4811.432129   \n",
       "\n",
       "       center_to_center_nearest_neighbor_distance_stdev  ...  \\\n",
       "0                                                   0.0  ...   \n",
       "1                                                   0.0  ...   \n",
       "2                                                   0.0  ...   \n",
       "3                                                   0.0  ...   \n",
       "4                                                   0.0  ...   \n",
       "...                                                 ...  ...   \n",
       "40705                                               0.0  ...   \n",
       "40706                                               0.0  ...   \n",
       "40707                                               0.0  ...   \n",
       "40708                                               0.0  ...   \n",
       "40709                                               0.0  ...   \n",
       "\n",
       "       rim_to_rim_nearest_neighbor_distance_max  \\\n",
       "0                                      0.000000   \n",
       "1                                      0.000000   \n",
       "2                                      0.000000   \n",
       "3                                      0.000000   \n",
       "4                                      0.000000   \n",
       "...                                         ...   \n",
       "40705                               2925.154541   \n",
       "40706                               2947.882324   \n",
       "40707                               2956.116455   \n",
       "40708                               3652.338135   \n",
       "40709                               4795.389160   \n",
       "\n",
       "       n_non_zero_rim_to_rim_nearest_neighbor_distances         z        za  \\\n",
       "0                                                     0  0.000000  0.000000   \n",
       "1                                                     0  0.000000  0.000000   \n",
       "2                                                     0  0.000000  0.000000   \n",
       "3                                                     0  0.000000  0.000000   \n",
       "4                                                     0  0.000000  0.000000   \n",
       "...                                                 ...       ...       ...   \n",
       "40705                                                 2  2.919530  2.919600   \n",
       "40706                                                 2  2.960670  2.960724   \n",
       "40707                                                 1  0.000000  0.000000   \n",
       "40708                                                 2  4.309045  4.309118   \n",
       "40709                                                 1  0.000000  0.000000   \n",
       "\n",
       "       information_remaining  effective_radius_multiplier  min_rim_percentage  \\\n",
       "0                        1.0                     1.187143            0.708349   \n",
       "1                        1.0                     1.874091            0.513008   \n",
       "2                        1.0                     1.663088            0.443837   \n",
       "3                        1.0                     1.645326            0.538338   \n",
       "4                        1.0                     1.649914            0.267792   \n",
       "...                      ...                          ...                 ...   \n",
       "40705                    1.0                     1.705948            0.672229   \n",
       "40706                    1.0                     1.368665            0.263233   \n",
       "40707                    1.0                     1.464989            0.386049   \n",
       "40708                    1.0                     1.783780            0.255604   \n",
       "40709                    1.0                     1.769801            0.539749   \n",
       "\n",
       "       r_stat_multiplier     slope  removals  \n",
       "0               7.099577  1.994618         0  \n",
       "1               3.897285  1.953064         0  \n",
       "2               6.159380  2.049174         0  \n",
       "3               6.587640  2.073390         0  \n",
       "4               4.405230  2.099258         0  \n",
       "...                  ...       ...       ...  \n",
       "40705           7.395973  2.002413         0  \n",
       "40706           5.652390  1.977874         0  \n",
       "40707           6.714479  1.994093         0  \n",
       "40708           4.338353  1.924827         0  \n",
       "40709           6.131045  2.026979         0  \n",
       "\n",
       "[40710 rows x 24 columns]"
      ]
     },
     "execution_count": 191,
     "metadata": {},
     "output_type": "execute_result"
    }
   ],
   "source": [
    "search_df.reset_index()"
   ]
  },
  {
   "cell_type": "code",
   "execution_count": null,
   "id": "f8f10437-5a33-4e1e-a178-0efc94c4e2a5",
   "metadata": {},
   "outputs": [],
   "source": []
  },
  {
   "cell_type": "code",
   "execution_count": null,
   "id": "5c874da3-1e7a-4856-8505-fb2255a89c6b",
   "metadata": {},
   "outputs": [],
   "source": []
  },
  {
   "cell_type": "code",
   "execution_count": 155,
   "id": "eae1a980-ea2f-459a-bb49-1183b8ead786",
   "metadata": {},
   "outputs": [
    {
     "data": {
      "text/plain": [
       "0.002537848100030259"
      ]
     },
     "execution_count": 155,
     "metadata": {},
     "output_type": "execute_result"
    }
   ],
   "source": [
    "# Dione 1\n",
    "d_min = 4000 # meters\n",
    "r_min = d_min / 2\n",
    "area = 102449 # km^2\n",
    "n_craters = 65\n",
    "\n",
    "area_m = area * 1000**2\n",
    "area_r_min = area_m / r_min**2\n",
    "intensity = n_craters / area_r_min\n",
    "intensity"
   ]
  },
  {
   "cell_type": "code",
   "execution_count": 165,
   "id": "1dd23af9-8f84-49a3-bc87-db269eb4fe4a",
   "metadata": {},
   "outputs": [
    {
     "data": {
      "text/plain": [
       "0.01225916644053187"
      ]
     },
     "execution_count": 165,
     "metadata": {},
     "output_type": "execute_result"
    }
   ],
   "source": [
    "# Dione 2\n",
    "d_min = 4000 # meters\n",
    "r_min = d_min / 2\n",
    "area = 62647 # km^2\n",
    "n_craters = 192\n",
    "\n",
    "area_m = area * 1000**2\n",
    "area_r_min = area_m / r_min**2\n",
    "intensity = n_craters / area_r_min\n",
    "intensity"
   ]
  },
  {
   "cell_type": "code",
   "execution_count": 168,
   "id": "2a684e43-ebc4-4a4a-b5d8-76e796993f21",
   "metadata": {},
   "outputs": [
    {
     "data": {
      "text/plain": [
       "0.019793845234538393"
      ]
     },
     "execution_count": 168,
     "metadata": {},
     "output_type": "execute_result"
    }
   ],
   "source": [
    "# Dione 3\n",
    "d_min = 4000 # meters\n",
    "r_min = d_min / 2\n",
    "area = 53552 # km^2\n",
    "n_craters = 265\n",
    "\n",
    "area_m = area * 1000**2\n",
    "area_r_min = area_m / r_min**2\n",
    "intensity = n_craters / area_r_min\n",
    "intensity"
   ]
  },
  {
   "cell_type": "code",
   "execution_count": 167,
   "id": "244bc1df-44e3-4b6e-a055-f27046f85a78",
   "metadata": {},
   "outputs": [
    {
     "data": {
      "text/plain": [
       "0.02738169043190742"
      ]
     },
     "execution_count": 167,
     "metadata": {},
     "output_type": "execute_result"
    }
   ],
   "source": [
    "# Dione 4\n",
    "d_min = 4000 # meters\n",
    "r_min = d_min / 2\n",
    "area = 38712 # km^2\n",
    "n_craters = 265\n",
    "\n",
    "area_m = area * 1000**2\n",
    "area_r_min = area_m / r_min**2\n",
    "intensity = n_craters / area_r_min\n",
    "intensity"
   ]
  },
  {
   "cell_type": "code",
   "execution_count": null,
   "id": "f40dbbb4-87b6-42be-b954-ae9bac147bfd",
   "metadata": {},
   "outputs": [],
   "source": []
  },
  {
   "cell_type": "code",
   "execution_count": 164,
   "id": "a5332292-5ff9-44d2-864e-652fe6b4342e",
   "metadata": {},
   "outputs": [
    {
     "data": {
      "text/plain": [
       "0.00546875"
      ]
     },
     "execution_count": 164,
     "metadata": {},
     "output_type": "execute_result"
    }
   ],
   "source": [
    "# Sim terrain\n",
    "r_min = 5 # units\n",
    "area = 4000**2 # unit^2\n",
    "n_craters = 3500\n",
    "\n",
    "area_r_min = area / r_min**2\n",
    "intensity = n_craters / area_r_min\n",
    "intensity"
   ]
  },
  {
   "cell_type": "code",
   "execution_count": null,
   "id": "e8383646-fc07-42d5-b647-ff01eb0feb20",
   "metadata": {},
   "outputs": [],
   "source": []
  },
  {
   "cell_type": "code",
   "execution_count": null,
   "id": "00ce4e91-f48b-41c4-a8ec-6b9bb993661a",
   "metadata": {},
   "outputs": [],
   "source": []
  },
  {
   "cell_type": "code",
   "execution_count": null,
   "id": "6b2ff4f0-2c22-4aad-9b0b-f85dbad56a63",
   "metadata": {},
   "outputs": [],
   "source": []
  },
  {
   "cell_type": "code",
   "execution_count": 131,
   "id": "6dd47394-ce95-4e6d-bff6-de84cfebc1e3",
   "metadata": {},
   "outputs": [
    {
     "data": {
      "text/plain": [
       "'\\nslope 1.5 -> 13.78\\nslope 2   -> 9.81\\nslope 2   -> 8.26\\nslope 2   -> 7.39\\n'"
      ]
     },
     "execution_count": 131,
     "metadata": {},
     "output_type": "execute_result"
    }
   ],
   "source": [
    "\"\"\"\n",
    "slope 1.1 -> 22.27, c2c_mean ~= 105\n",
    "slope 1.5 -> 13.78, c2c_mean ~= 50\n",
    "slope 2   -> 9.81,  c2c_mean ~= 31\n",
    "slope 2.2 -> 9.15,  c2c_mean ~= 29.6\n",
    "slope 2.5 -> 8.26,  c2c_mean ~= 26\n",
    "slope 2.9 -> 7.635, c2c_mean ~= 24\n",
    "\"\"\""
   ]
  },
  {
   "cell_type": "code",
   "execution_count": 151,
   "id": "f45edfb8-1475-4292-81d0-2b28b05cf266",
   "metadata": {},
   "outputs": [
    {
     "data": {
      "text/plain": [
       "<matplotlib.collections.PathCollection at 0x7f4663fd7590>"
      ]
     },
     "execution_count": 151,
     "metadata": {},
     "output_type": "execute_result"
    },
    {
     "data": {
      "image/png": "[encoded data removed]",
      "text/plain": [
       "<Figure size 640x480 with 1 Axes>"
      ]
     },
     "metadata": {},
     "output_type": "display_data"
    }
   ],
   "source": [
    "plt.scatter([22.27, 13.78, 9.81, 9.15, 8.26, 7.635], [105, 50, 31, 29.6, 26, 24])"
   ]
  },
  {
   "cell_type": "code",
   "execution_count": 147,
   "id": "772f3367-8fd8-4d03-aa25-ef41a704743f",
   "metadata": {},
   "outputs": [
    {
     "data": {
      "text/plain": [
       "LinregressResult(slope=5.584886888462277, intercept=-21.77893795939758, rvalue=0.9946345247542254, pvalue=0.0004714073100586269, stderr=0.3353713724222027, intercept_stderr=4.520921102807019)"
      ]
     },
     "execution_count": 147,
     "metadata": {},
     "output_type": "execute_result"
    }
   ],
   "source": [
    "stats.linregress([22.27, 13.78, 9.81, 8.26, 7.635], [105, 50, 31, 26, 24])"
   ]
  },
  {
   "cell_type": "code",
   "execution_count": null,
   "id": "d3b7f007-d3be-4b53-8c1c-c64ff1a48400",
   "metadata": {},
   "outputs": [],
   "source": []
  },
  {
   "cell_type": "code",
   "execution_count": null,
   "id": "95b92697-0923-414e-a019-83a65e7a2456",
   "metadata": {},
   "outputs": [],
   "source": []
  },
  {
   "cell_type": "markdown",
   "id": "92478699-9c89-49ec-98db-5bd4bbccb6f5",
   "metadata": {},
   "source": [
    "### Modeling variance\n",
    "\n",
    "Goal: model the variance (with a CI) of N given c2c_mean, slope\n",
    "- Linear regression first\n",
    "- Response: log sqrt (variance of N)\n",
    "    - Possibly bucketed to calculate variance\n",
    "\n"
   ]
  },
  {
   "cell_type": "code",
   "execution_count": 54,
   "id": "ce6758fc-8613-49f9-a817-11830b1229f6",
   "metadata": {},
   "outputs": [
    {
     "name": "stderr",
     "output_type": "stream",
     "text": [
      "/home/mason/code/saturation/venv_311/lib/python3.11/site-packages/pandas/core/arraylike.py:396: RuntimeWarning:\n",
      "\n",
      "divide by zero encountered in log10\n",
      "\n"
     ]
    },
    {
     "data": {
      "text/html": [
       "<iframe\n",
       "    scrolling=\"no\"\n",
       "    width=\"1620px\"\n",
       "    height=\"820\"\n",
       "    src=\"iframe_figures/figure_54.html\"\n",
       "    frameborder=\"0\"\n",
       "    allowfullscreen\n",
       "></iframe>\n"
      ]
     },
     "metadata": {},
     "output_type": "display_data"
    }
   ],
   "source": [
    "df = stats_df.copy()\n",
    "df = df.sample(df.shape[0] // 10).copy()\n",
    "df[\"log_center_to_center_nearest_neighbor_distance_mean\"] = np.log10(df.center_to_center_nearest_neighbor_distance_mean)\n",
    "df[\"log_n_craters_added_in_study_region\"] = np.log10(df.n_craters_added_in_study_region)\n",
    "\n",
    "fig = px.scatter_3d(\n",
    "    df,\n",
    "    x=\"slope\",\n",
    "    y=\"log_center_to_center_nearest_neighbor_distance_mean\",\n",
    "    z=\"log_n_craters_added_in_study_region\",\n",
    "    hover_data=ivs + [\"removals\"],\n",
    "    size_max=1,\n",
    "    color=\"effective_radius_multiplier\",\n",
    "    width=1600,\n",
    "    height=800\n",
    ")\n",
    "fig.update_traces(marker={\"size\":3})\n",
    "fig.show()"
   ]
  },
  {
   "cell_type": "code",
   "execution_count": null,
   "id": "c655ea8e-cd78-4110-8637-c4ae81388c27",
   "metadata": {},
   "outputs": [],
   "source": []
  },
  {
   "cell_type": "code",
   "execution_count": null,
   "id": "3ba4d5ab-75a3-4e57-95b2-f28aa6212b80",
   "metadata": {},
   "outputs": [],
   "source": []
  },
  {
   "cell_type": "code",
   "execution_count": 6,
   "id": "a9c41504-3e65-4b3e-85f8-40aa378bb484",
   "metadata": {},
   "outputs": [],
   "source": [
    "# base_path = \"/data/saturation/random_runs_20230812/\"\n",
    "# base_path = \"/data/saturation/ir_random_1/\"\n",
    "base_path = \"/data/saturation/n_craters_stop_condition_20230918\"\n",
    "\n",
    "stats_df = pd.read_parquet(f\"{base_path}/train_1000_100.parquet\").sort_values(\"crater_id\")\n",
    "# stats_df = pd.read_parquet(f\"{base_path}/train_10.parquet\").sort_values(\"crater_id\")\n",
    "stats_df = fix_up_df(stats_df)\n",
    "\n",
    "test_df = pd.read_parquet(f\"{base_path}/test_1000_100.parquet\").sort_values(\"crater_id\")\n",
    "# test_df = pd.read_parquet(f\"{base_path}/test_10.parquet\").sort_values(\"crater_id\")\n",
    "test_df = fix_up_df(test_df)\n",
    "\n",
    "simulation_ids = stats_df.simulation_id.unique()"
   ]
  },
  {
   "cell_type": "code",
   "execution_count": 12,
   "id": "c76a155e-a719-4ea6-affc-86b48a01529f",
   "metadata": {},
   "outputs": [
    {
     "name": "stderr",
     "output_type": "stream",
     "text": [
      "/home/mason/code/saturation/venv_311/lib/python3.11/site-packages/pandas/core/arraylike.py:396: RuntimeWarning:\n",
      "\n",
      "divide by zero encountered in log10\n",
      "\n"
     ]
    }
   ],
   "source": [
    "stats_df[\"log_center_to_center_nearest_neighbor_distance_mean\"] = np.log10(stats_df.center_to_center_nearest_neighbor_distance_mean)\n",
    "stats_df[\"log_n_craters_added_in_study_region\"] = np.log10(stats_df.n_craters_added_in_study_region)"
   ]
  },
  {
   "cell_type": "code",
   "execution_count": 13,
   "id": "610d6d42-68b2-449d-a88e-53f8fe64f5de",
   "metadata": {},
   "outputs": [
    {
     "data": {
      "text/html": [
       "<iframe\n",
       "    scrolling=\"no\"\n",
       "    width=\"100%\"\n",
       "    height=\"545px\"\n",
       "    src=\"iframe_figures/figure_13.html\"\n",
       "    frameborder=\"0\"\n",
       "    allowfullscreen\n",
       "></iframe>\n"
      ]
     },
     "metadata": {},
     "output_type": "display_data"
    }
   ],
   "source": [
    "df = stats_df.copy()\n",
    "df = df.sample(df.shape[0] // 10).copy()\n",
    "\n",
    "fig = px.scatter(\n",
    "    df,\n",
    "    x=\"log_center_to_center_nearest_neighbor_distance_mean\",\n",
    "    y=\"log_n_craters_added_in_study_region\",\n",
    "    hover_data=ivs + [\"information_remaining\"],\n",
    "    size_max=1,\n",
    "    color=\"information_remaining\",\n",
    ")\n",
    "fig.show()"
   ]
  },
  {
   "cell_type": "code",
   "execution_count": 60,
   "id": "a7a28b67-5cab-4f07-8e69-4e2a4efd9c44",
   "metadata": {},
   "outputs": [
    {
     "data": {
      "text/html": [
       "<iframe\n",
       "    scrolling=\"no\"\n",
       "    width=\"1620px\"\n",
       "    height=\"820\"\n",
       "    src=\"iframe_figures/figure_60.html\"\n",
       "    frameborder=\"0\"\n",
       "    allowfullscreen\n",
       "></iframe>\n"
      ]
     },
     "metadata": {},
     "output_type": "display_data"
    }
   ],
   "source": [
    "df = stats_df.copy()\n",
    "df = df.sample(df.shape[0] // 10).copy()\n",
    "df[\"log_center_to_center_nearest_neighbor_distance_mean\"] = np.log10(df.center_to_center_nearest_neighbor_distance_mean)\n",
    "df[\"log_n_craters_added_in_study_region\"] = np.log10(df.n_craters_added_in_study_region)\n",
    "\n",
    "fig = px.scatter_3d(\n",
    "    df,\n",
    "    x=\"slope\",\n",
    "    y=\"log_center_to_center_nearest_neighbor_distance_mean\",\n",
    "    z=\"log_n_craters_added_in_study_region\",\n",
    "    hover_data=ivs + [\"removals\"],\n",
    "    size_max=1,\n",
    "    color=\"effective_radius_multiplier\",\n",
    "    width=1600,\n",
    "    height=800\n",
    ")\n",
    "fig.update_traces(marker={\"size\":3})\n",
    "fig.show()"
   ]
  },
  {
   "cell_type": "code",
   "execution_count": null,
   "id": "969f8e4e-97e4-4b51-87f7-69c89289834e",
   "metadata": {},
   "outputs": [],
   "source": []
  },
  {
   "cell_type": "code",
   "execution_count": null,
   "id": "55d3281d-4e6c-4419-8bf7-8a801f5b71fb",
   "metadata": {},
   "outputs": [],
   "source": []
  },
  {
   "cell_type": "code",
   "execution_count": 72,
   "id": "3c63eca2-f61a-4e4c-9032-71118796d501",
   "metadata": {},
   "outputs": [],
   "source": [
    "# base_path = \"/data/saturation/random_runs_20230812/\"\n",
    "# base_path = \"/data/saturation/ir_random_1/\"\n",
    "base_path = \"/data/saturation/n_craters_stop_condition_20230918\"\n",
    "\n",
    "stats_df = pd.read_parquet(f\"{base_path}/train_1000_500.parquet\").sort_values(\"crater_id\")\n",
    "# stats_df = pd.read_parquet(f\"{base_path}/train_10.parquet\").sort_values(\"crater_id\")\n",
    "stats_df = fix_up_df(stats_df)\n",
    "\n",
    "test_df = pd.read_parquet(f\"{base_path}/test_1000_500.parquet\").sort_values(\"crater_id\")\n",
    "# test_df = pd.read_parquet(f\"{base_path}/test_10.parquet\").sort_values(\"crater_id\")\n",
    "test_df = fix_up_df(test_df)\n",
    "\n",
    "simulation_ids = stats_df.simulation_id.unique()"
   ]
  },
  {
   "cell_type": "code",
   "execution_count": 88,
   "id": "d07ddd84-5247-4e1d-85fb-5be707408447",
   "metadata": {},
   "outputs": [],
   "source": [
    "def plot_n_vs_N_for_simulation(simulation_id: int, stats_df: pd.DataFrame):\n",
    "    df = stats_df[stats_df.simulation_id == simulation_id]\n",
    "    \n",
    "    print(df[[\"slope\", \"effective_radius_multiplier\", \"r_stat_multiplier\", \"min_rim_percentage\"]].iloc[0])\n",
    "    \n",
    "    fig = plt.figure(figsize=(18, 4))\n",
    "    ax1 = fig.add_subplot(111)\n",
    "    \n",
    "    plt1 = ax1.plot(df.n_craters_added_in_study_region, df.n_craters_in_study_region, color='red')\n",
    "    ax1.set_ylabel(\"n\")\n",
    "    ax1.set_xlabel(\"N\")\n",
    "    \n",
    "    ax1.set_title(f\"Simulation {simulation_id}\")\n",
    "    plt.show()\n",
    "\n",
    "\n",
    "def plot_n_hist_for_simulation(simulation_id: int, stats_df: pd.DataFrame):\n",
    "    df = stats_df[stats_df.simulation_id == simulation_id]\n",
    "    min_N = int(df.n_craters_added_in_study_region.max() * 2 / 3)\n",
    "    df = df[df.n_craters_added_in_study_region > min_N]\n",
    "   \n",
    "    print(df[[\"slope\", \"effective_radius_multiplier\", \"r_stat_multiplier\", \"min_rim_percentage\"]].iloc[0])\n",
    "    \n",
    "    plt.hist(df.n_craters_in_study_region, bins=25)\n",
    "    plt.show()"
   ]
  },
  {
   "cell_type": "code",
   "execution_count": 78,
   "id": "b04536db-1512-4bba-9330-4305ee474f1c",
   "metadata": {},
   "outputs": [
    {
     "name": "stdout",
     "output_type": "stream",
     "text": [
      "slope                          2.078635\n",
      "effective_radius_multiplier    1.523039\n",
      "r_stat_multiplier              3.984255\n",
      "min_rim_percentage             0.535537\n",
      "Name: 255259, dtype: float64\n"
     ]
    },
    {
     "data": {
      "image/png": "[encoded data removed]",
      "text/plain": [
       "<Figure size 1800x400 with 1 Axes>"
      ]
     },
     "metadata": {},
     "output_type": "display_data"
    }
   ],
   "source": [
    "for x in range(29, 30):\n",
    "    plot_n_vs_N_for_simulation(simulation_ids[x], stats_df)"
   ]
  },
  {
   "cell_type": "code",
   "execution_count": 89,
   "id": "30c126d8-5aca-47dd-9582-e2aaa8098501",
   "metadata": {},
   "outputs": [
    {
     "name": "stdout",
     "output_type": "stream",
     "text": [
      "slope                          2.078635\n",
      "effective_radius_multiplier    1.523039\n",
      "r_stat_multiplier              3.984255\n",
      "min_rim_percentage             0.535537\n",
      "Name: 255416, dtype: float64\n"
     ]
    },
    {
     "data": {
      "image/png": "[encoded data removed]",
      "text/plain": [
       "<Figure size 640x480 with 1 Axes>"
      ]
     },
     "metadata": {},
     "output_type": "display_data"
    }
   ],
   "source": [
    "for x in range(29, 30):\n",
    "    plot_n_hist_for_simulation(simulation_ids[x], stats_df)"
   ]
  },
  {
   "cell_type": "code",
   "execution_count": 102,
   "id": "18938be0-deb0-46bd-a64b-9d8341bc4286",
   "metadata": {},
   "outputs": [
    {
     "data": {
      "image/png": "[encoded data removed]",
      "text/plain": [
       "<Figure size 640x480 with 1 Axes>"
      ]
     },
     "metadata": {},
     "output_type": "display_data"
    }
   ],
   "source": [
    "sim_dir = \"1.523_0.536_3.984_2.079\"\n",
    "\n",
    "df = None\n",
    "for filename in glob.glob(f\"/data/saturation/n_craters_stop_condition_20230918/{sim_dir}/statistics*.parquet\"):\n",
    "    if df is None:\n",
    "        df = pd.read_parquet(filename)\n",
    "    else:\n",
    "        df = pd.concat([df, pd.read_parquet(filename)], axis=0)\n",
    "\n",
    "min_N = int(df.n_craters_added_in_study_region.max() * 2 / 3)\n",
    "# plt.hist(df[df.n_craters_added_in_study_region > min_N].n_craters_in_study_region, bins=25)\n",
    "plt.hist(df[df.n_craters_added_in_study_region > 40000].n_craters_in_study_region, bins=25)\n",
    "plt.show()"
   ]
  },
  {
   "cell_type": "code",
   "execution_count": 108,
   "id": "2a1a9410-46fe-4319-ab7a-3361fe5bed32",
   "metadata": {},
   "outputs": [
    {
     "data": {
      "text/plain": [
       "7676.0"
      ]
     },
     "execution_count": 108,
     "metadata": {},
     "output_type": "execute_result"
    }
   ],
   "source": [
    "df[df.n_craters_added_in_study_region > min_N].n_craters_in_study_region.quantile(0.01)"
   ]
  },
  {
   "cell_type": "code",
   "execution_count": null,
   "id": "125a484d-eb99-4777-bf68-9b379a304b56",
   "metadata": {},
   "outputs": [],
   "source": [
    "df[df.n_craters_added_in_study_region > 40000].n_craters_in_study_region.quantile(0.01)"
   ]
  },
  {
   "cell_type": "code",
   "execution_count": null,
   "id": "02085781-aaa9-42a7-ab3c-f43927625e60",
   "metadata": {},
   "outputs": [],
   "source": []
  },
  {
   "cell_type": "code",
   "execution_count": null,
   "id": "b41c1a07-8061-45f1-8fac-471075f8d994",
   "metadata": {},
   "outputs": [],
   "source": []
  }
 ],
 "metadata": {
  "kernelspec": {
   "display_name": "Python 3 (ipykernel)",
   "language": "python",
   "name": "python3"
  },
  "language_info": {
   "codemirror_mode": {
    "name": "ipython",
    "version": 3
   },
   "file_extension": ".py",
   "mimetype": "text/x-python",
   "name": "python",
   "nbconvert_exporter": "python",
   "pygments_lexer": "ipython3",
   "version": "3.11.6"
  }
 },
 "nbformat": 4,
 "nbformat_minor": 5
}
