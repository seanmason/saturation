{
 "cells": [
  {
   "cell_type": "code",
   "execution_count": 1,
   "id": "d325d4df-1c22-4334-926e-8fb4c9e09c9d",
   "metadata": {},
   "outputs": [],
   "source": [
    "import sys\n",
    "\n",
    "import pandas as pd\n",
    "import numpy as np\n",
    "from pathlib import Path\n",
    "import yaml\n",
    "from typing import *\n",
    "\n",
    "import plotly.express as px\n",
    "import plotly.io as pio\n",
    "import plotly.graph_objects as go\n",
    "import matplotlib.pyplot as plt\n",
    "\n",
    "import pyspark\n",
    "import pyspark.sql.functions as F\n",
    "from pyspark.sql import SparkSession, DataFrame, Window\n",
    "from hyperopt import hp, fmin, tpe, STATUS_OK, Trials, space_eval\n",
    "import itertools\n",
    "\n",
    "from pyspark.ml.feature import VectorAssembler, MinMaxScaler, BucketedRandomProjectionLSH\n",
    "from pyspark.ml import Pipeline\n",
    "from pyspark.ml.functions import vector_to_array"
   ]
  },
  {
   "cell_type": "code",
   "execution_count": 2,
   "id": "f0822b6e-3163-4dd3-8788-f3d473c11acc",
   "metadata": {},
   "outputs": [
    {
     "name": "stderr",
     "output_type": "stream",
     "text": [
      "23/11/24 14:51:52 WARN Utils: Your hostname, muninn resolves to a loopback address: 127.0.1.1; using 192.168.86.20 instead (on interface enp8s0)\n",
      "23/11/24 14:51:52 WARN Utils: Set SPARK_LOCAL_IP if you need to bind to another address\n",
      "Setting default log level to \"WARN\".\n",
      "To adjust logging level use sc.setLogLevel(newLevel). For SparkR, use setLogLevel(newLevel).\n",
      "23/11/24 14:51:52 WARN NativeCodeLoader: Unable to load native-hadoop library for your platform... using builtin-java classes where applicable\n",
      "23/11/24 14:51:53 WARN Utils: Service 'SparkUI' could not bind on port 4040. Attempting port 4041.\n"
     ]
    }
   ],
   "source": [
    "n_cores = 30\n",
    "\n",
    "spark = (SparkSession.builder\n",
    "         .master(f\"local[{n_cores}]\")\n",
    "         .appName(\"Saturation\")\n",
    "         .config(\"spark.sql.shuffle.partitions\", \"500\")\n",
    "         .config(\"spark.driver.memory\", \"64g\")\n",
    "         .config(\"spark.driver.maxResultSize\", \"8g\")\n",
    "         .getOrCreate())"
   ]
  },
  {
   "cell_type": "code",
   "execution_count": 3,
   "id": "88574fa1-38be-42de-83c2-135e28ef89dc",
   "metadata": {},
   "outputs": [],
   "source": [
    "def read_config(path: Path) -> Dict:\n",
    "    with path.open(\"r\") as config_file:\n",
    "        config = yaml.safe_load(config_file)\n",
    "    return config\n",
    "\n",
    "\n",
    "def read_configs(base_path: str, spark_session: SparkSession) -> pyspark.RDD:\n",
    "    completed_filenames = list(Path(base_path).glob(\"*/completed.txt\"))\n",
    "    configs = map(lambda x: x.parent / \"config.yaml\", completed_filenames)\n",
    "    configs = map(read_config, configs)\n",
    "    return spark_session.sparkContext.parallelize(configs)\n",
    "\n",
    "\n",
    "def create_configs_df(configs: pyspark.RDD) -> DataFrame:\n",
    "    config_columns = [\n",
    "        \"simulation_id\",\n",
    "        \"slope\",\n",
    "        \"r_stat_multiplier\",\n",
    "        \"effective_radius_multiplier\",\n",
    "        \"min_rim_percentage\"\n",
    "    ]\n",
    "    return configs.map(lambda x: {k: v for k, v in x.items() if k in config_columns}).toDF().cache()\n",
    "    \n",
    "\n",
    "def quantize_value(value: float, delta: float) -> float:\n",
    "    return np.round(int(np.round(value / delta, decimals=5)) * delta, decimals=5)\n",
    "\n",
    "\n",
    "def get_min_max_n_buckets(column: str, delta: float, df) -> Tuple[float, float, int]:\n",
    "    min_max_df = df.select(F.min(column), F.max(column)).toPandas()\n",
    "    \n",
    "    min_val = quantize_value(min_max_df.iloc[0, 0], delta)\n",
    "    max_val = quantize_value(min_max_df.iloc[0, 1], delta)\n",
    "    n_buckets = int(np.round((max_val - min_val) / delta, decimals=5)) + 1\n",
    "\n",
    "    return min_val, max_val, n_buckets"
   ]
  },
  {
   "cell_type": "code",
   "execution_count": 4,
   "id": "58d31dd8-16ad-45fa-91d8-293d0948dccd",
   "metadata": {},
   "outputs": [],
   "source": [
    "base_path = \"/data/saturation/n_craters_stop_condition_20230918\""
   ]
  },
  {
   "cell_type": "code",
   "execution_count": 5,
   "id": "15c45d56-6cba-4e4c-b992-9ba8749f1167",
   "metadata": {},
   "outputs": [
    {
     "name": "stderr",
     "output_type": "stream",
     "text": [
      "                                                                                \r"
     ]
    }
   ],
   "source": [
    "r_stat = 5\n",
    "study_region_size = 4000 * 4000 / r_stat ** 2\n",
    "\n",
    "configs_df = create_configs_df(read_configs(base_path, spark))\n",
    "data = spark.read.parquet(f\"{base_path}/*/statistics_*.parquet\").coalesce(500)\n",
    "\n",
    "# State c2c nn dist in terms of r_stat and log-scale\n",
    "data = data.select(\"*\",\n",
    "                   F.log10(F.col(\"center_to_center_nearest_neighbor_distance_mean\") / F.lit(r_stat)).alias(\"log_mean_c2c_nn_dist\"),\n",
    "                   F.log10(F.col(\"n_craters_in_study_region\") / study_region_size).alias(\"log_intensity\"),\n",
    "                   F.log10(\"areal_density\").alias(\"log_ad\")\n",
    "                  )"
   ]
  },
  {
   "cell_type": "code",
   "execution_count": null,
   "id": "252967f6-b55f-425a-a2b9-275ab475c433",
   "metadata": {},
   "outputs": [],
   "source": [
    "# def get_confidence_interval(data: DataFrame,\n",
    "#                             configs: DataFrame,\n",
    "#                             target: str,\n",
    "#                             observation: Dict[str, float],\n",
    "#                             bandwidths: Dict[str, float],\n",
    "#                             simulation_id: Optional[int] = None) -> pd.DataFrame:\n",
    "#     data.createOrReplaceTempView(\"data\")\n",
    "#     configs.createOrReplaceTempView(\"configs\")\n",
    "    \n",
    "#     simulation_id_clause = f\"AND data.simulation_id <> {simulation_id}\\n\" if simulation_id else \"\"\n",
    "#     bandwidth_clauses = \"\"\n",
    "#     for var, bandwidth in bandwidths.items():\n",
    "#         observation_value = observation[var]\n",
    "#         bandwidth_clauses += f\"AND {var} BETWEEN {observation_value - bandwidth} AND {observation_value + bandwidth}\\n\"\n",
    "    \n",
    "#     result = spark.sql(f\"\"\"\n",
    "#     SELECT\n",
    "#         mean({target}) as target_mean,\n",
    "#         count({target}) as n_obs,\n",
    "#         count(distinct data.simulation_id) as n_unique_sims,\n",
    "#         approx_percentile({target}, array(0.025, 0.05, 0.10, 0.5, 0.90, 0.95, 0.975), 10000) as percentiles\n",
    "#     FROM\n",
    "#         data\n",
    "#         INNER JOIN configs\n",
    "#             ON data.simulation_id = configs.simulation_id\n",
    "#     WHERE\n",
    "#         1=1\n",
    "#         {simulation_id_clause}\n",
    "#         {bandwidth_clauses}\n",
    "#     \"\"\").toPandas()\n",
    "\n",
    "#     return result"
   ]
  },
  {
   "cell_type": "code",
   "execution_count": null,
   "id": "22240a3d-5c10-4510-a38f-2d362549bb24",
   "metadata": {},
   "outputs": [],
   "source": [
    "# def get_confidence_intervals(data: DataFrame,\n",
    "#                              configs: DataFrame,\n",
    "#                              target: str,\n",
    "#                              observations: pd.DataFrame,\n",
    "#                              bandwidths: pd.DataFrame,\n",
    "#                              spark_session: SparkSession) -> pd.DataFrame:\n",
    "#     data.createOrReplaceTempView(\"data\")\n",
    "#     configs.createOrReplaceTempView(\"configs\")\n",
    "\n",
    "#     observations_df = spark_session.createDataFrame(observations).cache()\n",
    "#     observations_df.createOrReplaceTempView(\"observations\")\n",
    "#     bandwidths_df = spark_session.createDataFrame(bandwidths).cache()\n",
    "#     bandwidths_df.createOrReplaceTempView(\"bandwidths\")\n",
    "\n",
    "#     # Trick it into caching and broadcasting\n",
    "#     observations_df.count()\n",
    "#     bandwidths_df.count()\n",
    "\n",
    "#     simulation_id_present = \"simulation_id\" in observations.columns\n",
    "    \n",
    "#     group_by_clause = \",\\n\".join([f\"o.{x}\" for x in observations.columns] + [f\"b.{x}\" for x in bandwidths.columns])\n",
    "#     if simulation_id_present:\n",
    "#         simulation_id_clause = \"AND d.simulation_id <> o.simulation_id\\n\"\n",
    "#         target_select_clause = \"o.target AS target,\\n\"\n",
    "#         bandwidths_select_clause = \"o.simulation_id AS simulation_id, o.crater_id AS crater_id,\\n\"\n",
    "#     else:\n",
    "#         simulation_id_clause = \"\"\n",
    "#         target_select_clause = \"\"\n",
    "#         bandwidths_select_clause = \"\"\n",
    "       \n",
    "#     observations_select_clause = \"\"\n",
    "#     bandwidth_clauses = \"\"\n",
    "#     for var in observations.columns:\n",
    "#         observations_select_clause += f\"o.{var} as observation_{var},\\n\"\n",
    "#         if var in bandwidths.columns:\n",
    "#             bandwidth_clauses += f\"AND d.{var} BETWEEN (o.{var} - b.{var}) AND (o.{var} + b.{var})\\n\"\n",
    "\n",
    "#     for var in bandwidths.columns:\n",
    "#         bandwidths_select_clause += f\"b.{var} as bandwith_{var},\\n\"\n",
    "\n",
    "#     query = f\"\"\"\n",
    "#     SELECT\n",
    "#         {observations_select_clause}\n",
    "#         {bandwidths_select_clause}\n",
    "#         {target_select_clause}\n",
    "#         mean({target}) as target_mean,\n",
    "#         count({target}) as n_obs,\n",
    "#         count(distinct d.simulation_id) as n_unique_sims,\n",
    "#         approx_percentile({target}, array(0.025, 0.10, 0.90, 0.975), 1000) as percentiles\n",
    "#     FROM\n",
    "#         (\n",
    "#             SELECT\n",
    "#                 configs.slope,\n",
    "#                 configs.r_stat_multiplier,\n",
    "#                 configs.effective_radius_multiplier,\n",
    "#                 configs.min_rim_percentage,\n",
    "#                 data.*\n",
    "#             FROM\n",
    "#                 data\n",
    "#                 INNER JOIN configs\n",
    "#                     ON data.simulation_id = configs.simulation_id\n",
    "#         ) AS d\n",
    "#         INNER JOIN observations o\n",
    "#         INNER JOIN bandwidths b\n",
    "#     WHERE\n",
    "#         1=1\n",
    "#         {simulation_id_clause}\n",
    "#         {bandwidth_clauses}\n",
    "#     GROUP BY\n",
    "#         {group_by_clause}\n",
    "#     \"\"\"\n",
    "#     result = spark.sql(query)\n",
    "\n",
    "#     return result.toPandas()"
   ]
  },
  {
   "cell_type": "code",
   "execution_count": 6,
   "id": "50c1ea70-48fb-4b2d-b0a5-1df7801f8109",
   "metadata": {},
   "outputs": [],
   "source": [
    "# Using HyperOpt to optimize\n",
    "def get_confidence_intervals(data: DataFrame,\n",
    "                             observations: DataFrame,\n",
    "                             predictor_variables: List[str],\n",
    "                             bandwidths: pd.DataFrame,\n",
    "                             spark_session: SparkSession) -> pd.DataFrame:\n",
    "    data.createOrReplaceTempView(\"data\")\n",
    "    \n",
    "    bandwidths_df = spark_session.createDataFrame(bandwidths).cache()\n",
    "    bandwidths_df.createOrReplaceTempView(\"bandwidths\")\n",
    "\n",
    "    # Trick it into caching and broadcasting\n",
    "    bandwidths_df.count()\n",
    "\n",
    "    simulation_id_present = \"simulation_id\" in observations.columns\n",
    "    \n",
    "    group_by_clause = \",\\n \".join([f\"o.{x}\" for x in predictor_variables] + [f\"b.{x}\" for x in bandwidths.columns])\n",
    "\n",
    "    if \"target\" in observations.columns:\n",
    "        group_by_clause += \"\\n, o.target\"\n",
    "        \n",
    "    if simulation_id_present:\n",
    "        simulation_id_clause = \"AND d.simulation_id <> o.simulation_id\\n\"\n",
    "        target_select_clause = \"o.target AS target,\"\n",
    "        bandwidths_select_clause = \"o.simulation_id AS simulation_id, o.crater_id AS crater_id,\\n\"\n",
    "        group_by_clause += \"\\n, o.simulation_id, o.crater_id\"\n",
    "    else:\n",
    "        simulation_id_clause = \"\"\n",
    "        target_select_clause = \"\"\n",
    "        bandwidths_select_clause = \"\"\n",
    "        \n",
    "\n",
    "    observations_select_clause = \"\"\n",
    "    bandwidth_clauses = \"1=1 \"\n",
    "    for var in predictor_variables:\n",
    "        observations_select_clause += f\"o.{var} as observation_{var},\\n\"\n",
    "        if var in bandwidths.columns:\n",
    "            bandwidth_clauses += f\"AND d.{var} BETWEEN (o.{var} - b.{var}) AND (o.{var} + b.{var})\\n\"\n",
    "\n",
    "    for var in predictor_variables:\n",
    "        bandwidths_select_clause += f\"b.{var} as bandwidth_{var},\\n\"\n",
    "\n",
    "    query = f\"\"\"\n",
    "    SELECT\n",
    "        {observations_select_clause}\n",
    "        {bandwidths_select_clause}\n",
    "        {target_select_clause}\n",
    "        mean(d.target) as target_mean,\n",
    "        count(d.target) as n_obs,\n",
    "        count(distinct d.simulation_id) as n_unique_sims,\n",
    "        approx_percentile(d.target, array(0.025, 0.975), 500) as percentiles\n",
    "    FROM\n",
    "        observations o\n",
    "        INNER JOIN bandwidths b\n",
    "        LEFT JOIN data d\n",
    "            ON {bandwidth_clauses}\n",
    "    WHERE\n",
    "        1=1\n",
    "        {simulation_id_clause}\n",
    "    GROUP BY\n",
    "        {group_by_clause}\n",
    "    \"\"\"\n",
    "    result = spark.sql(query)\n",
    "\n",
    "    return result.toPandas()\n",
    "\n",
    "\n",
    "def setup_dataset(data: DataFrame,\n",
    "                  configs: DataFrame,\n",
    "                  predictor_variables: List[str],\n",
    "                  target: str,\n",
    "                  spark: SparkSession):\n",
    "    data.createOrReplaceTempView(\"data\")\n",
    "    configs.createOrReplaceTempView(\"configs\")\n",
    "    \n",
    "    # Join data and config\n",
    "    data_and_config_select_clause = \",\\n\".join([\"data.simulation_id\", \"crater_id\"] + predictor_variables)\n",
    "    data_and_config_select_clause += f\",\\n {target} as target\"\n",
    "    query = f\"\"\"\n",
    "    SELECT\n",
    "        {data_and_config_select_clause}\n",
    "    FROM\n",
    "        data\n",
    "        INNER JOIN configs\n",
    "            ON data.simulation_id = configs.simulation_id\n",
    "    \"\"\"\n",
    "    data_and_configs = spark.sql(query)\n",
    "\n",
    "    return data_and_configs\n",
    "\n",
    "\n",
    "def setup_datasets_for_optimization(data: DataFrame,\n",
    "                                    configs: DataFrame,\n",
    "                                    predictor_variables: List[str],\n",
    "                                    target: str,\n",
    "                                    data_sample_fraction: float,\n",
    "                                    test_sample_fraction: float,\n",
    "                                    spark: SparkSession,\n",
    "                                    cache_data: bool = True,\n",
    "                                    cache_sample: bool = True):\n",
    "    data_and_configs = setup_dataset(data, configs, predictor_variables, target, spark)\n",
    "\n",
    "    if cache_data:\n",
    "        data_sample = data_and_configs.sample(data_sample_fraction).cache()\n",
    "        data_sample.createOrReplaceTempView(\"data\")\n",
    "        data_sample.count()\n",
    "    else:\n",
    "        data_sample = data_and_configs.sample(data_sample_fraction)\n",
    "        data_sample.createOrReplaceTempView(\"data\")\n",
    "\n",
    "    if cache_sample:\n",
    "        test_sample = data_and_configs.sample(test_sample_fraction).cache()\n",
    "        test_sample.createOrReplaceTempView(\"observations\")\n",
    "        test_sample.count()\n",
    "    else:\n",
    "        test_sample = data_and_configs.sample(test_sample_fraction)\n",
    "        test_sample.createOrReplaceTempView(\"observations\")\n",
    "    \n",
    "    return data_sample, test_sample\n",
    "    \n",
    "\n",
    "def create_objective_function(data_sample: DataFrame,\n",
    "                              observations: DataFrame,\n",
    "                              predictor_variables: List[str],\n",
    "                              spark: SparkSession):\n",
    "    def objective_function(args):\n",
    "        min_obs = 100\n",
    "        n_too_many_obs = 500000\n",
    "        \n",
    "        bandwidths_data = [[args[f\"bandwidth_{x}\"] for x in predictor_variables]]\n",
    "        bandwidths = pd.DataFrame(bandwidths_data, columns=predictor_variables)\n",
    "        \n",
    "        result = get_confidence_intervals(data_sample, observations, predictor_variables, bandwidths, spark)\n",
    "\n",
    "        ci_high = result.percentiles.map(lambda x: x[-1])\n",
    "        ci_low = result.percentiles.map(lambda x: x[0])\n",
    "        orders_of_magnitude_rms = np.sqrt((np.log10(ci_high / ci_low) ** 2).mean())\n",
    "        orders_of_magnitude = np.log10(ci_high / ci_low).mean()\n",
    "        orders_of_magnitude_stdev = np.log10(ci_high / ci_low).std()\n",
    "        mean_n_unique_sims = result.n_unique_sims.mean()\n",
    "        mean_n_obs = result.n_obs.mean()\n",
    "        \n",
    "        percent_inside_ci = ((result.target >= ci_low) & (result.target <= ci_high)).mean()\n",
    "\n",
    "        # Penalize if more or less than 5% are outside of the CI\n",
    "        deviance_from_95 = np.abs(0.95 - percent_inside_ci)\n",
    "        deviance_loss_multiplier = 1.0 if deviance_from_95 < 0.02 else 1 + deviance_from_95 * 10.0\n",
    "        \n",
    "        # Penalize for the fraction with too few observations\n",
    "        too_few = result.n_obs[(result.n_obs < min_obs) | (result.n_obs.isna())]\n",
    "        n_obs_loss_multiplier = 1 + too_few.mean() * 100 if too_few.shape[0] > 0 else 1.0\n",
    "\n",
    "        # Penalize for the fraction with too many observations\n",
    "        too_many = result.n_obs > n_too_many_obs\n",
    "        n_too_many_obs_loss_multiplier = 1 + too_many.mean() * 10 if too_many.shape[0] > 0 else 1.0\n",
    "\n",
    "        loss = orders_of_magnitude_rms * deviance_loss_multiplier * n_obs_loss_multiplier * n_too_many_obs_loss_multiplier\n",
    "\n",
    "        print(f\"{args}, {loss:.3f}, {orders_of_magnitude:.4f}, {orders_of_magnitude_stdev:.4f}, {orders_of_magnitude_rms:.4f}, {n_obs_loss_multiplier:.4f}, {n_too_many_obs_loss_multiplier:.4f}, {deviance_loss_multiplier:.4f}, {mean_n_unique_sims}, {mean_n_obs:.4f}, \")\n",
    "        \n",
    "        return {\n",
    "            \"loss\": loss,\n",
    "            \"params\": args,\n",
    "            \"orders_of_magnitude\": orders_of_magnitude,\n",
    "            \"orders_of_magnitude_rms\": orders_of_magnitude_rms,\n",
    "            \"n_obs_loss_multiplier\": n_obs_loss_multiplier,\n",
    "            \"deviance_loss_multiplier\": deviance_loss_multiplier,\n",
    "            \"mean_n_unique_sims\": mean_n_unique_sims,\n",
    "            \"mean_n_obs\": mean_n_obs,\n",
    "            \"status\": STATUS_OK\n",
    "        }\n",
    "        \n",
    "    return objective_function"
   ]
  },
  {
   "cell_type": "code",
   "execution_count": 7,
   "id": "1bd8984b-c39d-4621-8b53-faeb7f72ce05",
   "metadata": {},
   "outputs": [],
   "source": [
    "def make_updates_and_report(data: pd.DataFrame) -> DataFrame:\n",
    "    data[\"95_ci_ratio\"] = data.percentiles.map(lambda x: np.log10(x[-1] / x[0]))\n",
    "    data[\"95_ci_low\"] = data.percentiles.map(lambda x: x[0])\n",
    "    data[\"95_ci_high\"] = data.percentiles.map(lambda x: x[-1])\n",
    "    \n",
    "    data[\"80_ci_low\"] = data.percentiles.map(lambda x: x[1])\n",
    "    data[\"80_ci_high\"] = data.percentiles.map(lambda x: x[-2])\n",
    "\n",
    "    ci_95_hits = ((data.target >= data[\"95_ci_low\"]) & (data.target <= data[\"95_ci_high\"])).mean()\n",
    "    ci_80_hits = ((data.target >= data[\"80_ci_low\"]) & (data.target <= data[\"80_ci_high\"])).mean()\n",
    "\n",
    "    data[\"95_percentile_absolute_range\"] = data.percentiles.apply(lambda x: x[-1]) - data.percentiles.apply(lambda x: x[0])\n",
    "    data[\"95_percentile_ratio\"] = data.percentiles.apply(lambda x: x[-1]) / data.percentiles.apply(lambda x: x[0])\n",
    "    perc_ratio = np.mean(np.log10(data[\"95_percentile_ratio\"]))\n",
    "\n",
    "    mean_n_obs = data.n_obs.mean()\n",
    "    n_obs_05 = data.n_obs.quantile(0.05)\n",
    "    n_obs_25 = data.n_obs.quantile(0.25)\n",
    "    n_obs_75 = data.n_obs.quantile(0.75)\n",
    "\n",
    "    print(f\"{ci_95_hits:.3f}, {ci_80_hits:.3f}, {perc_ratio:.3f}, {mean_n_obs:.3f}, {n_obs_05:.3f}, {n_obs_25:.3f}, {n_obs_75:.3f}\")"
   ]
  },
  {
   "cell_type": "code",
   "execution_count": null,
   "id": "31053dfc-af7a-417c-a722-54d1a475a585",
   "metadata": {},
   "outputs": [],
   "source": []
  },
  {
   "cell_type": "code",
   "execution_count": null,
   "id": "9229cdc8-5ac5-49a4-9c9c-6fdfdc42f430",
   "metadata": {},
   "outputs": [],
   "source": []
  },
  {
   "cell_type": "code",
   "execution_count": 8,
   "id": "61eb8854-63e4-4eb5-b3da-da1fb60f5692",
   "metadata": {},
   "outputs": [],
   "source": [
    "# New hyperopt run"
   ]
  },
  {
   "cell_type": "code",
   "execution_count": 9,
   "id": "bbe562b0-5514-4f75-a4ed-ee5a197027e7",
   "metadata": {},
   "outputs": [
    {
     "name": "stderr",
     "output_type": "stream",
     "text": [
      "[Stage 5:======================================================>(498 + 2) / 500]\r"
     ]
    },
    {
     "name": "stdout",
     "output_type": "stream",
     "text": [
      "  0%|             | 0/100 [00:00<?, ?trial/s, best loss=?]"
     ]
    },
    {
     "name": "stderr",
     "output_type": "stream",
     "text": [
      "[Stage 23:=====================================================>(113 + 1) / 114]\r"
     ]
    },
    {
     "name": "stdout",
     "output_type": "stream",
     "text": [
      "{'bandwidth_log_ad': 0.10783117230901547, 'bandwidth_log_mean_c2c_nn_dist': 0.010874825931929153, 'bandwidth_slope': 0.1}, 14.919, 1.3742, 0.3377, 1.4150, 1.0000, 10.5430, 1.0000, 583.7412772903489, 3144004.0396, \n",
      "  1%| | 1/100 [1:00:09<99:16:09, 3609.79s/trial, best loss"
     ]
    },
    {
     "name": "stderr",
     "output_type": "stream",
     "text": [
      "[Stage 37:====================================================> (103 + 2) / 105]\r"
     ]
    },
    {
     "name": "stdout",
     "output_type": "stream",
     "text": [
      "{'bandwidth_log_ad': 0.06615375780316522, 'bandwidth_log_mean_c2c_nn_dist': 0.013230994044638926, 'bandwidth_slope': 0.1}, 14.602, 1.3657, 0.3445, 1.4085, 1.0000, 10.3675, 1.0000, 529.9022648439094, 2994619.1871, \n",
      "  2%| | 2/100 [1:57:28<95:31:21, 3509.00s/trial, best loss"
     ]
    },
    {
     "name": "stderr",
     "output_type": "stream",
     "text": [
      "[Stage 51:=====================================================>  (38 + 2) / 40]\r"
     ]
    },
    {
     "name": "stdout",
     "output_type": "stream",
     "text": [
      "{'bandwidth_log_ad': 0.06360108789894536, 'bandwidth_log_mean_c2c_nn_dist': 0.002056107778387604, 'bandwidth_slope': 0.1}, 39308.072, 1.3625, 0.3512, 1.4071, 5826.0000, 4.7951, 1.0000, 448.19893899204243, 460388.5885, \n",
      "  3%| | 3/100 [2:38:10<81:25:25, 3021.91s/trial, best loss"
     ]
    },
    {
     "name": "stderr",
     "output_type": "stream",
     "text": [
      "[Stage 65:======================================================> (38 + 1) / 39]\r"
     ]
    },
    {
     "name": "stdout",
     "output_type": "stream",
     "text": [
      "{'bandwidth_log_ad': 0.0156654683446627, 'bandwidth_log_mean_c2c_nn_dist': 0.008741557197830166, 'bandwidth_slope': 0.1}, 40234.747, 1.3442, 0.3706, 1.3944, 5201.0000, 5.5481, 1.0000, 346.75943684962255, 692079.5134, \n",
      "  4%| | 4/100 [3:21:21<76:03:03, 2851.91s/trial, best loss"
     ]
    },
    {
     "name": "stderr",
     "output_type": "stream",
     "text": [
      "[Stage 79:=====================================================>(100 + 1) / 101]\r"
     ]
    },
    {
     "name": "stdout",
     "output_type": "stream",
     "text": [
      "{'bandwidth_log_ad': 0.08511018017933902, 'bandwidth_log_mean_c2c_nn_dist': 0.009675676169845722, 'bandwidth_slope': 0.1}, 14.598, 1.3700, 0.3418, 1.4119, 1.0000, 10.3389, 1.0000, 545.0903897163844, 2508126.7492, \n",
      "  5%| | 5/100 [4:15:23<78:57:49, 2992.31s/trial, best loss"
     ]
    },
    {
     "name": "stderr",
     "output_type": "stream",
     "text": [
      "[Stage 93:=====================================================>(136 + 2) / 138]\r"
     ]
    },
    {
     "name": "stdout",
     "output_type": "stream",
     "text": [
      "{'bandwidth_log_ad': 0.11868081963471469, 'bandwidth_log_mean_c2c_nn_dist': 0.01760474595550032, 'bandwidth_slope': 0.1}, 15.194, 1.3764, 0.3344, 1.4164, 1.0000, 10.7266, 1.0000, 622.6306876147725, 5273270.8604, \n",
      "  6%| | 6/100 [5:31:31<92:07:21, 3528.10s/trial, best loss"
     ]
    },
    {
     "name": "stderr",
     "output_type": "stream",
     "text": [
      "[Stage 107:====================================================>(137 + 2) / 139]\r"
     ]
    },
    {
     "name": "stdout",
     "output_type": "stream",
     "text": [
      "{'bandwidth_log_ad': 0.10883839782273212, 'bandwidth_log_mean_c2c_nn_dist': 0.019544262742744484, 'bandwidth_slope': 0.1}, 15.192, 1.3758, 0.3343, 1.4158, 1.0000, 10.7307, 1.0000, 620.539073658437, 5627336.8286, \n",
      "  7%| | 7/100 [6:53:10<102:43:28, 3976.43s/trial, best los"
     ]
    },
    {
     "name": "stderr",
     "output_type": "stream",
     "text": [
      "[Stage 121:=====================================================> (31 + 1) / 32]\r"
     ]
    },
    {
     "name": "stdout",
     "output_type": "stream",
     "text": [
      "{'bandwidth_log_ad': 0.009549974608668601, 'bandwidth_log_mean_c2c_nn_dist': 0.0063654696445903935, 'bandwidth_slope': 0.1}, 17977.362, 1.3395, 0.3773, 1.3916, 4201.0000, 3.0751, 1.0000, 292.4176698632932, 323022.1806, \n",
      "  8%| | 8/100 [7:32:03<88:14:58, 3453.25s/trial, best loss"
     ]
    },
    {
     "name": "stderr",
     "output_type": "stream",
     "text": [
      "[Stage 135:====================================================>(140 + 1) / 141]\r"
     ]
    },
    {
     "name": "stdout",
     "output_type": "stream",
     "text": [
      "{'bandwidth_log_ad': 0.14921682891780272, 'bandwidth_log_mean_c2c_nn_dist': 0.015290208762783522, 'bandwidth_slope': 0.1}, 15.217, 1.3779, 0.3342, 1.4178, 1.0000, 10.7327, 1.0000, 637.800448887982, 5015784.1375, \n",
      "  9%| | 9/100 [8:45:50<94:59:08, 3757.68s/trial, best loss"
     ]
    },
    {
     "name": "stderr",
     "output_type": "stream",
     "text": [
      "[Stage 149:===================================================>   (32 + 2) / 34]\r"
     ]
    },
    {
     "name": "stdout",
     "output_type": "stream",
     "text": [
      "{'bandwidth_log_ad': 0.0737209298148961, 'bandwidth_log_mean_c2c_nn_dist': 0.0013120611849859968, 'bandwidth_slope': 0.1}, 19334.439, 1.3655, 0.3498, 1.4095, 4576.0000, 2.9976, 1.0000, 465.72189349112426, 317869.5862, \n",
      " 10%| | 10/100 [9:25:16<83:12:09, 3328.10s/trial, best los"
     ]
    },
    {
     "name": "stderr",
     "output_type": "stream",
     "text": [
      "[Stage 163:=====================================================> (30 + 1) / 31]\r"
     ]
    },
    {
     "name": "stdout",
     "output_type": "stream",
     "text": [
      "{'bandwidth_log_ad': 0.00374984137991682, 'bandwidth_log_mean_c2c_nn_dist': 0.018596954922119845, 'bandwidth_slope': 0.1}, 27201.200, 1.3482, 0.3673, 1.3973, 6061.0000, 3.2118, 1.0000, 358.8545194858192, 321986.2228, \n",
      " 11%| | 11/100 [10:06:07<75:38:13, 3059.48s/trial, best lo"
     ]
    },
    {
     "name": "stderr",
     "output_type": "stream",
     "text": [
      "[Stage 177:====================================================>(113 + 2) / 115]\r"
     ]
    },
    {
     "name": "stdout",
     "output_type": "stream",
     "text": [
      "{'bandwidth_log_ad': 0.09228785219927313, 'bandwidth_log_mean_c2c_nn_dist': 0.013368137236164089, 'bandwidth_slope': 0.1}, 14.920, 1.3723, 0.3388, 1.4135, 1.0000, 10.5552, 1.0000, 574.8732911650684, 3591863.8635, \n",
      " 12%| | 12/100 [11:09:30<80:19:09, 3285.79s/trial, best lo"
     ]
    },
    {
     "name": "stderr",
     "output_type": "stream",
     "text": [
      "[Stage 191:====================================================>(141 + 1) / 142]\r"
     ]
    },
    {
     "name": "stdout",
     "output_type": "stream",
     "text": [
      "{'bandwidth_log_ad': 0.12130208951063115, 'bandwidth_log_mean_c2c_nn_dist': 0.019207627710791736, 'bandwidth_slope': 0.1}, 15.226, 1.3769, 0.3337, 1.4168, 1.0000, 10.7470, 1.0000, 630.7784125688635, 5797033.4371, \n",
      " 13%|▏| 13/100 [12:32:36<91:51:07, 3800.78s/trial, best lo"
     ]
    },
    {
     "name": "stderr",
     "output_type": "stream",
     "text": [
      "[Stage 205:====================================================>(118 + 1) / 119]\r"
     ]
    },
    {
     "name": "stdout",
     "output_type": "stream",
     "text": [
      "{'bandwidth_log_ad': 0.14133639144397367, 'bandwidth_log_mean_c2c_nn_dist': 0.009560591084935992, 'bandwidth_slope': 0.1}, 14.999, 1.3762, 0.3370, 1.4169, 1.0000, 10.5858, 1.0000, 611.2732095490716, 3084594.8519, \n",
      " 14%|▏| 14/100 [13:31:15<88:45:58, 3715.79s/trial, best lo"
     ]
    },
    {
     "name": "stderr",
     "output_type": "stream",
     "text": [
      "[Stage 219:====================================================>(130 + 1) / 131]\r"
     ]
    },
    {
     "name": "stdout",
     "output_type": "stream",
     "text": [
      "{'bandwidth_log_ad': 0.10985108985194812, 'bandwidth_log_mean_c2c_nn_dist': 0.01592531578037195, 'bandwidth_slope': 0.1}, 15.129, 1.3752, 0.3357, 1.4156, 1.0000, 10.6878, 1.0000, 607.436849622526, 4622294.4169, \n",
      " 15%|▏| 15/100 [14:44:34<92:35:28, 3921.51s/trial, best lo"
     ]
    },
    {
     "name": "stderr",
     "output_type": "stream",
     "text": [
      "[Stage 233:=====================================================> (31 + 1) / 32]\r"
     ]
    },
    {
     "name": "stdout",
     "output_type": "stream",
     "text": [
      "{'bandwidth_log_ad': 0.006758347301801427, 'bandwidth_log_mean_c2c_nn_dist': 0.007921047365593493, 'bandwidth_slope': 0.1}, 18106.087, 1.3397, 0.3771, 1.3918, 4701.0000, 2.7673, 1.0000, 291.02244897959184, 283379.7473, \n",
      " 16%|▏| 16/100 [15:24:53<80:56:51, 3469.19s/trial, best lo"
     ]
    },
    {
     "name": "stderr",
     "output_type": "stream",
     "text": [
      "[Stage 247:====================================================>(108 + 1) / 109]\r"
     ]
    },
    {
     "name": "stdout",
     "output_type": "stream",
     "text": [
      "{'bandwidth_log_ad': 0.05901596639429092, 'bandwidth_log_mean_c2c_nn_dist': 0.01689167389106631, 'bandwidth_slope': 0.1}, 14.700, 1.3641, 0.3452, 1.4071, 1.0000, 10.4471, 1.0000, 535.2615792695368, 3550885.4018, \n",
      " 17%|▏| 17/100 [16:26:53<81:43:29, 3544.69s/trial, best lo"
     ]
    },
    {
     "name": "stderr",
     "output_type": "stream",
     "text": [
      "[Stage 261:=====================================================> (30 + 1) / 31]\r"
     ]
    },
    {
     "name": "stdout",
     "output_type": "stream",
     "text": [
      "{'bandwidth_log_ad': 0.01045038532458865, 'bandwidth_log_mean_c2c_nn_dist': 0.0072583649091522845, 'bandwidth_slope': 0.1}, 25853.214, 1.3408, 0.3759, 1.3925, 5041.0000, 3.6831, 1.0000, 306.6292593348296, 398688.3063, \n",
      " 18%|▏| 18/100 [17:06:24<72:42:36, 3192.15s/trial, best lo"
     ]
    },
    {
     "name": "stderr",
     "output_type": "stream",
     "text": [
      "[Stage 275:======================================================>(97 + 1) / 98]\r"
     ]
    },
    {
     "name": "stdout",
     "output_type": "stream",
     "text": [
      "{'bandwidth_log_ad': 0.10989929159726461, 'bandwidth_log_mean_c2c_nn_dist': 0.006834937097390827, 'bandwidth_slope': 0.1}, 14.499, 1.3732, 0.3397, 1.4146, 1.0000, 10.2491, 1.0000, 567.1997551520097, 1996734.2910, \n",
      " 19%|▏| 19/100 [17:59:20<71:42:37, 3187.13s/trial, best lo"
     ]
    },
    {
     "name": "stderr",
     "output_type": "stream",
     "text": [
      "[Stage 289:====================================================>  (38 + 2) / 40]\r"
     ]
    },
    {
     "name": "stdout",
     "output_type": "stream",
     "text": [
      "{'bandwidth_log_ad': 0.025078130168792873, 'bandwidth_log_mean_c2c_nn_dist': 0.005821042192015836, 'bandwidth_slope': 0.1}, 42420.825, 1.3470, 0.3670, 1.3961, 5234.3333, 5.8051, 1.0000, 360.08202407671905, 701809.2120, \n",
      " 20%|▏| 20/100 [18:40:35<66:04:28, 2973.36s/trial, best lo"
     ]
    },
    {
     "name": "stderr",
     "output_type": "stream",
     "text": [
      "[Stage 303:====================================================>  (47 + 2) / 49]\r"
     ]
    },
    {
     "name": "stdout",
     "output_type": "stream",
     "text": [
      "{'bandwidth_log_ad': 0.045513529631349095, 'bandwidth_log_mean_c2c_nn_dist': 0.004406270125141629, 'bandwidth_slope': 0.1}, 68070.535, 1.3561, 0.3570, 1.4023, 6751.0000, 7.1906, 1.0000, 418.14588859416443, 810574.9423, \n",
      " 21%|▏| 21/100 [19:24:57<63:11:59, 2879.99s/trial, best lo"
     ]
    },
    {
     "name": "stderr",
     "output_type": "stream",
     "text": [
      "[Stage 317:====================================================>(107 + 1) / 108]\r"
     ]
    },
    {
     "name": "stdout",
     "output_type": "stream",
     "text": [
      "{'bandwidth_log_ad': 0.08735125717049712, 'bandwidth_log_mean_c2c_nn_dist': 0.011158547526482545, 'bandwidth_slope': 0.1}, 14.753, 1.3708, 0.3404, 1.4124, 1.0000, 10.4450, 1.0000, 556.6329320546827, 2926000.7299, \n",
      " 22%|▏| 22/100 [20:23:39<66:34:28, 3072.67s/trial, best lo"
     ]
    },
    {
     "name": "stderr",
     "output_type": "stream",
     "text": [
      "[Stage 331:======================================================>(74 + 1) / 75]\r"
     ]
    },
    {
     "name": "stdout",
     "output_type": "stream",
     "text": [
      "{'bandwidth_log_ad': 0.1355232282779234, 'bandwidth_log_mean_c2c_nn_dist': 0.0038876454683425517, 'bandwidth_slope': 0.1}, 13.781, 1.3751, 0.3399, 1.4165, 1.0000, 9.7288, 1.0000, 581.9363395225464, 1236927.3540, \n",
      " 23%|▏| 23/100 [21:11:04<64:15:38, 3004.39s/trial, best lo"
     ]
    },
    {
     "name": "stderr",
     "output_type": "stream",
     "text": [
      "[Stage 345:======================================================>(76 + 1) / 77]\r"
     ]
    },
    {
     "name": "stdout",
     "output_type": "stream",
     "text": [
      "{'bandwidth_log_ad': 0.13820288938712605, 'bandwidth_log_mean_c2c_nn_dist': 0.004215318652011179, 'bandwidth_slope': 0.1}, 14.054, 1.3753, 0.3395, 1.4166, 1.0000, 9.9206, 1.0000, 586.0689655172414, 1350998.0869, \n",
      " 24%|▏| 24/100 [21:58:10<62:17:44, 2950.85s/trial, best lo"
     ]
    },
    {
     "name": "stderr",
     "output_type": "stream",
     "text": [
      "[Stage 359:====================================================>  (68 + 3) / 71]\r"
     ]
    },
    {
     "name": "stdout",
     "output_type": "stream",
     "text": [
      "{'bandwidth_log_ad': 0.13382078855488183, 'bandwidth_log_mean_c2c_nn_dist': 0.0034266949933472544, 'bandwidth_slope': 0.1}, 13.383, 1.3751, 0.3402, 1.4166, 1.0000, 9.4473, 1.0000, 578.0426443582942, 1085109.0916, \n",
      " 25%|▎| 25/100 [22:44:23<60:21:45, 2897.40s/trial, best lo"
     ]
    },
    {
     "name": "stderr",
     "output_type": "stream",
     "text": [
      "[Stage 373:=====================================================> (31 + 1) / 32]\r"
     ]
    },
    {
     "name": "stdout",
     "output_type": "stream",
     "text": [
      "{'bandwidth_log_ad': 0.1312393060016259, 'bandwidth_log_mean_c2c_nn_dist': 0.0005246049768738124, 'bandwidth_slope': 0.1}, 6125.979, 1.3754, 0.3439, 1.4177, 4321.0000, 1.0000, 1.0000, 551.4188941032443, 164996.6227, \n",
      " 26%|▎| 26/100 [23:23:35<56:11:45, 2733.85s/trial, best lo"
     ]
    },
    {
     "name": "stderr",
     "output_type": "stream",
     "text": [
      "[Stage 387:====================================================>  (72 + 3) / 75]\r"
     ]
    },
    {
     "name": "stdout",
     "output_type": "stream",
     "text": [
      "{'bandwidth_log_ad': 0.14981396158263807, 'bandwidth_log_mean_c2c_nn_dist': 0.003504047249404048, 'bandwidth_slope': 0.1}, 13.665, 1.3758, 0.3397, 1.4171, 1.0000, 9.6431, 1.0000, 593.0785553968578, 1156409.6350, \n",
      " 27%|▎| 27/100 [24:11:35<56:19:23, 2777.58s/trial, best lo"
     ]
    },
    {
     "name": "stderr",
     "output_type": "stream",
     "text": [
      "[Stage 401:======================================================>(66 + 1) / 67]\r"
     ]
    },
    {
     "name": "stdout",
     "output_type": "stream",
     "text": [
      "{'bandwidth_log_ad': 0.14622174373724575, 'bandwidth_log_mean_c2c_nn_dist': 0.00250020021913336, 'bandwidth_slope': 0.1}, 105779.721, 1.3753, 0.3407, 1.4169, 8601.0000, 8.6801, 1.0000, 585.1238522750459, 818191.5952, \n",
      " 28%|▎| 28/100 [24:58:19<55:42:43, 2785.60s/trial, best lo"
     ]
    },
    {
     "name": "stderr",
     "output_type": "stream",
     "text": [
      "[Stage 415:======================================================>(69 + 1) / 70]\r"
     ]
    },
    {
     "name": "stdout",
     "output_type": "stream",
     "text": [
      "{'bandwidth_log_ad': 0.12836252833084247, 'bandwidth_log_mean_c2c_nn_dist': 0.0030970781469214287, 'bandwidth_slope': 0.1}, 118692.896, 1.3747, 0.3406, 1.4163, 9201.0000, 9.1085, 1.0000, 570.4590899816365, 965196.9506, \n",
      " 29%|▎| 29/100 [25:46:26<55:32:20, 2816.06s/trial, best lo"
     ]
    },
    {
     "name": "stderr",
     "output_type": "stream",
     "text": [
      "[Stage 429:======================================================>(97 + 1) / 98]\r"
     ]
    },
    {
     "name": "stdout",
     "output_type": "stream",
     "text": [
      "{'bandwidth_log_ad': 0.14994877738599266, 'bandwidth_log_mean_c2c_nn_dist': 0.004991426771077515, 'bandwidth_slope': 0.1}, 14.444, 1.3758, 0.3389, 1.4169, 1.0000, 10.1940, 1.0000, 599.6927157722914, 1647436.1771, \n",
      " 30%|▎| 30/100 [26:37:53<56:20:01, 2897.17s/trial, best lo"
     ]
    },
    {
     "name": "stderr",
     "output_type": "stream",
     "text": [
      "[Stage 443:====================================================>(112 + 1) / 113]\r"
     ]
    },
    {
     "name": "stdout",
     "output_type": "stream",
     "text": [
      "{'bandwidth_log_ad': 0.09988609841478757, 'bandwidth_log_mean_c2c_nn_dist': 0.011711049211123096, 'bandwidth_slope': 0.1}, 14.905, 1.3732, 0.3385, 1.4143, 1.0000, 10.5389, 1.0000, 577.57824933687, 3269895.5836, \n",
      " 31%|▎| 31/100 [27:39:17<60:03:17, 3133.29s/trial, best lo"
     ]
    },
    {
     "name": "stderr",
     "output_type": "stream",
     "text": [
      "[Stage 457:=====================================================> (31 + 1) / 32]\r"
     ]
    },
    {
     "name": "stdout",
     "output_type": "stream",
     "text": [
      "{'bandwidth_log_ad': 0.12216894266923946, 'bandwidth_log_mean_c2c_nn_dist': 0.000610362893330922, 'bandwidth_slope': 0.1}, 6633.148, 1.3747, 0.3440, 1.4170, 4681.0000, 1.0000, 1.0000, 542.4197102632116, 186637.4791, \n",
      " 32%|▎| 32/100 [28:19:32<55:06:58, 2917.91s/trial, best lo"
     ]
    },
    {
     "name": "stderr",
     "output_type": "stream",
     "text": [
      "[Stage 471:=====================================================> (31 + 1) / 32]\r"
     ]
    },
    {
     "name": "stdout",
     "output_type": "stream",
     "text": [
      "{'bandwidth_log_ad': 0.03262986139887513, 'bandwidth_log_mean_c2c_nn_dist': 0.0018401977125061843, 'bandwidth_slope': 0.1}, 13460.893, 1.3493, 0.3657, 1.3980, 3641.0000, 2.6446, 1.0000, 348.31360946745565, 272295.0945, \n",
      " 33%|▎| 33/100 [28:58:28<51:03:24, 2743.35s/trial, best lo"
     ]
    },
    {
     "name": "stderr",
     "output_type": "stream",
     "text": [
      "[Stage 485:======================================================>(61 + 1) / 62]\r"
     ]
    },
    {
     "name": "stdout",
     "output_type": "stream",
     "text": [
      "{'bandwidth_log_ad': 0.05547261506238846, 'bandwidth_log_mean_c2c_nn_dist': 0.005405557834022934, 'bandwidth_slope': 0.1}, 84151.031, 1.3598, 0.3515, 1.4045, 6901.0000, 8.6821, 1.0000, 454.5027545398898, 1118714.5831, \n",
      " 34%|▎| 34/100 [29:45:25<50:41:44, 2765.22s/trial, best lo"
     ]
    },
    {
     "name": "stderr",
     "output_type": "stream",
     "text": [
      "[Stage 499:=====================================================>(99 + 1) / 100]\r"
     ]
    },
    {
     "name": "stdout",
     "output_type": "stream",
     "text": [
      "{'bandwidth_log_ad': 0.09902142179439247, 'bandwidth_log_mean_c2c_nn_dist': 0.008314309859896259, 'bandwidth_slope': 0.1}, 14.624, 1.3724, 0.3404, 1.4139, 1.0000, 10.3430, 1.0000, 559.7573964497042, 2317687.2497, \n",
      " 35%|▎| 35/100 [30:39:13<52:26:16, 2904.25s/trial, best lo"
     ]
    },
    {
     "name": "stderr",
     "output_type": "stream",
     "text": [
      "[Stage 513:=====================================================> (30 + 1) / 31]\r"
     ]
    },
    {
     "name": "stdout",
     "output_type": "stream",
     "text": [
      "{'bandwidth_log_ad': 0.07502270220192445, 'bandwidth_log_mean_c2c_nn_dist': 0.0009357037136288999, 'bandwidth_slope': 0.1}, 7951.633, 1.3666, 0.3503, 1.4107, 4141.0000, 1.3612, 1.0000, 464.1030401958784, 228766.3722, \n",
      " 36%|▎| 36/100 [31:18:09<48:35:58, 2733.73s/trial, best lo"
     ]
    },
    {
     "name": "stderr",
     "output_type": "stream",
     "text": [
      "[Stage 527:=====================================================> (64 + 2) / 66]\r"
     ]
    },
    {
     "name": "stdout",
     "output_type": "stream",
     "text": [
      "{'bandwidth_log_ad': 0.11547314897732239, 'bandwidth_log_mean_c2c_nn_dist': 0.0029711114648258152, 'bandwidth_slope': 0.1}, 102477.479, 1.3735, 0.3414, 1.4153, 8301.0000, 8.7229, 1.0000, 553.9971434401143, 887201.9590, \n",
      " 37%|▎| 37/100 [32:04:17<48:01:11, 2743.99s/trial, best lo"
     ]
    },
    {
     "name": "stderr",
     "output_type": "stream",
     "text": [
      "[Stage 541:====================================================>(124 + 1) / 125]\r"
     ]
    },
    {
     "name": "stdout",
     "output_type": "stream",
     "text": [
      "{'bandwidth_log_ad': 0.1274874397059936, 'bandwidth_log_mean_c2c_nn_dist': 0.012901872474258743, 'bandwidth_slope': 0.1}, 15.110, 1.3764, 0.3358, 1.4168, 1.0000, 10.6654, 1.0000, 612.6776168128953, 3994617.7519, \n",
      " 38%|▍| 38/100 [33:10:24<53:34:42, 3111.02s/trial, best lo"
     ]
    },
    {
     "name": "stderr",
     "output_type": "stream",
     "text": [
      "[Stage 555:====================================================>(118 + 1) / 119]\r"
     ]
    },
    {
     "name": "stdout",
     "output_type": "stream",
     "text": [
      "{'bandwidth_log_ad': 0.14340565414024375, 'bandwidth_log_mean_c2c_nn_dist': 0.009647786073193887, 'bandwidth_slope': 0.1}, 15.015, 1.3764, 0.3368, 1.4170, 1.0000, 10.5960, 1.0000, 613.2379106304836, 3129236.1541, \n",
      " 39%|▍| 39/100 [34:12:16<55:45:58, 3291.13s/trial, best lo"
     ]
    },
    {
     "name": "stderr",
     "output_type": "stream",
     "text": [
      "[Stage 569:======================================================>(64 + 1) / 65]\r"
     ]
    },
    {
     "name": "stdout",
     "output_type": "stream",
     "text": [
      "{'bandwidth_log_ad': 0.10166278301625527, 'bandwidth_log_mean_c2c_nn_dist': 0.003300788617712265, 'bandwidth_slope': 0.1}, 101581.025, 1.3716, 0.3426, 1.4137, 8201.0000, 8.7617, 1.0000, 535.8704346051826, 932805.2098, \n",
      " 40%|▍| 40/100 [34:56:25<51:38:27, 3098.46s/trial, best lo"
     ]
    },
    {
     "name": "stderr",
     "output_type": "stream",
     "text": [
      "[Stage 583:====================================================>  (45 + 2) / 47]\r"
     ]
    },
    {
     "name": "stdout",
     "output_type": "stream",
     "text": [
      "{'bandwidth_log_ad': 0.08781218579631586, 'bandwidth_log_mean_c2c_nn_dist': 0.0019336836300717615, 'bandwidth_slope': 0.1}, 61218.280, 1.3690, 0.3458, 1.4120, 7676.0000, 5.6480, 1.0000, 501.82574984697, 510791.9378, \n",
      " 41%|▍| 41/100 [35:37:50<47:46:01, 2914.60s/trial, best lo"
     ]
    },
    {
     "name": "stderr",
     "output_type": "stream",
     "text": [
      "[Stage 597:======================================================>(78 + 1) / 79]\r"
     ]
    },
    {
     "name": "stdout",
     "output_type": "stream",
     "text": [
      "{'bandwidth_log_ad': 0.08012170464286641, 'bandwidth_log_mean_c2c_nn_dist': 0.007159623542589547, 'bandwidth_slope': 0.1}, 14.095, 1.3684, 0.3438, 1.4109, 1.0000, 9.9900, 1.0000, 522.0073454397062, 1804597.3234, \n",
      " 42%|▍| 42/100 [36:29:13<47:46:11, 2965.03s/trial, best lo"
     ]
    },
    {
     "name": "stderr",
     "output_type": "stream",
     "text": [
      "[Stage 611:===================================================> (102 + 2) / 104]\r"
     ]
    },
    {
     "name": "stdout",
     "output_type": "stream",
     "text": [
      "{'bandwidth_log_ad': 0.148498674772893, 'bandwidth_log_mean_c2c_nn_dist': 0.006232018429822617, 'bandwidth_slope': 0.1}, 14.705, 1.3760, 0.3385, 1.4170, 1.0000, 10.3777, 1.0000, 603.6955723321771, 2049335.2242, \n",
      " 43%|▍| 43/100 [37:24:05<48:29:57, 3063.11s/trial, best lo"
     ]
    },
    {
     "name": "stderr",
     "output_type": "stream",
     "text": [
      "[Stage 625:====================================================>(111 + 2) / 113]\r"
     ]
    },
    {
     "name": "stdout",
     "output_type": "stream",
     "text": [
      "{'bandwidth_log_ad': 0.1348727116159063, 'bandwidth_log_mean_c2c_nn_dist': 0.008708851778778306, 'bandwidth_slope': 0.1}, 14.930, 1.3758, 0.3376, 1.4166, 1.0000, 10.5389, 1.0000, 602.457049581718, 2762025.3793, \n",
      " 44%|▍| 44/100 [38:21:58<49:33:47, 3186.21s/trial, best lo"
     ]
    },
    {
     "name": "stderr",
     "output_type": "stream",
     "text": [
      "[Stage 639:======================================================>(76 + 1) / 77]\r"
     ]
    },
    {
     "name": "stdout",
     "output_type": "stream",
     "text": [
      "{'bandwidth_log_ad': 0.11559635507780952, 'bandwidth_log_mean_c2c_nn_dist': 0.004758374576633318, 'bandwidth_slope': 0.1}, 13.982, 1.3737, 0.3402, 1.4152, 1.0000, 9.8798, 1.0000, 563.9294021628239, 1421042.3522, \n",
      " 45%|▍| 45/100 [39:09:27<47:07:46, 3084.85s/trial, best lo"
     ]
    },
    {
     "name": "stderr",
     "output_type": "stream",
     "text": [
      "[Stage 653:======================================================>(93 + 1) / 94]\r"
     ]
    },
    {
     "name": "stdout",
     "output_type": "stream",
     "text": [
      "{'bandwidth_log_ad': 0.06482153214697922, 'bandwidth_log_mean_c2c_nn_dist': 0.010475672897127206, 'bandwidth_slope': 0.1}, 14.344, 1.3648, 0.3460, 1.4079, 1.0000, 10.1879, 1.0000, 511.1348704346052, 2354153.9580, \n",
      " 46%|▍| 46/100 [40:03:41<47:02:01, 3135.58s/trial, best lo"
     ]
    },
    {
     "name": "stderr",
     "output_type": "stream",
     "text": [
      "[Stage 667:======================================================>(77 + 1) / 78]\r"
     ]
    },
    {
     "name": "stdout",
     "output_type": "stream",
     "text": [
      "{'bandwidth_log_ad': 0.04438222701808957, 'bandwidth_log_mean_c2c_nn_dist': 0.01242235176139509, 'bandwidth_slope': 0.1}, 13.959, 1.3578, 0.3523, 1.4028, 1.0000, 9.9512, 1.0000, 474.4225668230973, 2210435.7205, \n",
      " 47%|▍| 47/100 [40:56:40<46:21:21, 3148.70s/trial, best lo"
     ]
    },
    {
     "name": "stderr",
     "output_type": "stream",
     "text": [
      "                                                                                \r"
     ]
    },
    {
     "name": "stdout",
     "output_type": "stream",
     "text": [
      "{'bandwidth_log_ad': 0.09360908124758116, 'bandwidth_log_mean_c2c_nn_dist': 0.014063072033365863, 'bandwidth_slope': 0.1}, 14.944, 1.3726, 0.3381, 1.4136, 1.0000, 10.5715, 1.0000, 579.9251173229953, 3801520.4330, \n",
      " 48%|▍| 48/100 [42:00:53<48:31:57, 3359.95s/trial, best lo"
     ]
    },
    {
     "name": "stderr",
     "output_type": "stream",
     "text": [
      "                                                                                \r"
     ]
    },
    {
     "name": "stdout",
     "output_type": "stream",
     "text": [
      "{'bandwidth_log_ad': 0.12606506324405822, 'bandwidth_log_mean_c2c_nn_dist': 0.00771876871757168, 'bandwidth_slope': 0.1}, 14.791, 1.3751, 0.3384, 1.4161, 1.0000, 10.4450, 1.0000, 589.9604162415834, 2385723.9080, \n",
      " 49%|▍| 49/100 [42:54:16<46:55:52, 3312.80s/trial, best lo"
     ]
    },
    {
     "name": "stderr",
     "output_type": "stream",
     "text": [
      "[Stage 709:======================================================>(73 + 1) / 74]\r"
     ]
    },
    {
     "name": "stdout",
     "output_type": "stream",
     "text": [
      "{'bandwidth_log_ad': 0.14023817528611468, 'bandwidth_log_mean_c2c_nn_dist': 0.0036058803118839363, 'bandwidth_slope': 0.1}, 13.626, 1.3752, 0.3399, 1.4166, 1.0000, 9.6186, 1.0000, 585.1395633544174, 1162061.5285, \n",
      " 50%|▌| 50/100 [43:40:20<43:43:30, 3148.22s/trial, best lo"
     ]
    },
    {
     "name": "stderr",
     "output_type": "stream",
     "text": [
      "[Stage 723:====================================================>(125 + 2) / 127]\r"
     ]
    },
    {
     "name": "stdout",
     "output_type": "stream",
     "text": [
      "{'bandwidth_log_ad': 0.10636020820582846, 'bandwidth_log_mean_c2c_nn_dist': 0.014527043709719373, 'bandwidth_slope': 0.1}, 15.072, 1.3745, 0.3365, 1.4151, 1.0000, 10.6511, 1.0000, 597.9345031626199, 4162306.6440, \n",
      " 51%|▌| 51/100 [44:49:16<46:53:05, 3444.60s/trial, best lo"
     ]
    },
    {
     "name": "stderr",
     "output_type": "stream",
     "text": [
      "[Stage 737:====================================================>  (37 + 2) / 39]\r"
     ]
    },
    {
     "name": "stdout",
     "output_type": "stream",
     "text": [
      "{'bandwidth_log_ad': 0.0696715319754357, 'bandwidth_log_mean_c2c_nn_dist': 0.0017657825703389237, 'bandwidth_slope': 0.1}, 35299.931, 1.3644, 0.3503, 1.4086, 5626.0000, 4.4544, 1.0000, 460.6686390532544, 415260.9465, \n",
      " 52%|▌| 52/100 [45:30:04<41:56:26, 3145.55s/trial, best lo"
     ]
    },
    {
     "name": "stderr",
     "output_type": "stream",
     "text": [
      "[Stage 751:======================================================>(98 + 1) / 99]\r"
     ]
    },
    {
     "name": "stdout",
     "output_type": "stream",
     "text": [
      "{'bandwidth_log_ad': 0.14160523304714517, 'bandwidth_log_mean_c2c_nn_dist': 0.005654584017554483, 'bandwidth_slope': 0.1}, 14.548, 1.3756, 0.3387, 1.4167, 1.0000, 10.2695, 1.0000, 595.5727402570903, 1828154.8278, \n",
      " 53%|▌| 53/100 [46:23:01<41:11:24, 3155.00s/trial, best lo"
     ]
    },
    {
     "name": "stderr",
     "output_type": "stream",
     "text": [
      "[Stage 765:====================================================> (98 + 2) / 100]\r"
     ]
    },
    {
     "name": "stdout",
     "output_type": "stream",
     "text": [
      "{'bandwidth_log_ad': 0.11834711270244802, 'bandwidth_log_mean_c2c_nn_dist': 0.0067318740654504295, 'bandwidth_slope': 0.1}, 14.566, 1.3743, 0.3392, 1.4156, 1.0000, 10.2899, 1.0000, 577.059375637625, 2028926.0663, \n",
      " 54%|▌| 54/100 [47:14:30<40:03:34, 3135.11s/trial, best lo"
     ]
    },
    {
     "name": "stderr",
     "output_type": "stream",
     "text": [
      "[Stage 779:=====================================================> (33 + 1) / 34]\r"
     ]
    },
    {
     "name": "stdout",
     "output_type": "stream",
     "text": [
      "{'bandwidth_log_ad': 0.08252294990538746, 'bandwidth_log_mean_c2c_nn_dist': 0.001157134207420277, 'bandwidth_slope': 0.1}, 19455.908, 1.3676, 0.3477, 1.4111, 5561.0000, 2.4793, 1.0000, 483.5913078963477, 296703.6607, \n",
      " 55%|▌| 55/100 [47:54:05<36:20:17, 2907.05s/trial, best lo"
     ]
    },
    {
     "name": "stderr",
     "output_type": "stream",
     "text": [
      "[Stage 793:====================================================>(126 + 1) / 127]\r"
     ]
    },
    {
     "name": "stdout",
     "output_type": "stream",
     "text": [
      "{'bandwidth_log_ad': 0.09445901596581333, 'bandwidth_log_mean_c2c_nn_dist': 0.016801237617045287, 'bandwidth_slope': 0.1}, 15.064, 1.3731, 0.3370, 1.4138, 1.0000, 10.6552, 1.0000, 593.1964905121404, 4546940.3883, \n",
      " 56%|▌| 56/100 [49:05:42<40:37:47, 3324.26s/trial, best lo"
     ]
    },
    {
     "name": "stderr",
     "output_type": "stream",
     "text": [
      "[Stage 807:===================================================> (103 + 3) / 106]\r"
     ]
    },
    {
     "name": "stdout",
     "output_type": "stream",
     "text": [
      "{'bandwidth_log_ad': 0.10687281231466149, 'bandwidth_log_mean_c2c_nn_dist': 0.009183992175887858, 'bandwidth_slope': 0.1}, 14.778, 1.3736, 0.3390, 1.4148, 1.0000, 10.4450, 1.0000, 574.6900632523975, 2647439.3879, \n",
      " 57%|▌| 57/100 [50:00:37<39:35:57, 3315.29s/trial, best lo"
     ]
    },
    {
     "name": "stderr",
     "output_type": "stream",
     "text": [
      "[Stage 821:=====================================================> (31 + 1) / 32]\r"
     ]
    },
    {
     "name": "stdout",
     "output_type": "stream",
     "text": [
      "{'bandwidth_log_ad': 0.01833177637994657, 'bandwidth_log_mean_c2c_nn_dist': 0.004108352295023933, 'bandwidth_slope': 0.1}, 25866.040, 1.3429, 0.3730, 1.3937, 5101.0000, 3.6382, 1.0000, 313.58702305651906, 384743.0506, \n",
      " 58%|▌| 58/100 [50:39:46<35:17:55, 3025.60s/trial, best lo"
     ]
    },
    {
     "name": "stderr",
     "output_type": "stream",
     "text": [
      "[Stage 835:====================================================>(117 + 1) / 118]\r"
     ]
    },
    {
     "name": "stdout",
     "output_type": "stream",
     "text": [
      "{'bandwidth_log_ad': 0.13214183114376682, 'bandwidth_log_mean_c2c_nn_dist': 0.010152831931586134, 'bandwidth_slope': 0.1}, 14.994, 1.3761, 0.3370, 1.4167, 1.0000, 10.5838, 1.0000, 605.9606202815752, 3192769.7470, \n",
      " 59%|▌| 59/100 [51:42:14<36:55:30, 3242.22s/trial, best lo"
     ]
    },
    {
     "name": "stderr",
     "output_type": "stream",
     "text": [
      "[Stage 849:======================================================>(66 + 1) / 67]\r"
     ]
    },
    {
     "name": "stdout",
     "output_type": "stream",
     "text": [
      "{'bandwidth_log_ad': 0.12414980980023119, 'bandwidth_log_mean_c2c_nn_dist': 0.0028364466478184025, 'bandwidth_slope': 0.1}, 102802.499, 1.3742, 0.3408, 1.4158, 8301.0000, 8.7474, 1.0000, 564.154050193838, 872426.4193, \n",
      " 60%|▌| 60/100 [52:26:35<34:05:21, 3068.03s/trial, best lo"
     ]
    },
    {
     "name": "stderr",
     "output_type": "stream",
     "text": [
      "[Stage 863:====================================================>(116 + 1) / 117]\r"
     ]
    },
    {
     "name": "stdout",
     "output_type": "stream",
     "text": [
      "{'bandwidth_log_ad': 0.11234983935422471, 'bandwidth_log_mean_c2c_nn_dist': 0.011511448660796234, 'bandwidth_slope': 0.1}, 14.957, 1.3747, 0.3370, 1.4154, 1.0000, 10.5674, 1.0000, 591.8481942460722, 3386158.4099, \n",
      " 61%|▌| 61/100 [53:28:30<35:20:19, 3262.03s/trial, best lo"
     ]
    },
    {
     "name": "stderr",
     "output_type": "stream",
     "text": [
      "[Stage 877:=====================================================> (93 + 2) / 95]\r"
     ]
    },
    {
     "name": "stdout",
     "output_type": "stream",
     "text": [
      "{'bandwidth_log_ad': 0.13821431523016678, 'bandwidth_log_mean_c2c_nn_dist': 0.0050337503380672045, 'bandwidth_slope': 0.1}, 14.367, 1.3753, 0.3391, 1.4165, 1.0000, 10.1430, 1.0000, 589.7924913283003, 1613109.9906, \n",
      " 62%|▌| 62/100 [54:20:04<33:54:01, 3211.62s/trial, best lo"
     ]
    },
    {
     "name": "stderr",
     "output_type": "stream",
     "text": [
      "[Stage 891:==================================================>    (44 + 4) / 48]\r"
     ]
    },
    {
     "name": "stdout",
     "output_type": "stream",
     "text": [
      "{'bandwidth_log_ad': 0.05151352498395999, 'bandwidth_log_mean_c2c_nn_dist': 0.0037690214639357874, 'bandwidth_slope': 0.1}, 60265.990, 1.3585, 0.3545, 1.4040, 6151.0000, 6.9784, 1.0000, 430.37359722505613, 747890.2903, \n",
      " 63%|▋| 63/100 [55:01:55<30:50:56, 3001.52s/trial, best lo"
     ]
    },
    {
     "name": "stderr",
     "output_type": "stream",
     "text": [
      "[Stage 905:=====================================================> (30 + 1) / 31]\r"
     ]
    },
    {
     "name": "stdout",
     "output_type": "stream",
     "text": [
      "{'bandwidth_log_ad': 0.034082207149426696, 'bandwidth_log_mean_c2c_nn_dist': 0.002570517098587811, 'bandwidth_slope': 0.1}, 30110.490, 1.3503, 0.3644, 1.3986, 5461.0000, 3.9423, 1.0000, 362.1964905121404, 391750.5003, \n",
      " 64%|▋| 64/100 [55:41:40<28:09:55, 2816.54s/trial, best lo"
     ]
    },
    {
     "name": "stderr",
     "output_type": "stream",
     "text": [
      "[Stage 919:====================================================>(150 + 1) / 151]\r"
     ]
    },
    {
     "name": "stdout",
     "output_type": "stream",
     "text": [
      "{'bandwidth_log_ad': 0.1443435671887846, 'bandwidth_log_mean_c2c_nn_dist': 0.019855778771515, 'bandwidth_slope': 0.1}, 15.263, 1.3785, 0.3326, 1.4180, 1.0000, 10.7633, 1.0000, 650.0534584778617, 6413168.8641, \n",
      " 65%|▋| 65/100 [57:13:12<35:11:06, 3619.04s/trial, best lo"
     ]
    },
    {
     "name": "stderr",
     "output_type": "stream",
     "text": [
      "[Stage 933:====================================================>(101 + 1) / 102]\r"
     ]
    },
    {
     "name": "stdout",
     "output_type": "stream",
     "text": [
      "{'bandwidth_log_ad': 0.1382173895131304, 'bandwidth_log_mean_c2c_nn_dist': 0.00625278610360084, 'bandwidth_slope': 0.1}, 14.649, 1.3755, 0.3386, 1.4166, 1.0000, 10.3410, 1.0000, 595.1481330340747, 2003227.5136, \n",
      " 66%|▋| 66/100 [58:06:04<32:54:45, 3484.88s/trial, best lo"
     ]
    },
    {
     "name": "stderr",
     "output_type": "stream",
     "text": [
      "[Stage 947:====================================================>(106 + 1) / 107]\r"
     ]
    },
    {
     "name": "stdout",
     "output_type": "stream",
     "text": [
      "{'bandwidth_log_ad': 0.13121985889428367, 'bandwidth_log_mean_c2c_nn_dist': 0.007721635218225483, 'bandwidth_slope': 0.1}, 14.822, 1.3754, 0.3382, 1.4163, 1.0000, 10.4654, 1.0000, 595.026525198939, 2424359.3269, \n",
      " 67%|▋| 67/100 [58:59:58<31:15:19, 3409.70s/trial, best lo"
     ]
    },
    {
     "name": "stderr",
     "output_type": "stream",
     "text": [
      "[Stage 961:======================================================>(75 + 1) / 76]\r"
     ]
    },
    {
     "name": "stdout",
     "output_type": "stream",
     "text": [
      "{'bandwidth_log_ad': 0.14889653902827343, 'bandwidth_log_mean_c2c_nn_dist': 0.0037032622398334826, 'bandwidth_slope': 0.1}, 13.838, 1.3757, 0.3396, 1.4170, 1.0000, 9.7656, 1.0000, 593.21975107121, 1219495.6348, \n",
      " 68%|▋| 68/100 [59:46:40<28:41:19, 3227.48s/trial, best lo"
     ]
    },
    {
     "name": "stderr",
     "output_type": "stream",
     "text": [
      "[Stage 975:=====================================================> (57 + 2) / 59]\r"
     ]
    },
    {
     "name": "stdout",
     "output_type": "stream",
     "text": [
      "{'bandwidth_log_ad': 0.12039831471758733, 'bandwidth_log_mean_c2c_nn_dist': 0.0023536291590597336, 'bandwidth_slope': 0.1}, 81140.987, 1.3738, 0.3416, 1.4156, 7201.0000, 7.9598, 1.0000, 556.7025096918996, 715100.9227, \n",
      " 69%|▋| 69/100 [60:29:39<26:06:57, 3032.81s/trial, best lo"
     ]
    },
    {
     "name": "stderr",
     "output_type": "stream",
     "text": [
      "[Stage 989:======================================================>(93 + 1) / 94]\r"
     ]
    },
    {
     "name": "stdout",
     "output_type": "stream",
     "text": [
      "{'bandwidth_log_ad': 0.14685520866124935, 'bandwidth_log_mean_c2c_nn_dist': 0.004674678548341524, 'bandwidth_slope': 0.1}, 14.326, 1.3758, 0.3390, 1.4169, 1.0000, 10.1104, 1.0000, 595.826974086921, 1531646.8519, \n",
      " 70%|▋| 70/100 [61:17:40<24:53:40, 2987.36s/trial, best lo"
     ]
    },
    {
     "name": "stderr",
     "output_type": "stream",
     "text": [
      "[Stage 1003:====================================================> (48 + 1) / 49]\r"
     ]
    },
    {
     "name": "stdout",
     "output_type": "stream",
     "text": [
      "{'bandwidth_log_ad': 0.1349272455520414, 'bandwidth_log_mean_c2c_nn_dist': 0.0013934442451398084, 'bandwidth_slope': 0.1}, 52314.864, 1.3749, 0.3422, 1.4168, 7201.0000, 5.1277, 1.0000, 567.2230157110794, 442880.1610, \n",
      " 71%|▋| 71/100 [62:00:16<23:01:19, 2857.90s/trial, best lo"
     ]
    },
    {
     "name": "stderr",
     "output_type": "stream",
     "text": [
      "[Stage 1017:====================================================> (31 + 1) / 32]\r"
     ]
    },
    {
     "name": "stdout",
     "output_type": "stream",
     "text": [
      "{'bandwidth_log_ad': 0.11295852713191408, 'bandwidth_log_mean_c2c_nn_dist': 0.0006215631466130293, 'bandwidth_slope': 0.1}, 6258.970, 1.3733, 0.3441, 1.4157, 4421.0000, 1.0000, 1.0000, 529.9106304835748, 184009.3336, \n",
      " 72%|▋| 72/100 [62:39:17<21:01:14, 2702.66s/trial, best lo"
     ]
    },
    {
     "name": "stderr",
     "output_type": "stream",
     "text": [
      "[Stage 1031:====================================================> (70 + 2) / 72]\r"
     ]
    },
    {
     "name": "stdout",
     "output_type": "stream",
     "text": [
      "{'bandwidth_log_ad': 0.1389866418549084, 'bandwidth_log_mean_c2c_nn_dist': 0.003321496644250492, 'bandwidth_slope': 0.1}, 13.371, 1.3752, 0.3400, 1.4166, 1.0000, 9.4391, 1.0000, 582.5945725362171, 1066905.2750, \n",
      " 73%|▋| 73/100 [63:25:51<20:28:31, 2730.07s/trial, best lo"
     ]
    },
    {
     "name": "stderr",
     "output_type": "stream",
     "text": [
      "[Stage 1045:=====================================================>(76 + 1) / 77]\r"
     ]
    },
    {
     "name": "stdout",
     "output_type": "stream",
     "text": [
      "{'bandwidth_log_ad': 0.10372872904840727, 'bandwidth_log_mean_c2c_nn_dist': 0.005464694131923442, 'bandwidth_slope': 0.1}, 14.059, 1.3722, 0.3411, 1.4140, 1.0000, 9.9431, 1.0000, 551.5535604978576, 1557424.9853, \n",
      " 74%|▋| 74/100 [64:15:46<20:17:32, 2809.70s/trial, best lo"
     ]
    },
    {
     "name": "stderr",
     "output_type": "stream",
     "text": [
      "[Stage 1059:===================================================>(109 + 1) / 110]\r"
     ]
    },
    {
     "name": "stdout",
     "output_type": "stream",
     "text": [
      "{'bandwidth_log_ad': 0.1300168442903225, 'bandwidth_log_mean_c2c_nn_dist': 0.008566398834898542, 'bandwidth_slope': 0.1}, 14.894, 1.3756, 0.3379, 1.4165, 1.0000, 10.5144, 1.0000, 597.430524382779, 2678982.6554, \n",
      " 75%|▊| 75/100 [65:13:06<20:49:27, 2998.71s/trial, best lo"
     ]
    },
    {
     "name": "stderr",
     "output_type": "stream",
     "text": [
      "[Stage 1073:===================================================>(102 + 2) / 104]\r"
     ]
    },
    {
     "name": "stdout",
     "output_type": "stream",
     "text": [
      "{'bandwidth_log_ad': 0.14013244245669096, 'bandwidth_log_mean_c2c_nn_dist': 0.006766448671329027, 'bandwidth_slope': 0.1}, 14.750, 1.3757, 0.3382, 1.4166, 1.0000, 10.4124, 1.0000, 599.0565190777393, 2178589.0426, \n",
      " 76%|▊| 76/100 [66:05:31<20:17:03, 3042.65s/trial, best lo"
     ]
    },
    {
     "name": "stderr",
     "output_type": "stream",
     "text": [
      "[Stage 1087:===================================================>  (72 + 3) / 75]\r"
     ]
    },
    {
     "name": "stdout",
     "output_type": "stream",
     "text": [
      "{'bandwidth_log_ad': 0.1237891932593295, 'bandwidth_log_mean_c2c_nn_dist': 0.004372652643417492, 'bandwidth_slope': 0.1}, 13.900, 1.3746, 0.3397, 1.4159, 1.0000, 9.8166, 1.0000, 571.8190165272393, 1342997.9498, \n",
      " 77%|▊| 77/100 [66:52:37<19:01:28, 2977.75s/trial, best lo"
     ]
    },
    {
     "name": "stderr",
     "output_type": "stream",
     "text": [
      "[Stage 1101:==================================================> (101 + 2) / 103]\r"
     ]
    },
    {
     "name": "stdout",
     "output_type": "stream",
     "text": [
      "{'bandwidth_log_ad': 0.11733361523126343, 'bandwidth_log_mean_c2c_nn_dist': 0.007361028640904271, 'bandwidth_slope': 0.1}, 14.661, 1.3743, 0.3390, 1.4155, 1.0000, 10.3573, 1.0000, 578.8773719649051, 2210179.8072, \n",
      " 78%|▊| 78/100 [67:47:01<18:43:19, 3063.59s/trial, best lo"
     ]
    },
    {
     "name": "stderr",
     "output_type": "stream",
     "text": [
      "[Stage 1115:=====================================================>(76 + 1) / 77]\r"
     ]
    },
    {
     "name": "stdout",
     "output_type": "stream",
     "text": [
      "{'bandwidth_log_ad': 0.09842990115797981, 'bandwidth_log_mean_c2c_nn_dist': 0.005866916875302863, 'bandwidth_slope': 0.1}, 14.121, 1.3716, 0.3414, 1.4135, 1.0000, 9.9900, 1.0000, 545.8026933278923, 1632893.8898, \n",
      " 79%|▊| 79/100 [68:36:14<17:40:39, 3030.46s/trial, best lo"
     ]
    },
    {
     "name": "stderr",
     "output_type": "stream",
     "text": [
      "[Stage 1129:=================================================>    (37 + 3) / 40]\r"
     ]
    },
    {
     "name": "stdout",
     "output_type": "stream",
     "text": [
      "{'bandwidth_log_ad': 0.08750270557031527, 'bandwidth_log_mean_c2c_nn_dist': 0.0015453908778118549, 'bandwidth_slope': 0.1}, 37085.894, 1.3689, 0.3462, 1.4119, 5976.0000, 4.3952, 1.0000, 497.82085288716587, 407589.2246, \n",
      " 80%|▊| 80/100 [69:17:19<15:53:32, 2860.65s/trial, best lo"
     ]
    },
    {
     "name": "stderr",
     "output_type": "stream",
     "text": [
      "[Stage 1143:==================================================>   (45 + 3) / 48]\r"
     ]
    },
    {
     "name": "stdout",
     "output_type": "stream",
     "text": [
      "{'bandwidth_log_ad': 0.07847283081340523, 'bandwidth_log_mean_c2c_nn_dist': 0.0023193004522297435, 'bandwidth_slope': 0.1}, 59817.505, 1.3671, 0.3474, 1.4105, 6801.0000, 6.2357, 1.0000, 485.78147316874106, 579692.1547, \n",
      " 81%|▊| 81/100 [69:58:59<14:31:40, 2752.64s/trial, best lo"
     ]
    },
    {
     "name": "stderr",
     "output_type": "stream",
     "text": [
      "[Stage 1157:====================================================> (31 + 1) / 32]\r"
     ]
    },
    {
     "name": "stdout",
     "output_type": "stream",
     "text": [
      "{'bandwidth_log_ad': 0.0689261221531188, 'bandwidth_log_mean_c2c_nn_dist': 0.0005025792822514791, 'bandwidth_slope': 0.1}, 6362.194, 1.3649, 0.3522, 1.4096, 4513.5000, 1.0000, 1.0000, 440.8498265660069, 117568.4093, \n",
      " 82%|▊| 82/100 [70:37:17<13:04:50, 2616.12s/trial, best lo"
     ]
    },
    {
     "name": "stderr",
     "output_type": "stream",
     "text": [
      "[Stage 1171:====================================================> (68 + 2) / 70]\r"
     ]
    },
    {
     "name": "stdout",
     "output_type": "stream",
     "text": [
      "{'bandwidth_log_ad': 0.1444697531335721, 'bandwidth_log_mean_c2c_nn_dist': 0.002882692443760932, 'bandwidth_slope': 0.1}, 121640.532, 1.3753, 0.3402, 1.4167, 9401.0000, 9.1330, 1.0000, 585.4882677004692, 939236.0220, \n",
      " 83%|▊| 83/100 [71:23:08<12:32:41, 2656.54s/trial, best lo"
     ]
    },
    {
     "name": "stderr",
     "output_type": "stream",
     "text": [
      "[Stage 1185:===================================================>(104 + 1) / 105]\r"
     ]
    },
    {
     "name": "stdout",
     "output_type": "stream",
     "text": [
      "{'bandwidth_log_ad': 0.11091143842330187, 'bandwidth_log_mean_c2c_nn_dist': 0.00814341451555501, 'bandwidth_slope': 0.1}, 14.731, 1.3738, 0.3391, 1.4151, 1.0000, 10.4103, 1.0000, 574.8551316057948, 2386964.5207, \n",
      " 84%|▊| 84/100 [72:18:22<12:41:02, 2853.90s/trial, best lo"
     ]
    },
    {
     "name": "stderr",
     "output_type": "stream",
     "text": [
      "[Stage 1199:=====================================================>(96 + 1) / 97]\r"
     ]
    },
    {
     "name": "stdout",
     "output_type": "stream",
     "text": [
      "{'bandwidth_log_ad': 0.12662193288796253, 'bandwidth_log_mean_c2c_nn_dist': 0.006110254830460793, 'bandwidth_slope': 0.1}, 14.511, 1.3748, 0.3395, 1.4161, 1.0000, 10.2471, 1.0000, 583.2836155886554, 1892872.7041, \n",
      " 85%|▊| 85/100 [73:08:21<12:04:20, 2897.33s/trial, best lo"
     ]
    },
    {
     "name": "stderr",
     "output_type": "stream",
     "text": [
      "[Stage 1213:====================================================> (72 + 2) / 74]\r"
     ]
    },
    {
     "name": "stdout",
     "output_type": "stream",
     "text": [
      "{'bandwidth_log_ad': 0.09573505726230133, 'bandwidth_log_mean_c2c_nn_dist': 0.005269400944514953, 'bandwidth_slope': 0.1}, 13.831, 1.3711, 0.3422, 1.4131, 1.0000, 9.7880, 1.0000, 538.0983472760661, 1448353.3440, \n",
      " 86%|▊| 86/100 [73:55:54<11:12:55, 2883.94s/trial, best lo"
     ]
    },
    {
     "name": "stderr",
     "output_type": "stream",
     "text": [
      "[Stage 1227:====================================================> (31 + 1) / 32]\r"
     ]
    },
    {
     "name": "stdout",
     "output_type": "stream",
     "text": [
      "{'bandwidth_log_ad': 0.0020298870623864373, 'bandwidth_log_mean_c2c_nn_dist': 0.009038627536462366, 'bandwidth_slope': 0.1}, 6696.203, 1.3391, 0.3797, 1.3919, 4801.0000, 1.0020, 1.0000, 261.0804081632653, 96780.1014, \n",
      " 87%|▊| 87/100 [74:34:24<9:47:34, 2711.90s/trial, best los"
     ]
    },
    {
     "name": "stderr",
     "output_type": "stream",
     "text": [
      "[Stage 1241:====================================================> (48 + 1) / 49]\r"
     ]
    },
    {
     "name": "stdout",
     "output_type": "stream",
     "text": [
      "{'bandwidth_log_ad': 0.060498738497553335, 'bandwidth_log_mean_c2c_nn_dist': 0.003329789897726883, 'bandwidth_slope': 0.1}, 59646.974, 1.3616, 0.3515, 1.4062, 6001.0000, 7.0681, 1.0000, 451.2438277902469, 724862.1883, \n",
      " 88%|▉| 88/100 [75:17:42<8:55:32, 2677.71s/trial, best los"
     ]
    },
    {
     "name": "stderr",
     "output_type": "stream",
     "text": [
      "                                                                                \r"
     ]
    },
    {
     "name": "stdout",
     "output_type": "stream",
     "text": [
      "{'bandwidth_log_ad': 0.1333882744122675, 'bandwidth_log_mean_c2c_nn_dist': 0.0009494482732010762, 'bandwidth_slope': 0.1}, 17226.319, 1.3751, 0.3425, 1.4171, 5951.0000, 2.0426, 1.0000, 561.3189145072434, 300494.5317, \n",
      " 89%|▉| 89/100 [75:59:58<8:03:05, 2635.06s/trial, best los"
     ]
    },
    {
     "name": "stderr",
     "output_type": "stream",
     "text": [
      "[Stage 1269:===================================================>(140 + 1) / 141]\r"
     ]
    },
    {
     "name": "stdout",
     "output_type": "stream",
     "text": [
      "{'bandwidth_log_ad': 0.12007676806914487, 'bandwidth_log_mean_c2c_nn_dist': 0.018950773193070446, 'bandwidth_slope': 0.1}, 15.216, 1.3768, 0.3337, 1.4166, 1.0000, 10.7409, 1.0000, 628.7926953682921, 5696791.9857, \n",
      " 90%|▉| 90/100 [77:23:09<9:16:59, 3341.94s/trial, best los"
     ]
    },
    {
     "name": "stderr",
     "output_type": "stream",
     "text": [
      "[Stage 1283:===================================================>(109 + 1) / 110]\r"
     ]
    },
    {
     "name": "stdout",
     "output_type": "stream",
     "text": [
      "{'bandwidth_log_ad': 0.10475532075269942, 'bandwidth_log_mean_c2c_nn_dist': 0.010066025911722069, 'bandwidth_slope': 0.1}, 14.826, 1.3733, 0.3387, 1.4145, 1.0000, 10.4817, 1.0000, 576.1968985921241, 2874672.8529, \n",
      " 91%|▉| 91/100 [78:21:26<8:28:16, 3388.55s/trial, best los"
     ]
    },
    {
     "name": "stderr",
     "output_type": "stream",
     "text": [
      "[Stage 1297:===================================================>  (54 + 3) / 57]\r"
     ]
    },
    {
     "name": "stdout",
     "output_type": "stream",
     "text": [
      "{'bandwidth_log_ad': 0.1423450513980269, 'bandwidth_log_mean_c2c_nn_dist': 0.0019475367000840573, 'bandwidth_slope': 0.1}, 75134.876, 1.3751, 0.3414, 1.4168, 7101.0000, 7.4681, 1.0000, 578.4652111813915, 631292.5717, \n",
      " 92%|▉| 92/100 [79:04:17<6:59:04, 3143.12s/trial, best los"
     ]
    },
    {
     "name": "stderr",
     "output_type": "stream",
     "text": [
      "[Stage 1311:=====================================================>(66 + 1) / 67]\r"
     ]
    },
    {
     "name": "stdout",
     "output_type": "stream",
     "text": [
      "{'bandwidth_log_ad': 0.0911810421725779, 'bandwidth_log_mean_c2c_nn_dist': 0.004094547085383622, 'bandwidth_slope': 0.1}, 109134.306, 1.3702, 0.3435, 1.4126, 8401.0000, 9.1963, 1.0000, 523.2454601101816, 1100493.7625, \n",
      " 93%|▉| 93/100 [79:49:07<5:50:51, 3007.39s/trial, best los"
     ]
    },
    {
     "name": "stderr",
     "output_type": "stream",
     "text": [
      "                                                                                \r"
     ]
    },
    {
     "name": "stdout",
     "output_type": "stream",
     "text": [
      "{'bandwidth_log_ad': 0.11502342727155893, 'bandwidth_log_mean_c2c_nn_dist': 0.010781808781713802, 'bandwidth_slope': 0.1}, 14.951, 1.3749, 0.3374, 1.4157, 1.0000, 10.5613, 1.0000, 591.65149969394, 3204883.8745, \n",
      " 94%|▉| 94/100 [80:50:47<5:21:31, 3215.20s/trial, best los"
     ]
    },
    {
     "name": "stderr",
     "output_type": "stream",
     "text": [
      "[Stage 1339:===================================================>(117 + 1) / 118]\r"
     ]
    },
    {
     "name": "stdout",
     "output_type": "stream",
     "text": [
      "{'bandwidth_log_ad': 0.10887192742521631, 'bandwidth_log_mean_c2c_nn_dist': 0.01209478162951825, 'bandwidth_slope': 0.1}, 14.968, 1.3746, 0.3372, 1.4153, 1.0000, 10.5756, 1.0000, 590.4199143032034, 3508377.2881, \n",
      " 95%|▉| 95/100 [81:51:43<4:38:56, 3347.25s/trial, best los"
     ]
    },
    {
     "name": "stderr",
     "output_type": "stream",
     "text": [
      "[Stage 1353:===================================================>(146 + 1) / 147]\r"
     ]
    },
    {
     "name": "stdout",
     "output_type": "stream",
     "text": [
      "{'bandwidth_log_ad': 0.14975914675362692, 'bandwidth_log_mean_c2c_nn_dist': 0.017906017620450507, 'bandwidth_slope': 0.1}, 15.262, 1.3786, 0.3332, 1.4182, 1.0000, 10.7613, 1.0000, 646.9889818404407, 5870368.3381, \n",
      " 96%|▉| 96/100 [83:16:25<4:17:50, 3867.73s/trial, best los"
     ]
    },
    {
     "name": "stderr",
     "output_type": "stream",
     "text": [
      "[Stage 1367:===================================================>(102 + 2) / 104]\r"
     ]
    },
    {
     "name": "stdout",
     "output_type": "stream",
     "text": [
      "{'bandwidth_log_ad': 0.13647093526980336, 'bandwidth_log_mean_c2c_nn_dist': 0.006513609398309092, 'bandwidth_slope': 0.1}, 14.680, 1.3755, 0.3387, 1.4166, 1.0000, 10.3634, 1.0000, 594.7123036115079, 2076707.9208, \n",
      " 97%|▉| 97/100 [84:08:58<3:02:39, 3653.26s/trial, best los"
     ]
    },
    {
     "name": "stderr",
     "output_type": "stream",
     "text": [
      "[Stage 1381:===================================================>(127 + 1) / 128]\r"
     ]
    },
    {
     "name": "stdout",
     "output_type": "stream",
     "text": [
      "{'bandwidth_log_ad': 0.12479438262642509, 'bandwidth_log_mean_c2c_nn_dist': 0.013368955257382648, 'bandwidth_slope': 0.1}, 15.109, 1.3763, 0.3358, 1.4166, 1.0000, 10.6654, 1.0000, 612.0740665170373, 4102669.4338, \n",
      " 98%|▉| 98/100 [85:16:56<2:06:01, 3780.64s/trial, best los"
     ]
    },
    {
     "name": "stderr",
     "output_type": "stream",
     "text": [
      "[Stage 1395:===================================================>(103 + 2) / 105]\r"
     ]
    },
    {
     "name": "stdout",
     "output_type": "stream",
     "text": [
      "{'bandwidth_log_ad': 0.12948053557376377, 'bandwidth_log_mean_c2c_nn_dist': 0.007280090142058937, 'bandwidth_slope': 0.1}, 14.762, 1.3753, 0.3385, 1.4163, 1.0000, 10.4226, 1.0000, 591.4690879412365, 2274276.1947, \n",
      " 99%|▉| 99/100 [86:09:23<59:50, 3590.70s/trial, best loss:"
     ]
    },
    {
     "name": "stderr",
     "output_type": "stream",
     "text": [
      "[Stage 1409:=====================================================>(68 + 1) / 69]\r"
     ]
    },
    {
     "name": "stdout",
     "output_type": "stream",
     "text": [
      "{'bandwidth_log_ad': 0.08399743575303709, 'bandwidth_log_mean_c2c_nn_dist': 0.0047082212495189076, 'bandwidth_slope': 0.1}, 121777.152, 1.3686, 0.3446, 1.4113, 9201.0000, 9.3779, 1.0000, 514.0748826770047, 1216214.0837, \n",
      "100%|█| 100/100 [86:56:27<00:00, 3129.88s/trial, best loss\n"
     ]
    },
    {
     "name": "stderr",
     "output_type": "stream",
     "text": [
      "23/12/03 11:11:30 WARN JavaUtils: Attempt to delete using native Unix OS command failed for path = /tmp/blockmgr-7d5212aa-ac3e-45b0-8ac4-d6d667929773. Falling back to Java IO way\n",
      "java.io.IOException: Failed to delete: /tmp/blockmgr-7d5212aa-ac3e-45b0-8ac4-d6d667929773\n",
      "\tat org.apache.spark.network.util.JavaUtils.deleteRecursivelyUsingUnixNative(JavaUtils.java:177)\n",
      "\tat org.apache.spark.network.util.JavaUtils.deleteRecursively(JavaUtils.java:113)\n",
      "\tat org.apache.spark.network.util.JavaUtils.deleteRecursively(JavaUtils.java:94)\n",
      "\tat org.apache.spark.util.Utils$.deleteRecursively(Utils.scala:1231)\n",
      "\tat org.apache.spark.storage.DiskBlockManager.$anonfun$doStop$1(DiskBlockManager.scala:368)\n",
      "\tat org.apache.spark.storage.DiskBlockManager.$anonfun$doStop$1$adapted(DiskBlockManager.scala:364)\n",
      "\tat scala.collection.IndexedSeqOptimized.foreach(IndexedSeqOptimized.scala:36)\n",
      "\tat scala.collection.IndexedSeqOptimized.foreach$(IndexedSeqOptimized.scala:33)\n",
      "\tat scala.collection.mutable.ArrayOps$ofRef.foreach(ArrayOps.scala:198)\n",
      "\tat org.apache.spark.storage.DiskBlockManager.doStop(DiskBlockManager.scala:364)\n",
      "\tat org.apache.spark.storage.DiskBlockManager.stop(DiskBlockManager.scala:359)\n",
      "\tat org.apache.spark.storage.BlockManager.stop(BlockManager.scala:2052)\n",
      "\tat org.apache.spark.SparkEnv.stop(SparkEnv.scala:95)\n",
      "\tat org.apache.spark.SparkContext.$anonfun$stop$25(SparkContext.scala:2175)\n",
      "\tat org.apache.spark.util.Utils$.tryLogNonFatalError(Utils.scala:1509)\n",
      "\tat org.apache.spark.SparkContext.stop(SparkContext.scala:2175)\n",
      "\tat org.apache.spark.SparkContext.stop(SparkContext.scala:2081)\n",
      "\tat org.apache.spark.SparkContext.$anonfun$new$31(SparkContext.scala:664)\n",
      "\tat org.apache.spark.util.SparkShutdownHook.run(ShutdownHookManager.scala:214)\n",
      "\tat org.apache.spark.util.SparkShutdownHookManager.$anonfun$runAll$2(ShutdownHookManager.scala:188)\n",
      "\tat scala.runtime.java8.JFunction0$mcV$sp.apply(JFunction0$mcV$sp.java:23)\n",
      "\tat org.apache.spark.util.Utils$.logUncaughtExceptions(Utils.scala:2088)\n",
      "\tat org.apache.spark.util.SparkShutdownHookManager.$anonfun$runAll$1(ShutdownHookManager.scala:188)\n",
      "\tat scala.runtime.java8.JFunction0$mcV$sp.apply(JFunction0$mcV$sp.java:23)\n",
      "\tat scala.util.Try$.apply(Try.scala:213)\n",
      "\tat org.apache.spark.util.SparkShutdownHookManager.runAll(ShutdownHookManager.scala:188)\n",
      "\tat org.apache.spark.util.SparkShutdownHookManager$$anon$2.run(ShutdownHookManager.scala:178)\n",
      "\tat java.base/java.util.concurrent.Executors$RunnableAdapter.call(Executors.java:577)\n",
      "\tat java.base/java.util.concurrent.FutureTask.run(FutureTask.java:317)\n",
      "\tat java.base/java.util.concurrent.ThreadPoolExecutor.runWorker(ThreadPoolExecutor.java:1144)\n",
      "\tat java.base/java.util.concurrent.ThreadPoolExecutor$Worker.run(ThreadPoolExecutor.java:642)\n",
      "\tat java.base/java.lang.Thread.run(Thread.java:1589)\n",
      "23/12/03 11:11:30 WARN JavaUtils: Attempt to delete using native Unix OS command failed for path = /tmp/blockmgr-7d5212aa-ac3e-45b0-8ac4-d6d667929773/30. Falling back to Java IO way\n",
      "java.io.IOException: Failed to delete: /tmp/blockmgr-7d5212aa-ac3e-45b0-8ac4-d6d667929773/30\n",
      "\tat org.apache.spark.network.util.JavaUtils.deleteRecursivelyUsingUnixNative(JavaUtils.java:177)\n",
      "\tat org.apache.spark.network.util.JavaUtils.deleteRecursively(JavaUtils.java:113)\n",
      "\tat org.apache.spark.network.util.JavaUtils.deleteRecursivelyUsingJavaIO(JavaUtils.java:133)\n",
      "\tat org.apache.spark.network.util.JavaUtils.deleteRecursively(JavaUtils.java:121)\n",
      "\tat org.apache.spark.network.util.JavaUtils.deleteRecursively(JavaUtils.java:94)\n",
      "\tat org.apache.spark.util.Utils$.deleteRecursively(Utils.scala:1231)\n",
      "\tat org.apache.spark.storage.DiskBlockManager.$anonfun$doStop$1(DiskBlockManager.scala:368)\n",
      "\tat org.apache.spark.storage.DiskBlockManager.$anonfun$doStop$1$adapted(DiskBlockManager.scala:364)\n",
      "\tat scala.collection.IndexedSeqOptimized.foreach(IndexedSeqOptimized.scala:36)\n",
      "\tat scala.collection.IndexedSeqOptimized.foreach$(IndexedSeqOptimized.scala:33)\n",
      "\tat scala.collection.mutable.ArrayOps$ofRef.foreach(ArrayOps.scala:198)\n",
      "\tat org.apache.spark.storage.DiskBlockManager.doStop(DiskBlockManager.scala:364)\n",
      "\tat org.apache.spark.storage.DiskBlockManager.stop(DiskBlockManager.scala:359)\n",
      "\tat org.apache.spark.storage.BlockManager.stop(BlockManager.scala:2052)\n",
      "\tat org.apache.spark.SparkEnv.stop(SparkEnv.scala:95)\n",
      "\tat org.apache.spark.SparkContext.$anonfun$stop$25(SparkContext.scala:2175)\n",
      "\tat org.apache.spark.util.Utils$.tryLogNonFatalError(Utils.scala:1509)\n",
      "\tat org.apache.spark.SparkContext.stop(SparkContext.scala:2175)\n",
      "\tat org.apache.spark.SparkContext.stop(SparkContext.scala:2081)\n",
      "\tat org.apache.spark.SparkContext.$anonfun$new$31(SparkContext.scala:664)\n",
      "\tat org.apache.spark.util.SparkShutdownHook.run(ShutdownHookManager.scala:214)\n",
      "\tat org.apache.spark.util.SparkShutdownHookManager.$anonfun$runAll$2(ShutdownHookManager.scala:188)\n",
      "\tat scala.runtime.java8.JFunction0$mcV$sp.apply(JFunction0$mcV$sp.java:23)\n",
      "\tat org.apache.spark.util.Utils$.logUncaughtExceptions(Utils.scala:2088)\n",
      "\tat org.apache.spark.util.SparkShutdownHookManager.$anonfun$runAll$1(ShutdownHookManager.scala:188)\n",
      "\tat scala.runtime.java8.JFunction0$mcV$sp.apply(JFunction0$mcV$sp.java:23)\n",
      "\tat scala.util.Try$.apply(Try.scala:213)\n",
      "\tat org.apache.spark.util.SparkShutdownHookManager.runAll(ShutdownHookManager.scala:188)\n",
      "\tat org.apache.spark.util.SparkShutdownHookManager$$anon$2.run(ShutdownHookManager.scala:178)\n",
      "\tat java.base/java.util.concurrent.Executors$RunnableAdapter.call(Executors.java:577)\n",
      "\tat java.base/java.util.concurrent.FutureTask.run(FutureTask.java:317)\n",
      "\tat java.base/java.util.concurrent.ThreadPoolExecutor.runWorker(ThreadPoolExecutor.java:1144)\n",
      "\tat java.base/java.util.concurrent.ThreadPoolExecutor$Worker.run(ThreadPoolExecutor.java:642)\n",
      "\tat java.base/java.lang.Thread.run(Thread.java:1589)\n"
     ]
    }
   ],
   "source": [
    "n_samples = 5000\n",
    "n_obs_total = 2754157738\n",
    "data_sample_fraction = 0.25\n",
    "test_sample_fraction = n_samples / n_obs_total\n",
    "target = \"n_craters_added_in_study_region\"\n",
    "predictor_variables = [\n",
    "    \"slope\",\n",
    "    \"log_mean_c2c_nn_dist\",\n",
    "    \"log_ad\"\n",
    "]\n",
    "\n",
    "data_sample, test_sample = setup_datasets_for_optimization(data, configs_df, predictor_variables, target, data_sample_fraction, test_sample_fraction, spark, cache_data=False, cache_sample=True)\n",
    "\n",
    "trials = Trials()\n",
    "space = {\n",
    "    # \"bandwidth_slope\": hp.uniform(\"bandwidth_slope\", 0.1499, 0.15),\n",
    "    \"bandwidth_slope\": hp.choice(\"bandwidth_slope\", [0.1]),\n",
    "    \"bandwidth_log_mean_c2c_nn_dist\": hp.uniform(\"bandwidth_log_mean_c2c_nn_dist\", 0.0005, 0.02),\n",
    "    \"bandwidth_log_ad\": hp.uniform(\"bandwidth_log_ad\", 0.001, 0.15),\n",
    "}\n",
    "\n",
    "best = fmin(create_objective_function(data_sample, test_sample, predictor_variables, spark),\n",
    "            space=space,\n",
    "            algo=tpe.suggest,\n",
    "            max_evals=100)"
   ]
  },
  {
   "cell_type": "code",
   "execution_count": null,
   "id": "17aa8d81-c652-40b5-b562-b9b1cfda9ae7",
   "metadata": {},
   "outputs": [],
   "source": [
    "\"\"\"\n",
    "{'bandwidth_log_ad': 0.09573505726230133, 'bandwidth_log_mean_c2c_nn_dist': 0.005269400944514953, 'bandwidth_slope': 0.1}, 13.831, 1.3711, 0.3422, 1.4131, 1.0000, 9.7880, 1.0000, 538.0983472760661, 1448353.3440, \n",
    "\n",
    "n_samples = 5000\n",
    "n_obs_total = 2754157738\n",
    "data_sample_fraction = 0.25\n",
    "test_sample_fraction = n_samples / n_obs_total\n",
    "target = \"n_craters_added_in_study_region\"\n",
    "predictor_variables = [\n",
    "    \"slope\",\n",
    "    \"log_mean_c2c_nn_dist\",\n",
    "    \"log_ad\"\n",
    "]\n",
    "\n",
    "data_sample, test_sample = setup_datasets_for_optimization(data, configs_df, predictor_variables, target, data_sample_fraction, test_sample_fraction, spark, cache_data=False, cache_sample=True)\n",
    "\n",
    "trials = Trials()\n",
    "space = {\n",
    "    # \"bandwidth_slope\": hp.uniform(\"bandwidth_slope\", 0.1499, 0.15),\n",
    "    \"bandwidth_slope\": hp.choice(\"bandwidth_slope\", [0.1]),\n",
    "    \"bandwidth_log_mean_c2c_nn_dist\": hp.uniform(\"bandwidth_log_mean_c2c_nn_dist\", 0.0005, 0.02),\n",
    "    \"bandwidth_log_ad\": hp.uniform(\"bandwidth_log_ad\", 0.001, 0.15),\n",
    "}\n",
    "\n",
    "best = fmin(create_objective_function(data_sample, test_sample, predictor_variables, spark),\n",
    "            space=space,\n",
    "            algo=tpe.suggest,\n",
    "            max_evals=100)\n",
    "\"\"\""
   ]
  },
  {
   "cell_type": "code",
   "execution_count": null,
   "id": "2d1b5d0f-7d70-493e-ad3c-3e22668624db",
   "metadata": {},
   "outputs": [],
   "source": [
    "\"\"\"\n",
    "{'bandwidth_log_ad': 0.03499639653600532, 'bandwidth_log_mean_c2c_nn_dist': 0.009940201998102223, 'bandwidth_slope': 0.1}, 1.396, 1.3507, 0.3539, 1.3962, 1.0000, 1.0000, 431.40763052208837, 615367.3594, \n",
    "\n",
    "n_samples = 1000\n",
    "n_obs_total = 2754157738\n",
    "data_sample_fraction = 0.1\n",
    "test_sample_fraction = n_samples / n_obs_total\n",
    "target = \"n_craters_added_in_study_region\"\n",
    "predictor_variables = [\n",
    "    \"slope\",\n",
    "    \"log_mean_c2c_nn_dist\",\n",
    "    \"log_ad\"\n",
    "]\n",
    "\n",
    "data_sample, test_sample = setup_datasets_for_optimization(data, configs_df, predictor_variables, target, data_sample_fraction, test_sample_fraction, spark, cache_data=True)\n",
    "\n",
    "trials = Trials()\n",
    "space = {\n",
    "    # \"bandwidth_slope\": hp.uniform(\"bandwidth_slope\", 0.1499, 0.15),\n",
    "    \"bandwidth_slope\": hp.choice(\"bandwidth_slope\", [0.1]),\n",
    "    \"bandwidth_log_mean_c2c_nn_dist\": hp.uniform(\"bandwidth_log_mean_c2c_nn_dist\", 0.0005, 0.01),\n",
    "    \"bandwidth_log_ad\": hp.uniform(\"bandwidth_log_ad\", 0.025, 0.2),\n",
    "}\n",
    "\n",
    "best = fmin(create_objective_function(data_sample, test_sample, predictor_variables, spark),\n",
    "            space=space,\n",
    "            algo=tpe.suggest,\n",
    "            max_evals=100)\n",
    "\"\"\""
   ]
  },
  {
   "cell_type": "code",
   "execution_count": null,
   "id": "c7e2da22-fe76-4ebd-b1ff-830ec7e5e696",
   "metadata": {},
   "outputs": [],
   "source": [
    "\"\"\"\n",
    "{'bandwidth_log_ad': 0.05003817530737366, 'bandwidth_log_mean_c2c_nn_dist': 0.019032186174695872, 'bandwidth_slope': 0.15}, 1.405, 0.3343, 1.4049, 1.0000, 1.0000, 753.8094758064516    \n",
    "\n",
    "n_samples = 1000\n",
    "n_obs_total = 2754157738\n",
    "data_sample_fraction = 0.1\n",
    "test_sample_fraction = n_samples / n_obs_total\n",
    "target = \"n_craters_added_in_study_region\"\n",
    "predictor_variables = [\n",
    "    \"slope\",\n",
    "    \"log_mean_c2c_nn_dist\",\n",
    "    \"log_ad\"\n",
    "]\n",
    "\n",
    "data_sample, test_sample = setup_datasets_for_optimization(data, configs_df, predictor_variables, target, data_sample_fraction, test_sample_fraction, spark, cache_data=True)\n",
    "\n",
    "trials = Trials()\n",
    "space = {\n",
    "    # \"bandwidth_slope\": hp.uniform(\"bandwidth_slope\", 0.1499, 0.15),\n",
    "    \"bandwidth_slope\": hp.choice(\"bandwidth_slope\", [0.15]),\n",
    "    \"bandwidth_log_mean_c2c_nn_dist\": hp.uniform(\"bandwidth_log_mean_c2c_nn_dist\", 0.005, 0.1),\n",
    "    \"bandwidth_log_ad\": hp.uniform(\"bandwidth_log_ad\", 0.05, 0.3),\n",
    "}\n",
    "\n",
    "best = fmin(create_objective_function(data_sample, test_sample, predictor_variables, spark),\n",
    "            space=space,\n",
    "            algo=tpe.suggest,\n",
    "            max_evals=100)\n",
    "\"\"\""
   ]
  },
  {
   "cell_type": "code",
   "execution_count": null,
   "id": "50127c47-e5da-451b-8a06-a40bea7eabba",
   "metadata": {},
   "outputs": [],
   "source": [
    "\"\"\"\n",
    "Best configuration with settings:\n",
    "n_samples = 1000\n",
    "n_obs_total = 2754157738\n",
    "data_sample_fraction = 0.05\n",
    "test_sample_fraction = n_samples / n_obs_total\n",
    "target = \"n_craters_added_in_study_region\"\n",
    "predictor_variables = [\n",
    "    \"slope\",\n",
    "    \"log_mean_c2c_nn_dist\",\n",
    "    \"log_ad\"\n",
    "]\n",
    "\n",
    "data_sample, test_sample = setup_datasets_for_optimization(data, configs_df, predictor_variables, target, data_sample_fraction, test_sample_fraction, spark)\n",
    "\n",
    "trials = Trials()\n",
    "space = {\n",
    "    \"bandwidth_slope\": hp.uniform(\"bandwidth_slope\", 0.05, 0.2),\n",
    "    \"bandwidth_log_mean_c2c_nn_dist\": hp.uniform(\"bandwidth_log_mean_c2c_nn_dist\", 0.05, 0.15),\n",
    "    \"bandwidth_log_ad\": hp.uniform(\"bandwidth_log_ad\", 0.05, 0.3),\n",
    "}\n",
    "\n",
    "{'bandwidth_log_ad': 0.07543308379510501, 'bandwidth_log_mean_c2c_nn_dist': 0.07542596980056125, 'bandwidth_slope': 0.051337832245347034}, 1.426, 0.3178, 1.4260, 1.0000, 1.0000, 384.2230695900858   \n",
    "\"\"\""
   ]
  },
  {
   "cell_type": "code",
   "execution_count": null,
   "id": "9005de13-674f-45e6-8cb7-c9c1e254bd14",
   "metadata": {},
   "outputs": [],
   "source": []
  },
  {
   "cell_type": "code",
   "execution_count": null,
   "id": "1c1843ee-be77-4477-8385-95bf22821802",
   "metadata": {},
   "outputs": [],
   "source": []
  },
  {
   "cell_type": "code",
   "execution_count": null,
   "id": "435045a2-243c-4b85-a58a-1b5db044b59f",
   "metadata": {},
   "outputs": [],
   "source": []
  },
  {
   "cell_type": "code",
   "execution_count": null,
   "id": "785ed420-bfd2-43c7-b7e7-538860cc2a53",
   "metadata": {},
   "outputs": [],
   "source": []
  },
  {
   "cell_type": "code",
   "execution_count": null,
   "id": "0c09593d-80bf-436c-a10d-1c0f3b757731",
   "metadata": {},
   "outputs": [],
   "source": []
  },
  {
   "cell_type": "code",
   "execution_count": null,
   "id": "4ec135b0-fc0f-4fc3-b369-62a435437570",
   "metadata": {},
   "outputs": [],
   "source": [
    "# Pulled apart for debugging\n",
    "\n",
    "# observations = test_sample\n",
    "\n",
    "# min_obs = 300\n",
    "\n",
    "# # args = {\n",
    "# #     \"bandwidth_slope\": 0.1,\n",
    "# #     \"bandwidth_log_mean_c2c_nn_dist\": 0.1,\n",
    "# #     \"bandwidth_log_ad\": 0.1\n",
    "# # }\n",
    "\n",
    "# # bandwidths_data = [[args[f\"bandwidth_{x}\"] for x in predictor_variables]]\n",
    "# # bandwidths = pd.DataFrame(bandwidths_data, columns=predictor_variables)\n",
    "\n",
    "# # result = get_confidence_intervals(data_sample, observations, predictor_variables, bandwidths, spark)\n",
    "\n",
    "# ci_high = result.percentiles.map(lambda x: x[-1])\n",
    "# ci_low = result.percentiles.map(lambda x: x[0])\n",
    "# orders_of_magnitude = np.log10(ci_high / ci_low).mean()\n",
    "# orders_of_magnitude_stdev = np.log10(ci_high / ci_low).std()\n",
    "\n",
    "# percent_inside_ci = ((result.target >= ci_low) & (result.target <= ci_high)).mean()\n",
    "\n",
    "# # Penalize if more or less than 5% are outside of the CI\n",
    "# deviance_from_95 = np.abs(0.95 - percent_inside_ci)\n",
    "# deviance_loss_multiplier = 1.0 if deviance_from_95 < 0.02 else 1 + deviance_from_95 * 10.0\n",
    "\n",
    "# # Penalize for the fraction with too few observations\n",
    "# too_few = result.n_obs[result.n_obs < min_obs]\n",
    "# n_obs_loss_multiplier = 1 + too_few.mean() * 100 if too_few.shape[0] > 0 else 1.0\n",
    "\n",
    "# loss = orders_of_magnitude * deviance_loss_multiplier * n_obs_loss_multiplier\n",
    "\n",
    "# print(f\"{args}, {loss:.3f}, {orders_of_magnitude_stdev:.4f}\")\n",
    "\n",
    "# {\n",
    "#     \"loss\": loss,\n",
    "#     \"orders_of_magnitude\": orders_of_magnitude,\n",
    "#     \"n_obs_loss_multiplier\": n_obs_loss_multiplier,\n",
    "#     \"deviance_loss_multiplier\": deviance_loss_multiplier,\n",
    "#     \"status\": STATUS_OK\n",
    "# }"
   ]
  },
  {
   "cell_type": "code",
   "execution_count": null,
   "id": "802457ca-fff1-4ecf-b452-4933b4908b2a",
   "metadata": {},
   "outputs": [],
   "source": [
    "result.n_obs[result.n_obs < 300].shape"
   ]
  },
  {
   "cell_type": "code",
   "execution_count": null,
   "id": "36401089-3022-4186-8ba6-54f1162d38d6",
   "metadata": {},
   "outputs": [],
   "source": []
  },
  {
   "cell_type": "code",
   "execution_count": null,
   "id": "bff849cd-77a0-4282-8e57-c1fe07d7862d",
   "metadata": {},
   "outputs": [],
   "source": []
  },
  {
   "cell_type": "code",
   "execution_count": null,
   "id": "f93480df-af1d-45f6-821c-183db5c2f74c",
   "metadata": {},
   "outputs": [],
   "source": []
  },
  {
   "cell_type": "code",
   "execution_count": null,
   "id": "4a6c6d2d-5f28-4d37-8b5d-5a1eff1a54ef",
   "metadata": {},
   "outputs": [],
   "source": []
  },
  {
   "cell_type": "code",
   "execution_count": null,
   "id": "4517529a-085d-4f26-bebf-86d4d84f7776",
   "metadata": {},
   "outputs": [],
   "source": [
    "# Using only slope\n",
    "n_samples = 1000\n",
    "n_obs_total = 2754157738\n",
    "data_sample_fraction = 0.01\n",
    "test_sample_fraction = n_samples / n_obs_total\n",
    "target = \"n_craters_added_in_study_region\"\n",
    "predictor_variables = [\"slope\"]\n",
    "\n",
    "data_sample, test_sample = setup_datasets(data, configs_df, predictor_variables, target, data_sample_fraction, test_sample_fraction, spark)\n",
    "\n",
    "# 0.007, 0.011, 0.019, 1.247, 0.4383\n",
    "# 0.055, 0.004, 0.009, 1.268, 0.4417  \n",
    "\n",
    "\n",
    "trials = Trials()\n",
    "space = {\n",
    "    \"bandwidth_slope\": hp.uniform(\"bandwidth_slope\", 0.001, 0.1),\n",
    "}\n",
    "\n",
    "best = fmin(create_objective_function(data_sample, test_sample, predictor_variables, spark),\n",
    "            space=space,\n",
    "            algo=tpe.suggest,\n",
    "            max_evals=30)"
   ]
  },
  {
   "cell_type": "code",
   "execution_count": null,
   "id": "2f0efb2a-d06c-4f77-987c-e86a0a5e50c9",
   "metadata": {},
   "outputs": [],
   "source": [
    "# Using only areal density\n",
    "n_samples = 1000\n",
    "n_obs_total = 2754157738\n",
    "data_sample_fraction = 0.01\n",
    "test_sample_fraction = n_samples / n_obs_total\n",
    "target = \"n_craters_added_in_study_region\"\n",
    "predictor_variables = [\"areal_density\"]\n",
    "\n",
    "data_sample, test_sample = setup_datasets(data, configs_df, predictor_variables, target, data_sample_fraction, test_sample_fraction, spark)\n",
    "\n",
    "# 0.007, 0.011, 0.019, 1.247, 0.4383\n",
    "# 0.055, 0.004, 0.009, 1.268, 0.4417  \n",
    "\n",
    "\n",
    "trials = Trials()\n",
    "space = {\n",
    "    \"bandwidth_areal_density\": hp.uniform(\"bandwidth_areal_density\", 0.001, 0.05),\n",
    "}\n",
    "\n",
    "best = fmin(create_objective_function(data_sample, test_sample, predictor_variables, spark),\n",
    "            space=space,\n",
    "            algo=tpe.suggest,\n",
    "            max_evals=30)"
   ]
  },
  {
   "cell_type": "code",
   "execution_count": null,
   "id": "751a2048-4162-41e4-aaf5-954c590e95e0",
   "metadata": {},
   "outputs": [],
   "source": [
    "# Using areal density\n",
    "n_samples = 1000\n",
    "n_obs_total = 2754157738\n",
    "data_sample_fraction = 0.01\n",
    "test_sample_fraction = n_samples / n_obs_total\n",
    "target = \"n_craters_added_in_study_region\"\n",
    "predictor_variables = [\"slope\", \"areal_density\"]\n",
    "\n",
    "data_sample, test_sample = setup_datasets(data, configs_df, predictor_variables, target, data_sample_fraction, test_sample_fraction, spark)\n",
    "\n",
    "# 0.007, 0.011, 0.019, 1.247, 0.4383\n",
    "# 0.055, 0.004, 0.009, 1.268, 0.4417  \n",
    "\n",
    "\n",
    "trials = Trials()\n",
    "space = {\n",
    "    \"bandwidth_slope\": hp.uniform(\"bandwidth_slope\", 0.001, 0.1),\n",
    "    \"bandwidth_areal_density\": hp.uniform(\"bandwidth_areal_density\", 0.001, 0.05),\n",
    "}\n",
    "\n",
    "best = fmin(create_objective_function(data_sample, test_sample, predictor_variables, spark),\n",
    "            space=space,\n",
    "            algo=tpe.suggest,\n",
    "            max_evals=30)"
   ]
  },
  {
   "cell_type": "code",
   "execution_count": null,
   "id": "7c209dc4-30d8-4f15-92cf-83d198f8dbdb",
   "metadata": {},
   "outputs": [],
   "source": [
    "# Using just c2c\n",
    "n_samples = 1000\n",
    "n_obs_total = 2754157738\n",
    "data_sample_fraction = 0.01\n",
    "test_sample_fraction = n_samples / n_obs_total\n",
    "target = \"n_craters_added_in_study_region\"\n",
    "predictor_variables = [\"log_mean_c2c_nn_dist\"]\n",
    "\n",
    "data_sample, test_sample = setup_datasets(data, configs_df, predictor_variables, target, data_sample_fraction, test_sample_fraction, spark)\n",
    "\n",
    "# 0.007, 0.011, 0.019, 1.247, 0.4383\n",
    "# 0.055, 0.004, 0.009, 1.268, 0.4417  \n",
    "\n",
    "\n",
    "trials = Trials()\n",
    "space = {\n",
    "    \"bandwidth_log_mean_c2c_nn_dist\": hp.uniform(\"bandwith_log_mean_c2c_nn_dist\", 0.000001, 0.05),\n",
    "}\n",
    "\n",
    "best = fmin(create_objective_function(data_sample, test_sample, predictor_variables, spark),\n",
    "            space=space,\n",
    "            algo=tpe.suggest,\n",
    "            max_evals=30)"
   ]
  },
  {
   "cell_type": "code",
   "execution_count": null,
   "id": "6134b289-0d58-4ac9-a296-25f8fa4cb1a2",
   "metadata": {},
   "outputs": [],
   "source": []
  },
  {
   "cell_type": "code",
   "execution_count": null,
   "id": "cfc05f1e-8352-4181-91a2-72a9f2b9bf71",
   "metadata": {},
   "outputs": [],
   "source": []
  },
  {
   "cell_type": "code",
   "execution_count": null,
   "id": "823ede73-b493-41b4-9d3f-6a8342ecfeb9",
   "metadata": {},
   "outputs": [],
   "source": []
  },
  {
   "cell_type": "code",
   "execution_count": null,
   "id": "4a9fb4f2-9695-4ad5-94b7-694d46b62711",
   "metadata": {},
   "outputs": [],
   "source": [
    "# Using all three w/areal density\n",
    "# best: {'bandwidth_areal_density': 0.01698628794548847, 'bandwidth_log_mean_c2c_nn_dist': 0.017780010374043788, 'bandwidth_slope': 0.006946936017484633}, 1.324, 0.3964   \n",
    "\n",
    "n_samples = 1000\n",
    "n_obs_total = 2754157738\n",
    "data_sample_fraction = 0.01\n",
    "test_sample_fraction = n_samples / n_obs_total\n",
    "target = \"n_craters_added_in_study_region\"\n",
    "predictor_variables = [\"slope\", \"log_mean_c2c_nn_dist\", \"areal_density\"]\n",
    "\n",
    "data_sample, test_sample = setup_datasets(data, configs_df, predictor_variables, target, data_sample_fraction, test_sample_fraction, spark)\n",
    "\n",
    "# 0.007, 0.011, 0.019, 1.247, 0.4383\n",
    "# 0.055, 0.004, 0.009, 1.268, 0.4417  \n",
    "\n",
    "\n",
    "trials = Trials()\n",
    "space = {\n",
    "    \"bandwidth_slope\": hp.uniform(\"bandwidth_slope\", 0.001, 0.1),\n",
    "    \"bandwidth_log_mean_c2c_nn_dist\": hp.uniform(\"bandwith_log_mean_c2c_nn_dist\", 0.000001, 0.05),\n",
    "    \"bandwidth_areal_density\": hp.uniform(\"bandwidth_areal_density\", 0.001, 0.05),\n",
    "}\n",
    "\n",
    "best = fmin(create_objective_function(data_sample, test_sample, predictor_variables, spark),\n",
    "            space=space,\n",
    "            algo=tpe.suggest,\n",
    "            max_evals=500)"
   ]
  },
  {
   "cell_type": "code",
   "execution_count": null,
   "id": "d83bbca3-b0c1-42e6-bd69-de79a1c195cf",
   "metadata": {},
   "outputs": [],
   "source": []
  },
  {
   "cell_type": "code",
   "execution_count": null,
   "id": "bc444205-8f5f-4d5a-bbaf-b264960f7e2d",
   "metadata": {},
   "outputs": [],
   "source": []
  },
  {
   "cell_type": "code",
   "execution_count": null,
   "id": "1639715d-9c78-44db-bb4e-96324d1a56bc",
   "metadata": {},
   "outputs": [],
   "source": []
  },
  {
   "cell_type": "code",
   "execution_count": null,
   "id": "653e0151-5439-48b2-9cae-9a47780f1daa",
   "metadata": {},
   "outputs": [],
   "source": [
    "# DSP\n",
    "data_sample_fraction = 0.1\n",
    "n_steps = 5\n",
    "target = \"n_craters_added_in_study_region\"\n",
    "\n",
    "observation = {\n",
    "    \"slope\": 2.66,\n",
    "    \"log_mean_c2c_nn_dist\": 0.6685316230432883,\n",
    "    \"log_intensity\": -3.71673468421674\n",
    "    # \"areal_density\": 0.13\n",
    "}\n",
    "\n",
    "steps = {\n",
    "    \"slope\": 0.1,\n",
    "    \"log_mean_c2c_nn_dist\": 0.1,\n",
    "    \"log_intensity\": 1.0\n",
    "    # \"areal_density\": 0.01\n",
    "}\n",
    "\n",
    "bandwidths = {\n",
    "    \"slope\": 0.2,\n",
    "    \"log_mean_c2c_nn_dist\": 0.1,\n",
    "    \"log_intensity\": 1.0\n",
    "    # \"areal_density\": 0.1\n",
    "}\n",
    "\n",
    "predictor_variables = list(observation.keys())\n",
    "\n",
    "data_and_configs = setup_dataset(data, configs_df, predictor_variables, target, spark)\n",
    "data_and_configs = data_and_configs.sample(data_sample_fraction)\n",
    "data_and_configs.createOrReplaceTempView(\"data\")\n",
    "\n",
    "# Construct the observations grid\n",
    "observations_df = pd.DataFrame(\n",
    "    map(dict, itertools.product(*[[(k, observation[k] + x * v) for x in range(-n_steps, n_steps + 1)]  for k, v in observation.items()]))\n",
    ")\n",
    "observations_df = spark.createDataFrame(observations_df).cache()\n",
    "observations_df.count()\n",
    "observations_df.createOrReplaceTempView(\"observations\")\n",
    "\n",
    "bandwidths_df = pd.DataFrame([bandwidths])\n",
    "\n",
    "result = get_confidence_intervals(data_and_configs, observations_df, predictor_variables, bandwidths_df, spark)\n",
    "result"
   ]
  },
  {
   "cell_type": "code",
   "execution_count": null,
   "id": "e8704144-3f29-42dd-87a7-79279b04124f",
   "metadata": {},
   "outputs": [],
   "source": []
  },
  {
   "cell_type": "code",
   "execution_count": null,
   "id": "59787813-c1b3-4707-986d-a2d83925c043",
   "metadata": {},
   "outputs": [],
   "source": [
    "# DEE\n",
    "data_sample_fraction = 1.0\n",
    "n_steps = 5\n",
    "target = \"n_craters_added_in_study_region\"\n",
    "\n",
    "observation = {\n",
    "    \"slope\": 2.10,\n",
    "    \"log_mean_c2c_nn_dist\": 0.8136,\n",
    "    \"log_intensity\": -4.402922308048596\n",
    "    # \"areal_density\": 0.13\n",
    "}\n",
    "\n",
    "steps = {\n",
    "    \"slope\": 0.1,\n",
    "    \"log_mean_c2c_nn_dist\": 0.1,\n",
    "    \"log_intensity\": 1.0\n",
    "    # \"areal_density\": 0.01\n",
    "}\n",
    "\n",
    "bandwidths = {\n",
    "    \"slope\": 0.1,\n",
    "    \"log_mean_c2c_nn_dist\": 0.1,\n",
    "    \"log_intensity\": 1.0\n",
    "    # \"areal_density\": 0.1\n",
    "}\n",
    "\n",
    "predictor_variables = list(observation.keys())\n",
    "\n",
    "data_and_configs = setup_dataset(data, configs_df, predictor_variables, target, spark)\n",
    "data_and_configs = data_and_configs.sample(data_sample_fraction)\n",
    "data_and_configs.createOrReplaceTempView(\"data\")\n",
    "\n",
    "# Construct the observations grid\n",
    "observations_df = pd.DataFrame(\n",
    "    map(dict, itertools.product(*[[(k, observation[k] + x * v) for x in range(-n_steps, n_steps + 1)]  for k, v in observation.items()]))\n",
    ")\n",
    "observations_df = spark.createDataFrame(observations_df).cache()\n",
    "observations_df.count()\n",
    "observations_df.createOrReplaceTempView(\"observations\")\n",
    "\n",
    "bandwidths_df = pd.DataFrame([bandwidths])\n",
    "\n",
    "result = get_confidence_intervals(data_and_configs, observations_df, predictor_variables, bandwidths_df, spark)\n",
    "result"
   ]
  },
  {
   "cell_type": "code",
   "execution_count": null,
   "id": "f8e3a76d-2cea-482b-aec7-70312ee3fd32",
   "metadata": {},
   "outputs": [],
   "source": [
    "result1 = result"
   ]
  },
  {
   "cell_type": "code",
   "execution_count": null,
   "id": "50164f94-84cb-4491-bbfd-d5d23c5acf85",
   "metadata": {},
   "outputs": [],
   "source": []
  },
  {
   "cell_type": "code",
   "execution_count": null,
   "id": "93a3a9cc-e4e8-43f8-a04f-cb894ae4fa87",
   "metadata": {},
   "outputs": [],
   "source": [
    "# DEE, AD\n",
    "data_sample_fraction = 1.0\n",
    "n_steps = 3\n",
    "target = \"n_craters_added_in_study_region\"\n",
    "\n",
    "observation = {\n",
    "    \"slope\": 2.10,\n",
    "    \"log_mean_c2c_nn_dist\": 0.8136,\n",
    "    # \"log_intensity\": -4.402922308048596\n",
    "    \"areal_density\": 0.06\n",
    "}\n",
    "\n",
    "steps = {\n",
    "    \"slope\": 0.1,\n",
    "    \"log_mean_c2c_nn_dist\": 0.2,\n",
    "    # \"log_intensity\": 1.0\n",
    "    \"areal_density\": 0.05\n",
    "}\n",
    "\n",
    "bandwidths = {\n",
    "    \"slope\": 0.25,\n",
    "    \"log_mean_c2c_nn_dist\": 0.2,\n",
    "    # \"log_intensity\": 1.0\n",
    "    \"areal_density\": 0.05\n",
    "}\n",
    "\n",
    "predictor_variables = list(observation.keys())\n",
    "\n",
    "data_and_configs = setup_dataset(data, configs_df, predictor_variables, target, spark)\n",
    "data_and_configs = data_and_configs.sample(data_sample_fraction)\n",
    "data_and_configs.createOrReplaceTempView(\"data\")\n",
    "\n",
    "# Construct the observations grid\n",
    "observations_df = pd.DataFrame(\n",
    "    map(dict, itertools.product(*[[(k, observation[k] + x * v) for x in range(-n_steps, n_steps + 1)]  for k, v in observation.items()]))\n",
    ")\n",
    "observations_df = spark.createDataFrame(observations_df).cache()\n",
    "observations_df.count()\n",
    "observations_df.createOrReplaceTempView(\"observations\")\n",
    "\n",
    "bandwidths_df = pd.DataFrame([bandwidths])\n",
    "\n",
    "result = get_confidence_intervals(data_and_configs, observations_df, predictor_variables, bandwidths_df, spark)\n",
    "result"
   ]
  },
  {
   "cell_type": "code",
   "execution_count": null,
   "id": "5dda9d7f-91f0-4f02-8478-74be08dcf128",
   "metadata": {},
   "outputs": [],
   "source": [
    "result.n_unique_sims.mean()"
   ]
  },
  {
   "cell_type": "code",
   "execution_count": null,
   "id": "21e4063f-9eaa-42b8-b084-16d572de64f0",
   "metadata": {},
   "outputs": [],
   "source": []
  },
  {
   "cell_type": "code",
   "execution_count": null,
   "id": "cefb3ae7-8db3-4c26-a4ea-b5eb01e1f54f",
   "metadata": {},
   "outputs": [],
   "source": [
    "# Searching for bandwidths in c2c_nn"
   ]
  },
  {
   "cell_type": "code",
   "execution_count": null,
   "id": "8e70044e-a2aa-4b07-9fe5-dc17f9205930",
   "metadata": {},
   "outputs": [],
   "source": [
    "def get_nearest_neighbors(data: DataFrame,\n",
    "                          observation: Dict[str, float],\n",
    "                          predictor_variables: List[str],\n",
    "                          scaling_factors: Dict[str, float],\n",
    "                          n_neighbors: int) -> pd.DataFrame:\n",
    "    assemblers = [VectorAssembler(inputCols=[col], outputCol=col + \"_vec\") for col in predictor_variables]\n",
    "    scalers = [MinMaxScaler(inputCol=col + \"_vec\", outputCol=col + \"_scaled\") for col in predictor_variables]\n",
    "    pipeline = Pipeline(stages=assemblers + scalers)\n",
    "    scaler = pipeline.fit(data_without_nulls)\n",
    "    scaled = scaler.transform(data_without_nulls)\n",
    "\n",
    "    assembler = VectorAssembler(inputCols=[f\"{x}_scaled\" for x in predictor_variables], outputCol=\"features\")\n",
    "    ready_to_model = assembler.transform(scaled_fixed)\n",
    "    ready_to_model = ready_to_model.select(*[x for x in ready_to_model.columns if \"scaled_vec\" not in x])\n",
    "\n",
    "    brp = BucketedRandomProjectionLSH(inputCol=\"features\", outputCol=\"hashes\", seed=12345, bucketLength=1.0)\n",
    "    model = brp.fit(ready_to_model)\n",
    "\n",
    "    vec = pd.DataFrame([[observation[x] for x in predictor_variables]], columns=predictor_variables)\n",
    "    vec_scaled = assembler.transform(scaler.transform(spark.createDataFrame(vec)))\n",
    "\n",
    "    return model.approxNearestNeighbors(ready_to_model, vec_scaled.select(\"features\").collect()[0].features, n_neighbors).toPandas()"
   ]
  },
  {
   "cell_type": "code",
   "execution_count": null,
   "id": "a1035b3f-0f51-4f0f-9526-9ae3c3f98f81",
   "metadata": {},
   "outputs": [],
   "source": [
    "data_sample_fraction = 1.0\n",
    "n_steps = 3\n",
    "target = \"n_craters_added_in_study_region\"\n",
    "\n",
    "observation = {\n",
    "    \"slope\": 2.10,\n",
    "    \"log_mean_c2c_nn_dist\": 0.8136,\n",
    "    # \"log_intensity\": -4.402922308048596\n",
    "    \"areal_density\": 0.06\n",
    "}\n",
    "\n",
    "steps = {\n",
    "    \"slope\": 0.1,\n",
    "    \"log_mean_c2c_nn_dist\": 0.2,\n",
    "    # \"log_intensity\": 1.0\n",
    "    \"areal_density\": 0.05\n",
    "}\n",
    "\n",
    "bandwidths = {\n",
    "    \"slope\": 0.25,\n",
    "    \"log_mean_c2c_nn_dist\": 0.2,\n",
    "    # \"log_intensity\": 1.0\n",
    "    \"areal_density\": 0.05\n",
    "}\n",
    "\n",
    "predictor_variables = list(observation.keys())\n",
    "data_and_configs = setup_dataset(data, configs_df, predictor_variables, target, spark)"
   ]
  },
  {
   "cell_type": "code",
   "execution_count": null,
   "id": "3cd7b568-133e-46c1-a0e2-7943832cc51a",
   "metadata": {},
   "outputs": [],
   "source": [
    "# data_without_nulls = data_and_configs.sample(0.05).dropna().cache()\n",
    "data_without_nulls = data_and_configs.dropna()"
   ]
  },
  {
   "cell_type": "code",
   "execution_count": null,
   "id": "74a4345d-ce3f-481b-b3e9-adf526f5891d",
   "metadata": {},
   "outputs": [],
   "source": [
    "scaling_factors = {\n",
    "    \"slope\": 1,\n",
    "    \"log_mean_c2c_nn_dist\": 1,\n",
    "    \"areal_density\": 0.25\n",
    "}\n",
    "res1 = get_nearest_neighbors(data_without_nulls, observation, predictor_variables, scaling_factors, 1000)\n",
    "res1"
   ]
  },
  {
   "cell_type": "code",
   "execution_count": null,
   "id": "51178732-7a85-4e28-a318-0ff3e4d0e0e6",
   "metadata": {},
   "outputs": [],
   "source": [
    "scaling_factors = {\n",
    "    \"slope\": 1.5,\n",
    "    \"log_mean_c2c_nn_dist\": 1,\n",
    "    \"areal_density\": 0.25\n",
    "}\n",
    "res2 = get_nearest_neighbors(data_without_nulls, observation, predictor_variables, scaling_factors, 1000)\n",
    "res2"
   ]
  },
  {
   "cell_type": "code",
   "execution_count": null,
   "id": "33296d29-ba3f-473c-922f-92376826ddbe",
   "metadata": {},
   "outputs": [],
   "source": [
    "scaling_factors = {\n",
    "    \"slope\": 2,\n",
    "    \"log_mean_c2c_nn_dist\": 1,\n",
    "    \"areal_density\": 0.25\n",
    "}\n",
    "res3 = get_nearest_neighbors(data_without_nulls, observation, predictor_variables, scaling_factors, 100)\n",
    "res3"
   ]
  },
  {
   "cell_type": "code",
   "execution_count": null,
   "id": "49aa28de-a5cf-4cbf-bc25-cbed998323c2",
   "metadata": {},
   "outputs": [],
   "source": [
    "scaling_factors = {\n",
    "    \"slope\": 1,\n",
    "    \"log_mean_c2c_nn_dist\": 1,\n",
    "    \"areal_density\": 0.1\n",
    "}\n",
    "res4 = get_nearest_neighbors(data_without_nulls, observation, predictor_variables, scaling_factors, 100)\n",
    "res4"
   ]
  },
  {
   "cell_type": "code",
   "execution_count": null,
   "id": "6f2c5638-affd-4acc-ae63-bcf0635c0901",
   "metadata": {},
   "outputs": [],
   "source": [
    "plt.hist(res4.slope)"
   ]
  },
  {
   "cell_type": "code",
   "execution_count": null,
   "id": "80483d35-b89d-47bc-8563-f50c76246996",
   "metadata": {},
   "outputs": [],
   "source": [
    "nnd_filtered = data_without_nulls.where(\n",
    "    F.col(\"log_mean_c2c_nn_dist\").between(0.7, 0.9)\n",
    ").cache()"
   ]
  },
  {
   "cell_type": "code",
   "execution_count": null,
   "id": "5947fdbd-459c-4237-9d14-97d429caea56",
   "metadata": {},
   "outputs": [],
   "source": [
    "nnd_filtered.count()"
   ]
  },
  {
   "cell_type": "code",
   "execution_count": null,
   "id": "18ca12e2-0d5c-418d-ab33-16842f075652",
   "metadata": {},
   "outputs": [],
   "source": [
    "observation"
   ]
  },
  {
   "cell_type": "code",
   "execution_count": null,
   "id": "7ca06f28-15e7-4cac-a123-a0c73141f377",
   "metadata": {},
   "outputs": [],
   "source": [
    "df = nnd_filtered.select(F.percentile_approx(\"areal_density\", [0.025, 0.50, 0.975], 1000), F.percentile_approx(\"slope\", [0.025, 0.50, 0.975], 1000)).toPandas()\n",
    "df"
   ]
  },
  {
   "cell_type": "code",
   "execution_count": null,
   "id": "21cb3b42-5540-46a6-8794-bf9f2599f3e3",
   "metadata": {},
   "outputs": [],
   "source": [
    "np.log10(0.12)"
   ]
  },
  {
   "cell_type": "code",
   "execution_count": null,
   "id": "c3cae384-ca0a-4a0b-8089-08d67a8d339f",
   "metadata": {},
   "outputs": [],
   "source": [
    "# 1, DEE\n",
    "d = data_without_nulls.withColumn(\"log_ad\", F.log10(\"areal_density\"))\n",
    "\n",
    "observation = {\n",
    "    \"slope\": 2.10,\n",
    "    \"log_mean_c2c_nn_dist\": 0.8136,\n",
    "    # \"log_intensity\": -4.402922308048596\n",
    "    \"log_ad\": np.log10(0.06)\n",
    "}\n",
    "\n",
    "bandwidths = {\n",
    "    \"slope\": 0.2,\n",
    "    \"log_mean_c2c_nn_dist\": 0.1,\n",
    "    # \"log_intensity\": -4.402922308048596\n",
    "    \"log_ad\": 0.15\n",
    "}\n",
    "\n",
    "res = d\n",
    "for k, v in observation.items():\n",
    "    res = res.where(F.col(k).between(v - bandwidths[k], v + bandwidths[k]))\n",
    "\n",
    "res_df = res.toPandas()\n",
    "dee_df = res_df"
   ]
  },
  {
   "cell_type": "code",
   "execution_count": null,
   "id": "c408b118-5da6-4ace-a62d-2446b5797bf7",
   "metadata": {},
   "outputs": [],
   "source": [
    "n_orders_mag = np.log10(res_df.target.quantile(0.975) / res_df.target.quantile(0.025))\n",
    "n_orders_mag"
   ]
  },
  {
   "cell_type": "code",
   "execution_count": null,
   "id": "7c126796-b889-4924-b8d1-1019d3d791b1",
   "metadata": {},
   "outputs": [],
   "source": []
  },
  {
   "cell_type": "code",
   "execution_count": null,
   "id": "4442dec9-0ae2-4ea8-9d14-85700ff4016b",
   "metadata": {},
   "outputs": [],
   "source": [
    "# 2, DSP\n",
    "target_slope = 2.66\n",
    "slope_plus_minus = 0.05\n",
    "target_log_mean_c2c_nn_dist = 0.6685\n",
    "\n",
    "observation = {\n",
    "    \"slope\": 2.66,\n",
    "    \"log_mean_c2c_nn_dist\": 0.6685,\n",
    "    \"log_ad\": np.log10(0.13)\n",
    "}\n",
    "\n",
    "bandwidths = {\n",
    "    \"slope\": 0.2,\n",
    "    \"log_mean_c2c_nn_dist\": 0.1,\n",
    "    \"log_ad\": 0.15\n",
    "}\n",
    "\n",
    "res = d\n",
    "for k, v in observation.items():\n",
    "    res = res.where(F.col(k).between(v - bandwidths[k], v + bandwidths[k]))\n",
    "\n",
    "res_df = res.toPandas()\n",
    "dsp_df = res_df"
   ]
  },
  {
   "cell_type": "code",
   "execution_count": null,
   "id": "cbdf1a5d-e0c0-46c8-bcd3-00bec258e98b",
   "metadata": {},
   "outputs": [],
   "source": [
    "n_orders_mag = np.log10(res_df.target.quantile(0.975) / res_df.target.quantile(0.025))\n",
    "n_orders_mag"
   ]
  },
  {
   "cell_type": "code",
   "execution_count": null,
   "id": "0672e3eb-5730-4e11-88ef-6127b44120f1",
   "metadata": {},
   "outputs": [],
   "source": []
  },
  {
   "cell_type": "code",
   "execution_count": null,
   "id": "36024e92-202e-4cb1-b856-3765f89e8ff3",
   "metadata": {},
   "outputs": [],
   "source": []
  },
  {
   "cell_type": "code",
   "execution_count": null,
   "id": "45268ef9-5cdb-4306-a38c-6ffd23e8a85a",
   "metadata": {},
   "outputs": [],
   "source": [
    "# 3, DICP\n",
    "observation = {\n",
    "    \"slope\": 2.08,\n",
    "    \"log_mean_c2c_nn_dist\": 0.9338405903389017,\n",
    "    # \"log_intensity\": -4.402922308048596\n",
    "    \"log_ad\": np.log10(0.31)\n",
    "}\n",
    "\n",
    "bandwidths = {\n",
    "    \"slope\": 0.2,\n",
    "    \"log_mean_c2c_nn_dist\": 0.1,\n",
    "    # \"log_intensity\": -4.402922308048596\n",
    "    \"log_ad\": 0.15\n",
    "}\n",
    "\n",
    "res = d\n",
    "for k, v in observation.items():\n",
    "    res = res.where(F.col(k).between(v - bandwidths[k], v + bandwidths[k]))\n",
    "\n",
    "res_df = res.toPandas()\n",
    "dicp_df = res_df"
   ]
  },
  {
   "cell_type": "code",
   "execution_count": null,
   "id": "733b538a-a7b3-4df6-82e9-632fb1e6aebc",
   "metadata": {},
   "outputs": [],
   "source": [
    "n_orders_mag = np.log10(res_df.target.quantile(0.975) / res_df.target.quantile(0.025))\n",
    "n_orders_mag"
   ]
  },
  {
   "cell_type": "code",
   "execution_count": null,
   "id": "632fc466-c707-4826-93c3-6d76e86b304b",
   "metadata": {},
   "outputs": [],
   "source": []
  },
  {
   "cell_type": "code",
   "execution_count": null,
   "id": "9b009874-2997-49cd-9478-6cdf4b873ed5",
   "metadata": {},
   "outputs": [],
   "source": [
    "# 4, DDCP\n",
    "d = data_without_nulls.withColumn(\"log_ad\", F.log10(\"areal_density\"))\n",
    "\n",
    "observation = {\n",
    "    \"slope\": 2.15,\n",
    "    \"log_mean_c2c_nn_dist\": 0.6685,\n",
    "    \"log_ad\": np.log10(0.35)\n",
    "}\n",
    "\n",
    "bandwidths = {\n",
    "    \"slope\": 0.2,\n",
    "    \"log_mean_c2c_nn_dist\": 0.1,\n",
    "    \"log_ad\": 0.15\n",
    "}\n",
    "\n",
    "res = d\n",
    "for k, v in observation.items():\n",
    "    res = res.where(F.col(k).between(v - bandwidths[k], v + bandwidths[k]))"
   ]
  },
  {
   "cell_type": "code",
   "execution_count": null,
   "id": "d549408b-9a01-4549-916c-e7acab157106",
   "metadata": {},
   "outputs": [],
   "source": [
    "percentiles = res.select(F.percentile_approx(\"target\", [0.025, 0.975], 1000)).toPandas()"
   ]
  },
  {
   "cell_type": "code",
   "execution_count": null,
   "id": "3b1cd2b2-a445-403f-a5a8-2fe792a731a8",
   "metadata": {},
   "outputs": [],
   "source": [
    "np.log10(percentiles.iloc[0, 0][1] / percentiles.iloc[0, 0][0])"
   ]
  },
  {
   "cell_type": "code",
   "execution_count": null,
   "id": "fc8f6db6-0ab2-4f82-9625-a3dfe5e8256c",
   "metadata": {},
   "outputs": [],
   "source": [
    "n_orders_mag = np.log10(res_df.target.quantile(0.975) / res_df.target.quantile(0.025))\n",
    "n_orders_mag"
   ]
  },
  {
   "cell_type": "code",
   "execution_count": null,
   "id": "2648ed51-312b-497f-a7b7-28e8d12a1d3d",
   "metadata": {},
   "outputs": [],
   "source": []
  },
  {
   "cell_type": "code",
   "execution_count": null,
   "id": "8144c9c1-669f-47d2-aaed-6b7f18b7b9b7",
   "metadata": {},
   "outputs": [],
   "source": []
  },
  {
   "cell_type": "code",
   "execution_count": null,
   "id": "edc9f1cb-ec11-408e-af8e-a73cdd9de641",
   "metadata": {},
   "outputs": [],
   "source": []
  },
  {
   "cell_type": "code",
   "execution_count": null,
   "id": "f27368e7-b8e6-4c77-9773-74b33f5ef953",
   "metadata": {},
   "outputs": [],
   "source": []
  },
  {
   "cell_type": "code",
   "execution_count": null,
   "id": "52738126-6df8-40fd-b3ba-45f8c198120b",
   "metadata": {},
   "outputs": [],
   "source": [
    "columns_to_scale = [\"slope\", \"log_mean_c2c_nn_dist\", \"areal_density\"]\n",
    "\n",
    "assemblers = [VectorAssembler(inputCols=[col], outputCol=col + \"_vec\") for col in columns_to_scale]\n",
    "scalers = [MinMaxScaler(inputCol=col + \"_vec\", outputCol=col + \"_scaled\") for col in columns_to_scale]\n",
    "pipeline = Pipeline(stages=assemblers + scalers)\n",
    "scaler = pipeline.fit(data_without_nulls)\n",
    "scaled = scaler.transform(data_without_nulls)"
   ]
  },
  {
   "cell_type": "code",
   "execution_count": null,
   "id": "0d05afa4-3c0a-45db-adb9-8df2a39ea0db",
   "metadata": {},
   "outputs": [],
   "source": [
    "scaling_factors = {\n",
    "    \"slope\": 0.25,\n",
    "    \"log_mean_c2c_nn_dist\": 1,\n",
    "    \"areal_density\": 0.25\n",
    "}\n",
    "scaled_fixed = scaled.select(\n",
    "    *data_without_nulls.columns,\n",
    "    *[(vector_to_array(F.col(f\"{x}_scaled\")).getItem(0) * F.lit(scaling_factors[x])).alias(f\"{x}_scaled\") for x in columns_to_scale]\n",
    ")\n",
    "\n",
    "assembler = VectorAssembler(inputCols=[f\"{x}_scaled\" for x in columns_to_scale], outputCol=\"features\")\n",
    "ready_to_model = assembler.transform(scaled_fixed)\n",
    "ready_to_model = ready_to_model.select(*[x for x in ready_to_model.columns if \"scaled_vec\" not in x])"
   ]
  },
  {
   "cell_type": "code",
   "execution_count": null,
   "id": "380f87ce-cde1-449d-a288-3e926c35764a",
   "metadata": {},
   "outputs": [],
   "source": [
    "brp = BucketedRandomProjectionLSH(inputCol=\"features\", outputCol=\"hashes\", seed=12345, bucketLength=1.0)\n",
    "model = brp.fit(ready_to_model)"
   ]
  },
  {
   "cell_type": "code",
   "execution_count": null,
   "id": "6bf435fa-2aa0-465a-9565-7600f9d7f375",
   "metadata": {},
   "outputs": [],
   "source": [
    "vec = pd.DataFrame([[2.10, 0.8136, 0.06]], columns=columns_to_scale)\n",
    "vec_scaled = assembler.transform(scaler.transform(spark.createDataFrame(vec)))"
   ]
  },
  {
   "cell_type": "code",
   "execution_count": null,
   "id": "df28b7bd-704c-4d07-8477-39be58766a3d",
   "metadata": {},
   "outputs": [],
   "source": [
    "res = model.approxNearestNeighbors(ready_to_model, vec_scaled.select(\"features\").collect()[0].features, 50).toPandas()"
   ]
  },
  {
   "cell_type": "code",
   "execution_count": null,
   "id": "fd55a2e3-6454-4ff7-9a39-5035a290d6d1",
   "metadata": {},
   "outputs": [],
   "source": [
    "res"
   ]
  },
  {
   "cell_type": "code",
   "execution_count": null,
   "id": "5885987b-1509-4ad6-a3a8-525154c00424",
   "metadata": {},
   "outputs": [],
   "source": [
    "res2 = model.approxNearestNeighbors(ready_to_model, Vectors.dense 50).collect()"
   ]
  },
  {
   "cell_type": "code",
   "execution_count": null,
   "id": "f73734e8-8d8d-49ae-a3b8-5cf4f385d501",
   "metadata": {},
   "outputs": [],
   "source": []
  },
  {
   "cell_type": "code",
   "execution_count": null,
   "id": "386ed594-891c-4a63-945d-d22c39bbdb01",
   "metadata": {},
   "outputs": [],
   "source": [
    "assembler = VectorAssembler(outputCol=\"features\")\n",
    "\n",
    "assemblers = \n",
    "assembler.setInputCols([\"slope\", \"log_mean_c2c_nn_dist\", \"areal_density\"])\n",
    "\n",
    "scaler = MinMaxScaler(outputCol=\"scaled_features\")\n",
    "scaler.setInputCol(\"features\")\n",
    "scaler.fit(assembler.transform(data_and_configs))"
   ]
  },
  {
   "cell_type": "code",
   "execution_count": null,
   "id": "213bc02f-5f5d-41d0-954d-68a9728057cd",
   "metadata": {},
   "outputs": [],
   "source": [
    "assembler.transform(data_and_configs)"
   ]
  },
  {
   "cell_type": "code",
   "execution_count": null,
   "id": "db5fd308-bbfb-48ce-842d-8dd9e0aad346",
   "metadata": {},
   "outputs": [],
   "source": []
  },
  {
   "cell_type": "code",
   "execution_count": null,
   "id": "8c156518-8293-434d-ac26-e405bd8b8d08",
   "metadata": {},
   "outputs": [],
   "source": []
  },
  {
   "cell_type": "code",
   "execution_count": null,
   "id": "e26af9c7-b034-483b-a358-950be63b6e46",
   "metadata": {},
   "outputs": [],
   "source": []
  },
  {
   "cell_type": "code",
   "execution_count": null,
   "id": "5a5e59d8-3721-4f87-b3ac-ccf7efcc59a2",
   "metadata": {},
   "outputs": [],
   "source": [
    "df = data_and_configs.where((F.col(\"areal_density\") < 0.08) & (F.col(\"log_mean_c2c_nn_dist\").between(0.7, 0.8))).toPandas()"
   ]
  },
  {
   "cell_type": "code",
   "execution_count": null,
   "id": "958d0a51-adb2-4c80-a580-530acfd2d698",
   "metadata": {},
   "outputs": [],
   "source": [
    "df.slope.describe()"
   ]
  },
  {
   "cell_type": "code",
   "execution_count": null,
   "id": "0172ec06-0662-4a53-b11a-c60bd097d2d4",
   "metadata": {},
   "outputs": [],
   "source": []
  },
  {
   "cell_type": "code",
   "execution_count": null,
   "id": "5b39089c-0e91-4b21-87ba-737d0d88b5dc",
   "metadata": {},
   "outputs": [],
   "source": []
  },
  {
   "cell_type": "code",
   "execution_count": null,
   "id": "cd317f94-08d7-469c-99a1-c1b1ca33f46b",
   "metadata": {},
   "outputs": [],
   "source": []
  },
  {
   "cell_type": "code",
   "execution_count": null,
   "id": "e0a7a85e-6159-439b-9a92-b2604919fc2a",
   "metadata": {},
   "outputs": [],
   "source": [
    "total: 2.5b\n",
    "ad limit: 23,500,945\n",
    "ad + log_c2c: 1,056,227"
   ]
  },
  {
   "cell_type": "code",
   "execution_count": null,
   "id": "9326810d-31e5-4dc3-b801-f227312c4de3",
   "metadata": {},
   "outputs": [],
   "source": []
  },
  {
   "cell_type": "code",
   "execution_count": null,
   "id": "b36189e8-2959-44f1-8dda-3845702204f4",
   "metadata": {},
   "outputs": [],
   "source": []
  },
  {
   "cell_type": "code",
   "execution_count": null,
   "id": "08270955-7ca0-4d4a-90c1-a47e8da464a1",
   "metadata": {},
   "outputs": [],
   "source": [
    "data.select(F.percentile_approx(\"log_intensity\", [0.05, 0.25, 0.5, 0.75, 0.95], 1000), F.mean(\"log_intensity\"), F.median(\"log_intensity\"), F.stddev_samp(\"log_intensity\")).toPandas()"
   ]
  },
  {
   "cell_type": "code",
   "execution_count": null,
   "id": "071b0ac0-02e1-4a8d-8040-47a8d6fa2681",
   "metadata": {},
   "outputs": [],
   "source": []
  },
  {
   "cell_type": "code",
   "execution_count": null,
   "id": "c5cef48e-f253-4fda-ae40-9a655d1bd39a",
   "metadata": {},
   "outputs": [],
   "source": []
  },
  {
   "cell_type": "code",
   "execution_count": null,
   "id": "260b6160-8c97-4bfd-9720-178fa125cb6a",
   "metadata": {},
   "outputs": [],
   "source": [
    "data_sample_fraction = 0.01\n",
    "n_steps = 5\n",
    "target = \"n_craters_added_in_study_region\"\n",
    "predictor_variables = [\"slope\", \"log_mean_c2c_nn_dist\", \"areal_density\"]\n",
    "\n",
    "# data_and_configs = setup_datasets(data, configs_df, predictor_variables, target, spark)\n",
    "# data_and_configs = data_and_configs.sample(data_sample_fraction)\n",
    "\n",
    "observation = {\n",
    "    \"slope\": 2.10,\n",
    "    \"target_log_mean_c2c_nn_dist\": 0.8136322010294104,\n",
    "    \"areal_density\": 0.13\n",
    "}\n",
    "\n",
    "steps = {\n",
    "    \"slope\": 0.05,\n",
    "    \"target_log_mean_c2c_nn_dist\": 0.05,\n",
    "    \"areal_density\": 0.01\n",
    "}\n",
    "\n",
    "\n",
    "\n"
   ]
  },
  {
   "cell_type": "code",
   "execution_count": null,
   "id": "4c794696-6bd1-496f-9b7a-00fb101ff97f",
   "metadata": {},
   "outputs": [],
   "source": [
    "steps_df"
   ]
  },
  {
   "cell_type": "code",
   "execution_count": null,
   "id": "7fadf5fc-fc7c-4cf3-8ea3-a955e82bf4df",
   "metadata": {},
   "outputs": [],
   "source": []
  },
  {
   "cell_type": "code",
   "execution_count": null,
   "id": "f72cdc77-d3bf-49ff-a45e-74cb35862fa1",
   "metadata": {},
   "outputs": [],
   "source": [
    "pd.DataFrame([dict(x) for x in steps])"
   ]
  },
  {
   "cell_type": "code",
   "execution_count": null,
   "id": "37c44394-9204-40ae-8857-1713feb477a0",
   "metadata": {},
   "outputs": [],
   "source": []
  },
  {
   "cell_type": "code",
   "execution_count": null,
   "id": "c628dfd9-954d-4c55-b84b-2d2a1659a5cf",
   "metadata": {},
   "outputs": [],
   "source": []
  },
  {
   "cell_type": "code",
   "execution_count": null,
   "id": "82259f15-87b8-4b59-977a-31e49fe7b139",
   "metadata": {},
   "outputs": [],
   "source": [
    "# DSP\n",
    "target = \"n_craters_added_in_study_region\"\n",
    "target_slope = 2.10\n",
    "slope_ci_width = 0.08\n",
    "target_log_mean_c2c_nn_dist = 0.8136322010294104\n",
    "\n",
    "observations_data = [\n",
    "    [target_slope - slope_ci_width, target_log_mean_c2c_nn_dist],\n",
    "    [target_slope, target_log_mean_c2c_nn_dist],\n",
    "    [target_slope + slope_ci_width, target_log_mean_c2c_nn_dist],\n",
    "]\n",
    "observations = pd.DataFrame(observations_data, columns=[\"slope\", \"log_mean_c2c_nn_dist\"])\n",
    "\n",
    "bandwidths_data = [\n",
    "    [0.01, 0.001],\n",
    "    [0.01, 0.005],\n",
    "    [0.005, 0.001],\n",
    "    [0.005, 0.005],\n",
    "]\n",
    "bandwidths = pd.DataFrame(bandwidths_data, columns=[\"slope\", \"log_mean_c2c_nn_dist\"])\n",
    "\n",
    "result = get_confidence_intervals(data, configs_df, target, observations, bandwidths, spark)\n",
    "result"
   ]
  },
  {
   "cell_type": "code",
   "execution_count": null,
   "id": "7a052e35-081f-4bd1-8cac-f22bedd2226b",
   "metadata": {},
   "outputs": [],
   "source": []
  },
  {
   "cell_type": "code",
   "execution_count": null,
   "id": "751deced-f450-46a6-b2eb-b731297e8e86",
   "metadata": {},
   "outputs": [],
   "source": []
  },
  {
   "cell_type": "code",
   "execution_count": null,
   "id": "3ffee607-9ce0-41c4-b060-aed5267d206d",
   "metadata": {},
   "outputs": [],
   "source": []
  },
  {
   "cell_type": "code",
   "execution_count": null,
   "id": "d996dc85-5487-41d4-83b7-47e3ce4718f6",
   "metadata": {},
   "outputs": [],
   "source": []
  },
  {
   "cell_type": "code",
   "execution_count": null,
   "id": "dbbacbac-d531-479a-a175-94ae8479a01e",
   "metadata": {},
   "outputs": [],
   "source": [
    "# DEE\n",
    "target = \"n_craters_added_in_study_region\"\n",
    "target_slope = 2.10\n",
    "slope_ci_width = 0.08\n",
    "target_log_mean_c2c_nn_dist = 0.8136322010294104\n",
    "\n",
    "observations_data = [\n",
    "    [target_slope - slope_ci_width, target_log_mean_c2c_nn_dist],\n",
    "    [target_slope, target_log_mean_c2c_nn_dist],\n",
    "    [target_slope + slope_ci_width, target_log_mean_c2c_nn_dist],\n",
    "]\n",
    "observations = pd.DataFrame(observations_data, columns=[\"slope\", \"log_mean_c2c_nn_dist\"])\n",
    "\n",
    "bandwidths_data = [\n",
    "    [0.01, 0.0005],\n",
    "    [0.01, 0.001],\n",
    "    [0.01, 0.005],\n",
    "    [0.025, 0.0005],\n",
    "    [0.025, 0.001],\n",
    "    [0.025, 0.005],\n",
    "    [0.05, 0.0005],\n",
    "    [0.05, 0.001],\n",
    "    [0.05, 0.005],\n",
    "    [0.1, 0.0001],\n",
    "    [0.1, 0.00025],\n",
    "    [0.1, 0.0005],\n",
    "    [0.1, 0.001],\n",
    "]\n",
    "bandwidths = pd.DataFrame(bandwidths_data, columns=[\"slope\", \"log_mean_c2c_nn_dist\"])\n",
    "\n",
    "result = get_confidence_intervals(data, configs_df, target, observations, bandwidths, spark)\n",
    "result.sort_values([f\"observation_{x}\" for x in observations.columns])"
   ]
  },
  {
   "cell_type": "code",
   "execution_count": null,
   "id": "e051bc74-c91a-4802-931d-4d74bf207895",
   "metadata": {},
   "outputs": [],
   "source": [
    "# DEE\n",
    "\n",
    "target = \"n_craters_added_in_study_region\"\n",
    "target_slope = 2.10\n",
    "slope_ci_width = 0.08\n",
    "target_log_mean_c2c_nn_dist = 0.8136322010294104\n",
    "\n",
    "observations_data = [\n",
    "    [target_slope - slope_ci_width, target_log_mean_c2c_nn_dist],\n",
    "    [target_slope, target_log_mean_c2c_nn_dist],\n",
    "    [target_slope + slope_ci_width, target_log_mean_c2c_nn_dist],\n",
    "]\n",
    "observations = pd.DataFrame(observations_data, columns=[\"slope\", \"log_mean_c2c_nn_dist\"])\n",
    "\n",
    "bandwidths_data = [\n",
    "    [0.01, 0.0005],\n",
    "    [0.01, 0.001],\n",
    "    [0.01, 0.005],\n",
    "    [0.025, 0.0005],\n",
    "    [0.025, 0.001],\n",
    "    [0.025, 0.005],\n",
    "    [0.05, 0.0005],\n",
    "    [0.05, 0.001],\n",
    "    [0.05, 0.005],\n",
    "    [0.1, 0.0001],\n",
    "    [0.1, 0.00025],\n",
    "    [0.1, 0.0005],\n",
    "    [0.1, 0.001],\n",
    "]\n",
    "bandwidths = pd.DataFrame(bandwidths_data, columns=[\"slope\", \"log_mean_c2c_nn_dist\"])\n",
    "\n",
    "result = get_confidence_intervals(data, configs_df, target, observations, bandwidths, spark)\n",
    "result.sort_values([f\"observation_{x}\" for x in observations.columns])"
   ]
  },
  {
   "cell_type": "code",
   "execution_count": null,
   "id": "c31c7afc-7398-4edd-b381-62f03f08cce2",
   "metadata": {},
   "outputs": [],
   "source": [
    "# Dione 3 (DICP)\n",
    "target = \"n_craters_added_in_study_region\"\n",
    "target_slope = 2.08\n",
    "slope_ci_width = 0.09\n",
    "target_log_mean_c2c_nn_dist = 0.9338405903389017\n",
    "\n",
    "observations_data = [\n",
    "    [target_slope - slope_ci_width, target_log_mean_c2c_nn_dist],\n",
    "    [target_slope, target_log_mean_c2c_nn_dist],\n",
    "    [target_slope + slope_ci_width, target_log_mean_c2c_nn_dist],\n",
    "]\n",
    "observations = pd.DataFrame(observations_data, columns=[\"slope\", \"log_mean_c2c_nn_dist\"])\n",
    "\n",
    "bandwidths_data = [\n",
    "    [0.01, 0.0005],\n",
    "    [0.01, 0.001],\n",
    "    [0.01, 0.005],\n",
    "    [0.025, 0.0005],\n",
    "    [0.025, 0.001],\n",
    "    [0.025, 0.005],\n",
    "    [0.05, 0.0005],\n",
    "    [0.05, 0.001],\n",
    "    [0.05, 0.005],\n",
    "    [0.1, 0.0001],\n",
    "    [0.1, 0.00025],\n",
    "    [0.1, 0.0005],\n",
    "    [0.1, 0.001],\n",
    "]\n",
    "bandwidths = pd.DataFrame(bandwidths_data, columns=[\"slope\", \"log_mean_c2c_nn_dist\"])\n",
    "\n",
    "result = get_confidence_intervals(data, configs_df, target, observations, bandwidths, spark)\n",
    "result.sort_values([f\"observation_{x}\" for x in observations.columns])"
   ]
  },
  {
   "cell_type": "code",
   "execution_count": null,
   "id": "b689a012-f351-4ccc-b657-0c808b45e56b",
   "metadata": {},
   "outputs": [],
   "source": [
    "# Dione 4 (DDCP)\n",
    "target = \"n_craters_added_in_study_region\"\n",
    "target_slope = 2.15\n",
    "slope_ci_width = 0.05\n",
    "target_log_mean_c2c_nn_dist = 0.5480628421533491\n",
    "\n",
    "observations_data = [\n",
    "    [target_slope - slope_ci_width, target_log_mean_c2c_nn_dist],\n",
    "    [target_slope, target_log_mean_c2c_nn_dist],\n",
    "    [target_slope + slope_ci_width, target_log_mean_c2c_nn_dist],\n",
    "]\n",
    "observations = pd.DataFrame(observations_data, columns=[\"slope\", \"log_mean_c2c_nn_dist\"])\n",
    "\n",
    "bandwidths_data = [\n",
    "    [0.01, 0.0005],\n",
    "    [0.01, 0.001],\n",
    "    [0.01, 0.005],\n",
    "    [0.025, 0.0005],\n",
    "    [0.025, 0.001],\n",
    "    [0.025, 0.005],\n",
    "    [0.05, 0.0005],\n",
    "    [0.05, 0.001],\n",
    "    [0.05, 0.005],\n",
    "    [0.1, 0.0001],\n",
    "    [0.1, 0.00025],\n",
    "    [0.1, 0.0005],\n",
    "    [0.1, 0.001],\n",
    "]\n",
    "bandwidths = pd.DataFrame(bandwidths_data, columns=[\"slope\", \"log_mean_c2c_nn_dist\"])\n",
    "\n",
    "result = get_confidence_intervals(data, configs_df, target, observations, bandwidths, spark)\n",
    "result.sort_values([f\"observation_{x}\" for x in observations.columns])"
   ]
  },
  {
   "cell_type": "code",
   "execution_count": null,
   "id": "46bd8282-e075-4793-af86-3272cdb8ac58",
   "metadata": {},
   "outputs": [],
   "source": []
  },
  {
   "cell_type": "code",
   "execution_count": null,
   "id": "60bb3ee0-43ea-429b-a654-bd3abf348b70",
   "metadata": {},
   "outputs": [],
   "source": []
  },
  {
   "cell_type": "code",
   "execution_count": null,
   "id": "b09b92d4-936d-4031-a94e-fe1895c784f7",
   "metadata": {},
   "outputs": [],
   "source": [
    "# The Grid\n",
    "target = \"n_craters_added_in_study_region\"\n",
    "\n",
    "log_mean_c2c_nn_dist_delta = 0.05\n",
    "slope_delta = 0.05\n",
    "\n",
    "min_slope = configs_df.select(F.min(\"slope\")).toPandas().iloc[0,0]\n",
    "max_slope = configs_df.select(F.max(\"slope\")).toPandas().iloc[0,0]\n",
    "\n",
    "min_log_mean_c2c_nn_dist = data.select(F.min(\"log_mean_c2c_nn_dist\")).toPandas().iloc[0,0]\n",
    "max_log_mean_c2c_nn_dist = data.select(F.max(\"log_mean_c2c_nn_dist\")).toPandas().iloc[0,0]\n",
    "\n",
    "min_log_mean_c2c_nn_dist = quantize_value(min_log_mean_c2c_nn_dist + log_mean_c2c_nn_dist_delta * 2, log_mean_c2c_nn_dist_delta)\n",
    "max_log_mean_c2c_nn_dist = quantize_value(max_log_mean_c2c_nn_dist - log_mean_c2c_nn_dist_delta * 2, log_mean_c2c_nn_dist_delta)\n",
    "\n",
    "log_c2c_nn_dist_choices = [round(min_log_mean_c2c_nn_dist + x * log_mean_c2c_nn_dist_delta, 4) for x in range(int((max_log_mean_c2c_nn_dist - min_log_mean_c2c_nn_dist) / log_mean_c2c_nn_dist_delta))]\n",
    "\n",
    "min_slope = quantize_value(min_slope + 2 * slope_delta, slope_delta)\n",
    "max_slope = quantize_value(max_slope - 2 * slope_delta, slope_delta)\n",
    "slope_choices = [round(min_slope + x * slope_delta, 4) for x in range(int((max_slope - min_slope) / slope_delta))]\n",
    "\n",
    "observations_data = [\n",
    "    [x, y]\n",
    "    for x in slope_choices\n",
    "    for y in log_c2c_nn_dist_choices\n",
    "]\n",
    "observations = pd.DataFrame(observations_data, columns=[\"slope\", \"log_mean_c2c_nn_dist\"])\n",
    "\n",
    "bandwidths_data = [\n",
    "    [0.01, 0.0005],\n",
    "    [0.01, 0.001],\n",
    "    [0.01, 0.005],\n",
    "    [0.025, 0.0005],\n",
    "    [0.025, 0.001],\n",
    "    [0.025, 0.005],\n",
    "    [0.05, 0.0005],\n",
    "    [0.05, 0.001],\n",
    "    [0.05, 0.005],\n",
    "    [0.1, 0.0001],\n",
    "    [0.1, 0.00025],\n",
    "    [0.1, 0.0005],\n",
    "]\n",
    "bandwidths = pd.DataFrame(bandwidths_data, columns=[\"slope\", \"log_mean_c2c_nn_dist\"])\n",
    "\n",
    "result = get_confidence_intervals(data, configs_df, target, observations, bandwidths, spark)\n",
    "result.sort_values([f\"observation_{x}\" for x in observations.columns])"
   ]
  },
  {
   "cell_type": "code",
   "execution_count": null,
   "id": "236a6425-1b1a-49d0-b7e3-2e541fbbf76d",
   "metadata": {},
   "outputs": [],
   "source": [
    "result.to_parquet(\"quantile_kernel_regression_grid_multiple_bandwidths.parquet\")"
   ]
  },
  {
   "cell_type": "code",
   "execution_count": null,
   "id": "e84fa447-9a4a-434c-bc44-a348f2b6b5c5",
   "metadata": {},
   "outputs": [],
   "source": [
    "result = result.sort_values([f\"bandwith_{x}\" for x in bandwidths.columns])"
   ]
  },
  {
   "cell_type": "code",
   "execution_count": null,
   "id": "6bc01aca-76eb-42f7-ae18-5ee00186ebd6",
   "metadata": {},
   "outputs": [],
   "source": []
  },
  {
   "cell_type": "code",
   "execution_count": null,
   "id": "ebea040d-b227-465a-9696-f1618c1a3442",
   "metadata": {},
   "outputs": [],
   "source": [
    "# Dione region 1, DEE\n",
    "target_slope = 2.10\n",
    "target_log_mean_c2c_nn_dist = 0.8136322010294104\n",
    "r = result[(result.observation_slope == 2.1) & (result.observation_log_mean_c2c_nn_dist == 0.80)].copy()\n",
    "r[\"95_percentile_absolute_range\"] = r.percentiles.apply(lambda x: x[-1]) - r.percentiles.apply(lambda x: x[0])\n",
    "r[\"95_percentile_ratio\"] = r.percentiles.apply(lambda x: x[-1]) / r.percentiles.apply(lambda x: x[0])\n",
    "r"
   ]
  },
  {
   "cell_type": "code",
   "execution_count": null,
   "id": "5609b14b-a4f6-487b-97c8-c47b4b12f7da",
   "metadata": {},
   "outputs": [],
   "source": []
  },
  {
   "cell_type": "code",
   "execution_count": null,
   "id": "d20696b1-8581-4aee-8800-a33216bcc989",
   "metadata": {},
   "outputs": [],
   "source": [
    "# Dione region 2, DSP\n",
    "target_slope = 2.66\n",
    "target_log_mean_c2c_nn_dist = 0.6685316230432883\n",
    "r = result[(result.observation_slope == 2.65) & (result.observation_log_mean_c2c_nn_dist == 0.65)].copy()\n",
    "r[\"95_percentile_absolute_range\"] = r.percentiles.apply(lambda x: x[-1]) - r.percentiles.apply(lambda x: x[0])\n",
    "r[\"95_percentile_ratio\"] = r.percentiles.apply(lambda x: x[-1]) / r.percentiles.apply(lambda x: x[0])\n",
    "r"
   ]
  },
  {
   "cell_type": "code",
   "execution_count": null,
   "id": "795b2894-f73c-4ff0-bd33-26ee6c40442e",
   "metadata": {},
   "outputs": [],
   "source": [
    "# Dione region 3, DICP\n",
    "target_slope = 2.08\n",
    "target_log_mean_c2c_nn_dist = 0.9338405903389017\n",
    "r = result[(result.observation_slope == 2.05) & (result.observation_log_mean_c2c_nn_dist == 0.95)].copy()\n",
    "r[\"95_percentile_absolute_range\"] = r.percentiles.apply(lambda x: x[-1]) - r.percentiles.apply(lambda x: x[0])\n",
    "r[\"95_percentile_ratio\"] = r.percentiles.apply(lambda x: x[-1]) / r.percentiles.apply(lambda x: x[0])\n",
    "r"
   ]
  },
  {
   "cell_type": "code",
   "execution_count": null,
   "id": "3c25668c-8a49-46f0-acac-d50db764e1fd",
   "metadata": {},
   "outputs": [],
   "source": [
    "# DICP with lower nn dist:\n",
    "r = result[(result.observation_slope == 2.05) & (result.observation_log_mean_c2c_nn_dist == 0.90)].copy()\n",
    "r[\"95_percentile_absolute_range\"] = r.percentiles.apply(lambda x: x[-1]) - r.percentiles.apply(lambda x: x[0])\n",
    "r[\"95_percentile_ratio\"] = r.percentiles.apply(lambda x: x[-1]) / r.percentiles.apply(lambda x: x[0])\n",
    "r"
   ]
  },
  {
   "cell_type": "code",
   "execution_count": null,
   "id": "b3768dc4-a733-4eeb-ae25-64b60354a7cc",
   "metadata": {},
   "outputs": [],
   "source": [
    "# Dione 4 (DDCP)\n",
    "target_slope = 2.15\n",
    "target_log_mean_c2c_nn_dist = 0.5480628421533491\n",
    "r = result[(result.observation_slope == 2.15) & (result.observation_log_mean_c2c_nn_dist == 0.55)].copy()\n",
    "r[\"95_percentile_absolute_range\"] = r.percentiles.apply(lambda x: x[-1]) - r.percentiles.apply(lambda x: x[0])\n",
    "r[\"95_percentile_ratio\"] = r.percentiles.apply(lambda x: x[-1]) / r.percentiles.apply(lambda x: x[0])\n",
    "r"
   ]
  },
  {
   "cell_type": "code",
   "execution_count": null,
   "id": "a02aecd3-9370-4541-865d-f7c01295ebfe",
   "metadata": {},
   "outputs": [],
   "source": []
  },
  {
   "cell_type": "code",
   "execution_count": null,
   "id": "3e4631c1-c601-42c7-956f-5e6955c5801d",
   "metadata": {},
   "outputs": [],
   "source": [
    "# Dione region 1: DEE - extended\n",
    "target = \"n_craters_added_in_study_region\"\n",
    "target_slope = 2.10\n",
    "slope_ci_width = 0.08\n",
    "slope_step = 0.05\n",
    "target_log_mean_c2c_nn_dist = 0.8136\n",
    "target_log_mean_c2c_nn_dist_step = 0.05\n",
    "\n",
    "\n",
    "observations_data = [\n",
    "    [target_slope + x * slope_step, target_log_mean_c2c_nn_dist + y * target_log_mean_c2c_nn_dist_step]\n",
    "    for x in range(-5, 6)\n",
    "    for y in range(-5, 6)\n",
    "]\n",
    "observations = pd.DataFrame(observations_data, columns=[\"slope\", \"log_mean_c2c_nn_dist\"])\n",
    "\n",
    "bandwidths_data = [\n",
    "    [slope_ci_width / 2, 0.0025],\n",
    "    [slope_ci_width / 2, 0.005],\n",
    "    [slope_ci_width, 0.0025],\n",
    "]\n",
    "bandwidths = pd.DataFrame(bandwidths_data, columns=[\"slope\", \"log_mean_c2c_nn_dist\"])\n",
    "\n",
    "result = get_confidence_intervals(data, configs_df, target, observations, bandwidths, spark)\n",
    "result[\"95_ci_ratio\"] = result.percentiles.map(lambda x: np.log10(x[-1] / x[0]))\n",
    "result[\"95_ci_range\"] = result.percentiles.map(lambda x: [x[0], x[1]])\n",
    "dee_extended = result"
   ]
  },
  {
   "cell_type": "code",
   "execution_count": null,
   "id": "03ecc1cd-376c-4df0-9cef-99c9b4a2055d",
   "metadata": {},
   "outputs": [],
   "source": [
    "result.sort_values(\"95_ci_ratio\")[:25]"
   ]
  },
  {
   "cell_type": "code",
   "execution_count": null,
   "id": "61d931e2-4cc4-47e1-b8cd-c0820888817a",
   "metadata": {},
   "outputs": [],
   "source": []
  },
  {
   "cell_type": "code",
   "execution_count": null,
   "id": "02794db5-2c67-444d-a742-cf4b19eb9bcc",
   "metadata": {},
   "outputs": [],
   "source": []
  },
  {
   "cell_type": "code",
   "execution_count": null,
   "id": "a744ed37-d4e3-4db0-90cc-40a878581eb4",
   "metadata": {},
   "outputs": [],
   "source": [
    "# Dione region 1: DEE\n",
    "target = \"n_craters_added_in_study_region\"\n",
    "target_slope = 2.10\n",
    "slope_ci_width = 0.08\n",
    "target_log_mean_c2c_nn_dist = 0.8136\n",
    "\n",
    "# observations_data = [\n",
    "#     [target_slope - slope_ci_width, target_log_mean_c2c_nn_dist],\n",
    "#     [target_slope, target_log_mean_c2c_nn_dist],\n",
    "#     [target_slope + slope_ci_width, target_log_mean_c2c_nn_dist],\n",
    "# ]\n",
    "# observations = pd.DataFrame(observations_data, columns=[\"slope\", \"log_mean_c2c_nn_dist\"])\n",
    "\n",
    "# bandwidths_data = [\n",
    "#     [slope_ci_width, 0.005],\n",
    "# ]\n",
    "# bandwidths = pd.DataFrame(bandwidths_data, columns=[\"slope\", \"log_mean_c2c_nn_dist\"])\n",
    "\n",
    "# result = get_confidence_intervals(data, configs_df, target, observations, bandwidths, spark)\n",
    "# result[result.observation_slope == target_slope]\n",
    "target_log_mean_c2c_nn_dist_step = 0.05\n",
    "\n",
    "\n",
    "observations_data = [\n",
    "    [target_slope + x * slope_step, target_log_mean_c2c_nn_dist + y * target_log_mean_c2c_nn_dist_step]\n",
    "    for x in range(-5, 6)\n",
    "    for y in range(-5, 6)\n",
    "]\n",
    "observations = pd.DataFrame(observations_data, columns=[\"slope\", \"log_mean_c2c_nn_dist\"])\n",
    "\n",
    "bandwidths_data = [\n",
    "    [slope_ci_width / 2, 0.0025],\n",
    "    [slope_ci_width / 2, 0.005],\n",
    "    [slope_ci_width, 0.0025],\n",
    "]\n",
    "bandwidths = pd.DataFrame(bandwidths_data, columns=[\"slope\", \"log_mean_c2c_nn_dist\"])\n",
    "\n",
    "result = get_confidence_intervals(data, configs_df, target, observations, bandwidths, spark)\n",
    "result[\"95_ci_ratio\"] = result.percentiles.map(lambda x: np.log10(x[-1] / x[0]))\n",
    "result[\"95_ci_range\"] = result.percentiles.map(lambda x: [x[0], x[1]])\n",
    "dee = result"
   ]
  },
  {
   "cell_type": "code",
   "execution_count": null,
   "id": "ecfc7f46-a661-4a68-819d-d3e4e4edb174",
   "metadata": {},
   "outputs": [],
   "source": [
    "percentiles = result[result.observation_slope == target_slope].percentiles.iloc[0]\n",
    "print(f\"Orders of magnitude: {np.log10(percentiles[-1] / percentiles[0])}\")\n",
    "print(f\"95% CI: ({percentiles[0]}, {percentiles[-1]})\")"
   ]
  },
  {
   "cell_type": "code",
   "execution_count": null,
   "id": "5c3da43b-322b-4798-8021-b230ebd58d79",
   "metadata": {},
   "outputs": [],
   "source": [
    "dee.sort_values(\"95_ci_ratio\")"
   ]
  },
  {
   "cell_type": "code",
   "execution_count": null,
   "id": "9b07d858-0f8e-4a9c-8a87-ed1ce8fc205e",
   "metadata": {},
   "outputs": [],
   "source": [
    "dee[(dee.observation_slope == 2.10) & (dee.observation_log_mean_c2c_nn_dist == 0.8136)]"
   ]
  },
  {
   "cell_type": "code",
   "execution_count": null,
   "id": "b0a1356c-dbb3-43e4-8aba-e421390a3bee",
   "metadata": {},
   "outputs": [],
   "source": []
  },
  {
   "cell_type": "code",
   "execution_count": null,
   "id": "28898238-dd32-48dd-bef5-af1e5f47fd56",
   "metadata": {},
   "outputs": [],
   "source": [
    "# Dione region 2: DSP\n",
    "target = \"n_craters_added_in_study_region\"\n",
    "target_slope = 2.66\n",
    "slope_plus_minus = 0.05\n",
    "target_log_mean_c2c_nn_dist = 0.6685\n",
    "\n",
    "# observations_data = [\n",
    "#     [target_slope - slope_ci_width, target_log_mean_c2c_nn_dist],\n",
    "#     [target_slope, target_log_mean_c2c_nn_dist],\n",
    "#     [target_slope + slope_ci_width, target_log_mean_c2c_nn_dist],\n",
    "# ]\n",
    "# observations = pd.DataFrame(observations_data, columns=[\"slope\", \"log_mean_c2c_nn_dist\"])\n",
    "\n",
    "# bandwidths_data = [\n",
    "#     [slope_ci_width, 0.005],\n",
    "# ]\n",
    "# bandwidths = pd.DataFrame(bandwidths_data, columns=[\"slope\", \"log_mean_c2c_nn_dist\"])\n",
    "\n",
    "# result = get_confidence_intervals(data, configs_df, target, observations, bandwidths, spark)\n",
    "# result[result.observation_slope == target_slope]\n",
    "\n",
    "target_log_mean_c2c_nn_dist_step = 0.05\n",
    "\n",
    "\n",
    "observations_data = [\n",
    "    [target_slope + x * slope_step, target_log_mean_c2c_nn_dist + y * target_log_mean_c2c_nn_dist_step]\n",
    "    for x in range(-5, 6)\n",
    "    for y in range(-5, 6)\n",
    "]\n",
    "observations = pd.DataFrame(observations_data, columns=[\"slope\", \"log_mean_c2c_nn_dist\"])\n",
    "\n",
    "bandwidths_data = [\n",
    "    [slope_ci_width / 2, 0.0025],\n",
    "    [slope_ci_width / 2, 0.005],\n",
    "    [slope_ci_width, 0.0025],\n",
    "]\n",
    "bandwidths = pd.DataFrame(bandwidths_data, columns=[\"slope\", \"log_mean_c2c_nn_dist\"])\n",
    "\n",
    "result = get_confidence_intervals(data, configs_df, target, observations, bandwidths, spark)\n",
    "result[\"95_ci_ratio\"] = result.percentiles.map(lambda x: np.log10(x[-1] / x[0]))\n",
    "result[\"95_ci_range\"] = result.percentiles.map(lambda x: [x[0], x[1]])\n",
    "dsp_extended = result"
   ]
  },
  {
   "cell_type": "code",
   "execution_count": null,
   "id": "83ef2539-a2c4-49ff-8d18-d909b501e44c",
   "metadata": {},
   "outputs": [],
   "source": [
    "percentiles = result[result.observation_slope == target_slope].percentiles.iloc[0]\n",
    "print(f\"Orders of magnitude: {np.log10(percentiles[-1] / percentiles[0])}\")\n",
    "print(f\"95% CI: ({percentiles[0]}, {percentiles[-1]})\")"
   ]
  },
  {
   "cell_type": "code",
   "execution_count": null,
   "id": "b5d95ddb-50e2-44a8-8e4a-53fb57f2a4a7",
   "metadata": {},
   "outputs": [],
   "source": [
    "dsp_extended.sort_values(\"95_ci_ratio\")"
   ]
  },
  {
   "cell_type": "code",
   "execution_count": null,
   "id": "12e52635-f035-4e03-af73-f7281aad3b9f",
   "metadata": {},
   "outputs": [],
   "source": []
  },
  {
   "cell_type": "code",
   "execution_count": null,
   "id": "40245de6-7858-4cf1-bc60-b3979a870d16",
   "metadata": {},
   "outputs": [],
   "source": [
    "# Dione region 3: DICP\n",
    "target = \"n_craters_added_in_study_region\"\n",
    "target_slope = 2.08\n",
    "slope_ci_width = 0.09\n",
    "target_log_mean_c2c_nn_dist = 0.9338\n",
    "\n",
    "# observations_data = [\n",
    "#     [target_slope - slope_ci_width, target_log_mean_c2c_nn_dist],\n",
    "#     [target_slope, target_log_mean_c2c_nn_dist],\n",
    "#     [target_slope + slope_ci_width, target_log_mean_c2c_nn_dist],\n",
    "# ]\n",
    "# observations = pd.DataFrame(observations_data, columns=[\"slope\", \"log_mean_c2c_nn_dist\"])\n",
    "\n",
    "# bandwidths_data = [\n",
    "#     [slope_ci_width, 0.005],\n",
    "# ]\n",
    "# bandwidths = pd.DataFrame(bandwidths_data, columns=[\"slope\", \"log_mean_c2c_nn_dist\"])\n",
    "\n",
    "# result = get_confidence_intervals(data, configs_df, target, observations, bandwidths, spark)\n",
    "# result[result.observation_slope == target_slope]\n",
    "\n",
    "target_log_mean_c2c_nn_dist_step = 0.05\n",
    "\n",
    "\n",
    "observations_data = [\n",
    "    [target_slope + x * slope_step, target_log_mean_c2c_nn_dist + y * target_log_mean_c2c_nn_dist_step]\n",
    "    for x in range(-5, 6)\n",
    "    for y in range(-5, 6)\n",
    "]\n",
    "observations = pd.DataFrame(observations_data, columns=[\"slope\", \"log_mean_c2c_nn_dist\"])\n",
    "\n",
    "bandwidths_data = [\n",
    "    [slope_ci_width / 2, 0.0025],\n",
    "    [slope_ci_width / 2, 0.005],\n",
    "    [slope_ci_width, 0.0025],\n",
    "]\n",
    "bandwidths = pd.DataFrame(bandwidths_data, columns=[\"slope\", \"log_mean_c2c_nn_dist\"])\n",
    "\n",
    "result = get_confidence_intervals(data, configs_df, target, observations, bandwidths, spark)\n",
    "result[\"95_ci_ratio\"] = result.percentiles.map(lambda x: np.log10(x[-1] / x[0]))\n",
    "result[\"95_ci_range\"] = result.percentiles.map(lambda x: [x[0], x[1]])\n",
    "dicp = result"
   ]
  },
  {
   "cell_type": "code",
   "execution_count": null,
   "id": "3c4e771a-2e9d-4e55-98c6-31ddb0467bd4",
   "metadata": {},
   "outputs": [],
   "source": [
    "percentiles = result[result.observation_slope == target_slope].percentiles.iloc[0]\n",
    "print(f\"Orders of magnitude: {np.log10(percentiles[-1] / percentiles[0])}\")\n",
    "print(f\"95% CI: ({percentiles[0]}, {percentiles[-1]})\")"
   ]
  },
  {
   "cell_type": "code",
   "execution_count": null,
   "id": "23d96a11-4910-4f46-8992-1c5fe0902ef0",
   "metadata": {},
   "outputs": [],
   "source": [
    "dicp.sort_values(\"95_ci_ratio\")"
   ]
  },
  {
   "cell_type": "code",
   "execution_count": null,
   "id": "f7e0a545-4afa-481b-9fa8-9ebbdd280cef",
   "metadata": {},
   "outputs": [],
   "source": []
  },
  {
   "cell_type": "code",
   "execution_count": null,
   "id": "f1215698-8f2f-407e-bed5-22f26b127d86",
   "metadata": {},
   "outputs": [],
   "source": [
    "# Dione region 3: DICP, D > 4000m\n",
    "target = \"n_craters_added_in_study_region\"\n",
    "target_slope = 2.08\n",
    "slope_ci_width = 0.09\n",
    "target_log_mean_c2c_nn_dist = 0.6304\n",
    "\n",
    "# observations_data = [\n",
    "#     [target_slope - slope_ci_width, target_log_mean_c2c_nn_dist],\n",
    "#     [target_slope, target_log_mean_c2c_nn_dist],\n",
    "#     [target_slope + slope_ci_width, target_log_mean_c2c_nn_dist],\n",
    "# ]\n",
    "# observations = pd.DataFrame(observations_data, columns=[\"slope\", \"log_mean_c2c_nn_dist\"])\n",
    "\n",
    "# bandwidths_data = [\n",
    "#     [slope_ci_width, 0.005],\n",
    "# ]\n",
    "# bandwidths = pd.DataFrame(bandwidths_data, columns=[\"slope\", \"log_mean_c2c_nn_dist\"])\n",
    "\n",
    "# result = get_confidence_intervals(data, configs_df, target, observations, bandwidths, spark)\n",
    "# result[result.observation_slope == target_slope]\n",
    "\n",
    "target_log_mean_c2c_nn_dist_step = 0.05\n",
    "\n",
    "\n",
    "observations_data = [\n",
    "    [target_slope + x * slope_step, target_log_mean_c2c_nn_dist + y * target_log_mean_c2c_nn_dist_step]\n",
    "    for x in range(-5, 6)\n",
    "    for y in range(-5, 6)\n",
    "]\n",
    "observations = pd.DataFrame(observations_data, columns=[\"slope\", \"log_mean_c2c_nn_dist\"])\n",
    "\n",
    "bandwidths_data = [\n",
    "    [slope_ci_width / 2, 0.0025],\n",
    "    [slope_ci_width / 2, 0.005],\n",
    "    [slope_ci_width, 0.0025],\n",
    "]\n",
    "bandwidths = pd.DataFrame(bandwidths_data, columns=[\"slope\", \"log_mean_c2c_nn_dist\"])\n",
    "\n",
    "result = get_confidence_intervals(data, configs_df, target, observations, bandwidths, spark)\n",
    "result[\"95_ci_ratio\"] = result.percentiles.map(lambda x: np.log10(x[-1] / x[0]))\n",
    "result[\"95_ci_range\"] = result.percentiles.map(lambda x: [x[0], x[1]])\n",
    "dicp_4k_plus = result"
   ]
  },
  {
   "cell_type": "code",
   "execution_count": null,
   "id": "b4e43671-8f61-4803-856d-1358e06cbca3",
   "metadata": {},
   "outputs": [],
   "source": [
    "percentiles = result[result.observation_slope == target_slope].percentiles.iloc[0]\n",
    "print(f\"Orders of magnitude: {np.log10(percentiles[-1] / percentiles[0])}\")\n",
    "print(f\"95% CI: ({percentiles[0]}, {percentiles[-1]})\")"
   ]
  },
  {
   "cell_type": "code",
   "execution_count": null,
   "id": "106a1146-c48c-461f-8856-619dd751a6b4",
   "metadata": {},
   "outputs": [],
   "source": [
    "dicp_4k_plus.sort_values(\"95_ci_ratio\")"
   ]
  },
  {
   "cell_type": "code",
   "execution_count": null,
   "id": "1376bf17-a583-4766-896d-98e68af4f738",
   "metadata": {},
   "outputs": [],
   "source": []
  },
  {
   "cell_type": "code",
   "execution_count": null,
   "id": "50301767-9a42-42e6-a73f-4e3538d9a73e",
   "metadata": {},
   "outputs": [],
   "source": [
    "# Dione region 4: DDCP\n",
    "target = \"n_craters_added_in_study_region\"\n",
    "target_slope = 2.15\n",
    "slope_ci_width = 0.05\n",
    "target_log_mean_c2c_nn_dist = 0.5481\n",
    "\n",
    "# observations_data = [\n",
    "#     [target_slope - slope_ci_width, target_log_mean_c2c_nn_dist],\n",
    "#     [target_slope, target_log_mean_c2c_nn_dist],\n",
    "#     [target_slope + slope_ci_width, target_log_mean_c2c_nn_dist],\n",
    "# ]\n",
    "# observations = pd.DataFrame(observations_data, columns=[\"slope\", \"log_mean_c2c_nn_dist\"])\n",
    "\n",
    "# bandwidths_data = [\n",
    "#     [slope_ci_width, 0.005],\n",
    "# ]\n",
    "# bandwidths = pd.DataFrame(bandwidths_data, columns=[\"slope\", \"log_mean_c2c_nn_dist\"])\n",
    "\n",
    "# result = get_confidence_intervals(data, configs_df, target, observations, bandwidths, spark)\n",
    "# result[result.observation_slope == target_slope]\n",
    "target_log_mean_c2c_nn_dist_step = 0.05\n",
    "\n",
    "\n",
    "observations_data = [\n",
    "    [target_slope + x * slope_step, target_log_mean_c2c_nn_dist + y * target_log_mean_c2c_nn_dist_step]\n",
    "    for x in range(-5, 6)\n",
    "    for y in range(-5, 6)\n",
    "]\n",
    "observations = pd.DataFrame(observations_data, columns=[\"slope\", \"log_mean_c2c_nn_dist\"])\n",
    "\n",
    "bandwidths_data = [\n",
    "    [slope_ci_width / 2, 0.0025],\n",
    "    [slope_ci_width / 2, 0.005],\n",
    "    [slope_ci_width, 0.0025],\n",
    "]\n",
    "bandwidths = pd.DataFrame(bandwidths_data, columns=[\"slope\", \"log_mean_c2c_nn_dist\"])\n",
    "\n",
    "result = get_confidence_intervals(data, configs_df, target, observations, bandwidths, spark)\n",
    "result[\"95_ci_ratio\"] = result.percentiles.map(lambda x: np.log10(x[-1] / x[0]))\n",
    "result[\"95_ci_range\"] = result.percentiles.map(lambda x: [x[0], x[1]])\n",
    "ddcp = result"
   ]
  },
  {
   "cell_type": "code",
   "execution_count": null,
   "id": "75959ddc-2100-40c4-ba8f-8a5078e6307d",
   "metadata": {},
   "outputs": [],
   "source": [
    "percentiles = result[result.observation_slope == target_slope].percentiles.iloc[0]\n",
    "print(f\"Orders of magnitude: {np.log10(percentiles[-1] / percentiles[0])}\")\n",
    "print(f\"95% CI: ({percentiles[0]}, {percentiles[-1]})\")"
   ]
  },
  {
   "cell_type": "code",
   "execution_count": null,
   "id": "faf23bde-53a8-4186-9196-0d05afde3bb0",
   "metadata": {},
   "outputs": [],
   "source": [
    "ddcp.sort_values(\"95_ci_ratio\")"
   ]
  },
  {
   "cell_type": "code",
   "execution_count": null,
   "id": "3be390bb-3162-4488-bfeb-c4d94039a88e",
   "metadata": {},
   "outputs": [],
   "source": []
  },
  {
   "cell_type": "code",
   "execution_count": null,
   "id": "09f6b6c7-8769-419a-80e6-16cbe9d8ef59",
   "metadata": {},
   "outputs": [],
   "source": []
  },
  {
   "cell_type": "code",
   "execution_count": null,
   "id": "6b04fc05-ef88-4c66-90f4-a1fec176d262",
   "metadata": {},
   "outputs": [],
   "source": []
  },
  {
   "cell_type": "code",
   "execution_count": null,
   "id": "11ae2d7e-4945-40ff-8e35-d3046b286bcc",
   "metadata": {},
   "outputs": [],
   "source": [
    "# DEE w/AD\n",
    "\n",
    "target = \"n_craters_added_in_study_region\"\n",
    "target_slope = 2.10\n",
    "slope_ci_width = 0.08\n",
    "target_log_mean_c2c_nn_dist = 0.8136322010294104\n",
    "target_ad = 0.06\n",
    "\n",
    "observations_data = [\n",
    "    [target_slope - slope_ci_width, target_log_mean_c2c_nn_dist, target_ad],\n",
    "    [target_slope, target_log_mean_c2c_nn_dist, target_ad],\n",
    "    [target_slope + slope_ci_width, target_log_mean_c2c_nn_dist, target_ad],\n",
    "]\n",
    "observations = pd.DataFrame(observations_data, columns=[\"slope\", \"log_mean_c2c_nn_dist\", \"areal_density\"])\n",
    "\n",
    "bandwidths_data = [\n",
    "    [0.01, 0.001, 0.1],\n",
    "    [0.01, 0.005, 0.1],\n",
    "    [0.005, 0.001, 0.1],\n",
    "    [0.005, 0.005, 0.1],\n",
    "]\n",
    "bandwidths = pd.DataFrame(bandwidths_data, columns=[\"slope\", \"log_mean_c2c_nn_dist\", \"areal_density\"])\n",
    "\n",
    "result = get_confidence_intervals(data, configs_df, target, observations, bandwidths, spark)\n",
    "result"
   ]
  },
  {
   "cell_type": "code",
   "execution_count": null,
   "id": "e15391fc-d6df-46a4-931f-28f1aea16c3a",
   "metadata": {},
   "outputs": [],
   "source": [
    "# DEE w/Za\n",
    "\n",
    "target = \"n_craters_added_in_study_region\"\n",
    "target_slope = 2.10\n",
    "slope_ci_width = 0.08\n",
    "target_log_mean_c2c_nn_dist = 0.8136322010294104\n",
    "target_za = -0.23\n",
    "\n",
    "observations_data = [\n",
    "    [target_slope - slope_ci_width, target_log_mean_c2c_nn_dist, target_za],\n",
    "    [target_slope, target_log_mean_c2c_nn_dist, target_za],\n",
    "    [target_slope + slope_ci_width, target_log_mean_c2c_nn_dist, target_za],\n",
    "]\n",
    "observations = pd.DataFrame(observations_data, columns=[\"slope\", \"log_mean_c2c_nn_dist\", \"za\"])\n",
    "\n",
    "bandwidths_data = [\n",
    "    [0.01, 0.001, 3],\n",
    "    [0.01, 0.005, 3],\n",
    "    [0.005, 0.001, 3],\n",
    "    [0.005, 0.005, 3],\n",
    "]\n",
    "bandwidths = pd.DataFrame(bandwidths_data, columns=[\"slope\", \"log_mean_c2c_nn_dist\", \"za\"])\n",
    "\n",
    "result = get_confidence_intervals(data, configs_df, target, observations, bandwidths, spark)\n",
    "result"
   ]
  },
  {
   "cell_type": "code",
   "execution_count": null,
   "id": "0c722e10-6332-465f-a02f-e1d77a544e3b",
   "metadata": {},
   "outputs": [],
   "source": []
  },
  {
   "cell_type": "code",
   "execution_count": null,
   "id": "ae285b07-0704-467e-a9a2-824cc74b5b6e",
   "metadata": {},
   "outputs": [],
   "source": []
  },
  {
   "cell_type": "code",
   "execution_count": null,
   "id": "7ab29800-395b-4825-8252-4838e1df68e3",
   "metadata": {},
   "outputs": [],
   "source": []
  },
  {
   "cell_type": "code",
   "execution_count": null,
   "id": "66fe3a4a-8e1d-432f-9299-8bbc466086d1",
   "metadata": {},
   "outputs": [],
   "source": [
    "target = \"n_craters_added_in_study_region\"\n",
    "\n",
    "observation = {\n",
    "    \"slope\": 1.5,\n",
    "    \"log_mean_c2c_nn_dist\": 1.8\n",
    "}\n",
    "bandwidths = {\n",
    "    \"slope\": 0.1,\n",
    "    \"log_mean_c2c_nn_dist\": 0.05\n",
    "}\n",
    "\n",
    "result = get_confidence_interval(data, configs_df, target, observation, bandwidths)"
   ]
  },
  {
   "cell_type": "code",
   "execution_count": null,
   "id": "2de63e61-5350-4dd1-b31c-9f954204266e",
   "metadata": {},
   "outputs": [],
   "source": [
    "result"
   ]
  },
  {
   "cell_type": "code",
   "execution_count": null,
   "id": "42d4d076-3ec3-4ccd-abff-bd1d8a459391",
   "metadata": {},
   "outputs": [],
   "source": []
  },
  {
   "cell_type": "code",
   "execution_count": null,
   "id": "a0b01c9a-5eba-463c-af38-e04271c807f0",
   "metadata": {},
   "outputs": [],
   "source": [
    "simulation_id = None\n",
    "target = \"n_craters_added_in_study_region\"\n",
    "\n",
    "bandwidths = {\n",
    "    \"slope\": 0.01,\n",
    "    \"log_mean_c2c_nn_dist\": 0.001\n",
    "}"
   ]
  },
  {
   "cell_type": "code",
   "execution_count": null,
   "id": "8193a214-e918-4ca9-863c-2d86398960c9",
   "metadata": {},
   "outputs": [],
   "source": [
    "# Dione 1 (DEE)\n",
    "target_slope = 2.10\n",
    "slope_ci_width = 0.08\n",
    "target_log_mean_c2c_nn_dist = 0.8136322010294104\n",
    "\n",
    "observation = {\n",
    "    \"slope\": target_slope,\n",
    "    \"log_mean_c2c_nn_dist\": target_log_mean_c2c_nn_dist\n",
    "}\n",
    "result = get_confidence_interval(data, configs_df, target, observation, bandwidths)\n",
    "dione1_result = result\n",
    "result"
   ]
  },
  {
   "cell_type": "code",
   "execution_count": null,
   "id": "94ff028e-90e3-44cc-8b0a-45f4e7c3f749",
   "metadata": {},
   "outputs": [],
   "source": [
    "# Dione 2 (DSP)\n",
    "target_slope = 2.66\n",
    "slope_plus_minus = 0.05\n",
    "target_log_mean_c2c_nn_dist = 0.6685316230432883\n",
    "target_effective_radius_multiplier = 1.3\n",
    "\n",
    "observation = {\n",
    "    \"slope\": target_slope,\n",
    "    \"log_mean_c2c_nn_dist\": target_log_mean_c2c_nn_dist\n",
    "}\n",
    "result = get_confidence_interval(data, configs_df, target, observation, bandwidths)\n",
    "dione2_result = result\n",
    "result"
   ]
  },
  {
   "cell_type": "code",
   "execution_count": null,
   "id": "e76945a5-62e6-45d0-8143-741d99896e68",
   "metadata": {},
   "outputs": [],
   "source": [
    "# Dione 2 (DSP)\n",
    "target_slope = 2.66\n",
    "slope_plus_minus = 0.05\n",
    "target_log_mean_c2c_nn_dist = 0.6685316230432883\n",
    "target_effective_radius_multiplier = 1.3\n",
    "\n",
    "observation = {\n",
    "    \"slope\": target_slope,\n",
    "    \"log_mean_c2c_nn_dist\": target_log_mean_c2c_nn_dist\n",
    "}\n",
    "result = get_confidence_interval(data, configs_df, target, observation, bandwidths)\n",
    "dione2_result = result\n",
    "result"
   ]
  },
  {
   "cell_type": "code",
   "execution_count": null,
   "id": "84ac3662-46c8-4e39-aca3-232ce913f6cd",
   "metadata": {},
   "outputs": [],
   "source": [
    "# Dione 2 (DSP)\n",
    "# Wider slope bandwidth\n",
    "target_slope = 2.8\n",
    "slope_plus_minus = 0.05\n",
    "target_log_mean_c2c_nn_dist = 0.6685316230432883\n",
    "target_effective_radius_multiplier = 1.3\n",
    "\n",
    "observation = {\n",
    "    \"slope\": target_slope,\n",
    "    \"log_mean_c2c_nn_dist\": target_log_mean_c2c_nn_dist\n",
    "}\n",
    "result = get_confidence_interval(data, configs_df, target, observation, bandwidths)\n",
    "dione2_result = result\n",
    "result"
   ]
  },
  {
   "cell_type": "code",
   "execution_count": null,
   "id": "a70ca48d-91fa-4c59-9bbb-7e4bea7fa54f",
   "metadata": {},
   "outputs": [],
   "source": [
    "# Dione 3 (DICP)\n",
    "target_slope = 2.08\n",
    "slope_ci_width = 0.09\n",
    "target_log_mean_c2c_nn_dist = 0.9338405903389017\n",
    "\n",
    "observation = {\n",
    "    \"slope\": target_slope,\n",
    "    \"log_mean_c2c_nn_dist\": target_log_mean_c2c_nn_dist\n",
    "}\n",
    "result = get_confidence_interval(data, configs_df, target, observation, bandwidths)\n",
    "dione3_result = result\n",
    "result"
   ]
  },
  {
   "cell_type": "code",
   "execution_count": null,
   "id": "c7562335-04d7-40e5-8a98-7da9126d18cb",
   "metadata": {},
   "outputs": [],
   "source": [
    "# Dione 4 (DDCP)\n",
    "target_slope = 2.15\n",
    "slope_ci_width = 0.05\n",
    "target_log_mean_c2c_nn_dist = 0.5480628421533491\n",
    "\n",
    "observation = {\n",
    "    \"slope\": target_slope,\n",
    "    \"log_mean_c2c_nn_dist\": target_log_mean_c2c_nn_dist\n",
    "}\n",
    "result = get_confidence_interval(data, configs_df, target, observation, bandwidths)\n",
    "dione4_result = result\n",
    "result"
   ]
  },
  {
   "cell_type": "code",
   "execution_count": null,
   "id": "2bd0dd98-b9dc-4096-84ac-24f19366fe5d",
   "metadata": {},
   "outputs": [],
   "source": []
  },
  {
   "cell_type": "code",
   "execution_count": null,
   "id": "91043ae0-a40a-44df-9b16-b1363e2ac231",
   "metadata": {},
   "outputs": [],
   "source": [
    "# Dione 2 (DSP)\n",
    "# With eff radius multiplier\n",
    "target_slope = 2.66\n",
    "slope_plus_minus = 0.05\n",
    "target_log_mean_c2c_nn_dist = 0.6685316230432883\n",
    "target_effective_radius_multiplier = 1.3\n",
    "\n",
    "observation = {\n",
    "    \"slope\": target_slope,\n",
    "    \"log_mean_c2c_nn_dist\": target_log_mean_c2c_nn_dist,\n",
    "    \"effective_radius_multiplier\": target_effective_radius_multiplier\n",
    "}\n",
    "bandwidths_with_eff = bandwidths.copy()\n",
    "bandwidths_with_eff.update({\"effective_radius_multiplier\": 0.05})\n",
    "result = get_confidence_interval(data, configs_df, target, observation, bandwidths_with_eff)\n",
    "dione2_with_eff_result = result\n",
    "result"
   ]
  },
  {
   "cell_type": "code",
   "execution_count": null,
   "id": "bdaa5956-a8ed-46de-a9b4-d6377bf4fdbb",
   "metadata": {},
   "outputs": [],
   "source": []
  },
  {
   "cell_type": "code",
   "execution_count": null,
   "id": "af6b557c-985e-4faa-ac85-ddc1e91efb49",
   "metadata": {},
   "outputs": [],
   "source": []
  },
  {
   "cell_type": "code",
   "execution_count": null,
   "id": "4a49d14b-921e-4888-9c9e-6ea7b5f60017",
   "metadata": {},
   "outputs": [],
   "source": []
  },
  {
   "cell_type": "code",
   "execution_count": null,
   "id": "a4c5b17a-2e2a-4bf6-b7f1-fd868555ffc8",
   "metadata": {},
   "outputs": [],
   "source": []
  },
  {
   "cell_type": "code",
   "execution_count": null,
   "id": "85f89c66-89af-43a7-8fc5-1cf969fe77d8",
   "metadata": {},
   "outputs": [],
   "source": [
    "# Try using SQL\n",
    "simulation_id = None\n",
    "target = \"n_craters_added_in_study_region\"\n",
    "bandwidths = {\n",
    "    \"slope\": 0.1,\n",
    "    \"log_mean_c2c_nn_dist\": 0.05\n",
    "}\n",
    "\n",
    "observation = {\n",
    "    \"slope\": 1.5,\n",
    "    \"log_mean_c2c_nn_dist\": 1.8\n",
    "}\n",
    "\n",
    "\n",
    "data.createOrReplaceTempView(\"data\")\n",
    "configs_df.createOrReplaceTempView(\"configs\")\n",
    "\n",
    "simulation_id_clause = f\"AND data.simulation_id <> {simulation_id}\\n\" if simulation_id else \"\"\n",
    "bandwidth_clauses = \"\"\n",
    "for var, bandwidth in bandwidths.items():\n",
    "    observation_value = observation[var]\n",
    "    bandwidth_clauses += f\"AND {var} BETWEEN {observation_value - bandwidth} AND {observation_value + bandwidth}\\n\"\n",
    "\n",
    "result = spark.sql(f\"\"\"\n",
    "SELECT\n",
    "    *\n",
    "    -- approx_percentile({target}, array(0.025, 0.5, 0.975), 10000) as percentiles\n",
    "FROM\n",
    "    data\n",
    "    INNER JOIN configs\n",
    "        ON data.simulation_id = configs.simulation_id\n",
    "WHERE\n",
    "    1=1\n",
    "    {simulation_id_clause}\n",
    "    {bandwidth_clauses}\n",
    "\"\"\").toPandas()"
   ]
  },
  {
   "cell_type": "code",
   "execution_count": null,
   "id": "9df41ea5-576d-4b74-a0ab-5b6260a1314b",
   "metadata": {},
   "outputs": [],
   "source": [
    "data.columns"
   ]
  },
  {
   "cell_type": "code",
   "execution_count": null,
   "id": "ab6dea06-7b2e-46fd-8198-975528dc3561",
   "metadata": {},
   "outputs": [],
   "source": []
  },
  {
   "cell_type": "code",
   "execution_count": null,
   "id": "efaebf0e-8e3f-4698-afc8-7e8f63abe6a2",
   "metadata": {},
   "outputs": [],
   "source": []
  },
  {
   "cell_type": "code",
   "execution_count": null,
   "id": "e2806bfc-39b9-48d2-99bb-56461a5c9fef",
   "metadata": {},
   "outputs": [],
   "source": []
  },
  {
   "cell_type": "code",
   "execution_count": null,
   "id": "90db0e88-adcf-45d4-84c6-a946fce348e2",
   "metadata": {},
   "outputs": [],
   "source": []
  },
  {
   "cell_type": "code",
   "execution_count": null,
   "id": "57d71efd-d64c-49fa-b955-419317cb3b21",
   "metadata": {},
   "outputs": [],
   "source": []
  },
  {
   "cell_type": "code",
   "execution_count": null,
   "id": "ff5d0c64-cb2b-4463-b344-3cbe3ebf72ef",
   "metadata": {},
   "outputs": [],
   "source": []
  },
  {
   "cell_type": "code",
   "execution_count": null,
   "id": "993c57b0-a0d4-4a22-ac08-1b03331df6f7",
   "metadata": {},
   "outputs": [],
   "source": [
    "slope_delta = 0.1\n",
    "log_mean_c2c_nn_dist_delta = 0.1\n",
    "effective_radius_multiplier_delta = 0.1\n",
    "\n",
    "min_slope, max_slope, n_slope_buckets = get_min_max_n_buckets(\"slope\", slope_delta, configs_df)\n",
    "min_log_mean_c2c_nn_dist, max_log_mean_c2c_nn_dist, n_log_mean_c2c_nn_dist_buckets = get_min_max_n_buckets(\"log_mean_c2c_nn_dist\", log_mean_c2c_nn_dist_delta, data)\n",
    "min_effective_radius_multiplier, max_effective_radius_multiplier, n_effective_radius_multiplier_buckets = get_min_max_n_buckets(\"effective_radius_multiplier\", effective_radius_multiplier_delta, configs_df)"
   ]
  },
  {
   "cell_type": "code",
   "execution_count": null,
   "id": "3f88bdc5-9ee7-4eeb-862b-5fd1cbeffe36",
   "metadata": {},
   "outputs": [],
   "source": [
    "targets_array = [\n",
    "    [np.round(x, decimals=5), np.round(y, decimals=5), np.round(z, decimals=5)]\n",
    "    for x in np.linspace(min_slope, max_slope, n_slope_buckets)\n",
    "    for y in np.linspace(min_log_mean_c2c_nn_dist, max_log_mean_c2c_nn_dist, n_log_mean_c2c_nn_dist_buckets)\n",
    "    for z in np.linspace(min_effective_radius_multiplier, max_effective_radius_multiplier, n_effective_radius_multiplier_buckets)\n",
    "]\n",
    "\n",
    "targets = pd.DataFrame(targets_array, columns=[\"target_slope\", \"target_log_mean_c2c_nn_dist\", \"target_effective_radius_multiplier\"])\n",
    "targets_spark_df = spark.createDataFrame(targets)\n",
    "data_with_targets = data.join(F.broadcast(targets_spark_df), how=\"cross\")"
   ]
  },
  {
   "cell_type": "code",
   "execution_count": null,
   "id": "88b08859-1a29-471c-99ac-be957199775d",
   "metadata": {},
   "outputs": [],
   "source": [
    "data_with_configs = data_with_targets.join(F.broadcast(configs_df), on=\"simulation_id\")"
   ]
  },
  {
   "cell_type": "code",
   "execution_count": null,
   "id": "bc7359fb-5351-4623-aee6-174cc2d8e386",
   "metadata": {},
   "outputs": [],
   "source": [
    "# Parameters\n",
    "simulation_id = None\n",
    "slope_ci_width = 0.05\n",
    "log_mean_c2c_nn_dist_width = 0.01\n",
    "effective_radius_multiplier_width = 0.1\n",
    "\n",
    "# Select where not equal to a simulation ID\n",
    "data_to_query = data_with_configs\n",
    "if simulation_id is not None:\n",
    "    data_to_query = data_to_query.where(F.col(\"simulation_id\") != simulation_id)\n",
    "\n",
    "# Select within a range of slope and log_c2c_nn_dist_mean\n",
    "result = (\n",
    "    data_to_query\n",
    "        .where((F.col(\"slope\") > F.col(\"target_slope\") - F.lit(slope_width))\n",
    "               & (F.col(\"slope\") <= F.col(\"target_slope\") + F.lit(slope_width))\n",
    "               & (F.col(\"log_mean_c2c_nn_dist\") > F.col(\"target_log_mean_c2c_nn_dist\") - F.lit(log_mean_c2c_nn_dist_width))\n",
    "               & (F.col(\"log_mean_c2c_nn_dist\") <= F.col(\"target_log_mean_c2c_nn_dist\") + F.lit(log_mean_c2c_nn_dist_width))\n",
    "               & (F.col(\"effective_radius_multiplier\") > F.col(\"target_effective_radius_multiplier\") - F.lit(effective_radius_multiplier_width))\n",
    "               & (F.col(\"effective_radius_multiplier\") <= F.col(\"target_effective_radius_multiplier\") + F.lit(effective_radius_multiplier_width)))\n",
    "        .groupby(\"target_slope\", \"target_log_mean_c2c_nn_dist\", \"target_effective_radius_multiplier\")\n",
    "        .agg(\n",
    "            F.percentile_approx(\"n_craters_added_in_study_region\", F.array(*[F.lit((x) / 40.0) for x in range(40)]), 10000).alias(\"N_percentiles\"),\n",
    "            F.mean(\"n_craters_added_in_study_region\").alias(\"N_mean\"),\n",
    "            F.stddev(\"n_craters_added_in_study_region\").alias(\"N_stdev\"),\n",
    "            F.count(\"n_craters_added_in_study_region\").alias(\"count\")\n",
    "        )\n",
    ")"
   ]
  },
  {
   "cell_type": "code",
   "execution_count": null,
   "id": "95ba052c-3d4c-4a4b-8660-8e31d8e988a7",
   "metadata": {},
   "outputs": [],
   "source": [
    "df = result.toPandas()\n",
    "df"
   ]
  },
  {
   "cell_type": "code",
   "execution_count": null,
   "id": "23044fad-9eed-4a75-8ea1-f4d178af3b46",
   "metadata": {},
   "outputs": [],
   "source": [
    "df[df.target_slope == 2.1].sort_values([\"target_log_mean_c2c_nn_dist\", \"target_effective_radius_multiplier\"])"
   ]
  },
  {
   "cell_type": "code",
   "execution_count": null,
   "id": "8d9b7850-1623-4ad8-9faa-70d2388d3fc5",
   "metadata": {},
   "outputs": [],
   "source": [
    "def get_single_confidence_interval(target_slope: float,\n",
    "                                   slope_delta: float,\n",
    "                                   target_log_mean_c2c_nn_dist: float,\n",
    "                                   log_mean_c2c_nn_dist_delta: float,\n",
    "                                   target_effective_radius_multiplier: float,\n",
    "                                   effective_radius_multiplier_delta: float,\n",
    "                                   data: pd.DataFrame) -> Tuple[float, float, float]:\n",
    "    target_slope = quantize_value(target_slope, slope_delta)\n",
    "    target_log_mean_c2c_nn_dist = quantize_value(target_log_mean_c2c_nn_dist, log_mean_c2c_nn_dist_delta)\n",
    "    target_effective_radius_multiplier = quantize_value(target_effective_radius_multiplier, effective_radius_multiplier_delta)\n",
    "    \n",
    "    row = data[(np.abs(data.target_slope - target_slope) < 0.001)\n",
    "                & (np.abs(data.target_log_mean_c2c_nn_dist - target_log_mean_c2c_nn_dist) < 0.001)\n",
    "                & (np.abs(data.target_effective_radius_multiplier - target_effective_radius_multiplier) < 0.001)\n",
    "            ].iloc[0]\n",
    "\n",
    "    # 2.5th and 97.5th percentiles\n",
    "    return row.N_percentiles[1], row.N_percentiles[-2]\n",
    "\n",
    "def get_confidence_intervals(target_slope: float,\n",
    "                             slope_delta: float,\n",
    "                             slope_ci_width: float,\n",
    "                             target_log_mean_c2c_nn_dist: float,\n",
    "                             log_mean_c2c_nn_dist_delta: float,\n",
    "                             target_effective_radius_multiplier: float,\n",
    "                             effective_radius_multiplier_delta: float,\n",
    "                             data: pd.DataFrame) -> Tuple[float, float]:\n",
    "    lower_ci = get_single_confidence_interval(target_slope - slope_ci_width, slope_delta, target_log_mean_c2c_nn_dist, log_mean_c2c_nn_dist_delta, target_effective_radius_multiplier, effective_radius_multiplier_delta, data)\n",
    "    mean_ci = get_single_confidence_interval(target_slope, slope_delta, target_log_mean_c2c_nn_dist, log_mean_c2c_nn_dist_delta, target_effective_radius_multiplier, effective_radius_multiplier_delta, data)\n",
    "    upper_ci = get_single_confidence_interval(target_slope + slope_ci_width, slope_delta, target_log_mean_c2c_nn_dist, log_mean_c2c_nn_dist_delta, target_effective_radius_multiplier, effective_radius_multiplier_delta, data)\n",
    "\n",
    "    return [lower_ci, mean_ci, upper_ci]"
   ]
  },
  {
   "cell_type": "code",
   "execution_count": null,
   "id": "10e1ab10-94e3-4311-a713-8cbff29b4880",
   "metadata": {},
   "outputs": [],
   "source": [
    "# Dione 1 (DEE)\n",
    "# target_slope = 2.10\n",
    "# slope_ci_width = 0.08\n",
    "# target_log_mean_c2c_nn_dist = 0.8136322010294104\n",
    "\n",
    "# Dione 2 (DSP)\n",
    "target_slope = 2.66\n",
    "slope_plus_minus = 0.05\n",
    "target_log_mean_c2c_nn_dist = 0.6685316230432883\n",
    "target_effective_radius_multiplier = 1.3\n",
    "\n",
    "# Dione 3 (DICP)\n",
    "# target_slope = 2.08\n",
    "# slope_ci_width = 0.09\n",
    "# target_log_mean_c2c_nn_dist = 0.9338405903389017\n",
    "\n",
    "# Dione 4 (DDCP)\n",
    "# target_slope = 2.15\n",
    "# slope_ci_width = 0.05\n",
    "# target_log_mean_c2c_nn_dist = 0.5480628421533491\n",
    "\n",
    "\n",
    "get_confidence_intervals(target_slope, slope_delta, slope_ci_width, target_log_mean_c2c_nn_dist, log_mean_c2c_nn_dist_delta, target_effective_radius_multiplier, effective_radius_multiplier_delta, df)"
   ]
  },
  {
   "cell_type": "code",
   "execution_count": null,
   "id": "6d63dd54-d559-4113-bf24-3a2f8a660698",
   "metadata": {},
   "outputs": [],
   "source": []
  },
  {
   "cell_type": "code",
   "execution_count": null,
   "id": "6e8f63ec-c65f-4359-a9c6-bf59048d61db",
   "metadata": {},
   "outputs": [],
   "source": []
  },
  {
   "cell_type": "code",
   "execution_count": null,
   "id": "0ddf5f6b-6ece-4722-94b6-4ff8df533fe9",
   "metadata": {},
   "outputs": [],
   "source": []
  },
  {
   "cell_type": "code",
   "execution_count": null,
   "id": "d23d6993-be45-4702-963f-47d3e222b3ef",
   "metadata": {},
   "outputs": [],
   "source": []
  }
 ],
 "metadata": {
  "kernelspec": {
   "display_name": "Python 3 (ipykernel)",
   "language": "python",
   "name": "python3"
  },
  "language_info": {
   "codemirror_mode": {
    "name": "ipython",
    "version": 3
   },
   "file_extension": ".py",
   "mimetype": "text/x-python",
   "name": "python",
   "nbconvert_exporter": "python",
   "pygments_lexer": "ipython3",
   "version": "3.11.6"
  }
 },
 "nbformat": 4,
 "nbformat_minor": 5
}
