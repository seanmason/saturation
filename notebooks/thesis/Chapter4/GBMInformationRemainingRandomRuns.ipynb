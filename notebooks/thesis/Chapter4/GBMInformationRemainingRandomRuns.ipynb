{
 "cells": [
  {
   "cell_type": "code",
   "execution_count": 1,
   "id": "55e0efce-6a46-44c6-8945-804d72b55b6c",
   "metadata": {},
   "outputs": [],
   "source": [
    "import matplotlib.pyplot as plt\n",
    "import plotly.express as px\n",
    "import plotly.io as pio\n",
    "import plotly.graph_objects as go\n",
    "\n",
    "from pathlib import Path\n",
    "import pandas as pd\n",
    "import numpy as np\n",
    "\n",
    "import pyspark\n",
    "import pyspark.sql.functions as F\n",
    "from pyspark.sql import SparkSession, DataFrame, Row, Window\n",
    "from pyspark.ml.linalg import Vectors\n",
    "from pyspark.ml.feature import VectorAssembler\n",
    "\n",
    "import statsmodels.api as sm\n",
    "import scipy.stats as stats\n",
    "\n",
    "import sklearn\n",
    "from sklearn.linear_model import LinearRegression\n",
    "from sklearn.ensemble import RandomForestRegressor\n",
    "from sklearn.ensemble import GradientBoostingRegressor\n",
    "from sklearn.feature_selection import RFECV\n",
    "from sklearn.model_selection import KFold\n",
    "\n",
    "from sklearn.model_selection import train_test_split\n",
    "from sklearn.metrics import *\n",
    "\n",
    "from synapse.ml.lightgbm import *\n",
    "\n",
    "pio.renderers.default = \"iframe\""
   ]
  },
  {
   "cell_type": "code",
   "execution_count": 2,
   "id": "ea067d2d-3064-474d-8014-ca6341663984",
   "metadata": {},
   "outputs": [],
   "source": [
    "def fix_up_df(df: pd.DataFrame):\n",
    "    log_transform = [\n",
    "        \"n_craters_in_study_region\",\n",
    "        \"center_to_center_nearest_neighbor_distance_mean\",\n",
    "        \"center_to_center_nearest_neighbor_distance_stdev\",\n",
    "        \"center_to_center_nearest_neighbor_distance_min\",\n",
    "        \"center_to_center_nearest_neighbor_distance_max\",\n",
    "        \"radius_mean\",\n",
    "        \"radius_stdev\"\n",
    "    ]\n",
    "\n",
    "    df = df[df.n_craters_added_in_study_region > 100].reset_index().copy()\n",
    "    df[\"z\"] = df.z.fillna(0)\n",
    "    df[\"za\"] = df.za.fillna(0)\n",
    "    df[\"log_n_craters_added_in_study_region\"] = np.log(df.n_craters_added_in_study_region)\n",
    "    df[\"craters_removed\"] = df.n_craters_added_in_study_region - df.n_craters_in_study_region\n",
    "    df[\"log_craters_removed\"] = np.log(1 + df.craters_removed)\n",
    "    for x in log_transform:\n",
    "        df[f\"log_{x}\"] = np.log(1 + df[x])\n",
    "    return df\n",
    "\n",
    "# def fix_up_df(df: pd.DataFrame):\n",
    "#     df[\"z\"] = df.z.fillna(0)\n",
    "#     df[\"za\"] = df.za.fillna(0)\n",
    "#     df[\"percent_rim_to_rim_nearest_neighbors_zero\"] = df.n_non_zero_rim_to_rim_nearest_neighbor_distances / df.n_craters_in_study_region\n",
    "#     df[\"log_n_craters_added_in_study_region\"] = np.log(df.n_craters_added_in_study_region)\n",
    "#     df[\"craters_removed\"] = df.n_craters_added_in_study_region - df.n_craters_in_study_region\n",
    "#     df[\"log_craters_removed\"] = np.log(1 + df.craters_removed)\n",
    "#     for x in ivs:\n",
    "#         df[f\"log_{x}\"] = np.log(1 + df[x])\n",
    "#     return df"
   ]
  },
  {
   "cell_type": "code",
   "execution_count": 18,
   "id": "5c53298e-9414-4908-9ccc-c21ca98a8bf5",
   "metadata": {},
   "outputs": [],
   "source": [
    "# base_path = \"/data/saturation/random_runs_20230812\"\n",
    "base_path = \"/data/saturation/ir_random_1\"\n",
    "\n",
    "ivs = [\n",
    "    \"slope\",\n",
    "    # \"effective_radius_multiplier\",\n",
    "    # \"r_stat_multiplier\",\n",
    "    # \"min_rim_percentage\",\n",
    "    # \"z\",\n",
    "    \"za\",\n",
    "    \"n_craters_in_study_region\",\n",
    "    # \"log_n_craters_in_study_region\",\n",
    "    \"areal_density\",\n",
    "    \"areal_density_overlap_2\",\n",
    "    \"areal_density_overlap_3\",\n",
    "    \"center_to_center_nearest_neighbor_distance_mean\",\n",
    "    \"center_to_center_nearest_neighbor_distance_stdev\",\n",
    "    \"center_to_center_nearest_neighbor_distance_min\",\n",
    "    \"center_to_center_nearest_neighbor_distance_max\",\n",
    "    # \"log_center_to_center_nearest_neighbor_distance_mean\",\n",
    "    # \"log_center_to_center_nearest_neighbor_distance_stdev\",\n",
    "    # \"log_center_to_center_nearest_neighbor_distance_max\",\n",
    "    \"radius_mean\",\n",
    "    \"radius_stdev\",\n",
    "    # \"log_radius_mean\",\n",
    "    # \"log_radius_stdev\",\n",
    "]\n",
    "\n",
    "non_constant_ivs = [\n",
    "    \"z\",\n",
    "    \"za\",\n",
    "    \"areal_density\",\n",
    "    \"areal_density_overlap_2\",\n",
    "    \"areal_density_overlap_3\",\n",
    "    \"center_to_center_nearest_neighbor_distance_mean\",\n",
    "    \"center_to_center_nearest_neighbor_distance_stdev\",\n",
    "    \"center_to_center_nearest_neighbor_distance_min\",\n",
    "    \"center_to_center_nearest_neighbor_distance_max\",\n",
    "    # \"log_n_craters_in_study_region\",\n",
    "    \"radius_mean\",\n",
    "    \"radius_stdev\",\n",
    "    # \"log_radius_mean\",\n",
    "    # \"log_radius_stdev\",\n",
    "]"
   ]
  },
  {
   "cell_type": "code",
   "execution_count": 30,
   "id": "49f00a09-629a-4aac-84bc-047277229ada",
   "metadata": {},
   "outputs": [],
   "source": [
    "sample_size = 50\n",
    "\n",
    "train_df = pd.read_parquet(f\"{base_path}/train_{sample_size}.parquet\")\n",
    "train_df = fix_up_df(train_df)\n",
    "\n",
    "test_df = pd.read_parquet(f\"{base_path}/test_{sample_size}.parquet\")\n",
    "test_df = fix_up_df(test_df)\n",
    "\n",
    "metric = \"information_remaining\""
   ]
  },
  {
   "cell_type": "code",
   "execution_count": 5,
   "id": "b9363eba-da9b-469f-b341-8385e453f481",
   "metadata": {},
   "outputs": [
    {
     "name": "stderr",
     "output_type": "stream",
     "text": [
      "23/09/17 01:23:22 WARN Utils: Your hostname, muninn resolves to a loopback address: 127.0.1.1; using 192.168.86.20 instead (on interface enp8s0)\n",
      "23/09/17 01:23:22 WARN Utils: Set SPARK_LOCAL_IP if you need to bind to another address\n",
      "https://mmlspark.azureedge.net/maven added as a remote repository with the name: repo-1\n"
     ]
    },
    {
     "name": "stdout",
     "output_type": "stream",
     "text": [
      ":: loading settings :: url = jar:file:/home/mason/code/saturation/venv_311/lib/python3.11/site-packages/pyspark/jars/ivy-2.5.1.jar!/org/apache/ivy/core/settings/ivysettings.xml\n"
     ]
    },
    {
     "name": "stderr",
     "output_type": "stream",
     "text": [
      "Ivy Default Cache set to: /home/mason/.ivy2/cache\n",
      "The jars for the packages stored in: /home/mason/.ivy2/jars\n",
      "com.microsoft.azure#synapseml_2.12 added as a dependency\n",
      ":: resolving dependencies :: org.apache.spark#spark-submit-parent-2a9d55c5-db74-4ce7-8783-7927c3e0607e;1.0\n",
      "\tconfs: [default]\n",
      "\tfound com.microsoft.azure#synapseml_2.12;0.11.2 in central\n",
      "\tfound com.microsoft.azure#synapseml-core_2.12;0.11.2 in central\n",
      "\tfound org.scalactic#scalactic_2.12;3.2.14 in central\n",
      "\tfound org.scala-lang#scala-reflect;2.12.15 in central\n",
      "\tfound io.spray#spray-json_2.12;1.3.5 in central\n",
      "\tfound com.jcraft#jsch;0.1.54 in central\n",
      "\tfound org.apache.httpcomponents.client5#httpclient5;5.1.3 in central\n",
      "\tfound org.apache.httpcomponents.core5#httpcore5;5.1.3 in central\n",
      "\tfound org.apache.httpcomponents.core5#httpcore5-h2;5.1.3 in central\n",
      "\tfound org.slf4j#slf4j-api;1.7.25 in central\n",
      "\tfound commons-codec#commons-codec;1.15 in central\n",
      "\tfound org.apache.httpcomponents#httpmime;4.5.13 in central\n",
      "\tfound org.apache.httpcomponents#httpclient;4.5.13 in central\n",
      "\tfound org.apache.httpcomponents#httpcore;4.4.13 in central\n",
      "\tfound commons-logging#commons-logging;1.2 in central\n",
      "\tfound com.linkedin.isolation-forest#isolation-forest_3.2.0_2.12;2.0.8 in central\n",
      "\tfound com.chuusai#shapeless_2.12;2.3.2 in central\n",
      "\tfound org.typelevel#macro-compat_2.12;1.1.1 in central\n",
      "\tfound org.apache.spark#spark-avro_2.12;3.2.0 in central\n",
      "\tfound org.tukaani#xz;1.8 in central\n",
      "\tfound org.spark-project.spark#unused;1.0.0 in central\n",
      "\tfound org.testng#testng;6.8.8 in central\n",
      "\tfound org.beanshell#bsh;2.0b4 in central\n",
      "\tfound com.beust#jcommander;1.27 in central\n",
      "\tfound org.scalanlp#breeze_2.12;1.2 in central\n",
      "\tfound org.scalanlp#breeze-macros_2.12;1.2 in central\n",
      "\tfound com.github.fommil.netlib#core;1.1.2 in central\n",
      "\tfound net.sourceforge.f2j#arpack_combined_all;0.1 in central\n",
      "\tfound net.sf.opencsv#opencsv;2.3 in central\n",
      "\tfound com.github.wendykierp#JTransforms;3.1 in central\n",
      "\tfound pl.edu.icm#JLargeArrays;1.5 in central\n",
      "\tfound org.apache.commons#commons-math3;3.2 in central\n",
      "\tfound com.chuusai#shapeless_2.12;2.3.3 in central\n",
      "\tfound org.typelevel#spire_2.12;0.17.0 in central\n",
      "\tfound org.typelevel#spire-macros_2.12;0.17.0 in central\n",
      "\tfound org.typelevel#algebra_2.12;2.0.1 in central\n",
      "\tfound org.typelevel#cats-kernel_2.12;2.1.1 in central\n",
      "\tfound org.typelevel#spire-platform_2.12;0.17.0 in central\n",
      "\tfound org.typelevel#spire-util_2.12;0.17.0 in central\n",
      "\tfound org.scala-lang.modules#scala-collection-compat_2.12;2.1.1 in central\n",
      "\tfound com.microsoft.azure#synapseml-deep-learning_2.12;0.11.2 in central\n",
      "\tfound com.microsoft.azure#synapseml-opencv_2.12;0.11.2 in central\n",
      "\tfound org.openpnp#opencv;3.2.0-1 in central\n",
      "\tfound com.microsoft.azure#onnx-protobuf_2.12;0.9.3 in central\n",
      "\tfound com.microsoft.onnxruntime#onnxruntime_gpu;1.8.1 in central\n",
      "\tfound com.microsoft.azure#synapseml-cognitive_2.12;0.11.2 in central\n",
      "\tfound com.microsoft.cognitiveservices.speech#client-jar-sdk;1.14.0 in central\n",
      "\tfound com.microsoft.azure#synapseml-vw_2.12;0.11.2 in central\n",
      "\tfound com.github.vowpalwabbit#vw-jni;9.3.0 in central\n",
      "\tfound com.microsoft.azure#synapseml-lightgbm_2.12;0.11.2 in central\n",
      "\tfound com.microsoft.ml.lightgbm#lightgbmlib;3.3.510 in central\n",
      ":: resolution report :: resolve 394ms :: artifacts dl 15ms\n",
      "\t:: modules in use:\n",
      "\tcom.beust#jcommander;1.27 from central in [default]\n",
      "\tcom.chuusai#shapeless_2.12;2.3.3 from central in [default]\n",
      "\tcom.github.fommil.netlib#core;1.1.2 from central in [default]\n",
      "\tcom.github.vowpalwabbit#vw-jni;9.3.0 from central in [default]\n",
      "\tcom.github.wendykierp#JTransforms;3.1 from central in [default]\n",
      "\tcom.jcraft#jsch;0.1.54 from central in [default]\n",
      "\tcom.linkedin.isolation-forest#isolation-forest_3.2.0_2.12;2.0.8 from central in [default]\n",
      "\tcom.microsoft.azure#onnx-protobuf_2.12;0.9.3 from central in [default]\n",
      "\tcom.microsoft.azure#synapseml-cognitive_2.12;0.11.2 from central in [default]\n",
      "\tcom.microsoft.azure#synapseml-core_2.12;0.11.2 from central in [default]\n",
      "\tcom.microsoft.azure#synapseml-deep-learning_2.12;0.11.2 from central in [default]\n",
      "\tcom.microsoft.azure#synapseml-lightgbm_2.12;0.11.2 from central in [default]\n",
      "\tcom.microsoft.azure#synapseml-opencv_2.12;0.11.2 from central in [default]\n",
      "\tcom.microsoft.azure#synapseml-vw_2.12;0.11.2 from central in [default]\n",
      "\tcom.microsoft.azure#synapseml_2.12;0.11.2 from central in [default]\n",
      "\tcom.microsoft.cognitiveservices.speech#client-jar-sdk;1.14.0 from central in [default]\n",
      "\tcom.microsoft.ml.lightgbm#lightgbmlib;3.3.510 from central in [default]\n",
      "\tcom.microsoft.onnxruntime#onnxruntime_gpu;1.8.1 from central in [default]\n",
      "\tcommons-codec#commons-codec;1.15 from central in [default]\n",
      "\tcommons-logging#commons-logging;1.2 from central in [default]\n",
      "\tio.spray#spray-json_2.12;1.3.5 from central in [default]\n",
      "\tnet.sf.opencsv#opencsv;2.3 from central in [default]\n",
      "\tnet.sourceforge.f2j#arpack_combined_all;0.1 from central in [default]\n",
      "\torg.apache.commons#commons-math3;3.2 from central in [default]\n",
      "\torg.apache.httpcomponents#httpclient;4.5.13 from central in [default]\n",
      "\torg.apache.httpcomponents#httpcore;4.4.13 from central in [default]\n",
      "\torg.apache.httpcomponents#httpmime;4.5.13 from central in [default]\n",
      "\torg.apache.httpcomponents.client5#httpclient5;5.1.3 from central in [default]\n",
      "\torg.apache.httpcomponents.core5#httpcore5;5.1.3 from central in [default]\n",
      "\torg.apache.httpcomponents.core5#httpcore5-h2;5.1.3 from central in [default]\n",
      "\torg.apache.spark#spark-avro_2.12;3.2.0 from central in [default]\n",
      "\torg.beanshell#bsh;2.0b4 from central in [default]\n",
      "\torg.openpnp#opencv;3.2.0-1 from central in [default]\n",
      "\torg.scala-lang#scala-reflect;2.12.15 from central in [default]\n",
      "\torg.scala-lang.modules#scala-collection-compat_2.12;2.1.1 from central in [default]\n",
      "\torg.scalactic#scalactic_2.12;3.2.14 from central in [default]\n",
      "\torg.scalanlp#breeze-macros_2.12;1.2 from central in [default]\n",
      "\torg.scalanlp#breeze_2.12;1.2 from central in [default]\n",
      "\torg.slf4j#slf4j-api;1.7.25 from central in [default]\n",
      "\torg.spark-project.spark#unused;1.0.0 from central in [default]\n",
      "\torg.testng#testng;6.8.8 from central in [default]\n",
      "\torg.tukaani#xz;1.8 from central in [default]\n",
      "\torg.typelevel#algebra_2.12;2.0.1 from central in [default]\n",
      "\torg.typelevel#cats-kernel_2.12;2.1.1 from central in [default]\n",
      "\torg.typelevel#macro-compat_2.12;1.1.1 from central in [default]\n",
      "\torg.typelevel#spire-macros_2.12;0.17.0 from central in [default]\n",
      "\torg.typelevel#spire-platform_2.12;0.17.0 from central in [default]\n",
      "\torg.typelevel#spire-util_2.12;0.17.0 from central in [default]\n",
      "\torg.typelevel#spire_2.12;0.17.0 from central in [default]\n",
      "\tpl.edu.icm#JLargeArrays;1.5 from central in [default]\n",
      "\t:: evicted modules:\n",
      "\tcommons-codec#commons-codec;1.11 by [commons-codec#commons-codec;1.15] in [default]\n",
      "\tcom.chuusai#shapeless_2.12;2.3.2 by [com.chuusai#shapeless_2.12;2.3.3] in [default]\n",
      "\torg.scala-lang#scala-reflect;2.12.10 by [org.scala-lang#scala-reflect;2.12.15] in [default]\n",
      "\torg.apache.commons#commons-math3;3.5 by [org.apache.commons#commons-math3;3.2] in [default]\n",
      "\torg.slf4j#slf4j-api;1.7.5 by [org.slf4j#slf4j-api;1.7.25] in [default]\n",
      "\torg.scala-lang.modules#scala-collection-compat_2.12;2.2.0 by [org.scala-lang.modules#scala-collection-compat_2.12;2.1.1] in [default]\n",
      "\t---------------------------------------------------------------------\n",
      "\t|                  |            modules            ||   artifacts   |\n",
      "\t|       conf       | number| search|dwnlded|evicted|| number|dwnlded|\n",
      "\t---------------------------------------------------------------------\n",
      "\t|      default     |   56  |   0   |   0   |   6   ||   51  |   0   |\n",
      "\t---------------------------------------------------------------------\n",
      ":: retrieving :: org.apache.spark#spark-submit-parent-2a9d55c5-db74-4ce7-8783-7927c3e0607e\n",
      "\tconfs: [default]\n",
      "\t0 artifacts copied, 51 already retrieved (0kB/9ms)\n",
      "23/09/17 01:23:23 WARN NativeCodeLoader: Unable to load native-hadoop library for your platform... using builtin-java classes where applicable\n",
      "Setting default log level to \"WARN\".\n",
      "To adjust logging level use sc.setLogLevel(newLevel). For SparkR, use setLogLevel(newLevel).\n",
      "23/09/17 01:23:23 WARN Utils: Service 'SparkUI' could not bind on port 4040. Attempting port 4041.\n"
     ]
    }
   ],
   "source": [
    "n_cores = 20\n",
    "\n",
    "spark = SparkSession.builder \\\n",
    "                    .master(f\"local[{n_cores}]\") \\\n",
    "                    .appName(\"Saturation\") \\\n",
    "                    .config(\"spark.driver.memory\", \"24g\") \\\n",
    "                    .config(\"spark.jars.packages\", \"com.microsoft.azure:synapseml_2.12:0.11.2\") \\\n",
    "                    .config(\"spark.jars.repositories\", \"https://mmlspark.azureedge.net/maven\") \\\n",
    "                    .getOrCreate()\n",
    "sc = spark.sparkContext"
   ]
  },
  {
   "cell_type": "code",
   "execution_count": null,
   "id": "d7a24c77-f7f2-4575-b1df-30355baa41bb",
   "metadata": {},
   "outputs": [],
   "source": []
  },
  {
   "cell_type": "markdown",
   "id": "0ffa6d6e-a8e4-4e83-8844-19ebf9d2a282",
   "metadata": {},
   "source": [
    "### LightGBM models"
   ]
  },
  {
   "cell_type": "markdown",
   "id": "39fcdd6f-df8a-4c4a-a211-39316a790068",
   "metadata": {},
   "source": [
    "#### Baseline Model"
   ]
  },
  {
   "cell_type": "code",
   "execution_count": 31,
   "id": "3a464ad6-9d30-4524-b022-3f68489ef06b",
   "metadata": {},
   "outputs": [],
   "source": [
    "def score_model(model,\n",
    "                df: pd.DataFrame,\n",
    "                metric: str,\n",
    "                assembler: VectorAssembler,\n",
    "                ivs: List[str],\n",
    "                features: List[str],\n",
    "                sample_cadence: int = 1):\n",
    "    sampled = df.iloc[[x * sample_cadence for x in range(df.shape[0] // sample_cadence)]].copy()\n",
    "    \n",
    "    X = poly_transform.transform(sampled[ivs])\n",
    "    X = pd.DataFrame(X, columns=poly_transform.get_feature_names_out())\n",
    "    X[metric] = df[metric]\n",
    "    \n",
    "    df_spark = spark.createDataFrame(X)\n",
    "    spark_X = assembler.transform(df_spark)\n",
    "    pred_df = model.transform(spark_X).toPandas()\n",
    "    pred_df[\"simulation_id\"] = df[\"simulation_id\"]\n",
    "    pred_df[\"slope\"] = df[\"slope\"]\n",
    "    pred_df[\"n_craters_added_in_study_region\"] = df[\"n_craters_added_in_study_region\"]\n",
    "    pred_df[\"effective_radius_multiplier\"] = df[\"effective_radius_multiplier\"]\n",
    "    pred_df[\"min_rim_percentage\"] = df[\"min_rim_percentage\"]\n",
    "    pred_df[\"r_stat_multiplier\"] = df[\"r_stat_multiplier\"]\n",
    "\n",
    "    rmse = mean_squared_error(pred_df[metric], pred_df[\"prediction\"], squared=False)\n",
    "    mape = mean_absolute_percentage_error(pred_df[metric], pred_df[\"prediction\"])\n",
    "    mae = mean_absolute_error(pred_df[metric], pred_df[\"prediction\"])\n",
    "    print(f\"RMSE: {rmse:.4f}, MAE: {mae:.4f}, MAPE: {mape:.4f}\")\n",
    "\n",
    "    residuals = pred_df[metric] - pred_df[\"prediction\"]\n",
    "    plt.hist(residuals, bins=50)\n",
    "    plt.show()\n",
    "\n",
    "    y_pred_mean_model = [df[metric].mean()] * df.shape[0]\n",
    "    rmse = mean_squared_error(y_pred_mean_model, df[metric], squared=False)\n",
    "    mape = mean_absolute_percentage_error(df[metric], y_pred_mean_model)\n",
    "    mae = mean_absolute_error(y_pred_mean_model, df[metric])\n",
    "    print(f\"Mean model: RMSE: {rmse:.4f}, MAE: {mae:.4f}, MAPE: {mape:.4f}\")\n",
    "    \n",
    "    return pred_df\n",
    "\n",
    "\n",
    "def plot_sim_ci(model,\n",
    "                df: pd.DataFrame,\n",
    "                metric: str,\n",
    "                assembler: VectorAssembler,\n",
    "                ivs: List[str],\n",
    "                features: List[str],\n",
    "                sample_cadence: int = 250):   \n",
    "    # Show params\n",
    "    print(f\"Simulation parameters: {df[ivs].iloc[0]}\")\n",
    "    \n",
    "    ns_max = 100000\n",
    "    plt.plot(df.n_craters_added_in_study_region.iloc[:ns_max],\n",
    "             df[metric].iloc[:ns_max])\n",
    "    plt.xlabel(\"$N_S$\")\n",
    "    plt.ylabel(\"$A_d$\")\n",
    "    plt.show()\n",
    "\n",
    "    pred_df = score_model(model, df, metric, assembler, ivs, features, sample_cadence)\n",
    "   \n",
    "    fig = go.Figure()\n",
    "    fig.add_scatter(x=pred_df[\"n_craters\"],\n",
    "                    y=pred_df[\"actual\"],\n",
    "                    mode=\"lines\",\n",
    "                    name=\"Actual\")\n",
    "    fig.add_scatter(x=pred_df[\"n_craters\"],\n",
    "                    y=pred_df[\"prediction\"],\n",
    "                    mode=\"lines\",\n",
    "                    name=\"95% Threshold\")\n",
    "\n",
    "    fig.update_layout(\n",
    "        xaxis_title=\"$N_S$\",\n",
    "        yaxis_title=metric\n",
    "    )\n",
    "\n",
    "    fig.show()"
   ]
  },
  {
   "cell_type": "code",
   "execution_count": 32,
   "id": "35ecfda0-13c1-45da-a77d-6296ba2eb7a6",
   "metadata": {},
   "outputs": [
    {
     "name": "stderr",
     "output_type": "stream",
     "text": [
      "23/09/17 01:35:38 WARN TaskSetManager: Stage 91 contains a task of very large size (4208 KiB). The maximum recommended task size is 1000 KiB.\n",
      "23/09/17 01:35:38 WARN TaskSetManager: Stage 92 contains a task of very large size (4208 KiB). The maximum recommended task size is 1000 KiB.\n",
      "23/09/17 01:35:58 WARN TaskSetManager: Stage 93 contains a task of very large size (4208 KiB). The maximum recommended task size is 1000 KiB.\n",
      "                                                                                \r"
     ]
    },
    {
     "name": "stdout",
     "output_type": "stream",
     "text": [
      "RMSE: 0.2264, MAE: 0.1978, MAPE: 0.8447\n"
     ]
    },
    {
     "data": {
      "image/png": "[encoded data removed]",
      "text/plain": [
       "<Figure size 640x480 with 1 Axes>"
      ]
     },
     "metadata": {},
     "output_type": "display_data"
    },
    {
     "name": "stdout",
     "output_type": "stream",
     "text": [
      "Mean model: RMSE: 0.2817, MAE: 0.2443, MAPE: 0.9935\n",
      "Training % outside of range: 0.465\n"
     ]
    },
    {
     "name": "stderr",
     "output_type": "stream",
     "text": [
      "23/09/17 01:36:13 WARN TaskSetManager: Stage 94 contains a task of very large size (1087 KiB). The maximum recommended task size is 1000 KiB.\n"
     ]
    },
    {
     "name": "stdout",
     "output_type": "stream",
     "text": [
      "RMSE: 0.2267, MAE: 0.1982, MAPE: 0.8467\n"
     ]
    },
    {
     "data": {
      "image/png": "[encoded data removed]",
      "text/plain": [
       "<Figure size 640x480 with 1 Axes>"
      ]
     },
     "metadata": {},
     "output_type": "display_data"
    },
    {
     "name": "stdout",
     "output_type": "stream",
     "text": [
      "Mean model: RMSE: 0.2809, MAE: 0.2434, MAPE: 0.9924\n",
      "Testing % outside of range: 0.467\n",
      "Feature importances:\n",
      "   areal_density: 14.0\n",
      "   areal_density_overlap_3: 4.0\n",
      "   slope: 1.0\n",
      "   za: 1.0\n",
      "   n_craters_in_study_region: 0.0\n",
      "   areal_density_overlap_2: 0.0\n",
      "   center_to_center_nearest_neighbor_distance_mean: 0.0\n",
      "   center_to_center_nearest_neighbor_distance_stdev: 0.0\n",
      "   center_to_center_nearest_neighbor_distance_min: 0.0\n",
      "   center_to_center_nearest_neighbor_distance_max: 0.0\n",
      "   radius_mean: 0.0\n",
      "   radius_stdev: 0.0\n"
     ]
    }
   ],
   "source": [
    "# Small model first\n",
    "poly_transform = sklearn.preprocessing.PolynomialFeatures(degree=1, include_bias=False)\n",
    "X_train = poly_transform.fit_transform(train_df[ivs])\n",
    "X_train = pd.DataFrame(X_train, columns=poly_transform.get_feature_names_out())\n",
    "\n",
    "train_df_spark = spark.createDataFrame(pd.concat([train_df[metric], X_train], axis=1))\n",
    "\n",
    "assembler = VectorAssembler(\n",
    "    inputCols=list(X_train.columns),\n",
    "    outputCol=\"features\")\n",
    "\n",
    "train_df_featurized = assembler.transform(train_df_spark)[metric, \"features\"].cache()\n",
    "\n",
    "model = (LightGBMRegressor()\n",
    "    # .setObjective('quantile')\n",
    "     .setObjective('regression')\n",
    "    .setLabelCol(metric)\n",
    "    # .setAlpha(0.5)\n",
    "    .setLearningRate(0.1)\n",
    "    .setNumIterations(5)\n",
    "    .setNumLeaves(5)\n",
    "    .setNumThreads(n_cores)\n",
    "    .fit(train_df_featurized))\n",
    "\n",
    "# Metrics for all train data\n",
    "pred_df = score_model(model, train_df, metric, assembler, ivs, list(X_train.columns))\n",
    "pred_df[\"outside_range\"] = pred_df[metric] < pred_df.prediction\n",
    "print(f\"Training % outside of range: {pred_df.outside_range.mean():.3f}\")\n",
    "\n",
    "# Metrics for all test data\n",
    "pred_df = score_model(model, test_df, metric, assembler, ivs, list(X_train.columns))\n",
    "pred_df[\"outside_range\"] = pred_df[metric] < pred_df.prediction\n",
    "pred_df.outside_range.mean()\n",
    "print(f\"Testing % outside of range: {pred_df.outside_range.mean():.3f}\")\n",
    "\n",
    "importances = sorted(zip(X_train.columns, model.getFeatureImportances()), key=lambda x: -x[1])\n",
    "print(f\"Feature importances:\")\n",
    "for x in importances:\n",
    "    print(f\"   {x[0]}: {x[1]}\")\n",
    "\n",
    "model_reg_5_5 = model"
   ]
  },
  {
   "cell_type": "code",
   "execution_count": 33,
   "id": "bf087f45-e1c0-4fdd-9baf-a92f7a9a68e0",
   "metadata": {},
   "outputs": [
    {
     "name": "stderr",
     "output_type": "stream",
     "text": [
      "23/09/17 01:36:35 WARN TaskSetManager: Stage 96 contains a task of very large size (4208 KiB). The maximum recommended task size is 1000 KiB.\n",
      "23/09/17 01:36:36 WARN TaskSetManager: Stage 97 contains a task of very large size (4208 KiB). The maximum recommended task size is 1000 KiB.\n",
      "23/09/17 01:36:56 WARN TaskSetManager: Stage 98 contains a task of very large size (4208 KiB). The maximum recommended task size is 1000 KiB.\n",
      "                                                                                \r"
     ]
    },
    {
     "name": "stdout",
     "output_type": "stream",
     "text": [
      "RMSE: 0.1683, MAE: 0.1414, MAPE: 0.6462\n"
     ]
    },
    {
     "data": {
      "image/png": "[encoded data removed]",
      "text/plain": [
       "<Figure size 640x480 with 1 Axes>"
      ]
     },
     "metadata": {},
     "output_type": "display_data"
    },
    {
     "name": "stdout",
     "output_type": "stream",
     "text": [
      "Mean model: RMSE: 0.2817, MAE: 0.2443, MAPE: 0.9935\n",
      "Training % outside of range: 0.416\n"
     ]
    },
    {
     "name": "stderr",
     "output_type": "stream",
     "text": [
      "23/09/17 01:37:13 WARN TaskSetManager: Stage 99 contains a task of very large size (1087 KiB). The maximum recommended task size is 1000 KiB.\n"
     ]
    },
    {
     "name": "stdout",
     "output_type": "stream",
     "text": [
      "RMSE: 0.1730, MAE: 0.1457, MAPE: 0.6646\n"
     ]
    },
    {
     "data": {
      "image/png": "[encoded data removed]",
      "text/plain": [
       "<Figure size 640x480 with 1 Axes>"
      ]
     },
     "metadata": {},
     "output_type": "display_data"
    },
    {
     "name": "stdout",
     "output_type": "stream",
     "text": [
      "Mean model: RMSE: 0.2809, MAE: 0.2434, MAPE: 0.9924\n",
      "Testing % outside of range: 0.422\n",
      "Feature importances:\n",
      "   areal_density: 111.0\n",
      "   za: 104.0\n",
      "   center_to_center_nearest_neighbor_distance_mean: 81.0\n",
      "   areal_density_overlap_3: 75.0\n",
      "   slope: 70.0\n",
      "   center_to_center_nearest_neighbor_distance_max: 16.0\n",
      "   areal_density_overlap_2: 15.0\n",
      "   center_to_center_nearest_neighbor_distance_stdev: 9.0\n",
      "   center_to_center_nearest_neighbor_distance_min: 4.0\n",
      "   n_craters_in_study_region: 2.0\n",
      "   radius_stdev: 2.0\n",
      "   radius_mean: 1.0\n"
     ]
    }
   ],
   "source": [
    "# Small model first\n",
    "poly_transform = sklearn.preprocessing.PolynomialFeatures(degree=1, include_bias=False)\n",
    "X_train = poly_transform.fit_transform(train_df[ivs])\n",
    "X_train = pd.DataFrame(X_train, columns=poly_transform.get_feature_names_out())\n",
    "\n",
    "train_df_spark = spark.createDataFrame(pd.concat([train_df[metric], X_train], axis=1))\n",
    "\n",
    "assembler = VectorAssembler(\n",
    "    inputCols=list(X_train.columns),\n",
    "    outputCol=\"features\")\n",
    "\n",
    "train_df_featurized = assembler.transform(train_df_spark)[metric, \"features\"].cache()\n",
    "\n",
    "model = (LightGBMRegressor()\n",
    "    # .setObjective('quantile')\n",
    "     .setObjective('regression')\n",
    "    .setLabelCol(metric)\n",
    "    # .setAlpha(0.5)\n",
    "    .setLearningRate(0.1)\n",
    "    .setNumIterations(10)\n",
    "    .setNumLeaves(50)\n",
    "    .setNumThreads(n_cores)\n",
    "    .fit(train_df_featurized))\n",
    "\n",
    "# Metrics for all train data\n",
    "pred_df = score_model(model, train_df, metric, assembler, ivs, list(X_train.columns))\n",
    "pred_df[\"outside_range\"] = pred_df[metric] < pred_df.prediction\n",
    "print(f\"Training % outside of range: {pred_df.outside_range.mean():.3f}\")\n",
    "\n",
    "# Metrics for all test data\n",
    "pred_df = score_model(model, test_df, metric, assembler, ivs, list(X_train.columns))\n",
    "pred_df[\"outside_range\"] = pred_df[metric] < pred_df.prediction\n",
    "pred_df.outside_range.mean()\n",
    "print(f\"Testing % outside of range: {pred_df.outside_range.mean():.3f}\")\n",
    "\n",
    "importances = sorted(zip(X_train.columns, model.getFeatureImportances()), key=lambda x: -x[1])\n",
    "print(f\"Feature importances:\")\n",
    "for x in importances:\n",
    "    print(f\"   {x[0]}: {x[1]}\")\n",
    "\n",
    "model_reg_10_50 = model"
   ]
  },
  {
   "cell_type": "code",
   "execution_count": 34,
   "id": "9bd99285-9256-4f00-89da-e774f4f37fd0",
   "metadata": {},
   "outputs": [
    {
     "name": "stderr",
     "output_type": "stream",
     "text": [
      "23/09/17 01:37:36 WARN TaskSetManager: Stage 101 contains a task of very large size (4208 KiB). The maximum recommended task size is 1000 KiB.\n",
      "23/09/17 01:37:36 WARN TaskSetManager: Stage 102 contains a task of very large size (4208 KiB). The maximum recommended task size is 1000 KiB.\n",
      "23/09/17 01:37:57 WARN TaskSetManager: Stage 103 contains a task of very large size (4208 KiB). The maximum recommended task size is 1000 KiB.\n",
      "                                                                                \r"
     ]
    },
    {
     "name": "stdout",
     "output_type": "stream",
     "text": [
      "RMSE: 0.1612, MAE: 0.1345, MAPE: 0.6182\n"
     ]
    },
    {
     "data": {
      "image/png": "[encoded data removed]",
      "text/plain": [
       "<Figure size 640x480 with 1 Axes>"
      ]
     },
     "metadata": {},
     "output_type": "display_data"
    },
    {
     "name": "stdout",
     "output_type": "stream",
     "text": [
      "Mean model: RMSE: 0.2817, MAE: 0.2443, MAPE: 0.9935\n",
      "Training % outside of range: 0.416\n"
     ]
    },
    {
     "name": "stderr",
     "output_type": "stream",
     "text": [
      "23/09/17 01:38:13 WARN TaskSetManager: Stage 104 contains a task of very large size (1087 KiB). The maximum recommended task size is 1000 KiB.\n"
     ]
    },
    {
     "name": "stdout",
     "output_type": "stream",
     "text": [
      "RMSE: 0.1678, MAE: 0.1404, MAPE: 0.6440\n"
     ]
    },
    {
     "data": {
      "image/png": "[encoded data removed]",
      "text/plain": [
       "<Figure size 640x480 with 1 Axes>"
      ]
     },
     "metadata": {},
     "output_type": "display_data"
    },
    {
     "name": "stdout",
     "output_type": "stream",
     "text": [
      "Mean model: RMSE: 0.2809, MAE: 0.2434, MAPE: 0.9924\n",
      "Testing % outside of range: 0.420\n",
      "Feature importances:\n",
      "   za: 197.0\n",
      "   center_to_center_nearest_neighbor_distance_mean: 192.0\n",
      "   areal_density: 178.0\n",
      "   slope: 170.0\n",
      "   areal_density_overlap_3: 132.0\n",
      "   areal_density_overlap_2: 36.0\n",
      "   center_to_center_nearest_neighbor_distance_stdev: 34.0\n",
      "   center_to_center_nearest_neighbor_distance_max: 20.0\n",
      "   center_to_center_nearest_neighbor_distance_min: 12.0\n",
      "   n_craters_in_study_region: 9.0\n",
      "   radius_stdev: 7.0\n",
      "   radius_mean: 3.0\n"
     ]
    }
   ],
   "source": [
    "# Small model first\n",
    "poly_transform = sklearn.preprocessing.PolynomialFeatures(degree=1, include_bias=False)\n",
    "X_train = poly_transform.fit_transform(train_df[ivs])\n",
    "X_train = pd.DataFrame(X_train, columns=poly_transform.get_feature_names_out())\n",
    "\n",
    "train_df_spark = spark.createDataFrame(pd.concat([train_df[metric], X_train], axis=1))\n",
    "\n",
    "assembler = VectorAssembler(\n",
    "    inputCols=list(X_train.columns),\n",
    "    outputCol=\"features\")\n",
    "\n",
    "train_df_featurized = assembler.transform(train_df_spark)[metric, \"features\"].cache()\n",
    "\n",
    "model = (LightGBMRegressor()\n",
    "    # .setObjective('quantile')\n",
    "     .setObjective('regression')\n",
    "    .setLabelCol(metric)\n",
    "    # .setAlpha(0.5)\n",
    "    .setLearningRate(0.1)\n",
    "    .setNumIterations(10)\n",
    "    .setNumLeaves(100)\n",
    "    .setNumThreads(n_cores)\n",
    "    .fit(train_df_featurized))\n",
    "\n",
    "# Metrics for all train data\n",
    "pred_df = score_model(model, train_df, metric, assembler, ivs, list(X_train.columns))\n",
    "pred_df[\"outside_range\"] = pred_df[metric] < pred_df.prediction\n",
    "print(f\"Training % outside of range: {pred_df.outside_range.mean():.3f}\")\n",
    "\n",
    "# Metrics for all test data\n",
    "pred_df = score_model(model, test_df, metric, assembler, ivs, list(X_train.columns))\n",
    "pred_df[\"outside_range\"] = pred_df[metric] < pred_df.prediction\n",
    "pred_df.outside_range.mean()\n",
    "print(f\"Testing % outside of range: {pred_df.outside_range.mean():.3f}\")\n",
    "\n",
    "importances = sorted(zip(X_train.columns, model.getFeatureImportances()), key=lambda x: -x[1])\n",
    "print(f\"Feature importances:\")\n",
    "for x in importances:\n",
    "    print(f\"   {x[0]}: {x[1]}\")\n",
    "\n",
    "model_reg_10_100 = model"
   ]
  },
  {
   "cell_type": "code",
   "execution_count": 35,
   "id": "b1aab6b2-3286-49d8-83fc-bd590688d72b",
   "metadata": {},
   "outputs": [
    {
     "name": "stderr",
     "output_type": "stream",
     "text": [
      "23/09/17 01:38:36 WARN TaskSetManager: Stage 106 contains a task of very large size (4208 KiB). The maximum recommended task size is 1000 KiB.\n",
      "23/09/17 01:38:36 WARN TaskSetManager: Stage 107 contains a task of very large size (4208 KiB). The maximum recommended task size is 1000 KiB.\n",
      "23/09/17 01:38:58 WARN TaskSetManager: Stage 108 contains a task of very large size (4208 KiB). The maximum recommended task size is 1000 KiB.\n",
      "                                                                                \r"
     ]
    },
    {
     "name": "stdout",
     "output_type": "stream",
     "text": [
      "RMSE: 0.1141, MAE: 0.0839, MAPE: 0.4093\n"
     ]
    },
    {
     "data": {
      "image/png": "[encoded data removed]",
      "text/plain": [
       "<Figure size 640x480 with 1 Axes>"
      ]
     },
     "metadata": {},
     "output_type": "display_data"
    },
    {
     "name": "stdout",
     "output_type": "stream",
     "text": [
      "Mean model: RMSE: 0.2817, MAE: 0.2443, MAPE: 0.9935\n",
      "Training % outside of range: 0.440\n"
     ]
    },
    {
     "name": "stderr",
     "output_type": "stream",
     "text": [
      "23/09/17 01:39:14 WARN TaskSetManager: Stage 109 contains a task of very large size (1087 KiB). The maximum recommended task size is 1000 KiB.\n"
     ]
    },
    {
     "name": "stdout",
     "output_type": "stream",
     "text": [
      "RMSE: 0.1279, MAE: 0.0935, MAPE: 0.4522\n"
     ]
    },
    {
     "data": {
      "image/png": "[encoded data removed]",
      "text/plain": [
       "<Figure size 640x480 with 1 Axes>"
      ]
     },
     "metadata": {},
     "output_type": "display_data"
    },
    {
     "name": "stdout",
     "output_type": "stream",
     "text": [
      "Mean model: RMSE: 0.2809, MAE: 0.2434, MAPE: 0.9924\n",
      "Testing % outside of range: 0.452\n",
      "Feature importances:\n",
      "   center_to_center_nearest_neighbor_distance_mean: 468.0\n",
      "   za: 443.0\n",
      "   slope: 393.0\n",
      "   areal_density: 264.0\n",
      "   center_to_center_nearest_neighbor_distance_stdev: 251.0\n",
      "   areal_density_overlap_3: 222.0\n",
      "   center_to_center_nearest_neighbor_distance_min: 91.0\n",
      "   radius_mean: 83.0\n",
      "   areal_density_overlap_2: 74.0\n",
      "   center_to_center_nearest_neighbor_distance_max: 73.0\n",
      "   n_craters_in_study_region: 46.0\n",
      "   radius_stdev: 42.0\n"
     ]
    }
   ],
   "source": [
    "# Small model first\n",
    "poly_transform = sklearn.preprocessing.PolynomialFeatures(degree=1, include_bias=False)\n",
    "X_train = poly_transform.fit_transform(train_df[ivs])\n",
    "X_train = pd.DataFrame(X_train, columns=poly_transform.get_feature_names_out())\n",
    "\n",
    "train_df_spark = spark.createDataFrame(pd.concat([train_df[metric], X_train], axis=1))\n",
    "\n",
    "assembler = VectorAssembler(\n",
    "    inputCols=list(X_train.columns),\n",
    "    outputCol=\"features\")\n",
    "\n",
    "train_df_featurized = assembler.transform(train_df_spark)[metric, \"features\"].cache()\n",
    "\n",
    "model = (LightGBMRegressor()\n",
    "    # .setObjective('quantile')\n",
    "     .setObjective('regression')\n",
    "    .setLabelCol(metric)\n",
    "    # .setAlpha(0.5)\n",
    "    .setLearningRate(0.1)\n",
    "    .setNumIterations(50)\n",
    "    .setNumLeaves(50)\n",
    "    .setNumThreads(n_cores)\n",
    "    .fit(train_df_featurized))\n",
    "\n",
    "# Metrics for all train data\n",
    "pred_df = score_model(model, train_df, metric, assembler, ivs, list(X_train.columns))\n",
    "pred_df[\"outside_range\"] = pred_df[metric] < pred_df.prediction\n",
    "print(f\"Training % outside of range: {pred_df.outside_range.mean():.3f}\")\n",
    "\n",
    "# Metrics for all test data\n",
    "pred_df = score_model(model, test_df, metric, assembler, ivs, list(X_train.columns))\n",
    "pred_df[\"outside_range\"] = pred_df[metric] < pred_df.prediction\n",
    "pred_df.outside_range.mean()\n",
    "print(f\"Testing % outside of range: {pred_df.outside_range.mean():.3f}\")\n",
    "\n",
    "importances = sorted(zip(X_train.columns, model.getFeatureImportances()), key=lambda x: -x[1])\n",
    "print(f\"Feature importances:\")\n",
    "for x in importances:\n",
    "    print(f\"   {x[0]}: {x[1]}\")\n",
    "\n",
    "model_reg_50_50 = model"
   ]
  },
  {
   "cell_type": "code",
   "execution_count": 36,
   "id": "d1df95e4-7732-4ecd-a161-30f1825caaf5",
   "metadata": {},
   "outputs": [
    {
     "name": "stderr",
     "output_type": "stream",
     "text": [
      "23/09/17 01:39:37 WARN TaskSetManager: Stage 111 contains a task of very large size (4208 KiB). The maximum recommended task size is 1000 KiB.\n",
      "23/09/17 01:39:37 WARN TaskSetManager: Stage 112 contains a task of very large size (4208 KiB). The maximum recommended task size is 1000 KiB.\n",
      "23/09/17 01:40:04 WARN DAGScheduler: Broadcasting large task binary with size 4.5 MiB\n",
      "23/09/17 01:40:04 WARN TaskSetManager: Stage 113 contains a task of very large size (4208 KiB). The maximum recommended task size is 1000 KiB.\n",
      "                                                                                \r"
     ]
    },
    {
     "name": "stdout",
     "output_type": "stream",
     "text": [
      "RMSE: 0.0700, MAE: 0.0488, MAPE: 0.2537\n"
     ]
    },
    {
     "data": {
      "image/png": "[encoded data removed]",
      "text/plain": [
       "<Figure size 640x480 with 1 Axes>"
      ]
     },
     "metadata": {},
     "output_type": "display_data"
    },
    {
     "name": "stdout",
     "output_type": "stream",
     "text": [
      "Mean model: RMSE: 0.2817, MAE: 0.2443, MAPE: 0.9935\n",
      "Training % outside of range: 0.426\n"
     ]
    },
    {
     "name": "stderr",
     "output_type": "stream",
     "text": [
      "23/09/17 01:40:21 WARN DAGScheduler: Broadcasting large task binary with size 4.5 MiB\n",
      "23/09/17 01:40:21 WARN TaskSetManager: Stage 114 contains a task of very large size (1087 KiB). The maximum recommended task size is 1000 KiB.\n"
     ]
    },
    {
     "name": "stdout",
     "output_type": "stream",
     "text": [
      "RMSE: 0.1228, MAE: 0.0863, MAPE: 0.3968\n"
     ]
    },
    {
     "data": {
      "image/png": "[encoded data removed]",
      "text/plain": [
       "<Figure size 640x480 with 1 Axes>"
      ]
     },
     "metadata": {},
     "output_type": "display_data"
    },
    {
     "name": "stdout",
     "output_type": "stream",
     "text": [
      "Mean model: RMSE: 0.2809, MAE: 0.2434, MAPE: 0.9924\n",
      "Testing % outside of range: 0.438\n",
      "Feature importances:\n",
      "   slope: 10324.0\n",
      "   center_to_center_nearest_neighbor_distance_min: 7415.0\n",
      "   center_to_center_nearest_neighbor_distance_mean: 6451.0\n",
      "   za: 5308.0\n",
      "   center_to_center_nearest_neighbor_distance_stdev: 5167.0\n",
      "   areal_density_overlap_3: 3277.0\n",
      "   areal_density: 2958.0\n",
      "   areal_density_overlap_2: 2243.0\n",
      "   radius_mean: 2074.0\n",
      "   radius_stdev: 1755.0\n",
      "   n_craters_in_study_region: 1616.0\n",
      "   center_to_center_nearest_neighbor_distance_max: 1312.0\n"
     ]
    }
   ],
   "source": [
    "# Small model first\n",
    "poly_transform = sklearn.preprocessing.PolynomialFeatures(degree=1, include_bias=False)\n",
    "X_train = poly_transform.fit_transform(train_df[ivs])\n",
    "X_train = pd.DataFrame(X_train, columns=poly_transform.get_feature_names_out())\n",
    "\n",
    "train_df_spark = spark.createDataFrame(pd.concat([train_df[metric], X_train], axis=1))\n",
    "\n",
    "assembler = VectorAssembler(\n",
    "    inputCols=list(X_train.columns),\n",
    "    outputCol=\"features\")\n",
    "\n",
    "train_df_featurized = assembler.transform(train_df_spark)[metric, \"features\"].cache()\n",
    "\n",
    "model = (LightGBMRegressor()\n",
    "    # .setObjective('quantile')\n",
    "     .setObjective('regression')\n",
    "    .setLabelCol(metric)\n",
    "    # .setAlpha(0.5)\n",
    "    .setLearningRate(0.05)\n",
    "    .setNumIterations(100)\n",
    "    .setNumLeaves(500)\n",
    "    .setNumThreads(n_cores)\n",
    "    .fit(train_df_featurized))\n",
    "\n",
    "# Metrics for all train data\n",
    "pred_df = score_model(model, train_df, metric, assembler, ivs, list(X_train.columns))\n",
    "pred_df[\"outside_range\"] = pred_df[metric] < pred_df.prediction\n",
    "print(f\"Training % outside of range: {pred_df.outside_range.mean():.3f}\")\n",
    "\n",
    "# Metrics for all test data\n",
    "pred_df = score_model(model, test_df, metric, assembler, ivs, list(X_train.columns))\n",
    "pred_df[\"outside_range\"] = pred_df[metric] < pred_df.prediction\n",
    "pred_df.outside_range.mean()\n",
    "print(f\"Testing % outside of range: {pred_df.outside_range.mean():.3f}\")\n",
    "\n",
    "importances = sorted(zip(X_train.columns, model.getFeatureImportances()), key=lambda x: -x[1])\n",
    "print(f\"Feature importances:\")\n",
    "for x in importances:\n",
    "    print(f\"   {x[0]}: {x[1]}\")\n",
    "\n",
    "model_reg_100_500 = model"
   ]
  },
  {
   "cell_type": "code",
   "execution_count": 37,
   "id": "ec607ade-7923-4b72-ad8a-b003e57d6f89",
   "metadata": {},
   "outputs": [
    {
     "name": "stderr",
     "output_type": "stream",
     "text": [
      "23/09/17 01:40:44 WARN TaskSetManager: Stage 116 contains a task of very large size (4208 KiB). The maximum recommended task size is 1000 KiB.\n",
      "23/09/17 01:40:44 WARN TaskSetManager: Stage 117 contains a task of very large size (4208 KiB). The maximum recommended task size is 1000 KiB.\n",
      "23/09/17 01:41:10 WARN DAGScheduler: Broadcasting large task binary with size 4.5 MiB\n",
      "23/09/17 01:41:10 WARN TaskSetManager: Stage 118 contains a task of very large size (4208 KiB). The maximum recommended task size is 1000 KiB.\n",
      "                                                                                \r"
     ]
    },
    {
     "name": "stdout",
     "output_type": "stream",
     "text": [
      "RMSE: 0.0790, MAE: 0.0576, MAPE: 0.3008\n"
     ]
    },
    {
     "data": {
      "image/png": "[encoded data removed]",
      "text/plain": [
       "<Figure size 640x480 with 1 Axes>"
      ]
     },
     "metadata": {},
     "output_type": "display_data"
    },
    {
     "name": "stdout",
     "output_type": "stream",
     "text": [
      "Mean model: RMSE: 0.2817, MAE: 0.2443, MAPE: 0.9935\n",
      "Training % outside of range: 0.377\n"
     ]
    },
    {
     "name": "stderr",
     "output_type": "stream",
     "text": [
      "23/09/17 01:41:27 WARN DAGScheduler: Broadcasting large task binary with size 4.5 MiB\n",
      "23/09/17 01:41:27 WARN TaskSetManager: Stage 119 contains a task of very large size (1087 KiB). The maximum recommended task size is 1000 KiB.\n"
     ]
    },
    {
     "name": "stdout",
     "output_type": "stream",
     "text": [
      "RMSE: 0.1276, MAE: 0.0935, MAPE: 0.4409\n"
     ]
    },
    {
     "data": {
      "image/png": "[encoded data removed]",
      "text/plain": [
       "<Figure size 640x480 with 1 Axes>"
      ]
     },
     "metadata": {},
     "output_type": "display_data"
    },
    {
     "name": "stdout",
     "output_type": "stream",
     "text": [
      "Mean model: RMSE: 0.2809, MAE: 0.2434, MAPE: 0.9924\n",
      "Testing % outside of range: 0.390\n",
      "Feature importances:\n",
      "   slope: 10628.0\n",
      "   center_to_center_nearest_neighbor_distance_mean: 7226.0\n",
      "   center_to_center_nearest_neighbor_distance_min: 6760.0\n",
      "   za: 5984.0\n",
      "   center_to_center_nearest_neighbor_distance_stdev: 5276.0\n",
      "   areal_density_overlap_3: 3086.0\n",
      "   areal_density: 2735.0\n",
      "   areal_density_overlap_2: 2359.0\n",
      "   radius_stdev: 1613.0\n",
      "   radius_mean: 1586.0\n",
      "   n_craters_in_study_region: 1400.0\n",
      "   center_to_center_nearest_neighbor_distance_max: 1297.0\n"
     ]
    }
   ],
   "source": [
    "# Small model first\n",
    "poly_transform = sklearn.preprocessing.PolynomialFeatures(degree=1, include_bias=False)\n",
    "X_train = poly_transform.fit_transform(train_df[ivs])\n",
    "X_train = pd.DataFrame(X_train, columns=poly_transform.get_feature_names_out())\n",
    "\n",
    "train_df_spark = spark.createDataFrame(pd.concat([train_df[metric], X_train], axis=1))\n",
    "\n",
    "assembler = VectorAssembler(\n",
    "    inputCols=list(X_train.columns),\n",
    "    outputCol=\"features\")\n",
    "\n",
    "train_df_featurized = assembler.transform(train_df_spark)[metric, \"features\"].cache()\n",
    "\n",
    "model = (LightGBMRegressor()\n",
    "    # .setObjective('quantile')\n",
    "     .setObjective('regression')\n",
    "    .setLabelCol(metric)\n",
    "    # .setAlpha(0.5)\n",
    "    .setLearningRate(0.05)\n",
    "    .setNumIterations(50)\n",
    "    .setNumLeaves(1000)\n",
    "    .setNumThreads(n_cores)\n",
    "    .fit(train_df_featurized))\n",
    "\n",
    "# Metrics for all train data\n",
    "pred_df = score_model(model, train_df, metric, assembler, ivs, list(X_train.columns))\n",
    "pred_df[\"outside_range\"] = pred_df[metric] < pred_df.prediction\n",
    "print(f\"Training % outside of range: {pred_df.outside_range.mean():.3f}\")\n",
    "\n",
    "# Metrics for all test data\n",
    "pred_df = score_model(model, test_df, metric, assembler, ivs, list(X_train.columns))\n",
    "pred_df[\"outside_range\"] = pred_df[metric] < pred_df.prediction\n",
    "pred_df.outside_range.mean()\n",
    "print(f\"Testing % outside of range: {pred_df.outside_range.mean():.3f}\")\n",
    "\n",
    "importances = sorted(zip(X_train.columns, model.getFeatureImportances()), key=lambda x: -x[1])\n",
    "print(f\"Feature importances:\")\n",
    "for x in importances:\n",
    "    print(f\"   {x[0]}: {x[1]}\")\n",
    "\n",
    "model_reg_50_1000 = model"
   ]
  },
  {
   "cell_type": "code",
   "execution_count": 38,
   "id": "45b4ee66-5511-4732-ad2e-a795edeb9c5c",
   "metadata": {},
   "outputs": [
    {
     "name": "stderr",
     "output_type": "stream",
     "text": [
      "23/09/17 01:41:50 WARN TaskSetManager: Stage 121 contains a task of very large size (4208 KiB). The maximum recommended task size is 1000 KiB.\n",
      "23/09/17 01:41:50 WARN TaskSetManager: Stage 122 contains a task of very large size (4208 KiB). The maximum recommended task size is 1000 KiB.\n",
      "23/09/17 01:42:37 WARN DAGScheduler: Broadcasting large task binary with size 22.2 MiB\n",
      "23/09/17 01:42:37 WARN TaskSetManager: Stage 123 contains a task of very large size (4208 KiB). The maximum recommended task size is 1000 KiB.\n",
      "                                                                                \r"
     ]
    },
    {
     "name": "stdout",
     "output_type": "stream",
     "text": [
      "RMSE: 0.0362, MAE: 0.0237, MAPE: 0.1234\n"
     ]
    },
    {
     "data": {
      "image/png": "[encoded data removed]",
      "text/plain": [
       "<Figure size 640x480 with 1 Axes>"
      ]
     },
     "metadata": {},
     "output_type": "display_data"
    },
    {
     "name": "stdout",
     "output_type": "stream",
     "text": [
      "Mean model: RMSE: 0.2817, MAE: 0.2443, MAPE: 0.9935\n",
      "Training % outside of range: 0.448\n"
     ]
    },
    {
     "name": "stderr",
     "output_type": "stream",
     "text": [
      "23/09/17 01:42:56 WARN DAGScheduler: Broadcasting large task binary with size 22.2 MiB\n",
      "23/09/17 01:42:56 WARN TaskSetManager: Stage 124 contains a task of very large size (1087 KiB). The maximum recommended task size is 1000 KiB.\n",
      "                                                                                \r"
     ]
    },
    {
     "name": "stdout",
     "output_type": "stream",
     "text": [
      "RMSE: 0.1274, MAE: 0.0881, MAPE: 0.3647\n"
     ]
    },
    {
     "data": {
      "image/png": "[encoded data removed]",
      "text/plain": [
       "<Figure size 640x480 with 1 Axes>"
      ]
     },
     "metadata": {},
     "output_type": "display_data"
    },
    {
     "name": "stdout",
     "output_type": "stream",
     "text": [
      "Mean model: RMSE: 0.2809, MAE: 0.2434, MAPE: 0.9924\n",
      "Testing % outside of range: 0.414\n",
      "Feature importances:\n",
      "   center_to_center_nearest_neighbor_distance_min: 48597.0\n",
      "   slope: 38039.0\n",
      "   center_to_center_nearest_neighbor_distance_mean: 22821.0\n",
      "   areal_density: 20442.0\n",
      "   areal_density_overlap_3: 20278.0\n",
      "   za: 19862.0\n",
      "   areal_density_overlap_2: 16845.0\n",
      "   center_to_center_nearest_neighbor_distance_stdev: 16019.0\n",
      "   radius_mean: 13495.0\n",
      "   radius_stdev: 13245.0\n",
      "   n_craters_in_study_region: 10258.0\n",
      "   center_to_center_nearest_neighbor_distance_max: 9599.0\n"
     ]
    }
   ],
   "source": [
    "# Small model first\n",
    "poly_transform = sklearn.preprocessing.PolynomialFeatures(degree=1, include_bias=False)\n",
    "X_train = poly_transform.fit_transform(train_df[ivs])\n",
    "X_train = pd.DataFrame(X_train, columns=poly_transform.get_feature_names_out())\n",
    "\n",
    "train_df_spark = spark.createDataFrame(pd.concat([train_df[metric], X_train], axis=1))\n",
    "\n",
    "assembler = VectorAssembler(\n",
    "    inputCols=list(X_train.columns),\n",
    "    outputCol=\"features\")\n",
    "\n",
    "train_df_featurized = assembler.transform(train_df_spark)[metric, \"features\"].cache()\n",
    "\n",
    "model = (LightGBMRegressor()\n",
    "    # .setObjective('quantile')\n",
    "     .setObjective('regression')\n",
    "    .setLabelCol(metric)\n",
    "    # .setAlpha(0.5)\n",
    "    .setLearningRate(0.05)\n",
    "    .setNumIterations(500)\n",
    "    .setNumLeaves(500)\n",
    "    .setNumThreads(n_cores)\n",
    "    .fit(train_df_featurized))\n",
    "\n",
    "# Metrics for all train data\n",
    "pred_df = score_model(model, train_df, metric, assembler, ivs, list(X_train.columns))\n",
    "pred_df[\"outside_range\"] = pred_df[metric] < pred_df.prediction\n",
    "print(f\"Training % outside of range: {pred_df.outside_range.mean():.3f}\")\n",
    "\n",
    "# Metrics for all test data\n",
    "pred_df = score_model(model, test_df, metric, assembler, ivs, list(X_train.columns))\n",
    "pred_df[\"outside_range\"] = pred_df[metric] < pred_df.prediction\n",
    "pred_df.outside_range.mean()\n",
    "print(f\"Testing % outside of range: {pred_df.outside_range.mean():.3f}\")\n",
    "\n",
    "importances = sorted(zip(X_train.columns, model.getFeatureImportances()), key=lambda x: -x[1])\n",
    "print(f\"Feature importances:\")\n",
    "for x in importances:\n",
    "    print(f\"   {x[0]}: {x[1]}\")\n",
    "\n",
    "model_reg_500_500 = model"
   ]
  },
  {
   "cell_type": "code",
   "execution_count": 39,
   "id": "3386ebf3-1303-4f96-84ff-e41a8eec63ea",
   "metadata": {},
   "outputs": [
    {
     "name": "stderr",
     "output_type": "stream",
     "text": [
      "23/09/17 01:43:20 WARN TaskSetManager: Stage 126 contains a task of very large size (4208 KiB). The maximum recommended task size is 1000 KiB.\n",
      "23/09/17 01:43:20 WARN TaskSetManager: Stage 127 contains a task of very large size (4208 KiB). The maximum recommended task size is 1000 KiB.\n",
      "23/09/17 01:43:41 WARN TaskSetManager: Stage 128 contains a task of very large size (4208 KiB). The maximum recommended task size is 1000 KiB.\n",
      "                                                                                \r"
     ]
    },
    {
     "name": "stdout",
     "output_type": "stream",
     "text": [
      "RMSE: 0.1131, MAE: 0.0767, MAPE: 0.4093\n"
     ]
    },
    {
     "data": {
      "image/png": "[encoded data removed]",
      "text/plain": [
       "<Figure size 640x480 with 1 Axes>"
      ]
     },
     "metadata": {},
     "output_type": "display_data"
    },
    {
     "name": "stdout",
     "output_type": "stream",
     "text": [
      "Mean model: RMSE: 0.2817, MAE: 0.2443, MAPE: 0.9935\n",
      "Training % outside of range: 0.481\n"
     ]
    },
    {
     "name": "stderr",
     "output_type": "stream",
     "text": [
      "23/09/17 01:43:58 WARN TaskSetManager: Stage 129 contains a task of very large size (1087 KiB). The maximum recommended task size is 1000 KiB.\n"
     ]
    },
    {
     "name": "stdout",
     "output_type": "stream",
     "text": [
      "RMSE: 0.1308, MAE: 0.0912, MAPE: 0.4667\n"
     ]
    },
    {
     "data": {
      "image/png": "[encoded data removed]",
      "text/plain": [
       "<Figure size 640x480 with 1 Axes>"
      ]
     },
     "metadata": {},
     "output_type": "display_data"
    },
    {
     "name": "stdout",
     "output_type": "stream",
     "text": [
      "Mean model: RMSE: 0.2809, MAE: 0.2434, MAPE: 0.9924\n",
      "Testing % outside of range: 0.503\n",
      "Feature importances:\n",
      "   za: 1039.0\n",
      "   center_to_center_nearest_neighbor_distance_mean: 887.0\n",
      "   slope: 714.0\n",
      "   areal_density: 476.0\n",
      "   areal_density_overlap_3: 426.0\n",
      "   center_to_center_nearest_neighbor_distance_stdev: 334.0\n",
      "   center_to_center_nearest_neighbor_distance_min: 324.0\n",
      "   areal_density_overlap_2: 283.0\n",
      "   center_to_center_nearest_neighbor_distance_max: 182.0\n",
      "   radius_mean: 130.0\n",
      "   radius_stdev: 102.0\n",
      "   n_craters_in_study_region: 53.0\n"
     ]
    }
   ],
   "source": [
    "# Small model first\n",
    "poly_transform = sklearn.preprocessing.PolynomialFeatures(degree=1, include_bias=False)\n",
    "X_train = poly_transform.fit_transform(train_df[ivs])\n",
    "X_train = pd.DataFrame(X_train, columns=poly_transform.get_feature_names_out())\n",
    "\n",
    "train_df_spark = spark.createDataFrame(pd.concat([train_df[metric], X_train], axis=1))\n",
    "\n",
    "assembler = VectorAssembler(\n",
    "    inputCols=list(X_train.columns),\n",
    "    outputCol=\"features\")\n",
    "\n",
    "train_df_featurized = assembler.transform(train_df_spark)[metric, \"features\"].cache()\n",
    "\n",
    "model = (LightGBMRegressor()\n",
    "    .setObjective('quantile')\n",
    "     # .setObjective('regression')\n",
    "    .setLabelCol(metric)\n",
    "    .setAlpha(0.5)\n",
    "    .setLearningRate(0.1)\n",
    "    .setNumIterations(50)\n",
    "    .setNumLeaves(100)\n",
    "    .setNumThreads(n_cores)\n",
    "    .fit(train_df_featurized))\n",
    "\n",
    "# Metrics for all train data\n",
    "pred_df = score_model(model, train_df, metric, assembler, ivs, list(X_train.columns))\n",
    "pred_df[\"outside_range\"] = pred_df[metric] < pred_df.prediction\n",
    "print(f\"Training % outside of range: {pred_df.outside_range.mean():.3f}\")\n",
    "\n",
    "# Metrics for all test data\n",
    "pred_df = score_model(model, test_df, metric, assembler, ivs, list(X_train.columns))\n",
    "pred_df[\"outside_range\"] = pred_df[metric] < pred_df.prediction\n",
    "pred_df.outside_range.mean()\n",
    "print(f\"Testing % outside of range: {pred_df.outside_range.mean():.3f}\")\n",
    "\n",
    "importances = sorted(zip(X_train.columns, model.getFeatureImportances()), key=lambda x: -x[1])\n",
    "print(f\"Feature importances:\")\n",
    "for x in importances:\n",
    "    print(f\"   {x[0]}: {x[1]}\")\n",
    "\n",
    "model_reg_50_100_median = model"
   ]
  },
  {
   "cell_type": "code",
   "execution_count": 40,
   "id": "e0f94772-f087-4103-b171-f56c1051fba4",
   "metadata": {},
   "outputs": [
    {
     "name": "stderr",
     "output_type": "stream",
     "text": [
      "23/09/17 01:46:00 WARN TaskSetManager: Stage 131 contains a task of very large size (28782 KiB). The maximum recommended task size is 1000 KiB.\n",
      "23/09/17 01:46:00 WARN TaskSetManager: Stage 132 contains a task of very large size (28782 KiB). The maximum recommended task size is 1000 KiB.\n",
      "[Stage 132:====================================================>  (19 + 1) / 20]\r"
     ]
    },
    {
     "name": "stdout",
     "output_type": "stream",
     "text": [
      "[LightGBM] [Warning] Found whitespace in feature_names, replace with underlines\n"
     ]
    },
    {
     "name": "stderr",
     "output_type": "stream",
     "text": [
      "23/09/17 01:48:06 WARN TaskSetManager: Stage 133 contains a task of very large size (28781 KiB). The maximum recommended task size is 1000 KiB.\n",
      "                                                                                \r"
     ]
    },
    {
     "name": "stdout",
     "output_type": "stream",
     "text": [
      "RMSE: 0.0998, MAE: 0.0655, MAPE: 0.3568\n"
     ]
    },
    {
     "data": {
      "image/png": "[encoded data removed]",
      "text/plain": [
       "<Figure size 640x480 with 1 Axes>"
      ]
     },
     "metadata": {},
     "output_type": "display_data"
    },
    {
     "name": "stdout",
     "output_type": "stream",
     "text": [
      "Mean model: RMSE: 0.2817, MAE: 0.2443, MAPE: 0.9935\n",
      "Training % outside of range: 0.480\n"
     ]
    },
    {
     "name": "stderr",
     "output_type": "stream",
     "text": [
      "23/09/17 01:49:05 WARN TaskSetManager: Stage 134 contains a task of very large size (6584 KiB). The maximum recommended task size is 1000 KiB.\n",
      "                                                                                \r"
     ]
    },
    {
     "name": "stdout",
     "output_type": "stream",
     "text": [
      "RMSE: 0.1150, MAE: 0.0785, MAPE: 0.4057\n"
     ]
    },
    {
     "data": {
      "image/png": "[encoded data removed]",
      "text/plain": [
       "<Figure size 640x480 with 1 Axes>"
      ]
     },
     "metadata": {},
     "output_type": "display_data"
    },
    {
     "name": "stdout",
     "output_type": "stream",
     "text": [
      "Mean model: RMSE: 0.2809, MAE: 0.2434, MAPE: 0.9924\n",
      "Testing % outside of range: 0.482\n",
      "Feature importances:\n",
      "   za center_to_center_nearest_neighbor_distance_stdev: 495.0\n",
      "   za center_to_center_nearest_neighbor_distance_mean: 376.0\n",
      "   slope: 324.0\n",
      "   n_craters_in_study_region center_to_center_nearest_neighbor_distance_stdev: 285.0\n",
      "   slope center_to_center_nearest_neighbor_distance_stdev: 276.0\n",
      "   slope center_to_center_nearest_neighbor_distance_mean: 271.0\n",
      "   center_to_center_nearest_neighbor_distance_mean: 181.0\n",
      "   slope areal_density_overlap_2: 158.0\n",
      "   slope areal_density_overlap_3: 147.0\n",
      "   za radius_mean: 135.0\n",
      "   center_to_center_nearest_neighbor_distance_stdev: 127.0\n",
      "   n_craters_in_study_region areal_density_overlap_2: 121.0\n",
      "   areal_density: 119.0\n",
      "   areal_density center_to_center_nearest_neighbor_distance_stdev: 101.0\n",
      "   za radius_stdev: 86.0\n",
      "   areal_density center_to_center_nearest_neighbor_distance_mean: 85.0\n",
      "   slope areal_density: 81.0\n",
      "   center_to_center_nearest_neighbor_distance_mean center_to_center_nearest_neighbor_distance_stdev: 76.0\n",
      "   n_craters_in_study_region areal_density_overlap_3: 75.0\n",
      "   za center_to_center_nearest_neighbor_distance_max: 73.0\n",
      "   areal_density center_to_center_nearest_neighbor_distance_max: 72.0\n",
      "   slope radius_mean: 70.0\n",
      "   slope center_to_center_nearest_neighbor_distance_min: 58.0\n",
      "   slope center_to_center_nearest_neighbor_distance_max: 54.0\n",
      "   za center_to_center_nearest_neighbor_distance_min: 54.0\n",
      "   n_craters_in_study_region center_to_center_nearest_neighbor_distance_min: 54.0\n",
      "   center_to_center_nearest_neighbor_distance_min: 53.0\n",
      "   n_craters_in_study_region radius_mean: 48.0\n",
      "   n_craters_in_study_region areal_density: 40.0\n",
      "   areal_density_overlap_2 center_to_center_nearest_neighbor_distance_min: 38.0\n",
      "   areal_density_overlap_3 center_to_center_nearest_neighbor_distance_min: 37.0\n",
      "   slope radius_stdev: 36.0\n",
      "   center_to_center_nearest_neighbor_distance_mean center_to_center_nearest_neighbor_distance_max: 36.0\n",
      "   areal_density_overlap_2: 32.0\n",
      "   areal_density_overlap_2 center_to_center_nearest_neighbor_distance_stdev: 31.0\n",
      "   areal_density_overlap_3 center_to_center_nearest_neighbor_distance_mean: 31.0\n",
      "   center_to_center_nearest_neighbor_distance_mean center_to_center_nearest_neighbor_distance_min: 31.0\n",
      "   radius_mean: 30.0\n",
      "   areal_density radius_stdev: 30.0\n",
      "   areal_density_overlap_3: 29.0\n",
      "   center_to_center_nearest_neighbor_distance_mean radius_mean: 28.0\n",
      "   center_to_center_nearest_neighbor_distance_stdev center_to_center_nearest_neighbor_distance_min: 25.0\n",
      "   areal_density_overlap_2 areal_density_overlap_3: 24.0\n",
      "   areal_density center_to_center_nearest_neighbor_distance_min: 23.0\n",
      "   center_to_center_nearest_neighbor_distance_min radius_mean: 23.0\n",
      "   za areal_density_overlap_3: 22.0\n",
      "   areal_density_overlap_3 center_to_center_nearest_neighbor_distance_stdev: 21.0\n",
      "   areal_density_overlap_2 center_to_center_nearest_neighbor_distance_mean: 20.0\n",
      "   za areal_density: 19.0\n",
      "   center_to_center_nearest_neighbor_distance_min radius_stdev: 19.0\n",
      "   center_to_center_nearest_neighbor_distance_mean radius_stdev: 17.0\n",
      "   za areal_density_overlap_2: 16.0\n",
      "   slope za: 15.0\n",
      "   areal_density_overlap_2 radius_mean: 15.0\n",
      "   center_to_center_nearest_neighbor_distance_max: 14.0\n",
      "   za: 13.0\n",
      "   n_craters_in_study_region center_to_center_nearest_neighbor_distance_max: 13.0\n",
      "   n_craters_in_study_region radius_stdev: 13.0\n",
      "   areal_density_overlap_3 radius_mean: 13.0\n",
      "   areal_density_overlap_2 center_to_center_nearest_neighbor_distance_max: 12.0\n",
      "   areal_density_overlap_3 radius_stdev: 12.0\n",
      "   areal_density_overlap_2 radius_stdev: 10.0\n",
      "   slope n_craters_in_study_region: 9.0\n",
      "   n_craters_in_study_region center_to_center_nearest_neighbor_distance_mean: 9.0\n",
      "   areal_density areal_density_overlap_2: 9.0\n",
      "   center_to_center_nearest_neighbor_distance_stdev radius_mean: 9.0\n",
      "   center_to_center_nearest_neighbor_distance_stdev radius_stdev: 9.0\n",
      "   center_to_center_nearest_neighbor_distance_min center_to_center_nearest_neighbor_distance_max: 9.0\n",
      "   areal_density_overlap_3 center_to_center_nearest_neighbor_distance_max: 8.0\n",
      "   za n_craters_in_study_region: 7.0\n",
      "   center_to_center_nearest_neighbor_distance_stdev center_to_center_nearest_neighbor_distance_max: 7.0\n",
      "   radius_mean radius_stdev: 6.0\n",
      "   radius_stdev: 5.0\n",
      "   za^2: 5.0\n",
      "   areal_density radius_mean: 5.0\n",
      "   areal_density areal_density_overlap_3: 4.0\n",
      "   center_to_center_nearest_neighbor_distance_max radius_mean: 3.0\n",
      "   n_craters_in_study_region: 2.0\n",
      "   center_to_center_nearest_neighbor_distance_max radius_stdev: 1.0\n",
      "   slope^2: 0.0\n",
      "   n_craters_in_study_region^2: 0.0\n",
      "   areal_density^2: 0.0\n",
      "   areal_density_overlap_2^2: 0.0\n",
      "   areal_density_overlap_3^2: 0.0\n",
      "   center_to_center_nearest_neighbor_distance_mean^2: 0.0\n",
      "   center_to_center_nearest_neighbor_distance_stdev^2: 0.0\n",
      "   center_to_center_nearest_neighbor_distance_min^2: 0.0\n",
      "   center_to_center_nearest_neighbor_distance_max^2: 0.0\n",
      "   radius_mean^2: 0.0\n",
      "   radius_stdev^2: 0.0\n"
     ]
    }
   ],
   "source": [
    "# Small model first\n",
    "poly_transform = sklearn.preprocessing.PolynomialFeatures(degree=2, include_bias=False)\n",
    "X_train = poly_transform.fit_transform(train_df[ivs])\n",
    "X_train = pd.DataFrame(X_train, columns=poly_transform.get_feature_names_out())\n",
    "\n",
    "train_df_spark = spark.createDataFrame(pd.concat([train_df[metric], X_train], axis=1))\n",
    "\n",
    "assembler = VectorAssembler(\n",
    "    inputCols=list(X_train.columns),\n",
    "    outputCol=\"features\")\n",
    "\n",
    "train_df_featurized = assembler.transform(train_df_spark)[metric, \"features\"].cache()\n",
    "\n",
    "model = (LightGBMRegressor()\n",
    "    .setObjective('quantile')\n",
    "     # .setObjective('regression')\n",
    "    .setLabelCol(metric)\n",
    "    .setAlpha(0.5)\n",
    "    .setLearningRate(0.1)\n",
    "    .setNumIterations(50)\n",
    "    .setNumLeaves(100)\n",
    "    .setNumThreads(n_cores)\n",
    "    .fit(train_df_featurized))\n",
    "\n",
    "# Metrics for all train data\n",
    "pred_df = score_model(model, train_df, metric, assembler, ivs, list(X_train.columns))\n",
    "pred_df[\"outside_range\"] = pred_df[metric] < pred_df.prediction\n",
    "print(f\"Training % outside of range: {pred_df.outside_range.mean():.3f}\")\n",
    "\n",
    "# Metrics for all test data\n",
    "pred_df = score_model(model, test_df, metric, assembler, ivs, list(X_train.columns))\n",
    "pred_df[\"outside_range\"] = pred_df[metric] < pred_df.prediction\n",
    "pred_df.outside_range.mean()\n",
    "print(f\"Testing % outside of range: {pred_df.outside_range.mean():.3f}\")\n",
    "\n",
    "importances = sorted(zip(X_train.columns, model.getFeatureImportances()), key=lambda x: -x[1])\n",
    "print(f\"Feature importances:\")\n",
    "for x in importances:\n",
    "    print(f\"   {x[0]}: {x[1]}\")\n",
    "\n",
    "model_reg_50_100_median_degree_2 = model"
   ]
  },
  {
   "cell_type": "code",
   "execution_count": 41,
   "id": "0237e875-cb57-464b-8102-e31899c087c3",
   "metadata": {},
   "outputs": [
    {
     "name": "stderr",
     "output_type": "stream",
     "text": [
      "23/09/17 01:51:11 WARN TaskSetManager: Stage 136 contains a task of very large size (28782 KiB). The maximum recommended task size is 1000 KiB.\n",
      "23/09/17 01:51:11 WARN TaskSetManager: Stage 137 contains a task of very large size (28782 KiB). The maximum recommended task size is 1000 KiB.\n",
      "[Stage 137:====================================================>  (19 + 1) / 20]\r"
     ]
    },
    {
     "name": "stdout",
     "output_type": "stream",
     "text": [
      "[LightGBM] [Warning] Found whitespace in feature_names, replace with underlines\n"
     ]
    },
    {
     "name": "stderr",
     "output_type": "stream",
     "text": [
      "23/09/17 01:53:24 WARN DAGScheduler: Broadcasting large task binary with size 4.5 MiB\n",
      "23/09/17 01:53:24 WARN TaskSetManager: Stage 138 contains a task of very large size (28781 KiB). The maximum recommended task size is 1000 KiB.\n",
      "                                                                                \r"
     ]
    },
    {
     "name": "stdout",
     "output_type": "stream",
     "text": [
      "RMSE: 0.0825, MAE: 0.0527, MAPE: 0.3096\n"
     ]
    },
    {
     "data": {
      "image/png": "[encoded data removed]",
      "text/plain": [
       "<Figure size 640x480 with 1 Axes>"
      ]
     },
     "metadata": {},
     "output_type": "display_data"
    },
    {
     "name": "stdout",
     "output_type": "stream",
     "text": [
      "Mean model: RMSE: 0.2817, MAE: 0.2443, MAPE: 0.9935\n",
      "Training % outside of range: 0.417\n"
     ]
    },
    {
     "name": "stderr",
     "output_type": "stream",
     "text": [
      "23/09/17 01:54:24 WARN DAGScheduler: Broadcasting large task binary with size 4.5 MiB\n",
      "23/09/17 01:54:24 WARN TaskSetManager: Stage 139 contains a task of very large size (6584 KiB). The maximum recommended task size is 1000 KiB.\n",
      "                                                                                \r"
     ]
    },
    {
     "name": "stdout",
     "output_type": "stream",
     "text": [
      "RMSE: 0.1139, MAE: 0.0816, MAPE: 0.4084\n"
     ]
    },
    {
     "data": {
      "image/png": "[encoded data removed]",
      "text/plain": [
       "<Figure size 640x480 with 1 Axes>"
      ]
     },
     "metadata": {},
     "output_type": "display_data"
    },
    {
     "name": "stdout",
     "output_type": "stream",
     "text": [
      "Mean model: RMSE: 0.2809, MAE: 0.2434, MAPE: 0.9924\n",
      "Testing % outside of range: 0.416\n",
      "Feature importances:\n",
      "   slope: 4330.0\n",
      "   slope center_to_center_nearest_neighbor_distance_mean: 2729.0\n",
      "   za center_to_center_nearest_neighbor_distance_stdev: 2619.0\n",
      "   n_craters_in_study_region center_to_center_nearest_neighbor_distance_stdev: 2600.0\n",
      "   slope center_to_center_nearest_neighbor_distance_stdev: 2219.0\n",
      "   za center_to_center_nearest_neighbor_distance_mean: 2064.0\n",
      "   slope center_to_center_nearest_neighbor_distance_min: 1576.0\n",
      "   center_to_center_nearest_neighbor_distance_min: 1501.0\n",
      "   center_to_center_nearest_neighbor_distance_stdev: 1180.0\n",
      "   n_craters_in_study_region center_to_center_nearest_neighbor_distance_min: 1176.0\n",
      "   center_to_center_nearest_neighbor_distance_mean: 1162.0\n",
      "   areal_density center_to_center_nearest_neighbor_distance_stdev: 935.0\n",
      "   areal_density_overlap_3 center_to_center_nearest_neighbor_distance_min: 922.0\n",
      "   slope areal_density: 918.0\n",
      "   slope areal_density_overlap_2: 884.0\n",
      "   areal_density_overlap_2 center_to_center_nearest_neighbor_distance_min: 853.0\n",
      "   areal_density: 806.0\n",
      "   slope radius_stdev: 789.0\n",
      "   center_to_center_nearest_neighbor_distance_mean center_to_center_nearest_neighbor_distance_min: 765.0\n",
      "   za center_to_center_nearest_neighbor_distance_min: 748.0\n",
      "   slope radius_mean: 730.0\n",
      "   areal_density center_to_center_nearest_neighbor_distance_mean: 695.0\n",
      "   areal_density center_to_center_nearest_neighbor_distance_min: 686.0\n",
      "   center_to_center_nearest_neighbor_distance_min radius_mean: 678.0\n",
      "   slope areal_density_overlap_3: 662.0\n",
      "   center_to_center_nearest_neighbor_distance_mean center_to_center_nearest_neighbor_distance_stdev: 651.0\n",
      "   n_craters_in_study_region radius_mean: 643.0\n",
      "   center_to_center_nearest_neighbor_distance_min radius_stdev: 604.0\n",
      "   za radius_stdev: 584.0\n",
      "   za radius_mean: 560.0\n",
      "   center_to_center_nearest_neighbor_distance_stdev center_to_center_nearest_neighbor_distance_min: 508.0\n",
      "   n_craters_in_study_region areal_density_overlap_2: 482.0\n",
      "   n_craters_in_study_region areal_density_overlap_3: 479.0\n",
      "   n_craters_in_study_region radius_stdev: 465.0\n",
      "   slope center_to_center_nearest_neighbor_distance_max: 433.0\n",
      "   areal_density_overlap_2 center_to_center_nearest_neighbor_distance_stdev: 404.0\n",
      "   slope n_craters_in_study_region: 396.0\n",
      "   radius_mean: 393.0\n",
      "   areal_density_overlap_2: 364.0\n",
      "   slope za: 364.0\n",
      "   areal_density center_to_center_nearest_neighbor_distance_max: 363.0\n",
      "   areal_density_overlap_3 center_to_center_nearest_neighbor_distance_mean: 349.0\n",
      "   areal_density_overlap_2 center_to_center_nearest_neighbor_distance_mean: 333.0\n",
      "   areal_density radius_stdev: 326.0\n",
      "   n_craters_in_study_region areal_density: 322.0\n",
      "   center_to_center_nearest_neighbor_distance_mean radius_stdev: 321.0\n",
      "   center_to_center_nearest_neighbor_distance_mean radius_mean: 314.0\n",
      "   za areal_density: 297.0\n",
      "   za center_to_center_nearest_neighbor_distance_max: 293.0\n",
      "   areal_density_overlap_2 radius_mean: 284.0\n",
      "   areal_density_overlap_3 radius_mean: 283.0\n",
      "   areal_density_overlap_3: 261.0\n",
      "   za areal_density_overlap_3: 252.0\n",
      "   radius_stdev: 244.0\n",
      "   areal_density radius_mean: 239.0\n",
      "   za areal_density_overlap_2: 234.0\n",
      "   areal_density_overlap_3 center_to_center_nearest_neighbor_distance_stdev: 233.0\n",
      "   areal_density_overlap_2 radius_stdev: 231.0\n",
      "   center_to_center_nearest_neighbor_distance_min center_to_center_nearest_neighbor_distance_max: 226.0\n",
      "   areal_density_overlap_2 areal_density_overlap_3: 218.0\n",
      "   areal_density_overlap_2 center_to_center_nearest_neighbor_distance_max: 199.0\n",
      "   areal_density_overlap_3 radius_stdev: 199.0\n",
      "   n_craters_in_study_region center_to_center_nearest_neighbor_distance_max: 188.0\n",
      "   areal_density_overlap_3 center_to_center_nearest_neighbor_distance_max: 182.0\n",
      "   center_to_center_nearest_neighbor_distance_mean center_to_center_nearest_neighbor_distance_max: 182.0\n",
      "   center_to_center_nearest_neighbor_distance_stdev radius_stdev: 174.0\n",
      "   areal_density areal_density_overlap_2: 171.0\n",
      "   center_to_center_nearest_neighbor_distance_stdev radius_mean: 165.0\n",
      "   center_to_center_nearest_neighbor_distance_max: 158.0\n",
      "   n_craters_in_study_region: 152.0\n",
      "   za n_craters_in_study_region: 151.0\n",
      "   n_craters_in_study_region center_to_center_nearest_neighbor_distance_mean: 138.0\n",
      "   za: 130.0\n",
      "   radius_mean radius_stdev: 118.0\n",
      "   center_to_center_nearest_neighbor_distance_stdev center_to_center_nearest_neighbor_distance_max: 110.0\n",
      "   areal_density areal_density_overlap_3: 109.0\n",
      "   za^2: 108.0\n",
      "   center_to_center_nearest_neighbor_distance_max radius_mean: 80.0\n",
      "   center_to_center_nearest_neighbor_distance_max radius_stdev: 56.0\n",
      "   slope^2: 0.0\n",
      "   n_craters_in_study_region^2: 0.0\n",
      "   areal_density^2: 0.0\n",
      "   areal_density_overlap_2^2: 0.0\n",
      "   areal_density_overlap_3^2: 0.0\n",
      "   center_to_center_nearest_neighbor_distance_mean^2: 0.0\n",
      "   center_to_center_nearest_neighbor_distance_stdev^2: 0.0\n",
      "   center_to_center_nearest_neighbor_distance_min^2: 0.0\n",
      "   center_to_center_nearest_neighbor_distance_max^2: 0.0\n",
      "   radius_mean^2: 0.0\n",
      "   radius_stdev^2: 0.0\n"
     ]
    }
   ],
   "source": [
    "# Small model first\n",
    "poly_transform = sklearn.preprocessing.PolynomialFeatures(degree=2, include_bias=False)\n",
    "X_train = poly_transform.fit_transform(train_df[ivs])\n",
    "X_train = pd.DataFrame(X_train, columns=poly_transform.get_feature_names_out())\n",
    "\n",
    "train_df_spark = spark.createDataFrame(pd.concat([train_df[metric], X_train], axis=1))\n",
    "\n",
    "assembler = VectorAssembler(\n",
    "    inputCols=list(X_train.columns),\n",
    "    outputCol=\"features\")\n",
    "\n",
    "train_df_featurized = assembler.transform(train_df_spark)[metric, \"features\"].cache()\n",
    "\n",
    "model = (LightGBMRegressor()\n",
    "    .setObjective('quantile')\n",
    "     # .setObjective('regression')\n",
    "    .setLabelCol(metric)\n",
    "    .setAlpha(0.5)\n",
    "    .setLearningRate(0.05)\n",
    "    .setNumIterations(50)\n",
    "    .setNumLeaves(1000)\n",
    "    .setNumThreads(n_cores)\n",
    "    .fit(train_df_featurized))\n",
    "\n",
    "# Metrics for all train data\n",
    "pred_df = score_model(model, train_df, metric, assembler, ivs, list(X_train.columns))\n",
    "pred_df[\"outside_range\"] = pred_df[metric] < pred_df.prediction\n",
    "print(f\"Training % outside of range: {pred_df.outside_range.mean():.3f}\")\n",
    "\n",
    "# Metrics for all test data\n",
    "pred_df = score_model(model, test_df, metric, assembler, ivs, list(X_train.columns))\n",
    "pred_df[\"outside_range\"] = pred_df[metric] < pred_df.prediction\n",
    "pred_df.outside_range.mean()\n",
    "print(f\"Testing % outside of range: {pred_df.outside_range.mean():.3f}\")\n",
    "\n",
    "importances = sorted(zip(X_train.columns, model.getFeatureImportances()), key=lambda x: -x[1])\n",
    "print(f\"Feature importances:\")\n",
    "for x in importances:\n",
    "    print(f\"   {x[0]}: {x[1]}\")\n",
    "\n",
    "model_reg_50_1000_median_degree_2 = model"
   ]
  },
  {
   "cell_type": "code",
   "execution_count": 42,
   "id": "ebdb67b3-4b08-4487-aa3e-5f67c6da9d2a",
   "metadata": {},
   "outputs": [],
   "source": [
    "# Best: Test ~11.5% RMSE, 8% MAE\n",
    "# Best including eff radius, min rim perc: ~10% RMSE, 6.5% MAE\n",
    "# With log-transformed IVs:"
   ]
  },
  {
   "cell_type": "code",
   "execution_count": null,
   "id": "34796eca-7f5c-4a1f-abf8-bc0fe1ca52e5",
   "metadata": {},
   "outputs": [],
   "source": []
  },
  {
   "cell_type": "code",
   "execution_count": null,
   "id": "64e4d914-aaca-4a2f-9701-afbced4623fc",
   "metadata": {},
   "outputs": [],
   "source": []
  },
  {
   "cell_type": "code",
   "execution_count": null,
   "id": "5175685b-03b7-49a2-8374-75914093b048",
   "metadata": {},
   "outputs": [],
   "source": []
  },
  {
   "cell_type": "code",
   "execution_count": null,
   "id": "7b63fe47-6869-4929-a084-ac8072677b5c",
   "metadata": {},
   "outputs": [],
   "source": []
  },
  {
   "cell_type": "markdown",
   "id": "593ec80c-6820-4be6-8aab-11d9813bb0c2",
   "metadata": {},
   "source": [
    "### Plot Predictions"
   ]
  },
  {
   "cell_type": "code",
   "execution_count": null,
   "id": "e0922075-8e4b-4802-8502-f24ecd183a35",
   "metadata": {},
   "outputs": [],
   "source": [
    "# Small model first\n",
    "poly_transform = sklearn.preprocessing.PolynomialFeatures(degree=1, include_bias=False)\n",
    "X_train = poly_transform.fit_transform(train_df[ivs])\n",
    "X_train = pd.DataFrame(X_train, columns=poly_transform.get_feature_names_out())\n",
    "\n",
    "train_df_spark = spark.createDataFrame(pd.concat([train_df[metric], X_train], axis=1))\n",
    "\n",
    "assembler = VectorAssembler(\n",
    "    inputCols=list(X_train.columns),\n",
    "    outputCol=\"features\")\n",
    "\n",
    "train_df_featurized = assembler.transform(train_df_spark)[metric, \"features\"].cache()\n",
    "\n",
    "model = (LightGBMRegressor()\n",
    "    .setObjective('quantile')\n",
    "     # .setObjective('regression')\n",
    "    .setLabelCol(metric)\n",
    "    .setLambdaL2(0.05)\n",
    "    .setAlpha(0.5)\n",
    "    .setLearningRate(0.05)\n",
    "    .setNumIterations(100)\n",
    "    .setNumLeaves(512)\n",
    "    .setNumThreads(n_cores)\n",
    "    .fit(train_df_featurized))\n",
    "\n",
    "# Metrics for all train data\n",
    "pred_df = score_model(model, train_df, metric, assembler, ivs, list(X_train.columns))\n",
    "pred_df[\"outside_range\"] = pred_df[metric] < pred_df.prediction\n",
    "print(f\"Training % outside of range: {pred_df.outside_range.mean():.3f}\")\n",
    "\n",
    "# Metrics for all test data\n",
    "pred_df = score_model(model, test_df, metric, assembler, ivs, list(X_train.columns))\n",
    "pred_df[\"outside_range\"] = pred_df[metric] < pred_df.prediction\n",
    "print(f\"Testing % outside of range: {pred_df.outside_range.mean():.3f}\")\n",
    "\n",
    "importances = sorted(zip(X_train.columns, model.getFeatureImportances()), key=lambda x: -x[1])\n",
    "print(f\"Feature importances:\")\n",
    "for x in importances:\n",
    "    print(f\"   {x[0]}: {x[1]}\")"
   ]
  },
  {
   "cell_type": "code",
   "execution_count": null,
   "id": "eefb62e7-b1a8-49a1-bd55-ccdff34fcc65",
   "metadata": {},
   "outputs": [],
   "source": [
    "plt.scatter(pred_df[metric], pred_df[metric] - pred_df.prediction, sizes=[1] * pred_df.shape[0])\n",
    "plt.xlabel(\"Actual IR\")\n",
    "plt.ylabel(\"Residual\")\n",
    "plt.show()"
   ]
  },
  {
   "cell_type": "code",
   "execution_count": null,
   "id": "4ed2abf7-6409-458d-a55b-6d11b1fde271",
   "metadata": {},
   "outputs": [],
   "source": [
    "pred_sorted = pred_df.sort_values(metric)\n",
    "plt.scatter(pred_sorted[metric], (pred_sorted[metric] - pred_sorted.prediction).rolling(1000).std(), sizes=[1] * pred_sorted.shape[0])\n",
    "plt.xlabel(\"Actual IR\")\n",
    "plt.ylabel(\"Rolling Stdev of Residuals\")\n",
    "plt.show()\n",
    "\n",
    "plt.scatter(pred_sorted[metric], (pred_sorted[metric] - pred_sorted.prediction).rolling(1000).mean(), sizes=[1] * pred_sorted.shape[0])\n",
    "plt.xlabel(\"Actual IR\")\n",
    "plt.ylabel(\"Rolling Mean of Residuals\")\n",
    "plt.show()"
   ]
  },
  {
   "cell_type": "code",
   "execution_count": null,
   "id": "65591744-c494-49eb-85b0-c468e7ce4d05",
   "metadata": {},
   "outputs": [],
   "source": []
  },
  {
   "cell_type": "code",
   "execution_count": null,
   "id": "a98a9d9c-bb36-48c3-9a32-cd0e9fea04d5",
   "metadata": {},
   "outputs": [],
   "source": []
  },
  {
   "cell_type": "code",
   "execution_count": null,
   "id": "9cb9d52a-bbb5-4bc1-a77a-f3898d218115",
   "metadata": {},
   "outputs": [],
   "source": []
  },
  {
   "cell_type": "code",
   "execution_count": null,
   "id": "087ca87a-414c-403a-a63d-a066a530bb3d",
   "metadata": {},
   "outputs": [],
   "source": []
  },
  {
   "cell_type": "code",
   "execution_count": null,
   "id": "3b290447-d819-4f54-a1c6-a40594ebe72c",
   "metadata": {},
   "outputs": [],
   "source": [
    "# Model for IR threshold\n",
    "\n",
    "threshold = 0.0\n",
    "xtr = train_df[train_df.information_remaining > threshold].reset_index().copy()\n",
    "xte = test_df[test_df.information_remaining > threshold].reset_index().copy()\n",
    "\n",
    "poly_transform = sklearn.preprocessing.PolynomialFeatures(degree=1, include_bias=False)\n",
    "X_train = poly_transform.fit_transform(xtr[ivs])\n",
    "X_train = pd.DataFrame(X_train, columns=poly_transform.get_feature_names_out())\n",
    "\n",
    "train_df_spark = spark.createDataFrame(pd.concat([xtr[metric], X_train], axis=1))\n",
    "\n",
    "assembler = VectorAssembler(\n",
    "    inputCols=list(X_train.columns),\n",
    "    outputCol=\"features\")\n",
    "\n",
    "train_df_featurized = assembler.transform(train_df_spark)[metric, \"features\"].cache()\n",
    "\n",
    "model = (LightGBMRegressor()\n",
    "    .setObjective('quantile')\n",
    "     # .setObjective('regression')\n",
    "    .setLabelCol(metric)\n",
    "    .setLambdaL2(0.05)\n",
    "    .setAlpha(0.5)\n",
    "    .setLearningRate(0.05)\n",
    "    .setNumIterations(50)\n",
    "    .setNumLeaves(512)\n",
    "    .setNumThreads(n_cores)\n",
    "    .fit(train_df_featurized))\n",
    "\n",
    "# Metrics for all train data\n",
    "pred_df = score_model(model, xtr, metric, assembler, ivs, list(X_train.columns))\n",
    "pred_df[\"outside_range\"] = pred_df[metric] < pred_df.prediction\n",
    "print(f\"Training % outside of range: {pred_df.outside_range.mean():.3f}\")\n",
    "\n",
    "# Metrics for all test data\n",
    "pred_df = score_model(model, xte, metric, assembler, ivs, list(X_train.columns))\n",
    "pred_df[\"outside_range\"] = pred_df[metric] < pred_df.prediction\n",
    "print(f\"Testing % outside of range: {pred_df.outside_range.mean():.3f}\")\n",
    "\n",
    "importances = sorted(zip(X_train.columns, model.getFeatureImportances()), key=lambda x: -x[1])\n",
    "print(f\"Feature importances:\")\n",
    "for x in importances:\n",
    "    print(f\"   {x[0]}: {x[1]}\")"
   ]
  },
  {
   "cell_type": "code",
   "execution_count": null,
   "id": "b682cd8b-f149-460f-ae9f-54f9d1f756e5",
   "metadata": {},
   "outputs": [],
   "source": [
    "pred_sorted = pred_df.sort_values(metric)\n",
    "plt.scatter(pred_sorted[metric], (pred_sorted[metric] - pred_sorted.prediction).rolling(1000).std(), sizes=[1] * pred_sorted.shape[0])\n",
    "plt.xlabel(\"Actual IR\")\n",
    "plt.ylabel(\"Rolling Stdev of Residuals\")\n",
    "plt.show()\n",
    "\n",
    "plt.scatter(pred_sorted[metric], (pred_sorted[metric] - pred_sorted.prediction).abs().rolling(1000).mean(), sizes=[1] * pred_sorted.shape[0])\n",
    "plt.xlabel(\"Actual IR\")\n",
    "plt.ylabel(\"Rolling Mean of Abs(Residuals)\")\n",
    "plt.show()"
   ]
  },
  {
   "cell_type": "code",
   "execution_count": null,
   "id": "9b32467d-e949-41ad-82b0-3de58f941d0f",
   "metadata": {},
   "outputs": [],
   "source": []
  },
  {
   "cell_type": "markdown",
   "id": "f6c9108e-cd59-46a6-87f1-87d0a75662ff",
   "metadata": {},
   "source": [
    "### Plots of 95% CI"
   ]
  },
  {
   "cell_type": "code",
   "execution_count": null,
   "id": "0eef0a1b-08b3-4a40-8d38-189f2c9d36ac",
   "metadata": {},
   "outputs": [],
   "source": [
    "min_data_in_leaf = 500\n",
    "learning_rate = 0.05\n",
    "n_iterations = 300\n",
    "n_leaves = 512\n",
    "boosting_type = \"dart\"\n",
    "\n",
    "threshold = 0.0\n",
    "xtr = train_df[train_df.information_remaining > threshold].reset_index().copy()\n",
    "xte = test_df[test_df.information_remaining > threshold].reset_index().copy()\n",
    "\n",
    "poly_transform = sklearn.preprocessing.PolynomialFeatures(degree=1, include_bias=False)\n",
    "X_train = poly_transform.fit_transform(xtr[ivs])\n",
    "X_train = pd.DataFrame(X_train, columns=poly_transform.get_feature_names_out())\n",
    "\n",
    "train_df_spark = spark.createDataFrame(pd.concat([xtr[metric], X_train], axis=1))\n",
    "\n",
    "assembler = VectorAssembler(\n",
    "    inputCols=list(X_train.columns),\n",
    "    outputCol=\"features\")\n",
    "\n",
    "train_df_featurized = assembler.transform(train_df_spark)[metric, \"features\"].cache()\n",
    "\n",
    "model = (LightGBMRegressor()\n",
    "    .setObjective('quantile')\n",
    "    .setLabelCol(metric)\n",
    "    .setBoostingType(boosting_type)\n",
    "    .setAlpha(0.1)\n",
    "    .setLearningRate(learning_rate)\n",
    "    .setNumIterations(n_iterations)\n",
    "    .setNumLeaves(n_leaves)\n",
    "    .setMinDataInLeaf(min_data_in_leaf)\n",
    "    .setNumThreads(n_cores)\n",
    "    .fit(train_df_featurized))\n",
    "\n",
    "model_10_quantile = model"
   ]
  },
  {
   "cell_type": "code",
   "execution_count": null,
   "id": "d7485143-74ef-4faa-8b91-9b4a29a044e1",
   "metadata": {},
   "outputs": [],
   "source": [
    "model = (LightGBMRegressor()\n",
    "    .setObjective('quantile')\n",
    "    .setLabelCol(metric)\n",
    "    .setBoostingType(boosting_type)\n",
    "    .setAlpha(0.50)\n",
    "    .setLearningRate(learning_rate)\n",
    "    .setNumIterations(n_iterations)\n",
    "    .setNumLeaves(n_leaves)\n",
    "    .setMinDataInLeaf(min_data_in_leaf)\n",
    "    .setNumThreads(n_cores)\n",
    "    .fit(train_df_featurized))\n",
    "\n",
    "model_50_quantile = model"
   ]
  },
  {
   "cell_type": "code",
   "execution_count": null,
   "id": "5a19c7d4-2645-4833-8a91-18074f17e47a",
   "metadata": {},
   "outputs": [],
   "source": [
    "model = (LightGBMRegressor()\n",
    "    .setObjective('quantile')\n",
    "    .setLabelCol(metric)\n",
    "    .setBoostingType(boosting_type)\n",
    "    .setAlpha(0.90)\n",
    "    .setLearningRate(learning_rate)\n",
    "    .setNumIterations(n_iterations)\n",
    "    .setNumLeaves(n_leaves)\n",
    "    .setMinDataInLeaf(min_data_in_leaf)\n",
    "    .setNumThreads(n_cores)\n",
    "    .fit(train_df_featurized))\n",
    "\n",
    "model_90_quantile = model"
   ]
  },
  {
   "cell_type": "code",
   "execution_count": null,
   "id": "67081c89-2e01-424a-b484-a6f39b26bdbd",
   "metadata": {},
   "outputs": [],
   "source": [
    "pred_df_10_quantile = score_model(model_10_quantile, xte, metric, assembler, ivs, list(X_train.columns))\n",
    "pred_df_50_quantile = score_model(model_50_quantile, xte, metric, assembler, ivs, list(X_train.columns))\n",
    "pred_df_90_quantile = score_model(model_90_quantile, xte, metric, assembler, ivs, list(X_train.columns))\n",
    "\n",
    "pred_df = pred_df_10_quantile.copy()\n",
    "pred_df[\"prediction_10_quantile\"] = pred_df[\"prediction\"]\n",
    "pred_df[\"n_craters_total_10_quantile\"] = 1. / pred_df[\"prediction\"] * pred_df[\"n_craters_in_study_region\"]\n",
    "pred_df[\"prediction_50_quantile\"] = pred_df_50_quantile[\"prediction\"]\n",
    "pred_df[\"n_craters_total_50_quantile\"] = 1. / pred_df_50_quantile[\"prediction\"] * pred_df[\"n_craters_in_study_region\"]\n",
    "pred_df[\"prediction_90_quantile\"] = pred_df_90_quantile[\"prediction\"]\n",
    "pred_df[\"n_craters_total_90_quantile\"] = 1. / pred_df_90_quantile[\"prediction\"] * pred_df[\"n_craters_in_study_region\"]\n",
    "pred_df[\"slope\"] = test_df[\"slope\"]\n",
    "pred_df[\"effective_radius_multiplier\"] = test_df[\"effective_radius_multiplier\"]\n",
    "pred_df[\"min_rim_percentage\"] = test_df[\"min_rim_percentage\"]"
   ]
  },
  {
   "cell_type": "code",
   "execution_count": null,
   "id": "79faac23-098d-47a2-b2ce-10f9a7b10bac",
   "metadata": {},
   "outputs": [],
   "source": []
  },
  {
   "cell_type": "code",
   "execution_count": null,
   "id": "4f6e8834-49e3-4afd-909b-b2ef3e9259f0",
   "metadata": {},
   "outputs": [],
   "source": []
  },
  {
   "cell_type": "code",
   "execution_count": null,
   "id": "b367a44e-3e5c-4891-bbeb-533b8bbbcf10",
   "metadata": {},
   "outputs": [],
   "source": []
  },
  {
   "cell_type": "code",
   "execution_count": null,
   "id": "11f419a0-94fc-4b00-946c-4890fc3c6a13",
   "metadata": {},
   "outputs": [],
   "source": [
    "simulation_ids = list(pred_df.simulation_id.unique())\n",
    "\n",
    "for x in simulation_ids[:5]:\n",
    "    df = pred_df[pred_df.simulation_id == x].copy()\n",
    "    print(df.iloc[0][[\"slope\", \"effective_radius_multiplier\", \"min_rim_percentage\"]])\n",
    "    df = df.sort_values(\"n_craters_added_in_study_region\")\n",
    "    \n",
    "    fig = plt.figure(figsize=(12, 4))\n",
    "    ax1 = fig.add_subplot(111)\n",
    "    \n",
    "    plt1 = ax1.plot(df.n_craters_added_in_study_region, df.information_remaining, color='black', label=\"Information Remaining\")\n",
    "    plt2 = ax1.plot(df.n_craters_added_in_study_region, df[\"prediction_10_quantile\"], color='blue', label=\"10% Quantile\")\n",
    "    plt3 = ax1.plot(df.n_craters_added_in_study_region, df[\"prediction_50_quantile\"], color='orange', label=\"50% Quantile\")\n",
    "    plt4 = ax1.plot(df.n_craters_added_in_study_region, df[\"prediction_90_quantile\"], color='green', label=\"90% Quantile\")\n",
    "    ax1.set_xlabel(\"N Craters Added\")\n",
    "    ax1.set_ylabel(\"IR\")\n",
    "    \n",
    "    lns = plt1 + plt2 + plt3 + plt4\n",
    "    ax1.legend(lns, [l.get_label() for l in lns], loc=1)\n",
    "    \n",
    "    plt.show()"
   ]
  },
  {
   "cell_type": "code",
   "execution_count": null,
   "id": "77721abc-e59c-4f32-88b7-13a76bda3806",
   "metadata": {},
   "outputs": [],
   "source": [
    "pred_df[\"ci_width\"] = pred_df[\"prediction_90_quantile\"] - pred_df[\"prediction_10_quantile\"]\n",
    "\n",
    "pred_sorted = pred_df.sort_values(metric)\n",
    "plt.scatter(pred_sorted[metric], pred_sorted[\"ci_width\"].rolling(1000).mean(), sizes=[1] * pred_sorted.shape[0])\n",
    "plt.xlabel(\"IR\")\n",
    "plt.ylabel(\"Rolling Mean CI Width\")\n",
    "plt.show()"
   ]
  },
  {
   "cell_type": "code",
   "execution_count": null,
   "id": "6bb4af7b-eae8-489a-90a8-da2edf252c1b",
   "metadata": {},
   "outputs": [],
   "source": [
    "pred_df[\"ci_width\"] = pred_df[\"prediction_90_quantile\"] - pred_df[\"prediction_10_quantile\"]\n",
    "\n",
    "pred_sorted = pred_df.sort_values(metric)\n",
    "plt.scatter(pred_sorted[metric], pred_sorted[\"ci_width\"].rolling(1000).std(), sizes=[1] * pred_sorted.shape[0])\n",
    "plt.xlabel(\"IR\")\n",
    "plt.ylabel(\"Rolling Stdev CI Width\")\n",
    "plt.show()"
   ]
  },
  {
   "cell_type": "code",
   "execution_count": null,
   "id": "b2204e54-0613-4bc3-bb52-91f921614ec3",
   "metadata": {},
   "outputs": [],
   "source": [
    "pred_sorted = pred_df.sort_values(\"slope\")\n",
    "resid = (pred_sorted[\"prediction_50_quantile\"] - pred_sorted[metric])\n",
    "\n",
    "plt.scatter(pred_sorted[\"slope\"], resid.rolling(1000).mean(), sizes=[1] * pred_sorted.shape[0])\n",
    "plt.xlabel(\"Slope\")\n",
    "plt.ylabel(\"Residual\")\n",
    "plt.show()"
   ]
  },
  {
   "cell_type": "code",
   "execution_count": null,
   "id": "6dcdb45d-bc7d-450d-8e9e-94d23cca5306",
   "metadata": {},
   "outputs": [],
   "source": [
    "pred_sorted = pred_df.sort_values(\"effective_radius_multiplier\")\n",
    "resid = (pred_sorted[\"prediction_50_quantile\"] - pred_sorted[metric])\n",
    "\n",
    "plt.scatter(pred_sorted[\"effective_radius_multiplier\"], resid.rolling(1000).mean(), sizes=[1] * pred_sorted.shape[0])\n",
    "plt.xlabel(\"Eff Rad Mult\")\n",
    "plt.ylabel(\"Residual\")\n",
    "plt.show()"
   ]
  },
  {
   "cell_type": "code",
   "execution_count": null,
   "id": "33f463ad-0d0f-49ae-ac4a-05c136897945",
   "metadata": {},
   "outputs": [],
   "source": [
    "pred_sorted = pred_df.sort_values(\"min_rim_percentage\")\n",
    "resid = (pred_sorted[\"prediction_50_quantile\"] - pred_sorted[metric])\n",
    "\n",
    "plt.scatter(pred_sorted[\"min_rim_percentage\"], resid.rolling(1000).mean(), sizes=[1] * pred_sorted.shape[0])\n",
    "plt.xlabel(\"Min Rim Percentage\")\n",
    "plt.ylabel(\"Residual\")\n",
    "plt.show()"
   ]
  },
  {
   "cell_type": "code",
   "execution_count": null,
   "id": "eafbefc9-e5fc-4236-8351-56bca3e7c571",
   "metadata": {},
   "outputs": [],
   "source": []
  },
  {
   "cell_type": "code",
   "execution_count": null,
   "id": "0b81f658-1a7d-42d3-b0a2-0caf02e9f352",
   "metadata": {},
   "outputs": [],
   "source": [
    "simulation_ids = list(pred_df.simulation_id.unique())\n",
    "\n",
    "for x in simulation_ids[:10]:\n",
    "    df = pred_df[pred_df.simulation_id == x].copy()\n",
    "    print(df.iloc[0][[\"slope\", \"effective_radius_multiplier\", \"min_rim_percentage\"]])\n",
    "    df = df.sort_values(\"n_craters_added_in_study_region\")\n",
    "    \n",
    "    fig = plt.figure(figsize=(6, 6))\n",
    "    ax1 = fig.add_subplot(111)\n",
    "    \n",
    "    plt1 = ax1.plot(df.n_craters_added_in_study_region, df.n_craters_added_in_study_region, color='black', label=\"N\")\n",
    "    plt2 = ax1.plot(df.n_craters_added_in_study_region, df[\"n_craters_total_10_quantile\"], color='blue', label=\"10% Quantile\")\n",
    "    plt3 = ax1.plot(df.n_craters_added_in_study_region, df[\"n_craters_total_50_quantile\"], color='orange', label=\"50% Quantile\")\n",
    "    plt4 = ax1.plot(df.n_craters_added_in_study_region, df[\"n_craters_total_90_quantile\"], color='green', label=\"90% Quantile\")\n",
    "    ax1.set_xlabel(\"N Craters Actual\")\n",
    "    ax1.set_ylabel(\"N Craters Predicted\")\n",
    "    \n",
    "    lns = plt1 + plt2 + plt3 + plt4\n",
    "    ax1.legend(lns, [l.get_label() for l in lns], loc=1)\n",
    "    \n",
    "    plt.show()"
   ]
  },
  {
   "cell_type": "code",
   "execution_count": null,
   "id": "ca9120e5-630f-4880-b24e-df82b88ee12c",
   "metadata": {},
   "outputs": [],
   "source": []
  },
  {
   "cell_type": "markdown",
   "id": "1071c9cf-7e28-4348-8a32-8b7a9ab90e7a",
   "metadata": {},
   "source": [
    "### Limited AD Models"
   ]
  },
  {
   "cell_type": "code",
   "execution_count": null,
   "id": "c3f9d5d6-9b5b-4bb2-8e90-153f60c3e779",
   "metadata": {},
   "outputs": [],
   "source": [
    "min_data_in_leaf = 500\n",
    "learning_rate = 0.05\n",
    "n_iterations = 100\n",
    "n_leaves = 512\n",
    "boosting_type = \"dart\"\n",
    "\n",
    "threshold = 0.0\n",
    "ad_threshold = 0.30\n",
    "\n",
    "xtr = train_df[(train_df.information_remaining > threshold) & (train_df.areal_density < ad_threshold)].reset_index().copy()\n",
    "xte = test_df[(test_df.information_remaining > threshold) & (test_df.areal_density < ad_threshold)].reset_index().copy()\n",
    "\n",
    "poly_transform = sklearn.preprocessing.PolynomialFeatures(degree=1, include_bias=False)\n",
    "X_train = poly_transform.fit_transform(xtr[ivs])\n",
    "X_train = pd.DataFrame(X_train, columns=poly_transform.get_feature_names_out())\n",
    "\n",
    "train_df_spark = spark.createDataFrame(pd.concat([xtr[metric], X_train], axis=1))\n",
    "\n",
    "assembler = VectorAssembler(\n",
    "    inputCols=list(X_train.columns),\n",
    "    outputCol=\"features\")\n",
    "\n",
    "train_df_featurized = assembler.transform(train_df_spark)[metric, \"features\"].cache()\n",
    "\n",
    "model = (LightGBMRegressor()\n",
    "    .setObjective('quantile')\n",
    "    .setLabelCol(metric)\n",
    "    .setBoostingType(boosting_type)\n",
    "    .setAlpha(0.1)\n",
    "    .setLearningRate(learning_rate)\n",
    "    .setNumIterations(n_iterations)\n",
    "    .setNumLeaves(n_leaves)\n",
    "    .setMinDataInLeaf(min_data_in_leaf)\n",
    "    .setNumThreads(n_cores)\n",
    "    .fit(train_df_featurized))\n",
    "\n",
    "model_10_quantile = model"
   ]
  },
  {
   "cell_type": "code",
   "execution_count": null,
   "id": "5ba6a69e-d797-47e5-b0ad-515ab9e6f09a",
   "metadata": {},
   "outputs": [],
   "source": [
    "model = (LightGBMRegressor()\n",
    "    .setObjective('quantile')\n",
    "    .setLabelCol(metric)\n",
    "    .setBoostingType(boosting_type)\n",
    "    .setAlpha(0.50)\n",
    "    .setLearningRate(learning_rate)\n",
    "    .setNumIterations(n_iterations)\n",
    "    .setNumLeaves(n_leaves)\n",
    "    .setMinDataInLeaf(min_data_in_leaf)\n",
    "    .setNumThreads(n_cores)\n",
    "    .fit(train_df_featurized))\n",
    "\n",
    "model_50_quantile = model"
   ]
  },
  {
   "cell_type": "code",
   "execution_count": null,
   "id": "bd702567-9f44-4055-8592-9ab3d4cf35e6",
   "metadata": {},
   "outputs": [],
   "source": [
    "model = (LightGBMRegressor()\n",
    "    .setObjective('quantile')\n",
    "    .setLabelCol(metric)\n",
    "    .setBoostingType(boosting_type)\n",
    "    .setAlpha(0.90)\n",
    "    .setLearningRate(learning_rate)\n",
    "    .setNumIterations(n_iterations)\n",
    "    .setNumLeaves(n_leaves)\n",
    "    .setMinDataInLeaf(min_data_in_leaf)\n",
    "    .setNumThreads(n_cores)\n",
    "    .fit(train_df_featurized))\n",
    "\n",
    "model_90_quantile = model"
   ]
  },
  {
   "cell_type": "code",
   "execution_count": null,
   "id": "a392b7b0-566e-4626-a9df-87c057052871",
   "metadata": {},
   "outputs": [],
   "source": [
    "pred_df_10_quantile = score_model(model_10_quantile, xte, metric, assembler, ivs, list(X_train.columns))\n",
    "pred_df_50_quantile = score_model(model_50_quantile, xte, metric, assembler, ivs, list(X_train.columns))\n",
    "pred_df_90_quantile = score_model(model_90_quantile, xte, metric, assembler, ivs, list(X_train.columns))\n",
    "\n",
    "pred_df = pred_df_10_quantile.copy()\n",
    "pred_df[\"prediction_10_quantile\"] = pred_df[\"prediction\"]\n",
    "pred_df[\"n_craters_total_10_quantile\"] = 1. / pred_df[\"prediction\"] * pred_df[\"n_craters_in_study_region\"]\n",
    "pred_df[\"prediction_50_quantile\"] = pred_df_50_quantile[\"prediction\"]\n",
    "pred_df[\"n_craters_total_50_quantile\"] = 1. / pred_df_50_quantile[\"prediction\"] * pred_df[\"n_craters_in_study_region\"]\n",
    "pred_df[\"prediction_90_quantile\"] = pred_df_90_quantile[\"prediction\"]\n",
    "pred_df[\"n_craters_total_90_quantile\"] = 1. / pred_df_90_quantile[\"prediction\"] * pred_df[\"n_craters_in_study_region\"]\n",
    "pred_df[\"slope\"] = test_df[\"slope\"]\n",
    "pred_df[\"effective_radius_multiplier\"] = test_df[\"effective_radius_multiplier\"]\n",
    "pred_df[\"min_rim_percentage\"] = test_df[\"min_rim_percentage\"]"
   ]
  },
  {
   "cell_type": "code",
   "execution_count": null,
   "id": "3db9958d-c130-413d-b0d4-e1f85828a4d8",
   "metadata": {},
   "outputs": [],
   "source": [
    "simulation_ids = list(pred_df.simulation_id.unique())\n",
    "\n",
    "for x in simulation_ids[:5]:\n",
    "    df = pred_df[pred_df.simulation_id == x].copy()\n",
    "    print(df.iloc[0][[\"slope\", \"effective_radius_multiplier\", \"min_rim_percentage\"]])\n",
    "    df = df.sort_values(\"n_craters_added_in_study_region\")\n",
    "    \n",
    "    fig = plt.figure(figsize=(12, 4))\n",
    "    ax1 = fig.add_subplot(111)\n",
    "    \n",
    "    plt1 = ax1.plot(df.n_craters_added_in_study_region, df.information_remaining, color='black', label=\"Information Remaining\")\n",
    "    plt2 = ax1.plot(df.n_craters_added_in_study_region, df[\"prediction_10_quantile\"], color='blue', label=\"10% Quantile\")\n",
    "    plt3 = ax1.plot(df.n_craters_added_in_study_region, df[\"prediction_50_quantile\"], color='orange', label=\"50% Quantile\")\n",
    "    plt4 = ax1.plot(df.n_craters_added_in_study_region, df[\"prediction_90_quantile\"], color='green', label=\"90% Quantile\")\n",
    "    ax1.set_xlabel(\"N Craters Added\")\n",
    "    ax1.set_ylabel(\"IR\")\n",
    "    \n",
    "    lns = plt1 + plt2 + plt3 + plt4\n",
    "    ax1.legend(lns, [l.get_label() for l in lns], loc=1)\n",
    "    \n",
    "    plt.show()"
   ]
  },
  {
   "cell_type": "code",
   "execution_count": null,
   "id": "e0a34090-fa1a-456b-8576-0b57ccfe013a",
   "metadata": {},
   "outputs": [],
   "source": [
    "simulation_ids = list(pred_df.simulation_id.unique())\n",
    "\n",
    "for x in simulation_ids[:10]:\n",
    "    df = pred_df[pred_df.simulation_id == x].copy()\n",
    "    print(df.iloc[0][[\"slope\", \"effective_radius_multiplier\", \"min_rim_percentage\"]])\n",
    "    df = df.sort_values(\"n_craters_added_in_study_region\")\n",
    "    \n",
    "    fig = plt.figure(figsize=(6, 6))\n",
    "    ax1 = fig.add_subplot(111)\n",
    "    \n",
    "    plt1 = ax1.plot(df.n_craters_added_in_study_region, df.n_craters_added_in_study_region, color='black', label=\"N\")\n",
    "    plt2 = ax1.plot(df.n_craters_added_in_study_region, df[\"n_craters_total_10_quantile\"], color='blue', label=\"10% Quantile\")\n",
    "    plt3 = ax1.plot(df.n_craters_added_in_study_region, df[\"n_craters_total_50_quantile\"], color='orange', label=\"50% Quantile\")\n",
    "    plt4 = ax1.plot(df.n_craters_added_in_study_region, df[\"n_craters_total_90_quantile\"], color='green', label=\"90% Quantile\")\n",
    "    ax1.set_xlabel(\"N Craters Actual\")\n",
    "    ax1.set_ylabel(\"N Craters Predicted\")\n",
    "    \n",
    "    lns = plt1 + plt2 + plt3 + plt4\n",
    "    ax1.legend(lns, [l.get_label() for l in lns], loc=1)\n",
    "    \n",
    "    plt.show()"
   ]
  },
  {
   "cell_type": "code",
   "execution_count": null,
   "id": "9b69e014-e018-4072-9f8c-d5555d747f49",
   "metadata": {},
   "outputs": [],
   "source": [
    "pred_df[\"ci_width\"] = pred_df[\"prediction_90_quantile\"] - pred_df[\"prediction_10_quantile\"]\n",
    "\n",
    "pred_sorted = pred_df.sort_values(metric)\n",
    "plt.scatter(pred_sorted[metric], pred_sorted[\"ci_width\"].rolling(1000).mean(), sizes=[1] * pred_sorted.shape[0])\n",
    "plt.xlabel(\"IR\")\n",
    "plt.ylabel(\"Rolling Mean CI Width\")\n",
    "plt.show()"
   ]
  },
  {
   "cell_type": "code",
   "execution_count": null,
   "id": "5df12d13-5bdc-437a-97c7-1a60fe5ce007",
   "metadata": {},
   "outputs": [],
   "source": [
    "pred_df[\"ci_width\"] = pred_df[\"prediction_90_quantile\"] - pred_df[\"prediction_10_quantile\"]\n",
    "\n",
    "pred_sorted = pred_df.sort_values(metric)\n",
    "plt.scatter(pred_sorted[metric], pred_sorted[\"ci_width\"].rolling(1000).std(), sizes=[1] * pred_sorted.shape[0])\n",
    "plt.xlabel(\"IR\")\n",
    "plt.ylabel(\"Rolling Stdev CI Width\")\n",
    "plt.show()"
   ]
  },
  {
   "cell_type": "code",
   "execution_count": null,
   "id": "d237fc4d-35d3-4d27-a3f8-107c7a125d01",
   "metadata": {},
   "outputs": [],
   "source": [
    "pred_sorted = pred_df.sort_values(\"effective_radius_multiplier\")\n",
    "resid = (pred_sorted[\"prediction_50_quantile\"] - pred_sorted[metric])\n",
    "\n",
    "plt.scatter(pred_sorted[\"effective_radius_multiplier\"], resid.rolling(1000).mean(), sizes=[1] * pred_sorted.shape[0])\n",
    "plt.xlabel(\"Eff Rad Mult\")\n",
    "plt.ylabel(\"Residual\")\n",
    "plt.show()"
   ]
  },
  {
   "cell_type": "code",
   "execution_count": null,
   "id": "ca964d57-b088-4127-ab7d-557fe0f2f17d",
   "metadata": {},
   "outputs": [],
   "source": [
    "pred_sorted = pred_df.sort_values(\"min_rim_percentage\")\n",
    "resid = (pred_sorted[\"prediction_50_quantile\"] - pred_sorted[metric])\n",
    "\n",
    "plt.scatter(pred_sorted[\"min_rim_percentage\"], resid.rolling(1000).mean(), sizes=[1] * pred_sorted.shape[0])\n",
    "plt.xlabel(\"Min Rim Percentage\")\n",
    "plt.ylabel(\"Residual\")\n",
    "plt.show()"
   ]
  },
  {
   "cell_type": "code",
   "execution_count": null,
   "id": "e50cbcfc-fb66-4c48-9aa5-7878dc104875",
   "metadata": {},
   "outputs": [],
   "source": []
  },
  {
   "cell_type": "code",
   "execution_count": null,
   "id": "959fc8f7-e4cb-487c-90c9-ff26ffeae015",
   "metadata": {},
   "outputs": [],
   "source": []
  },
  {
   "cell_type": "code",
   "execution_count": null,
   "id": "28b71986-ad39-45ea-9bb1-1788619b9b91",
   "metadata": {},
   "outputs": [],
   "source": []
  }
 ],
 "metadata": {
  "kernelspec": {
   "display_name": "Python 3 (ipykernel)",
   "language": "python",
   "name": "python3"
  },
  "language_info": {
   "codemirror_mode": {
    "name": "ipython",
    "version": 3
   },
   "file_extension": ".py",
   "mimetype": "text/x-python",
   "name": "python",
   "nbconvert_exporter": "python",
   "pygments_lexer": "ipython3",
   "version": "3.11.5"
  }
 },
 "nbformat": 4,
 "nbformat_minor": 5
}
