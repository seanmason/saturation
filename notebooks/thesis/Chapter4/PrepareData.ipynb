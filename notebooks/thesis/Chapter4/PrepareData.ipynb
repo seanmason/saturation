{
 "cells": [
  {
   "cell_type": "code",
   "execution_count": 18,
   "id": "fa601275-ec16-4c24-9584-734225101897",
   "metadata": {},
   "outputs": [
    {
     "name": "stdout",
     "output_type": "stream",
     "text": [
      "The autoreload extension is already loaded. To reload it, use:\n",
      "  %reload_ext autoreload\n"
     ]
    }
   ],
   "source": [
    "%load_ext autoreload\n",
    "%autoreload 2"
   ]
  },
  {
   "cell_type": "code",
   "execution_count": 19,
   "id": "1f3594ab-5676-4eb3-be04-cb4c18b86354",
   "metadata": {},
   "outputs": [],
   "source": [
    "import statsmodels.formula.api as smf\n",
    "\n",
    "from saturation.utils import *"
   ]
  },
  {
   "cell_type": "code",
   "execution_count": 20,
   "id": "4d7bac36-88d2-465b-911b-d82ff52b6186",
   "metadata": {},
   "outputs": [],
   "source": [
    "n_cores = 26\n",
    "\n",
    "spark = (\n",
    "    SparkSession.builder\n",
    "    .master(f\"local[{n_cores}]\")\n",
    "    .appName(\"Saturation\")\n",
    "    .config(\"spark.sql.shuffle.partitions\", \"500\")\n",
    "    .config(\"spark.driver.memory\", \"40g\")\n",
    "    .config(\"spark.driver.maxResultSize\", \"16g\")\n",
    "    .getOrCreate()\n",
    ")"
   ]
  },
  {
   "cell_type": "markdown",
   "id": "79e5e8c7-13c7-4c9e-b883-1423ead6b0fa",
   "metadata": {},
   "source": [
    "# Configuration variables"
   ]
  },
  {
   "cell_type": "code",
   "execution_count": 27,
   "id": "2fcec71c-aaf9-40ba-99ed-46565e2829e7",
   "metadata": {},
   "outputs": [],
   "source": [
    "BASE_PATH = \"/data/saturation/thesis_run_20250223/\"\n",
    "\n",
    "# Maximum nstat at which to retrieve statistics\n",
    "MAX_NSTAT_FOR_STATISTICS = int(1e6)\n",
    "\n",
    "# States dataset variables\n",
    "N_NSTATS = 1\n",
    "MIN_NSTAT = int(1.5e6)\n",
    "MAX_NSTAT = int(2.5e6)"
   ]
  },
  {
   "cell_type": "markdown",
   "id": "dde6fe14-f712-4983-857c-e828ac1767e7",
   "metadata": {},
   "source": [
    "# Load configurations"
   ]
  },
  {
   "cell_type": "code",
   "execution_count": 28,
   "id": "d8834735-99b7-435e-a5a8-e49999af348f",
   "metadata": {},
   "outputs": [
    {
     "name": "stderr",
     "output_type": "stream",
     "text": [
      "25/03/03 17:52:31 WARN CacheManager: Asked to cache already cached data.\n"
     ]
    }
   ],
   "source": [
    "configs_pdf, configs_df, configs_dict = get_configs(\n",
    "    base_path=BASE_PATH,\n",
    "    spark=spark\n",
    ")"
   ]
  },
  {
   "cell_type": "code",
   "execution_count": 29,
   "id": "02240f95-9ae1-40cc-a080-2100c40417dd",
   "metadata": {},
   "outputs": [],
   "source": [
    "simulation_ids = list(configs_pdf.simulation_id.drop_duplicates())"
   ]
  },
  {
   "cell_type": "code",
   "execution_count": 30,
   "id": "ae215c86-fa28-47f7-90be-cb93bb692e53",
   "metadata": {},
   "outputs": [],
   "source": [
    "first_sim_id = simulation_ids[0]\n",
    "study_region_size = configs_dict[first_sim_id][\"study_region_size\"]\n",
    "study_region_padding = configs_dict[first_sim_id][\"study_region_padding\"]"
   ]
  },
  {
   "cell_type": "markdown",
   "id": "8168fcf4-6abf-455d-842e-a1869af7fdb9",
   "metadata": {},
   "source": [
    "# Write out states for all simulations to disk"
   ]
  },
  {
   "cell_type": "code",
   "execution_count": 31,
   "id": "bf9ccc2c-2f70-403e-aed3-8a0cf819b49f",
   "metadata": {},
   "outputs": [],
   "source": [
    "if nstats == 1:\n",
    "    nstats = [MAX_NSTAT]\n",
    "else:\n",
    "    step = int((MAX_NSTAT - MIN_NSTAT) / N_NSTATS)\n",
    "    nstats = [MIN_NSTAT + x * step for x in range(N_NSTATS)]"
   ]
  },
  {
   "cell_type": "code",
   "execution_count": 32,
   "id": "319b8b83-9d8a-46ea-a4b4-47fc3047607d",
   "metadata": {},
   "outputs": [
    {
     "name": "stderr",
     "output_type": "stream",
     "text": [
      "                                                                                \r"
     ]
    }
   ],
   "source": [
    "for simulation_id in simulation_ids:\n",
    "    stats_df = spark.read.parquet(f\"{BASE_PATH}/{simulation_id}/statistics_*.parquet\")\n",
    "    craters_df = spark.read.parquet( f\"{BASE_PATH}/{simulation_id}/craters_*.parquet\")\n",
    "    removals_df = spark.read.parquet(f\"{BASE_PATH}/{simulation_id}/crater_removals_*.parquet\")\n",
    "    \n",
    "    states = get_states(\n",
    "        stats_df=stats_df,\n",
    "        craters_df=craters_df,\n",
    "        removals_df=removals_df,\n",
    "        nstats=nstats,\n",
    "        study_region_size=study_region_size,\n",
    "        study_region_padding=study_region_padding,\n",
    "        spark=spark,\n",
    "        result_columns=[\"crater_id\", \"radius\", \"nstat\"],\n",
    "    )\n",
    "    states[\"simulation_id\"] = simulation_id\n",
    "    states = states.set_index(\"simulation_id\").sort_index()\n",
    "    states.to_parquet(f\"data/states_{simulation_id}_{N_NSTATS}.parquet\")"
   ]
  },
  {
   "cell_type": "markdown",
   "id": "1ee35f1a-9db5-40cb-a8ea-fd1fa002660c",
   "metadata": {},
   "source": [
    "# Write out statistics"
   ]
  },
  {
   "cell_type": "code",
   "execution_count": 10,
   "id": "6d9b68df-2bc8-440e-bc31-447abc5235f7",
   "metadata": {},
   "outputs": [
    {
     "name": "stderr",
     "output_type": "stream",
     "text": [
      "                                                                                \r"
     ]
    }
   ],
   "source": [
    "result_columns = [\n",
    "    \"radius\",\n",
    "    \"lifespan\",\n",
    "    \"simulation_id\"\n",
    "]\n",
    "for simulation_id in simulation_ids:\n",
    "    stats_df = spark.read.parquet(f\"{BASE_PATH}/{simulation_id}/statistics_*.parquet\")\n",
    "    craters_df = spark.read.parquet( f\"{BASE_PATH}/{simulation_id}/craters_*.parquet\")\n",
    "    removals_df = spark.read.parquet(f\"{BASE_PATH}/{simulation_id}/crater_removals_*.parquet\")\n",
    "        \n",
    "    statistics = get_statistics_with_lifespans_for_simulations(\n",
    "        simulation_ids=[simulation_id],\n",
    "        base_path=BASE_PATH,\n",
    "        configs_df=configs_df,\n",
    "        spark=spark,\n",
    "        result_columns=result_columns,\n",
    "        max_nstat=MAX_NSTAT_FOR_STATISTICS,\n",
    "    )\n",
    "    statistics = statistics.set_index(\"simulation_id\").sort_index()\n",
    "    statistics.to_parquet(f\"data/statistics_{simulation_id}.parquet\")"
   ]
  },
  {
   "cell_type": "code",
   "execution_count": null,
   "id": "c6f34948-517f-40f3-b439-08afa0ae1837",
   "metadata": {},
   "outputs": [],
   "source": []
  }
 ],
 "metadata": {
  "kernelspec": {
   "display_name": "Python 3 (ipykernel)",
   "language": "python",
   "name": "python3"
  },
  "language_info": {
   "codemirror_mode": {
    "name": "ipython",
    "version": 3
   },
   "file_extension": ".py",
   "mimetype": "text/x-python",
   "name": "python",
   "nbconvert_exporter": "python",
   "pygments_lexer": "ipython3",
   "version": "3.12.5"
  }
 },
 "nbformat": 4,
 "nbformat_minor": 5
}
