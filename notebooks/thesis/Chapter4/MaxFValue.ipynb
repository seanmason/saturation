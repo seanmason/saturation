{
 "cells": [
  {
   "cell_type": "code",
   "execution_count": 1,
   "id": "d8031cc5-0002-4e68-895d-d263bb9b6046",
   "metadata": {},
   "outputs": [],
   "source": [
    "import pandas as pd\n",
    "import numpy as np\n",
    "from pathlib import Path\n",
    "import yaml\n",
    "from typing import *\n",
    "\n",
    "import plotly.express as px\n",
    "import plotly.io as pio\n",
    "import plotly.graph_objects as go\n",
    "import matplotlib.pyplot as plt\n",
    "\n",
    "import scipy.stats as stats\n",
    "from scipy.optimize import minimize_scalar\n",
    "from hyperopt import hp, fmin, tpe, STATUS_OK, Trials, space_eval\n",
    "\n",
    "import pyspark\n",
    "import pyspark.sql.functions as F\n",
    "from pyspark.sql import SparkSession, DataFrame, Window\n",
    "from pyspark.ml.linalg import Vectors\n",
    "from pyspark.ml.feature import VectorAssembler\n",
    "from pyspark.ml.regression import LinearRegression\n",
    "\n",
    "from utils import *\n",
    "\n",
    "pio.renderers.default = \"iframe\""
   ]
  },
  {
   "cell_type": "markdown",
   "id": "29c35e78-6e0f-4bef-a332-3aaa2749edf9",
   "metadata": {},
   "source": [
    "### Linear regression"
   ]
  },
  {
   "cell_type": "code",
   "execution_count": 2,
   "id": "d8860895-c216-435c-b704-2d7e073b8968",
   "metadata": {},
   "outputs": [
    {
     "name": "stderr",
     "output_type": "stream",
     "text": [
      "24/02/20 19:06:28 WARN Utils: Your hostname, muninn resolves to a loopback address: 127.0.1.1; using 192.168.86.20 instead (on interface enp8s0)\n",
      "24/02/20 19:06:28 WARN Utils: Set SPARK_LOCAL_IP if you need to bind to another address\n",
      "Setting default log level to \"WARN\".\n",
      "To adjust logging level use sc.setLogLevel(newLevel). For SparkR, use setLogLevel(newLevel).\n",
      "24/02/20 19:06:29 WARN NativeCodeLoader: Unable to load native-hadoop library for your platform... using builtin-java classes where applicable\n",
      "24/02/20 19:06:29 WARN Utils: Service 'SparkUI' could not bind on port 4040. Attempting port 4041.\n"
     ]
    }
   ],
   "source": [
    "n_cores = 28\n",
    "\n",
    "spark = (SparkSession.builder\n",
    "         .master(f\"local[{n_cores}]\")\n",
    "         .appName(\"Saturation\")\n",
    "         .config(\"spark.sql.shuffle.partitions\", \"500\")\n",
    "         .config(\"spark.driver.memory\", \"60g\")\n",
    "         .config(\"spark.driver.maxResultSize\", \"8g\")\n",
    "         .getOrCreate())"
   ]
  },
  {
   "cell_type": "code",
   "execution_count": 3,
   "id": "e0e24e21-8854-47d3-8d8b-080d62b9f392",
   "metadata": {},
   "outputs": [
    {
     "name": "stderr",
     "output_type": "stream",
     "text": [
      "                                                                                \r"
     ]
    }
   ],
   "source": [
    "base_path = \"/data/saturation/thesis_run_20240130\"\n",
    "r_stat = 5\n",
    "study_region_size = 2000 * 2000 / r_stat ** 2\n",
    "MIN_N_SAMPLES = 300\n",
    "\n",
    "configs_df = create_configs_df(read_configs(base_path, spark))\n",
    "data = spark.read.parquet(f\"{base_path}/*/statistics_*.parquet\")\n",
    "\n",
    "# State c2c nn dist in terms of r_stat and log-scale\n",
    "data = data.where(\n",
    "    (F.col(\"n_craters_added_in_study_region\") > 50)\n",
    ").select(\n",
    "    \"*\",\n",
    "    F.log10(F.col(\"center_to_center_nearest_neighbor_distance_mean\") / F.lit(r_stat)).alias(\"log_mean_c2c_nn_dist\"),\n",
    "    F.log10(\"areal_density\").alias(\"log_ad\"),\n",
    "    F.log10(\"n_craters_added_in_study_region\").alias(\"log_n_craters_added_in_study_region\"),\n",
    "    (F.col(\"n_craters_in_study_region\") / F.col(\"n_craters_added_in_study_region\")).alias(\"information_remaining\")\n",
    ")"
   ]
  },
  {
   "cell_type": "code",
   "execution_count": 23,
   "id": "00f22b65-5cd5-4a94-86b0-738e41d031b6",
   "metadata": {},
   "outputs": [],
   "source": [
    "data_with_configs = join_configs(data, configs_df, spark).sample(0.005).cache()"
   ]
  },
  {
   "cell_type": "code",
   "execution_count": null,
   "id": "3d446ace-7ddf-4c14-84f0-efe2c2d4495e",
   "metadata": {},
   "outputs": [],
   "source": []
  },
  {
   "cell_type": "markdown",
   "id": "86817d24-b3d6-4c25-a23c-ba0f1bd12569",
   "metadata": {},
   "source": [
    "## Draft - test for normal"
   ]
  },
  {
   "cell_type": "code",
   "execution_count": 7,
   "id": "adbae4f6-043a-4868-b643-fc7ab0028690",
   "metadata": {},
   "outputs": [
    {
     "name": "stderr",
     "output_type": "stream",
     "text": [
      "                                                                                \r"
     ]
    }
   ],
   "source": [
    "df = data_with_configs.where(\n",
    "    (F.col(\"slope\").between(2.1, 2.2))\n",
    "    & (F.col(\"log_mean_c2c_nn_dist\") > 1.1)\n",
    ").toPandas()"
   ]
  },
  {
   "cell_type": "code",
   "execution_count": 8,
   "id": "26e6dfac-2fba-46f5-92c8-1c00e7ebbe2f",
   "metadata": {},
   "outputs": [
    {
     "data": {
      "text/plain": [
       "(27094, 23)"
      ]
     },
     "execution_count": 8,
     "metadata": {},
     "output_type": "execute_result"
    }
   ],
   "source": [
    "df.shape"
   ]
  },
  {
   "cell_type": "code",
   "execution_count": 15,
   "id": "ecd464cc-99fb-454a-a1b2-43d7db58902b",
   "metadata": {},
   "outputs": [],
   "source": [
    "d = data_with_configs.where(\n",
    "    (F.col(\"slope\").between(2.1, 2.2))\n",
    "    & (F.col(\"log_mean_c2c_nn_dist\") > 1.1)\n",
    ")\n",
    "\n",
    "assembler = VectorAssembler(\n",
    "    inputCols=[\"log_mean_c2c_nn_dist\"],\n",
    "    outputCol=\"features\"\n",
    ")\n",
    "train_df = assembler.transform(d)\n",
    "\n",
    "model = LinearRegression(labelCol=\"log_n_craters_added_in_study_region\", predictionCol=\"prediction\", regParam=0.1, maxIter=1000, tol=1e-8).fit(train_df)\n",
    "\n",
    "detrended = model.transform(train_df).select(\n",
    "    (F.col(\"log_n_craters_added_in_study_region\") - F.col(\"prediction\")).alias(\"detrended\"),\n",
    "    \"*\"\n",
    ")"
   ]
  },
  {
   "cell_type": "code",
   "execution_count": 12,
   "id": "79386405-464e-4cd2-8ef2-efc1d5b0ea0d",
   "metadata": {},
   "outputs": [
    {
     "data": {
      "text/plain": [
       "(array([8.0000e+00, 1.4800e+02, 7.4400e+02, 1.8550e+03, 3.8770e+03,\n",
       "        7.0740e+03, 1.0287e+04, 2.9530e+03, 1.2900e+02, 1.9000e+01]),\n",
       " array([-0.37898748, -0.31292241, -0.24685734, -0.18079227, -0.1147272 ,\n",
       "        -0.04866213,  0.01740294,  0.083468  ,  0.14953307,  0.21559814,\n",
       "         0.28166321]),\n",
       " <BarContainer object of 10 artists>)"
      ]
     },
     "execution_count": 12,
     "metadata": {},
     "output_type": "execute_result"
    },
    {
     "data": {
      "image/png": "[encoded data removed]",
      "text/plain": [
       "<Figure size 640x480 with 1 Axes>"
      ]
     },
     "metadata": {},
     "output_type": "display_data"
    }
   ],
   "source": [
    "plt.hist(detrended.detrended)"
   ]
  },
  {
   "cell_type": "code",
   "execution_count": 18,
   "id": "5de20315-af96-4dd8-af74-b7ff81360937",
   "metadata": {},
   "outputs": [
    {
     "data": {
      "text/html": [
       "<div>\n",
       "<style scoped>\n",
       "    .dataframe tbody tr th:only-of-type {\n",
       "        vertical-align: middle;\n",
       "    }\n",
       "\n",
       "    .dataframe tbody tr th {\n",
       "        vertical-align: top;\n",
       "    }\n",
       "\n",
       "    .dataframe thead th {\n",
       "        text-align: right;\n",
       "    }\n",
       "</style>\n",
       "<table border=\"1\" class=\"dataframe\">\n",
       "  <thead>\n",
       "    <tr style=\"text-align: right;\">\n",
       "      <th></th>\n",
       "      <th>95th</th>\n",
       "    </tr>\n",
       "  </thead>\n",
       "  <tbody>\n",
       "    <tr>\n",
       "      <th>0</th>\n",
       "      <td>0.103061</td>\n",
       "    </tr>\n",
       "  </tbody>\n",
       "</table>\n",
       "</div>"
      ],
      "text/plain": [
       "       95th\n",
       "0  0.103061"
      ]
     },
     "execution_count": 18,
     "metadata": {},
     "output_type": "execute_result"
    }
   ],
   "source": [
    "detrended.select(\n",
    "    F.percentile_approx(\"detrended\", 0.95).alias(\"95th\"),\n",
    ").toPandas()"
   ]
  },
  {
   "cell_type": "code",
   "execution_count": 28,
   "id": "00d8cf38-0420-4c8b-9ac7-42ffa42cd68b",
   "metadata": {},
   "outputs": [
    {
     "name": "stderr",
     "output_type": "stream",
     "text": [
      "                                                                                \r"
     ]
    }
   ],
   "source": [
    "test_df = assembler.transform(data_with_configs.sample(0.001))\n",
    "\n",
    "detrended = model.transform(test_df).select(\n",
    "    (F.col(\"log_n_craters_added_in_study_region\") - F.col(\"prediction\")).alias(\"detrended\"),\n",
    "    \"*\"\n",
    ").toPandas()"
   ]
  },
  {
   "cell_type": "code",
   "execution_count": 29,
   "id": "c905eea8-77d5-48b7-bedf-169c44b11345",
   "metadata": {},
   "outputs": [
    {
     "data": {
      "text/html": [
       "<div>\n",
       "<style scoped>\n",
       "    .dataframe tbody tr th:only-of-type {\n",
       "        vertical-align: middle;\n",
       "    }\n",
       "\n",
       "    .dataframe tbody tr th {\n",
       "        vertical-align: top;\n",
       "    }\n",
       "\n",
       "    .dataframe thead th {\n",
       "        text-align: right;\n",
       "    }\n",
       "</style>\n",
       "<table border=\"1\" class=\"dataframe\">\n",
       "  <thead>\n",
       "    <tr style=\"text-align: right;\">\n",
       "      <th></th>\n",
       "      <th>detrended</th>\n",
       "      <th>slope</th>\n",
       "      <th>min_rim_percentage</th>\n",
       "      <th>effective_radius_multiplier</th>\n",
       "      <th>r_stat_multiplier</th>\n",
       "      <th>crater_id</th>\n",
       "      <th>n_craters_added_in_study_region</th>\n",
       "      <th>n_craters_in_study_region</th>\n",
       "      <th>areal_density</th>\n",
       "      <th>areal_density_overlap_2</th>\n",
       "      <th>...</th>\n",
       "      <th>radius_stdev</th>\n",
       "      <th>z</th>\n",
       "      <th>za</th>\n",
       "      <th>simulation_id</th>\n",
       "      <th>log_mean_c2c_nn_dist</th>\n",
       "      <th>log_ad</th>\n",
       "      <th>log_n_craters_added_in_study_region</th>\n",
       "      <th>information_remaining</th>\n",
       "      <th>features</th>\n",
       "      <th>prediction</th>\n",
       "    </tr>\n",
       "  </thead>\n",
       "  <tbody>\n",
       "    <tr>\n",
       "      <th>0</th>\n",
       "      <td>0.503218</td>\n",
       "      <td>2.007626</td>\n",
       "      <td>0.497174</td>\n",
       "      <td>1.228372</td>\n",
       "      <td>10.296207</td>\n",
       "      <td>2185736</td>\n",
       "      <td>12763</td>\n",
       "      <td>7528</td>\n",
       "      <td>0.448945</td>\n",
       "      <td>0.069340</td>\n",
       "      <td>...</td>\n",
       "      <td>16.386623</td>\n",
       "      <td>7.169245</td>\n",
       "      <td>67.272681</td>\n",
       "      <td>474</td>\n",
       "      <td>0.682084</td>\n",
       "      <td>-0.347807</td>\n",
       "      <td>4.105953</td>\n",
       "      <td>0.589830</td>\n",
       "      <td>[0.682084410368497]</td>\n",
       "      <td>3.602735</td>\n",
       "    </tr>\n",
       "    <tr>\n",
       "      <th>1</th>\n",
       "      <td>0.977898</td>\n",
       "      <td>2.007626</td>\n",
       "      <td>0.497174</td>\n",
       "      <td>1.228372</td>\n",
       "      <td>10.296207</td>\n",
       "      <td>7303480</td>\n",
       "      <td>43040</td>\n",
       "      <td>9205</td>\n",
       "      <td>0.527644</td>\n",
       "      <td>0.095867</td>\n",
       "      <td>...</td>\n",
       "      <td>15.609177</td>\n",
       "      <td>12.176849</td>\n",
       "      <td>101.231870</td>\n",
       "      <td>474</td>\n",
       "      <td>0.647945</td>\n",
       "      <td>-0.277659</td>\n",
       "      <td>4.633872</td>\n",
       "      <td>0.213871</td>\n",
       "      <td>[0.6479448317775521]</td>\n",
       "      <td>3.655974</td>\n",
       "    </tr>\n",
       "    <tr>\n",
       "      <th>2</th>\n",
       "      <td>1.003934</td>\n",
       "      <td>2.007626</td>\n",
       "      <td>0.497174</td>\n",
       "      <td>1.228372</td>\n",
       "      <td>10.296207</td>\n",
       "      <td>7836487</td>\n",
       "      <td>46124</td>\n",
       "      <td>9594</td>\n",
       "      <td>0.529338</td>\n",
       "      <td>0.101820</td>\n",
       "      <td>...</td>\n",
       "      <td>15.303827</td>\n",
       "      <td>15.402926</td>\n",
       "      <td>108.202806</td>\n",
       "      <td>474</td>\n",
       "      <td>0.645368</td>\n",
       "      <td>-0.276267</td>\n",
       "      <td>4.663927</td>\n",
       "      <td>0.208005</td>\n",
       "      <td>[0.6453677143541774]</td>\n",
       "      <td>3.659993</td>\n",
       "    </tr>\n",
       "    <tr>\n",
       "      <th>3</th>\n",
       "      <td>1.052158</td>\n",
       "      <td>2.007626</td>\n",
       "      <td>0.497174</td>\n",
       "      <td>1.228372</td>\n",
       "      <td>10.296207</td>\n",
       "      <td>8786010</td>\n",
       "      <td>51642</td>\n",
       "      <td>9589</td>\n",
       "      <td>0.560383</td>\n",
       "      <td>0.116087</td>\n",
       "      <td>...</td>\n",
       "      <td>16.036105</td>\n",
       "      <td>15.091213</td>\n",
       "      <td>117.966644</td>\n",
       "      <td>474</td>\n",
       "      <td>0.644821</td>\n",
       "      <td>-0.251515</td>\n",
       "      <td>4.713003</td>\n",
       "      <td>0.185682</td>\n",
       "      <td>[0.6448212617197081]</td>\n",
       "      <td>3.660845</td>\n",
       "    </tr>\n",
       "    <tr>\n",
       "      <th>4</th>\n",
       "      <td>1.185564</td>\n",
       "      <td>2.007626</td>\n",
       "      <td>0.497174</td>\n",
       "      <td>1.228372</td>\n",
       "      <td>10.296207</td>\n",
       "      <td>12047165</td>\n",
       "      <td>71140</td>\n",
       "      <td>9720</td>\n",
       "      <td>0.559199</td>\n",
       "      <td>0.113277</td>\n",
       "      <td>...</td>\n",
       "      <td>15.933847</td>\n",
       "      <td>14.860425</td>\n",
       "      <td>117.854206</td>\n",
       "      <td>474</td>\n",
       "      <td>0.641163</td>\n",
       "      <td>-0.252434</td>\n",
       "      <td>4.852114</td>\n",
       "      <td>0.136632</td>\n",
       "      <td>[0.641163487179596]</td>\n",
       "      <td>3.666550</td>\n",
       "    </tr>\n",
       "    <tr>\n",
       "      <th>...</th>\n",
       "      <td>...</td>\n",
       "      <td>...</td>\n",
       "      <td>...</td>\n",
       "      <td>...</td>\n",
       "      <td>...</td>\n",
       "      <td>...</td>\n",
       "      <td>...</td>\n",
       "      <td>...</td>\n",
       "      <td>...</td>\n",
       "      <td>...</td>\n",
       "      <td>...</td>\n",
       "      <td>...</td>\n",
       "      <td>...</td>\n",
       "      <td>...</td>\n",
       "      <td>...</td>\n",
       "      <td>...</td>\n",
       "      <td>...</td>\n",
       "      <td>...</td>\n",
       "      <td>...</td>\n",
       "      <td>...</td>\n",
       "      <td>...</td>\n",
       "    </tr>\n",
       "    <tr>\n",
       "      <th>22394</th>\n",
       "      <td>1.119550</td>\n",
       "      <td>2.611930</td>\n",
       "      <td>0.535543</td>\n",
       "      <td>1.270201</td>\n",
       "      <td>9.360293</td>\n",
       "      <td>25351030</td>\n",
       "      <td>46874</td>\n",
       "      <td>7332</td>\n",
       "      <td>0.312178</td>\n",
       "      <td>0.038173</td>\n",
       "      <td>...</td>\n",
       "      <td>12.200680</td>\n",
       "      <td>18.120546</td>\n",
       "      <td>55.555231</td>\n",
       "      <td>9796</td>\n",
       "      <td>0.715014</td>\n",
       "      <td>-0.505598</td>\n",
       "      <td>4.670932</td>\n",
       "      <td>0.156419</td>\n",
       "      <td>[0.715013807135804]</td>\n",
       "      <td>3.551382</td>\n",
       "    </tr>\n",
       "    <tr>\n",
       "      <th>22395</th>\n",
       "      <td>1.229631</td>\n",
       "      <td>2.611930</td>\n",
       "      <td>0.535543</td>\n",
       "      <td>1.270201</td>\n",
       "      <td>9.360293</td>\n",
       "      <td>32626878</td>\n",
       "      <td>60519</td>\n",
       "      <td>7367</td>\n",
       "      <td>0.300155</td>\n",
       "      <td>0.033979</td>\n",
       "      <td>...</td>\n",
       "      <td>11.783242</td>\n",
       "      <td>18.361530</td>\n",
       "      <td>54.027114</td>\n",
       "      <td>9796</td>\n",
       "      <td>0.714450</td>\n",
       "      <td>-0.522655</td>\n",
       "      <td>4.781892</td>\n",
       "      <td>0.121730</td>\n",
       "      <td>[0.7144504629893338]</td>\n",
       "      <td>3.552261</td>\n",
       "    </tr>\n",
       "    <tr>\n",
       "      <th>22396</th>\n",
       "      <td>1.273611</td>\n",
       "      <td>2.611930</td>\n",
       "      <td>0.535543</td>\n",
       "      <td>1.270201</td>\n",
       "      <td>9.360293</td>\n",
       "      <td>36330877</td>\n",
       "      <td>67481</td>\n",
       "      <td>7415</td>\n",
       "      <td>0.287961</td>\n",
       "      <td>0.031553</td>\n",
       "      <td>...</td>\n",
       "      <td>11.252565</td>\n",
       "      <td>18.121195</td>\n",
       "      <td>51.964528</td>\n",
       "      <td>9796</td>\n",
       "      <td>0.712328</td>\n",
       "      <td>-0.540666</td>\n",
       "      <td>4.829182</td>\n",
       "      <td>0.109883</td>\n",
       "      <td>[0.7123281541395838]</td>\n",
       "      <td>3.555571</td>\n",
       "    </tr>\n",
       "    <tr>\n",
       "      <th>22397</th>\n",
       "      <td>1.308783</td>\n",
       "      <td>2.611930</td>\n",
       "      <td>0.535543</td>\n",
       "      <td>1.270201</td>\n",
       "      <td>9.360293</td>\n",
       "      <td>38843651</td>\n",
       "      <td>72171</td>\n",
       "      <td>7283</td>\n",
       "      <td>0.281868</td>\n",
       "      <td>0.029296</td>\n",
       "      <td>...</td>\n",
       "      <td>11.168549</td>\n",
       "      <td>17.934597</td>\n",
       "      <td>50.557833</td>\n",
       "      <td>9796</td>\n",
       "      <td>0.716170</td>\n",
       "      <td>-0.549954</td>\n",
       "      <td>4.858363</td>\n",
       "      <td>0.100913</td>\n",
       "      <td>[0.7161696684297264]</td>\n",
       "      <td>3.549580</td>\n",
       "    </tr>\n",
       "    <tr>\n",
       "      <th>22398</th>\n",
       "      <td>1.316703</td>\n",
       "      <td>2.611930</td>\n",
       "      <td>0.535543</td>\n",
       "      <td>1.270201</td>\n",
       "      <td>9.360293</td>\n",
       "      <td>39548168</td>\n",
       "      <td>73545</td>\n",
       "      <td>7369</td>\n",
       "      <td>0.277143</td>\n",
       "      <td>0.027889</td>\n",
       "      <td>...</td>\n",
       "      <td>10.872790</td>\n",
       "      <td>19.040019</td>\n",
       "      <td>51.327355</td>\n",
       "      <td>9796</td>\n",
       "      <td>0.715996</td>\n",
       "      <td>-0.557296</td>\n",
       "      <td>4.866553</td>\n",
       "      <td>0.100197</td>\n",
       "      <td>[0.7159964451184768]</td>\n",
       "      <td>3.549850</td>\n",
       "    </tr>\n",
       "  </tbody>\n",
       "</table>\n",
       "<p>22399 rows × 26 columns</p>\n",
       "</div>"
      ],
      "text/plain": [
       "       detrended     slope  min_rim_percentage  effective_radius_multiplier  \\\n",
       "0       0.503218  2.007626            0.497174                     1.228372   \n",
       "1       0.977898  2.007626            0.497174                     1.228372   \n",
       "2       1.003934  2.007626            0.497174                     1.228372   \n",
       "3       1.052158  2.007626            0.497174                     1.228372   \n",
       "4       1.185564  2.007626            0.497174                     1.228372   \n",
       "...          ...       ...                 ...                          ...   \n",
       "22394   1.119550  2.611930            0.535543                     1.270201   \n",
       "22395   1.229631  2.611930            0.535543                     1.270201   \n",
       "22396   1.273611  2.611930            0.535543                     1.270201   \n",
       "22397   1.308783  2.611930            0.535543                     1.270201   \n",
       "22398   1.316703  2.611930            0.535543                     1.270201   \n",
       "\n",
       "       r_stat_multiplier  crater_id  n_craters_added_in_study_region  \\\n",
       "0              10.296207    2185736                            12763   \n",
       "1              10.296207    7303480                            43040   \n",
       "2              10.296207    7836487                            46124   \n",
       "3              10.296207    8786010                            51642   \n",
       "4              10.296207   12047165                            71140   \n",
       "...                  ...        ...                              ...   \n",
       "22394           9.360293   25351030                            46874   \n",
       "22395           9.360293   32626878                            60519   \n",
       "22396           9.360293   36330877                            67481   \n",
       "22397           9.360293   38843651                            72171   \n",
       "22398           9.360293   39548168                            73545   \n",
       "\n",
       "       n_craters_in_study_region  areal_density  areal_density_overlap_2  ...  \\\n",
       "0                           7528       0.448945                 0.069340  ...   \n",
       "1                           9205       0.527644                 0.095867  ...   \n",
       "2                           9594       0.529338                 0.101820  ...   \n",
       "3                           9589       0.560383                 0.116087  ...   \n",
       "4                           9720       0.559199                 0.113277  ...   \n",
       "...                          ...            ...                      ...  ...   \n",
       "22394                       7332       0.312178                 0.038173  ...   \n",
       "22395                       7367       0.300155                 0.033979  ...   \n",
       "22396                       7415       0.287961                 0.031553  ...   \n",
       "22397                       7283       0.281868                 0.029296  ...   \n",
       "22398                       7369       0.277143                 0.027889  ...   \n",
       "\n",
       "       radius_stdev          z          za  simulation_id  \\\n",
       "0         16.386623   7.169245   67.272681            474   \n",
       "1         15.609177  12.176849  101.231870            474   \n",
       "2         15.303827  15.402926  108.202806            474   \n",
       "3         16.036105  15.091213  117.966644            474   \n",
       "4         15.933847  14.860425  117.854206            474   \n",
       "...             ...        ...         ...            ...   \n",
       "22394     12.200680  18.120546   55.555231           9796   \n",
       "22395     11.783242  18.361530   54.027114           9796   \n",
       "22396     11.252565  18.121195   51.964528           9796   \n",
       "22397     11.168549  17.934597   50.557833           9796   \n",
       "22398     10.872790  19.040019   51.327355           9796   \n",
       "\n",
       "       log_mean_c2c_nn_dist    log_ad  log_n_craters_added_in_study_region  \\\n",
       "0                  0.682084 -0.347807                             4.105953   \n",
       "1                  0.647945 -0.277659                             4.633872   \n",
       "2                  0.645368 -0.276267                             4.663927   \n",
       "3                  0.644821 -0.251515                             4.713003   \n",
       "4                  0.641163 -0.252434                             4.852114   \n",
       "...                     ...       ...                                  ...   \n",
       "22394              0.715014 -0.505598                             4.670932   \n",
       "22395              0.714450 -0.522655                             4.781892   \n",
       "22396              0.712328 -0.540666                             4.829182   \n",
       "22397              0.716170 -0.549954                             4.858363   \n",
       "22398              0.715996 -0.557296                             4.866553   \n",
       "\n",
       "       information_remaining              features  prediction  \n",
       "0                   0.589830   [0.682084410368497]    3.602735  \n",
       "1                   0.213871  [0.6479448317775521]    3.655974  \n",
       "2                   0.208005  [0.6453677143541774]    3.659993  \n",
       "3                   0.185682  [0.6448212617197081]    3.660845  \n",
       "4                   0.136632   [0.641163487179596]    3.666550  \n",
       "...                      ...                   ...         ...  \n",
       "22394               0.156419   [0.715013807135804]    3.551382  \n",
       "22395               0.121730  [0.7144504629893338]    3.552261  \n",
       "22396               0.109883  [0.7123281541395838]    3.555571  \n",
       "22397               0.100913  [0.7161696684297264]    3.549580  \n",
       "22398               0.100197  [0.7159964451184768]    3.549850  \n",
       "\n",
       "[22399 rows x 26 columns]"
      ]
     },
     "execution_count": 29,
     "metadata": {},
     "output_type": "execute_result"
    }
   ],
   "source": [
    "detrended"
   ]
  },
  {
   "cell_type": "code",
   "execution_count": 34,
   "id": "43548f56-4ceb-4f33-9b2b-a55940375582",
   "metadata": {},
   "outputs": [
    {
     "data": {
      "text/plain": [
       "<matplotlib.collections.PathCollection at 0x7f4bdb679050>"
      ]
     },
     "execution_count": 34,
     "metadata": {},
     "output_type": "execute_result"
    },
    {
     "data": {
      "image/png": "[encoded data removed]",
      "text/plain": [
       "<Figure size 640x480 with 1 Axes>"
      ]
     },
     "metadata": {},
     "output_type": "display_data"
    }
   ],
   "source": [
    "g = detrended[detrended.log_mean_c2c_nn_dist > 1.1]\n",
    "plt.scatter(\n",
    "    g.log_mean_c2c_nn_dist,\n",
    "    g.detrended\n",
    ")"
   ]
  },
  {
   "cell_type": "code",
   "execution_count": 55,
   "id": "922513f0-3e1b-484b-a6de-f74c3e6568e6",
   "metadata": {},
   "outputs": [
    {
     "data": {
      "text/plain": [
       "<matplotlib.collections.PathCollection at 0x7f4bce66a9d0>"
      ]
     },
     "execution_count": 55,
     "metadata": {},
     "output_type": "execute_result"
    },
    {
     "data": {
      "image/png": "[encoded data removed]",
      "text/plain": [
       "<Figure size 640x480 with 1 Axes>"
      ]
     },
     "metadata": {},
     "output_type": "display_data"
    }
   ],
   "source": [
    "g = detrended[detrended.log_mean_c2c_nn_dist > 0.5]\n",
    "plt.scatter(\n",
    "    # g.log_mean_c2c_nn_dist,\n",
    "    g.log_n_craters_added_in_study_region,\n",
    "    np.log10(g.n_craters_in_study_region)\n",
    ")"
   ]
  },
  {
   "cell_type": "code",
   "execution_count": null,
   "id": "cea14f06-0746-4a71-976b-0ce569b53e7f",
   "metadata": {},
   "outputs": [],
   "source": [
    "\"\"\"\n",
    "LOESS or other smoother - use the residuals of the model to construct 95% one-sided CI\n",
    "Manually choose the \n",
    "\"\"\""
   ]
  },
  {
   "cell_type": "code",
   "execution_count": 43,
   "id": "22ec520c-7625-4286-b55e-90bbb477e192",
   "metadata": {},
   "outputs": [
    {
     "name": "stderr",
     "output_type": "stream",
     "text": [
      "                                                                                \r"
     ]
    }
   ],
   "source": [
    "d = data_with_configs.where(\n",
    "    (F.col(\"slope\").between(2.1, 2.2))\n",
    "    & (F.col(\"log_mean_c2c_nn_dist\") > 0.9)\n",
    ").sample(0.005).toPandas()"
   ]
  },
  {
   "cell_type": "code",
   "execution_count": 49,
   "id": "2bc3d389-2701-4027-ae43-4206d26e6d10",
   "metadata": {},
   "outputs": [
    {
     "data": {
      "text/plain": [
       "<matplotlib.collections.PathCollection at 0x7f4bcea63f10>"
      ]
     },
     "execution_count": 49,
     "metadata": {},
     "output_type": "execute_result"
    },
    {
     "data": {
      "image/png": "[encoded data removed]",
      "text/plain": [
       "<Figure size 640x480 with 1 Axes>"
      ]
     },
     "metadata": {},
     "output_type": "display_data"
    }
   ],
   "source": [
    "g = d[d.log_mean_c2c_nn_dist > 0.9]\n",
    "plt.scatter(\n",
    "    g.log_mean_c2c_nn_dist,\n",
    "    g.log_n_craters_added_in_study_region\n",
    ")"
   ]
  },
  {
   "cell_type": "code",
   "execution_count": 45,
   "id": "c818356a-6690-4a4e-a33c-c76235e557c1",
   "metadata": {},
   "outputs": [
    {
     "data": {
      "text/plain": [
       "<matplotlib.collections.PathCollection at 0x7f4bced0fa50>"
      ]
     },
     "execution_count": 45,
     "metadata": {},
     "output_type": "execute_result"
    },
    {
     "data": {
      "image/png": "[encoded data removed]",
      "text/plain": [
       "<Figure size 640x480 with 1 Axes>"
      ]
     },
     "metadata": {},
     "output_type": "display_data"
    }
   ],
   "source": [
    "g = d[d.log_mean_c2c_nn_dist > 1.0]\n",
    "plt.scatter(\n",
    "    g.log_mean_c2c_nn_dist,\n",
    "    g.log_n_craters_added_in_study_region\n",
    ")"
   ]
  },
  {
   "cell_type": "code",
   "execution_count": 46,
   "id": "16b595b0-c9d6-48db-ac50-6def1e2a25f3",
   "metadata": {},
   "outputs": [
    {
     "data": {
      "text/plain": [
       "<matplotlib.collections.PathCollection at 0x7f4bced53d10>"
      ]
     },
     "execution_count": 46,
     "metadata": {},
     "output_type": "execute_result"
    },
    {
     "data": {
      "image/png": "[encoded data removed]",
      "text/plain": [
       "<Figure size 640x480 with 1 Axes>"
      ]
     },
     "metadata": {},
     "output_type": "display_data"
    }
   ],
   "source": [
    "g = d[d.log_mean_c2c_nn_dist > 1.1]\n",
    "plt.scatter(\n",
    "    g.log_mean_c2c_nn_dist,\n",
    "    g.log_n_craters_added_in_study_region\n",
    ")"
   ]
  },
  {
   "cell_type": "code",
   "execution_count": null,
   "id": "c603f44f-a607-44e3-9b48-af18b8f865dc",
   "metadata": {},
   "outputs": [],
   "source": []
  },
  {
   "cell_type": "code",
   "execution_count": null,
   "id": "1c1c724c-e6d3-4a7b-a891-9306d2d3ff6c",
   "metadata": {},
   "outputs": [],
   "source": []
  },
  {
   "cell_type": "code",
   "execution_count": null,
   "id": "70e0b8bb-408a-43a4-9617-8e604f5a3bff",
   "metadata": {},
   "outputs": [],
   "source": []
  },
  {
   "cell_type": "code",
   "execution_count": null,
   "id": "7c48ee2f-8829-4b66-94e9-0a0efbb8255c",
   "metadata": {},
   "outputs": [],
   "source": []
  },
  {
   "cell_type": "code",
   "execution_count": 91,
   "id": "df52180f-af5f-4b94-bfec-1eaf5ef4f498",
   "metadata": {},
   "outputs": [],
   "source": [
    "def detrend_data(data: DataFrame,\n",
    "                 min_slope: float,\n",
    "                 max_slope: float,\n",
    "                 min_log_mean_nn_dist: float,\n",
    "                 max_log_mean_nn_dist: float) -> DataFrame:\n",
    "    data.createOrReplaceTempView(\"data\")\n",
    "    \n",
    "    query = f\"\"\"\n",
    "    SELECT\n",
    "        log_mean_c2c_nn_dist,\n",
    "        log_n_craters_added_in_study_region\n",
    "    FROM\n",
    "        data\n",
    "    WHERE\n",
    "        slope BETWEEN {min_slope} AND {max_slope}\n",
    "        AND log_mean_c2c_nn_dist BETWEEN {min_log_mean_nn_dist} AND {max_log_mean_nn_dist}    \n",
    "    \"\"\"\n",
    "    filtered = spark.sql(query)\n",
    "\n",
    "    assembler = VectorAssembler(\n",
    "        inputCols=[\"log_mean_c2c_nn_dist\"],\n",
    "        outputCol=\"features\"\n",
    "    )\n",
    "    train_df = assembler.transform(filtered)\n",
    "    \n",
    "    model = LinearRegression(labelCol=\"log_n_craters_added_in_study_region\", predictionCol=\"prediction\", regParam=0.1, maxIter=1000, tol=1e-8).fit(train_df)\n",
    "    \n",
    "    return model.transform(train_df).select(\n",
    "        (F.col(\"log_n_craters_added_in_study_region\") - F.col(\"prediction\")).alias(\"detrended\"),\n",
    "        \"*\"\n",
    "    )\n",
    "\n",
    "\n",
    "def detrend_data_using_single_regression(data: DataFrame,\n",
    "                                         min_slope: float,\n",
    "                                         max_slope: float,\n",
    "                                         threshold_log_mean_nn_dist: float) -> Tuple[DataFrame, DataFrame]:\n",
    "    data = data.select(\"log_mean_c2c_nn_dist\", \"log_n_craters_added_in_study_region\", \"slope\")\n",
    "    data.createOrReplaceTempView(\"data\")\n",
    "    \n",
    "    query = f\"\"\"\n",
    "    SELECT\n",
    "        log_mean_c2c_nn_dist,\n",
    "        log_n_craters_added_in_study_region\n",
    "    FROM\n",
    "        data\n",
    "    WHERE\n",
    "        slope BETWEEN {min_slope} AND {max_slope}\n",
    "        AND log_mean_c2c_nn_dist > {threshold_log_mean_nn_dist}\n",
    "    \"\"\"\n",
    "    filtered = spark.sql(query)\n",
    "\n",
    "    if filtered.count() < MIN_N_SAMPLES:\n",
    "        return None, None\n",
    "\n",
    "    assembler = VectorAssembler(\n",
    "        inputCols=[\"log_mean_c2c_nn_dist\"],\n",
    "        outputCol=\"features\"\n",
    "    )\n",
    "    train_df = assembler.transform(filtered)\n",
    "    \n",
    "    model = LinearRegression(labelCol=\"log_n_craters_added_in_study_region\", predictionCol=\"prediction\", regParam=0.1, maxIter=1000, tol=1e-8).fit(train_df)\n",
    "    print(model.coefficients)\n",
    "    print(model.intercept)\n",
    "\n",
    "    filtered_by_slope = data.where(data.slope.between(min_slope, max_slope))\n",
    "    sample1_data = filtered_by_slope.where(\n",
    "        filtered_by_slope.log_mean_c2c_nn_dist > threshold_log_mean_nn_dist\n",
    "    )\n",
    "    sample2_data = filtered_by_slope.where(\n",
    "        filtered_by_slope.log_mean_c2c_nn_dist <= threshold_log_mean_nn_dist\n",
    "    )\n",
    "\n",
    "    if sample1_data.count() < MIN_N_SAMPLES or sample2_data.count() < MIN_N_SAMPLES:\n",
    "        return None, None\n",
    "    \n",
    "    sample1 = model.transform(\n",
    "        assembler.transform(\n",
    "            sample1_data\n",
    "        )\n",
    "    ).select(\n",
    "        (F.col(\"log_n_craters_added_in_study_region\") - F.col(\"prediction\")).alias(\"detrended\"),\n",
    "        \"*\"\n",
    "    )\n",
    "    sample2 = model.transform(\n",
    "        assembler.transform(\n",
    "            sample2_data\n",
    "        )\n",
    "    ).select(\n",
    "        (F.col(\"log_n_craters_added_in_study_region\") - F.col(\"prediction\")).alias(\"detrended\"),\n",
    "        \"*\"\n",
    "    )\n",
    "\n",
    "    return sample1, sample2"
   ]
  },
  {
   "cell_type": "code",
   "execution_count": 5,
   "id": "8162f688-2056-4420-8633-5876b706c628",
   "metadata": {},
   "outputs": [],
   "source": [
    "def calculate_var_and_df(sample: DataFrame, col_name: str) -> Tuple[float, int]:\n",
    "    cnt = sample.count()\n",
    "    calc = sample.sample(min(1.0, MIN_N_SAMPLES / cnt)).select(\n",
    "        F.variance(col_name).alias(\"variance\"),\n",
    "        (F.count(\"*\") - 1).alias(\"df\")\n",
    "    ).collect()\n",
    "    row = calc[0]\n",
    "    return row.variance, row.df\n",
    "\n",
    "\n",
    "def calculate_f_test_p_value(\n",
    "    sample1: DataFrame,\n",
    "    sample2: DataFrame,\n",
    "    col_name: str\n",
    ") -> float:\n",
    "    N_RESAMPLES = 3\n",
    "\n",
    "    result = 0\n",
    "\n",
    "    for _ in range(N_RESAMPLES):\n",
    "        sample1_var, sample1_df = calculate_var_and_df(sample1, col_name)\n",
    "        sample2_var, sample2_df = calculate_var_and_df(sample2, col_name)\n",
    "        \n",
    "        numer, numer_df, denom, denom_df = (sample1_var, sample1_df, sample2_var, sample2_df) if sample1_var > sample2_var else (sample2_var, sample2_df, sample1_var, sample1_df)\n",
    "        result += 1 - stats.f.cdf(numer / denom, numer_df, denom_df)\n",
    "        print(f\"Var: {numer:.4f} / {denom:.4f}\")\n",
    "\n",
    "    return result / N_RESAMPLES\n",
    "\n",
    "\n",
    "def calculate_f_value(\n",
    "    sample1: DataFrame,\n",
    "    sample2: DataFrame,\n",
    "    col_name: str\n",
    ") -> float:\n",
    "    N_RESAMPLES = 3\n",
    "\n",
    "    result = 0\n",
    "\n",
    "    for _ in range(N_RESAMPLES):\n",
    "        sample1_var, sample1_df = calculate_var_and_df(sample1, col_name)\n",
    "        sample2_var, sample2_df = calculate_var_and_df(sample2, col_name)  \n",
    "        \n",
    "        numer, numer_df, denom, denom_df = (sample1_var, sample1_df, sample2_var, sample2_df) if sample1_var > sample2_var else (sample2_var, sample2_df, sample1_var, sample1_df)\n",
    "        print(f\"Var: {numer:.4f} / {denom:.4f}\")\n",
    "        result += numer / denom\n",
    "\n",
    "    return result / N_RESAMPLES\n",
    "\n",
    "\n",
    "def calculate_ci(sample: DataFrame, col_name: str) -> Tuple[float, int]:\n",
    "    calc = sample.select(\n",
    "        (F.percentile_approx(col_name, 0.95) - F.percentile_approx(col_name, 0.05)).alias(\"ci_width\")\n",
    "    ).collect()\n",
    "    return calc[0].ci_width\n",
    "    \n",
    "\n",
    "def calculate_ci_width_ratio(\n",
    "    sample1: DataFrame,\n",
    "    sample2: DataFrame,\n",
    "    col_name: str\n",
    ") -> float:  \n",
    "    sample1_width = calculate_ci(sample1, col_name)\n",
    "    sample2_width = calculate_ci(sample2, col_name)  \n",
    "    \n",
    "    numer, denom = (sample1_width, sample2_width) if sample1_width > sample2_width else (sample2_width, sample1_width)\n",
    "\n",
    "    return numer / denom"
   ]
  },
  {
   "cell_type": "code",
   "execution_count": 6,
   "id": "79451f75-c2cf-4f8d-9d81-c2a7cd8b8568",
   "metadata": {},
   "outputs": [],
   "source": [
    "def objective_function(\n",
    "    data: DataFrame,\n",
    "    min_slope: float,\n",
    "    max_slope: float,\n",
    "    threshold_log_mean_nn_dist: float\n",
    ") -> float:\n",
    "    print(\"Sample 1...\")\n",
    "    sample1 = detrend_data(\n",
    "        data,\n",
    "        min_slope,\n",
    "        max_slope,\n",
    "        -100.0,\n",
    "        threshold_log_mean_nn_dist\n",
    "    )\n",
    "\n",
    "    print(\"Sample 1...\")\n",
    "    sample2 = detrend_data(\n",
    "        data,\n",
    "        min_slope,\n",
    "        max_slope,\n",
    "        threshold_log_mean_nn_dist,\n",
    "        100.0\n",
    "    )\n",
    "\n",
    "    # return calculate_ci_width_ratio(sample1, sample2, \"detrended\")\n",
    "    # return calculate_f_value(sample1, sample2, \"detrended\")\n",
    "    return calculate_f_test_p_value(sample1, sample2, \"detrended\")   \n",
    "\n",
    "\n",
    "def create_objective_function_single_regression(\n",
    "    data: DataFrame,\n",
    "    min_slope: float,\n",
    "    max_slope: float\n",
    ") -> float:\n",
    "    data = data.where(F.col(\"slope\").between(min_slope, max_slope)).cache()\n",
    "    \n",
    "    def objective_function(args):\n",
    "        threshold_log_mean_nn_dist = args[\"threshold_log_mean_nn_dist\"]\n",
    "\n",
    "        \n",
    "        sample1, sample2 = detrend_data_using_alternate_slope_calc(\n",
    "            data,\n",
    "            min_slope,\n",
    "            max_slope,\n",
    "            threshold_log_mean_nn_dist\n",
    "        )\n",
    "\n",
    "        if sample1 is None or sample2 is None:\n",
    "            result = 0\n",
    "        else: \n",
    "            # result = calculate_f_test_p_value(sample1, sample2, \"detrended\")\n",
    "            result = calculate_f_value(sample1, sample2, \"detrended\")\n",
    "            \n",
    "        print(f\"{threshold_log_mean_nn_dist:.3f}, {result}\")\n",
    "\n",
    "        return {\n",
    "            \"loss\": -result,\n",
    "            \"params\": args,\n",
    "            \"status\": STATUS_OK\n",
    "        }\n",
    "\n",
    "    return objective_function"
   ]
  },
  {
   "cell_type": "code",
   "execution_count": 87,
   "id": "c7fee311-0be7-42f7-ac58-029848b9f3ad",
   "metadata": {},
   "outputs": [],
   "source": [
    "def detrend_data_using_single_regression_narrow_window(data: DataFrame,\n",
    "                                                       min_slope: float,\n",
    "                                                       max_slope: float,\n",
    "                                                       threshold_log_mean_nn_dist: float,\n",
    "                                                       log_mean_nn_dist_window_width: float) -> DataFrame:\n",
    "    data = data.select(\"log_mean_c2c_nn_dist\", \"log_n_craters_added_in_study_region\", \"slope\")\n",
    "    data.createOrReplaceTempView(\"data\")\n",
    "    \n",
    "    query = f\"\"\"\n",
    "    SELECT\n",
    "        log_mean_c2c_nn_dist,\n",
    "        log_n_craters_added_in_study_region\n",
    "    FROM\n",
    "        data\n",
    "    WHERE\n",
    "        slope BETWEEN {min_slope} AND {max_slope}\n",
    "        AND log_mean_c2c_nn_dist > {threshold_log_mean_nn_dist}\n",
    "    \"\"\"\n",
    "    filtered = spark.sql(query)\n",
    "\n",
    "    if filtered.count() < MIN_N_SAMPLES:\n",
    "        return None, None\n",
    "\n",
    "    assembler = VectorAssembler(\n",
    "        inputCols=[\"log_mean_c2c_nn_dist\"],\n",
    "        outputCol=\"features\"\n",
    "    )\n",
    "    train_df = assembler.transform(filtered)\n",
    "    \n",
    "    model = LinearRegression(labelCol=\"log_n_craters_added_in_study_region\", predictionCol=\"prediction\", regParam=0.1, maxIter=1000, tol=1e-8).fit(train_df)\n",
    "    print(model.coefficients)\n",
    "\n",
    "    sample1_data = data.where(data.log_mean_c2c_nn_dist.between(threshold_log_mean_nn_dist - log_mean_nn_dist_window_width, threshold_log_mean_nn_dist))\n",
    "    sample2_data = data.where(data.log_mean_c2c_nn_dist.between(threshold_log_mean_nn_dist, threshold_log_mean_nn_dist + log_mean_nn_dist_window_width))\n",
    "\n",
    "    if sample1_data.count() < MIN_N_SAMPLES or sample2_data.count() < MIN_N_SAMPLES:\n",
    "        return None, None\n",
    "    \n",
    "    sample1 = model.transform(\n",
    "        assembler.transform(\n",
    "            sample1_data\n",
    "        )\n",
    "    ).select(\n",
    "        (F.col(\"log_n_craters_added_in_study_region\") - F.col(\"prediction\")).alias(\"detrended\"),\n",
    "        \"*\"\n",
    "    )\n",
    "    sample2 = model.transform(\n",
    "        assembler.transform(\n",
    "            sample2_data\n",
    "        )\n",
    "    ).select(\n",
    "        (F.col(\"log_n_craters_added_in_study_region\") - F.col(\"prediction\")).alias(\"detrended\"),\n",
    "        \"*\"\n",
    "    )\n",
    "\n",
    "    return sample1, sample2\n",
    "    \n",
    "\n",
    "def create_objective_function_single_regression_narrow_windows(\n",
    "    data: DataFrame,\n",
    "    min_slope: float,\n",
    "    max_slope: float,\n",
    "    log_mean_nn_dist_window_width: float\n",
    ") -> float:\n",
    "    data = data.where(F.col(\"slope\").between(min_slope, max_slope)).cache()\n",
    "    \n",
    "    def objective_function(args):\n",
    "        threshold_log_mean_nn_dist = args[\"threshold_log_mean_nn_dist\"]\n",
    "        print(f\"Trying threshold = {threshold_log_mean_nn_dist:.4f}\")\n",
    "        \n",
    "        sample1, sample2 = detrend_data_using_single_regression_narrow_window(\n",
    "            data,\n",
    "            min_slope,\n",
    "            max_slope,\n",
    "            threshold_log_mean_nn_dist,\n",
    "            log_mean_nn_dist_window_width\n",
    "        )\n",
    "\n",
    "        if sample1 is None or sample2 is None:\n",
    "            result = 0.0\n",
    "        else: \n",
    "            # result = -calculate_f_test_p_value(sample1, sample2, \"detrended\")\n",
    "            result = calculate_f_value(sample1, sample2, \"detrended\")\n",
    "            \n",
    "        print(f\"{threshold_log_mean_nn_dist:.3f}, {result}\")\n",
    "\n",
    "        return {\n",
    "            \"loss\": -result,\n",
    "            \"params\": args,\n",
    "            \"status\": STATUS_OK\n",
    "        }\n",
    "\n",
    "    return objective_function"
   ]
  },
  {
   "cell_type": "code",
   "execution_count": 8,
   "id": "f4fe827f-9a82-4661-bfcc-968a2a63989f",
   "metadata": {},
   "outputs": [],
   "source": [
    "def calculate_ci_width_ratio_sampled(\n",
    "    sample1: DataFrame,\n",
    "    sample2: DataFrame,\n",
    "    col_name: str\n",
    ") -> float:\n",
    "    sample1_width = calculate_ci(sample1, col_name)\n",
    "    sample2_width = calculate_ci(sample2, col_name)  \n",
    "    \n",
    "    numer, denom = (sample1_width, sample2_width) if sample1_width > sample2_width else (sample2_width, sample1_width)\n",
    "\n",
    "    print(f\"CI width: {numer:.4f} / {denom:.4f}\")\n",
    "    return numer / denom\n",
    "    \n",
    "\n",
    "def create_objective_function_single_regression_narrow_windows_ci_width(\n",
    "    data: DataFrame,\n",
    "    min_slope: float,\n",
    "    max_slope: float\n",
    ") -> float:\n",
    "    data = data.where(F.col(\"slope\").between(min_slope, max_slope))\n",
    "    max_log_mean_nn_dist = data.select(F.percentile_approx(\"log_mean_c2c_nn_dist\", 0.98).alias(\"result\")).collect()[0].result\n",
    "    data = data.where(F.col(\"log_mean_c2c_nn_dist\") < max_log_mean_nn_dist).cache()\n",
    "\n",
    "    max_log_mean_nn_dist = data.select(F.percentile_approx(\"log_mean_c2c_nn_dist\", 0.95).alias(\"result\")).collect()[0].result\n",
    "    min_log_mean_nn_dist = data.select(F.percentile_approx(\"log_mean_c2c_nn_dist\", 0.05).alias(\"result\")).collect()[0].result\n",
    "    log_mean_nn_dist_window_width = (max_nn_dist - min_log_mean_nn_dist) / 30\n",
    "    \n",
    "    def objective_function(args):\n",
    "        threshold_log_mean_nn_dist = args[\"threshold_log_mean_nn_dist\"]\n",
    "        print(f\"Trying threshold = {threshold_log_mean_nn_dist:.4f}\")\n",
    "        \n",
    "        sample1, sample2 = detrend_data_using_single_regression_narrow_window(\n",
    "            data,\n",
    "            min_slope,\n",
    "            max_slope,\n",
    "            threshold_log_mean_nn_dist,\n",
    "            log_mean_nn_dist_window_width\n",
    "        )\n",
    "\n",
    "        if sample1 is None or sample2 is None:\n",
    "            result = 0.0\n",
    "        else: \n",
    "            # result = -calculate_f_test_p_value(sample1, sample2, \"detrended\")\n",
    "            # result = calculate_f_value(sample1, sample2, \"detrended\")\n",
    "            result = calculate_ci_width_ratio_sampled(sample1, sample2, \"detrended\")\n",
    "            \n",
    "        print(f\"{threshold_log_mean_nn_dist:.3f}, {result}\")\n",
    "\n",
    "        return {\n",
    "            \"loss\": -result,\n",
    "            \"params\": args,\n",
    "            \"status\": STATUS_OK\n",
    "        }\n",
    "\n",
    "    return objective_function"
   ]
  },
  {
   "cell_type": "code",
   "execution_count": null,
   "id": "663b0ab3-232f-42c1-bbcc-8551d6061a88",
   "metadata": {},
   "outputs": [],
   "source": []
  },
  {
   "cell_type": "markdown",
   "id": "6c84b305-5d0c-4538-aec0-4696874c1a98",
   "metadata": {},
   "source": [
    "## Detrend and check ratio outside 95% CI"
   ]
  },
  {
   "cell_type": "code",
   "execution_count": 92,
   "id": "3f714369-5644-40cf-aa3b-1d2d922ef344",
   "metadata": {},
   "outputs": [
    {
     "name": "stdout",
     "output_type": "stream",
     "text": [
      "[-1.555463530704156]\n",
      "4.655295810130562\n"
     ]
    }
   ],
   "source": [
    "sample1, sample2 = detrend_data_using_single_regression(data_with_configs.sample(0.25), 2.1, 2.2, 1.1)"
   ]
  },
  {
   "cell_type": "code",
   "execution_count": 81,
   "id": "67841561-b799-459c-b42c-924cb9306acb",
   "metadata": {},
   "outputs": [],
   "source": [
    "df1 = sample1.toPandas()\n",
    "df2 = sample2.toPandas()"
   ]
  },
  {
   "cell_type": "code",
   "execution_count": 82,
   "id": "0758db4e-3bbd-4e90-9482-a2b97435a89f",
   "metadata": {},
   "outputs": [
    {
     "data": {
      "text/html": [
       "<div>\n",
       "<style scoped>\n",
       "    .dataframe tbody tr th:only-of-type {\n",
       "        vertical-align: middle;\n",
       "    }\n",
       "\n",
       "    .dataframe tbody tr th {\n",
       "        vertical-align: top;\n",
       "    }\n",
       "\n",
       "    .dataframe thead th {\n",
       "        text-align: right;\n",
       "    }\n",
       "</style>\n",
       "<table border=\"1\" class=\"dataframe\">\n",
       "  <thead>\n",
       "    <tr style=\"text-align: right;\">\n",
       "      <th></th>\n",
       "      <th>detrended</th>\n",
       "      <th>log_mean_c2c_nn_dist</th>\n",
       "      <th>log_n_craters_added_in_study_region</th>\n",
       "      <th>slope</th>\n",
       "      <th>features</th>\n",
       "      <th>prediction</th>\n",
       "    </tr>\n",
       "  </thead>\n",
       "  <tbody>\n",
       "    <tr>\n",
       "      <th>0</th>\n",
       "      <td>-0.125511</td>\n",
       "      <td>1.600222</td>\n",
       "      <td>2.045323</td>\n",
       "      <td>2.151335</td>\n",
       "      <td>[1.6002218213945372]</td>\n",
       "      <td>2.170834</td>\n",
       "    </tr>\n",
       "    <tr>\n",
       "      <th>1</th>\n",
       "      <td>0.017053</td>\n",
       "      <td>1.283718</td>\n",
       "      <td>2.680336</td>\n",
       "      <td>2.151335</td>\n",
       "      <td>[1.2837183342120562]</td>\n",
       "      <td>2.663283</td>\n",
       "    </tr>\n",
       "    <tr>\n",
       "      <th>2</th>\n",
       "      <td>-0.035333</td>\n",
       "      <td>1.439476</td>\n",
       "      <td>2.385606</td>\n",
       "      <td>2.192030</td>\n",
       "      <td>[1.4394756850668966]</td>\n",
       "      <td>2.420939</td>\n",
       "    </tr>\n",
       "    <tr>\n",
       "      <th>3</th>\n",
       "      <td>-0.019237</td>\n",
       "      <td>1.250097</td>\n",
       "      <td>2.696356</td>\n",
       "      <td>2.197711</td>\n",
       "      <td>[1.2500973527712744]</td>\n",
       "      <td>2.715594</td>\n",
       "    </tr>\n",
       "    <tr>\n",
       "      <th>4</th>\n",
       "      <td>0.038055</td>\n",
       "      <td>1.159333</td>\n",
       "      <td>2.894870</td>\n",
       "      <td>2.197711</td>\n",
       "      <td>[1.159332904208921]</td>\n",
       "      <td>2.856815</td>\n",
       "    </tr>\n",
       "    <tr>\n",
       "      <th>...</th>\n",
       "      <td>...</td>\n",
       "      <td>...</td>\n",
       "      <td>...</td>\n",
       "      <td>...</td>\n",
       "      <td>...</td>\n",
       "      <td>...</td>\n",
       "    </tr>\n",
       "    <tr>\n",
       "      <th>46533</th>\n",
       "      <td>1.329328</td>\n",
       "      <td>0.634084</td>\n",
       "      <td>5.003379</td>\n",
       "      <td>2.179378</td>\n",
       "      <td>[0.6340844846094892]</td>\n",
       "      <td>3.674051</td>\n",
       "    </tr>\n",
       "    <tr>\n",
       "      <th>46534</th>\n",
       "      <td>1.330459</td>\n",
       "      <td>0.632423</td>\n",
       "      <td>5.007095</td>\n",
       "      <td>2.179378</td>\n",
       "      <td>[0.6324232106067994]</td>\n",
       "      <td>3.676635</td>\n",
       "    </tr>\n",
       "    <tr>\n",
       "      <th>46535</th>\n",
       "      <td>1.332111</td>\n",
       "      <td>0.632025</td>\n",
       "      <td>5.009366</td>\n",
       "      <td>2.179378</td>\n",
       "      <td>[0.6320249471054267]</td>\n",
       "      <td>3.677255</td>\n",
       "    </tr>\n",
       "    <tr>\n",
       "      <th>46536</th>\n",
       "      <td>1.277788</td>\n",
       "      <td>0.603019</td>\n",
       "      <td>5.000174</td>\n",
       "      <td>2.108569</td>\n",
       "      <td>[0.6030191338674774]</td>\n",
       "      <td>3.722385</td>\n",
       "    </tr>\n",
       "    <tr>\n",
       "      <th>46537</th>\n",
       "      <td>1.326545</td>\n",
       "      <td>0.630945</td>\n",
       "      <td>5.005481</td>\n",
       "      <td>2.123375</td>\n",
       "      <td>[0.6309447087978461]</td>\n",
       "      <td>3.678936</td>\n",
       "    </tr>\n",
       "  </tbody>\n",
       "</table>\n",
       "<p>47205 rows × 6 columns</p>\n",
       "</div>"
      ],
      "text/plain": [
       "       detrended  log_mean_c2c_nn_dist  log_n_craters_added_in_study_region  \\\n",
       "0      -0.125511              1.600222                             2.045323   \n",
       "1       0.017053              1.283718                             2.680336   \n",
       "2      -0.035333              1.439476                             2.385606   \n",
       "3      -0.019237              1.250097                             2.696356   \n",
       "4       0.038055              1.159333                             2.894870   \n",
       "...          ...                   ...                                  ...   \n",
       "46533   1.329328              0.634084                             5.003379   \n",
       "46534   1.330459              0.632423                             5.007095   \n",
       "46535   1.332111              0.632025                             5.009366   \n",
       "46536   1.277788              0.603019                             5.000174   \n",
       "46537   1.326545              0.630945                             5.005481   \n",
       "\n",
       "          slope              features  prediction  \n",
       "0      2.151335  [1.6002218213945372]    2.170834  \n",
       "1      2.151335  [1.2837183342120562]    2.663283  \n",
       "2      2.192030  [1.4394756850668966]    2.420939  \n",
       "3      2.197711  [1.2500973527712744]    2.715594  \n",
       "4      2.197711   [1.159332904208921]    2.856815  \n",
       "...         ...                   ...         ...  \n",
       "46533  2.179378  [0.6340844846094892]    3.674051  \n",
       "46534  2.179378  [0.6324232106067994]    3.676635  \n",
       "46535  2.179378  [0.6320249471054267]    3.677255  \n",
       "46536  2.108569  [0.6030191338674774]    3.722385  \n",
       "46537  2.123375  [0.6309447087978461]    3.678936  \n",
       "\n",
       "[47205 rows x 6 columns]"
      ]
     },
     "execution_count": 82,
     "metadata": {},
     "output_type": "execute_result"
    }
   ],
   "source": [
    "combined = pd.concat([df1, df2], axis=0)\n",
    "combined"
   ]
  },
  {
   "cell_type": "code",
   "execution_count": 83,
   "id": "abb662ee-18f5-4329-94c2-32e51fc43155",
   "metadata": {},
   "outputs": [
    {
     "data": {
      "text/plain": [
       "<matplotlib.collections.PathCollection at 0x7fb3f17bf6d0>"
      ]
     },
     "execution_count": 83,
     "metadata": {},
     "output_type": "execute_result"
    },
    {
     "data": {
      "image/png": "[encoded data removed]",
      "text/plain": [
       "<Figure size 1200x500 with 1 Axes>"
      ]
     },
     "metadata": {},
     "output_type": "display_data"
    }
   ],
   "source": [
    "plt.figure(figsize=(12,5))\n",
    "plt.scatter(\n",
    "    combined.log_mean_c2c_nn_dist,\n",
    "    combined.detrended,\n",
    "    s=1\n",
    ")\n"
   ]
  },
  {
   "cell_type": "code",
   "execution_count": 86,
   "id": "6b2d5799-c603-4484-b037-3e566206558d",
   "metadata": {},
   "outputs": [
    {
     "data": {
      "text/plain": [
       "<matplotlib.collections.PathCollection at 0x7fb3dc371b50>"
      ]
     },
     "execution_count": 86,
     "metadata": {},
     "output_type": "execute_result"
    },
    {
     "data": {
      "image/png": "[encoded data removed]",
      "text/plain": [
       "<Figure size 1200x500 with 1 Axes>"
      ]
     },
     "metadata": {},
     "output_type": "display_data"
    }
   ],
   "source": [
    "plt.figure(figsize=(12,5))\n",
    "plt.scatter(\n",
    "    df1.log_mean_c2c_nn_dist,\n",
    "    df1.detrended,\n",
    "    s=1\n",
    ")"
   ]
  },
  {
   "cell_type": "code",
   "execution_count": 85,
   "id": "5e3c8eb9-7c0f-43fa-acea-b8070ec25dab",
   "metadata": {},
   "outputs": [
    {
     "data": {
      "text/plain": [
       "<matplotlib.collections.PathCollection at 0x7fb3dc69dad0>"
      ]
     },
     "execution_count": 85,
     "metadata": {},
     "output_type": "execute_result"
    },
    {
     "data": {
      "image/png": "[encoded data removed]",
      "text/plain": [
       "<Figure size 640x480 with 1 Axes>"
      ]
     },
     "metadata": {},
     "output_type": "display_data"
    }
   ],
   "source": [
    "plt.scatter(\n",
    "    df2.log_mean_c2c_nn_dist,\n",
    "    df2.detrended\n",
    ")"
   ]
  },
  {
   "cell_type": "code",
   "execution_count": null,
   "id": "0364bb23-4f3d-4bc6-9af1-0bf38edf3497",
   "metadata": {},
   "outputs": [],
   "source": []
  },
  {
   "cell_type": "code",
   "execution_count": null,
   "id": "91e0fc88-b8a3-45c3-8c42-36bdfff06d1a",
   "metadata": {},
   "outputs": [],
   "source": []
  },
  {
   "cell_type": "code",
   "execution_count": null,
   "id": "bd5d6935-e126-4351-a7e9-99fc403bd09a",
   "metadata": {},
   "outputs": [],
   "source": []
  },
  {
   "cell_type": "code",
   "execution_count": null,
   "id": "d16416e1-89d4-4e2f-939a-c0a58fadf764",
   "metadata": {},
   "outputs": [],
   "source": []
  },
  {
   "cell_type": "code",
   "execution_count": null,
   "id": "d143555b-84f5-439b-9955-641a545d90f8",
   "metadata": {},
   "outputs": [],
   "source": []
  },
  {
   "cell_type": "code",
   "execution_count": 26,
   "id": "a303ac0e-5d02-4ecd-921d-c564786795dc",
   "metadata": {},
   "outputs": [
    {
     "name": "stderr",
     "output_type": "stream",
     "text": [
      "[Stage 6188:>                                                       (0 + 1) / 1]\r"
     ]
    },
    {
     "name": "stdout",
     "output_type": "stream",
     "text": [
      "Trying threshold = 0.6803                                                                                                                                                                                                                                                              \n",
      "  0%|                                                                                                                                                                                                                                           | 0/50 [00:00<?, ?trial/s, best loss=?]"
     ]
    },
    {
     "name": "stderr",
     "output_type": "stream",
     "text": [
      "[Stage 6207:>                                                       (0 + 1) / 1]\r"
     ]
    },
    {
     "name": "stdout",
     "output_type": "stream",
     "text": [
      "CI width: 0.8655 / 0.8149                                                                                                                                                                                                                                                              \n",
      "0.680, 1.0621940272721557                                                                                                                                                                                                                                                              \n",
      "Trying threshold = 0.8361                                                                                                                                                                                                                                                              \n",
      "  2%|████▏                                                                                                                                                                                                           | 1/50 [00:17<14:24, 17.65s/trial, best loss: -1.0621940272721557]"
     ]
    },
    {
     "name": "stderr",
     "output_type": "stream",
     "text": [
      "[Stage 6226:>                                                       (0 + 1) / 1]\r"
     ]
    },
    {
     "name": "stdout",
     "output_type": "stream",
     "text": [
      "CI width: 0.9897 / 0.9647                                                                                                                                                                                                                                                              \n",
      "0.836, 1.0258419747791876                                                                                                                                                                                                                                                              \n",
      "Trying threshold = 0.6237                                                                                                                                                                                                                                                              \n",
      "  4%|████████▎                                                                                                                                                                                                       | 2/50 [00:24<09:14, 11.56s/trial, best loss: -1.0621940272721557]"
     ]
    },
    {
     "name": "stderr",
     "output_type": "stream",
     "text": [
      "[Stage 6245:>                                                       (0 + 1) / 1]\r"
     ]
    },
    {
     "name": "stdout",
     "output_type": "stream",
     "text": [
      "CI width: 0.8059 / 0.7898                                                                                                                                                                                                                                                              \n",
      "0.624, 1.020365898061868                                                                                                                                                                                                                                                               \n",
      "Trying threshold = 0.5525                                                                                                                                                                                                                                                              \n",
      "  6%|████████████▍                                                                                                                                                                                                   | 3/50 [00:44<11:50, 15.11s/trial, best loss: -1.0621940272721557]"
     ]
    },
    {
     "name": "stderr",
     "output_type": "stream",
     "text": [
      "[Stage 6264:>                                                       (0 + 1) / 1]\r"
     ]
    },
    {
     "name": "stdout",
     "output_type": "stream",
     "text": [
      "CI width: 0.7634 / 0.7022                                                                                                                                                                                                                                                              \n",
      "0.553, 1.0872042294188864                                                                                                                                                                                                                                                              \n",
      "Trying threshold = 0.5498                                                                                                                                                                                                                                                              \n",
      "  8%|████████████████▋                                                                                                                                                                                               | 4/50 [01:03<12:50, 16.75s/trial, best loss: -1.0872042294188864]"
     ]
    },
    {
     "name": "stderr",
     "output_type": "stream",
     "text": [
      "[Stage 6283:>                                                       (0 + 1) / 1]\r"
     ]
    },
    {
     "name": "stdout",
     "output_type": "stream",
     "text": [
      "CI width: 0.7573 / 0.7028                                                                                                                                                                                                                                                              \n",
      "0.550, 1.0775153967950026                                                                                                                                                                                                                                                              \n",
      "Trying threshold = 1.9090                                                                                                                                                                                                                                                              \n",
      " 10%|████████████████████▊                                                                                                                                                                                           | 5/50 [01:22<13:16, 17.69s/trial, best loss: -1.0872042294188864]"
     ]
    },
    {
     "name": "stderr",
     "output_type": "stream",
     "text": [
      "                                                                                \r"
     ]
    },
    {
     "name": "stdout",
     "output_type": "stream",
     "text": [
      "1.909, 0.0                                                                                                                                                                                                                                                                             \n",
      "Trying threshold = 1.6569                                                                                                                                                                                                                                                              \n",
      "1.657, 0.0                                                                                                                                                                                                                                                                             \n",
      "Trying threshold = 1.2095                                                                                                                                                                                                                                                              \n",
      "1.209, 0.0                                                                                                                                                                                                                                                                             \n",
      "Trying threshold = 1.6568                                                                                                                                                                                                                                                              \n",
      "1.657, 0.0                                                                                                                                                                                                                                                                             \n",
      "Trying threshold = 0.9888                                                                                                                                                                                                                                                              \n",
      "CI width: 0.4022 / 0.1641                                                                                                                                                                                                                                                              \n",
      "0.989, 2.4511848588012177                                                                                                                                                                                                                                                              \n",
      "Trying threshold = 1.8733                                                                                                                                                                                                                                                              \n",
      "1.873, 0.0                                                                                                                                                                                                                                                                             \n",
      "Trying threshold = 1.5206                                                                                                                                                                                                                                                              \n",
      "1.521, 0.0                                                                                                                                                                                                                                                                             \n",
      "Trying threshold = 1.3904                                                                                                                                                                                                                                                              \n",
      "1.390, 0.0                                                                                                                                                                                                                                                                             \n",
      "Trying threshold = 1.6816                                                                                                                                                                                                                                                              \n",
      "1.682, 0.0                                                                                                                                                                                                                                                                             \n",
      "Trying threshold = 1.0706                                                                                                                                                                                                                                                              \n",
      "1.071, 0.0                                                                                                                                                                                                                                                                             \n",
      "Trying threshold = 0.4766                                                                                                                                                                                                                                                              \n",
      " 30%|██████████████████████████████████████████████████████████████                                                                                                                                                 | 15/50 [01:28<00:28,  1.25trial/s, best loss: -2.4511848588012177]"
     ]
    },
    {
     "name": "stderr",
     "output_type": "stream",
     "text": [
      "                                                                                \r"
     ]
    },
    {
     "name": "stdout",
     "output_type": "stream",
     "text": [
      "CI width: 0.6971 / 0.5010                                                                                                                                                                                                                                                              \n",
      "0.477, 1.3912485126447582                                                                                                                                                                                                                                                              \n",
      "Trying threshold = 1.5408                                                                                                                                                                                                                                                              \n",
      "1.541, 0.0                                                                                                                                                                                                                                                                             \n",
      "Trying threshold = 0.7218                                                                                                                                                                                                                                                              \n",
      " 34%|██████████████████████████████████████████████████████████████████████▍                                                                                                                                        | 17/50 [01:46<02:23,  4.34s/trial, best loss: -2.4511848588012177]"
     ]
    },
    {
     "name": "stderr",
     "output_type": "stream",
     "text": [
      "[Stage 6370:>                                                       (0 + 1) / 1]\r"
     ]
    },
    {
     "name": "stdout",
     "output_type": "stream",
     "text": [
      "CI width: 0.9002 / 0.8616                                                                                                                                                                                                                                                              \n",
      "0.722, 1.0447532778983688                                                                                                                                                                                                                                                              \n",
      "Trying threshold = 1.4197                                                                                                                                                                                                                                                              \n",
      " 36%|██████████████████████████████████████████████████████████████████████████▌                                                                                                                                    | 18/50 [02:01<04:00,  7.52s/trial, best loss: -2.4511848588012177]"
     ]
    },
    {
     "name": "stderr",
     "output_type": "stream",
     "text": [
      "                                                                                \r"
     ]
    },
    {
     "name": "stdout",
     "output_type": "stream",
     "text": [
      "1.420, 0.0                                                                                                                                                                                                                                                                             \n",
      "Trying threshold = 1.8445                                                                                                                                                                                                                                                              \n",
      "1.845, 0.0                                                                                                                                                                                                                                                                             \n",
      "Trying threshold = 0.8768                                                                                                                                                                                                                                                              \n",
      " 40%|██████████████████████████████████████████████████████████████████████████████████▊                                                                                                                            | 20/50 [02:02<01:53,  3.79s/trial, best loss: -2.4511848588012177]"
     ]
    },
    {
     "name": "stderr",
     "output_type": "stream",
     "text": [
      "                                                                                \r"
     ]
    },
    {
     "name": "stdout",
     "output_type": "stream",
     "text": [
      "CI width: 1.0138 / 0.9853                                                                                                                                                                                                                                                              \n",
      "0.877, 1.0289470241935392                                                                                                                                                                                                                                                              \n",
      "Trying threshold = 1.0620                                                                                                                                                                                                                                                              \n",
      " 42%|██████████████████████████████████████████████████████████████████████████████████████▉                                                                                                                        | 21/50 [02:07<02:04,  4.31s/trial, best loss: -2.4511848588012177]"
     ]
    },
    {
     "name": "stderr",
     "output_type": "stream",
     "text": [
      "                                                                                \r"
     ]
    },
    {
     "name": "stdout",
     "output_type": "stream",
     "text": [
      "1.062, 0.0                                                                                                                                                                                                                                                                             \n",
      "Trying threshold = 0.4602                                                                                                                                                                                                                                                              \n",
      " 44%|███████████████████████████████████████████████████████████████████████████████████████████                                                                                                                    | 22/50 [02:08<01:26,  3.10s/trial, best loss: -2.4511848588012177]"
     ]
    },
    {
     "name": "stderr",
     "output_type": "stream",
     "text": [
      "                                                                                \r"
     ]
    },
    {
     "name": "stdout",
     "output_type": "stream",
     "text": [
      "CI width: 0.6351 / 0.3987                                                                                                                                                                                                                                                              \n",
      "0.460, 1.5928732753200894                                                                                                                                                                                                                                                              \n",
      "Trying threshold = 0.8981                                                                                                                                                                                                                                                              \n",
      " 46%|███████████████████████████████████████████████████████████████████████████████████████████████▏                                                                                                               | 23/50 [02:26<03:25,  7.62s/trial, best loss: -2.4511848588012177]"
     ]
    },
    {
     "name": "stderr",
     "output_type": "stream",
     "text": [
      "                                                                                \r"
     ]
    },
    {
     "name": "stdout",
     "output_type": "stream",
     "text": [
      "CI width: 1.0149 / 1.0115                                                                                                                                                                                                                                                              \n",
      "0.898, 1.0034294965863282                                                                                                                                                                                                                                                              \n",
      "Trying threshold = 1.1815                                                                                                                                                                                                                                                              \n",
      " 48%|███████████████████████████████████████████████████████████████████████████████████████████████████▎                                                                                                           | 24/50 [02:31<02:56,  6.78s/trial, best loss: -2.4511848588012177]"
     ]
    },
    {
     "name": "stderr",
     "output_type": "stream",
     "text": [
      "                                                                                \r"
     ]
    },
    {
     "name": "stdout",
     "output_type": "stream",
     "text": [
      "1.181, 0.0                                                                                                                                                                                                                                                                             \n",
      "Trying threshold = 0.7770                                                                                                                                                                                                                                                              \n",
      " 50%|███████████████████████████████████████████████████████████████████████████████████████████████████████▌                                                                                                       | 25/50 [02:31<02:00,  4.81s/trial, best loss: -2.4511848588012177]"
     ]
    },
    {
     "name": "stderr",
     "output_type": "stream",
     "text": [
      "[Stage 6458:>                                                       (0 + 1) / 1]\r"
     ]
    },
    {
     "name": "stdout",
     "output_type": "stream",
     "text": [
      "CI width: 0.9521 / 0.9122                                                                                                                                                                                                                                                              \n",
      "0.777, 1.043777513751885                                                                                                                                                                                                                                                               \n",
      "Trying threshold = 0.9887                                                                                                                                                                                                                                                              \n",
      " 52%|███████████████████████████████████████████████████████████████████████████████████████████████████████████▋                                                                                                   | 26/50 [02:42<02:40,  6.68s/trial, best loss: -2.4511848588012177]"
     ]
    },
    {
     "name": "stderr",
     "output_type": "stream",
     "text": [
      "                                                                                \r"
     ]
    },
    {
     "name": "stdout",
     "output_type": "stream",
     "text": [
      "CI width: 0.4090 / 0.1641                                                                                                                                                                                                                                                              \n",
      "0.989, 2.491573334935772                                                                                                                                                                                                                                                               \n",
      "Trying threshold = 1.0141                                                                                                                                                                                                                                                              \n",
      "CI width: 0.2040 / 0.1373                                                                                                                                                                                                                                                              \n",
      "1.014, 1.4856872673124473                                                                                                                                                                                                                                                              \n",
      "Trying threshold = 1.2353                                                                                                                                                                                                                                                              \n",
      "1.235, 0.0                                                                                                                                                                                                                                                                             \n",
      "Trying threshold = 0.9451                                                                                                                                                                                                                                                              \n",
      "CI width: 1.0104 / 0.3292                                                                                                                                                                                                                                                              \n",
      "0.945, 3.0694229041144174                                                                                                                                                                                                                                                              \n",
      "Trying threshold = 1.1532                                                                                                                                                                                                                                                              \n",
      "1.153, 0.0                                                                                                                                                                                                                                                                             \n",
      "Trying threshold = 1.3352                                                                                                                                                                                                                                                              \n",
      "1.335, 0.0                                                                                                                                                                                                                                                                             \n",
      "Trying threshold = 0.6482                                                                                                                                                                                                                                                              \n",
      " 64%|████████████████████████████████████████████████████████████████████████████████████████████████████████████████████████████████████▍                                                                          | 32/50 [02:53<00:33,  1.89s/trial, best loss: -3.0694229041144174]"
     ]
    },
    {
     "name": "stderr",
     "output_type": "stream",
     "text": [
      "[Stage 6543:>                                                       (0 + 1) / 1]\r"
     ]
    },
    {
     "name": "stdout",
     "output_type": "stream",
     "text": [
      "CI width: 0.8296 / 0.7987                                                                                                                                                                                                                                                              \n",
      "0.648, 1.0386110486516933                                                                                                                                                                                                                                                              \n",
      "Trying threshold = 0.9461                                                                                                                                                                                                                                                              \n",
      " 66%|████████████████████████████████████████████████████████████████████████████████████████████████████████████████████████████████████████▌                                                                      | 33/50 [03:11<01:57,  6.89s/trial, best loss: -3.0694229041144174]"
     ]
    },
    {
     "name": "stderr",
     "output_type": "stream",
     "text": [
      "                                                                                \r"
     ]
    },
    {
     "name": "stdout",
     "output_type": "stream",
     "text": [
      "CI width: 1.0097 / 0.3075                                                                                                                                                                                                                                                              \n",
      "0.946, 3.2838174631299415                                                                                                                                                                                                                                                              \n",
      "Trying threshold = 0.7521                                                                                                                                                                                                                                                              \n",
      " 68%|████████████████████████████████████████████████████████████████████████████████████████████████████████████████████████████████████████████▊                                                                  | 34/50 [03:15<01:35,  5.97s/trial, best loss: -3.2838174631299415]"
     ]
    },
    {
     "name": "stderr",
     "output_type": "stream",
     "text": [
      "[Stage 6581:>                                                       (0 + 1) / 1]\r"
     ]
    },
    {
     "name": "stdout",
     "output_type": "stream",
     "text": [
      "CI width: 0.9262 / 0.8830                                                                                                                                                                                                                                                              \n",
      "0.752, 1.0489333392585654                                                                                                                                                                                                                                                              \n",
      "Trying threshold = 0.8421                                                                                                                                                                                                                                                              \n",
      " 70%|████████████████████████████████████████████████████████████████████████████████████████████████████████████████████████████████████████████████▉                                                              | 35/50 [03:28<02:00,  8.07s/trial, best loss: -3.2838174631299415]"
     ]
    },
    {
     "name": "stderr",
     "output_type": "stream",
     "text": [
      "[Stage 6600:>                                                       (0 + 1) / 1]\r"
     ]
    },
    {
     "name": "stdout",
     "output_type": "stream",
     "text": [
      "CI width: 1.0005 / 0.9703                                                                                                                                                                                                                                                              \n",
      "0.842, 1.031160151376357                                                                                                                                                                                                                                                               \n",
      "Trying threshold = 1.2689                                                                                                                                                                                                                                                              \n",
      " 72%|█████████████████████████████████████████████████████████████████████████████████████████████████████████████████████████████████████████████████████                                                          | 36/50 [03:35<01:48,  7.74s/trial, best loss: -3.2838174631299415]"
     ]
    },
    {
     "name": "stderr",
     "output_type": "stream",
     "text": [
      "                                                                                \r"
     ]
    },
    {
     "name": "stdout",
     "output_type": "stream",
     "text": [
      "1.269, 0.0                                                                                                                                                                                                                                                                             \n",
      "Trying threshold = 0.6234                                                                                                                                                                                                                                                              \n",
      " 74%|█████████████████████████████████████████████████████████████████████████████████████████████████████████████████████████████████████████████████████████▏                                                     | 37/50 [03:35<01:11,  5.49s/trial, best loss: -3.2838174631299415]"
     ]
    },
    {
     "name": "stderr",
     "output_type": "stream",
     "text": [
      "[Stage 6622:>                                                       (0 + 1) / 1]\r"
     ]
    },
    {
     "name": "stdout",
     "output_type": "stream",
     "text": [
      "CI width: 0.8055 / 0.7902                                                                                                                                                                                                                                                              \n",
      "0.623, 1.0193320611079209                                                                                                                                                                                                                                                              \n",
      "Trying threshold = 0.5688                                                                                                                                                                                                                                                              \n",
      " 76%|█████████████████████████████████████████████████████████████████████████████████████████████████████████████████████████████████████████████████████████████▎                                                 | 38/50 [03:55<01:55,  9.60s/trial, best loss: -3.2838174631299415]"
     ]
    },
    {
     "name": "stderr",
     "output_type": "stream",
     "text": [
      "[Stage 6641:>                                                       (0 + 1) / 1]\r"
     ]
    },
    {
     "name": "stdout",
     "output_type": "stream",
     "text": [
      "CI width: 0.7830 / 0.7165                                                                                                                                                                                                                                                              \n",
      "0.569, 1.0927392027360812                                                                                                                                                                                                                                                              \n",
      "Trying threshold = 0.9445                                                                                                                                                                                                                                                              \n",
      " 78%|█████████████████████████████████████████████████████████████████████████████████████████████████████████████████████████████████████████████████████████████████▍                                             | 39/50 [04:14<02:18, 12.58s/trial, best loss: -3.2838174631299415]"
     ]
    },
    {
     "name": "stderr",
     "output_type": "stream",
     "text": [
      "                                                                                \r"
     ]
    },
    {
     "name": "stdout",
     "output_type": "stream",
     "text": [
      "CI width: 1.0112 / 0.3387                                                                                                                                                                                                                                                              \n",
      "0.944, 2.985930726032911                                                                                                                                                                                                                                                               \n",
      "Trying threshold = 1.0955                                                                                                                                                                                                                                                              \n",
      "1.096, 0.0                                                                                                                                                                                                                                                                             \n",
      "Trying threshold = 0.7927                                                                                                                                                                                                                                                              \n",
      " 82%|█████████████████████████████████████████████████████████████████████████████████████████████████████████████████████████████████████████████████████████████████████████▋                                     | 41/50 [04:18<01:03,  7.05s/trial, best loss: -3.2838174631299415]"
     ]
    },
    {
     "name": "stderr",
     "output_type": "stream",
     "text": [
      "[Stage 6682:>                                                       (0 + 1) / 1]\r"
     ]
    },
    {
     "name": "stdout",
     "output_type": "stream",
     "text": [
      "CI width: 0.9642 / 0.9265                                                                                                                                                                                                                                                              \n",
      "0.793, 1.0406677980982784                                                                                                                                                                                                                                                              \n",
      "Trying threshold = 0.6942                                                                                                                                                                                                                                                              \n",
      " 84%|█████████████████████████████████████████████████████████████████████████████████████████████████████████████████████████████████████████████████████████████████████████████▉                                 | 42/50 [04:28<01:03,  7.93s/trial, best loss: -3.2838174631299415]"
     ]
    },
    {
     "name": "stderr",
     "output_type": "stream",
     "text": [
      "[Stage 6701:>                                                       (0 + 1) / 1]\r"
     ]
    },
    {
     "name": "stdout",
     "output_type": "stream",
     "text": [
      "CI width: 0.8742 / 0.8284                                                                                                                                                                                                                                                              \n",
      "0.694, 1.0551823895930545                                                                                                                                                                                                                                                              \n",
      "Trying threshold = 1.1365                                                                                                                                                                                                                                                              \n",
      " 86%|██████████████████████████████████████████████████████████████████████████████████████████████████████████████████████████████████████████████████████████████████████████████████                             | 43/50 [04:45<01:13, 10.52s/trial, best loss: -3.2838174631299415]"
     ]
    },
    {
     "name": "stderr",
     "output_type": "stream",
     "text": [
      "                                                                                \r"
     ]
    },
    {
     "name": "stdout",
     "output_type": "stream",
     "text": [
      "1.136, 0.0                                                                                                                                                                                                                                                                             \n",
      "Trying threshold = 0.9339                                                                                                                                                                                                                                                              \n",
      " 88%|██████████████████████████████████████████████████████████████████████████████████████████████████████████████████████████████████████████████████████████████████████████████████████▏                        | 44/50 [04:45<00:44,  7.44s/trial, best loss: -3.2838174631299415]"
     ]
    },
    {
     "name": "stderr",
     "output_type": "stream",
     "text": [
      "                                                                                \r"
     ]
    },
    {
     "name": "stdout",
     "output_type": "stream",
     "text": [
      "CI width: 1.0032 / 0.8076                                                                                                                                                                                                                                                              \n",
      "0.934, 1.2421784773184281                                                                                                                                                                                                                                                              \n",
      "Trying threshold = 0.5253                                                                                                                                                                                                                                                              \n",
      " 90%|██████████████████████████████████████████████████████████████████████████████████████████████████████████████████████████████████████████████████████████████████████████████████████████▎                    | 45/50 [04:49<00:32,  6.42s/trial, best loss: -3.2838174631299415]"
     ]
    },
    {
     "name": "stderr",
     "output_type": "stream",
     "text": [
      "[Stage 6742:>                                                       (0 + 1) / 1]\r"
     ]
    },
    {
     "name": "stdout",
     "output_type": "stream",
     "text": [
      "CI width: 0.7247 / 0.7055                                                                                                                                                                                                                                                              \n",
      "0.525, 1.0272455762451327                                                                                                                                                                                                                                                              \n",
      "Trying threshold = 1.3337                                                                                                                                                                                                                                                              \n",
      " 92%|██████████████████████████████████████████████████████████████████████████████████████████████████████████████████████████████████████████████████████████████████████████████████████████████▍                | 46/50 [05:08<00:41, 10.27s/trial, best loss: -3.2838174631299415]"
     ]
    },
    {
     "name": "stderr",
     "output_type": "stream",
     "text": [
      "                                                                                \r"
     ]
    },
    {
     "name": "stdout",
     "output_type": "stream",
     "text": [
      "1.334, 0.0                                                                                                                                                                                                                                                                             \n",
      "Trying threshold = 1.5323                                                                                                                                                                                                                                                              \n",
      "1.532, 0.0                                                                                                                                                                                                                                                                             \n",
      "Trying threshold = 1.4648                                                                                                                                                                                                                                                              \n",
      "1.465, 0.0                                                                                                                                                                                                                                                                             \n",
      "Trying threshold = 0.8240                                                                                                                                                                                                                                                              \n",
      " 98%|██████████████████████████████████████████████████████████████████████████████████████████████████████████████████████████████████████████████████████████████████████████████████████████████████████████▊    | 49/50 [05:09<00:03,  3.68s/trial, best loss: -3.2838174631299415]"
     ]
    },
    {
     "name": "stderr",
     "output_type": "stream",
     "text": [
      "[Stage 6770:>                                                       (0 + 1) / 1]\r"
     ]
    },
    {
     "name": "stdout",
     "output_type": "stream",
     "text": [
      "CI width: 0.9799 / 0.9571                                                                                                                                                                                                                                                              \n",
      "0.824, 1.0238454061054019                                                                                                                                                                                                                                                              \n",
      "100%|███████████████████████████████████████████████████████████████████████████████████████████████████████████████████████████████████████████████████████████████████████████████████████████████████████████████| 50/50 [05:17<00:00,  6.35s/trial, best loss: -3.2838174631299415]\n"
     ]
    },
    {
     "name": "stderr",
     "output_type": "stream",
     "text": [
      "                                                                                \r"
     ]
    },
    {
     "data": {
      "text/plain": [
       "{'threshold_log_mean_nn_dist': 0.9461039348101453}"
      ]
     },
     "execution_count": 26,
     "metadata": {},
     "output_type": "execute_result"
    }
   ],
   "source": [
    "trials = Trials()\n",
    "space = {\n",
    "    \"threshold_log_mean_nn_dist\": hp.uniform(\"threshold_log_mean_nn_dist\", min_nn_dist, max_nn_dist),\n",
    "}\n",
    "\n",
    "best = fmin(create_objective_function_single_regression_narrow_windows_ci_width(data_with_configs, 2.1, 2.2),\n",
    "            space=space,\n",
    "            algo=tpe.suggest,\n",
    "            trials=trials,\n",
    "            max_evals=50)\n",
    "best"
   ]
  },
  {
   "cell_type": "code",
   "execution_count": 27,
   "id": "24e177eb-743d-4449-ba3e-a3b1800d427c",
   "metadata": {},
   "outputs": [
    {
     "name": "stderr",
     "output_type": "stream",
     "text": [
      "[Stage 6779:>                                                       (0 + 1) / 1]\r"
     ]
    },
    {
     "name": "stdout",
     "output_type": "stream",
     "text": [
      "Trying threshold = 0.9596                                                                                                                                                                                                                                                              \n",
      "  0%|                                                                                                                                                                                                                                           | 0/50 [00:00<?, ?trial/s, best loss=?]"
     ]
    },
    {
     "name": "stderr",
     "output_type": "stream",
     "text": [
      "                                                                                \r"
     ]
    },
    {
     "name": "stdout",
     "output_type": "stream",
     "text": [
      "CI width: 0.7800 / 0.7501                                                                                                                                                                                                                                                              \n",
      "0.960, 1.0398163590438592                                                                                                                                                                                                                                                              \n",
      "Trying threshold = 1.1541                                                                                                                                                                                                                                                              \n",
      "CI width: 0.3365 / 0.2059                                                                                                                                                                                                                                                              \n",
      "1.154, 1.6344918208873933                                                                                                                                                                                                                                                              \n",
      "Trying threshold = 1.7434                                                                                                                                                                                                                                                              \n",
      "1.743, 0.0                                                                                                                                                                                                                                                                             \n",
      "Trying threshold = 1.5343                                                                                                                                                                                                                                                              \n",
      "1.534, 0.0                                                                                                                                                                                                                                                                             \n",
      "Trying threshold = 0.7293                                                                                                                                                                                                                                                              \n",
      "  8%|████████████████▋                                                                                                                                                                                               | 4/50 [00:08<01:01,  1.34s/trial, best loss: -1.6344918208873933]"
     ]
    },
    {
     "name": "stderr",
     "output_type": "stream",
     "text": [
      "                                                                                \r"
     ]
    },
    {
     "name": "stdout",
     "output_type": "stream",
     "text": [
      "CI width: 0.5302 / 0.5038                                                                                                                                                                                                                                                              \n",
      "0.729, 1.0523256282104718                                                                                                                                                                                                                                                              \n",
      "Trying threshold = 1.4545                                                                                                                                                                                                                                                              \n",
      "1.454, 0.0                                                                                                                                                                                                                                                                             \n",
      "Trying threshold = 1.5347                                                                                                                                                                                                                                                              \n",
      "1.535, 0.0                                                                                                                                                                                                                                                                             \n",
      "Trying threshold = 1.2569                                                                                                                                                                                                                                                              \n",
      "CI width: 0.1660 / 0.1437                                                                                                                                                                                                                                                              \n",
      "1.257, 1.154939565196005                                                                                                                                                                                                                                                               \n",
      "Trying threshold = 1.7183                                                                                                                                                                                                                                                              \n",
      "1.718, 0.0                                                                                                                                                                                                                                                                             \n",
      "Trying threshold = 0.9397                                                                                                                                                                                                                                                              \n",
      " 18%|█████████████████████████████████████▍                                                                                                                                                                          | 9/50 [00:19<00:58,  1.43s/trial, best loss: -1.6344918208873933]"
     ]
    },
    {
     "name": "stderr",
     "output_type": "stream",
     "text": [
      "                                                                                \r"
     ]
    },
    {
     "name": "stdout",
     "output_type": "stream",
     "text": [
      "CI width: 0.7729 / 0.7316                                                                                                                                                                                                                                                              \n",
      "0.940, 1.0564565263490422                                                                                                                                                                                                                                                              \n",
      "Trying threshold = 1.1693                                                                                                                                                                                                                                                              \n",
      " 20%|█████████████████████████████████████████▍                                                                                                                                                                     | 10/50 [00:25<01:50,  2.75s/trial, best loss: -1.6344918208873933]"
     ]
    },
    {
     "name": "stderr",
     "output_type": "stream",
     "text": [
      "                                                                                \r"
     ]
    },
    {
     "name": "stdout",
     "output_type": "stream",
     "text": [
      "CI width: 0.2533 / 0.1852                                                                                                                                                                                                                                                              \n",
      "1.169, 1.3680787744426404                                                                                                                                                                                                                                                              \n",
      "Trying threshold = 0.5836                                                                                                                                                                                                                                                              \n",
      " 22%|█████████████████████████████████████████████▌                                                                                                                                                                 | 11/50 [00:27<01:44,  2.69s/trial, best loss: -1.6344918208873933]"
     ]
    },
    {
     "name": "stderr",
     "output_type": "stream",
     "text": [
      "                                                                                \r"
     ]
    },
    {
     "name": "stdout",
     "output_type": "stream",
     "text": [
      "0.584, 0.0                                                                                                                                                                                                                                                                             \n",
      "Trying threshold = 1.5529                                                                                                                                                                                                                                                              \n",
      "1.553, 0.0                                                                                                                                                                                                                                                                             \n",
      "Trying threshold = 1.4434                                                                                                                                                                                                                                                              \n",
      "1.443, 0.0                                                                                                                                                                                                                                                                             \n",
      "Trying threshold = 0.4911                                                                                                                                                                                                                                                              \n",
      " 28%|█████████████████████████████████████████████████████████▉                                                                                                                                                     | 14/50 [00:34<01:11,  1.99s/trial, best loss: -1.6344918208873933]"
     ]
    },
    {
     "name": "stderr",
     "output_type": "stream",
     "text": [
      "                                                                                \r"
     ]
    },
    {
     "name": "stdout",
     "output_type": "stream",
     "text": [
      "0.491, 0.0                                                                                                                                                                                                                                                                             \n",
      "Trying threshold = 1.1855                                                                                                                                                                                                                                                              \n",
      "CI width: 0.2207 / 0.1746                                                                                                                                                                                                                                                              \n",
      "1.186, 1.2637799522681865                                                                                                                                                                                                                                                              \n",
      "Trying threshold = 1.1991                                                                                                                                                                                                                                                              \n",
      "CI width: 0.2050 / 0.1680                                                                                                                                                                                                                                                              \n",
      "1.199, 1.2205845035517298                                                                                                                                                                                                                                                              \n",
      "Trying threshold = 1.7713                                                                                                                                                                                                                                                              \n",
      "1.771, 0.0                                                                                                                                                                                                                                                                             \n",
      "Trying threshold = 1.7442                                                                                                                                                                                                                                                              \n",
      "1.744, 0.0                                                                                                                                                                                                                                                                             \n",
      "Trying threshold = 0.9611                                                                                                                                                                                                                                                              \n",
      " 38%|██████████████████████████████████████████████████████████████████████████████▋                                                                                                                                | 19/50 [00:46<00:48,  1.57s/trial, best loss: -1.6344918208873933]"
     ]
    },
    {
     "name": "stderr",
     "output_type": "stream",
     "text": [
      "                                                                                \r"
     ]
    },
    {
     "name": "stdout",
     "output_type": "stream",
     "text": [
      "CI width: 0.7802 / 0.7522                                                                                                                                                                                                                                                              \n",
      "0.961, 1.037281561615261                                                                                                                                                                                                                                                               \n",
      "Trying threshold = 1.0619                                                                                                                                                                                                                                                              \n",
      " 40%|██████████████████████████████████████████████████████████████████████████████████▊                                                                                                                            | 20/50 [00:51<01:18,  2.61s/trial, best loss: -1.6344918208873933]"
     ]
    },
    {
     "name": "stderr",
     "output_type": "stream",
     "text": [
      "                                                                                \r"
     ]
    },
    {
     "name": "stdout",
     "output_type": "stream",
     "text": [
      "CI width: 0.7206 / 0.5992                                                                                                                                                                                                                                                              \n",
      "1.062, 1.2026725971627594                                                                                                                                                                                                                                                              \n",
      "Trying threshold = 0.7777                                                                                                                                                                                                                                                              \n",
      " 42%|██████████████████████████████████████████████████████████████████████████████████████▉                                                                                                                        | 21/50 [00:54<01:19,  2.75s/trial, best loss: -1.6344918208873933]"
     ]
    },
    {
     "name": "stderr",
     "output_type": "stream",
     "text": [
      "[Stage 7033:=====================================>             (460 + 28) / 632]\r"
     ]
    },
    {
     "name": "stdout",
     "output_type": "stream",
     "text": [
      "CI width: 0.6336 / 0.5463                                                                                                                                                                                                                                                              \n",
      "0.778, 1.159851115856262                                                                                                                                                                                                                                                               \n",
      "Trying threshold = 1.3518                                                                                                                                                                                                                                                              \n",
      " 44%|███████████████████████████████████████████████████████████████████████████████████████████                                                                                                                    | 22/50 [01:03<02:04,  4.46s/trial, best loss: -1.6344918208873933]"
     ]
    },
    {
     "name": "stderr",
     "output_type": "stream",
     "text": [
      "                                                                                \r"
     ]
    },
    {
     "name": "stdout",
     "output_type": "stream",
     "text": [
      "1.352, 0.0                                                                                                                                                                                                                                                                             \n",
      "Trying threshold = 1.9151                                                                                                                                                                                                                                                              \n",
      "1.915, 0.0                                                                                                                                                                                                                                                                             \n",
      "Trying threshold = 1.0712                                                                                                                                                                                                                                                              \n",
      "CI width: 0.7010 / 0.5537                                                                                                                                                                                                                                                              \n",
      "1.071, 1.266009096752127                                                                                                                                                                                                                                                               \n",
      "Trying threshold = 0.7929                                                                                                                                                                                                                                                              \n",
      " 50%|███████████████████████████████████████████████████████████████████████████████████████████████████████▌                                                                                                       | 25/50 [01:06<01:02,  2.49s/trial, best loss: -1.6344918208873933]"
     ]
    },
    {
     "name": "stderr",
     "output_type": "stream",
     "text": [
      "[Stage 7079:>                                                       (0 + 1) / 1]\r"
     ]
    },
    {
     "name": "stdout",
     "output_type": "stream",
     "text": [
      "CI width: 0.6434 / 0.5850                                                                                                                                                                                                                                                              \n",
      "0.793, 1.0998787723840848                                                                                                                                                                                                                                                              \n",
      "Trying threshold = 1.3151                                                                                                                                                                                                                                                              \n",
      " 52%|███████████████████████████████████████████████████████████████████████████████████████████████████████████▋                                                                                                   | 26/50 [01:15<01:42,  4.27s/trial, best loss: -1.6344918208873933]"
     ]
    },
    {
     "name": "stderr",
     "output_type": "stream",
     "text": [
      "                                                                                \r"
     ]
    },
    {
     "name": "stdout",
     "output_type": "stream",
     "text": [
      "1.315, 0.0                                                                                                                                                                                                                                                                             \n",
      "Trying threshold = 1.0567                                                                                                                                                                                                                                                              \n",
      "CI width: 0.7331 / 0.6231                                                                                                                                                                                                                                                              \n",
      "1.057, 1.1765991558603164                                                                                                                                                                                                                                                              \n",
      "Trying threshold = 0.8934                                                                                                                                                                                                                                                              \n",
      " 56%|███████████████████████████████████████████████████████████████████████████████████████████████████████████████████▉                                                                                           | 28/50 [01:18<01:06,  3.04s/trial, best loss: -1.6344918208873933]"
     ]
    },
    {
     "name": "stderr",
     "output_type": "stream",
     "text": [
      "[Stage 7120:>                                                       (0 + 1) / 1]\r"
     ]
    },
    {
     "name": "stdout",
     "output_type": "stream",
     "text": [
      "CI width: 0.7247 / 0.6935                                                                                                                                                                                                                                                              \n",
      "0.893, 1.0450672978348146                                                                                                                                                                                                                                                              \n",
      "Trying threshold = 1.0950                                                                                                                                                                                                                                                              \n",
      " 58%|████████████████████████████████████████████████████████████████████████████████████████████████████████████████████████                                                                                       | 29/50 [01:25<01:28,  4.22s/trial, best loss: -1.6344918208873933]"
     ]
    },
    {
     "name": "stderr",
     "output_type": "stream",
     "text": [
      "                                                                                \r"
     ]
    },
    {
     "name": "stdout",
     "output_type": "stream",
     "text": [
      "CI width: 0.6268 / 0.4596                                                                                                                                                                                                                                                              \n",
      "1.095, 1.3637476839622273                                                                                                                                                                                                                                                              \n",
      "Trying threshold = 0.6101                                                                                                                                                                                                                                                              \n",
      " 60%|████████████████████████████████████████████████████████████████████████████████████████████████████████████████████████████▏                                                                                  | 30/50 [01:28<01:16,  3.81s/trial, best loss: -1.6344918208873933]"
     ]
    },
    {
     "name": "stderr",
     "output_type": "stream",
     "text": [
      "                                                                                \r"
     ]
    },
    {
     "name": "stdout",
     "output_type": "stream",
     "text": [
      "0.610, 0.0                                                                                                                                                                                                                                                                             \n",
      "Trying threshold = 1.1781                                                                                                                                                                                                                                                              \n",
      "CI width: 0.2340 / 0.1774                                                                                                                                                                                                                                                              \n",
      "1.178, 1.3192415404041675                                                                                                                                                                                                                                                              \n",
      "Trying threshold = 1.3769                                                                                                                                                                                                                                                              \n",
      "1.377, 0.0                                                                                                                                                                                                                                                                             \n",
      "Trying threshold = 0.8691                                                                                                                                                                                                                                                              \n",
      " 66%|████████████████████████████████████████████████████████████████████████████████████████████████████████████████████████████████████████▌                                                                      | 33/50 [01:37<00:48,  2.85s/trial, best loss: -1.6344918208873933]"
     ]
    },
    {
     "name": "stderr",
     "output_type": "stream",
     "text": [
      "[Stage 7190:>                                                       (0 + 1) / 1]\r"
     ]
    },
    {
     "name": "stdout",
     "output_type": "stream",
     "text": [
      "CI width: 0.7080 / 0.6680                                                                                                                                                                                                                                                              \n",
      "0.869, 1.0598956923856664                                                                                                                                                                                                                                                              \n",
      "Trying threshold = 1.6308                                                                                                                                                                                                                                                              \n",
      " 68%|████████████████████████████████████████████████████████████████████████████████████████████████████████████████████████████████████████████▊                                                                  | 34/50 [01:44<01:06,  4.17s/trial, best loss: -1.6344918208873933]"
     ]
    },
    {
     "name": "stderr",
     "output_type": "stream",
     "text": [
      "                                                                                \r"
     ]
    },
    {
     "name": "stdout",
     "output_type": "stream",
     "text": [
      "1.631, 0.0                                                                                                                                                                                                                                                                             \n",
      "Trying threshold = 1.9138                                                                                                                                                                                                                                                              \n",
      "1.914, 0.0                                                                                                                                                                                                                                                                             \n",
      "Trying threshold = 0.6561                                                                                                                                                                                                                                                              \n",
      " 72%|█████████████████████████████████████████████████████████████████████████████████████████████████████████████████████████████████████████████████████                                                          | 36/50 [01:45<00:30,  2.15s/trial, best loss: -1.6344918208873933]"
     ]
    },
    {
     "name": "stderr",
     "output_type": "stream",
     "text": [
      "                                                                                \r"
     ]
    },
    {
     "name": "stdout",
     "output_type": "stream",
     "text": [
      "CI width: 0.3755 / 0.0063                                                                                                                                                                                                                                                              \n",
      "0.656, 59.14725986723666                                                                                                                                                                                                                                                               \n",
      "Trying threshold = 0.6840                                                                                                                                                                                                                                                              \n",
      " 74%|█████████████████████████████████████████████████████████████████████████████████████████████████████████████████████████████████████████████████████████▉                                                      | 37/50 [01:52<00:48,  3.75s/trial, best loss: -59.14725986723666]"
     ]
    },
    {
     "name": "stderr",
     "output_type": "stream",
     "text": [
      "                                                                                \r"
     ]
    },
    {
     "name": "stdout",
     "output_type": "stream",
     "text": [
      "CI width: 0.4939 / 0.3214                                                                                                                                                                                                                                                              \n",
      "0.684, 1.536581819980459                                                                                                                                                                                                                                                               \n",
      "Trying threshold = 0.5217                                                                                                                                                                                                                                                              \n",
      " 76%|██████████████████████████████████████████████████████████████████████████████████████████████████████████████████████████████████████████████████████████████                                                  | 38/50 [02:00<00:59,  4.96s/trial, best loss: -59.14725986723666]"
     ]
    },
    {
     "name": "stderr",
     "output_type": "stream",
     "text": [
      "                                                                                \r"
     ]
    },
    {
     "name": "stdout",
     "output_type": "stream",
     "text": [
      "0.522, 0.0                                                                                                                                                                                                                                                                             \n",
      "Trying threshold = 0.6882                                                                                                                                                                                                                                                              \n",
      " 78%|██████████████████████████████████████████████████████████████████████████████████████████████████████████████████████████████████████████████████████████████████▏                                             | 39/50 [02:06<00:59,  5.38s/trial, best loss: -59.14725986723666]"
     ]
    },
    {
     "name": "stderr",
     "output_type": "stream",
     "text": [
      "                                                                                \r"
     ]
    },
    {
     "name": "stdout",
     "output_type": "stream",
     "text": [
      "CI width: 0.5017 / 0.3369                                                                                                                                                                                                                                                              \n",
      "0.688, 1.489506055414288                                                                                                                                                                                                                                                               \n",
      "Trying threshold = 0.9970                                                                                                                                                                                                                                                              \n",
      " 80%|██████████████████████████████████████████████████████████████████████████████████████████████████████████████████████████████████████████████████████████████████████▍                                         | 40/50 [02:14<01:00,  6.06s/trial, best loss: -59.14725986723666]"
     ]
    },
    {
     "name": "stderr",
     "output_type": "stream",
     "text": [
      "                                                                                \r"
     ]
    },
    {
     "name": "stdout",
     "output_type": "stream",
     "text": [
      "CI width: 0.7811 / 0.7600                                                                                                                                                                                                                                                              \n",
      "0.997, 1.0276655892566895                                                                                                                                                                                                                                                              \n",
      "Trying threshold = 0.4593                                                                                                                                                                                                                                                              \n",
      " 82%|██████████████████████████████████████████████████████████████████████████████████████████████████████████████████████████████████████████████████████████████████████████▌                                     | 41/50 [02:18<00:48,  5.43s/trial, best loss: -59.14725986723666]"
     ]
    },
    {
     "name": "stderr",
     "output_type": "stream",
     "text": [
      "[Stage 7288:============================================>      (550 + 28) / 632]\r"
     ]
    },
    {
     "name": "stdout",
     "output_type": "stream",
     "text": [
      "0.459, 0.0                                                                                                                                                                                                                                                                             \n",
      "Trying threshold = 0.8461                                                                                                                                                                                                                                                              \n",
      " 84%|██████████████████████████████████████████████████████████████████████████████████████████████████████████████████████████████████████████████████████████████████████████████▋                                 | 42/50 [02:24<00:45,  5.71s/trial, best loss: -59.14725986723666]"
     ]
    },
    {
     "name": "stderr",
     "output_type": "stream",
     "text": [
      "[Stage 7311:>                                                       (0 + 1) / 1]\r"
     ]
    },
    {
     "name": "stdout",
     "output_type": "stream",
     "text": [
      "CI width: 0.6844 / 0.6514                                                                                                                                                                                                                                                              \n",
      "0.846, 1.0505986201785464                                                                                                                                                                                                                                                              \n",
      "Trying threshold = 1.2722                                                                                                                                                                                                                                                              \n",
      " 86%|██████████████████████████████████████████████████████████████████████████████████████████████████████████████████████████████████████████████████████████████████████████████████▉                             | 43/50 [02:32<00:44,  6.30s/trial, best loss: -59.14725986723666]"
     ]
    },
    {
     "name": "stderr",
     "output_type": "stream",
     "text": [
      "                                                                                \r"
     ]
    },
    {
     "name": "stdout",
     "output_type": "stream",
     "text": [
      "1.272, 0.0                                                                                                                                                                                                                                                                             \n",
      "Trying threshold = 1.4397                                                                                                                                                                                                                                                              \n",
      "1.440, 0.0                                                                                                                                                                                                                                                                             \n",
      "Trying threshold = 0.5797                                                                                                                                                                                                                                                              \n",
      " 90%|███████████████████████████████████████████████████████████████████████████████████████████████████████████████████████████████████████████████████████████████████████████████████████████▏                    | 45/50 [02:32<00:16,  3.20s/trial, best loss: -59.14725986723666]"
     ]
    },
    {
     "name": "stderr",
     "output_type": "stream",
     "text": [
      "[Stage 7323:==============================================>    (579 + 28) / 632]\r"
     ]
    },
    {
     "name": "stdout",
     "output_type": "stream",
     "text": [
      "0.580, 0.0                                                                                                                                                                                                                                                                             \n",
      "Trying threshold = 1.6426                                                                                                                                                                                                                                                              \n",
      " 92%|███████████████████████████████████████████████████████████████████████████████████████████████████████████████████████████████████████████████████████████████████████████████████████████████▎                | 46/50 [02:39<00:16,  4.15s/trial, best loss: -59.14725986723666]"
     ]
    },
    {
     "name": "stderr",
     "output_type": "stream",
     "text": [
      "                                                                                \r"
     ]
    },
    {
     "name": "stdout",
     "output_type": "stream",
     "text": [
      "1.643, 0.0                                                                                                                                                                                                                                                                             \n",
      "Trying threshold = 1.8578                                                                                                                                                                                                                                                              \n",
      "1.858, 0.0                                                                                                                                                                                                                                                                             \n",
      "Trying threshold = 0.6446                                                                                                                                                                                                                                                              \n",
      " 96%|███████████████████████████████████████████████████████████████████████████████████████████████████████████████████████████████████████████████████████████████████████████████████████████████████████▋        | 48/50 [02:39<00:04,  2.14s/trial, best loss: -59.14725986723666]"
     ]
    },
    {
     "name": "stderr",
     "output_type": "stream",
     "text": [
      "[Stage 7339:================================================>  (603 + 28) / 632]\r"
     ]
    },
    {
     "name": "stdout",
     "output_type": "stream",
     "text": [
      "0.645, 0.0                                                                                                                                                                                                                                                                             \n",
      "Trying threshold = 0.7413                                                                                                                                                                                                                                                              \n",
      " 98%|███████████████████████████████████████████████████████████████████████████████████████████████████████████████████████████████████████████████████████████████████████████████████████████████████████████▊    | 49/50 [02:46<00:03,  3.40s/trial, best loss: -59.14725986723666]"
     ]
    },
    {
     "name": "stderr",
     "output_type": "stream",
     "text": [
      "[Stage 7360:=========================================>         (515 + 30) / 632]\r"
     ]
    },
    {
     "name": "stdout",
     "output_type": "stream",
     "text": [
      "CI width: 0.5590 / 0.5211                                                                                                                                                                                                                                                              \n",
      "0.741, 1.0728048024017423                                                                                                                                                                                                                                                              \n",
      "100%|████████████████████████████████████████████████████████████████████████████████████████████████████████████████████████████████████████████████████████████████████████████████████████████████████████████████| 50/50 [02:54<00:00,  3.48s/trial, best loss: -59.14725986723666]\n"
     ]
    },
    {
     "name": "stderr",
     "output_type": "stream",
     "text": [
      "                                                                                \r"
     ]
    },
    {
     "data": {
      "text/plain": [
       "{'threshold_log_mean_nn_dist': 0.6561326518227031}"
      ]
     },
     "execution_count": 27,
     "metadata": {},
     "output_type": "execute_result"
    }
   ],
   "source": [
    "trials = Trials()\n",
    "space = {\n",
    "    \"threshold_log_mean_nn_dist\": hp.uniform(\"threshold_log_mean_nn_dist\", min_nn_dist, max_nn_dist),\n",
    "}\n",
    "\n",
    "best = fmin(create_objective_function_single_regression_narrow_windows_ci_width(data_with_configs, 1.5, 1.6),\n",
    "            space=space,\n",
    "            algo=tpe.suggest,\n",
    "            trials=trials,\n",
    "            max_evals=50)\n",
    "best"
   ]
  },
  {
   "cell_type": "code",
   "execution_count": 28,
   "id": "19b8acbc-d416-43a7-a831-5cddb44b29fe",
   "metadata": {},
   "outputs": [
    {
     "name": "stderr",
     "output_type": "stream",
     "text": [
      "[Stage 7371:>                                                       (0 + 1) / 1]\r"
     ]
    },
    {
     "name": "stdout",
     "output_type": "stream",
     "text": [
      "Trying threshold = 1.7405                                                                                                                                                                                                                                                              \n",
      "  0%|                                                                                                                                                                                                                                           | 0/50 [00:00<?, ?trial/s, best loss=?]"
     ]
    },
    {
     "name": "stderr",
     "output_type": "stream",
     "text": [
      "                                                                                \r"
     ]
    },
    {
     "name": "stdout",
     "output_type": "stream",
     "text": [
      "1.740, 0.0                                                                                                                                                                                                                                                                             \n",
      "Trying threshold = 0.6187                                                                                                                                                                                                                                                              \n",
      "  2%|████▍                                                                                                                                                                                                                          | 1/50 [00:00<00:14,  3.41trial/s, best loss: -0.0]"
     ]
    },
    {
     "name": "stderr",
     "output_type": "stream",
     "text": [
      "[Stage 7393:>                                                       (0 + 1) / 1]\r"
     ]
    },
    {
     "name": "stdout",
     "output_type": "stream",
     "text": [
      "CI width: 0.8447 / 0.7626                                                                                                                                                                                                                                                              \n",
      "0.619, 1.1076058550915204                                                                                                                                                                                                                                                              \n",
      "Trying threshold = 0.7056                                                                                                                                                                                                                                                              \n",
      "  4%|████████▎                                                                                                                                                                                                       | 2/50 [00:15<07:13,  9.03s/trial, best loss: -1.1076058550915204]"
     ]
    },
    {
     "name": "stderr",
     "output_type": "stream",
     "text": [
      "[Stage 7412:>                                                       (0 + 1) / 1]\r"
     ]
    },
    {
     "name": "stdout",
     "output_type": "stream",
     "text": [
      "CI width: 0.9148 / 0.8515                                                                                                                                                                                                                                                              \n",
      "0.706, 1.0743539918018108                                                                                                                                                                                                                                                              \n",
      "Trying threshold = 1.7246                                                                                                                                                                                                                                                              \n",
      "  6%|████████████▍                                                                                                                                                                                                   | 3/50 [00:28<08:23, 10.70s/trial, best loss: -1.1076058550915204]"
     ]
    },
    {
     "name": "stderr",
     "output_type": "stream",
     "text": [
      "                                                                                \r"
     ]
    },
    {
     "name": "stdout",
     "output_type": "stream",
     "text": [
      "1.725, 0.0                                                                                                                                                                                                                                                                             \n",
      "Trying threshold = 0.7944                                                                                                                                                                                                                                                              \n",
      "  8%|████████████████▋                                                                                                                                                                                               | 4/50 [00:28<05:02,  6.57s/trial, best loss: -1.1076058550915204]"
     ]
    },
    {
     "name": "stderr",
     "output_type": "stream",
     "text": [
      "[Stage 7434:>                                                       (0 + 1) / 1]\r"
     ]
    },
    {
     "name": "stdout",
     "output_type": "stream",
     "text": [
      "CI width: 0.9612 / 0.9152                                                                                                                                                                                                                                                              \n",
      "0.794, 1.0502733032566152                                                                                                                                                                                                                                                              \n",
      "Trying threshold = 1.8099                                                                                                                                                                                                                                                              \n",
      " 10%|████████████████████▊                                                                                                                                                                                           | 5/50 [00:38<05:54,  7.88s/trial, best loss: -1.1076058550915204]"
     ]
    },
    {
     "name": "stderr",
     "output_type": "stream",
     "text": [
      "                                                                                \r"
     ]
    },
    {
     "name": "stdout",
     "output_type": "stream",
     "text": [
      "1.810, 0.0                                                                                                                                                                                                                                                                             \n",
      "Trying threshold = 0.9490                                                                                                                                                                                                                                                              \n",
      " 12%|████████████████████████▉                                                                                                                                                                                       | 6/50 [00:38<03:51,  5.27s/trial, best loss: -1.1076058550915204]"
     ]
    },
    {
     "name": "stderr",
     "output_type": "stream",
     "text": [
      "                                                                                \r"
     ]
    },
    {
     "name": "stdout",
     "output_type": "stream",
     "text": [
      "CI width: 1.0391 / 1.0152                                                                                                                                                                                                                                                              \n",
      "0.949, 1.023521230618414                                                                                                                                                                                                                                                               \n",
      "Trying threshold = 0.4597                                                                                                                                                                                                                                                              \n",
      " 14%|█████████████████████████████                                                                                                                                                                                   | 7/50 [00:43<03:36,  5.03s/trial, best loss: -1.1076058550915204]"
     ]
    },
    {
     "name": "stderr",
     "output_type": "stream",
     "text": [
      "                                                                                \r"
     ]
    },
    {
     "name": "stdout",
     "output_type": "stream",
     "text": [
      "0.460, 0.0                                                                                                                                                                                                                                                                             \n",
      "Trying threshold = 1.8680                                                                                                                                                                                                                                                              \n",
      "1.868, 0.0                                                                                                                                                                                                                                                                             \n",
      "Trying threshold = 0.9588                                                                                                                                                                                                                                                              \n",
      " 18%|█████████████████████████████████████▍                                                                                                                                                                          | 9/50 [00:55<03:31,  5.15s/trial, best loss: -1.1076058550915204]"
     ]
    },
    {
     "name": "stderr",
     "output_type": "stream",
     "text": [
      "                                                                                \r"
     ]
    },
    {
     "name": "stdout",
     "output_type": "stream",
     "text": [
      "CI width: 1.0502 / 1.0267                                                                                                                                                                                                                                                              \n",
      "0.959, 1.022877846548316                                                                                                                                                                                                                                                               \n",
      "Trying threshold = 1.9038                                                                                                                                                                                                                                                              \n",
      "1.904, 0.0                                                                                                                                                                                                                                                                             \n",
      "Trying threshold = 1.0897                                                                                                                                                                                                                                                              \n",
      "1.090, 0.0                                                                                                                                                                                                                                                                             \n",
      "Trying threshold = 1.7596                                                                                                                                                                                                                                                              \n",
      "1.760, 0.0                                                                                                                                                                                                                                                                             \n",
      "Trying threshold = 1.5799                                                                                                                                                                                                                                                              \n",
      "1.580, 0.0                                                                                                                                                                                                                                                                             \n",
      "Trying threshold = 1.6494                                                                                                                                                                                                                                                              \n",
      "1.649, 0.0                                                                                                                                                                                                                                                                             \n",
      "Trying threshold = 0.9908                                                                                                                                                                                                                                                              \n",
      "CI width: 1.0618 / 0.9942                                                                                                                                                                                                                                                              \n",
      "0.991, 1.0680181533181847                                                                                                                                                                                                                                                              \n",
      "Trying threshold = 1.2801                                                                                                                                                                                                                                                              \n",
      "1.280, 0.0                                                                                                                                                                                                                                                                             \n",
      "Trying threshold = 1.5506                                                                                                                                                                                                                                                              \n",
      "1.551, 0.0                                                                                                                                                                                                                                                                             \n",
      "Trying threshold = 1.6262                                                                                                                                                                                                                                                              \n",
      "1.626, 0.0                                                                                                                                                                                                                                                                             \n",
      "Trying threshold = 1.8509                                                                                                                                                                                                                                                              \n",
      "1.851, 0.0                                                                                                                                                                                                                                                                             \n",
      "Trying threshold = 0.5057                                                                                                                                                                                                                                                              \n",
      " 40%|██████████████████████████████████████████████████████████████████████████████████▊                                                                                                                            | 20/50 [01:06<00:18,  1.62trial/s, best loss: -1.1076058550915204]"
     ]
    },
    {
     "name": "stderr",
     "output_type": "stream",
     "text": [
      "                                                                                \r"
     ]
    },
    {
     "name": "stdout",
     "output_type": "stream",
     "text": [
      "CI width: 0.7553 / 0.7047                                                                                                                                                                                                                                                              \n",
      "0.506, 1.0718144355479018                                                                                                                                                                                                                                                              \n",
      "Trying threshold = 0.6569                                                                                                                                                                                                                                                              \n",
      " 42%|██████████████████████████████████████████████████████████████████████████████████████▉                                                                                                                        | 21/50 [01:19<02:08,  4.43s/trial, best loss: -1.1076058550915204]"
     ]
    },
    {
     "name": "stderr",
     "output_type": "stream",
     "text": [
      "[Stage 7572:>                                                       (0 + 1) / 1]\r"
     ]
    },
    {
     "name": "stdout",
     "output_type": "stream",
     "text": [
      "CI width: 0.8554 / 0.8396                                                                                                                                                                                                                                                              \n",
      "0.657, 1.0187965465655255                                                                                                                                                                                                                                                              \n",
      "Trying threshold = 0.6418                                                                                                                                                                                                                                                              \n",
      " 44%|███████████████████████████████████████████████████████████████████████████████████████████                                                                                                                    | 22/50 [01:33<03:26,  7.36s/trial, best loss: -1.1076058550915204]"
     ]
    },
    {
     "name": "stderr",
     "output_type": "stream",
     "text": [
      "[Stage 7591:>                                                       (0 + 1) / 1]\r"
     ]
    },
    {
     "name": "stdout",
     "output_type": "stream",
     "text": [
      "CI width: 0.8615 / 0.8145                                                                                                                                                                                                                                                              \n",
      "0.642, 1.0577053337432483                                                                                                                                                                                                                                                              \n",
      "Trying threshold = 0.7629                                                                                                                                                                                                                                                              \n",
      " 46%|███████████████████████████████████████████████████████████████████████████████████████████████▏                                                                                                               | 23/50 [01:47<04:12,  9.36s/trial, best loss: -1.1076058550915204]"
     ]
    },
    {
     "name": "stderr",
     "output_type": "stream",
     "text": [
      "[Stage 7610:>                                                       (0 + 1) / 1]\r"
     ]
    },
    {
     "name": "stdout",
     "output_type": "stream",
     "text": [
      "CI width: 0.9228 / 0.9225                                                                                                                                                                                                                                                              \n",
      "0.763, 1.000283526893413                                                                                                                                                                                                                                                               \n",
      "Trying threshold = 1.3226                                                                                                                                                                                                                                                              \n",
      " 48%|███████████████████████████████████████████████████████████████████████████████████████████████████▎                                                                                                           | 24/50 [01:58<04:17,  9.89s/trial, best loss: -1.1076058550915204]"
     ]
    },
    {
     "name": "stderr",
     "output_type": "stream",
     "text": [
      "                                                                                \r"
     ]
    },
    {
     "name": "stdout",
     "output_type": "stream",
     "text": [
      "1.323, 0.0                                                                                                                                                                                                                                                                             \n",
      "Trying threshold = 0.5635                                                                                                                                                                                                                                                              \n",
      " 50%|███████████████████████████████████████████████████████████████████████████████████████████████████████▌                                                                                                       | 25/50 [01:58<02:54,  7.00s/trial, best loss: -1.1076058550915204]"
     ]
    },
    {
     "name": "stderr",
     "output_type": "stream",
     "text": [
      "[Stage 7630:=========================================>         (511 + 28) / 632]\r"
     ]
    },
    {
     "name": "stdout",
     "output_type": "stream",
     "text": [
      "CI width: 0.7404 / 0.7365                                                                                                                                                                                                                                                              \n",
      "0.564, 1.0053692892061041                                                                                                                                                                                                                                                              \n",
      "Trying threshold = 0.8059                                                                                                                                                                                                                                                              \n",
      " 52%|███████████████████████████████████████████████████████████████████████████████████████████████████████████▋                                                                                                   | 26/50 [02:13<03:39,  9.14s/trial, best loss: -1.1076058550915204]"
     ]
    },
    {
     "name": "stderr",
     "output_type": "stream",
     "text": [
      "[Stage 7651:>                                                       (0 + 1) / 1]\r"
     ]
    },
    {
     "name": "stdout",
     "output_type": "stream",
     "text": [
      "CI width: 0.9637 / 0.9202                                                                                                                                                                                                                                                              \n",
      "0.806, 1.0472793967600857                                                                                                                                                                                                                                                              \n",
      "Trying threshold = 1.4224                                                                                                                                                                                                                                                              \n",
      " 54%|███████████████████████████████████████████████████████████████████████████████████████████████████████████████▊                                                                                               | 27/50 [02:22<03:33,  9.28s/trial, best loss: -1.1076058550915204]"
     ]
    },
    {
     "name": "stderr",
     "output_type": "stream",
     "text": [
      "                                                                                \r"
     ]
    },
    {
     "name": "stdout",
     "output_type": "stream",
     "text": [
      "1.422, 0.0                                                                                                                                                                                                                                                                             \n",
      "Trying threshold = 1.1316                                                                                                                                                                                                                                                              \n",
      "1.132, 0.0                                                                                                                                                                                                                                                                             \n",
      "Trying threshold = 0.7113                                                                                                                                                                                                                                                              \n",
      " 58%|████████████████████████████████████████████████████████████████████████████████████████████████████████████████████████                                                                                       | 29/50 [02:23<01:37,  4.67s/trial, best loss: -1.1076058550915204]"
     ]
    },
    {
     "name": "stderr",
     "output_type": "stream",
     "text": [
      "[Stage 7676:>                                                       (0 + 1) / 1]\r"
     ]
    },
    {
     "name": "stdout",
     "output_type": "stream",
     "text": [
      "CI width: 0.9186 / 0.8607                                                                                                                                                                                                                                                              \n",
      "0.711, 1.0672137751943782                                                                                                                                                                                                                                                              \n",
      "Trying threshold = 0.5784                                                                                                                                                                                                                                                              \n",
      " 60%|████████████████████████████████████████████████████████████████████████████████████████████████████████████████████████████▏                                                                                  | 30/50 [02:35<02:19,  6.99s/trial, best loss: -1.1076058550915204]"
     ]
    },
    {
     "name": "stderr",
     "output_type": "stream",
     "text": [
      "[Stage 7693:================================================>  (599 + 28) / 632]\r"
     ]
    },
    {
     "name": "stdout",
     "output_type": "stream",
     "text": [
      "CI width: 0.7738 / 0.7269                                                                                                                                                                                                                                                              \n",
      "0.578, 1.064588347654709                                                                                                                                                                                                                                                               \n",
      "Trying threshold = 0.9203                                                                                                                                                                                                                                                              \n",
      " 62%|████████████████████████████████████████████████████████████████████████████████████████████████████████████████████████████████▎                                                                              | 31/50 [02:50<02:56,  9.29s/trial, best loss: -1.1076058550915204]"
     ]
    },
    {
     "name": "stderr",
     "output_type": "stream",
     "text": [
      "[Stage 7712:===================================================>(631 + 1) / 632]\r"
     ]
    },
    {
     "name": "stdout",
     "output_type": "stream",
     "text": [
      "CI width: 1.0146 / 1.0013                                                                                                                                                                                                                                                              \n",
      "0.920, 1.0133017372207072                                                                                                                                                                                                                                                              \n",
      "Trying threshold = 0.8626                                                                                                                                                                                                                                                              \n",
      " 64%|████████████████████████████████████████████████████████████████████████████████████████████████████████████████████████████████████▍                                                                          | 32/50 [02:55<02:25,  8.07s/trial, best loss: -1.1076058550915204]"
     ]
    },
    {
     "name": "stderr",
     "output_type": "stream",
     "text": [
      "[Stage 7733:>                                                       (0 + 1) / 1]\r"
     ]
    },
    {
     "name": "stdout",
     "output_type": "stream",
     "text": [
      "CI width: 0.9889 / 0.9705                                                                                                                                                                                                                                                              \n",
      "0.863, 1.019026372257292                                                                                                                                                                                                                                                               \n",
      "Trying threshold = 1.0840                                                                                                                                                                                                                                                              \n",
      " 66%|████████████████████████████████████████████████████████████████████████████████████████████████████████████████████████████████████████▌                                                                      | 33/50 [03:02<02:12,  7.81s/trial, best loss: -1.1076058550915204]"
     ]
    },
    {
     "name": "stderr",
     "output_type": "stream",
     "text": [
      "                                                                                \r"
     ]
    },
    {
     "name": "stdout",
     "output_type": "stream",
     "text": [
      "1.084, 0.0                                                                                                                                                                                                                                                                             \n",
      "Trying threshold = 0.4733                                                                                                                                                                                                                                                              \n",
      " 68%|████████████████████████████████████████████████████████████████████████████████████████████████████████████████████████████████████████████▊                                                                  | 34/50 [03:02<01:28,  5.56s/trial, best loss: -1.1076058550915204]"
     ]
    },
    {
     "name": "stderr",
     "output_type": "stream",
     "text": [
      "                                                                                \r"
     ]
    },
    {
     "name": "stdout",
     "output_type": "stream",
     "text": [
      "0.473, 0.0                                                                                                                                                                                                                                                                             \n",
      "Trying threshold = 0.8478                                                                                                                                                                                                                                                              \n",
      " 70%|████████████████████████████████████████████████████████████████████████████████████████████████████████████████████████████████████████████████▉                                                              | 35/50 [03:15<01:54,  7.61s/trial, best loss: -1.1076058550915204]"
     ]
    },
    {
     "name": "stderr",
     "output_type": "stream",
     "text": [
      "[Stage 7765:>                                                       (0 + 1) / 1]\r"
     ]
    },
    {
     "name": "stdout",
     "output_type": "stream",
     "text": [
      "CI width: 0.9850 / 0.9616                                                                                                                                                                                                                                                              \n",
      "0.848, 1.0243034576881507                                                                                                                                                                                                                                                              \n",
      "Trying threshold = 0.7286                                                                                                                                                                                                                                                              \n",
      " 72%|█████████████████████████████████████████████████████████████████████████████████████████████████████████████████████████████████████████████████████                                                          | 36/50 [03:23<01:47,  7.71s/trial, best loss: -1.1076058550915204]"
     ]
    },
    {
     "name": "stderr",
     "output_type": "stream",
     "text": [
      "[Stage 7784:>                                                       (0 + 1) / 1]\r"
     ]
    },
    {
     "name": "stdout",
     "output_type": "stream",
     "text": [
      "CI width: 0.9173 / 0.8815                                                                                                                                                                                                                                                              \n",
      "0.729, 1.040593806996368                                                                                                                                                                                                                                                               \n",
      "Trying threshold = 1.2391                                                                                                                                                                                                                                                              \n",
      " 74%|█████████████████████████████████████████████████████████████████████████████████████████████████████████████████████████████████████████████████████████▏                                                     | 37/50 [03:35<01:58,  9.09s/trial, best loss: -1.1076058550915204]"
     ]
    },
    {
     "name": "stderr",
     "output_type": "stream",
     "text": [
      "                                                                                \r"
     ]
    },
    {
     "name": "stdout",
     "output_type": "stream",
     "text": [
      "1.239, 0.0                                                                                                                                                                                                                                                                             \n",
      "Trying threshold = 1.0185                                                                                                                                                                                                                                                              \n",
      " 76%|█████████████████████████████████████████████████████████████████████████████████████████████████████████████████████████████████████████████████████████████▎                                                 | 38/50 [03:35<01:17,  6.42s/trial, best loss: -1.1076058550915204]"
     ]
    },
    {
     "name": "stderr",
     "output_type": "stream",
     "text": [
      "                                                                                \r"
     ]
    },
    {
     "name": "stdout",
     "output_type": "stream",
     "text": [
      "CI width: 1.0121 / 0.8785                                                                                                                                                                                                                                                              \n",
      "1.019, 1.1519741940431973                                                                                                                                                                                                                                                              \n",
      "Trying threshold = 1.3695                                                                                                                                                                                                                                                              \n",
      "1.370, 0.0                                                                                                                                                                                                                                                                             \n",
      "Trying threshold = 0.9993                                                                                                                                                                                                                                                              \n",
      "CI width: 1.0592 / 0.9726                                                                                                                                                                                                                                                              \n",
      "0.999, 1.0890807946504275                                                                                                                                                                                                                                                              \n",
      "Trying threshold = 1.1645                                                                                                                                                                                                                                                              \n",
      "1.164, 0.0                                                                                                                                                                                                                                                                             \n",
      "Trying threshold = 1.4627                                                                                                                                                                                                                                                              \n",
      "1.463, 0.0                                                                                                                                                                                                                                                                             \n",
      "Trying threshold = 1.0576                                                                                                                                                                                                                                                              \n",
      "CI width: 0.8874 / 0.1751                                                                                                                                                                                                                                                              \n",
      "1.058, 5.068887963915302                                                                                                                                                                                                                                                               \n",
      "Trying threshold = 1.2035                                                                                                                                                                                                                                                              \n",
      "1.204, 0.0                                                                                                                                                                                                                                                                             \n",
      "Trying threshold = 1.0764                                                                                                                                                                                                                                                              \n",
      "CI width: 0.8365 / 0.1278                                                                                                                                                                                                                                                              \n",
      "1.076, 6.5427846691642895                                                                                                                                                                                                                                                              \n",
      "Trying threshold = 1.0521                                                                                                                                                                                                                                                              \n",
      "CI width: 0.9138 / 0.4954                                                                                                                                                                                                                                                              \n",
      "1.052, 1.84459731319596                                                                                                                                                                                                                                                                \n",
      "Trying threshold = 1.4676                                                                                                                                                                                                                                                              \n",
      "1.468, 0.0                                                                                                                                                                                                                                                                             \n",
      "Trying threshold = 0.9002                                                                                                                                                                                                                                                              \n",
      " 96%|██████████████████████████████████████████████████████████████████████████████████████████████████████████████████████████████████████████████████████████████████████████████████████████████████████▋        | 48/50 [03:52<00:03,  1.65s/trial, best loss: -6.5427846691642895]"
     ]
    },
    {
     "name": "stderr",
     "output_type": "stream",
     "text": [
      "[Stage 7916:>                                                       (0 + 1) / 1]\r"
     ]
    },
    {
     "name": "stdout",
     "output_type": "stream",
     "text": [
      "CI width: 1.0049 / 0.9877                                                                                                                                                                                                                                                              \n",
      "0.900, 1.0174827763274843                                                                                                                                                                                                                                                              \n",
      "Trying threshold = 1.2437                                                                                                                                                                                                                                                              \n",
      " 98%|██████████████████████████████████████████████████████████████████████████████████████████████████████████████████████████████████████████████████████████████████████████████████████████████████████████▊    | 49/50 [03:58<00:02,  2.90s/trial, best loss: -6.5427846691642895]"
     ]
    },
    {
     "name": "stderr",
     "output_type": "stream",
     "text": [
      "                                                                                \r"
     ]
    },
    {
     "name": "stdout",
     "output_type": "stream",
     "text": [
      "1.244, 0.0                                                                                                                                                                                                                                                                             \n",
      "100%|███████████████████████████████████████████████████████████████████████████████████████████████████████████████████████████████████████████████████████████████████████████████████████████████████████████████| 50/50 [03:58<00:00,  4.76s/trial, best loss: -6.5427846691642895]\n"
     ]
    },
    {
     "data": {
      "text/plain": [
       "{'threshold_log_mean_nn_dist': 1.076377772104497}"
      ]
     },
     "execution_count": 28,
     "metadata": {},
     "output_type": "execute_result"
    }
   ],
   "source": [
    "trials = Trials()\n",
    "space = {\n",
    "    \"threshold_log_mean_nn_dist\": hp.uniform(\"threshold_log_mean_nn_dist\", min_nn_dist, max_nn_dist),\n",
    "}\n",
    "\n",
    "best = fmin(create_objective_function_single_regression_narrow_windows_ci_width(data_with_configs, 2.6, 2.7),\n",
    "            space=space,\n",
    "            algo=tpe.suggest,\n",
    "            trials=trials,\n",
    "            max_evals=50)\n",
    "best"
   ]
  },
  {
   "cell_type": "code",
   "execution_count": 29,
   "id": "afe7b23d-1ae2-4d5f-8144-a10712402b3d",
   "metadata": {},
   "outputs": [
    {
     "name": "stderr",
     "output_type": "stream",
     "text": [
      "[Stage 7928:>                                                       (0 + 1) / 1]\r"
     ]
    },
    {
     "name": "stdout",
     "output_type": "stream",
     "text": [
      "Trying threshold = 1.1344                                                                                                                                                                                                                                                              \n",
      "  0%|                                                                                                                                                                                                                                           | 0/50 [00:00<?, ?trial/s, best loss=?]"
     ]
    },
    {
     "name": "stderr",
     "output_type": "stream",
     "text": [
      "                                                                                \r"
     ]
    },
    {
     "name": "stdout",
     "output_type": "stream",
     "text": [
      "CI width: 0.7121 / 0.7020                                                                                                                                                                                                                                                              \n",
      "1.134, 1.0143930944766784                                                                                                                                                                                                                                                              \n",
      "Trying threshold = 1.7259                                                                                                                                                                                                                                                              \n",
      "1.726, 0.0                                                                                                                                                                                                                                                                             \n",
      "Trying threshold = 0.7935                                                                                                                                                                                                                                                              \n",
      "  4%|████████▎                                                                                                                                                                                                       | 2/50 [00:03<01:11,  1.49s/trial, best loss: -1.0143930944766784]"
     ]
    },
    {
     "name": "stderr",
     "output_type": "stream",
     "text": [
      "                                                                                \r"
     ]
    },
    {
     "name": "stdout",
     "output_type": "stream",
     "text": [
      "0.793, 0.0                                                                                                                                                                                                                                                                             \n",
      "Trying threshold = 1.9235                                                                                                                                                                                                                                                              \n",
      "1.924, 0.0                                                                                                                                                                                                                                                                             \n",
      "Trying threshold = 1.0971                                                                                                                                                                                                                                                              \n",
      "  8%|████████████████▋                                                                                                                                                                                               | 4/50 [00:07<01:09,  1.51s/trial, best loss: -1.0143930944766784]"
     ]
    },
    {
     "name": "stderr",
     "output_type": "stream",
     "text": [
      "                                                                                \r"
     ]
    },
    {
     "name": "stdout",
     "output_type": "stream",
     "text": [
      "CI width: 0.7002 / 0.6707                                                                                                                                                                                                                                                              \n",
      "1.097, 1.044059360285419                                                                                                                                                                                                                                                               \n",
      "Trying threshold = 0.5143                                                                                                                                                                                                                                                              \n",
      " 10%|████████████████████▉                                                                                                                                                                                            | 5/50 [00:10<01:39,  2.22s/trial, best loss: -1.044059360285419]"
     ]
    },
    {
     "name": "stderr",
     "output_type": "stream",
     "text": [
      "                                                                                \r"
     ]
    },
    {
     "name": "stdout",
     "output_type": "stream",
     "text": [
      "0.514, 0.0                                                                                                                                                                                                                                                                             \n",
      "Trying threshold = 1.2742                                                                                                                                                                                                                                                              \n",
      "CI width: 0.6967 / 0.6442                                                                                                                                                                                                                                                              \n",
      "1.274, 1.0814018642324996                                                                                                                                                                                                                                                              \n",
      "Trying threshold = 0.7568                                                                                                                                                                                                                                                              \n",
      " 14%|█████████████████████████████                                                                                                                                                                                   | 7/50 [00:16<01:47,  2.51s/trial, best loss: -1.0814018642324996]"
     ]
    },
    {
     "name": "stderr",
     "output_type": "stream",
     "text": [
      "[Stage 8017:===============================================>   (591 + 28) / 632]\r"
     ]
    },
    {
     "name": "stdout",
     "output_type": "stream",
     "text": [
      "0.757, 0.0                                                                                                                                                                                                                                                                             \n",
      "Trying threshold = 0.5563                                                                                                                                                                                                                                                              \n",
      " 16%|█████████████████████████████████▎                                                                                                                                                                              | 8/50 [00:19<01:52,  2.69s/trial, best loss: -1.0814018642324996]"
     ]
    },
    {
     "name": "stderr",
     "output_type": "stream",
     "text": [
      "[Stage 8027:=================================================> (616 + 16) / 632]\r"
     ]
    },
    {
     "name": "stdout",
     "output_type": "stream",
     "text": [
      "0.556, 0.0                                                                                                                                                                                                                                                                             \n",
      "Trying threshold = 0.7381                                                                                                                                                                                                                                                              \n",
      " 18%|█████████████████████████████████████▍                                                                                                                                                                          | 9/50 [00:22<01:55,  2.82s/trial, best loss: -1.0814018642324996]"
     ]
    },
    {
     "name": "stderr",
     "output_type": "stream",
     "text": [
      "                                                                                \r"
     ]
    },
    {
     "name": "stdout",
     "output_type": "stream",
     "text": [
      "0.738, 0.0                                                                                                                                                                                                                                                                             \n",
      "Trying threshold = 0.7813                                                                                                                                                                                                                                                              \n",
      " 20%|█████████████████████████████████████████▍                                                                                                                                                                     | 10/50 [00:25<01:56,  2.91s/trial, best loss: -1.0814018642324996]"
     ]
    },
    {
     "name": "stderr",
     "output_type": "stream",
     "text": [
      "                                                                                \r"
     ]
    },
    {
     "name": "stdout",
     "output_type": "stream",
     "text": [
      "0.781, 0.0                                                                                                                                                                                                                                                                             \n",
      "Trying threshold = 1.6479                                                                                                                                                                                                                                                              \n",
      "1.648, 0.0                                                                                                                                                                                                                                                                             \n",
      "Trying threshold = 0.9533                                                                                                                                                                                                                                                              \n",
      " 24%|█████████████████████████████████████████████████▋                                                                                                                                                             | 12/50 [00:28<01:21,  2.13s/trial, best loss: -1.0814018642324996]"
     ]
    },
    {
     "name": "stderr",
     "output_type": "stream",
     "text": [
      "                                                                                \r"
     ]
    },
    {
     "name": "stdout",
     "output_type": "stream",
     "text": [
      "CI width: 0.5931 / 0.5356                                                                                                                                                                                                                                                              \n",
      "0.953, 1.1074090042247533                                                                                                                                                                                                                                                              \n",
      "Trying threshold = 0.5859                                                                                                                                                                                                                                                              \n",
      " 26%|█████████████████████████████████████████████████████▊                                                                                                                                                         | 13/50 [00:33<01:45,  2.86s/trial, best loss: -1.1074090042247533]"
     ]
    },
    {
     "name": "stderr",
     "output_type": "stream",
     "text": [
      "                                                                                \r"
     ]
    },
    {
     "name": "stdout",
     "output_type": "stream",
     "text": [
      "0.586, 0.0                                                                                                                                                                                                                                                                             \n",
      "Trying threshold = 1.4291                                                                                                                                                                                                                                                              \n",
      "CI width: 0.2048 / 0.2016                                                                                                                                                                                                                                                              \n",
      "1.429, 1.0161643462405998                                                                                                                                                                                                                                                              \n",
      "Trying threshold = 1.6482                                                                                                                                                                                                                                                              \n",
      "1.648, 0.0                                                                                                                                                                                                                                                                             \n",
      "Trying threshold = 1.9244                                                                                                                                                                                                                                                              \n",
      "1.924, 0.0                                                                                                                                                                                                                                                                             \n",
      "Trying threshold = 1.9113                                                                                                                                                                                                                                                              \n",
      "1.911, 0.0                                                                                                                                                                                                                                                                             \n",
      "Trying threshold = 1.0212                                                                                                                                                                                                                                                              \n",
      " 36%|██████████████████████████████████████████████████████████████████████████▌                                                                                                                                    | 18/50 [00:39<00:34,  1.08s/trial, best loss: -1.1074090042247533]"
     ]
    },
    {
     "name": "stderr",
     "output_type": "stream",
     "text": [
      "                                                                                \r"
     ]
    },
    {
     "name": "stdout",
     "output_type": "stream",
     "text": [
      "CI width: 0.6470 / 0.6189                                                                                                                                                                                                                                                              \n",
      "1.021, 1.0453838436947485                                                                                                                                                                                                                                                              \n",
      "Trying threshold = 1.7161                                                                                                                                                                                                                                                              \n",
      "1.716, 0.0                                                                                                                                                                                                                                                                             \n",
      "Trying threshold = 1.3680                                                                                                                                                                                                                                                              \n",
      "CI width: 0.3062 / 0.2430                                                                                                                                                                                                                                                              \n",
      "1.368, 1.2602759042176839                                                                                                                                                                                                                                                              \n",
      "Trying threshold = 1.2752                                                                                                                                                                                                                                                              \n",
      "CI width: 0.6958 / 0.6297                                                                                                                                                                                                                                                              \n",
      "1.275, 1.1049654265003594                                                                                                                                                                                                                                                              \n",
      "Trying threshold = 0.9342                                                                                                                                                                                                                                                              \n",
      " 44%|███████████████████████████████████████████████████████████████████████████████████████████                                                                                                                    | 22/50 [00:48<00:53,  1.92s/trial, best loss: -1.2602759042176839]"
     ]
    },
    {
     "name": "stderr",
     "output_type": "stream",
     "text": [
      "                                                                                \r"
     ]
    },
    {
     "name": "stdout",
     "output_type": "stream",
     "text": [
      "CI width: 0.5730 / 0.5019                                                                                                                                                                                                                                                              \n",
      "0.934, 1.1416745857623716                                                                                                                                                                                                                                                              \n",
      "Trying threshold = 1.4215                                                                                                                                                                                                                                                              \n",
      "CI width: 0.2127 / 0.2033                                                                                                                                                                                                                                                              \n",
      "1.421, 1.0465757332786836                                                                                                                                                                                                                                                              \n",
      "Trying threshold = 0.9245                                                                                                                                                                                                                                                              \n",
      " 48%|███████████████████████████████████████████████████████████████████████████████████████████████████▎                                                                                                           | 24/50 [00:55<01:05,  2.53s/trial, best loss: -1.2602759042176839]"
     ]
    },
    {
     "name": "stderr",
     "output_type": "stream",
     "text": [
      "                                                                                \r"
     ]
    },
    {
     "name": "stdout",
     "output_type": "stream",
     "text": [
      "CI width: 0.5509 / 0.4911                                                                                                                                                                                                                                                              \n",
      "0.925, 1.121909515116121                                                                                                                                                                                                                                                               \n",
      "Trying threshold = 1.4991                                                                                                                                                                                                                                                              \n",
      "1.499, 0.0                                                                                                                                                                                                                                                                             \n",
      "Trying threshold = 1.2355                                                                                                                                                                                                                                                              \n",
      "CI width: 0.7444 / 0.7030                                                                                                                                                                                                                                                              \n",
      "1.235, 1.058986476592342                                                                                                                                                                                                                                                               \n",
      "Trying threshold = 0.8962                                                                                                                                                                                                                                                              \n",
      " 54%|███████████████████████████████████████████████████████████████████████████████████████████████████████████████▊                                                                                               | 27/50 [01:02<00:53,  2.31s/trial, best loss: -1.2602759042176839]"
     ]
    },
    {
     "name": "stderr",
     "output_type": "stream",
     "text": [
      "                                                                                \r"
     ]
    },
    {
     "name": "stdout",
     "output_type": "stream",
     "text": [
      "CI width: 0.5242 / 0.4946                                                                                                                                                                                                                                                              \n",
      "0.896, 1.0599444793422552                                                                                                                                                                                                                                                              \n",
      "Trying threshold = 1.1193                                                                                                                                                                                                                                                              \n",
      " 56%|███████████████████████████████████████████████████████████████████████████████████████████████████████████████████▉                                                                                           | 28/50 [01:06<01:03,  2.88s/trial, best loss: -1.2602759042176839]"
     ]
    },
    {
     "name": "stderr",
     "output_type": "stream",
     "text": [
      "                                                                                \r"
     ]
    },
    {
     "name": "stdout",
     "output_type": "stream",
     "text": [
      "CI width: 0.7089 / 0.6915                                                                                                                                                                                                                                                              \n",
      "1.119, 1.0251353108333892                                                                                                                                                                                                                                                              \n",
      "Trying threshold = 1.3564                                                                                                                                                                                                                                                              \n",
      "CI width: 0.3553 / 0.2623                                                                                                                                                                                                                                                              \n",
      "1.356, 1.3546842129985524                                                                                                                                                                                                                                                              \n",
      "Trying threshold = 1.3652                                                                                                                                                                                                                                                              \n",
      "CI width: 0.3153 / 0.2450                                                                                                                                                                                                                                                              \n",
      "1.365, 1.286851305767083                                                                                                                                                                                                                                                               \n",
      "Trying threshold = 1.5358                                                                                                                                                                                                                                                              \n",
      "1.536, 0.0                                                                                                                                                                                                                                                                             \n",
      "Trying threshold = 1.8072                                                                                                                                                                                                                                                              \n",
      "1.807, 0.0                                                                                                                                                                                                                                                                             \n",
      "Trying threshold = 1.1829                                                                                                                                                                                                                                                              \n",
      "CI width: 0.7322 / 0.7213                                                                                                                                                                                                                                                              \n",
      "1.183, 1.0151337019138609                                                                                                                                                                                                                                                              \n",
      "Trying threshold = 1.5606                                                                                                                                                                                                                                                              \n",
      "1.561, 0.0                                                                                                                                                                                                                                                                             \n",
      "Trying threshold = 1.3333                                                                                                                                                                                                                                                              \n",
      "CI width: 0.5102 / 0.3088                                                                                                                                                                                                                                                              \n",
      "1.333, 1.651954171458098                                                                                                                                                                                                                                                               \n",
      "Trying threshold = 1.0476                                                                                                                                                                                                                                                              \n",
      " 72%|█████████████████████████████████████████████████████████████████████████████████████████████████████████████████████████████████████████████████████▊                                                          | 36/50 [01:20<00:24,  1.74s/trial, best loss: -1.651954171458098]"
     ]
    },
    {
     "name": "stderr",
     "output_type": "stream",
     "text": [
      "                                                                                \r"
     ]
    },
    {
     "name": "stdout",
     "output_type": "stream",
     "text": [
      "CI width: 0.6600 / 0.6429                                                                                                                                                                                                                                                              \n",
      "1.048, 1.0266092516507512                                                                                                                                                                                                                                                              \n",
      "Trying threshold = 1.8163                                                                                                                                                                                                                                                              \n",
      "1.816, 0.0                                                                                                                                                                                                                                                                             \n",
      "Trying threshold = 1.1819                                                                                                                                                                                                                                                              \n",
      "CI width: 0.7315 / 0.7205                                                                                                                                                                                                                                                              \n",
      "1.182, 1.0151971987489428                                                                                                                                                                                                                                                              \n",
      "Trying threshold = 1.3383                                                                                                                                                                                                                                                              \n",
      "CI width: 0.4626 / 0.2951                                                                                                                                                                                                                                                              \n",
      "1.338, 1.5678110754469134                                                                                                                                                                                                                                                              \n",
      "Trying threshold = 0.6752                                                                                                                                                                                                                                                              \n",
      " 80%|██████████████████████████████████████████████████████████████████████████████████████████████████████████████████████████████████████████████████████████████████████▍                                         | 40/50 [01:30<00:21,  2.16s/trial, best loss: -1.651954171458098]"
     ]
    },
    {
     "name": "stderr",
     "output_type": "stream",
     "text": [
      "                                                                                \r"
     ]
    },
    {
     "name": "stdout",
     "output_type": "stream",
     "text": [
      "0.675, 0.0                                                                                                                                                                                                                                                                             \n",
      "Trying threshold = 1.2794                                                                                                                                                                                                                                                              \n",
      "CI width: 0.6932 / 0.6140                                                                                                                                                                                                                                                              \n",
      "1.279, 1.1289946749450896                                                                                                                                                                                                                                                              \n",
      "Trying threshold = 1.5953                                                                                                                                                                                                                                                              \n",
      "1.595, 0.0                                                                                                                                                                                                                                                                             \n",
      "Trying threshold = 1.4602                                                                                                                                                                                                                                                              \n",
      "1.460, 0.0                                                                                                                                                                                                                                                                             \n",
      "Trying threshold = 0.8260                                                                                                                                                                                                                                                              \n",
      " 88%|███████████████████████████████████████████████████████████████████████████████████████████████████████████████████████████████████████████████████████████████████████████████████████                         | 44/50 [01:36<00:07,  1.31s/trial, best loss: -1.651954171458098]"
     ]
    },
    {
     "name": "stderr",
     "output_type": "stream",
     "text": [
      "                                                                                \r"
     ]
    },
    {
     "name": "stdout",
     "output_type": "stream",
     "text": [
      "0.826, 0.0                                                                                                                                                                                                                                                                             \n",
      "Trying threshold = 1.0671                                                                                                                                                                                                                                                              \n",
      " 90%|███████████████████████████████████████████████████████████████████████████████████████████████████████████████████████████████████████████████████████████████████████████████████████████▏                    | 45/50 [01:39<00:09,  1.84s/trial, best loss: -1.651954171458098]"
     ]
    },
    {
     "name": "stderr",
     "output_type": "stream",
     "text": [
      "                                                                                \r"
     ]
    },
    {
     "name": "stdout",
     "output_type": "stream",
     "text": [
      "CI width: 0.6733 / 0.6522                                                                                                                                                                                                                                                              \n",
      "1.067, 1.0323227907431702                                                                                                                                                                                                                                                              \n",
      "Trying threshold = 1.8217                                                                                                                                                                                                                                                              \n",
      "1.822, 0.0                                                                                                                                                                                                                                                                             \n",
      "Trying threshold = 1.6838                                                                                                                                                                                                                                                              \n",
      "1.684, 0.0                                                                                                                                                                                                                                                                             \n",
      "Trying threshold = 0.9810                                                                                                                                                                                                                                                              \n",
      " 96%|███████████████████████████████████████████████████████████████████████████████████████████████████████████████████████████████████████████████████████████████████████████████████████████████████████▋        | 48/50 [01:43<00:02,  1.32s/trial, best loss: -1.651954171458098]"
     ]
    },
    {
     "name": "stderr",
     "output_type": "stream",
     "text": [
      "                                                                                \r"
     ]
    },
    {
     "name": "stdout",
     "output_type": "stream",
     "text": [
      "CI width: 0.6130 / 0.5879                                                                                                                                                                                                                                                              \n",
      "0.981, 1.0428448653019504                                                                                                                                                                                                                                                              \n",
      "Trying threshold = 1.3310                                                                                                                                                                                                                                                              \n",
      "CI width: 0.5079 / 0.3153                                                                                                                                                                                                                                                              \n",
      "1.331, 1.610926419107853                                                                                                                                                                                                                                                               \n",
      "100%|████████████████████████████████████████████████████████████████████████████████████████████████████████████████████████████████████████████████████████████████████████████████████████████████████████████████| 50/50 [01:50<00:00,  2.21s/trial, best loss: -1.651954171458098]\n"
     ]
    },
    {
     "data": {
      "text/plain": [
       "{'threshold_log_mean_nn_dist': 1.333297081046845}"
      ]
     },
     "execution_count": 29,
     "metadata": {},
     "output_type": "execute_result"
    }
   ],
   "source": [
    "trials = Trials()\n",
    "space = {\n",
    "    \"threshold_log_mean_nn_dist\": hp.uniform(\"threshold_log_mean_nn_dist\", min_nn_dist, max_nn_dist),\n",
    "}\n",
    "\n",
    "best = fmin(create_objective_function_single_regression_narrow_windows_ci_width(data_with_configs, 1.2, 1.3),\n",
    "            space=space,\n",
    "            algo=tpe.suggest,\n",
    "            trials=trials,\n",
    "            max_evals=50)\n",
    "best"
   ]
  },
  {
   "cell_type": "code",
   "execution_count": null,
   "id": "ef9b398d-c58a-464d-901c-9097ef77eb1f",
   "metadata": {},
   "outputs": [],
   "source": []
  },
  {
   "cell_type": "code",
   "execution_count": null,
   "id": "e9a349a8-2281-4b8d-8514-773f7662bb2c",
   "metadata": {},
   "outputs": [],
   "source": []
  },
  {
   "cell_type": "code",
   "execution_count": null,
   "id": "d1847615-e08b-4841-af95-60b3690d0553",
   "metadata": {},
   "outputs": [],
   "source": []
  },
  {
   "cell_type": "code",
   "execution_count": null,
   "id": "677fcd9f-b39b-4451-b7c4-5ab0eeb9e8e1",
   "metadata": {},
   "outputs": [],
   "source": []
  },
  {
   "cell_type": "code",
   "execution_count": null,
   "id": "14f61a06-9f11-4d63-9dc6-c98aded2563f",
   "metadata": {},
   "outputs": [],
   "source": []
  },
  {
   "cell_type": "code",
   "execution_count": null,
   "id": "f37de4e4-e478-44d0-9d40-ac3a511d2dc7",
   "metadata": {},
   "outputs": [],
   "source": [
    "cached = data_with_configs.where(F.col(\"slope\").between(2.1, 2.2)).cache()\n",
    "result = minimize_scalar(\n",
    "    lambda x: objective_function_single_regression(cached, 2.1, 2.2, x),\n",
    "    bounds=(0.5, 1.4),\n",
    "    tol=1e-3\n",
    ")"
   ]
  },
  {
   "cell_type": "code",
   "execution_count": null,
   "id": "45248674-0741-46d2-8f0b-2d7e1cade189",
   "metadata": {},
   "outputs": [],
   "source": [
    "cached = data_with_configs.where(F.col(\"slope\").between(1.5, 1.6)).cache()\n",
    "result = minimize_scalar(\n",
    "    lambda x: objective_function_single_regression(cached, 1.5, 1.6, x),\n",
    "    bounds=(0.5, 1.4),\n",
    "    tol=1e-3\n",
    ")"
   ]
  },
  {
   "cell_type": "code",
   "execution_count": null,
   "id": "012224b3-87ad-4b86-9a0f-6c395ae00540",
   "metadata": {},
   "outputs": [],
   "source": []
  },
  {
   "cell_type": "code",
   "execution_count": null,
   "id": "49ef743d-9067-4340-a532-be9c5c33f92e",
   "metadata": {},
   "outputs": [],
   "source": []
  },
  {
   "cell_type": "code",
   "execution_count": null,
   "id": "b282b60d-2b76-4b06-b182-5834cbf8a588",
   "metadata": {},
   "outputs": [],
   "source": []
  },
  {
   "cell_type": "code",
   "execution_count": null,
   "id": "c9410575-63c0-47eb-8d53-4039ee94231a",
   "metadata": {},
   "outputs": [],
   "source": []
  },
  {
   "cell_type": "code",
   "execution_count": null,
   "id": "f95b3eac-ac65-4347-8780-2f9646090d09",
   "metadata": {},
   "outputs": [],
   "source": []
  },
  {
   "cell_type": "code",
   "execution_count": null,
   "id": "5633cbf6-4075-4c70-9c20-f0039f84cc8d",
   "metadata": {},
   "outputs": [],
   "source": []
  },
  {
   "cell_type": "code",
   "execution_count": null,
   "id": "ba69c481-0a10-4de2-bcd3-9f053772b9e4",
   "metadata": {},
   "outputs": [],
   "source": [
    "cached = data_with_configs.where(F.col(\"slope\").between(1.5, 1.6)).cache()\n",
    "for x in range(10):\n",
    "    nn_dist = 0.8 + x / 20\n",
    "    print(f\"{nn_dist:.3f}, {objective_function_single_regression(cached, 1.5, 1.6, nn_dist)}\")"
   ]
  },
  {
   "cell_type": "code",
   "execution_count": null,
   "id": "3908b089-c4e6-4a4d-ad44-bdf460441ab4",
   "metadata": {},
   "outputs": [],
   "source": [
    "cached = data_with_configs.where(F.col(\"slope\").between(2.1, 2.2)).cache()\n",
    "for x in range(30):\n",
    "    nn_dist = 0.8 + x / 150\n",
    "    print(f\"{nn_dist:.3f}, {objective_function_single_regression(cached, 2.1, 2.2, nn_dist)}\")"
   ]
  },
  {
   "cell_type": "code",
   "execution_count": null,
   "id": "201c2785-ecd8-4245-b023-759bd18f99ca",
   "metadata": {},
   "outputs": [],
   "source": [
    "cached = data_with_configs.where(F.col(\"slope\").between(2.1, 2.2)).cache()\n",
    "for x in range(30):\n",
    "    nn_dist = 0.8 + x / 150\n",
    "    print(f\"{nn_dist:.3f}, {objective_function_single_regression(cached, 2.1, 2.2, nn_dist)}\")"
   ]
  },
  {
   "cell_type": "code",
   "execution_count": null,
   "id": "5396b98c-f53e-44bc-b647-32cc48dfe3d5",
   "metadata": {},
   "outputs": [],
   "source": []
  },
  {
   "cell_type": "code",
   "execution_count": null,
   "id": "460de3bc-75b5-4e17-b813-9f9015001cc0",
   "metadata": {},
   "outputs": [],
   "source": []
  },
  {
   "cell_type": "code",
   "execution_count": null,
   "id": "9a0eb92e-6d60-4eb8-9d01-ca62a53bac1f",
   "metadata": {},
   "outputs": [],
   "source": []
  },
  {
   "cell_type": "code",
   "execution_count": null,
   "id": "8d3b1fa8-d86e-40bd-9614-dbde67eaca4a",
   "metadata": {},
   "outputs": [],
   "source": [
    "for x in range(10):\n",
    "    nn_dist = 0.7 + x / 20\n",
    "    print(f\"{nn_dist:.3f}, {objective_function(data_with_configs, 2.3, 2.4, nn_dist)}\")"
   ]
  },
  {
   "cell_type": "code",
   "execution_count": null,
   "id": "aa786615-db2a-494d-bdfd-d1aa4bf84721",
   "metadata": {},
   "outputs": [],
   "source": []
  },
  {
   "cell_type": "code",
   "execution_count": null,
   "id": "900fbff6-d636-49e2-8d02-4be15c42d275",
   "metadata": {},
   "outputs": [],
   "source": [
    "min_slope = 2.1\n",
    "max_slope = 2.2\n",
    "\n",
    "for x in range(10):\n",
    "    nn_dist = 0.7 + x / 20\n",
    "    sample = detrend_data(\n",
    "        data_with_configs,\n",
    "        min_slope,\n",
    "        max_slope,\n",
    "        -100.0,\n",
    "        nn_dist\n",
    "    )\n",
    "    print(f\"{nn_dist:.3f}, {calculate_var_and_df(sample, 'detrended')[0]}\")"
   ]
  },
  {
   "cell_type": "code",
   "execution_count": null,
   "id": "b773685d-1c0e-46b8-b151-d02384f291cc",
   "metadata": {},
   "outputs": [],
   "source": [
    "min_slope = 2.1\n",
    "max_slope = 2.2\n",
    "\n",
    "for x in range(10):\n",
    "    nn_dist = 0.7 + x / 20\n",
    "    sample = detrend_data(\n",
    "        data_with_configs,\n",
    "        min_slope,\n",
    "        max_slope,\n",
    "        nn_dist,\n",
    "        10.0\n",
    "    )\n",
    "    print(f\"{nn_dist:.3f}, {calculate_var_and_df(sample, 'detrended')[0]}\")"
   ]
  },
  {
   "cell_type": "code",
   "execution_count": null,
   "id": "0c525730-9554-421c-b703-d5c95bbffb8e",
   "metadata": {},
   "outputs": [],
   "source": []
  }
 ],
 "metadata": {
  "kernelspec": {
   "display_name": "Python 3 (ipykernel)",
   "language": "python",
   "name": "python3"
  },
  "language_info": {
   "codemirror_mode": {
    "name": "ipython",
    "version": 3
   },
   "file_extension": ".py",
   "mimetype": "text/x-python",
   "name": "python",
   "nbconvert_exporter": "python",
   "pygments_lexer": "ipython3",
   "version": "3.11.6"
  }
 },
 "nbformat": 4,
 "nbformat_minor": 5
}
