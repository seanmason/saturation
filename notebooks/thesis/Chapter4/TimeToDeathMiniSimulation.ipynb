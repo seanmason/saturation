{
 "cells": [
  {
   "cell_type": "code",
   "execution_count": 1,
   "id": "68646165-3ec1-4873-8f67-c98b4994aeb4",
   "metadata": {},
   "outputs": [],
   "source": [
    "%load_ext autoreload\n",
    "%autoreload 2"
   ]
  },
  {
   "cell_type": "code",
   "execution_count": 2,
   "id": "bf1fdbcb-124b-422d-91a8-54ed6f88bb02",
   "metadata": {},
   "outputs": [],
   "source": [
    "import glob\n",
    "from saturation.utils import *\n",
    "\n",
    "import matplotlib.pyplot as plt\n",
    "import pyspark.sql.functions as F\n",
    "import scipy\n",
    "import sklearn.metrics\n",
    "\n",
    "from numba import jit, njit"
   ]
  },
  {
   "cell_type": "markdown",
   "id": "44169185-db52-441f-9701-eb256d081f00",
   "metadata": {},
   "source": [
    "## Simulationg time to death\n",
    "\n",
    "Consider a crater with radius $r$ on a square plane with side length $L$. At every time step $t$, the crater loses $x$ percent of its remaining rim, where $x$ is drawn from some random distribution with values (0, 1).\n",
    "\n",
    "At what time $t$ does the remaining rim percent drop below $m$ percent?"
   ]
  },
  {
   "cell_type": "code",
   "execution_count": null,
   "id": "06fdb260-27e7-439b-abe1-e98ae9e10cbd",
   "metadata": {},
   "outputs": [],
   "source": [
    "r = 5\n",
    "m = 0.5\n",
    "L = 500\n",
    "r_min = 3\n",
    "r_max = 100"
   ]
  },
  {
   "cell_type": "code",
   "execution_count": null,
   "id": "685094a2-ffba-414b-9c49-ca090ca7a0cb",
   "metadata": {},
   "outputs": [],
   "source": [
    "@njit\n",
    "def draw_x():\n",
    "    return np.random.beta(a=1.05, b=5)"
   ]
  },
  {
   "cell_type": "code",
   "execution_count": null,
   "id": "21011248-78b2-47e9-8add-f7b305ecb80f",
   "metadata": {},
   "outputs": [],
   "source": [
    "@njit\n",
    "def run_sims(r, scale, n_sims=1000, draw_x=draw_x):\n",
    "    results = []\n",
    "\n",
    "    for _ in range(n_sims):\n",
    "        initial_rim = remaining_rim = 2 * np.pi * r\n",
    "        \n",
    "        counter = 0\n",
    "        while (remaining_rim / initial_rim) > m:\n",
    "            remaining_rim *= (1 - draw_x() * scale)\n",
    "            counter += 1\n",
    "\n",
    "        results.append(counter)\n",
    "\n",
    "    return results"
   ]
  },
  {
   "cell_type": "code",
   "execution_count": null,
   "id": "f70e1487-847e-471c-ab84-3abe68e506eb",
   "metadata": {},
   "outputs": [],
   "source": [
    "results = run_sims(r, scale)"
   ]
  },
  {
   "cell_type": "code",
   "execution_count": null,
   "id": "b3022c03-ea0b-4f56-8ef6-f101dcdf27cf",
   "metadata": {},
   "outputs": [],
   "source": [
    "plt.hist(results)\n",
    "np.mean(results), np.std(results)"
   ]
  },
  {
   "cell_type": "code",
   "execution_count": null,
   "id": "b7e8ce03-d8a4-4f00-8ee3-8416d89cc109",
   "metadata": {},
   "outputs": [],
   "source": [
    "alpha = 1.05\n",
    "beta = 5\n",
    "expected_x = alpha / (alpha + beta)\n",
    "\n",
    "np.log(m) / np.log(1 - expected_x * scale)"
   ]
  },
  {
   "cell_type": "code",
   "execution_count": null,
   "id": "e5fd3a99-4595-425a-b8ad-a1ff34c480a1",
   "metadata": {},
   "outputs": [],
   "source": []
  },
  {
   "cell_type": "markdown",
   "id": "68d11bab-c98b-46db-ac9f-8adda29be980",
   "metadata": {},
   "source": [
    "## Birth-death process\n",
    "\n",
    "Suppose we add one crater at each time step t, and decay each existing as above. What does the resulting equilibrium settle as?\n",
    "\n",
    "$N(r, t+1) = N(r, t) + 1 - Deaths$"
   ]
  },
  {
   "cell_type": "code",
   "execution_count": null,
   "id": "e0d20bf0-07ac-4bee-a26a-73fff19e8a4a",
   "metadata": {},
   "outputs": [],
   "source": [
    "def draw_x(alpha, r_min, r_max, size):\n",
    "    return scipy.stats.pareto.rvs(alpha, scale=r_min, size=size)"
   ]
  },
  {
   "cell_type": "code",
   "execution_count": null,
   "id": "f1759835-d92c-4bdf-96c9-7ab8f8ed3100",
   "metadata": {},
   "outputs": [],
   "source": [
    "@njit\n",
    "def do_sim(\n",
    "    r,\n",
    "    existing_rim_remaining,\n",
    "    L\n",
    "):\n",
    "    for i1 in range(len(r)):\n",
    "        r1 = r[i1]\n",
    "        \n",
    "        for i2 in range(i1):\n",
    "            r2 = r[i2]\n",
    "            \n",
    "            if r1 >= r2:\n",
    "                existing_rim_remaining[i2] *= (1.0 - np.pi * r1**2 / L**2)\n",
    "\n",
    "    return existing_rim_remaining"
   ]
  },
  {
   "cell_type": "code",
   "execution_count": null,
   "id": "f92b2327-7b73-46f2-9d10-46a0ceb6c65e",
   "metadata": {},
   "outputs": [],
   "source": [
    "alpha = 3.5\n",
    "m = 0.5\n",
    "r_min = 3\n",
    "r_max = 100\n",
    "L = r_max * 5\n",
    "\n",
    "n_time_steps = 100000\n",
    "r = draw_x(alpha=alpha, r_min=r_min, r_max=r_max, size=n_time_steps)\n",
    "existing_rim_remaining = np.array(np.pow(r, 2) * np.pi)\n",
    "existing_rim_remaining = do_sim(r, existing_rim_remaining, L)"
   ]
  },
  {
   "cell_type": "code",
   "execution_count": null,
   "id": "5406c57e-e3cf-4345-8516-13b53d134be7",
   "metadata": {},
   "outputs": [],
   "source": [
    "df = pd.DataFrame()\n",
    "df[\"r\"] = r\n",
    "df[\"rim\"] = existing_rim_remaining\n",
    "\n",
    "df[\"rim\"] = df.rim / (df.r**2 * np.pi) > m\n",
    "df = df.sort_values(\"r\")\n",
    "df[\"remaining\"] = df.rim.sum() - df.rim.cumsum() + 1\n",
    "\n",
    "plt.plot(\n",
    "    df.r,\n",
    "    df.remaining\n",
    ")"
   ]
  },
  {
   "cell_type": "code",
   "execution_count": null,
   "id": "77af0004-e441-4474-99c3-769985002ea9",
   "metadata": {},
   "outputs": [],
   "source": []
  },
  {
   "cell_type": "markdown",
   "id": "95c2925a-1aee-4b09-a1ae-069fb34dd424",
   "metadata": {},
   "source": [
    "## Let's try to model N(<r, t+t)"
   ]
  },
  {
   "cell_type": "code",
   "execution_count": null,
   "id": "16e6bfbd-5c4b-440d-bd54-f85212bbc55a",
   "metadata": {},
   "outputs": [],
   "source": [
    "@njit\n",
    "def calculate_prob_lt_r(\n",
    "    r: float,\n",
    "    alpha: float,\n",
    "    r_min: float,\n",
    "    r_max: float\n",
    "):\n",
    "    return (1 - (r_min/r)**alpha) / (1 - (r_min/r_max)**alpha)\n",
    "\n",
    "\n",
    "@njit\n",
    "def calculate_average_lifetime(\n",
    "    r: float,\n",
    "    alpha: float,\n",
    "    r_min: float,\n",
    "    r_max: float,\n",
    "    L: float,\n",
    "    m: float\n",
    "):\n",
    "    expected_area = alpha * r_min**alpha * r**(2 - alpha) / (alpha - 2)\n",
    "    return np.log(m) / np.log(1 - expected_area / L**2)\n",
    "\n",
    "\n",
    "@njit\n",
    "def calculate_n_lt_r_t(\n",
    "    r: np.array,\n",
    "    alpha: float,\n",
    "    t: int,\n",
    "    r_min: float,\n",
    "    r_max: float,\n",
    "    L: float,\n",
    "    m\n",
    ") -> np.array:\n",
    "    N_lt_r_t = np.zeros(len(r))\n",
    "    \n",
    "    for t_idx in range(t):\n",
    "        N_r_t = np.diff(np.array([0] + list(N_lt_r_t)))\n",
    "        \n",
    "        N_lt_r_t = (\n",
    "            N_lt_r_t\n",
    "            + calculate_prob_lt_r(r, alpha, r_min, r_max)\n",
    "            - (N_r_t / calculate_average_lifetime(r, alpha, r_min, r_max, L, m))\n",
    "        )\n",
    "        \n",
    "    return N_lt_r_t"
   ]
  },
  {
   "cell_type": "code",
   "execution_count": null,
   "id": "c7e03b41-0a84-4a41-8698-1716f60b6271",
   "metadata": {},
   "outputs": [],
   "source": [
    "alpha = 3.5\n",
    "m = 0.5\n",
    "r_min = 3\n",
    "r_max = 250\n",
    "L = r_max * 2\n",
    "n_steps = 100\n",
    "r = np.array(range(n_steps)) * (r_max // 5 - r_min) / n_steps + r_min\n",
    "\n",
    "result = calculate_n_lt_r_t(\n",
    "    r,\n",
    "    alpha,\n",
    "    1000000,\n",
    "    r_min,\n",
    "    r_max,\n",
    "    L,\n",
    "    m\n",
    ")"
   ]
  },
  {
   "cell_type": "code",
   "execution_count": null,
   "id": "df0311d5-eb06-4a5e-8b5f-8070edfedd79",
   "metadata": {},
   "outputs": [],
   "source": [
    "plt.plot(\n",
    "    r,\n",
    "    # np.diff(calculate_prob_lt_r(r, alpha, r_min, r_max))\n",
    "    # calculate_average_lifetime(r, alpha, r_min, r_max, L, m)\n",
    "    1 - calculate_prob_lt_r(r, alpha, r_min, r_max)\n",
    ")\n",
    "\n",
    "plt.plot(\n",
    "    r,\n",
    "    result.max() - result\n",
    ")\n",
    "\n",
    "plt.xscale(\"log\")\n",
    "plt.yscale(\"log\")"
   ]
  },
  {
   "cell_type": "code",
   "execution_count": null,
   "id": "41257564-1975-47f5-a605-afadafeadd55",
   "metadata": {},
   "outputs": [],
   "source": []
  },
  {
   "cell_type": "code",
   "execution_count": null,
   "id": "d34e4b96-7c34-42aa-8f2d-71935cd96c4a",
   "metadata": {},
   "outputs": [],
   "source": []
  },
  {
   "cell_type": "markdown",
   "id": "3ad58b32-b5d8-4038-8ea4-7dccb6115b58",
   "metadata": {},
   "source": [
    "# Comparison to expected value"
   ]
  },
  {
   "cell_type": "code",
   "execution_count": null,
   "id": "41a3eb32-22b6-47e0-aace-522d9f95b6bc",
   "metadata": {},
   "outputs": [],
   "source": [
    "def calculate_mean_truncated_pareto_circle_area(\n",
    "    alpha: float,\n",
    "    r: float,\n",
    "    x_min: float,\n",
    "    x_max: float\n",
    ") -> float:\n",
    "    part1 = alpha * x_min**alpha / (2 - alpha)\n",
    "    part2 = (x_max**(2 - alpha) - r**(2-alpha)) / (1 - (x_min/x_max)**alpha)\n",
    "    return np.pi * part1 * part2"
   ]
  },
  {
   "cell_type": "code",
   "execution_count": null,
   "id": "4aa69bda-89ab-4f27-ae80-09ff9607c88a",
   "metadata": {},
   "outputs": [],
   "source": [
    "expected_areas = np.array([\n",
    "    calculate_mean_truncated_pareto_circle_area(alpha, x, r_min, r_max)\n",
    "    for x in df.r\n",
    "])\n",
    "\n",
    "expected_lifetimes = np.log(m) / np.log(1 - expected_areas / (L)**2)\n",
    "expected_n = scipy.stats.pareto.pdf(df.r, alpha, scale=r_min) * expected_lifetimes\n",
    "expected_n = (expected_n/expected_n.max()) * df.remaining.max()\n",
    "plt.plot(\n",
    "    df.r,\n",
    "    expected_n\n",
    ")\n",
    "\n",
    "plt.plot(\n",
    "    df.r,\n",
    "    df.remaining\n",
    ")\n",
    "\n",
    "plt.xscale(\"log\")\n",
    "plt.yscale(\"log\")"
   ]
  },
  {
   "cell_type": "code",
   "execution_count": null,
   "id": "d2e138cb-d407-48a6-b3d4-b013c828d293",
   "metadata": {},
   "outputs": [],
   "source": [
    "expected_areas = np.array([\n",
    "    calculate_expected_area_greater_than_r(x, scale_r, min_r, alpha, beta, n_samples=1000)\n",
    "    for x in df.r\n",
    "])\n",
    "\n",
    "expected_lifetimes = np.log(m) / np.log(1 - expected_areas / (L)**2)\n",
    "\n",
    "plt.plot(\n",
    "    df.r,\n",
    "    expected_lifetimes\n",
    ")"
   ]
  },
  {
   "cell_type": "code",
   "execution_count": null,
   "id": "ad0d8cfa-6cb4-438a-b89e-85a7d10825fc",
   "metadata": {},
   "outputs": [],
   "source": []
  },
  {
   "cell_type": "code",
   "execution_count": null,
   "id": "edacce44-8ff5-403e-96f6-c3c1af331a9e",
   "metadata": {},
   "outputs": [],
   "source": [
    "expected_lifetimes"
   ]
  },
  {
   "cell_type": "code",
   "execution_count": null,
   "id": "e4b283e9-0d52-4b3a-b37e-721eea0dba8c",
   "metadata": {},
   "outputs": [],
   "source": []
  },
  {
   "cell_type": "code",
   "execution_count": null,
   "id": "c8e5f0c2-6200-4464-aced-020199c27f6c",
   "metadata": {},
   "outputs": [],
   "source": []
  },
  {
   "cell_type": "markdown",
   "id": "a093d7bf-f0c1-4ed2-8f72-d6e2ea2e8fa5",
   "metadata": {},
   "source": [
    "## Another way to simulate"
   ]
  },
  {
   "cell_type": "code",
   "execution_count": null,
   "id": "53d64bc0-467d-4ec1-b857-886e8c3b4d5a",
   "metadata": {},
   "outputs": [],
   "source": [
    "import glob\n",
    "from saturation.utils import *\n",
    "\n",
    "import matplotlib.pyplot as plt\n",
    "import pyspark.sql.functions as F\n",
    "import scipy\n",
    "import sklearn.metrics\n",
    "\n",
    "from numba import jit, njit"
   ]
  },
  {
   "cell_type": "code",
   "execution_count": null,
   "id": "063fea54-36b7-4278-bacf-fae24cff7e5f",
   "metadata": {},
   "outputs": [],
   "source": [
    "@njit\n",
    "def calculate_average_lifetime(\n",
    "    r: float,\n",
    "    alpha: float,\n",
    "    r_min: float,\n",
    "    r_max: float,\n",
    "    L: float,\n",
    "    m: float\n",
    "):\n",
    "    expected_area = alpha * r_min**alpha * r**(2 - alpha) / (alpha - 2)\n",
    "    return np.log(m) / np.log(1 - expected_area / L**2)\n",
    "\n",
    "\n",
    "@njit\n",
    "def simulate_n_r_t(\n",
    "    r: np.array,\n",
    "    alpha: float,\n",
    "    t: int,\n",
    "    r_min: float,\n",
    "    r_max_dist: float,\n",
    "    r_max_sample: float,\n",
    "    L: float,\n",
    "    m: float,\n",
    "    r_samples: np.array\n",
    ") -> np.array:\n",
    "    N_r_t = np.zeros(len(r))\n",
    "\n",
    "    average_lifetimes = calculate_average_lifetime(r, alpha, r_min, r_max_dist, L, m)\n",
    "    n_steps = len(r)\n",
    "    \n",
    "    n_samples = len(r_samples)\n",
    "    for t_idx in range(1, t + 1):\n",
    "        sampled_r = r_samples[t_idx % n_samples]\n",
    "        N_r_t -= (N_r_t / average_lifetimes)\n",
    "        \n",
    "        if sampled_r < r_max_sample:\n",
    "            idx = int((sampled_r - r_min) * n_steps / (r_max_sample - r_min))\n",
    "            N_r_t[idx] += 1\n",
    "            \n",
    "        if t_idx % n_samples == 0:\n",
    "            np.random.shuffle(r_samples)\n",
    "        \n",
    "    return N_r_t"
   ]
  },
  {
   "cell_type": "code",
   "execution_count": null,
   "id": "8548f152-6dca-46a9-a65c-722ea84d5840",
   "metadata": {},
   "outputs": [],
   "source": [
    "alpha = 3.5\n",
    "m = 0.75\n",
    "r_min = 3\n",
    "r_max_sample = 50\n",
    "r_max_dist = 250\n",
    "L = r_max_dist * 2\n",
    "max_t = 100000000\n",
    "\n",
    "n_steps = 50\n",
    "r = np.array(range(n_steps)) * (r_max_sample - r_min) / n_steps + r_min\n",
    "\n",
    "r_samples = scipy.stats.pareto.rvs(alpha, scale=r_min, size=10000000)\n",
    "result = simulate_n_r_t(\n",
    "    r,\n",
    "    alpha,\n",
    "    max_t,\n",
    "    r_min,\n",
    "    r_max_dist,\n",
    "    r_max_sample,\n",
    "    L,\n",
    "    m,\n",
    "    r_samples\n",
    ")"
   ]
  },
  {
   "cell_type": "code",
   "execution_count": null,
   "id": "44a85293-4479-4493-b313-b599f7b7e77f",
   "metadata": {},
   "outputs": [],
   "source": [
    "adjusted_result = result\n",
    "# adjusted_result = adjusted_result.max() - adjusted_result\n",
    "plt.plot(\n",
    "    r,\n",
    "    adjusted_result\n",
    ")\n",
    "\n",
    "expected_n = calculate_average_lifetime(r, alpha, r_min, r_max_dist, L, m)\n",
    "expected_n = (expected_n / expected_n.max()) * adjusted_result.max()\n",
    "plt.plot(\n",
    "    r,\n",
    "    expected_n\n",
    ")\n",
    "\n",
    "expected_r = r**(-3)\n",
    "expected_r = (expected_r / expected_r.max()) * adjusted_result.max()\n",
    "plt.plot(\n",
    "    r,\n",
    "    expected_r,\n",
    "    ls=\"dashed\"\n",
    ")\n",
    "\n",
    "plt.xscale(\"log\")\n",
    "plt.yscale(\"log\")"
   ]
  },
  {
   "cell_type": "code",
   "execution_count": null,
   "id": "8d465a8f-f19f-4745-a4c3-8d9c95445a46",
   "metadata": {},
   "outputs": [],
   "source": []
  },
  {
   "cell_type": "markdown",
   "id": "15485d75-2d22-4955-9818-f10dcbc4f5ba",
   "metadata": {},
   "source": [
    "# Let's take a damn bat to it and simulate it all. Ugh."
   ]
  },
  {
   "cell_type": "code",
   "execution_count": 1,
   "id": "d945da31-8e03-4c1a-bcb4-d50b237882ec",
   "metadata": {},
   "outputs": [],
   "source": [
    "import glob\n",
    "from saturation.utils import *\n",
    "\n",
    "import matplotlib.pyplot as plt\n",
    "import pyspark.sql.functions as F\n",
    "import scipy\n",
    "import sklearn.metrics\n",
    "\n",
    "from numba import jit, njit"
   ]
  },
  {
   "cell_type": "code",
   "execution_count": 2,
   "id": "04f26c27-da76-4644-8331-45d3ab66f1eb",
   "metadata": {},
   "outputs": [],
   "source": [
    "@njit\n",
    "def get_radius_index(\n",
    "    r: float,\n",
    "    r_min: float,\n",
    "    r_max: float,\n",
    "    n_buckets: float\n",
    "):\n",
    "    return int((r - r_min) / (r_max - r_min) * n_buckets)\n",
    "    \n",
    "\n",
    "@njit\n",
    "def simulate(\n",
    "    alpha: float,\n",
    "    r_min: float,\n",
    "    r_max: float,\n",
    "    mrp: float,\n",
    "    L: float,\n",
    "    max_t: int,\n",
    "    radii: np.array\n",
    "):\n",
    "    n_radii_buckets = 1000\n",
    "    n_radii = len(radii)\n",
    "    region_area = L**2\n",
    "    \n",
    "    crater_record_buckets = [\n",
    "        [(1.0, 1.0)]\n",
    "        for x in range(n_radii_buckets)\n",
    "    ]\n",
    "\n",
    "    for bucket in crater_record_buckets:\n",
    "        bucket.clear()\n",
    "\n",
    "    for t in range(1, max_t + 1):\n",
    "        r = radii[t % n_radii]\n",
    "\n",
    "        area = np.pi * r**2\n",
    "        prob = area / region_area\n",
    "\n",
    "        max_idx = get_radius_index(r, r_min, r_max, n_radii_buckets)\n",
    "        for idx in range(min(max_idx + 1, n_radii_buckets - 1)):\n",
    "            bucket = crater_record_buckets[idx]\n",
    "\n",
    "            remove_indexes = []\n",
    "            for bucket_idx, (radius, rim_length) in enumerate(bucket):\n",
    "                if r > radius:\n",
    "                    new_rim_length = rim_length * (1 - prob)\n",
    "                    if new_rim_length < mrp * 2 * np.pi * radius:\n",
    "                        remove_indexes.append(bucket_idx)\n",
    "                    else:\n",
    "                        bucket[bucket_idx] = (radius, new_rim_length)\n",
    "\n",
    "            remove_indexes.reverse()\n",
    "            for remove_index in remove_indexes:\n",
    "                del bucket[remove_index]\n",
    "\n",
    "        crater_record_buckets[idx].append((r, 2 * np.pi * r))\n",
    "        \n",
    "        if t % n_radii == 0:\n",
    "            np.random.shuffle(radii)\n",
    "\n",
    "    return crater_record_buckets"
   ]
  },
  {
   "cell_type": "code",
   "execution_count": null,
   "id": "668caa4d-a6d7-4d89-9ba9-38e76f731c07",
   "metadata": {},
   "outputs": [],
   "source": [
    "alpha = 2.5\n",
    "mrp = 0.75\n",
    "r_min = 3\n",
    "r_max = 300\n",
    "L = r_max * 4\n",
    "max_t = 5000000000\n",
    "\n",
    "r_samples = scipy.stats.pareto.rvs(alpha, scale=r_min, size=5000000)\n",
    "r_samples = r_samples[r_samples < r_max]\n",
    "\n",
    "result = simulate(\n",
    "    alpha,\n",
    "    r_min,\n",
    "    r_max,\n",
    "    mrp,\n",
    "    L,\n",
    "    max_t,\n",
    "    r_samples\n",
    ")\n",
    "\n",
    "df = pd.DataFrame([\n",
    "    (r, rem)\n",
    "    for bucket in result\n",
    "    for r, rem in bucket\n",
    "], columns=[\"r\", \"rem\"])\n",
    "\n",
    "df = df.sort_values(\"r\")\n",
    "y = np.arange(df.shape[0] + 1, 1, -1)\n",
    "plt.plot(\n",
    "    df.r,\n",
    "    y\n",
    ")\n",
    "\n",
    "calculated = df.r**-2\n",
    "calculated = (calculated/calculated.max()) * y[0]\n",
    "plt.plot(\n",
    "    df.r,\n",
    "    calculated\n",
    ")\n",
    "\n",
    "plt.xscale(\"log\")\n",
    "plt.yscale(\"log\")"
   ]
  },
  {
   "cell_type": "code",
   "execution_count": null,
   "id": "898f3f0d-ed15-467a-92a1-c20c21f98901",
   "metadata": {},
   "outputs": [],
   "source": [
    "result1 = df"
   ]
  },
  {
   "cell_type": "code",
   "execution_count": null,
   "id": "74702aa1-d2c5-4e8f-a189-1554298ba546",
   "metadata": {},
   "outputs": [],
   "source": []
  },
  {
   "cell_type": "code",
   "execution_count": null,
   "id": "0f699769-a40f-4eef-8a72-6c8858c9d6a1",
   "metadata": {},
   "outputs": [],
   "source": [
    "alpha = 3.5\n",
    "mrp = 0.75\n",
    "r_min = 3\n",
    "r_max = 300\n",
    "L = r_max * 4\n",
    "max_t = 5000000000\n",
    "\n",
    "r_samples = scipy.stats.pareto.rvs(alpha, scale=r_min, size=5000000)\n",
    "r_samples = r_samples[r_samples < r_max]\n",
    "\n",
    "result = simulate(\n",
    "    alpha,\n",
    "    r_min,\n",
    "    r_max,\n",
    "    mrp,\n",
    "    L,\n",
    "    max_t,\n",
    "    r_samples\n",
    ")\n",
    "\n",
    "df = pd.DataFrame([\n",
    "    (r, rem)\n",
    "    for bucket in result\n",
    "    for r, rem in bucket\n",
    "], columns=[\"r\", \"rem\"])\n",
    "\n",
    "df = df.sort_values(\"r\")\n",
    "y = np.arange(df.shape[0] + 1, 1, -1)\n",
    "plt.plot(\n",
    "    df.r,\n",
    "    y\n",
    ")\n",
    "\n",
    "calculated = df.r**-2\n",
    "calculated = (calculated/calculated.max()) * y[0]\n",
    "plt.plot(\n",
    "    df.r,\n",
    "    calculated\n",
    ")\n",
    "\n",
    "plt.xscale(\"log\")\n",
    "plt.yscale(\"log\")"
   ]
  },
  {
   "cell_type": "code",
   "execution_count": null,
   "id": "4b57524f-7a50-48cc-96e5-78c729b393a7",
   "metadata": {},
   "outputs": [],
   "source": [
    "result2 = df"
   ]
  },
  {
   "cell_type": "code",
   "execution_count": null,
   "id": "2e8e98a6-0827-4909-8c1f-130562103e54",
   "metadata": {},
   "outputs": [],
   "source": []
  },
  {
   "cell_type": "code",
   "execution_count": null,
   "id": "101b1367-7924-4e94-8fb3-33430a570650",
   "metadata": {},
   "outputs": [],
   "source": [
    "alpha = 4.0\n",
    "mrp = 0.75\n",
    "r_min = 3\n",
    "r_max = 300\n",
    "L = r_max * 4\n",
    "max_t = 5000000000\n",
    "\n",
    "r_samples = scipy.stats.pareto.rvs(alpha, scale=r_min, size=5000000)\n",
    "r_samples = r_samples[r_samples < r_max]\n",
    "\n",
    "result = simulate(\n",
    "    alpha,\n",
    "    r_min,\n",
    "    r_max,\n",
    "    mrp,\n",
    "    L,\n",
    "    max_t,\n",
    "    r_samples\n",
    ")\n",
    "\n",
    "df = pd.DataFrame([\n",
    "    (r, rem)\n",
    "    for bucket in result\n",
    "    for r, rem in bucket\n",
    "], columns=[\"r\", \"rem\"])\n",
    "\n",
    "df = df.sort_values(\"r\")\n",
    "y = np.arange(df.shape[0] + 1, 1, -1)\n",
    "plt.plot(\n",
    "    df.r,\n",
    "    y\n",
    ")\n",
    "\n",
    "calculated = df.r**-2\n",
    "calculated = (calculated/calculated.max()) * y[0]\n",
    "plt.plot(\n",
    "    df.r,\n",
    "    calculated\n",
    ")\n",
    "\n",
    "plt.xscale(\"log\")\n",
    "plt.yscale(\"log\")"
   ]
  },
  {
   "cell_type": "code",
   "execution_count": null,
   "id": "e6cfc8c1-8ac6-4087-b8b9-7e5e4c54e632",
   "metadata": {},
   "outputs": [],
   "source": [
    "result3 = df"
   ]
  },
  {
   "cell_type": "code",
   "execution_count": null,
   "id": "9cccdda2-1a37-4c5e-a26c-f4ee630e086f",
   "metadata": {},
   "outputs": [],
   "source": []
  },
  {
   "cell_type": "markdown",
   "id": "b567562f-c734-428d-abe7-a9b02ef75c1f",
   "metadata": {},
   "source": [
    "## Plotting expected destructive area using a truncated Pareto"
   ]
  },
  {
   "cell_type": "code",
   "execution_count": 100,
   "id": "b457c28b-9673-4854-acbf-583d82a44046",
   "metadata": {},
   "outputs": [],
   "source": [
    "def exp_destruction_truncated(\n",
    "    r: float,\n",
    "    alpha: float,\n",
    "    r_min: float,\n",
    "    r_max: float,\n",
    "    erat: float\n",
    "):\n",
    "    part1 = alpha * np.pi * r_min**alpha / ((1 - (r_min/r_max)**alpha) * (alpha - 2))\n",
    "    part2 = (r/erat)**(2 - alpha) - r_max**(2 - alpha)\n",
    "    return part1 * part2\n",
    "\n",
    "def exp_destruction_non_truncated(\n",
    "    r: float,\n",
    "    alpha: float,\n",
    "    r_min: float,\n",
    "    r_max: float,\n",
    "    erat: float\n",
    "):\n",
    "    part1 = alpha * np.pi * r_min**alpha / (alpha - 2)\n",
    "    part2 = (r/erat)**(2 - alpha)\n",
    "    return part1 * part2"
   ]
  },
  {
   "cell_type": "code",
   "execution_count": 150,
   "id": "a1f1167f-0deb-427b-a44b-4593b80a0854",
   "metadata": {},
   "outputs": [],
   "source": [
    "alpha = 2.5\n",
    "erat = 1.0\n",
    "r_min = 3\n",
    "r_max = 300\n",
    "L = r_max * 10\n",
    "\n",
    "radii = np.array(range(5, 100))\n",
    "dest1 = exp_destruction_truncated(\n",
    "    radii,\n",
    "    alpha,\n",
    "    r_min,\n",
    "    r_max,\n",
    "    erat\n",
    ")\n",
    "\n",
    "dest2 = exp_destruction_non_truncated(\n",
    "    radii,\n",
    "    alpha,\n",
    "    r_min,\n",
    "    r_max,\n",
    "    erat\n",
    ")"
   ]
  },
  {
   "cell_type": "code",
   "execution_count": 151,
   "id": "e5c476c2-e1a1-4095-8057-0e6d22d69ee7",
   "metadata": {},
   "outputs": [],
   "source": [
    "lmbda = np.log(.5)/np.log(1 - dest1/L**2)"
   ]
  },
  {
   "cell_type": "code",
   "execution_count": 152,
   "id": "87d83487-f830-433f-a664-045302275c8b",
   "metadata": {},
   "outputs": [
    {
     "data": {
      "image/png": "[encoded data removed]",
      "text/plain": [
       "<Figure size 640x480 with 1 Axes>"
      ]
     },
     "metadata": {},
     "output_type": "display_data"
    }
   ],
   "source": [
    "plt.plot(\n",
    "    radii,\n",
    "    np.log(.5) / np.log(1 - dest1 / L**2)\n",
    ")\n",
    "\n",
    "# plt.plot(\n",
    "#     radii,\n",
    "#     np.log(.5) / np.log(1 - dest2 / L**2)\n",
    "# )\n",
    "\n",
    "# plt.plot(\n",
    "#     radii,\n",
    "#     radii**.5\n",
    "# )\n",
    "\n",
    "# plt.plot(\n",
    "#     radii,\n",
    "#     np.log(.5) / np.log(1 - dest2 / L**2),\n",
    "#     ls=\"dashed\"\n",
    "# )\n",
    "\n",
    "plt.xscale(\"log\")\n",
    "plt.yscale(\"log\")"
   ]
  },
  {
   "cell_type": "code",
   "execution_count": null,
   "id": "8d4599bf-bc63-4e11-95cb-5ab89a86265b",
   "metadata": {},
   "outputs": [],
   "source": []
  },
  {
   "cell_type": "code",
   "execution_count": null,
   "id": "f8e6ab90-3d25-46fc-9df7-c7e73891a1c1",
   "metadata": {},
   "outputs": [],
   "source": []
  },
  {
   "cell_type": "markdown",
   "id": "6784b89a-e07a-4e7e-b523-ac187674104f",
   "metadata": {},
   "source": [
    "## Plotting taylor approx for alpha < 2"
   ]
  },
  {
   "cell_type": "code",
   "execution_count": 61,
   "id": "b6f1440f-ea53-4075-8c48-696f0aa3bd91",
   "metadata": {},
   "outputs": [],
   "source": [
    "def alpha_lt_2_taylor_approx(\n",
    "    r: float,\n",
    "    alpha: float,\n",
    "    mrp: float,\n",
    "    r_min: float,\n",
    "    r_max: float,\n",
    "    L: float\n",
    "):\n",
    "    part1 = -L**2 * np.log(mrp) * (1 - (r_min/r_max)**alpha)*(alpha - 2)\n",
    "    part2 = (alpha * np.pi * r_min**alpha * ((r/r_min)**(2-alpha) - r_max**(2-alpha)))\n",
    "    return part1 / part2\n",
    "\n",
    "def alpha_gt_2_taylor_approx(\n",
    "    r: float,\n",
    "    alpha: float,\n",
    "    mrp: float,\n",
    "    r_min: float,\n",
    "    r_max: float,\n",
    "    L: float\n",
    "):\n",
    "    part1 = -L**2 * np.log(mrp) * (1 - (r_min/r_max)**alpha)*(alpha -2)\n",
    "    part2 = (alpha * np.pi * r_min**alpha * (r/r_min)**(2-alpha))\n",
    "    return part1 / part2\n",
    "\n",
    "def exp_destruction_truncated(\n",
    "    r: float,\n",
    "    alpha: float,\n",
    "    r_min: float,\n",
    "    r_max: float,\n",
    "    erat: float\n",
    "):\n",
    "    part1 = alpha * np.pi * r_min**alpha / ((1 - (r_min/r_max)**alpha) * (alpha - 2))\n",
    "    part2 = (r/erat)**(2 - alpha) - r_max**(2 - alpha)\n",
    "    return part1 * part2"
   ]
  },
  {
   "cell_type": "code",
   "execution_count": 95,
   "id": "c3deca60-ea18-4f35-904e-f97ff9b5895d",
   "metadata": {},
   "outputs": [],
   "source": [
    "alpha = 2.5\n",
    "mrp = 0.5\n",
    "r_min = 3\n",
    "r_max = 1000\n",
    "L = 50000\n",
    "\n",
    "r = np.array(range(5, 100))\n",
    "approx_gt_2 = alpha_gt_2_taylor_approx(\n",
    "    r,\n",
    "    alpha,\n",
    "    mrp,\n",
    "    r_min,\n",
    "    r_max,\n",
    "    L\n",
    ")"
   ]
  },
  {
   "cell_type": "code",
   "execution_count": 96,
   "id": "a81b69b1-0378-4fb9-b0a7-be46ee836b03",
   "metadata": {},
   "outputs": [],
   "source": [
    "approx_lt_2 = alpha_lt_2_taylor_approx(\n",
    "    r,\n",
    "    1.5,\n",
    "    mrp,\n",
    "    r_min,\n",
    "    r_max,\n",
    "    L\n",
    ")"
   ]
  },
  {
   "cell_type": "code",
   "execution_count": 97,
   "id": "71d701fc-b2ab-4cf1-a352-0fe658bd8d4d",
   "metadata": {},
   "outputs": [],
   "source": [
    "psi = exp_destruction_truncated(\n",
    "    r,\n",
    "    alpha,\n",
    "    r_min,\n",
    "    r_max,\n",
    "    1.0\n",
    ")\n",
    "\n",
    "lmbda = np.log(mrp) / np.log(1 - psi / L**2)"
   ]
  },
  {
   "cell_type": "code",
   "execution_count": 98,
   "id": "99bd1f6a-05b0-4a2a-83da-06694d2d0d03",
   "metadata": {},
   "outputs": [
    {
     "data": {
      "text/plain": [
       "array([101.76282918,  92.22166634,  84.80627889,  78.82890716,\n",
       "        73.87776258,  69.68924145,  66.08573383,  62.9426205 ,\n",
       "        60.1695377 ,  57.69914975,  55.4801147 ,  53.47250967,\n",
       "        51.64476016,  49.97152176,  48.43218379,  47.00979007,\n",
       "        45.69024582,  44.46172539,  43.31422319,  42.23920864,\n",
       "        41.22935793,  40.27834299,  39.38066398,  38.53151492,\n",
       "        37.72667502,  36.96242018,  36.23545028,  35.54282906,\n",
       "        34.88193409,  34.25041499,  33.6461581 ,  33.06725676,\n",
       "        32.51198591,  31.97878045,  31.46621666,  30.9729962 ,\n",
       "        30.49793225,  30.03993751,  29.5980137 ,  29.17124239,\n",
       "        28.75877703,  28.3598358 ,  27.97369545,  27.59968573,\n",
       "        27.2371845 ,  26.88561343,  26.54443406,  26.21314432,\n",
       "        25.89127551,  25.57838941,  25.27407584,  24.97795035,\n",
       "        24.68965222,  24.4088426 ,  24.1352028 ,  23.86843282,\n",
       "        23.60824995,  23.35438748,  23.1065936 ,  22.86463031,\n",
       "        22.62827249,  22.397307  ,  22.17153186,  21.95075556,\n",
       "        21.73479629,  21.52348142,  21.31664681,  21.11413635,\n",
       "        20.91580146,  20.72150057,  20.53109877,  20.34446737,\n",
       "        20.16148356,  19.98203004,  19.80599474,  19.63327051,\n",
       "        19.46375483,  19.29734957,  19.13396077,  18.97349838,\n",
       "        18.81587608,  18.66101106,  18.50882385,  18.35923817,\n",
       "        18.21218074,  18.06758112,  17.9253716 ,  17.78548707,\n",
       "        17.64786485,  17.51244461,  17.37916825,  17.2479798 ,\n",
       "        17.11882529,  16.99165272,  16.86641191])"
      ]
     },
     "execution_count": 98,
     "metadata": {},
     "output_type": "execute_result"
    }
   ],
   "source": [
    "psi"
   ]
  },
  {
   "cell_type": "code",
   "execution_count": 99,
   "id": "9853e818-9273-440a-bfda-2a88c27638df",
   "metadata": {},
   "outputs": [
    {
     "data": {
      "image/png": "[encoded data removed]",
      "text/plain": [
       "<Figure size 640x480 with 1 Axes>"
      ]
     },
     "metadata": {},
     "output_type": "display_data"
    }
   ],
   "source": [
    "plt.plot(\n",
    "    r,\n",
    "    lmbda\n",
    ")\n",
    "\n",
    "\n",
    "y = r**(alpha - 2)\n",
    "y = (y/y[0]) * lmbda[0]\n",
    "plt.plot(\n",
    "    r,\n",
    "    (approx_gt_2/approx_gt_2[0]) * lmbda[0]\n",
    ")\n",
    "\n",
    "plt.xscale(\"log\")\n",
    "plt.yscale(\"log\")"
   ]
  },
  {
   "cell_type": "code",
   "execution_count": null,
   "id": "1aa3fea0-baed-4ce6-82da-ed77459a44e7",
   "metadata": {},
   "outputs": [],
   "source": []
  },
  {
   "cell_type": "code",
   "execution_count": null,
   "id": "f9878bf0-af21-491a-b50e-1400f496d8eb",
   "metadata": {},
   "outputs": [],
   "source": []
  },
  {
   "cell_type": "markdown",
   "id": "52dd1c5a-5c02-4a41-aed9-175fa5e9e879",
   "metadata": {},
   "source": [
    "## Testing variance of X^2 trunc pareto"
   ]
  },
  {
   "cell_type": "code",
   "execution_count": 157,
   "id": "db2cfcb3-389d-45d8-8263-f00f85748ad3",
   "metadata": {},
   "outputs": [],
   "source": [
    "alpha = 1.5\n",
    "mrp = 0.5\n",
    "r_min = 3\n",
    "r_max = 1000\n",
    "L = 50000"
   ]
  },
  {
   "cell_type": "code",
   "execution_count": 191,
   "id": "5ba8f0c9-17a1-4865-822d-292deef264a8",
   "metadata": {},
   "outputs": [],
   "source": [
    "def calc_e_x4(\n",
    "    r,\n",
    "    alpha,\n",
    "    r_min,\n",
    "    r_max\n",
    "):\n",
    "    # term = r_max**(2-alpha) - r_min**(2-alpha)\n",
    "    term = 1/r_max**(alpha-4) - 1/r_min**(alpha-4)\n",
    "        \n",
    "    return alpha * r_min**alpha / ((4 - alpha) * (1 - (r_min/r_max)**alpha)) * term\n",
    "\n",
    "def calc_e_x2(\n",
    "    r,\n",
    "    alpha,\n",
    "    r_min,\n",
    "    r_max\n",
    "):\n",
    "    term = 1/r_max**(alpha-2) - 1/r_min**(alpha-2)\n",
    "    return alpha * r_min**alpha / ((2 - alpha) * (1 - (r_min/r_max)**alpha)) * term"
   ]
  },
  {
   "cell_type": "code",
   "execution_count": 182,
   "id": "0d1a2d4c-94c7-4a21-bc33-2f5ae2de33c2",
   "metadata": {},
   "outputs": [
    {
     "data": {
      "text/plain": [
       "array([22.41904111, 13.99983811, 11.2499996 ,  9.9       ,  9.1       ,\n",
       "        8.57142857,  8.19642857])"
      ]
     },
     "execution_count": 182,
     "metadata": {},
     "output_type": "execute_result"
    }
   ],
   "source": [
    "calc_e_x2(\n",
    "    5,\n",
    "    np.array(range(3, 10)),\n",
    "    r_min,\n",
    "    r_max\n",
    ") - calc_e_x1(\n",
    "    5,\n",
    "    np.array(range(3, 10)),\n",
    "    r_min,\n",
    "    r_max\n",
    ")"
   ]
  },
  {
   "cell_type": "code",
   "execution_count": 197,
   "id": "54e26aca-bd9e-4b7d-b5c8-48363507bdd6",
   "metadata": {},
   "outputs": [
    {
     "data": {
      "text/plain": [
       "633437508.0760909"
      ]
     },
     "execution_count": 197,
     "metadata": {},
     "output_type": "execute_result"
    }
   ],
   "source": [
    "calc_e_x4(\n",
    "    5,\n",
    "    1.1,\n",
    "    r_min,\n",
    "    r_max\n",
    ") - (calc_e_x2(\n",
    "    5,\n",
    "    1.1,\n",
    "    r_min,\n",
    "    r_max\n",
    "))**2"
   ]
  },
  {
   "cell_type": "code",
   "execution_count": null,
   "id": "0c15c99a-168c-4d2b-94b2-d8009eec6734",
   "metadata": {},
   "outputs": [],
   "source": []
  },
  {
   "cell_type": "markdown",
   "id": "501ab630-9d53-4477-9c90-75b6b1782100",
   "metadata": {},
   "source": [
    "## Testing new functions"
   ]
  },
  {
   "cell_type": "code",
   "execution_count": 6,
   "id": "d88394ef-6890-4cc9-9594-5ac070b5afc9",
   "metadata": {},
   "outputs": [
    {
     "data": {
      "image/png": "[encoded data removed]",
      "text/plain": [
       "<Figure size 640x480 with 1 Axes>"
      ]
     },
     "metadata": {},
     "output_type": "display_data"
    }
   ],
   "source": [
    "n_periods = 7\n",
    "r_min_period = 5\n",
    "r_max_period = 300\n",
    "\n",
    "radii = np.array(range(5, 5000))\n",
    "y = (np.sin(np.log(radii) * 2 * np.pi / np.log(r_max_period/r_min_period) * n_periods) + 2) * radii / 4\n",
    "\n",
    "plt.plot(\n",
    "    radii,\n",
    "    y\n",
    ")\n",
    "\n",
    "plt.plot(\n",
    "    radii,\n",
    "    radii\n",
    ")\n",
    "\n",
    "# plt.plot(\n",
    "#     radii,\n",
    "#     radii / 3\n",
    "# )\n",
    "\n",
    "plt.xscale(\"log\")\n",
    "plt.yscale(\"log\")"
   ]
  },
  {
   "cell_type": "code",
   "execution_count": 33,
   "id": "4c30ba1f-c6bd-41c0-839b-007c7e69ee23",
   "metadata": {},
   "outputs": [],
   "source": [
    "import numpy as np\n",
    "import numba as nb\n",
    "\n",
    "\n",
    "@nb.njit(fastmath=True)\n",
    "def calc_thing(lmbda, t):\n",
    "    result = np.zeros(len(lmbda))\n",
    "    semi_result = np.ones(len(lmbda))\n",
    "    for x in range(t+1):\n",
    "        semi_result *= (1 - 1/lmbda)\n",
    "        result += semi_result\n",
    "    return result\n",
    "    "
   ]
  },
  {
   "cell_type": "code",
   "execution_count": 3,
   "id": "e5dd0128-e84d-4480-b76a-718d9291cd5e",
   "metadata": {},
   "outputs": [
    {
     "data": {
      "image/png": "[encoded data removed]",
      "text/plain": [
       "<Figure size 640x480 with 1 Axes>"
      ]
     },
     "metadata": {},
     "output_type": "display_data"
    }
   ],
   "source": [
    "# Trying to show the equilibrium distribution\n",
    "n_periods = 5\n",
    "r_min_period = 3\n",
    "r_max_period = 50\n",
    "alpha = 3.5\n",
    "S = 500\n",
    "\n",
    "resolution = 10\n",
    "\n",
    "radii = (np.array(range(r_min_period * resolution, r_max_period * resolution)) / resolution).astype(np.float64)\n",
    "orig_y = (np.sin(np.log(radii) * 2 * np.pi / np.log(r_max_period/r_min_period) * n_periods) + 2) * radii * 8\n",
    "y = 1/orig_y**(alpha - 2)\n",
    "el = np.log(.5) / np.log(1 - y / S**2)\n",
    "act = el / radii ** (alpha + 1)\n",
    "# y = np.sum([(1 - 1/el)**t for t in range(1000)], axis=0)\n",
    "\n",
    "# plt.plot(\n",
    "#     radii,\n",
    "#     calc_thing(el, 100000)/ radii ** (alpha + 1)\n",
    "# )\n",
    "\n",
    "# diff = calc_thing(el, 10000000)/ radii ** (alpha + 1)\n",
    "# cumulative = np.flip(np.flip(diff).cumsum())\n",
    "\n",
    "# plt.plot(\n",
    "#     radii,\n",
    "#     diff, #cumulative\n",
    "# )\n",
    "\n",
    "\n",
    "# plt.plot(\n",
    "#     radii,\n",
    "#     cumulative\n",
    "# )\n",
    "\n",
    "plt.plot(\n",
    "    radii,\n",
    "    act\n",
    ")\n",
    "\n",
    "# plt.plot(\n",
    "#     radii,\n",
    "#     calc_thing(el, 40000000)/ radii ** (alpha + 1)\n",
    "# )\n",
    "\n",
    "# plt.plot(\n",
    "#     radii,\n",
    "#     radii / 3\n",
    "# )\n",
    "\n",
    "plt.xscale(\"log\")\n",
    "plt.yscale(\"log\")"
   ]
  },
  {
   "cell_type": "code",
   "execution_count": 60,
   "id": "446e9991-f111-4192-a509-245653ed6efe",
   "metadata": {},
   "outputs": [
    {
     "data": {
      "text/plain": [
       "np.float64(0.5000051038415053)"
      ]
     },
     "execution_count": 60,
     "metadata": {},
     "output_type": "execute_result"
    }
   ],
   "source": [
    "r_min_period / (orig_y / radii).max()"
   ]
  },
  {
   "cell_type": "code",
   "execution_count": 322,
   "id": "79bb5511-ce27-45db-bf93-ff2906d500d7",
   "metadata": {},
   "outputs": [
    {
     "data": {
      "text/plain": [
       "3162.2776601683795"
      ]
     },
     "execution_count": 322,
     "metadata": {},
     "output_type": "execute_result"
    }
   ],
   "source": [
    "10**3.5"
   ]
  },
  {
   "cell_type": "code",
   "execution_count": 88,
   "id": "ace55ca9-e9f9-45c6-885e-53d2062fdb1d",
   "metadata": {},
   "outputs": [],
   "source": [
    "def calc_integral(r, alpha):\n",
    "    return -1/r**(alpha-1) * ((alpha - 1) * np.sin(np.log(r) + 2) + np.cos(np.log(r) + 2)) / (alpha**2 - 2*alpha + 2)"
   ]
  },
  {
   "cell_type": "code",
   "execution_count": 90,
   "id": "70670604-7d45-4c1d-b452-71b4b8c19c93",
   "metadata": {},
   "outputs": [
    {
     "data": {
      "text/plain": [
       "[<matplotlib.lines.Line2D at 0x7d9120ec9160>]"
      ]
     },
     "execution_count": 90,
     "metadata": {},
     "output_type": "execute_result"
    },
    {
     "data": {
      "image/png": "[encoded data removed]",
      "text/plain": [
       "<Figure size 640x480 with 1 Axes>"
      ]
     },
     "metadata": {},
     "output_type": "display_data"
    }
   ],
   "source": [
    "radii = np.array(range(5, 50))\n",
    "y = calc_integral(radii, alpha) - calc_integral(3, alpha)\n",
    "\n",
    "plt.plot(\n",
    "    radii,\n",
    "    y\n",
    ")\n",
    "\n",
    "# plt.xscale(\"log\")\n",
    "# plt.yscale(\"log\")"
   ]
  },
  {
   "cell_type": "code",
   "execution_count": 324,
   "id": "45c198ab-4754-4903-ad02-012cdd14c4ec",
   "metadata": {},
   "outputs": [
    {
     "data": {
      "text/plain": [
       "np.float64(3.9988550967851513)"
      ]
     },
     "execution_count": 324,
     "metadata": {},
     "output_type": "execute_result"
    }
   ],
   "source": [
    "(radii / y).max()"
   ]
  },
  {
   "cell_type": "code",
   "execution_count": null,
   "id": "bd643087-d16e-43f7-9ace-0a7d233c35fc",
   "metadata": {},
   "outputs": [],
   "source": []
  }
 ],
 "metadata": {
  "kernelspec": {
   "display_name": "Python 3 (ipykernel)",
   "language": "python",
   "name": "python3"
  },
  "language_info": {
   "codemirror_mode": {
    "name": "ipython",
    "version": 3
   },
   "file_extension": ".py",
   "mimetype": "text/x-python",
   "name": "python",
   "nbconvert_exporter": "python",
   "pygments_lexer": "ipython3",
   "version": "3.12.4"
  }
 },
 "nbformat": 4,
 "nbformat_minor": 5
}
