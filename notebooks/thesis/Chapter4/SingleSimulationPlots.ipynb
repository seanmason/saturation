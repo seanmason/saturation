{
 "cells": [
  {
   "cell_type": "code",
   "execution_count": 126,
   "id": "64f76952-9fe1-480c-8dfb-06ea665fc5d7",
   "metadata": {
    "ExecuteTime": {
     "end_time": "2024-07-17T22:16:31.615391Z",
     "start_time": "2024-07-17T22:16:31.586776Z"
    }
   },
   "outputs": [
    {
     "name": "stdout",
     "output_type": "stream",
     "text": [
      "The autoreload extension is already loaded. To reload it, use:\n",
      "  %reload_ext autoreload\n"
     ]
    }
   ],
   "source": [
    "%load_ext autoreload\n",
    "%autoreload 2"
   ]
  },
  {
   "cell_type": "code",
   "execution_count": 127,
   "id": "01f31e05-b001-4fbd-9484-9e76b693ced7",
   "metadata": {
    "ExecuteTime": {
     "end_time": "2024-07-17T22:17:31.006100Z",
     "start_time": "2024-07-17T22:17:30.982888Z"
    }
   },
   "outputs": [],
   "source": [
    "import glob\n",
    "from saturation.utils import *"
   ]
  },
  {
   "cell_type": "code",
   "execution_count": 128,
   "id": "d998e74b-5390-4526-8e6e-65acf0828f23",
   "metadata": {
    "ExecuteTime": {
     "end_time": "2024-07-17T22:17:37.593948Z",
     "start_time": "2024-07-17T22:17:33.555232Z"
    }
   },
   "outputs": [],
   "source": [
    "n_cores = 28\n",
    "\n",
    "spark = (SparkSession.builder\n",
    "         .master(f\"local[{n_cores}]\")\n",
    "         .appName(\"Saturation\")\n",
    "         .config(\"spark.sql.shuffle.partitions\", \"500\")\n",
    "         .config(\"spark.driver.memory\", \"60g\")\n",
    "         .config(\"spark.driver.maxResultSize\", \"8g\")\n",
    "         .getOrCreate())"
   ]
  },
  {
   "cell_type": "code",
   "execution_count": 129,
   "id": "820c3f98-e0ab-44f1-a323-51e7888ac05b",
   "metadata": {
    "ExecuteTime": {
     "end_time": "2024-07-17T22:20:54.283356Z",
     "start_time": "2024-07-17T22:20:49.541887Z"
    }
   },
   "outputs": [
    {
     "name": "stderr",
     "output_type": "stream",
     "text": [
      "                                                                                \r"
     ]
    }
   ],
   "source": [
    "base_path = \"/data/saturation/thesis_run_20240717_rmult_erat_tests\"\n",
    "configs_df = create_configs_df(read_configs(base_path, spark))\n",
    "configs_pdf = configs_df.toPandas()\n",
    "\n",
    "# For stats, select only fields we care about, alias them\n",
    "data = spark.read.parquet(f\"{base_path}/*/statistics_*.parquet\")\n",
    "data = data.select(\n",
    "    \"simulation_id\",\n",
    "    \"ntot\",\n",
    "    \"nobs\",\n",
    "    \"mnnd\",\n",
    "    \"z\",\n",
    "    \"za\",\n",
    "    F.col(\"areal_density\").alias(\"ad\"),\n",
    "    F.log10(\"mnnd\").alias(\"log_mnnd\"),\n",
    "    F.log10(\"nobs\").alias(\"log_nobs\"),\n",
    "    F.log10(\"ntot\").alias(\"log_ntot\"),\n",
    ").where(F.col(\"ntot\") > 1)\n",
    "\n",
    "# Join with configs to get simulation parameters\n",
    "data = join_configs(data, configs_df, spark)"
   ]
  },
  {
   "cell_type": "code",
   "execution_count": 130,
   "id": "c8cfbe84-0e53-429c-b604-ee6dfa93de10",
   "metadata": {
    "ExecuteTime": {
     "end_time": "2024-07-17T22:21:08.186083Z",
     "start_time": "2024-07-17T22:20:54.284982Z"
    }
   },
   "outputs": [],
   "source": [
    "configs_dict = dict()\n",
    "for config_file in glob.glob(f\"{base_path}/config/config*.yaml\"):\n",
    "    for run_config in read_config(Path(config_file))[\"run_configurations\"]:\n",
    "        configs_dict.update(run_config)"
   ]
  },
  {
   "cell_type": "code",
   "execution_count": null,
   "id": "0ee0e5b9-b194-4ce7-a5d3-e9b933fa80ee",
   "metadata": {
    "ExecuteTime": {
     "end_time": "2024-07-17T22:21:08.190264Z",
     "start_time": "2024-07-17T22:21:08.187164Z"
    }
   },
   "outputs": [],
   "source": []
  },
  {
   "cell_type": "code",
   "execution_count": 131,
   "id": "918e3a54-f45b-4013-883b-73ee1be45661",
   "metadata": {
    "ExecuteTime": {
     "end_time": "2024-07-17T22:21:10.451239Z",
     "start_time": "2024-07-17T22:21:10.427509Z"
    }
   },
   "outputs": [],
   "source": [
    "def plot_metric(\n",
    "    data: pd.DataFrame,\n",
    "    x_var: str,\n",
    "    x_label: str,\n",
    "    y_var: str,\n",
    "    y_label: str,\n",
    "    dotted_horizontal_lines: list[float] = None\n",
    "):\n",
    "    font_size = 16\n",
    "\n",
    "    fig = plt.figure(figsize=(5, 4))\n",
    "    ax = fig.add_subplot(111)\n",
    "\n",
    "    ax.plot(data[x_var], data[y_var], color='b')\n",
    "\n",
    "    if dotted_horizontal_lines:\n",
    "        for y_val in dotted_horizontal_lines:\n",
    "            ax.axhline(y_val, color=\"r\", linestyle=\"--\")\n",
    "    \n",
    "    ax.set_xlabel(x_label, fontsize=font_size)\n",
    "    ax.set_ylabel(y_label, fontsize=font_size)\n",
    "\n",
    "    return fig"
   ]
  },
  {
   "cell_type": "code",
   "execution_count": null,
   "id": "0654e9b0-bb81-470a-ba05-a71b3c0918cd",
   "metadata": {
    "ExecuteTime": {
     "end_time": "2024-07-17T22:21:10.840509Z",
     "start_time": "2024-07-17T22:21:10.838074Z"
    }
   },
   "outputs": [],
   "source": []
  },
  {
   "cell_type": "markdown",
   "id": "54a8332f-7c48-4e56-8545-06f69f321c58",
   "metadata": {},
   "source": [
    "## Plots of individual simulations vs N_tot, shallow slope"
   ]
  },
  {
   "cell_type": "code",
   "execution_count": 132,
   "id": "76b9b924-9f4b-4e58-b105-88752a3fb0cf",
   "metadata": {},
   "outputs": [
    {
     "data": {
      "text/html": [
       "<div>\n",
       "<style scoped>\n",
       "    .dataframe tbody tr th:only-of-type {\n",
       "        vertical-align: middle;\n",
       "    }\n",
       "\n",
       "    .dataframe tbody tr th {\n",
       "        vertical-align: top;\n",
       "    }\n",
       "\n",
       "    .dataframe thead th {\n",
       "        text-align: right;\n",
       "    }\n",
       "</style>\n",
       "<table border=\"1\" class=\"dataframe\">\n",
       "  <thead>\n",
       "    <tr style=\"text-align: right;\">\n",
       "      <th></th>\n",
       "      <th>erat</th>\n",
       "      <th>mrp</th>\n",
       "      <th>rmult</th>\n",
       "      <th>simulation_id</th>\n",
       "      <th>slope</th>\n",
       "    </tr>\n",
       "  </thead>\n",
       "  <tbody>\n",
       "    <tr>\n",
       "      <th>0</th>\n",
       "      <td>1.0</td>\n",
       "      <td>0.50</td>\n",
       "      <td>1.0</td>\n",
       "      <td>1</td>\n",
       "      <td>-4.0</td>\n",
       "    </tr>\n",
       "    <tr>\n",
       "      <th>1</th>\n",
       "      <td>1.0</td>\n",
       "      <td>0.50</td>\n",
       "      <td>1.0</td>\n",
       "      <td>2</td>\n",
       "      <td>-3.5</td>\n",
       "    </tr>\n",
       "    <tr>\n",
       "      <th>2</th>\n",
       "      <td>1.0</td>\n",
       "      <td>0.50</td>\n",
       "      <td>3.0</td>\n",
       "      <td>10</td>\n",
       "      <td>-4.0</td>\n",
       "    </tr>\n",
       "    <tr>\n",
       "      <th>3</th>\n",
       "      <td>3.0</td>\n",
       "      <td>0.50</td>\n",
       "      <td>1.0</td>\n",
       "      <td>8</td>\n",
       "      <td>-4.0</td>\n",
       "    </tr>\n",
       "    <tr>\n",
       "      <th>4</th>\n",
       "      <td>1.0</td>\n",
       "      <td>0.25</td>\n",
       "      <td>1.0</td>\n",
       "      <td>4</td>\n",
       "      <td>-4.0</td>\n",
       "    </tr>\n",
       "    <tr>\n",
       "      <th>5</th>\n",
       "      <td>1.0</td>\n",
       "      <td>0.75</td>\n",
       "      <td>1.0</td>\n",
       "      <td>5</td>\n",
       "      <td>-4.0</td>\n",
       "    </tr>\n",
       "    <tr>\n",
       "      <th>6</th>\n",
       "      <td>1.0</td>\n",
       "      <td>0.50</td>\n",
       "      <td>2.0</td>\n",
       "      <td>9</td>\n",
       "      <td>-4.0</td>\n",
       "    </tr>\n",
       "  </tbody>\n",
       "</table>\n",
       "</div>"
      ],
      "text/plain": [
       "   erat   mrp  rmult  simulation_id  slope\n",
       "0   1.0  0.50    1.0              1   -4.0\n",
       "1   1.0  0.50    1.0              2   -3.5\n",
       "2   1.0  0.50    3.0             10   -4.0\n",
       "3   3.0  0.50    1.0              8   -4.0\n",
       "4   1.0  0.25    1.0              4   -4.0\n",
       "5   1.0  0.75    1.0              5   -4.0\n",
       "6   1.0  0.50    2.0              9   -4.0"
      ]
     },
     "execution_count": 132,
     "metadata": {},
     "output_type": "execute_result"
    }
   ],
   "source": [
    "configs_pdf"
   ]
  },
  {
   "cell_type": "code",
   "execution_count": 120,
   "id": "1a5ff818-0935-43de-86fd-a568aadeb6da",
   "metadata": {},
   "outputs": [
    {
     "data": {
      "text/html": [
       "<div>\n",
       "<style scoped>\n",
       "    .dataframe tbody tr th:only-of-type {\n",
       "        vertical-align: middle;\n",
       "    }\n",
       "\n",
       "    .dataframe tbody tr th {\n",
       "        vertical-align: top;\n",
       "    }\n",
       "\n",
       "    .dataframe thead th {\n",
       "        text-align: right;\n",
       "    }\n",
       "</style>\n",
       "<table border=\"1\" class=\"dataframe\">\n",
       "  <thead>\n",
       "    <tr style=\"text-align: right;\">\n",
       "      <th></th>\n",
       "      <th>erat</th>\n",
       "      <th>mrp</th>\n",
       "      <th>rmult</th>\n",
       "      <th>simulation_id</th>\n",
       "      <th>slope</th>\n",
       "    </tr>\n",
       "  </thead>\n",
       "  <tbody>\n",
       "  </tbody>\n",
       "</table>\n",
       "</div>"
      ],
      "text/plain": [
       "Empty DataFrame\n",
       "Columns: [erat, mrp, rmult, simulation_id, slope]\n",
       "Index: []"
      ]
     },
     "execution_count": 120,
     "metadata": {},
     "output_type": "execute_result"
    }
   ],
   "source": [
    "# Looking for a simulation with shallow slope\n",
    "configs_pdf[configs_pdf.slope.between(-1.1, -1.0)]"
   ]
  },
  {
   "cell_type": "code",
   "execution_count": 144,
   "id": "8fc04ff6-701b-4df1-9264-82be18b625dc",
   "metadata": {},
   "outputs": [
    {
     "data": {
      "text/html": [
       "<div>\n",
       "<style scoped>\n",
       "    .dataframe tbody tr th:only-of-type {\n",
       "        vertical-align: middle;\n",
       "    }\n",
       "\n",
       "    .dataframe tbody tr th {\n",
       "        vertical-align: top;\n",
       "    }\n",
       "\n",
       "    .dataframe thead th {\n",
       "        text-align: right;\n",
       "    }\n",
       "</style>\n",
       "<table border=\"1\" class=\"dataframe\">\n",
       "  <thead>\n",
       "    <tr style=\"text-align: right;\">\n",
       "      <th></th>\n",
       "      <th>erat</th>\n",
       "      <th>mrp</th>\n",
       "      <th>rmult</th>\n",
       "      <th>simulation_id</th>\n",
       "      <th>slope</th>\n",
       "    </tr>\n",
       "  </thead>\n",
       "  <tbody>\n",
       "    <tr>\n",
       "      <th>4</th>\n",
       "      <td>1.0</td>\n",
       "      <td>0.25</td>\n",
       "      <td>1.0</td>\n",
       "      <td>4</td>\n",
       "      <td>-4.0</td>\n",
       "    </tr>\n",
       "  </tbody>\n",
       "</table>\n",
       "</div>"
      ],
      "text/plain": [
       "   erat   mrp  rmult  simulation_id  slope\n",
       "4   1.0  0.25    1.0              4   -4.0"
      ]
     },
     "execution_count": 144,
     "metadata": {},
     "output_type": "execute_result"
    }
   ],
   "source": [
    "# Choosing simulation 1\n",
    "simulation_id = 4\n",
    "configs_pdf[configs_pdf.simulation_id == simulation_id]"
   ]
  },
  {
   "cell_type": "code",
   "execution_count": 134,
   "id": "45b6eb35-6808-45a6-b1bd-a70922a60cb7",
   "metadata": {},
   "outputs": [
    {
     "data": {
      "text/plain": [
       "{'erat': 1.0,\n",
       " 'max_crater_radius': 500,\n",
       " 'min_crater_radius': 3,\n",
       " 'mrp': 0.5,\n",
       " 'random_seed': 123,\n",
       " 'rmult': 1.0,\n",
       " 'simulation_name': '1.000_0.500_1.000_-4.000',\n",
       " 'slope': -4.0,\n",
       " 'spatial_hash_cell_size': 5,\n",
       " 'stop_condition': {'ntot': 10000000, 'name': 'ntot'},\n",
       " 'study_region_padding': 250,\n",
       " 'study_region_size': 2000}"
      ]
     },
     "execution_count": 134,
     "metadata": {},
     "output_type": "execute_result"
    }
   ],
   "source": [
    "# Full configuration\n",
    "configs_dict[simulation_id]"
   ]
  },
  {
   "cell_type": "code",
   "execution_count": 135,
   "id": "0beaf260-a9fe-4e17-9710-ab5ac76e7cb3",
   "metadata": {},
   "outputs": [
    {
     "name": "stderr",
     "output_type": "stream",
     "text": [
      "                                                                                \r"
     ]
    }
   ],
   "source": [
    "df = data.where(F.col(\"simulation_id\") == simulation_id).orderBy(\"ntot\").toPandas()"
   ]
  },
  {
   "cell_type": "code",
   "execution_count": 136,
   "id": "742b13db-cde9-4c45-9d96-62f3f740bdab",
   "metadata": {},
   "outputs": [
    {
     "data": {
      "image/png": "[encoded data removed]",
      "text/plain": [
       "<Figure size 600x400 with 1 Axes>"
      ]
     },
     "metadata": {},
     "output_type": "display_data"
    }
   ],
   "source": [
    "fig = plt.figure(figsize=(6, 4))\n",
    "ax1 = fig.add_subplot(111)\n",
    "\n",
    "plt1 = ax1.plot(\n",
    "    df.ntot,\n",
    "    df.nobs,\n",
    "    label=\"$N_{obs}$\",\n",
    "    lw=1,\n",
    "    ls=\"-\"\n",
    ")\n",
    "ax1.set_ylabel(\"$N_{obs}$\", fontsize=14)\n",
    "ax1.set_xlabel(\"$N_{tot}$\", fontsize=14)\n",
    "\n",
    "plt.show()"
   ]
  },
  {
   "cell_type": "code",
   "execution_count": 145,
   "id": "ba7767e3-6567-493b-bb85-e752255d0ef1",
   "metadata": {},
   "outputs": [
    {
     "name": "stderr",
     "output_type": "stream",
     "text": [
      "                                                                                \r"
     ]
    }
   ],
   "source": [
    "target_ntots = [50000, 500000, 1000000, 10000000]\n",
    "study_region_size = configs_dict[simulation_id][\"study_region_size\"]\n",
    "study_region_padding = configs_dict[simulation_id][\"study_region_padding\"]\n",
    "\n",
    "sim_name = configs_dict[simulation_id][\"simulation_name\"]\n",
    "sim_path = f\"{base_path}/{sim_name}\"\n",
    "\n",
    "stats_df = spark.read.parquet(f\"{sim_path}/statistics_*.parquet\")\n",
    "craters_df = spark.read.parquet(f\"{sim_path}/craters_*.parquet\")\n",
    "removals_df = spark.read.parquet(f\"{sim_path}/crater_removals_*.parquet\")\n",
    "\n",
    "states = {\n",
    "    x: get_state_at_time(\n",
    "        stats_df,\n",
    "        craters_df,\n",
    "        removals_df,\n",
    "        simulation_id,\n",
    "        x,\n",
    "        study_region_size,\n",
    "        study_region_padding,\n",
    "        spark\n",
    "    )\n",
    "    for x in target_ntots\n",
    "}"
   ]
  },
  {
   "cell_type": "code",
   "execution_count": 146,
   "id": "0cee5c02-8974-48f5-ae1f-a3386907de88",
   "metadata": {},
   "outputs": [],
   "source": [
    "# states[500].radius.mean()"
   ]
  },
  {
   "cell_type": "code",
   "execution_count": 147,
   "id": "7f79158c-a492-4c10-bced-97cd99dd3a8e",
   "metadata": {},
   "outputs": [
    {
     "data": {
      "image/png": "[encoded data removed]",
      "text/plain": [
       "<Figure size 900x400 with 1 Axes>"
      ]
     },
     "metadata": {},
     "output_type": "display_data"
    }
   ],
   "source": [
    "fig = plot_csfds_for_multiple_ntot(states, reference_slope=2.0, reference_intercept=1e6)\n",
    "fig.savefig(\"figures/shallow_slope_csfds.png\", bbox_inches=\"tight\")\n",
    "plt.show()"
   ]
  },
  {
   "cell_type": "code",
   "execution_count": 23,
   "id": "c8f07d7e-01f8-42c0-9724-a6dbff105d0f",
   "metadata": {},
   "outputs": [],
   "source": [
    "fig = plt.figure(figsize=(6, 6))\n",
    "ax = fig.add_subplot(111)\n",
    "\n",
    "ax.set_xlim([0, 4000])\n",
    "ax.set_ylim([0, 4000])\n",
    "\n",
    "s = states[1000]\n",
    "\n",
    "ax.scatter(s.x - 500, s.y - 500, s=0.5)"
   ]
  },
  {
   "cell_type": "code",
   "execution_count": 24,
   "id": "935474ca-ec68-4dbf-896b-541f3de223a7",
   "metadata": {},
   "outputs": [],
   "source": [
    "fig = plot_metric(\n",
    "    df,\n",
    "    \"ntot\",\n",
    "    \"$N_{tot}$\",\n",
    "    \"ad\",\n",
    "    \"$A_d$\",\n",
    "    dotted_horizontal_lines=[0.37]\n",
    ")\n",
    "fig.show()\n",
    "fig.savefig(\"figures/shallow_slope_ntot_ad.png\", bbox_inches=\"tight\")\n",
    "\n",
    "fig = plot_metric(\n",
    "    df,\n",
    "    \"ntot\",\n",
    "    \"$N_{tot}$\",\n",
    "    \"log_mnnd\",\n",
    "    \"$log_{10}(\\overline{NN}_d)$\",\n",
    "    dotted_horizontal_lines=[1.87]\n",
    ")\n",
    "fig.show()\n",
    "fig.savefig(\"figures/shallow_slope_ntot_mnnd.png\", bbox_inches=\"tight\")\n",
    "\n",
    "fig = plot_metric(\n",
    "    df,\n",
    "    \"ntot\",\n",
    "    \"$N_{tot}$\",\n",
    "    \"z\",\n",
    "    \"$Z$\",\n",
    "    dotted_horizontal_lines=[-1.96, 1.96]\n",
    ")\n",
    "fig.show()\n",
    "fig.savefig(\"figures/shallow_slope_ntot_z.png\", bbox_inches=\"tight\")\n",
    "\n",
    "fig = plot_metric(\n",
    "    df,\n",
    "    \"ntot\",\n",
    "    \"$N_{tot}$\",\n",
    "    \"za\",\n",
    "    \"$Z_a$\",\n",
    "    dotted_horizontal_lines=[-1.96, 1.96]\n",
    ")\n",
    "fig.show()\n",
    "fig.savefig(\"figures/shallow_slope_ntot_za.png\", bbox_inches=\"tight\")"
   ]
  },
  {
   "cell_type": "code",
   "execution_count": null,
   "id": "a69a6e21-b581-4cee-949a-0bbc55d94b5b",
   "metadata": {},
   "outputs": [],
   "source": []
  },
  {
   "cell_type": "code",
   "execution_count": 25,
   "id": "103d53a3-cd75-4dd5-b3e1-39f3d79be550",
   "metadata": {},
   "outputs": [],
   "source": [
    "font_size = 16\n",
    "\n",
    "fig = plt.figure(figsize=(9, 4))\n",
    "ax = fig.add_subplot(111)\n",
    "\n",
    "ax.plot(df.ntot, df.nobs, color='b')\n",
    "ax.axhline(625, color=\"r\", linestyle=\"--\")\n",
    "ax.set_xlabel(\"$N_{tot}$\", fontsize=font_size)\n",
    "ax.set_ylabel(\"$N_{obs}$\", fontsize=font_size)\n",
    "\n",
    "fig.savefig(\"figures/shallow_slope_ntot_nobs.png\", bbox_inches=\"tight\")\n",
    "fig.show()"
   ]
  },
  {
   "cell_type": "code",
   "execution_count": null,
   "id": "b9a40831-c15c-478d-b33c-e5db2ce45a45",
   "metadata": {},
   "outputs": [],
   "source": []
  },
  {
   "cell_type": "markdown",
   "id": "7daf1b0d-55ca-477d-bcd9-8beccf16f32a",
   "metadata": {},
   "source": [
    "## Plots of individual simulations vs N_tot, steep slope"
   ]
  },
  {
   "cell_type": "code",
   "execution_count": 44,
   "id": "c37258b5-fa01-42ba-88d1-8e2b57846d4a",
   "metadata": {},
   "outputs": [
    {
     "data": {
      "text/html": [
       "<div>\n",
       "<style scoped>\n",
       "    .dataframe tbody tr th:only-of-type {\n",
       "        vertical-align: middle;\n",
       "    }\n",
       "\n",
       "    .dataframe tbody tr th {\n",
       "        vertical-align: top;\n",
       "    }\n",
       "\n",
       "    .dataframe thead th {\n",
       "        text-align: right;\n",
       "    }\n",
       "</style>\n",
       "<table border=\"1\" class=\"dataframe\">\n",
       "  <thead>\n",
       "    <tr style=\"text-align: right;\">\n",
       "      <th></th>\n",
       "      <th>erat</th>\n",
       "      <th>mrp</th>\n",
       "      <th>rmult</th>\n",
       "      <th>simulation_id</th>\n",
       "      <th>slope</th>\n",
       "    </tr>\n",
       "  </thead>\n",
       "  <tbody>\n",
       "    <tr>\n",
       "      <th>11</th>\n",
       "      <td>11.574684</td>\n",
       "      <td>0.646657</td>\n",
       "      <td>1.895924</td>\n",
       "      <td>960</td>\n",
       "      <td>-2.941692</td>\n",
       "    </tr>\n",
       "    <tr>\n",
       "      <th>39</th>\n",
       "      <td>5.249486</td>\n",
       "      <td>0.280293</td>\n",
       "      <td>1.663895</td>\n",
       "      <td>57</td>\n",
       "      <td>-2.980598</td>\n",
       "    </tr>\n",
       "    <tr>\n",
       "      <th>123</th>\n",
       "      <td>12.220241</td>\n",
       "      <td>0.505943</td>\n",
       "      <td>1.262862</td>\n",
       "      <td>441</td>\n",
       "      <td>-2.969967</td>\n",
       "    </tr>\n",
       "    <tr>\n",
       "      <th>127</th>\n",
       "      <td>13.884488</td>\n",
       "      <td>0.517125</td>\n",
       "      <td>1.265081</td>\n",
       "      <td>758</td>\n",
       "      <td>-2.996001</td>\n",
       "    </tr>\n",
       "    <tr>\n",
       "      <th>203</th>\n",
       "      <td>4.714725</td>\n",
       "      <td>0.388123</td>\n",
       "      <td>1.299906</td>\n",
       "      <td>727</td>\n",
       "      <td>-2.936750</td>\n",
       "    </tr>\n",
       "    <tr>\n",
       "      <th>244</th>\n",
       "      <td>5.117249</td>\n",
       "      <td>0.501526</td>\n",
       "      <td>1.887954</td>\n",
       "      <td>777</td>\n",
       "      <td>-2.935801</td>\n",
       "    </tr>\n",
       "    <tr>\n",
       "      <th>320</th>\n",
       "      <td>4.907633</td>\n",
       "      <td>0.421339</td>\n",
       "      <td>1.811545</td>\n",
       "      <td>428</td>\n",
       "      <td>-2.953448</td>\n",
       "    </tr>\n",
       "    <tr>\n",
       "      <th>425</th>\n",
       "      <td>3.170657</td>\n",
       "      <td>0.508407</td>\n",
       "      <td>1.628720</td>\n",
       "      <td>97</td>\n",
       "      <td>-2.931013</td>\n",
       "    </tr>\n",
       "    <tr>\n",
       "      <th>432</th>\n",
       "      <td>9.415526</td>\n",
       "      <td>0.420162</td>\n",
       "      <td>1.536459</td>\n",
       "      <td>862</td>\n",
       "      <td>-2.912369</td>\n",
       "    </tr>\n",
       "    <tr>\n",
       "      <th>452</th>\n",
       "      <td>5.958676</td>\n",
       "      <td>0.386930</td>\n",
       "      <td>1.429712</td>\n",
       "      <td>763</td>\n",
       "      <td>-2.988105</td>\n",
       "    </tr>\n",
       "    <tr>\n",
       "      <th>464</th>\n",
       "      <td>4.823765</td>\n",
       "      <td>0.328269</td>\n",
       "      <td>1.722614</td>\n",
       "      <td>30</td>\n",
       "      <td>-2.962247</td>\n",
       "    </tr>\n",
       "    <tr>\n",
       "      <th>564</th>\n",
       "      <td>9.304817</td>\n",
       "      <td>0.500769</td>\n",
       "      <td>1.747837</td>\n",
       "      <td>559</td>\n",
       "      <td>-2.950495</td>\n",
       "    </tr>\n",
       "    <tr>\n",
       "      <th>619</th>\n",
       "      <td>13.526683</td>\n",
       "      <td>0.526636</td>\n",
       "      <td>1.578115</td>\n",
       "      <td>41</td>\n",
       "      <td>-2.972258</td>\n",
       "    </tr>\n",
       "    <tr>\n",
       "      <th>774</th>\n",
       "      <td>14.556689</td>\n",
       "      <td>0.509633</td>\n",
       "      <td>1.773515</td>\n",
       "      <td>905</td>\n",
       "      <td>-2.983567</td>\n",
       "    </tr>\n",
       "    <tr>\n",
       "      <th>796</th>\n",
       "      <td>8.959096</td>\n",
       "      <td>0.273816</td>\n",
       "      <td>1.142773</td>\n",
       "      <td>595</td>\n",
       "      <td>-2.947896</td>\n",
       "    </tr>\n",
       "    <tr>\n",
       "      <th>849</th>\n",
       "      <td>3.095626</td>\n",
       "      <td>0.717604</td>\n",
       "      <td>1.459083</td>\n",
       "      <td>538</td>\n",
       "      <td>-2.975714</td>\n",
       "    </tr>\n",
       "    <tr>\n",
       "      <th>924</th>\n",
       "      <td>7.964937</td>\n",
       "      <td>0.561495</td>\n",
       "      <td>1.766524</td>\n",
       "      <td>743</td>\n",
       "      <td>-2.934411</td>\n",
       "    </tr>\n",
       "    <tr>\n",
       "      <th>940</th>\n",
       "      <td>9.297668</td>\n",
       "      <td>0.741964</td>\n",
       "      <td>1.557111</td>\n",
       "      <td>629</td>\n",
       "      <td>-2.962995</td>\n",
       "    </tr>\n",
       "    <tr>\n",
       "      <th>949</th>\n",
       "      <td>12.591368</td>\n",
       "      <td>0.492832</td>\n",
       "      <td>1.538910</td>\n",
       "      <td>245</td>\n",
       "      <td>-2.962088</td>\n",
       "    </tr>\n",
       "    <tr>\n",
       "      <th>999</th>\n",
       "      <td>4.441709</td>\n",
       "      <td>0.546153</td>\n",
       "      <td>1.198577</td>\n",
       "      <td>454</td>\n",
       "      <td>-2.925179</td>\n",
       "    </tr>\n",
       "    <tr>\n",
       "      <th>1031</th>\n",
       "      <td>3.567563</td>\n",
       "      <td>0.741815</td>\n",
       "      <td>1.405963</td>\n",
       "      <td>867</td>\n",
       "      <td>-2.961248</td>\n",
       "    </tr>\n",
       "    <tr>\n",
       "      <th>1037</th>\n",
       "      <td>3.977054</td>\n",
       "      <td>0.592105</td>\n",
       "      <td>1.777141</td>\n",
       "      <td>388</td>\n",
       "      <td>-2.912138</td>\n",
       "    </tr>\n",
       "  </tbody>\n",
       "</table>\n",
       "</div>"
      ],
      "text/plain": [
       "           erat       mrp     rmult  simulation_id     slope\n",
       "11    11.574684  0.646657  1.895924            960 -2.941692\n",
       "39     5.249486  0.280293  1.663895             57 -2.980598\n",
       "123   12.220241  0.505943  1.262862            441 -2.969967\n",
       "127   13.884488  0.517125  1.265081            758 -2.996001\n",
       "203    4.714725  0.388123  1.299906            727 -2.936750\n",
       "244    5.117249  0.501526  1.887954            777 -2.935801\n",
       "320    4.907633  0.421339  1.811545            428 -2.953448\n",
       "425    3.170657  0.508407  1.628720             97 -2.931013\n",
       "432    9.415526  0.420162  1.536459            862 -2.912369\n",
       "452    5.958676  0.386930  1.429712            763 -2.988105\n",
       "464    4.823765  0.328269  1.722614             30 -2.962247\n",
       "564    9.304817  0.500769  1.747837            559 -2.950495\n",
       "619   13.526683  0.526636  1.578115             41 -2.972258\n",
       "774   14.556689  0.509633  1.773515            905 -2.983567\n",
       "796    8.959096  0.273816  1.142773            595 -2.947896\n",
       "849    3.095626  0.717604  1.459083            538 -2.975714\n",
       "924    7.964937  0.561495  1.766524            743 -2.934411\n",
       "940    9.297668  0.741964  1.557111            629 -2.962995\n",
       "949   12.591368  0.492832  1.538910            245 -2.962088\n",
       "999    4.441709  0.546153  1.198577            454 -2.925179\n",
       "1031   3.567563  0.741815  1.405963            867 -2.961248\n",
       "1037   3.977054  0.592105  1.777141            388 -2.912138"
      ]
     },
     "execution_count": 44,
     "metadata": {},
     "output_type": "execute_result"
    }
   ],
   "source": [
    "# Looking for a simulation with steep slope\n",
    "configs_pdf[configs_pdf.slope.between(-3.0, -2.9)]"
   ]
  },
  {
   "cell_type": "code",
   "execution_count": 45,
   "id": "6805f274-933a-4dcb-b899-56b1c0393582",
   "metadata": {},
   "outputs": [
    {
     "data": {
      "text/html": [
       "<div>\n",
       "<style scoped>\n",
       "    .dataframe tbody tr th:only-of-type {\n",
       "        vertical-align: middle;\n",
       "    }\n",
       "\n",
       "    .dataframe tbody tr th {\n",
       "        vertical-align: top;\n",
       "    }\n",
       "\n",
       "    .dataframe thead th {\n",
       "        text-align: right;\n",
       "    }\n",
       "</style>\n",
       "<table border=\"1\" class=\"dataframe\">\n",
       "  <thead>\n",
       "    <tr style=\"text-align: right;\">\n",
       "      <th></th>\n",
       "      <th>erat</th>\n",
       "      <th>mrp</th>\n",
       "      <th>rmult</th>\n",
       "      <th>simulation_id</th>\n",
       "      <th>slope</th>\n",
       "    </tr>\n",
       "  </thead>\n",
       "  <tbody>\n",
       "    <tr>\n",
       "      <th>425</th>\n",
       "      <td>3.170657</td>\n",
       "      <td>0.508407</td>\n",
       "      <td>1.62872</td>\n",
       "      <td>97</td>\n",
       "      <td>-2.931013</td>\n",
       "    </tr>\n",
       "  </tbody>\n",
       "</table>\n",
       "</div>"
      ],
      "text/plain": [
       "         erat       mrp    rmult  simulation_id     slope\n",
       "425  3.170657  0.508407  1.62872             97 -2.931013"
      ]
     },
     "execution_count": 45,
     "metadata": {},
     "output_type": "execute_result"
    }
   ],
   "source": [
    "# Choosing simulation 97\n",
    "simulation_id = 97\n",
    "configs_pdf[configs_pdf.simulation_id == simulation_id]"
   ]
  },
  {
   "cell_type": "code",
   "execution_count": 46,
   "id": "28538198-d720-4817-aac3-7f585968d574",
   "metadata": {},
   "outputs": [
    {
     "data": {
      "text/plain": [
       "{'erat': 3.1706566712753723,\n",
       " 'max_crater_radius': 500,\n",
       " 'min_crater_radius': 5,\n",
       " 'mrp': 0.5084073135420222,\n",
       " 'random_seed': 1630885,\n",
       " 'rmult': 1.6287202638243232,\n",
       " 'simulation_name': '3.171_0.508_1.629_-2.931',\n",
       " 'slope': -2.9310133950102544,\n",
       " 'spatial_hash_cell_size': 10,\n",
       " 'stop_condition': {'information_remaining_threshold': 0.05,\n",
       "  'name': 'information_remaining'},\n",
       " 'study_region_padding': 250,\n",
       " 'study_region_size': 2000}"
      ]
     },
     "execution_count": 46,
     "metadata": {},
     "output_type": "execute_result"
    }
   ],
   "source": [
    "# Full configuration\n",
    "configs_dict[simulation_id]"
   ]
  },
  {
   "cell_type": "code",
   "execution_count": 47,
   "id": "77579cc3-3b20-477b-844a-4a95643e7ba7",
   "metadata": {},
   "outputs": [
    {
     "name": "stderr",
     "output_type": "stream",
     "text": [
      "                                                                                \r"
     ]
    }
   ],
   "source": [
    "df = data.where(F.col(\"simulation_id\") == simulation_id).toPandas()"
   ]
  },
  {
   "cell_type": "code",
   "execution_count": 48,
   "id": "73f64304-2bc0-4bdc-86c3-585051b3f047",
   "metadata": {},
   "outputs": [
    {
     "data": {
      "image/png": "[encoded data removed]",
      "text/plain": [
       "<Figure size 600x400 with 1 Axes>"
      ]
     },
     "metadata": {},
     "output_type": "display_data"
    }
   ],
   "source": [
    "fig = plt.figure(figsize=(6, 4))\n",
    "ax1 = fig.add_subplot(111)\n",
    "\n",
    "plt1 = ax1.plot(\n",
    "    df.ntot,\n",
    "    df.nobs,\n",
    "    label=\"$N_{obs}$\",\n",
    "    lw=1,\n",
    "    ls=\"-\"\n",
    ")\n",
    "ax1.set_ylabel(\"$N_{obs}$\", fontsize=14)\n",
    "ax1.set_xlabel(\"$N_{tot}$\", fontsize=14)\n",
    "\n",
    "plt.show()"
   ]
  },
  {
   "cell_type": "code",
   "execution_count": 49,
   "id": "33c949b2-c1b9-4efe-b899-6dc11da78370",
   "metadata": {},
   "outputs": [],
   "source": [
    "target_ntots = [100, 300, 20000, 40000]\n",
    "study_region_size = configs_dict[simulation_id][\"study_region_size\"]\n",
    "study_region_padding = configs_dict[simulation_id][\"study_region_padding\"]\n",
    "\n",
    "sim_name = configs_dict[simulation_id][\"simulation_name\"]\n",
    "sim_path = f\"{base_path}/{sim_name}\"\n",
    "\n",
    "stats_df = spark.read.parquet(f\"{sim_path}/statistics_*.parquet\")\n",
    "craters_df = spark.read.parquet(f\"{sim_path}/craters_*.parquet\")\n",
    "removals_df = spark.read.parquet(f\"{sim_path}/crater_removals_*.parquet\")\n",
    "\n",
    "states = {\n",
    "    x: get_state_at_time(\n",
    "        stats_df,\n",
    "        craters_df,\n",
    "        removals_df,\n",
    "        simulation_id,\n",
    "        x,\n",
    "        study_region_size,\n",
    "        study_region_padding,\n",
    "        spark\n",
    "    )\n",
    "    for x in target_ntots\n",
    "}"
   ]
  },
  {
   "cell_type": "code",
   "execution_count": 50,
   "id": "a8200b02-d730-48b0-bf94-7f59177dce8f",
   "metadata": {},
   "outputs": [
    {
     "data": {
      "text/plain": [
       "np.float32(9.726151)"
      ]
     },
     "execution_count": 50,
     "metadata": {},
     "output_type": "execute_result"
    }
   ],
   "source": [
    "states[40000].radius.mean()"
   ]
  },
  {
   "cell_type": "code",
   "execution_count": 52,
   "id": "babaa0b0-9392-4bd8-a16b-8a7f6d2322d8",
   "metadata": {},
   "outputs": [
    {
     "data": {
      "image/png": "[encoded data removed]",
      "text/plain": [
       "<Figure size 900x400 with 1 Axes>"
      ]
     },
     "metadata": {},
     "output_type": "display_data"
    }
   ],
   "source": [
    "fig = plot_csfds_for_multiple_ntot(states, reference_slope=3, reference_intercept=2e4)\n",
    "fig.savefig(\"figures/steep_slope_csfds.png\", bbox_inches=\"tight\")\n",
    "plt.show()"
   ]
  },
  {
   "cell_type": "code",
   "execution_count": 40,
   "id": "4d09f8fe-df7d-4603-9d19-202e8eea95ef",
   "metadata": {},
   "outputs": [],
   "source": [
    "fig = plt.figure(figsize=(6, 6))\n",
    "ax = fig.add_subplot(111)\n",
    "\n",
    "ax.set_xlim([0, 4000])\n",
    "ax.set_ylim([0, 4000])\n",
    "\n",
    "s = states[40000]\n",
    "\n",
    "ax.scatter(s.x - 500, s.y - 500, s=0.5)"
   ]
  },
  {
   "cell_type": "code",
   "execution_count": 41,
   "id": "40e1e0b1-34f2-4a6d-b0d8-c93d435d959f",
   "metadata": {},
   "outputs": [],
   "source": [
    "fig = plot_metric(\n",
    "    df,\n",
    "    \"ntot\",\n",
    "    \"$N_{tot}$\",\n",
    "    \"ad\",\n",
    "    \"$A_d$\",\n",
    "    dotted_horizontal_lines=[0.125]\n",
    ")\n",
    "fig.show()\n",
    "fig.savefig(\"figures/steep_slope_ntot_ad.png\", bbox_inches=\"tight\")\n",
    "\n",
    "fig = plot_metric(\n",
    "    df,\n",
    "    \"ntot\",\n",
    "    \"$N_{tot}$\",\n",
    "    \"log_mnnd\",\n",
    "    \"$log_{10}(\\overline{NN}_d)$\",\n",
    "    dotted_horizontal_lines=[1.55]\n",
    ")\n",
    "fig.show()\n",
    "fig.savefig(\"figures/steep_slope_ntot_mnnd.png\", bbox_inches=\"tight\")\n",
    "\n",
    "fig = plot_metric(\n",
    "    df,\n",
    "    \"ntot\",\n",
    "    \"$N_{tot}$\",\n",
    "    \"z\",\n",
    "    \"$Z$\",\n",
    "    dotted_horizontal_lines=[-1.96, 1.96]\n",
    ")\n",
    "fig.show()\n",
    "fig.savefig(\"figures/steep_slope_ntot_z.png\", bbox_inches=\"tight\")\n",
    "\n",
    "fig = plot_metric(\n",
    "    df,\n",
    "    \"ntot\",\n",
    "    \"$N_{tot}$\",\n",
    "    \"za\",\n",
    "    \"$Z_a$\",\n",
    "    dotted_horizontal_lines=[-1.96, 1.96]\n",
    ")\n",
    "fig.show()\n",
    "fig.savefig(\"figures/steep_slope_ntot_za.png\", bbox_inches=\"tight\")"
   ]
  },
  {
   "cell_type": "code",
   "execution_count": 42,
   "id": "bf3200cb-c775-465d-8493-68323f2bd135",
   "metadata": {},
   "outputs": [],
   "source": [
    "font_size = 16\n",
    "\n",
    "fig = plt.figure(figsize=(9, 4))\n",
    "ax = fig.add_subplot(111)\n",
    "\n",
    "ax.plot(df.ntot, df.nobs, color='b')\n",
    "ax.axhline(4100, color=\"r\", linestyle=\"--\")\n",
    "ax.set_xlabel(\"$N_{tot}$\", fontsize=font_size)\n",
    "ax.set_ylabel(\"$N_{obs}$\", fontsize=font_size)\n",
    "\n",
    "fig.savefig(\"figures/steep_slope_ntot_nobs.png\", bbox_inches=\"tight\")\n",
    "fig.show()"
   ]
  },
  {
   "cell_type": "markdown",
   "id": "dab252b5-8282-412e-9848-a59cc0520831",
   "metadata": {},
   "source": []
  },
  {
   "cell_type": "markdown",
   "id": "41bdc4db-6913-4edd-931d-68d0039c586f",
   "metadata": {},
   "source": [
    "## Plots of single simulations, high destruction, slope = -2.5"
   ]
  },
  {
   "cell_type": "code",
   "execution_count": 43,
   "id": "cf5bfc21-fd96-4c55-9bd6-3c804940f635",
   "metadata": {},
   "outputs": [],
   "source": [
    "# Looking for a simulation with high destruction\n",
    "configs_pdf[\"destruction\"] = configs_pdf.effective_radius_multiplier * configs_pdf.min_rim_percentage * configs_pdf.r_stat_multiplier\n",
    "configs_pdf[configs_pdf.slope.between(2.5, 2.6)].sort_values(\"destruction\")"
   ]
  },
  {
   "cell_type": "code",
   "execution_count": 44,
   "id": "e95ecc01-d51d-4b9c-969c-0d2718135a02",
   "metadata": {},
   "outputs": [],
   "source": [
    "# Choosing simulation 43\n",
    "simulation_id = 43\n",
    "configs_pdf[configs_pdf.simulation_id == simulation_id]"
   ]
  },
  {
   "cell_type": "code",
   "execution_count": 45,
   "id": "b69e609c-76b3-4e6b-b578-d4f5d5fc0d7c",
   "metadata": {},
   "outputs": [],
   "source": [
    "# Full configuration\n",
    "configs_dict[simulation_id]"
   ]
  },
  {
   "cell_type": "code",
   "execution_count": 46,
   "id": "9a4ba6b1-68e4-40fd-abf4-1c40870f0c62",
   "metadata": {},
   "outputs": [],
   "source": [
    "df = data.where(F.col(\"simulation_id\") == simulation_id).toPandas()"
   ]
  },
  {
   "cell_type": "code",
   "execution_count": 47,
   "id": "19371cda-36b3-4daf-b1a5-a93651f21bcf",
   "metadata": {},
   "outputs": [],
   "source": [
    "fig = plt.figure(figsize=(6, 4))\n",
    "ax1 = fig.add_subplot(111)\n",
    "\n",
    "plt1 = ax1.plot(\n",
    "    df.ntot,\n",
    "    df.nobs,\n",
    "    label=\"$N_{obs}$\",\n",
    "    lw=1,\n",
    "    ls=\"-\"\n",
    ")\n",
    "ax1.set_ylabel(\"$N_{obs}$\", fontsize=14)\n",
    "ax1.set_xlabel(\"$N_{tot}$\", fontsize=14)\n",
    "\n",
    "plt.show()"
   ]
  },
  {
   "cell_type": "code",
   "execution_count": 52,
   "id": "8831bde5-0b9b-4d7b-b6d4-781867d2e872",
   "metadata": {},
   "outputs": [],
   "source": [
    "target_ntots = [2000, 4500, 10000, 15000]\n",
    "study_region_size = configs_dict[simulation_id][\"study_region_size\"]\n",
    "study_region_padding = configs_dict[simulation_id][\"study_region_padding\"]\n",
    "\n",
    "sim_name = configs_dict[simulation_id][\"simulation_name\"]\n",
    "sim_path = f\"{base_path}/{sim_name}\"\n",
    "\n",
    "stats_df = spark.read.parquet(f\"{sim_path}/statistics_*.parquet\")\n",
    "craters_df = spark.read.parquet(f\"{sim_path}/craters_*.parquet\")\n",
    "removals_df = spark.read.parquet(f\"{sim_path}/crater_removals_*.parquet\")\n",
    "\n",
    "states = {\n",
    "    x: get_state_at_time(\n",
    "        stats_df,\n",
    "        craters_df,\n",
    "        removals_df,\n",
    "        simulation_id,\n",
    "        x,\n",
    "        study_region_size,\n",
    "        study_region_padding,\n",
    "        spark\n",
    "    )\n",
    "    for x in target_ntots\n",
    "}"
   ]
  },
  {
   "cell_type": "code",
   "execution_count": 53,
   "id": "5cfeb5f2-7e3d-44c4-a1e2-08de61f4cc56",
   "metadata": {},
   "outputs": [],
   "source": [
    "fig = plot_csfds_for_multiple_n_tot(states, reference_slope=2.51, reference_intercept=2e5)\n",
    "fig.savefig(\"figures/high_destruction_csfds.png\", bbox_inches=\"tight\")\n",
    "plt.show()"
   ]
  },
  {
   "cell_type": "code",
   "execution_count": 50,
   "id": "953fc651-d933-4756-a24d-a45c2ed401af",
   "metadata": {},
   "outputs": [],
   "source": [
    "fig = plot_metric(\n",
    "    df,\n",
    "    \"ntot\",\n",
    "    \"$N_{tot}$\",\n",
    "    \"ad\",\n",
    "    \"$A_d$\",\n",
    "    dotted_horizontal_lines=[0.078]\n",
    ")\n",
    "fig.show()\n",
    "fig.savefig(\"figures/high_destruction_ntot_ad.png\", bbox_inches=\"tight\")\n",
    "\n",
    "fig = plot_metric(\n",
    "    df,\n",
    "    \"ntot\",\n",
    "    \"$N_{tot}$\",\n",
    "    \"log_mnnd\",\n",
    "    \"$log_{10}(\\overline{NN}_d)$\",\n",
    "    dotted_horizontal_lines=[1.72]\n",
    ")\n",
    "fig.show()\n",
    "fig.savefig(\"figures/high_destruction_ntot_mnnd.png\", bbox_inches=\"tight\")\n",
    "\n",
    "fig = plot_metric(\n",
    "    df,\n",
    "    \"ntot\",\n",
    "    \"$N_{tot}$\",\n",
    "    \"z\",\n",
    "    \"$Z$\",\n",
    "    dotted_horizontal_lines=[-1.96, 1.96]\n",
    ")\n",
    "fig.show()\n",
    "fig.savefig(\"figures/high_destruction_ntot_z.png\", bbox_inches=\"tight\")\n",
    "\n",
    "fig = plot_metric(\n",
    "    df,\n",
    "    \"ntot\",\n",
    "    \"$N_{tot}$\",\n",
    "    \"za\",\n",
    "    \"$Z_a$\",\n",
    "    dotted_horizontal_lines=[-1.96, 1.96]\n",
    ")\n",
    "fig.show()\n",
    "fig.savefig(\"figures/high_destruction_ntot_za.png\", bbox_inches=\"tight\")"
   ]
  },
  {
   "cell_type": "code",
   "execution_count": 51,
   "id": "569311d1-2f6c-4987-af21-5ef4e8f31905",
   "metadata": {},
   "outputs": [],
   "source": [
    "font_size = 16\n",
    "\n",
    "fig = plt.figure(figsize=(9, 4))\n",
    "ax = fig.add_subplot(111)\n",
    "\n",
    "ax.plot(df.ntot, df.nobs, color='b')\n",
    "ax.axhline(1800, color=\"r\", linestyle=\"--\")\n",
    "ax.set_xlabel(\"$N_{tot}$\", fontsize=font_size)\n",
    "ax.set_ylabel(\"$N_{obs}$\", fontsize=font_size)\n",
    "\n",
    "fig.savefig(\"figures/high_destruction_ntot_nobs.png\", bbox_inches=\"tight\")\n",
    "fig.show()"
   ]
  },
  {
   "cell_type": "code",
   "execution_count": null,
   "id": "7ca8c565-3e84-436f-8163-54cf70737ee9",
   "metadata": {},
   "outputs": [],
   "source": []
  },
  {
   "cell_type": "markdown",
   "id": "15a5c6da-3ef9-45e8-96c2-32b87cb3864d",
   "metadata": {},
   "source": [
    "## Plots of single simulations, low destruction, slope = -2.5"
   ]
  },
  {
   "cell_type": "code",
   "execution_count": 54,
   "id": "6bd96037-4615-46ce-b276-d4d0e9877e0a",
   "metadata": {},
   "outputs": [],
   "source": [
    "# Looking for a simulation with low destruction\n",
    "configs_pdf[\"destruction\"] = configs_pdf.effective_radius_multiplier * configs_pdf.min_rim_percentage * configs_pdf.r_stat_multiplier\n",
    "configs_pdf[configs_pdf.slope.between(2.5, 2.6)].sort_values(\"destruction\")"
   ]
  },
  {
   "cell_type": "code",
   "execution_count": 55,
   "id": "630299b9-ea92-4042-b831-3d3fdb47ab2c",
   "metadata": {},
   "outputs": [],
   "source": [
    "# Choosing simulation 1693\n",
    "simulation_id = 1693\n",
    "configs_pdf[configs_pdf.simulation_id == simulation_id]"
   ]
  },
  {
   "cell_type": "code",
   "execution_count": 56,
   "id": "3d657cfa-05d1-41ba-a36f-2c8ffd35671b",
   "metadata": {},
   "outputs": [],
   "source": [
    "# Full configuration\n",
    "configs_dict[simulation_id]"
   ]
  },
  {
   "cell_type": "code",
   "execution_count": 57,
   "id": "72cb198a-c744-42cc-8f45-95234b438c62",
   "metadata": {},
   "outputs": [],
   "source": [
    "df = data.where(F.col(\"simulation_id\") == simulation_id).toPandas()"
   ]
  },
  {
   "cell_type": "code",
   "execution_count": 58,
   "id": "5bcc1175-2989-4ca9-bebf-9575b6bec021",
   "metadata": {},
   "outputs": [],
   "source": [
    "fig = plt.figure(figsize=(6, 4))\n",
    "ax1 = fig.add_subplot(111)\n",
    "\n",
    "plt1 = ax1.plot(\n",
    "    df.ntot,\n",
    "    df.nobs,\n",
    "    label=\"$N_{obs}$\",\n",
    "    lw=1,\n",
    "    ls=\"-\"\n",
    ")\n",
    "ax1.set_ylabel(\"$N_{obs}$\", fontsize=14)\n",
    "ax1.set_xlabel(\"$N_{tot}$\", fontsize=14)\n",
    "\n",
    "plt.show()"
   ]
  },
  {
   "cell_type": "code",
   "execution_count": 64,
   "id": "7cddf20a-ad88-45b1-a852-378c487cf56a",
   "metadata": {},
   "outputs": [],
   "source": [
    "target_ntots = [2000, 30000, 50000, 140000]\n",
    "study_region_size = configs_dict[simulation_id][\"study_region_size\"]\n",
    "study_region_padding = configs_dict[simulation_id][\"study_region_padding\"]\n",
    "\n",
    "sim_name = configs_dict[simulation_id][\"simulation_name\"]\n",
    "sim_path = f\"{base_path}/{sim_name}\"\n",
    "\n",
    "stats_df = spark.read.parquet(f\"{sim_path}/statistics_*.parquet\")\n",
    "craters_df = spark.read.parquet(f\"{sim_path}/craters_*.parquet\")\n",
    "removals_df = spark.read.parquet(f\"{sim_path}/crater_removals_*.parquet\")\n",
    "\n",
    "states = {\n",
    "    x: get_state_at_time(\n",
    "        stats_df,\n",
    "        craters_df,\n",
    "        removals_df,\n",
    "        simulation_id,\n",
    "        x,\n",
    "        study_region_size,\n",
    "        study_region_padding,\n",
    "        spark\n",
    "    )\n",
    "    for x in target_ntots\n",
    "}"
   ]
  },
  {
   "cell_type": "code",
   "execution_count": 65,
   "id": "a5899e23-4b86-47af-b6ea-a6e075dc18f0",
   "metadata": {},
   "outputs": [],
   "source": [
    "fig = plot_csfds_for_multiple_n_tot(states, reference_slope=2.50, reference_intercept=5e6)\n",
    "fig.savefig(\"figures/low_destruction_csfds.png\", bbox_inches=\"tight\")\n",
    "plt.show()"
   ]
  },
  {
   "cell_type": "code",
   "execution_count": 66,
   "id": "fa4caafa-ad08-45fa-8da4-72b71d90c6d2",
   "metadata": {},
   "outputs": [],
   "source": [
    "df_copy = df.copy()\n",
    "df_copy[\"ntot\"] = df_copy.ntot / 1000"
   ]
  },
  {
   "cell_type": "code",
   "execution_count": 67,
   "id": "cc3042fd-047c-4300-bffa-0e60a255972d",
   "metadata": {},
   "outputs": [],
   "source": [
    "fig = plot_metric(\n",
    "    df_copy,\n",
    "    \"ntot\",\n",
    "    \"$N_{tot}$ (thousands)\",\n",
    "    \"ad\",\n",
    "    \"$A_d$\",\n",
    "    dotted_horizontal_lines=[0.58]\n",
    ")\n",
    "fig.show()\n",
    "fig.savefig(\"figures/low_destruction_ntot_ad.png\", bbox_inches=\"tight\")\n",
    "\n",
    "fig = plot_metric(\n",
    "    df_copy,\n",
    "    \"ntot\",\n",
    "    \"$N_{tot}$ (thousands)\",\n",
    "    \"log_mnnd\",\n",
    "    \"$log_{10}(\\overline{NN}_d)$\",\n",
    "    dotted_horizontal_lines=[1.24]\n",
    ")\n",
    "fig.show()\n",
    "fig.savefig(\"figures/low_destruction_ntot_mnnd.png\", bbox_inches=\"tight\")\n",
    "\n",
    "fig = plot_metric(\n",
    "    df_copy,\n",
    "    \"ntot\",\n",
    "    \"$N_{tot}$ (thousands)\",\n",
    "    \"z\",\n",
    "    \"$Z$\",\n",
    "    dotted_horizontal_lines=[-1.96, 1.96]\n",
    ")\n",
    "fig.show()\n",
    "fig.savefig(\"figures/low_destruction_ntot_z.png\", bbox_inches=\"tight\")\n",
    "\n",
    "fig = plot_metric(\n",
    "    df_copy,\n",
    "    \"ntot\",\n",
    "    \"$N_{tot}$ (thousands)\",\n",
    "    \"za\",\n",
    "    \"$Z_a$\",\n",
    "    dotted_horizontal_lines=[-1.96, 1.96]\n",
    ")\n",
    "fig.show()\n",
    "fig.savefig(\"figures/low_destruction_ntot_za.png\", bbox_inches=\"tight\")"
   ]
  },
  {
   "cell_type": "code",
   "execution_count": 68,
   "id": "435b6388-3c24-428c-9262-ab1b3455b5b7",
   "metadata": {},
   "outputs": [],
   "source": [
    "font_size = 16\n",
    "\n",
    "fig = plt.figure(figsize=(9, 4))\n",
    "ax = fig.add_subplot(111)\n",
    "\n",
    "ax.plot(df.ntot, df.nobs, color='b')\n",
    "ax.axhline(16000, color=\"r\", linestyle=\"--\")\n",
    "ax.set_xlabel(\"$N_{tot}$\", fontsize=font_size)\n",
    "ax.set_ylabel(\"$N_{obs}$\", fontsize=font_size)\n",
    "\n",
    "fig.savefig(\"figures/low_destruction_ntot_nobs.png\", bbox_inches=\"tight\")\n",
    "fig.show()"
   ]
  },
  {
   "cell_type": "code",
   "execution_count": null,
   "id": "7e4c9fb1-20c8-4a87-a448-215a38a7f95f",
   "metadata": {},
   "outputs": [],
   "source": []
  },
  {
   "cell_type": "code",
   "execution_count": null,
   "id": "93661378-96db-4c1c-a311-55de0bb6c13b",
   "metadata": {},
   "outputs": [],
   "source": []
  },
  {
   "cell_type": "code",
   "execution_count": null,
   "id": "9c8ccdc5-5001-48b8-8b5f-5a51643d217b",
   "metadata": {},
   "outputs": [],
   "source": []
  },
  {
   "cell_type": "code",
   "execution_count": 69,
   "id": "eddb3d2d-7e11-4355-b8a5-6ab370d659f5",
   "metadata": {},
   "outputs": [],
   "source": [
    "# Calculates the mean of a truncated Pareto distribution\n",
    "def calc_mean(alpha: float, x_min: float, x_max: float) -> float:\n",
    "    return (alpha * x_max**(1 - alpha) * x_min**(alpha) - alpha * x_min) / ((1 - alpha) * (1 - (x_min/x_max)**alpha))"
   ]
  },
  {
   "cell_type": "code",
   "execution_count": 102,
   "id": "f8a115d5-c5a9-4996-9812-093499cea637",
   "metadata": {},
   "outputs": [],
   "source": [
    "np.log10(calc_mean(2.0, 5 * 1.5, 1000))"
   ]
  },
  {
   "cell_type": "code",
   "execution_count": 101,
   "id": "02ff7042-7337-42a2-bde6-63c292c36771",
   "metadata": {},
   "outputs": [],
   "source": [
    "np.log10(calc_mean(2.5, 5 * 1.5, 1000))"
   ]
  },
  {
   "cell_type": "code",
   "execution_count": 103,
   "id": "9eb9fd2f-41ed-4a1d-aa81-8057ec7470d5",
   "metadata": {},
   "outputs": [],
   "source": [
    "np.log10(calc_mean(1.2, 5 * 1.5, 1000))"
   ]
  },
  {
   "cell_type": "code",
   "execution_count": 94,
   "id": "141c728d-0e5f-4778-b7c8-c574483ed350",
   "metadata": {},
   "outputs": [],
   "source": [
    "calc_mean(2.93, 5, 1000)"
   ]
  },
  {
   "cell_type": "code",
   "execution_count": 95,
   "id": "dd25573f-6147-4188-848e-c3e1e1b47b75",
   "metadata": {},
   "outputs": [],
   "source": [
    "calc_mean(2.5, 5, 1000)"
   ]
  },
  {
   "cell_type": "code",
   "execution_count": 92,
   "id": "c41d9b01-7394-440d-b6d1-9cc0845c137a",
   "metadata": {},
   "outputs": [],
   "source": [
    "10**1.87"
   ]
  },
  {
   "cell_type": "code",
   "execution_count": 93,
   "id": "977c5556-a657-4092-9a90-08cc020b625d",
   "metadata": {},
   "outputs": [],
   "source": [
    "10**1.55"
   ]
  },
  {
   "cell_type": "code",
   "execution_count": null,
   "id": "f99805d2-3aaa-48ec-b9b3-03a1ada36535",
   "metadata": {},
   "outputs": [],
   "source": []
  }
 ],
 "metadata": {
  "kernelspec": {
   "display_name": "Python 3 (ipykernel)",
   "language": "python",
   "name": "python3"
  },
  "language_info": {
   "codemirror_mode": {
    "name": "ipython",
    "version": 3
   },
   "file_extension": ".py",
   "mimetype": "text/x-python",
   "name": "python",
   "nbconvert_exporter": "python",
   "pygments_lexer": "ipython3",
   "version": "3.12.4"
  }
 },
 "nbformat": 4,
 "nbformat_minor": 5
}
