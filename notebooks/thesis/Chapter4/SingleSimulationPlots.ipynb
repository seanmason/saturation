{
 "cells": [
  {
   "cell_type": "code",
   "execution_count": 1,
   "id": "64f76952-9fe1-480c-8dfb-06ea665fc5d7",
   "metadata": {},
   "outputs": [],
   "source": [
    "%load_ext autoreload\n",
    "%autoreload 2"
   ]
  },
  {
   "cell_type": "code",
   "execution_count": 2,
   "id": "01f31e05-b001-4fbd-9484-9e76b693ced7",
   "metadata": {},
   "outputs": [],
   "source": [
    "import sys\n",
    "\n",
    "import pandas as pd\n",
    "import numpy as np\n",
    "from pathlib import Path\n",
    "import yaml\n",
    "from typing import *\n",
    "import glob\n",
    "\n",
    "import matplotlib.pyplot as plt\n",
    "import matplotlib.transforms as mtransforms\n",
    "\n",
    "import pyspark\n",
    "import pyspark.sql.functions as F\n",
    "from pyspark.sql import SparkSession, DataFrame\n",
    "\n",
    "from saturation.utils import *"
   ]
  },
  {
   "cell_type": "code",
   "execution_count": 3,
   "id": "d998e74b-5390-4526-8e6e-65acf0828f23",
   "metadata": {},
   "outputs": [],
   "source": [
    "n_cores = 28\n",
    "\n",
    "spark = (SparkSession.builder\n",
    "         .master(f\"local[{n_cores}]\")\n",
    "         .appName(\"Saturation\")\n",
    "         .config(\"spark.sql.shuffle.partitions\", \"500\")\n",
    "         .config(\"spark.driver.memory\", \"60g\")\n",
    "         .config(\"spark.driver.maxResultSize\", \"8g\")\n",
    "         .getOrCreate())"
   ]
  },
  {
   "cell_type": "code",
   "execution_count": 4,
   "id": "820c3f98-e0ab-44f1-a323-51e7888ac05b",
   "metadata": {},
   "outputs": [],
   "source": [
    "base_path = \"/data/saturation/thesis_run_20240130\"\n",
    "configs_df = create_configs_df(read_configs(base_path, spark))\n",
    "configs_pdf = configs_df.toPandas()\n",
    "\n",
    "# For stats, select only fields we care about, alias them\n",
    "data = spark.read.parquet(f\"{base_path}/*/statistics_*.parquet\")\n",
    "data = data.select(\n",
    "    \"simulation_id\",\n",
    "    F.col(\"n_craters_added_in_study_region\").alias(\"ntot\"),\n",
    "    F.col(\"n_craters_in_study_region\").alias(\"nobs\"),\n",
    "    F.col(\"center_to_center_nearest_neighbor_distance_mean\").alias(\"mnnd\"),\n",
    "    \"z\",\n",
    "    \"za\",\n",
    "    \"radius_mean\",\n",
    "    F.col(\"areal_density\").alias(\"ad\"),\n",
    "    F.log10(\"center_to_center_nearest_neighbor_distance_mean\").alias(\"log_mnnd\"),\n",
    "    F.log10(F.col(\"n_craters_in_study_region\")).alias(\"log_nobs\"),\n",
    "    F.log10(\"n_craters_added_in_study_region\").alias(\"log_ntot\"),\n",
    ").where(F.col(\"ntot\") > 1)\n",
    "\n",
    "# Join with configs to get simulation parameters\n",
    "data = join_configs(data, configs_df, spark)"
   ]
  },
  {
   "cell_type": "code",
   "execution_count": 5,
   "id": "c8cfbe84-0e53-429c-b604-ee6dfa93de10",
   "metadata": {},
   "outputs": [],
   "source": [
    "configs_dict = dict()\n",
    "for config_file in glob.glob(f\"{base_path}/config/config_*.yaml\"):\n",
    "    for run_config in read_config(Path(config_file))[\"run_configurations\"]:\n",
    "        configs_dict.update(run_config)"
   ]
  },
  {
   "cell_type": "code",
   "execution_count": null,
   "id": "0ee0e5b9-b194-4ce7-a5d3-e9b933fa80ee",
   "metadata": {},
   "outputs": [],
   "source": []
  },
  {
   "cell_type": "code",
   "execution_count": 7,
   "id": "918e3a54-f45b-4013-883b-73ee1be45661",
   "metadata": {},
   "outputs": [],
   "source": [
    "def plot_metric(\n",
    "    data: pd.DataFrame,\n",
    "    x_var: str,\n",
    "    x_label: str,\n",
    "    y_var: str,\n",
    "    y_label: str,\n",
    "    dotted_horizontal_lines: list[float] = None\n",
    "):\n",
    "    font_size = 16\n",
    "\n",
    "    fig = plt.figure(figsize=(5, 4))\n",
    "    ax = fig.add_subplot(111)\n",
    "\n",
    "    ax.plot(data[x_var], data[y_var], color='b')\n",
    "\n",
    "    if dotted_horizontal_lines:\n",
    "        for y_val in dotted_horizontal_lines:\n",
    "            ax.axhline(y_val, color=\"r\", linestyle=\"--\")\n",
    "    \n",
    "    ax.set_xlabel(x_label, fontsize=font_size)\n",
    "    ax.set_ylabel(y_label, fontsize=font_size)\n",
    "\n",
    "    return fig"
   ]
  },
  {
   "cell_type": "code",
   "execution_count": null,
   "id": "0654e9b0-bb81-470a-ba05-a71b3c0918cd",
   "metadata": {},
   "outputs": [],
   "source": []
  },
  {
   "cell_type": "markdown",
   "id": "54a8332f-7c48-4e56-8545-06f69f321c58",
   "metadata": {},
   "source": [
    "## Plots of individual simulations vs N_tot, shallow slope"
   ]
  },
  {
   "cell_type": "code",
   "execution_count": 79,
   "id": "1a5ff818-0935-43de-86fd-a568aadeb6da",
   "metadata": {},
   "outputs": [],
   "source": [
    "# Looking for a simulation with shallow slope\n",
    "configs_pdf[configs_pdf.slope.between(1.0, 1.1)]"
   ]
  },
  {
   "cell_type": "code",
   "execution_count": 80,
   "id": "8fc04ff6-701b-4df1-9264-82be18b625dc",
   "metadata": {},
   "outputs": [],
   "source": [
    "# Choosing simulation 5228\n",
    "simulation_id = 5228\n",
    "configs_pdf[configs_pdf.simulation_id == simulation_id]"
   ]
  },
  {
   "cell_type": "code",
   "execution_count": 81,
   "id": "45b6eb35-6808-45a6-b1bd-a70922a60cb7",
   "metadata": {},
   "outputs": [],
   "source": [
    "# Full configuration\n",
    "configs_dict[simulation_id]"
   ]
  },
  {
   "cell_type": "code",
   "execution_count": 82,
   "id": "0beaf260-a9fe-4e17-9710-ab5ac76e7cb3",
   "metadata": {},
   "outputs": [],
   "source": [
    "df = data.where(F.col(\"simulation_id\") == simulation_id).toPandas()"
   ]
  },
  {
   "cell_type": "code",
   "execution_count": 83,
   "id": "742b13db-cde9-4c45-9d96-62f3f740bdab",
   "metadata": {},
   "outputs": [],
   "source": [
    "fig = plt.figure(figsize=(6, 4))\n",
    "ax1 = fig.add_subplot(111)\n",
    "\n",
    "plt1 = ax1.plot(\n",
    "    df.ntot,\n",
    "    df.nobs,\n",
    "    label=\"$N_{obs}$\",\n",
    "    lw=1,\n",
    "    ls=\"-\"\n",
    ")\n",
    "ax1.set_ylabel(\"$N_{obs}$\", fontsize=14)\n",
    "ax1.set_xlabel(\"$N_{tot}$\", fontsize=14)\n",
    "\n",
    "plt.show()"
   ]
  },
  {
   "cell_type": "code",
   "execution_count": 84,
   "id": "ba7767e3-6567-493b-bb85-e752255d0ef1",
   "metadata": {},
   "outputs": [],
   "source": [
    "target_ntots = [250, 500, 2000, 5000]\n",
    "study_region_size = configs_dict[simulation_id][\"study_region_size\"]\n",
    "study_region_padding = configs_dict[simulation_id][\"study_region_padding\"]\n",
    "\n",
    "sim_name = configs_dict[simulation_id][\"simulation_name\"]\n",
    "sim_path = f\"{base_path}/{sim_name}\"\n",
    "\n",
    "stats_df = spark.read.parquet(f\"{sim_path}/statistics_*.parquet\")\n",
    "craters_df = spark.read.parquet(f\"{sim_path}/craters_*.parquet\")\n",
    "removals_df = spark.read.parquet(f\"{sim_path}/crater_removals_*.parquet\")\n",
    "\n",
    "states = {\n",
    "    x: get_state_at_time(\n",
    "        stats_df,\n",
    "        craters_df,\n",
    "        removals_df,\n",
    "        simulation_id,\n",
    "        x,\n",
    "        study_region_size,\n",
    "        study_region_padding,\n",
    "        spark\n",
    "    )\n",
    "    for x in target_ntots\n",
    "}"
   ]
  },
  {
   "cell_type": "code",
   "execution_count": 85,
   "id": "0cee5c02-8974-48f5-ae1f-a3386907de88",
   "metadata": {},
   "outputs": [],
   "source": [
    "states[500].radius.mean()"
   ]
  },
  {
   "cell_type": "code",
   "execution_count": 22,
   "id": "7f79158c-a492-4c10-bced-97cd99dd3a8e",
   "metadata": {},
   "outputs": [],
   "source": [
    "fig = plot_csfds_for_multiple_n_tot(states, reference_slope=1.065, reference_intercept=7e3)\n",
    "fig.savefig(\"figures/shallow_slope_csfds.png\", bbox_inches=\"tight\")\n",
    "plt.show()"
   ]
  },
  {
   "cell_type": "code",
   "execution_count": 23,
   "id": "c8f07d7e-01f8-42c0-9724-a6dbff105d0f",
   "metadata": {},
   "outputs": [],
   "source": [
    "fig = plt.figure(figsize=(6, 6))\n",
    "ax = fig.add_subplot(111)\n",
    "\n",
    "ax.set_xlim([0, 4000])\n",
    "ax.set_ylim([0, 4000])\n",
    "\n",
    "s = states[1000]\n",
    "\n",
    "ax.scatter(s.x - 500, s.y - 500, s=0.5)"
   ]
  },
  {
   "cell_type": "code",
   "execution_count": 24,
   "id": "935474ca-ec68-4dbf-896b-541f3de223a7",
   "metadata": {},
   "outputs": [],
   "source": [
    "fig = plot_metric(\n",
    "    df,\n",
    "    \"ntot\",\n",
    "    \"$N_{tot}$\",\n",
    "    \"ad\",\n",
    "    \"$A_d$\",\n",
    "    dotted_horizontal_lines=[0.37]\n",
    ")\n",
    "fig.show()\n",
    "fig.savefig(\"figures/shallow_slope_ntot_ad.png\", bbox_inches=\"tight\")\n",
    "\n",
    "fig = plot_metric(\n",
    "    df,\n",
    "    \"ntot\",\n",
    "    \"$N_{tot}$\",\n",
    "    \"log_mnnd\",\n",
    "    \"$log_{10}(\\overline{NN}_d)$\",\n",
    "    dotted_horizontal_lines=[1.87]\n",
    ")\n",
    "fig.show()\n",
    "fig.savefig(\"figures/shallow_slope_ntot_mnnd.png\", bbox_inches=\"tight\")\n",
    "\n",
    "fig = plot_metric(\n",
    "    df,\n",
    "    \"ntot\",\n",
    "    \"$N_{tot}$\",\n",
    "    \"z\",\n",
    "    \"$Z$\",\n",
    "    dotted_horizontal_lines=[-1.96, 1.96]\n",
    ")\n",
    "fig.show()\n",
    "fig.savefig(\"figures/shallow_slope_ntot_z.png\", bbox_inches=\"tight\")\n",
    "\n",
    "fig = plot_metric(\n",
    "    df,\n",
    "    \"ntot\",\n",
    "    \"$N_{tot}$\",\n",
    "    \"za\",\n",
    "    \"$Z_a$\",\n",
    "    dotted_horizontal_lines=[-1.96, 1.96]\n",
    ")\n",
    "fig.show()\n",
    "fig.savefig(\"figures/shallow_slope_ntot_za.png\", bbox_inches=\"tight\")"
   ]
  },
  {
   "cell_type": "code",
   "execution_count": null,
   "id": "a69a6e21-b581-4cee-949a-0bbc55d94b5b",
   "metadata": {},
   "outputs": [],
   "source": []
  },
  {
   "cell_type": "code",
   "execution_count": 25,
   "id": "103d53a3-cd75-4dd5-b3e1-39f3d79be550",
   "metadata": {},
   "outputs": [],
   "source": [
    "font_size = 16\n",
    "\n",
    "fig = plt.figure(figsize=(9, 4))\n",
    "ax = fig.add_subplot(111)\n",
    "\n",
    "ax.plot(df.ntot, df.nobs, color='b')\n",
    "ax.axhline(625, color=\"r\", linestyle=\"--\")\n",
    "ax.set_xlabel(\"$N_{tot}$\", fontsize=font_size)\n",
    "ax.set_ylabel(\"$N_{obs}$\", fontsize=font_size)\n",
    "\n",
    "fig.savefig(\"figures/shallow_slope_ntot_nobs.png\", bbox_inches=\"tight\")\n",
    "fig.show()"
   ]
  },
  {
   "cell_type": "code",
   "execution_count": null,
   "id": "b9a40831-c15c-478d-b33c-e5db2ce45a45",
   "metadata": {},
   "outputs": [],
   "source": []
  },
  {
   "cell_type": "markdown",
   "id": "7daf1b0d-55ca-477d-bcd9-8beccf16f32a",
   "metadata": {},
   "source": [
    "## Plots of individual simulations vs N_tot, steep slope"
   ]
  },
  {
   "cell_type": "code",
   "execution_count": 26,
   "id": "c37258b5-fa01-42ba-88d1-8e2b57846d4a",
   "metadata": {},
   "outputs": [],
   "source": [
    "# Looking for a simulation with steep slope\n",
    "configs_pdf[configs_pdf.slope.between(2.9, 3)]"
   ]
  },
  {
   "cell_type": "code",
   "execution_count": 27,
   "id": "6805f274-933a-4dcb-b899-56b1c0393582",
   "metadata": {},
   "outputs": [],
   "source": [
    "# Choosing simulation 7068\n",
    "simulation_id = 7068\n",
    "configs_pdf[configs_pdf.simulation_id == simulation_id]"
   ]
  },
  {
   "cell_type": "code",
   "execution_count": 28,
   "id": "28538198-d720-4817-aac3-7f585968d574",
   "metadata": {},
   "outputs": [],
   "source": [
    "# Full configuration\n",
    "configs_dict[simulation_id]"
   ]
  },
  {
   "cell_type": "code",
   "execution_count": 29,
   "id": "77579cc3-3b20-477b-844a-4a95643e7ba7",
   "metadata": {},
   "outputs": [],
   "source": [
    "df = data.where(F.col(\"simulation_id\") == simulation_id).toPandas()"
   ]
  },
  {
   "cell_type": "code",
   "execution_count": 30,
   "id": "73f64304-2bc0-4bdc-86c3-585051b3f047",
   "metadata": {},
   "outputs": [],
   "source": [
    "fig = plt.figure(figsize=(6, 4))\n",
    "ax1 = fig.add_subplot(111)\n",
    "\n",
    "plt1 = ax1.plot(\n",
    "    df.ntot,\n",
    "    df.nobs,\n",
    "    label=\"$N_{obs}$\",\n",
    "    lw=1,\n",
    "    ls=\"-\"\n",
    ")\n",
    "ax1.set_ylabel(\"$N_{obs}$\", fontsize=14)\n",
    "ax1.set_xlabel(\"$N_{tot}$\", fontsize=14)\n",
    "\n",
    "plt.show()"
   ]
  },
  {
   "cell_type": "code",
   "execution_count": 37,
   "id": "33c949b2-c1b9-4efe-b899-6dc11da78370",
   "metadata": {},
   "outputs": [],
   "source": [
    "target_ntots = [1000, 10000, 20000, 40000]\n",
    "study_region_size = configs_dict[simulation_id][\"study_region_size\"]\n",
    "study_region_padding = configs_dict[simulation_id][\"study_region_padding\"]\n",
    "\n",
    "sim_name = configs_dict[simulation_id][\"simulation_name\"]\n",
    "sim_path = f\"{base_path}/{sim_name}\"\n",
    "\n",
    "stats_df = spark.read.parquet(f\"{sim_path}/statistics_*.parquet\")\n",
    "craters_df = spark.read.parquet(f\"{sim_path}/craters_*.parquet\")\n",
    "removals_df = spark.read.parquet(f\"{sim_path}/crater_removals_*.parquet\")\n",
    "\n",
    "states = {\n",
    "    x: get_state_at_time(\n",
    "        stats_df,\n",
    "        craters_df,\n",
    "        removals_df,\n",
    "        simulation_id,\n",
    "        x,\n",
    "        study_region_size,\n",
    "        study_region_padding,\n",
    "        spark\n",
    "    )\n",
    "    for x in target_ntots\n",
    "}"
   ]
  },
  {
   "cell_type": "code",
   "execution_count": 38,
   "id": "a8200b02-d730-48b0-bf94-7f59177dce8f",
   "metadata": {},
   "outputs": [],
   "source": [
    "states[40000].radius.mean()"
   ]
  },
  {
   "cell_type": "code",
   "execution_count": 39,
   "id": "babaa0b0-9392-4bd8-a16b-8a7f6d2322d8",
   "metadata": {},
   "outputs": [],
   "source": [
    "fig = plot_csfds_for_multiple_n_tot(states, reference_slope=2.93, reference_intercept=2e5)\n",
    "fig.savefig(\"figures/steep_slope_csfds.png\", bbox_inches=\"tight\")\n",
    "plt.show()"
   ]
  },
  {
   "cell_type": "code",
   "execution_count": 40,
   "id": "4d09f8fe-df7d-4603-9d19-202e8eea95ef",
   "metadata": {},
   "outputs": [],
   "source": [
    "fig = plt.figure(figsize=(6, 6))\n",
    "ax = fig.add_subplot(111)\n",
    "\n",
    "ax.set_xlim([0, 4000])\n",
    "ax.set_ylim([0, 4000])\n",
    "\n",
    "s = states[40000]\n",
    "\n",
    "ax.scatter(s.x - 500, s.y - 500, s=0.5)"
   ]
  },
  {
   "cell_type": "code",
   "execution_count": 41,
   "id": "40e1e0b1-34f2-4a6d-b0d8-c93d435d959f",
   "metadata": {},
   "outputs": [],
   "source": [
    "fig = plot_metric(\n",
    "    df,\n",
    "    \"ntot\",\n",
    "    \"$N_{tot}$\",\n",
    "    \"ad\",\n",
    "    \"$A_d$\",\n",
    "    dotted_horizontal_lines=[0.125]\n",
    ")\n",
    "fig.show()\n",
    "fig.savefig(\"figures/steep_slope_ntot_ad.png\", bbox_inches=\"tight\")\n",
    "\n",
    "fig = plot_metric(\n",
    "    df,\n",
    "    \"ntot\",\n",
    "    \"$N_{tot}$\",\n",
    "    \"log_mnnd\",\n",
    "    \"$log_{10}(\\overline{NN}_d)$\",\n",
    "    dotted_horizontal_lines=[1.55]\n",
    ")\n",
    "fig.show()\n",
    "fig.savefig(\"figures/steep_slope_ntot_mnnd.png\", bbox_inches=\"tight\")\n",
    "\n",
    "fig = plot_metric(\n",
    "    df,\n",
    "    \"ntot\",\n",
    "    \"$N_{tot}$\",\n",
    "    \"z\",\n",
    "    \"$Z$\",\n",
    "    dotted_horizontal_lines=[-1.96, 1.96]\n",
    ")\n",
    "fig.show()\n",
    "fig.savefig(\"figures/steep_slope_ntot_z.png\", bbox_inches=\"tight\")\n",
    "\n",
    "fig = plot_metric(\n",
    "    df,\n",
    "    \"ntot\",\n",
    "    \"$N_{tot}$\",\n",
    "    \"za\",\n",
    "    \"$Z_a$\",\n",
    "    dotted_horizontal_lines=[-1.96, 1.96]\n",
    ")\n",
    "fig.show()\n",
    "fig.savefig(\"figures/steep_slope_ntot_za.png\", bbox_inches=\"tight\")"
   ]
  },
  {
   "cell_type": "code",
   "execution_count": 42,
   "id": "bf3200cb-c775-465d-8493-68323f2bd135",
   "metadata": {},
   "outputs": [],
   "source": [
    "font_size = 16\n",
    "\n",
    "fig = plt.figure(figsize=(9, 4))\n",
    "ax = fig.add_subplot(111)\n",
    "\n",
    "ax.plot(df.ntot, df.nobs, color='b')\n",
    "ax.axhline(4100, color=\"r\", linestyle=\"--\")\n",
    "ax.set_xlabel(\"$N_{tot}$\", fontsize=font_size)\n",
    "ax.set_ylabel(\"$N_{obs}$\", fontsize=font_size)\n",
    "\n",
    "fig.savefig(\"figures/steep_slope_ntot_nobs.png\", bbox_inches=\"tight\")\n",
    "fig.show()"
   ]
  },
  {
   "cell_type": "markdown",
   "id": "dab252b5-8282-412e-9848-a59cc0520831",
   "metadata": {},
   "source": []
  },
  {
   "cell_type": "markdown",
   "id": "41bdc4db-6913-4edd-931d-68d0039c586f",
   "metadata": {},
   "source": [
    "## Plots of single simulations, high destruction, slope = -2.5"
   ]
  },
  {
   "cell_type": "code",
   "execution_count": 43,
   "id": "cf5bfc21-fd96-4c55-9bd6-3c804940f635",
   "metadata": {},
   "outputs": [],
   "source": [
    "# Looking for a simulation with high destruction\n",
    "configs_pdf[\"destruction\"] = configs_pdf.effective_radius_multiplier * configs_pdf.min_rim_percentage * configs_pdf.r_stat_multiplier\n",
    "configs_pdf[configs_pdf.slope.between(2.5, 2.6)].sort_values(\"destruction\")"
   ]
  },
  {
   "cell_type": "code",
   "execution_count": 44,
   "id": "e95ecc01-d51d-4b9c-969c-0d2718135a02",
   "metadata": {},
   "outputs": [],
   "source": [
    "# Choosing simulation 43\n",
    "simulation_id = 43\n",
    "configs_pdf[configs_pdf.simulation_id == simulation_id]"
   ]
  },
  {
   "cell_type": "code",
   "execution_count": 45,
   "id": "b69e609c-76b3-4e6b-b578-d4f5d5fc0d7c",
   "metadata": {},
   "outputs": [],
   "source": [
    "# Full configuration\n",
    "configs_dict[simulation_id]"
   ]
  },
  {
   "cell_type": "code",
   "execution_count": 46,
   "id": "9a4ba6b1-68e4-40fd-abf4-1c40870f0c62",
   "metadata": {},
   "outputs": [],
   "source": [
    "df = data.where(F.col(\"simulation_id\") == simulation_id).toPandas()"
   ]
  },
  {
   "cell_type": "code",
   "execution_count": 47,
   "id": "19371cda-36b3-4daf-b1a5-a93651f21bcf",
   "metadata": {},
   "outputs": [],
   "source": [
    "fig = plt.figure(figsize=(6, 4))\n",
    "ax1 = fig.add_subplot(111)\n",
    "\n",
    "plt1 = ax1.plot(\n",
    "    df.ntot,\n",
    "    df.nobs,\n",
    "    label=\"$N_{obs}$\",\n",
    "    lw=1,\n",
    "    ls=\"-\"\n",
    ")\n",
    "ax1.set_ylabel(\"$N_{obs}$\", fontsize=14)\n",
    "ax1.set_xlabel(\"$N_{tot}$\", fontsize=14)\n",
    "\n",
    "plt.show()"
   ]
  },
  {
   "cell_type": "code",
   "execution_count": 52,
   "id": "8831bde5-0b9b-4d7b-b6d4-781867d2e872",
   "metadata": {},
   "outputs": [],
   "source": [
    "target_ntots = [2000, 4500, 10000, 15000]\n",
    "study_region_size = configs_dict[simulation_id][\"study_region_size\"]\n",
    "study_region_padding = configs_dict[simulation_id][\"study_region_padding\"]\n",
    "\n",
    "sim_name = configs_dict[simulation_id][\"simulation_name\"]\n",
    "sim_path = f\"{base_path}/{sim_name}\"\n",
    "\n",
    "stats_df = spark.read.parquet(f\"{sim_path}/statistics_*.parquet\")\n",
    "craters_df = spark.read.parquet(f\"{sim_path}/craters_*.parquet\")\n",
    "removals_df = spark.read.parquet(f\"{sim_path}/crater_removals_*.parquet\")\n",
    "\n",
    "states = {\n",
    "    x: get_state_at_time(\n",
    "        stats_df,\n",
    "        craters_df,\n",
    "        removals_df,\n",
    "        simulation_id,\n",
    "        x,\n",
    "        study_region_size,\n",
    "        study_region_padding,\n",
    "        spark\n",
    "    )\n",
    "    for x in target_ntots\n",
    "}"
   ]
  },
  {
   "cell_type": "code",
   "execution_count": 53,
   "id": "5cfeb5f2-7e3d-44c4-a1e2-08de61f4cc56",
   "metadata": {},
   "outputs": [],
   "source": [
    "fig = plot_csfds_for_multiple_n_tot(states, reference_slope=2.51, reference_intercept=2e5)\n",
    "fig.savefig(\"figures/high_destruction_csfds.png\", bbox_inches=\"tight\")\n",
    "plt.show()"
   ]
  },
  {
   "cell_type": "code",
   "execution_count": 50,
   "id": "953fc651-d933-4756-a24d-a45c2ed401af",
   "metadata": {},
   "outputs": [],
   "source": [
    "fig = plot_metric(\n",
    "    df,\n",
    "    \"ntot\",\n",
    "    \"$N_{tot}$\",\n",
    "    \"ad\",\n",
    "    \"$A_d$\",\n",
    "    dotted_horizontal_lines=[0.078]\n",
    ")\n",
    "fig.show()\n",
    "fig.savefig(\"figures/high_destruction_ntot_ad.png\", bbox_inches=\"tight\")\n",
    "\n",
    "fig = plot_metric(\n",
    "    df,\n",
    "    \"ntot\",\n",
    "    \"$N_{tot}$\",\n",
    "    \"log_mnnd\",\n",
    "    \"$log_{10}(\\overline{NN}_d)$\",\n",
    "    dotted_horizontal_lines=[1.72]\n",
    ")\n",
    "fig.show()\n",
    "fig.savefig(\"figures/high_destruction_ntot_mnnd.png\", bbox_inches=\"tight\")\n",
    "\n",
    "fig = plot_metric(\n",
    "    df,\n",
    "    \"ntot\",\n",
    "    \"$N_{tot}$\",\n",
    "    \"z\",\n",
    "    \"$Z$\",\n",
    "    dotted_horizontal_lines=[-1.96, 1.96]\n",
    ")\n",
    "fig.show()\n",
    "fig.savefig(\"figures/high_destruction_ntot_z.png\", bbox_inches=\"tight\")\n",
    "\n",
    "fig = plot_metric(\n",
    "    df,\n",
    "    \"ntot\",\n",
    "    \"$N_{tot}$\",\n",
    "    \"za\",\n",
    "    \"$Z_a$\",\n",
    "    dotted_horizontal_lines=[-1.96, 1.96]\n",
    ")\n",
    "fig.show()\n",
    "fig.savefig(\"figures/high_destruction_ntot_za.png\", bbox_inches=\"tight\")"
   ]
  },
  {
   "cell_type": "code",
   "execution_count": 51,
   "id": "569311d1-2f6c-4987-af21-5ef4e8f31905",
   "metadata": {},
   "outputs": [],
   "source": [
    "font_size = 16\n",
    "\n",
    "fig = plt.figure(figsize=(9, 4))\n",
    "ax = fig.add_subplot(111)\n",
    "\n",
    "ax.plot(df.ntot, df.nobs, color='b')\n",
    "ax.axhline(1800, color=\"r\", linestyle=\"--\")\n",
    "ax.set_xlabel(\"$N_{tot}$\", fontsize=font_size)\n",
    "ax.set_ylabel(\"$N_{obs}$\", fontsize=font_size)\n",
    "\n",
    "fig.savefig(\"figures/high_destruction_ntot_nobs.png\", bbox_inches=\"tight\")\n",
    "fig.show()"
   ]
  },
  {
   "cell_type": "code",
   "execution_count": null,
   "id": "7ca8c565-3e84-436f-8163-54cf70737ee9",
   "metadata": {},
   "outputs": [],
   "source": []
  },
  {
   "cell_type": "markdown",
   "id": "15a5c6da-3ef9-45e8-96c2-32b87cb3864d",
   "metadata": {},
   "source": [
    "## Plots of single simulations, low destruction, slope = -2.5"
   ]
  },
  {
   "cell_type": "code",
   "execution_count": 54,
   "id": "6bd96037-4615-46ce-b276-d4d0e9877e0a",
   "metadata": {},
   "outputs": [],
   "source": [
    "# Looking for a simulation with low destruction\n",
    "configs_pdf[\"destruction\"] = configs_pdf.effective_radius_multiplier * configs_pdf.min_rim_percentage * configs_pdf.r_stat_multiplier\n",
    "configs_pdf[configs_pdf.slope.between(2.5, 2.6)].sort_values(\"destruction\")"
   ]
  },
  {
   "cell_type": "code",
   "execution_count": 55,
   "id": "630299b9-ea92-4042-b831-3d3fdb47ab2c",
   "metadata": {},
   "outputs": [],
   "source": [
    "# Choosing simulation 1693\n",
    "simulation_id = 1693\n",
    "configs_pdf[configs_pdf.simulation_id == simulation_id]"
   ]
  },
  {
   "cell_type": "code",
   "execution_count": 56,
   "id": "3d657cfa-05d1-41ba-a36f-2c8ffd35671b",
   "metadata": {},
   "outputs": [],
   "source": [
    "# Full configuration\n",
    "configs_dict[simulation_id]"
   ]
  },
  {
   "cell_type": "code",
   "execution_count": 57,
   "id": "72cb198a-c744-42cc-8f45-95234b438c62",
   "metadata": {},
   "outputs": [],
   "source": [
    "df = data.where(F.col(\"simulation_id\") == simulation_id).toPandas()"
   ]
  },
  {
   "cell_type": "code",
   "execution_count": 58,
   "id": "5bcc1175-2989-4ca9-bebf-9575b6bec021",
   "metadata": {},
   "outputs": [],
   "source": [
    "fig = plt.figure(figsize=(6, 4))\n",
    "ax1 = fig.add_subplot(111)\n",
    "\n",
    "plt1 = ax1.plot(\n",
    "    df.ntot,\n",
    "    df.nobs,\n",
    "    label=\"$N_{obs}$\",\n",
    "    lw=1,\n",
    "    ls=\"-\"\n",
    ")\n",
    "ax1.set_ylabel(\"$N_{obs}$\", fontsize=14)\n",
    "ax1.set_xlabel(\"$N_{tot}$\", fontsize=14)\n",
    "\n",
    "plt.show()"
   ]
  },
  {
   "cell_type": "code",
   "execution_count": 64,
   "id": "7cddf20a-ad88-45b1-a852-378c487cf56a",
   "metadata": {},
   "outputs": [],
   "source": [
    "target_ntots = [2000, 30000, 50000, 140000]\n",
    "study_region_size = configs_dict[simulation_id][\"study_region_size\"]\n",
    "study_region_padding = configs_dict[simulation_id][\"study_region_padding\"]\n",
    "\n",
    "sim_name = configs_dict[simulation_id][\"simulation_name\"]\n",
    "sim_path = f\"{base_path}/{sim_name}\"\n",
    "\n",
    "stats_df = spark.read.parquet(f\"{sim_path}/statistics_*.parquet\")\n",
    "craters_df = spark.read.parquet(f\"{sim_path}/craters_*.parquet\")\n",
    "removals_df = spark.read.parquet(f\"{sim_path}/crater_removals_*.parquet\")\n",
    "\n",
    "states = {\n",
    "    x: get_state_at_time(\n",
    "        stats_df,\n",
    "        craters_df,\n",
    "        removals_df,\n",
    "        simulation_id,\n",
    "        x,\n",
    "        study_region_size,\n",
    "        study_region_padding,\n",
    "        spark\n",
    "    )\n",
    "    for x in target_ntots\n",
    "}"
   ]
  },
  {
   "cell_type": "code",
   "execution_count": 65,
   "id": "a5899e23-4b86-47af-b6ea-a6e075dc18f0",
   "metadata": {},
   "outputs": [],
   "source": [
    "fig = plot_csfds_for_multiple_n_tot(states, reference_slope=2.50, reference_intercept=5e6)\n",
    "fig.savefig(\"figures/low_destruction_csfds.png\", bbox_inches=\"tight\")\n",
    "plt.show()"
   ]
  },
  {
   "cell_type": "code",
   "execution_count": 66,
   "id": "fa4caafa-ad08-45fa-8da4-72b71d90c6d2",
   "metadata": {},
   "outputs": [],
   "source": [
    "df_copy = df.copy()\n",
    "df_copy[\"ntot\"] = df_copy.ntot / 1000"
   ]
  },
  {
   "cell_type": "code",
   "execution_count": 67,
   "id": "cc3042fd-047c-4300-bffa-0e60a255972d",
   "metadata": {},
   "outputs": [],
   "source": [
    "fig = plot_metric(\n",
    "    df_copy,\n",
    "    \"ntot\",\n",
    "    \"$N_{tot}$ (thousands)\",\n",
    "    \"ad\",\n",
    "    \"$A_d$\",\n",
    "    dotted_horizontal_lines=[0.58]\n",
    ")\n",
    "fig.show()\n",
    "fig.savefig(\"figures/low_destruction_ntot_ad.png\", bbox_inches=\"tight\")\n",
    "\n",
    "fig = plot_metric(\n",
    "    df_copy,\n",
    "    \"ntot\",\n",
    "    \"$N_{tot}$ (thousands)\",\n",
    "    \"log_mnnd\",\n",
    "    \"$log_{10}(\\overline{NN}_d)$\",\n",
    "    dotted_horizontal_lines=[1.24]\n",
    ")\n",
    "fig.show()\n",
    "fig.savefig(\"figures/low_destruction_ntot_mnnd.png\", bbox_inches=\"tight\")\n",
    "\n",
    "fig = plot_metric(\n",
    "    df_copy,\n",
    "    \"ntot\",\n",
    "    \"$N_{tot}$ (thousands)\",\n",
    "    \"z\",\n",
    "    \"$Z$\",\n",
    "    dotted_horizontal_lines=[-1.96, 1.96]\n",
    ")\n",
    "fig.show()\n",
    "fig.savefig(\"figures/low_destruction_ntot_z.png\", bbox_inches=\"tight\")\n",
    "\n",
    "fig = plot_metric(\n",
    "    df_copy,\n",
    "    \"ntot\",\n",
    "    \"$N_{tot}$ (thousands)\",\n",
    "    \"za\",\n",
    "    \"$Z_a$\",\n",
    "    dotted_horizontal_lines=[-1.96, 1.96]\n",
    ")\n",
    "fig.show()\n",
    "fig.savefig(\"figures/low_destruction_ntot_za.png\", bbox_inches=\"tight\")"
   ]
  },
  {
   "cell_type": "code",
   "execution_count": 68,
   "id": "435b6388-3c24-428c-9262-ab1b3455b5b7",
   "metadata": {},
   "outputs": [],
   "source": [
    "font_size = 16\n",
    "\n",
    "fig = plt.figure(figsize=(9, 4))\n",
    "ax = fig.add_subplot(111)\n",
    "\n",
    "ax.plot(df.ntot, df.nobs, color='b')\n",
    "ax.axhline(16000, color=\"r\", linestyle=\"--\")\n",
    "ax.set_xlabel(\"$N_{tot}$\", fontsize=font_size)\n",
    "ax.set_ylabel(\"$N_{obs}$\", fontsize=font_size)\n",
    "\n",
    "fig.savefig(\"figures/low_destruction_ntot_nobs.png\", bbox_inches=\"tight\")\n",
    "fig.show()"
   ]
  },
  {
   "cell_type": "code",
   "execution_count": null,
   "id": "7e4c9fb1-20c8-4a87-a448-215a38a7f95f",
   "metadata": {},
   "outputs": [],
   "source": []
  },
  {
   "cell_type": "code",
   "execution_count": null,
   "id": "93661378-96db-4c1c-a311-55de0bb6c13b",
   "metadata": {},
   "outputs": [],
   "source": []
  },
  {
   "cell_type": "code",
   "execution_count": null,
   "id": "9c8ccdc5-5001-48b8-8b5f-5a51643d217b",
   "metadata": {},
   "outputs": [],
   "source": []
  },
  {
   "cell_type": "code",
   "execution_count": 69,
   "id": "eddb3d2d-7e11-4355-b8a5-6ab370d659f5",
   "metadata": {},
   "outputs": [],
   "source": [
    "# Calculates the mean of a truncated Pareto distribution\n",
    "def calc_mean(alpha: float, x_min: float, x_max: float) -> float:\n",
    "    return (alpha * x_max**(1 - alpha) * x_min**(alpha) - alpha * x_min) / ((1 - alpha) * (1 - (x_min/x_max)**alpha))"
   ]
  },
  {
   "cell_type": "code",
   "execution_count": 102,
   "id": "f8a115d5-c5a9-4996-9812-093499cea637",
   "metadata": {},
   "outputs": [],
   "source": [
    "np.log10(calc_mean(2.0, 5 * 1.5, 1000))"
   ]
  },
  {
   "cell_type": "code",
   "execution_count": 101,
   "id": "02ff7042-7337-42a2-bde6-63c292c36771",
   "metadata": {},
   "outputs": [],
   "source": [
    "np.log10(calc_mean(2.5, 5 * 1.5, 1000))"
   ]
  },
  {
   "cell_type": "code",
   "execution_count": 103,
   "id": "9eb9fd2f-41ed-4a1d-aa81-8057ec7470d5",
   "metadata": {},
   "outputs": [],
   "source": [
    "np.log10(calc_mean(1.2, 5 * 1.5, 1000))"
   ]
  },
  {
   "cell_type": "code",
   "execution_count": 94,
   "id": "141c728d-0e5f-4778-b7c8-c574483ed350",
   "metadata": {},
   "outputs": [],
   "source": [
    "calc_mean(2.93, 5, 1000)"
   ]
  },
  {
   "cell_type": "code",
   "execution_count": 95,
   "id": "dd25573f-6147-4188-848e-c3e1e1b47b75",
   "metadata": {},
   "outputs": [],
   "source": [
    "calc_mean(2.5, 5, 1000)"
   ]
  },
  {
   "cell_type": "code",
   "execution_count": 92,
   "id": "c41d9b01-7394-440d-b6d1-9cc0845c137a",
   "metadata": {},
   "outputs": [],
   "source": [
    "10**1.87"
   ]
  },
  {
   "cell_type": "code",
   "execution_count": 93,
   "id": "977c5556-a657-4092-9a90-08cc020b625d",
   "metadata": {},
   "outputs": [],
   "source": [
    "10**1.55"
   ]
  },
  {
   "cell_type": "code",
   "execution_count": null,
   "id": "f99805d2-3aaa-48ec-b9b3-03a1ada36535",
   "metadata": {},
   "outputs": [],
   "source": []
  }
 ],
 "metadata": {
  "kernelspec": {
   "display_name": "Python 3 (ipykernel)",
   "language": "python",
   "name": "python3"
  },
  "language_info": {
   "codemirror_mode": {
    "name": "ipython",
    "version": 3
   },
   "file_extension": ".py",
   "mimetype": "text/x-python",
   "name": "python",
   "nbconvert_exporter": "python",
   "pygments_lexer": "ipython3",
   "version": "3.11.9"
  }
 },
 "nbformat": 4,
 "nbformat_minor": 5
}
