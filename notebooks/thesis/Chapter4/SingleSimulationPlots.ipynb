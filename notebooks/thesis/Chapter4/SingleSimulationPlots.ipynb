{
 "cells": [
  {
   "cell_type": "code",
   "execution_count": 1,
   "id": "64f76952-9fe1-480c-8dfb-06ea665fc5d7",
   "metadata": {
    "ExecuteTime": {
     "end_time": "2024-07-17T22:16:31.615391Z",
     "start_time": "2024-07-17T22:16:31.586776Z"
    }
   },
   "outputs": [],
   "source": [
    "%load_ext autoreload\n",
    "%autoreload 2"
   ]
  },
  {
   "cell_type": "code",
   "execution_count": 2,
   "id": "01f31e05-b001-4fbd-9484-9e76b693ced7",
   "metadata": {
    "ExecuteTime": {
     "end_time": "2024-07-17T22:17:31.006100Z",
     "start_time": "2024-07-17T22:17:30.982888Z"
    }
   },
   "outputs": [],
   "source": [
    "import glob\n",
    "import statsmodels.api as sm\n",
    "import statsmodels.formula.api as smf\n",
    "from scipy.stats import anderson_ksamp\n",
    "from saturation.utils import *"
   ]
  },
  {
   "cell_type": "code",
   "execution_count": 3,
   "id": "d998e74b-5390-4526-8e6e-65acf0828f23",
   "metadata": {
    "ExecuteTime": {
     "end_time": "2024-07-17T22:17:37.593948Z",
     "start_time": "2024-07-17T22:17:33.555232Z"
    }
   },
   "outputs": [
    {
     "name": "stderr",
     "output_type": "stream",
     "text": [
      "24/12/02 17:46:26 WARN Utils: Your hostname, muninn resolves to a loopback address: 127.0.1.1; using 192.168.50.14 instead (on interface enp8s0)\n",
      "24/12/02 17:46:26 WARN Utils: Set SPARK_LOCAL_IP if you need to bind to another address\n",
      "Setting default log level to \"WARN\".\n",
      "To adjust logging level use sc.setLogLevel(newLevel). For SparkR, use setLogLevel(newLevel).\n",
      "24/12/02 17:46:27 WARN NativeCodeLoader: Unable to load native-hadoop library for your platform... using builtin-java classes where applicable\n"
     ]
    }
   ],
   "source": [
    "n_cores = 28\n",
    "\n",
    "spark = (SparkSession.builder\n",
    "         .master(f\"local[{n_cores}]\")\n",
    "         .appName(\"Saturation\")\n",
    "         .config(\"spark.sql.shuffle.partitions\", \"500\")\n",
    "         .config(\"spark.driver.memory\", \"40g\")\n",
    "         .config(\"spark.driver.maxResultSize\", \"8g\")\n",
    "         .getOrCreate())"
   ]
  },
  {
   "cell_type": "code",
   "execution_count": 4,
   "id": "820c3f98-e0ab-44f1-a323-51e7888ac05b",
   "metadata": {
    "ExecuteTime": {
     "end_time": "2024-07-17T22:20:54.283356Z",
     "start_time": "2024-07-17T22:20:49.541887Z"
    }
   },
   "outputs": [
    {
     "name": "stderr",
     "output_type": "stream",
     "text": [
      "24/12/02 17:46:29 WARN CacheManager: Asked to cache already cached data.\n",
      "24/12/02 17:46:29 WARN HintErrorLogger: A join hint (strategy=broadcast) is specified but it is not part of a join relation.\n",
      "                                                                                \r"
     ]
    }
   ],
   "source": [
    "# base_path = \"/data/saturation/thesis_run_20240726_single_sims/\"\n",
    "base_path = \"/data/saturation/thesis_run_20240929/\"\n",
    "\n",
    "colors = [\"blue\", \"black\", \"r\", \"orange\", \"g\"]\n",
    "line_styles = [\"-\"]\n",
    "font_size = 16\n",
    "\n",
    "configs_df = F.broadcast(\n",
    "    create_configs_df(\n",
    "        read_configs(\n",
    "            base_path,\n",
    "            spark,\n",
    "            completed_only=False\n",
    "        )\n",
    "    )\n",
    ").cache()\n",
    "configs_pdf = configs_df.toPandas()\n",
    "\n",
    "# For stats, select only fields we care about, alias them\n",
    "data = spark.read.parquet(f\"{base_path}/*/statistics_*.parquet\")\n",
    "data = data.select(\n",
    "    \"simulation_id\",\n",
    "    \"ntot\",\n",
    "    \"nobs\",\n",
    ").where(F.col(\"ntot\") > 1)\n",
    "\n",
    "# Join with configs to get simulation parameters\n",
    "data = join_configs(data, configs_df, spark).cache()"
   ]
  },
  {
   "cell_type": "code",
   "execution_count": 5,
   "id": "9dea7cf5-756b-49e0-afff-918363c69ce1",
   "metadata": {},
   "outputs": [
    {
     "name": "stderr",
     "output_type": "stream",
     "text": [
      "                                                                                \r"
     ]
    }
   ],
   "source": [
    "craters = spark.read.parquet(f\"{base_path}/*/craters_*.parquet\")\n",
    "removals = spark.read.parquet(f\"{base_path}/*/crater_removals_*.parquet\")"
   ]
  },
  {
   "cell_type": "code",
   "execution_count": 6,
   "id": "c8cfbe84-0e53-429c-b604-ee6dfa93de10",
   "metadata": {
    "ExecuteTime": {
     "end_time": "2024-07-17T22:21:08.186083Z",
     "start_time": "2024-07-17T22:20:54.284982Z"
    }
   },
   "outputs": [],
   "source": [
    "configs_dict = dict()\n",
    "for config_file in glob.glob(f\"{base_path}/config/config*.yaml\"):\n",
    "    configs_dict.update(read_config(Path(config_file))[\"run_configurations\"])"
   ]
  },
  {
   "cell_type": "markdown",
   "id": "4c83684b-ed84-4c2a-a066-d166017b3616",
   "metadata": {
    "ExecuteTime": {
     "end_time": "2024-07-17T22:21:10.840509Z",
     "start_time": "2024-07-17T22:21:10.838074Z"
    }
   },
   "source": [
    "# Comparisons of scenarios"
   ]
  },
  {
   "cell_type": "markdown",
   "id": "54a8332f-7c48-4e56-8545-06f69f321c58",
   "metadata": {
    "jp-MarkdownHeadingCollapsed": true
   },
   "source": [
    "## Shallow slope"
   ]
  },
  {
   "cell_type": "code",
   "execution_count": null,
   "id": "3e4c79b4-4326-44de-b9a7-75412b0c70fb",
   "metadata": {},
   "outputs": [],
   "source": [
    "scenario_name = \"shallow_slope\"\n",
    "selected_slope = -1\n",
    "selected_mrp = 0.5\n",
    "selected_rmult = 1.5\n",
    "\n",
    "filtered = configs_pdf[(configs_pdf.slope == selected_slope) & (configs_pdf.mrp == selected_mrp) & (configs_pdf.rmult == selected_rmult)]\n",
    "selected_simulation_id = 1\n",
    "filtered"
   ]
  },
  {
   "cell_type": "code",
   "execution_count": null,
   "id": "056dc1fc-bd7d-4e13-9398-417549922ad2",
   "metadata": {},
   "outputs": [],
   "source": [
    "n_samples = 200\n",
    "df = data.where(F.col(\"simulation_id\") == selected_simulation_id)\n",
    "df = df.where(F.col(\"ntot\") % (df.count() // n_samples) == 5).orderBy(\"ntot\").toPandas()\n",
    "\n",
    "fig = plt.figure(figsize=(6, 4))\n",
    "ax1 = fig.add_subplot(111)\n",
    "\n",
    "nobs_line = df[-(df.shape[0] // 5):].nobs.median()\n",
    "print(f\"nobs line: {nobs_line}\")\n",
    "\n",
    "plt1 = ax1.plot(\n",
    "    df.ntot,\n",
    "    df.nobs,\n",
    "    label=\"$N_{obs}$\",\n",
    "    lw=1,\n",
    "    c=\"blue\"\n",
    ")\n",
    "\n",
    "ax1.axhline(nobs_line, color=\"r\", linestyle=\"--\")\n",
    "ax1.set_ylabel(\"$N_{obs}$\", fontsize=font_size)\n",
    "ax1.set_xlabel(\"$N_{tot}$\", fontsize=font_size)\n",
    "\n",
    "plt.show()\n",
    "fig.savefig(f\"figures/{scenario_name}_ntot_nobs.png\", bbox_inches=\"tight\")"
   ]
  },
  {
   "cell_type": "code",
   "execution_count": null,
   "id": "a443ffb6-0d0f-426b-9430-966727748e7e",
   "metadata": {},
   "outputs": [],
   "source": [
    "n_samples = 200\n",
    "df = data.where(\n",
    "    (F.col(\"simulation_id\") == selected_simulation_id)\n",
    "    & (F.col(\"ntot\") < 5000)\n",
    ")\n",
    "df = df.where(F.col(\"ntot\") % (df.count() // n_samples) == 5).orderBy(\"ntot\").toPandas()\n",
    "\n",
    "fig = plt.figure(figsize=(6, 4))\n",
    "ax1 = fig.add_subplot(111)\n",
    "\n",
    "nobs_line = df[-(df.shape[0] // 5):].nobs.median()\n",
    "print(f\"nobs line: {nobs_line}\")\n",
    "\n",
    "plt1 = ax1.plot(\n",
    "    df.ntot,\n",
    "    df.nobs,\n",
    "    label=\"$N_{obs}$\",\n",
    "    lw=1,\n",
    "    c=\"blue\"\n",
    ")\n",
    "\n",
    "ax1.axhline(nobs_line, color=\"r\", linestyle=\"--\")\n",
    "ax1.set_ylabel(\"$N_{obs}$\", fontsize=font_size)\n",
    "ax1.set_xlabel(\"$N_{tot}$\", fontsize=font_size)\n",
    "\n",
    "plt.show()\n",
    "fig.savefig(f\"figures/{scenario_name}_ntot_nobs_beginning.png\", bbox_inches=\"tight\")"
   ]
  },
  {
   "cell_type": "code",
   "execution_count": null,
   "id": "ddefc025-7b34-4aba-a1a8-8782c4277a67",
   "metadata": {},
   "outputs": [],
   "source": [
    "lifetimes = get_lifetimes_for_simulation(\n",
    "    simulation_id=selected_simulation_id,\n",
    "    craters=craters,\n",
    "    removals=removals,\n",
    "    configs_df=configs_df,\n",
    "    spark=spark\n",
    ")\n",
    "\n",
    "plt.figure(figsize=(6, 4))\n",
    "\n",
    "# Sampled scatterplot\n",
    "sampled = lifetimes.sample(frac=0.005)\n",
    "plt.scatter(\n",
    "    sampled.radius,\n",
    "    sampled.lifetime,\n",
    "    c=\"blue\",\n",
    "    s=.5,\n",
    ")\n",
    "\n",
    "# Fit the line in log space\n",
    "fitted_model = smf.ols(data=lifetimes, formula=\"np.log(lifetime) ~ 1 + np.log(radius)\").fit()\n",
    "fitted_intercept = np.exp(fitted_model.params.iloc[0])\n",
    "fitted_slope = fitted_model.params.iloc[1]\n",
    "\n",
    "plt.plot(\n",
    "    [sampled.radius.min(), sampled.radius.max()],\n",
    "    np.exp(fitted_model.predict(pd.Series([sampled.radius.min(), sampled.radius.max()], name=\"radius\"))),\n",
    "    ls=\"dashed\",\n",
    "    c=\"black\",\n",
    "    label=f\"$\\\\kappa = {get_scientific_notation(fitted_intercept, 3)} \\\\cdot r^{{ {fitted_slope:.3f} }}$\"\n",
    ")\n",
    "\n",
    "plt.xscale(\"log\")\n",
    "plt.yscale(\"log\")\n",
    "plt.xlabel(\"r\", fontsize=font_size)\n",
    "plt.ylabel(\"$\\\\kappa$\", fontsize=font_size)\n",
    "plt.legend()\n",
    "\n",
    "plt.savefig(f\"figures/{scenario_name}_lifetimes_scatter.png\", bbox_inches=\"tight\")\n",
    "plt.show()"
   ]
  },
  {
   "cell_type": "code",
   "execution_count": null,
   "id": "fc5d01c6-e4f5-4a4d-9642-7a2c2f5feae1",
   "metadata": {},
   "outputs": [],
   "source": [
    "fitted_model.summary()"
   ]
  },
  {
   "cell_type": "code",
   "execution_count": null,
   "id": "170e9c11-6202-466b-8f41-855e71f9fd31",
   "metadata": {},
   "outputs": [],
   "source": [
    "states = get_states_at_ntots(\n",
    "    simulation_id=selected_simulation_id,\n",
    "    configs_dict=configs_dict,\n",
    "    base_path=base_path,\n",
    "    spark=spark,\n",
    "    max_ntot=2.5*10**6\n",
    ")\n",
    "slope_estimates = estimate_slopes_for_states(states, configs_dict[selected_simulation_id][\"r_stat\"])\n",
    "\n",
    "fig = plot_slope_estimates(slope_estimates)\n",
    "plt.show()\n",
    "fig.savefig(f\"figures/{scenario_name}_slope_estimates.png\", bbox_inches=\"tight\")"
   ]
  },
  {
   "cell_type": "code",
   "execution_count": null,
   "id": "7f79158c-a492-4c10-bced-97cd99dd3a8e",
   "metadata": {},
   "outputs": [],
   "source": [
    "states = get_states_at_ntots(\n",
    "    simulation_id=selected_simulation_id,\n",
    "    configs_dict=configs_dict,\n",
    "    base_path=base_path,\n",
    "    target_ntots=[500, 1000, int(2.5*10**6)],\n",
    "    spark=spark\n",
    ")\n",
    "\n",
    "intercept = max(state.shape[0] / state.radius.min()**selected_slope for state in states.values())\n",
    "slope_intercept_line_styles = [\n",
    "    (selected_slope, intercept, \"dashed\", f\"$b = {selected_slope:.1f}$\")\n",
    "]\n",
    "\n",
    "fig = plot_csfds_for_multiple_ntot(states=states, slope_intercept_line_styles=slope_intercept_line_styles)\n",
    "plt.show()\n",
    "fig.savefig(f\"figures/{scenario_name}_csfds.png\", bbox_inches=\"tight\")"
   ]
  },
  {
   "cell_type": "code",
   "execution_count": null,
   "id": "b9a40831-c15c-478d-b33c-e5db2ce45a45",
   "metadata": {},
   "outputs": [],
   "source": []
  },
  {
   "cell_type": "markdown",
   "id": "7daf1b0d-55ca-477d-bcd9-8beccf16f32a",
   "metadata": {},
   "source": [
    "## Steep slope"
   ]
  },
  {
   "cell_type": "code",
   "execution_count": 7,
   "id": "28f52897-9b91-4025-a597-cd740fc81f51",
   "metadata": {},
   "outputs": [
    {
     "data": {
      "text/html": [
       "<div>\n",
       "<style scoped>\n",
       "    .dataframe tbody tr th:only-of-type {\n",
       "        vertical-align: middle;\n",
       "    }\n",
       "\n",
       "    .dataframe tbody tr th {\n",
       "        vertical-align: top;\n",
       "    }\n",
       "\n",
       "    .dataframe thead th {\n",
       "        text-align: right;\n",
       "    }\n",
       "</style>\n",
       "<table border=\"1\" class=\"dataframe\">\n",
       "  <thead>\n",
       "    <tr style=\"text-align: right;\">\n",
       "      <th></th>\n",
       "      <th>mrp</th>\n",
       "      <th>rim_erasure_method</th>\n",
       "      <th>rmult</th>\n",
       "      <th>simulation_id</th>\n",
       "      <th>slope</th>\n",
       "      <th>study_region_padding</th>\n",
       "      <th>study_region_size</th>\n",
       "    </tr>\n",
       "  </thead>\n",
       "  <tbody>\n",
       "    <tr>\n",
       "      <th>49</th>\n",
       "      <td>0.5</td>\n",
       "      <td>{'name': 'radius_ratio', 'ratio': '1000000.0'}</td>\n",
       "      <td>1.5</td>\n",
       "      <td>142.0</td>\n",
       "      <td>-4.0</td>\n",
       "      <td>250.0</td>\n",
       "      <td>2000.0</td>\n",
       "    </tr>\n",
       "    <tr>\n",
       "      <th>65</th>\n",
       "      <td>0.5</td>\n",
       "      <td>{'name': 'radius_ratio', 'ratio': '5.0'}</td>\n",
       "      <td>1.5</td>\n",
       "      <td>2.0</td>\n",
       "      <td>-4.0</td>\n",
       "      <td>250.0</td>\n",
       "      <td>2000.0</td>\n",
       "    </tr>\n",
       "    <tr>\n",
       "      <th>106</th>\n",
       "      <td>0.5</td>\n",
       "      <td>{'name': 'radius_ratio', 'ratio': '1000000.0'}</td>\n",
       "      <td>1.5</td>\n",
       "      <td>146.0</td>\n",
       "      <td>-4.0</td>\n",
       "      <td>250.0</td>\n",
       "      <td>2000.0</td>\n",
       "    </tr>\n",
       "  </tbody>\n",
       "</table>\n",
       "</div>"
      ],
      "text/plain": [
       "     mrp                              rim_erasure_method  rmult  \\\n",
       "49   0.5  {'name': 'radius_ratio', 'ratio': '1000000.0'}    1.5   \n",
       "65   0.5        {'name': 'radius_ratio', 'ratio': '5.0'}    1.5   \n",
       "106  0.5  {'name': 'radius_ratio', 'ratio': '1000000.0'}    1.5   \n",
       "\n",
       "     simulation_id  slope  study_region_padding  study_region_size  \n",
       "49           142.0   -4.0                 250.0             2000.0  \n",
       "65             2.0   -4.0                 250.0             2000.0  \n",
       "106          146.0   -4.0                 250.0             2000.0  "
      ]
     },
     "execution_count": 7,
     "metadata": {},
     "output_type": "execute_result"
    }
   ],
   "source": [
    "scenario_name = \"steep_slope\"\n",
    "selected_slope = -4\n",
    "selected_mrp = 0.5\n",
    "selected_rmult = 1.5\n",
    "\n",
    "filtered = configs_pdf[(configs_pdf.slope == selected_slope) & (configs_pdf.mrp == selected_mrp) & (configs_pdf.rmult == selected_rmult)]\n",
    "selected_simulation_id = 2\n",
    "filtered"
   ]
  },
  {
   "cell_type": "code",
   "execution_count": null,
   "id": "1a98ef3c-42ab-47ef-8d45-7f2ca8cdd304",
   "metadata": {},
   "outputs": [],
   "source": [
    "n_samples = 250\n",
    "df = data.where(F.col(\"simulation_id\") == selected_simulation_id)\n",
    "df = df.where(F.col(\"ntot\") % (df.count() // n_samples) == 5).orderBy(\"ntot\").toPandas()\n",
    "\n",
    "fig = plt.figure(figsize=(6, 4))\n",
    "ax1 = fig.add_subplot(111)\n",
    "\n",
    "nobs_line = df[-(df.shape[0] // 5):].nobs.median()\n",
    "print(f\"nobs line: {nobs_line}\")\n",
    "\n",
    "plt1 = ax1.plot(\n",
    "    df.ntot,\n",
    "    df.nobs,\n",
    "    label=\"$N_{obs}$\",\n",
    "    lw=1,\n",
    "    c=\"blue\"\n",
    ")\n",
    "\n",
    "ax1.axhline(nobs_line, color=\"r\", linestyle=\"--\")\n",
    "ax1.set_ylabel(\"$N_{obs}$\", fontsize=font_size)\n",
    "ax1.set_xlabel(\"$N_{tot}$\", fontsize=font_size)\n",
    "\n",
    "plt.show()\n",
    "fig.savefig(f\"figures/{scenario_name}_ntot_nobs.png\", bbox_inches=\"tight\")"
   ]
  },
  {
   "cell_type": "code",
   "execution_count": null,
   "id": "277c8b69-234d-43f9-ba8b-8fffd8caf616",
   "metadata": {},
   "outputs": [],
   "source": [
    "n_samples = 200\n",
    "df = data.where(\n",
    "    (F.col(\"simulation_id\") == selected_simulation_id)\n",
    "    & (F.col(\"ntot\") < 5000)\n",
    ")\n",
    "df = df.where(F.col(\"ntot\") % (df.count() // n_samples) == 5).orderBy(\"ntot\").toPandas()\n",
    "\n",
    "fig = plt.figure(figsize=(6, 4))\n",
    "ax1 = fig.add_subplot(111)\n",
    "\n",
    "nobs_line = df[-(df.shape[0] // 5):].nobs.median()\n",
    "print(f\"nobs line: {nobs_line}\")\n",
    "\n",
    "plt1 = ax1.plot(\n",
    "    df.ntot,\n",
    "    df.nobs,\n",
    "    label=\"$N_{obs}$\",\n",
    "    lw=1,\n",
    "    c=\"blue\"\n",
    ")\n",
    "\n",
    "ax1.axhline(nobs_line, color=\"r\", linestyle=\"--\")\n",
    "ax1.set_ylabel(\"$N_{obs}$\", fontsize=font_size)\n",
    "ax1.set_xlabel(\"$N_{tot}$\", fontsize=font_size)\n",
    "\n",
    "plt.show()\n",
    "fig.savefig(f\"figures/{scenario_name}_ntot_nobs_beginning.png\", bbox_inches=\"tight\")"
   ]
  },
  {
   "cell_type": "code",
   "execution_count": 14,
   "id": "4d68ba9b-4980-44b9-9f8b-6a7db5555a2f",
   "metadata": {},
   "outputs": [
    {
     "name": "stderr",
     "output_type": "stream",
     "text": [
      "                                                                                \r"
     ]
    },
    {
     "data": {
      "image/png": "[encoded data removed]",
      "text/plain": [
       "<Figure size 600x400 with 1 Axes>"
      ]
     },
     "metadata": {},
     "output_type": "display_data"
    }
   ],
   "source": [
    "lifetimes = get_lifetimes_for_simulation(\n",
    "    simulation_id=selected_simulation_id,\n",
    "    craters=craters,\n",
    "    removals=removals,\n",
    "    configs_df=configs_df,\n",
    "    spark=spark\n",
    ")\n",
    "\n",
    "plt.figure(figsize=(6, 4))\n",
    "\n",
    "# Sampled scatterplot\n",
    "sampled = lifetimes.sample(frac=0.005)\n",
    "plt.scatter(\n",
    "    sampled.radius,\n",
    "    sampled.lifetime,\n",
    "    c=\"blue\",\n",
    "    s=.5,\n",
    ")\n",
    "\n",
    "# Fit the line in log space\n",
    "fitted_model = smf.ols(data=lifetimes, formula=\"np.log(lifetime) ~ 1 + np.log(radius)\").fit()\n",
    "fitted_intercept = np.exp(fitted_model.params.iloc[0])\n",
    "fitted_slope = fitted_model.params.iloc[1]\n",
    "\n",
    "plt.plot(\n",
    "    [sampled.radius.min(), sampled.radius.max()],\n",
    "    np.exp(fitted_model.predict(pd.Series([sampled.radius.min(), sampled.radius.max()], name=\"radius\"))),\n",
    "    ls=\"dashed\",\n",
    "    c=\"black\",\n",
    "    label=f\"$\\\\kappa = {get_scientific_notation(fitted_intercept, 3)} \\\\cdot r^{{ {fitted_slope:.3f} }}$\"\n",
    ")\n",
    "\n",
    "plt.xscale(\"log\")\n",
    "plt.yscale(\"log\")\n",
    "plt.xlabel(\"r\", fontsize=font_size)\n",
    "plt.ylabel(\"$\\\\kappa$\", fontsize=font_size)\n",
    "plt.legend()\n",
    "\n",
    "plt.savefig(f\"figures/{scenario_name}_lifetimes_scatter.png\", bbox_inches=\"tight\")\n",
    "plt.show()"
   ]
  },
  {
   "cell_type": "code",
   "execution_count": 15,
   "id": "74fa0f85-d394-4bf1-8c97-69b79db641b8",
   "metadata": {},
   "outputs": [
    {
     "data": {
      "text/html": [
       "<table class=\"simpletable\">\n",
       "<caption>OLS Regression Results</caption>\n",
       "<tr>\n",
       "  <th>Dep. Variable:</th>    <td>np.log(lifetime)</td> <th>  R-squared:         </th>  <td>   0.458</td>  \n",
       "</tr>\n",
       "<tr>\n",
       "  <th>Model:</th>                   <td>OLS</td>       <th>  Adj. R-squared:    </th>  <td>   0.458</td>  \n",
       "</tr>\n",
       "<tr>\n",
       "  <th>Method:</th>             <td>Least Squares</td>  <th>  F-statistic:       </th>  <td>2.109e+06</td> \n",
       "</tr>\n",
       "<tr>\n",
       "  <th>Date:</th>             <td>Mon, 02 Dec 2024</td> <th>  Prob (F-statistic):</th>   <td>  0.00</td>   \n",
       "</tr>\n",
       "<tr>\n",
       "  <th>Time:</th>                 <td>17:48:13</td>     <th>  Log-Likelihood:    </th> <td>-2.0240e+06</td>\n",
       "</tr>\n",
       "<tr>\n",
       "  <th>No. Observations:</th>      <td>2500737</td>     <th>  AIC:               </th>  <td>4.048e+06</td> \n",
       "</tr>\n",
       "<tr>\n",
       "  <th>Df Residuals:</th>          <td>2500735</td>     <th>  BIC:               </th>  <td>4.048e+06</td> \n",
       "</tr>\n",
       "<tr>\n",
       "  <th>Df Model:</th>              <td>     1</td>      <th>                     </th>      <td> </td>     \n",
       "</tr>\n",
       "<tr>\n",
       "  <th>Covariance Type:</th>      <td>nonrobust</td>    <th>                     </th>      <td> </td>     \n",
       "</tr>\n",
       "</table>\n",
       "<table class=\"simpletable\">\n",
       "<tr>\n",
       "         <td></td>           <th>coef</th>     <th>std err</th>      <th>t</th>      <th>P>|t|</th>  <th>[0.025</th>    <th>0.975]</th>  \n",
       "</tr>\n",
       "<tr>\n",
       "  <th>Intercept</th>      <td>   11.3842</td> <td>    0.002</td> <td> 6033.327</td> <td> 0.000</td> <td>   11.380</td> <td>   11.388</td>\n",
       "</tr>\n",
       "<tr>\n",
       "  <th>np.log(radius)</th> <td>    1.9984</td> <td>    0.001</td> <td> 1452.298</td> <td> 0.000</td> <td>    1.996</td> <td>    2.001</td>\n",
       "</tr>\n",
       "</table>\n",
       "<table class=\"simpletable\">\n",
       "<tr>\n",
       "  <th>Omnibus:</th>       <td>956707.952</td> <th>  Durbin-Watson:     </th>  <td>   1.998</td>  \n",
       "</tr>\n",
       "<tr>\n",
       "  <th>Prob(Omnibus):</th>   <td> 0.000</td>   <th>  Jarque-Bera (JB):  </th> <td>8531527.971</td>\n",
       "</tr>\n",
       "<tr>\n",
       "  <th>Skew:</th>            <td>-1.598</td>   <th>  Prob(JB):          </th>  <td>    0.00</td>  \n",
       "</tr>\n",
       "<tr>\n",
       "  <th>Kurtosis:</th>        <td>11.466</td>   <th>  Cond. No.          </th>  <td>    11.4</td>  \n",
       "</tr>\n",
       "</table><br/><br/>Notes:<br/>[1] Standard Errors assume that the covariance matrix of the errors is correctly specified."
      ],
      "text/latex": [
       "\\begin{center}\n",
       "\\begin{tabular}{lclc}\n",
       "\\toprule\n",
       "\\textbf{Dep. Variable:}    & np.log(lifetime) & \\textbf{  R-squared:         } &      0.458   \\\\\n",
       "\\textbf{Model:}            &       OLS        & \\textbf{  Adj. R-squared:    } &      0.458   \\\\\n",
       "\\textbf{Method:}           &  Least Squares   & \\textbf{  F-statistic:       } &  2.109e+06   \\\\\n",
       "\\textbf{Date:}             & Mon, 02 Dec 2024 & \\textbf{  Prob (F-statistic):} &      0.00    \\\\\n",
       "\\textbf{Time:}             &     17:48:13     & \\textbf{  Log-Likelihood:    } & -2.0240e+06  \\\\\n",
       "\\textbf{No. Observations:} &     2500737      & \\textbf{  AIC:               } &  4.048e+06   \\\\\n",
       "\\textbf{Df Residuals:}     &     2500735      & \\textbf{  BIC:               } &  4.048e+06   \\\\\n",
       "\\textbf{Df Model:}         &           1      & \\textbf{                     } &              \\\\\n",
       "\\textbf{Covariance Type:}  &    nonrobust     & \\textbf{                     } &              \\\\\n",
       "\\bottomrule\n",
       "\\end{tabular}\n",
       "\\begin{tabular}{lcccccc}\n",
       "                        & \\textbf{coef} & \\textbf{std err} & \\textbf{t} & \\textbf{P$> |$t$|$} & \\textbf{[0.025} & \\textbf{0.975]}  \\\\\n",
       "\\midrule\n",
       "\\textbf{Intercept}      &      11.3842  &        0.002     &  6033.327  &         0.000        &       11.380    &       11.388     \\\\\n",
       "\\textbf{np.log(radius)} &       1.9984  &        0.001     &  1452.298  &         0.000        &        1.996    &        2.001     \\\\\n",
       "\\bottomrule\n",
       "\\end{tabular}\n",
       "\\begin{tabular}{lclc}\n",
       "\\textbf{Omnibus:}       & 956707.952 & \\textbf{  Durbin-Watson:     } &      1.998   \\\\\n",
       "\\textbf{Prob(Omnibus):} &    0.000   & \\textbf{  Jarque-Bera (JB):  } & 8531527.971  \\\\\n",
       "\\textbf{Skew:}          &   -1.598   & \\textbf{  Prob(JB):          } &       0.00   \\\\\n",
       "\\textbf{Kurtosis:}      &   11.466   & \\textbf{  Cond. No.          } &       11.4   \\\\\n",
       "\\bottomrule\n",
       "\\end{tabular}\n",
       "%\\caption{OLS Regression Results}\n",
       "\\end{center}\n",
       "\n",
       "Notes: \\newline\n",
       " [1] Standard Errors assume that the covariance matrix of the errors is correctly specified."
      ],
      "text/plain": [
       "<class 'statsmodels.iolib.summary.Summary'>\n",
       "\"\"\"\n",
       "                            OLS Regression Results                            \n",
       "==============================================================================\n",
       "Dep. Variable:       np.log(lifetime)   R-squared:                       0.458\n",
       "Model:                            OLS   Adj. R-squared:                  0.458\n",
       "Method:                 Least Squares   F-statistic:                 2.109e+06\n",
       "Date:                Mon, 02 Dec 2024   Prob (F-statistic):               0.00\n",
       "Time:                        17:48:13   Log-Likelihood:            -2.0240e+06\n",
       "No. Observations:             2500737   AIC:                         4.048e+06\n",
       "Df Residuals:                 2500735   BIC:                         4.048e+06\n",
       "Df Model:                           1                                         \n",
       "Covariance Type:            nonrobust                                         \n",
       "==================================================================================\n",
       "                     coef    std err          t      P>|t|      [0.025      0.975]\n",
       "----------------------------------------------------------------------------------\n",
       "Intercept         11.3842      0.002   6033.327      0.000      11.380      11.388\n",
       "np.log(radius)     1.9984      0.001   1452.298      0.000       1.996       2.001\n",
       "==============================================================================\n",
       "Omnibus:                   956707.952   Durbin-Watson:                   1.998\n",
       "Prob(Omnibus):                  0.000   Jarque-Bera (JB):          8531527.971\n",
       "Skew:                          -1.598   Prob(JB):                         0.00\n",
       "Kurtosis:                      11.466   Cond. No.                         11.4\n",
       "==============================================================================\n",
       "\n",
       "Notes:\n",
       "[1] Standard Errors assume that the covariance matrix of the errors is correctly specified.\n",
       "\"\"\""
      ]
     },
     "execution_count": 15,
     "metadata": {},
     "output_type": "execute_result"
    }
   ],
   "source": [
    "fitted_model.summary()"
   ]
  },
  {
   "cell_type": "code",
   "execution_count": 16,
   "id": "9fda1c49-e33b-42e6-ad07-aceb3bec4140",
   "metadata": {},
   "outputs": [],
   "source": [
    "lifetimes_hold = lifetimes.copy()"
   ]
  },
  {
   "cell_type": "code",
   "execution_count": 72,
   "id": "13d069a6-aaff-45ae-a5d2-0016de9a00ba",
   "metadata": {},
   "outputs": [],
   "source": [
    "lifetimes = lifetimes_hold.copy()"
   ]
  },
  {
   "cell_type": "code",
   "execution_count": 73,
   "id": "7591c52d-8151-483d-9d5e-72e8597a4401",
   "metadata": {},
   "outputs": [],
   "source": [
    "lifetimes[\"radius\"] = lifetimes.radius.astype(\"float64\")"
   ]
  },
  {
   "cell_type": "code",
   "execution_count": 74,
   "id": "aef39e95-5ec8-4c52-93d8-1fef438ab8a1",
   "metadata": {},
   "outputs": [],
   "source": [
    "lifetimes = lifetimes.sample(frac=0.25)"
   ]
  },
  {
   "cell_type": "code",
   "execution_count": 87,
   "id": "8f9851d2-5c5f-4360-97f3-bdcab2e108fa",
   "metadata": {},
   "outputs": [
    {
     "name": "stdout",
     "output_type": "stream",
     "text": [
      "Optimization terminated successfully.\n",
      "         Current function value: 14.809171\n",
      "         Iterations: 11\n",
      "         Function evaluations: 13\n",
      "         Gradient evaluations: 13\n"
     ]
    }
   ],
   "source": [
    "from statsmodels.discrete.discrete_model import Poisson, NegativeBinomial\n",
    "\n",
    "# fitted_model = Poisson(lifetimes.lifetime, sm.add_constant(np.log(lifetimes.radius))).fit(maxiter=1000)\n",
    "fitted_model = NegativeBinomial(lifetimes.lifetime, sm.add_constant(np.log(lifetimes.radius))).fit(maxiter=1000)\n",
    "\n",
    "fitted_intercept = np.exp(fitted_model.params.iloc[0])\n",
    "fitted_slope = fitted_model.params.iloc[1]"
   ]
  },
  {
   "cell_type": "code",
   "execution_count": 88,
   "id": "a5b261d0-8bb5-4608-b0ea-db20d291e443",
   "metadata": {},
   "outputs": [
    {
     "data": {
      "text/html": [
       "<table class=\"simpletable\">\n",
       "<caption>NegativeBinomial Regression Results</caption>\n",
       "<tr>\n",
       "  <th>Dep. Variable:</th>       <td>lifetime</td>     <th>  No. Observations:  </th>   <td>625184</td>   \n",
       "</tr>\n",
       "<tr>\n",
       "  <th>Model:</th>           <td>NegativeBinomial</td> <th>  Df Residuals:      </th>   <td>625182</td>   \n",
       "</tr>\n",
       "<tr>\n",
       "  <th>Method:</th>                 <td>MLE</td>       <th>  Df Model:          </th>   <td>     1</td>   \n",
       "</tr>\n",
       "<tr>\n",
       "  <th>Date:</th>            <td>Mon, 02 Dec 2024</td> <th>  Pseudo R-squ.:     </th>   <td>0.03283</td>  \n",
       "</tr>\n",
       "<tr>\n",
       "  <th>Time:</th>                <td>18:20:55</td>     <th>  Log-Likelihood:    </th> <td>-9.2585e+06</td>\n",
       "</tr>\n",
       "<tr>\n",
       "  <th>converged:</th>             <td>True</td>       <th>  LL-Null:           </th> <td>-9.5727e+06</td>\n",
       "</tr>\n",
       "<tr>\n",
       "  <th>Covariance Type:</th>     <td>nonrobust</td>    <th>  LLR p-value:       </th>   <td> 0.000</td>   \n",
       "</tr>\n",
       "</table>\n",
       "<table class=\"simpletable\">\n",
       "<tr>\n",
       "     <td></td>       <th>coef</th>     <th>std err</th>      <th>z</th>      <th>P>|z|</th>  <th>[0.025</th>    <th>0.975]</th>  \n",
       "</tr>\n",
       "<tr>\n",
       "  <th>const</th>  <td>   11.5045</td> <td>    0.003</td> <td> 3437.765</td> <td> 0.000</td> <td>   11.498</td> <td>   11.511</td>\n",
       "</tr>\n",
       "<tr>\n",
       "  <th>radius</th> <td>    1.9997</td> <td>    0.002</td> <td>  819.586</td> <td> 0.000</td> <td>    1.995</td> <td>    2.004</td>\n",
       "</tr>\n",
       "<tr>\n",
       "  <th>alpha</th>  <td>    0.2328</td> <td>    0.000</td> <td>  580.165</td> <td> 0.000</td> <td>    0.232</td> <td>    0.234</td>\n",
       "</tr>\n",
       "</table>"
      ],
      "text/latex": [
       "\\begin{center}\n",
       "\\begin{tabular}{lclc}\n",
       "\\toprule\n",
       "\\textbf{Dep. Variable:}   &     lifetime     & \\textbf{  No. Observations:  } &    625184    \\\\\n",
       "\\textbf{Model:}           & NegativeBinomial & \\textbf{  Df Residuals:      } &    625182    \\\\\n",
       "\\textbf{Method:}          &       MLE        & \\textbf{  Df Model:          } &         1    \\\\\n",
       "\\textbf{Date:}            & Mon, 02 Dec 2024 & \\textbf{  Pseudo R-squ.:     } &   0.03283    \\\\\n",
       "\\textbf{Time:}            &     18:20:55     & \\textbf{  Log-Likelihood:    } & -9.2585e+06  \\\\\n",
       "\\textbf{converged:}       &       True       & \\textbf{  LL-Null:           } & -9.5727e+06  \\\\\n",
       "\\textbf{Covariance Type:} &    nonrobust     & \\textbf{  LLR p-value:       } &     0.000    \\\\\n",
       "\\bottomrule\n",
       "\\end{tabular}\n",
       "\\begin{tabular}{lcccccc}\n",
       "                & \\textbf{coef} & \\textbf{std err} & \\textbf{z} & \\textbf{P$> |$z$|$} & \\textbf{[0.025} & \\textbf{0.975]}  \\\\\n",
       "\\midrule\n",
       "\\textbf{const}  &      11.5045  &        0.003     &  3437.765  &         0.000        &       11.498    &       11.511     \\\\\n",
       "\\textbf{radius} &       1.9997  &        0.002     &   819.586  &         0.000        &        1.995    &        2.004     \\\\\n",
       "\\textbf{alpha}  &       0.2328  &        0.000     &   580.165  &         0.000        &        0.232    &        0.234     \\\\\n",
       "\\bottomrule\n",
       "\\end{tabular}\n",
       "%\\caption{NegativeBinomial Regression Results}\n",
       "\\end{center}"
      ],
      "text/plain": [
       "<class 'statsmodels.iolib.summary.Summary'>\n",
       "\"\"\"\n",
       "                     NegativeBinomial Regression Results                      \n",
       "==============================================================================\n",
       "Dep. Variable:               lifetime   No. Observations:               625184\n",
       "Model:               NegativeBinomial   Df Residuals:                   625182\n",
       "Method:                           MLE   Df Model:                            1\n",
       "Date:                Mon, 02 Dec 2024   Pseudo R-squ.:                 0.03283\n",
       "Time:                        18:20:55   Log-Likelihood:            -9.2585e+06\n",
       "converged:                       True   LL-Null:                   -9.5727e+06\n",
       "Covariance Type:            nonrobust   LLR p-value:                     0.000\n",
       "==============================================================================\n",
       "                 coef    std err          z      P>|z|      [0.025      0.975]\n",
       "------------------------------------------------------------------------------\n",
       "const         11.5045      0.003   3437.765      0.000      11.498      11.511\n",
       "radius         1.9997      0.002    819.586      0.000       1.995       2.004\n",
       "alpha          0.2328      0.000    580.165      0.000       0.232       0.234\n",
       "==============================================================================\n",
       "\"\"\""
      ]
     },
     "execution_count": 88,
     "metadata": {},
     "output_type": "execute_result"
    }
   ],
   "source": [
    "fitted_model.summary()"
   ]
  },
  {
   "cell_type": "code",
   "execution_count": 79,
   "id": "ca0ed02b-9b29-43a8-935c-fbf1720d4e1b",
   "metadata": {},
   "outputs": [
    {
     "data": {
      "text/plain": [
       "np.float64(-2.0931348688118385)"
      ]
     },
     "execution_count": 79,
     "metadata": {},
     "output_type": "execute_result"
    }
   ],
   "source": [
    "np.log(0.1233)"
   ]
  },
  {
   "cell_type": "code",
   "execution_count": 33,
   "id": "7fecd78b-63c2-4088-84f6-920d97a7887c",
   "metadata": {},
   "outputs": [
    {
     "data": {
      "text/plain": [
       "(np.float64(1779817.0306837545), np.float64(10734126701988.004))"
      ]
     },
     "execution_count": 33,
     "metadata": {},
     "output_type": "execute_result"
    }
   ],
   "source": [
    "lifetimes.lifetime.mean(), lifetimes.lifetime.var()"
   ]
  },
  {
   "cell_type": "code",
   "execution_count": null,
   "id": "e9567c75-5d4b-44dd-b9be-b21d261dd73d",
   "metadata": {},
   "outputs": [],
   "source": [
    "sorted_sampled = sampled.sort_values(\"radius\")\n",
    "\n",
    "n_chunks = 4\n",
    "n_samples = sorted_sampled.shape[0] // n_chunks\n",
    "ks_2samp(sorted_sampled.lifetime[:n_samples], sorted_sampled.lifetime[n_samples * (n_chunks - 2):n_samples * (n_chunks - 1)])"
   ]
  },
  {
   "cell_type": "code",
   "execution_count": null,
   "id": "23b3dfa4-bb11-4cb3-8583-5862552f893f",
   "metadata": {},
   "outputs": [],
   "source": [
    "states = get_states_at_ntots(\n",
    "    simulation_id=selected_simulation_id,\n",
    "    configs_dict=configs_dict,\n",
    "    base_path=base_path,\n",
    "    spark=spark,\n",
    "    max_ntot=2.5*10**6\n",
    ")\n",
    "slope_estimates = estimate_slopes_for_states(states, configs_dict[selected_simulation_id][\"r_stat\"])\n",
    "\n",
    "fig = plot_slope_estimates(slope_estimates)\n",
    "plt.show()\n",
    "fig.savefig(f\"figures/{scenario_name}_slope_estimates.png\", bbox_inches=\"tight\")"
   ]
  },
  {
   "cell_type": "code",
   "execution_count": null,
   "id": "9a34b5c2-adc1-44ee-8d1f-267280304b7f",
   "metadata": {},
   "outputs": [],
   "source": [
    "states = get_states_at_ntots(\n",
    "    simulation_id=selected_simulation_id,\n",
    "    configs_dict=configs_dict,\n",
    "    base_path=base_path,\n",
    "    target_ntots=[250, 5000, int(2.5*10**6)],\n",
    "    spark=spark\n",
    ")\n",
    "\n",
    "equilibrium_slope = -2.0\n",
    "equilibrium_intercept = max(state.shape[0] / state.radius.min()**equilibrium_slope for state in states.values())\n",
    "\n",
    "production_slope = -4.0\n",
    "production_intercept = min(state.shape[0] / state.radius.min()**production_slope for state in states.values())\n",
    "slope_intercept_line_styles = [\n",
    "    (production_slope, production_intercept, \"--\", f\"$b = {production_slope:.1f}$\"),\n",
    "    (equilibrium_slope, equilibrium_intercept, \"dotted\", f\"$b = {equilibrium_slope:.1f}$\"),\n",
    "]\n",
    "fig = plot_csfds_for_multiple_ntot(states=states, slope_intercept_line_styles=slope_intercept_line_styles)\n",
    "plt.show()\n",
    "fig.savefig(f\"figures/{scenario_name}_csfds.png\", bbox_inches=\"tight\")"
   ]
  },
  {
   "cell_type": "code",
   "execution_count": null,
   "id": "ff762e5b-89fc-499f-85c6-54a13dd643b8",
   "metadata": {},
   "outputs": [],
   "source": []
  },
  {
   "cell_type": "markdown",
   "id": "41bdc4db-6913-4edd-931d-68d0039c586f",
   "metadata": {},
   "source": [
    "## High destruction, b = -2.5"
   ]
  },
  {
   "cell_type": "code",
   "execution_count": 89,
   "id": "1ec21dca-79cf-4784-bd0e-708063ed1848",
   "metadata": {},
   "outputs": [
    {
     "data": {
      "text/html": [
       "<div>\n",
       "<style scoped>\n",
       "    .dataframe tbody tr th:only-of-type {\n",
       "        vertical-align: middle;\n",
       "    }\n",
       "\n",
       "    .dataframe tbody tr th {\n",
       "        vertical-align: top;\n",
       "    }\n",
       "\n",
       "    .dataframe thead th {\n",
       "        text-align: right;\n",
       "    }\n",
       "</style>\n",
       "<table border=\"1\" class=\"dataframe\">\n",
       "  <thead>\n",
       "    <tr style=\"text-align: right;\">\n",
       "      <th></th>\n",
       "      <th>mrp</th>\n",
       "      <th>rim_erasure_method</th>\n",
       "      <th>rmult</th>\n",
       "      <th>simulation_id</th>\n",
       "      <th>slope</th>\n",
       "      <th>study_region_padding</th>\n",
       "      <th>study_region_size</th>\n",
       "    </tr>\n",
       "  </thead>\n",
       "  <tbody>\n",
       "    <tr>\n",
       "      <th>60</th>\n",
       "      <td>0.75</td>\n",
       "      <td>{'name': 'radius_ratio', 'ratio': '11.0'}</td>\n",
       "      <td>1.9</td>\n",
       "      <td>3.0</td>\n",
       "      <td>-2.5</td>\n",
       "      <td>250.0</td>\n",
       "      <td>2000.0</td>\n",
       "    </tr>\n",
       "  </tbody>\n",
       "</table>\n",
       "</div>"
      ],
      "text/plain": [
       "     mrp                         rim_erasure_method  rmult  simulation_id  \\\n",
       "60  0.75  {'name': 'radius_ratio', 'ratio': '11.0'}    1.9            3.0   \n",
       "\n",
       "    slope  study_region_padding  study_region_size  \n",
       "60   -2.5                 250.0             2000.0  "
      ]
     },
     "execution_count": 89,
     "metadata": {},
     "output_type": "execute_result"
    }
   ],
   "source": [
    "scenario_name = \"high_destruction\"\n",
    "selected_slope = -2.5\n",
    "selected_mrp = 0.75\n",
    "selected_rmult = 1.9\n",
    "\n",
    "filtered = configs_pdf[(configs_pdf.slope == selected_slope) & (configs_pdf.mrp == selected_mrp) & (configs_pdf.rmult == selected_rmult)]\n",
    "selected_simulation_id = int(filtered.simulation_id.iloc[0])\n",
    "filtered"
   ]
  },
  {
   "cell_type": "code",
   "execution_count": null,
   "id": "6eb6ce60-98f4-46c5-9d6c-25b50deac89c",
   "metadata": {},
   "outputs": [],
   "source": [
    "n_samples = 250\n",
    "df = data.where(F.col(\"simulation_id\") == selected_simulation_id)\n",
    "df = df.where(F.col(\"ntot\") % (df.count() // n_samples) == 5).orderBy(\"ntot\").toPandas()\n",
    "\n",
    "fig = plt.figure(figsize=(6, 4))\n",
    "ax1 = fig.add_subplot(111)\n",
    "\n",
    "nobs_line = df[-(df.shape[0] // 5):].nobs.median()\n",
    "print(f\"nobs line: {nobs_line}\")\n",
    "\n",
    "plt1 = ax1.plot(\n",
    "    df.ntot,\n",
    "    df.nobs,\n",
    "    label=\"$N_{obs}$\",\n",
    "    lw=1,\n",
    "    c=\"blue\",\n",
    ")\n",
    "\n",
    "ax1.axhline(nobs_line, color=\"r\", linestyle=\"--\")\n",
    "ax1.set_ylabel(\"$N_{obs}$\", fontsize=font_size)\n",
    "ax1.set_xlabel(\"$N_{tot}$\", fontsize=font_size)\n",
    "\n",
    "plt.show()\n",
    "fig.savefig(f\"figures/{scenario_name}_ntot_nobs.png\", bbox_inches=\"tight\")"
   ]
  },
  {
   "cell_type": "code",
   "execution_count": 90,
   "id": "efd8ccec-6305-4abf-b103-ecc9c4c2b623",
   "metadata": {},
   "outputs": [
    {
     "name": "stderr",
     "output_type": "stream",
     "text": [
      "                                                                                \r"
     ]
    },
    {
     "data": {
      "image/png": "[encoded data removed]",
      "text/plain": [
       "<Figure size 600x400 with 1 Axes>"
      ]
     },
     "metadata": {},
     "output_type": "display_data"
    }
   ],
   "source": [
    "lifetimes = get_lifetimes_for_simulation(\n",
    "    simulation_id=selected_simulation_id,\n",
    "    craters=craters,\n",
    "    removals=removals,\n",
    "    configs_df=configs_df,\n",
    "    spark=spark\n",
    ")\n",
    "\n",
    "plt.figure(figsize=(6, 4))\n",
    "\n",
    "# Sampled scatterplot\n",
    "sampled = lifetimes.sample(frac=0.005)\n",
    "plt.scatter(\n",
    "    sampled.radius,\n",
    "    sampled.lifetime,\n",
    "    c=\"blue\",\n",
    "    s=.5,\n",
    ")\n",
    "\n",
    "# Fit the line in log space\n",
    "fitted_model = smf.ols(data=lifetimes, formula=\"np.log(lifetime) ~ 1 + np.log(radius)\").fit()\n",
    "fitted_intercept = np.exp(fitted_model.params.iloc[0])\n",
    "fitted_slope = fitted_model.params.iloc[1]\n",
    "\n",
    "plt.plot(\n",
    "    [sampled.radius.min(), sampled.radius.max()],\n",
    "    np.exp(fitted_model.predict(pd.Series([sampled.radius.min(), sampled.radius.max()], name=\"radius\"))),\n",
    "    ls=\"dashed\",\n",
    "    c=\"black\",\n",
    "    label=f\"$\\\\kappa = {get_scientific_notation(fitted_intercept, 3)} \\\\cdot r^{{ {fitted_slope:.3f} }}$\"\n",
    ")\n",
    "\n",
    "plt.xscale(\"log\")\n",
    "plt.yscale(\"log\")\n",
    "plt.xlabel(\"r\", fontsize=font_size)\n",
    "plt.ylabel(\"$\\\\kappa$\", fontsize=font_size)\n",
    "plt.legend()\n",
    "\n",
    "plt.savefig(f\"figures/{scenario_name}_lifetimes_scatter.png\", bbox_inches=\"tight\")\n",
    "plt.show()"
   ]
  },
  {
   "cell_type": "code",
   "execution_count": 91,
   "id": "9be7cc5b-9aea-4399-91df-a6b530ffc457",
   "metadata": {},
   "outputs": [
    {
     "data": {
      "text/html": [
       "<table class=\"simpletable\">\n",
       "<caption>OLS Regression Results</caption>\n",
       "<tr>\n",
       "  <th>Dep. Variable:</th>    <td>np.log(lifetime)</td> <th>  R-squared:         </th>  <td>   0.048</td>  \n",
       "</tr>\n",
       "<tr>\n",
       "  <th>Model:</th>                   <td>OLS</td>       <th>  Adj. R-squared:    </th>  <td>   0.048</td>  \n",
       "</tr>\n",
       "<tr>\n",
       "  <th>Method:</th>             <td>Least Squares</td>  <th>  F-statistic:       </th>  <td>1.250e+05</td> \n",
       "</tr>\n",
       "<tr>\n",
       "  <th>Date:</th>             <td>Mon, 02 Dec 2024</td> <th>  Prob (F-statistic):</th>   <td>  0.00</td>   \n",
       "</tr>\n",
       "<tr>\n",
       "  <th>Time:</th>                 <td>18:23:52</td>     <th>  Log-Likelihood:    </th> <td>-3.3154e+06</td>\n",
       "</tr>\n",
       "<tr>\n",
       "  <th>No. Observations:</th>      <td>2501180</td>     <th>  AIC:               </th>  <td>6.631e+06</td> \n",
       "</tr>\n",
       "<tr>\n",
       "  <th>Df Residuals:</th>          <td>2501178</td>     <th>  BIC:               </th>  <td>6.631e+06</td> \n",
       "</tr>\n",
       "<tr>\n",
       "  <th>Df Model:</th>              <td>     1</td>      <th>                     </th>      <td> </td>     \n",
       "</tr>\n",
       "<tr>\n",
       "  <th>Covariance Type:</th>      <td>nonrobust</td>    <th>                     </th>      <td> </td>     \n",
       "</tr>\n",
       "</table>\n",
       "<table class=\"simpletable\">\n",
       "<tr>\n",
       "         <td></td>           <th>coef</th>     <th>std err</th>      <th>t</th>      <th>P>|t|</th>  <th>[0.025</th>    <th>0.975]</th>  \n",
       "</tr>\n",
       "<tr>\n",
       "  <th>Intercept</th>      <td>   12.5493</td> <td>    0.002</td> <td> 5611.001</td> <td> 0.000</td> <td>   12.545</td> <td>   12.554</td>\n",
       "</tr>\n",
       "<tr>\n",
       "  <th>np.log(radius)</th> <td>    0.5100</td> <td>    0.001</td> <td>  353.600</td> <td> 0.000</td> <td>    0.507</td> <td>    0.513</td>\n",
       "</tr>\n",
       "</table>\n",
       "<table class=\"simpletable\">\n",
       "<tr>\n",
       "  <th>Omnibus:</th>       <td>921017.545</td> <th>  Durbin-Watson:     </th>  <td>   2.001</td>  \n",
       "</tr>\n",
       "<tr>\n",
       "  <th>Prob(Omnibus):</th>   <td> 0.000</td>   <th>  Jarque-Bera (JB):  </th> <td>4759554.540</td>\n",
       "</tr>\n",
       "<tr>\n",
       "  <th>Skew:</th>            <td>-1.713</td>   <th>  Prob(JB):          </th>  <td>    0.00</td>  \n",
       "</tr>\n",
       "<tr>\n",
       "  <th>Kurtosis:</th>        <td> 8.825</td>   <th>  Cond. No.          </th>  <td>    8.41</td>  \n",
       "</tr>\n",
       "</table><br/><br/>Notes:<br/>[1] Standard Errors assume that the covariance matrix of the errors is correctly specified."
      ],
      "text/latex": [
       "\\begin{center}\n",
       "\\begin{tabular}{lclc}\n",
       "\\toprule\n",
       "\\textbf{Dep. Variable:}    & np.log(lifetime) & \\textbf{  R-squared:         } &      0.048   \\\\\n",
       "\\textbf{Model:}            &       OLS        & \\textbf{  Adj. R-squared:    } &      0.048   \\\\\n",
       "\\textbf{Method:}           &  Least Squares   & \\textbf{  F-statistic:       } &  1.250e+05   \\\\\n",
       "\\textbf{Date:}             & Mon, 02 Dec 2024 & \\textbf{  Prob (F-statistic):} &      0.00    \\\\\n",
       "\\textbf{Time:}             &     18:23:52     & \\textbf{  Log-Likelihood:    } & -3.3154e+06  \\\\\n",
       "\\textbf{No. Observations:} &     2501180      & \\textbf{  AIC:               } &  6.631e+06   \\\\\n",
       "\\textbf{Df Residuals:}     &     2501178      & \\textbf{  BIC:               } &  6.631e+06   \\\\\n",
       "\\textbf{Df Model:}         &           1      & \\textbf{                     } &              \\\\\n",
       "\\textbf{Covariance Type:}  &    nonrobust     & \\textbf{                     } &              \\\\\n",
       "\\bottomrule\n",
       "\\end{tabular}\n",
       "\\begin{tabular}{lcccccc}\n",
       "                        & \\textbf{coef} & \\textbf{std err} & \\textbf{t} & \\textbf{P$> |$t$|$} & \\textbf{[0.025} & \\textbf{0.975]}  \\\\\n",
       "\\midrule\n",
       "\\textbf{Intercept}      &      12.5493  &        0.002     &  5611.001  &         0.000        &       12.545    &       12.554     \\\\\n",
       "\\textbf{np.log(radius)} &       0.5100  &        0.001     &   353.600  &         0.000        &        0.507    &        0.513     \\\\\n",
       "\\bottomrule\n",
       "\\end{tabular}\n",
       "\\begin{tabular}{lclc}\n",
       "\\textbf{Omnibus:}       & 921017.545 & \\textbf{  Durbin-Watson:     } &      2.001   \\\\\n",
       "\\textbf{Prob(Omnibus):} &    0.000   & \\textbf{  Jarque-Bera (JB):  } & 4759554.540  \\\\\n",
       "\\textbf{Skew:}          &   -1.713   & \\textbf{  Prob(JB):          } &       0.00   \\\\\n",
       "\\textbf{Kurtosis:}      &    8.825   & \\textbf{  Cond. No.          } &       8.41   \\\\\n",
       "\\bottomrule\n",
       "\\end{tabular}\n",
       "%\\caption{OLS Regression Results}\n",
       "\\end{center}\n",
       "\n",
       "Notes: \\newline\n",
       " [1] Standard Errors assume that the covariance matrix of the errors is correctly specified."
      ],
      "text/plain": [
       "<class 'statsmodels.iolib.summary.Summary'>\n",
       "\"\"\"\n",
       "                            OLS Regression Results                            \n",
       "==============================================================================\n",
       "Dep. Variable:       np.log(lifetime)   R-squared:                       0.048\n",
       "Model:                            OLS   Adj. R-squared:                  0.048\n",
       "Method:                 Least Squares   F-statistic:                 1.250e+05\n",
       "Date:                Mon, 02 Dec 2024   Prob (F-statistic):               0.00\n",
       "Time:                        18:23:52   Log-Likelihood:            -3.3154e+06\n",
       "No. Observations:             2501180   AIC:                         6.631e+06\n",
       "Df Residuals:                 2501178   BIC:                         6.631e+06\n",
       "Df Model:                           1                                         \n",
       "Covariance Type:            nonrobust                                         \n",
       "==================================================================================\n",
       "                     coef    std err          t      P>|t|      [0.025      0.975]\n",
       "----------------------------------------------------------------------------------\n",
       "Intercept         12.5493      0.002   5611.001      0.000      12.545      12.554\n",
       "np.log(radius)     0.5100      0.001    353.600      0.000       0.507       0.513\n",
       "==============================================================================\n",
       "Omnibus:                   921017.545   Durbin-Watson:                   2.001\n",
       "Prob(Omnibus):                  0.000   Jarque-Bera (JB):          4759554.540\n",
       "Skew:                          -1.713   Prob(JB):                         0.00\n",
       "Kurtosis:                       8.825   Cond. No.                         8.41\n",
       "==============================================================================\n",
       "\n",
       "Notes:\n",
       "[1] Standard Errors assume that the covariance matrix of the errors is correctly specified.\n",
       "\"\"\""
      ]
     },
     "execution_count": 91,
     "metadata": {},
     "output_type": "execute_result"
    }
   ],
   "source": [
    "fitted_model.summary()"
   ]
  },
  {
   "cell_type": "code",
   "execution_count": 120,
   "id": "a0f01b91-a23f-4815-b521-cc86e79c7a74",
   "metadata": {},
   "outputs": [
    {
     "name": "stdout",
     "output_type": "stream",
     "text": [
      "Optimization terminated successfully.\n",
      "         Current function value: 14.505916\n",
      "         Iterations: 11\n",
      "         Function evaluations: 13\n",
      "         Gradient evaluations: 13\n"
     ]
    },
    {
     "data": {
      "text/html": [
       "<table class=\"simpletable\">\n",
       "<caption>NegativeBinomial Regression Results</caption>\n",
       "<tr>\n",
       "  <th>Dep. Variable:</th>       <td>lifetime</td>     <th>  No. Observations:  </th>   <td>2501180</td>  \n",
       "</tr>\n",
       "<tr>\n",
       "  <th>Model:</th>           <td>NegativeBinomial</td> <th>  Df Residuals:      </th>   <td>2501178</td>  \n",
       "</tr>\n",
       "<tr>\n",
       "  <th>Method:</th>                 <td>MLE</td>       <th>  Df Model:          </th>   <td>     1</td>   \n",
       "</tr>\n",
       "<tr>\n",
       "  <th>Date:</th>            <td>Mon, 02 Dec 2024</td> <th>  Pseudo R-squ.:     </th>  <td>0.002950</td>  \n",
       "</tr>\n",
       "<tr>\n",
       "  <th>Time:</th>                <td>18:47:30</td>     <th>  Log-Likelihood:    </th> <td>-3.6282e+07</td>\n",
       "</tr>\n",
       "<tr>\n",
       "  <th>converged:</th>             <td>True</td>       <th>  LL-Null:           </th> <td>-3.6389e+07</td>\n",
       "</tr>\n",
       "<tr>\n",
       "  <th>Covariance Type:</th>     <td>nonrobust</td>    <th>  LLR p-value:       </th>   <td> 0.000</td>   \n",
       "</tr>\n",
       "</table>\n",
       "<table class=\"simpletable\">\n",
       "<tr>\n",
       "         <td></td>           <th>coef</th>     <th>std err</th>      <th>z</th>      <th>P>|z|</th>  <th>[0.025</th>    <th>0.975]</th>  \n",
       "</tr>\n",
       "<tr>\n",
       "  <th>Intercept</th>      <td>   12.8438</td> <td>    0.002</td> <td> 7161.984</td> <td> 0.000</td> <td>   12.840</td> <td>   12.847</td>\n",
       "</tr>\n",
       "<tr>\n",
       "  <th>np.log(radius)</th> <td>    0.5070</td> <td>    0.001</td> <td>  438.413</td> <td> 0.000</td> <td>    0.505</td> <td>    0.509</td>\n",
       "</tr>\n",
       "<tr>\n",
       "  <th>alpha</th>          <td>    0.5337</td> <td>    0.000</td> <td> 1209.251</td> <td> 0.000</td> <td>    0.533</td> <td>    0.535</td>\n",
       "</tr>\n",
       "</table>"
      ],
      "text/latex": [
       "\\begin{center}\n",
       "\\begin{tabular}{lclc}\n",
       "\\toprule\n",
       "\\textbf{Dep. Variable:}   &     lifetime     & \\textbf{  No. Observations:  } &   2501180    \\\\\n",
       "\\textbf{Model:}           & NegativeBinomial & \\textbf{  Df Residuals:      } &   2501178    \\\\\n",
       "\\textbf{Method:}          &       MLE        & \\textbf{  Df Model:          } &         1    \\\\\n",
       "\\textbf{Date:}            & Mon, 02 Dec 2024 & \\textbf{  Pseudo R-squ.:     } &   0.002950   \\\\\n",
       "\\textbf{Time:}            &     18:47:30     & \\textbf{  Log-Likelihood:    } & -3.6282e+07  \\\\\n",
       "\\textbf{converged:}       &       True       & \\textbf{  LL-Null:           } & -3.6389e+07  \\\\\n",
       "\\textbf{Covariance Type:} &    nonrobust     & \\textbf{  LLR p-value:       } &     0.000    \\\\\n",
       "\\bottomrule\n",
       "\\end{tabular}\n",
       "\\begin{tabular}{lcccccc}\n",
       "                        & \\textbf{coef} & \\textbf{std err} & \\textbf{z} & \\textbf{P$> |$z$|$} & \\textbf{[0.025} & \\textbf{0.975]}  \\\\\n",
       "\\midrule\n",
       "\\textbf{Intercept}      &      12.8438  &        0.002     &  7161.984  &         0.000        &       12.840    &       12.847     \\\\\n",
       "\\textbf{np.log(radius)} &       0.5070  &        0.001     &   438.413  &         0.000        &        0.505    &        0.509     \\\\\n",
       "\\textbf{alpha}          &       0.5337  &        0.000     &  1209.251  &         0.000        &        0.533    &        0.535     \\\\\n",
       "\\bottomrule\n",
       "\\end{tabular}\n",
       "%\\caption{NegativeBinomial Regression Results}\n",
       "\\end{center}"
      ],
      "text/plain": [
       "<class 'statsmodels.iolib.summary.Summary'>\n",
       "\"\"\"\n",
       "                     NegativeBinomial Regression Results                      \n",
       "==============================================================================\n",
       "Dep. Variable:               lifetime   No. Observations:              2501180\n",
       "Model:               NegativeBinomial   Df Residuals:                  2501178\n",
       "Method:                           MLE   Df Model:                            1\n",
       "Date:                Mon, 02 Dec 2024   Pseudo R-squ.:                0.002950\n",
       "Time:                        18:47:30   Log-Likelihood:            -3.6282e+07\n",
       "converged:                       True   LL-Null:                   -3.6389e+07\n",
       "Covariance Type:            nonrobust   LLR p-value:                     0.000\n",
       "==================================================================================\n",
       "                     coef    std err          z      P>|z|      [0.025      0.975]\n",
       "----------------------------------------------------------------------------------\n",
       "Intercept         12.8438      0.002   7161.984      0.000      12.840      12.847\n",
       "np.log(radius)     0.5070      0.001    438.413      0.000       0.505       0.509\n",
       "alpha              0.5337      0.000   1209.251      0.000       0.533       0.535\n",
       "==================================================================================\n",
       "\"\"\""
      ]
     },
     "execution_count": 120,
     "metadata": {},
     "output_type": "execute_result"
    }
   ],
   "source": [
    "from statsmodels.discrete.discrete_model import Poisson, NegativeBinomial\n",
    "\n",
    "# fitted_model = Poisson(lifetimes.lifetime, sm.add_constant(np.log(lifetimes.radius))).fit(maxiter=1000)\n",
    "# fitted_model = NegativeBinomial(lifetimes.lifetime, sm.add_constant(np.log(lifetimes.radius))).fit(maxiter=1000)\n",
    "fitted_model = smf.negativebinomial(\"lifetime ~ 1 + np.log(radius)\", data=lifetimes).fit()\n",
    "\n",
    "fitted_model.summary()"
   ]
  },
  {
   "cell_type": "code",
   "execution_count": 122,
   "id": "cf006d64-ef39-470e-8b92-93eba97a3a82",
   "metadata": {},
   "outputs": [
    {
     "data": {
      "text/plain": [
       "0          6.605205e+05\n",
       "1          6.605205e+05\n",
       "2          6.605207e+05\n",
       "3          6.605208e+05\n",
       "4          6.605209e+05\n",
       "               ...     \n",
       "2501175    8.079106e+06\n",
       "2501176    8.102479e+06\n",
       "2501177    8.156972e+06\n",
       "2501178    8.258521e+06\n",
       "2501179    8.720141e+06\n",
       "Length: 2501180, dtype: float64"
      ]
     },
     "execution_count": 122,
     "metadata": {},
     "output_type": "execute_result"
    }
   ],
   "source": [
    "fitted_values"
   ]
  },
  {
   "cell_type": "code",
   "execution_count": 134,
   "id": "91fe9d35-aeab-4564-9d89-0979c1d11a88",
   "metadata": {},
   "outputs": [
    {
     "data": {
      "text/plain": [
       "np.float64(1.0866958858252513)"
      ]
     },
     "execution_count": 134,
     "metadata": {},
     "output_type": "execute_result"
    }
   ],
   "source": [
    "sm.genmod.families.family.NegativeBinomial(alpha=0.5337).deviance(\n",
    "    endog=lifetimes.lifetime,\n",
    "    mu=fitted_model.predict(lifetimes),  \n",
    ") / fitted_model.df_resid"
   ]
  },
  {
   "cell_type": "code",
   "execution_count": null,
   "id": "b3765a51-3736-4de5-b2b4-f242ea07821a",
   "metadata": {},
   "outputs": [],
   "source": []
  },
  {
   "cell_type": "code",
   "execution_count": 125,
   "id": "44a3d89c-8238-444c-9e72-377345e47c3e",
   "metadata": {},
   "outputs": [
    {
     "data": {
      "text/plain": [
       "np.float64(0.8141866241117914)"
      ]
     },
     "execution_count": 125,
     "metadata": {},
     "output_type": "execute_result"
    }
   ],
   "source": [
    "np.sum(fitted_model.resid_pearson**2) / fitted_model.df_resid"
   ]
  },
  {
   "cell_type": "code",
   "execution_count": 93,
   "id": "2cb611cc-35b1-4d5c-a41c-cebf6f78e89e",
   "metadata": {},
   "outputs": [],
   "source": [
    "data = lifetimes"
   ]
  },
  {
   "cell_type": "code",
   "execution_count": 117,
   "id": "c8e8bb08-0b1e-435e-89dc-93882338f9a1",
   "metadata": {},
   "outputs": [
    {
     "data": {
      "text/plain": [
       "0          6.605205e+05\n",
       "1          6.605205e+05\n",
       "2          6.605207e+05\n",
       "3          6.605208e+05\n",
       "4          6.605209e+05\n",
       "               ...     \n",
       "2501175    8.079106e+06\n",
       "2501176    8.102479e+06\n",
       "2501177    8.156972e+06\n",
       "2501178    8.258521e+06\n",
       "2501179    8.720141e+06\n",
       "Length: 2501180, dtype: float64"
      ]
     },
     "execution_count": 117,
     "metadata": {},
     "output_type": "execute_result"
    }
   ],
   "source": [
    "fitted_model.predict(data)"
   ]
  },
  {
   "cell_type": "code",
   "execution_count": 118,
   "id": "01250b30-aed1-4271-92e2-89728f3a10ab",
   "metadata": {},
   "outputs": [
    {
     "data": {
      "image/png": "[encoded data removed]",
      "text/plain": [
       "<Figure size 800x600 with 1 Axes>"
      ]
     },
     "metadata": {},
     "output_type": "display_data"
    },
    {
     "ename": "AttributeError",
     "evalue": "'NegativeBinomialResults' object has no attribute 'mse_resid'",
     "output_type": "error",
     "traceback": [
      "\u001b[0;31m---------------------------------------------------------------------------\u001b[0m",
      "\u001b[0;31mAttributeError\u001b[0m                            Traceback (most recent call last)",
      "Cell \u001b[0;32mIn[118], line 23\u001b[0m\n\u001b[1;32m     20\u001b[0m \u001b[38;5;66;03m# 2. Leverage and Influence\u001b[39;00m\n\u001b[1;32m     21\u001b[0m \u001b[38;5;28;01mfrom\u001b[39;00m \u001b[38;5;21;01mstatsmodels\u001b[39;00m\u001b[38;5;21;01m.\u001b[39;00m\u001b[38;5;21;01mstats\u001b[39;00m\u001b[38;5;21;01m.\u001b[39;00m\u001b[38;5;21;01moutliers_influence\u001b[39;00m \u001b[38;5;28;01mimport\u001b[39;00m OLSInfluence\n\u001b[0;32m---> 23\u001b[0m influence \u001b[38;5;241m=\u001b[39m \u001b[43mOLSInfluence\u001b[49m\u001b[43m(\u001b[49m\u001b[43mfitted_model\u001b[49m\u001b[43m)\u001b[49m\n\u001b[1;32m     24\u001b[0m data[\u001b[38;5;124m'\u001b[39m\u001b[38;5;124mhat_values\u001b[39m\u001b[38;5;124m'\u001b[39m] \u001b[38;5;241m=\u001b[39m influence\u001b[38;5;241m.\u001b[39mhat_matrix_diag\n\u001b[1;32m     25\u001b[0m data[\u001b[38;5;124m'\u001b[39m\u001b[38;5;124mcooks_distance\u001b[39m\u001b[38;5;124m'\u001b[39m] \u001b[38;5;241m=\u001b[39m influence\u001b[38;5;241m.\u001b[39mcooks_distance[\u001b[38;5;241m0\u001b[39m]\n",
      "File \u001b[0;32m~/code/saturation/venv/lib/python3.12/site-packages/statsmodels/stats/outliers_influence.py:737\u001b[0m, in \u001b[0;36mOLSInfluence.__init__\u001b[0;34m(self, results)\u001b[0m\n\u001b[1;32m    734\u001b[0m \u001b[38;5;28mself\u001b[39m\u001b[38;5;241m.\u001b[39mmodel_class \u001b[38;5;241m=\u001b[39m results\u001b[38;5;241m.\u001b[39mmodel\u001b[38;5;241m.\u001b[39m\u001b[38;5;18m__class__\u001b[39m\n\u001b[1;32m    736\u001b[0m \u001b[38;5;66;03m# self.sigma_est = np.sqrt(results.mse_resid)\u001b[39;00m\n\u001b[0;32m--> 737\u001b[0m \u001b[38;5;28mself\u001b[39m\u001b[38;5;241m.\u001b[39mscale \u001b[38;5;241m=\u001b[39m \u001b[43mresults\u001b[49m\u001b[38;5;241;43m.\u001b[39;49m\u001b[43mmse_resid\u001b[49m\n\u001b[1;32m    739\u001b[0m \u001b[38;5;28mself\u001b[39m\u001b[38;5;241m.\u001b[39maux_regression_exog \u001b[38;5;241m=\u001b[39m {}\n\u001b[1;32m    740\u001b[0m \u001b[38;5;28mself\u001b[39m\u001b[38;5;241m.\u001b[39maux_regression_endog \u001b[38;5;241m=\u001b[39m {}\n",
      "File \u001b[0;32m~/code/saturation/venv/lib/python3.12/site-packages/statsmodels/base/wrapper.py:34\u001b[0m, in \u001b[0;36mResultsWrapper.__getattribute__\u001b[0;34m(self, attr)\u001b[0m\n\u001b[1;32m     31\u001b[0m \u001b[38;5;28;01mexcept\u001b[39;00m \u001b[38;5;167;01mAttributeError\u001b[39;00m:\n\u001b[1;32m     32\u001b[0m     \u001b[38;5;28;01mpass\u001b[39;00m\n\u001b[0;32m---> 34\u001b[0m obj \u001b[38;5;241m=\u001b[39m \u001b[38;5;28;43mgetattr\u001b[39;49m\u001b[43m(\u001b[49m\u001b[43mresults\u001b[49m\u001b[43m,\u001b[49m\u001b[43m \u001b[49m\u001b[43mattr\u001b[49m\u001b[43m)\u001b[49m\n\u001b[1;32m     35\u001b[0m data \u001b[38;5;241m=\u001b[39m results\u001b[38;5;241m.\u001b[39mmodel\u001b[38;5;241m.\u001b[39mdata\n\u001b[1;32m     36\u001b[0m how \u001b[38;5;241m=\u001b[39m \u001b[38;5;28mself\u001b[39m\u001b[38;5;241m.\u001b[39m_wrap_attrs\u001b[38;5;241m.\u001b[39mget(attr)\n",
      "\u001b[0;31mAttributeError\u001b[0m: 'NegativeBinomialResults' object has no attribute 'mse_resid'"
     ]
    }
   ],
   "source": [
    "# 1. Residual Analysis\n",
    "# Raw residuals\n",
    "data['raw_residuals'] = data['lifetime'] - fitted_model.predict(data)\n",
    "\n",
    "# Pearson residuals\n",
    "data['pearson_residuals'] = data['raw_residuals'] / np.sqrt(fitted_model.predict(data))\n",
    "\n",
    "# Deviance residuals\n",
    "# data['deviance_residuals'] = fitted_model.resid_deviance\n",
    "\n",
    "# Plot residuals against fitted values\n",
    "plt.figure(figsize=(8, 6))\n",
    "plt.scatter(fitted_model.predict(data), data['pearson_residuals'], alpha=0.7)\n",
    "plt.axhline(0, color='red', linestyle='--', linewidth=1)\n",
    "plt.xlabel('Fitted Values')\n",
    "plt.ylabel('Pearson Residuals')\n",
    "plt.title('Residuals vs Fitted Values')\n",
    "plt.show()\n",
    "\n",
    "# 2. Leverage and Influence\n",
    "from statsmodels.stats.outliers_influence import OLSInfluence\n",
    "\n",
    "influence = OLSInfluence(fitted_model)\n",
    "data['hat_values'] = influence.hat_matrix_diag\n",
    "data['cooks_distance'] = influence.cooks_distance[0]\n",
    "\n",
    "# Plot Cook's distance\n",
    "plt.figure(figsize=(8, 6))\n",
    "plt.stem(data.index, data['cooks_distance'], markerfmt=\",\", use_line_collection=True)\n",
    "plt.xlabel('Observation Index')\n",
    "plt.ylabel('Cook\\'s Distance')\n",
    "plt.title('Cook\\'s Distance for Each Observation')\n",
    "plt.show()\n",
    "\n",
    "# 3. Goodness-of-Fit\n",
    "# Deviance and Pearson Chi-Square statistics\n",
    "deviance = model.deviance\n",
    "pearson_chi2 = np.sum(data['pearson_residuals']**2)\n",
    "df_residual = model.df_resid\n",
    "\n",
    "print(f\"Deviance: {deviance}\")\n",
    "print(f\"Pearson Chi-Square: {pearson_chi2}\")\n",
    "print(f\"Degrees of Freedom: {df_residual}\")\n",
    "print(f\"Deviance/DF: {deviance / df_residual:.2f}\")\n",
    "print(f\"Pearson Chi-Square/DF: {pearson_chi2 / df_residual:.2f}\")\n",
    "\n",
    "# 4. Predicted vs Observed Counts\n",
    "plt.figure(figsize=(8, 6))\n",
    "plt.scatter(data['y'], model.fittedvalues, alpha=0.7)\n",
    "plt.plot([min(data['y']), max(data['y'])], [min(data['y']), max(data['y'])], color='red', linestyle='--', linewidth=1)\n",
    "plt.xlabel('Observed Counts')\n",
    "plt.ylabel('Predicted Counts')\n",
    "plt.title('Observed vs Predicted Counts')\n",
    "plt.show()\n",
    "\n",
    "# 5. Multicollinearity Diagnostics\n",
    "from statsmodels.stats.outliers_influence import variance_inflation_factor\n",
    "\n",
    "# Add constant for VIF calculation\n",
    "X = sm.add_constant(data[['x1', 'x2']])\n",
    "vif = pd.DataFrame({\n",
    "    'Variable': ['const', 'x1', 'x2'],\n",
    "    'VIF': [variance_inflation_factor(X.values, i) for i in range(X.shape[1])]\n",
    "})\n",
    "print(vif)"
   ]
  },
  {
   "cell_type": "code",
   "execution_count": null,
   "id": "d31c5a89-9050-4448-b8ff-7e935788e312",
   "metadata": {},
   "outputs": [],
   "source": []
  },
  {
   "cell_type": "code",
   "execution_count": null,
   "id": "ac21513d-5f68-41c1-bf51-94f43adf9f7e",
   "metadata": {},
   "outputs": [],
   "source": []
  },
  {
   "cell_type": "code",
   "execution_count": null,
   "id": "9bb2ebe8-ec75-4f21-b271-17607830c65e",
   "metadata": {},
   "outputs": [],
   "source": []
  },
  {
   "cell_type": "code",
   "execution_count": null,
   "id": "44f3e0b5-555d-419d-9384-2fc429f300ab",
   "metadata": {},
   "outputs": [],
   "source": [
    "states = get_states_at_ntots(\n",
    "    simulation_id=selected_simulation_id,\n",
    "    configs_dict=configs_dict,\n",
    "    base_path=base_path,\n",
    "    spark=spark,\n",
    "    max_ntot=2.5*10**6\n",
    ")\n",
    "slope_estimates = estimate_slopes_for_states(states, configs_dict[selected_simulation_id][\"r_stat\"])\n",
    "\n",
    "fig = plot_slope_estimates(slope_estimates)\n",
    "plt.show()\n",
    "fig.savefig(f\"figures/{scenario_name}_slope_estimates.png\", bbox_inches=\"tight\")"
   ]
  },
  {
   "cell_type": "code",
   "execution_count": null,
   "id": "eb806eb4-3359-440f-a8a4-16fb277c0d27",
   "metadata": {},
   "outputs": [],
   "source": [
    "states = get_states_at_ntots(\n",
    "    simulation_id=selected_simulation_id,\n",
    "    configs_dict=configs_dict,\n",
    "    base_path=base_path,\n",
    "    target_ntots=[250, 5000, int(2.5*10**6)],\n",
    "    spark=spark\n",
    ")\n",
    "\n",
    "equilibrium_slope = -2.0\n",
    "equilibrium_intercept = max(state.shape[0] / state.radius.min()**equilibrium_slope for state in states.values())\n",
    "\n",
    "production_slope = -2.5\n",
    "production_intercept = min(state.shape[0] / state.radius.min()**production_slope for state in states.values())\n",
    "slope_intercept_line_styles = [\n",
    "    (production_slope, production_intercept, \"--\", f\"$b = {production_slope:.1f}$\"),\n",
    "    (equilibrium_slope, equilibrium_intercept, \"dotted\", f\"$b = {equilibrium_slope:.1f}$\"),\n",
    "]\n",
    "fig = plot_csfds_for_multiple_ntot(states=states, slope_intercept_line_styles=slope_intercept_line_styles)\n",
    "plt.show()\n",
    "fig.savefig(f\"figures/{scenario_name}_csfds.png\", bbox_inches=\"tight\")"
   ]
  },
  {
   "cell_type": "code",
   "execution_count": null,
   "id": "7ca8c565-3e84-436f-8163-54cf70737ee9",
   "metadata": {},
   "outputs": [],
   "source": []
  },
  {
   "cell_type": "markdown",
   "id": "15a5c6da-3ef9-45e8-96c2-32b87cb3864d",
   "metadata": {},
   "source": [
    "## Low destruction, slope = -2.5\n",
    "\n",
    "Ntot/nobs plot and Z/Za plots restricted in range to show Z/Za reaching significance before \"saturation\""
   ]
  },
  {
   "cell_type": "code",
   "execution_count": null,
   "id": "3ec34ea7-0b2c-45ad-ac83-861e00d62b31",
   "metadata": {},
   "outputs": [],
   "source": [
    "scenario_name = \"low_destruction\"\n",
    "selected_slope = -2.5\n",
    "selected_mrp = 0.25\n",
    "selected_rmult = 1.1\n",
    "\n",
    "filtered = configs_pdf[(configs_pdf.slope == selected_slope) & (configs_pdf.mrp == selected_mrp) & (configs_pdf.rmult == selected_rmult)]\n",
    "selected_simulation_id = int(filtered.simulation_id.iloc[0])\n",
    "filtered"
   ]
  },
  {
   "cell_type": "code",
   "execution_count": null,
   "id": "3b1fb735-7b24-4f15-a78b-11dcc1eb26eb",
   "metadata": {},
   "outputs": [],
   "source": [
    "n_samples = 250\n",
    "df = data.where(F.col(\"simulation_id\") == selected_simulation_id)\n",
    "df = df.where(F.col(\"ntot\") % (df.count() // n_samples) == 5).orderBy(\"ntot\").toPandas()\n",
    "\n",
    "fig = plt.figure(figsize=(6, 4), dpi=400)\n",
    "ax1 = fig.add_subplot(111)\n",
    "\n",
    "nobs_line = df[-(df.shape[0] // 5):].nobs.median()\n",
    "print(f\"nobs line: {nobs_line}\")\n",
    "\n",
    "plt1 = ax1.plot(\n",
    "    df.ntot,\n",
    "    df.nobs,\n",
    "    label=\"$N_{obs}$\",\n",
    "    lw=1,\n",
    "    c=\"blue\"\n",
    ")\n",
    "\n",
    "ax1.axhline(nobs_line, color=\"r\", linestyle=\"--\")\n",
    "ax1.set_ylabel(\"$N_{obs}$\", fontsize=font_size)\n",
    "ax1.set_xlabel(\"$N_{tot}$\", fontsize=font_size)\n",
    "\n",
    "plt.show()\n",
    "fig.savefig(f\"figures/{scenario_name}_ntot_nobs.png\", bbox_inches=\"tight\")"
   ]
  },
  {
   "cell_type": "code",
   "execution_count": null,
   "id": "c6edd62c-854e-4d7d-993c-c9770f6d72ee",
   "metadata": {},
   "outputs": [],
   "source": [
    "lifetimes = get_lifetimes_for_simulation(\n",
    "    simulation_id=selected_simulation_id,\n",
    "    craters=craters,\n",
    "    removals=removals,\n",
    "    configs_df=configs_df,\n",
    "    spark=spark\n",
    ")\n",
    "\n",
    "plt.figure(figsize=(6, 4))\n",
    "\n",
    "# Sampled scatterplot\n",
    "sampled = lifetimes.sample(frac=0.005)\n",
    "plt.scatter(\n",
    "    sampled.radius,\n",
    "    sampled.lifetime,\n",
    "    c=\"blue\",\n",
    "    s=.5,\n",
    ")\n",
    "\n",
    "# Fit the line in log space\n",
    "fitted_model = smf.ols(data=lifetimes, formula=\"np.log(lifetime) ~ 1 + np.log(radius)\").fit()\n",
    "fitted_intercept = np.exp(fitted_model.params.iloc[0])\n",
    "fitted_slope = fitted_model.params.iloc[1]\n",
    "\n",
    "plt.plot(\n",
    "    [sampled.radius.min(), sampled.radius.max()],\n",
    "    np.exp(fitted_model.predict(pd.Series([sampled.radius.min(), sampled.radius.max()], name=\"radius\"))),\n",
    "    ls=\"dashed\",\n",
    "    c=\"black\",\n",
    "    label=f\"$\\\\kappa = {get_scientific_notation(fitted_intercept, 3)} \\\\cdot r^{{ {fitted_slope:.3f} }}$\"\n",
    ")\n",
    "\n",
    "plt.xscale(\"log\")\n",
    "plt.yscale(\"log\")\n",
    "plt.xlabel(\"r\", fontsize=font_size)\n",
    "plt.ylabel(\"$\\\\kappa$\", fontsize=font_size)\n",
    "plt.legend()\n",
    "\n",
    "plt.savefig(f\"figures/{scenario_name}_lifetimes_scatter.png\", bbox_inches=\"tight\")\n",
    "plt.show()"
   ]
  },
  {
   "cell_type": "code",
   "execution_count": null,
   "id": "29f551a6-c38d-49b6-84ef-d761904c6b33",
   "metadata": {},
   "outputs": [],
   "source": [
    "fitted_model.summary()"
   ]
  },
  {
   "cell_type": "code",
   "execution_count": null,
   "id": "f064810a-76ba-455a-ac5d-6c7594b42421",
   "metadata": {},
   "outputs": [],
   "source": [
    "states = get_states_at_ntots(\n",
    "    simulation_id=selected_simulation_id,\n",
    "    configs_dict=configs_dict,\n",
    "    base_path=base_path,\n",
    "    spark=spark,\n",
    "    max_ntot=2.5*10**6\n",
    ")\n",
    "slope_estimates = estimate_slopes_for_states(states, configs_dict[selected_simulation_id][\"r_stat\"])\n",
    "\n",
    "fig = plot_slope_estimates(slope_estimates)\n",
    "plt.show()\n",
    "fig.savefig(f\"figures/{scenario_name}_slope_estimates.png\", bbox_inches=\"tight\")"
   ]
  },
  {
   "cell_type": "code",
   "execution_count": null,
   "id": "5590ab82-ff13-410d-bd52-bcb4b7e0d327",
   "metadata": {},
   "outputs": [],
   "source": [
    "states = get_states_at_ntots(\n",
    "    simulation_id=selected_simulation_id,\n",
    "    configs_dict=configs_dict,\n",
    "    base_path=base_path,\n",
    "    target_ntots=[500, 2500, 2500000],\n",
    "    spark=spark\n",
    ")\n",
    "\n",
    "equilibrium_slope = -2.0\n",
    "equilibrium_intercept = max(state.shape[0] / state.radius.min()**equilibrium_slope for state in states.values())\n",
    "\n",
    "production_slope = -2.5\n",
    "production_intercept = min(state.shape[0] / state.radius.min()**production_slope for state in states.values())\n",
    "slope_intercept_line_styles = [\n",
    "    (production_slope, production_intercept, \"dashed\", f\"$b = {production_slope:.1f}$\"),\n",
    "    (equilibrium_slope, equilibrium_intercept, \"dotted\", f\"$b = {equilibrium_slope:.1f}$\"),\n",
    "]\n",
    "fig = plot_csfds_for_multiple_ntot(states=states, slope_intercept_line_styles=slope_intercept_line_styles)\n",
    "plt.show()\n",
    "fig.savefig(f\"figures/{scenario_name}_csfds.png\", bbox_inches=\"tight\")"
   ]
  },
  {
   "cell_type": "code",
   "execution_count": null,
   "id": "f99805d2-3aaa-48ec-b9b3-03a1ada36535",
   "metadata": {},
   "outputs": [],
   "source": []
  },
  {
   "cell_type": "markdown",
   "id": "77080ebb-4851-40f6-8bf8-2d8077df8931",
   "metadata": {},
   "source": [
    "## No erasure threshold, shallow slope"
   ]
  },
  {
   "cell_type": "code",
   "execution_count": null,
   "id": "2155749e-a62b-4aa3-8898-16c8c9c1aa6c",
   "metadata": {},
   "outputs": [],
   "source": [
    "scenario_name = \"no_erasure_threshold_shallow_slope\"\n",
    "selected_slope = -1.0\n",
    "selected_simulation_id = 139\n",
    "\n",
    "# filtered = configs_pdf[configs_pdf.simulation_id == selected_simulation_id]\n",
    "filtered = configs_pdf[configs_pdf.slope == selected_slope]\n",
    "filtered"
   ]
  },
  {
   "cell_type": "code",
   "execution_count": null,
   "id": "4fc097d2-8294-4f71-99be-9234be7d33ee",
   "metadata": {},
   "outputs": [],
   "source": [
    "n_samples = 250\n",
    "df = data.where(F.col(\"simulation_id\") == selected_simulation_id)\n",
    "df = df.where(F.col(\"ntot\") % (df.count() // n_samples) == 5).orderBy(\"ntot\").toPandas()\n",
    "\n",
    "fig = plt.figure(figsize=(6, 4), dpi=400)\n",
    "ax1 = fig.add_subplot(111)\n",
    "\n",
    "nobs_line = df[-(df.shape[0] // 5):].nobs.median()\n",
    "print(f\"nobs line: {nobs_line}\")\n",
    "\n",
    "plt1 = ax1.plot(\n",
    "    df.ntot,\n",
    "    df.nobs,\n",
    "    label=\"$N_{obs}$\",\n",
    "    lw=1,\n",
    "    c=\"blue\"\n",
    ")\n",
    "\n",
    "ax1.axhline(nobs_line, color=\"r\", linestyle=\"--\")\n",
    "ax1.set_ylabel(\"$N_{obs}$\", fontsize=font_size)\n",
    "ax1.set_xlabel(\"$N_{tot}$\", fontsize=font_size)\n",
    "\n",
    "plt.show()\n",
    "fig.savefig(f\"figures/{scenario_name}_ntot_nobs.png\", bbox_inches=\"tight\")"
   ]
  },
  {
   "cell_type": "code",
   "execution_count": null,
   "id": "5a6403f1-c991-479b-9a1e-9cfdfc932221",
   "metadata": {},
   "outputs": [],
   "source": [
    "lifetimes = get_lifetimes_for_simulation(\n",
    "    simulation_id=selected_simulation_id,\n",
    "    craters=craters,\n",
    "    removals=removals,\n",
    "    configs_df=configs_df,\n",
    "    spark=spark\n",
    ")\n",
    "\n",
    "plt.figure(figsize=(6, 4), dpi=400)\n",
    "\n",
    "# Sampled scatterplot\n",
    "sampled = lifetimes.sample(frac=0.005)\n",
    "plt.scatter(\n",
    "    sampled.radius,\n",
    "    sampled.lifetime,\n",
    "    c=\"blue\",\n",
    "    s=.5,\n",
    ")\n",
    "\n",
    "# Fit the line in log space\n",
    "fitted_model = smf.ols(data=lifetimes, formula=\"np.log(lifetime) ~ 1 + np.log(radius)\").fit()\n",
    "fitted_intercept = np.exp(fitted_model.params.iloc[0])\n",
    "fitted_slope = fitted_model.params.iloc[1]\n",
    "\n",
    "plt.plot(\n",
    "    [sampled.radius.min(), sampled.radius.max()],\n",
    "    np.exp(fitted_model.predict(pd.Series([sampled.radius.min(), sampled.radius.max()], name=\"radius\"))),\n",
    "    ls=\"dashed\",\n",
    "    c=\"black\",\n",
    "    label=f\"$\\\\kappa = {get_scientific_notation(fitted_intercept, 3)} \\\\cdot r^{{ {fitted_slope:.3f} }}$\"\n",
    ")\n",
    "\n",
    "plt.xscale(\"log\")\n",
    "plt.yscale(\"log\")\n",
    "plt.xlabel(\"r\", fontsize=font_size)\n",
    "plt.ylabel(\"$\\\\kappa$\", fontsize=font_size)\n",
    "plt.legend()\n",
    "\n",
    "plt.savefig(f\"figures/{scenario_name}_lifetimes_scatter.png\", bbox_inches=\"tight\")\n",
    "plt.show()"
   ]
  },
  {
   "cell_type": "code",
   "execution_count": null,
   "id": "8bb681c5-3838-4bd6-8f10-be02429a435e",
   "metadata": {},
   "outputs": [],
   "source": [
    "fitted_model.summary()"
   ]
  },
  {
   "cell_type": "code",
   "execution_count": null,
   "id": "5362f834-f90e-4830-9b29-0e138ba58f71",
   "metadata": {},
   "outputs": [],
   "source": [
    "states = get_states_at_ntots(\n",
    "    simulation_id=selected_simulation_id,\n",
    "    configs_dict=configs_dict,\n",
    "    base_path=base_path,\n",
    "    spark=spark,\n",
    "    max_ntot=10**7\n",
    ")\n",
    "slope_estimates = estimate_slopes_for_states(states, configs_dict[selected_simulation_id][\"r_stat\"])\n",
    "\n",
    "fig = plot_slope_estimates(slope_estimates)\n",
    "plt.show()\n",
    "fig.savefig(f\"figures/{scenario_name}_slope_estimates.png\", bbox_inches=\"tight\")"
   ]
  },
  {
   "cell_type": "code",
   "execution_count": null,
   "id": "bcd0efc0-4d1f-49fe-9b9f-fc3973a1d81a",
   "metadata": {},
   "outputs": [],
   "source": [
    "states = get_states_at_ntots(\n",
    "    simulation_id=selected_simulation_id,\n",
    "    configs_dict=configs_dict,\n",
    "    base_path=base_path,\n",
    "    target_ntots=[1000, 1e6, int(10**7)],\n",
    "    spark=spark\n",
    ")\n",
    "\n",
    "intercept = max(state.shape[0] / state.radius.min()**selected_slope for state in states.values())\n",
    "slope_intercept_line_styles = [\n",
    "    (selected_slope, intercept, \"--\", f\"$b = {selected_slope:.1f}$\")\n",
    "]\n",
    "\n",
    "fig = plot_csfds_for_multiple_ntot(states=states, slope_intercept_line_styles=slope_intercept_line_styles)\n",
    "plt.show()\n",
    "fig.savefig(f\"figures/{scenario_name}_csfds.png\", bbox_inches=\"tight\")"
   ]
  },
  {
   "cell_type": "code",
   "execution_count": null,
   "id": "86b04a11-e87e-4329-9903-77c332f34f1e",
   "metadata": {},
   "outputs": [],
   "source": []
  },
  {
   "cell_type": "markdown",
   "id": "6ff007e3-79d3-4002-897c-adceab3f7bbd",
   "metadata": {},
   "source": [
    "## No erasure threshold, steep slope"
   ]
  },
  {
   "cell_type": "code",
   "execution_count": null,
   "id": "29c02c4c-7cfe-4770-bba5-2ae899707caa",
   "metadata": {},
   "outputs": [],
   "source": [
    "scenario_name = \"no_erasure_threshold_steep_slope\"\n",
    "selected_slope = -4.0\n",
    "# selected_slope = -3.5\n",
    "selected_simulation_id = 142\n",
    "\n",
    "# filtered = configs_pdf[configs_pdf.simulation_id == selected_simulation_id]\n",
    "filtered = configs_pdf[configs_pdf.slope == selected_slope]\n",
    "filtered"
   ]
  },
  {
   "cell_type": "code",
   "execution_count": null,
   "id": "30cd128b-c4c0-4fb2-8076-fb4042578ae4",
   "metadata": {},
   "outputs": [],
   "source": [
    "n_samples = 250\n",
    "df = data.where(F.col(\"simulation_id\") == selected_simulation_id)\n",
    "df = df.where(F.col(\"ntot\") % (df.count() // n_samples) == 5).orderBy(\"ntot\").toPandas()\n",
    "\n",
    "fig = plt.figure(figsize=(6, 4), dpi=400)\n",
    "ax1 = fig.add_subplot(111)\n",
    "\n",
    "nobs_line = df[-(df.shape[0] // 5):].nobs.median()\n",
    "print(f\"nobs line: {nobs_line}\")\n",
    "\n",
    "plt1 = ax1.plot(\n",
    "    df.ntot,\n",
    "    df.nobs,\n",
    "    label=\"$N_{obs}$\",\n",
    "    lw=1,\n",
    "    c=\"blue\"\n",
    ")\n",
    "\n",
    "ax1.axhline(nobs_line, color=\"r\", linestyle=\"--\")\n",
    "ax1.set_ylabel(\"$N_{obs}$\", fontsize=font_size)\n",
    "ax1.set_xlabel(\"$N_{tot}$\", fontsize=font_size)\n",
    "\n",
    "plt.show()\n",
    "fig.savefig(f\"figures/{scenario_name}_ntot_nobs.png\", bbox_inches=\"tight\")"
   ]
  },
  {
   "cell_type": "code",
   "execution_count": null,
   "id": "2f61dd33-5e26-473f-a084-1390e0cf2c0d",
   "metadata": {},
   "outputs": [],
   "source": [
    "lifetimes = get_lifetimes_for_simulation(\n",
    "    simulation_id=selected_simulation_id,\n",
    "    craters=craters,\n",
    "    removals=removals,\n",
    "    configs_df=configs_df,\n",
    "    spark=spark\n",
    ")\n",
    "\n",
    "# plt.figure(figsize=(6, 4), dpi=400)\n",
    "\n",
    "# # Sampled scatterplot\n",
    "# sampled = lifetimes.sample(frac=0.005)\n",
    "# plt.scatter(\n",
    "#     sampled.radius,\n",
    "#     sampled.lifetime,\n",
    "#     c=\"blue\",\n",
    "#     s=.5,\n",
    "# )\n",
    "\n",
    "# # Fit the line in log space\n",
    "# fitted_model = smf.ols(data=lifetimes, formula=\"np.log(lifetime) ~ 1 + np.log(radius)\").fit()\n",
    "# fitted_intercept = np.exp(fitted_model.params.iloc[0])\n",
    "# fitted_slope = fitted_model.params.iloc[1]\n",
    "\n",
    "# plt.plot(\n",
    "#     [sampled.radius.min(), sampled.radius.max()],\n",
    "#     np.exp(fitted_model.predict(pd.Series([sampled.radius.min(), sampled.radius.max()], name=\"radius\"))),\n",
    "#     ls=\"dashed\",\n",
    "#     c=\"black\",\n",
    "#     label=f\"$\\\\kappa = {get_scientific_notation(fitted_intercept, 3)} \\\\cdot r^{{ {fitted_slope:.3f} }}$\"\n",
    "# )\n",
    "\n",
    "# plt.xscale(\"log\")\n",
    "# plt.yscale(\"log\")\n",
    "# plt.xlabel(\"r\", fontsize=font_size)\n",
    "# plt.ylabel(\"$\\\\kappa$\", fontsize=font_size)\n",
    "# plt.legend()\n",
    "\n",
    "# plt.savefig(f\"figures/{scenario_name}_lifetimes_scatter.png\", bbox_inches=\"tight\")\n",
    "# plt.show()"
   ]
  },
  {
   "cell_type": "code",
   "execution_count": null,
   "id": "cfd4c85b-7f33-453a-829d-c115ba369f58",
   "metadata": {},
   "outputs": [],
   "source": [
    "sorted_lifetimes = lifetimes.sort_values(\"radius\")\n",
    "\n",
    "n_samples_each = 1000\n",
    "offset = sorted_lifetimes.shape[0] // 10\n",
    "sample_sets = [\n",
    "    sorted_lifetimes.lifetime[offset * x: offset * (x + 1)].sample(n_samples_each)\n",
    "    for x in range(5)\n",
    "]\n",
    "result = anderson_ksamp(sample_sets)\n",
    "\n",
    "print(\"Statistic:\", result.statistic)\n",
    "print(\"P-value:\", result.pvalue)\n",
    "\n",
    "if result.pvalue < 0.05:\n",
    "    print(\"Reject the null hypothesis: The distributions are different.\")\n",
    "else:\n",
    "    print(\"Fail to reject the null hypothesis: The distributions are not significantly different.\")"
   ]
  },
  {
   "cell_type": "code",
   "execution_count": null,
   "id": "e784a5ad-0d59-4187-bd22-5895140ac4c1",
   "metadata": {},
   "outputs": [],
   "source": [
    "fitted_model.summary()"
   ]
  },
  {
   "cell_type": "code",
   "execution_count": null,
   "id": "5ede14bc-66d1-4504-948b-e4e0e915f2d7",
   "metadata": {},
   "outputs": [],
   "source": [
    "states = get_states_at_ntots(\n",
    "    simulation_id=selected_simulation_id,\n",
    "    configs_dict=configs_dict,\n",
    "    base_path=base_path,\n",
    "    spark=spark,\n",
    "    max_ntot=10**7\n",
    ")\n",
    "slope_estimates = estimate_slopes_for_states(states, configs_dict[selected_simulation_id][\"r_stat\"])\n",
    "\n",
    "fig = plot_slope_estimates(slope_estimates)\n",
    "plt.show()\n",
    "fig.savefig(f\"figures/{scenario_name}_slope_estimates.png\", bbox_inches=\"tight\")"
   ]
  },
  {
   "cell_type": "code",
   "execution_count": null,
   "id": "10add0c2-5666-418f-9ce3-553ad8108093",
   "metadata": {},
   "outputs": [],
   "source": [
    "states = get_states_at_ntots(\n",
    "    simulation_id=selected_simulation_id,\n",
    "    configs_dict=configs_dict,\n",
    "    base_path=base_path,\n",
    "    target_ntots=[1000, 1e6, int(10**7)],\n",
    "    spark=spark\n",
    ")\n",
    "\n",
    "intercept = max(state.shape[0] / state.radius.min()**selected_slope for state in states.values())\n",
    "slope_intercept_line_styles = [\n",
    "    (selected_slope, intercept, \"--\", f\"$b = {selected_slope:.1f}$\")\n",
    "]\n",
    "\n",
    "fig = plot_csfds_for_multiple_ntot(states=states, slope_intercept_line_styles=slope_intercept_line_styles)\n",
    "plt.show()\n",
    "fig.savefig(f\"figures/{scenario_name}_csfds.png\", bbox_inches=\"tight\")"
   ]
  },
  {
   "cell_type": "code",
   "execution_count": null,
   "id": "f6eccdb2-72c7-4202-8dfb-815494c87cc2",
   "metadata": {},
   "outputs": [],
   "source": []
  },
  {
   "cell_type": "markdown",
   "id": "48b96b72-1a58-4bef-85ae-4efb7b069360",
   "metadata": {},
   "source": [
    "## Square root threshold function"
   ]
  },
  {
   "cell_type": "code",
   "execution_count": null,
   "id": "a8ec035e-ddd9-4538-bd3b-2f83ae7b5f72",
   "metadata": {},
   "outputs": [],
   "source": [
    "scenario_name = \"square_root_threshold\"\n",
    "selected_slope = -3.5\n",
    "selected_simulation_id = 136\n",
    "\n",
    "filtered = configs_pdf[configs_pdf.slope == selected_slope]\n",
    "filtered"
   ]
  },
  {
   "cell_type": "code",
   "execution_count": null,
   "id": "b026b232-936f-403b-9123-7b9e8c1bc593",
   "metadata": {},
   "outputs": [],
   "source": [
    "n_samples = 250\n",
    "df = data.where(F.col(\"simulation_id\") == selected_simulation_id)\n",
    "df = df.where(F.col(\"ntot\") % (df.count() // n_samples) == 5).orderBy(\"ntot\").toPandas()\n",
    "\n",
    "fig = plt.figure(figsize=(6, 4), dpi=400)\n",
    "ax1 = fig.add_subplot(111)\n",
    "\n",
    "nobs_line = df[-(df.shape[0] // 5):].nobs.median()\n",
    "print(f\"nobs line: {nobs_line}\")\n",
    "\n",
    "plt1 = ax1.plot(\n",
    "    df.ntot,\n",
    "    df.nobs,\n",
    "    label=\"$N_{obs}$\",\n",
    "    lw=1,\n",
    "    c=\"blue\"\n",
    ")\n",
    "\n",
    "ax1.axhline(nobs_line, color=\"r\", linestyle=\"--\")\n",
    "ax1.set_ylabel(\"$N_{obs}$\", fontsize=font_size)\n",
    "ax1.set_xlabel(\"$N_{tot}$\", fontsize=font_size)\n",
    "\n",
    "plt.show()\n",
    "fig.savefig(f\"figures/{scenario_name}_ntot_nobs.png\", bbox_inches=\"tight\")"
   ]
  },
  {
   "cell_type": "code",
   "execution_count": null,
   "id": "a36d47e8-4844-4239-8f4b-4242821b20e0",
   "metadata": {},
   "outputs": [],
   "source": [
    "lifetimes = get_lifetimes_for_simulation(\n",
    "    simulation_id=selected_simulation_id,\n",
    "    craters=craters,\n",
    "    removals=removals,\n",
    "    configs_df=configs_df,\n",
    "    spark=spark\n",
    ")\n",
    "\n",
    "plt.figure(figsize=(6, 4), dpi=400)\n",
    "\n",
    "# Sampled scatterplot\n",
    "sampled = lifetimes.sample(frac=0.005)\n",
    "plt.scatter(\n",
    "    sampled.radius,\n",
    "    sampled.lifetime,\n",
    "    c=\"blue\",\n",
    "    s=.5,\n",
    ")\n",
    "\n",
    "# Fit the line in log space\n",
    "fitted_model = smf.ols(data=lifetimes, formula=\"np.log(lifetime) ~ 1 + np.log(radius)\").fit()\n",
    "fitted_intercept = np.exp(fitted_model.params.iloc[0])\n",
    "fitted_slope = fitted_model.params.iloc[1]\n",
    "\n",
    "plt.plot(\n",
    "    [sampled.radius.min(), sampled.radius.max()],\n",
    "    np.exp(fitted_model.predict(pd.Series([sampled.radius.min(), sampled.radius.max()], name=\"radius\"))),\n",
    "    ls=\"dashed\",\n",
    "    c=\"black\",\n",
    "    label=f\"$\\\\kappa = {get_scientific_notation(fitted_intercept, 3)} \\\\cdot r^{{ {fitted_slope:.3f} }}$\"\n",
    ")\n",
    "\n",
    "plt.xscale(\"log\")\n",
    "plt.yscale(\"log\")\n",
    "plt.xlabel(\"r\", fontsize=font_size)\n",
    "plt.ylabel(\"$\\\\kappa$\", fontsize=font_size)\n",
    "plt.legend()\n",
    "\n",
    "plt.savefig(f\"figures/{scenario_name}_lifetimes_scatter.png\", bbox_inches=\"tight\")\n",
    "plt.show()"
   ]
  },
  {
   "cell_type": "code",
   "execution_count": null,
   "id": "5a01417c-649f-4809-b8f2-15fa40e007bc",
   "metadata": {},
   "outputs": [],
   "source": [
    "fitted_model.summary()"
   ]
  },
  {
   "cell_type": "code",
   "execution_count": null,
   "id": "adb72435-ce2b-438e-95d6-fbcaf379190a",
   "metadata": {},
   "outputs": [],
   "source": [
    "states = get_states_at_ntots(\n",
    "    simulation_id=selected_simulation_id,\n",
    "    configs_dict=configs_dict,\n",
    "    base_path=base_path,\n",
    "    spark=spark,\n",
    "    max_ntot=2.5*10**6\n",
    ")\n",
    "slope_estimates = estimate_slopes_for_states(states, configs_dict[selected_simulation_id][\"r_stat\"])\n",
    "\n",
    "fig = plot_slope_estimates(slope_estimates)\n",
    "plt.show()\n",
    "fig.savefig(f\"figures/{scenario_name}_slope_estimates.png\", bbox_inches=\"tight\")"
   ]
  },
  {
   "cell_type": "code",
   "execution_count": null,
   "id": "a15c9376-66b8-4fda-bd8e-e26a9d3405cb",
   "metadata": {},
   "outputs": [],
   "source": [
    "states = get_states_at_ntots(\n",
    "    simulation_id=selected_simulation_id,\n",
    "    configs_dict=configs_dict,\n",
    "    base_path=base_path,\n",
    "    target_ntots=[1000, 1e6, int(2.5*10**6)],\n",
    "    spark=spark\n",
    ")\n",
    "\n",
    "equilibrium_slope = -2.0\n",
    "equilibrium_intercept = max(state.shape[0] / state.radius.min()**equilibrium_slope for state in states.values())\n",
    "\n",
    "production_slope = -3.5\n",
    "production_intercept = min(state.shape[0] / state.radius.min()**production_slope for state in states.values())\n",
    "slope_intercept_line_styles = [\n",
    "    (production_slope, production_intercept, \"--\", f\"$b = {production_slope:.1f}$\"),\n",
    "    (equilibrium_slope, equilibrium_intercept, \"dotted\", f\"$b = {equilibrium_slope:.1f}$\"),\n",
    "]\n",
    "fig = plot_csfds_for_multiple_ntot(states=states, slope_intercept_line_styles=slope_intercept_line_styles)\n",
    "plt.show()\n",
    "fig.savefig(f\"figures/{scenario_name}_csfds.png\", bbox_inches=\"tight\")"
   ]
  },
  {
   "cell_type": "code",
   "execution_count": null,
   "id": "1b908b4a-0dbc-4a9b-983c-dda1c4c04fa8",
   "metadata": {},
   "outputs": [],
   "source": []
  },
  {
   "cell_type": "markdown",
   "id": "74e42fde-f616-4508-8d83-78390c6123a4",
   "metadata": {},
   "source": [
    "## Fourth root threshold function"
   ]
  },
  {
   "cell_type": "code",
   "execution_count": null,
   "id": "813bc3cb-916f-4fec-ab86-8fc98ba63918",
   "metadata": {},
   "outputs": [],
   "source": [
    "scenario_name = \"fourth_root_threshold\"\n",
    "selected_slope = -3.5\n",
    "selected_simulation_id = 137\n",
    "\n",
    "filtered = configs_pdf[configs_pdf.slope == selected_slope]\n",
    "filtered"
   ]
  },
  {
   "cell_type": "code",
   "execution_count": null,
   "id": "65a838bd-39a0-469d-98af-29d044b85511",
   "metadata": {},
   "outputs": [],
   "source": [
    "n_samples = 250\n",
    "df = data.where(F.col(\"simulation_id\") == selected_simulation_id)\n",
    "df = df.where(F.col(\"ntot\") % (df.count() // n_samples) == 5).orderBy(\"ntot\").toPandas()\n",
    "\n",
    "fig = plt.figure(figsize=(6, 4), dpi=400)\n",
    "ax1 = fig.add_subplot(111)\n",
    "\n",
    "nobs_line = df[-(df.shape[0] // 5):].nobs.median()\n",
    "print(f\"nobs line: {nobs_line}\")\n",
    "\n",
    "plt1 = ax1.plot(\n",
    "    df.ntot,\n",
    "    df.nobs,\n",
    "    label=\"$N_{obs}$\",\n",
    "    lw=1,\n",
    "    c=\"blue\"\n",
    ")\n",
    "\n",
    "ax1.axhline(nobs_line, color=\"r\", linestyle=\"--\")\n",
    "ax1.set_ylabel(\"$N_{obs}$\", fontsize=font_size)\n",
    "ax1.set_xlabel(\"$N_{tot}$\", fontsize=font_size)\n",
    "\n",
    "plt.show()\n",
    "fig.savefig(f\"figures/{scenario_name}_ntot_nobs.png\", bbox_inches=\"tight\")"
   ]
  },
  {
   "cell_type": "code",
   "execution_count": null,
   "id": "946a63e6-6f8f-47d9-b8d2-6c4714e47a37",
   "metadata": {},
   "outputs": [],
   "source": [
    "lifetimes = get_lifetimes_for_simulation(\n",
    "    simulation_id=selected_simulation_id,\n",
    "    craters=craters,\n",
    "    removals=removals,\n",
    "    configs_df=configs_df,\n",
    "    spark=spark\n",
    ")\n",
    "\n",
    "plt.figure(figsize=(6, 4), dpi=400)\n",
    "\n",
    "# Sampled scatterplot\n",
    "sampled = lifetimes.sample(frac=0.005)\n",
    "plt.scatter(\n",
    "    sampled.radius,\n",
    "    sampled.lifetime,\n",
    "    c=\"blue\",\n",
    "    s=.5,\n",
    ")\n",
    "\n",
    "# Fit the line in log space\n",
    "fitted_model = smf.ols(data=lifetimes, formula=\"np.log(lifetime) ~ 1 + np.log(radius)\").fit()\n",
    "fitted_intercept = np.exp(fitted_model.params.iloc[0])\n",
    "fitted_slope = fitted_model.params.iloc[1]\n",
    "\n",
    "plt.plot(\n",
    "    [sampled.radius.min(), sampled.radius.max()],\n",
    "    np.exp(fitted_model.predict(pd.Series([sampled.radius.min(), sampled.radius.max()], name=\"radius\"))),\n",
    "    ls=\"dashed\",\n",
    "    c=\"black\",\n",
    "    label=f\"$\\\\kappa = {get_scientific_notation(fitted_intercept, 3)} \\\\cdot r^{{ {fitted_slope:.3f} }}$\"\n",
    ")\n",
    "\n",
    "plt.xscale(\"log\")\n",
    "plt.yscale(\"log\")\n",
    "plt.xlabel(\"r\", fontsize=font_size)\n",
    "plt.ylabel(\"$\\\\kappa$\", fontsize=font_size)\n",
    "plt.legend()\n",
    "\n",
    "plt.savefig(f\"figures/{scenario_name}_lifetimes_scatter.png\", bbox_inches=\"tight\")\n",
    "plt.show()"
   ]
  },
  {
   "cell_type": "code",
   "execution_count": null,
   "id": "9ac76cb3-0fb2-42bf-b770-74354397c6eb",
   "metadata": {},
   "outputs": [],
   "source": [
    "fitted_model.summary()"
   ]
  },
  {
   "cell_type": "code",
   "execution_count": null,
   "id": "a7253377-c646-4e6a-8821-c5389db0ea1f",
   "metadata": {},
   "outputs": [],
   "source": [
    "states = get_states_at_ntots(\n",
    "    simulation_id=selected_simulation_id,\n",
    "    configs_dict=configs_dict,\n",
    "    base_path=base_path,\n",
    "    spark=spark,\n",
    "    max_ntot=2.5*10**6\n",
    ")\n",
    "slope_estimates = estimate_slopes_for_states(states, configs_dict[selected_simulation_id][\"r_stat\"])\n",
    "\n",
    "fig = plot_slope_estimates(slope_estimates)\n",
    "plt.show()\n",
    "fig.savefig(f\"figures/{scenario_name}_slope_estimates.png\", bbox_inches=\"tight\")"
   ]
  },
  {
   "cell_type": "code",
   "execution_count": null,
   "id": "b60f143b-ce45-47ad-ad65-d49ca12f217a",
   "metadata": {},
   "outputs": [],
   "source": [
    "states = get_states_at_ntots(\n",
    "    simulation_id=selected_simulation_id,\n",
    "    configs_dict=configs_dict,\n",
    "    base_path=base_path,\n",
    "    target_ntots=[1000, 1e6, int(2.5*10**6)],\n",
    "    spark=spark\n",
    ")\n",
    "\n",
    "equilibrium_slope = -2.0\n",
    "equilibrium_intercept = max(state.shape[0] / state.radius.min()**equilibrium_slope for state in states.values())\n",
    "\n",
    "production_slope = -3.5\n",
    "production_intercept = min(state.shape[0] / state.radius.min()**production_slope for state in states.values())\n",
    "slope_intercept_line_styles = [\n",
    "    (production_slope, production_intercept, \"--\", f\"$b = {production_slope:.1f}$\"),\n",
    "    (equilibrium_slope, equilibrium_intercept, \"dotted\", f\"$b = {equilibrium_slope:.1f}$\"),\n",
    "]\n",
    "fig = plot_csfds_for_multiple_ntot(states=states, slope_intercept_line_styles=slope_intercept_line_styles)\n",
    "plt.show()\n",
    "fig.savefig(f\"figures/{scenario_name}_csfds.png\", bbox_inches=\"tight\")"
   ]
  },
  {
   "cell_type": "code",
   "execution_count": null,
   "id": "8b463b64-6483-48d3-a671-9491c467d4be",
   "metadata": {},
   "outputs": [],
   "source": []
  },
  {
   "cell_type": "markdown",
   "id": "06727155-35b1-42d2-8a03-a133a964fde3",
   "metadata": {},
   "source": [
    "## Investigating lifetime for a range of slopes"
   ]
  },
  {
   "cell_type": "code",
   "execution_count": null,
   "id": "e05a25dc-e639-49aa-a15c-26def4a26085",
   "metadata": {},
   "outputs": [],
   "source": [
    "scenario_name = \"nu_vs_slope\"\n",
    "selected_simulation_ids = set(range(7, 135))\n",
    "\n",
    "filtered = configs_pdf[configs_pdf.simulation_id.isin(selected_simulation_ids)].sort_values(\"simulation_id\")\n",
    "filtered"
   ]
  },
  {
   "cell_type": "code",
   "execution_count": null,
   "id": "61183fd0-305d-4889-8098-011ab9a01336",
   "metadata": {},
   "outputs": [],
   "source": [
    "sample_fraction = 0.25\n",
    "craters_sampled = craters.where(F.col(\"simulation_id\").isin(selected_simulation_ids)).sample(sample_fraction).cache()\n",
    "removals_cached = removals.where(F.col(\"simulation_id\").isin(selected_simulation_ids)).cache()"
   ]
  },
  {
   "cell_type": "code",
   "execution_count": null,
   "id": "b944f53e-fa21-4631-a740-2d73b78ffd4c",
   "metadata": {
    "scrolled": true
   },
   "outputs": [],
   "source": [
    "all_lifetimes = dict()\n",
    "all_models = dict()\n",
    "\n",
    "for row in filtered.itertuples():\n",
    "    lifetimes = get_lifetimes_for_simulation(\n",
    "        simulation_id=row.simulation_id,\n",
    "        craters=craters_sampled,\n",
    "        removals=removals_cached,\n",
    "        configs_df=configs_df,\n",
    "        spark=spark\n",
    "    )\n",
    "    all_lifetimes[row.simulation_id] = lifetimes\n",
    "\n",
    "    # Fit the line in log space\n",
    "    fitted_model = smf.ols(data=lifetimes, formula=\"np.log(lifetime) ~ 1 + np.log(radius)\").fit()\n",
    "    all_models[row.simulation_id] = fitted_model"
   ]
  },
  {
   "cell_type": "code",
   "execution_count": null,
   "id": "965fd0cb-0031-416c-a88e-9b339548c3d9",
   "metadata": {},
   "outputs": [],
   "source": [
    "df = filtered.copy()\n",
    "df[\"fitted_slope\"] = [all_models[simulation_id].params.iloc[1] for simulation_id in df.simulation_id]\n",
    "df[\"fitted_slope_std_err\"] = [all_models[simulation_id].bse.iloc[1] for simulation_id in df.simulation_id]\n",
    "df"
   ]
  },
  {
   "cell_type": "code",
   "execution_count": null,
   "id": "cd40d8a3-f531-427b-a5f8-779a0ed0c12a",
   "metadata": {},
   "outputs": [],
   "source": [
    "fig = plt.figure(figsize=(9, 6, dpi=400)\n",
    "ax = fig.add_subplot(111)\n",
    "\n",
    "low_mrp = df[df.mrp == 0.25]\n",
    "ax.errorbar(\n",
    "    low_mrp.slope,\n",
    "    low_mrp.fitted_slope,\n",
    "    low_mrp.fitted_slope_std_err,\n",
    "    ls=\"None\",\n",
    "    marker=\"+\",\n",
    "    c=\"b\",\n",
    "    label=\"$M_{r} = 0.25$\"\n",
    ")\n",
    "\n",
    "high_mrp = df[df.mrp == 0.75]\n",
    "ax.errorbar(\n",
    "    high_mrp.slope,\n",
    "    high_mrp.fitted_slope,\n",
    "    high_mrp.fitted_slope_std_err,\n",
    "    ls=\"None\",\n",
    "    marker=\"+\",\n",
    "    c=\"orange\",\n",
    "    label=\"$M_{r} = 0.75$\"\n",
    ")\n",
    "\n",
    "# Fit the line using OLS\n",
    "steeper_slopes = df[df.slope < -2.5]\n",
    "fitted_model = smf.ols(data=steeper_slopes, formula=\"fitted_slope ~ 1 + slope\").fit()\n",
    "fitted_intercept = fitted_model.params.iloc[0]\n",
    "fitted_slope = fitted_model.params.iloc[1]\n",
    "\n",
    "slopes_to_predict = pd.Series([-4.0, -1.8], name=\"slope\")\n",
    "ax.plot(\n",
    "    slopes_to_predict,\n",
    "    fitted_model.predict(slopes_to_predict),\n",
    "    c=\"black\",\n",
    "    ls=\"dotted\",\n",
    "    label=f\"$\\\\hat{{\\\\nu}} ={fitted_slope:.2f} \\\\cdot b - {-fitted_intercept:.2f}$\"\n",
    ")\n",
    "\n",
    "ax.set_xlabel(\"$b$\", fontsize=font_size)\n",
    "ax.set_ylabel(\"$\\\\hat{\\\\nu}$\", fontsize=font_size)\n",
    "ax.legend()\n",
    "\n",
    "plt.savefig(f\"figures/{scenario_name}_entire_range.png\", bbox_inches=\"tight\")\n",
    "plt.show()"
   ]
  },
  {
   "cell_type": "code",
   "execution_count": null,
   "id": "9ad8d3f0-163e-4273-8938-e69e5b75de65",
   "metadata": {},
   "outputs": [],
   "source": [
    "fitted_model.summary()"
   ]
  },
  {
   "cell_type": "code",
   "execution_count": null,
   "id": "e6f54e76-435f-48bc-a879-68d14b5d91a2",
   "metadata": {},
   "outputs": [],
   "source": [
    "craters_sampled.unpersist()\n",
    "removals_cached.unpersist()"
   ]
  },
  {
   "cell_type": "markdown",
   "id": "83bc0666-d416-4a23-937d-18f24e2cbf34",
   "metadata": {},
   "source": [
    "## Extended simulation, shallow slope"
   ]
  },
  {
   "cell_type": "code",
   "execution_count": null,
   "id": "09dd1435-4b63-45c3-8ec7-a6ba5e7bcae6",
   "metadata": {},
   "outputs": [],
   "source": [
    "scenario_name = \"long_shallow_slope\"\n",
    "selected_slope = -1.0\n",
    "selected_simulation_id = 135\n",
    "\n",
    "filtered = configs_pdf[configs_pdf.simulation_id == selected_simulation_id]\n",
    "filtered"
   ]
  },
  {
   "cell_type": "code",
   "execution_count": null,
   "id": "edf29e6f-a67e-4146-af98-1fcb37a90dba",
   "metadata": {},
   "outputs": [],
   "source": [
    "n_samples = 200\n",
    "df = data.where(F.col(\"simulation_id\") == selected_simulation_id)\n",
    "df = df.where(F.col(\"ntot\") % (df.count() // n_samples) == 5).orderBy(\"ntot\").toPandas()\n",
    "\n",
    "fig = plt.figure(figsize=(6, 4), dpi=400)\n",
    "ax1 = fig.add_subplot(111)\n",
    "\n",
    "nobs_line = df[-(df.shape[0] // 5):].nobs.median()\n",
    "print(f\"nobs line: {nobs_line}\")\n",
    "\n",
    "plt1 = ax1.plot(\n",
    "    df.ntot,\n",
    "    df.nobs,\n",
    "    label=\"$N_{obs}$\",\n",
    "    lw=1,\n",
    "    c=\"blue\"\n",
    ")\n",
    "\n",
    "ax1.axhline(nobs_line, color=\"r\", linestyle=\"--\")\n",
    "ax1.set_ylabel(\"$N_{obs}$\", fontsize=font_size)\n",
    "ax1.set_xlabel(\"$N_{tot}$\", fontsize=font_size)\n",
    "\n",
    "plt.show()\n",
    "fig.savefig(f\"figures/{scenario_name}_ntot_nobs.png\", bbox_inches=\"tight\")"
   ]
  },
  {
   "cell_type": "code",
   "execution_count": null,
   "id": "8ba6a1c5-e6ad-4b03-b499-b7242b1a9e6e",
   "metadata": {},
   "outputs": [],
   "source": [
    "lifetimes = get_lifetimes_for_simulation(\n",
    "    simulation_id=selected_simulation_id,\n",
    "    craters=craters.where(F.col(\"simulation_id\") == selected_simulation_id).sample(0.25),\n",
    "    removals=removals,\n",
    "    configs_df=configs_df,\n",
    "    spark=spark\n",
    ")\n",
    "\n",
    "plt.figure(figsize=(6, 4), dpi=400)\n",
    "\n",
    "# Sampled scatterplot\n",
    "sampled = lifetimes.sample(frac=0.001)\n",
    "plt.scatter(\n",
    "    sampled.radius,\n",
    "    sampled.lifetime,\n",
    "    c=\"blue\",\n",
    "    s=.5,\n",
    ")\n",
    "\n",
    "# Fit the line in log space\n",
    "fitted_model = smf.ols(data=lifetimes, formula=\"np.log(lifetime) ~ 1 + np.log(radius)\").fit()\n",
    "fitted_intercept = np.exp(fitted_model.params.iloc[0])\n",
    "fitted_slope = fitted_model.params.iloc[1]\n",
    "\n",
    "plt.plot(\n",
    "    [sampled.radius.min(), sampled.radius.max()],\n",
    "    np.exp(fitted_model.predict(pd.Series([sampled.radius.min(), sampled.radius.max()], name=\"radius\"))),\n",
    "    ls=\"dashed\",\n",
    "    c=\"black\",\n",
    "    label=f\"$\\\\kappa = {get_scientific_notation(fitted_intercept, 3)} \\\\cdot r^{{ {fitted_slope:.3f} }}$\"\n",
    ")\n",
    "\n",
    "plt.xscale(\"log\")\n",
    "plt.yscale(\"log\")\n",
    "plt.xlabel(\"r\", fontsize=font_size)\n",
    "plt.ylabel(\"$\\\\kappa$\", fontsize=font_size)\n",
    "plt.legend()\n",
    "\n",
    "plt.savefig(f\"figures/{scenario_name}_lifetimes_scatter.png\", bbox_inches=\"tight\")\n",
    "plt.show()"
   ]
  },
  {
   "cell_type": "code",
   "execution_count": null,
   "id": "a659419d-ba5e-4560-a061-de8a8f0d501a",
   "metadata": {},
   "outputs": [],
   "source": [
    "fitted_model.summary()"
   ]
  },
  {
   "cell_type": "code",
   "execution_count": null,
   "id": "0111c905-96a0-4847-91cf-693c9d2ea9b5",
   "metadata": {},
   "outputs": [],
   "source": [
    "states = get_states_at_ntots(\n",
    "    simulation_id=selected_simulation_id,\n",
    "    configs_dict=configs_dict,\n",
    "    base_path=base_path,\n",
    "    spark=spark,\n",
    "    max_ntot=50000000\n",
    ")\n",
    "slope_estimates = estimate_slopes_for_states(states, configs_dict[selected_simulation_id][\"r_stat\"])\n",
    "\n",
    "fig = plot_slope_estimates(slope_estimates)\n",
    "plt.show()\n",
    "fig.savefig(f\"figures/{scenario_name}_slope_estimates.png\", bbox_inches=\"tight\")"
   ]
  },
  {
   "cell_type": "code",
   "execution_count": null,
   "id": "94682432-9d5a-482f-9078-94e2b064fa5f",
   "metadata": {},
   "outputs": [],
   "source": [
    "states = get_states_at_ntots(\n",
    "    simulation_id=selected_simulation_id,\n",
    "    configs_dict=configs_dict,\n",
    "    base_path=base_path,\n",
    "    target_ntots=[500, 100000, int(5e7)],\n",
    "    spark=spark\n",
    ")\n",
    "\n",
    "equilibrium_slope = -1.0\n",
    "equilibrium_intercept = max(state.shape[0] / state.radius.min()**equilibrium_slope for state in states.values())\n",
    "\n",
    "production_slope = -2.0\n",
    "production_intercept = min(state.shape[0] / state.radius.min()**production_slope for state in states.values())\n",
    "slope_intercept_line_styles = [\n",
    "    (production_slope, production_intercept, \"--\", f\"$b = {production_slope:.1f}$\"),\n",
    "    (equilibrium_slope, equilibrium_intercept, \"dotted\", f\"$b = {equilibrium_slope:.1f}$\"),\n",
    "]\n",
    "fig = plot_csfds_for_multiple_ntot(states=states, slope_intercept_line_styles=slope_intercept_line_styles)\n",
    "plt.show()\n",
    "fig.savefig(f\"figures/{scenario_name}_csfds.png\", bbox_inches=\"tight\")"
   ]
  },
  {
   "cell_type": "code",
   "execution_count": null,
   "id": "8240da95-6ed5-498f-bd6f-e1e65bf81a4a",
   "metadata": {},
   "outputs": [],
   "source": []
  },
  {
   "cell_type": "code",
   "execution_count": null,
   "id": "76dfd6d6-4ac0-4196-94f3-dcf46f217841",
   "metadata": {},
   "outputs": [],
   "source": []
  }
 ],
 "metadata": {
  "kernelspec": {
   "display_name": "Python 3 (ipykernel)",
   "language": "python",
   "name": "python3"
  },
  "language_info": {
   "codemirror_mode": {
    "name": "ipython",
    "version": 3
   },
   "file_extension": ".py",
   "mimetype": "text/x-python",
   "name": "python",
   "nbconvert_exporter": "python",
   "pygments_lexer": "ipython3",
   "version": "3.12.5"
  }
 },
 "nbformat": 4,
 "nbformat_minor": 5
}
