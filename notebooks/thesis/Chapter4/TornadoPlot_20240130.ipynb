{
 "cells": [
  {
   "cell_type": "code",
   "execution_count": 1,
   "id": "0f82a7ac-6964-49b9-9fda-2121c3a50c41",
   "metadata": {},
   "outputs": [],
   "source": [
    "import sys\n",
    "\n",
    "import pandas as pd\n",
    "import numpy as np\n",
    "from pathlib import Path\n",
    "import yaml\n",
    "from typing import *\n",
    "\n",
    "import plotly.express as px\n",
    "import plotly.io as pio\n",
    "import plotly.graph_objects as go\n",
    "import matplotlib.pyplot as plt\n",
    "\n",
    "import pyspark\n",
    "import pyspark.sql.functions as F\n",
    "from pyspark.sql import SparkSession, DataFrame, Window\n",
    "from hyperopt import hp, fmin, tpe, STATUS_OK, Trials, space_eval\n",
    "import itertools\n",
    "\n",
    "from pyspark.ml.feature import VectorAssembler, MinMaxScaler, BucketedRandomProjectionLSH\n",
    "from pyspark.ml import Pipeline\n",
    "from pyspark.ml.functions import vector_to_array\n",
    "\n",
    "from utils import *\n",
    "\n",
    "pio.renderers.default = \"iframe\""
   ]
  },
  {
   "cell_type": "code",
   "execution_count": 2,
   "id": "80c4a04f-d991-42e1-ab5f-d48f7d016106",
   "metadata": {},
   "outputs": [
    {
     "name": "stderr",
     "output_type": "stream",
     "text": [
      "24/03/02 13:24:47 WARN Utils: Your hostname, muninn resolves to a loopback address: 127.0.1.1; using 192.168.86.20 instead (on interface enp8s0)\n",
      "24/03/02 13:24:47 WARN Utils: Set SPARK_LOCAL_IP if you need to bind to another address\n",
      "Setting default log level to \"WARN\".\n",
      "To adjust logging level use sc.setLogLevel(newLevel). For SparkR, use setLogLevel(newLevel).\n",
      "24/03/02 13:24:48 WARN NativeCodeLoader: Unable to load native-hadoop library for your platform... using builtin-java classes where applicable\n",
      "24/03/02 13:24:48 WARN Utils: Service 'SparkUI' could not bind on port 4040. Attempting port 4041.\n",
      "24/03/02 13:24:48 WARN Utils: Service 'SparkUI' could not bind on port 4041. Attempting port 4042.\n"
     ]
    }
   ],
   "source": [
    "n_cores = 28\n",
    "\n",
    "spark = (SparkSession.builder\n",
    "         .master(f\"local[{n_cores}]\")\n",
    "         .appName(\"Saturation\")\n",
    "         .config(\"spark.sql.shuffle.partitions\", \"500\")\n",
    "         .config(\"spark.driver.memory\", \"60g\")\n",
    "         .config(\"spark.driver.maxResultSize\", \"8g\")\n",
    "         .getOrCreate())"
   ]
  },
  {
   "cell_type": "code",
   "execution_count": 15,
   "id": "12b9c2c5-7365-42a6-bb5e-d50fd91b82c6",
   "metadata": {},
   "outputs": [
    {
     "name": "stderr",
     "output_type": "stream",
     "text": [
      "                                                                                \r"
     ]
    }
   ],
   "source": [
    "base_path = \"/data/saturation/thesis_run_20240130\"\n",
    "r_stat = 5\n",
    "study_region_size = 2000 * 2000 / r_stat ** 2\n",
    "\n",
    "configs_df = create_configs_df(read_configs(base_path, spark))\n",
    "data = spark.read.parquet(f\"{base_path}/*/statistics_*.parquet\")\n",
    "\n",
    "# State c2c nn dist in terms of r_stat and log-scale\n",
    "data = data.select(\n",
    "    \"*\",\n",
    "    F.log10(F.col(\"center_to_center_nearest_neighbor_distance_mean\") / F.lit(r_stat)).alias(\"log_mean_c2c_nn_dist\"),\n",
    "    F.log10(F.col(\"n_craters_in_study_region\")).alias(\"log_n_craters_in_study_region\"),\n",
    "    F.log10(\"n_craters_added_in_study_region\").alias(\"log_n_craters_added_in_study_region\"),\n",
    "    (F.col(\"n_craters_in_study_region\") / F.col(\"n_craters_added_in_study_region\")).alias(\"information_remaining\")\n",
    ")"
   ]
  },
  {
   "cell_type": "code",
   "execution_count": 5,
   "id": "c3fee61a-c5be-4548-9ffb-659a77ce75c4",
   "metadata": {},
   "outputs": [
    {
     "name": "stderr",
     "output_type": "stream",
     "text": [
      "                                                                                \r"
     ]
    },
    {
     "data": {
      "text/plain": [
       "444699515"
      ]
     },
     "execution_count": 5,
     "metadata": {},
     "output_type": "execute_result"
    }
   ],
   "source": [
    "data.count()"
   ]
  },
  {
   "cell_type": "code",
   "execution_count": null,
   "id": "895c3c86-218c-4727-b573-22f8bc907c49",
   "metadata": {},
   "outputs": [],
   "source": []
  },
  {
   "cell_type": "code",
   "execution_count": 16,
   "id": "1987e4a7-88cb-4c59-8888-dc6bcd42ca44",
   "metadata": {},
   "outputs": [
    {
     "name": "stderr",
     "output_type": "stream",
     "text": [
      "                                                                                \r"
     ]
    }
   ],
   "source": [
    "data_subset = data.where(\n",
    "    (F.col(\"n_craters_added_in_study_region\") > F.lit(100))\n",
    ").sample(0.0005)\n",
    "\n",
    "df = join_configs(data_subset, configs_df, spark).toPandas()"
   ]
  },
  {
   "cell_type": "code",
   "execution_count": 7,
   "id": "6486dfbd-8652-4168-b772-1d25046981f4",
   "metadata": {},
   "outputs": [
    {
     "data": {
      "text/html": [
       "<div>\n",
       "<style scoped>\n",
       "    .dataframe tbody tr th:only-of-type {\n",
       "        vertical-align: middle;\n",
       "    }\n",
       "\n",
       "    .dataframe tbody tr th {\n",
       "        vertical-align: top;\n",
       "    }\n",
       "\n",
       "    .dataframe thead th {\n",
       "        text-align: right;\n",
       "    }\n",
       "</style>\n",
       "<table border=\"1\" class=\"dataframe\">\n",
       "  <thead>\n",
       "    <tr style=\"text-align: right;\">\n",
       "      <th></th>\n",
       "      <th>effective_radius_multiplier</th>\n",
       "      <th>min_rim_percentage</th>\n",
       "      <th>r_stat_multiplier</th>\n",
       "      <th>simulation_id</th>\n",
       "      <th>slope</th>\n",
       "    </tr>\n",
       "  </thead>\n",
       "  <tbody>\n",
       "    <tr>\n",
       "      <th>7003</th>\n",
       "      <td>1.467602</td>\n",
       "      <td>0.686809</td>\n",
       "      <td>10.148981</td>\n",
       "      <td>2164</td>\n",
       "      <td>1.000246</td>\n",
       "    </tr>\n",
       "    <tr>\n",
       "      <th>709</th>\n",
       "      <td>1.624211</td>\n",
       "      <td>0.604381</td>\n",
       "      <td>14.055626</td>\n",
       "      <td>1148</td>\n",
       "      <td>1.000381</td>\n",
       "    </tr>\n",
       "    <tr>\n",
       "      <th>1207</th>\n",
       "      <td>1.436503</td>\n",
       "      <td>0.392966</td>\n",
       "      <td>12.947683</td>\n",
       "      <td>5510</td>\n",
       "      <td>1.000389</td>\n",
       "    </tr>\n",
       "    <tr>\n",
       "      <th>7522</th>\n",
       "      <td>1.447905</td>\n",
       "      <td>0.740991</td>\n",
       "      <td>12.896511</td>\n",
       "      <td>1017</td>\n",
       "      <td>1.000441</td>\n",
       "    </tr>\n",
       "    <tr>\n",
       "      <th>689</th>\n",
       "      <td>1.583571</td>\n",
       "      <td>0.543519</td>\n",
       "      <td>6.508161</td>\n",
       "      <td>1142</td>\n",
       "      <td>1.000661</td>\n",
       "    </tr>\n",
       "    <tr>\n",
       "      <th>...</th>\n",
       "      <td>...</td>\n",
       "      <td>...</td>\n",
       "      <td>...</td>\n",
       "      <td>...</td>\n",
       "      <td>...</td>\n",
       "    </tr>\n",
       "    <tr>\n",
       "      <th>7443</th>\n",
       "      <td>1.369571</td>\n",
       "      <td>0.492816</td>\n",
       "      <td>13.385134</td>\n",
       "      <td>5501</td>\n",
       "      <td>2.999578</td>\n",
       "    </tr>\n",
       "    <tr>\n",
       "      <th>2243</th>\n",
       "      <td>1.877052</td>\n",
       "      <td>0.745182</td>\n",
       "      <td>13.677595</td>\n",
       "      <td>1925</td>\n",
       "      <td>2.999638</td>\n",
       "    </tr>\n",
       "    <tr>\n",
       "      <th>2081</th>\n",
       "      <td>1.655109</td>\n",
       "      <td>0.690670</td>\n",
       "      <td>6.200024</td>\n",
       "      <td>9648</td>\n",
       "      <td>2.999713</td>\n",
       "    </tr>\n",
       "    <tr>\n",
       "      <th>8468</th>\n",
       "      <td>1.783821</td>\n",
       "      <td>0.642164</td>\n",
       "      <td>9.567673</td>\n",
       "      <td>7919</td>\n",
       "      <td>2.999827</td>\n",
       "    </tr>\n",
       "    <tr>\n",
       "      <th>6459</th>\n",
       "      <td>1.768516</td>\n",
       "      <td>0.275371</td>\n",
       "      <td>12.451543</td>\n",
       "      <td>3264</td>\n",
       "      <td>2.999983</td>\n",
       "    </tr>\n",
       "  </tbody>\n",
       "</table>\n",
       "<p>10000 rows × 5 columns</p>\n",
       "</div>"
      ],
      "text/plain": [
       "      effective_radius_multiplier  min_rim_percentage  r_stat_multiplier  \\\n",
       "7003                     1.467602            0.686809          10.148981   \n",
       "709                      1.624211            0.604381          14.055626   \n",
       "1207                     1.436503            0.392966          12.947683   \n",
       "7522                     1.447905            0.740991          12.896511   \n",
       "689                      1.583571            0.543519           6.508161   \n",
       "...                           ...                 ...                ...   \n",
       "7443                     1.369571            0.492816          13.385134   \n",
       "2243                     1.877052            0.745182          13.677595   \n",
       "2081                     1.655109            0.690670           6.200024   \n",
       "8468                     1.783821            0.642164           9.567673   \n",
       "6459                     1.768516            0.275371          12.451543   \n",
       "\n",
       "      simulation_id     slope  \n",
       "7003           2164  1.000246  \n",
       "709            1148  1.000381  \n",
       "1207           5510  1.000389  \n",
       "7522           1017  1.000441  \n",
       "689            1142  1.000661  \n",
       "...             ...       ...  \n",
       "7443           5501  2.999578  \n",
       "2243           1925  2.999638  \n",
       "2081           9648  2.999713  \n",
       "8468           7919  2.999827  \n",
       "6459           3264  2.999983  \n",
       "\n",
       "[10000 rows x 5 columns]"
      ]
     },
     "execution_count": 7,
     "metadata": {},
     "output_type": "execute_result"
    }
   ],
   "source": [
    "configs_df.toPandas().sort_values(\"slope\")"
   ]
  },
  {
   "cell_type": "code",
   "execution_count": null,
   "id": "1f336816-d75f-41b3-8377-29163e602622",
   "metadata": {},
   "outputs": [],
   "source": [
    "def plot_log_N_and_log_NNd_for_simulation(simulation_id: int, stats_df: pd.DataFrame):\n",
    "    df = stats_df[stats_df.simulation_id == simulation_id].sort_values(\"n_craters_added_in_study_region\")\n",
    "    df.head()\n",
    "    \n",
    "    print(df[[\"slope\", \"effective_radius_multiplier\", \"r_stat_multiplier\", \"min_rim_percentage\"]].iloc[0])\n",
    "    \n",
    "    fig = plt.figure(figsize=(12, 3))\n",
    "    ax1 = fig.add_subplot(111)\n",
    "    \n",
    "    plt1 = ax1.plot(df.n_craters_added_in_study_region, df.log_mean_c2c_nn_dist, color='red', label=\"$log(\\overline{NN_{d}})$\")\n",
    "    ax1.set_ylabel(\"$log(\\overline{NN_{d}})$\")\n",
    "    ax1.set_xlabel(\"N Craters Added\")\n",
    "    \n",
    "    ax2 = ax1.twinx()\n",
    "    plt2 = ax2.plot(df.n_craters_added_in_study_region, np.log10(df.n_craters_in_study_region), color=\"blue\", label=\"$log(N_{obs})$\")\n",
    "    ax2.set_ylabel(\"$log(N_{obs})$\")\n",
    "    \n",
    "    lns = plt1 + plt2\n",
    "    ax1.legend(lns, [l.get_label() for l in lns], loc=1)\n",
    "    \n",
    "    ax1.set_title(f\"Simulation {simulation_id}\")\n",
    "\n",
    "    plt.show()"
   ]
  },
  {
   "cell_type": "code",
   "execution_count": null,
   "id": "00007fee-7e99-4a7e-a97d-654c0c3a3063",
   "metadata": {},
   "outputs": [],
   "source": [
    "for sim_id in np.random.choice(df.simulation_id.drop_duplicates(), 20):\n",
    "    plot_log_N_and_log_NNd_for_simulation(sim_id, df)"
   ]
  },
  {
   "cell_type": "code",
   "execution_count": 17,
   "id": "f1b3d99b-22e1-493a-bf15-6f046318e88e",
   "metadata": {},
   "outputs": [],
   "source": [
    "# Randomly arrange the points\n",
    "# Ordering affects which points in the subsequent plots are \"on top\" of others\n",
    "df[\"rnd\"] = np.random.rand(df.shape[0])\n",
    "df = df.sort_values(\"rnd\")"
   ]
  },
  {
   "cell_type": "code",
   "execution_count": 39,
   "id": "c124abde-97b1-4981-827e-ec7bcd613f64",
   "metadata": {},
   "outputs": [
    {
     "data": {
      "text/plain": [
       "Index(['slope', 'min_rim_percentage', 'effective_radius_multiplier',\n",
       "       'r_stat_multiplier', 'crater_id', 'n_craters_added_in_study_region',\n",
       "       'n_craters_in_study_region', 'areal_density', 'areal_density_overlap_2',\n",
       "       'areal_density_overlap_3',\n",
       "       'center_to_center_nearest_neighbor_distance_mean',\n",
       "       'center_to_center_nearest_neighbor_distance_stdev',\n",
       "       'center_to_center_nearest_neighbor_distance_min',\n",
       "       'center_to_center_nearest_neighbor_distance_max', 'radius_mean',\n",
       "       'radius_stdev', 'z', 'za', 'simulation_id', 'log_mean_c2c_nn_dist',\n",
       "       'log_n_craters_in_study_region', 'log_n_craters_added_in_study_region',\n",
       "       'information_remaining', 'rnd'],\n",
       "      dtype='object')"
      ]
     },
     "execution_count": 39,
     "metadata": {},
     "output_type": "execute_result"
    }
   ],
   "source": [
    "df.columns"
   ]
  },
  {
   "cell_type": "code",
   "execution_count": 64,
   "id": "0cfe5d34-465c-4162-b911-51c9b3fcd083",
   "metadata": {},
   "outputs": [
    {
     "name": "stderr",
     "output_type": "stream",
     "text": [
      "/home/mason/code/saturation/venv_311/lib/python3.11/site-packages/pandas/core/arraylike.py:396: RuntimeWarning:\n",
      "\n",
      "invalid value encountered in log10\n",
      "\n"
     ]
    },
    {
     "data": {
      "text/html": [
       "<iframe\n",
       "    scrolling=\"no\"\n",
       "    width=\"1020px\"\n",
       "    height=\"520\"\n",
       "    src=\"iframe_figures/figure_64.html\"\n",
       "    frameborder=\"0\"\n",
       "    allowfullscreen\n",
       "></iframe>\n"
      ]
     },
     "metadata": {},
     "output_type": "display_data"
    }
   ],
   "source": [
    "df[\"log_za\"] = np.log10(df.za)\n",
    "fig = px.scatter_3d(\n",
    "    df,\n",
    "    x=\"log_n_craters_in_study_region\",\n",
    "    y=\"log_n_craters_added_in_study_region\",\n",
    "    z=\"slope\",\n",
    "    color=\"log_n_craters_in_study_region\",\n",
    "    hover_data=[\"simulation_id\", \"slope\", \"n_craters_added_in_study_region\", \"areal_density\", \"n_craters_in_study_region\"],\n",
    "    size_max=1,\n",
    "    width=1000,\n",
    "    height=500\n",
    ")\n",
    "fig.update_layout(\n",
    "    yaxis_title=dict(\n",
    "        text=\"$log_{10}(N_{tot})$\",\n",
    "        font=dict(size=18)\n",
    "    ),\n",
    "    xaxis_title=dict(\n",
    "        text=\"za\",\n",
    "        font=dict(size=18)\n",
    "    ),\n",
    ")\n",
    "fig.update_traces(marker={\"size\":1})\n",
    "fig.show()"
   ]
  },
  {
   "cell_type": "code",
   "execution_count": 66,
   "id": "4eb64246-e08e-44fc-8fc8-8d946e66268b",
   "metadata": {},
   "outputs": [
    {
     "data": {
      "text/html": [
       "<iframe\n",
       "    scrolling=\"no\"\n",
       "    width=\"1020px\"\n",
       "    height=\"520\"\n",
       "    src=\"iframe_figures/figure_66.html\"\n",
       "    frameborder=\"0\"\n",
       "    allowfullscreen\n",
       "></iframe>\n"
      ]
     },
     "metadata": {},
     "output_type": "display_data"
    }
   ],
   "source": [
    "# Trying a range selector\n",
    "to_show = df.copy()\n",
    "to_show[\"slope_selector\"] = ((to_show.slope - 1) * 10).astype(\"int\") / 10 + 1\n",
    "to_show = to_show.sort_values(\"slope_selector\")\n",
    "to_show[\"index\"] = range(to_show.shape[0])\n",
    "\n",
    "range_x = [to_show.log_n_craters_in_study_region.min(), to_show.log_n_craters_in_study_region.max()]\n",
    "range_y = [to_show.log_n_craters_added_in_study_region.min(), to_show.log_n_craters_added_in_study_region.max()]\n",
    "\n",
    "fig = px.scatter(\n",
    "    to_show,\n",
    "    x=\"log_n_craters_in_study_region\",\n",
    "    y=\"log_n_craters_added_in_study_region\",\n",
    "    color=\"log_n_craters_in_study_region\",\n",
    "    hover_data=[\"slope\", \"n_craters_added_in_study_region\"],\n",
    "    size_max=1,\n",
    "    animation_frame=\"slope_selector\",\n",
    "    animation_group=\"index\",\n",
    "    range_x=range_x,\n",
    "    range_y=range_y,\n",
    "    width=1000,\n",
    "    height=500\n",
    ")\n",
    "fig.update_layout(\n",
    "    xaxis_title=dict(\n",
    "        text=\"$log_{10}(N_{obs})$\",\n",
    "        font=dict(size=18)\n",
    "    ),\n",
    "    yaxis_title=dict(\n",
    "        text=\"$log(N_{tot})$\",\n",
    "        font=dict(size=18)\n",
    "    ),\n",
    ")\n",
    "fig.update_traces(marker={\"size\":3})\n",
    "fig.show()"
   ]
  },
  {
   "cell_type": "code",
   "execution_count": null,
   "id": "df147b0b-e8c1-4b2f-a562-8985073a766c",
   "metadata": {},
   "outputs": [],
   "source": []
  },
  {
   "cell_type": "code",
   "execution_count": null,
   "id": "8a359fc3-9245-4c71-aecf-4f117128b895",
   "metadata": {},
   "outputs": [],
   "source": []
  },
  {
   "cell_type": "code",
   "execution_count": null,
   "id": "02f05dd3-4616-4147-896d-05b61a2d865b",
   "metadata": {},
   "outputs": [],
   "source": []
  },
  {
   "cell_type": "code",
   "execution_count": 52,
   "id": "cc55a17a-c079-46fe-98ec-abb51b009d99",
   "metadata": {},
   "outputs": [
    {
     "data": {
      "text/html": [
       "<iframe\n",
       "    scrolling=\"no\"\n",
       "    width=\"1020px\"\n",
       "    height=\"520\"\n",
       "    src=\"iframe_figures/figure_52.html\"\n",
       "    frameborder=\"0\"\n",
       "    allowfullscreen\n",
       "></iframe>\n"
      ]
     },
     "metadata": {},
     "output_type": "display_data"
    }
   ],
   "source": [
    "fig = px.scatter(\n",
    "    df,\n",
    "    x=\"log_mean_c2c_nn_dist\",\n",
    "    y=\"log_n_craters_in_study_region\",\n",
    "    color=\"slope\",\n",
    "    hover_data=[\"simulation_id\", \"slope\", \"n_craters_added_in_study_region\", \"areal_density\", \"n_craters_in_study_region\"],\n",
    "    size_max=1,\n",
    "    width=1000,\n",
    "    height=500\n",
    ")\n",
    "fig.update_layout(\n",
    "    xaxis_title=dict(\n",
    "        text=\"$log_{10}(\\overline{NN_d})$\",\n",
    "        font=dict(size=18)\n",
    "    ),\n",
    "    yaxis_title=dict(\n",
    "        text=\"$log_{10}(N_{obs})$\",\n",
    "        font=dict(size=18)\n",
    "    ),\n",
    ")\n",
    "fig.update_traces(marker={\"size\":3})\n",
    "fig.show()"
   ]
  },
  {
   "cell_type": "code",
   "execution_count": 37,
   "id": "bd7966d2-67da-4348-8cbf-8c26d4b870fb",
   "metadata": {},
   "outputs": [
    {
     "data": {
      "text/html": [
       "<iframe\n",
       "    scrolling=\"no\"\n",
       "    width=\"1020px\"\n",
       "    height=\"520\"\n",
       "    src=\"iframe_figures/figure_37.html\"\n",
       "    frameborder=\"0\"\n",
       "    allowfullscreen\n",
       "></iframe>\n"
      ]
     },
     "metadata": {},
     "output_type": "display_data"
    }
   ],
   "source": [
    "fig = px.scatter_3d(\n",
    "    df,\n",
    "    x=\"log_mean_c2c_nn_dist\",\n",
    "    y=\"log_n_craters_in_study_region\",\n",
    "    z=\"slope\",\n",
    "    color=\"slope\",\n",
    "    hover_data=[\"simulation_id\", \"slope\", \"n_craters_added_in_study_region\", \"areal_density\", \"n_craters_in_study_region\"],\n",
    "    size_max=1,\n",
    "    width=1000,\n",
    "    height=500\n",
    ")\n",
    "fig.update_layout(\n",
    "    xaxis_title=dict(\n",
    "        text=\"$log_{10}(\\overline{NN_d})$\",\n",
    "        font=dict(size=18)\n",
    "    ),\n",
    "    yaxis_title=dict(\n",
    "        text=\"$log_{10}(N_{obs})$\",\n",
    "        font=dict(size=18)\n",
    "    ),\n",
    ")\n",
    "fig.update_traces(marker={\"size\":3})\n",
    "fig.show()"
   ]
  },
  {
   "cell_type": "code",
   "execution_count": 63,
   "id": "d1dffd4f-e995-4b37-b985-51b6af1407ab",
   "metadata": {},
   "outputs": [
    {
     "data": {
      "text/html": [
       "<iframe\n",
       "    scrolling=\"no\"\n",
       "    width=\"1620px\"\n",
       "    height=\"620\"\n",
       "    src=\"iframe_figures/figure_63.html\"\n",
       "    frameborder=\"0\"\n",
       "    allowfullscreen\n",
       "></iframe>\n"
      ]
     },
     "metadata": {},
     "output_type": "display_data"
    }
   ],
   "source": [
    "fig = px.scatter(\n",
    "    df,\n",
    "    x=\"log_mean_c2c_nn_dist\",\n",
    "    y=\"log_n_craters_added_in_study_region\",\n",
    "    color=\"slope\",\n",
    "    hover_data=[\"simulation_id\", \"slope\", \"n_craters_added_in_study_region\", \"areal_density\", \"n_craters_in_study_region\"],\n",
    "    size_max=1,\n",
    "    width=1600,\n",
    "    height=600,\n",
    ")\n",
    "fig.update_layout(\n",
    "    xaxis_title=dict(\n",
    "        text=\"$log_{10}(\\overline{NN_d}})$\",\n",
    "        font=dict(size=18)\n",
    "    ),\n",
    "    yaxis_title=dict(\n",
    "        text=\"$log_{10}(N_{tot})$\",\n",
    "        font=dict(size=18)\n",
    "    ),\n",
    ")\n",
    "fig.update_traces(marker={\"size\":3})\n",
    "fig.show()"
   ]
  },
  {
   "cell_type": "code",
   "execution_count": 36,
   "id": "97e862c3-9dd9-46d0-bc91-834c78228c08",
   "metadata": {},
   "outputs": [
    {
     "data": {
      "text/html": [
       "<iframe\n",
       "    scrolling=\"no\"\n",
       "    width=\"1020px\"\n",
       "    height=\"520\"\n",
       "    src=\"iframe_figures/figure_36.html\"\n",
       "    frameborder=\"0\"\n",
       "    allowfullscreen\n",
       "></iframe>\n"
      ]
     },
     "metadata": {},
     "output_type": "display_data"
    }
   ],
   "source": [
    "# Trying a range selector\n",
    "to_show = df.copy()\n",
    "to_show[\"slope_selector\"] = ((to_show.slope - 1) * 10).astype(\"int\") / 10 + 1\n",
    "to_show = to_show.sort_values(\"slope_selector\")\n",
    "to_show[\"index\"] = range(to_show.shape[0])\n",
    "\n",
    "range_x = [to_show.log_mean_c2c_nn_dist.min(), to_show.log_mean_c2c_nn_dist.max()]\n",
    "range_y = [to_show.log_n_craters_added_in_study_region.min(), to_show.log_n_craters_added_in_study_region.max()]\n",
    "\n",
    "fig = px.scatter(\n",
    "    to_show,\n",
    "    x=\"log_mean_c2c_nn_dist\",\n",
    "    y=\"log_n_craters_added_in_study_region\",\n",
    "    color=\"log_n_craters_in_study_region\",\n",
    "    hover_data=[\"slope\", \"n_craters_added_in_study_region\"],\n",
    "    size_max=1,\n",
    "    animation_frame=\"slope_selector\",\n",
    "    animation_group=\"index\",\n",
    "    range_x=range_x,\n",
    "    range_y=range_y,\n",
    "    width=1000,\n",
    "    height=500\n",
    ")\n",
    "fig.update_layout(\n",
    "    xaxis_title=dict(\n",
    "        text=\"$log_{10}(N_{obs}})$\",\n",
    "        font=dict(size=18)\n",
    "    ),\n",
    "    yaxis_title=dict(\n",
    "        text=\"$log(N_{tot})$\",\n",
    "        font=dict(size=18)\n",
    "    ),\n",
    ")\n",
    "fig.update_traces(marker={\"size\":3})\n",
    "fig.show()"
   ]
  },
  {
   "cell_type": "code",
   "execution_count": null,
   "id": "b7530835-da52-49dd-9d01-15977b49bf60",
   "metadata": {},
   "outputs": [],
   "source": []
  },
  {
   "cell_type": "code",
   "execution_count": 22,
   "id": "f84f7b86-4b01-4034-a5b5-e6b372f35781",
   "metadata": {},
   "outputs": [
    {
     "data": {
      "text/html": [
       "<iframe\n",
       "    scrolling=\"no\"\n",
       "    width=\"1620px\"\n",
       "    height=\"620\"\n",
       "    src=\"iframe_figures/figure_22.html\"\n",
       "    frameborder=\"0\"\n",
       "    allowfullscreen\n",
       "></iframe>\n"
      ]
     },
     "metadata": {},
     "output_type": "display_data"
    }
   ],
   "source": [
    "fig = px.scatter(\n",
    "    df,\n",
    "    x=\"log_n_craters_in_study_region\",\n",
    "    y=\"log_n_craters_added_in_study_region\",\n",
    "    color=\"slope\",\n",
    "    hover_data=[\"simulation_id\", \"slope\", \"n_craters_added_in_study_region\", \"areal_density\", \"n_craters_in_study_region\"],\n",
    "    size_max=1,\n",
    "    width=1600,\n",
    "    height=600,\n",
    ")\n",
    "fig.update_layout(\n",
    "    xaxis_title=dict(\n",
    "        text=\"$log_{10}(N_{obs}})$\",\n",
    "        font=dict(size=18)\n",
    "    ),\n",
    "    yaxis_title=dict(\n",
    "        text=\"$log_{10}(N_{tot})$\",\n",
    "        font=dict(size=18)\n",
    "    ),\n",
    ")\n",
    "fig.update_traces(marker={\"size\":3})\n",
    "fig.show()"
   ]
  },
  {
   "cell_type": "code",
   "execution_count": 34,
   "id": "d4051020-8d95-46c2-9085-9267e29826d6",
   "metadata": {
    "scrolled": true
   },
   "outputs": [
    {
     "data": {
      "text/html": [
       "<iframe\n",
       "    scrolling=\"no\"\n",
       "    width=\"1020px\"\n",
       "    height=\"520\"\n",
       "    src=\"iframe_figures/figure_34.html\"\n",
       "    frameborder=\"0\"\n",
       "    allowfullscreen\n",
       "></iframe>\n"
      ]
     },
     "metadata": {},
     "output_type": "display_data"
    }
   ],
   "source": [
    "# Comparing N_tot to N_obs\n",
    "# Trying a range selector\n",
    "to_show = df.copy()\n",
    "to_show[\"slope_selector\"] = ((to_show.slope - 1) * 10).astype(\"int\") / 10 + 1\n",
    "to_show = to_show.sort_values(\"slope_selector\")\n",
    "to_show[\"index\"] = range(to_show.shape[0])\n",
    "\n",
    "range_x = [to_show.log_n_craters_in_study_region.min(), to_show.log_n_craters_in_study_region.max()]\n",
    "range_y = [to_show.log_n_craters_added_in_study_region.min(), to_show.log_n_craters_added_in_study_region.max()]\n",
    "\n",
    "fig = px.scatter(\n",
    "    to_show,\n",
    "    x=\"log_n_craters_in_study_region\",\n",
    "    y=\"log_n_craters_added_in_study_region\",\n",
    "    color=\"log_mean_c2c_nn_dist\",\n",
    "    hover_data=[\"slope\", \"n_craters_added_in_study_region\"],\n",
    "    size_max=1,\n",
    "    animation_frame=\"slope_selector\",\n",
    "    animation_group=\"index\",\n",
    "    range_x=range_x,\n",
    "    range_y=range_y,\n",
    "    width=1000,\n",
    "    height=500\n",
    ")\n",
    "fig.update_layout(\n",
    "    xaxis_title=dict(\n",
    "        text=\"$log_{10}(N_{obs}})$\",\n",
    "        font=dict(size=18)\n",
    "    ),\n",
    "    yaxis_title=dict(\n",
    "        text=\"$log(N_{tot})$\",\n",
    "        font=dict(size=18)\n",
    "    ),\n",
    ")\n",
    "fig.update_traces(marker={\"size\":3})\n",
    "fig.show()"
   ]
  },
  {
   "cell_type": "code",
   "execution_count": null,
   "id": "80ae7648-a888-46e4-a2e6-5124b1676d51",
   "metadata": {},
   "outputs": [],
   "source": []
  },
  {
   "cell_type": "markdown",
   "id": "90bf5e1b-c5e2-43f2-8553-0e214a4a527f",
   "metadata": {},
   "source": [
    "## Plotting single simulations"
   ]
  },
  {
   "cell_type": "code",
   "execution_count": null,
   "id": "7b3bee99-058b-48f4-9d71-e9f9f2a3cab9",
   "metadata": {},
   "outputs": [],
   "source": [
    "df = data.where(\n",
    "    (F.col(\"n_craters_added_in_study_region\") > F.lit(25))\n",
    "    & (data.simulation_id == 4935)\n",
    ").cache()\n",
    "\n",
    "n_pts = 10000\n",
    "n_obs = df.count()\n",
    "\n",
    "if n_obs > n_pts:\n",
    "    sample_fraction = n_pts / n_obs\n",
    "    df = df.sample(sample_fraction)\n",
    "\n",
    "pandas_df = df.toPandas()\n",
    "pandas_df[\"log_n_craters_in_study_region\"] = np.log10(pandas_df.n_craters_in_study_region)\n",
    "pandas_df = pandas_df.sort_values(\"log_n_craters_in_study_region\")"
   ]
  },
  {
   "cell_type": "code",
   "execution_count": null,
   "id": "679702e6-81b0-47c8-8cae-1544600f7a25",
   "metadata": {},
   "outputs": [],
   "source": [
    "plt.figure(figsize=(10, 4))\n",
    "plt.plot(\n",
    "    # np.log10(pandas_df.n_craters_added_in_study_region),\n",
    "    np.log10(pandas_df.log_n_craters_in_study_region),\n",
    "    pandas_df.log_mean_c2c_nn_dist,    \n",
    ")\n",
    "plt.title(\"Single Simulation, b=3\")\n",
    "plt.xlabel(\"$log_{10}(N_{tot})$\", size=14)\n",
    "plt.ylabel(\"$log_{10}(\\overline{NN_d})$\", size=14)\n",
    "plt.show()"
   ]
  },
  {
   "cell_type": "code",
   "execution_count": null,
   "id": "eb1b7d4b-feae-41c4-ba0a-deada8f34409",
   "metadata": {},
   "outputs": [],
   "source": [
    "plt.figure(figsize=(10, 4))\n",
    "plt.plot(\n",
    "    np.log10(pandas_df.n_craters_added_in_study_region),\n",
    "    np.log10(pandas_df.n_craters_in_study_region),\n",
    ")\n",
    "plt.title(\"Single Simulation, b=3\")\n",
    "plt.xlabel(\"$log_{10}(N_{tot})$\", size=14)\n",
    "plt.ylabel(\"$log_{10}(N_obs)$\", size=14)\n",
    "plt.show()"
   ]
  },
  {
   "cell_type": "code",
   "execution_count": null,
   "id": "461653e1-8486-4294-b0ce-a2a4c059a019",
   "metadata": {},
   "outputs": [],
   "source": []
  }
 ],
 "metadata": {
  "kernelspec": {
   "display_name": "Python 3 (ipykernel)",
   "language": "python",
   "name": "python3"
  },
  "language_info": {
   "codemirror_mode": {
    "name": "ipython",
    "version": 3
   },
   "file_extension": ".py",
   "mimetype": "text/x-python",
   "name": "python",
   "nbconvert_exporter": "python",
   "pygments_lexer": "ipython3",
   "version": "3.11.6"
  }
 },
 "nbformat": 4,
 "nbformat_minor": 5
}
