{
 "cells": [
  {
   "cell_type": "code",
   "execution_count": null,
   "id": "0f82a7ac-6964-49b9-9fda-2121c3a50c41",
   "metadata": {},
   "outputs": [],
   "source": [
    "import sys\n",
    "\n",
    "import pandas as pd\n",
    "import numpy as np\n",
    "from pathlib import Path\n",
    "import yaml\n",
    "from typing import *\n",
    "\n",
    "import plotly.express as px\n",
    "import plotly.io as pio\n",
    "import plotly.graph_objects as go\n",
    "import matplotlib.pyplot as plt\n",
    "\n",
    "import pyspark\n",
    "import pyspark.sql.functions as F\n",
    "from pyspark.sql import SparkSession, DataFrame, Window\n",
    "from hyperopt import hp, fmin, tpe, STATUS_OK, Trials, space_eval\n",
    "import itertools\n",
    "\n",
    "from pyspark.ml.feature import VectorAssembler, MinMaxScaler, BucketedRandomProjectionLSH\n",
    "from pyspark.ml import Pipeline\n",
    "from pyspark.ml.functions import vector_to_array\n",
    "\n",
    "from utils import *\n",
    "\n",
    "pio.renderers.default = \"iframe\""
   ]
  },
  {
   "cell_type": "code",
   "execution_count": null,
   "id": "80c4a04f-d991-42e1-ab5f-d48f7d016106",
   "metadata": {},
   "outputs": [],
   "source": [
    "n_cores = 28\n",
    "\n",
    "spark = (SparkSession.builder\n",
    "         .master(f\"local[{n_cores}]\")\n",
    "         .appName(\"Saturation\")\n",
    "         .config(\"spark.sql.shuffle.partitions\", \"500\")\n",
    "         .config(\"spark.driver.memory\", \"60g\")\n",
    "         .config(\"spark.driver.maxResultSize\", \"8g\")\n",
    "         .getOrCreate())"
   ]
  },
  {
   "cell_type": "code",
   "execution_count": null,
   "id": "12b9c2c5-7365-42a6-bb5e-d50fd91b82c6",
   "metadata": {},
   "outputs": [],
   "source": [
    "base_path = \"/data/saturation/thesis_run_20240129\"\n",
    "r_stat = 5\n",
    "study_region_size = 2000 * 2000 / r_stat ** 2\n",
    "\n",
    "configs_df = create_configs_df(read_configs(base_path, spark))\n",
    "data = spark.read.parquet(f\"{base_path}/*/statistics_*.parquet\")\n",
    "\n",
    "# State c2c nn dist in terms of r_stat and log-scale\n",
    "data = data.select(\n",
    "    \"*\",\n",
    "    F.log10(F.col(\"center_to_center_nearest_neighbor_distance_mean\") / F.lit(r_stat)).alias(\"log_mean_c2c_nn_dist\"),\n",
    "    F.log10(\"areal_density\").alias(\"log_ad\"),\n",
    "    F.log10(\"n_craters_added_in_study_region\").alias(\"log_n_craters_added_in_study_region\"),\n",
    "    (F.col(\"n_craters_in_study_region\") / F.col(\"n_craters_added_in_study_region\")).alias(\"information_remaining\")\n",
    ")"
   ]
  },
  {
   "cell_type": "code",
   "execution_count": null,
   "id": "1987e4a7-88cb-4c59-8888-dc6bcd42ca44",
   "metadata": {},
   "outputs": [],
   "source": [
    "data_subset = data.where(\n",
    "    (F.col(\"n_craters_added_in_study_region\") > F.lit(50))\n",
    ").sample(0.0005)\n",
    "\n",
    "df = join_configs(data_subset, configs_df, spark).toPandas()"
   ]
  },
  {
   "cell_type": "code",
   "execution_count": null,
   "id": "6486dfbd-8652-4168-b772-1d25046981f4",
   "metadata": {},
   "outputs": [],
   "source": [
    "configs_df.toPandas().sort_values(\"slope\")"
   ]
  },
  {
   "cell_type": "code",
   "execution_count": null,
   "id": "1f336816-d75f-41b3-8377-29163e602622",
   "metadata": {},
   "outputs": [],
   "source": [
    "def plot_log_N_and_log_NNd_for_simulation(simulation_id: int, stats_df: pd.DataFrame):\n",
    "    df = stats_df[stats_df.simulation_id == simulation_id].sort_values(\"n_craters_added_in_study_region\")\n",
    "    df.head()\n",
    "    \n",
    "    print(df[[\"slope\", \"effective_radius_multiplier\", \"r_stat_multiplier\", \"min_rim_percentage\"]].iloc[0])\n",
    "    \n",
    "    fig = plt.figure(figsize=(12, 3))\n",
    "    ax1 = fig.add_subplot(111)\n",
    "    \n",
    "    plt1 = ax1.plot(df.n_craters_added_in_study_region, df.log_mean_c2c_nn_dist, color='red', label=\"$log(\\overline{NN_{d}})$\")\n",
    "    ax1.set_ylabel(\"$log(\\overline{NN_{d}})$\")\n",
    "    ax1.set_xlabel(\"N Craters Added\")\n",
    "    \n",
    "    ax2 = ax1.twinx()\n",
    "    plt2 = ax2.plot(df.n_craters_added_in_study_region, np.log10(df.n_craters_in_study_region), color=\"blue\", label=\"$log(N_{obs})$\")\n",
    "    ax2.set_ylabel(\"$log(N_{obs})$\")\n",
    "    \n",
    "    lns = plt1 + plt2\n",
    "    ax1.legend(lns, [l.get_label() for l in lns], loc=1)\n",
    "    \n",
    "    ax1.set_title(f\"Simulation {simulation_id}\")\n",
    "\n",
    "    plt.show()"
   ]
  },
  {
   "cell_type": "code",
   "execution_count": null,
   "id": "00007fee-7e99-4a7e-a97d-654c0c3a3063",
   "metadata": {},
   "outputs": [],
   "source": [
    "for sim_id in np.random.choice(df.simulation_id.drop_duplicates(), 20):\n",
    "    plot_log_N_and_log_NNd_for_simulation(sim_id, df)"
   ]
  },
  {
   "cell_type": "code",
   "execution_count": null,
   "id": "f1b3d99b-22e1-493a-bf15-6f046318e88e",
   "metadata": {},
   "outputs": [],
   "source": [
    "# Randomly arrange the points\n",
    "# Ordering affects which points in the subsequent plots are \"on top\" of others\n",
    "df[\"rnd\"] = np.random.rand(df.shape[0])\n",
    "df = df.sort_values(\"rnd\")"
   ]
  },
  {
   "cell_type": "code",
   "execution_count": null,
   "id": "bd7966d2-67da-4348-8cbf-8c26d4b870fb",
   "metadata": {},
   "outputs": [],
   "source": [
    "fig = px.scatter(\n",
    "    df,\n",
    "    x=\"log_mean_c2c_nn_dist\",\n",
    "    y=\"log_n_craters_added_in_study_region\",\n",
    "    color=\"slope\",\n",
    "    hover_data=[\"simulation_id\", \"slope\", \"n_craters_added_in_study_region\", \"areal_density\", \"n_craters_in_study_region\"],\n",
    "    size_max=1,\n",
    "    width=1600,\n",
    "    height=600,\n",
    ")\n",
    "fig.update_layout(\n",
    "    xaxis_title=dict(\n",
    "        text=\"$log_{10}(\\overline{NN_d})$\",\n",
    "        font=dict(size=18)\n",
    "    ),\n",
    "    yaxis_title=dict(\n",
    "        text=\"$log_{10}(N_{tot})$\",\n",
    "        font=dict(size=18)\n",
    "    ),\n",
    ")\n",
    "fig.update_traces(marker={\"size\":3})\n",
    "fig.show()"
   ]
  },
  {
   "cell_type": "code",
   "execution_count": null,
   "id": "d4051020-8d95-46c2-9085-9267e29826d6",
   "metadata": {},
   "outputs": [],
   "source": [
    "# Trying a range selector\n",
    "to_show = df.copy()\n",
    "to_show[\"slope_selector\"] = ((to_show.slope - 1) * 10).astype(\"int\") / 10 + 1\n",
    "to_show = to_show.sort_values(\"slope_selector\")\n",
    "to_show[\"index\"] = range(to_show.shape[0])\n",
    "to_show[\"log_n_craters_in_study_region\"] = np.log10(to_show.n_craters_in_study_region)\n",
    "to_show[\"log_areal_density_overlap_2\"] = np.log10(to_show.areal_density_overlap_2)\n",
    "\n",
    "range_x = [to_show.log_mean_c2c_nn_dist.min(), to_show.log_mean_c2c_nn_dist.max()]\n",
    "range_y = [to_show.log_n_craters_added_in_study_region.min(), to_show.log_n_craters_added_in_study_region.max()]\n",
    "\n",
    "fig = px.scatter(\n",
    "    to_show,\n",
    "    x=\"log_mean_c2c_nn_dist\",\n",
    "    y=\"log_n_craters_added_in_study_region\",\n",
    "    color=\"log_ad\",\n",
    "    hover_data=[\"slope\", \"n_craters_added_in_study_region\"],\n",
    "    size_max=1,\n",
    "    animation_frame=\"slope_selector\",\n",
    "    animation_group=\"index\",\n",
    "    range_x=range_x,\n",
    "    range_y=range_y,\n",
    "    width=1000,\n",
    "    height=500\n",
    ")\n",
    "fig.update_layout(\n",
    "    xaxis_title=dict(\n",
    "        text=\"$log_{10}(\\overline{NN_d})$\",\n",
    "        font=dict(size=18)\n",
    "    ),\n",
    "    yaxis_title=dict(\n",
    "        text=\"$log(N_{tot})$\",\n",
    "        font=dict(size=18)\n",
    "    ),\n",
    ")\n",
    "fig.update_traces(marker={\"size\":3})\n",
    "fig.show()"
   ]
  },
  {
   "cell_type": "code",
   "execution_count": null,
   "id": "80ae7648-a888-46e4-a2e6-5124b1676d51",
   "metadata": {},
   "outputs": [],
   "source": []
  },
  {
   "cell_type": "markdown",
   "id": "90bf5e1b-c5e2-43f2-8553-0e214a4a527f",
   "metadata": {},
   "source": [
    "## Plotting single simulations"
   ]
  },
  {
   "cell_type": "code",
   "execution_count": null,
   "id": "7b3bee99-058b-48f4-9d71-e9f9f2a3cab9",
   "metadata": {},
   "outputs": [],
   "source": [
    "df = data.where(\n",
    "    (F.col(\"n_craters_added_in_study_region\") > F.lit(25))\n",
    "    & (data.simulation_id == 4935)\n",
    ").cache()\n",
    "\n",
    "n_pts = 10000\n",
    "n_obs = df.count()\n",
    "\n",
    "if n_obs > n_pts:\n",
    "    sample_fraction = n_pts / n_obs\n",
    "    df = df.sample(sample_fraction)\n",
    "\n",
    "pandas_df = df.toPandas()\n",
    "pandas_df[\"log_n_craters_in_study_region\"] = np.log10(pandas_df.n_craters_in_study_region)\n",
    "pandas_df = pandas_df.sort_values(\"log_n_craters_in_study_region\")"
   ]
  },
  {
   "cell_type": "code",
   "execution_count": null,
   "id": "679702e6-81b0-47c8-8cae-1544600f7a25",
   "metadata": {},
   "outputs": [],
   "source": [
    "plt.figure(figsize=(10, 4))\n",
    "plt.plot(\n",
    "    # np.log10(pandas_df.n_craters_added_in_study_region),\n",
    "    np.log10(pandas_df.log_n_craters_in_study_region),\n",
    "    pandas_df.log_mean_c2c_nn_dist,    \n",
    ")\n",
    "plt.title(\"Single Simulation, b=3\")\n",
    "plt.xlabel(\"$log_{10}(N_{tot})$\", size=14)\n",
    "plt.ylabel(\"$log_{10}(\\overline{NN_d})$\", size=14)\n",
    "plt.show()"
   ]
  },
  {
   "cell_type": "code",
   "execution_count": null,
   "id": "eb1b7d4b-feae-41c4-ba0a-deada8f34409",
   "metadata": {},
   "outputs": [],
   "source": [
    "plt.figure(figsize=(10, 4))\n",
    "plt.plot(\n",
    "    np.log10(pandas_df.n_craters_added_in_study_region),\n",
    "    np.log10(pandas_df.n_craters_in_study_region),\n",
    ")\n",
    "plt.title(\"Single Simulation, b=3\")\n",
    "plt.xlabel(\"$log_{10}(N_{tot})$\", size=14)\n",
    "plt.ylabel(\"$log_{10}(N_obs)$\", size=14)\n",
    "plt.show()"
   ]
  },
  {
   "cell_type": "code",
   "execution_count": null,
   "id": "461653e1-8486-4294-b0ce-a2a4c059a019",
   "metadata": {},
   "outputs": [],
   "source": []
  }
 ],
 "metadata": {
  "kernelspec": {
   "display_name": "Python 3 (ipykernel)",
   "language": "python",
   "name": "python3"
  },
  "language_info": {
   "codemirror_mode": {
    "name": "ipython",
    "version": 3
   },
   "file_extension": ".py",
   "mimetype": "text/x-python",
   "name": "python",
   "nbconvert_exporter": "python",
   "pygments_lexer": "ipython3",
   "version": "3.11.6"
  }
 },
 "nbformat": 4,
 "nbformat_minor": 5
}
