{
 "cells": [
  {
   "cell_type": "code",
   "execution_count": 1,
   "id": "13bf6054-244c-4fda-bb57-506a9f726c99",
   "metadata": {
    "ExecuteTime": {
     "end_time": "2024-07-17T22:34:13.632579Z",
     "start_time": "2024-07-17T22:34:13.612131Z"
    }
   },
   "outputs": [],
   "source": [
    "%load_ext autoreload\n",
    "%autoreload 2"
   ]
  },
  {
   "cell_type": "code",
   "execution_count": null,
   "id": "56fe3a453396be01",
   "metadata": {},
   "outputs": [],
   "source": [
    "import glob\n",
    "\n",
    "import plotly.express as px\n",
    "import plotly.io as pio\n",
    "\n",
    "pio.renderers.default = \"iframe\"\n",
    "\n",
    "from saturation.utils import *"
   ]
  },
  {
   "cell_type": "code",
   "execution_count": null,
   "id": "9a3c7f8d502318d0",
   "metadata": {},
   "outputs": [],
   "source": [
    "n_cores = 28\n",
    "\n",
    "spark = (SparkSession.builder\n",
    "         .master(f\"local[{n_cores}]\")\n",
    "         .appName(\"Saturation\")\n",
    "         .config(\"spark.sql.shuffle.partitions\", \"500\")\n",
    "         .config(\"spark.driver.memory\", \"30g\")\n",
    "         .config(\"spark.driver.maxResultSize\", \"8g\")\n",
    "         .getOrCreate())"
   ]
  },
  {
   "cell_type": "code",
   "execution_count": null,
   "id": "80b7cf35da0f9584",
   "metadata": {},
   "outputs": [],
   "source": [
    "base_path = \"/data/saturation/thesis_run_20240726\""
   ]
  },
  {
   "cell_type": "code",
   "execution_count": null,
   "id": "c3bcbc63cca633de",
   "metadata": {},
   "outputs": [],
   "source": [
    "configs_df = create_configs_df(read_configs(base_path, spark))\n",
    "configs_pdf = configs_df.toPandas()"
   ]
  },
  {
   "cell_type": "code",
   "execution_count": null,
   "id": "ec492144cfda3e62",
   "metadata": {},
   "outputs": [],
   "source": [
    "# For stats, select only fields we care about, alias them\n",
    "sample_percent = 0.125\n",
    "\n",
    "data = spark.read.parquet(f\"{base_path}/*/statistics_*.parquet\")\n",
    "data = data.sample(sample_percent).select(\n",
    "    \"simulation_id\",\n",
    "    \"ntot\",\n",
    "    \"nobs\",\n",
    "    \"mnnd\",\n",
    "    \"z\",\n",
    "    \"za\",\n",
    "    \"radius_mean\",\n",
    "    \"radius_stdev\",\n",
    "    F.col(\"areal_density\").alias(\"ad\"),\n",
    "    F.log10(\"mnnd\").alias(\"log_mnnd\"),\n",
    "    F.log10(\"nobs\").alias(\"log_nobs\"),\n",
    "    F.log10(\"ntot\").alias(\"log_ntot\"),\n",
    ")\n",
    "\n",
    "# Join with configs to get simulation parameters\n",
    "data_joined = join_configs(data, configs_df, spark).select(\n",
    "    *data.columns,\n",
    "    \"simulation_id\",\n",
    "    F.col(\"slope\").alias(\"b\"),\n",
    "    \"mrp\",\n",
    "    \"erat\",\n",
    "    \"rmult\",\n",
    ")\n",
    "\n",
    "data = data_joined.sort(F.rand()).cache()"
   ]
  },
  {
   "cell_type": "code",
   "execution_count": null,
   "id": "3b07f47be7a60330",
   "metadata": {},
   "outputs": [],
   "source": [
    "configs_dict = dict()\n",
    "for config_file in glob.glob(f\"{base_path}/config/config_*.yaml\"):\n",
    "    for run_config in read_config(Path(config_file))[\"run_configurations\"]:\n",
    "        configs_dict.update(run_config)"
   ]
  },
  {
   "cell_type": "code",
   "execution_count": null,
   "id": "d511b723f7ec4554",
   "metadata": {},
   "outputs": [],
   "source": [
    "min_b = round(data.select(F.min(\"b\")).collect()[0][0], 2)\n",
    "max_b = round(data.select(F.max(\"b\")).collect()[0][0], 2)\n",
    "min_b, max_b"
   ]
  },
  {
   "cell_type": "markdown",
   "id": "200e118f00b32256",
   "metadata": {},
   "source": [
    "## Plots of each variable by ntot"
   ]
  },
  {
   "cell_type": "markdown",
   "id": "b7db4342814d25ff",
   "metadata": {},
   "source": [
    "### Nobs vs ntot"
   ]
  },
  {
   "cell_type": "code",
   "execution_count": null,
   "id": "382e02e111f6dc9",
   "metadata": {},
   "outputs": [],
   "source": [
    "def plot_overall(\n",
    "    *,\n",
    "    data: DataFrame,\n",
    "    x_var: str,\n",
    "    x_label: str,\n",
    "    y_var: str,\n",
    "    y_label: str,\n",
    "    fig_name: str,\n",
    "    x_axis_range: Tuple[float, float]=None,\n",
    "    y_axis_range: Tuple[float, float]=None,\n",
    "    n_target: int=None,\n",
    "    color_by_var: str=None,\n",
    "    color_by_label: str=None,\n",
    "    color_bar_min: float=0.0,\n",
    "    color_bar_max: float=0.0,\n",
    "    min_ntot: int=100,\n",
    "    title: str=None\n",
    "):\n",
    "    FONT_SIZE = 16\n",
    "    FIGURE_SIZE = (8, 4)\n",
    "\n",
    "    select_list = [x_var, y_var]\n",
    "    if color_by_var:\n",
    "        select_list.append(color_by_var)\n",
    "    df_subset_spark = (\n",
    "        data.where(F.col(\"ntot\") > min_ntot)\n",
    "            .select(*select_list)\n",
    "    )\n",
    "    if n_target:\n",
    "        subset_sample_fraction = n_target / df_subset_spark.count()\n",
    "        df_subset = df_subset_spark.sample(subset_sample_fraction).toPandas()\n",
    "    else:\n",
    "        df_subset = df_subset_spark.toPandas()\n",
    "    \n",
    "    fig = plt.figure(figsize=FIGURE_SIZE)\n",
    "    ax = fig.add_subplot(111)\n",
    "\n",
    "    if x_axis_range:\n",
    "        ax.set_xlim(x_axis_range)\n",
    "\n",
    "    if y_axis_range:\n",
    "        ax.set_ylim(y_axis_range)\n",
    "\n",
    "    if title:\n",
    "        ax.set_title(title)\n",
    "\n",
    "    ax.scatter(\n",
    "        df_subset[x_var],\n",
    "        df_subset[y_var],\n",
    "        s=.25,\n",
    "        c=df_subset[color_by_var] if color_by_var else None\n",
    "    )\n",
    "\n",
    "    if color_by_label:\n",
    "        sm = plt.cm.ScalarMappable(cmap=plt.colormaps[\"cividis\"])\n",
    "        cbar = plt.colorbar(sm, ax=ax)\n",
    "        cbar.set_label(label=color_by_label, size=FONT_SIZE)\n",
    "        sm.set_clim(vmin=color_bar_min, vmax=color_bar_max)\n",
    "    \n",
    "    ax.set_xlabel(x_label, fontsize=FONT_SIZE)\n",
    "    ax.set_ylabel(y_label, fontsize=FONT_SIZE)\n",
    "\n",
    "    plt.savefig(f\"figures/{fig_name}.png\")\n",
    "    plt.show()\n",
    "\n",
    "    return ax, fig"
   ]
  },
  {
   "cell_type": "code",
   "execution_count": null,
   "id": "db0f5bd10f5c55b",
   "metadata": {},
   "outputs": [],
   "source": [
    "data.limit(10).toPandas()"
   ]
  },
  {
   "cell_type": "code",
   "execution_count": null,
   "id": "a313164d576acf65",
   "metadata": {},
   "outputs": [],
   "source": [
    "_ = plot_overall(\n",
    "    data=data,\n",
    "    n_target=50000,\n",
    "    x_var=\"nobs\",\n",
    "    x_label=\"$N_{obs}$\",\n",
    "    y_var=\"ntot\",\n",
    "    y_label=\"$N_{tot}$\",\n",
    "    fig_name=\"nobs_by_ntot_overall\",\n",
    "    color_by_var=\"b\",\n",
    "    color_by_label=\"$b$\",\n",
    "    color_bar_min=min_b,\n",
    "    color_bar_max=max_b\n",
    ")"
   ]
  },
  {
   "cell_type": "code",
   "execution_count": null,
   "id": "d7d2c9babe103435",
   "metadata": {},
   "outputs": [],
   "source": [
    "_ = plot_overall(\n",
    "    data=data,\n",
    "    n_target=50000,\n",
    "    x_var=\"log_nobs\",\n",
    "    x_label=\"$log_{10}(N_{obs})$\",\n",
    "    x_axis_range=(2.0, 4.5),\n",
    "    y_var=\"log_ntot\",\n",
    "    y_label=\"$log_{10}(N_{tot})$\",\n",
    "    y_axis_range=(2.0, 5.7),\n",
    "    fig_name=\"log_nobs_by_log_ntot_overall\",\n",
    "    color_by_var=\"b\",\n",
    "    color_by_label=\"$b$\",\n",
    "    color_bar_min=min_b,\n",
    "    color_bar_max=max_b\n",
    ")"
   ]
  },
  {
   "cell_type": "code",
   "execution_count": null,
   "id": "24d8bd4f61ab791f",
   "metadata": {},
   "outputs": [],
   "source": [
    "steps = 15\n",
    "b_delta = (max_b - min_b) / steps\n",
    "b_ranges = [\n",
    "    (min_b + x * b_delta, min_b + (x + 1) * b_delta)\n",
    "    for x in range(steps)\n",
    "]\n",
    "\n",
    "for low, high in b_ranges:\n",
    "    print((low, high))\n",
    "    _ = plot_overall(\n",
    "        data=data.where(F.col(\"b\").between(low, high)),\n",
    "        n_target=15000,\n",
    "        x_var=\"log_nobs\",\n",
    "        x_label=\"$log_{10}(N_{obs})$\",\n",
    "        x_axis_range=(2.0, 4.5),\n",
    "        y_var=\"log_ntot\",\n",
    "        y_label=\"$log_{10}(N_{tot})$\",\n",
    "        y_axis_range=(2.0, 5.7),\n",
    "        fig_name=f\"log_nobs_by_log_ntot_b_{low:.1f}_{high:.1f}\",\n",
    "        color_by_var=\"erat\",\n",
    "        color_by_label=\"$E_{rat}$\",\n",
    "        color_bar_min=3.0,\n",
    "        color_bar_max=15.0,\n",
    "    )"
   ]
  },
  {
   "cell_type": "code",
   "execution_count": null,
   "id": "8d262cb1712b5144",
   "metadata": {},
   "outputs": [],
   "source": []
  },
  {
   "cell_type": "markdown",
   "id": "1116e0d31aff178c",
   "metadata": {},
   "source": [
    "### Nobs vs mnnd"
   ]
  },
  {
   "cell_type": "code",
   "execution_count": null,
   "id": "f24c142b540bcff3",
   "metadata": {},
   "outputs": [],
   "source": [
    "_ = plot_overall(\n",
    "    data=data,\n",
    "    n_target=50000,\n",
    "    x_var=\"mnnd\",\n",
    "    x_label=\"$\\\\overline{NN}_d$\",\n",
    "    y_var=\"ntot\",\n",
    "    y_label=\"$N_{tot}$\",\n",
    "    fig_name=\"mnnd_by_ntot_overall\",\n",
    "    color_by_var=\"b\",\n",
    "    color_by_label=\"$b$\",\n",
    "    color_bar_min=min_b,\n",
    "    color_bar_max=max_b\n",
    ")"
   ]
  },
  {
   "cell_type": "code",
   "execution_count": null,
   "id": "9f6de02522c42fcf",
   "metadata": {},
   "outputs": [],
   "source": [
    "_ = plot_overall(\n",
    "    data=data,\n",
    "    n_target=50000,\n",
    "    x_var=\"log_mnnd\",\n",
    "    x_label=\"$log_{10}(\\\\overline{NN}_d)$\",\n",
    "    y_var=\"log_ntot\",\n",
    "    y_label=\"$log_{10}(N_{tot})$\",\n",
    "    fig_name=\"log_mnnd_by_log_ntot_overall\",\n",
    "    color_by_var=\"b\",\n",
    "    color_by_label=\"$b$\",\n",
    "    color_bar_min=min_b,\n",
    "    color_bar_max=max_b\n",
    ")"
   ]
  },
  {
   "cell_type": "code",
   "execution_count": null,
   "id": "fcb0834af8537c60",
   "metadata": {},
   "outputs": [],
   "source": [
    "steps = 15\n",
    "b_delta = (max_b - min_b) / steps\n",
    "b_ranges = [\n",
    "    (min_b + x * b_delta, min_b + (x + 1) * b_delta)\n",
    "    for x in range(steps)\n",
    "]\n",
    "\n",
    "for low, high in b_ranges:\n",
    "    print((low, high))\n",
    "    _ = plot_overall(\n",
    "        data=data.where(F.col(\"b\").between(low, high)),\n",
    "        n_target=50000,\n",
    "        x_var=\"log_mnnd\",\n",
    "        x_label=\"$log_{10}(\\\\overline{NN}_d)$\",\n",
    "        x_axis_range=(0.8, 2.1),\n",
    "        y_var=\"log_ntot\",\n",
    "        y_label=\"$log_{10}(N_{tot})$\",\n",
    "        y_axis_range=(2.0, 5.6),\n",
    "        fig_name=f\"log_mnnd_by_log_ntot_b_{low:.1f}_{high:.1f}\",\n",
    "        color_by_var=\"erat\",\n",
    "        color_by_label=\"$E_{rat}$\",\n",
    "        color_bar_min=3.0,\n",
    "        color_bar_max=15.0,\n",
    "    )"
   ]
  },
  {
   "cell_type": "code",
   "execution_count": null,
   "id": "db373c80ffeeedff",
   "metadata": {},
   "outputs": [],
   "source": []
  },
  {
   "cell_type": "markdown",
   "id": "3595153b58caa911",
   "metadata": {},
   "source": [
    "### Z and ZA by ntot"
   ]
  },
  {
   "cell_type": "code",
   "execution_count": null,
   "id": "8af525c93060d768",
   "metadata": {},
   "outputs": [],
   "source": [
    "_ = plot_overall(\n",
    "    data=data,\n",
    "    n_target=50000,\n",
    "    x_var=\"ntot\",\n",
    "    x_label=\"$N_{tot}$\",\n",
    "    y_var=\"z\",\n",
    "    y_label=\"$Z$\",\n",
    "    fig_name=\"z_by_ntot_overall\",\n",
    "    color_by_var=\"b\",\n",
    "    color_by_label=\"$b$\",\n",
    "    color_bar_min=min_b,\n",
    "    color_bar_max=max_b\n",
    ")"
   ]
  },
  {
   "cell_type": "code",
   "execution_count": null,
   "id": "4479464edee667af",
   "metadata": {},
   "outputs": [],
   "source": [
    "steps = 15\n",
    "b_delta = (max_b - min_b) / steps\n",
    "b_ranges = [\n",
    "    (min_b + x * b_delta, min_b + (x + 1) * b_delta)\n",
    "    for x in range(steps)\n",
    "]\n",
    "\n",
    "for low, high in b_ranges:\n",
    "    print((low, high))\n",
    "    _ = plot_overall(\n",
    "        data=data.where(F.col(\"b\").between(low, high)),\n",
    "        n_target=50000,\n",
    "        x_var=\"ntot\",\n",
    "        x_label=\"$N_{tot}$\",\n",
    "        # x_axis_range=(0, 200000),\n",
    "        y_var=\"z\",\n",
    "        y_label=\"$Z$\",\n",
    "        # y_axis_range=(-15, 30),\n",
    "        fig_name=f\"z_by_ntot_b_{low:.1f}_{high:.1f}\",\n",
    "        # color_by_var=\"mrp\",\n",
    "        # color_by_label=\"$M_r$\",\n",
    "        # color_bar_min=0.25,\n",
    "        # color_bar_max=0.75\n",
    "        color_by_var=\"erat\",\n",
    "        color_by_label=\"$E_{rat}$\",\n",
    "        color_bar_min=3.0,\n",
    "        color_bar_max=15.0,\n",
    "    )"
   ]
  },
  {
   "cell_type": "code",
   "execution_count": null,
   "id": "b22340daa2593d0d",
   "metadata": {},
   "outputs": [],
   "source": [
    "_ = plot_overall(\n",
    "    data=data,\n",
    "    n_target=50000,\n",
    "    x_var=\"ntot\",\n",
    "    x_label=\"$N_{tot}$\",\n",
    "    y_var=\"za\",\n",
    "    y_label=\"$Z_a$\",\n",
    "    fig_name=\"za_by_ntot_overall\",\n",
    "    color_by_var=\"b\",\n",
    "    color_by_label=\"$b$\",\n",
    "    color_bar_min=min_b,\n",
    "    color_bar_max=max_b\n",
    ")"
   ]
  },
  {
   "cell_type": "code",
   "execution_count": null,
   "id": "383d47a6b037db31",
   "metadata": {},
   "outputs": [],
   "source": [
    "steps = 15\n",
    "b_delta = (max_b - min_b) / steps\n",
    "b_ranges = [\n",
    "    (min_b + x * b_delta, min_b + (x + 1) * b_delta)\n",
    "    for x in range(steps)\n",
    "]\n",
    "\n",
    "for low, high in b_ranges:\n",
    "    print((low, high))\n",
    "    _ = plot_overall(\n",
    "        data=data.where(F.col(\"b\").between(low, high)),\n",
    "        n_target=50000,\n",
    "        x_var=\"ntot\",\n",
    "        x_label=\"$N_{tot}$\",\n",
    "        # x_axis_range=(0, 200000),\n",
    "        y_var=\"za\",\n",
    "        y_label=\"$Z_a$\",\n",
    "        # y_axis_range=(0, 500),\n",
    "        fig_name=f\"za_by_ntot_b_{low:.1f}_{high:.1f}\",\n",
    "        color_by_var=\"erat\",\n",
    "        color_by_label=\"$E_{rat}$\",\n",
    "        color_bar_min=3.0,\n",
    "        color_bar_max=15.0,\n",
    "    )"
   ]
  },
  {
   "cell_type": "code",
   "execution_count": null,
   "id": "3a1f2057018077d8",
   "metadata": {},
   "outputs": [],
   "source": []
  },
  {
   "cell_type": "markdown",
   "id": "937f8d0015cfcbef",
   "metadata": {},
   "source": [
    "### AD by ntot"
   ]
  },
  {
   "cell_type": "code",
   "execution_count": null,
   "id": "97db514ba5453141",
   "metadata": {},
   "outputs": [],
   "source": [
    "_ = plot_overall(\n",
    "    data=data,\n",
    "    n_target=50000,\n",
    "    x_var=\"log_ntot\",\n",
    "    x_label=\"$log_{10}(N_{tot})$\",\n",
    "    y_var=\"ad\",\n",
    "    y_label=\"$A_d$\",\n",
    "    fig_name=\"ad_by_log_ntot_overall_rmult\",\n",
    "    color_by_var=\"rmult\",\n",
    "    color_by_label=\"$b$\",\n",
    "    color_bar_min=1.1,\n",
    "    color_bar_max=1.9\n",
    ")"
   ]
  },
  {
   "cell_type": "code",
   "execution_count": null,
   "id": "4fed2412cab4ad1f",
   "metadata": {},
   "outputs": [],
   "source": [
    "_ = plot_overall(\n",
    "    data=data,\n",
    "    n_target=50000,\n",
    "    x_var=\"log_ntot\",\n",
    "    x_label=\"$log_{10}(N_{tot})$\",\n",
    "    y_var=\"ad\",\n",
    "    y_label=\"$A_d$\",\n",
    "    fig_name=\"ad_by_log_ntot_overall_mrp\",\n",
    "    color_by_var=\"mrp\",\n",
    "    color_by_label=\"$M_r$\",\n",
    "    color_bar_min=0.25,\n",
    "    color_bar_max=0.75\n",
    ")"
   ]
  },
  {
   "cell_type": "code",
   "execution_count": null,
   "id": "6f5ef0fc3c6fb36f",
   "metadata": {},
   "outputs": [],
   "source": []
  },
  {
   "cell_type": "code",
   "execution_count": null,
   "id": "5c29e3e5bfe08855",
   "metadata": {},
   "outputs": [],
   "source": [
    "_ = plot_overall(\n",
    "    data=data,\n",
    "    n_target=50000,\n",
    "    x_var=\"log_ntot\",\n",
    "    x_label=\"$log_{10}(N_{tot})$\",\n",
    "    y_var=\"ad\",\n",
    "    y_label=\"$A_d$\",\n",
    "    fig_name=\"ad_by_log_ntot_overall_mrp\",\n",
    "    color_by_var=\"mrp\",\n",
    "    color_by_label=\"$M_r$\",\n",
    "    color_bar_min=0.25,\n",
    "    color_bar_max=0.75\n",
    ")"
   ]
  },
  {
   "cell_type": "code",
   "execution_count": null,
   "id": "350d3e0de8206f97",
   "metadata": {},
   "outputs": [],
   "source": []
  },
  {
   "cell_type": "markdown",
   "id": "a2ae738d9a4ca915",
   "metadata": {},
   "source": [
    "## Radius mean by ntot"
   ]
  },
  {
   "cell_type": "code",
   "execution_count": null,
   "id": "ffa693e761251ca1",
   "metadata": {},
   "outputs": [],
   "source": [
    "variable = \"radius_mean\"\n",
    "\n",
    "_ = plot_overall(\n",
    "    data=data,\n",
    "    n_target=50000,\n",
    "    y_var=variable,\n",
    "    y_label=\"$\\\\overline{r}$\",\n",
    "    x_var=\"log_ntot\",\n",
    "    x_label=\"$N_{tot}$\",\n",
    "    fig_name=f\"{variable}_by_ntot_overall\",\n",
    "    color_by_var=\"b\",\n",
    "    color_by_label=\"$b$\",\n",
    "    color_bar_min=min_b,\n",
    "    color_bar_max=max_b\n",
    ")"
   ]
  },
  {
   "cell_type": "code",
   "execution_count": null,
   "id": "6b4757de636b25f4",
   "metadata": {},
   "outputs": [],
   "source": []
  },
  {
   "cell_type": "markdown",
   "id": "38bf01def03ac369",
   "metadata": {},
   "source": [
    "## Radius stdev by ntot"
   ]
  },
  {
   "cell_type": "code",
   "execution_count": null,
   "id": "479dd1bd7b1f4327",
   "metadata": {},
   "outputs": [],
   "source": [
    "variable = \"radius_stdev\"\n",
    "\n",
    "_ = plot_overall(\n",
    "    data=data,\n",
    "    n_target=50000,\n",
    "    y_var=variable,\n",
    "    y_label=\"$\\\\sigma_r$\",\n",
    "    x_var=\"log_ntot\",\n",
    "    x_label=\"$N_{tot}$\",\n",
    "    fig_name=f\"{variable}_by_ntot_overall\",\n",
    "    color_by_var=\"b\",\n",
    "    color_by_label=\"$b$\",\n",
    "    color_bar_min=min_b,\n",
    "    color_bar_max=max_b\n",
    ")"
   ]
  },
  {
   "cell_type": "code",
   "execution_count": null,
   "id": "df2e6ce7ae1630e",
   "metadata": {},
   "outputs": [],
   "source": [
    "_ = plot_overall(\n",
    "    data=data.where(F.col(\"b\") < -2.01).where(F.col(\"ntot\") > 0),\n",
    "    n_target=5000,\n",
    "    y_var=\"radius_stdev\",\n",
    "    y_label=\"$\\\\sigma_r$\",\n",
    "    x_var=\"b\",\n",
    "    x_label=\"$b$\",\n",
    "    fig_name=f\"delete_me\",\n",
    "    # color_by_var=\"log_ntot\",\n",
    "    # color_by_label=\"$N_{tot}$\",\n",
    "    # color_bar_min=data.select(F.min(\"log_ntot\")).collect()[0][0],\n",
    "    # color_bar_max=data.select(F.max(\"log_ntot\")).collect()[0][0]\n",
    ")"
   ]
  },
  {
   "cell_type": "code",
   "execution_count": null,
   "id": "eaa9b7e5d3cbe7a2",
   "metadata": {},
   "outputs": [],
   "source": [
    "data.sample(0.001).count()"
   ]
  },
  {
   "cell_type": "code",
   "execution_count": null,
   "id": "e50ffcd5b9445798",
   "metadata": {},
   "outputs": [],
   "source": [
    "_ = plot_overall(\n",
    "    data=data.withColumn(\"ir\", F.col(\"nobs\") / F.col(\"ntot\")).where(F.col(\"b\") < -2.01).where(F.col(\"ntot\") > 5000).where(F.col(\"ir\") > 0.5),\n",
    "    n_target=5000,\n",
    "    y_var=\"radius_mean\",\n",
    "    y_label=\"$\\\\overline{r}$\",\n",
    "    x_var=\"b\",\n",
    "    x_label=\"$b$\",\n",
    "    fig_name=f\"delete_me\",\n",
    "    color_by_var=\"ir\",\n",
    "    color_by_label=\"IR\",\n",
    "    color_bar_min=0.5,\n",
    "    color_bar_max=1.0\n",
    ")"
   ]
  },
  {
   "cell_type": "code",
   "execution_count": null,
   "id": "e293e24cb38e4bfd",
   "metadata": {},
   "outputs": [],
   "source": [
    "_ = plot_overall(\n",
    "    data=data.withColumn(\"ir\", F.col(\"nobs\") / F.col(\"ntot\")).where(F.col(\"b\") < -2.01).where(F.col(\"ntot\") > 5000).where(F.col(\"ir\") > 0.5),\n",
    "    n_target=50000,\n",
    "    y_var=\"radius_mean\",\n",
    "    y_label=\"$\\\\overline{r}$\",\n",
    "    x_var=\"b\",\n",
    "    x_label=\"$b$\",\n",
    "    fig_name=f\"delete_me\",\n",
    "    color_by_var=\"ir\",\n",
    "    color_by_label=\"IR\",\n",
    "    color_bar_min=0.5,\n",
    "    color_bar_max=1.0\n",
    ")"
   ]
  },
  {
   "cell_type": "code",
   "execution_count": null,
   "id": "b52ab8cb969f6d7b",
   "metadata": {},
   "outputs": [],
   "source": [
    "_ = plot_overall(\n",
    "    data=data,\n",
    "    n_target=50000,\n",
    "    y_var=\"radius_stdev\",\n",
    "    y_label=\"$\\\\sigma_r$\",\n",
    "    x_var=\"b\",\n",
    "    x_label=\"$b$\",\n",
    "    fig_name=f\"delete_me\",\n",
    "    color_by_var=\"log_ntot\",\n",
    "    color_by_label=\"$N_{tot}$\",\n",
    "    color_bar_min=data.select(F.min(\"log_ntot\")).collect()[0][0],\n",
    "    color_bar_max=data.select(F.max(\"log_ntot\")).collect()[0][0]\n",
    ")"
   ]
  },
  {
   "cell_type": "code",
   "execution_count": null,
   "id": "df82425d13b0bb33",
   "metadata": {},
   "outputs": [],
   "source": [
    "_ = plot_overall(\n",
    "    data=data[(data.b.between(-3.0, -2.8)) & (data.ntot < 1000)],\n",
    "    n_target=50000,\n",
    "    y_var=\"radius_stdev\",\n",
    "    y_label=\"$\\\\overline{r}$\",\n",
    "    x_var=\"ntot\",\n",
    "    x_label=\"$b$\",\n",
    "    fig_name=f\"delete_me\",\n",
    "    color_by_var=\"log_ntot\",\n",
    "    color_by_label=\"$N_{tot}$\",\n",
    "    color_bar_min=data.select(F.min(\"log_ntot\")).collect()[0][0],\n",
    "    color_bar_max=data.select(F.max(\"log_ntot\")).collect()[0][0]\n",
    ")"
   ]
  },
  {
   "cell_type": "code",
   "execution_count": null,
   "id": "ebecdb8943b11c46",
   "metadata": {},
   "outputs": [],
   "source": []
  }
 ],
 "metadata": {
  "kernelspec": {
   "display_name": "Python 3 (ipykernel)",
   "language": "python",
   "name": "python3"
  },
  "language_info": {
   "codemirror_mode": {
    "name": "ipython",
    "version": 3
   },
   "file_extension": ".py",
   "mimetype": "text/x-python",
   "name": "python",
   "nbconvert_exporter": "python",
   "pygments_lexer": "ipython3",
   "version": "3.12.5"
  }
 },
 "nbformat": 4,
 "nbformat_minor": 5
}
