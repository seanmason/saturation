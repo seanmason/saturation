{
 "cells": [
  {
   "cell_type": "code",
   "execution_count": 1,
   "id": "d91e79a9-e7af-4398-b4ae-faa6874d1b80",
   "metadata": {},
   "source": [
    "import pandas as pd\n",
    "import numpy as np\n",
    "import math\n",
    "\n",
    "from saturation.simulation import *\n",
    "from saturation.distributions import *\n",
    "from saturation.geometry import *\n",
    "from saturation.areal_density import *\n",
    "from sklearn.metrics.pairwise import euclidean_distances\n",
    "\n",
    "import matplotlib\n",
    "import matplotlib.pyplot as plt\n",
    "\n",
    "import plotly.express as px\n",
    "import plotly.io as pio\n",
    "\n",
    "from utils import *"
   ],
   "outputs": []
  },
  {
   "cell_type": "code",
   "execution_count": 2,
   "id": "2bb7f44e-fc11-4cf7-867d-a11a4b2995f8",
   "metadata": {},
   "source": [
    "def rotation_matrix(axis: List[float], theta: float):\n",
    "    \"\"\"\n",
    "    Return the rotation matrix associated with counterclockwise rotation about\n",
    "    the given axis by theta radians.\n",
    "    \"\"\"\n",
    "    axis = np.asarray(axis)\n",
    "    axis = axis / math.sqrt(np.dot(axis, axis))\n",
    "    a = math.cos(theta / 2.0)\n",
    "    b, c, d = -axis * math.sin(theta / 2.0)\n",
    "    aa, bb, cc, dd = a * a, b * b, c * c, d * d\n",
    "    bc, ad, ac, ab, bd, cd = b * c, a * d, a * c, a * b, b * d, c * d\n",
    "    return np.array([[aa + bb - cc - dd, 2 * (bc + ad), 2 * (bd - ac)],\n",
    "                     [2 * (bc - ad), aa + cc - bb - dd, 2 * (cd + ab)],\n",
    "                     [2 * (bd + ac), 2 * (cd - ab), aa + dd - bb - cc]])\n",
    "\n",
    "def rotate_points(p: List[float],\n",
    "                  axis: List[float],\n",
    "                  theta: float) -> np.array:\n",
    "    return np.matmul(np.array(p), rotation_matrix(axis, theta))\n",
    "\n",
    "\n",
    "def convert_lat_long_to_xyz(lat: pd.Series,\n",
    "                            long: pd.Series,\n",
    "                            planet_radius_km: float) -> pd.DataFrame:\n",
    "    \"\"\"\n",
    "    Latitude and longitude are expressed in degrees.\n",
    "    \"\"\"\n",
    "    lat = np.deg2rad(lat)\n",
    "    long = np.deg2rad(long)\n",
    "\n",
    "    result = pd.DataFrame({\n",
    "           \"x\": planet_radius_km * np.cos(lat) * np.cos(long),\n",
    "           \"y\": planet_radius_km * np.cos(lat) * np.sin(long),\n",
    "           \"z\": planet_radius_km * np.sin(lat)\n",
    "    })\n",
    "\n",
    "    return result\n",
    "\n",
    "\n",
    "def project_to_x_y(data: pd.DataFrame,\n",
    "                   planet_radius_km: float) -> pd.DataFrame:\n",
    "    \"\"\"\n",
    "    Diameters are assumed to be in meters.\n",
    "    \"\"\"\n",
    "    # Calculate r_stat as min diameter / 2\n",
    "    r_stat = data.d.min() / 2\n",
    "\n",
    "    # Convert from lat/long to x, y, z\n",
    "    xyz = convert_lat_long_to_xyz(data.latitude, data.longitude, planet_radius_km)\n",
    "    data[\"x\"] = xyz.x\n",
    "    data[\"y\"] = xyz.y\n",
    "    data[\"z\"] = xyz.z\n",
    "\n",
    "    # Rotate points so that the centroid of (x, y) is at 0, 0\n",
    "    coordinates = data[[\"x\", \"y\", \"z\"]].values\n",
    "    means = np.mean(coordinates, axis=0)\n",
    "    theta = -(math.pi / 2 - np.arctan(means[2] / means[1]))\n",
    "    p = rotate_points(coordinates, [1, 0, 0], theta)\n",
    "    means = rotate_points([means], [1, 0, 0], theta)[0]\n",
    "    \n",
    "    theta = -np.arctan(means[2] / means[0])\n",
    "    result = rotate_points(p, [0, 1, 0], theta)\n",
    "\n",
    "    data[\"x\"] = result[:, 1]\n",
    "    data[\"y\"] = result[:, 2]\n",
    "    data[\"z\"] = result[:, 0]\n",
    "\n",
    "    return data\n",
    "\n",
    "def calculate_log_mean_c2c_nn_dist(df_sub: pd.DataFrame,\n",
    "                                   df_all: pd.DataFrame,\n",
    "                                   planet_radius_km: float):\n",
    "    \"\"\"\n",
    "    Diameters are assumed to be in meters.\n",
    "    \"\"\"\n",
    "    # Label data inside/outside the study region\n",
    "    data_outside = df_all.merge(df_sub, indicator=True, how='outer').query('_merge==\"left_only\"').drop('_merge', axis=1)\n",
    "    data_outside[\"in_study_region\"] = 0\n",
    "    df_sub[\"in_study_region\"] = 1\n",
    "    data = pd.concat([data_outside, data_sub], axis=0)\n",
    "\n",
    "    data = project_to_x_y(data, planet_radius_km)\n",
    "\n",
    "    # Calculate all pairwise euclidean distances as a distance matrix\n",
    "    distances = euclidean_distances(data[[\"x\", \"y\"]], data[[\"x\", \"y\"]])\n",
    "\n",
    "    # Set diagonal to really large; we don't want these as zeros for the nearest neighbor distances\n",
    "    for x in range(distances.shape[0]):\n",
    "        distances[x, x] = 1e20\n",
    "\n",
    "    # Calculate r_stat as min diameter / 2\n",
    "    r_stat = data.d.min() / 2\n",
    "    \n",
    "    # Convert distances to units of a multiple of r-stat (meters)\n",
    "    distances = distances * 1000 / r_stat\n",
    "    \n",
    "    # Mean log10 center-to-center nearest neighbor distance, in units of r_stat\n",
    "    return np.log10(np.min(distances[data.index[data.in_study_region == 1]], axis=1)).mean()"
   ],
   "outputs": []
  },
  {
   "cell_type": "code",
   "execution_count": 3,
   "id": "f76b1687-8ed3-488e-acab-37f20121ccc6",
   "metadata": {},
   "source": [
    "def plot_circle(center: Location,\n",
    "                radius: float,\n",
    "                axes_subplot,\n",
    "                fill: bool = False,\n",
    "                color: str = 'black',\n",
    "                lw: float = 1,\n",
    "                antialiased: bool = True):\n",
    "    \"\"\"\n",
    "    Plots the specified circle on the supplied subplot.\n",
    "    \"\"\"\n",
    "    axes_subplot.add_patch(matplotlib.patches.Circle(center,\n",
    "                                                     radius=radius,\n",
    "                                                     color=color,\n",
    "                                                     fill=fill,\n",
    "                                                     lw=lw,\n",
    "                                                     antialiased=antialiased))\n",
    "\n",
    "def plot_terrain(data: pd.DataFrame):\n",
    "    x_range = data.x.max() - data.x.min()\n",
    "    y_range = data.y.max() - data.y.min()\n",
    "    xy_range = max(x_range, y_range)\n",
    "    \n",
    "    figsize = 5\n",
    "    fig, ax = plt.subplots(figsize=(figsize * x_range / xy_range, figsize * y_range / xy_range))\n",
    "\n",
    "    # x, y are in km, radius is in m, let's make them consistent\n",
    "    data = data.copy()\n",
    "    data[\"r\"] = data.d / 2 / 1000\n",
    "\n",
    "    # ax.set_xlim([data.x.min() - 15, data.x.min() + xy_range + 15])\n",
    "    # ax.set_ylim([data.y.min() - 15, data.y.min() + xy_range + 15])\n",
    "\n",
    "    ax.set_xlim([data.x.min() - 15, data.x.max() + 15])\n",
    "    ax.set_ylim([data.y.min() - 15, data.y.max() + 15])\n",
    "    \n",
    "    # Plot craters\n",
    "    for idx, row in data.iterrows():\n",
    "        plot_circle((row.x, row.y), row.r, ax)\n",
    "\n",
    "    plt.show()"
   ],
   "outputs": []
  },
  {
   "cell_type": "code",
   "execution_count": 4,
   "id": "48f3f03a-7c56-4ec9-b3ca-f59d61b6641b",
   "metadata": {},
   "source": [
    "\"\"\"\n",
    "reg1 = DEE, reg2 = DSP, reg3 = DICP, and reg4 = DDCP\n",
    "Results:\n",
    "Region 1 (DEE):\n",
    "    log_mean_c2c_nn_dist: 0.814\n",
    "    slope: -2.10 +/- 0.08\n",
    "    5th percentile=5098\n",
    "    95th percentile=249886\n",
    "\n",
    "Region 2 (DSP):\n",
    "    log_mean_c2c_nn_dist: 0.669\n",
    "    slope: -2.66 +/- 0.05\n",
    "    5th percentile=15609\n",
    "    95th percentile=248371\n",
    "\n",
    "Region 3 (DICP):\n",
    "    log_mean_c2c_nn_dist: 0.934\n",
    "    slope: -2.10 +/- 0.09\n",
    "    5th percentile=2822\n",
    "    95th percentile=147502\n",
    "\n",
    "Region 4 (DDC):\n",
    "    log_mean_c2c_nn_dist: 0.814\n",
    "    slope: -2.10\n",
    "    5th percentile=5098\n",
    "    95th percentile=249886\n",
    "\"\"\""
   ],
   "outputs": []
  },
  {
   "cell_type": "code",
   "execution_count": 5,
   "id": "4cd0d80d-8915-4ca3-ae31-e28ec1dac136",
   "metadata": {},
   "source": [
    "dione_radius_km = 561.4"
   ],
   "outputs": []
  },
  {
   "cell_type": "markdown",
   "id": "d4869f38-9358-4d72-975b-3608b9fd98c0",
   "metadata": {},
   "source": [
    "### Dione region 1: DEE"
   ]
  },
  {
   "cell_type": "code",
   "execution_count": 19,
   "id": "84083995-e86e-4e2b-81e4-e5aaf1d54a8a",
   "metadata": {},
   "source": [
    "data_sub = pd.read_csv(\"data/Dione_reg1-sub.csv\").rename({\"Diameter:double\": \"d\"}, axis=1)\n",
    "data_all = pd.read_csv(\"data/Dione_reg1-all.csv\").rename({\"Diameter:double\": \"d\"}, axis=1)\n",
    "\n",
    "log_mean_nn_dist = calculate_log_mean_c2c_nn_dist(data_sub, data_all, dione_radius_km)\n",
    "print(f\"log mean nn dist = {log_mean_nn_dist:.4f}\")\n",
    "\n",
    "data = project_to_x_y(data_sub, dione_radius_km)\n",
    "plot_terrain(data)"
   ],
   "outputs": []
  },
  {
   "cell_type": "code",
   "execution_count": 20,
   "id": "8fba4f61-f465-445b-8925-414de330e3d8",
   "metadata": {},
   "source": [
    "data_all.d.describe()"
   ],
   "outputs": []
  },
  {
   "cell_type": "code",
   "execution_count": 21,
   "id": "6a9addbe-8ab3-45be-92d5-9848b7db8397",
   "metadata": {},
   "source": [
    "# intensity:\n",
    "np.log10(data_sub.shape[0] / 102449 / (data_sub.d.min() / 1000) ** 2)"
   ],
   "outputs": []
  },
  {
   "cell_type": "code",
   "execution_count": 22,
   "id": "5d208159-8b8d-46e0-9324-a6302acd5f0d",
   "metadata": {},
   "source": [
    "data_all[\"radius\"] = data_all.d / 2\n",
    "slope, _ = estimate_cumulative_slope(data_all.radius * 2,\n",
    "                                     data_all.radius.min() * 2,\n",
    "                                     data_all.radius.quantile(0.9) * 2,\n",
    "                                     min_search_slope=0.0,\n",
    "                                     max_search_slope=10.0)\n",
    "intercept = estimate_intercept(data_all.radius, slope)\n",
    "print(f\"Estimated slope = {slope:.2f}, intercept = {intercept:.2f}\")\n",
    "plot_sfds(data_all, -slope, intercept=intercept)"
   ],
   "outputs": []
  },
  {
   "cell_type": "code",
   "execution_count": 25,
   "id": "8315d8fc-5102-41d9-a00d-ef5df0d8ed28",
   "metadata": {},
   "source": [
    "# Published slope\n",
    "published_slope = -2.10\n",
    "intercept = estimate_intercept(data_all.radius, published_slope)\n",
    "plot_sfds(data_all, -published_slope, intercept=intercept)"
   ],
   "outputs": []
  },
  {
   "cell_type": "code",
   "execution_count": null,
   "id": "3c2188bc-1166-4917-b850-cc1da7d375be",
   "metadata": {},
   "source": [],
   "outputs": []
  },
  {
   "cell_type": "markdown",
   "id": "89d8e70a-e501-406f-883b-b51cea3c8523",
   "metadata": {},
   "source": [
    "### Dione region 2: DSP"
   ]
  },
  {
   "cell_type": "code",
   "execution_count": 26,
   "id": "417724b0-ad1d-4fcc-9ceb-61b5332f7b80",
   "metadata": {},
   "source": [
    "data_sub = pd.read_csv(\"data/Dione_reg2-sub.csv\").rename({\"Diameter:double\": \"d\"}, axis=1)\n",
    "data_all = pd.read_csv(\"data/Dione_reg2-all.csv\").rename({\"Diameter:double\": \"d\"}, axis=1)\n",
    "\n",
    "log_mean_nn_dist = calculate_log_mean_c2c_nn_dist(data_sub, data_all, dione_radius_km)\n",
    "print(f\"log mean nn dist = {log_mean_nn_dist:.4f}\")\n",
    "\n",
    "data = project_to_x_y(data_sub, dione_radius_km)\n",
    "plot_terrain(data)"
   ],
   "outputs": []
  },
  {
   "cell_type": "code",
   "execution_count": 27,
   "id": "38d4c6b1-7fd8-4e2f-bf79-4abe9170eec2",
   "metadata": {},
   "source": [
    "data_all.d.describe()"
   ],
   "outputs": []
  },
  {
   "cell_type": "code",
   "execution_count": 28,
   "id": "1ec62262-7bca-42a5-bf0c-334072d75a6a",
   "metadata": {},
   "source": [
    "# intensity:\n",
    "np.log10(data_sub.shape[0] / 62647 / (data_sub.d.min() / 1000) ** 2)"
   ],
   "outputs": []
  },
  {
   "cell_type": "code",
   "execution_count": 29,
   "id": "279b0539-23de-4ad7-9d6e-c597464236c9",
   "metadata": {},
   "source": [
    "data_all[\"radius\"] = data_all.d / 2\n",
    "slope, _ = estimate_cumulative_slope(data_all.radius * 2,\n",
    "                                     data_all.radius.min() * 2,\n",
    "                                     data_all.radius.quantile(0.9) * 2,\n",
    "                                     min_search_slope=0.0,\n",
    "                                     max_search_slope=10.0)\n",
    "intercept = estimate_intercept(data_all.radius, slope)\n",
    "print(f\"Estimated slope = {slope:.2f}, intercept = {intercept:.2f}\")\n",
    "plot_sfds(data_all, -slope, intercept=intercept)"
   ],
   "outputs": []
  },
  {
   "cell_type": "code",
   "execution_count": 30,
   "id": "7108eb5f-31b4-4210-98dc-266c7f7622ac",
   "metadata": {},
   "source": [
    "# Published slope\n",
    "published_slope = -2.47\n",
    "intercept = estimate_intercept(data_all.radius, published_slope)\n",
    "plot_sfds(data_all, -published_slope, intercept=intercept)"
   ],
   "outputs": []
  },
  {
   "cell_type": "code",
   "execution_count": null,
   "id": "e17044f2-f687-421b-88dc-645c5451b547",
   "metadata": {},
   "source": [],
   "outputs": []
  },
  {
   "cell_type": "markdown",
   "id": "31a5b781-d663-49ff-98ab-39e2ae5dc4b2",
   "metadata": {},
   "source": [
    "## Dione region 3: DICP"
   ]
  },
  {
   "cell_type": "code",
   "execution_count": 31,
   "id": "4afd86e9-8fe4-41aa-9872-7bc67515bec6",
   "metadata": {},
   "source": [
    "data_sub = pd.read_csv(\"data/Dione_reg3-sub.csv\").rename({\"Diameter:double\": \"d\"}, axis=1)\n",
    "# data_sub = data_sub[data_sub.d > 4000]\n",
    "data_all = pd.read_csv(\"data/Dione_reg3-all.csv\").rename({\"Diameter:double\": \"d\"}, axis=1)\n",
    "# data_all = data_all[data_all.d > 4000]\n",
    "\n",
    "log_mean_nn_dist = calculate_log_mean_c2c_nn_dist(data_sub, data_all, dione_radius_km)\n",
    "print(f\"log mean nn dist = {log_mean_nn_dist:.4f}\")\n",
    "\n",
    "data = project_to_x_y(data_sub, dione_radius_km)\n",
    "plot_terrain(data)"
   ],
   "outputs": []
  },
  {
   "cell_type": "code",
   "execution_count": 32,
   "id": "4ef3a7fe-6537-479e-8b2e-3c523857ce26",
   "metadata": {},
   "source": [
    "data.d.hist(bins=20)"
   ],
   "outputs": []
  },
  {
   "cell_type": "code",
   "execution_count": 33,
   "id": "e62cfb4e-50cf-4151-82da-deb7b80c90cb",
   "metadata": {},
   "source": [
    "data_all.d.sort_values()"
   ],
   "outputs": []
  },
  {
   "cell_type": "code",
   "execution_count": 37,
   "id": "5af136c2-ffae-4738-ac72-862a4fab85df",
   "metadata": {},
   "source": [
    "data_all[\"radius\"] = data_all.d / 2\n",
    "slope, _ = estimate_cumulative_slope(data_all.radius * 2,\n",
    "                                     data_all.radius.min() * 2,\n",
    "                                     data_all.radius.quantile(0.95) * 2,\n",
    "                                     min_search_slope=0.0,\n",
    "                                     max_search_slope=10.0)\n",
    "intercept = estimate_intercept(data_all.radius, slope)\n",
    "print(f\"Estimated slope = {slope:.2f}, intercept = {intercept:.2f}\")\n",
    "plot_sfds(data_all, -slope, intercept=intercept)"
   ],
   "outputs": []
  },
  {
   "cell_type": "code",
   "execution_count": 35,
   "id": "02091d4d-6d08-4886-bf69-b64374b5f8e1",
   "metadata": {},
   "source": [
    "# Published slope\n",
    "published_slope = -2.08\n",
    "intercept = estimate_intercept(data_all.radius, published_slope)\n",
    "plot_sfds(data_all, -published_slope, intercept=intercept)"
   ],
   "outputs": []
  },
  {
   "cell_type": "code",
   "execution_count": null,
   "id": "50208b30-35c1-4fff-9a9f-43f11dcca2ee",
   "metadata": {},
   "source": [],
   "outputs": []
  },
  {
   "cell_type": "markdown",
   "id": "aaab0c7a-5f92-47e8-b339-093b6baf3d13",
   "metadata": {},
   "source": [
    "### Dione region 3: DICP, D_min > 4 km"
   ]
  },
  {
   "cell_type": "code",
   "execution_count": 45,
   "id": "b6217767-91a5-47fb-83f6-19c1923a31c5",
   "metadata": {},
   "source": [
    "data_sub = pd.read_csv(\"data/Dione_reg3-sub.csv\").rename({\"Diameter:double\": \"d\"}, axis=1)\n",
    "data_sub = data_sub[data_sub.d > 4000]\n",
    "data_all = pd.read_csv(\"data/Dione_reg3-all.csv\").rename({\"Diameter:double\": \"d\"}, axis=1)\n",
    "data_all = data_all[data_all.d > 4000]\n",
    "\n",
    "log_mean_nn_dist = calculate_log_mean_c2c_nn_dist(data_sub, data_all, dione_radius_km)\n",
    "print(f\"log mean nn dist = {log_mean_nn_dist:.4f}\")\n",
    "\n",
    "data = project_to_x_y(data_sub, dione_radius_km)\n",
    "plot_terrain(data)"
   ],
   "outputs": []
  },
  {
   "cell_type": "code",
   "execution_count": 46,
   "id": "568f79e8-1ea7-45d3-a221-1ea89a0e5d5e",
   "metadata": {},
   "source": [
    "data.d.hist(bins=20)"
   ],
   "outputs": []
  },
  {
   "cell_type": "code",
   "execution_count": 47,
   "id": "a83eee04-f318-4eef-aa33-d9a619c67cd1",
   "metadata": {},
   "source": [
    "data_all[\"radius\"] = data_all.d / 2\n",
    "slope, _ = estimate_cumulative_slope(data_all.radius * 2,\n",
    "                                     data_all.radius.min() * 2,\n",
    "                                     data_all.radius.quantile(0.95) * 2,\n",
    "                                     min_search_slope=0.0,\n",
    "                                     max_search_slope=10.0)\n",
    "intercept = estimate_intercept(data_all.radius, slope)\n",
    "print(f\"Estimated slope = {slope:.2f}, intercept = {intercept:.2f}\")\n",
    "plot_sfds(data_all, -slope, intercept=intercept)"
   ],
   "outputs": []
  },
  {
   "cell_type": "code",
   "execution_count": 48,
   "id": "53d1c309-23ec-466f-9ea2-556d4978c907",
   "metadata": {},
   "source": [
    "# Published slope\n",
    "published_slope = -2.08\n",
    "intercept = estimate_intercept(data_all.radius, published_slope)\n",
    "plot_sfds(data_all, -published_slope, intercept=intercept)"
   ],
   "outputs": []
  },
  {
   "cell_type": "code",
   "execution_count": null,
   "id": "d3d04108-4bcb-4e15-a78f-ec2180433b8b",
   "metadata": {},
   "source": [],
   "outputs": []
  },
  {
   "cell_type": "markdown",
   "id": "ea0107f6-2844-4ce5-bfbf-f0543a1e72bb",
   "metadata": {},
   "source": [
    "## Dione region 4: DDCP"
   ]
  },
  {
   "cell_type": "code",
   "execution_count": 49,
   "id": "563d08af-b4cd-445b-8d79-4393200a3202",
   "metadata": {},
   "source": [
    "data_sub = pd.read_csv(\"data/Dione_reg4-sub.csv\").rename({\"Diameter:double\": \"d\"}, axis=1)\n",
    "data_all = pd.read_csv(\"data/Dione_reg4-all.csv\").rename({\"Diameter:double\": \"d\"}, axis=1)\n",
    "\n",
    "log_mean_nn_dist = calculate_log_mean_c2c_nn_dist(data_sub, data_all, dione_radius_km)\n",
    "print(f\"log mean nn dist = {log_mean_nn_dist:.4f}\")\n",
    "\n",
    "data = project_to_x_y(data_sub, dione_radius_km)\n",
    "plot_terrain(data)"
   ],
   "outputs": []
  },
  {
   "cell_type": "code",
   "execution_count": 50,
   "id": "a0ae9bd9-70ae-4d8d-ad58-ba175fdda385",
   "metadata": {},
   "source": [
    "data_all.d.describe()"
   ],
   "outputs": []
  },
  {
   "cell_type": "code",
   "execution_count": 51,
   "id": "7d51711e-c3f6-49b9-a055-21562248ed4f",
   "metadata": {},
   "source": [
    "data_all[\"radius\"] = data_all.d / 2\n",
    "slope, _ = estimate_cumulative_slope(data_all.radius * 2,\n",
    "                                     data_all.radius.min() * 2,\n",
    "                                     data_all.radius.quantile(0.95) * 2,\n",
    "                                     min_search_slope=0.0,\n",
    "                                     max_search_slope=10.0)\n",
    "intercept = estimate_intercept(data_all.radius, slope)\n",
    "print(f\"Estimated slope = {slope:.2f}, intercept = {intercept:.2f}\")\n",
    "plot_sfds(data_all, -slope, intercept=intercept)"
   ],
   "outputs": []
  },
  {
   "cell_type": "code",
   "execution_count": 52,
   "id": "290330cc-1344-4bd0-8ef5-f2381d39c9a6",
   "metadata": {},
   "source": [
    "# Published slope\n",
    "published_slope = -2.15\n",
    "intercept = estimate_intercept(data_all.radius, published_slope)\n",
    "plot_sfds(data_all, -published_slope, intercept=intercept)"
   ],
   "outputs": []
  },
  {
   "cell_type": "code",
   "execution_count": null,
   "id": "58d178e1-36b4-4e6d-8efc-cdab8ebf8dfa",
   "metadata": {},
   "source": [],
   "outputs": []
  }
 ],
 "metadata": {
  "kernelspec": {
   "display_name": "Python 3 (ipykernel)",
   "language": "python",
   "name": "python3"
  },
  "language_info": {
   "codemirror_mode": {
    "name": "ipython",
    "version": 3
   },
   "file_extension": ".py",
   "mimetype": "text/x-python",
   "name": "python",
   "nbconvert_exporter": "python",
   "pygments_lexer": "ipython3",
   "version": "3.11.8"
  }
 },
 "nbformat": 4,
 "nbformat_minor": 5
}
