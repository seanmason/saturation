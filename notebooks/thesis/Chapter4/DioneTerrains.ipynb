{
 "cells": [
  {
   "cell_type": "code",
   "execution_count": 41,
   "id": "d91e79a9-e7af-4398-b4ae-faa6874d1b80",
   "metadata": {},
   "outputs": [],
   "source": [
    "import pandas as pd\n",
    "import numpy as np\n",
    "import math\n",
    "\n",
    "from saturation.simulation import *\n",
    "from saturation.distributions import *\n",
    "from saturation.geometry import *\n",
    "from saturation.areal_density import *\n",
    "\n",
    "import matplotlib.pyplot as plt\n",
    "\n",
    "import plotly.express as px\n",
    "import plotly.io as pio"
   ]
  },
  {
   "cell_type": "code",
   "execution_count": 284,
   "id": "85b68dda-c317-4b0e-bc56-9b774caee44e",
   "metadata": {},
   "outputs": [],
   "source": [
    "data = pd.read_csv(\"data/Dione_reg1-sub.csv\")\n",
    "data = data.rename({\"Diameter:double\": \"d\"}, axis=1)"
   ]
  },
  {
   "cell_type": "code",
   "execution_count": 285,
   "id": "c9ea7b63-5d54-43e4-bb07-50a5124793f7",
   "metadata": {},
   "outputs": [
    {
     "data": {
      "text/html": [
       "<div>\n",
       "<style scoped>\n",
       "    .dataframe tbody tr th:only-of-type {\n",
       "        vertical-align: middle;\n",
       "    }\n",
       "\n",
       "    .dataframe tbody tr th {\n",
       "        vertical-align: top;\n",
       "    }\n",
       "\n",
       "    .dataframe thead th {\n",
       "        text-align: right;\n",
       "    }\n",
       "</style>\n",
       "<table border=\"1\" class=\"dataframe\">\n",
       "  <thead>\n",
       "    <tr style=\"text-align: right;\">\n",
       "      <th></th>\n",
       "      <th>longitude</th>\n",
       "      <th>latitude</th>\n",
       "      <th>d</th>\n",
       "    </tr>\n",
       "  </thead>\n",
       "  <tbody>\n",
       "    <tr>\n",
       "      <th>0</th>\n",
       "      <td>233.37000</td>\n",
       "      <td>-26.77000</td>\n",
       "      <td>20380.024240</td>\n",
       "    </tr>\n",
       "    <tr>\n",
       "      <th>1</th>\n",
       "      <td>210.56000</td>\n",
       "      <td>-46.29000</td>\n",
       "      <td>20038.071640</td>\n",
       "    </tr>\n",
       "    <tr>\n",
       "      <th>2</th>\n",
       "      <td>237.50999</td>\n",
       "      <td>-47.86000</td>\n",
       "      <td>17844.648980</td>\n",
       "    </tr>\n",
       "    <tr>\n",
       "      <th>3</th>\n",
       "      <td>205.03999</td>\n",
       "      <td>-35.39000</td>\n",
       "      <td>15376.213600</td>\n",
       "    </tr>\n",
       "    <tr>\n",
       "      <th>4</th>\n",
       "      <td>207.62000</td>\n",
       "      <td>-46.39000</td>\n",
       "      <td>15351.962300</td>\n",
       "    </tr>\n",
       "    <tr>\n",
       "      <th>...</th>\n",
       "      <td>...</td>\n",
       "      <td>...</td>\n",
       "      <td>...</td>\n",
       "    </tr>\n",
       "    <tr>\n",
       "      <th>60</th>\n",
       "      <td>255.25000</td>\n",
       "      <td>-41.27000</td>\n",
       "      <td>4116.000000</td>\n",
       "    </tr>\n",
       "    <tr>\n",
       "      <th>61</th>\n",
       "      <td>221.00999</td>\n",
       "      <td>-29.04000</td>\n",
       "      <td>4020.551600</td>\n",
       "    </tr>\n",
       "    <tr>\n",
       "      <th>62</th>\n",
       "      <td>207.25000</td>\n",
       "      <td>-40.51000</td>\n",
       "      <td>4005.566724</td>\n",
       "    </tr>\n",
       "    <tr>\n",
       "      <th>63</th>\n",
       "      <td>215.31235</td>\n",
       "      <td>-26.23246</td>\n",
       "      <td>21256.495028</td>\n",
       "    </tr>\n",
       "    <tr>\n",
       "      <th>64</th>\n",
       "      <td>216.75209</td>\n",
       "      <td>-27.30109</td>\n",
       "      <td>19798.815878</td>\n",
       "    </tr>\n",
       "  </tbody>\n",
       "</table>\n",
       "<p>65 rows × 3 columns</p>\n",
       "</div>"
      ],
      "text/plain": [
       "    longitude  latitude             d\n",
       "0   233.37000 -26.77000  20380.024240\n",
       "1   210.56000 -46.29000  20038.071640\n",
       "2   237.50999 -47.86000  17844.648980\n",
       "3   205.03999 -35.39000  15376.213600\n",
       "4   207.62000 -46.39000  15351.962300\n",
       "..        ...       ...           ...\n",
       "60  255.25000 -41.27000   4116.000000\n",
       "61  221.00999 -29.04000   4020.551600\n",
       "62  207.25000 -40.51000   4005.566724\n",
       "63  215.31235 -26.23246  21256.495028\n",
       "64  216.75209 -27.30109  19798.815878\n",
       "\n",
       "[65 rows x 3 columns]"
      ]
     },
     "execution_count": 285,
     "metadata": {},
     "output_type": "execute_result"
    }
   ],
   "source": [
    "data"
   ]
  },
  {
   "cell_type": "code",
   "execution_count": 286,
   "id": "4c253948-7e3a-4886-bfcf-8b1b30876330",
   "metadata": {},
   "outputs": [
    {
     "data": {
      "text/html": [
       "<div>\n",
       "<style scoped>\n",
       "    .dataframe tbody tr th:only-of-type {\n",
       "        vertical-align: middle;\n",
       "    }\n",
       "\n",
       "    .dataframe tbody tr th {\n",
       "        vertical-align: top;\n",
       "    }\n",
       "\n",
       "    .dataframe thead th {\n",
       "        text-align: right;\n",
       "    }\n",
       "</style>\n",
       "<table border=\"1\" class=\"dataframe\">\n",
       "  <thead>\n",
       "    <tr style=\"text-align: right;\">\n",
       "      <th></th>\n",
       "      <th>longitude</th>\n",
       "      <th>latitude</th>\n",
       "      <th>d</th>\n",
       "    </tr>\n",
       "  </thead>\n",
       "  <tbody>\n",
       "    <tr>\n",
       "      <th>count</th>\n",
       "      <td>65.000000</td>\n",
       "      <td>65.000000</td>\n",
       "      <td>65.000000</td>\n",
       "    </tr>\n",
       "    <tr>\n",
       "      <th>mean</th>\n",
       "      <td>230.824991</td>\n",
       "      <td>-38.474824</td>\n",
       "      <td>7735.949291</td>\n",
       "    </tr>\n",
       "    <tr>\n",
       "      <th>std</th>\n",
       "      <td>18.183547</td>\n",
       "      <td>7.556247</td>\n",
       "      <td>4463.778127</td>\n",
       "    </tr>\n",
       "    <tr>\n",
       "      <th>min</th>\n",
       "      <td>203.810000</td>\n",
       "      <td>-60.940000</td>\n",
       "      <td>4005.566724</td>\n",
       "    </tr>\n",
       "    <tr>\n",
       "      <th>25%</th>\n",
       "      <td>213.840000</td>\n",
       "      <td>-43.860000</td>\n",
       "      <td>4746.227622</td>\n",
       "    </tr>\n",
       "    <tr>\n",
       "      <th>50%</th>\n",
       "      <td>231.370000</td>\n",
       "      <td>-37.440000</td>\n",
       "      <td>5540.056816</td>\n",
       "    </tr>\n",
       "    <tr>\n",
       "      <th>75%</th>\n",
       "      <td>246.420000</td>\n",
       "      <td>-32.490000</td>\n",
       "      <td>9205.847600</td>\n",
       "    </tr>\n",
       "    <tr>\n",
       "      <th>max</th>\n",
       "      <td>271.310000</td>\n",
       "      <td>-26.232460</td>\n",
       "      <td>21256.495028</td>\n",
       "    </tr>\n",
       "  </tbody>\n",
       "</table>\n",
       "</div>"
      ],
      "text/plain": [
       "        longitude   latitude             d\n",
       "count   65.000000  65.000000     65.000000\n",
       "mean   230.824991 -38.474824   7735.949291\n",
       "std     18.183547   7.556247   4463.778127\n",
       "min    203.810000 -60.940000   4005.566724\n",
       "25%    213.840000 -43.860000   4746.227622\n",
       "50%    231.370000 -37.440000   5540.056816\n",
       "75%    246.420000 -32.490000   9205.847600\n",
       "max    271.310000 -26.232460  21256.495028"
      ]
     },
     "execution_count": 286,
     "metadata": {},
     "output_type": "execute_result"
    }
   ],
   "source": [
    "data.describe()"
   ]
  },
  {
   "cell_type": "code",
   "execution_count": 287,
   "id": "4d1a6153-4be9-4d75-9944-663c78bd7125",
   "metadata": {},
   "outputs": [
    {
     "data": {
      "image/png": "[encoded data removed]",
      "text/plain": [
       "<Figure size 432x288 with 1 Axes>"
      ]
     },
     "metadata": {
      "needs_background": "light"
     },
     "output_type": "display_data"
    }
   ],
   "source": [
    "plt.hist(data.d, bins=20)\n",
    "plt.show()"
   ]
  },
  {
   "cell_type": "code",
   "execution_count": 288,
   "id": "3961c858-9b63-443c-acfd-04094011e39c",
   "metadata": {},
   "outputs": [
    {
     "data": {
      "image/png": "[encoded data removed]",
      "text/plain": [
       "<Figure size 432x288 with 1 Axes>"
      ]
     },
     "metadata": {
      "needs_background": "light"
     },
     "output_type": "display_data"
    }
   ],
   "source": [
    "plt.hist(data.latitude)\n",
    "plt.show()"
   ]
  },
  {
   "cell_type": "code",
   "execution_count": 289,
   "id": "0db9dce1-127d-4a4c-8d8f-f0f454c2ccee",
   "metadata": {},
   "outputs": [
    {
     "data": {
      "image/png": "[encoded data removed]",
      "text/plain": [
       "<Figure size 432x288 with 1 Axes>"
      ]
     },
     "metadata": {
      "needs_background": "light"
     },
     "output_type": "display_data"
    }
   ],
   "source": [
    "plt.hist(data.longitude)\n",
    "plt.show()"
   ]
  },
  {
   "cell_type": "code",
   "execution_count": 290,
   "id": "568df1e9-76b2-4261-b8cf-b84d81a389df",
   "metadata": {},
   "outputs": [],
   "source": [
    "def rotation_matrix(axis: List[float], theta: float):\n",
    "    \"\"\"\n",
    "    Return the rotation matrix associated with counterclockwise rotation about\n",
    "    the given axis by theta radians.\n",
    "    \"\"\"\n",
    "    axis = np.asarray(axis)\n",
    "    axis = axis / math.sqrt(np.dot(axis, axis))\n",
    "    a = math.cos(theta / 2.0)\n",
    "    b, c, d = -axis * math.sin(theta / 2.0)\n",
    "    aa, bb, cc, dd = a * a, b * b, c * c, d * d\n",
    "    bc, ad, ac, ab, bd, cd = b * c, a * d, a * c, a * b, b * d, c * d\n",
    "    return np.array([[aa + bb - cc - dd, 2 * (bc + ad), 2 * (bd - ac)],\n",
    "                     [2 * (bc - ad), aa + cc - bb - dd, 2 * (cd + ab)],\n",
    "                     [2 * (bd + ac), 2 * (cd - ab), aa + dd - bb - cc]])\n",
    "\n",
    "def rotate_points(p: List[float],\n",
    "                  axis: List[float],\n",
    "                  theta: float) -> np.array:\n",
    "    return np.matmul(np.array(p), rotation_matrix(axis, theta))"
   ]
  },
  {
   "cell_type": "code",
   "execution_count": 291,
   "id": "f278df96-7bb3-4c3f-be7a-9f348635c140",
   "metadata": {},
   "outputs": [
    {
     "data": {
      "text/plain": [
       "array([[ 3.00000000e+00, -5.55111512e-16,  7.07106781e+00],\n",
       "       [ 4.00000000e+00, -3.53553391e+00,  3.53553391e+00],\n",
       "       [ 1.00000000e+00, -7.07106781e-01,  2.12132034e+00]])"
      ]
     },
     "execution_count": 291,
     "metadata": {},
     "output_type": "execute_result"
    }
   ],
   "source": [
    "# Testing the math\n",
    "p = [[3, 5, 5],\n",
    "     [4, 0, 5],\n",
    "     [1, 1, 2]\n",
    "    ]\n",
    "axis = [1, 0, 0]\n",
    "theta1 = -np.arctan(p[0][2] / p[0][1])\n",
    "\n",
    "rotate_points(p, axis, theta1)"
   ]
  },
  {
   "cell_type": "code",
   "execution_count": 292,
   "id": "66f4f7c4-443f-417a-8c27-5a359c1ef362",
   "metadata": {},
   "outputs": [
    {
     "data": {
      "text/plain": [
       "array([[-1.63299316e+00, -7.15541753e+00, -4.01663209e+00],\n",
       "       [-1.22474487e+00, -4.91934955e+00, -4.92950302e+00],\n",
       "       [ 2.44948974e+00,  3.33066907e-16, -1.23804119e-16]])"
      ]
     },
     "execution_count": 292,
     "metadata": {},
     "output_type": "execute_result"
    }
   ],
   "source": [
    "# Testing the math\n",
    "# Trying to rotate the first point to 0, 0, 0\n",
    "p = np.array([\n",
    "     [3, 5, 6],\n",
    "     [4, 3, 5],\n",
    "     [1, 1, -2]\n",
    "    ])\n",
    "index = 2\n",
    "theta1 = -(math.pi / 2 - np.arctan(p[index][2] / p[index][1]))\n",
    "\n",
    "p = rotate_points(p, [1, 0, 0], theta1)\n",
    "\n",
    "theta2 = -np.arctan(p[index][2] / p[index][0])\n",
    "p = rotate_points(p, [0, 1, 0], theta2)\n",
    "p"
   ]
  },
  {
   "cell_type": "code",
   "execution_count": 293,
   "id": "0cdb5010-e84a-4f2e-9268-2b2467f36ed1",
   "metadata": {},
   "outputs": [
    {
     "data": {
      "text/plain": [
       "2.449489742783178"
      ]
     },
     "execution_count": 293,
     "metadata": {},
     "output_type": "execute_result"
    }
   ],
   "source": [
    "p = np.array([\n",
    "     [3, 5, 5],\n",
    "     [4, 0, 5],\n",
    "     [1, 1, 2]\n",
    "    ])\n",
    "np.linalg.norm(p[index])"
   ]
  },
  {
   "cell_type": "code",
   "execution_count": null,
   "id": "82ba29a2-9b8b-4ec1-9c75-e133e96ba237",
   "metadata": {},
   "outputs": [],
   "source": []
  },
  {
   "cell_type": "code",
   "execution_count": 294,
   "id": "22d12ae2-10ea-40a6-a303-c05736057ecc",
   "metadata": {},
   "outputs": [],
   "source": [
    "# Area of regions 1-4 in km^2, provided by Dr. Kirchoff\n",
    "# Assuming this is the area of the sub-region\n",
    "# 102449, 62647, 53552, 38712"
   ]
  },
  {
   "cell_type": "code",
   "execution_count": 295,
   "id": "c4793a56-41b9-42db-9650-ef70ec56e01d",
   "metadata": {},
   "outputs": [],
   "source": [
    "# Convert from lat/long to x, y, z\n",
    "dione_radius_km = 561.4\n",
    "\n",
    "lat = np.deg2rad(data.latitude)\n",
    "long = np.deg2rad(data.longitude)\n",
    "\n",
    "data[\"x\"] = dione_radius_km * np.cos(lat) * np.cos(long)\n",
    "data[\"y\"] = dione_radius_km * np.cos(lat) * np.sin(long)\n",
    "data[\"z\"] = dione_radius_km * np.sin(lat)"
   ]
  },
  {
   "cell_type": "code",
   "execution_count": null,
   "id": "3822d9a8-5e77-4f19-88a0-40d20cb0191c",
   "metadata": {},
   "outputs": [],
   "source": []
  },
  {
   "cell_type": "code",
   "execution_count": 296,
   "id": "9fb4b481-5ba0-483e-b252-f4062ca41b88",
   "metadata": {},
   "outputs": [],
   "source": [
    "from sklearn.metrics.pairwise import haversine_distances\n",
    "from sklearn.metrics.pairwise import euclidean_distances\n",
    "\n",
    "subset = data\n",
    "\n",
    "lat_long_rad = np.deg2rad(subset[[\"latitude\", \"longitude\"]])\n",
    "hav_dists = haversine_distances(lat_long_rad, lat_long_rad) * dione_radius_km\n",
    "\n",
    "euc_dists = euclidean_distances(subset[[\"x\", \"y\", \"z\"]], subset[[\"x\", \"y\", \"z\"]])"
   ]
  },
  {
   "cell_type": "code",
   "execution_count": 297,
   "id": "5987f675-1dd2-4230-90b3-4f3b73c58b26",
   "metadata": {},
   "outputs": [
    {
     "data": {
      "text/plain": [
       "1.7024860727543774"
      ]
     },
     "execution_count": 297,
     "metadata": {},
     "output_type": "execute_result"
    }
   ],
   "source": [
    "abs(hav_dists - euc_dists).mean()"
   ]
  },
  {
   "cell_type": "code",
   "execution_count": null,
   "id": "11770370-6d41-49e6-ab83-7266f77b40f7",
   "metadata": {},
   "outputs": [],
   "source": []
  },
  {
   "cell_type": "code",
   "execution_count": null,
   "id": "bc55ef47-58f8-4707-bf1f-ab6adef2ab2a",
   "metadata": {},
   "outputs": [],
   "source": []
  },
  {
   "cell_type": "code",
   "execution_count": 298,
   "id": "fe217df9-dbd9-40c8-9a94-9053334f9e43",
   "metadata": {},
   "outputs": [],
   "source": [
    "coordinates = data[[\"x\", \"y\", \"z\"]].values\n",
    "medians_initial = np.median(coordinates, axis=0)\n",
    "medians = np.median(coordinates, axis=0)\n",
    "theta = -(math.pi / 2 - np.arctan(medians[2] / medians[1]))\n",
    "p = rotate_points(coordinates, [1, 0, 0], theta)\n",
    "medians = rotate_points([medians], [1, 0, 0], theta)[0]\n",
    "\n",
    "theta = -np.arctan(medians[2] / medians[0])\n",
    "result = rotate_points(p, [0, 1, 0], theta)"
   ]
  },
  {
   "cell_type": "code",
   "execution_count": 299,
   "id": "725e0cab-394d-4400-b30a-a9b673ea73c6",
   "metadata": {},
   "outputs": [
    {
     "data": {
      "application/vnd.plotly.v1+json": {
       "config": {
        "plotlyServerURL": "https://plot.ly"
       },
       "data": [
        {
         "customdata": [
          [
           -26.77,
           233.37
          ],
          [
           -46.29,
           210.56
          ],
          [
           -47.86,
           237.50999
          ],
          [
           -35.39,
           205.03999
          ],
          [
           -46.39,
           207.62
          ],
          [
           -46.65,
           266.63
          ],
          [
           -35.29,
           248.42999
          ],
          [
           -42.92,
           229.02
          ],
          [
           -45.1,
           225.87
          ],
          [
           -31.29,
           206.52
          ],
          [
           -39.73,
           207.97
          ],
          [
           -46.95,
           203.89999
          ],
          [
           -34.26,
           210.45
          ],
          [
           -44.12,
           257.69
          ],
          [
           -37.26,
           240.84
          ],
          [
           -28.71,
           209.72
          ],
          [
           -33.15,
           233.25
          ],
          [
           -29.39,
           215.3
          ],
          [
           -60.94,
           271.31
          ],
          [
           -46.76,
           236.67
          ],
          [
           -42.22,
           211.41
          ],
          [
           -36.82,
           246.95
          ],
          [
           -42.27,
           254.5
          ],
          [
           -46.08,
           203.81
          ],
          [
           -37.44,
           246.42
          ],
          [
           -36.37,
           237.64999
          ],
          [
           -31.82,
           220.92
          ],
          [
           -50.87,
           248.69
          ],
          [
           -42.56,
           257.35001
          ],
          [
           -36.23,
           206.86
          ],
          [
           -30.33,
           244.32001
          ],
          [
           -43.07,
           256.89999
          ],
          [
           -29.61,
           232.21001
          ],
          [
           -39.39,
           254.2
          ],
          [
           -42,
           228.3
          ],
          [
           -43.6,
           216.08
          ],
          [
           -32.63,
           248.86
          ],
          [
           -27.48,
           239.23
          ],
          [
           -37.38,
           231.2
          ],
          [
           -44.07,
           253.75
          ],
          [
           -43.32,
           222.22
          ],
          [
           -34.37,
           213.84
          ],
          [
           -33.87,
           209.60001
          ],
          [
           -45.24,
           230.16
          ],
          [
           -36.32,
           247.61
          ],
          [
           -46.71,
           210.03999
          ],
          [
           -42.76,
           206.3
          ],
          [
           -26.25,
           243.14
          ],
          [
           -41.16,
           217.00999
          ],
          [
           -29.8,
           231.37
          ],
          [
           -32.49,
           236.03999
          ],
          [
           -40.45,
           228.49001
          ],
          [
           -43.86,
           235.3
          ],
          [
           -30.05,
           236.84
          ],
          [
           -34,
           224.64999
          ],
          [
           -45.22,
           250.27
          ],
          [
           -28.08,
           236.39
          ],
          [
           -31.78,
           236.71001
          ],
          [
           -36.8,
           213.39999
          ],
          [
           -56.52,
           261.39001
          ],
          [
           -41.27,
           255.25
          ],
          [
           -29.04,
           221.00999
          ],
          [
           -40.51,
           207.25
          ],
          [
           -26.23246,
           215.31235
          ],
          [
           -27.30109,
           216.75209
          ]
         ],
         "hovertemplate": "x=%{x}<br>y=%{y}<br>z=%{z}<br>latitude=%{marker.color:.3f}<br>longitude=%{customdata[1]:.3f}<extra></extra>",
         "legendgroup": "",
         "marker": {
          "color": [
           -26.77,
           -46.29,
           -47.86,
           -35.39,
           -46.39,
           -46.65,
           -35.29,
           -42.92,
           -45.1,
           -31.29,
           -39.73,
           -46.95,
           -34.26,
           -44.12,
           -37.26,
           -28.71,
           -33.15,
           -29.39,
           -60.94,
           -46.76,
           -42.22,
           -36.82,
           -42.27,
           -46.08,
           -37.44,
           -36.37,
           -31.82,
           -50.87,
           -42.56,
           -36.23,
           -30.33,
           -43.07,
           -29.61,
           -39.39,
           -42,
           -43.6,
           -32.63,
           -27.48,
           -37.38,
           -44.07,
           -43.32,
           -34.37,
           -33.87,
           -45.24,
           -36.32,
           -46.71,
           -42.76,
           -26.25,
           -41.16,
           -29.8,
           -32.49,
           -40.45,
           -43.86,
           -30.05,
           -34,
           -45.22,
           -28.08,
           -31.78,
           -36.8,
           -56.52,
           -41.27,
           -29.04,
           -40.51,
           -26.23246,
           -27.30109
          ],
          "coloraxis": "coloraxis",
          "symbol": "circle"
         },
         "mode": "markers",
         "name": "",
         "scene": "scene",
         "showlegend": false,
         "type": "scatter3d",
         "x": [
          -299.0565334750824,
          -334.0473448385796,
          -202.3282916721854,
          -414.65432960392167,
          -343.09608667346635,
          -22.653753462807387,
          -168.46498501898904,
          -269.60814679874875,
          -275.9227140645756,
          -429.26471796393,
          -381.3214272276678,
          -350.3714298327068,
          -399.9946791962882,
          -85.92416751282477,
          -217.71125402438665,
          -427.6140305231982,
          -281.2290553948632,
          -399.2116832508419,
          6.234102184714129,
          -211.31716007350474,
          -354.83108870569885,
          -175.96066063097788,
          -111.01794886091571,
          -356.27338494027185,
          -178.31147173343288,
          -241.88298557937293,
          -360.45306213914586,
          -128.75369427574688,
          -90.5564922299134,
          -403.99688387142334,
          -209.98216511115479,
          -92.95291978381657,
          -299.0839988466261,
          -118.13554159959479,
          -277.5351051487894,
          -328.5719488320657,
          -170.51235432783636,
          -254.80318152255873,
          -279.530069114212,
          -112.87200199427282,
          -302.47637174026903,
          -384.8854527907849,
          -405.3000495681457,
          -253.24953466578128,
          -172.2973694008669,
          -333.2395553875075,
          -369.515695115841,
          -227.48931410325247,
          -337.5099538756625,
          -304.1306910176767,
          -264.5220016418846,
          -283.1336415177733,
          -230.4381238861976,
          -265.79976681662913,
          -331.1071144782273,
          -133.4967315567378,
          -274.17695969865997,
          -261.9421127786186,
          -375.2896971006054,
          -46.363587334110996,
          -107.43021704707594,
          -370.3714412059184,
          -379.4576465966689,
          -410.9281164481845,
          -399.70644760045843
         ],
         "y": [
          -402.23978860282364,
          -197.24040451246043,
          -317.71403338939393,
          -193.70894545063777,
          -179.51882253566436,
          -384.7084108996104,
          -426.1455330173422,
          -310.36743479880374,
          -284.43199825227725,
          -214.21061577157343,
          -202.49616447608585,
          -155.26317315386578,
          -235.14493743943348,
          -393.7536276616491,
          -390.18781954353807,
          -244.10460437738763,
          -376.6113789399982,
          -282.65762748020717,
          -272.61488674273363,
          -321.3328502178788,
          -216.67483481959903,
          -413.5336127956901,
          -400.3177909740337,
          -157.2095687321956,
          -408.52748083834024,
          -381.88265918153326,
          -312.4545358199629,
          -330.0659219875123,
          -403.47257468324705,
          -204.60480664873364,
          -436.7009459198202,
          -399.44105949929326,
          -385.7158955398005,
          -417.48215317844375,
          -311.4985733571092,
          -239.42314933386183,
          -440.9762182076978,
          -427.9456121662227,
          -347.66528905441606,
          -387.24629557837125,
          -274.46128058332306,
          -258.04765471118066,
          -230.2425667735736,
          -303.5283970121795,
          -418.23192306706164,
          -192.70618798954715,
          -182.62603148736346,
          -449.1828687560806,
          -254.42426880296966,
          -380.56907832805956,
          -392.7610350714113,
          -319.91195180240055,
          -332.7949145923478,
          -406.8041844174886,
          -327.08627496918405,
          -372.22768406871035,
          -412.51328179487524,
          -398.92061877172665,
          -247.45786728227367,
          -306.2038313092197,
          -408.04854732750493,
          -322.0723749611026,
          -195.43353008685597,
          -291.0863240073064,
          -298.4976721482568
         ],
         "z": [
          -252.86024252662298,
          -405.8060549499675,
          -416.28237456858307,
          -325.12857670946744,
          -406.4825059762867,
          -408.23547866046977,
          -324.3292979548981,
          -382.3002257338525,
          -397.66198489855043,
          -291.5743027122092,
          -358.8303673179409,
          -410.24769130267794,
          -316.0396731602907,
          -390.8261482302833,
          -339.89003420369414,
          -269.68341258124195,
          -306.99193418496526,
          -275.50799912759334,
          -490.72621643457876,
          -408.97459240070526,
          -377.24908806228797,
          -336.44874349364727,
          -377.6117599603923,
          -404.38148657207086,
          -341.2920691257514,
          -332.90872007751574,
          -295.99951526994863,
          -435.4870070999604,
          -379.7095774318647,
          -331.80318099502,
          -283.49556287174227,
          -383.3752139741762,
          -277.3841552104968,
          -356.26199009782226,
          -375.649922409863,
          -387.152411853205,
          -302.713514724426,
          -259.05183209863407,
          -340.8250977374072,
          -390.4742984200542,
          -385.1610182759997,
          -316.9298915029818,
          -312.8740805269352,
          -398.62908247991885,
          -332.5141125203089,
          -408.6388183171951,
          -381.15068370164744,
          -248.30087068894733,
          -369.4932779888186,
          -279.00118172086957,
          -301.55735769004946,
          -364.2274620822317,
          -388.9932851364935,
          -281.1241709648024,
          -313.9308960084773,
          -398.49107126322497,
          -264.2531875176177,
          -295.66641586736915,
          -336.2918482066499,
          -468.25163263043424,
          -370.3040527581774,
          -272.51484514786677,
          -364.6746354726463,
          -248.14672088959927,
          -257.49535038266964
         ]
        }
       ],
       "layout": {
        "coloraxis": {
         "colorbar": {
          "title": {
           "text": "latitude"
          }
         },
         "colorscale": [
          [
           0,
           "#0d0887"
          ],
          [
           0.1111111111111111,
           "#46039f"
          ],
          [
           0.2222222222222222,
           "#7201a8"
          ],
          [
           0.3333333333333333,
           "#9c179e"
          ],
          [
           0.4444444444444444,
           "#bd3786"
          ],
          [
           0.5555555555555556,
           "#d8576b"
          ],
          [
           0.6666666666666666,
           "#ed7953"
          ],
          [
           0.7777777777777778,
           "#fb9f3a"
          ],
          [
           0.8888888888888888,
           "#fdca26"
          ],
          [
           1,
           "#f0f921"
          ]
         ]
        },
        "height": 500,
        "legend": {
         "tracegroupgap": 0
        },
        "margin": {
         "t": 60
        },
        "scene": {
         "aspectmode": "auto",
         "aspectratio": {
          "x": 1.3855761395121384,
          "y": 0.935130242190089,
          "z": 0.771787075903657
         },
         "domain": {
          "x": [
           0,
           1
          ],
          "y": [
           0,
           1
          ]
         },
         "xaxis": {
          "title": {
           "text": "x"
          },
          "type": "linear"
         },
         "yaxis": {
          "title": {
           "text": "y"
          },
          "type": "linear"
         },
         "zaxis": {
          "title": {
           "text": "z"
          },
          "type": "linear"
         }
        },
        "template": {
         "data": {
          "bar": [
           {
            "error_x": {
             "color": "#2a3f5f"
            },
            "error_y": {
             "color": "#2a3f5f"
            },
            "marker": {
             "line": {
              "color": "#E5ECF6",
              "width": 0.5
             },
             "pattern": {
              "fillmode": "overlay",
              "size": 10,
              "solidity": 0.2
             }
            },
            "type": "bar"
           }
          ],
          "barpolar": [
           {
            "marker": {
             "line": {
              "color": "#E5ECF6",
              "width": 0.5
             },
             "pattern": {
              "fillmode": "overlay",
              "size": 10,
              "solidity": 0.2
             }
            },
            "type": "barpolar"
           }
          ],
          "carpet": [
           {
            "aaxis": {
             "endlinecolor": "#2a3f5f",
             "gridcolor": "white",
             "linecolor": "white",
             "minorgridcolor": "white",
             "startlinecolor": "#2a3f5f"
            },
            "baxis": {
             "endlinecolor": "#2a3f5f",
             "gridcolor": "white",
             "linecolor": "white",
             "minorgridcolor": "white",
             "startlinecolor": "#2a3f5f"
            },
            "type": "carpet"
           }
          ],
          "choropleth": [
           {
            "colorbar": {
             "outlinewidth": 0,
             "ticks": ""
            },
            "type": "choropleth"
           }
          ],
          "contour": [
           {
            "colorbar": {
             "outlinewidth": 0,
             "ticks": ""
            },
            "colorscale": [
             [
              0,
              "#0d0887"
             ],
             [
              0.1111111111111111,
              "#46039f"
             ],
             [
              0.2222222222222222,
              "#7201a8"
             ],
             [
              0.3333333333333333,
              "#9c179e"
             ],
             [
              0.4444444444444444,
              "#bd3786"
             ],
             [
              0.5555555555555556,
              "#d8576b"
             ],
             [
              0.6666666666666666,
              "#ed7953"
             ],
             [
              0.7777777777777778,
              "#fb9f3a"
             ],
             [
              0.8888888888888888,
              "#fdca26"
             ],
             [
              1,
              "#f0f921"
             ]
            ],
            "type": "contour"
           }
          ],
          "contourcarpet": [
           {
            "colorbar": {
             "outlinewidth": 0,
             "ticks": ""
            },
            "type": "contourcarpet"
           }
          ],
          "heatmap": [
           {
            "colorbar": {
             "outlinewidth": 0,
             "ticks": ""
            },
            "colorscale": [
             [
              0,
              "#0d0887"
             ],
             [
              0.1111111111111111,
              "#46039f"
             ],
             [
              0.2222222222222222,
              "#7201a8"
             ],
             [
              0.3333333333333333,
              "#9c179e"
             ],
             [
              0.4444444444444444,
              "#bd3786"
             ],
             [
              0.5555555555555556,
              "#d8576b"
             ],
             [
              0.6666666666666666,
              "#ed7953"
             ],
             [
              0.7777777777777778,
              "#fb9f3a"
             ],
             [
              0.8888888888888888,
              "#fdca26"
             ],
             [
              1,
              "#f0f921"
             ]
            ],
            "type": "heatmap"
           }
          ],
          "heatmapgl": [
           {
            "colorbar": {
             "outlinewidth": 0,
             "ticks": ""
            },
            "colorscale": [
             [
              0,
              "#0d0887"
             ],
             [
              0.1111111111111111,
              "#46039f"
             ],
             [
              0.2222222222222222,
              "#7201a8"
             ],
             [
              0.3333333333333333,
              "#9c179e"
             ],
             [
              0.4444444444444444,
              "#bd3786"
             ],
             [
              0.5555555555555556,
              "#d8576b"
             ],
             [
              0.6666666666666666,
              "#ed7953"
             ],
             [
              0.7777777777777778,
              "#fb9f3a"
             ],
             [
              0.8888888888888888,
              "#fdca26"
             ],
             [
              1,
              "#f0f921"
             ]
            ],
            "type": "heatmapgl"
           }
          ],
          "histogram": [
           {
            "marker": {
             "pattern": {
              "fillmode": "overlay",
              "size": 10,
              "solidity": 0.2
             }
            },
            "type": "histogram"
           }
          ],
          "histogram2d": [
           {
            "colorbar": {
             "outlinewidth": 0,
             "ticks": ""
            },
            "colorscale": [
             [
              0,
              "#0d0887"
             ],
             [
              0.1111111111111111,
              "#46039f"
             ],
             [
              0.2222222222222222,
              "#7201a8"
             ],
             [
              0.3333333333333333,
              "#9c179e"
             ],
             [
              0.4444444444444444,
              "#bd3786"
             ],
             [
              0.5555555555555556,
              "#d8576b"
             ],
             [
              0.6666666666666666,
              "#ed7953"
             ],
             [
              0.7777777777777778,
              "#fb9f3a"
             ],
             [
              0.8888888888888888,
              "#fdca26"
             ],
             [
              1,
              "#f0f921"
             ]
            ],
            "type": "histogram2d"
           }
          ],
          "histogram2dcontour": [
           {
            "colorbar": {
             "outlinewidth": 0,
             "ticks": ""
            },
            "colorscale": [
             [
              0,
              "#0d0887"
             ],
             [
              0.1111111111111111,
              "#46039f"
             ],
             [
              0.2222222222222222,
              "#7201a8"
             ],
             [
              0.3333333333333333,
              "#9c179e"
             ],
             [
              0.4444444444444444,
              "#bd3786"
             ],
             [
              0.5555555555555556,
              "#d8576b"
             ],
             [
              0.6666666666666666,
              "#ed7953"
             ],
             [
              0.7777777777777778,
              "#fb9f3a"
             ],
             [
              0.8888888888888888,
              "#fdca26"
             ],
             [
              1,
              "#f0f921"
             ]
            ],
            "type": "histogram2dcontour"
           }
          ],
          "mesh3d": [
           {
            "colorbar": {
             "outlinewidth": 0,
             "ticks": ""
            },
            "type": "mesh3d"
           }
          ],
          "parcoords": [
           {
            "line": {
             "colorbar": {
              "outlinewidth": 0,
              "ticks": ""
             }
            },
            "type": "parcoords"
           }
          ],
          "pie": [
           {
            "automargin": true,
            "type": "pie"
           }
          ],
          "scatter": [
           {
            "fillpattern": {
             "fillmode": "overlay",
             "size": 10,
             "solidity": 0.2
            },
            "type": "scatter"
           }
          ],
          "scatter3d": [
           {
            "line": {
             "colorbar": {
              "outlinewidth": 0,
              "ticks": ""
             }
            },
            "marker": {
             "colorbar": {
              "outlinewidth": 0,
              "ticks": ""
             }
            },
            "type": "scatter3d"
           }
          ],
          "scattercarpet": [
           {
            "marker": {
             "colorbar": {
              "outlinewidth": 0,
              "ticks": ""
             }
            },
            "type": "scattercarpet"
           }
          ],
          "scattergeo": [
           {
            "marker": {
             "colorbar": {
              "outlinewidth": 0,
              "ticks": ""
             }
            },
            "type": "scattergeo"
           }
          ],
          "scattergl": [
           {
            "marker": {
             "colorbar": {
              "outlinewidth": 0,
              "ticks": ""
             }
            },
            "type": "scattergl"
           }
          ],
          "scattermapbox": [
           {
            "marker": {
             "colorbar": {
              "outlinewidth": 0,
              "ticks": ""
             }
            },
            "type": "scattermapbox"
           }
          ],
          "scatterpolar": [
           {
            "marker": {
             "colorbar": {
              "outlinewidth": 0,
              "ticks": ""
             }
            },
            "type": "scatterpolar"
           }
          ],
          "scatterpolargl": [
           {
            "marker": {
             "colorbar": {
              "outlinewidth": 0,
              "ticks": ""
             }
            },
            "type": "scatterpolargl"
           }
          ],
          "scatterternary": [
           {
            "marker": {
             "colorbar": {
              "outlinewidth": 0,
              "ticks": ""
             }
            },
            "type": "scatterternary"
           }
          ],
          "surface": [
           {
            "colorbar": {
             "outlinewidth": 0,
             "ticks": ""
            },
            "colorscale": [
             [
              0,
              "#0d0887"
             ],
             [
              0.1111111111111111,
              "#46039f"
             ],
             [
              0.2222222222222222,
              "#7201a8"
             ],
             [
              0.3333333333333333,
              "#9c179e"
             ],
             [
              0.4444444444444444,
              "#bd3786"
             ],
             [
              0.5555555555555556,
              "#d8576b"
             ],
             [
              0.6666666666666666,
              "#ed7953"
             ],
             [
              0.7777777777777778,
              "#fb9f3a"
             ],
             [
              0.8888888888888888,
              "#fdca26"
             ],
             [
              1,
              "#f0f921"
             ]
            ],
            "type": "surface"
           }
          ],
          "table": [
           {
            "cells": {
             "fill": {
              "color": "#EBF0F8"
             },
             "line": {
              "color": "white"
             }
            },
            "header": {
             "fill": {
              "color": "#C8D4E3"
             },
             "line": {
              "color": "white"
             }
            },
            "type": "table"
           }
          ]
         },
         "layout": {
          "annotationdefaults": {
           "arrowcolor": "#2a3f5f",
           "arrowhead": 0,
           "arrowwidth": 1
          },
          "autotypenumbers": "strict",
          "coloraxis": {
           "colorbar": {
            "outlinewidth": 0,
            "ticks": ""
           }
          },
          "colorscale": {
           "diverging": [
            [
             0,
             "#8e0152"
            ],
            [
             0.1,
             "#c51b7d"
            ],
            [
             0.2,
             "#de77ae"
            ],
            [
             0.3,
             "#f1b6da"
            ],
            [
             0.4,
             "#fde0ef"
            ],
            [
             0.5,
             "#f7f7f7"
            ],
            [
             0.6,
             "#e6f5d0"
            ],
            [
             0.7,
             "#b8e186"
            ],
            [
             0.8,
             "#7fbc41"
            ],
            [
             0.9,
             "#4d9221"
            ],
            [
             1,
             "#276419"
            ]
           ],
           "sequential": [
            [
             0,
             "#0d0887"
            ],
            [
             0.1111111111111111,
             "#46039f"
            ],
            [
             0.2222222222222222,
             "#7201a8"
            ],
            [
             0.3333333333333333,
             "#9c179e"
            ],
            [
             0.4444444444444444,
             "#bd3786"
            ],
            [
             0.5555555555555556,
             "#d8576b"
            ],
            [
             0.6666666666666666,
             "#ed7953"
            ],
            [
             0.7777777777777778,
             "#fb9f3a"
            ],
            [
             0.8888888888888888,
             "#fdca26"
            ],
            [
             1,
             "#f0f921"
            ]
           ],
           "sequentialminus": [
            [
             0,
             "#0d0887"
            ],
            [
             0.1111111111111111,
             "#46039f"
            ],
            [
             0.2222222222222222,
             "#7201a8"
            ],
            [
             0.3333333333333333,
             "#9c179e"
            ],
            [
             0.4444444444444444,
             "#bd3786"
            ],
            [
             0.5555555555555556,
             "#d8576b"
            ],
            [
             0.6666666666666666,
             "#ed7953"
            ],
            [
             0.7777777777777778,
             "#fb9f3a"
            ],
            [
             0.8888888888888888,
             "#fdca26"
            ],
            [
             1,
             "#f0f921"
            ]
           ]
          },
          "colorway": [
           "#636efa",
           "#EF553B",
           "#00cc96",
           "#ab63fa",
           "#FFA15A",
           "#19d3f3",
           "#FF6692",
           "#B6E880",
           "#FF97FF",
           "#FECB52"
          ],
          "font": {
           "color": "#2a3f5f"
          },
          "geo": {
           "bgcolor": "white",
           "lakecolor": "white",
           "landcolor": "#E5ECF6",
           "showlakes": true,
           "showland": true,
           "subunitcolor": "white"
          },
          "hoverlabel": {
           "align": "left"
          },
          "hovermode": "closest",
          "mapbox": {
           "style": "light"
          },
          "paper_bgcolor": "white",
          "plot_bgcolor": "#E5ECF6",
          "polar": {
           "angularaxis": {
            "gridcolor": "white",
            "linecolor": "white",
            "ticks": ""
           },
           "bgcolor": "#E5ECF6",
           "radialaxis": {
            "gridcolor": "white",
            "linecolor": "white",
            "ticks": ""
           }
          },
          "scene": {
           "xaxis": {
            "backgroundcolor": "#E5ECF6",
            "gridcolor": "white",
            "gridwidth": 2,
            "linecolor": "white",
            "showbackground": true,
            "ticks": "",
            "zerolinecolor": "white"
           },
           "yaxis": {
            "backgroundcolor": "#E5ECF6",
            "gridcolor": "white",
            "gridwidth": 2,
            "linecolor": "white",
            "showbackground": true,
            "ticks": "",
            "zerolinecolor": "white"
           },
           "zaxis": {
            "backgroundcolor": "#E5ECF6",
            "gridcolor": "white",
            "gridwidth": 2,
            "linecolor": "white",
            "showbackground": true,
            "ticks": "",
            "zerolinecolor": "white"
           }
          },
          "shapedefaults": {
           "line": {
            "color": "#2a3f5f"
           }
          },
          "ternary": {
           "aaxis": {
            "gridcolor": "white",
            "linecolor": "white",
            "ticks": ""
           },
           "baxis": {
            "gridcolor": "white",
            "linecolor": "white",
            "ticks": ""
           },
           "bgcolor": "#E5ECF6",
           "caxis": {
            "gridcolor": "white",
            "linecolor": "white",
            "ticks": ""
           }
          },
          "title": {
           "x": 0.05
          },
          "xaxis": {
           "automargin": true,
           "gridcolor": "white",
           "linecolor": "white",
           "ticks": "",
           "title": {
            "standoff": 15
           },
           "zerolinecolor": "white",
           "zerolinewidth": 2
          },
          "yaxis": {
           "automargin": true,
           "gridcolor": "white",
           "linecolor": "white",
           "ticks": "",
           "title": {
            "standoff": 15
           },
           "zerolinecolor": "white",
           "zerolinewidth": 2
          }
         }
        },
        "width": 500
       }
      },
      "text/html": [
       "<div>                            <div id=\"621f8e7a-f53f-452e-b6fa-9d4463ffbd99\" class=\"plotly-graph-div\" style=\"height:500px; width:500px;\"></div>            <script type=\"text/javascript\">                require([\"plotly\"], function(Plotly) {                    window.PLOTLYENV=window.PLOTLYENV || {};                                    if (document.getElementById(\"621f8e7a-f53f-452e-b6fa-9d4463ffbd99\")) {                    Plotly.newPlot(                        \"621f8e7a-f53f-452e-b6fa-9d4463ffbd99\",                        [{\"customdata\":[[-26.77,233.37],[-46.29,210.56],[-47.86,237.50999],[-35.39,205.03999],[-46.39,207.62],[-46.65,266.63],[-35.29,248.42999],[-42.92,229.02],[-45.1,225.87],[-31.29,206.52],[-39.73,207.97],[-46.95,203.89999],[-34.26,210.45],[-44.12,257.69],[-37.26,240.84],[-28.71,209.72],[-33.15,233.25],[-29.39,215.3],[-60.94,271.31],[-46.76,236.67],[-42.22,211.41],[-36.82,246.95],[-42.27,254.5],[-46.08,203.81],[-37.44,246.42],[-36.37,237.64999],[-31.82,220.92],[-50.87,248.69],[-42.56,257.35001],[-36.23,206.86],[-30.33,244.32001],[-43.07,256.89999],[-29.61,232.21001],[-39.39,254.2],[-42.0,228.3],[-43.6,216.08],[-32.63,248.86],[-27.48,239.23],[-37.38,231.2],[-44.07,253.75],[-43.32,222.22],[-34.37,213.84],[-33.87,209.60001],[-45.24,230.16],[-36.32,247.61],[-46.71,210.03999],[-42.76,206.3],[-26.25,243.14],[-41.16,217.00999],[-29.8,231.37],[-32.49,236.03999],[-40.45,228.49001],[-43.86,235.3],[-30.05,236.84],[-34.0,224.64999],[-45.22,250.27],[-28.08,236.39],[-31.78,236.71001],[-36.8,213.39999],[-56.52,261.39001],[-41.27,255.25],[-29.04,221.00999],[-40.51,207.25],[-26.23246,215.31235],[-27.30109,216.75209]],\"hovertemplate\":\"x=%{x}<br>y=%{y}<br>z=%{z}<br>latitude=%{marker.color:.3f}<br>longitude=%{customdata[1]:.3f}<extra></extra>\",\"legendgroup\":\"\",\"marker\":{\"color\":[-26.77,-46.29,-47.86,-35.39,-46.39,-46.65,-35.29,-42.92,-45.1,-31.29,-39.73,-46.95,-34.26,-44.12,-37.26,-28.71,-33.15,-29.39,-60.94,-46.76,-42.22,-36.82,-42.27,-46.08,-37.44,-36.37,-31.82,-50.87,-42.56,-36.23,-30.33,-43.07,-29.61,-39.39,-42.0,-43.6,-32.63,-27.48,-37.38,-44.07,-43.32,-34.37,-33.87,-45.24,-36.32,-46.71,-42.76,-26.25,-41.16,-29.8,-32.49,-40.45,-43.86,-30.05,-34.0,-45.22,-28.08,-31.78,-36.8,-56.52,-41.27,-29.04,-40.51,-26.23246,-27.30109],\"coloraxis\":\"coloraxis\",\"symbol\":\"circle\"},\"mode\":\"markers\",\"name\":\"\",\"scene\":\"scene\",\"showlegend\":false,\"x\":[-299.0565334750824,-334.0473448385796,-202.3282916721854,-414.65432960392167,-343.09608667346635,-22.653753462807387,-168.46498501898904,-269.60814679874875,-275.9227140645756,-429.26471796393,-381.3214272276678,-350.3714298327068,-399.9946791962882,-85.92416751282477,-217.71125402438665,-427.6140305231982,-281.2290553948632,-399.2116832508419,6.234102184714129,-211.31716007350474,-354.83108870569885,-175.96066063097788,-111.01794886091571,-356.27338494027185,-178.31147173343288,-241.88298557937293,-360.45306213914586,-128.75369427574688,-90.5564922299134,-403.99688387142334,-209.98216511115479,-92.95291978381657,-299.0839988466261,-118.13554159959479,-277.5351051487894,-328.5719488320657,-170.51235432783636,-254.80318152255873,-279.530069114212,-112.87200199427282,-302.47637174026903,-384.8854527907849,-405.3000495681457,-253.24953466578128,-172.2973694008669,-333.2395553875075,-369.515695115841,-227.48931410325247,-337.5099538756625,-304.1306910176767,-264.5220016418846,-283.1336415177733,-230.4381238861976,-265.79976681662913,-331.1071144782273,-133.4967315567378,-274.17695969865997,-261.9421127786186,-375.2896971006054,-46.363587334110996,-107.43021704707594,-370.3714412059184,-379.4576465966689,-410.9281164481845,-399.70644760045843],\"y\":[-402.23978860282364,-197.24040451246043,-317.71403338939393,-193.70894545063777,-179.51882253566436,-384.7084108996104,-426.1455330173422,-310.36743479880374,-284.43199825227725,-214.21061577157343,-202.49616447608585,-155.26317315386578,-235.14493743943348,-393.7536276616491,-390.18781954353807,-244.10460437738763,-376.6113789399982,-282.65762748020717,-272.61488674273363,-321.3328502178788,-216.67483481959903,-413.5336127956901,-400.3177909740337,-157.2095687321956,-408.52748083834024,-381.88265918153326,-312.4545358199629,-330.0659219875123,-403.47257468324705,-204.60480664873364,-436.7009459198202,-399.44105949929326,-385.7158955398005,-417.48215317844375,-311.4985733571092,-239.42314933386183,-440.9762182076978,-427.9456121662227,-347.66528905441606,-387.24629557837125,-274.46128058332306,-258.04765471118066,-230.2425667735736,-303.5283970121795,-418.23192306706164,-192.70618798954715,-182.62603148736346,-449.1828687560806,-254.42426880296966,-380.56907832805956,-392.7610350714113,-319.91195180240055,-332.7949145923478,-406.8041844174886,-327.08627496918405,-372.22768406871035,-412.51328179487524,-398.92061877172665,-247.45786728227367,-306.2038313092197,-408.04854732750493,-322.0723749611026,-195.43353008685597,-291.0863240073064,-298.4976721482568],\"z\":[-252.86024252662298,-405.8060549499675,-416.28237456858307,-325.12857670946744,-406.4825059762867,-408.23547866046977,-324.3292979548981,-382.3002257338525,-397.66198489855043,-291.5743027122092,-358.8303673179409,-410.24769130267794,-316.0396731602907,-390.8261482302833,-339.89003420369414,-269.68341258124195,-306.99193418496526,-275.50799912759334,-490.72621643457876,-408.97459240070526,-377.24908806228797,-336.44874349364727,-377.6117599603923,-404.38148657207086,-341.2920691257514,-332.90872007751574,-295.99951526994863,-435.4870070999604,-379.7095774318647,-331.80318099502,-283.49556287174227,-383.3752139741762,-277.3841552104968,-356.26199009782226,-375.649922409863,-387.152411853205,-302.713514724426,-259.05183209863407,-340.8250977374072,-390.4742984200542,-385.1610182759997,-316.9298915029818,-312.8740805269352,-398.62908247991885,-332.5141125203089,-408.6388183171951,-381.15068370164744,-248.30087068894733,-369.4932779888186,-279.00118172086957,-301.55735769004946,-364.2274620822317,-388.9932851364935,-281.1241709648024,-313.9308960084773,-398.49107126322497,-264.2531875176177,-295.66641586736915,-336.2918482066499,-468.25163263043424,-370.3040527581774,-272.51484514786677,-364.6746354726463,-248.14672088959927,-257.49535038266964],\"type\":\"scatter3d\"}],                        {\"template\":{\"data\":{\"histogram2dcontour\":[{\"type\":\"histogram2dcontour\",\"colorbar\":{\"outlinewidth\":0,\"ticks\":\"\"},\"colorscale\":[[0.0,\"#0d0887\"],[0.1111111111111111,\"#46039f\"],[0.2222222222222222,\"#7201a8\"],[0.3333333333333333,\"#9c179e\"],[0.4444444444444444,\"#bd3786\"],[0.5555555555555556,\"#d8576b\"],[0.6666666666666666,\"#ed7953\"],[0.7777777777777778,\"#fb9f3a\"],[0.8888888888888888,\"#fdca26\"],[1.0,\"#f0f921\"]]}],\"choropleth\":[{\"type\":\"choropleth\",\"colorbar\":{\"outlinewidth\":0,\"ticks\":\"\"}}],\"histogram2d\":[{\"type\":\"histogram2d\",\"colorbar\":{\"outlinewidth\":0,\"ticks\":\"\"},\"colorscale\":[[0.0,\"#0d0887\"],[0.1111111111111111,\"#46039f\"],[0.2222222222222222,\"#7201a8\"],[0.3333333333333333,\"#9c179e\"],[0.4444444444444444,\"#bd3786\"],[0.5555555555555556,\"#d8576b\"],[0.6666666666666666,\"#ed7953\"],[0.7777777777777778,\"#fb9f3a\"],[0.8888888888888888,\"#fdca26\"],[1.0,\"#f0f921\"]]}],\"heatmap\":[{\"type\":\"heatmap\",\"colorbar\":{\"outlinewidth\":0,\"ticks\":\"\"},\"colorscale\":[[0.0,\"#0d0887\"],[0.1111111111111111,\"#46039f\"],[0.2222222222222222,\"#7201a8\"],[0.3333333333333333,\"#9c179e\"],[0.4444444444444444,\"#bd3786\"],[0.5555555555555556,\"#d8576b\"],[0.6666666666666666,\"#ed7953\"],[0.7777777777777778,\"#fb9f3a\"],[0.8888888888888888,\"#fdca26\"],[1.0,\"#f0f921\"]]}],\"heatmapgl\":[{\"type\":\"heatmapgl\",\"colorbar\":{\"outlinewidth\":0,\"ticks\":\"\"},\"colorscale\":[[0.0,\"#0d0887\"],[0.1111111111111111,\"#46039f\"],[0.2222222222222222,\"#7201a8\"],[0.3333333333333333,\"#9c179e\"],[0.4444444444444444,\"#bd3786\"],[0.5555555555555556,\"#d8576b\"],[0.6666666666666666,\"#ed7953\"],[0.7777777777777778,\"#fb9f3a\"],[0.8888888888888888,\"#fdca26\"],[1.0,\"#f0f921\"]]}],\"contourcarpet\":[{\"type\":\"contourcarpet\",\"colorbar\":{\"outlinewidth\":0,\"ticks\":\"\"}}],\"contour\":[{\"type\":\"contour\",\"colorbar\":{\"outlinewidth\":0,\"ticks\":\"\"},\"colorscale\":[[0.0,\"#0d0887\"],[0.1111111111111111,\"#46039f\"],[0.2222222222222222,\"#7201a8\"],[0.3333333333333333,\"#9c179e\"],[0.4444444444444444,\"#bd3786\"],[0.5555555555555556,\"#d8576b\"],[0.6666666666666666,\"#ed7953\"],[0.7777777777777778,\"#fb9f3a\"],[0.8888888888888888,\"#fdca26\"],[1.0,\"#f0f921\"]]}],\"surface\":[{\"type\":\"surface\",\"colorbar\":{\"outlinewidth\":0,\"ticks\":\"\"},\"colorscale\":[[0.0,\"#0d0887\"],[0.1111111111111111,\"#46039f\"],[0.2222222222222222,\"#7201a8\"],[0.3333333333333333,\"#9c179e\"],[0.4444444444444444,\"#bd3786\"],[0.5555555555555556,\"#d8576b\"],[0.6666666666666666,\"#ed7953\"],[0.7777777777777778,\"#fb9f3a\"],[0.8888888888888888,\"#fdca26\"],[1.0,\"#f0f921\"]]}],\"mesh3d\":[{\"type\":\"mesh3d\",\"colorbar\":{\"outlinewidth\":0,\"ticks\":\"\"}}],\"scatter\":[{\"fillpattern\":{\"fillmode\":\"overlay\",\"size\":10,\"solidity\":0.2},\"type\":\"scatter\"}],\"parcoords\":[{\"type\":\"parcoords\",\"line\":{\"colorbar\":{\"outlinewidth\":0,\"ticks\":\"\"}}}],\"scatterpolargl\":[{\"type\":\"scatterpolargl\",\"marker\":{\"colorbar\":{\"outlinewidth\":0,\"ticks\":\"\"}}}],\"bar\":[{\"error_x\":{\"color\":\"#2a3f5f\"},\"error_y\":{\"color\":\"#2a3f5f\"},\"marker\":{\"line\":{\"color\":\"#E5ECF6\",\"width\":0.5},\"pattern\":{\"fillmode\":\"overlay\",\"size\":10,\"solidity\":0.2}},\"type\":\"bar\"}],\"scattergeo\":[{\"type\":\"scattergeo\",\"marker\":{\"colorbar\":{\"outlinewidth\":0,\"ticks\":\"\"}}}],\"scatterpolar\":[{\"type\":\"scatterpolar\",\"marker\":{\"colorbar\":{\"outlinewidth\":0,\"ticks\":\"\"}}}],\"histogram\":[{\"marker\":{\"pattern\":{\"fillmode\":\"overlay\",\"size\":10,\"solidity\":0.2}},\"type\":\"histogram\"}],\"scattergl\":[{\"type\":\"scattergl\",\"marker\":{\"colorbar\":{\"outlinewidth\":0,\"ticks\":\"\"}}}],\"scatter3d\":[{\"type\":\"scatter3d\",\"line\":{\"colorbar\":{\"outlinewidth\":0,\"ticks\":\"\"}},\"marker\":{\"colorbar\":{\"outlinewidth\":0,\"ticks\":\"\"}}}],\"scattermapbox\":[{\"type\":\"scattermapbox\",\"marker\":{\"colorbar\":{\"outlinewidth\":0,\"ticks\":\"\"}}}],\"scatterternary\":[{\"type\":\"scatterternary\",\"marker\":{\"colorbar\":{\"outlinewidth\":0,\"ticks\":\"\"}}}],\"scattercarpet\":[{\"type\":\"scattercarpet\",\"marker\":{\"colorbar\":{\"outlinewidth\":0,\"ticks\":\"\"}}}],\"carpet\":[{\"aaxis\":{\"endlinecolor\":\"#2a3f5f\",\"gridcolor\":\"white\",\"linecolor\":\"white\",\"minorgridcolor\":\"white\",\"startlinecolor\":\"#2a3f5f\"},\"baxis\":{\"endlinecolor\":\"#2a3f5f\",\"gridcolor\":\"white\",\"linecolor\":\"white\",\"minorgridcolor\":\"white\",\"startlinecolor\":\"#2a3f5f\"},\"type\":\"carpet\"}],\"table\":[{\"cells\":{\"fill\":{\"color\":\"#EBF0F8\"},\"line\":{\"color\":\"white\"}},\"header\":{\"fill\":{\"color\":\"#C8D4E3\"},\"line\":{\"color\":\"white\"}},\"type\":\"table\"}],\"barpolar\":[{\"marker\":{\"line\":{\"color\":\"#E5ECF6\",\"width\":0.5},\"pattern\":{\"fillmode\":\"overlay\",\"size\":10,\"solidity\":0.2}},\"type\":\"barpolar\"}],\"pie\":[{\"automargin\":true,\"type\":\"pie\"}]},\"layout\":{\"autotypenumbers\":\"strict\",\"colorway\":[\"#636efa\",\"#EF553B\",\"#00cc96\",\"#ab63fa\",\"#FFA15A\",\"#19d3f3\",\"#FF6692\",\"#B6E880\",\"#FF97FF\",\"#FECB52\"],\"font\":{\"color\":\"#2a3f5f\"},\"hovermode\":\"closest\",\"hoverlabel\":{\"align\":\"left\"},\"paper_bgcolor\":\"white\",\"plot_bgcolor\":\"#E5ECF6\",\"polar\":{\"bgcolor\":\"#E5ECF6\",\"angularaxis\":{\"gridcolor\":\"white\",\"linecolor\":\"white\",\"ticks\":\"\"},\"radialaxis\":{\"gridcolor\":\"white\",\"linecolor\":\"white\",\"ticks\":\"\"}},\"ternary\":{\"bgcolor\":\"#E5ECF6\",\"aaxis\":{\"gridcolor\":\"white\",\"linecolor\":\"white\",\"ticks\":\"\"},\"baxis\":{\"gridcolor\":\"white\",\"linecolor\":\"white\",\"ticks\":\"\"},\"caxis\":{\"gridcolor\":\"white\",\"linecolor\":\"white\",\"ticks\":\"\"}},\"coloraxis\":{\"colorbar\":{\"outlinewidth\":0,\"ticks\":\"\"}},\"colorscale\":{\"sequential\":[[0.0,\"#0d0887\"],[0.1111111111111111,\"#46039f\"],[0.2222222222222222,\"#7201a8\"],[0.3333333333333333,\"#9c179e\"],[0.4444444444444444,\"#bd3786\"],[0.5555555555555556,\"#d8576b\"],[0.6666666666666666,\"#ed7953\"],[0.7777777777777778,\"#fb9f3a\"],[0.8888888888888888,\"#fdca26\"],[1.0,\"#f0f921\"]],\"sequentialminus\":[[0.0,\"#0d0887\"],[0.1111111111111111,\"#46039f\"],[0.2222222222222222,\"#7201a8\"],[0.3333333333333333,\"#9c179e\"],[0.4444444444444444,\"#bd3786\"],[0.5555555555555556,\"#d8576b\"],[0.6666666666666666,\"#ed7953\"],[0.7777777777777778,\"#fb9f3a\"],[0.8888888888888888,\"#fdca26\"],[1.0,\"#f0f921\"]],\"diverging\":[[0,\"#8e0152\"],[0.1,\"#c51b7d\"],[0.2,\"#de77ae\"],[0.3,\"#f1b6da\"],[0.4,\"#fde0ef\"],[0.5,\"#f7f7f7\"],[0.6,\"#e6f5d0\"],[0.7,\"#b8e186\"],[0.8,\"#7fbc41\"],[0.9,\"#4d9221\"],[1,\"#276419\"]]},\"xaxis\":{\"gridcolor\":\"white\",\"linecolor\":\"white\",\"ticks\":\"\",\"title\":{\"standoff\":15},\"zerolinecolor\":\"white\",\"automargin\":true,\"zerolinewidth\":2},\"yaxis\":{\"gridcolor\":\"white\",\"linecolor\":\"white\",\"ticks\":\"\",\"title\":{\"standoff\":15},\"zerolinecolor\":\"white\",\"automargin\":true,\"zerolinewidth\":2},\"scene\":{\"xaxis\":{\"backgroundcolor\":\"#E5ECF6\",\"gridcolor\":\"white\",\"linecolor\":\"white\",\"showbackground\":true,\"ticks\":\"\",\"zerolinecolor\":\"white\",\"gridwidth\":2},\"yaxis\":{\"backgroundcolor\":\"#E5ECF6\",\"gridcolor\":\"white\",\"linecolor\":\"white\",\"showbackground\":true,\"ticks\":\"\",\"zerolinecolor\":\"white\",\"gridwidth\":2},\"zaxis\":{\"backgroundcolor\":\"#E5ECF6\",\"gridcolor\":\"white\",\"linecolor\":\"white\",\"showbackground\":true,\"ticks\":\"\",\"zerolinecolor\":\"white\",\"gridwidth\":2}},\"shapedefaults\":{\"line\":{\"color\":\"#2a3f5f\"}},\"annotationdefaults\":{\"arrowcolor\":\"#2a3f5f\",\"arrowhead\":0,\"arrowwidth\":1},\"geo\":{\"bgcolor\":\"white\",\"landcolor\":\"#E5ECF6\",\"subunitcolor\":\"white\",\"showland\":true,\"showlakes\":true,\"lakecolor\":\"white\"},\"title\":{\"x\":0.05},\"mapbox\":{\"style\":\"light\"}}},\"scene\":{\"domain\":{\"x\":[0.0,1.0],\"y\":[0.0,1.0]},\"xaxis\":{\"title\":{\"text\":\"x\"}},\"yaxis\":{\"title\":{\"text\":\"y\"}},\"zaxis\":{\"title\":{\"text\":\"z\"}}},\"coloraxis\":{\"colorbar\":{\"title\":{\"text\":\"latitude\"}},\"colorscale\":[[0.0,\"#0d0887\"],[0.1111111111111111,\"#46039f\"],[0.2222222222222222,\"#7201a8\"],[0.3333333333333333,\"#9c179e\"],[0.4444444444444444,\"#bd3786\"],[0.5555555555555556,\"#d8576b\"],[0.6666666666666666,\"#ed7953\"],[0.7777777777777778,\"#fb9f3a\"],[0.8888888888888888,\"#fdca26\"],[1.0,\"#f0f921\"]]},\"legend\":{\"tracegroupgap\":0},\"margin\":{\"t\":60},\"height\":500,\"width\":500},                        {\"responsive\": true}                    ).then(function(){\n",
       "                            \n",
       "var gd = document.getElementById('621f8e7a-f53f-452e-b6fa-9d4463ffbd99');\n",
       "var x = new MutationObserver(function (mutations, observer) {{\n",
       "        var display = window.getComputedStyle(gd).display;\n",
       "        if (!display || display === 'none') {{\n",
       "            console.log([gd, 'removed!']);\n",
       "            Plotly.purge(gd);\n",
       "            observer.disconnect();\n",
       "        }}\n",
       "}});\n",
       "\n",
       "// Listen for the removal of the full notebook cells\n",
       "var notebookContainer = gd.closest('#notebook-container');\n",
       "if (notebookContainer) {{\n",
       "    x.observe(notebookContainer, {childList: true});\n",
       "}}\n",
       "\n",
       "// Listen for the clearing of the current output cell\n",
       "var outputEl = gd.closest('.output');\n",
       "if (outputEl) {{\n",
       "    x.observe(outputEl, {childList: true});\n",
       "}}\n",
       "\n",
       "                        })                };                });            </script>        </div>"
      ]
     },
     "metadata": {},
     "output_type": "display_data"
    }
   ],
   "source": [
    "hover_data = {\n",
    "    \"latitude\": \":.3f\",\n",
    "    \"longitude\": \":.3f\",\n",
    "}\n",
    "\n",
    "fig = px.scatter_3d(\n",
    "    data,\n",
    "    x=\"x\",\n",
    "    y=\"y\",\n",
    "    z=\"z\",\n",
    "    color=\"latitude\",\n",
    "    hover_data=hover_data,\n",
    "    width=500,\n",
    "    height=500\n",
    ")\n",
    "fig.show()"
   ]
  },
  {
   "cell_type": "code",
   "execution_count": 300,
   "id": "0b532262-2351-465f-91ab-1fe4c06c36a8",
   "metadata": {},
   "outputs": [],
   "source": [
    "# Try haversine distances to calc area of the region as a checksum"
   ]
  },
  {
   "cell_type": "code",
   "execution_count": 301,
   "id": "628d6f7d-9f87-47b3-bd57-37c45f0fc717",
   "metadata": {},
   "outputs": [
    {
     "data": {
      "text/html": [
       "<div>\n",
       "<style scoped>\n",
       "    .dataframe tbody tr th:only-of-type {\n",
       "        vertical-align: middle;\n",
       "    }\n",
       "\n",
       "    .dataframe tbody tr th {\n",
       "        vertical-align: top;\n",
       "    }\n",
       "\n",
       "    .dataframe thead th {\n",
       "        text-align: right;\n",
       "    }\n",
       "</style>\n",
       "<table border=\"1\" class=\"dataframe\">\n",
       "  <thead>\n",
       "    <tr style=\"text-align: right;\">\n",
       "      <th></th>\n",
       "      <th>0</th>\n",
       "      <th>1</th>\n",
       "      <th>2</th>\n",
       "    </tr>\n",
       "  </thead>\n",
       "  <tbody>\n",
       "    <tr>\n",
       "      <th>count</th>\n",
       "      <td>65.000000</td>\n",
       "      <td>65.000000</td>\n",
       "      <td>65.000000</td>\n",
       "    </tr>\n",
       "    <tr>\n",
       "      <th>mean</th>\n",
       "      <td>-540.952546</td>\n",
       "      <td>4.558212</td>\n",
       "      <td>-11.369986</td>\n",
       "    </tr>\n",
       "    <tr>\n",
       "      <th>std</th>\n",
       "      <td>16.778629</td>\n",
       "      <td>82.479857</td>\n",
       "      <td>125.122531</td>\n",
       "    </tr>\n",
       "    <tr>\n",
       "      <th>min</th>\n",
       "      <td>-561.140780</td>\n",
       "      <td>-156.829653</td>\n",
       "      <td>-282.596295</td>\n",
       "    </tr>\n",
       "    <tr>\n",
       "      <th>25%</th>\n",
       "      <td>-553.513851</td>\n",
       "      <td>-59.742132</td>\n",
       "      <td>-115.832640</td>\n",
       "    </tr>\n",
       "    <tr>\n",
       "      <th>50%</th>\n",
       "      <td>-542.720557</td>\n",
       "      <td>-0.252709</td>\n",
       "      <td>-7.306396</td>\n",
       "    </tr>\n",
       "    <tr>\n",
       "      <th>75%</th>\n",
       "      <td>-534.386987</td>\n",
       "      <td>64.198072</td>\n",
       "      <td>95.095007</td>\n",
       "    </tr>\n",
       "    <tr>\n",
       "      <th>max</th>\n",
       "      <td>-465.070915</td>\n",
       "      <td>168.180145</td>\n",
       "      <td>186.414803</td>\n",
       "    </tr>\n",
       "  </tbody>\n",
       "</table>\n",
       "</div>"
      ],
      "text/plain": [
       "                0           1           2\n",
       "count   65.000000   65.000000   65.000000\n",
       "mean  -540.952546    4.558212  -11.369986\n",
       "std     16.778629   82.479857  125.122531\n",
       "min   -561.140780 -156.829653 -282.596295\n",
       "25%   -553.513851  -59.742132 -115.832640\n",
       "50%   -542.720557   -0.252709   -7.306396\n",
       "75%   -534.386987   64.198072   95.095007\n",
       "max   -465.070915  168.180145  186.414803"
      ]
     },
     "execution_count": 301,
     "metadata": {},
     "output_type": "execute_result"
    }
   ],
   "source": [
    "pd.DataFrame(result).describe()"
   ]
  },
  {
   "cell_type": "code",
   "execution_count": 302,
   "id": "67de91da-22ce-4b92-95fa-e78ea9e6c751",
   "metadata": {},
   "outputs": [],
   "source": [
    "data[\"x_converted\"] = result[:, 1]\n",
    "data[\"y_converted\"] = result[:, 2]\n",
    "data[\"z_converted\"] = result[:, 0]"
   ]
  },
  {
   "cell_type": "code",
   "execution_count": 303,
   "id": "473f937d-e626-48a1-85fa-03dbd70f3656",
   "metadata": {},
   "outputs": [
    {
     "data": {
      "text/html": [
       "<div>\n",
       "<style scoped>\n",
       "    .dataframe tbody tr th:only-of-type {\n",
       "        vertical-align: middle;\n",
       "    }\n",
       "\n",
       "    .dataframe tbody tr th {\n",
       "        vertical-align: top;\n",
       "    }\n",
       "\n",
       "    .dataframe thead th {\n",
       "        text-align: right;\n",
       "    }\n",
       "</style>\n",
       "<table border=\"1\" class=\"dataframe\">\n",
       "  <thead>\n",
       "    <tr style=\"text-align: right;\">\n",
       "      <th></th>\n",
       "      <th>longitude</th>\n",
       "      <th>latitude</th>\n",
       "      <th>d</th>\n",
       "      <th>x</th>\n",
       "      <th>y</th>\n",
       "      <th>z</th>\n",
       "      <th>x_converted</th>\n",
       "      <th>y_converted</th>\n",
       "      <th>z_converted</th>\n",
       "    </tr>\n",
       "  </thead>\n",
       "  <tbody>\n",
       "    <tr>\n",
       "      <th>count</th>\n",
       "      <td>65.000000</td>\n",
       "      <td>65.000000</td>\n",
       "      <td>65.000000</td>\n",
       "      <td>65.000000</td>\n",
       "      <td>65.000000</td>\n",
       "      <td>65.000000</td>\n",
       "      <td>65.000000</td>\n",
       "      <td>65.000000</td>\n",
       "      <td>65.000000</td>\n",
       "    </tr>\n",
       "    <tr>\n",
       "      <th>mean</th>\n",
       "      <td>230.824991</td>\n",
       "      <td>-38.474824</td>\n",
       "      <td>7735.949291</td>\n",
       "      <td>-265.812804</td>\n",
       "      <td>-319.740498</td>\n",
       "      <td>-346.250311</td>\n",
       "      <td>4.558212</td>\n",
       "      <td>-11.369986</td>\n",
       "      <td>-540.952546</td>\n",
       "    </tr>\n",
       "    <tr>\n",
       "      <th>std</th>\n",
       "      <td>18.183547</td>\n",
       "      <td>7.556247</td>\n",
       "      <td>4463.778127</td>\n",
       "      <td>111.323169</td>\n",
       "      <td>84.522573</td>\n",
       "      <td>56.596675</td>\n",
       "      <td>82.479857</td>\n",
       "      <td>125.122531</td>\n",
       "      <td>16.778629</td>\n",
       "    </tr>\n",
       "    <tr>\n",
       "      <th>min</th>\n",
       "      <td>203.810000</td>\n",
       "      <td>-60.940000</td>\n",
       "      <td>4005.566724</td>\n",
       "      <td>-429.264718</td>\n",
       "      <td>-449.182869</td>\n",
       "      <td>-490.726216</td>\n",
       "      <td>-156.829653</td>\n",
       "      <td>-282.596295</td>\n",
       "      <td>-561.140780</td>\n",
       "    </tr>\n",
       "    <tr>\n",
       "      <th>25%</th>\n",
       "      <td>213.840000</td>\n",
       "      <td>-43.860000</td>\n",
       "      <td>4746.227622</td>\n",
       "      <td>-356.273385</td>\n",
       "      <td>-398.920619</td>\n",
       "      <td>-388.993285</td>\n",
       "      <td>-59.742132</td>\n",
       "      <td>-115.832640</td>\n",
       "      <td>-553.513851</td>\n",
       "    </tr>\n",
       "    <tr>\n",
       "      <th>50%</th>\n",
       "      <td>231.370000</td>\n",
       "      <td>-37.440000</td>\n",
       "      <td>5540.056816</td>\n",
       "      <td>-277.535105</td>\n",
       "      <td>-321.332850</td>\n",
       "      <td>-341.292069</td>\n",
       "      <td>-0.252709</td>\n",
       "      <td>-7.306396</td>\n",
       "      <td>-542.720557</td>\n",
       "    </tr>\n",
       "    <tr>\n",
       "      <th>75%</th>\n",
       "      <td>246.420000</td>\n",
       "      <td>-32.490000</td>\n",
       "      <td>9205.847600</td>\n",
       "      <td>-178.311472</td>\n",
       "      <td>-247.457867</td>\n",
       "      <td>-301.557358</td>\n",
       "      <td>64.198072</td>\n",
       "      <td>95.095007</td>\n",
       "      <td>-534.386987</td>\n",
       "    </tr>\n",
       "    <tr>\n",
       "      <th>max</th>\n",
       "      <td>271.310000</td>\n",
       "      <td>-26.232460</td>\n",
       "      <td>21256.495028</td>\n",
       "      <td>6.234102</td>\n",
       "      <td>-155.263173</td>\n",
       "      <td>-248.146721</td>\n",
       "      <td>168.180145</td>\n",
       "      <td>186.414803</td>\n",
       "      <td>-465.070915</td>\n",
       "    </tr>\n",
       "  </tbody>\n",
       "</table>\n",
       "</div>"
      ],
      "text/plain": [
       "        longitude   latitude             d           x           y  \\\n",
       "count   65.000000  65.000000     65.000000   65.000000   65.000000   \n",
       "mean   230.824991 -38.474824   7735.949291 -265.812804 -319.740498   \n",
       "std     18.183547   7.556247   4463.778127  111.323169   84.522573   \n",
       "min    203.810000 -60.940000   4005.566724 -429.264718 -449.182869   \n",
       "25%    213.840000 -43.860000   4746.227622 -356.273385 -398.920619   \n",
       "50%    231.370000 -37.440000   5540.056816 -277.535105 -321.332850   \n",
       "75%    246.420000 -32.490000   9205.847600 -178.311472 -247.457867   \n",
       "max    271.310000 -26.232460  21256.495028    6.234102 -155.263173   \n",
       "\n",
       "                z  x_converted  y_converted  z_converted  \n",
       "count   65.000000    65.000000    65.000000    65.000000  \n",
       "mean  -346.250311     4.558212   -11.369986  -540.952546  \n",
       "std     56.596675    82.479857   125.122531    16.778629  \n",
       "min   -490.726216  -156.829653  -282.596295  -561.140780  \n",
       "25%   -388.993285   -59.742132  -115.832640  -553.513851  \n",
       "50%   -341.292069    -0.252709    -7.306396  -542.720557  \n",
       "75%   -301.557358    64.198072    95.095007  -534.386987  \n",
       "max   -248.146721   168.180145   186.414803  -465.070915  "
      ]
     },
     "execution_count": 303,
     "metadata": {},
     "output_type": "execute_result"
    }
   ],
   "source": [
    "data.describe()"
   ]
  },
  {
   "cell_type": "code",
   "execution_count": null,
   "id": "e68b2cc4-bae3-4b6e-ab6f-45f11d986667",
   "metadata": {},
   "outputs": [],
   "source": []
  },
  {
   "cell_type": "code",
   "execution_count": 304,
   "id": "9c3d9522-37f2-4808-8706-52d7a3dc5b87",
   "metadata": {},
   "outputs": [
    {
     "data": {
      "text/plain": [
       "152433.2018743673"
      ]
     },
     "execution_count": 304,
     "metadata": {},
     "output_type": "execute_result"
    }
   ],
   "source": [
    "x_size_km = (data.x_converted.max() - data.x_converted.min())\n",
    "y_size_km = (data.y_converted.max() - data.y_converted.min())\n",
    "x_size_km * y_size_km"
   ]
  },
  {
   "cell_type": "code",
   "execution_count": 305,
   "id": "deb1c9ab-f369-482a-8f5d-e23568d9f4f0",
   "metadata": {},
   "outputs": [],
   "source": [
    "from sklearn.metrics.pairwise import haversine_distances\n",
    "from sklearn.metrics.pairwise import euclidean_distances\n",
    "\n",
    "subset = data\n",
    "\n",
    "lat_long_rad = np.deg2rad(subset[[\"latitude\", \"longitude\"]])\n",
    "hav_dists = haversine_distances(lat_long_rad, lat_long_rad) * dione_radius_km\n",
    "\n",
    "euc_dists = euclidean_distances(subset[[\"x_converted\", \"y_converted\"]], subset[[\"x_converted\", \"y_converted\"]])"
   ]
  },
  {
   "cell_type": "code",
   "execution_count": 306,
   "id": "7e01129d-4de9-4b1f-949f-49dd0967024c",
   "metadata": {},
   "outputs": [
    {
     "data": {
      "text/plain": [
       "2.9696174379768334"
      ]
     },
     "execution_count": 306,
     "metadata": {},
     "output_type": "execute_result"
    }
   ],
   "source": [
    "abs(hav_dists - euc_dists).mean()"
   ]
  },
  {
   "cell_type": "code",
   "execution_count": null,
   "id": "8e7a56f9-5a5d-4bcb-81c4-60974f76975e",
   "metadata": {},
   "outputs": [],
   "source": []
  },
  {
   "cell_type": "code",
   "execution_count": 307,
   "id": "3b5d9b4a-e871-4d78-bad0-1eb6697f1363",
   "metadata": {},
   "outputs": [],
   "source": [
    "# Finding bounding area\n",
    "min_lat = np.deg2rad(data.latitude.min())\n",
    "max_lat = np.deg2rad(data.latitude.max())\n",
    "\n",
    "min_long = np.deg2rad(data.longitude.min())\n",
    "max_long = np.deg2rad(data.longitude.max())\n",
    "\n",
    "side1 = haversine_distances([[min_lat, min_long]], [[max_lat, min_long]]) * dione_radius_km\n",
    "side2 = haversine_distances([[min_lat, min_long]], [[min_lat, max_long]]) * dione_radius_km"
   ]
  },
  {
   "cell_type": "code",
   "execution_count": 308,
   "id": "348971f1-3eaf-4679-85bf-c1e96b3fc552",
   "metadata": {},
   "outputs": [
    {
     "data": {
      "text/plain": [
       "array([[104333.39330334]])"
      ]
     },
     "execution_count": 308,
     "metadata": {},
     "output_type": "execute_result"
    }
   ],
   "source": [
    "side1 * side2"
   ]
  },
  {
   "cell_type": "code",
   "execution_count": 309,
   "id": "b4ef7d9a-2c49-4357-9be7-da72b657e676",
   "metadata": {},
   "outputs": [
    {
     "data": {
      "application/vnd.plotly.v1+json": {
       "config": {
        "plotlyServerURL": "https://plot.ly"
       },
       "data": [
        {
         "hovertemplate": "x_converted=%{x}<br>y_converted=%{y}<br>z_converted=%{z}<extra></extra>",
         "legendgroup": "",
         "marker": {
          "color": "#636efa",
          "symbol": "circle"
         },
         "mode": "markers",
         "name": "",
         "scene": "scene",
         "showlegend": false,
         "type": "scatter3d",
         "x": [
          -119.52610506184325,
          134.5728176937853,
          54.040386705360085,
          81.83983394237926,
          147.9391748615688,
          -0.25270901939930807,
          -87.93948653550922,
          36.094611938952255,
          65.50800825505414,
          43.911719772955664,
          98.54454339582934,
          168.1801448177395,
          45.440883232992654,
          -18.77235128962046,
          -51.0927163685871,
          7.140499752963947,
          -63.75958292586776,
          -16.93628181744147,
          137.90699209327886,
          46.3961530412549,
          100.8473730077032,
          -70.44921351742143,
          -32.609979557363886,
          162.74175704562154,
          -63.48428656791475,
          -49.83159990070946,
          -24.583816233723287,
          58.2119916213771,
          -33.46885356699169,
          78.48224268909019,
          -123.61602023244296,
          -28.02082345042309,
          -90.68439739118553,
          -59.742132465572105,
          30.712295868422856,
          91.07357609579338,
          -113.55489736830732,
          -133.9975741951733,
          -19.49211467298074,
          -14.275713231424673,
          64.19807230968652,
          29.376214502263476,
          46.8401762806931,
          52.26732778613561,
          -76.56711571594938,
          139.81592051452876,
          128.31200863517452,
          -156.82965302740078,
          68.04634669078686,
          -85.82865865492235,
          -79.24313895352294,
          16.756659975854497,
          24.35378101039831,
          -103.47449800317239,
          -22.9449249968426,
          2.154444089076785,
          -119.19615788094778,
          -87.76600356501723,
          50.358940110376864,
          98.04544449984176,
          -43.24796483754948,
          -47.68499682013262,
          107.69290256639151,
          -41.829079086817686,
          -40.816645543239744
         ],
         "y": [
          23.065269981396273,
          68.03581192568396,
          -91.26707714465853,
          168.55636780922032,
          81.76028861980026,
          -266.28750823632777,
          -124.16633940774578,
          -18.20267759018242,
          -9.409564365355088,
          186.41480264749546,
          124.30389679479171,
          95.09500653889091,
          144.84223281734307,
          -208.5451676150792,
          -75.00453362166662,
          182.67429057659712,
          -3.4037631074420265,
          142.60967466638732,
          -282.59629451025313,
          -82.08538887503516,
          89.72543657396298,
          -117.80728678762902,
          -184.34303415023058,
          101.66978099562438,
          -115.83264018466033,
          -48.7149297740682,
          91.25114052832818,
          -166.01466474110708,
          -203.82984574078986,
          153.10468706516627,
          -76.98108254350659,
          -201.71947928968345,
          19.7630183078269,
          -176.29358107422885,
          -9.309842761500079,
          55.51169539738984,
          -119.56609064476842,
          -26.288412047267606,
          -7.306396113688186,
          -182.95368223002805,
          21.55874078353009,
          123.51219560990418,
          152.2937568439523,
          -35.94752638359221,
          -121.14086975771089,
          67.87347683560313,
          112.80529192066835,
          -53.220740099415984,
          64.51411624396138,
          25.303308156925244,
          -21.40424696814888,
          -3.193688221092998,
          -62.22329120520982,
          -17.629858925500756,
          54.23799421000282,
          -162.93488769762337,
          -6.157243424094765,
          -23.59024928278197,
          111.77155946853946,
          -240.7304627553714,
          -187.4194680361336,
          105.13806664952997,
          122.99885195258315,
          159.8970505045287,
          144.18490684153983
         ],
         "z": [
          -548.0433044289754,
          -540.7691235948741,
          -551.2893226194448,
          -529.207853731638,
          -535.3496201045493,
          -494.2275377753039,
          -540.3881261333853,
          -559.9426769924976,
          -557.4855342992408,
          -527.7226944338067,
          -538.5234202971468,
          -527.1075209295088,
          -540.4866452776537,
          -520.8900765914606,
          -554.0160776279653,
          -530.8004114783777,
          -557.7571962618035,
          -542.720557054685,
          -465.0709148730533,
          -553.425104161536,
          -544.9303748086145,
          -544.3604609948396,
          -529.2676024409158,
          -527.5872782260825,
          -545.6395374483177,
          -557.0580106851021,
          -553.3884940362115,
          -533.1233019877959,
          -522.0183807359634,
          -534.3869874736552,
          -542.1835044266122,
          -523.1577631348496,
          -553.6747449334872,
          -529.6427200297295,
          -560.4819726897974,
          -551.1751222717071,
          -536.6369305700088,
          -544.5397409756631,
          -561.0139339102063,
          -530.5601890174272,
          -557.3004469830873,
          -546.8562293301028,
          -538.3145637193451,
          -557.8045014097661,
          -542.800448107116,
          -539.4577458086239,
          -534.7718715066264,
          -536.4158580379365,
          -553.513851233461,
          -554.2230092208484,
          -555.366854556985,
          -561.140779753174,
          -557.4092889269871,
          -551.4999332160055,
          -558.3025437887285,
          -537.2313661185747,
          -548.5656973415644,
          -553.9951161851535,
          -547.8513079704477,
          -497.600135766072,
          -527.421573827297,
          -549.4015726401436,
          -537.0693448291127,
          -536.5195442690797,
          -541.0311211803755
         ]
        }
       ],
       "layout": {
        "height": 500,
        "legend": {
         "tracegroupgap": 0
        },
        "margin": {
         "t": 60
        },
        "scene": {
         "aspectmode": "auto",
         "aspectratio": {
          "x": 1,
          "y": 1,
          "z": 1
         },
         "camera": {
          "center": {
           "x": 0,
           "y": 0,
           "z": 0
          },
          "eye": {
           "x": 1.986743091281043,
           "y": -0.5234479329030656,
           "z": 0.6829012745533234
          },
          "projection": {
           "type": "perspective"
          },
          "up": {
           "x": 0,
           "y": 0,
           "z": 1
          }
         },
         "domain": {
          "x": [
           0,
           1
          ],
          "y": [
           0,
           1
          ]
         },
         "xaxis": {
          "title": {
           "text": "x_converted"
          },
          "type": "linear"
         },
         "yaxis": {
          "title": {
           "text": "y_converted"
          },
          "type": "linear"
         },
         "zaxis": {
          "title": {
           "text": "z_converted"
          },
          "type": "linear"
         }
        },
        "template": {
         "data": {
          "bar": [
           {
            "error_x": {
             "color": "#2a3f5f"
            },
            "error_y": {
             "color": "#2a3f5f"
            },
            "marker": {
             "line": {
              "color": "#E5ECF6",
              "width": 0.5
             },
             "pattern": {
              "fillmode": "overlay",
              "size": 10,
              "solidity": 0.2
             }
            },
            "type": "bar"
           }
          ],
          "barpolar": [
           {
            "marker": {
             "line": {
              "color": "#E5ECF6",
              "width": 0.5
             },
             "pattern": {
              "fillmode": "overlay",
              "size": 10,
              "solidity": 0.2
             }
            },
            "type": "barpolar"
           }
          ],
          "carpet": [
           {
            "aaxis": {
             "endlinecolor": "#2a3f5f",
             "gridcolor": "white",
             "linecolor": "white",
             "minorgridcolor": "white",
             "startlinecolor": "#2a3f5f"
            },
            "baxis": {
             "endlinecolor": "#2a3f5f",
             "gridcolor": "white",
             "linecolor": "white",
             "minorgridcolor": "white",
             "startlinecolor": "#2a3f5f"
            },
            "type": "carpet"
           }
          ],
          "choropleth": [
           {
            "colorbar": {
             "outlinewidth": 0,
             "ticks": ""
            },
            "type": "choropleth"
           }
          ],
          "contour": [
           {
            "colorbar": {
             "outlinewidth": 0,
             "ticks": ""
            },
            "colorscale": [
             [
              0,
              "#0d0887"
             ],
             [
              0.1111111111111111,
              "#46039f"
             ],
             [
              0.2222222222222222,
              "#7201a8"
             ],
             [
              0.3333333333333333,
              "#9c179e"
             ],
             [
              0.4444444444444444,
              "#bd3786"
             ],
             [
              0.5555555555555556,
              "#d8576b"
             ],
             [
              0.6666666666666666,
              "#ed7953"
             ],
             [
              0.7777777777777778,
              "#fb9f3a"
             ],
             [
              0.8888888888888888,
              "#fdca26"
             ],
             [
              1,
              "#f0f921"
             ]
            ],
            "type": "contour"
           }
          ],
          "contourcarpet": [
           {
            "colorbar": {
             "outlinewidth": 0,
             "ticks": ""
            },
            "type": "contourcarpet"
           }
          ],
          "heatmap": [
           {
            "colorbar": {
             "outlinewidth": 0,
             "ticks": ""
            },
            "colorscale": [
             [
              0,
              "#0d0887"
             ],
             [
              0.1111111111111111,
              "#46039f"
             ],
             [
              0.2222222222222222,
              "#7201a8"
             ],
             [
              0.3333333333333333,
              "#9c179e"
             ],
             [
              0.4444444444444444,
              "#bd3786"
             ],
             [
              0.5555555555555556,
              "#d8576b"
             ],
             [
              0.6666666666666666,
              "#ed7953"
             ],
             [
              0.7777777777777778,
              "#fb9f3a"
             ],
             [
              0.8888888888888888,
              "#fdca26"
             ],
             [
              1,
              "#f0f921"
             ]
            ],
            "type": "heatmap"
           }
          ],
          "heatmapgl": [
           {
            "colorbar": {
             "outlinewidth": 0,
             "ticks": ""
            },
            "colorscale": [
             [
              0,
              "#0d0887"
             ],
             [
              0.1111111111111111,
              "#46039f"
             ],
             [
              0.2222222222222222,
              "#7201a8"
             ],
             [
              0.3333333333333333,
              "#9c179e"
             ],
             [
              0.4444444444444444,
              "#bd3786"
             ],
             [
              0.5555555555555556,
              "#d8576b"
             ],
             [
              0.6666666666666666,
              "#ed7953"
             ],
             [
              0.7777777777777778,
              "#fb9f3a"
             ],
             [
              0.8888888888888888,
              "#fdca26"
             ],
             [
              1,
              "#f0f921"
             ]
            ],
            "type": "heatmapgl"
           }
          ],
          "histogram": [
           {
            "marker": {
             "pattern": {
              "fillmode": "overlay",
              "size": 10,
              "solidity": 0.2
             }
            },
            "type": "histogram"
           }
          ],
          "histogram2d": [
           {
            "colorbar": {
             "outlinewidth": 0,
             "ticks": ""
            },
            "colorscale": [
             [
              0,
              "#0d0887"
             ],
             [
              0.1111111111111111,
              "#46039f"
             ],
             [
              0.2222222222222222,
              "#7201a8"
             ],
             [
              0.3333333333333333,
              "#9c179e"
             ],
             [
              0.4444444444444444,
              "#bd3786"
             ],
             [
              0.5555555555555556,
              "#d8576b"
             ],
             [
              0.6666666666666666,
              "#ed7953"
             ],
             [
              0.7777777777777778,
              "#fb9f3a"
             ],
             [
              0.8888888888888888,
              "#fdca26"
             ],
             [
              1,
              "#f0f921"
             ]
            ],
            "type": "histogram2d"
           }
          ],
          "histogram2dcontour": [
           {
            "colorbar": {
             "outlinewidth": 0,
             "ticks": ""
            },
            "colorscale": [
             [
              0,
              "#0d0887"
             ],
             [
              0.1111111111111111,
              "#46039f"
             ],
             [
              0.2222222222222222,
              "#7201a8"
             ],
             [
              0.3333333333333333,
              "#9c179e"
             ],
             [
              0.4444444444444444,
              "#bd3786"
             ],
             [
              0.5555555555555556,
              "#d8576b"
             ],
             [
              0.6666666666666666,
              "#ed7953"
             ],
             [
              0.7777777777777778,
              "#fb9f3a"
             ],
             [
              0.8888888888888888,
              "#fdca26"
             ],
             [
              1,
              "#f0f921"
             ]
            ],
            "type": "histogram2dcontour"
           }
          ],
          "mesh3d": [
           {
            "colorbar": {
             "outlinewidth": 0,
             "ticks": ""
            },
            "type": "mesh3d"
           }
          ],
          "parcoords": [
           {
            "line": {
             "colorbar": {
              "outlinewidth": 0,
              "ticks": ""
             }
            },
            "type": "parcoords"
           }
          ],
          "pie": [
           {
            "automargin": true,
            "type": "pie"
           }
          ],
          "scatter": [
           {
            "fillpattern": {
             "fillmode": "overlay",
             "size": 10,
             "solidity": 0.2
            },
            "type": "scatter"
           }
          ],
          "scatter3d": [
           {
            "line": {
             "colorbar": {
              "outlinewidth": 0,
              "ticks": ""
             }
            },
            "marker": {
             "colorbar": {
              "outlinewidth": 0,
              "ticks": ""
             }
            },
            "type": "scatter3d"
           }
          ],
          "scattercarpet": [
           {
            "marker": {
             "colorbar": {
              "outlinewidth": 0,
              "ticks": ""
             }
            },
            "type": "scattercarpet"
           }
          ],
          "scattergeo": [
           {
            "marker": {
             "colorbar": {
              "outlinewidth": 0,
              "ticks": ""
             }
            },
            "type": "scattergeo"
           }
          ],
          "scattergl": [
           {
            "marker": {
             "colorbar": {
              "outlinewidth": 0,
              "ticks": ""
             }
            },
            "type": "scattergl"
           }
          ],
          "scattermapbox": [
           {
            "marker": {
             "colorbar": {
              "outlinewidth": 0,
              "ticks": ""
             }
            },
            "type": "scattermapbox"
           }
          ],
          "scatterpolar": [
           {
            "marker": {
             "colorbar": {
              "outlinewidth": 0,
              "ticks": ""
             }
            },
            "type": "scatterpolar"
           }
          ],
          "scatterpolargl": [
           {
            "marker": {
             "colorbar": {
              "outlinewidth": 0,
              "ticks": ""
             }
            },
            "type": "scatterpolargl"
           }
          ],
          "scatterternary": [
           {
            "marker": {
             "colorbar": {
              "outlinewidth": 0,
              "ticks": ""
             }
            },
            "type": "scatterternary"
           }
          ],
          "surface": [
           {
            "colorbar": {
             "outlinewidth": 0,
             "ticks": ""
            },
            "colorscale": [
             [
              0,
              "#0d0887"
             ],
             [
              0.1111111111111111,
              "#46039f"
             ],
             [
              0.2222222222222222,
              "#7201a8"
             ],
             [
              0.3333333333333333,
              "#9c179e"
             ],
             [
              0.4444444444444444,
              "#bd3786"
             ],
             [
              0.5555555555555556,
              "#d8576b"
             ],
             [
              0.6666666666666666,
              "#ed7953"
             ],
             [
              0.7777777777777778,
              "#fb9f3a"
             ],
             [
              0.8888888888888888,
              "#fdca26"
             ],
             [
              1,
              "#f0f921"
             ]
            ],
            "type": "surface"
           }
          ],
          "table": [
           {
            "cells": {
             "fill": {
              "color": "#EBF0F8"
             },
             "line": {
              "color": "white"
             }
            },
            "header": {
             "fill": {
              "color": "#C8D4E3"
             },
             "line": {
              "color": "white"
             }
            },
            "type": "table"
           }
          ]
         },
         "layout": {
          "annotationdefaults": {
           "arrowcolor": "#2a3f5f",
           "arrowhead": 0,
           "arrowwidth": 1
          },
          "autotypenumbers": "strict",
          "coloraxis": {
           "colorbar": {
            "outlinewidth": 0,
            "ticks": ""
           }
          },
          "colorscale": {
           "diverging": [
            [
             0,
             "#8e0152"
            ],
            [
             0.1,
             "#c51b7d"
            ],
            [
             0.2,
             "#de77ae"
            ],
            [
             0.3,
             "#f1b6da"
            ],
            [
             0.4,
             "#fde0ef"
            ],
            [
             0.5,
             "#f7f7f7"
            ],
            [
             0.6,
             "#e6f5d0"
            ],
            [
             0.7,
             "#b8e186"
            ],
            [
             0.8,
             "#7fbc41"
            ],
            [
             0.9,
             "#4d9221"
            ],
            [
             1,
             "#276419"
            ]
           ],
           "sequential": [
            [
             0,
             "#0d0887"
            ],
            [
             0.1111111111111111,
             "#46039f"
            ],
            [
             0.2222222222222222,
             "#7201a8"
            ],
            [
             0.3333333333333333,
             "#9c179e"
            ],
            [
             0.4444444444444444,
             "#bd3786"
            ],
            [
             0.5555555555555556,
             "#d8576b"
            ],
            [
             0.6666666666666666,
             "#ed7953"
            ],
            [
             0.7777777777777778,
             "#fb9f3a"
            ],
            [
             0.8888888888888888,
             "#fdca26"
            ],
            [
             1,
             "#f0f921"
            ]
           ],
           "sequentialminus": [
            [
             0,
             "#0d0887"
            ],
            [
             0.1111111111111111,
             "#46039f"
            ],
            [
             0.2222222222222222,
             "#7201a8"
            ],
            [
             0.3333333333333333,
             "#9c179e"
            ],
            [
             0.4444444444444444,
             "#bd3786"
            ],
            [
             0.5555555555555556,
             "#d8576b"
            ],
            [
             0.6666666666666666,
             "#ed7953"
            ],
            [
             0.7777777777777778,
             "#fb9f3a"
            ],
            [
             0.8888888888888888,
             "#fdca26"
            ],
            [
             1,
             "#f0f921"
            ]
           ]
          },
          "colorway": [
           "#636efa",
           "#EF553B",
           "#00cc96",
           "#ab63fa",
           "#FFA15A",
           "#19d3f3",
           "#FF6692",
           "#B6E880",
           "#FF97FF",
           "#FECB52"
          ],
          "font": {
           "color": "#2a3f5f"
          },
          "geo": {
           "bgcolor": "white",
           "lakecolor": "white",
           "landcolor": "#E5ECF6",
           "showlakes": true,
           "showland": true,
           "subunitcolor": "white"
          },
          "hoverlabel": {
           "align": "left"
          },
          "hovermode": "closest",
          "mapbox": {
           "style": "light"
          },
          "paper_bgcolor": "white",
          "plot_bgcolor": "#E5ECF6",
          "polar": {
           "angularaxis": {
            "gridcolor": "white",
            "linecolor": "white",
            "ticks": ""
           },
           "bgcolor": "#E5ECF6",
           "radialaxis": {
            "gridcolor": "white",
            "linecolor": "white",
            "ticks": ""
           }
          },
          "scene": {
           "xaxis": {
            "backgroundcolor": "#E5ECF6",
            "gridcolor": "white",
            "gridwidth": 2,
            "linecolor": "white",
            "showbackground": true,
            "ticks": "",
            "zerolinecolor": "white"
           },
           "yaxis": {
            "backgroundcolor": "#E5ECF6",
            "gridcolor": "white",
            "gridwidth": 2,
            "linecolor": "white",
            "showbackground": true,
            "ticks": "",
            "zerolinecolor": "white"
           },
           "zaxis": {
            "backgroundcolor": "#E5ECF6",
            "gridcolor": "white",
            "gridwidth": 2,
            "linecolor": "white",
            "showbackground": true,
            "ticks": "",
            "zerolinecolor": "white"
           }
          },
          "shapedefaults": {
           "line": {
            "color": "#2a3f5f"
           }
          },
          "ternary": {
           "aaxis": {
            "gridcolor": "white",
            "linecolor": "white",
            "ticks": ""
           },
           "baxis": {
            "gridcolor": "white",
            "linecolor": "white",
            "ticks": ""
           },
           "bgcolor": "#E5ECF6",
           "caxis": {
            "gridcolor": "white",
            "linecolor": "white",
            "ticks": ""
           }
          },
          "title": {
           "x": 0.05
          },
          "xaxis": {
           "automargin": true,
           "gridcolor": "white",
           "linecolor": "white",
           "ticks": "",
           "title": {
            "standoff": 15
           },
           "zerolinecolor": "white",
           "zerolinewidth": 2
          },
          "yaxis": {
           "automargin": true,
           "gridcolor": "white",
           "linecolor": "white",
           "ticks": "",
           "title": {
            "standoff": 15
           },
           "zerolinecolor": "white",
           "zerolinewidth": 2
          }
         }
        },
        "width": 500
       }
      },
      "text/html": [
       "<div>                            <div id=\"6a875710-d569-4136-bad2-2eb981d094ab\" class=\"plotly-graph-div\" style=\"height:500px; width:500px;\"></div>            <script type=\"text/javascript\">                require([\"plotly\"], function(Plotly) {                    window.PLOTLYENV=window.PLOTLYENV || {};                                    if (document.getElementById(\"6a875710-d569-4136-bad2-2eb981d094ab\")) {                    Plotly.newPlot(                        \"6a875710-d569-4136-bad2-2eb981d094ab\",                        [{\"hovertemplate\":\"x_converted=%{x}<br>y_converted=%{y}<br>z_converted=%{z}<extra></extra>\",\"legendgroup\":\"\",\"marker\":{\"color\":\"#636efa\",\"symbol\":\"circle\"},\"mode\":\"markers\",\"name\":\"\",\"scene\":\"scene\",\"showlegend\":false,\"x\":[-119.52610506184325,134.5728176937853,54.040386705360085,81.83983394237926,147.9391748615688,-0.25270901939930807,-87.93948653550922,36.094611938952255,65.50800825505414,43.911719772955664,98.54454339582934,168.1801448177395,45.440883232992654,-18.77235128962046,-51.0927163685871,7.140499752963947,-63.75958292586776,-16.93628181744147,137.90699209327886,46.3961530412549,100.8473730077032,-70.44921351742143,-32.609979557363886,162.74175704562154,-63.48428656791475,-49.83159990070946,-24.583816233723287,58.2119916213771,-33.46885356699169,78.48224268909019,-123.61602023244296,-28.02082345042309,-90.68439739118553,-59.742132465572105,30.712295868422856,91.07357609579338,-113.55489736830732,-133.9975741951733,-19.49211467298074,-14.275713231424673,64.19807230968652,29.376214502263476,46.8401762806931,52.26732778613561,-76.56711571594938,139.81592051452876,128.31200863517452,-156.82965302740078,68.04634669078686,-85.82865865492235,-79.24313895352294,16.756659975854497,24.35378101039831,-103.47449800317239,-22.9449249968426,2.154444089076785,-119.19615788094778,-87.76600356501723,50.358940110376864,98.04544449984176,-43.24796483754948,-47.68499682013262,107.69290256639151,-41.829079086817686,-40.816645543239744],\"y\":[23.065269981396273,68.03581192568396,-91.26707714465853,168.55636780922032,81.76028861980026,-266.28750823632777,-124.16633940774578,-18.20267759018242,-9.409564365355088,186.41480264749546,124.30389679479171,95.09500653889091,144.84223281734307,-208.5451676150792,-75.00453362166662,182.67429057659712,-3.4037631074420265,142.60967466638732,-282.59629451025313,-82.08538887503516,89.72543657396298,-117.80728678762902,-184.34303415023058,101.66978099562438,-115.83264018466033,-48.7149297740682,91.25114052832818,-166.01466474110708,-203.82984574078986,153.10468706516627,-76.98108254350659,-201.71947928968345,19.7630183078269,-176.29358107422885,-9.309842761500079,55.51169539738984,-119.56609064476842,-26.288412047267606,-7.306396113688186,-182.95368223002805,21.55874078353009,123.51219560990418,152.2937568439523,-35.94752638359221,-121.14086975771089,67.87347683560313,112.80529192066835,-53.220740099415984,64.51411624396138,25.303308156925244,-21.40424696814888,-3.193688221092998,-62.22329120520982,-17.629858925500756,54.23799421000282,-162.93488769762337,-6.157243424094765,-23.59024928278197,111.77155946853946,-240.7304627553714,-187.4194680361336,105.13806664952997,122.99885195258315,159.8970505045287,144.18490684153983],\"z\":[-548.0433044289754,-540.7691235948741,-551.2893226194448,-529.207853731638,-535.3496201045493,-494.2275377753039,-540.3881261333853,-559.9426769924976,-557.4855342992408,-527.7226944338067,-538.5234202971468,-527.1075209295088,-540.4866452776537,-520.8900765914606,-554.0160776279653,-530.8004114783777,-557.7571962618035,-542.720557054685,-465.0709148730533,-553.425104161536,-544.9303748086145,-544.3604609948396,-529.2676024409158,-527.5872782260825,-545.6395374483177,-557.0580106851021,-553.3884940362115,-533.1233019877959,-522.0183807359634,-534.3869874736552,-542.1835044266122,-523.1577631348496,-553.6747449334872,-529.6427200297295,-560.4819726897974,-551.1751222717071,-536.6369305700088,-544.5397409756631,-561.0139339102063,-530.5601890174272,-557.3004469830873,-546.8562293301028,-538.3145637193451,-557.8045014097661,-542.800448107116,-539.4577458086239,-534.7718715066264,-536.4158580379365,-553.513851233461,-554.2230092208484,-555.366854556985,-561.140779753174,-557.4092889269871,-551.4999332160055,-558.3025437887285,-537.2313661185747,-548.5656973415644,-553.9951161851535,-547.8513079704477,-497.600135766072,-527.421573827297,-549.4015726401436,-537.0693448291127,-536.5195442690797,-541.0311211803755],\"type\":\"scatter3d\"}],                        {\"template\":{\"data\":{\"histogram2dcontour\":[{\"type\":\"histogram2dcontour\",\"colorbar\":{\"outlinewidth\":0,\"ticks\":\"\"},\"colorscale\":[[0.0,\"#0d0887\"],[0.1111111111111111,\"#46039f\"],[0.2222222222222222,\"#7201a8\"],[0.3333333333333333,\"#9c179e\"],[0.4444444444444444,\"#bd3786\"],[0.5555555555555556,\"#d8576b\"],[0.6666666666666666,\"#ed7953\"],[0.7777777777777778,\"#fb9f3a\"],[0.8888888888888888,\"#fdca26\"],[1.0,\"#f0f921\"]]}],\"choropleth\":[{\"type\":\"choropleth\",\"colorbar\":{\"outlinewidth\":0,\"ticks\":\"\"}}],\"histogram2d\":[{\"type\":\"histogram2d\",\"colorbar\":{\"outlinewidth\":0,\"ticks\":\"\"},\"colorscale\":[[0.0,\"#0d0887\"],[0.1111111111111111,\"#46039f\"],[0.2222222222222222,\"#7201a8\"],[0.3333333333333333,\"#9c179e\"],[0.4444444444444444,\"#bd3786\"],[0.5555555555555556,\"#d8576b\"],[0.6666666666666666,\"#ed7953\"],[0.7777777777777778,\"#fb9f3a\"],[0.8888888888888888,\"#fdca26\"],[1.0,\"#f0f921\"]]}],\"heatmap\":[{\"type\":\"heatmap\",\"colorbar\":{\"outlinewidth\":0,\"ticks\":\"\"},\"colorscale\":[[0.0,\"#0d0887\"],[0.1111111111111111,\"#46039f\"],[0.2222222222222222,\"#7201a8\"],[0.3333333333333333,\"#9c179e\"],[0.4444444444444444,\"#bd3786\"],[0.5555555555555556,\"#d8576b\"],[0.6666666666666666,\"#ed7953\"],[0.7777777777777778,\"#fb9f3a\"],[0.8888888888888888,\"#fdca26\"],[1.0,\"#f0f921\"]]}],\"heatmapgl\":[{\"type\":\"heatmapgl\",\"colorbar\":{\"outlinewidth\":0,\"ticks\":\"\"},\"colorscale\":[[0.0,\"#0d0887\"],[0.1111111111111111,\"#46039f\"],[0.2222222222222222,\"#7201a8\"],[0.3333333333333333,\"#9c179e\"],[0.4444444444444444,\"#bd3786\"],[0.5555555555555556,\"#d8576b\"],[0.6666666666666666,\"#ed7953\"],[0.7777777777777778,\"#fb9f3a\"],[0.8888888888888888,\"#fdca26\"],[1.0,\"#f0f921\"]]}],\"contourcarpet\":[{\"type\":\"contourcarpet\",\"colorbar\":{\"outlinewidth\":0,\"ticks\":\"\"}}],\"contour\":[{\"type\":\"contour\",\"colorbar\":{\"outlinewidth\":0,\"ticks\":\"\"},\"colorscale\":[[0.0,\"#0d0887\"],[0.1111111111111111,\"#46039f\"],[0.2222222222222222,\"#7201a8\"],[0.3333333333333333,\"#9c179e\"],[0.4444444444444444,\"#bd3786\"],[0.5555555555555556,\"#d8576b\"],[0.6666666666666666,\"#ed7953\"],[0.7777777777777778,\"#fb9f3a\"],[0.8888888888888888,\"#fdca26\"],[1.0,\"#f0f921\"]]}],\"surface\":[{\"type\":\"surface\",\"colorbar\":{\"outlinewidth\":0,\"ticks\":\"\"},\"colorscale\":[[0.0,\"#0d0887\"],[0.1111111111111111,\"#46039f\"],[0.2222222222222222,\"#7201a8\"],[0.3333333333333333,\"#9c179e\"],[0.4444444444444444,\"#bd3786\"],[0.5555555555555556,\"#d8576b\"],[0.6666666666666666,\"#ed7953\"],[0.7777777777777778,\"#fb9f3a\"],[0.8888888888888888,\"#fdca26\"],[1.0,\"#f0f921\"]]}],\"mesh3d\":[{\"type\":\"mesh3d\",\"colorbar\":{\"outlinewidth\":0,\"ticks\":\"\"}}],\"scatter\":[{\"fillpattern\":{\"fillmode\":\"overlay\",\"size\":10,\"solidity\":0.2},\"type\":\"scatter\"}],\"parcoords\":[{\"type\":\"parcoords\",\"line\":{\"colorbar\":{\"outlinewidth\":0,\"ticks\":\"\"}}}],\"scatterpolargl\":[{\"type\":\"scatterpolargl\",\"marker\":{\"colorbar\":{\"outlinewidth\":0,\"ticks\":\"\"}}}],\"bar\":[{\"error_x\":{\"color\":\"#2a3f5f\"},\"error_y\":{\"color\":\"#2a3f5f\"},\"marker\":{\"line\":{\"color\":\"#E5ECF6\",\"width\":0.5},\"pattern\":{\"fillmode\":\"overlay\",\"size\":10,\"solidity\":0.2}},\"type\":\"bar\"}],\"scattergeo\":[{\"type\":\"scattergeo\",\"marker\":{\"colorbar\":{\"outlinewidth\":0,\"ticks\":\"\"}}}],\"scatterpolar\":[{\"type\":\"scatterpolar\",\"marker\":{\"colorbar\":{\"outlinewidth\":0,\"ticks\":\"\"}}}],\"histogram\":[{\"marker\":{\"pattern\":{\"fillmode\":\"overlay\",\"size\":10,\"solidity\":0.2}},\"type\":\"histogram\"}],\"scattergl\":[{\"type\":\"scattergl\",\"marker\":{\"colorbar\":{\"outlinewidth\":0,\"ticks\":\"\"}}}],\"scatter3d\":[{\"type\":\"scatter3d\",\"line\":{\"colorbar\":{\"outlinewidth\":0,\"ticks\":\"\"}},\"marker\":{\"colorbar\":{\"outlinewidth\":0,\"ticks\":\"\"}}}],\"scattermapbox\":[{\"type\":\"scattermapbox\",\"marker\":{\"colorbar\":{\"outlinewidth\":0,\"ticks\":\"\"}}}],\"scatterternary\":[{\"type\":\"scatterternary\",\"marker\":{\"colorbar\":{\"outlinewidth\":0,\"ticks\":\"\"}}}],\"scattercarpet\":[{\"type\":\"scattercarpet\",\"marker\":{\"colorbar\":{\"outlinewidth\":0,\"ticks\":\"\"}}}],\"carpet\":[{\"aaxis\":{\"endlinecolor\":\"#2a3f5f\",\"gridcolor\":\"white\",\"linecolor\":\"white\",\"minorgridcolor\":\"white\",\"startlinecolor\":\"#2a3f5f\"},\"baxis\":{\"endlinecolor\":\"#2a3f5f\",\"gridcolor\":\"white\",\"linecolor\":\"white\",\"minorgridcolor\":\"white\",\"startlinecolor\":\"#2a3f5f\"},\"type\":\"carpet\"}],\"table\":[{\"cells\":{\"fill\":{\"color\":\"#EBF0F8\"},\"line\":{\"color\":\"white\"}},\"header\":{\"fill\":{\"color\":\"#C8D4E3\"},\"line\":{\"color\":\"white\"}},\"type\":\"table\"}],\"barpolar\":[{\"marker\":{\"line\":{\"color\":\"#E5ECF6\",\"width\":0.5},\"pattern\":{\"fillmode\":\"overlay\",\"size\":10,\"solidity\":0.2}},\"type\":\"barpolar\"}],\"pie\":[{\"automargin\":true,\"type\":\"pie\"}]},\"layout\":{\"autotypenumbers\":\"strict\",\"colorway\":[\"#636efa\",\"#EF553B\",\"#00cc96\",\"#ab63fa\",\"#FFA15A\",\"#19d3f3\",\"#FF6692\",\"#B6E880\",\"#FF97FF\",\"#FECB52\"],\"font\":{\"color\":\"#2a3f5f\"},\"hovermode\":\"closest\",\"hoverlabel\":{\"align\":\"left\"},\"paper_bgcolor\":\"white\",\"plot_bgcolor\":\"#E5ECF6\",\"polar\":{\"bgcolor\":\"#E5ECF6\",\"angularaxis\":{\"gridcolor\":\"white\",\"linecolor\":\"white\",\"ticks\":\"\"},\"radialaxis\":{\"gridcolor\":\"white\",\"linecolor\":\"white\",\"ticks\":\"\"}},\"ternary\":{\"bgcolor\":\"#E5ECF6\",\"aaxis\":{\"gridcolor\":\"white\",\"linecolor\":\"white\",\"ticks\":\"\"},\"baxis\":{\"gridcolor\":\"white\",\"linecolor\":\"white\",\"ticks\":\"\"},\"caxis\":{\"gridcolor\":\"white\",\"linecolor\":\"white\",\"ticks\":\"\"}},\"coloraxis\":{\"colorbar\":{\"outlinewidth\":0,\"ticks\":\"\"}},\"colorscale\":{\"sequential\":[[0.0,\"#0d0887\"],[0.1111111111111111,\"#46039f\"],[0.2222222222222222,\"#7201a8\"],[0.3333333333333333,\"#9c179e\"],[0.4444444444444444,\"#bd3786\"],[0.5555555555555556,\"#d8576b\"],[0.6666666666666666,\"#ed7953\"],[0.7777777777777778,\"#fb9f3a\"],[0.8888888888888888,\"#fdca26\"],[1.0,\"#f0f921\"]],\"sequentialminus\":[[0.0,\"#0d0887\"],[0.1111111111111111,\"#46039f\"],[0.2222222222222222,\"#7201a8\"],[0.3333333333333333,\"#9c179e\"],[0.4444444444444444,\"#bd3786\"],[0.5555555555555556,\"#d8576b\"],[0.6666666666666666,\"#ed7953\"],[0.7777777777777778,\"#fb9f3a\"],[0.8888888888888888,\"#fdca26\"],[1.0,\"#f0f921\"]],\"diverging\":[[0,\"#8e0152\"],[0.1,\"#c51b7d\"],[0.2,\"#de77ae\"],[0.3,\"#f1b6da\"],[0.4,\"#fde0ef\"],[0.5,\"#f7f7f7\"],[0.6,\"#e6f5d0\"],[0.7,\"#b8e186\"],[0.8,\"#7fbc41\"],[0.9,\"#4d9221\"],[1,\"#276419\"]]},\"xaxis\":{\"gridcolor\":\"white\",\"linecolor\":\"white\",\"ticks\":\"\",\"title\":{\"standoff\":15},\"zerolinecolor\":\"white\",\"automargin\":true,\"zerolinewidth\":2},\"yaxis\":{\"gridcolor\":\"white\",\"linecolor\":\"white\",\"ticks\":\"\",\"title\":{\"standoff\":15},\"zerolinecolor\":\"white\",\"automargin\":true,\"zerolinewidth\":2},\"scene\":{\"xaxis\":{\"backgroundcolor\":\"#E5ECF6\",\"gridcolor\":\"white\",\"linecolor\":\"white\",\"showbackground\":true,\"ticks\":\"\",\"zerolinecolor\":\"white\",\"gridwidth\":2},\"yaxis\":{\"backgroundcolor\":\"#E5ECF6\",\"gridcolor\":\"white\",\"linecolor\":\"white\",\"showbackground\":true,\"ticks\":\"\",\"zerolinecolor\":\"white\",\"gridwidth\":2},\"zaxis\":{\"backgroundcolor\":\"#E5ECF6\",\"gridcolor\":\"white\",\"linecolor\":\"white\",\"showbackground\":true,\"ticks\":\"\",\"zerolinecolor\":\"white\",\"gridwidth\":2}},\"shapedefaults\":{\"line\":{\"color\":\"#2a3f5f\"}},\"annotationdefaults\":{\"arrowcolor\":\"#2a3f5f\",\"arrowhead\":0,\"arrowwidth\":1},\"geo\":{\"bgcolor\":\"white\",\"landcolor\":\"#E5ECF6\",\"subunitcolor\":\"white\",\"showland\":true,\"showlakes\":true,\"lakecolor\":\"white\"},\"title\":{\"x\":0.05},\"mapbox\":{\"style\":\"light\"}}},\"scene\":{\"domain\":{\"x\":[0.0,1.0],\"y\":[0.0,1.0]},\"xaxis\":{\"title\":{\"text\":\"x_converted\"}},\"yaxis\":{\"title\":{\"text\":\"y_converted\"}},\"zaxis\":{\"title\":{\"text\":\"z_converted\"}}},\"legend\":{\"tracegroupgap\":0},\"margin\":{\"t\":60},\"height\":500,\"width\":500},                        {\"responsive\": true}                    ).then(function(){\n",
       "                            \n",
       "var gd = document.getElementById('6a875710-d569-4136-bad2-2eb981d094ab');\n",
       "var x = new MutationObserver(function (mutations, observer) {{\n",
       "        var display = window.getComputedStyle(gd).display;\n",
       "        if (!display || display === 'none') {{\n",
       "            console.log([gd, 'removed!']);\n",
       "            Plotly.purge(gd);\n",
       "            observer.disconnect();\n",
       "        }}\n",
       "}});\n",
       "\n",
       "// Listen for the removal of the full notebook cells\n",
       "var notebookContainer = gd.closest('#notebook-container');\n",
       "if (notebookContainer) {{\n",
       "    x.observe(notebookContainer, {childList: true});\n",
       "}}\n",
       "\n",
       "// Listen for the clearing of the current output cell\n",
       "var outputEl = gd.closest('.output');\n",
       "if (outputEl) {{\n",
       "    x.observe(outputEl, {childList: true});\n",
       "}}\n",
       "\n",
       "                        })                };                });            </script>        </div>"
      ]
     },
     "metadata": {},
     "output_type": "display_data"
    }
   ],
   "source": [
    "fig = px.scatter_3d(\n",
    "    data,\n",
    "    x=\"x_converted\",\n",
    "    y=\"y_converted\",\n",
    "    z=\"z_converted\",\n",
    "    width=500,\n",
    "    height=500\n",
    ")\n",
    "fig.show()"
   ]
  },
  {
   "cell_type": "code",
   "execution_count": 310,
   "id": "36936703-94c5-4dcf-860b-ff6f9a8712cd",
   "metadata": {},
   "outputs": [
    {
     "data": {
      "text/plain": [
       "<matplotlib.collections.PathCollection at 0x7f2f8c2e81f0>"
      ]
     },
     "execution_count": 310,
     "metadata": {},
     "output_type": "execute_result"
    },
    {
     "data": {
      "image/png": "[encoded data removed]",
      "text/plain": [
       "<Figure size 432x288 with 1 Axes>"
      ]
     },
     "metadata": {
      "needs_background": "light"
     },
     "output_type": "display_data"
    }
   ],
   "source": [
    "plt.scatter(data.x_converted, data.y_converted)"
   ]
  },
  {
   "cell_type": "code",
   "execution_count": null,
   "id": "f0fd422b-3476-43bd-b4e5-fb1d59edc4d8",
   "metadata": {},
   "outputs": [],
   "source": []
  },
  {
   "cell_type": "markdown",
   "id": "3303f54f-8c02-465a-ab81-702ee6d563cc",
   "metadata": {},
   "source": [
    "### Calculate areal density"
   ]
  },
  {
   "cell_type": "code",
   "execution_count": 600,
   "id": "e83cb48b-e20b-4050-9c71-58bcbfac5e12",
   "metadata": {},
   "outputs": [],
   "source": [
    "data[\"x\"] = data.x * 1000\n",
    "data[\"y\"] = data.y * 1000\n",
    "data[\"r\"] = data.d / 2"
   ]
  },
  {
   "cell_type": "code",
   "execution_count": 601,
   "id": "35a592b1-fbf3-429e-bfb0-882e1d39e741",
   "metadata": {},
   "outputs": [
    {
     "data": {
      "text/html": [
       "<div>\n",
       "<style scoped>\n",
       "    .dataframe tbody tr th:only-of-type {\n",
       "        vertical-align: middle;\n",
       "    }\n",
       "\n",
       "    .dataframe tbody tr th {\n",
       "        vertical-align: top;\n",
       "    }\n",
       "\n",
       "    .dataframe thead th {\n",
       "        text-align: right;\n",
       "    }\n",
       "</style>\n",
       "<table border=\"1\" class=\"dataframe\">\n",
       "  <thead>\n",
       "    <tr style=\"text-align: right;\">\n",
       "      <th></th>\n",
       "      <th>longitude</th>\n",
       "      <th>latitude</th>\n",
       "      <th>d</th>\n",
       "      <th>z</th>\n",
       "      <th>y</th>\n",
       "      <th>x</th>\n",
       "      <th>r</th>\n",
       "    </tr>\n",
       "  </thead>\n",
       "  <tbody>\n",
       "    <tr>\n",
       "      <th>0</th>\n",
       "      <td>187.09000</td>\n",
       "      <td>-15.64</td>\n",
       "      <td>11993.510790</td>\n",
       "      <td>-536.480128</td>\n",
       "      <td>-66727.048306</td>\n",
       "      <td>-151349.043872</td>\n",
       "      <td>5996.755395</td>\n",
       "    </tr>\n",
       "    <tr>\n",
       "      <th>1</th>\n",
       "      <td>198.25000</td>\n",
       "      <td>-15.27</td>\n",
       "      <td>8176.053123</td>\n",
       "      <td>-514.338077</td>\n",
       "      <td>-169603.262313</td>\n",
       "      <td>-147854.779893</td>\n",
       "      <td>4088.026561</td>\n",
       "    </tr>\n",
       "    <tr>\n",
       "      <th>2</th>\n",
       "      <td>190.25000</td>\n",
       "      <td>-15.20</td>\n",
       "      <td>22582.112330</td>\n",
       "      <td>-533.114144</td>\n",
       "      <td>-96402.741461</td>\n",
       "      <td>-147193.004889</td>\n",
       "      <td>11291.056165</td>\n",
       "    </tr>\n",
       "    <tr>\n",
       "      <th>3</th>\n",
       "      <td>198.77000</td>\n",
       "      <td>-15.01</td>\n",
       "      <td>5067.715359</td>\n",
       "      <td>-513.407625</td>\n",
       "      <td>-174478.292180</td>\n",
       "      <td>-145395.653809</td>\n",
       "      <td>2533.857679</td>\n",
       "    </tr>\n",
       "    <tr>\n",
       "      <th>4</th>\n",
       "      <td>185.60001</td>\n",
       "      <td>-14.94</td>\n",
       "      <td>7899.051475</td>\n",
       "      <td>-539.833845</td>\n",
       "      <td>-52931.266411</td>\n",
       "      <td>-144733.067743</td>\n",
       "      <td>3949.525738</td>\n",
       "    </tr>\n",
       "    <tr>\n",
       "      <th>...</th>\n",
       "      <td>...</td>\n",
       "      <td>...</td>\n",
       "      <td>...</td>\n",
       "      <td>...</td>\n",
       "      <td>...</td>\n",
       "      <td>...</td>\n",
       "      <td>...</td>\n",
       "    </tr>\n",
       "    <tr>\n",
       "      <th>294</th>\n",
       "      <td>190.00000</td>\n",
       "      <td>11.54</td>\n",
       "      <td>5458.626133</td>\n",
       "      <td>-541.694939</td>\n",
       "      <td>-95515.433064</td>\n",
       "      <td>112309.194079</td>\n",
       "      <td>2729.313066</td>\n",
       "    </tr>\n",
       "    <tr>\n",
       "      <th>295</th>\n",
       "      <td>191.42000</td>\n",
       "      <td>11.91</td>\n",
       "      <td>6699.588607</td>\n",
       "      <td>-538.439464</td>\n",
       "      <td>-108764.046293</td>\n",
       "      <td>115858.904953</td>\n",
       "      <td>3349.794303</td>\n",
       "    </tr>\n",
       "    <tr>\n",
       "      <th>296</th>\n",
       "      <td>190.25000</td>\n",
       "      <td>12.38</td>\n",
       "      <td>2130.464944</td>\n",
       "      <td>-539.594647</td>\n",
       "      <td>-97574.607254</td>\n",
       "      <td>120361.011193</td>\n",
       "      <td>1065.232472</td>\n",
       "    </tr>\n",
       "    <tr>\n",
       "      <th>297</th>\n",
       "      <td>191.86000</td>\n",
       "      <td>12.52</td>\n",
       "      <td>7971.775868</td>\n",
       "      <td>-536.350742</td>\n",
       "      <td>-112635.814697</td>\n",
       "      <td>121700.512260</td>\n",
       "      <td>3985.887934</td>\n",
       "    </tr>\n",
       "    <tr>\n",
       "      <th>298</th>\n",
       "      <td>190.64999</td>\n",
       "      <td>12.81</td>\n",
       "      <td>8597.090029</td>\n",
       "      <td>-537.997414</td>\n",
       "      <td>-101169.396013</td>\n",
       "      <td>124472.872517</td>\n",
       "      <td>4298.545015</td>\n",
       "    </tr>\n",
       "  </tbody>\n",
       "</table>\n",
       "<p>299 rows × 7 columns</p>\n",
       "</div>"
      ],
      "text/plain": [
       "     longitude  latitude             d           z              y  \\\n",
       "0    187.09000    -15.64  11993.510790 -536.480128  -66727.048306   \n",
       "1    198.25000    -15.27   8176.053123 -514.338077 -169603.262313   \n",
       "2    190.25000    -15.20  22582.112330 -533.114144  -96402.741461   \n",
       "3    198.77000    -15.01   5067.715359 -513.407625 -174478.292180   \n",
       "4    185.60001    -14.94   7899.051475 -539.833845  -52931.266411   \n",
       "..         ...       ...           ...         ...            ...   \n",
       "294  190.00000     11.54   5458.626133 -541.694939  -95515.433064   \n",
       "295  191.42000     11.91   6699.588607 -538.439464 -108764.046293   \n",
       "296  190.25000     12.38   2130.464944 -539.594647  -97574.607254   \n",
       "297  191.86000     12.52   7971.775868 -536.350742 -112635.814697   \n",
       "298  190.64999     12.81   8597.090029 -537.997414 -101169.396013   \n",
       "\n",
       "                 x             r  \n",
       "0   -151349.043872   5996.755395  \n",
       "1   -147854.779893   4088.026561  \n",
       "2   -147193.004889  11291.056165  \n",
       "3   -145395.653809   2533.857679  \n",
       "4   -144733.067743   3949.525738  \n",
       "..             ...           ...  \n",
       "294  112309.194079   2729.313066  \n",
       "295  115858.904953   3349.794303  \n",
       "296  120361.011193   1065.232472  \n",
       "297  121700.512260   3985.887934  \n",
       "298  124472.872517   4298.545015  \n",
       "\n",
       "[299 rows x 7 columns]"
      ]
     },
     "execution_count": 601,
     "metadata": {},
     "output_type": "execute_result"
    }
   ],
   "source": [
    "data"
   ]
  },
  {
   "cell_type": "code",
   "execution_count": 602,
   "id": "aeb165b4-5500-4ce5-a547-40f453490a98",
   "metadata": {},
   "outputs": [],
   "source": [
    "x_range = data.x.max() - data.x.min()\n",
    "y_range = data.y.max() - data.y.min()\n",
    "\n",
    "# Scale the larger dimension of x and y to (0, 10000)\n",
    "scale_range = x_range if x_range > y_range else y_range\n",
    "pixels_per_meter = scale_range / 10000"
   ]
  },
  {
   "cell_type": "code",
   "execution_count": 603,
   "id": "33751cd8-f9ab-4536-90ff-39f5ea368bb6",
   "metadata": {},
   "outputs": [],
   "source": [
    "data[\"x_scaled\"] = (data.x - data.x.min()) / pixels_per_meter\n",
    "data[\"y_scaled\"] = (data.y - data.y.min()) / pixels_per_meter\n",
    "data[\"r_scaled\"] = data.r / pixels_per_meter"
   ]
  },
  {
   "cell_type": "code",
   "execution_count": 604,
   "id": "1373eb5e-61f5-47e2-88ce-95a93b9d442f",
   "metadata": {},
   "outputs": [
    {
     "data": {
      "text/plain": [
       "count      299.000000\n",
       "mean      4526.945350\n",
       "std       2426.999049\n",
       "min          0.000000\n",
       "25%       2647.479527\n",
       "50%       4450.351736\n",
       "75%       6557.753090\n",
       "max      10000.000000\n",
       "Name: x_scaled, dtype: float64"
      ]
     },
     "execution_count": 604,
     "metadata": {},
     "output_type": "execute_result"
    }
   ],
   "source": [
    "data.x_scaled.describe()"
   ]
  },
  {
   "cell_type": "code",
   "execution_count": 605,
   "id": "d59ef6fd-3847-451f-b29b-b3c4635d40ad",
   "metadata": {},
   "outputs": [
    {
     "data": {
      "text/plain": [
       "count     299.000000\n",
       "mean     3428.359676\n",
       "std      1895.650701\n",
       "min         0.000000\n",
       "25%      1847.721836\n",
       "50%      3414.216803\n",
       "75%      4835.680081\n",
       "max      7397.398428\n",
       "Name: y_scaled, dtype: float64"
      ]
     },
     "execution_count": 605,
     "metadata": {},
     "output_type": "execute_result"
    }
   ],
   "source": [
    "data.y_scaled.describe()"
   ]
  },
  {
   "cell_type": "code",
   "execution_count": 606,
   "id": "641b840e-064b-40fd-8ae5-d35582e765f0",
   "metadata": {},
   "outputs": [
    {
     "data": {
      "text/plain": [
       "count    299.000000\n",
       "mean     120.669946\n",
       "std       84.935248\n",
       "min       30.642420\n",
       "25%       61.260944\n",
       "50%      101.579497\n",
       "75%      150.243700\n",
       "max      612.016900\n",
       "Name: r_scaled, dtype: float64"
      ]
     },
     "execution_count": 606,
     "metadata": {},
     "output_type": "execute_result"
    }
   ],
   "source": [
    "data.r_scaled.describe()"
   ]
  },
  {
   "cell_type": "code",
   "execution_count": 607,
   "id": "dca69132-d20c-4173-affc-383d5f0a5d0b",
   "metadata": {},
   "outputs": [],
   "source": [
    "calculator = ArealDensityCalculator((math.ceil(data.x_scaled.max()), math.ceil(data.y_scaled.max())),\n",
    "                                    (0, 0),\n",
    "                                    0)"
   ]
  },
  {
   "cell_type": "code",
   "execution_count": 608,
   "id": "d216cbb4-a83d-4abd-a943-598901b349d6",
   "metadata": {},
   "outputs": [],
   "source": [
    "for idx, row in enumerate(data.itertuples()):\n",
    "    crater = Crater(id=idx,\n",
    "                    x=row.x_scaled,\n",
    "                    y=row.y_scaled,\n",
    "                    radius=row.r_scaled,\n",
    "                   )\n",
    "    calculator.add_crater(crater)"
   ]
  },
  {
   "cell_type": "code",
   "execution_count": 609,
   "id": "a176afa7-1f8e-4d0d-bbb5-462c1e4bfd94",
   "metadata": {},
   "outputs": [
    {
     "data": {
      "text/plain": [
       "0.25075278810408924"
      ]
     },
     "execution_count": 613,
     "metadata": {},
     "output_type": "execute_result"
    }
   ],
   "source": [
    "calculator.areal_density"
   ]
  },
  {
   "cell_type": "code",
   "execution_count": null,
   "id": "7a8d6464-e44b-467f-bd99-b710b2646cf1",
   "metadata": {},
   "outputs": [],
   "source": []
  }
 ],
 "metadata": {
  "kernelspec": {
   "display_name": "Python 3 (ipykernel)",
   "language": "python",
   "name": "python3"
  },
  "language_info": {
   "codemirror_mode": {
    "name": "ipython",
    "version": 3
   },
   "file_extension": ".py",
   "mimetype": "text/x-python",
   "name": "python",
   "nbconvert_exporter": "python",
   "pygments_lexer": "ipython3",
   "version": "3.10.6"
  }
 },
 "nbformat": 4,
 "nbformat_minor": 5
}
