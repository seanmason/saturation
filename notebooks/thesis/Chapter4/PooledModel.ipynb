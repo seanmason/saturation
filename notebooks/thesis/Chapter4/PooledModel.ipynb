{
 "cells": [
  {
   "cell_type": "code",
   "execution_count": 1,
   "id": "6f6c173c-18cd-475b-9481-248892d582eb",
   "metadata": {},
   "outputs": [],
   "source": [
    "%load_ext autoreload\n",
    "%autoreload 2"
   ]
  },
  {
   "cell_type": "code",
   "execution_count": 2,
   "id": "5487422c-9a66-4376-9022-7ea9254ca9b6",
   "metadata": {},
   "outputs": [],
   "source": [
    "import statsmodels.formula.api as smf\n",
    "from statsmodels.iolib.smpickle import load_pickle\n",
    "from scipy.stats import chi2, norm\n",
    "\n",
    "from saturation.utils import *"
   ]
  },
  {
   "cell_type": "markdown",
   "id": "9539ba90-c591-4afa-8480-924c4209c213",
   "metadata": {},
   "source": [
    "# Configuration variables"
   ]
  },
  {
   "cell_type": "code",
   "execution_count": 3,
   "id": "f6205593-dada-441d-967a-99f4f82e3975",
   "metadata": {},
   "outputs": [],
   "source": [
    "BASE_PATH = \"/data/saturation/thesis_run_20250223/\"\n",
    "\n",
    "# Range of simulation IDs to be used for fitting, inclusive\n",
    "MIN_SIMULATION_ID = 1\n",
    "MAX_SIMULATION_ID = 150\n",
    "\n",
    "# Filter on the simulations to be used for fitting, inclusive\n",
    "MAX_SLOPE = -2\n",
    "\n",
    "N_NSTATS = 100"
   ]
  },
  {
   "cell_type": "markdown",
   "id": "fb8e1e6d-8490-4e97-9676-323b0839d5de",
   "metadata": {},
   "source": [
    "# Retrieve simulation configuration"
   ]
  },
  {
   "cell_type": "code",
   "execution_count": 4,
   "id": "4374409e-9979-48d7-bfab-fbad58c22de7",
   "metadata": {},
   "outputs": [],
   "source": [
    "configs_df = read_configs_pandas(base_path=BASE_PATH)\n",
    "configs_dict = configs_df.set_index(\"simulation_id\").to_dict(orient=\"index\")"
   ]
  },
  {
   "cell_type": "code",
   "execution_count": 5,
   "id": "5358aa57-91ca-45ee-a4a4-a66430cd0d78",
   "metadata": {},
   "outputs": [],
   "source": [
    "steep_slope_simulation_ids = list(\n",
    "    configs_df[configs_df.simulation_id.between(MIN_SIMULATION_ID, MAX_SIMULATION_ID) & (configs_df.slope <= MAX_SLOPE)].simulation_id\n",
    ")\n",
    "shallow_slope_simulation_ids = list(\n",
    "    configs_df[configs_df.simulation_id.between(MIN_SIMULATION_ID, MAX_SIMULATION_ID) & (configs_df.slope > MAX_SLOPE)].simulation_id\n",
    ")\n",
    "all_simulation_ids = list(configs_dict.keys())"
   ]
  },
  {
   "cell_type": "code",
   "execution_count": 6,
   "id": "9dcbae96-b27a-4552-b47c-f8ab7839987e",
   "metadata": {},
   "outputs": [],
   "source": [
    "statistics_by_simulation_id = []\n",
    "for simulation_id in steep_slope_simulation_ids + shallow_slope_simulation_ids:\n",
    "    statistics = pd.read_parquet(f\"data/statistics_{simulation_id}.parquet\")\n",
    "    statistics[\"slope\"] = configs_dict[simulation_id][\"slope\"]\n",
    "    statistics[\"rim_erasure_exponent\"] = configs_dict[simulation_id][\"rim_erasure_method\"][\"exponent\"]\n",
    "    statistics_by_simulation_id.append(statistics)\n",
    "statistics = pd.concat(statistics_by_simulation_id, axis=0)"
   ]
  },
  {
   "cell_type": "markdown",
   "id": "6f47ac3b-7b60-43b8-9a9d-f5ba7861879b",
   "metadata": {},
   "source": [
    "# Fit the pooled model"
   ]
  },
  {
   "cell_type": "markdown",
   "id": "100acd7f-369b-4a43-b7fc-12511fe38214",
   "metadata": {},
   "source": [
    "## Load the statistics data back from disk"
   ]
  },
  {
   "cell_type": "code",
   "execution_count": 7,
   "id": "b3209606-5ba1-481f-ab0c-2a7cdf62dcaf",
   "metadata": {},
   "outputs": [],
   "source": [
    "statistics_by_simulation_id = []\n",
    "for simulation_id in steep_slope_simulation_ids + shallow_slope_simulation_ids:\n",
    "    statistics = pd.read_parquet(f\"data/statistics_{simulation_id}.parquet\")\n",
    "    statistics[\"slope\"] = configs_dict[simulation_id][\"slope\"]\n",
    "    statistics[\"rim_erasure_exponent\"] = configs_dict[simulation_id][\"rim_erasure_method\"][\"exponent\"]\n",
    "    statistics_by_simulation_id.append(statistics)\n",
    "statistics = pd.concat(statistics_by_simulation_id, axis=0)"
   ]
  },
  {
   "cell_type": "code",
   "execution_count": null,
   "id": "4b03f5b1-9355-4598-8904-55f068f92035",
   "metadata": {},
   "outputs": [],
   "source": []
  },
  {
   "cell_type": "markdown",
   "id": "e1ff3889-4c1b-4e9f-8122-aacbf6a7381f",
   "metadata": {},
   "source": [
    "## Fit the model, write out to disk"
   ]
  },
  {
   "cell_type": "code",
   "execution_count": 8,
   "id": "01ecad08-36f7-4fab-a891-4a5ea157ed74",
   "metadata": {},
   "outputs": [
    {
     "name": "stderr",
     "output_type": "stream",
     "text": [
      "/home/mason/code/saturation/venv/lib/python3.12/site-packages/scipy/optimize/_optimize.py:1291: OptimizeWarning: Desired error not necessarily achieved due to precision loss.\n",
      "  res = _minimize_bfgs(f, x0, args, fprime, callback=callback, **opts)\n"
     ]
    },
    {
     "name": "stdout",
     "output_type": "stream",
     "text": [
      "         Current function value: 15.594769\n",
      "         Iterations: 19\n",
      "         Function evaluations: 88\n",
      "         Gradient evaluations: 75\n"
     ]
    },
    {
     "name": "stderr",
     "output_type": "stream",
     "text": [
      "/home/mason/code/saturation/venv/lib/python3.12/site-packages/statsmodels/base/model.py:607: ConvergenceWarning: Maximum Likelihood optimization failed to converge. Check mle_retvals\n",
      "  warnings.warn(\"Maximum Likelihood optimization failed to \"\n"
     ]
    },
    {
     "data": {
      "text/html": [
       "<table class=\"simpletable\">\n",
       "<caption>NegativeBinomial Regression Results</caption>\n",
       "<tr>\n",
       "  <th>Dep. Variable:</th>       <td>lifespan</td>     <th>  No. Observations:  </th>  <td>10999999</td>  \n",
       "</tr>\n",
       "<tr>\n",
       "  <th>Model:</th>           <td>NegativeBinomial</td> <th>  Df Residuals:      </th>  <td>10999995</td>  \n",
       "</tr>\n",
       "<tr>\n",
       "  <th>Method:</th>                 <td>MLE</td>       <th>  Df Model:          </th>   <td>     3</td>   \n",
       "</tr>\n",
       "<tr>\n",
       "  <th>Date:</th>            <td>Wed, 05 Mar 2025</td> <th>  Pseudo R-squ.:     </th>   <td>0.05710</td>  \n",
       "</tr>\n",
       "<tr>\n",
       "  <th>Time:</th>                <td>19:22:38</td>     <th>  Log-Likelihood:    </th> <td>-1.7154e+08</td>\n",
       "</tr>\n",
       "<tr>\n",
       "  <th>converged:</th>             <td>False</td>      <th>  LL-Null:           </th> <td>-1.8193e+08</td>\n",
       "</tr>\n",
       "<tr>\n",
       "  <th>Covariance Type:</th>     <td>nonrobust</td>    <th>  LLR p-value:       </th>   <td> 0.000</td>   \n",
       "</tr>\n",
       "</table>\n",
       "<table class=\"simpletable\">\n",
       "<tr>\n",
       "                      <td></td>                         <th>coef</th>     <th>std err</th>      <th>z</th>      <th>P>|z|</th>  <th>[0.025</th>    <th>0.975]</th>  \n",
       "</tr>\n",
       "<tr>\n",
       "  <th>Intercept</th>                                 <td>   11.9369</td> <td>    0.002</td> <td> 7376.949</td> <td> 0.000</td> <td>   11.934</td> <td>   11.940</td>\n",
       "</tr>\n",
       "<tr>\n",
       "  <th>slope:rim_erasure_exponent:np.log(radius)</th> <td>   -0.9171</td> <td>    0.000</td> <td>-1880.532</td> <td> 0.000</td> <td>   -0.918</td> <td>   -0.916</td>\n",
       "</tr>\n",
       "<tr>\n",
       "  <th>rim_erasure_exponent:np.log(radius)</th>       <td>   -1.6872</td> <td>    0.002</td> <td>-1081.656</td> <td> 0.000</td> <td>   -1.690</td> <td>   -1.684</td>\n",
       "</tr>\n",
       "<tr>\n",
       "  <th>np.log(-slope)</th>                            <td>    1.6945</td> <td>    0.001</td> <td> 1213.842</td> <td> 0.000</td> <td>    1.692</td> <td>    1.697</td>\n",
       "</tr>\n",
       "<tr>\n",
       "  <th>alpha</th>                                     <td>    0.3188</td> <td>    0.000</td> <td> 2464.362</td> <td> 0.000</td> <td>    0.319</td> <td>    0.319</td>\n",
       "</tr>\n",
       "</table>"
      ],
      "text/latex": [
       "\\begin{center}\n",
       "\\begin{tabular}{lclc}\n",
       "\\toprule\n",
       "\\textbf{Dep. Variable:}                              &     lifespan     & \\textbf{  No. Observations:  } &   10999999   \\\\\n",
       "\\textbf{Model:}                                      & NegativeBinomial & \\textbf{  Df Residuals:      } &   10999995   \\\\\n",
       "\\textbf{Method:}                                     &       MLE        & \\textbf{  Df Model:          } &         3    \\\\\n",
       "\\textbf{Date:}                                       & Wed, 05 Mar 2025 & \\textbf{  Pseudo R-squ.:     } &   0.05710    \\\\\n",
       "\\textbf{Time:}                                       &     19:22:38     & \\textbf{  Log-Likelihood:    } & -1.7154e+08  \\\\\n",
       "\\textbf{converged:}                                  &      False       & \\textbf{  LL-Null:           } & -1.8193e+08  \\\\\n",
       "\\textbf{Covariance Type:}                            &    nonrobust     & \\textbf{  LLR p-value:       } &     0.000    \\\\\n",
       "\\bottomrule\n",
       "\\end{tabular}\n",
       "\\begin{tabular}{lcccccc}\n",
       "                                                     & \\textbf{coef} & \\textbf{std err} & \\textbf{z} & \\textbf{P$> |$z$|$} & \\textbf{[0.025} & \\textbf{0.975]}  \\\\\n",
       "\\midrule\n",
       "\\textbf{Intercept}                                   &      11.9369  &        0.002     &  7376.949  &         0.000        &       11.934    &       11.940     \\\\\n",
       "\\textbf{slope:rim\\_erasure\\_exponent:np.log(radius)} &      -0.9171  &        0.000     & -1880.532  &         0.000        &       -0.918    &       -0.916     \\\\\n",
       "\\textbf{rim\\_erasure\\_exponent:np.log(radius)}       &      -1.6872  &        0.002     & -1081.656  &         0.000        &       -1.690    &       -1.684     \\\\\n",
       "\\textbf{np.log(-slope)}                              &       1.6945  &        0.001     &  1213.842  &         0.000        &        1.692    &        1.697     \\\\\n",
       "\\textbf{alpha}                                       &       0.3188  &        0.000     &  2464.362  &         0.000        &        0.319    &        0.319     \\\\\n",
       "\\bottomrule\n",
       "\\end{tabular}\n",
       "%\\caption{NegativeBinomial Regression Results}\n",
       "\\end{center}"
      ],
      "text/plain": [
       "<class 'statsmodels.iolib.summary.Summary'>\n",
       "\"\"\"\n",
       "                     NegativeBinomial Regression Results                      \n",
       "==============================================================================\n",
       "Dep. Variable:               lifespan   No. Observations:             10999999\n",
       "Model:               NegativeBinomial   Df Residuals:                 10999995\n",
       "Method:                           MLE   Df Model:                            3\n",
       "Date:                Wed, 05 Mar 2025   Pseudo R-squ.:                 0.05710\n",
       "Time:                        19:22:38   Log-Likelihood:            -1.7154e+08\n",
       "converged:                      False   LL-Null:                   -1.8193e+08\n",
       "Covariance Type:            nonrobust   LLR p-value:                     0.000\n",
       "=============================================================================================================\n",
       "                                                coef    std err          z      P>|z|      [0.025      0.975]\n",
       "-------------------------------------------------------------------------------------------------------------\n",
       "Intercept                                    11.9369      0.002   7376.949      0.000      11.934      11.940\n",
       "slope:rim_erasure_exponent:np.log(radius)    -0.9171      0.000  -1880.532      0.000      -0.918      -0.916\n",
       "rim_erasure_exponent:np.log(radius)          -1.6872      0.002  -1081.656      0.000      -1.690      -1.684\n",
       "np.log(-slope)                                1.6945      0.001   1213.842      0.000       1.692       1.697\n",
       "alpha                                         0.3188      0.000   2464.362      0.000       0.319       0.319\n",
       "=============================================================================================================\n",
       "\"\"\""
      ]
     },
     "execution_count": 8,
     "metadata": {},
     "output_type": "execute_result"
    }
   ],
   "source": [
    "# Sample the data; 10% is nearly the max that can fit into memory\n",
    "steep_slope_statistics_sample = statistics.loc[steep_slope_simulation_ids].sample(frac=0.1).copy()\n",
    "\n",
    "model_formula = (\n",
    "    \"lifespan ~ 1 \"\n",
    "    \"+ slope:rim_erasure_exponent:np.log(radius) \"\n",
    "    \"+ rim_erasure_exponent:np.log(radius) \"\n",
    "    \"+ np.log(-slope)\"\n",
    ")\n",
    "\n",
    "lifespan_model = smf.negativebinomial(\n",
    "    data=steep_slope_statistics_sample,\n",
    "    formula=model_formula\n",
    ").fit(\n",
    "    maxiter=1000,\n",
    "    method=\"BFGS\"\n",
    ")\n",
    "lifespan_model.summary()"
   ]
  },
  {
   "cell_type": "code",
   "execution_count": 9,
   "id": "06a606d3-870c-40ea-bb61-e8d62c7a4a84",
   "metadata": {},
   "outputs": [],
   "source": [
    "lifespan_model.save(\"data/pooled_lifespan_model_steep_slope.pkl\")"
   ]
  },
  {
   "cell_type": "code",
   "execution_count": 10,
   "id": "01af6fc4-03d9-47b6-b56c-7e9945dee92f",
   "metadata": {},
   "outputs": [
    {
     "data": {
      "text/plain": [
       "0.7846409323940443"
      ]
     },
     "execution_count": 10,
     "metadata": {},
     "output_type": "execute_result"
    }
   ],
   "source": [
    "# Dispersion statistic\n",
    "np.sum(lifespan_model.resid_pearson**2) / lifespan_model.df_resid"
   ]
  },
  {
   "cell_type": "markdown",
   "id": "2596f584-ecba-4f93-9289-e3728036b535",
   "metadata": {},
   "source": [
    "# Create the prediction dataset"
   ]
  },
  {
   "cell_type": "markdown",
   "id": "9e04d5be-6d96-4b01-b0f6-ae75fd4846d5",
   "metadata": {},
   "source": [
    "## Reload the model from disk"
   ]
  },
  {
   "cell_type": "code",
   "execution_count": 11,
   "id": "bc9e6a3f-87e6-4796-a7ed-d33f6912c324",
   "metadata": {},
   "outputs": [],
   "source": [
    "lifespan_model = load_pickle(\"data/pooled_lifespan_model_steep_slope.pkl\")"
   ]
  },
  {
   "cell_type": "code",
   "execution_count": 12,
   "id": "0e516a62-dfe6-4012-91e0-6f6e3181192b",
   "metadata": {},
   "outputs": [
    {
     "data": {
      "text/html": [
       "<table class=\"simpletable\">\n",
       "<caption>NegativeBinomial Regression Results</caption>\n",
       "<tr>\n",
       "  <th>Dep. Variable:</th>       <td>lifespan</td>     <th>  No. Observations:  </th>  <td>10999999</td>  \n",
       "</tr>\n",
       "<tr>\n",
       "  <th>Model:</th>           <td>NegativeBinomial</td> <th>  Df Residuals:      </th>  <td>10999995</td>  \n",
       "</tr>\n",
       "<tr>\n",
       "  <th>Method:</th>                 <td>MLE</td>       <th>  Df Model:          </th>   <td>     3</td>   \n",
       "</tr>\n",
       "<tr>\n",
       "  <th>Date:</th>            <td>Wed, 05 Mar 2025</td> <th>  Pseudo R-squ.:     </th>   <td>0.05710</td>  \n",
       "</tr>\n",
       "<tr>\n",
       "  <th>Time:</th>                <td>19:22:41</td>     <th>  Log-Likelihood:    </th> <td>-1.7154e+08</td>\n",
       "</tr>\n",
       "<tr>\n",
       "  <th>converged:</th>             <td>False</td>      <th>  LL-Null:           </th> <td>-1.8193e+08</td>\n",
       "</tr>\n",
       "<tr>\n",
       "  <th>Covariance Type:</th>     <td>nonrobust</td>    <th>  LLR p-value:       </th>   <td> 0.000</td>   \n",
       "</tr>\n",
       "</table>\n",
       "<table class=\"simpletable\">\n",
       "<tr>\n",
       "                      <td></td>                         <th>coef</th>     <th>std err</th>      <th>z</th>      <th>P>|z|</th>  <th>[0.025</th>    <th>0.975]</th>  \n",
       "</tr>\n",
       "<tr>\n",
       "  <th>Intercept</th>                                 <td>   11.9369</td> <td>    0.002</td> <td> 7376.949</td> <td> 0.000</td> <td>   11.934</td> <td>   11.940</td>\n",
       "</tr>\n",
       "<tr>\n",
       "  <th>slope:rim_erasure_exponent:np.log(radius)</th> <td>   -0.9171</td> <td>    0.000</td> <td>-1880.532</td> <td> 0.000</td> <td>   -0.918</td> <td>   -0.916</td>\n",
       "</tr>\n",
       "<tr>\n",
       "  <th>rim_erasure_exponent:np.log(radius)</th>       <td>   -1.6872</td> <td>    0.002</td> <td>-1081.656</td> <td> 0.000</td> <td>   -1.690</td> <td>   -1.684</td>\n",
       "</tr>\n",
       "<tr>\n",
       "  <th>np.log(-slope)</th>                            <td>    1.6945</td> <td>    0.001</td> <td> 1213.842</td> <td> 0.000</td> <td>    1.692</td> <td>    1.697</td>\n",
       "</tr>\n",
       "<tr>\n",
       "  <th>alpha</th>                                     <td>    0.3188</td> <td>    0.000</td> <td> 2464.362</td> <td> 0.000</td> <td>    0.319</td> <td>    0.319</td>\n",
       "</tr>\n",
       "</table>"
      ],
      "text/latex": [
       "\\begin{center}\n",
       "\\begin{tabular}{lclc}\n",
       "\\toprule\n",
       "\\textbf{Dep. Variable:}                              &     lifespan     & \\textbf{  No. Observations:  } &   10999999   \\\\\n",
       "\\textbf{Model:}                                      & NegativeBinomial & \\textbf{  Df Residuals:      } &   10999995   \\\\\n",
       "\\textbf{Method:}                                     &       MLE        & \\textbf{  Df Model:          } &         3    \\\\\n",
       "\\textbf{Date:}                                       & Wed, 05 Mar 2025 & \\textbf{  Pseudo R-squ.:     } &   0.05710    \\\\\n",
       "\\textbf{Time:}                                       &     19:22:41     & \\textbf{  Log-Likelihood:    } & -1.7154e+08  \\\\\n",
       "\\textbf{converged:}                                  &      False       & \\textbf{  LL-Null:           } & -1.8193e+08  \\\\\n",
       "\\textbf{Covariance Type:}                            &    nonrobust     & \\textbf{  LLR p-value:       } &     0.000    \\\\\n",
       "\\bottomrule\n",
       "\\end{tabular}\n",
       "\\begin{tabular}{lcccccc}\n",
       "                                                     & \\textbf{coef} & \\textbf{std err} & \\textbf{z} & \\textbf{P$> |$z$|$} & \\textbf{[0.025} & \\textbf{0.975]}  \\\\\n",
       "\\midrule\n",
       "\\textbf{Intercept}                                   &      11.9369  &        0.002     &  7376.949  &         0.000        &       11.934    &       11.940     \\\\\n",
       "\\textbf{slope:rim\\_erasure\\_exponent:np.log(radius)} &      -0.9171  &        0.000     & -1880.532  &         0.000        &       -0.918    &       -0.916     \\\\\n",
       "\\textbf{rim\\_erasure\\_exponent:np.log(radius)}       &      -1.6872  &        0.002     & -1081.656  &         0.000        &       -1.690    &       -1.684     \\\\\n",
       "\\textbf{np.log(-slope)}                              &       1.6945  &        0.001     &  1213.842  &         0.000        &        1.692    &        1.697     \\\\\n",
       "\\textbf{alpha}                                       &       0.3188  &        0.000     &  2464.362  &         0.000        &        0.319    &        0.319     \\\\\n",
       "\\bottomrule\n",
       "\\end{tabular}\n",
       "%\\caption{NegativeBinomial Regression Results}\n",
       "\\end{center}"
      ],
      "text/plain": [
       "<class 'statsmodels.iolib.summary.Summary'>\n",
       "\"\"\"\n",
       "                     NegativeBinomial Regression Results                      \n",
       "==============================================================================\n",
       "Dep. Variable:               lifespan   No. Observations:             10999999\n",
       "Model:               NegativeBinomial   Df Residuals:                 10999995\n",
       "Method:                           MLE   Df Model:                            3\n",
       "Date:                Wed, 05 Mar 2025   Pseudo R-squ.:                 0.05710\n",
       "Time:                        19:22:41   Log-Likelihood:            -1.7154e+08\n",
       "converged:                      False   LL-Null:                   -1.8193e+08\n",
       "Covariance Type:            nonrobust   LLR p-value:                     0.000\n",
       "=============================================================================================================\n",
       "                                                coef    std err          z      P>|z|      [0.025      0.975]\n",
       "-------------------------------------------------------------------------------------------------------------\n",
       "Intercept                                    11.9369      0.002   7376.949      0.000      11.934      11.940\n",
       "slope:rim_erasure_exponent:np.log(radius)    -0.9171      0.000  -1880.532      0.000      -0.918      -0.916\n",
       "rim_erasure_exponent:np.log(radius)          -1.6872      0.002  -1081.656      0.000      -1.690      -1.684\n",
       "np.log(-slope)                                1.6945      0.001   1213.842      0.000       1.692       1.697\n",
       "alpha                                         0.3188      0.000   2464.362      0.000       0.319       0.319\n",
       "=============================================================================================================\n",
       "\"\"\""
      ]
     },
     "execution_count": 12,
     "metadata": {},
     "output_type": "execute_result"
    }
   ],
   "source": [
    "lifespan_model.summary()"
   ]
  },
  {
   "cell_type": "code",
   "execution_count": null,
   "id": "9985da2a-296d-4898-a63e-a99d612d1f93",
   "metadata": {},
   "outputs": [],
   "source": []
  },
  {
   "cell_type": "markdown",
   "id": "a33546ae-d796-43c1-9386-d914a136e79b",
   "metadata": {},
   "source": [
    "## Predict using Little's Law (or simply production slope) for all simulations"
   ]
  },
  {
   "cell_type": "code",
   "execution_count": 13,
   "id": "48bd7a7b-dc45-4dbc-b68b-08c1276b3049",
   "metadata": {},
   "outputs": [],
   "source": [
    "# Extract coefficients\n",
    "slope_exponent_radius_coeff = lifespan_model.params[\"slope:rim_erasure_exponent:np.log(radius)\"]\n",
    "exponent_radius_coeff = lifespan_model.params[\"rim_erasure_exponent:np.log(radius)\"]"
   ]
  },
  {
   "cell_type": "code",
   "execution_count": 14,
   "id": "a7831273-e97b-4336-8a9f-83d31ece2952",
   "metadata": {},
   "outputs": [],
   "source": [
    "# Construct Little's Law model predictions for each simulation\n",
    "predictions = pd.DataFrame(all_simulation_ids, columns=[\"simulation_id\"])\n",
    "predictions[\"slope\"] = [configs_dict[x][\"slope\"] for x in all_simulation_ids]\n",
    "predictions[\"rim_erasure_exponent\"] = [configs_dict[x][\"rim_erasure_method\"][\"exponent\"] for x in all_simulation_ids]\n",
    "predictions[\"lifespan_model_exponent\"] = [\n",
    "    (\n",
    "    slope_exponent_radius_coeff * x.slope * x.rim_erasure_exponent\n",
    "    + exponent_radius_coeff * x.rim_erasure_exponent\n",
    "    ) if x.slope <= MAX_SLOPE else 0\n",
    "    for x in predictions.itertuples()\n",
    "]\n",
    "predictions[\"littles_law_model_slope_prediction\"] = predictions.slope + predictions.lifespan_model_exponent\n",
    "predictions.set_index(\"simulation_id\", inplace=True)"
   ]
  },
  {
   "cell_type": "code",
   "execution_count": null,
   "id": "f65f694c-f7d7-419e-abd5-b4f649b07c0d",
   "metadata": {},
   "outputs": [],
   "source": []
  },
  {
   "cell_type": "markdown",
   "id": "7c516539-ed4b-44bc-a097-a6081023cb05",
   "metadata": {},
   "source": [
    "## Estimate slopes for each simulation using MLE"
   ]
  },
  {
   "cell_type": "markdown",
   "id": "3d87e401-7882-4980-9b63-de81b7e1f899",
   "metadata": {},
   "source": [
    "### Load states data"
   ]
  },
  {
   "cell_type": "code",
   "execution_count": 15,
   "id": "930de680-6bd5-4190-ba13-b5b72e70be30",
   "metadata": {},
   "outputs": [],
   "source": [
    "states = None\n",
    "for simulation_id in all_simulation_ids:\n",
    "    state = pd.read_parquet(f\"data/states_{simulation_id}_{N_NSTATS}.parquet\")\n",
    "    if states is None:\n",
    "        states = state\n",
    "    else:\n",
    "        states = pd.concat([states, state], axis=0)"
   ]
  },
  {
   "cell_type": "markdown",
   "id": "c7fd9201-d8f0-4fd3-9993-b2d00e52c599",
   "metadata": {},
   "source": [
    "### Estimate MLE slope and sigma for each simulation"
   ]
  },
  {
   "cell_type": "code",
   "execution_count": 16,
   "id": "faf5815f-0775-4038-8907-af3fe980738a",
   "metadata": {},
   "outputs": [],
   "source": [
    "for simulation_id in all_simulation_ids:\n",
    "    state = states.loc[simulation_id]\n",
    "    mle_slope, sigma = estimate_cumulative_slope(\n",
    "        radii=state.radius,\n",
    "        rmin=configs_dict[simulation_id][\"rstat\"],\n",
    "        rmax=configs_dict[simulation_id][\"rmax\"],\n",
    "        min_search_slope=-10.0,\n",
    "        max_search_slope=-1\n",
    "    )\n",
    "    predictions.loc[simulation_id, \"mle_slope\"] = mle_slope\n",
    "    predictions.loc[simulation_id, \"mle_slope_sigma\"] = sigma"
   ]
  },
  {
   "cell_type": "code",
   "execution_count": 17,
   "id": "3e58e278-aa10-4ecd-9ad2-1f03dbb0010e",
   "metadata": {},
   "outputs": [
    {
     "data": {
      "text/html": [
       "<div>\n",
       "<style scoped>\n",
       "    .dataframe tbody tr th:only-of-type {\n",
       "        vertical-align: middle;\n",
       "    }\n",
       "\n",
       "    .dataframe tbody tr th {\n",
       "        vertical-align: top;\n",
       "    }\n",
       "\n",
       "    .dataframe thead th {\n",
       "        text-align: right;\n",
       "    }\n",
       "</style>\n",
       "<table border=\"1\" class=\"dataframe\">\n",
       "  <thead>\n",
       "    <tr style=\"text-align: right;\">\n",
       "      <th></th>\n",
       "      <th>slope</th>\n",
       "      <th>rim_erasure_exponent</th>\n",
       "      <th>lifespan_model_exponent</th>\n",
       "      <th>littles_law_model_slope_prediction</th>\n",
       "      <th>mle_slope</th>\n",
       "      <th>mle_slope_sigma</th>\n",
       "    </tr>\n",
       "    <tr>\n",
       "      <th>simulation_id</th>\n",
       "      <th></th>\n",
       "      <th></th>\n",
       "      <th></th>\n",
       "      <th></th>\n",
       "      <th></th>\n",
       "      <th></th>\n",
       "    </tr>\n",
       "  </thead>\n",
       "  <tbody>\n",
       "    <tr>\n",
       "      <th>12</th>\n",
       "      <td>-4.25</td>\n",
       "      <td>0.2</td>\n",
       "      <td>0.442138</td>\n",
       "      <td>-3.807862</td>\n",
       "      <td>-3.792793</td>\n",
       "      <td>0.024017</td>\n",
       "    </tr>\n",
       "    <tr>\n",
       "      <th>122</th>\n",
       "      <td>-1.50</td>\n",
       "      <td>0.2</td>\n",
       "      <td>0.000000</td>\n",
       "      <td>-1.500000</td>\n",
       "      <td>-1.531532</td>\n",
       "      <td>0.003645</td>\n",
       "    </tr>\n",
       "    <tr>\n",
       "      <th>141</th>\n",
       "      <td>-1.00</td>\n",
       "      <td>0.1</td>\n",
       "      <td>0.000000</td>\n",
       "      <td>-1.000000</td>\n",
       "      <td>-1.045045</td>\n",
       "      <td>0.005201</td>\n",
       "    </tr>\n",
       "    <tr>\n",
       "      <th>28</th>\n",
       "      <td>-4.00</td>\n",
       "      <td>0.8</td>\n",
       "      <td>1.585125</td>\n",
       "      <td>-2.414875</td>\n",
       "      <td>-2.396396</td>\n",
       "      <td>0.005140</td>\n",
       "    </tr>\n",
       "    <tr>\n",
       "      <th>74</th>\n",
       "      <td>-2.75</td>\n",
       "      <td>0.4</td>\n",
       "      <td>0.333993</td>\n",
       "      <td>-2.416007</td>\n",
       "      <td>-2.477477</td>\n",
       "      <td>0.004375</td>\n",
       "    </tr>\n",
       "    <tr>\n",
       "      <th>...</th>\n",
       "      <td>...</td>\n",
       "      <td>...</td>\n",
       "      <td>...</td>\n",
       "      <td>...</td>\n",
       "      <td>...</td>\n",
       "      <td>...</td>\n",
       "    </tr>\n",
       "    <tr>\n",
       "      <th>139</th>\n",
       "      <td>-1.25</td>\n",
       "      <td>0.9</td>\n",
       "      <td>0.000000</td>\n",
       "      <td>-1.250000</td>\n",
       "      <td>-1.261261</td>\n",
       "      <td>0.004197</td>\n",
       "    </tr>\n",
       "    <tr>\n",
       "      <th>159</th>\n",
       "      <td>-4.70</td>\n",
       "      <td>1.0</td>\n",
       "      <td>2.623404</td>\n",
       "      <td>-2.076596</td>\n",
       "      <td>-2.045045</td>\n",
       "      <td>0.004070</td>\n",
       "    </tr>\n",
       "    <tr>\n",
       "      <th>69</th>\n",
       "      <td>-3.00</td>\n",
       "      <td>0.9</td>\n",
       "      <td>0.957841</td>\n",
       "      <td>-2.042159</td>\n",
       "      <td>-2.108108</td>\n",
       "      <td>0.002822</td>\n",
       "    </tr>\n",
       "    <tr>\n",
       "      <th>131</th>\n",
       "      <td>-1.25</td>\n",
       "      <td>0.1</td>\n",
       "      <td>0.000000</td>\n",
       "      <td>-1.250000</td>\n",
       "      <td>-1.297297</td>\n",
       "      <td>0.004293</td>\n",
       "    </tr>\n",
       "    <tr>\n",
       "      <th>37</th>\n",
       "      <td>-3.75</td>\n",
       "      <td>0.7</td>\n",
       "      <td>1.226485</td>\n",
       "      <td>-2.523515</td>\n",
       "      <td>-2.540541</td>\n",
       "      <td>0.005563</td>\n",
       "    </tr>\n",
       "  </tbody>\n",
       "</table>\n",
       "<p>162 rows × 6 columns</p>\n",
       "</div>"
      ],
      "text/plain": [
       "               slope  rim_erasure_exponent  lifespan_model_exponent  \\\n",
       "simulation_id                                                         \n",
       "12             -4.25                   0.2                 0.442138   \n",
       "122            -1.50                   0.2                 0.000000   \n",
       "141            -1.00                   0.1                 0.000000   \n",
       "28             -4.00                   0.8                 1.585125   \n",
       "74             -2.75                   0.4                 0.333993   \n",
       "...              ...                   ...                      ...   \n",
       "139            -1.25                   0.9                 0.000000   \n",
       "159            -4.70                   1.0                 2.623404   \n",
       "69             -3.00                   0.9                 0.957841   \n",
       "131            -1.25                   0.1                 0.000000   \n",
       "37             -3.75                   0.7                 1.226485   \n",
       "\n",
       "               littles_law_model_slope_prediction  mle_slope  mle_slope_sigma  \n",
       "simulation_id                                                                  \n",
       "12                                      -3.807862  -3.792793         0.024017  \n",
       "122                                     -1.500000  -1.531532         0.003645  \n",
       "141                                     -1.000000  -1.045045         0.005201  \n",
       "28                                      -2.414875  -2.396396         0.005140  \n",
       "74                                      -2.416007  -2.477477         0.004375  \n",
       "...                                           ...        ...              ...  \n",
       "139                                     -1.250000  -1.261261         0.004197  \n",
       "159                                     -2.076596  -2.045045         0.004070  \n",
       "69                                      -2.042159  -2.108108         0.002822  \n",
       "131                                     -1.250000  -1.297297         0.004293  \n",
       "37                                      -2.523515  -2.540541         0.005563  \n",
       "\n",
       "[162 rows x 6 columns]"
      ]
     },
     "execution_count": 17,
     "metadata": {},
     "output_type": "execute_result"
    }
   ],
   "source": [
    "predictions"
   ]
  },
  {
   "cell_type": "code",
   "execution_count": null,
   "id": "3461a38b-94a9-4513-85d9-1d937b911f16",
   "metadata": {},
   "outputs": [],
   "source": []
  },
  {
   "cell_type": "markdown",
   "id": "dfe6edd0-0af4-4a5d-953c-516814ac0cc1",
   "metadata": {},
   "source": [
    "## Save off predictions"
   ]
  },
  {
   "cell_type": "code",
   "execution_count": 18,
   "id": "e75a193d-ee16-4177-bd23-705f18ef6a9a",
   "metadata": {},
   "outputs": [],
   "source": [
    "predictions.to_parquet(\"data/predictions.parquet\")"
   ]
  },
  {
   "cell_type": "code",
   "execution_count": null,
   "id": "047a35d0-8710-4277-9b69-e273ecb2b9db",
   "metadata": {},
   "outputs": [],
   "source": []
  },
  {
   "cell_type": "markdown",
   "id": "fb4b24c2-7ffe-4e2a-8cdd-ea721dfa184d",
   "metadata": {},
   "source": [
    "# Perform hypothesis testing"
   ]
  },
  {
   "cell_type": "markdown",
   "id": "00d64530-ee55-4c85-a876-68e4042176d9",
   "metadata": {},
   "source": [
    "## Reload predictions from disk"
   ]
  },
  {
   "cell_type": "code",
   "execution_count": 19,
   "id": "5ad7b8a6-8b7d-4f34-bee1-9f7abfcb3b12",
   "metadata": {},
   "outputs": [],
   "source": [
    "predictions = pd.read_parquet(\"data/predictions.parquet\")"
   ]
  },
  {
   "cell_type": "code",
   "execution_count": null,
   "id": "8043607b-c657-4cc8-ba6a-0e8fdd80e438",
   "metadata": {},
   "outputs": [],
   "source": []
  },
  {
   "cell_type": "markdown",
   "id": "6ed90cca-7e08-4280-b4a0-5ccff7bc5be5",
   "metadata": {},
   "source": [
    "## Perform the TOST"
   ]
  },
  {
   "cell_type": "code",
   "execution_count": 20,
   "id": "3f5fd3d5-ce3e-4b04-b517-7214f2bd604f",
   "metadata": {
    "jupyter": {
     "source_hidden": true
    }
   },
   "outputs": [],
   "source": [
    "def tost_equivalence_test(\n",
    "    *,\n",
    "    mle_slope: float,\n",
    "    mle_slope_sigma: float,\n",
    "    predicted_slope: float,\n",
    "    margin: float\n",
    ") -> float:\n",
    "    \"\"\"\n",
    "    Perform a TOST (Two One-Sided Test) equivalence check for a single simulation.\n",
    "\n",
    "    Null hypothesis (H0): The true slope is outside ±margin of predicted_slope.\n",
    "    Alternative (H1): The true slope is within ±margin of predicted_slope.\n",
    "\n",
    "    This function returns a single p-value for the equivalence test,\n",
    "    following the approach of taking the maximum of the two one-sided p-values\n",
    "    (i.e., p_equiv = max(p1, p2)).\n",
    "\n",
    "    Parameters:\n",
    "    -----------\n",
    "    mle_slope : float\n",
    "        MLE estimate of the slope for this simulation.\n",
    "    mle_slope_sigma : float\n",
    "        Standard error of the MLE slope estimate.\n",
    "    predicted_slope : float\n",
    "        The predicted slope from the model (Little's Law).\n",
    "    margin : float\n",
    "        Equivalence margin (e.g., ±0.05).\n",
    "\n",
    "    Returns:\n",
    "    --------\n",
    "    p_equiv : float\n",
    "        A single p-value for the TOST equivalence test.\n",
    "        Typically compared to alpha (e.g., 0.05).\n",
    "        A smaller value indicates stronger evidence of equivalence.\n",
    "    \"\"\"\n",
    "    # Two one-sided tests:\n",
    "    #  1) slope > predicted_slope - margin\n",
    "    #  2) slope < predicted_slope + margin\n",
    "\n",
    "    z1 = (\n",
    "        mle_slope\n",
    "        - (predicted_slope - margin)\n",
    "    ) / mle_slope_sigma\n",
    "    p1 = 1.0 - norm.cdf(z1)\n",
    "\n",
    "    z2 = (\n",
    "        (predicted_slope + margin)\n",
    "        - mle_slope\n",
    "    ) / mle_slope_sigma\n",
    "    p2 = 1.0 - norm.cdf(z2)\n",
    "\n",
    "    # A single TOST p-value is often the max of these two p-values.\n",
    "    p_equiv = max(p1, p2)\n",
    "\n",
    "    return p_equiv\n",
    "\n",
    "\n",
    "def fishers_method(\n",
    "    p_values: list[float]\n",
    ") -> tuple[float, float]:\n",
    "    \"\"\"\n",
    "    Combine a list of p-values using Fisher's method.\n",
    "\n",
    "    Returns:\n",
    "    --------\n",
    "    chi2_stat : float\n",
    "        The combined chi-square statistic.\n",
    "    combined_pval : float\n",
    "        p-value for the combined test.\n",
    "    \"\"\"\n",
    "    valid_pvals = [\n",
    "        p for p in p_values\n",
    "        if 0.0 < p < 1.0\n",
    "    ]\n",
    "\n",
    "    if not valid_pvals:\n",
    "        # If no valid p-values, return defaults\n",
    "        return 0.0, 1.0\n",
    "\n",
    "    chi2_stat = -2.0 * np.sum(\n",
    "        np.log(valid_pvals)\n",
    "    )\n",
    "    df = 2 * len(valid_pvals)\n",
    "    combined_pval = 1.0 - chi2.cdf(\n",
    "        chi2_stat,\n",
    "        df\n",
    "    )\n",
    "\n",
    "    return chi2_stat, combined_pval\n",
    "\n",
    "\n",
    "def run_equivalence_testing(\n",
    "    *,\n",
    "    df: pd.DataFrame,\n",
    "    margin: float,\n",
    "    alpha: float\n",
    ") -> pd.DataFrame:\n",
    "    \"\"\"\n",
    "    Main routine to run TOST per simulation, then apply Fisher's method\n",
    "    to combine p-values for an overall conclusion.\n",
    "\n",
    "    The DataFrame `df` must contain columns:\n",
    "      - \"littles_law_model_slope_prediction\"\n",
    "      - \"mle_slope\"\n",
    "      - \"mle_slope_sigma\"\n",
    "\n",
    "    Parameters:\n",
    "    -----------\n",
    "    df : pd.DataFrame\n",
    "        DataFrame with required columns, indexed by simulation_id or similar.\n",
    "    margin : float\n",
    "        Equivalence margin (e.g., ±0.05).\n",
    "    alpha : float\n",
    "        Significance level for TOST (e.g., 0.05).\n",
    "\n",
    "    Returns:\n",
    "    --------\n",
    "    results_df : pd.DataFrame\n",
    "        A DataFrame with:\n",
    "          - \"predicted_slope\"\n",
    "          - \"predicted_lower_ci\"\n",
    "          - \"predicted_upper_ci\"\n",
    "          - \"mle_slope\"\n",
    "          - \"mle_slope_sigma\"\n",
    "          - \"mle_lower_ci\"\n",
    "          - \"mle_upper_ci\"\n",
    "          - \"p_tost\"\n",
    "          - \"equivalent\"\n",
    "        The function prints a Fisher combined p-value for the entire set.\n",
    "    \"\"\"\n",
    "    # z-critical value for the (1 - 2*alpha)% CI\n",
    "    # e.g., alpha=0.05 => 1 - 2*0.05=0.90 => z ~1.645\n",
    "    z_crit = norm.ppf(1.0 - alpha)\n",
    "\n",
    "    p_values = []\n",
    "    dfs_list = []\n",
    "\n",
    "    for idx, row in df.iterrows():\n",
    "        predicted_slope = row[\"littles_law_model_slope_prediction\"]\n",
    "        est_slope = row[\"mle_slope\"]\n",
    "        est_sigma = row[\"mle_slope_sigma\"]\n",
    "\n",
    "        # 1) TOST p-value\n",
    "        p_tost = tost_equivalence_test(\n",
    "            mle_slope=est_slope,\n",
    "            mle_slope_sigma=est_sigma,\n",
    "            predicted_slope=predicted_slope,\n",
    "            margin=margin\n",
    "        )\n",
    "\n",
    "        # 2) Equivalence pass/fail\n",
    "        equivalent = (p_tost < alpha)\n",
    "\n",
    "        # 3) Confidence Interval for predicted slope: simply ± margin\n",
    "        predicted_lower_ci = predicted_slope - margin\n",
    "        predicted_upper_ci = predicted_slope + margin\n",
    "\n",
    "        # 4) (1 - 2*alpha)% CI for MLE slope\n",
    "        # e.g. for alpha=0.05 => 90% CI\n",
    "        mle_lower_ci = est_slope - z_crit * est_sigma\n",
    "        mle_upper_ci = est_slope + z_crit * est_sigma\n",
    "\n",
    "        p_values.append(p_tost)\n",
    "        dfs_list.append({\n",
    "            \"simulation_id\": idx,\n",
    "            \"predicted_slope\": predicted_slope,\n",
    "            \"predicted_lower_ci\": predicted_lower_ci,\n",
    "            \"predicted_upper_ci\": predicted_upper_ci,\n",
    "            \"mle_slope\": est_slope,\n",
    "            \"mle_slope_sigma\": est_sigma,\n",
    "            \"mle_lower_ci\": mle_lower_ci,\n",
    "            \"mle_upper_ci\": mle_upper_ci,\n",
    "            \"p_tost\": p_tost,\n",
    "            \"equivalent\": equivalent\n",
    "        })\n",
    "\n",
    "    results_df = pd.DataFrame(dfs_list).set_index(\"simulation_id\")\n",
    "\n",
    "    # Combine p-values via Fisher\n",
    "    chi2_stat, combined_pval = fishers_method(p_values)\n",
    "\n",
    "    dof = 2 * len(p_values)\n",
    "    print(f\"Fisher Combined chi-square = {chi2_stat:.4f} with dof={dof}\")\n",
    "    print(f\"Fisher Combined p-value = {combined_pval}\")\n",
    "    print(\"Conclusion: If combined_p-value < alpha, the model's predicted slope is strongly supported across all simulations.\")\n",
    "\n",
    "    return results_df"
   ]
  },
  {
   "cell_type": "code",
   "execution_count": 34,
   "id": "9d7b7212-50de-46e1-bcb6-96d48b0bcd5b",
   "metadata": {},
   "outputs": [
    {
     "name": "stdout",
     "output_type": "stream",
     "text": [
      "Fisher Combined chi-square = 1907.7410 with dof=300\n",
      "Fisher Combined p-value = 0.0\n",
      "Conclusion: If combined_p-value < alpha, the model's predicted slope is strongly supported across all simulations.\n"
     ]
    }
   ],
   "source": [
    "predictions_training_set = predictions.loc[steep_slope_simulation_ids + shallow_slope_simulation_ids].copy()\n",
    "equivalence_test_results = run_equivalence_testing(\n",
    "    df=predictions_training_set,\n",
    "    alpha=0.05,\n",
    "    margin=0.1\n",
    ")\n",
    "\n",
    "result_cols = [\n",
    "    \"mle_lower_ci\",\n",
    "    \"mle_upper_ci\",\n",
    "    \"predicted_lower_ci\",\n",
    "    \"predicted_upper_ci\",\n",
    "    \"p_tost\",\n",
    "    \"equivalent\"\n",
    "]\n",
    "predictions_training_set[result_cols] = equivalence_test_results[result_cols]"
   ]
  },
  {
   "cell_type": "code",
   "execution_count": 35,
   "id": "76fce71a-f5ee-4cb7-895b-c5fe2d690165",
   "metadata": {},
   "outputs": [
    {
     "data": {
      "text/html": [
       "<div>\n",
       "<style scoped>\n",
       "    .dataframe tbody tr th:only-of-type {\n",
       "        vertical-align: middle;\n",
       "    }\n",
       "\n",
       "    .dataframe tbody tr th {\n",
       "        vertical-align: top;\n",
       "    }\n",
       "\n",
       "    .dataframe thead th {\n",
       "        text-align: right;\n",
       "    }\n",
       "</style>\n",
       "<table border=\"1\" class=\"dataframe\">\n",
       "  <thead>\n",
       "    <tr style=\"text-align: right;\">\n",
       "      <th></th>\n",
       "      <th>predicted_slope</th>\n",
       "      <th>predicted_lower_ci</th>\n",
       "      <th>predicted_upper_ci</th>\n",
       "      <th>mle_slope</th>\n",
       "      <th>mle_slope_sigma</th>\n",
       "      <th>mle_lower_ci</th>\n",
       "      <th>mle_upper_ci</th>\n",
       "      <th>p_tost</th>\n",
       "      <th>equivalent</th>\n",
       "    </tr>\n",
       "    <tr>\n",
       "      <th>simulation_id</th>\n",
       "      <th></th>\n",
       "      <th></th>\n",
       "      <th></th>\n",
       "      <th></th>\n",
       "      <th></th>\n",
       "      <th></th>\n",
       "      <th></th>\n",
       "      <th></th>\n",
       "      <th></th>\n",
       "    </tr>\n",
       "  </thead>\n",
       "  <tbody>\n",
       "    <tr>\n",
       "      <th>12</th>\n",
       "      <td>-3.807862</td>\n",
       "      <td>-3.907862</td>\n",
       "      <td>-3.707862</td>\n",
       "      <td>-3.792793</td>\n",
       "      <td>0.024017</td>\n",
       "      <td>-3.832297</td>\n",
       "      <td>-3.753288</td>\n",
       "      <td>2.029116e-04</td>\n",
       "      <td>True</td>\n",
       "    </tr>\n",
       "    <tr>\n",
       "      <th>28</th>\n",
       "      <td>-2.414875</td>\n",
       "      <td>-2.514875</td>\n",
       "      <td>-2.314875</td>\n",
       "      <td>-2.396396</td>\n",
       "      <td>0.005140</td>\n",
       "      <td>-2.404851</td>\n",
       "      <td>-2.387942</td>\n",
       "      <td>0.000000e+00</td>\n",
       "      <td>True</td>\n",
       "    </tr>\n",
       "    <tr>\n",
       "      <th>74</th>\n",
       "      <td>-2.416007</td>\n",
       "      <td>-2.516007</td>\n",
       "      <td>-2.316007</td>\n",
       "      <td>-2.477477</td>\n",
       "      <td>0.004375</td>\n",
       "      <td>-2.484673</td>\n",
       "      <td>-2.470282</td>\n",
       "      <td>0.000000e+00</td>\n",
       "      <td>True</td>\n",
       "    </tr>\n",
       "    <tr>\n",
       "      <th>107</th>\n",
       "      <td>-1.897010</td>\n",
       "      <td>-1.997010</td>\n",
       "      <td>-1.797010</td>\n",
       "      <td>-1.927928</td>\n",
       "      <td>0.002948</td>\n",
       "      <td>-1.932778</td>\n",
       "      <td>-1.923078</td>\n",
       "      <td>0.000000e+00</td>\n",
       "      <td>True</td>\n",
       "    </tr>\n",
       "    <tr>\n",
       "      <th>101</th>\n",
       "      <td>-1.985287</td>\n",
       "      <td>-2.085287</td>\n",
       "      <td>-1.885287</td>\n",
       "      <td>-2.063063</td>\n",
       "      <td>0.003459</td>\n",
       "      <td>-2.068752</td>\n",
       "      <td>-2.057374</td>\n",
       "      <td>6.586720e-11</td>\n",
       "      <td>True</td>\n",
       "    </tr>\n",
       "    <tr>\n",
       "      <th>...</th>\n",
       "      <td>...</td>\n",
       "      <td>...</td>\n",
       "      <td>...</td>\n",
       "      <td>...</td>\n",
       "      <td>...</td>\n",
       "      <td>...</td>\n",
       "      <td>...</td>\n",
       "      <td>...</td>\n",
       "      <td>...</td>\n",
       "    </tr>\n",
       "    <tr>\n",
       "      <th>145</th>\n",
       "      <td>-1.000000</td>\n",
       "      <td>-1.100000</td>\n",
       "      <td>-0.900000</td>\n",
       "      <td>-1.036036</td>\n",
       "      <td>0.005124</td>\n",
       "      <td>-1.044465</td>\n",
       "      <td>-1.027607</td>\n",
       "      <td>0.000000e+00</td>\n",
       "      <td>True</td>\n",
       "    </tr>\n",
       "    <tr>\n",
       "      <th>123</th>\n",
       "      <td>-1.500000</td>\n",
       "      <td>-1.600000</td>\n",
       "      <td>-1.400000</td>\n",
       "      <td>-1.549550</td>\n",
       "      <td>0.003686</td>\n",
       "      <td>-1.555613</td>\n",
       "      <td>-1.543486</td>\n",
       "      <td>0.000000e+00</td>\n",
       "      <td>True</td>\n",
       "    </tr>\n",
       "    <tr>\n",
       "      <th>115</th>\n",
       "      <td>-1.750000</td>\n",
       "      <td>-1.850000</td>\n",
       "      <td>-1.650000</td>\n",
       "      <td>-1.774775</td>\n",
       "      <td>0.003276</td>\n",
       "      <td>-1.780163</td>\n",
       "      <td>-1.769387</td>\n",
       "      <td>0.000000e+00</td>\n",
       "      <td>True</td>\n",
       "    </tr>\n",
       "    <tr>\n",
       "      <th>139</th>\n",
       "      <td>-1.250000</td>\n",
       "      <td>-1.350000</td>\n",
       "      <td>-1.150000</td>\n",
       "      <td>-1.261261</td>\n",
       "      <td>0.004197</td>\n",
       "      <td>-1.268164</td>\n",
       "      <td>-1.254358</td>\n",
       "      <td>0.000000e+00</td>\n",
       "      <td>True</td>\n",
       "    </tr>\n",
       "    <tr>\n",
       "      <th>131</th>\n",
       "      <td>-1.250000</td>\n",
       "      <td>-1.350000</td>\n",
       "      <td>-1.150000</td>\n",
       "      <td>-1.297297</td>\n",
       "      <td>0.004293</td>\n",
       "      <td>-1.304359</td>\n",
       "      <td>-1.290235</td>\n",
       "      <td>0.000000e+00</td>\n",
       "      <td>True</td>\n",
       "    </tr>\n",
       "  </tbody>\n",
       "</table>\n",
       "<p>150 rows × 9 columns</p>\n",
       "</div>"
      ],
      "text/plain": [
       "               predicted_slope  predicted_lower_ci  predicted_upper_ci  \\\n",
       "simulation_id                                                            \n",
       "12                   -3.807862           -3.907862           -3.707862   \n",
       "28                   -2.414875           -2.514875           -2.314875   \n",
       "74                   -2.416007           -2.516007           -2.316007   \n",
       "107                  -1.897010           -1.997010           -1.797010   \n",
       "101                  -1.985287           -2.085287           -1.885287   \n",
       "...                        ...                 ...                 ...   \n",
       "145                  -1.000000           -1.100000           -0.900000   \n",
       "123                  -1.500000           -1.600000           -1.400000   \n",
       "115                  -1.750000           -1.850000           -1.650000   \n",
       "139                  -1.250000           -1.350000           -1.150000   \n",
       "131                  -1.250000           -1.350000           -1.150000   \n",
       "\n",
       "               mle_slope  mle_slope_sigma  mle_lower_ci  mle_upper_ci  \\\n",
       "simulation_id                                                           \n",
       "12             -3.792793         0.024017     -3.832297     -3.753288   \n",
       "28             -2.396396         0.005140     -2.404851     -2.387942   \n",
       "74             -2.477477         0.004375     -2.484673     -2.470282   \n",
       "107            -1.927928         0.002948     -1.932778     -1.923078   \n",
       "101            -2.063063         0.003459     -2.068752     -2.057374   \n",
       "...                  ...              ...           ...           ...   \n",
       "145            -1.036036         0.005124     -1.044465     -1.027607   \n",
       "123            -1.549550         0.003686     -1.555613     -1.543486   \n",
       "115            -1.774775         0.003276     -1.780163     -1.769387   \n",
       "139            -1.261261         0.004197     -1.268164     -1.254358   \n",
       "131            -1.297297         0.004293     -1.304359     -1.290235   \n",
       "\n",
       "                     p_tost  equivalent  \n",
       "simulation_id                            \n",
       "12             2.029116e-04        True  \n",
       "28             0.000000e+00        True  \n",
       "74             0.000000e+00        True  \n",
       "107            0.000000e+00        True  \n",
       "101            6.586720e-11        True  \n",
       "...                     ...         ...  \n",
       "145            0.000000e+00        True  \n",
       "123            0.000000e+00        True  \n",
       "115            0.000000e+00        True  \n",
       "139            0.000000e+00        True  \n",
       "131            0.000000e+00        True  \n",
       "\n",
       "[150 rows x 9 columns]"
      ]
     },
     "execution_count": 35,
     "metadata": {},
     "output_type": "execute_result"
    }
   ],
   "source": [
    "equivalence_test_results"
   ]
  },
  {
   "cell_type": "code",
   "execution_count": 36,
   "id": "8f19adf6-16f0-4823-8684-9efe2253c211",
   "metadata": {},
   "outputs": [
    {
     "data": {
      "text/html": [
       "<div>\n",
       "<style scoped>\n",
       "    .dataframe tbody tr th:only-of-type {\n",
       "        vertical-align: middle;\n",
       "    }\n",
       "\n",
       "    .dataframe tbody tr th {\n",
       "        vertical-align: top;\n",
       "    }\n",
       "\n",
       "    .dataframe thead th {\n",
       "        text-align: right;\n",
       "    }\n",
       "</style>\n",
       "<table border=\"1\" class=\"dataframe\">\n",
       "  <thead>\n",
       "    <tr style=\"text-align: right;\">\n",
       "      <th></th>\n",
       "      <th>slope</th>\n",
       "      <th>rim_erasure_exponent</th>\n",
       "      <th>lifespan_model_exponent</th>\n",
       "      <th>littles_law_model_slope_prediction</th>\n",
       "      <th>mle_slope</th>\n",
       "      <th>mle_slope_sigma</th>\n",
       "      <th>mle_lower_ci</th>\n",
       "      <th>mle_upper_ci</th>\n",
       "      <th>predicted_lower_ci</th>\n",
       "      <th>predicted_upper_ci</th>\n",
       "      <th>p_tost</th>\n",
       "      <th>equivalent</th>\n",
       "    </tr>\n",
       "    <tr>\n",
       "      <th>simulation_id</th>\n",
       "      <th></th>\n",
       "      <th></th>\n",
       "      <th></th>\n",
       "      <th></th>\n",
       "      <th></th>\n",
       "      <th></th>\n",
       "      <th></th>\n",
       "      <th></th>\n",
       "      <th></th>\n",
       "      <th></th>\n",
       "      <th></th>\n",
       "      <th></th>\n",
       "    </tr>\n",
       "  </thead>\n",
       "  <tbody>\n",
       "  </tbody>\n",
       "</table>\n",
       "</div>"
      ],
      "text/plain": [
       "Empty DataFrame\n",
       "Columns: [slope, rim_erasure_exponent, lifespan_model_exponent, littles_law_model_slope_prediction, mle_slope, mle_slope_sigma, mle_lower_ci, mle_upper_ci, predicted_lower_ci, predicted_upper_ci, p_tost, equivalent]\n",
       "Index: []"
      ]
     },
     "execution_count": 36,
     "metadata": {},
     "output_type": "execute_result"
    }
   ],
   "source": [
    "predictions_training_set[~predictions_training_set.equivalent].sort_values([\"slope\", \"rim_erasure_exponent\"])"
   ]
  },
  {
   "cell_type": "code",
   "execution_count": 24,
   "id": "713af3db-dabf-45e6-b6b1-bf91b9c7adc6",
   "metadata": {},
   "outputs": [],
   "source": [
    "def significance_marker(p: float) -> str:\n",
    "    \"\"\"Assign significance markers based on p-value thresholds.\"\"\"\n",
    "    if p < 0.001:\n",
    "        return \"*\"\n",
    "    elif p < 0.05:\n",
    "        return \"x\"\n",
    "    else:\n",
    "        return \"\"\n",
    "\n",
    "def format_pvalue(p: float) -> str:\n",
    "    \"\"\"Format p-value, aligning numbers neatly even with significance markers.\"\"\"\n",
    "    marker = significance_marker(p)\n",
    "    if p < 0.001:\n",
    "        return marker\n",
    "    else:\n",
    "        return f\"{p:<5.3f}\"\n",
    "\n",
    "def create_pvalue_table(\n",
    "    df: pd.DataFrame,\n",
    "    *,\n",
    "    field: str,\n",
    "    exponent_digits: int = 1,\n",
    "    slope_digits: int = 2\n",
    ") -> str:\n",
    "    \"\"\"Generate a formatted LaTeX table summarizing p-values significance.\"\"\"\n",
    "    pivot_table = df.rename(columns={\"rim_erasure_exponent\": \"nu\"}).pivot_table(\n",
    "        index=\"slope\",\n",
    "        columns=\"nu\",\n",
    "        values=field,\n",
    "        aggfunc=\"mean\"\n",
    "    )\n",
    "\n",
    "    pivot_table.index = pivot_table.index.map(lambda x: fr\"\\textbf{{{x:.{slope_digits}f}}}\")\n",
    "    pivot_table.columns = pivot_table.columns.map(lambda x: fr\"\\textbf{{{x:.{exponent_digits}f}}}\")\n",
    "\n",
    "    formatted_table = pivot_table.map(\n",
    "        lambda p: fr\"\\textbf{{{format_pvalue(p)}}}\" if significance_marker(p) else format_pvalue(p) if pd.notna(p) else \"\"\n",
    "    )\n",
    "\n",
    "    latex_table = formatted_table.to_latex(\n",
    "        caption=\"\",\n",
    "        label=\"tab:pvalue_summary\",\n",
    "        na_rep=\"\",\n",
    "        escape=False,\n",
    "        column_format=\"r\" + \"r\" * formatted_table.shape[1],\n",
    "        index_names=False,\n",
    "        index=True\n",
    "    )\n",
    "\n",
    "    # Add clearer headers for exponent and slope\n",
    "    latex_table = latex_table.replace(\n",
    "        r\"\\toprule\",\n",
    "        r\"\\toprule \\\\\"\n",
    "        + \"\\n\"\n",
    "        + r\"\\bprod & \\multicolumn{\"\n",
    "        + f\"{formatted_table.shape[1]}\"\n",
    "        + r\"}{c}{\\textbf{\\eexp}} \\\\\"\n",
    "        + \"\\n\"\n",
    "        rf\"\\cmidrule(lr){{2-{formatted_table.shape[1] + 1}}}\"\n",
    "    )\n",
    "\n",
    "    return latex_table"
   ]
  },
  {
   "cell_type": "code",
   "execution_count": 25,
   "id": "f05a7f65-69a4-485f-a915-45cce49ad1ff",
   "metadata": {},
   "outputs": [
    {
     "name": "stdout",
     "output_type": "stream",
     "text": [
      "\\begin{table}\n",
      "\\label{tab:pvalue_summary}\n",
      "\\begin{tabular}{rrrrrrrrrrr}\n",
      "\\toprule \\\\\n",
      "\\bprod & \\multicolumn{10}{c}{\\textbf{\\eexp}} \\\\\n",
      "\\cmidrule(lr){2-11}\n",
      "nu & \\textbf{0.1} & \\textbf{0.2} & \\textbf{0.3} & \\textbf{0.4} & \\textbf{0.5} & \\textbf{0.6} & \\textbf{0.7} & \\textbf{0.8} & \\textbf{0.9} & \\textbf{1.0} \\\\\n",
      "\\midrule\n",
      "\\textbf{-4.50} & \\textbf{0.044} & \\textbf{0.002} & \\textbf{0.002} & \\textbf{*} & \\textbf{*} & \\textbf{*} & \\textbf{*} & \\textbf{*} & \\textbf{*} & \\textbf{*} \\\\\n",
      "\\textbf{-4.25} & \\textbf{0.006} & \\textbf{*} & \\textbf{*} & \\textbf{*} & \\textbf{*} & \\textbf{*} & \\textbf{*} & \\textbf{*} & \\textbf{*} & \\textbf{*} \\\\\n",
      "\\textbf{-4.00} & \\textbf{*} & \\textbf{*} & \\textbf{*} & \\textbf{*} & \\textbf{*} & \\textbf{*} & \\textbf{*} & \\textbf{*} & \\textbf{*} & \\textbf{*} \\\\\n",
      "\\textbf{-3.75} & \\textbf{*} & \\textbf{*} & \\textbf{*} & \\textbf{*} & \\textbf{*} & \\textbf{*} & \\textbf{*} & \\textbf{*} & \\textbf{*} & \\textbf{*} \\\\\n",
      "\\textbf{-3.50} & \\textbf{*} & \\textbf{*} & \\textbf{*} & \\textbf{*} & \\textbf{*} & \\textbf{*} & \\textbf{*} & \\textbf{*} & \\textbf{*} & \\textbf{*} \\\\\n",
      "\\textbf{-3.25} & \\textbf{*} & \\textbf{*} & \\textbf{*} & \\textbf{*} & \\textbf{*} & \\textbf{*} & \\textbf{*} & \\textbf{*} & \\textbf{*} & \\textbf{*} \\\\\n",
      "\\textbf{-3.00} & \\textbf{*} & \\textbf{*} & \\textbf{*} & \\textbf{*} & \\textbf{*} & \\textbf{*} & \\textbf{*} & \\textbf{*} & \\textbf{*} & \\textbf{*} \\\\\n",
      "\\textbf{-2.75} & \\textbf{*} & \\textbf{*} & \\textbf{*} & \\textbf{*} & \\textbf{*} & \\textbf{*} & \\textbf{*} & \\textbf{*} & \\textbf{*} & \\textbf{*} \\\\\n",
      "\\textbf{-2.50} & \\textbf{*} & \\textbf{*} & \\textbf{*} & \\textbf{*} & \\textbf{*} & \\textbf{*} & \\textbf{*} & \\textbf{*} & \\textbf{*} & \\textbf{*} \\\\\n",
      "\\textbf{-2.25} & \\textbf{*} & \\textbf{*} & \\textbf{*} & \\textbf{*} & \\textbf{*} & \\textbf{*} & \\textbf{*} & \\textbf{*} & \\textbf{*} & \\textbf{*} \\\\\n",
      "\\textbf{-2.00} & \\textbf{*} & \\textbf{*} & \\textbf{*} & \\textbf{*} & \\textbf{*} & \\textbf{*} & \\textbf{*} & \\textbf{*} & \\textbf{*} & \\textbf{*} \\\\\n",
      "\\textbf{-1.75} & \\textbf{*} & \\textbf{*} & \\textbf{*} & \\textbf{*} & \\textbf{*} & \\textbf{*} & \\textbf{*} & \\textbf{*} & \\textbf{*} & \\textbf{*} \\\\\n",
      "\\textbf{-1.50} & \\textbf{*} & \\textbf{*} & \\textbf{*} & \\textbf{*} & \\textbf{*} & \\textbf{*} & \\textbf{*} & \\textbf{*} & \\textbf{*} & \\textbf{*} \\\\\n",
      "\\textbf{-1.25} & \\textbf{*} & \\textbf{*} & \\textbf{*} & \\textbf{*} & \\textbf{*} & \\textbf{*} & \\textbf{*} & \\textbf{*} & \\textbf{*} & \\textbf{*} \\\\\n",
      "\\textbf{-1.00} & \\textbf{*} & \\textbf{*} & \\textbf{*} & \\textbf{*} & \\textbf{*} & \\textbf{*} & \\textbf{*} & \\textbf{*} & \\textbf{*} & \\textbf{*} \\\\\n",
      "\\bottomrule\n",
      "\\end{tabular}\n",
      "\\end{table}\n",
      "\n"
     ]
    }
   ],
   "source": [
    "print(create_pvalue_table(predictions_training_set, field=\"p_tost\"))"
   ]
  },
  {
   "cell_type": "markdown",
   "id": "43c89e66-16ee-4768-9547-d1da2c3945de",
   "metadata": {},
   "source": [
    "# Hypothesis test on the testing set"
   ]
  },
  {
   "cell_type": "code",
   "execution_count": 26,
   "id": "a09c4f17-591e-4d40-aff1-d59c6ba2dd63",
   "metadata": {},
   "outputs": [],
   "source": [
    "testing_set_simulation_ids = [x.simulation_id for x in predictions.reset_index().itertuples() if x.simulation_id not in (steep_slope_simulation_ids + shallow_slope_simulation_ids)]"
   ]
  },
  {
   "cell_type": "code",
   "execution_count": 27,
   "id": "f7188983-f513-44ef-a239-651da77f8ab8",
   "metadata": {},
   "outputs": [
    {
     "name": "stdout",
     "output_type": "stream",
     "text": [
      "Fisher Combined chi-square = 257.2391 with dof=24\n",
      "Fisher Combined p-value = 0.0\n",
      "Conclusion: If combined_p-value < alpha, the model's predicted slope is strongly supported across all simulations.\n"
     ]
    }
   ],
   "source": [
    "predictions_testing_set = predictions.loc[testing_set_simulation_ids].copy()\n",
    "equivalence_test_results = run_equivalence_testing(\n",
    "    df=predictions_testing_set,\n",
    "    alpha=0.05,\n",
    "    margin=0.1\n",
    ")\n",
    "\n",
    "result_cols = [\n",
    "    \"mle_lower_ci\",\n",
    "    \"mle_upper_ci\",\n",
    "    \"predicted_lower_ci\",\n",
    "    \"predicted_upper_ci\",\n",
    "    \"p_tost\",\n",
    "    \"equivalent\"\n",
    "]\n",
    "predictions_testing_set[result_cols] = equivalence_test_results[result_cols]"
   ]
  },
  {
   "cell_type": "code",
   "execution_count": 28,
   "id": "3cccfb4f-e1dd-4431-a2cb-21e8f4d9a00b",
   "metadata": {},
   "outputs": [
    {
     "data": {
      "text/html": [
       "<div>\n",
       "<style scoped>\n",
       "    .dataframe tbody tr th:only-of-type {\n",
       "        vertical-align: middle;\n",
       "    }\n",
       "\n",
       "    .dataframe tbody tr th {\n",
       "        vertical-align: top;\n",
       "    }\n",
       "\n",
       "    .dataframe thead th {\n",
       "        text-align: right;\n",
       "    }\n",
       "</style>\n",
       "<table border=\"1\" class=\"dataframe\">\n",
       "  <thead>\n",
       "    <tr style=\"text-align: right;\">\n",
       "      <th></th>\n",
       "      <th>predicted_slope</th>\n",
       "      <th>predicted_lower_ci</th>\n",
       "      <th>predicted_upper_ci</th>\n",
       "      <th>mle_slope</th>\n",
       "      <th>mle_slope_sigma</th>\n",
       "      <th>mle_lower_ci</th>\n",
       "      <th>mle_upper_ci</th>\n",
       "      <th>p_tost</th>\n",
       "      <th>equivalent</th>\n",
       "    </tr>\n",
       "    <tr>\n",
       "      <th>simulation_id</th>\n",
       "      <th></th>\n",
       "      <th></th>\n",
       "      <th></th>\n",
       "      <th></th>\n",
       "      <th></th>\n",
       "      <th></th>\n",
       "      <th></th>\n",
       "      <th></th>\n",
       "      <th></th>\n",
       "    </tr>\n",
       "  </thead>\n",
       "  <tbody>\n",
       "    <tr>\n",
       "      <th>156</th>\n",
       "      <td>-1.948162</td>\n",
       "      <td>-2.048162</td>\n",
       "      <td>-1.848162</td>\n",
       "      <td>-2.000000</td>\n",
       "      <td>0.002513</td>\n",
       "      <td>-2.004134</td>\n",
       "      <td>-1.995866</td>\n",
       "      <td>0.000000e+00</td>\n",
       "      <td>True</td>\n",
       "    </tr>\n",
       "    <tr>\n",
       "      <th>158</th>\n",
       "      <td>-3.257128</td>\n",
       "      <td>-3.357128</td>\n",
       "      <td>-3.157128</td>\n",
       "      <td>-3.252252</td>\n",
       "      <td>0.016128</td>\n",
       "      <td>-3.278781</td>\n",
       "      <td>-3.225724</td>\n",
       "      <td>1.839973e-09</td>\n",
       "      <td>True</td>\n",
       "    </tr>\n",
       "    <tr>\n",
       "      <th>151</th>\n",
       "      <td>-2.464183</td>\n",
       "      <td>-2.564183</td>\n",
       "      <td>-2.364183</td>\n",
       "      <td>-2.540541</td>\n",
       "      <td>0.004658</td>\n",
       "      <td>-2.548203</td>\n",
       "      <td>-2.532878</td>\n",
       "      <td>1.936492e-07</td>\n",
       "      <td>True</td>\n",
       "    </tr>\n",
       "    <tr>\n",
       "      <th>157</th>\n",
       "      <td>-4.044149</td>\n",
       "      <td>-4.144149</td>\n",
       "      <td>-3.944149</td>\n",
       "      <td>-4.018018</td>\n",
       "      <td>0.034577</td>\n",
       "      <td>-4.074891</td>\n",
       "      <td>-3.961145</td>\n",
       "      <td>1.632377e-02</td>\n",
       "      <td>True</td>\n",
       "    </tr>\n",
       "    <tr>\n",
       "      <th>155</th>\n",
       "      <td>-2.488989</td>\n",
       "      <td>-2.588989</td>\n",
       "      <td>-2.388989</td>\n",
       "      <td>-2.540541</td>\n",
       "      <td>0.004850</td>\n",
       "      <td>-2.548518</td>\n",
       "      <td>-2.532563</td>\n",
       "      <td>0.000000e+00</td>\n",
       "      <td>True</td>\n",
       "    </tr>\n",
       "    <tr>\n",
       "      <th>162</th>\n",
       "      <td>-2.101454</td>\n",
       "      <td>-2.201454</td>\n",
       "      <td>-2.001454</td>\n",
       "      <td>-2.036036</td>\n",
       "      <td>0.004541</td>\n",
       "      <td>-2.043506</td>\n",
       "      <td>-2.028566</td>\n",
       "      <td>1.321165e-14</td>\n",
       "      <td>True</td>\n",
       "    </tr>\n",
       "    <tr>\n",
       "      <th>160</th>\n",
       "      <td>-4.275364</td>\n",
       "      <td>-4.375364</td>\n",
       "      <td>-4.175364</td>\n",
       "      <td>-4.252252</td>\n",
       "      <td>0.048160</td>\n",
       "      <td>-4.331468</td>\n",
       "      <td>-4.173037</td>\n",
       "      <td>5.518451e-02</td>\n",
       "      <td>False</td>\n",
       "    </tr>\n",
       "    <tr>\n",
       "      <th>161</th>\n",
       "      <td>-3.405800</td>\n",
       "      <td>-3.505800</td>\n",
       "      <td>-3.305800</td>\n",
       "      <td>-3.360360</td>\n",
       "      <td>0.020409</td>\n",
       "      <td>-3.393931</td>\n",
       "      <td>-3.326790</td>\n",
       "      <td>3.755503e-03</td>\n",
       "      <td>True</td>\n",
       "    </tr>\n",
       "    <tr>\n",
       "      <th>154</th>\n",
       "      <td>-2.849540</td>\n",
       "      <td>-2.949540</td>\n",
       "      <td>-2.749540</td>\n",
       "      <td>-2.891892</td>\n",
       "      <td>0.007189</td>\n",
       "      <td>-2.903718</td>\n",
       "      <td>-2.880066</td>\n",
       "      <td>5.551115e-16</td>\n",
       "      <td>True</td>\n",
       "    </tr>\n",
       "    <tr>\n",
       "      <th>153</th>\n",
       "      <td>-1.906731</td>\n",
       "      <td>-2.006731</td>\n",
       "      <td>-1.806731</td>\n",
       "      <td>-1.972973</td>\n",
       "      <td>0.002374</td>\n",
       "      <td>-1.976877</td>\n",
       "      <td>-1.969069</td>\n",
       "      <td>0.000000e+00</td>\n",
       "      <td>True</td>\n",
       "    </tr>\n",
       "    <tr>\n",
       "      <th>152</th>\n",
       "      <td>-2.241202</td>\n",
       "      <td>-2.341202</td>\n",
       "      <td>-2.141202</td>\n",
       "      <td>-2.324324</td>\n",
       "      <td>0.003620</td>\n",
       "      <td>-2.330279</td>\n",
       "      <td>-2.318369</td>\n",
       "      <td>1.565913e-06</td>\n",
       "      <td>True</td>\n",
       "    </tr>\n",
       "    <tr>\n",
       "      <th>159</th>\n",
       "      <td>-2.076596</td>\n",
       "      <td>-2.176596</td>\n",
       "      <td>-1.976596</td>\n",
       "      <td>-2.045045</td>\n",
       "      <td>0.004070</td>\n",
       "      <td>-2.051740</td>\n",
       "      <td>-2.038350</td>\n",
       "      <td>0.000000e+00</td>\n",
       "      <td>True</td>\n",
       "    </tr>\n",
       "  </tbody>\n",
       "</table>\n",
       "</div>"
      ],
      "text/plain": [
       "               predicted_slope  predicted_lower_ci  predicted_upper_ci  \\\n",
       "simulation_id                                                            \n",
       "156                  -1.948162           -2.048162           -1.848162   \n",
       "158                  -3.257128           -3.357128           -3.157128   \n",
       "151                  -2.464183           -2.564183           -2.364183   \n",
       "157                  -4.044149           -4.144149           -3.944149   \n",
       "155                  -2.488989           -2.588989           -2.388989   \n",
       "162                  -2.101454           -2.201454           -2.001454   \n",
       "160                  -4.275364           -4.375364           -4.175364   \n",
       "161                  -3.405800           -3.505800           -3.305800   \n",
       "154                  -2.849540           -2.949540           -2.749540   \n",
       "153                  -1.906731           -2.006731           -1.806731   \n",
       "152                  -2.241202           -2.341202           -2.141202   \n",
       "159                  -2.076596           -2.176596           -1.976596   \n",
       "\n",
       "               mle_slope  mle_slope_sigma  mle_lower_ci  mle_upper_ci  \\\n",
       "simulation_id                                                           \n",
       "156            -2.000000         0.002513     -2.004134     -1.995866   \n",
       "158            -3.252252         0.016128     -3.278781     -3.225724   \n",
       "151            -2.540541         0.004658     -2.548203     -2.532878   \n",
       "157            -4.018018         0.034577     -4.074891     -3.961145   \n",
       "155            -2.540541         0.004850     -2.548518     -2.532563   \n",
       "162            -2.036036         0.004541     -2.043506     -2.028566   \n",
       "160            -4.252252         0.048160     -4.331468     -4.173037   \n",
       "161            -3.360360         0.020409     -3.393931     -3.326790   \n",
       "154            -2.891892         0.007189     -2.903718     -2.880066   \n",
       "153            -1.972973         0.002374     -1.976877     -1.969069   \n",
       "152            -2.324324         0.003620     -2.330279     -2.318369   \n",
       "159            -2.045045         0.004070     -2.051740     -2.038350   \n",
       "\n",
       "                     p_tost  equivalent  \n",
       "simulation_id                            \n",
       "156            0.000000e+00        True  \n",
       "158            1.839973e-09        True  \n",
       "151            1.936492e-07        True  \n",
       "157            1.632377e-02        True  \n",
       "155            0.000000e+00        True  \n",
       "162            1.321165e-14        True  \n",
       "160            5.518451e-02       False  \n",
       "161            3.755503e-03        True  \n",
       "154            5.551115e-16        True  \n",
       "153            0.000000e+00        True  \n",
       "152            1.565913e-06        True  \n",
       "159            0.000000e+00        True  "
      ]
     },
     "execution_count": 28,
     "metadata": {},
     "output_type": "execute_result"
    }
   ],
   "source": [
    "equivalence_test_results"
   ]
  },
  {
   "cell_type": "code",
   "execution_count": 29,
   "id": "579df9c2-02c8-476d-99b4-6be860462102",
   "metadata": {},
   "outputs": [
    {
     "data": {
      "text/html": [
       "<div>\n",
       "<style scoped>\n",
       "    .dataframe tbody tr th:only-of-type {\n",
       "        vertical-align: middle;\n",
       "    }\n",
       "\n",
       "    .dataframe tbody tr th {\n",
       "        vertical-align: top;\n",
       "    }\n",
       "\n",
       "    .dataframe thead th {\n",
       "        text-align: right;\n",
       "    }\n",
       "</style>\n",
       "<table border=\"1\" class=\"dataframe\">\n",
       "  <thead>\n",
       "    <tr style=\"text-align: right;\">\n",
       "      <th></th>\n",
       "      <th>slope</th>\n",
       "      <th>rim_erasure_exponent</th>\n",
       "      <th>lifespan_model_exponent</th>\n",
       "      <th>littles_law_model_slope_prediction</th>\n",
       "      <th>mle_slope</th>\n",
       "      <th>mle_slope_sigma</th>\n",
       "      <th>mle_lower_ci</th>\n",
       "      <th>mle_upper_ci</th>\n",
       "      <th>predicted_lower_ci</th>\n",
       "      <th>predicted_upper_ci</th>\n",
       "      <th>p_tost</th>\n",
       "      <th>equivalent</th>\n",
       "    </tr>\n",
       "    <tr>\n",
       "      <th>simulation_id</th>\n",
       "      <th></th>\n",
       "      <th></th>\n",
       "      <th></th>\n",
       "      <th></th>\n",
       "      <th></th>\n",
       "      <th></th>\n",
       "      <th></th>\n",
       "      <th></th>\n",
       "      <th></th>\n",
       "      <th></th>\n",
       "      <th></th>\n",
       "      <th></th>\n",
       "    </tr>\n",
       "  </thead>\n",
       "  <tbody>\n",
       "    <tr>\n",
       "      <th>160</th>\n",
       "      <td>-5.0</td>\n",
       "      <td>0.25</td>\n",
       "      <td>0.724636</td>\n",
       "      <td>-4.275364</td>\n",
       "      <td>-4.252252</td>\n",
       "      <td>0.04816</td>\n",
       "      <td>-4.331468</td>\n",
       "      <td>-4.173037</td>\n",
       "      <td>-4.375364</td>\n",
       "      <td>-4.175364</td>\n",
       "      <td>0.055185</td>\n",
       "      <td>False</td>\n",
       "    </tr>\n",
       "  </tbody>\n",
       "</table>\n",
       "</div>"
      ],
      "text/plain": [
       "               slope  rim_erasure_exponent  lifespan_model_exponent  \\\n",
       "simulation_id                                                         \n",
       "160             -5.0                  0.25                 0.724636   \n",
       "\n",
       "               littles_law_model_slope_prediction  mle_slope  mle_slope_sigma  \\\n",
       "simulation_id                                                                   \n",
       "160                                     -4.275364  -4.252252          0.04816   \n",
       "\n",
       "               mle_lower_ci  mle_upper_ci  predicted_lower_ci  \\\n",
       "simulation_id                                                   \n",
       "160               -4.331468     -4.173037           -4.375364   \n",
       "\n",
       "               predicted_upper_ci    p_tost  equivalent  \n",
       "simulation_id                                            \n",
       "160                     -4.175364  0.055185       False  "
      ]
     },
     "execution_count": 29,
     "metadata": {},
     "output_type": "execute_result"
    }
   ],
   "source": [
    "predictions_testing_set[~predictions_testing_set.equivalent].sort_values([\"slope\", \"rim_erasure_exponent\"])"
   ]
  },
  {
   "cell_type": "code",
   "execution_count": 30,
   "id": "826e0952-1570-4403-af19-fd1a2485c63c",
   "metadata": {},
   "outputs": [
    {
     "name": "stdout",
     "output_type": "stream",
     "text": [
      "\\begin{table}\n",
      "\\label{tab:pvalue_summary}\n",
      "\\begin{tabular}{rrrr}\n",
      "\\toprule \\\\\n",
      "\\bprod & \\multicolumn{3}{c}{\\textbf{\\eexp}} \\\\\n",
      "\\cmidrule(lr){2-4}\n",
      "nu & \\textbf{0.25} & \\textbf{0.55} & \\textbf{1.00} \\\\\n",
      "\\midrule\n",
      "\\textbf{-5.00} & 0.055 & \\textbf{0.004} & \\textbf{*} \\\\\n",
      "\\textbf{-4.70} & \\textbf{0.016} & \\textbf{*} & \\textbf{*} \\\\\n",
      "\\textbf{-3.15} & \\textbf{*} & \\textbf{*} & \\textbf{*} \\\\\n",
      "\\textbf{-2.65} & \\textbf{*} & \\textbf{*} & \\textbf{*} \\\\\n",
      "\\bottomrule\n",
      "\\end{tabular}\n",
      "\\end{table}\n",
      "\n"
     ]
    }
   ],
   "source": [
    "print(create_pvalue_table(predictions_testing_set, field=\"p_tost\", exponent_digits=2, slope_digits=2))"
   ]
  },
  {
   "cell_type": "markdown",
   "id": "d6a64630-2242-44f1-84e1-b0c73c380d33",
   "metadata": {},
   "source": [
    "# Comparison of number of craters to different studies"
   ]
  },
  {
   "cell_type": "markdown",
   "id": "f48e7388-d4eb-4ba8-964d-5d092f292628",
   "metadata": {},
   "source": [
    "## This thesis"
   ]
  },
  {
   "cell_type": "code",
   "execution_count": 49,
   "id": "6931e020-92c4-488b-9488-206ed81bd842",
   "metadata": {},
   "outputs": [
    {
     "data": {
      "text/plain": [
       "1813.675037854"
      ]
     },
     "execution_count": 49,
     "metadata": {},
     "output_type": "execute_result"
    }
   ],
   "source": [
    "# Total N_g for all simulations\n",
    "states.groupby(\"simulation_id\").agg(\"max\").sum().crater_id / 1e9"
   ]
  },
  {
   "cell_type": "code",
   "execution_count": 50,
   "id": "30a9c058-9a44-4584-9989-9262942a8ebc",
   "metadata": {},
   "outputs": [
    {
     "data": {
      "text/plain": [
       "162"
      ]
     },
     "execution_count": 50,
     "metadata": {},
     "output_type": "execute_result"
    }
   ],
   "source": [
    "# Number of simulations\n",
    "states.index.drop_duplicates().shape[0]"
   ]
  },
  {
   "cell_type": "markdown",
   "id": "ecd9049c-011b-4db8-98e8-86517d43c860",
   "metadata": {},
   "source": [
    "## Woronow (1977)"
   ]
  },
  {
   "cell_type": "code",
   "execution_count": 63,
   "id": "018058ba-0081-463a-bbfd-bcbf86b694c2",
   "metadata": {},
   "outputs": [],
   "source": [
    "slopes = [-3, -2, -1.5]\n",
    "dmin = 10\n",
    "F = 0.5\n",
    "dstat = dmin / F\n",
    "rmax = 160\n",
    "nstat = 1000"
   ]
  },
  {
   "cell_type": "code",
   "execution_count": 67,
   "id": "7850e543-7f8e-4bee-b2cc-f9140c744de0",
   "metadata": {},
   "outputs": [
    {
     "data": {
      "text/plain": [
       "18000.0"
      ]
     },
     "execution_count": 67,
     "metadata": {},
     "output_type": "execute_result"
    }
   ],
   "source": [
    "# Pareto CDF\n",
    "sum([(dmin / dstat)**slope * nstat for slope in slopes])"
   ]
  },
  {
   "cell_type": "markdown",
   "id": "5ae3667e-328b-4905-96c6-2e648c86f39f",
   "metadata": {},
   "source": [
    "## Squyres (1999)"
   ]
  },
  {
   "cell_type": "code",
   "execution_count": 71,
   "id": "8725b282-ea4d-4577-a880-5fa0514de06a",
   "metadata": {},
   "outputs": [],
   "source": [
    "slope = -2.73\n",
    "n_repeats = 5\n",
    "n_betas = 5\n",
    "n_zetas = 4\n",
    "rmins = [10, 30]\n",
    "rstat = 30\n",
    "rmax = 1000\n",
    "nstat = 4000"
   ]
  },
  {
   "cell_type": "code",
   "execution_count": 72,
   "id": "b1448c9c-cf24-4d68-a159-29f5c27161ee",
   "metadata": {},
   "outputs": [
    {
     "data": {
      "text/plain": [
       "8427882.67369005"
      ]
     },
     "execution_count": 72,
     "metadata": {},
     "output_type": "execute_result"
    }
   ],
   "source": [
    "# Pareto CDF times nstat\n",
    "sum(\n",
    "    (rmin / rstat)**slope * nstat * n_repeats * n_betas * n_zetas\n",
    "    for rmin in rmins\n",
    ")"
   ]
  },
  {
   "cell_type": "code",
   "execution_count": 73,
   "id": "69def218-89df-4a50-a818-cd435296f3ba",
   "metadata": {},
   "outputs": [
    {
     "data": {
      "text/plain": [
       "200"
      ]
     },
     "execution_count": 73,
     "metadata": {},
     "output_type": "execute_result"
    }
   ],
   "source": [
    "n_repeats * len(rmins) * n_betas * n_zetas"
   ]
  },
  {
   "cell_type": "code",
   "execution_count": 74,
   "id": "56b37370-88b5-4d91-bce4-65b02e5606f8",
   "metadata": {},
   "outputs": [
    {
     "data": {
      "text/plain": [
       "800000"
      ]
     },
     "execution_count": 74,
     "metadata": {},
     "output_type": "execute_result"
    }
   ],
   "source": [
    "n_repeats * len(rmins) * n_betas * n_zetas * nstat"
   ]
  },
  {
   "cell_type": "markdown",
   "id": "d992cf86-f1a3-476d-af9f-03d831043b62",
   "metadata": {},
   "source": [
    "## Kirchoff (2018)"
   ]
  },
  {
   "cell_type": "code",
   "execution_count": 66,
   "id": "205a4ed3-1f7d-48d2-bc52-e594ebc30c8e",
   "metadata": {},
   "outputs": [],
   "source": [
    "slopes = [-1, -2]\n",
    "rmults = [1.3, 1.5, 1.7, 1.9]\n",
    "mrps = [.3, .4, .5]\n",
    "rstats = [3, 6, 9, 12, 15]\n",
    "rmin = 2.5\n",
    "rmax = 2500\n",
    "nstat = 3000"
   ]
  },
  {
   "cell_type": "code",
   "execution_count": 68,
   "id": "c469ed32-587b-4c7d-8c74-57fb30427b51",
   "metadata": {},
   "outputs": [
    {
     "data": {
      "text/plain": [
       "18081744.141249813"
      ]
     },
     "execution_count": 68,
     "metadata": {},
     "output_type": "execute_result"
    }
   ],
   "source": [
    "# Pareto CDF\n",
    "sum(\n",
    "    [\n",
    "        (rmin / rstat)**slope * nstat\n",
    "        for x in slopes\n",
    "        for rstat in rstats\n",
    "        for _ in mrps\n",
    "        for _ in rmults\n",
    "    ]\n",
    ")"
   ]
  },
  {
   "cell_type": "code",
   "execution_count": 70,
   "id": "f76d83cf-4479-4ed4-821b-3b4e9125e9d7",
   "metadata": {},
   "outputs": [
    {
     "data": {
      "text/plain": [
       "360000"
      ]
     },
     "execution_count": 70,
     "metadata": {},
     "output_type": "execute_result"
    }
   ],
   "source": [
    "5 * 3 * 4 * 2 * nstat"
   ]
  },
  {
   "cell_type": "code",
   "execution_count": null,
   "id": "fd214fbe-f9d2-405f-bfaa-68d69dded953",
   "metadata": {},
   "outputs": [],
   "source": []
  }
 ],
 "metadata": {
  "kernelspec": {
   "display_name": "Python 3 (ipykernel)",
   "language": "python",
   "name": "python3"
  },
  "language_info": {
   "codemirror_mode": {
    "name": "ipython",
    "version": 3
   },
   "file_extension": ".py",
   "mimetype": "text/x-python",
   "name": "python",
   "nbconvert_exporter": "python",
   "pygments_lexer": "ipython3",
   "version": "3.12.5"
  }
 },
 "nbformat": 4,
 "nbformat_minor": 5
}
