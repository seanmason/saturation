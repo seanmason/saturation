{
 "cells": [
  {
   "cell_type": "code",
   "execution_count": null,
   "id": "319f8c36-4358-4798-8d32-65816e25e6b5",
   "metadata": {},
   "source": [
    "%load_ext autoreload\n",
    "%autoreload 2"
   ],
   "outputs": []
  },
  {
   "cell_type": "code",
   "execution_count": null,
   "id": "edfd3c76-4a9d-4537-a9e9-96b69e84c6e3",
   "metadata": {},
   "source": [
    "import sys\n",
    "\n",
    "import pandas as pd\n",
    "import numpy as np\n",
    "from pathlib import Path\n",
    "import yaml\n",
    "from typing import *\n",
    "import glob\n",
    "\n",
    "import plotly.express as px\n",
    "import plotly.io as pio\n",
    "import plotly.graph_objects as go\n",
    "import matplotlib\n",
    "import matplotlib.pyplot as plt\n",
    "\n",
    "import pyspark\n",
    "import pyspark.sql.functions as F\n",
    "from pyspark.sql import SparkSession, DataFrame, Window\n",
    "import itertools\n",
    "\n",
    "from saturation.utils import *\n",
    "\n",
    "pio.renderers.default = \"iframe\""
   ],
   "outputs": []
  },
  {
   "cell_type": "code",
   "execution_count": null,
   "id": "08cd2c9a-4cd1-4556-b0dd-09a933bfc393",
   "metadata": {},
   "source": [
    "n_cores = 28\n",
    "\n",
    "spark = (SparkSession.builder\n",
    "         .master(f\"local[{n_cores}]\")\n",
    "         .appName(\"Saturation\")\n",
    "         .config(\"spark.sql.shuffle.partitions\", \"500\")\n",
    "         .config(\"spark.driver.memory\", \"60g\")\n",
    "         .config(\"spark.driver.maxResultSize\", \"8g\")\n",
    "         .getOrCreate())"
   ],
   "outputs": []
  },
  {
   "cell_type": "code",
   "execution_count": null,
   "id": "e2184f36-a854-4ad2-86af-0bd0ab7aa2ee",
   "metadata": {},
   "source": [
    "base_path = \"/data/saturation/thesis_run_20240130\"\n",
    "study_region_size = 4000\n",
    "r_stat = 5\n",
    "study_region_padding = int(study_region_size * 0.125)"
   ],
   "outputs": []
  },
  {
   "cell_type": "code",
   "execution_count": null,
   "id": "01165932-7dcc-4691-800c-f1e4a8701edb",
   "metadata": {},
   "source": [
    "configs_df = create_configs_df(read_configs(base_path, spark))\n",
    "configs_pd = configs_df.toPandas()"
   ],
   "outputs": []
  },
  {
   "cell_type": "code",
   "execution_count": null,
   "id": "10c15ded-ef21-4b48-9de3-385501c47b2f",
   "metadata": {},
   "source": [
    "configs_pd[configs_pd.slope.between(2.7, 2.8)].sort_values(\"slope\")"
   ],
   "outputs": []
  },
  {
   "cell_type": "code",
   "execution_count": null,
   "id": "01b13076-59f3-49df-91cc-c6c3d9352d9f",
   "metadata": {},
   "source": [
    "configs_dict = dict()\n",
    "for config_file in glob.glob(f\"{base_path}/config/config_*.yaml\"):\n",
    "    for run_config in read_config(Path(config_file))[\"run_configurations\"]:\n",
    "        configs_dict.update(run_config)"
   ],
   "outputs": []
  },
  {
   "cell_type": "code",
   "execution_count": null,
   "id": "c757668f-a324-4702-aa07-a17f5615b3f1",
   "metadata": {},
   "source": [],
   "outputs": []
  },
  {
   "cell_type": "markdown",
   "id": "f68b6762-2cd6-4e39-8563-2300ca40f063",
   "metadata": {},
   "source": [
    "## Example CSFD"
   ]
  },
  {
   "cell_type": "code",
   "execution_count": null,
   "id": "c3740e6d-f13a-4c26-a7eb-d3ae2a30b146",
   "metadata": {},
   "source": [
    "# Steep slope, 2.7\n",
    "simulation_id = 6930\n",
    "target_n_craters_added_in_study_region = 3000\n",
    "est_saturation_n = 40\n",
    "\n",
    "sim_name = configs_dict[simulation_id][\"simulation_name\"]\n",
    "sim_path = f\"{base_path}/{sim_name}\"\n",
    "\n",
    "stats_df = spark.read.parquet(f\"{sim_path}/statistics_*.parquet\")\n",
    "craters_df = spark.read.parquet(f\"{sim_path}/craters_*.parquet\")\n",
    "removals_df = spark.read.parquet(f\"{sim_path}/crater_removals_*.parquet\")\n",
    "\n",
    "state = get_state_at_time(\n",
    "    stats_df,\n",
    "    craters_df,\n",
    "    removals_df,\n",
    "    simulation_id,\n",
    "    target_n_craters_added_in_study_region,\n",
    "    study_region_size,\n",
    "    study_region_padding,\n",
    "    spark\n",
    ")   \n",
    "\n",
    "estimated_slope, sigma = estimate_cumulative_slope(state.radius,\n",
    "                                                   state.radius.min(),\n",
    "                                                   est_saturation_n)\n",
    "intercept = estimate_intercept(state.radius[state.radius < est_saturation_n], estimated_slope)\n",
    "print(f\"estimated slope={estimated_slope:.3f}, sigma={sigma:.3f}\")\n",
    "plot_sfds(state, -estimated_slope, intercept=intercept)"
   ],
   "outputs": []
  },
  {
   "cell_type": "code",
   "execution_count": null,
   "id": "947fafdc-d4f0-464c-acfe-ef659c815634",
   "metadata": {},
   "source": [
    "est_saturation_n = 40\n",
    "\n",
    "# estimated_production_slope, estimated_production_sigma = estimate_cumulative_slope(state.radius,\n",
    "#                                                                                    est_saturation_n,\n",
    "#                                                                                    state.radius.max())\n",
    "stimated_production_slope = 2.7\n",
    "estimated_production_intercept = estimate_intercept(state.radius[state.radius > est_saturation_n], estimated_production_slope)\n",
    "print(f\"estimated slope={estimated_production_slope:.3f}, sigma={estimated_production_sigma:.3f}\")\n",
    "\n",
    "plot_sfds(state, -estimated_production_slope, intercept=estimated_production_intercept)"
   ],
   "outputs": []
  },
  {
   "cell_type": "code",
   "execution_count": null,
   "id": "b5619418-1fa0-468f-b764-867b436b477f",
   "metadata": {},
   "source": [
    "radii = state.radius[state.radius.between(5, 50)].sort_values()\n",
    "\n",
    "# Track min and max radii\n",
    "min_radius = radii.min()\n",
    "max_radius = radii.max()\n",
    "\n",
    "plt.plot(radii, range(len(radii) + 1, 1, -1), label=\"Observed\")\n",
    "plt.xlabel(\"$R$\")\n",
    "plt.ylabel(\"$N(\\geq R)$\")\n",
    "\n",
    "expected = intercept * radii ** estimated_slope\n",
    "plt.plot(radii, expected, label=\"Estimated Slope\", ls=\"--\")\n",
    "\n",
    "expected = estimated_production_intercept * radii ** estimated_production_slope\n",
    "plt.plot(radii, expected, label=\"Production Slope\", ls=\"dotted\")\n",
    "\n",
    "plt.subplots_adjust(right=0.7)\n",
    "plt.tight_layout(rect=[0, 0, 0.75, 1])\n",
    "\n",
    "plt.legend(bbox_to_anchor=(1.04, 1), loc=\"upper left\")\n",
    "plt.xscale('log')\n",
    "plt.yscale('log')\n",
    "plt.show()"
   ],
   "outputs": []
  },
  {
   "cell_type": "code",
   "execution_count": null,
   "id": "e2bf1c22-d5c3-457e-a8e3-dee6b820b67e",
   "metadata": {},
   "source": [],
   "outputs": []
  },
  {
   "cell_type": "code",
   "execution_count": null,
   "id": "eac1f439-92aa-4ac2-b7dc-6e0043187561",
   "metadata": {},
   "source": [],
   "outputs": []
  },
  {
   "cell_type": "code",
   "execution_count": null,
   "id": "0009a02e-f4e1-403f-8d97-f461bcd8f7c4",
   "metadata": {},
   "source": [
    "state"
   ],
   "outputs": []
  },
  {
   "cell_type": "code",
   "execution_count": null,
   "id": "5d38d487-0e61-4bc5-bb9f-4fdc27e87cf2",
   "metadata": {},
   "source": [],
   "outputs": []
  },
  {
   "cell_type": "code",
   "execution_count": null,
   "id": "1ade90bc-2d48-4b1a-b43f-ad5d4a805bc8",
   "metadata": {},
   "source": [],
   "outputs": []
  },
  {
   "cell_type": "code",
   "execution_count": null,
   "id": "493e88dc-a101-456e-9509-4c5c859c20af",
   "metadata": {},
   "source": [
    "# Test for 1000 different sims\n",
    "target_n_craters_added_in_study_region = 100000\n",
    "\n",
    "sim_ids_and_slopes = configs_pd.sample(1000)[[\"slope\", \"simulation_id\"]]\n",
    "\n",
    "results_saturated = []\n",
    "for row in sim_ids_and_slopes.itertuples():\n",
    "    slope = row.slope\n",
    "    simulation_id = row.simulation_id\n",
    "\n",
    "    sim_name = configs_dict[simulation_id][\"simulation_name\"]\n",
    "    sim_path = f\"{base_path}/{sim_name}\"\n",
    "\n",
    "    stats_df = spark.read.parquet(f\"{sim_path}/statistics_*.parquet\")\n",
    "    craters_df = spark.read.parquet(f\"{sim_path}/craters_*.parquet\")\n",
    "    removals_df = spark.read.parquet(f\"{sim_path}/crater_removals_*.parquet\")\n",
    "    \n",
    "    state = get_state_at_time(\n",
    "        stats_df,\n",
    "        craters_df,\n",
    "        removals_df,\n",
    "        simulation_id,\n",
    "        target_n_craters_added_in_study_region,\n",
    "        study_region_size,\n",
    "        study_region_padding,\n",
    "        spark\n",
    "    )   \n",
    "\n",
    "    estimated_slope, sigma = estimate_cumulative_slope(state.radius,\n",
    "                                                       state.radius.min(),\n",
    "                                                       state.radius.max())\n",
    "    intercept = estimate_intercept(state.radius, estimated_slope)\n",
    "    results_saturated.append([simulation_id, slope, estimated_slope, sigma, intercept])\n",
    "\n",
    "    if len(results_saturated) % 50 == 0:\n",
    "        print(f\"id={simulation_id}, slope={slope:.2f}, est slope={estimated_slope:.2f}\")"
   ],
   "outputs": []
  },
  {
   "cell_type": "code",
   "execution_count": null,
   "id": "2bc25364-ae2f-4d0d-8ecb-2514861b69c1",
   "metadata": {},
   "source": [
    "# Test for 1000 different sims, \n",
    "target_n_craters_added_in_study_region = 500\n",
    "\n",
    "sim_ids_and_slopes = configs_pd.sample(1000)[[\"slope\", \"simulation_id\"]]\n",
    "\n",
    "results_not_saturated = []\n",
    "for row in sim_ids_and_slopes.itertuples():\n",
    "    slope = row.slope\n",
    "    simulation_id = row.simulation_id\n",
    "\n",
    "    sim_name = configs_dict[simulation_id][\"simulation_name\"]\n",
    "    sim_path = f\"{base_path}/{sim_name}\"\n",
    "\n",
    "    stats_df = spark.read.parquet(f\"{sim_path}/statistics_*.parquet\")\n",
    "    craters_df = spark.read.parquet(f\"{sim_path}/craters_*.parquet\")\n",
    "    removals_df = spark.read.parquet(f\"{sim_path}/crater_removals_*.parquet\")\n",
    "    \n",
    "    state = get_state_at_time(\n",
    "        stats_df,\n",
    "        craters_df,\n",
    "        removals_df,\n",
    "        simulation_id,\n",
    "        target_n_craters_added_in_study_region,\n",
    "        study_region_size,\n",
    "        study_region_padding,\n",
    "        spark\n",
    "    )   \n",
    "\n",
    "    estimated_slope, sigma = estimate_cumulative_slope(state.radius,\n",
    "                                                       state.radius.min(),\n",
    "                                                       state.radius.quantile(0.75))\n",
    "    intercept = estimate_intercept(state.radius, estimated_slope)\n",
    "    results_not_saturated.append([simulation_id, slope, estimated_slope, sigma, intercept])\n",
    "\n",
    "    if len(results_not_saturated) % 50 == 0:\n",
    "        print(f\"id={simulation_id}, slope={slope:.2f}, est slope={estimated_slope:.2f}, sigma={sigma:.3f}\")"
   ],
   "outputs": []
  },
  {
   "cell_type": "code",
   "execution_count": null,
   "id": "8816f6e1-6306-49f4-aafa-e52004234b81",
   "metadata": {},
   "source": [
    "# Test for 1000 different sims, \n",
    "target_n_craters_added_in_study_region = 1000\n",
    "\n",
    "sim_ids_and_slopes = configs_pd.sample(1000)[[\"slope\", \"simulation_id\"]]\n",
    "\n",
    "results_not_saturated2 = []\n",
    "for row in sim_ids_and_slopes.itertuples():\n",
    "    slope = row.slope\n",
    "    simulation_id = row.simulation_id\n",
    "\n",
    "    sim_name = configs_dict[simulation_id][\"simulation_name\"]\n",
    "    sim_path = f\"{base_path}/{sim_name}\"\n",
    "\n",
    "    stats_df = spark.read.parquet(f\"{sim_path}/statistics_*.parquet\")\n",
    "    craters_df = spark.read.parquet(f\"{sim_path}/craters_*.parquet\")\n",
    "    removals_df = spark.read.parquet(f\"{sim_path}/crater_removals_*.parquet\")\n",
    "    \n",
    "    state = get_state_at_time(\n",
    "        stats_df,\n",
    "        craters_df,\n",
    "        removals_df,\n",
    "        simulation_id,\n",
    "        target_n_craters_added_in_study_region,\n",
    "        study_region_size,\n",
    "        study_region_padding,\n",
    "        spark\n",
    "    )   \n",
    "\n",
    "    estimated_slope, sigma = estimate_cumulative_slope(state.radius,\n",
    "                                                       state.radius.min(),\n",
    "                                                       state.radius.quantile(0.75))\n",
    "    intercept = estimate_intercept(state.radius, estimated_slope)\n",
    "    results_not_saturated2.append([simulation_id, slope, estimated_slope, sigma, intercept])\n",
    "\n",
    "    if len(results_not_saturated2) % 50 == 0:\n",
    "        print(f\"id={simulation_id}, slope={slope:.2f}, est slope={estimated_slope:.2f}, sigma={sigma:.3f}\")"
   ],
   "outputs": []
  },
  {
   "cell_type": "code",
   "execution_count": null,
   "id": "60e2d37e-4129-4217-8007-4aacd0f51297",
   "metadata": {},
   "source": [],
   "outputs": []
  },
  {
   "cell_type": "code",
   "execution_count": null,
   "id": "9d1ad642-860d-40f4-bd0b-11e58b6211d2",
   "metadata": {},
   "source": [],
   "outputs": []
  },
  {
   "cell_type": "code",
   "execution_count": null,
   "id": "0d1ed95d-019a-4458-9ed9-bd32bd1f19a3",
   "metadata": {},
   "source": [],
   "outputs": []
  },
  {
   "cell_type": "code",
   "execution_count": null,
   "id": "9d2686f8-a317-4021-8b5d-626d609cdb4b",
   "metadata": {},
   "source": [
    "simulation_id = 5407\n",
    "sim_name = configs_dict[simulation_id][\"simulation_name\"]\n",
    "sim_path = f\"{base_path}/{sim_name}\""
   ],
   "outputs": []
  },
  {
   "cell_type": "code",
   "execution_count": null,
   "id": "8b224d47-864f-44bf-859b-24888cf708fb",
   "metadata": {},
   "source": [
    "stats_df = spark.read.parquet(f\"{sim_path}/statistics_*.parquet\")\n",
    "craters_df = spark.read.parquet(f\"{sim_path}/craters_*.parquet\")\n",
    "removals_df = spark.read.parquet(f\"{sim_path}/crater_removals_*.parquet\")\n",
    "\n",
    "target_n_craters_added_in_study_region = 10000\n",
    "\n",
    "state = get_state_at_time(\n",
    "    stats_df,\n",
    "    craters_df,\n",
    "    removals_df,\n",
    "    simulation_id,\n",
    "    target_n_craters_added_in_study_region,\n",
    "    study_region_size,\n",
    "    study_region_padding,\n",
    "    spark\n",
    ")   \n",
    "\n",
    "plot_sfds(sandblasting_5, slope, intercept=6e7)"
   ],
   "outputs": []
  },
  {
   "cell_type": "code",
   "execution_count": null,
   "id": "6101ff16-1aee-48eb-8011-51f5615a5902",
   "metadata": {},
   "source": [
    "state.describe()"
   ],
   "outputs": []
  },
  {
   "cell_type": "code",
   "execution_count": null,
   "id": "978c4a7c-f84c-47e9-afd9-a5279f109c2b",
   "metadata": {},
   "source": [
    "calculate_areal_density(state, study_region_size, study_region_padding, 5.0)"
   ],
   "outputs": []
  },
  {
   "cell_type": "code",
   "execution_count": null,
   "id": "122973a5-2ab4-4ec4-a221-6c13eb4c6eed",
   "metadata": {},
   "source": [
    "cutoff_radius = 5000\n",
    "s = state[state.radius < cutoff_radius]\n",
    "slope, sigma = estimate_cumulative_slope(s.radius,\n",
    "                                         s.radius.min(),\n",
    "                                         s.radius.max())\n",
    "intercept = estimate_intercept(s.radius, slope)\n",
    "slope, sigma, intercept"
   ],
   "outputs": []
  },
  {
   "cell_type": "code",
   "execution_count": null,
   "id": "057b5a11-f23c-4b46-854a-1097167dc7d1",
   "metadata": {},
   "source": [
    "plot_sfds(state, -slope, intercept=intercept)"
   ],
   "outputs": []
  },
  {
   "cell_type": "code",
   "execution_count": null,
   "id": "f402b717-d65c-4b38-8cfe-e955484e34be",
   "metadata": {},
   "source": [
    "plot_terrain(state)"
   ],
   "outputs": []
  },
  {
   "cell_type": "code",
   "execution_count": null,
   "id": "8a9fe84e-eaff-4a77-a343-85e871b882dd",
   "metadata": {},
   "source": [],
   "outputs": []
  },
  {
   "cell_type": "code",
   "execution_count": null,
   "id": "3afc3108-3ec1-4d32-8210-9ab5c50f95d5",
   "metadata": {},
   "source": [],
   "outputs": []
  },
  {
   "cell_type": "code",
   "execution_count": null,
   "id": "86c88037-3269-42c3-a3ae-7a2b5149bbd6",
   "metadata": {},
   "source": [],
   "outputs": []
  },
  {
   "cell_type": "code",
   "execution_count": null,
   "id": "12f73646-fb97-4995-ac2c-a0c92b48cbf3",
   "metadata": {},
   "source": [
    "stats_df = spark.read.parquet(f\"{base_path}/*/statistics_*.parquet\")\n",
    "craters_df = spark.read.parquet(f\"{base_path}/*/craters_*.parquet\")\n",
    "removals_df = spark.read.parquet(f\"{base_path}/*/crater_removals_*.parquet\")\n",
    "\n",
    "simulation_id = 8296\n",
    "target_n_craters_added_in_study_region = 1000\n",
    "\n",
    "state_8296_1000 = get_state_at_time(\n",
    "    stats_df,\n",
    "    craters_df,\n",
    "    removals_df,\n",
    "    simulation_id,\n",
    "    target_n_craters_added_in_study_region,\n",
    "    study_region_size,\n",
    "    study_region_padding\n",
    ")   "
   ],
   "outputs": []
  },
  {
   "cell_type": "code",
   "execution_count": null,
   "id": "03caf18f-9258-4109-afe0-ef19ace686ed",
   "metadata": {},
   "source": [
    "stats_df = spark.read.parquet(f\"{base_path}/*/statistics_*.parquet\")\n",
    "craters_df = spark.read.parquet(f\"{base_path}/*/craters_*.parquet\")\n",
    "removals_df = spark.read.parquet(f\"{base_path}/*/crater_removals_*.parquet\")\n",
    "\n",
    "simulation_id = 8296\n",
    "target_n_craters_added_in_study_region = 500\n",
    "\n",
    "state_8296_500 = get_state_at_time(\n",
    "    stats_df,\n",
    "    craters_df,\n",
    "    removals_df,\n",
    "    simulation_id,\n",
    "    target_n_craters_added_in_study_region,\n",
    "    study_region_size,\n",
    "    study_region_padding\n",
    ")   "
   ],
   "outputs": []
  },
  {
   "cell_type": "code",
   "execution_count": null,
   "id": "17eaa0a1-c554-4f72-8982-bad351b298fe",
   "metadata": {},
   "source": [
    "stats_df = spark.read.parquet(f\"{base_path}/*/statistics_*.parquet\")\n",
    "craters_df = spark.read.parquet(f\"{base_path}/*/craters_*.parquet\")\n",
    "removals_df = spark.read.parquet(f\"{base_path}/*/crater_removals_*.parquet\")\n",
    "\n",
    "simulation_id = 8296\n",
    "target_n_craters_added_in_study_region = 360000\n",
    "\n",
    "state_8296_360000 = get_state_at_time(\n",
    "    stats_df,\n",
    "    craters_df,\n",
    "    removals_df,\n",
    "    simulation_id,\n",
    "    target_n_craters_added_in_study_region,\n",
    "    study_region_size,\n",
    "    study_region_padding\n",
    ")   "
   ],
   "outputs": []
  },
  {
   "cell_type": "code",
   "execution_count": null,
   "id": "62ae314f-4ec3-4647-a6cd-33a95894f673",
   "metadata": {},
   "source": [
    "stats_df = spark.read.parquet(f\"{base_path}/*/statistics_*.parquet\")\n",
    "craters_df = spark.read.parquet(f\"{base_path}/*/craters_*.parquet\")\n",
    "removals_df = spark.read.parquet(f\"{base_path}/*/crater_removals_*.parquet\")\n",
    "\n",
    "simulation_id = 8296\n",
    "target_n_craters_added_in_study_region = 100000\n",
    "\n",
    "state_8296_100000 = get_state_at_time(\n",
    "    stats_df,\n",
    "    craters_df,\n",
    "    removals_df,\n",
    "    simulation_id,\n",
    "    target_n_craters_added_in_study_region,\n",
    "    study_region_size,\n",
    "    study_region_padding\n",
    ")   "
   ],
   "outputs": []
  },
  {
   "cell_type": "code",
   "execution_count": null,
   "id": "0a329774-2298-48db-a2ec-4547252cef28",
   "metadata": {},
   "source": [
    "stats_df = spark.read.parquet(f\"{base_path}/*/statistics_*.parquet\")\n",
    "craters_df = spark.read.parquet(f\"{base_path}/*/craters_*.parquet\")\n",
    "removals_df = spark.read.parquet(f\"{base_path}/*/crater_removals_*.parquet\")\n",
    "\n",
    "simulation_id = 7099\n",
    "target_n_craters_added_in_study_region = 1000\n",
    "\n",
    "state_7099_1000 = get_state_at_time(\n",
    "    stats_df,\n",
    "    craters_df,\n",
    "    removals_df,\n",
    "    simulation_id,\n",
    "    target_n_craters_added_in_study_region,\n",
    "    study_region_size,\n",
    "    study_region_padding\n",
    ")   "
   ],
   "outputs": []
  },
  {
   "cell_type": "code",
   "execution_count": null,
   "id": "8678b24b-f904-479d-ab59-2a9e8c70be95",
   "metadata": {},
   "source": [
    "stats_df = spark.read.parquet(f\"{base_path}/*/statistics_*.parquet\")\n",
    "craters_df = spark.read.parquet(f\"{base_path}/*/craters_*.parquet\")\n",
    "removals_df = spark.read.parquet(f\"{base_path}/*/crater_removals_*.parquet\")\n",
    "\n",
    "simulation_id = 4458\n",
    "target_n_craters_added_in_study_region = 1000\n",
    "\n",
    "state_4458_1000 = get_state_at_time(\n",
    "    stats_df,\n",
    "    craters_df,\n",
    "    removals_df,\n",
    "    simulation_id,\n",
    "    target_n_craters_added_in_study_region,\n",
    "    study_region_size,\n",
    "    study_region_padding\n",
    ")   "
   ],
   "outputs": []
  },
  {
   "cell_type": "code",
   "execution_count": null,
   "id": "8feac368-b527-4909-a07d-d9d61731b6e3",
   "metadata": {},
   "source": [
    "stats_df = spark.read.parquet(f\"{base_path}/*/statistics_*.parquet\")\n",
    "craters_df = spark.read.parquet(f\"{base_path}/*/craters_*.parquet\")\n",
    "removals_df = spark.read.parquet(f\"{base_path}/*/crater_removals_*.parquet\")\n",
    "\n",
    "simulation_id = 7230\n",
    "target_n_craters_added_in_study_region = 1000\n",
    "\n",
    "state_7230_1000 = get_state_at_time(\n",
    "    stats_df,\n",
    "    craters_df,\n",
    "    removals_df,\n",
    "    simulation_id,\n",
    "    target_n_craters_added_in_study_region,\n",
    "    study_region_size,\n",
    "    study_region_padding\n",
    ")   "
   ],
   "outputs": []
  },
  {
   "cell_type": "code",
   "execution_count": null,
   "id": "f3436d95-f17e-404d-b370-2000e654ee99",
   "metadata": {},
   "source": [
    "stats_df = spark.read.parquet(f\"{base_path}/*/statistics_*.parquet\")\n",
    "craters_df = spark.read.parquet(f\"{base_path}/*/craters_*.parquet\")\n",
    "removals_df = spark.read.parquet(f\"{base_path}/*/crater_removals_*.parquet\")\n",
    "\n",
    "simulation_id = 7230\n",
    "target_n_craters_added_in_study_region = 100000\n",
    "\n",
    "state_7230_100000 = get_state_at_time(\n",
    "    stats_df,\n",
    "    craters_df,\n",
    "    removals_df,\n",
    "    simulation_id,\n",
    "    target_n_craters_added_in_study_region,\n",
    "    study_region_size,\n",
    "    study_region_padding\n",
    ")   "
   ],
   "outputs": []
  },
  {
   "cell_type": "code",
   "execution_count": null,
   "id": "17d958e1-837f-42d1-8d46-e7907eee6f76",
   "metadata": {},
   "source": [
    "plot_terrain(state_8296_100000)"
   ],
   "outputs": []
  },
  {
   "cell_type": "code",
   "execution_count": null,
   "id": "565d47d1-fe1e-429b-bfac-2d9264cee79a",
   "metadata": {},
   "source": [
    "calculate_areal_density(state_8296_1000, study_region_size, study_region_padding, r_stat)"
   ],
   "outputs": []
  },
  {
   "cell_type": "code",
   "execution_count": null,
   "id": "626f814f-1e10-475b-b07f-ba3876f32b34",
   "metadata": {},
   "source": [],
   "outputs": []
  },
  {
   "cell_type": "code",
   "execution_count": null,
   "id": "11001e42-7ed5-4c61-bfa3-e3beab458b77",
   "metadata": {},
   "source": [
    "stats_df = spark.read.parquet(f\"/data/saturation/discrete_tests/*/statistics_*.parquet\")\n",
    "craters_df = spark.read.parquet(f\"/data/saturation/discrete_tests/*/craters_*.parquet\")\n",
    "removals_df = spark.read.parquet(f\"/data/saturation/discrete_tests/*/crater_removals_*.parquet\")\n",
    "\n",
    "simulation_id = 3\n",
    "target_n_craters_added_in_study_region = 8000000\n",
    "\n",
    "state_discrete_two_levels_slope_6 = get_state_at_time(\n",
    "    stats_df,\n",
    "    craters_df,\n",
    "    removals_df,\n",
    "    simulation_id,\n",
    "    target_n_craters_added_in_study_region,\n",
    "    study_region_size,\n",
    "    study_region_padding\n",
    ")   "
   ],
   "outputs": []
  },
  {
   "cell_type": "code",
   "execution_count": null,
   "id": "90c61892-f247-4413-9aaf-834f5f288552",
   "metadata": {},
   "source": [
    "state = state_discrete_two_levels_slope_6\n",
    "np.where(state.radius == 5, 1, 0).sum() / state.shape[0]"
   ],
   "outputs": []
  },
  {
   "cell_type": "code",
   "execution_count": null,
   "id": "5eb0f39a-d6f9-41e1-bc6c-0991d9df0420",
   "metadata": {},
   "source": [
    "state = state_discrete_two_levels_slope_6\n",
    "estimate_cumulative_slope(state.radius * 2,\n",
    "                          state.radius.min() * 2,\n",
    "                          state.radius.max() * 2,\n",
    "                          min_search_slope=0.0,\n",
    "                          max_search_slope=1000.0)"
   ],
   "outputs": []
  },
  {
   "cell_type": "code",
   "execution_count": null,
   "id": "212041b3-ed09-4793-af98-65d1d1babc59",
   "metadata": {},
   "source": [],
   "outputs": []
  },
  {
   "cell_type": "code",
   "execution_count": null,
   "id": "8359203b-6fd2-4777-bb9c-d428e70178ca",
   "metadata": {},
   "source": [
    "stats_df = spark.read.parquet(f\"/data/saturation/discrete_tests/*/statistics_*.parquet\")\n",
    "craters_df = spark.read.parquet(f\"/data/saturation/discrete_tests/*/craters_*.parquet\")\n",
    "removals_df = spark.read.parquet(f\"/data/saturation/discrete_tests/*/crater_removals_*.parquet\")\n",
    "\n",
    "simulation_id = 2\n",
    "target_n_craters_added_in_study_region = 8000000\n",
    "\n",
    "state_discrete_three_levels_6_mult = get_state_at_time(\n",
    "    stats_df,\n",
    "    craters_df,\n",
    "    removals_df,\n",
    "    simulation_id,\n",
    "    target_n_craters_added_in_study_region,\n",
    "    study_region_size,\n",
    "    study_region_padding\n",
    ")   "
   ],
   "outputs": []
  },
  {
   "cell_type": "code",
   "execution_count": null,
   "id": "47f69866-c76d-4470-afc4-570aca2f4619",
   "metadata": {},
   "source": [
    "state = state_discrete_three_levels_6_mult\n",
    "np.where(state.radius == 5, 1, 0).sum() / state.shape[0]"
   ],
   "outputs": []
  },
  {
   "cell_type": "code",
   "execution_count": null,
   "id": "ac49e9a4-ba8f-4991-ae4d-adbe2e2be82b",
   "metadata": {},
   "source": [
    "state = state_discrete_three_levels_6_mult\n",
    "estimate_cumulative_slope(state.radius * 2,\n",
    "                          state.radius.min() * 2,\n",
    "                          state.radius.max() * 2,\n",
    "                          min_search_slope=0.0,\n",
    "                          max_search_slope=10.0)"
   ],
   "outputs": []
  },
  {
   "cell_type": "code",
   "execution_count": null,
   "id": "ebdebe51-12a1-46cb-8460-da5e9346693d",
   "metadata": {},
   "source": [],
   "outputs": []
  },
  {
   "cell_type": "code",
   "execution_count": null,
   "id": "b7f10306-9fdd-463a-84c8-18336be3a03e",
   "metadata": {},
   "source": [],
   "outputs": []
  },
  {
   "cell_type": "code",
   "execution_count": null,
   "id": "36770152-10ac-4d60-84fa-0fcad139e072",
   "metadata": {},
   "source": [
    "stats_df = spark.read.parquet(f\"/data/saturation/deep_test/*/statistics_*.parquet\")\n",
    "craters_df = spark.read.parquet(f\"/data/saturation/deep_test/*/craters_*.parquet\")\n",
    "removals_df = spark.read.parquet(f\"/data/saturation/deep_test/*/crater_removals_*.parquet\")\n",
    "\n",
    "simulation_id = 3\n",
    "target_n_craters_added_in_study_region = 3000000\n",
    "\n",
    "state_3_3000000 = get_state_at_time(\n",
    "    stats_df,\n",
    "    craters_df,\n",
    "    removals_df,\n",
    "    simulation_id,\n",
    "    target_n_craters_added_in_study_region,\n",
    "    study_region_size,\n",
    "    study_region_padding\n",
    ")   "
   ],
   "outputs": []
  },
  {
   "cell_type": "code",
   "execution_count": null,
   "id": "6cf1a691-4ca1-4ce7-9380-12d72d3d3143",
   "metadata": {},
   "source": [
    "stats_df = spark.read.parquet(f\"/data/saturation/deep_test/*/statistics_*.parquet\")\n",
    "craters_df = spark.read.parquet(f\"/data/saturation/deep_test/*/craters_*.parquet\")\n",
    "removals_df = spark.read.parquet(f\"/data/saturation/deep_test/*/crater_removals_*.parquet\")\n",
    "\n",
    "simulation_id = 4\n",
    "target_n_craters_added_in_study_region = 30000000\n",
    "\n",
    "state_4_30000000 = get_state_at_time(\n",
    "    stats_df,\n",
    "    craters_df,\n",
    "    removals_df,\n",
    "    simulation_id,\n",
    "    target_n_craters_added_in_study_region,\n",
    "    study_region_size,\n",
    "    study_region_padding\n",
    ")   "
   ],
   "outputs": []
  },
  {
   "cell_type": "code",
   "execution_count": null,
   "id": "8f7f6ef3-c0c4-44e7-a673-56d253529d0e",
   "metadata": {},
   "source": [
    "stats_df = spark.read.parquet(f\"/data/saturation/deep_test/*/statistics_*.parquet\")\n",
    "craters_df = spark.read.parquet(f\"/data/saturation/deep_test/*/craters_*.parquet\")\n",
    "removals_df = spark.read.parquet(f\"/data/saturation/deep_test/*/crater_removals_*.parquet\")\n",
    "\n",
    "simulation_id = 6\n",
    "target_n_craters_added_in_study_region = 3000\n",
    "\n",
    "state_6_3000 = get_state_at_time(\n",
    "    stats_df,\n",
    "    craters_df,\n",
    "    removals_df,\n",
    "    simulation_id,\n",
    "    target_n_craters_added_in_study_region,\n",
    "    study_region_size,\n",
    "    study_region_padding\n",
    ")   "
   ],
   "outputs": []
  },
  {
   "cell_type": "code",
   "execution_count": null,
   "id": "f3fc8e90-96f2-4b2e-8209-a0a1eeb99fbe",
   "metadata": {},
   "source": [],
   "outputs": []
  },
  {
   "cell_type": "code",
   "execution_count": null,
   "id": "1ca8139e-05dd-44b4-9ce6-7f02101eb622",
   "metadata": {},
   "source": [
    "stats_df = spark.read.parquet(f\"/data/saturation/sandblasting_tests/*/statistics_*.parquet\")\n",
    "craters_df = spark.read.parquet(f\"/data/saturation/sandblasting_tests/*/craters_*.parquet\")\n",
    "removals_df = spark.read.parquet(f\"/data/saturation/sandblasting_tests/*/crater_removals_*.parquet\")\n",
    "\n",
    "simulation_id = 5\n",
    "target_n_craters_added_in_study_region = 30000000\n",
    "\n",
    "sandblasting_5 = get_state_at_time(\n",
    "    stats_df,\n",
    "    craters_df,\n",
    "    removals_df,\n",
    "    simulation_id,\n",
    "    target_n_craters_added_in_study_region,\n",
    "    study_region_size,\n",
    "    study_region_padding\n",
    ")   "
   ],
   "outputs": []
  },
  {
   "cell_type": "code",
   "execution_count": null,
   "id": "a2878515-054d-44ec-8758-badf8e985a86",
   "metadata": {},
   "source": [
    "state = sandblasting_5\n",
    "estimate_cumulative_slope(state.radius * 2,\n",
    "                          state.radius.min() * 2,\n",
    "                          state.radius.max() * 2,\n",
    "                          min_search_slope=0.0,\n",
    "                          max_search_slope=10.0)"
   ],
   "outputs": []
  },
  {
   "cell_type": "code",
   "execution_count": null,
   "id": "11d385e7-be49-496a-97ed-52bdad4523b8",
   "metadata": {},
   "source": [
    "slope = 6.1\n",
    "plot_sfds(sandblasting_5, slope, intercept=6e7)"
   ],
   "outputs": []
  },
  {
   "cell_type": "code",
   "execution_count": null,
   "id": "d4547174-9b2b-4a6f-83df-b91fb734fc3e",
   "metadata": {},
   "source": [
    "slope = 8.1\n",
    "plot_sfds(state_6_3000, slope, intercept=6e7)"
   ],
   "outputs": []
  },
  {
   "cell_type": "code",
   "execution_count": null,
   "id": "cf3ecb2a-6a39-4453-9726-0b2cd1c0f609",
   "metadata": {},
   "source": [
    "state = state_6_3000\n",
    "estimate_cumulative_slope(state.radius * 2,\n",
    "                          state.radius.min() * 2,\n",
    "                          state.radius.max() * 2,\n",
    "                          min_search_slope=0.0,\n",
    "                          max_search_slope=10.0)"
   ],
   "outputs": []
  },
  {
   "cell_type": "code",
   "execution_count": null,
   "id": "bfe87c48-261d-4dff-b167-80c485bd2586",
   "metadata": {},
   "source": [],
   "outputs": []
  },
  {
   "cell_type": "code",
   "execution_count": null,
   "id": "7272e2f7-e61e-44e0-95ab-54aa34f8033e",
   "metadata": {},
   "source": [],
   "outputs": []
  },
  {
   "cell_type": "code",
   "execution_count": null,
   "id": "e22f5b22-e195-4aab-beb0-758e85eae2f6",
   "metadata": {},
   "source": [
    "state = state_6_30000000\n",
    "estimate_cumulative_slope(state.radius * 2,\n",
    "                          state.radius.min() * 2,\n",
    "                          state.radius.max() * 2,\n",
    "                          min_search_slope=0.0,\n",
    "                          max_search_slope=10.0)"
   ],
   "outputs": []
  },
  {
   "cell_type": "code",
   "execution_count": null,
   "id": "f3a45663-0338-4089-b487-cc1fd1b5a802",
   "metadata": {},
   "source": [
    "state = state_2_3000000\n",
    "estimate_cumulative_slope(state.radius * 2,\n",
    "                          state.radius.min() * 2,\n",
    "                          state.radius.max() * 2,\n",
    "                          min_search_slope=0.0,\n",
    "                          max_search_slope=10.0)"
   ],
   "outputs": []
  },
  {
   "cell_type": "code",
   "execution_count": null,
   "id": "f5a1d39e-0328-40e2-a97c-ccd34179e2f6",
   "metadata": {},
   "source": [
    "state = state_4_30000000\n",
    "estimate_cumulative_slope(state.radius * 2,\n",
    "                          state.radius.min() * 2,\n",
    "                          state.radius.max() * 2,\n",
    "                          min_search_slope=0.0,\n",
    "                          max_search_slope=10.0)"
   ],
   "outputs": []
  },
  {
   "cell_type": "code",
   "execution_count": null,
   "id": "0a1255f0-18ae-4086-a7ee-a0b2b39ad1f2",
   "metadata": {},
   "source": [
    "state = state_8296_500\n",
    "estimate_cumulative_slope(state.radius * 2,\n",
    "                          state.radius.min() * 2,\n",
    "                          state.radius.max() * 2,\n",
    "                          min_search_slope=0.0,\n",
    "                          max_search_slope=10.0)"
   ],
   "outputs": []
  },
  {
   "cell_type": "code",
   "execution_count": null,
   "id": "b1c07c81-23c1-4674-ba5e-8a0470979205",
   "metadata": {},
   "source": [
    "slope = 6.1\n",
    "plot_sfds(state_4_30000000, slope, intercept=6e7)"
   ],
   "outputs": []
  },
  {
   "cell_type": "code",
   "execution_count": null,
   "id": "b800f08f-d013-497a-bbf6-ad0fffb8f22a",
   "metadata": {},
   "source": [
    "plot_terrain(state_6_30000000)"
   ],
   "outputs": []
  },
  {
   "cell_type": "code",
   "execution_count": null,
   "id": "0c7331eb-7a39-4212-9c00-ef87f3f91547",
   "metadata": {},
   "source": [
    "craters_arrays = []\n",
    "for x in range(100000, 3000001, 100000):\n",
    "    c = pd.read_parquet(f\"/data/saturation/deep_test/deep_5.0/craters_{x}.parquet\")\n",
    "    c = c[(c.index % 10) == 9]\n",
    "    craters_arrays.append(c)    "
   ],
   "outputs": []
  },
  {
   "cell_type": "code",
   "execution_count": null,
   "id": "5482f84f-cf94-4458-8be2-2ae61dfa6520",
   "metadata": {},
   "source": [
    "c = pd.concat(craters_arrays)\n",
    "slope = 5\n",
    "plot_sfds(c, slope, intercept=3162)"
   ],
   "outputs": []
  },
  {
   "cell_type": "code",
   "execution_count": null,
   "id": "b497ec19-7ecc-45cf-b9b9-d1681216ec71",
   "metadata": {},
   "source": [
    "state = c\n",
    "estimate_cumulative_slope(state.radius * 2,\n",
    "                          state.radius.min() * 2,\n",
    "                          state.radius.quantile(0.9) * 2,\n",
    "                          min_search_slope=0.0,\n",
    "                          max_search_slope=10.0)"
   ],
   "outputs": []
  },
  {
   "cell_type": "code",
   "execution_count": null,
   "id": "b0b8ad28-5ae8-4031-8a20-3f757f9bb0c5",
   "metadata": {},
   "source": [],
   "outputs": []
  },
  {
   "cell_type": "code",
   "execution_count": null,
   "id": "d6d126a9-a221-41b2-be18-0cec34629923",
   "metadata": {},
   "source": [
    "slope = 5.15\n",
    "plot_sfds(state_3_3000000, slope, intercept=6e7)"
   ],
   "outputs": []
  },
  {
   "cell_type": "code",
   "execution_count": null,
   "id": "31e930de-e960-4fc5-a1da-0514b381be6f",
   "metadata": {},
   "source": [],
   "outputs": []
  },
  {
   "cell_type": "markdown",
   "id": "43f3d1f8-0ab2-4ed3-86d1-72646139836f",
   "metadata": {},
   "source": [
    "### Fitting CSFD slopes"
   ]
  },
  {
   "cell_type": "code",
   "execution_count": null,
   "id": "7bd9204a-2803-47d3-861f-56cc502de492",
   "metadata": {},
   "source": [
    "craters_df = pd.read_csv(\"data/Dione_reg1-all.csv\") # DEE, slope -2.10 +/- 0.08\n",
    "# craters_df = pd.read_csv(\"data/Dione_reg2-all.csv\") # DSP, slope -2.66 +/- 0.05\n",
    "# craters_df = pd.read_csv(\"data/Dione_reg3-all.csv\") # DICP, slope -2.08 +/- 0.09\n",
    "# craters_df = pd.read_csv(\"data/Dione_reg4-all.csv\") # DDCP, slope -2.15 +/- 0.05\n",
    "craters_df.describe()"
   ],
   "outputs": []
  },
  {
   "cell_type": "code",
   "execution_count": null,
   "id": "bbed0214-cb49-4b05-beef-291faad1d640",
   "metadata": {},
   "source": [],
   "outputs": []
  },
  {
   "cell_type": "code",
   "execution_count": null,
   "id": "c336ff07-e500-4298-981d-0b32fe9c39fa",
   "metadata": {},
   "source": [
    "state = state_4458_1000\n",
    "estimate_cumulative_slope(state.radius * 2,\n",
    "                          state.radius.min() * 2,\n",
    "                          state.radius.max() * 2)"
   ],
   "outputs": []
  },
  {
   "cell_type": "code",
   "execution_count": null,
   "id": "c0c1e376-d1ea-4b99-b959-4533410972b4",
   "metadata": {},
   "source": [
    "state = state_8296_1000\n",
    "estimate_cumulative_slope(state.radius * 2,\n",
    "                          state.radius.min() * 2,\n",
    "                          state.radius.quantile(0.5) * 2)"
   ],
   "outputs": []
  },
  {
   "cell_type": "code",
   "execution_count": null,
   "id": "f8b5d1fe-0dcb-446a-8363-c9cad91b797c",
   "metadata": {},
   "source": [
    "state = state_8296_100000\n",
    "estimate_cumulative_slope(state.radius * 2,\n",
    "                          state.radius.min() * 2,\n",
    "                          state.radius.quantile(0.95) * 2)"
   ],
   "outputs": []
  },
  {
   "cell_type": "code",
   "execution_count": null,
   "id": "7c320387-26dc-4dd1-9531-1c158af97d28",
   "metadata": {},
   "source": [
    "state = state_8296_360000\n",
    "estimate_cumulative_slope(state.radius * 2,\n",
    "                          state.radius.min() * 2,\n",
    "                          state.radius.quantile(0.75) * 2)"
   ],
   "outputs": []
  },
  {
   "cell_type": "code",
   "execution_count": null,
   "id": "fab139d0-7b45-43de-8e02-e06f4bf9148b",
   "metadata": {},
   "source": [],
   "outputs": []
  },
  {
   "cell_type": "code",
   "execution_count": null,
   "id": "542a5032-05e2-4eb6-a2fc-e84558971869",
   "metadata": {},
   "source": [],
   "outputs": []
  },
  {
   "cell_type": "code",
   "execution_count": null,
   "id": "3d425f92-fab7-4503-8782-3f0e14f0c41f",
   "metadata": {},
   "source": [
    "slope = 2.99\n",
    "plot_sfds(state_8296_1000, slope)"
   ],
   "outputs": []
  },
  {
   "cell_type": "code",
   "execution_count": null,
   "id": "65c4e041-0271-47e2-8e50-cf13f2d69854",
   "metadata": {},
   "source": [
    "slope = 2.99\n",
    "radii = state_8296_360000.radius.sort_values(ascending=True)\n",
    "expected = 0.05 * radii ** -slope\n",
    "expected"
   ],
   "outputs": []
  },
  {
   "cell_type": "code",
   "execution_count": null,
   "id": "570a3e7a-ccd1-4a33-bc4d-7b7d2b3b233f",
   "metadata": {},
   "source": [
    "from scipy.optimize import curve_fit"
   ],
   "outputs": []
  },
  {
   "cell_type": "code",
   "execution_count": null,
   "id": "f83301ae-d2be-41ea-af70-c1ddc69c396b",
   "metadata": {},
   "source": [
    "craters = c.sort_values(\"radius\").reset_index()\n",
    "slope = 5.\n",
    "def func(input, const):\n",
    "    return const * np.power(input, -4.98)\n",
    "\n",
    "\n",
    "# coeff2, cov2 = curve_fit(func2,\n",
    "#                          prime_diam_range[index_prime_diam_slope_min[0, 0]:index_max],\n",
    "#                          kde[index_prime_diam_slope_min[0, 0]:index_max, 0] / area,\n",
    "#                          p0=0.05)\n",
    "coeff, cov = curve_fit(func,\n",
    "                         craters.radius,\n",
    "                         np.array(range(len(craters.radius), 0, -1)).astype(\"float\"),\n",
    "                         p0=10000000000.)\n",
    "coeff, cov"
   ],
   "outputs": []
  },
  {
   "cell_type": "code",
   "execution_count": null,
   "id": "b3019c7a-e057-47f1-a9a7-ffe05ef7f82d",
   "metadata": {},
   "source": [
    "func(craters.radius, 1e9)"
   ],
   "outputs": []
  },
  {
   "cell_type": "code",
   "execution_count": null,
   "id": "fc0357f1-f766-4a01-9264-7866f9be4cbc",
   "metadata": {},
   "source": [
    "len(craters.radius)"
   ],
   "outputs": []
  },
  {
   "cell_type": "code",
   "execution_count": null,
   "id": "22ee1005-e339-489d-92e1-30e03be7fb92",
   "metadata": {},
   "source": [
    "def func(x, c):\n",
    "    return c * np.power(x, -5.0)\n",
    "\n",
    "indep = np.array([float(x + 1) for x in range(10000)])\n",
    "dep = indep ** -5.0 * 123.123\n",
    "coeff, cov = curve_fit(func, indep, dep)\n",
    "coeff"
   ],
   "outputs": []
  },
  {
   "cell_type": "code",
   "execution_count": null,
   "id": "1cf50013-63f6-4b50-9374-378246f663f4",
   "metadata": {},
   "source": [
    "dep"
   ],
   "outputs": []
  },
  {
   "cell_type": "code",
   "execution_count": null,
   "id": "186aad73-66d8-43fd-ba99-cd8a59643064",
   "metadata": {},
   "source": [],
   "outputs": []
  },
  {
   "cell_type": "code",
   "execution_count": null,
   "id": "8c9cf758-1229-40da-8962-9362096403ff",
   "metadata": {},
   "source": [
    "plt.plot(\n",
    "    craters.radius,\n",
    "    np.array(range(len(craters.radius), 0, -1)).astype(\"float\"),\n",
    ")\n",
    "plt.xscale('log')\n",
    "plt.yscale('log')"
   ],
   "outputs": []
  },
  {
   "cell_type": "code",
   "execution_count": null,
   "id": "10adde24-287a-4f7f-9363-0bbc1140a5f0",
   "metadata": {},
   "source": [
    "plt.plot(\n",
    "    radii,\n",
    "    np.array(range(len(radii) + 1, 1, -1))\n",
    ")\n",
    "plt.plot(\n",
    "    radii,\n",
    "    2162000.2777 * radii ** (-slope)\n",
    ")\n",
    "plt.xscale('log')\n",
    "plt.yscale('log')"
   ],
   "outputs": []
  },
  {
   "cell_type": "code",
   "execution_count": null,
   "id": "58fbd4de-29b6-4ee6-b18f-dce60699b763",
   "metadata": {},
   "source": [],
   "outputs": []
  },
  {
   "cell_type": "code",
   "execution_count": null,
   "id": "17d844d5-c075-41f5-9969-d1d6b11bae88",
   "metadata": {},
   "source": [],
   "outputs": []
  },
  {
   "cell_type": "code",
   "execution_count": null,
   "id": "83192a9e-87c1-4164-b08d-501ba57f414d",
   "metadata": {},
   "source": [
    "(len(state_8296_360000.radius) * state_8296_360000.radius ** -slope).describe()"
   ],
   "outputs": []
  },
  {
   "cell_type": "code",
   "execution_count": null,
   "id": "5df4d977-b7c2-48fb-b395-3327296e59c0",
   "metadata": {},
   "source": [
    "state_8296_360000.radius.describe()"
   ],
   "outputs": []
  },
  {
   "cell_type": "code",
   "execution_count": null,
   "id": "bc2c5fbc-3f00-49d6-ae9c-00e4239e1394",
   "metadata": {},
   "source": [],
   "outputs": []
  },
  {
   "cell_type": "code",
   "execution_count": null,
   "id": "85abd349-2b74-4d21-a710-53fc20d96793",
   "metadata": {},
   "source": [],
   "outputs": []
  },
  {
   "cell_type": "code",
   "execution_count": null,
   "id": "9c218f4a-9e1d-485e-a4af-d38d7e8ce4a6",
   "metadata": {},
   "source": [
    "radii = state_8296_250000.radius.sort_values(ascending=False)\n",
    "min_radius = radii.min()\n",
    "max_radius = radii.max()\n",
    "\n",
    "expected = np.array([slope * min_radius **slope / x ** (slope + 1) for x in radii]) * (max_radius - min_radius) + min_radius"
   ],
   "outputs": []
  },
  {
   "cell_type": "code",
   "execution_count": null,
   "id": "db89ea6c-20e5-4383-8d00-91672770a4de",
   "metadata": {},
   "source": [
    "state_8296_250000.shape"
   ],
   "outputs": []
  },
  {
   "cell_type": "code",
   "execution_count": null,
   "id": "5403f995-49db-4c6a-b2bd-4e84d4ecc1b6",
   "metadata": {},
   "source": [],
   "outputs": []
  },
  {
   "cell_type": "code",
   "execution_count": null,
   "id": "bbd3ab50-a33e-4393-9e44-44a1d26c764a",
   "metadata": {},
   "source": [
    "craters_df = pd.read_csv(\"data/Dione_reg1-all.csv\") # DEE, slope -2.10 +/- 0.08\n",
    "diameters = craters_df[\"Diameter:double\"]\n",
    "estimate_cumulative_slope(diameters,\n",
    "                          diameters.min(),\n",
    "                          diameters.max())"
   ],
   "outputs": []
  },
  {
   "cell_type": "code",
   "execution_count": null,
   "id": "59ed2a9f-e5ea-4a97-b13a-321600964024",
   "metadata": {},
   "source": [
    "craters_df = pd.read_csv(\"data/Dione_reg2-all.csv\") # DSP, slope -2.66 +/- 0.05\n",
    "diameters = craters_df[\"Diameter:double\"]\n",
    "estimate_cumulative_slope(diameters,\n",
    "                          diameters.min(),\n",
    "                          diameters.max())"
   ],
   "outputs": []
  },
  {
   "cell_type": "code",
   "execution_count": null,
   "id": "3ef820a6-7c53-4f97-947a-b943ba508681",
   "metadata": {},
   "source": [
    "craters_df = pd.read_csv(\"data/Dione_reg3-all.csv\") # DICP, slope -2.08 +/- 0.09\n",
    "diameters = craters_df[\"Diameter:double\"]\n",
    "estimate_cumulative_slope(diameters,\n",
    "                          diameters.min(),\n",
    "                          diameters.max())"
   ],
   "outputs": []
  },
  {
   "cell_type": "code",
   "execution_count": null,
   "id": "a6b51e13-a5c3-477d-a5ba-28fe99b04cf6",
   "metadata": {},
   "source": [
    "craters_df = pd.read_csv(\"data/Dione_reg4-all.csv\") # DDCP, slope -2.15 +/- 0.05\n",
    "diameters = craters_df[\"Diameter:double\"]\n",
    "estimate_cumulative_slope(diameters,\n",
    "                          diameters.min(),\n",
    "                          diameters.max())"
   ],
   "outputs": []
  },
  {
   "cell_type": "code",
   "execution_count": null,
   "id": "d54ceed9-c4b1-40b9-be15-8ccc177e98c1",
   "metadata": {},
   "source": [],
   "outputs": []
  }
 ],
 "metadata": {
  "kernelspec": {
   "display_name": "Python 3 (ipykernel)",
   "language": "python",
   "name": "python3"
  },
  "language_info": {
   "codemirror_mode": {
    "name": "ipython",
    "version": 3
   },
   "file_extension": ".py",
   "mimetype": "text/x-python",
   "name": "python",
   "nbconvert_exporter": "python",
   "pygments_lexer": "ipython3",
   "version": "3.11.8"
  }
 },
 "nbformat": 4,
 "nbformat_minor": 5
}
