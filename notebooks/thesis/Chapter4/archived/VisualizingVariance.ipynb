{
 "cells": [
  {
   "cell_type": "code",
   "execution_count": 1,
   "id": "379c5566-dcbf-402e-8203-1279ddd2c063",
   "metadata": {},
   "source": [
    "import matplotlib.pyplot as plt\n",
    "import matplotlib.transforms as mtransforms\n",
    "import plotly.express as px\n",
    "import plotly.io as pio\n",
    "import seaborn as sns\n",
    "\n",
    "from pathlib import Path\n",
    "import pandas as pd\n",
    "import numpy as np\n",
    "import itertools\n",
    "import glob\n",
    "\n",
    "import statsmodels.api as sm\n",
    "import scipy.stats as stats\n",
    "\n",
    "import sklearn\n",
    "from sklearn.linear_model import LinearRegression\n",
    "from sklearn.ensemble import RandomForestRegressor\n",
    "from sklearn.ensemble import GradientBoostingRegressor\n",
    "\n",
    "from sklearn.model_selection import train_test_split\n",
    "from sklearn.metrics import *\n",
    "\n",
    "import plotly.express as px\n",
    "import plotly.io as pio\n",
    "import plotly.graph_objects as go\n",
    "\n",
    "pio.renderers.default = \"iframe\""
   ],
   "outputs": []
  },
  {
   "cell_type": "code",
   "execution_count": 2,
   "id": "537682f0-b785-4487-bcdf-3a2d30e3eb1d",
   "metadata": {},
   "source": [
    "def calculate_distribution_mean(slope: float,\n",
    "                                x_min: float,\n",
    "                                x_max: float):\n",
    "    scaling = 1 / (1 - (x_min / x_max)**slope)\n",
    "    return (scaling * slope / (1 - slope)) * (x_max*(x_min/x_max)**slope - x_min)\n",
    "\n",
    "\n",
    "def fix_up_df(df: pd.DataFrame):\n",
    "    df[\"z\"] = df.z.fillna(0)\n",
    "    df[\"za\"] = df.za.fillna(0)\n",
    "    df[\"x_min\"] = 5\n",
    "    df[\"x_max\"] = 1000\n",
    "    df[\"expected_mean_radius\"] = calculate_distribution_mean(df.slope, df.x_min, df.x_max)\n",
    "    df[\"log_n_craters_added_in_study_region\"] = np.log10(df.n_craters_added_in_study_region)\n",
    "    df[\"log_center_to_center_nearest_neighbor_distance_mean\"] = np.log10(df.center_to_center_nearest_neighbor_distance_mean)\n",
    "    df[\"log_stdev_N\"] = np.log10(np.sqrt(df.variance))\n",
    "\n",
    "        \n",
    "    return df[df.isna().sum(axis=1) == 0].reset_index(drop=True).copy()"
   ],
   "outputs": []
  },
  {
   "cell_type": "code",
   "execution_count": 9,
   "id": "4d8f8857-f3ee-4713-ba40-76fd98c41210",
   "metadata": {},
   "source": [
    "def plot_log_stdev_N_and_ir_for_simulation(simulation_id: int, stats_df: pd.DataFrame):\n",
    "    df = stats_df[stats_df.simulation_id == simulation_id]\n",
    "    df.head()\n",
    "    \n",
    "    print(df[[\"slope\", \"effective_radius_multiplier\", \"r_stat_multiplier\", \"min_rim_percentage\"]].iloc[0])\n",
    "    \n",
    "    fig = plt.figure(figsize=(12, 3))\n",
    "    ax1 = fig.add_subplot(111)\n",
    "    \n",
    "    plt1 = ax1.plot(df.n_craters_added_in_study_region, df.information_remaining, color='red', label=\"Information Remaining\")\n",
    "    ax1.set_ylabel(\"Information Remaining\")\n",
    "    ax1.set_xlabel(\"N Craters Added\")\n",
    "    \n",
    "    ax2 = ax1.twinx()\n",
    "    plt2 = ax2.plot(df.n_craters_added_in_study_region, df.log_stdev_N, color=\"blue\", label=\"log(stdev N)\")\n",
    "    ax2.set_ylabel(\"log(stdev N)\")\n",
    "    \n",
    "    lns = plt1 + plt2\n",
    "    ax1.legend(lns, [l.get_label() for l in lns], loc=1)\n",
    "    \n",
    "    ax1.set_title(f\"Simulation {simulation_id}\")\n",
    "\n",
    "    plt.show()"
   ],
   "outputs": []
  },
  {
   "cell_type": "code",
   "execution_count": 4,
   "id": "f4acbf9e-d1c8-4856-b553-2319893c1730",
   "metadata": {},
   "source": [
    "ivs = [\n",
    "    \"slope\",\n",
    "    \"effective_radius_multiplier\",\n",
    "    \"r_stat_multiplier\",\n",
    "    \"min_rim_percentage\",\n",
    "    \"expected_mean_radius\",\n",
    "    \"z\",\n",
    "    \"za\",\n",
    "    \"areal_density\",\n",
    "    \"areal_density_overlap_2\",\n",
    "    \"areal_density_overlap_3\",\n",
    "    \"center_to_center_nearest_neighbor_distance_mean\",\n",
    "    \"center_to_center_nearest_neighbor_distance_stdev\",\n",
    "    \"center_to_center_nearest_neighbor_distance_min\",\n",
    "    \"center_to_center_nearest_neighbor_distance_max\",\n",
    "    \"n_craters_in_study_region\",\n",
    "]\n",
    "\n",
    "non_constant_ivs = [\n",
    "    \"z\",\n",
    "    \"za\",\n",
    "    \"expected_mean_radius\",\n",
    "    \"areal_density\",\n",
    "    \"areal_density_overlap_2\",\n",
    "    \"areal_density_overlap_3\",\n",
    "    \"center_to_center_nearest_neighbor_distance_mean\",\n",
    "    \"center_to_center_nearest_neighbor_distance_stdev\",\n",
    "    \"center_to_center_nearest_neighbor_distance_min\",\n",
    "    \"center_to_center_nearest_neighbor_distance_max\",\n",
    "    \"n_craters_in_study_region\",\n",
    "]\n",
    "\n",
    "iv_labels = {\n",
    "    \"slope\": \"$b$\",\n",
    "    \"effective_radius_multiplier\": \"$E_{mult}$\",\n",
    "    \"r_stat_multiplier\": \"$E_{ratio}$\",\n",
    "    \"min_rim_percentage\": \"$M_r$\",\n",
    "    \"n_craters_in_study_region\": \"$N_S$\",\n",
    "    \"areal_density\": \"Median $A_d$\",\n",
    "    \"information_remaining\": \"Information Remaining\",\n",
    "}"
   ],
   "outputs": []
  },
  {
   "cell_type": "code",
   "execution_count": 5,
   "id": "90fb3fd3-db1e-42a5-8336-114e32e35cdf",
   "metadata": {},
   "source": [
    "# # base_path = \"/data/saturation/random_runs_20230812/\"\n",
    "# # base_path = \"/data/saturation/ir_random_1/\"\n",
    "\n",
    "# stats_df = pd.read_parquet(f\"{base_path}/train_1000_100.parquet\").sort_values(\"crater_id\")\n",
    "# # stats_df = pd.read_parquet(f\"{base_path}/train_10.parquet\").sort_values(\"crater_id\")\n",
    "# stats_df = fix_up_df(stats_df)\n",
    "\n",
    "# test_df = pd.read_parquet(f\"{base_path}/test_1000_100.parquet\").sort_values(\"crater_id\")\n",
    "# # test_df = pd.read_parquet(f\"{base_path}/test_10.parquet\").sort_values(\"crater_id\")\n",
    "# test_df = fix_up_df(test_df)\n",
    "\n",
    "# simulation_ids = stats_df.simulation_id.unique()"
   ],
   "outputs": []
  },
  {
   "cell_type": "code",
   "execution_count": 6,
   "id": "4013f2c5-0e3b-43da-a269-68dafa5b401a",
   "metadata": {},
   "source": [
    "# base_path = \"/data/saturation/n_craters_stop_condition_20230918\"\n",
    "base_path = \"/data/saturation/thesis_run_20240125\"\n",
    "\n",
    "\n",
    "train_df = pd.read_parquet(f\"{base_path}/train_with_variance.parquet\")\n",
    "train_df = fix_up_df(train_df)\n",
    "\n",
    "test_df = pd.read_parquet(f\"{base_path}/test_with_variance.parquet\")\n",
    "test_df = fix_up_df(test_df)\n",
    "\n",
    "stats_df = pd.concat([train_df, test_df], axis=0)\n",
    "simulation_ids = stats_df.simulation_id.unique()\n",
    "\n",
    "metric = \"log_stdev_N\""
   ],
   "outputs": []
  },
  {
   "cell_type": "markdown",
   "id": "a5d65e87-3076-4b3c-a484-99f5915c934d",
   "metadata": {},
   "source": [
    "### Visualizing Log Stdev and IR for a few simulations\n",
    "\n",
    "For some simulations, variance seems to start low and quickly reach a higher steady state, as expected. For others, it appears mostly constant.\n",
    "\n",
    "This may be because only a handful (< 500) observations are sampled from each simulation. This should be repeated with a larger sampling."
   ]
  },
  {
   "cell_type": "code",
   "execution_count": 7,
   "id": "b96cb74e-0c0c-43a3-a236-0dc519bdc60d",
   "metadata": {},
   "source": [
    "plt.hist(stats_df[stats_df.simulation_id == simulation_ids[8]].log_stdev_N, bins=50)\n",
    "plt.show()"
   ],
   "outputs": []
  },
  {
   "cell_type": "code",
   "execution_count": 10,
   "id": "8ff89b19-b5c4-4319-8f2b-9b3a373d3248",
   "metadata": {},
   "source": [
    "for x in range(8, 15):\n",
    "    plot_log_stdev_N_and_ir_for_simulation(simulation_ids[x], stats_df)"
   ],
   "outputs": []
  },
  {
   "cell_type": "code",
   "execution_count": null,
   "id": "fb18f446-7df8-442a-96ee-16fb46a56c41",
   "metadata": {},
   "source": [],
   "outputs": []
  },
  {
   "cell_type": "markdown",
   "id": "ddd83bfb-18dd-412f-98f8-53e1bbbc6aff",
   "metadata": {},
   "source": [
    "### Examining Relationships"
   ]
  },
  {
   "cell_type": "markdown",
   "id": "1f59dad0-2e86-4722-86c6-cedf4fe16a92",
   "metadata": {},
   "source": [
    "#### All correlations"
   ]
  },
  {
   "cell_type": "code",
   "execution_count": null,
   "id": "9fb5253a-f0a6-4141-a814-2d25bcc640dc",
   "metadata": {
    "scrolled": true
   },
   "source": [
    "sns.heatmap(stats_df[ivs + [\"log_stdev_N\", \"information_remaining\", \"n_craters_added_in_study_region\"]].corr())"
   ],
   "outputs": []
  },
  {
   "cell_type": "code",
   "execution_count": null,
   "id": "b49faa2a-7ca9-4b77-9de1-fe50f340bbc3",
   "metadata": {},
   "source": [
    "sns.heatmap(np.log(stats_df[ivs + [\"information_remaining\", \"n_craters_added_in_study_region\"]]).corr())"
   ],
   "outputs": []
  },
  {
   "cell_type": "code",
   "execution_count": null,
   "id": "83352770-4968-4bb2-a287-e8945fc698cb",
   "metadata": {},
   "source": [
    "stats_df[ivs + [\"information_remaining\", \"n_craters_added_in_study_region\"]].corr()"
   ],
   "outputs": []
  },
  {
   "cell_type": "markdown",
   "id": "92108fe9-8add-4e29-b002-d09c21310674",
   "metadata": {},
   "source": [
    "#### Plots of IVs vs Log Stdev N\n",
    "\n",
    "The plot of log(N) by log(stdev N) has a very odd shape. I'm not sure how to interpret this."
   ]
  },
  {
   "cell_type": "code",
   "execution_count": 11,
   "id": "35276fb1-5e17-452d-85aa-6627b1b79ec7",
   "metadata": {},
   "source": [
    "plt.scatter(stats_df.log_n_craters_added_in_study_region, stats_df.log_stdev_N)\n",
    "plt.xlabel(\"log(n)\")\n",
    "plt.ylabel(\"log(stdev N)\")\n",
    "plt.show()"
   ],
   "outputs": []
  },
  {
   "cell_type": "code",
   "execution_count": 12,
   "id": "fa97fa46-ea15-4ee5-a932-a16e2879117d",
   "metadata": {},
   "source": [
    "plt.scatter(stats_df.slope, stats_df.log_stdev_N)\n",
    "plt.xlabel(\"slope\")\n",
    "plt.ylabel(\"log(stdev N)\")\n",
    "plt.show()"
   ],
   "outputs": []
  },
  {
   "cell_type": "code",
   "execution_count": 13,
   "id": "f8ed2a92-cfe9-4122-b525-6a1a996315ee",
   "metadata": {},
   "source": [
    "plt.scatter(stats_df.log_center_to_center_nearest_neighbor_distance_mean, stats_df.log_stdev_N)\n",
    "plt.xlabel(\"log(c2c nn dist mean)\")\n",
    "plt.ylabel(\"log(stdev N)\")\n",
    "plt.show()"
   ],
   "outputs": []
  },
  {
   "cell_type": "code",
   "execution_count": 14,
   "id": "b62da971-9887-4f03-af3e-ba027bac776e",
   "metadata": {},
   "source": [
    "plt.scatter(stats_df.log_center_to_center_nearest_neighbor_distance_mean * stats_df.slope, stats_df.log_stdev_N)\n",
    "plt.xlabel(\"log(c2c nn dist mean) * slope\")\n",
    "plt.ylabel(\"log(stdev N)\")\n",
    "plt.show()"
   ],
   "outputs": []
  },
  {
   "cell_type": "code",
   "execution_count": null,
   "id": "56592060-5127-4365-8616-42ff5dcf8a91",
   "metadata": {},
   "source": [],
   "outputs": []
  },
  {
   "cell_type": "code",
   "execution_count": null,
   "id": "a2b0da22-3a57-48fa-919a-271962ccd884",
   "metadata": {},
   "source": [
    "for x in non_constant_ivs:\n",
    "    plt.scatter(stats_df[x], stats_df.log_stdev_N)\n",
    "    plt.xlabel(f\"{x}\")\n",
    "    plt.ylabel(\"log(stdev N)\")\n",
    "    plt.show()"
   ],
   "outputs": []
  },
  {
   "cell_type": "code",
   "execution_count": null,
   "id": "7ac809f3-0bc7-4af5-9d87-ba8d7a6c40bb",
   "metadata": {},
   "source": [
    "for x in non_constant_ivs:\n",
    "    plt.scatter(np.log10(stats_df[x]), stats_df.log_stdev_N)\n",
    "    plt.xlabel(f\"log({x})\")\n",
    "    plt.ylabel(\"log(stdev N)\")\n",
    "    plt.show()"
   ],
   "outputs": []
  },
  {
   "cell_type": "code",
   "execution_count": null,
   "id": "4d6d64f8-6869-44bc-bc29-f48d587a81a7",
   "metadata": {},
   "source": [],
   "outputs": []
  },
  {
   "cell_type": "markdown",
   "id": "217cd758-39c1-420c-adf6-0f554ad2e33f",
   "metadata": {},
   "source": [
    "Examining correlation matrices of observations with high vs low IR.\n",
    "\n",
    "- IR vs distance metrics correlations greatly diminishes when IR is low.\n",
    "- Effective radius correlation increases in higher IR.\n",
    "- Min rim percentage correlation increases in higher IR."
   ]
  },
  {
   "cell_type": "code",
   "execution_count": null,
   "id": "cdd68aaf-c39a-40cd-8551-0b38164011de",
   "metadata": {},
   "source": [
    "df = stats_df[stats_df.information_remaining > 0.7].copy()\n",
    "sns.heatmap(df[ivs + [\"information_remaining\", \"n_craters_added_in_study_region\"]].corr())"
   ],
   "outputs": []
  },
  {
   "cell_type": "code",
   "execution_count": null,
   "id": "aaf61ab3-2a9e-4dc7-8e7d-7726e567f0b9",
   "metadata": {},
   "source": [
    "df = stats_df[stats_df.information_remaining < 0.5].copy()\n",
    "sns.heatmap(df[ivs + [\"information_remaining\", \"n_craters_added_in_study_region\"]].corr())"
   ],
   "outputs": []
  },
  {
   "cell_type": "markdown",
   "id": "810c1fb6-9d0a-4e07-82e4-9cdf86a621ce",
   "metadata": {},
   "source": [
    "Correlation differences between high IR and low IR observations.\n",
    "\n",
    "First heatmap: positive = higher correlation in high IR\n",
    "\n",
    "Second heatmap: abs differences in correlations\n",
    "\n",
    "Third heatmap: abs differences in correlations of log-transformed data\n",
    "\n",
    "Notes:\n",
    "- Slope has higher correlation with distance metrics in high IR\n",
    "- z, za, and AD metrics have higher correlation with high IR\n",
    "- Sim parameters (eff radius, r_stat, slope, min rim perc) appear to have the same correlation in high and low IR\n",
    "- Log-transformed distance metrics have much higher correlation with high IR"
   ]
  },
  {
   "cell_type": "code",
   "execution_count": null,
   "id": "5c0bb8aa-5c7e-4a9a-8b7f-8ea67fe1b7ba",
   "metadata": {},
   "source": [
    "df = stats_df[stats_df.information_remaining > 0.7].copy()\n",
    "corr1 = df[ivs + [\"information_remaining\", \"n_craters_added_in_study_region\"]].corr()\n",
    "\n",
    "df = stats_df[stats_df.information_remaining < 0.5].copy()\n",
    "corr2 = df[ivs + [\"information_remaining\", \"n_craters_added_in_study_region\"]].corr()\n",
    "\n",
    "sns.heatmap(corr1 - corr2)"
   ],
   "outputs": []
  },
  {
   "cell_type": "code",
   "execution_count": null,
   "id": "22ae959e-60ca-4e03-8cfb-088b6befbb82",
   "metadata": {},
   "source": [
    "df = stats_df[stats_df.information_remaining > 0.7].copy()\n",
    "corr1 = df[ivs + [\"information_remaining\", \"n_craters_added_in_study_region\"]].corr()\n",
    "\n",
    "df = stats_df[stats_df.information_remaining < 0.5].copy()\n",
    "corr2 = df[ivs + [\"information_remaining\", \"n_craters_added_in_study_region\"]].corr()\n",
    "\n",
    "sns.heatmap(np.abs(corr1 - corr2))"
   ],
   "outputs": []
  },
  {
   "cell_type": "code",
   "execution_count": null,
   "id": "48c86def-2d58-4ed7-9abc-3dc75bd00e57",
   "metadata": {},
   "source": [
    "df = np.log(stats_df[stats_df.information_remaining > 0.7].copy())\n",
    "corr1 = df[ivs + [\"information_remaining\", \"n_craters_added_in_study_region\"]].corr()\n",
    "\n",
    "df = np.log(stats_df[stats_df.information_remaining < 0.5].copy())\n",
    "corr2 = df[ivs + [\"information_remaining\", \"n_craters_added_in_study_region\"]].corr()\n",
    "\n",
    "sns.heatmap(np.abs(corr1 - corr2))"
   ],
   "outputs": []
  },
  {
   "cell_type": "code",
   "execution_count": null,
   "id": "0a858165-995a-484b-95f9-16f123ca6ec6",
   "metadata": {},
   "source": [],
   "outputs": []
  },
  {
   "cell_type": "code",
   "execution_count": null,
   "id": "c2b33432-b471-446f-af74-128ebecce738",
   "metadata": {},
   "source": [],
   "outputs": []
  },
  {
   "cell_type": "markdown",
   "id": "4f817e19-4e3e-4e21-92a2-2e218f0ff15c",
   "metadata": {},
   "source": [
    "#### Exploratory plots of distance metrics\n",
    "\n",
    "mean center-to-center nearest neighbor distance showed a peculiar relationship in the previous sections. Let's examine further."
   ]
  },
  {
   "cell_type": "code",
   "execution_count": 15,
   "id": "4e4a22b7-b1a1-4c21-87c1-55e00fd9467e",
   "metadata": {
    "scrolled": true
   },
   "source": [
    "df = stats_df #[stats_df.information_remaining < 0.5].copy()\n",
    "# df = stats_df.copy()\n",
    "df = df.sample(df.shape[0] // 10).copy()\n",
    "df[\"log_center_to_center_nearest_neighbor_distance_mean\"] = np.log10(df.center_to_center_nearest_neighbor_distance_mean)\n",
    "df[\"log_n_craters_added_in_study_region\"] = np.log10(df.n_craters_added_in_study_region)\n",
    "\n",
    "df[\"log_center_to_center_nearest_neighbor_distance_mean\"] = np.log10(df.center_to_center_nearest_neighbor_distance_mean)\n",
    "df[\"log_removals\"] = np.log10(1 + df.removals)\n",
    "df[\"log_areal_density\"] = np.log10(df.areal_density)\n",
    "df[\"color\"] = df.min_rim_percentage * df.effective_radius_multiplier\n",
    "\n",
    "fig = px.scatter(\n",
    "    df,\n",
    "    x=\"log_removals\",\n",
    "    y=\"log_areal_density\",\n",
    "    hover_data=ivs + [\"removals\", \"information_remaining\"],\n",
    "    size_max=0.25,\n",
    "    color=\"slope\"\n",
    ")\n",
    "fig.show()"
   ],
   "outputs": []
  },
  {
   "cell_type": "code",
   "execution_count": 16,
   "id": "44637440-9fe8-4bbc-b60d-e7e707f381a1",
   "metadata": {},
   "source": [
    "ir_lower = 0.4\n",
    "delta = 0.01\n",
    "# df = stats_df[(stats_df.information_remaining >= ir_lower) & (stats_df.information_remaining <= ir_lower + delta)].copy()\n",
    "# df = stats_df[stats_df.simulation_id == 11].copy()\n",
    "df = stats_df.copy()\n",
    "df = df.sample(df.shape[0] // 10).copy()\n",
    "df[\"log_center_to_center_nearest_neighbor_distance_mean\"] = np.log10(df.center_to_center_nearest_neighbor_distance_mean)\n",
    "df[\"log_n_craters_added_in_study_region\"] = np.log10(df.n_craters_added_in_study_region)\n",
    "df[\"log_za\"] = np.log10(df.za)\n",
    "\n",
    "df[\"log_center_to_center_nearest_neighbor_distance_mean\"] = np.log10(df.center_to_center_nearest_neighbor_distance_mean)\n",
    "df[\"log_removals\"] = np.log10(1 + df.n_craters_added_in_study_region - df.n_craters_in_study_region)\n",
    "df[\"removals\"] = df.n_craters_added_in_study_region - df.n_craters_in_study_region\n",
    "df[\"color\"] = df.min_rim_percentage * df.effective_radius_multiplier\n",
    "df[\"e_slope\"] = np.exp(df.slope)\n",
    "\n",
    "fig = px.scatter(\n",
    "    df,\n",
    "    y=\"log_n_craters_added_in_study_region\",\n",
    "    x=\"log_center_to_center_nearest_neighbor_distance_mean\",\n",
    "    hover_data=ivs + [\"removals\"],\n",
    "    size_max=1,\n",
    "    color=\"slope\",\n",
    ")\n",
    "fig.show()"
   ],
   "outputs": []
  },
  {
   "cell_type": "code",
   "execution_count": null,
   "id": "b1288b11-eac2-43ac-acc8-77930c28dc96",
   "metadata": {},
   "source": [],
   "outputs": []
  },
  {
   "cell_type": "code",
   "execution_count": null,
   "id": "d5f2d0c0-8c2e-4678-ad68-0c2b1397e8e4",
   "metadata": {},
   "source": [],
   "outputs": []
  },
  {
   "cell_type": "code",
   "execution_count": null,
   "id": "b57f4c03-2638-4ec0-8bb7-9863c0ea82e5",
   "metadata": {},
   "source": [],
   "outputs": []
  },
  {
   "cell_type": "code",
   "execution_count": null,
   "id": "ba96d81f-a8d1-4d86-9306-ed42c948b9d1",
   "metadata": {},
   "source": [],
   "outputs": []
  },
  {
   "cell_type": "code",
   "execution_count": null,
   "id": "ad5f6667-dae5-446c-8297-d84ae73ddb0b",
   "metadata": {},
   "source": [
    "base_path = \"/data/saturation/random_runs_20230812/\"\n",
    "# base_path = \"/data/saturation/ir_random_1/\"\n",
    "# base_path = \"/data/saturation/n_craters_stop_condition_20230918\"\n",
    "\n",
    "# stats_df = pd.read_parquet(f\"{base_path}/train_1000_100.parquet\").sort_values(\"crater_id\")\n",
    "stats_df = pd.read_parquet(f\"{base_path}/train_10.parquet\").sort_values(\"crater_id\")\n",
    "stats_df = fix_up_df(stats_df)\n",
    "\n",
    "# test_df = pd.read_parquet(f\"{base_path}/test_1000_100.parquet\").sort_values(\"crater_id\")\n",
    "test_df = pd.read_parquet(f\"{base_path}/test_10.parquet\").sort_values(\"crater_id\")\n",
    "test_df = fix_up_df(test_df)\n",
    "\n",
    "simulation_ids = stats_df.simulation_id.unique()"
   ],
   "outputs": []
  },
  {
   "cell_type": "code",
   "execution_count": null,
   "id": "e131a5f0-f200-44ac-849a-a15fbce4ff34",
   "metadata": {},
   "source": [
    "df = stats_df.copy()\n",
    "df = df[df.n_craters_in_study_region > 25]\n",
    "# df = df.sample(df.shape[0] // 10).copy()\n",
    "\n",
    "min_slope = 2.0\n",
    "max_slope = 2.1\n",
    "\n",
    "df = df[(df.slope > min_slope) & (df.slope < max_slope)]\n",
    "df[\"log_center_to_center_nearest_neighbor_distance_mean\"] = np.log10(df.center_to_center_nearest_neighbor_distance_mean)\n",
    "df[\"log_n_craters_added_in_study_region\"] = np.log10(df.n_craters_added_in_study_region)\n",
    "df[\"log_n_craters_in_study_region\"] = np.log10(df.n_craters_in_study_region)\n",
    "\n",
    "fig = px.scatter(\n",
    "    df,\n",
    "    x=\"log_center_to_center_nearest_neighbor_distance_mean\",\n",
    "    y=\"log_n_craters_added_in_study_region\",\n",
    "    hover_data=ivs + [\"information_remaining\"],\n",
    "    size_max=1,\n",
    "    color=\"log_n_craters_in_study_region\",\n",
    ")\n",
    "fig.show()"
   ],
   "outputs": []
  },
  {
   "cell_type": "code",
   "execution_count": null,
   "id": "898fd11d-b190-474c-8c16-976a6fe22fbf",
   "metadata": {},
   "source": [
    "from saturation.distributions import ProbabilityDistribution, ParetoProbabilityDistribution\n",
    "\n",
    "slope = 2\n",
    "x_min = 5\n",
    "x_max = 1000\n",
    "\n",
    "size_distribution = ParetoProbabilityDistribution(cdf_slope=slope,\n",
    "                                                  x_min=x_min,\n",
    "                                                  x_max=x_max)\n",
    "size_distribution.pullback(np.random.rand(10000)).mean()"
   ],
   "outputs": []
  },
  {
   "cell_type": "code",
   "execution_count": null,
   "id": "4d710fec-37f1-4b52-8f99-fa3b11054744",
   "metadata": {},
   "source": [],
   "outputs": []
  },
  {
   "cell_type": "code",
   "execution_count": null,
   "id": "5c287b0d-7c47-44f0-873e-44daface93e3",
   "metadata": {},
   "source": [
    "# Trying to approximate variance\n",
    "df = stats_df.copy()\n",
    "\n",
    "slope_center = 2\n",
    "slope_epsilon = .1\n",
    "min_slope = slope_center - slope_epsilon\n",
    "max_slope = slope_center + slope_epsilon\n",
    "interior_min = slope_center - slope_epsilon / 2\n",
    "interior_max = slope_center + slope_epsilon / 2\n",
    "\n",
    "calc_df = df[(df.slope >= interior_min) & (df.slope < interior_max)].sort_values(\"center_to_center_nearest_neighbor_distance_mean\").copy()\n",
    "search_df = df[(df.slope >= min_slope) & (df.slope < max_slope)][[\"center_to_center_nearest_neighbor_distance_mean\"]].sort_values(\"center_to_center_nearest_neighbor_distance_mean\").reset_index(drop=True).copy()\n",
    "search_df[\"idx\"] = range(search_df.shape[0])\n",
    "\n",
    "results = []\n",
    "for row in calc_df.itertuples():\n",
    "    print(row.Index)\n",
    "    break"
   ],
   "outputs": []
  },
  {
   "cell_type": "code",
   "execution_count": null,
   "id": "57e3f9f6-6f08-44e0-b6df-89b5483abd2d",
   "metadata": {},
   "source": [
    "search_df"
   ],
   "outputs": []
  },
  {
   "cell_type": "code",
   "execution_count": null,
   "id": "23380e88-3a2b-4b69-8a94-deaf0e6085f3",
   "metadata": {},
   "source": [
    "merged = pd.merge_asof(\n",
    "    calc_df,\n",
    "    search_df,\n",
    "    left_on=\"center_to_center_nearest_neighbor_distance_mean\",\n",
    "    right_on=\"center_to_center_nearest_neighbor_distance_mean\",\n",
    "    allow_exact_matches=False,\n",
    "    direction=\"nearest\"\n",
    ")"
   ],
   "outputs": []
  },
  {
   "cell_type": "code",
   "execution_count": null,
   "id": "7e6243fc-6455-47e6-af32-1eb5fa8c14ea",
   "metadata": {},
   "source": [
    "search_df.reset_index()"
   ],
   "outputs": []
  },
  {
   "cell_type": "code",
   "execution_count": null,
   "id": "f8f10437-5a33-4e1e-a178-0efc94c4e2a5",
   "metadata": {},
   "source": [],
   "outputs": []
  },
  {
   "cell_type": "code",
   "execution_count": null,
   "id": "5c874da3-1e7a-4856-8505-fb2255a89c6b",
   "metadata": {},
   "source": [],
   "outputs": []
  },
  {
   "cell_type": "code",
   "execution_count": null,
   "id": "eae1a980-ea2f-459a-bb49-1183b8ead786",
   "metadata": {},
   "source": [
    "# Dione 1\n",
    "d_min = 4000 # meters\n",
    "r_min = d_min / 2\n",
    "area = 102449 # km^2\n",
    "n_craters = 65\n",
    "\n",
    "area_m = area * 1000**2\n",
    "area_r_min = area_m / r_min**2\n",
    "intensity = n_craters / area_r_min\n",
    "intensity"
   ],
   "outputs": []
  },
  {
   "cell_type": "code",
   "execution_count": null,
   "id": "1dd23af9-8f84-49a3-bc87-db269eb4fe4a",
   "metadata": {},
   "source": [
    "# Dione 2\n",
    "d_min = 4000 # meters\n",
    "r_min = d_min / 2\n",
    "area = 62647 # km^2\n",
    "n_craters = 192\n",
    "\n",
    "area_m = area * 1000**2\n",
    "area_r_min = area_m / r_min**2\n",
    "intensity = n_craters / area_r_min\n",
    "intensity"
   ],
   "outputs": []
  },
  {
   "cell_type": "code",
   "execution_count": null,
   "id": "2a684e43-ebc4-4a4a-b5d8-76e796993f21",
   "metadata": {},
   "source": [
    "# Dione 3\n",
    "d_min = 4000 # meters\n",
    "r_min = d_min / 2\n",
    "area = 53552 # km^2\n",
    "n_craters = 265\n",
    "\n",
    "area_m = area * 1000**2\n",
    "area_r_min = area_m / r_min**2\n",
    "intensity = n_craters / area_r_min\n",
    "intensity"
   ],
   "outputs": []
  },
  {
   "cell_type": "code",
   "execution_count": null,
   "id": "244bc1df-44e3-4b6e-a055-f27046f85a78",
   "metadata": {},
   "source": [
    "# Dione 4\n",
    "d_min = 4000 # meters\n",
    "r_min = d_min / 2\n",
    "area = 38712 # km^2\n",
    "n_craters = 265\n",
    "\n",
    "area_m = area * 1000**2\n",
    "area_r_min = area_m / r_min**2\n",
    "intensity = n_craters / area_r_min\n",
    "intensity"
   ],
   "outputs": []
  },
  {
   "cell_type": "code",
   "execution_count": null,
   "id": "f40dbbb4-87b6-42be-b954-ae9bac147bfd",
   "metadata": {},
   "source": [],
   "outputs": []
  },
  {
   "cell_type": "code",
   "execution_count": null,
   "id": "a5332292-5ff9-44d2-864e-652fe6b4342e",
   "metadata": {},
   "source": [
    "# Sim terrain\n",
    "r_min = 5 # units\n",
    "area = 4000**2 # unit^2\n",
    "n_craters = 3500\n",
    "\n",
    "area_r_min = area / r_min**2\n",
    "intensity = n_craters / area_r_min\n",
    "intensity"
   ],
   "outputs": []
  },
  {
   "cell_type": "code",
   "execution_count": null,
   "id": "e8383646-fc07-42d5-b647-ff01eb0feb20",
   "metadata": {},
   "source": [],
   "outputs": []
  },
  {
   "cell_type": "code",
   "execution_count": null,
   "id": "00ce4e91-f48b-41c4-a8ec-6b9bb993661a",
   "metadata": {},
   "source": [],
   "outputs": []
  },
  {
   "cell_type": "code",
   "execution_count": null,
   "id": "6b2ff4f0-2c22-4aad-9b0b-f85dbad56a63",
   "metadata": {},
   "source": [],
   "outputs": []
  },
  {
   "cell_type": "code",
   "execution_count": null,
   "id": "6dd47394-ce95-4e6d-bff6-de84cfebc1e3",
   "metadata": {},
   "source": [
    "\"\"\"\n",
    "slope 1.1 -> 22.27, c2c_mean ~= 105\n",
    "slope 1.5 -> 13.78, c2c_mean ~= 50\n",
    "slope 2   -> 9.81,  c2c_mean ~= 31\n",
    "slope 2.2 -> 9.15,  c2c_mean ~= 29.6\n",
    "slope 2.5 -> 8.26,  c2c_mean ~= 26\n",
    "slope 2.9 -> 7.635, c2c_mean ~= 24\n",
    "\"\"\""
   ],
   "outputs": []
  },
  {
   "cell_type": "code",
   "execution_count": null,
   "id": "f45edfb8-1475-4292-81d0-2b28b05cf266",
   "metadata": {},
   "source": [
    "plt.scatter([22.27, 13.78, 9.81, 9.15, 8.26, 7.635], [105, 50, 31, 29.6, 26, 24])"
   ],
   "outputs": []
  },
  {
   "cell_type": "code",
   "execution_count": null,
   "id": "772f3367-8fd8-4d03-aa25-ef41a704743f",
   "metadata": {},
   "source": [
    "stats.linregress([22.27, 13.78, 9.81, 8.26, 7.635], [105, 50, 31, 26, 24])"
   ],
   "outputs": []
  },
  {
   "cell_type": "code",
   "execution_count": null,
   "id": "d3b7f007-d3be-4b53-8c1c-c64ff1a48400",
   "metadata": {},
   "source": [],
   "outputs": []
  },
  {
   "cell_type": "code",
   "execution_count": null,
   "id": "95b92697-0923-414e-a019-83a65e7a2456",
   "metadata": {},
   "source": [],
   "outputs": []
  },
  {
   "cell_type": "markdown",
   "id": "92478699-9c89-49ec-98db-5bd4bbccb6f5",
   "metadata": {},
   "source": [
    "### Modeling variance\n",
    "\n",
    "Goal: model the variance (with a CI) of N given c2c_mean, slope\n",
    "- Linear regression first\n",
    "- Response: log sqrt (variance of N)\n",
    "    - Possibly bucketed to calculate variance\n",
    "\n"
   ]
  },
  {
   "cell_type": "code",
   "execution_count": null,
   "id": "ce6758fc-8613-49f9-a817-11830b1229f6",
   "metadata": {},
   "source": [
    "df = stats_df.copy()\n",
    "df = df.sample(df.shape[0] // 10).copy()\n",
    "df[\"log_center_to_center_nearest_neighbor_distance_mean\"] = np.log10(df.center_to_center_nearest_neighbor_distance_mean)\n",
    "df[\"log_n_craters_added_in_study_region\"] = np.log10(df.n_craters_added_in_study_region)\n",
    "\n",
    "fig = px.scatter_3d(\n",
    "    df,\n",
    "    x=\"slope\",\n",
    "    y=\"log_center_to_center_nearest_neighbor_distance_mean\",\n",
    "    z=\"log_n_craters_added_in_study_region\",\n",
    "    hover_data=ivs + [\"removals\"],\n",
    "    size_max=1,\n",
    "    color=\"effective_radius_multiplier\",\n",
    "    width=1600,\n",
    "    height=800\n",
    ")\n",
    "fig.update_traces(marker={\"size\":3})\n",
    "fig.show()"
   ],
   "outputs": []
  },
  {
   "cell_type": "code",
   "execution_count": null,
   "id": "c655ea8e-cd78-4110-8637-c4ae81388c27",
   "metadata": {},
   "source": [],
   "outputs": []
  },
  {
   "cell_type": "code",
   "execution_count": null,
   "id": "3ba4d5ab-75a3-4e57-95b2-f28aa6212b80",
   "metadata": {},
   "source": [],
   "outputs": []
  },
  {
   "cell_type": "code",
   "execution_count": null,
   "id": "a9c41504-3e65-4b3e-85f8-40aa378bb484",
   "metadata": {},
   "source": [
    "# base_path = \"/data/saturation/random_runs_20230812/\"\n",
    "# base_path = \"/data/saturation/ir_random_1/\"\n",
    "base_path = \"/data/saturation/n_craters_stop_condition_20230918\"\n",
    "\n",
    "stats_df = pd.read_parquet(f\"{base_path}/train_1000_100.parquet\").sort_values(\"crater_id\")\n",
    "# stats_df = pd.read_parquet(f\"{base_path}/train_10.parquet\").sort_values(\"crater_id\")\n",
    "stats_df = fix_up_df(stats_df)\n",
    "\n",
    "test_df = pd.read_parquet(f\"{base_path}/test_1000_100.parquet\").sort_values(\"crater_id\")\n",
    "# test_df = pd.read_parquet(f\"{base_path}/test_10.parquet\").sort_values(\"crater_id\")\n",
    "test_df = fix_up_df(test_df)\n",
    "\n",
    "simulation_ids = stats_df.simulation_id.unique()"
   ],
   "outputs": []
  },
  {
   "cell_type": "code",
   "execution_count": null,
   "id": "610d6d42-68b2-449d-a88e-53f8fe64f5de",
   "metadata": {},
   "source": [
    "df = stats_df.copy()\n",
    "df = df.sample(df.shape[0] // 10).copy()\n",
    "\n",
    "min_slope = 2\n",
    "max_slope = 3\n",
    "\n",
    "df = df[(df.slope > min_slope) & (df.slope < max_slope)]\n",
    "df[\"log_center_to_center_nearest_neighbor_distance_mean\"] = np.log10(df.center_to_center_nearest_neighbor_distance_mean)\n",
    "df[\"log_n_craters_added_in_study_region\"] = np.log10(df.n_craters_added_in_study_region)\n",
    "\n",
    "fig = px.scatter(\n",
    "    df,\n",
    "    x=\"log_center_to_center_nearest_neighbor_distance_mean\",\n",
    "    y=\"log_n_craters_added_in_study_region\",\n",
    "    hover_data=ivs + [\"information_remaining\"],\n",
    "    size_max=1,\n",
    "    color=\"slope\",\n",
    ")\n",
    "fig.show()"
   ],
   "outputs": []
  },
  {
   "cell_type": "code",
   "execution_count": null,
   "id": "a7a28b67-5cab-4f07-8e69-4e2a4efd9c44",
   "metadata": {},
   "source": [
    "df = stats_df.copy()\n",
    "df = df.sample(df.shape[0] // 10).copy()\n",
    "df[\"log_center_to_center_nearest_neighbor_distance_mean\"] = np.log10(df.center_to_center_nearest_neighbor_distance_mean)\n",
    "df[\"log_n_craters_added_in_study_region\"] = np.log10(df.n_craters_added_in_study_region)\n",
    "\n",
    "fig = px.scatter_3d(\n",
    "    df,\n",
    "    x=\"slope\",\n",
    "    y=\"log_center_to_center_nearest_neighbor_distance_mean\",\n",
    "    z=\"log_n_craters_added_in_study_region\",\n",
    "    hover_data=ivs + [\"removals\"],\n",
    "    size_max=1,\n",
    "    color=\"effective_radius_multiplier\",\n",
    "    width=1600,\n",
    "    height=800\n",
    ")\n",
    "fig.update_traces(marker={\"size\":3})\n",
    "fig.show()"
   ],
   "outputs": []
  },
  {
   "cell_type": "code",
   "execution_count": null,
   "id": "969f8e4e-97e4-4b51-87f7-69c89289834e",
   "metadata": {},
   "source": [],
   "outputs": []
  },
  {
   "cell_type": "code",
   "execution_count": null,
   "id": "55d3281d-4e6c-4419-8bf7-8a801f5b71fb",
   "metadata": {},
   "source": [],
   "outputs": []
  },
  {
   "cell_type": "code",
   "execution_count": null,
   "id": "3c63eca2-f61a-4e4c-9032-71118796d501",
   "metadata": {},
   "source": [
    "# base_path = \"/data/saturation/random_runs_20230812/\"\n",
    "# base_path = \"/data/saturation/ir_random_1/\"\n",
    "base_path = \"/data/saturation/n_craters_stop_condition_20230918\"\n",
    "\n",
    "stats_df = pd.read_parquet(f\"{base_path}/train_1000_500.parquet\").sort_values(\"crater_id\")\n",
    "# stats_df = pd.read_parquet(f\"{base_path}/train_10.parquet\").sort_values(\"crater_id\")\n",
    "stats_df = fix_up_df(stats_df)\n",
    "\n",
    "test_df = pd.read_parquet(f\"{base_path}/test_1000_500.parquet\").sort_values(\"crater_id\")\n",
    "# test_df = pd.read_parquet(f\"{base_path}/test_10.parquet\").sort_values(\"crater_id\")\n",
    "test_df = fix_up_df(test_df)\n",
    "\n",
    "simulation_ids = stats_df.simulation_id.unique()"
   ],
   "outputs": []
  },
  {
   "cell_type": "code",
   "execution_count": null,
   "id": "d07ddd84-5247-4e1d-85fb-5be707408447",
   "metadata": {},
   "source": [
    "def plot_n_vs_N_for_simulation(simulation_id: int, stats_df: pd.DataFrame):\n",
    "    df = stats_df[stats_df.simulation_id == simulation_id]\n",
    "    \n",
    "    print(df[[\"slope\", \"effective_radius_multiplier\", \"r_stat_multiplier\", \"min_rim_percentage\"]].iloc[0])\n",
    "    \n",
    "    fig = plt.figure(figsize=(18, 4))\n",
    "    ax1 = fig.add_subplot(111)\n",
    "    \n",
    "    plt1 = ax1.plot(df.n_craters_added_in_study_region, df.n_craters_in_study_region, color='red')\n",
    "    ax1.set_ylabel(\"n\")\n",
    "    ax1.set_xlabel(\"N\")\n",
    "    \n",
    "    ax1.set_title(f\"Simulation {simulation_id}\")\n",
    "    plt.show()\n",
    "\n",
    "\n",
    "def plot_n_hist_for_simulation(simulation_id: int, stats_df: pd.DataFrame):\n",
    "    df = stats_df[stats_df.simulation_id == simulation_id]\n",
    "    min_N = int(df.n_craters_added_in_study_region.max() * 2 / 3)\n",
    "    df = df[df.n_craters_added_in_study_region > min_N]\n",
    "   \n",
    "    print(df[[\"slope\", \"effective_radius_multiplier\", \"r_stat_multiplier\", \"min_rim_percentage\"]].iloc[0])\n",
    "    \n",
    "    plt.hist(df.n_craters_in_study_region, bins=25)\n",
    "    plt.show()"
   ],
   "outputs": []
  },
  {
   "cell_type": "code",
   "execution_count": null,
   "id": "b04536db-1512-4bba-9330-4305ee474f1c",
   "metadata": {},
   "source": [
    "for x in range(29, 30):\n",
    "    plot_n_vs_N_for_simulation(simulation_ids[x], stats_df)"
   ],
   "outputs": []
  },
  {
   "cell_type": "code",
   "execution_count": null,
   "id": "30c126d8-5aca-47dd-9582-e2aaa8098501",
   "metadata": {},
   "source": [
    "for x in range(29, 30):\n",
    "    plot_n_hist_for_simulation(simulation_ids[x], stats_df)"
   ],
   "outputs": []
  },
  {
   "cell_type": "code",
   "execution_count": null,
   "id": "18938be0-deb0-46bd-a64b-9d8341bc4286",
   "metadata": {},
   "source": [
    "sim_dir = \"1.523_0.536_3.984_2.079\"\n",
    "\n",
    "df = None\n",
    "for filename in glob.glob(f\"/data/saturation/n_craters_stop_condition_20230918/{sim_dir}/statistics*.parquet\"):\n",
    "    if df is None:\n",
    "        df = pd.read_parquet(filename)\n",
    "    else:\n",
    "        df = pd.concat([df, pd.read_parquet(filename)], axis=0)\n",
    "\n",
    "min_N = int(df.n_craters_added_in_study_region.max() * 2 / 3)\n",
    "# plt.hist(df[df.n_craters_added_in_study_region > min_N].n_craters_in_study_region, bins=25)\n",
    "plt.hist(df[df.n_craters_added_in_study_region > 40000].n_craters_in_study_region, bins=25)\n",
    "plt.show()"
   ],
   "outputs": []
  },
  {
   "cell_type": "code",
   "execution_count": null,
   "id": "2a1a9410-46fe-4319-ab7a-3361fe5bed32",
   "metadata": {},
   "source": [
    "df[df.n_craters_added_in_study_region > min_N].n_craters_in_study_region.quantile(0.01)"
   ],
   "outputs": []
  },
  {
   "cell_type": "code",
   "execution_count": null,
   "id": "125a484d-eb99-4777-bf68-9b379a304b56",
   "metadata": {},
   "source": [
    "df[df.n_craters_added_in_study_region > 40000].n_craters_in_study_region.quantile(0.01)"
   ],
   "outputs": []
  },
  {
   "cell_type": "code",
   "execution_count": null,
   "id": "02085781-aaa9-42a7-ab3c-f43927625e60",
   "metadata": {},
   "source": [],
   "outputs": []
  },
  {
   "cell_type": "code",
   "execution_count": null,
   "id": "b41c1a07-8061-45f1-8fac-471075f8d994",
   "metadata": {},
   "source": [],
   "outputs": []
  }
 ],
 "metadata": {
  "kernelspec": {
   "display_name": "Python 3 (ipykernel)",
   "language": "python",
   "name": "python3"
  },
  "language_info": {
   "codemirror_mode": {
    "name": "ipython",
    "version": 3
   },
   "file_extension": ".py",
   "mimetype": "text/x-python",
   "name": "python",
   "nbconvert_exporter": "python",
   "pygments_lexer": "ipython3",
   "version": "3.11.6"
  }
 },
 "nbformat": 4,
 "nbformat_minor": 5
}
