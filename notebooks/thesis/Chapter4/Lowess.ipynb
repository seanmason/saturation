{
 "cells": [
  {
   "cell_type": "code",
   "execution_count": 1,
   "id": "ff6504da-6e7f-4b93-aed3-f4dead6a40ba",
   "metadata": {},
   "outputs": [],
   "source": [
    "import pandas as pd\n",
    "import numpy as np\n",
    "from pathlib import Path\n",
    "import yaml\n",
    "from typing import *\n",
    "\n",
    "import plotly.express as px\n",
    "import plotly.io as pio\n",
    "import plotly.graph_objects as go\n",
    "import matplotlib.pyplot as plt\n",
    "\n",
    "import scipy.stats as stats\n",
    "from scipy.optimize import minimize_scalar\n",
    "from hyperopt import hp, fmin, tpe, STATUS_OK, Trials, space_eval\n",
    "from statsmodels.nonparametric.smoothers_lowess import lowess\n",
    "import statsmodels.api as sm\n",
    "\n",
    "import pyspark\n",
    "import pyspark.sql.functions as F\n",
    "from pyspark.sql import SparkSession, DataFrame, Window\n",
    "from pyspark.ml.linalg import Vectors\n",
    "from pyspark.ml.feature import VectorAssembler\n",
    "from pyspark.ml.regression import LinearRegression\n",
    "\n",
    "from utils import *\n",
    "\n",
    "pio.renderers.default = \"iframe\""
   ]
  },
  {
   "cell_type": "code",
   "execution_count": 2,
   "id": "f9ee4682-feb8-4f7f-bac0-169727bd3769",
   "metadata": {},
   "outputs": [
    {
     "name": "stderr",
     "output_type": "stream",
     "text": [
      "24/03/02 13:56:03 WARN Utils: Your hostname, muninn resolves to a loopback address: 127.0.1.1; using 192.168.86.20 instead (on interface enp8s0)\n",
      "24/03/02 13:56:03 WARN Utils: Set SPARK_LOCAL_IP if you need to bind to another address\n",
      "Setting default log level to \"WARN\".\n",
      "To adjust logging level use sc.setLogLevel(newLevel). For SparkR, use setLogLevel(newLevel).\n",
      "24/03/02 13:56:04 WARN NativeCodeLoader: Unable to load native-hadoop library for your platform... using builtin-java classes where applicable\n"
     ]
    }
   ],
   "source": [
    "n_cores = 28\n",
    "\n",
    "spark = (SparkSession.builder\n",
    "         .master(f\"local[{n_cores}]\")\n",
    "         .appName(\"Saturation\")\n",
    "         .config(\"spark.sql.shuffle.partitions\", \"500\")\n",
    "         .config(\"spark.driver.memory\", \"60g\")\n",
    "         .config(\"spark.driver.maxResultSize\", \"8g\")\n",
    "         .getOrCreate())"
   ]
  },
  {
   "cell_type": "code",
   "execution_count": 3,
   "id": "14e7b815-d9f9-4cc9-8962-8f66dd410b5c",
   "metadata": {},
   "outputs": [
    {
     "name": "stderr",
     "output_type": "stream",
     "text": [
      "                                                                                \r"
     ]
    }
   ],
   "source": [
    "base_path = \"/data/saturation/thesis_run_20240130\"\n",
    "r_stat = 5\n",
    "study_region_size = 2000 * 2000 / r_stat ** 2\n",
    "\n",
    "configs_df = create_configs_df(read_configs(base_path, spark))\n",
    "data = spark.read.parquet(f\"{base_path}/*/statistics_*.parquet\")\n",
    "\n",
    "# State c2c nn dist in terms of r_stat and log-scale\n",
    "data = data.where(\n",
    "    (F.col(\"n_craters_added_in_study_region\") > 100)\n",
    ").select(\n",
    "    \"*\",\n",
    "    F.log10(F.col(\"center_to_center_nearest_neighbor_distance_mean\") / F.lit(r_stat)).alias(\"log_mean_c2c_nn_dist\"),\n",
    "    F.log10(\"n_craters_added_in_study_region\").alias(\"log_n_craters_added_in_study_region\"),\n",
    "    F.log10(\"n_craters_in_study_region\").alias(\"log_n_craters_in_study_region\"),\n",
    "    (F.col(\"n_craters_in_study_region\") / F.col(\"n_craters_added_in_study_region\")).alias(\"information_remaining\")\n",
    ")"
   ]
  },
  {
   "cell_type": "markdown",
   "id": "403a29e7-b031-4bd9-bda2-9c0a88af0e6d",
   "metadata": {},
   "source": [
    "## Lowess regression on a narrow band of slopes\n",
    "\n",
    "Using log-transformed values"
   ]
  },
  {
   "cell_type": "code",
   "execution_count": null,
   "id": "be7043ee-1889-45a4-ade9-61c587c54835",
   "metadata": {},
   "outputs": [],
   "source": [
    "data_with_configs = join_configs(data, configs_df, spark).where(\n",
    "    (F.col(\"n_craters_added_in_study_region\") > 250)\n",
    "    & (F.col(\"slope\").between(2.5, 2.6))\n",
    ").cache()"
   ]
  },
  {
   "cell_type": "code",
   "execution_count": null,
   "id": "9b6a4ff3-9117-4ab9-aab3-ef3022d451a4",
   "metadata": {},
   "outputs": [],
   "source": [
    "df = data_with_configs.sample(0.01).toPandas()"
   ]
  },
  {
   "cell_type": "code",
   "execution_count": null,
   "id": "9d05e041-6cf8-4f04-90a2-f7555d8f8160",
   "metadata": {},
   "outputs": [],
   "source": [
    "df.to_parquet(\"data/df.parquet\")"
   ]
  },
  {
   "cell_type": "code",
   "execution_count": null,
   "id": "47679903-3f0e-42b1-968f-ddc66ba7cd49",
   "metadata": {},
   "outputs": [],
   "source": [
    "df = pd.read_parquet(\"data/df.parquet\")"
   ]
  },
  {
   "cell_type": "code",
   "execution_count": null,
   "id": "c41176fa-ff45-4780-83ac-072845a8b1a6",
   "metadata": {},
   "outputs": [],
   "source": []
  },
  {
   "cell_type": "code",
   "execution_count": null,
   "id": "20ac9eb8-0bc4-44fa-ae15-76e2d7846859",
   "metadata": {},
   "outputs": [],
   "source": [
    "# Peek at the plot\n",
    "plt.figure(figsize=(12,5))\n",
    "plt.scatter(\n",
    "    df.log_mean_c2c_nn_dist,\n",
    "    df.log_n_craters_added_in_study_region,\n",
    "    s=1\n",
    ")"
   ]
  },
  {
   "cell_type": "code",
   "execution_count": null,
   "id": "e137b8ad-8801-46e7-8fa1-0d4758b51e1e",
   "metadata": {},
   "outputs": [],
   "source": []
  },
  {
   "cell_type": "code",
   "execution_count": 7,
   "id": "1d2f5427-e549-42e2-a4bb-59ba156f47af",
   "metadata": {},
   "outputs": [],
   "source": [
    "def fit_lowess_smoothed_ols(\n",
    "    x: pd.Series,\n",
    "    y: pd.Series\n",
    ") -> Tuple[float, float]:\n",
    "    \"\"\"\n",
    "    Smooths the supplied data using a Lowess smoother then fits an OLS regression on the result.\n",
    "    Returns a tuple of (intercept, coefficient) of the resulting OLS regression.\n",
    "    \"\"\"\n",
    "    predictions = lowess(y,\n",
    "                         x,\n",
    "                         frac=0.5,\n",
    "                         return_sorted=False)\n",
    "\n",
    "    # Fit an OLS regression\n",
    "    model = sm.OLS(predictions, sm.add_constant(x)).fit()\n",
    "\n",
    "    return model.params[0], model.params[1]"
   ]
  },
  {
   "cell_type": "code",
   "execution_count": null,
   "id": "dda3f2c5-76f4-40b0-a1ce-60b48b98826d",
   "metadata": {},
   "outputs": [],
   "source": [
    "threshold = 1.25\n",
    "model_df = df[df.log_mean_c2c_nn_dist > threshold].sort_values(\"log_mean_c2c_nn_dist\")\n",
    "intercept, coefficient = fit_lowess_smoothed_ols(model_df.log_mean_c2c_nn_dist,\n",
    "                                                 model_df.log_n_craters_added_in_study_region)"
   ]
  },
  {
   "cell_type": "code",
   "execution_count": null,
   "id": "cb61b85c-88ea-4d12-9e12-169ded3cb7f0",
   "metadata": {},
   "outputs": [],
   "source": []
  },
  {
   "cell_type": "code",
   "execution_count": null,
   "id": "f566d456-7808-45be-aac6-26758a264867",
   "metadata": {},
   "outputs": [],
   "source": []
  },
  {
   "cell_type": "code",
   "execution_count": null,
   "id": "22aed0d9-431a-4037-93bd-7f9f1cc4d1ae",
   "metadata": {},
   "outputs": [],
   "source": [
    "thresholds = {\n",
    "    1.05: 1.5,\n",
    "    1.15: 1.4,\n",
    "    1.25: 1.35,\n",
    "    1.35: 1.3,\n",
    "    1.45: 1.25,\n",
    "    1.55: 1.2,\n",
    "    1.65: 1.15,\n",
    "    1.75: 1.1,\n",
    "    1.85: 1.05,\n",
    "    1.95: 1.05,\n",
    "    2.05: 1.05,\n",
    "    2.15: 1.05,\n",
    "    2.25: 1.05,\n",
    "    2.35: 1.05,\n",
    "    2.45: 1.05,\n",
    "    2.55: 1.05,\n",
    "    2.65: 1.1,\n",
    "    2.75: 1.15,\n",
    "    2.85: 1.15,\n",
    "    2.95: 1.2,\n",
    "}"
   ]
  },
  {
   "cell_type": "code",
   "execution_count": null,
   "id": "a21537ec-7f42-41e6-a075-31435743092d",
   "metadata": {},
   "outputs": [],
   "source": [
    "sample_percent = 0.5\n",
    "\n",
    "slope_width = 0.05\n",
    "comparison_offsets = [0.45, 0.35, 0.25, 0.15, 0.1, 0.05, -0.05]\n",
    "comparison_width = 0.05\n",
    "\n",
    "data_sample = join_configs(data, configs_df, spark).where(\n",
    "        (F.col(\"n_craters_added_in_study_region\") > 100)\n",
    ").select(\n",
    "        \"log_mean_c2c_nn_dist\",\n",
    "        \"log_n_craters_added_in_study_region\"\n",
    ")\n",
    "\n",
    "for slope, threshold in thresholds.items():\n",
    "    filtered_to_slope = data_sample.where(\n",
    "        (F.col(\"slope\").between(slope - slope_width, slope + slope_width))\n",
    "    )\n",
    "    model_df = filtered_to_slope.where(\n",
    "        (F.col(\"log_mean_c2c_nn_dist\") > threshold)\n",
    "    ).sample(sample_percent).orderBy(\"log_mean_c2c_nn_dist\").toPandas()\n",
    "    intercept, coefficient = fit_lowess_smoothed_ols(model_df.log_mean_c2c_nn_dist,\n",
    "                                                     model_df.log_n_craters_added_in_study_region)\n",
    "    detrended_pd = filtered_to_slope.select(\n",
    "        \"*\",\n",
    "        (F.col(\"log_n_craters_added_in_study_region\") - (F.col(\"log_mean_c2c_nn_dist\") * coefficient + intercept)).alias(\"detrended\"),\n",
    "    ).toPandas()\n",
    "    \n",
    "    for comparison_offset in comparison_offsets:\n",
    "        comparison_low = threshold - comparison_offset - comparison_width\n",
    "        comparison_high = threshold - comparison_offset + comparison_width\n",
    "    \n",
    "        s = detrended_pd.detrended\n",
    "        reference = s[detrended_pd.log_mean_c2c_nn_dist > threshold]\n",
    "        # reference_var = reference.var()\n",
    "        reference_var = reference.quantile(0.975) - reference.quantile(0.025) \n",
    "\n",
    "        comparison = s[detrended_pd.log_mean_c2c_nn_dist.between(comparison_low, comparison_high)]\n",
    "        # comparison_var = comparison.var()\n",
    "        comparison_var = comparison.quantile(0.975) - comparison.quantile(0.025) \n",
    "        ratio = comparison_var / reference_var\n",
    "\n",
    "        print(f\"slope={slope}, threshold={threshold}, comp offset={comparison_offset}, ref n={len(reference)}, comp n={len(comparison)}, comp var={comparison_var:.3f}, ref var={reference_var:.3f}, ratio={ratio:.3f}\")"
   ]
  },
  {
   "cell_type": "code",
   "execution_count": null,
   "id": "614adafa-f762-4fcd-9a71-f50fe7f976dc",
   "metadata": {},
   "outputs": [],
   "source": []
  },
  {
   "cell_type": "markdown",
   "id": "a5ca3547-e7b3-45f8-bd60-a24aec4f2ae3",
   "metadata": {},
   "source": [
    "## N_obs vs N_tot instead"
   ]
  },
  {
   "cell_type": "code",
   "execution_count": 4,
   "id": "f984b195-978a-45cb-ae93-1626f8226a90",
   "metadata": {},
   "outputs": [],
   "source": [
    "thresholds = {\n",
    "    # 1.05: 2.15,\n",
    "    # 1.15: 1.4,\n",
    "    # 1.25: 1.35,\n",
    "    # 1.35: 1.3,\n",
    "    1.45: 2.6,\n",
    "    # 1.55: 1.2,\n",
    "    # 1.65: 1.15,\n",
    "    # 1.75: 1.1,\n",
    "    # 1.85: 1.05,\n",
    "    1.95: 3.15,\n",
    "    # 2.05: 1.05,\n",
    "    # 2.15: 1.05,\n",
    "    # 2.25: 1.05,\n",
    "    # 2.35: 1.05,\n",
    "    2.45: 3.15,\n",
    "    # 2.55: 1.05,\n",
    "    2.65: 3.0,\n",
    "    # 2.75: 1.15,\n",
    "    # 2.85: 1.15,\n",
    "    2.95: 2.8,\n",
    "}"
   ]
  },
  {
   "cell_type": "code",
   "execution_count": 25,
   "id": "a26b4584-dcd9-425c-87fd-7a144e9a7ac9",
   "metadata": {},
   "outputs": [],
   "source": [
    "sample_percent = 0.05\n",
    "\n",
    "slope_width = 0.05\n",
    "comparison_offsets = [1.0, 0.75, 0.45, 0.15, 0.1, 0.05, -0.05]\n",
    "comparison_width = 0.1\n",
    "\n",
    "data_sample = join_configs(data, configs_df, spark).select(\n",
    "        \"log_n_craters_in_study_region\",\n",
    "        \"log_n_craters_added_in_study_region\",\n",
    "        (F.col(\"log_n_craters_added_in_study_region\") - (F.col(\"log_n_craters_in_study_region\"))).alias(\"detrended\")\n",
    ").sample(sample_percent).cache()\n",
    "\n",
    "for slope, threshold in thresholds.items():\n",
    "    filtered_to_slope = data_sample.where(\n",
    "        (F.col(\"slope\").between(slope - slope_width, slope + slope_width))\n",
    "    ).toPandas()\n",
    "    \n",
    "    for comparison_offset in comparison_offsets:\n",
    "        comparison_low = threshold + comparison_offset - comparison_width\n",
    "        comparison_high = threshold + comparison_offset + comparison_width\n",
    "    \n",
    "        s = detrended_pd.detrended\n",
    "        reference = s[detrended_pd.log_n_craters_in_study_region < threshold]\n",
    "        # reference_var = reference.var()\n",
    "        reference_var = reference.quantile(0.975) - reference.quantile(0.025) \n",
    "\n",
    "        comparison = s[detrended_pd.log_n_craters_in_study_region.between(comparison_low, comparison_high)]\n",
    "        # comparison_var = comparison.var()\n",
    "        comparison_var = comparison.quantile(0.975) - comparison.quantile(0.025) \n",
    "        ratio = comparison_var / reference_var\n",
    "\n",
    "        print(f\"slope={slope}, threshold={threshold}, comp offset={comparison_offset}, ref n={len(reference)}, comp n={len(comparison)}, comp var={comparison_var:.3f}, ref var={reference_var:.3f}, ratio={ratio:.3f}\")"
   ]
  },
  {
   "cell_type": "code",
   "execution_count": null,
   "id": "16f247cc-8297-4c96-a721-de05de9e5f9a",
   "metadata": {},
   "outputs": [],
   "source": []
  },
  {
   "cell_type": "code",
   "execution_count": 37,
   "id": "cecc5cec-579d-47cf-8f1d-2562cc00a2a9",
   "metadata": {},
   "outputs": [
    {
     "name": "stderr",
     "output_type": "stream",
     "text": [
      "                                                                                \r"
     ]
    }
   ],
   "source": [
    "# Compare some F scores\n",
    "slope_min = 2.6\n",
    "slope_max = 2.7\n",
    "sample_percent = 0.01\n",
    "\n",
    "data_sample = join_configs(data, configs_df, spark).select(\n",
    "        \"log_n_craters_in_study_region\",\n",
    "        \"log_n_craters_added_in_study_region\",\n",
    "        (F.col(\"log_n_craters_added_in_study_region\") - (F.col(\"log_n_craters_in_study_region\"))).alias(\"detrended\")\n",
    ").where(\n",
    "    (F.col(\"slope\").between(slope_min, slope_max))\n",
    ").sample(sample_percent).toPandas()"
   ]
  },
  {
   "cell_type": "code",
   "execution_count": 49,
   "id": "e35abcb4-f268-4b13-a70e-357ec6879573",
   "metadata": {},
   "outputs": [
    {
     "name": "stdout",
     "output_type": "stream",
     "text": [
      "Var: 0.0710 / 0.0512, score = 1.3872, p = 0.0000\n"
     ]
    }
   ],
   "source": [
    "threshold = 3.0\n",
    "offset = 0.75\n",
    "window_width = 0.2\n",
    "\n",
    "s = detrended_pd.detrended[detrended_pd.log_n_craters_in_study_region < threshold]\n",
    "var1 = s.var()\n",
    "df1 = s.shape[0]\n",
    "\n",
    "s = detrended_pd.detrended[detrended_pd.log_n_craters_in_study_region.between(threshold + offset - window_width / 2, threshold + offset + window_width / 2)]\n",
    "var2 = s.var()\n",
    "df2 = s.shape[0]\n",
    "\n",
    "numer, numer_df, denom, denom_df = (var1, df1, var2, df2) if var1 > var2 else (var2, df2, var1, df1)\n",
    "p_value = 1 - stats.f.cdf(numer / denom, numer_df, denom_df)\n",
    "print(f\"Var: {numer:.4f} / {denom:.4f}, score = {numer/denom:.4f}, p = {p_value:.4f}\")"
   ]
  },
  {
   "cell_type": "code",
   "execution_count": 53,
   "id": "0d967788-c7b9-4b98-ad2d-cd442e501b11",
   "metadata": {},
   "outputs": [
    {
     "name": "stdout",
     "output_type": "stream",
     "text": [
      "disp1=0.588, disp2=0.882, ratio=0.667\n"
     ]
    }
   ],
   "source": [
    "threshold = 2.9\n",
    "offset = 1\n",
    "window_width = 0.2\n",
    "\n",
    "s = detrended_pd.detrended[detrended_pd.log_n_craters_in_study_region < threshold]\n",
    "disp1 = s.quantile(0.975) - s.quantile(0.025)\n",
    "\n",
    "s = detrended_pd.detrended[detrended_pd.log_n_craters_in_study_region.between(threshold + offset - window_width / 2, threshold + offset + window_width / 2)]\n",
    "disp2 = s.quantile(0.975) - s.quantile(0.025)\n",
    "\n",
    "print(f\"disp1={disp1:.3f}, disp2={disp2:.3f}, ratio={disp1/disp2:.3f}\")"
   ]
  },
  {
   "cell_type": "code",
   "execution_count": null,
   "id": "fe2d82a6-651b-4af8-9881-43298240f710",
   "metadata": {},
   "outputs": [],
   "source": []
  },
  {
   "cell_type": "code",
   "execution_count": null,
   "id": "bd6051c0-bb13-43f1-99b6-f1dbe873001e",
   "metadata": {},
   "outputs": [],
   "source": [
    "# Use the model to detrend all data\n",
    "detrended = data_with_configs.select(\n",
    "    (F.col(\"log_n_craters_added_in_study_region\") - (F.col(\"log_mean_c2c_nn_dist\") * -2)).alias(\"detrended\"),\n",
    "    \"log_mean_c2c_nn_dist\",\n",
    "    \"log_n_craters_added_in_study_region\",\n",
    "    F.log10(\"n_craters_in_study_region\").alias(\"log_n_craters_in_study_region\")\n",
    ")"
   ]
  },
  {
   "cell_type": "code",
   "execution_count": null,
   "id": "4113bd8a-83a4-4bf0-8d64-2a70ea45b1bd",
   "metadata": {},
   "outputs": [],
   "source": [
    "detrended_pd = detrended.sample(0.001).toPandas()"
   ]
  },
  {
   "cell_type": "code",
   "execution_count": null,
   "id": "e9730ce0-c361-442f-9015-df614d7df57e",
   "metadata": {},
   "outputs": [],
   "source": [
    "plt.scatter(\n",
    "    detrended_pd.log_mean_c2c_nn_dist,\n",
    "    detrended_pd.detrended,\n",
    "    s=1\n",
    ")"
   ]
  },
  {
   "cell_type": "code",
   "execution_count": null,
   "id": "dc7b361f-da4d-49ca-b57e-ec5382e32338",
   "metadata": {},
   "outputs": [],
   "source": [
    "plt.scatter(\n",
    "    detrended_pd.log_mean_c2c_nn_dist,\n",
    "    detrended_pd.detrended,\n",
    "    s=1\n",
    ")"
   ]
  },
  {
   "cell_type": "code",
   "execution_count": null,
   "id": "cf6015b5-d2c5-4ff9-a2d3-d9ff3a69b607",
   "metadata": {},
   "outputs": [],
   "source": []
  },
  {
   "cell_type": "code",
   "execution_count": null,
   "id": "18d426db-1667-4fde-883d-1044d69bf44a",
   "metadata": {},
   "outputs": [],
   "source": [
    "reference_low = 1.25\n",
    "reference_high = 2\n",
    "comparison_low = 1.15\n",
    "comparison_high = 1.25\n",
    "\n",
    "reference_var = detrended_pd.log_n_craters_added_in_study_region[detrended_pd.log_mean_c2c_nn_dist.between(reference_low, reference_high)].var()\n",
    "comparison_var = detrended_pd.log_n_craters_added_in_study_region[detrended_pd.log_mean_c2c_nn_dist.between(comparison_low, comparison_high)].var()\n",
    "comparison_var / reference_var"
   ]
  },
  {
   "cell_type": "code",
   "execution_count": null,
   "id": "bcdd5b61-d3bf-4f56-a8ca-7f0543205093",
   "metadata": {},
   "outputs": [],
   "source": [
    "reference_low = 1.25\n",
    "reference_high = 1.35\n",
    "comparison_low = 1.45\n",
    "comparison_high = 1.55\n",
    "\n",
    "reference_var = detrended_pd.log_n_craters_added_in_study_region[detrended_pd.log_mean_c2c_nn_dist.between(reference_low, reference_high)].var()\n",
    "comparison_var = detrended_pd.log_n_craters_added_in_study_region[detrended_pd.log_mean_c2c_nn_dist.between(comparison_low, comparison_high)].var()\n",
    "comparison_var / reference_var"
   ]
  },
  {
   "cell_type": "code",
   "execution_count": null,
   "id": "5a75ab30-9410-497c-963b-90ab701e0d4c",
   "metadata": {},
   "outputs": [],
   "source": [
    "reference_low = 1.25\n",
    "reference_high = 2\n",
    "comparison_low = 1.05\n",
    "comparison_high = 1.25\n",
    "\n",
    "reference_var = detrended_pd.log_n_craters_added_in_study_region[detrended_pd.log_mean_c2c_nn_dist.between(reference_low, reference_high)].var()\n",
    "comparison_var = detrended_pd.log_n_craters_added_in_study_region[detrended_pd.log_mean_c2c_nn_dist.between(comparison_low, comparison_high)].var()\n",
    "comparison_var / reference_var"
   ]
  },
  {
   "cell_type": "code",
   "execution_count": null,
   "id": "fd41337e-c16d-4791-87ae-831c2a5af3de",
   "metadata": {},
   "outputs": [],
   "source": [
    "reference_low = 1.25\n",
    "reference_high = 2\n",
    "comparison_low = .95\n",
    "comparison_high = 1.05\n",
    "\n",
    "reference_var = detrended_pd.log_n_craters_added_in_study_region[detrended_pd.log_mean_c2c_nn_dist.between(reference_low, reference_high)].var()\n",
    "comparison_var = detrended_pd.log_n_craters_added_in_study_region[detrended_pd.log_mean_c2c_nn_dist.between(comparison_low, comparison_high)].var()\n",
    "comparison_var / reference_var"
   ]
  },
  {
   "cell_type": "code",
   "execution_count": null,
   "id": "71c2be2d-eb21-416b-b86e-de1dedcff07f",
   "metadata": {},
   "outputs": [],
   "source": [
    "reference_var, comparison_var"
   ]
  },
  {
   "cell_type": "code",
   "execution_count": null,
   "id": "6eeb9957-4b56-4ede-b3a4-7668be62103f",
   "metadata": {},
   "outputs": [],
   "source": []
  },
  {
   "cell_type": "code",
   "execution_count": null,
   "id": "7d633eb6-bf12-4147-af40-be4cb61b773a",
   "metadata": {},
   "outputs": [],
   "source": [
    "detrended_pd.log_n_craters_added_in_study_region[detrended_pd.log_mean_c2c_nn_dist.between(reference_low, reference_high)]"
   ]
  },
  {
   "cell_type": "code",
   "execution_count": null,
   "id": "979c385b-5724-4c65-84c4-3e2c8d26ba94",
   "metadata": {},
   "outputs": [],
   "source": [
    "comparison_var"
   ]
  },
  {
   "cell_type": "code",
   "execution_count": null,
   "id": "2e15d92a-dad4-40f3-954d-9cfc5dc4a635",
   "metadata": {},
   "outputs": [],
   "source": []
  },
  {
   "cell_type": "code",
   "execution_count": null,
   "id": "15f8bc3f-d467-49d8-85b9-36034ed1ac2f",
   "metadata": {},
   "outputs": [],
   "source": []
  },
  {
   "cell_type": "code",
   "execution_count": null,
   "id": "5b560e51-a7be-450c-8666-2e2910f539a7",
   "metadata": {},
   "outputs": [],
   "source": []
  },
  {
   "cell_type": "code",
   "execution_count": null,
   "id": "e63a4591-fec8-4259-b8f9-67dc463fdb0d",
   "metadata": {},
   "outputs": [],
   "source": []
  },
  {
   "cell_type": "code",
   "execution_count": null,
   "id": "0c2bb441-ccb9-4f6f-a921-90d4578883f5",
   "metadata": {},
   "outputs": [],
   "source": [
    "# Check 95% CI of detrended data\n",
    "q95 = detrended_pd.detrended[detrended_pd.log_mean_c2c_nn_dist > threshold].quantile(0.95)"
   ]
  },
  {
   "cell_type": "code",
   "execution_count": null,
   "id": "f6a40dfe-d330-44f9-9d38-d0e8fb173691",
   "metadata": {},
   "outputs": [],
   "source": [
    "start = detrended_pd.log_mean_c2c_nn_dist.min()\n",
    "end = 1.4 #detrended_pd.log_mean_c2c_nn_dist.max()\n",
    "n_steps = 50\n",
    "step_size = (end - start) / n_steps\n",
    "\n",
    "for x in range(n_steps):\n",
    "    left = start + x * step_size\n",
    "    right = left + step_size\n",
    "    s = detrended_pd.detrended[detrended_pd.log_mean_c2c_nn_dist.between(left, right)]\n",
    "    percent = (s > q95).mean()\n",
    "    print(f\"Left = {left:.3f}, right = {right:.3f}, % = {percent}\")"
   ]
  },
  {
   "cell_type": "code",
   "execution_count": null,
   "id": "0423eaa2-5426-4787-bacb-625eaf66aed8",
   "metadata": {},
   "outputs": [],
   "source": []
  },
  {
   "cell_type": "code",
   "execution_count": null,
   "id": "3bacf73d-68b9-4978-89f9-f56995d9fafe",
   "metadata": {},
   "outputs": [],
   "source": []
  },
  {
   "cell_type": "code",
   "execution_count": null,
   "id": "b115607f-2a4e-49f4-a141-844705f71d2d",
   "metadata": {},
   "outputs": [],
   "source": []
  },
  {
   "cell_type": "code",
   "execution_count": null,
   "id": "8afdead3-788f-488a-9e15-60a4fa39af43",
   "metadata": {},
   "outputs": [],
   "source": []
  },
  {
   "cell_type": "code",
   "execution_count": null,
   "id": "483d6f2a-5426-44d5-8381-1b9d56207001",
   "metadata": {},
   "outputs": [],
   "source": []
  },
  {
   "cell_type": "code",
   "execution_count": null,
   "id": "1415af0c-c65c-467a-ba08-ca3977e87257",
   "metadata": {},
   "outputs": [],
   "source": []
  },
  {
   "cell_type": "code",
   "execution_count": null,
   "id": "5d9dc6ad-33a5-42c3-a103-592b62fa2622",
   "metadata": {},
   "outputs": [],
   "source": [
    "threshold = 1.1\n",
    "lowess_model_df = df[df.log_mean_c2c_nn_dist > threshold].sort_values(\"log_mean_c2c_nn_dist\")"
   ]
  },
  {
   "cell_type": "code",
   "execution_count": null,
   "id": "4a54fa91-978e-4993-883b-7d471ae726d5",
   "metadata": {},
   "outputs": [],
   "source": [
    "# Check a plot to see if we cut off appropriately\n",
    "x = lowess_model_df.log_mean_c2c_nn_dist\n",
    "y = lowess_model_df.log_n_craters_added_in_study_region\n",
    "\n",
    "plt.figure(figsize=(12,5))\n",
    "plt.scatter(\n",
    "    x,\n",
    "    y,\n",
    "    s=1\n",
    ")\n"
   ]
  },
  {
   "cell_type": "code",
   "execution_count": null,
   "id": "e3d0a547-0f96-47ad-8587-f874349c9b91",
   "metadata": {},
   "outputs": [],
   "source": [
    "x = lowess_model_df.log_mean_c2c_nn_dist\n",
    "y = lowess_model_df.log_n_craters_added_in_study_region\n",
    "lowess_predictions = lowess(y,\n",
    "                            x,\n",
    "                            frac=0.2,\n",
    "                            is_sorted=True,\n",
    "                            return_sorted=False)\n",
    "lowess_model_df[\"lowess_predictions\"] = lowess_predictions\n",
    "lowess_model_df[\"lowess_residuals\"] = lowess_model_df.log_n_craters_added_in_study_region - lowess_model_df.lowess_predictions"
   ]
  },
  {
   "cell_type": "code",
   "execution_count": null,
   "id": "714fd36c-8a24-4da0-99aa-fd8a23276da0",
   "metadata": {},
   "outputs": [],
   "source": [
    "# Plot results with lowess line\n",
    "plt.plot(\n",
    "    x,\n",
    "    pred,\n",
    "    color=\"green\"\n",
    ")\n",
    "\n",
    "plt.scatter(\n",
    "    x,\n",
    "    y,\n",
    "    s=1\n",
    ")\n",
    "plt.show()"
   ]
  },
  {
   "cell_type": "code",
   "execution_count": null,
   "id": "63d2e24c-fb99-4957-a2c1-7c319f27f16a",
   "metadata": {},
   "outputs": [],
   "source": [
    "# Plot lowess residuals\n",
    "plt.scatter(\n",
    "    lowess_model_df.log_mean_c2c_nn_dist,\n",
    "    lowess_model_df.lowess_residuals,\n",
    "    s=1\n",
    ")\n",
    "plt.show()"
   ]
  },
  {
   "cell_type": "code",
   "execution_count": null,
   "id": "4e1734bc-eb3d-4cc4-8822-93e22df759fa",
   "metadata": {},
   "outputs": [],
   "source": [
    "# Fit an OLS regression\n",
    "ols_model = sm.OLS(lowess_model_df.lowess_predictions, sm.add_constant(lowess_model_df.log_mean_c2c_nn_dist)).fit()"
   ]
  },
  {
   "cell_type": "code",
   "execution_count": null,
   "id": "8dda4972-4a32-4ac8-9951-f3e5de10bd67",
   "metadata": {},
   "outputs": [],
   "source": [
    "lowess_model_df[\"ols_predictions\"] = ols_model.predict(sm.add_constant(lowess_model_df.log_mean_c2c_nn_dist))"
   ]
  },
  {
   "cell_type": "code",
   "execution_count": null,
   "id": "be4e4bff-b92f-458a-942b-805bf78578a1",
   "metadata": {},
   "outputs": [],
   "source": [
    "# Plot results with OLS line\n",
    "plt.plot(\n",
    "    lowess_model_df.log_mean_c2c_nn_dist,\n",
    "    lowess_model_df.ols_predictions,\n",
    "    color=\"green\"\n",
    ")\n",
    "\n",
    "plt.scatter(\n",
    "    lowess_model_df.log_mean_c2c_nn_dist,\n",
    "    lowess_model_df.log_n_craters_added_in_study_region,\n",
    "    s=1\n",
    ")\n",
    "plt.show()"
   ]
  },
  {
   "cell_type": "code",
   "execution_count": null,
   "id": "40802531-c178-4d25-8d5b-f5788424777f",
   "metadata": {},
   "outputs": [],
   "source": [
    "ols_model.summary()"
   ]
  },
  {
   "cell_type": "code",
   "execution_count": null,
   "id": "9cb809e1-f253-4ae2-840f-96526fb204bb",
   "metadata": {},
   "outputs": [],
   "source": []
  },
  {
   "cell_type": "code",
   "execution_count": null,
   "id": "7d5ece95-7d91-43b6-86f8-83ecc4d19cd5",
   "metadata": {},
   "outputs": [],
   "source": []
  },
  {
   "cell_type": "code",
   "execution_count": null,
   "id": "413bf0a4-482e-4bb7-a818-49f740c60c0c",
   "metadata": {},
   "outputs": [],
   "source": [
    "to_predict = df.sample(1000).copy()\n",
    "interpolated = []\n",
    "for point in to_predict.log_mean_c2c_nn_dist:\n",
    "    f = interp1d(model_df.log_mean_c2c_nn_dist, model_df.pred)\n",
    "    interpolated.append(f(point))\n",
    "to_predict[\"pred\"] = interpolated\n",
    "to_predict[\"resid\"] = to_predict.pred - to_predict.log_n_craters_added_in_study_region\n",
    "to_predict[\"outside_ci\"] = ~to_predict.resid.between(ref_5q, ref_95q)"
   ]
  },
  {
   "cell_type": "code",
   "execution_count": null,
   "id": "bec2dc16-b71d-48ca-a021-6455df4ce0a8",
   "metadata": {},
   "outputs": [],
   "source": [
    "plt.scatter(\n",
    "    to_predict.log_mean_c2c_nn_dist,\n",
    "    to_predict.resid,\n",
    "    c=to_predict.outside_ci,\n",
    "    s=1\n",
    ")"
   ]
  },
  {
   "cell_type": "code",
   "execution_count": null,
   "id": "e9f06e83-d11a-46fd-9194-f91af0887f32",
   "metadata": {},
   "outputs": [],
   "source": [
    "to_predict.outside_ci.mean()"
   ]
  },
  {
   "cell_type": "code",
   "execution_count": null,
   "id": "f3c1b85a-54b2-4719-a601-b27c23e9c6ec",
   "metadata": {},
   "outputs": [],
   "source": [
    "interpolated = []\n",
    "for point in to_predict:\n",
    "    f = interp1d(df.log_mean_c2c_nn_dist, df.pred)\n",
    "    interpolated.append(f(point))"
   ]
  },
  {
   "cell_type": "code",
   "execution_count": null,
   "id": "8558a658-5370-4da6-9021-4d344524aaad",
   "metadata": {},
   "outputs": [],
   "source": [
    "comparison_df = pd.DataFrame([], columns=[\"log_mean_c2c_nn_dist\", \"pred\"])\n",
    "comparison_df[\"log_mean_c2c_nn_dist\"] = to_predict\n",
    "comparison_df[\"pred\"] = interpolated"
   ]
  },
  {
   "cell_type": "code",
   "execution_count": null,
   "id": "04adb3c6-c0c1-4711-869d-917c01fd3bb3",
   "metadata": {},
   "outputs": [],
   "source": [
    "comparison_df"
   ]
  },
  {
   "cell_type": "code",
   "execution_count": null,
   "id": "97c5d14c-85b8-4b03-87c6-59127827cda3",
   "metadata": {},
   "outputs": [],
   "source": []
  }
 ],
 "metadata": {
  "kernelspec": {
   "display_name": "Python 3 (ipykernel)",
   "language": "python",
   "name": "python3"
  },
  "language_info": {
   "codemirror_mode": {
    "name": "ipython",
    "version": 3
   },
   "file_extension": ".py",
   "mimetype": "text/x-python",
   "name": "python",
   "nbconvert_exporter": "python",
   "pygments_lexer": "ipython3",
   "version": "3.11.6"
  }
 },
 "nbformat": 4,
 "nbformat_minor": 5
}
