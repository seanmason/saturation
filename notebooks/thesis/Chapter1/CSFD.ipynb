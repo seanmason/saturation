{
 "cells": [
  {
   "cell_type": "code",
   "execution_count": 1,
   "id": "319f8c36-4358-4798-8d32-65816e25e6b5",
   "metadata": {},
   "source": [
    "%load_ext autoreload\n",
    "%autoreload 2"
   ],
   "outputs": []
  },
  {
   "cell_type": "code",
   "execution_count": 2,
   "id": "edfd3c76-4a9d-4537-a9e9-96b69e84c6e3",
   "metadata": {},
   "source": [
    "import sys\n",
    "\n",
    "import pandas as pd\n",
    "import numpy as np\n",
    "from pathlib import Path\n",
    "import yaml\n",
    "from typing import *\n",
    "import glob\n",
    "\n",
    "import plotly.express as px\n",
    "import plotly.io as pio\n",
    "import plotly.graph_objects as go\n",
    "import matplotlib\n",
    "import matplotlib.pyplot as plt\n",
    "\n",
    "import pyspark\n",
    "import pyspark.sql.functions as F\n",
    "from pyspark.sql import SparkSession, DataFrame, Window\n",
    "import itertools\n",
    "\n",
    "from saturation.utils import *\n",
    "\n",
    "pio.renderers.default = \"iframe\""
   ],
   "outputs": []
  },
  {
   "cell_type": "code",
   "execution_count": 3,
   "id": "08cd2c9a-4cd1-4556-b0dd-09a933bfc393",
   "metadata": {},
   "source": [
    "n_cores = 28\n",
    "\n",
    "spark = (SparkSession.builder\n",
    "         .master(f\"local[{n_cores}]\")\n",
    "         .appName(\"Saturation\")\n",
    "         .config(\"spark.sql.shuffle.partitions\", \"500\")\n",
    "         .config(\"spark.driver.memory\", \"60g\")\n",
    "         .config(\"spark.driver.maxResultSize\", \"8g\")\n",
    "         .getOrCreate())"
   ],
   "outputs": []
  },
  {
   "cell_type": "code",
   "execution_count": 29,
   "id": "e2184f36-a854-4ad2-86af-0bd0ab7aa2ee",
   "metadata": {},
   "source": [
    "# base_path = \"/data/saturation/thesis_run_20240130\"\n",
    "base_path = \"/data/saturation/thesis_run_shallow_slopes_20240420\"\n",
    "\n",
    "# study_region_size = 12000\n",
    "# r_stat = 3\n",
    "# study_region_padding = int(study_region_size * 0.125)\n",
    "\n",
    "study_region_size = 4000\n",
    "r_stat = 5\n",
    "study_region_padding = int(study_region_size * 0.125)"
   ],
   "outputs": []
  },
  {
   "cell_type": "code",
   "execution_count": 30,
   "id": "01165932-7dcc-4691-800c-f1e4a8701edb",
   "metadata": {},
   "source": [
    "configs_df = create_configs_df(read_configs(base_path, spark))\n",
    "configs_pd = configs_df.toPandas()"
   ],
   "outputs": []
  },
  {
   "cell_type": "code",
   "execution_count": 31,
   "id": "10c15ded-ef21-4b48-9de3-385501c47b2f",
   "metadata": {},
   "source": [
    "configs_pd[configs_pd.slope.between(1.1, 1.2)].sort_values(\"slope\")"
   ],
   "outputs": []
  },
  {
   "cell_type": "code",
   "execution_count": 32,
   "id": "01b13076-59f3-49df-91cc-c6c3d9352d9f",
   "metadata": {},
   "source": [
    "configs_dict = dict()\n",
    "for config_file in glob.glob(f\"{base_path}/config/config_*.yaml\"):\n",
    "    for run_config in read_config(Path(config_file))[\"run_configurations\"]:\n",
    "        configs_dict.update(run_config)"
   ],
   "outputs": []
  },
  {
   "cell_type": "code",
   "execution_count": null,
   "id": "c757668f-a324-4702-aa07-a17f5615b3f1",
   "metadata": {},
   "source": [],
   "outputs": []
  },
  {
   "cell_type": "markdown",
   "id": "f68b6762-2cd6-4e39-8563-2300ca40f063",
   "metadata": {},
   "source": [
    "## Example CSFD"
   ]
  },
  {
   "cell_type": "code",
   "execution_count": 10,
   "id": "c3740e6d-f13a-4c26-a7eb-d3ae2a30b146",
   "metadata": {},
   "source": [
    "# Steep slope, 2.7\n",
    "simulation_id = 6930\n",
    "target_n_craters_added_in_study_region = 3000\n",
    "est_saturation_n = 40\n",
    "\n",
    "sim_name = configs_dict[simulation_id][\"simulation_name\"]\n",
    "sim_path = f\"{base_path}/{sim_name}\"\n",
    "\n",
    "stats_df = spark.read.parquet(f\"{sim_path}/statistics_*.parquet\")\n",
    "craters_df = spark.read.parquet(f\"{sim_path}/craters_*.parquet\")\n",
    "removals_df = spark.read.parquet(f\"{sim_path}/crater_removals_*.parquet\")\n",
    "\n",
    "state = get_state_at_time(\n",
    "    stats_df,\n",
    "    craters_df,\n",
    "    removals_df,\n",
    "    simulation_id,\n",
    "    target_n_craters_added_in_study_region,\n",
    "    study_region_size,\n",
    "    study_region_padding,\n",
    "    spark\n",
    ")   \n",
    "\n",
    "estimated_slope, sigma = estimate_cumulative_slope(state.radius,\n",
    "                                                   state.radius.min(),\n",
    "                                                   est_saturation_n)\n",
    "intercept = estimate_intercept(state.radius[state.radius < est_saturation_n], estimated_slope)\n",
    "print(f\"estimated slope={estimated_slope:.3f}, sigma={sigma:.3f}\")\n",
    "plot_sfds(state, -estimated_slope, intercept=intercept)"
   ],
   "outputs": []
  },
  {
   "cell_type": "code",
   "execution_count": 12,
   "id": "fd104f27-1def-4b07-b79b-d94e913c742f",
   "metadata": {},
   "source": [
    "# Plotting just the CSFD\n",
    "radii = state.radius.sort_values()\n",
    "\n",
    "# Track min and max radii\n",
    "min_radius = radii.min()\n",
    "max_radius = radii.max()\n",
    "\n",
    "plt.plot(radii, range(len(radii) + 1, 1, -1), label=\"Observed\")\n",
    "plt.xlabel(\"$R$\")\n",
    "plt.ylabel(\"$N(\\geq R)$\")\n",
    "\n",
    "plt.subplots_adjust(right=0.7)\n",
    "plt.tight_layout(rect=[0, 0, 0.9, 1])\n",
    "\n",
    "plt.xscale('log')\n",
    "plt.yscale('log')\n",
    "plt.savefig(\"figures/example_csfd.png\")\n",
    "\n",
    "plt.show()"
   ],
   "outputs": []
  },
  {
   "cell_type": "code",
   "execution_count": null,
   "id": "d54ceed9-c4b1-40b9-be15-8ccc177e98c1",
   "metadata": {},
   "source": [],
   "outputs": []
  },
  {
   "cell_type": "code",
   "execution_count": null,
   "id": "acdaf877-5278-4bc9-8a6d-5db94406ca70",
   "metadata": {},
   "source": [],
   "outputs": []
  },
  {
   "cell_type": "markdown",
   "id": "38644542-3e14-4e2f-bcb3-dff99005b0e5",
   "metadata": {},
   "source": [
    "## Shallow slope"
   ]
  },
  {
   "cell_type": "code",
   "execution_count": 34,
   "id": "3a681715-1e35-4b6e-9516-ce25c21af304",
   "metadata": {},
   "source": [
    "# configs_pd[configs_pd.slope.between(1.0, 1.1)].sort_values(\"min_rim_percentage\")\n",
    "configs_pd"
   ],
   "outputs": []
  },
  {
   "cell_type": "code",
   "execution_count": 35,
   "id": "d3b5bcc9-04a1-4cf1-98e8-4f2954fafa5f",
   "metadata": {},
   "source": [
    "# Shallow slope, 1.065\n",
    "simulation_id = 5\n",
    "target_n_craters_added_in_study_region = [100, 500, 1000, 5000, 10000]\n",
    "est_saturation_n = 100\n",
    "\n",
    "sim_name = configs_dict[simulation_id][\"simulation_name\"]\n",
    "sim_path = f\"{base_path}/{sim_name}\"\n",
    "\n",
    "stats_df = spark.read.parquet(f\"{sim_path}/statistics_*.parquet\")\n",
    "craters_df = spark.read.parquet(f\"{sim_path}/craters_*.parquet\")\n",
    "removals_df = spark.read.parquet(f\"{sim_path}/crater_removals_*.parquet\")"
   ],
   "outputs": []
  },
  {
   "cell_type": "code",
   "execution_count": 36,
   "id": "6cefa012-47af-4e17-bbf8-a98bc5b44d52",
   "metadata": {},
   "source": [
    "target_n_craters_added_in_study_region = [100, 500, 1000, 5000, 10000]\n",
    "\n",
    "states = {\n",
    "    x: get_state_at_time(\n",
    "        stats_df,\n",
    "        craters_df,\n",
    "        removals_df,\n",
    "        simulation_id,\n",
    "        x,\n",
    "        study_region_size,\n",
    "        study_region_padding,\n",
    "        spark\n",
    "    )\n",
    "    for x in target_n_craters_added_in_study_region\n",
    "}\n",
    "fig = plot_csfds_for_multiple_n_tot(states, reference_slope=1.149, reference_intercept=7e3)\n",
    "fig.show()"
   ],
   "outputs": []
  },
  {
   "cell_type": "code",
   "execution_count": 37,
   "id": "0c3feb4c-08fd-452b-aea1-89b0f3b15f12",
   "metadata": {},
   "source": [
    "target_n_craters_added_in_study_region = [100000, 500000, 1000000, 5000000]\n",
    "states = {\n",
    "    x: get_state_at_time(\n",
    "        stats_df,\n",
    "        craters_df,\n",
    "        removals_df,\n",
    "        simulation_id,\n",
    "        x,\n",
    "        study_region_size,\n",
    "        study_region_padding,\n",
    "        spark\n",
    "    )\n",
    "    for x in target_n_craters_added_in_study_region\n",
    "}\n",
    "fig = plot_csfds_for_multiple_n_tot(states, reference_slope=1.149, reference_intercept=7e3)\n",
    "fig.show()"
   ],
   "outputs": []
  },
  {
   "cell_type": "code",
   "execution_count": 43,
   "id": "b39d524d-ad2e-41de-b9f8-805a48ba17a8",
   "metadata": {},
   "source": [
    "target_n_craters_added_in_study_region = [10000000, 25000000, 50000000]\n",
    "states = {\n",
    "    x: get_state_at_time(\n",
    "        stats_df,\n",
    "        craters_df,\n",
    "        removals_df,\n",
    "        simulation_id,\n",
    "        x,\n",
    "        study_region_size,\n",
    "        study_region_padding,\n",
    "        spark\n",
    "    )\n",
    "    for x in target_n_craters_added_in_study_region\n",
    "}\n",
    "fig = plot_csfds_for_multiple_n_tot(states, reference_slope=1.149, reference_intercept=7e3)\n",
    "fig.show()"
   ],
   "outputs": []
  },
  {
   "cell_type": "code",
   "execution_count": 44,
   "id": "c1d69f95-91ce-4702-85d0-6e1044610a74",
   "metadata": {},
   "source": [
    "target_n_craters_added_in_study_region = [20000000, 30000000, 40000000]\n",
    "states = {\n",
    "    x: get_state_at_time(\n",
    "        stats_df,\n",
    "        craters_df,\n",
    "        removals_df,\n",
    "        simulation_id,\n",
    "        x,\n",
    "        study_region_size,\n",
    "        study_region_padding,\n",
    "        spark\n",
    "    )\n",
    "    for x in target_n_craters_added_in_study_region\n",
    "}\n",
    "fig = plot_csfds_for_multiple_n_tot(states, reference_slope=1.149, reference_intercept=7e3)\n",
    "fig.show()"
   ],
   "outputs": []
  },
  {
   "cell_type": "code",
   "execution_count": null,
   "id": "f3172bce-f375-4884-aa7e-8de4e5ce068e",
   "metadata": {},
   "source": [],
   "outputs": []
  },
  {
   "cell_type": "code",
   "execution_count": 19,
   "id": "da2d1fe6-49af-46b8-9c85-b3de1c7c65aa",
   "metadata": {},
   "source": [
    "state = states[1000]\n",
    "# estimated_slope, sigma = estimate_cumulative_slope(state.radius,\n",
    "#                                                    state.radius.min(),\n",
    "#                                                    state.radius.max()) # est_saturation_n)\n",
    "# intercept = estimate_intercept(state.radius[state.radius < est_saturation_n], estimated_slope)\n",
    "\n",
    "estimated_slope, sigma = estimate_cumulative_slope(state.radius,\n",
    "                                                   r_stat,\n",
    "                                                   study_region_size // 4)\n",
    "intercept = estimate_intercept(state.radius, estimated_slope)\n",
    "\n",
    "print(f\"estimated slope={estimated_slope:.3f}, sigma={sigma:.3f}\")\n",
    "plot_csfd_with_slope(state, -estimated_slope, intercept=intercept)"
   ],
   "outputs": []
  },
  {
   "cell_type": "code",
   "execution_count": null,
   "id": "f8648621-aa15-48aa-8071-a85ce0bfd8b9",
   "metadata": {},
   "source": [],
   "outputs": []
  },
  {
   "cell_type": "code",
   "execution_count": 26,
   "id": "7893603f-7b5e-41c4-b160-57559649f727",
   "metadata": {},
   "source": [
    "min_r = 200\n",
    "max_r = 3000\n",
    "\n",
    "estimated_slope, sigma = estimate_cumulative_slope(state.radius,\n",
    "                                                   min_r,\n",
    "                                                   max_r)\n",
    "intercept = estimate_intercept(state.radius[state.radius > est_saturation_n], estimated_slope)\n",
    "print(f\"estimated slope={estimated_slope:.3f}, sigma={sigma:.3f}\")\n",
    "plot_sfds(state, -estimated_slope, intercept=intercept)"
   ],
   "outputs": []
  },
  {
   "cell_type": "code",
   "execution_count": 15,
   "id": "efc4d03f-3572-4adf-9282-4beb4e21d43a",
   "metadata": {},
   "source": [
    "state[state.radius > est_saturation_n].sort_values(\"radius\")"
   ],
   "outputs": []
  },
  {
   "cell_type": "code",
   "execution_count": 69,
   "id": "bb06acad-93f8-4b13-9677-bff9b4eb3dfd",
   "metadata": {},
   "source": [
    "state.shape"
   ],
   "outputs": []
  },
  {
   "cell_type": "code",
   "execution_count": null,
   "id": "f7343504-ada3-46bb-a693-00e13c6bd788",
   "metadata": {},
   "source": [],
   "outputs": []
  }
 ],
 "metadata": {
  "kernelspec": {
   "display_name": "Python 3 (ipykernel)",
   "language": "python",
   "name": "python3"
  },
  "language_info": {
   "codemirror_mode": {
    "name": "ipython",
    "version": 3
   },
   "file_extension": ".py",
   "mimetype": "text/x-python",
   "name": "python",
   "nbconvert_exporter": "python",
   "pygments_lexer": "ipython3",
   "version": "3.11.8"
  }
 },
 "nbformat": 4,
 "nbformat_minor": 5
}
