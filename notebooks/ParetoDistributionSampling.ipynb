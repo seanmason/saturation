{
 "cells": [
  {
   "cell_type": "markdown",
   "id": "7f085f34-50d8-4274-8865-ccf5d5b8c977",
   "metadata": {},
   "source": [
    "### Pareto Distribution Sampling\n",
    "\n",
    "PDF: $ f(x)=\\frac{\\alpha x_{min}^{\\alpha}}{x^{\\alpha+1}} $\n",
    "\n",
    "\n",
    "CDF = $F(x) = 1 - (\\frac{x_{min}}{x})^\\alpha$\n",
    "\n",
    "In the following, 100,000 uniform random numbers on [0, 1] are transformed to a Pareto with a CDF slope of 2.8. The cumulative frequency of samples X >= x is plotted on a log-log scale. A linear regression is calculated on the cumulative frequency of samples in log-log scale, and the slope of the the regression is found to match that of the CDF."
   ]
  },
  {
   "cell_type": "code",
   "execution_count": 5,
   "id": "dd61695f-1346-4bf8-91f7-fb45d0fb505c",
   "metadata": {},
   "source": [
    "import numpy as np\n",
    "import itertools\n",
    "import matplotlib.pyplot as plt\n",
    "from sklearn.linear_model import LinearRegression\n",
    "\n",
    "from saturation.distributions import *\n",
    "from saturation.simulation import *"
   ],
   "outputs": []
  },
  {
   "cell_type": "code",
   "execution_count": 6,
   "id": "ffbe2638-bf27-4f46-a279-45b698efbf2d",
   "metadata": {},
   "source": [
    "slope = 2\n",
    "dist = ParetoProbabilityDistribution(cdf_slope=slope, x_min=2.5, x_max=2500)"
   ],
   "outputs": []
  },
  {
   "cell_type": "code",
   "execution_count": 7,
   "id": "d92f12cc-88bf-44a9-b4bf-4da4b4e135c7",
   "metadata": {},
   "source": [
    "# Plot the CDF\n",
    "n_samples = 1000000\n",
    "y = np.arange(n_samples, 0, -1)\n",
    "\n",
    "urands = np.random.rand(n_samples)\n",
    "x = [x.radius for x in itertools.islice(get_craters(dist, 10000), n_samples)]\n",
    "x = sorted(x)\n",
    "\n",
    "plt.plot(x, y)\n",
    "\n",
    "# Regression line\n",
    "ln_x = np.reshape(np.log(x), newshape=(len(x), 1))\n",
    "ln_y = np.log(y)\n",
    "\n",
    "reg = LinearRegression().fit(ln_x, ln_y)\n",
    "line_y = [np.exp(reg.intercept_ + reg.coef_ * np.log(x)) for x in x]\n",
    "plt.plot(x, line_y, 'r')\n",
    "\n",
    "plt.xscale('log')\n",
    "plt.yscale('log')\n",
    "\n",
    "plt.show()"
   ],
   "outputs": []
  },
  {
   "cell_type": "code",
   "execution_count": 8,
   "id": "765c7b39-1aa2-4f07-9ce2-12338b1beb25",
   "metadata": {},
   "source": [
    "# Regression coefficient - close to the slope of the CDF = -2\n",
    "reg.coef_[0]"
   ],
   "outputs": []
  }
 ],
 "metadata": {
  "kernelspec": {
   "display_name": "Python 3 (ipykernel)",
   "language": "python",
   "name": "python3"
  },
  "language_info": {
   "codemirror_mode": {
    "name": "ipython",
    "version": 3
   },
   "file_extension": ".py",
   "mimetype": "text/x-python",
   "name": "python",
   "nbconvert_exporter": "python",
   "pygments_lexer": "ipython3",
   "version": "3.10.6"
  }
 },
 "nbformat": 4,
 "nbformat_minor": 5
}
