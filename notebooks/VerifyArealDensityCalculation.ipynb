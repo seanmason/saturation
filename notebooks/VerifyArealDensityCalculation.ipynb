{
 "cells": [
  {
   "cell_type": "code",
   "execution_count": 1,
   "id": "e466d3d9-d418-4cf2-9ae6-d72f72faaf24",
   "metadata": {},
   "outputs": [],
   "source": [
    "import numpy as np\n",
    "import io\n",
    "\n",
    "from saturation.simulation import *\n",
    "from saturation.distributions import *\n",
    "from saturation.geometry import *\n",
    "from saturation.plotting import *"
   ]
  },
  {
   "cell_type": "markdown",
   "id": "7c1285b1-39a3-4b3a-a2d7-443e3ad36e20",
   "metadata": {},
   "source": [
    "### Single Crater"
   ]
  },
  {
   "cell_type": "code",
   "execution_count": 7,
   "id": "30a9c295-da73-438a-ac18-c3f2a03ad13b",
   "metadata": {},
   "outputs": [
    {
     "data": {
      "text/plain": [
       "0.502625"
      ]
     },
     "execution_count": 7,
     "metadata": {},
     "output_type": "execute_result"
    }
   ],
   "source": [
    "scale = 1000\n",
    "margin = 0\n",
    "n_craters = 1\n",
    "craters_data = [\n",
    "    [1, 500, 500, 400],\n",
    "]\n",
    "craters = pd.DataFrame(craters_data, columns=['id', 'x', 'y', 'radius']).set_index(['id'])\n",
    "\n",
    "calculator = ArealDensityCalculator(scale, margin)\n",
    "for index in craters.index:\n",
    "    calculator.update(craters.loc[[index]], pd.DataFrame().reindex_like(craters))\n",
    "    \n",
    "calculator.get_areal_density()"
   ]
  },
  {
   "cell_type": "code",
   "execution_count": 8,
   "id": "ef6031f2-d5d6-4903-bf03-3ffe0c9769b6",
   "metadata": {},
   "outputs": [
    {
     "data": {
      "text/plain": [
       "0.503983"
      ]
     },
     "execution_count": 8,
     "metadata": {},
     "output_type": "execute_result"
    }
   ],
   "source": [
    "fig, ax = plt.subplots(figsize=(1, 1), dpi=scale)\n",
    "fig.tight_layout()\n",
    "plt.tight_layout()\n",
    "\n",
    "ax.set_frame_on(False)\n",
    "ax.axis('off')\n",
    "ax.set_xlim([margin, scale - margin])\n",
    "ax.set_ylim([margin, scale - margin])\n",
    "\n",
    "plt.subplots_adjust(left=0.0,\n",
    "                    bottom=0.0, \n",
    "                    right=1, \n",
    "                    top=1, \n",
    "                    wspace=0.0, \n",
    "                    hspace=0.0)\n",
    "\n",
    "# Plot craters\n",
    "for row in craters.loc[range(1, n_craters + 1)].itertuples():\n",
    "    plot_circle((row.x, row.y), row.radius, ax, fill=True, antialiased=False, lw=0)\n",
    "    \n",
    "buffer = io.BytesIO()\n",
    "fig.savefig(buffer, format='raw')\n",
    "plt.close()\n",
    "\n",
    "buffer.seek(0)\n",
    "img = np.reshape(np.frombuffer(buffer.getvalue(), dtype=np.uint8), newshape=(int(fig.bbox.bounds[3]), int(fig.bbox.bounds[2]), -1))\n",
    "squashed = img.sum(axis=2)\n",
    "np.where(squashed == 765, 0, 1).mean()"
   ]
  },
  {
   "cell_type": "code",
   "execution_count": 9,
   "id": "a7ad44b1-f3fc-4a1b-a7d2-1208b0d330df",
   "metadata": {},
   "outputs": [
    {
     "data": {
      "text/plain": [
       "0.5026548245743669"
      ]
     },
     "execution_count": 9,
     "metadata": {},
     "output_type": "execute_result"
    }
   ],
   "source": [
    "# Numerical comparison\n",
    "400**2 * np.pi / scale**2"
   ]
  },
  {
   "cell_type": "code",
   "execution_count": null,
   "id": "b4b4f0ec-d3ce-434c-891a-49b94059a1f0",
   "metadata": {},
   "outputs": [],
   "source": []
  },
  {
   "cell_type": "markdown",
   "id": "2907f8f6-83ac-45cf-a166-0af25c532cde",
   "metadata": {},
   "source": [
    "### With lots of craters"
   ]
  },
  {
   "cell_type": "code",
   "execution_count": 12,
   "id": "0d625a02-2d37-4ded-bead-0ed9ee6ac7b8",
   "metadata": {},
   "outputs": [
    {
     "data": {
      "text/plain": [
       "0.27960356"
      ]
     },
     "execution_count": 12,
     "metadata": {},
     "output_type": "execute_result"
    }
   ],
   "source": [
    "scale = 12500\n",
    "margin = 1250\n",
    "x_min = 100\n",
    "x_max = 1000\n",
    "n_craters = 300\n",
    "\n",
    "np.random.seed(123)\n",
    "distribution = ParetoProbabilityDistribution(cdf_slope=2, x_min=x_min, x_max=x_max)\n",
    "craters = get_craters(n_craters, distribution, scale)\n",
    "\n",
    "calculator = ArealDensityCalculator(scale, margin)\n",
    "for index in craters.index:\n",
    "    calculator.update(craters.loc[[index]], pd.DataFrame().reindex_like(craters))\n",
    "    \n",
    "calculator.get_areal_density()"
   ]
  },
  {
   "cell_type": "code",
   "execution_count": 13,
   "id": "09cccc5c-4f3d-4b57-903d-96e4b1c9c7e9",
   "metadata": {},
   "outputs": [
    {
     "data": {
      "text/plain": [
       "0.2803729792"
      ]
     },
     "execution_count": 13,
     "metadata": {},
     "output_type": "execute_result"
    }
   ],
   "source": [
    "fig, ax = plt.subplots(figsize=(1, 1), dpi=scale)\n",
    "fig.tight_layout()\n",
    "plt.tight_layout()\n",
    "\n",
    "ax.set_frame_on(False)\n",
    "ax.axis('off')\n",
    "ax.set_xlim([margin, scale - margin])\n",
    "ax.set_ylim([margin, scale - margin])\n",
    "\n",
    "plt.subplots_adjust(left=0.0,\n",
    "                    bottom=0.0, \n",
    "                    right=1, \n",
    "                    top=1, \n",
    "                    wspace=0.0, \n",
    "                    hspace=0.0)\n",
    "\n",
    "# Plot craters\n",
    "for row in craters.loc[range(1, n_craters + 1)].itertuples():\n",
    "    plot_circle((row.x, row.y), row.radius, ax, fill=True, antialiased=False, lw=0)\n",
    "    \n",
    "buffer = io.BytesIO()\n",
    "fig.savefig(buffer, format='raw')\n",
    "plt.close()\n",
    "\n",
    "buffer.seek(0)\n",
    "img = np.reshape(np.frombuffer(buffer.getvalue(), dtype=np.uint8), newshape=(int(fig.bbox.bounds[3]), int(fig.bbox.bounds[2]), -1))\n",
    "squashed = img.sum(axis=2)\n",
    "np.where(squashed == 765, 0, 1).mean()"
   ]
  },
  {
   "cell_type": "code",
   "execution_count": null,
   "id": "5b634782-b162-4a18-b434-2f5e6e15fcee",
   "metadata": {},
   "outputs": [],
   "source": []
  },
  {
   "cell_type": "code",
   "execution_count": null,
   "id": "08e20465-0e55-4436-a95c-717f982042c8",
   "metadata": {},
   "outputs": [],
   "source": []
  },
  {
   "cell_type": "code",
   "execution_count": null,
   "id": "5d0c464c-2827-426c-99ab-ed27313b4457",
   "metadata": {},
   "outputs": [],
   "source": []
  }
 ],
 "metadata": {
  "kernelspec": {
   "display_name": "Python 3 (ipykernel)",
   "language": "python",
   "name": "python3"
  },
  "language_info": {
   "codemirror_mode": {
    "name": "ipython",
    "version": 3
   },
   "file_extension": ".py",
   "mimetype": "text/x-python",
   "name": "python",
   "nbconvert_exporter": "python",
   "pygments_lexer": "ipython3",
   "version": "3.10.4"
  }
 },
 "nbformat": 4,
 "nbformat_minor": 5
}
