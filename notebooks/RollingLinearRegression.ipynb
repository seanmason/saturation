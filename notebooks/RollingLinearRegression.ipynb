{
 "cells": [
  {
   "cell_type": "markdown",
   "id": "c220cd3a-6142-4f7f-9127-4edaab707a40",
   "metadata": {},
   "source": [
    "### Loading a single simulation"
   ]
  },
  {
   "cell_type": "code",
   "execution_count": 40,
   "id": "31f52f79-6949-4edd-826b-fa595b6cb5ef",
   "metadata": {},
   "outputs": [],
   "source": [
    "import pandas as pd\n",
    "from pathlib import Path\n",
    "import glob\n",
    "import yaml\n",
    "import math\n",
    "from typing import List, Tuple, Dict\n",
    "\n",
    "import numpy as np\n",
    "import matplotlib\n",
    "import matplotlib.pyplot as plt\n",
    "import scipy.stats as stats\n",
    "\n",
    "import warnings\n",
    "warnings.filterwarnings('ignore')"
   ]
  },
  {
   "cell_type": "code",
   "execution_count": 16,
   "id": "be1fd571-707f-4007-a3f7-ca4e871eb7c9",
   "metadata": {},
   "outputs": [],
   "source": [
    "def read_config(path: Path) -> Dict:\n",
    "    with path.open(\"r\") as config_file:\n",
    "        config = yaml.safe_load(config_file)\n",
    "    return config\n",
    "\n",
    "def normalize_config_output_path(config: Dict) -> Dict:\n",
    "    config[\"output_path\"] = Path(config[\"output_path\"])\n",
    "    return config\n",
    "\n",
    "def read_simulation_statistics(config: Dict):\n",
    "    fields_to_add_from_config = [\n",
    "        \"slope\",\n",
    "        \"effective_radius_multiplier\",\n",
    "        \"r_stat_multiplier\",\n",
    "        \"min_rim_percentage\"\n",
    "    ]\n",
    "    \n",
    "    # Read all statistics parquet files\n",
    "    filenames = config[\"output_path\"].glob(\"statistics*.parquet\")\n",
    "    \n",
    "    dataframes = []\n",
    "    for filename in filenames:\n",
    "        df = pd.read_parquet(filename)\n",
    "        dataframes.append(df)\n",
    "    df = pd.concat(dataframes)\n",
    "    df = df.sort_values(by=[\"crater_id\"]).reset_index(drop=True)\n",
    "    \n",
    "    return df"
   ]
  },
  {
   "cell_type": "code",
   "execution_count": 236,
   "id": "b1ddd846-74da-4401-ac19-26015f8e359c",
   "metadata": {},
   "outputs": [],
   "source": [
    "base_path = \"/data/saturation/central_composite_design/ccd4\""
   ]
  },
  {
   "cell_type": "code",
   "execution_count": 237,
   "id": "daaa36fa-b357-476b-b143-b7c3fe42bb6b",
   "metadata": {},
   "outputs": [],
   "source": [
    "completed_filenames = list(Path(base_path).glob(\"*/*/completed.txt\"))\n",
    "configs = map(lambda x: x.parent / \"config.yaml\", completed_filenames)\n",
    "configs = map(read_config, configs)\n",
    "configs = list(map(normalize_config_output_path, configs))"
   ]
  },
  {
   "cell_type": "code",
   "execution_count": 238,
   "id": "068abdc9-89b2-41f2-a8bf-e9749e5a5444",
   "metadata": {},
   "outputs": [
    {
     "data": {
      "text/plain": [
       "[(79, 'central_composite_design_point_1.091_0.500_8.996_2.997_1'),\n",
       " (12, 'central_composite_design_point_1.093_0.500_9.020_2.042_1'),\n",
       " (29, 'central_composite_design_point_1.095_0.495_6.023_2.044_1'),\n",
       " (163, 'central_composite_design_point_1.096_0.503_3.002_2.041_1'),\n",
       " (111, 'central_composite_design_point_1.097_0.500_6.040_2.990_1'),\n",
       " (108, 'central_composite_design_point_1.097_0.500_9.009_2.994_1'),\n",
       " (205, 'central_composite_design_point_1.098_0.495_3.006_2.054_1'),\n",
       " (171, 'central_composite_design_point_1.098_0.500_6.030_2.059_1'),\n",
       " (170, 'central_composite_design_point_1.098_0.500_8.995_1.100_1'),\n",
       " (159, 'central_composite_design_point_1.099_0.497_2.974_3.002_1'),\n",
       " (229, 'central_composite_design_point_1.099_0.504_9.013_3.005_1'),\n",
       " (2, 'central_composite_design_point_1.100_0.499_5.959_3.009_1'),\n",
       " (160, 'central_composite_design_point_1.100_0.501_8.949_1.094_1'),\n",
       " (204, 'central_composite_design_point_1.101_0.498_3.021_1.100_1'),\n",
       " (57, 'central_composite_design_point_1.101_0.498_5.940_2.999_1'),\n",
       " (208, 'central_composite_design_point_1.101_0.498_5.944_1.087_1'),\n",
       " (19, 'central_composite_design_point_1.101_0.501_6.004_1.098_1'),\n",
       " (186, 'central_composite_design_point_1.101_0.502_8.964_2.043_1'),\n",
       " (107, 'central_composite_design_point_1.101_0.504_8.995_2.047_1'),\n",
       " (18, 'central_composite_design_point_1.102_0.499_2.948_1.092_1'),\n",
       " (217, 'central_composite_design_point_1.102_0.505_3.000_1.103_1'),\n",
       " (157, 'central_composite_design_point_1.103_0.499_3.020_2.046_1'),\n",
       " (119, 'central_composite_design_point_1.104_0.497_2.997_3.000_1'),\n",
       " (92, 'central_composite_design_point_1.104_0.501_3.009_2.993_1'),\n",
       " (139, 'central_composite_design_point_1.106_0.501_5.994_1.105_1'),\n",
       " (105, 'central_composite_design_point_1.106_0.501_6.018_2.059_1'),\n",
       " (67, 'central_composite_design_point_1.112_0.500_9.003_1.106_1'),\n",
       " (200, 'central_composite_design_point_1.495_0.498_9.013_1.112_1'),\n",
       " (116, 'central_composite_design_point_1.495_0.502_8.958_2.044_1'),\n",
       " (91, 'central_composite_design_point_1.496_0.497_2.970_2.058_1'),\n",
       " (35, 'central_composite_design_point_1.496_0.497_3.067_1.109_1'),\n",
       " (164, 'central_composite_design_point_1.496_0.501_3.011_2.045_1'),\n",
       " (226, 'central_composite_design_point_1.496_0.503_5.973_1.106_1'),\n",
       " (9, 'central_composite_design_point_1.497_0.497_8.982_1.113_1'),\n",
       " (236, 'central_composite_design_point_1.498_0.498_8.989_2.994_1'),\n",
       " (90, 'central_composite_design_point_1.498_0.501_6.038_2.987_1'),\n",
       " (124, 'central_composite_design_point_1.498_0.503_3.023_2.998_1'),\n",
       " (131, 'central_composite_design_point_1.499_0.497_5.983_2.071_1'),\n",
       " (220, 'central_composite_design_point_1.499_0.502_6.049_2.987_1'),\n",
       " (178, 'central_composite_design_point_1.499_0.502_8.979_3.004_1'),\n",
       " (72, 'central_composite_design_point_1.499_0.503_5.984_1.105_1')]"
      ]
     },
     "execution_count": 238,
     "metadata": {},
     "output_type": "execute_result"
    }
   ],
   "source": [
    "# Take a look at configs\n",
    "# [(index, x[\"simulation_name\"]) for index, x in enumerate(configs) if x[\"min_rim_percentage\"] > 0.6 and x[\"effective_radius_multiplier\"] > 1.8]\n",
    "sorted([(index, x[\"simulation_name\"]) for index, x in enumerate(configs) if x[\"min_rim_percentage\"] > 0.45 and x[\"min_rim_percentage\"] < 0.55 and x[\"effective_radius_multiplier\"] < 1.5], key=lambda x: x[1])"
   ]
  },
  {
   "cell_type": "code",
   "execution_count": 239,
   "id": "839ea7d7-be7b-489b-96af-f729adb8524e",
   "metadata": {},
   "outputs": [],
   "source": [
    "# config = configs[50] # Slope ~3, r_stat ~3, min_rim ~0.5, eff ~1.9\n",
    "#config = configs[92] # High destruction plus slope ~3\n",
    "# config = configs[212] # Center point\n",
    "config = configs[198] # Trickier example for threshold: Low destruction: min_rim ~0.5, eff ~1.1, r_stat ~3, slope ~2\n",
    "slope = config[\"slope\"]\n",
    "r_min = config[\"min_crater_radius\"]\n",
    "study_region_size = config[\"study_region_size\"]\n",
    "window_size = 2500\n",
    "\n",
    "df = read_simulation_statistics(config)"
   ]
  },
  {
   "cell_type": "code",
   "execution_count": 240,
   "id": "607f17cc-d8b5-4a63-8b67-455fbc16474f",
   "metadata": {},
   "outputs": [
    {
     "data": {
      "text/plain": [
       "{'effective_radius_multiplier': 1.4994452682189006,\n",
       " 'max_crater_radius': 2500,\n",
       " 'min_crater_radius': 10,\n",
       " 'min_rim_percentage': 0.6989439188982363,\n",
       " 'output_path': PosixPath('/data/saturation/central_composite_design/ccd4/central_composite_design_point_1.499_0.699_2.998_2.995/1'),\n",
       " 'r_stat_multiplier': 2.998176176819651,\n",
       " 'simulation_id': 1,\n",
       " 'simulation_name': 'central_composite_design_point_1.499_0.699_2.998_2.995_1',\n",
       " 'slope': 2.994753596977993,\n",
       " 'spatial_hash_cell_size': 50,\n",
       " 'stop_condition': {'name': 'areal_density', 'percentage_increase': 0.01},\n",
       " 'study_region_padding': 1250,\n",
       " 'study_region_size': 10000,\n",
       " 'write_image_cadence': 0,\n",
       " 'write_state_cadence': 0,\n",
       " 'write_statistics_cadence': 100000}"
      ]
     },
     "execution_count": 240,
     "metadata": {},
     "output_type": "execute_result"
    }
   ],
   "source": [
    "config"
   ]
  },
  {
   "cell_type": "code",
   "execution_count": 241,
   "id": "41de3f06-cf9f-4014-822f-860eadb913f9",
   "metadata": {},
   "outputs": [
    {
     "data": {
      "text/plain": [
       "2.994753596977993"
      ]
     },
     "execution_count": 241,
     "metadata": {},
     "output_type": "execute_result"
    }
   ],
   "source": [
    "slope"
   ]
  },
  {
   "cell_type": "code",
   "execution_count": 242,
   "id": "accd1d28-ca4a-4b00-b694-0afa9d0a691f",
   "metadata": {},
   "outputs": [
    {
     "data": {
      "image/png": "[encoded data removed]",
      "text/plain": [
       "<Figure size 432x288 with 1 Axes>"
      ]
     },
     "metadata": {
      "needs_background": "light"
     },
     "output_type": "display_data"
    }
   ],
   "source": [
    "metric = \"areal_density\"\n",
    "\n",
    "plt.plot(df.n_craters_added_in_study_region, df[metric])\n",
    "plt.xlabel(\"Craters Generated\")\n",
    "plt.ylabel(metric)\n",
    "plt.show()"
   ]
  },
  {
   "cell_type": "code",
   "execution_count": 243,
   "id": "283c6ff3-fb25-47b6-9170-96772338d8f3",
   "metadata": {},
   "outputs": [
    {
     "data": {
      "text/plain": [
       "Index(['crater_id', 'n_craters_added_in_study_region',\n",
       "       'n_craters_in_study_region', 'areal_density', 'z', 'za'],\n",
       "      dtype='object')"
      ]
     },
     "execution_count": 243,
     "metadata": {},
     "output_type": "execute_result"
    }
   ],
   "source": [
    "df.columns"
   ]
  },
  {
   "cell_type": "code",
   "execution_count": 244,
   "id": "a5fb8168-cf3b-41fb-8e56-132d86e63634",
   "metadata": {},
   "outputs": [
    {
     "data": {
      "image/png": "[encoded data removed]",
      "text/plain": [
       "<Figure size 432x288 with 1 Axes>"
      ]
     },
     "metadata": {
      "needs_background": "light"
     },
     "output_type": "display_data"
    }
   ],
   "source": [
    "metric = \"za\"\n",
    "\n",
    "plt.plot(df.n_craters_added_in_study_region, df[metric])\n",
    "plt.xlabel(\"Craters Generated\")\n",
    "plt.ylabel(metric)\n",
    "plt.show()"
   ]
  },
  {
   "cell_type": "code",
   "execution_count": 245,
   "id": "68aefa63-d91d-41f6-85c1-8c4e055e29f0",
   "metadata": {},
   "outputs": [
    {
     "data": {
      "image/png": "[encoded data removed]",
      "text/plain": [
       "<Figure size 432x288 with 1 Axes>"
      ]
     },
     "metadata": {
      "needs_background": "light"
     },
     "output_type": "display_data"
    }
   ],
   "source": [
    "# Overall\n",
    "metric = \"za\"\n",
    "\n",
    "plt.hist(df[metric])\n",
    "plt.show()"
   ]
  },
  {
   "cell_type": "code",
   "execution_count": 246,
   "id": "62275e84-2894-469f-ac44-e2d4cfebe7ad",
   "metadata": {},
   "outputs": [
    {
     "data": {
      "image/png": "[encoded data removed]",
      "text/plain": [
       "<Figure size 432x288 with 1 Axes>"
      ]
     },
     "metadata": {
      "needs_background": "light"
     },
     "output_type": "display_data"
    }
   ],
   "source": [
    "# Late\n",
    "metric = \"za\"\n",
    "\n",
    "plt.hist(df.iloc[-50000:][metric])\n",
    "plt.show()"
   ]
  },
  {
   "cell_type": "code",
   "execution_count": 247,
   "id": "18ad905e-8ebb-4998-b879-8e6a10172f71",
   "metadata": {},
   "outputs": [
    {
     "data": {
      "image/png": "[encoded data removed]",
      "text/plain": [
       "<Figure size 432x288 with 1 Axes>"
      ]
     },
     "metadata": {
      "needs_background": "light"
     },
     "output_type": "display_data"
    }
   ],
   "source": [
    "# Early\n",
    "metric = \"za\"\n",
    "\n",
    "plt.hist(df.iloc[:20000][metric])\n",
    "plt.show()"
   ]
  },
  {
   "cell_type": "code",
   "execution_count": null,
   "id": "dfcb4448-f834-4b6d-bafb-10ad4054c6de",
   "metadata": {},
   "outputs": [],
   "source": []
  },
  {
   "cell_type": "code",
   "execution_count": 248,
   "id": "aecec808-ad4a-4f36-be36-2eb9246381df",
   "metadata": {},
   "outputs": [
    {
     "data": {
      "text/plain": [
       "7.080982961519473e-06"
      ]
     },
     "execution_count": 248,
     "metadata": {},
     "output_type": "execute_result"
    }
   ],
   "source": [
    "# Calculate the expected increase in areal density if a new crater forms without removals or overlap\n",
    "expected_mean_r = (slope * r_min) / (slope - 1)\n",
    "expected_increase = expected_mean_r**2 * math.pi / study_region_size**2\n",
    "expected_increase"
   ]
  },
  {
   "cell_type": "code",
   "execution_count": 220,
   "id": "f69e1b82-e3b3-4b0a-bb3b-0f013d0e38ed",
   "metadata": {},
   "outputs": [],
   "source": [
    "import statsmodels.api as sm\n",
    "from statsmodels.regression.rolling import RollingOLS\n",
    "\n",
    "y = df[metric]\n",
    "X = sm.add_constant(df.n_craters_added_in_study_region)\n",
    "\n",
    "rols = RollingOLS(y, X, window=window_size, min_nobs=window_size)\n",
    "rres = rols.fit()\n",
    "\n",
    "params = rres.params.copy()\n",
    "params.index = np.arange(1, params.shape[0] + 1)"
   ]
  },
  {
   "cell_type": "code",
   "execution_count": 221,
   "id": "9a546538-dfb2-494e-a04d-31fbbc605604",
   "metadata": {},
   "outputs": [],
   "source": [
    "cis = rres.conf_int()[\"n_craters_added_in_study_region\"]"
   ]
  },
  {
   "cell_type": "code",
   "execution_count": 222,
   "id": "ece5e364-7ba0-4a2d-8674-cd299755237d",
   "metadata": {},
   "outputs": [
    {
     "data": {
      "text/plain": [
       "21171"
      ]
     },
     "execution_count": 222,
     "metadata": {},
     "output_type": "execute_result"
    }
   ],
   "source": [
    "factor = .01\n",
    "threshold_increase = factor * expected_increase\n",
    "\n",
    "saturation_point = cis[(cis.lower < threshold_increase) & (cis.upper > threshold_increase)].index[0]\n",
    "saturation_point"
   ]
  },
  {
   "cell_type": "code",
   "execution_count": 223,
   "id": "51314e40-af74-46a1-b2cf-e2ead3160f17",
   "metadata": {},
   "outputs": [
    {
     "data": {
      "text/html": [
       "<table class=\"simpletable\">\n",
       "<caption>OLS Regression Results</caption>\n",
       "<tr>\n",
       "  <th>Dep. Variable:</th>      <td>areal_density</td>  <th>  R-squared:         </th>  <td>   0.670</td> \n",
       "</tr>\n",
       "<tr>\n",
       "  <th>Model:</th>                   <td>OLS</td>       <th>  Adj. R-squared:    </th>  <td>   0.670</td> \n",
       "</tr>\n",
       "<tr>\n",
       "  <th>Method:</th>             <td>Least Squares</td>  <th>  F-statistic:       </th>  <td>   5077.</td> \n",
       "</tr>\n",
       "<tr>\n",
       "  <th>Date:</th>             <td>Sat, 21 Jan 2023</td> <th>  Prob (F-statistic):</th>   <td>  0.00</td>  \n",
       "</tr>\n",
       "<tr>\n",
       "  <th>Time:</th>                 <td>13:41:00</td>     <th>  Log-Likelihood:    </th>  <td>  8431.8</td> \n",
       "</tr>\n",
       "<tr>\n",
       "  <th>No. Observations:</th>      <td>  2500</td>      <th>  AIC:               </th> <td>-1.686e+04</td>\n",
       "</tr>\n",
       "<tr>\n",
       "  <th>Df Residuals:</th>          <td>  2498</td>      <th>  BIC:               </th> <td>-1.685e+04</td>\n",
       "</tr>\n",
       "<tr>\n",
       "  <th>Df Model:</th>              <td>     1</td>      <th>                     </th>      <td> </td>    \n",
       "</tr>\n",
       "<tr>\n",
       "  <th>Covariance Type:</th>      <td>nonrobust</td>    <th>                     </th>      <td> </td>    \n",
       "</tr>\n",
       "</table>\n",
       "<table class=\"simpletable\">\n",
       "<tr>\n",
       "                 <td></td>                    <th>coef</th>     <th>std err</th>      <th>t</th>      <th>P>|t|</th>  <th>[0.025</th>    <th>0.975]</th>  \n",
       "</tr>\n",
       "<tr>\n",
       "  <th>const</th>                           <td>    0.0993</td> <td>    0.005</td> <td>   19.234</td> <td> 0.000</td> <td>    0.089</td> <td>    0.109</td>\n",
       "</tr>\n",
       "<tr>\n",
       "  <th>n_craters_added_in_study_region</th> <td> 1.639e-05</td> <td>  2.3e-07</td> <td>   71.255</td> <td> 0.000</td> <td> 1.59e-05</td> <td> 1.68e-05</td>\n",
       "</tr>\n",
       "</table>\n",
       "<table class=\"simpletable\">\n",
       "<tr>\n",
       "  <th>Omnibus:</th>       <td>106.476</td> <th>  Durbin-Watson:     </th> <td>   0.006</td>\n",
       "</tr>\n",
       "<tr>\n",
       "  <th>Prob(Omnibus):</th> <td> 0.000</td>  <th>  Jarque-Bera (JB):  </th> <td>  60.049</td>\n",
       "</tr>\n",
       "<tr>\n",
       "  <th>Skew:</th>          <td> 0.222</td>  <th>  Prob(JB):          </th> <td>9.13e-14</td>\n",
       "</tr>\n",
       "<tr>\n",
       "  <th>Kurtosis:</th>      <td> 2.384</td>  <th>  Cond. No.          </th> <td>6.97e+05</td>\n",
       "</tr>\n",
       "</table><br/><br/>Notes:<br/>[1] Standard Errors assume that the covariance matrix of the errors is correctly specified.<br/>[2] The condition number is large, 6.97e+05. This might indicate that there are<br/>strong multicollinearity or other numerical problems."
      ],
      "text/plain": [
       "<class 'statsmodels.iolib.summary.Summary'>\n",
       "\"\"\"\n",
       "                            OLS Regression Results                            \n",
       "==============================================================================\n",
       "Dep. Variable:          areal_density   R-squared:                       0.670\n",
       "Model:                            OLS   Adj. R-squared:                  0.670\n",
       "Method:                 Least Squares   F-statistic:                     5077.\n",
       "Date:                Sat, 21 Jan 2023   Prob (F-statistic):               0.00\n",
       "Time:                        13:41:00   Log-Likelihood:                 8431.8\n",
       "No. Observations:                2500   AIC:                        -1.686e+04\n",
       "Df Residuals:                    2498   BIC:                        -1.685e+04\n",
       "Df Model:                           1                                         \n",
       "Covariance Type:            nonrobust                                         \n",
       "===================================================================================================\n",
       "                                      coef    std err          t      P>|t|      [0.025      0.975]\n",
       "---------------------------------------------------------------------------------------------------\n",
       "const                               0.0993      0.005     19.234      0.000       0.089       0.109\n",
       "n_craters_added_in_study_region  1.639e-05    2.3e-07     71.255      0.000    1.59e-05    1.68e-05\n",
       "==============================================================================\n",
       "Omnibus:                      106.476   Durbin-Watson:                   0.006\n",
       "Prob(Omnibus):                  0.000   Jarque-Bera (JB):               60.049\n",
       "Skew:                           0.222   Prob(JB):                     9.13e-14\n",
       "Kurtosis:                       2.384   Cond. No.                     6.97e+05\n",
       "==============================================================================\n",
       "\n",
       "Notes:\n",
       "[1] Standard Errors assume that the covariance matrix of the errors is correctly specified.\n",
       "[2] The condition number is large, 6.97e+05. This might indicate that there are\n",
       "strong multicollinearity or other numerical problems.\n",
       "\"\"\""
      ]
     },
     "execution_count": 223,
     "metadata": {},
     "output_type": "execute_result"
    }
   ],
   "source": [
    "# Let's take a look at the regression at this saturation point\n",
    "subset = df.iloc[saturation_point:saturation_point + window_size]\n",
    "model = sm.OLS(subset[metric], sm.add_constant(subset.n_craters_added_in_study_region))\n",
    "result = model.fit()\n",
    "result.summary()"
   ]
  },
  {
   "cell_type": "code",
   "execution_count": 224,
   "id": "33defdb3-a8f9-404e-a2fa-fd4246a9660c",
   "metadata": {},
   "outputs": [
    {
     "data": {
      "text/html": [
       "<table class=\"simpletable\">\n",
       "<caption>OLS Regression Results</caption>\n",
       "<tr>\n",
       "  <th>Dep. Variable:</th>      <td>areal_density</td>  <th>  R-squared:         </th>  <td>   0.161</td> \n",
       "</tr>\n",
       "<tr>\n",
       "  <th>Model:</th>                   <td>OLS</td>       <th>  Adj. R-squared:    </th>  <td>   0.161</td> \n",
       "</tr>\n",
       "<tr>\n",
       "  <th>Method:</th>             <td>Least Squares</td>  <th>  F-statistic:       </th>  <td>   9617.</td> \n",
       "</tr>\n",
       "<tr>\n",
       "  <th>Date:</th>             <td>Sat, 21 Jan 2023</td> <th>  Prob (F-statistic):</th>   <td>  0.00</td>  \n",
       "</tr>\n",
       "<tr>\n",
       "  <th>Time:</th>                 <td>13:41:00</td>     <th>  Log-Likelihood:    </th> <td>1.6202e+05</td>\n",
       "</tr>\n",
       "<tr>\n",
       "  <th>No. Observations:</th>      <td> 50000</td>      <th>  AIC:               </th> <td>-3.240e+05</td>\n",
       "</tr>\n",
       "<tr>\n",
       "  <th>Df Residuals:</th>          <td> 49998</td>      <th>  BIC:               </th> <td>-3.240e+05</td>\n",
       "</tr>\n",
       "<tr>\n",
       "  <th>Df Model:</th>              <td>     1</td>      <th>                     </th>      <td> </td>    \n",
       "</tr>\n",
       "<tr>\n",
       "  <th>Covariance Type:</th>      <td>nonrobust</td>    <th>                     </th>      <td> </td>    \n",
       "</tr>\n",
       "</table>\n",
       "<table class=\"simpletable\">\n",
       "<tr>\n",
       "                 <td></td>                    <th>coef</th>     <th>std err</th>      <th>t</th>      <th>P>|t|</th>  <th>[0.025</th>    <th>0.975]</th>  \n",
       "</tr>\n",
       "<tr>\n",
       "  <th>const</th>                           <td>    0.6331</td> <td>    0.000</td> <td> 1714.170</td> <td> 0.000</td> <td>    0.632</td> <td>    0.634</td>\n",
       "</tr>\n",
       "<tr>\n",
       "  <th>n_craters_added_in_study_region</th> <td>-2.879e-07</td> <td> 2.94e-09</td> <td>  -98.066</td> <td> 0.000</td> <td>-2.94e-07</td> <td>-2.82e-07</td>\n",
       "</tr>\n",
       "</table>\n",
       "<table class=\"simpletable\">\n",
       "<tr>\n",
       "  <th>Omnibus:</th>       <td>16292.068</td> <th>  Durbin-Watson:     </th> <td>   0.001</td>\n",
       "</tr>\n",
       "<tr>\n",
       "  <th>Prob(Omnibus):</th>  <td> 0.000</td>   <th>  Jarque-Bera (JB):  </th> <td>2353.252</td>\n",
       "</tr>\n",
       "<tr>\n",
       "  <th>Skew:</th>           <td> 0.023</td>   <th>  Prob(JB):          </th> <td>    0.00</td>\n",
       "</tr>\n",
       "<tr>\n",
       "  <th>Kurtosis:</th>       <td> 1.938</td>   <th>  Cond. No.          </th> <td>1.10e+06</td>\n",
       "</tr>\n",
       "</table><br/><br/>Notes:<br/>[1] Standard Errors assume that the covariance matrix of the errors is correctly specified.<br/>[2] The condition number is large, 1.1e+06. This might indicate that there are<br/>strong multicollinearity or other numerical problems."
      ],
      "text/plain": [
       "<class 'statsmodels.iolib.summary.Summary'>\n",
       "\"\"\"\n",
       "                            OLS Regression Results                            \n",
       "==============================================================================\n",
       "Dep. Variable:          areal_density   R-squared:                       0.161\n",
       "Model:                            OLS   Adj. R-squared:                  0.161\n",
       "Method:                 Least Squares   F-statistic:                     9617.\n",
       "Date:                Sat, 21 Jan 2023   Prob (F-statistic):               0.00\n",
       "Time:                        13:41:00   Log-Likelihood:             1.6202e+05\n",
       "No. Observations:               50000   AIC:                        -3.240e+05\n",
       "Df Residuals:                   49998   BIC:                        -3.240e+05\n",
       "Df Model:                           1                                         \n",
       "Covariance Type:            nonrobust                                         \n",
       "===================================================================================================\n",
       "                                      coef    std err          t      P>|t|      [0.025      0.975]\n",
       "---------------------------------------------------------------------------------------------------\n",
       "const                               0.6331      0.000   1714.170      0.000       0.632       0.634\n",
       "n_craters_added_in_study_region -2.879e-07   2.94e-09    -98.066      0.000   -2.94e-07   -2.82e-07\n",
       "==============================================================================\n",
       "Omnibus:                    16292.068   Durbin-Watson:                   0.001\n",
       "Prob(Omnibus):                  0.000   Jarque-Bera (JB):             2353.252\n",
       "Skew:                           0.023   Prob(JB):                         0.00\n",
       "Kurtosis:                       1.938   Cond. No.                     1.10e+06\n",
       "==============================================================================\n",
       "\n",
       "Notes:\n",
       "[1] Standard Errors assume that the covariance matrix of the errors is correctly specified.\n",
       "[2] The condition number is large, 1.1e+06. This might indicate that there are\n",
       "strong multicollinearity or other numerical problems.\n",
       "\"\"\""
      ]
     },
     "execution_count": 224,
     "metadata": {},
     "output_type": "execute_result"
    }
   ],
   "source": [
    "# Regression deeper into the simulation\n",
    "# Coefficient for n_craters is very small and negative\n",
    "subset = df.iloc[-150000:-100000]\n",
    "model = sm.OLS(subset[metric], sm.add_constant(subset.n_craters_added_in_study_region))\n",
    "result = model.fit()\n",
    "result.summary()"
   ]
  },
  {
   "cell_type": "code",
   "execution_count": 225,
   "id": "bc89b817-8cf9-48bd-aa32-5134118c39bf",
   "metadata": {},
   "outputs": [
    {
     "data": {
      "text/html": [
       "<table class=\"simpletable\">\n",
       "<caption>OLS Regression Results</caption>\n",
       "<tr>\n",
       "  <th>Dep. Variable:</th>      <td>areal_density</td>  <th>  R-squared:         </th>  <td>   0.407</td> \n",
       "</tr>\n",
       "<tr>\n",
       "  <th>Model:</th>                   <td>OLS</td>       <th>  Adj. R-squared:    </th>  <td>   0.407</td> \n",
       "</tr>\n",
       "<tr>\n",
       "  <th>Method:</th>             <td>Least Squares</td>  <th>  F-statistic:       </th>  <td>3.430e+04</td>\n",
       "</tr>\n",
       "<tr>\n",
       "  <th>Date:</th>             <td>Sat, 21 Jan 2023</td> <th>  Prob (F-statistic):</th>   <td>  0.00</td>  \n",
       "</tr>\n",
       "<tr>\n",
       "  <th>Time:</th>                 <td>13:41:00</td>     <th>  Log-Likelihood:    </th> <td>1.1633e+05</td>\n",
       "</tr>\n",
       "<tr>\n",
       "  <th>No. Observations:</th>      <td> 50000</td>      <th>  AIC:               </th> <td>-2.326e+05</td>\n",
       "</tr>\n",
       "<tr>\n",
       "  <th>Df Residuals:</th>          <td> 49998</td>      <th>  BIC:               </th> <td>-2.326e+05</td>\n",
       "</tr>\n",
       "<tr>\n",
       "  <th>Df Model:</th>              <td>     1</td>      <th>                     </th>      <td> </td>    \n",
       "</tr>\n",
       "<tr>\n",
       "  <th>Covariance Type:</th>      <td>nonrobust</td>    <th>                     </th>      <td> </td>    \n",
       "</tr>\n",
       "</table>\n",
       "<table class=\"simpletable\">\n",
       "<tr>\n",
       "                 <td></td>                    <th>coef</th>     <th>std err</th>      <th>t</th>      <th>P>|t|</th>  <th>[0.025</th>    <th>0.975]</th>  \n",
       "</tr>\n",
       "<tr>\n",
       "  <th>const</th>                           <td>    0.9068</td> <td>    0.002</td> <td>  549.420</td> <td> 0.000</td> <td>    0.904</td> <td>    0.910</td>\n",
       "</tr>\n",
       "<tr>\n",
       "  <th>n_craters_added_in_study_region</th> <td>-1.356e-06</td> <td> 7.32e-09</td> <td> -185.190</td> <td> 0.000</td> <td>-1.37e-06</td> <td>-1.34e-06</td>\n",
       "</tr>\n",
       "</table>\n",
       "<table class=\"simpletable\">\n",
       "<tr>\n",
       "  <th>Omnibus:</th>       <td>2034.286</td> <th>  Durbin-Watson:     </th> <td>   0.001</td>\n",
       "</tr>\n",
       "<tr>\n",
       "  <th>Prob(Omnibus):</th>  <td> 0.000</td>  <th>  Jarque-Bera (JB):  </th> <td>2315.903</td>\n",
       "</tr>\n",
       "<tr>\n",
       "  <th>Skew:</th>           <td> 0.497</td>  <th>  Prob(JB):          </th> <td>    0.00</td>\n",
       "</tr>\n",
       "<tr>\n",
       "  <th>Kurtosis:</th>       <td> 3.350</td>  <th>  Cond. No.          </th> <td>3.52e+06</td>\n",
       "</tr>\n",
       "</table><br/><br/>Notes:<br/>[1] Standard Errors assume that the covariance matrix of the errors is correctly specified.<br/>[2] The condition number is large, 3.52e+06. This might indicate that there are<br/>strong multicollinearity or other numerical problems."
      ],
      "text/plain": [
       "<class 'statsmodels.iolib.summary.Summary'>\n",
       "\"\"\"\n",
       "                            OLS Regression Results                            \n",
       "==============================================================================\n",
       "Dep. Variable:          areal_density   R-squared:                       0.407\n",
       "Model:                            OLS   Adj. R-squared:                  0.407\n",
       "Method:                 Least Squares   F-statistic:                 3.430e+04\n",
       "Date:                Sat, 21 Jan 2023   Prob (F-statistic):               0.00\n",
       "Time:                        13:41:00   Log-Likelihood:             1.1633e+05\n",
       "No. Observations:               50000   AIC:                        -2.326e+05\n",
       "Df Residuals:                   49998   BIC:                        -2.326e+05\n",
       "Df Model:                           1                                         \n",
       "Covariance Type:            nonrobust                                         \n",
       "===================================================================================================\n",
       "                                      coef    std err          t      P>|t|      [0.025      0.975]\n",
       "---------------------------------------------------------------------------------------------------\n",
       "const                               0.9068      0.002    549.420      0.000       0.904       0.910\n",
       "n_craters_added_in_study_region -1.356e-06   7.32e-09   -185.190      0.000   -1.37e-06   -1.34e-06\n",
       "==============================================================================\n",
       "Omnibus:                     2034.286   Durbin-Watson:                   0.001\n",
       "Prob(Omnibus):                  0.000   Jarque-Bera (JB):             2315.903\n",
       "Skew:                           0.497   Prob(JB):                         0.00\n",
       "Kurtosis:                       3.350   Cond. No.                     3.52e+06\n",
       "==============================================================================\n",
       "\n",
       "Notes:\n",
       "[1] Standard Errors assume that the covariance matrix of the errors is correctly specified.\n",
       "[2] The condition number is large, 3.52e+06. This might indicate that there are\n",
       "strong multicollinearity or other numerical problems.\n",
       "\"\"\""
      ]
     },
     "execution_count": 225,
     "metadata": {},
     "output_type": "execute_result"
    }
   ],
   "source": [
    "# Regression far into the simulation\n",
    "# Coefficient for n_craters is very small and negative\n",
    "subset = df.iloc[-50000:]\n",
    "model = sm.OLS(subset[metric], sm.add_constant(subset.n_craters_added_in_study_region))\n",
    "result = model.fit()\n",
    "result.summary()"
   ]
  },
  {
   "cell_type": "code",
   "execution_count": null,
   "id": "0ae098f1-1020-4de3-8f09-6f4be09d3912",
   "metadata": {},
   "outputs": [],
   "source": []
  },
  {
   "cell_type": "code",
   "execution_count": 226,
   "id": "1231edbd-50b8-4d66-900c-64c683012920",
   "metadata": {},
   "outputs": [
    {
     "data": {
      "image/png": "[encoded data removed]",
      "text/plain": [
       "<Figure size 720x720 with 1 Axes>"
      ]
     },
     "metadata": {
      "needs_background": "light"
     },
     "output_type": "display_data"
    }
   ],
   "source": [
    "plt.figure(figsize=(10, 10))\n",
    "plt.plot(df.n_craters_added_in_study_region, cis.lower, color=\"r\")\n",
    "plt.plot(df.n_craters_added_in_study_region, cis.upper, color=\"g\")\n",
    "plt.axhline(y=threshold_increase, color=\"b\")\n",
    "plt.xlabel(\"Craters Generated\")\n",
    "\n",
    "plt.show()"
   ]
  },
  {
   "cell_type": "code",
   "execution_count": null,
   "id": "12695909-ee20-4400-ad42-6a5b6b947f55",
   "metadata": {},
   "outputs": [],
   "source": []
  },
  {
   "cell_type": "code",
   "execution_count": null,
   "id": "56e89033-cd3e-4bc0-a27a-64df1e2794b4",
   "metadata": {},
   "outputs": [],
   "source": []
  }
 ],
 "metadata": {
  "kernelspec": {
   "display_name": "Python 3 (ipykernel)",
   "language": "python",
   "name": "python3"
  },
  "language_info": {
   "codemirror_mode": {
    "name": "ipython",
    "version": 3
   },
   "file_extension": ".py",
   "mimetype": "text/x-python",
   "name": "python",
   "nbconvert_exporter": "python",
   "pygments_lexer": "ipython3",
   "version": "3.10.6"
  }
 },
 "nbformat": 4,
 "nbformat_minor": 5
}
