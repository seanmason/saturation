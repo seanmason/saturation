{
 "cells": [
  {
   "cell_type": "code",
   "execution_count": 1,
   "id": "3bcbce5d-aeb8-447e-8923-1470d316428c",
   "metadata": {},
   "outputs": [],
   "source": [
    "data <- read.csv(\"/data/saturation/central_composite_design/ccd5/post_saturation_sample_5000.csv\")"
   ]
  },
  {
   "cell_type": "code",
   "execution_count": 6,
   "id": "24d8b7bb-3f06-415a-b8bb-21854c1521bb",
   "metadata": {},
   "outputs": [],
   "source": [
    "data$y <- cbind(data$areal_density, data$z, data$za)\n",
    "model <- lm(y ~ 1 + slope + r_stat_multiplier + effective_radius_multiplier + min_rim_percentage + n_craters_in_study_region, data=data)\n",
    "# model <- lm(cbind(areal_density, z, za) ~ 1 + slope + r_stat_multiplier + effective_radius_multiplier + min_rim_percentage + n_craters_in_study_region, data=data)"
   ]
  },
  {
   "cell_type": "code",
   "execution_count": 7,
   "id": "e756c7c4-7fce-4396-be4b-53973b26a1cf",
   "metadata": {},
   "outputs": [
    {
     "data": {
      "text/plain": [
       "Response Y1 :\n",
       "\n",
       "Call:\n",
       "lm(formula = Y1 ~ 1 + slope + r_stat_multiplier + effective_radius_multiplier + \n",
       "    min_rim_percentage + n_craters_in_study_region, data = data)\n",
       "\n",
       "Residuals:\n",
       "      Min        1Q    Median        3Q       Max \n",
       "-0.264618 -0.035078 -0.003026  0.033939  0.250975 \n",
       "\n",
       "Coefficients:\n",
       "                              Estimate Std. Error  t value Pr(>|t|)    \n",
       "(Intercept)                  1.277e+00  3.379e-04  3780.74   <2e-16 ***\n",
       "slope                       -1.912e-02  1.183e-04  -161.62   <2e-16 ***\n",
       "r_stat_multiplier           -5.093e-04  2.012e-05   -25.32   <2e-16 ***\n",
       "effective_radius_multiplier -3.911e-01  1.797e-04 -2176.50   <2e-16 ***\n",
       "min_rim_percentage          -5.506e-01  3.266e-04 -1685.52   <2e-16 ***\n",
       "n_craters_in_study_region    9.834e-07  3.714e-09   264.80   <2e-16 ***\n",
       "---\n",
       "Signif. codes:  0 ‘***’ 0.001 ‘**’ 0.01 ‘*’ 0.05 ‘.’ 0.1 ‘ ’ 1\n",
       "\n",
       "Residual standard error: 0.05119 on 1080782 degrees of freedom\n",
       "Multiple R-squared:  0.9208,\tAdjusted R-squared:  0.9208 \n",
       "F-statistic: 2.513e+06 on 5 and 1080782 DF,  p-value: < 2.2e-16\n",
       "\n",
       "\n",
       "Response Y2 :\n",
       "\n",
       "Call:\n",
       "lm(formula = Y2 ~ 1 + slope + r_stat_multiplier + effective_radius_multiplier + \n",
       "    min_rim_percentage + n_craters_in_study_region, data = data)\n",
       "\n",
       "Residuals:\n",
       "    Min      1Q  Median      3Q     Max \n",
       "-57.243 -11.359   2.033   8.798  28.918 \n",
       "\n",
       "Coefficients:\n",
       "                              Estimate Std. Error t value Pr(>|t|)    \n",
       "(Intercept)                 -8.075e+01  8.846e-02 -912.90   <2e-16 ***\n",
       "slope                        3.529e+01  3.097e-02 1139.73   <2e-16 ***\n",
       "r_stat_multiplier            6.270e-02  5.267e-03   11.90   <2e-16 ***\n",
       "effective_radius_multiplier  4.561e+00  4.705e-02   96.95   <2e-16 ***\n",
       "min_rim_percentage           4.739e+01  8.551e-02  554.25   <2e-16 ***\n",
       "n_craters_in_study_region    1.678e-04  9.722e-07  172.63   <2e-16 ***\n",
       "---\n",
       "Signif. codes:  0 ‘***’ 0.001 ‘**’ 0.01 ‘*’ 0.05 ‘.’ 0.1 ‘ ’ 1\n",
       "\n",
       "Residual standard error: 13.4 on 1080782 degrees of freedom\n",
       "Multiple R-squared:  0.8484,\tAdjusted R-squared:  0.8484 \n",
       "F-statistic: 1.21e+06 on 5 and 1080782 DF,  p-value: < 2.2e-16\n",
       "\n",
       "\n",
       "Response Y3 :\n",
       "\n",
       "Call:\n",
       "lm(formula = Y3 ~ 1 + slope + r_stat_multiplier + effective_radius_multiplier + \n",
       "    min_rim_percentage + n_craters_in_study_region, data = data)\n",
       "\n",
       "Residuals:\n",
       "    Min      1Q  Median      3Q     Max \n",
       "-84.265 -19.156  -4.674  11.274 188.159 \n",
       "\n",
       "Coefficients:\n",
       "                              Estimate Std. Error t value Pr(>|t|)    \n",
       "(Intercept)                  1.529e+02  2.452e-01  623.73   <2e-16 ***\n",
       "slope                       -3.424e+01  8.583e-02 -398.90   <2e-16 ***\n",
       "r_stat_multiplier           -1.945e-01  1.460e-02  -13.33   <2e-16 ***\n",
       "effective_radius_multiplier -4.014e+01  1.304e-01 -307.83   <2e-16 ***\n",
       "min_rim_percentage          -6.690e+01  2.370e-01 -282.26   <2e-16 ***\n",
       "n_craters_in_study_region    6.345e-03  2.695e-06 2354.47   <2e-16 ***\n",
       "---\n",
       "Signif. codes:  0 ‘***’ 0.001 ‘**’ 0.01 ‘*’ 0.05 ‘.’ 0.1 ‘ ’ 1\n",
       "\n",
       "Residual standard error: 37.15 on 1080782 degrees of freedom\n",
       "Multiple R-squared:  0.9508,\tAdjusted R-squared:  0.9508 \n",
       "F-statistic: 4.174e+06 on 5 and 1080782 DF,  p-value: < 2.2e-16\n",
       "\n"
      ]
     },
     "metadata": {},
     "output_type": "display_data"
    }
   ],
   "source": [
    "summary(model)"
   ]
  },
  {
   "cell_type": "code",
   "execution_count": 20,
   "id": "95d29506-e5fa-44e6-8f92-827418d9a00d",
   "metadata": {},
   "outputs": [
    {
     "data": {
      "text/html": [
       "<table class=\"dataframe\">\n",
       "<caption>A matrix: 3 × 3 of type dbl</caption>\n",
       "<tbody>\n",
       "\t<tr><td> 1.00000000</td><td>-0.09835204</td><td>0.6135271</td></tr>\n",
       "\t<tr><td>-0.09835204</td><td> 1.00000000</td><td>0.5064265</td></tr>\n",
       "\t<tr><td> 0.61352707</td><td> 0.50642648</td><td>1.0000000</td></tr>\n",
       "</tbody>\n",
       "</table>\n"
      ],
      "text/latex": [
       "A matrix: 3 × 3 of type dbl\n",
       "\\begin{tabular}{lll}\n",
       "\t  1.00000000 & -0.09835204 & 0.6135271\\\\\n",
       "\t -0.09835204 &  1.00000000 & 0.5064265\\\\\n",
       "\t  0.61352707 &  0.50642648 & 1.0000000\\\\\n",
       "\\end{tabular}\n"
      ],
      "text/markdown": [
       "\n",
       "A matrix: 3 × 3 of type dbl\n",
       "\n",
       "|  1.00000000 | -0.09835204 | 0.6135271 |\n",
       "| -0.09835204 |  1.00000000 | 0.5064265 |\n",
       "|  0.61352707 |  0.50642648 | 1.0000000 |\n",
       "\n"
      ],
      "text/plain": [
       "     [,1]        [,2]        [,3]     \n",
       "[1,]  1.00000000 -0.09835204 0.6135271\n",
       "[2,] -0.09835204  1.00000000 0.5064265\n",
       "[3,]  0.61352707  0.50642648 1.0000000"
      ]
     },
     "metadata": {},
     "output_type": "display_data"
    }
   ],
   "source": [
    "cor(data$y)"
   ]
  },
  {
   "cell_type": "code",
   "execution_count": 12,
   "id": "99dbfda4-ad78-41a1-a3aa-89b0d649d6a0",
   "metadata": {},
   "outputs": [
    {
     "name": "stderr",
     "output_type": "stream",
     "text": [
      "Loading required package: carData\n",
      "\n"
     ]
    },
    {
     "data": {
      "text/plain": [
       "\n",
       "Type II MANOVA Tests: Pillai test statistic\n",
       "                            Df test stat approx F num Df  den Df    Pr(>F)    \n",
       "slope                        1   0.54230   480247      3 1215990 < 2.2e-16 ***\n",
       "r_stat_multiplier            1   0.00058      236      3 1215990 < 2.2e-16 ***\n",
       "effective_radius_multiplier  1   0.83335  2026871      3 1215990 < 2.2e-16 ***\n",
       "min_rim_percentage           1   0.77736  1415215      3 1215990 < 2.2e-16 ***\n",
       "n_craters_in_study_region    1   0.89138  3326227      3 1215990 < 2.2e-16 ***\n",
       "---\n",
       "Signif. codes:  0 ‘***’ 0.001 ‘**’ 0.01 ‘*’ 0.05 ‘.’ 0.1 ‘ ’ 1"
      ]
     },
     "metadata": {},
     "output_type": "display_data"
    }
   ],
   "source": [
    "library(car)\n",
    "Anova(model)"
   ]
  },
  {
   "cell_type": "code",
   "execution_count": null,
   "id": "ca4dff07-ef66-4792-b036-9ad0cc9c8fa5",
   "metadata": {},
   "outputs": [],
   "source": []
  },
  {
   "cell_type": "code",
   "execution_count": null,
   "id": "f90597e1-e18e-40c4-80d2-4fde2d914a76",
   "metadata": {},
   "outputs": [],
   "source": []
  }
 ],
 "metadata": {
  "kernelspec": {
   "display_name": "R",
   "language": "R",
   "name": "ir"
  },
  "language_info": {
   "codemirror_mode": "r",
   "file_extension": ".r",
   "mimetype": "text/x-r-source",
   "name": "R",
   "pygments_lexer": "r",
   "version": "4.1.2"
  }
 },
 "nbformat": 4,
 "nbformat_minor": 5
}
