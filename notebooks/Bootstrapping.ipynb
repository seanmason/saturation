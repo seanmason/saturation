{
 "cells": [
  {
   "cell_type": "code",
   "execution_count": 22,
   "metadata": {},
   "outputs": [],
   "source": [
    "import numpy as np\n",
    "import scipy.stats as stats\n",
    "import numba\n",
    "import matplotlib.pyplot as plt"
   ]
  },
  {
   "cell_type": "code",
   "execution_count": 12,
   "metadata": {},
   "outputs": [],
   "source": [
    "def cis_overlap(ci1, ci2) -> bool:\n",
    "    return (ci2.low <= ci1.low <= ci2.high) or (ci1.low <= ci2.low <= ci1.high)"
   ]
  },
  {
   "cell_type": "code",
   "execution_count": 35,
   "metadata": {},
   "outputs": [],
   "source": [
    "n_samples = 500\n",
    "n_sets = 100\n",
    "n_resamples = 10000"
   ]
  },
  {
   "cell_type": "markdown",
   "metadata": {},
   "source": [
    "## Determining Distribution Equality Using a CI of the Bootstrapped KS Statistic\n",
    "\n",
    "We sample from two distributions, $A$ and $B$, and attempt to bootstrap a CI on the KS statistic.\n",
    "\n",
    "Let $X_{A,i}$ be a vector of N samples from distribution A, for $i \\in \\{1..N_{sets}\\}$. \"A\" is a stand-in for Python simulation code, \"B\" for the IDL. The \"sets\" are a stand-in for simulation runs.\n",
    "\n",
    "Let $K_{j,k}$ be the KS statistic applied to sample vectors j and k."
   ]
  },
  {
   "cell_type": "markdown",
   "metadata": {},
   "source": [
    "### Test 1\n",
    "\n",
    "This is one method that was suggested in our call. I am not entirely sure it is implemented as described. The expectation is that, since sets of samples are from the same distribution, the test would confirm that the distributions are equivalent.\n",
    "\n",
    "A and B ~ N(0,1)\n",
    "\n",
    "We bootstrap two 95% confidence intervals: \n",
    "\n",
    "$CI_1$ is constructed by sampling from $K_{j,k}, \\forall j \\in X_{A,i}$, $\\forall k \\in X_{A,i}$\n",
    "\n",
    "$CI_2$ is constructed by sampling from $K_{j,k}, \\forall j \\in X_{B,i}$, $\\forall k \\in X_{B,i}$\n",
    "\n",
    "We run this process repeatedly, and find that the CIs overlap in 31% of trials. This does not appear to be successful."
   ]
  },
  {
   "cell_type": "code",
   "execution_count": null,
   "metadata": {},
   "outputs": [],
   "source": [
    "def bootstrap_ks(first: "
   ]
  },
  {
   "cell_type": "code",
   "execution_count": 56,
   "metadata": {},
   "outputs": [],
   "source": [
    "results = []\n",
    "\n",
    "X_A = [np.random.normal(loc=0.0, scale=1.0, size=n_samples) for x in range(n_sets)]\n",
    "X_B = [np.random.poisson(size=n_samples) for x in range(n_sets)]\n",
    "# X_B = [np.random.normal(loc=0.0, scale=1.0, size=n_samples) for x in range(n_sets)]"
   ]
  },
  {
   "cell_type": "code",
   "execution_count": 57,
   "metadata": {},
   "outputs": [],
   "source": [
    "choices = []\n",
    "resample_results = []\n",
    "\n",
    "for x in range(n_resamples):\n",
    "    # Grab two sets, could be from A or B\n",
    "    choice1 = int(np.random.rand() * n_sets)\n",
    "    choice2 = int(np.random.rand() * n_sets)\n",
    "    choices.append((choice1, choice2))\n",
    "    \n",
    "    if choice1 < 50:\n",
    "        choice1 = X_A[choice1]\n",
    "    else:\n",
    "        choice1 = X_B[choice1 - n_sets]\n",
    "        \n",
    "    if choice2 < 50:\n",
    "        choice2 = X_A[choice2]\n",
    "    else:\n",
    "        choice2 = X_B[choice2 - n_sets]\n",
    "    \n",
    "    # Calculate the KS/AD statistic, add to list\n",
    "    resample_results.append(stats.kstest(choice1, choice2).statistic)\n",
    "\n",
    "# Test if the distribution of the statistic is normal (should be, because CLT)\n",
    "    \n",
    "# Find the 95% CI on the calculated statistic, using normal if it's normal, otherwise non-parametric approach\n",
    "\n",
    "# Calculate the significance of the mean KS statistic, use this as the significance test\n",
    "    \n",
    "        \n",
    "        "
   ]
  },
  {
   "cell_type": "code",
   "execution_count": 48,
   "metadata": {},
   "outputs": [
    {
     "data": {
      "text/plain": [
       "0.13581015157406195"
      ]
     },
     "execution_count": 48,
     "metadata": {},
     "output_type": "execute_result"
    }
   ],
   "source": [
    "np.sqrt(-np.log(0.05/2)*.5 * (1 + 1)/(2*n_sets))"
   ]
  },
  {
   "cell_type": "code",
   "execution_count": 43,
   "metadata": {},
   "outputs": [
    {
     "data": {
      "text/plain": [
       "0.03"
      ]
     },
     "execution_count": 43,
     "metadata": {},
     "output_type": "execute_result"
    }
   ],
   "source": [
    "np.quantile(resample_results, 0.025)"
   ]
  },
  {
   "cell_type": "code",
   "execution_count": 44,
   "metadata": {},
   "outputs": [
    {
     "data": {
      "text/plain": [
       "0.446"
      ]
     },
     "execution_count": 44,
     "metadata": {},
     "output_type": "execute_result"
    }
   ],
   "source": [
    "np.quantile(resample_results, 0.975)"
   ]
  },
  {
   "cell_type": "code",
   "execution_count": 58,
   "metadata": {},
   "outputs": [
    {
     "data": {
      "text/plain": [
       "0.2735286"
      ]
     },
     "execution_count": 58,
     "metadata": {},
     "output_type": "execute_result"
    }
   ],
   "source": [
    "np.mean(resample_results)"
   ]
  },
  {
   "cell_type": "code",
   "execution_count": 46,
   "metadata": {},
   "outputs": [
    {
     "data": {
      "text/plain": [
       "(array([104.,   0.,   0.,   0.,   0.,  69., 173., 305., 738., 466., 462.,\n",
       "        715., 422., 364., 387., 180., 143., 192.,  78.,  48.,  56.,  14.,\n",
       "         25.,  20.,   5.,   9.,  12.,   2.,   0.,   0.,   1.,   0.,   3.,\n",
       "          2.,   0.,   0.,   0.,   0.,   0.,   0.,   0.,   0.,   0.,   0.,\n",
       "          0.,   0.,   0.,   0.,   0.,   0.,   0.,   0.,   0.,   0.,   0.,\n",
       "          0.,   0.,   0.,   0.,   0.,   0.,   0.,   0.,   0.,   0.,   0.,\n",
       "          0.,   0.,   0.,   0.,   0.,   0.,   0.,   0.,   2.,   5.,  20.,\n",
       "         39.,  75., 124., 236., 228., 318., 284., 204., 436., 300., 371.,\n",
       "        499., 298., 307., 355., 252., 230., 227.,  89.,  58.,  28.,  11.,\n",
       "          9.]),\n",
       " array([0.    , 0.0047, 0.0094, 0.0141, 0.0188, 0.0235, 0.0282, 0.0329,\n",
       "        0.0376, 0.0423, 0.047 , 0.0517, 0.0564, 0.0611, 0.0658, 0.0705,\n",
       "        0.0752, 0.0799, 0.0846, 0.0893, 0.094 , 0.0987, 0.1034, 0.1081,\n",
       "        0.1128, 0.1175, 0.1222, 0.1269, 0.1316, 0.1363, 0.141 , 0.1457,\n",
       "        0.1504, 0.1551, 0.1598, 0.1645, 0.1692, 0.1739, 0.1786, 0.1833,\n",
       "        0.188 , 0.1927, 0.1974, 0.2021, 0.2068, 0.2115, 0.2162, 0.2209,\n",
       "        0.2256, 0.2303, 0.235 , 0.2397, 0.2444, 0.2491, 0.2538, 0.2585,\n",
       "        0.2632, 0.2679, 0.2726, 0.2773, 0.282 , 0.2867, 0.2914, 0.2961,\n",
       "        0.3008, 0.3055, 0.3102, 0.3149, 0.3196, 0.3243, 0.329 , 0.3337,\n",
       "        0.3384, 0.3431, 0.3478, 0.3525, 0.3572, 0.3619, 0.3666, 0.3713,\n",
       "        0.376 , 0.3807, 0.3854, 0.3901, 0.3948, 0.3995, 0.4042, 0.4089,\n",
       "        0.4136, 0.4183, 0.423 , 0.4277, 0.4324, 0.4371, 0.4418, 0.4465,\n",
       "        0.4512, 0.4559, 0.4606, 0.4653, 0.47  ]),\n",
       " <BarContainer object of 100 artists>)"
      ]
     },
     "execution_count": 46,
     "metadata": {},
     "output_type": "execute_result"
    },
    {
     "data": {
      "image/png": "[encoded data removed]",
      "text/plain": [
       "<Figure size 432x288 with 1 Axes>"
      ]
     },
     "metadata": {
      "needs_background": "light"
     },
     "output_type": "display_data"
    }
   ],
   "source": [
    "plt.hist(resample_results, bins=100)"
   ]
  },
  {
   "cell_type": "code",
   "execution_count": 32,
   "metadata": {},
   "outputs": [
    {
     "data": {
      "text/plain": [
       "AndersonResult(statistic=1412.6273241475865, critical_values=array([0.576, 0.656, 0.787, 0.918, 1.092]), significance_level=array([15. , 10. ,  5. ,  2.5,  1. ]))"
      ]
     },
     "execution_count": 32,
     "metadata": {},
     "output_type": "execute_result"
    }
   ],
   "source": [
    "stats.anderson(resample_results)"
   ]
  },
  {
   "cell_type": "code",
   "execution_count": 9,
   "metadata": {},
   "outputs": [
    {
     "data": {
      "text/plain": [
       "0.53"
      ]
     },
     "execution_count": 9,
     "metadata": {},
     "output_type": "execute_result"
    }
   ],
   "source": [
    "results = []\n",
    "\n",
    "for x in range(n_repetitions):\n",
    "    X_A = [np.random.normal(loc=0.0, scale=1.0, size=n_samples) for x in range(n_sets)]\n",
    "    X_B = [np.random.normal(loc=0.0, scale=1.0, size=n_samples) for x in range(n_sets)]\n",
    "\n",
    "    # Calculate KS statistics for all X_A and X_B, reshape for use in bootstrapping\n",
    "    KS_A_A = np.expand_dims([stats.kstest(x, y).statistic for x_ind, x in enumerate(X_A) for y_ind, y in enumerate(X_A) if x_ind != y_ind], axis=0)\n",
    "    KS_B_B = np.expand_dims([stats.kstest(x, y).statistic for x_ind, x in enumerate(X_B) for y_ind, y in enumerate(X_B) if x_ind != y_ind], axis=0)\n",
    "\n",
    "    # Bootstrap two CIs\n",
    "    CI_A_A = stats.bootstrap(KS_A_A, np.mean, n_resamples=n_resamples).confidence_interval\n",
    "    CI_B_B = stats.bootstrap(KS_B_B, np.mean, n_resamples=n_resamples).confidence_interval\n",
    "\n",
    "    # Test for overlap of the CIs\n",
    "    results.append(cis_overlap(CI_A_A, CI_B_B))\n",
    "\n",
    "np.mean(results)"
   ]
  },
  {
   "cell_type": "code",
   "execution_count": null,
   "metadata": {},
   "outputs": [],
   "source": []
  },
  {
   "cell_type": "markdown",
   "metadata": {},
   "source": [
    "### Test 2\n",
    "\n",
    "This is a method that I came up with that seems, to me, to be valid. If it is not, please help me to understand why.\n",
    "\n",
    "A and B ~ N(0,1)\n",
    "\n",
    "Let $P_{j,k}$ be the p-values resulting from the KS test $\\forall j \\in X_{A,i}$, $\\forall k \\in X_{A,i}$ \n",
    "\n",
    "We construct a 95% confidence interval by sampling from $P_{j,k}$\n",
    "\n",
    "The resulting CI is (0.27, 0.29), suggesting that that the "
   ]
  },
  {
   "cell_type": "code",
   "execution_count": null,
   "metadata": {},
   "outputs": [],
   "source": [
    "def kstest_pvalue(x, y, axis):\n",
    "    return stats.kstest(x, y).pvalue"
   ]
  },
  {
   "cell_type": "code",
   "execution_count": null,
   "metadata": {},
   "outputs": [],
   "source": [
    "results = []\n",
    "\n",
    "X_A = np.random.normal(loc=0.0, scale=1.0, size=n_sets*n_samples)\n",
    "X_B = np.random.normal(loc=0.0, scale=1.0, size=n_sets*n_samples)\n",
    "\n",
    "CI_P_A_B = stats.bootstrap((X_A, X_B), np.vectorize(kstest_pvalue, signature=\"(n),(n),()->()\"), paired=True, batch=5, n_resamples=n_resamples).confidence_interval"
   ]
  },
  {
   "cell_type": "code",
   "execution_count": null,
   "metadata": {},
   "outputs": [],
   "source": [
    "CI_P_A_B"
   ]
  },
  {
   "cell_type": "code",
   "execution_count": null,
   "metadata": {},
   "outputs": [],
   "source": []
  },
  {
   "cell_type": "code",
   "execution_count": null,
   "metadata": {},
   "outputs": [],
   "source": [
    "results = []\n",
    "\n",
    "X_A = np.hstack([np.random.normal(loc=x, scale=1.0, size=n_samples//5) for x in np.random.normal(loc=0.0, scale=0.05, size=n_sets)])\n",
    "X_B = np.hstack([np.random.normal(loc=x, scale=1.0, size=n_samples//5) for x in np.random.normal(loc=0.0, scale=0.03, size=n_sets)])\n",
    "\n",
    "CI_P_A_B = stats.bootstrap((X_A, X_B), np.vectorize(kstest_pvalue, signature=\"(n),(n),()->()\"), paired=True, batch=5, n_resamples=n_resamples).confidence_interval\n",
    "CI_P_A_B"
   ]
  },
  {
   "cell_type": "code",
   "execution_count": null,
   "metadata": {},
   "outputs": [],
   "source": []
  },
  {
   "cell_type": "markdown",
   "metadata": {},
   "source": [
    "### Test 2: A ~ N(0, 1), B ~ N(1, 1)\n",
    "\n",
    "We repeat the process from Test 1 and find that the CIs overlap in 35% of trials.\n"
   ]
  },
  {
   "cell_type": "code",
   "execution_count": null,
   "metadata": {},
   "outputs": [],
   "source": [
    "results = []\n",
    "\n",
    "for x in range(n_repetitions):\n",
    "    X_A = [np.random.normal(loc=0.0, scale=1.0, size=n_samples) for x in range(n_sets)]\n",
    "    X_B = [np.random.normal(loc=1.0, scale=1.0, size=n_samples) for x in range(n_sets)]\n",
    "\n",
    "    # Calculate KS statistics for all X_A and X_B, reshape for use in bootstrapping\n",
    "    KS_A_A = np.expand_dims([stats.kstest(x, y).statistic for x in X_A for y in X_A], axis=0)\n",
    "    KS_B_B = np.expand_dims([stats.kstest(x, y).statistic for x in X_B for y in X_B], axis=0)\n",
    "\n",
    "    # Bootstrap two CIs\n",
    "    CI_A_A = stats.bootstrap(KS_A_A, np.mean, n_resamples=n_resamples).confidence_interval\n",
    "    CI_B_B = stats.bootstrap(KS_B_B, np.mean, n_resamples=n_resamples).confidence_interval\n",
    "\n",
    "    # Test for overlap of the CIs\n",
    "    results.append(cis_overlap(CI_A_A, CI_B_B))\n",
    "\n",
    "np.mean(results)"
   ]
  },
  {
   "cell_type": "markdown",
   "metadata": {},
   "source": [
    "### Test 3: A ~ N(0, 1), B ~ N(1, 2)\n",
    "\n",
    "We repeat the process from Test 1 and find that the CIs overlap in 25% of trials."
   ]
  },
  {
   "cell_type": "code",
   "execution_count": null,
   "metadata": {},
   "outputs": [],
   "source": [
    "results = []\n",
    "\n",
    "for x in range(n_repetitions):\n",
    "    X_A = [np.random.normal(loc=0.0, scale=1.0, size=n_samples) for x in range(n_sets)]\n",
    "    X_B = [np.random.normal(loc=1.0, scale=2.0, size=n_samples) for x in range(n_sets)]\n",
    "\n",
    "    # Calculate KS statistics for all X_A and X_B, reshape for use in bootstrapping\n",
    "    KS_A_A = np.expand_dims([stats.kstest(x, y).statistic for x in X_A for y in X_A], axis=0)\n",
    "    KS_B_B = np.expand_dims([stats.kstest(x, y).statistic for x in X_B for y in X_B], axis=0)\n",
    "\n",
    "    # Bootstrap two CIs\n",
    "    CI_A_A = stats.bootstrap(KS_A_A, np.mean, n_resamples=n_resamples).confidence_interval\n",
    "    CI_B_B = stats.bootstrap(KS_B_B, np.mean, n_resamples=n_resamples).confidence_interval\n",
    "\n",
    "    # Test for overlap of the CIs\n",
    "    results.append(cis_overlap(CI_A_A, CI_B_B))\n",
    "\n",
    "np.mean(results)"
   ]
  },
  {
   "cell_type": "markdown",
   "metadata": {},
   "source": [
    "## Cross-joined pairs\n"
   ]
  },
  {
   "cell_type": "markdown",
   "metadata": {},
   "source": [
    "### Comparing cross-joined to within set 1"
   ]
  },
  {
   "cell_type": "code",
   "execution_count": null,
   "metadata": {},
   "outputs": [],
   "source": [
    "results = []\n",
    "\n",
    "for x in range(n_repetitions):\n",
    "    X_A = [np.random.normal(loc=0.0, scale=1.0, size=n_samples) for x in range(n_sets)]\n",
    "    X_B = [np.random.normal(loc=0.0, scale=1.0, size=n_samples) for x in range(n_sets)]\n",
    "\n",
    "    # Calculate KS statistics for all X_A and X_B, reshape for use in bootstrapping\n",
    "    KS_A_B = np.expand_dims([stats.kstest(x, y).statistic for x in X_A for y in X_B], axis=0)\n",
    "    KS_B_B = np.expand_dims([stats.kstest(x, y).statistic for x in X_B for y in X_B], axis=0)\n",
    "\n",
    "    # Bootstrap two CIs\n",
    "    CI_A_B = stats.bootstrap(KS_A_B, np.mean, n_resamples=n_resamples).confidence_interval\n",
    "    CI_B_B = stats.bootstrap(KS_B_B, np.mean, n_resamples=n_resamples).confidence_interval\n",
    "\n",
    "    # Test for overlap of the CIs\n",
    "    results.append(cis_overlap(CI_A_B, CI_B_B))\n",
    "\n",
    "np.mean(results)"
   ]
  },
  {
   "cell_type": "code",
   "execution_count": null,
   "metadata": {},
   "outputs": [],
   "source": [
    "results = []\n",
    "\n",
    "for x in range(n_repetitions):\n",
    "    X_A = [np.random.normal(loc=0.0, scale=1.0, size=n_samples) for x in range(n_sets)]\n",
    "    X_B = [np.random.normal(loc=1.0, scale=1.0, size=n_samples) for x in range(n_sets)]\n",
    "\n",
    "    # Calculate KS statistics for all X_A and X_B, reshape for use in bootstrapping\n",
    "    KS_A_B = np.expand_dims([stats.kstest(x, y).statistic for x in X_A for y in X_B], axis=0)\n",
    "    KS_B_B = np.expand_dims([stats.kstest(x, y).statistic for x in X_B for y in X_B], axis=0)\n",
    "\n",
    "    # Bootstrap two CIs\n",
    "    CI_A_B = stats.bootstrap(KS_A_B, np.mean, n_resamples=n_resamples).confidence_interval\n",
    "    CI_B_B = stats.bootstrap(KS_B_B, np.mean, n_resamples=n_resamples).confidence_interval\n",
    "\n",
    "    # Test for overlap of the CIs\n",
    "    results.append(cis_overlap(CI_A_B, CI_B_B))\n",
    "\n",
    "np.mean(results)"
   ]
  },
  {
   "cell_type": "code",
   "execution_count": null,
   "metadata": {},
   "outputs": [],
   "source": []
  },
  {
   "cell_type": "code",
   "execution_count": null,
   "metadata": {},
   "outputs": [],
   "source": [
    "results = []\n",
    "\n",
    "for x in range(n_repetitions):\n",
    "    X_A = [np.random.normal(loc=0.0, scale=1.0, size=n_samples) for x in range(n_sets)]\n",
    "    X_B = [np.random.normal(loc=1.0, scale=1.0, size=n_samples) for x in range(n_sets)]\n",
    "\n",
    "    # Calculate KS statistics for all X_A and X_B, reshape for use in bootstrapping\n",
    "    KS_A_B = np.expand_dims([stats.kstest(x, y).statistic for x in X_A for y in X_B], axis=0)\n",
    "    KS_B_B = np.expand_dims([stats.kstest(x, y).statistic for x in X_B for y in X_B], axis=0)\n",
    "\n",
    "    # Bootstrap two CIs\n",
    "    CI_A_B = stats.bootstrap(KS_A_B, np.mean, n_resamples=n_resamples).confidence_interval\n",
    "    CI_B_B = stats.bootstrap(KS_B_B, np.mean, n_resamples=n_resamples).confidence_interval\n",
    "\n",
    "    # Test for overlap of the CIs\n",
    "    results.append(cis_overlap(CI_A_B, CI_B_B))\n",
    "    if x % 5 == 0:\n",
    "        print(np.mean(results))\n",
    "\n",
    "np.mean(results)"
   ]
  },
  {
   "cell_type": "code",
   "execution_count": null,
   "metadata": {},
   "outputs": [],
   "source": []
  },
  {
   "cell_type": "code",
   "execution_count": null,
   "metadata": {},
   "outputs": [],
   "source": []
  },
  {
   "cell_type": "code",
   "execution_count": null,
   "metadata": {},
   "outputs": [],
   "source": []
  },
  {
   "cell_type": "code",
   "execution_count": null,
   "metadata": {},
   "outputs": [],
   "source": [
    "n_samples = 500\n",
    "n_sets = 50\n",
    "\n",
    "set1 = [np.random.normal(scale=1.0, size=n_samples) for x in range(n_sets)]\n",
    "set2 = [np.random.normal(scale=1.0, size=n_samples) for x in range(n_sets)]\n",
    "\n",
    "all_pairs_ks_set1 = [stats.kstest(x, y).statistic for x in set1 for y in set2]\n",
    "all_pairs_ks_set2 = [stats.kstest(x, y).statistic for x in set1 for y in set1]\n",
    "\n",
    "ci_set1 = stats.bootstrap(np.array(all_pairs_ks_set1).reshape((1, len(all_pairs_ks_set1))), np.mean, n_resamples=10000)\n",
    "ci_set2 = stats.bootstrap(np.array(all_pairs_ks_set2).reshape((1, len(all_pairs_ks_set2))), np.mean, n_resamples=10000)\n",
    "\n",
    "cis_overlap(ci_set1.confidence_interval, ci_set2.confidence_interval)"
   ]
  },
  {
   "cell_type": "markdown",
   "metadata": {},
   "source": [
    "### Comparing unequal means"
   ]
  },
  {
   "cell_type": "code",
   "execution_count": null,
   "metadata": {},
   "outputs": [],
   "source": [
    "n_samples = 500\n",
    "n_sets = 50\n",
    "\n",
    "set1 = [np.random.normal(scale=1.0, size=n_samples) + 1 for x in range(n_sets)]\n",
    "set2 = [np.random.normal(scale=1.0, size=n_samples) for x in range(n_sets)]\n",
    "\n",
    "all_pairs_ks_set1 = [stats.kstest(x, y).statistic for x in set1 for y in set2]\n",
    "all_pairs_ks_set2 = [stats.kstest(x, y).statistic for x in set1 for y in set1]\n",
    "\n",
    "ci_set1 = stats.bootstrap(np.array(all_pairs_ks_set1).reshape((1, len(all_pairs_ks_set1))), np.mean, n_resamples=10000)\n",
    "ci_set2 = stats.bootstrap(np.array(all_pairs_ks_set2).reshape((1, len(all_pairs_ks_set2))), np.mean, n_resamples=10000)\n",
    "\n",
    "cis_overlap(ci_set1.confidence_interval, ci_set2.confidence_interval)"
   ]
  },
  {
   "cell_type": "markdown",
   "metadata": {},
   "source": [
    "### Comparing unequal variances"
   ]
  },
  {
   "cell_type": "code",
   "execution_count": null,
   "metadata": {},
   "outputs": [],
   "source": [
    "n_samples = 500\n",
    "n_sets = 50\n",
    "\n",
    "set1 = [np.random.normal(scale=1.5, size=n_samples) for x in range(n_sets)]\n",
    "set2 = [np.random.normal(scale=1.0, size=n_samples) for x in range(n_sets)]\n",
    "\n",
    "all_pairs_ks_set1 = [stats.kstest(x, y).statistic for x in set1 for y in set2]\n",
    "all_pairs_ks_set2 = [stats.kstest(x, y).statistic for x in set1 for y in set1]\n",
    "\n",
    "ci_set1 = stats.bootstrap(np.array(all_pairs_ks_set1).reshape((1, len(all_pairs_ks_set1))), np.mean, n_resamples=10000)\n",
    "ci_set2 = stats.bootstrap(np.array(all_pairs_ks_set2).reshape((1, len(all_pairs_ks_set2))), np.mean, n_resamples=10000)\n",
    "\n",
    "cis_overlap(ci_set1.confidence_interval, ci_set2.confidence_interval)"
   ]
  },
  {
   "cell_type": "code",
   "execution_count": null,
   "metadata": {},
   "outputs": [],
   "source": [
    "filtered = parsed_df[((parsed_df.fully_successful == 1) | (parsed_df.partially_successful == 1))]\n",
    "parsed_df[\"document_text\"] = filtered.pagewise_text.str.join(\"\\n\")"
   ]
  }
 ],
 "metadata": {
  "kernelspec": {
   "display_name": "Python 3 (ipykernel)",
   "language": "python",
   "name": "python3"
  },
  "language_info": {
   "codemirror_mode": {
    "name": "ipython",
    "version": 3
   },
   "file_extension": ".py",
   "mimetype": "text/x-python",
   "name": "python",
   "nbconvert_exporter": "python",
   "pygments_lexer": "ipython3",
   "version": "3.10.4"
  },
  "vscode": {
   "interpreter": {
    "hash": "a6f5ee9b0917027ae13a32f52a26ed1a060c33dca2b3355708509e59ccb8c9f1"
   }
  }
 },
 "nbformat": 4,
 "nbformat_minor": 4
}
