{
 "cells": [
  {
   "cell_type": "code",
   "execution_count": 31,
   "id": "a8cfd828-2299-46d8-b461-b43b35f2f885",
   "metadata": {},
   "outputs": [],
   "source": [
    "import matplotlib.pyplot as plt\n",
    "import plotly.express as px\n",
    "import plotly.io as pio\n",
    "import plotly.graph_objects as go\n",
    "import numpy as np\n",
    "\n",
    "from pathlib import Path\n",
    "import pandas as pd\n",
    "\n",
    "import statsmodels.api as sm\n",
    "\n",
    "import sklearn\n",
    "from sklearn import preprocessing\n",
    "\n",
    "pio.renderers.default = \"iframe\""
   ]
  },
  {
   "cell_type": "code",
   "execution_count": 32,
   "id": "176c9e9f-f639-47af-b3d8-06ed4b911d52",
   "metadata": {},
   "outputs": [],
   "source": [
    "import scipy.spatial\n",
    "import libpysal as ps\n",
    "from pointpats import PointPattern, PoissonPointProcess, as_window, g, f, j, k, l, g_test, f_test, j_test, k_test, l_test"
   ]
  },
  {
   "cell_type": "code",
   "execution_count": 69,
   "id": "3ce1e0ae-c0a8-45de-af87-5edc6b44cb40",
   "metadata": {},
   "outputs": [],
   "source": [
    "base_path = \"/data/saturation/central_composite_design/ccd5\"\n",
    "# sim_dir = \"ccd_1.087_0.700_8.996_1.102\"\n",
    "# sim_dir = \"ccd_1.500_0.700_3.000_2.050\"\n",
    "sim_dir = \"ccd_1.505_0.499_5.952_1.104\""
   ]
  },
  {
   "cell_type": "code",
   "execution_count": 70,
   "id": "5dce4e28-7d8d-4894-8e37-679c764c5e76",
   "metadata": {},
   "outputs": [],
   "source": [
    "craters_df = pd.read_parquet(f\"{base_path}/{sim_dir}/craters_100000.parquet\")\n",
    "removals_df = pd.read_parquet(f\"{base_path}/{sim_dir}/crater_removals_100000.parquet\")"
   ]
  },
  {
   "cell_type": "code",
   "execution_count": 72,
   "id": "4d505365-8a7c-4ef0-8008-cb8585818936",
   "metadata": {},
   "outputs": [],
   "source": [
    "n = [x * 10 for x in range(10000)]\n",
    "\n",
    "for x in n:\n",
    "    # max_crater_id = craters_df.id.max()\n",
    "    max_crater_id = craters_df.id.iloc[x]\n",
    "    removals = set(removals_df[removals_df.removed_by_crater_id <= max_crater_id].removed_crater_id)\n",
    "    df = craters_df[(craters_df.id <= max_crater_id) & (~craters_df.id.isin(removals))]\n",
    "    df[[\"x\", \"y\"]].to_csv(f\"/tmp/{sim_dir}_{x}.csv\", index=False)"
   ]
  },
  {
   "cell_type": "code",
   "execution_count": 38,
   "id": "73067c47-9bba-4983-aab8-616bc47fc9e4",
   "metadata": {},
   "outputs": [],
   "source": []
  },
  {
   "cell_type": "code",
   "execution_count": 18,
   "id": "b30545c5-76f1-44ac-babe-c7d2cb871ded",
   "metadata": {},
   "outputs": [
    {
     "data": {
      "text/plain": [
       "12491.545"
      ]
     },
     "execution_count": 18,
     "metadata": {},
     "output_type": "execute_result"
    }
   ],
   "source": [
    "df.x.max()"
   ]
  },
  {
   "cell_type": "code",
   "execution_count": null,
   "id": "fc89feeb-717f-4b28-9afa-660c4e4949e3",
   "metadata": {},
   "outputs": [],
   "source": []
  },
  {
   "cell_type": "code",
   "execution_count": null,
   "id": "f9ad371d-067f-4583-a971-b5cb01ac9954",
   "metadata": {},
   "outputs": [],
   "source": [
    "points = craters_df[[\"x\", \"y\"]].values\n",
    "l_test = l_test(points, keep_simulations=False)"
   ]
  },
  {
   "cell_type": "code",
   "execution_count": null,
   "id": "9b5b7a19-8cfd-4258-86c7-79c5749bb924",
   "metadata": {},
   "outputs": [],
   "source": [
    "plt.plot(l_test.support, l_test.simulations.T, color='k', alpha=.01)\n",
    "plt.plot(l_test.support, l_test.statistic, color='orangered')\n",
    "\n",
    "plt.scatter(l_test.support, l_test.statistic, \n",
    "            cmap='viridis', c=l_test.pvalue < .05,\n",
    "            zorder=4 # make sure they plot on top\n",
    "           )\n",
    "\n",
    "plt.xlabel('Distance')\n",
    "plt.ylabel('K Function')\n",
    "plt.title('K Function Plot')\n",
    "plt.show()"
   ]
  },
  {
   "cell_type": "code",
   "execution_count": null,
   "id": "0b0d1831-6422-4cba-963e-87660b206682",
   "metadata": {},
   "outputs": [],
   "source": []
  },
  {
   "cell_type": "code",
   "execution_count": 32,
   "id": "67e9698c-7a59-4585-a720-f1f2240a135e",
   "metadata": {},
   "outputs": [
    {
     "data": {
      "text/plain": [
       "array([[ 6426.8027,  8053.327 ],\n",
       "       [ 2692.0305,  3087.3577],\n",
       "       [ 1089.483 ,  1844.7286],\n",
       "       ...,\n",
       "       [ 8208.065 ,  5392.029 ],\n",
       "       [ 3708.7773,  7241.767 ],\n",
       "       [11975.074 ,  9894.238 ]], dtype=float32)"
      ]
     },
     "execution_count": 32,
     "metadata": {},
     "output_type": "execute_result"
    }
   ],
   "source": [
    "craters_df[[\"x\", \"y\"]].values"
   ]
  },
  {
   "cell_type": "code",
   "execution_count": 35,
   "id": "aac332bb-3b8a-4540-955b-46f65db3103c",
   "metadata": {},
   "outputs": [
    {
     "name": "stdout",
     "output_type": "stream",
     "text": [
      "Point Pattern\n",
      "100000 points\n",
      "Bounding rectangle [(0.09022396802902222,0.034933410584926605), (12499.798828125,12499.9736328125)]\n",
      "Area of window: 156245592.20593262\n",
      "Intensity estimate for window: 0.0006400180548338248\n",
      "              x             y\n",
      "0   6426.802734   8053.327148\n",
      "1   2692.030518   3087.357666\n",
      "2   1089.483032   1844.728638\n",
      "3  11231.968750   3568.554443\n",
      "4   5245.054688  10366.557617\n"
     ]
    }
   ],
   "source": [
    "pp.summary()"
   ]
  },
  {
   "cell_type": "code",
   "execution_count": 36,
   "id": "c5d5878b-fead-41ca-9dbf-d43999bc87f6",
   "metadata": {},
   "outputs": [
    {
     "ename": "TypeError",
     "evalue": "len() of unsized object",
     "output_type": "error",
     "traceback": [
      "\u001b[0;31m---------------------------------------------------------------------------\u001b[0m",
      "\u001b[0;31mTypeError\u001b[0m                                 Traceback (most recent call last)",
      "Input \u001b[0;32mIn [36]\u001b[0m, in \u001b[0;36m<cell line: 1>\u001b[0;34m()\u001b[0m\n\u001b[0;32m----> 1\u001b[0m lpl \u001b[38;5;241m=\u001b[39m \u001b[43ml\u001b[49m\u001b[43m(\u001b[49m\u001b[43mpp\u001b[49m\u001b[43m)\u001b[49m\n\u001b[1;32m      2\u001b[0m lpl\u001b[38;5;241m.\u001b[39mplot()\n",
      "File \u001b[0;32m~/code/saturation/venv/lib/python3.10/site-packages/pointpats/distance_statistics.py:485\u001b[0m, in \u001b[0;36ml\u001b[0;34m(coordinates, support, permutations, distances, metric, edge_correction, linearized)\u001b[0m\n\u001b[1;32m    441\u001b[0m \u001b[38;5;28;01mdef\u001b[39;00m \u001b[38;5;21ml\u001b[39m(\n\u001b[1;32m    442\u001b[0m     coordinates,\n\u001b[1;32m    443\u001b[0m     support\u001b[38;5;241m=\u001b[39m\u001b[38;5;28;01mNone\u001b[39;00m,\n\u001b[0;32m   (...)\u001b[0m\n\u001b[1;32m    448\u001b[0m     linearized\u001b[38;5;241m=\u001b[39m\u001b[38;5;28;01mFalse\u001b[39;00m,\n\u001b[1;32m    449\u001b[0m ):\n\u001b[1;32m    450\u001b[0m     \u001b[38;5;124;03m\"\"\"\u001b[39;00m\n\u001b[1;32m    451\u001b[0m \u001b[38;5;124;03m    Ripley's L function\u001b[39;00m\n\u001b[1;32m    452\u001b[0m \n\u001b[0;32m   (...)\u001b[0m\n\u001b[1;32m    482\u001b[0m \u001b[38;5;124;03m    and the values of the function at each distance value in the support. \u001b[39;00m\n\u001b[1;32m    483\u001b[0m \u001b[38;5;124;03m    \"\"\"\u001b[39;00m\n\u001b[0;32m--> 485\u001b[0m     support, k_estimate \u001b[38;5;241m=\u001b[39m \u001b[43mk\u001b[49m\u001b[43m(\u001b[49m\n\u001b[1;32m    486\u001b[0m \u001b[43m        \u001b[49m\u001b[43mcoordinates\u001b[49m\u001b[43m,\u001b[49m\n\u001b[1;32m    487\u001b[0m \u001b[43m        \u001b[49m\u001b[43msupport\u001b[49m\u001b[38;5;241;43m=\u001b[39;49m\u001b[43msupport\u001b[49m\u001b[43m,\u001b[49m\n\u001b[1;32m    488\u001b[0m \u001b[43m        \u001b[49m\u001b[43mdistances\u001b[49m\u001b[38;5;241;43m=\u001b[39;49m\u001b[43mdistances\u001b[49m\u001b[43m,\u001b[49m\n\u001b[1;32m    489\u001b[0m \u001b[43m        \u001b[49m\u001b[43mmetric\u001b[49m\u001b[38;5;241;43m=\u001b[39;49m\u001b[43mmetric\u001b[49m\u001b[43m,\u001b[49m\n\u001b[1;32m    490\u001b[0m \u001b[43m        \u001b[49m\u001b[43medge_correction\u001b[49m\u001b[38;5;241;43m=\u001b[39;49m\u001b[43medge_correction\u001b[49m\u001b[43m,\u001b[49m\n\u001b[1;32m    491\u001b[0m \u001b[43m    \u001b[49m\u001b[43m)\u001b[49m\n\u001b[1;32m    493\u001b[0m     l \u001b[38;5;241m=\u001b[39m numpy\u001b[38;5;241m.\u001b[39msqrt(k_estimate \u001b[38;5;241m/\u001b[39m numpy\u001b[38;5;241m.\u001b[39mpi)\n\u001b[1;32m    495\u001b[0m     \u001b[38;5;28;01mif\u001b[39;00m linearized:\n",
      "File \u001b[0;32m~/code/saturation/venv/lib/python3.10/site-packages/pointpats/distance_statistics.py:411\u001b[0m, in \u001b[0;36mk\u001b[0;34m(coordinates, support, distances, metric, edge_correction)\u001b[0m\n\u001b[1;32m    381\u001b[0m \u001b[38;5;28;01mdef\u001b[39;00m \u001b[38;5;21mk\u001b[39m(\n\u001b[1;32m    382\u001b[0m     coordinates, support\u001b[38;5;241m=\u001b[39m\u001b[38;5;28;01mNone\u001b[39;00m, distances\u001b[38;5;241m=\u001b[39m\u001b[38;5;28;01mNone\u001b[39;00m, metric\u001b[38;5;241m=\u001b[39m\u001b[38;5;124m\"\u001b[39m\u001b[38;5;124meuclidean\u001b[39m\u001b[38;5;124m\"\u001b[39m, edge_correction\u001b[38;5;241m=\u001b[39m\u001b[38;5;28;01mNone\u001b[39;00m,\n\u001b[1;32m    383\u001b[0m ):\n\u001b[1;32m    384\u001b[0m     \u001b[38;5;124;03m\"\"\"\u001b[39;00m\n\u001b[1;32m    385\u001b[0m \u001b[38;5;124;03m    Ripley's K function\u001b[39;00m\n\u001b[1;32m    386\u001b[0m \n\u001b[0;32m   (...)\u001b[0m\n\u001b[1;32m    409\u001b[0m \u001b[38;5;124;03m    and the values of the function at each distance value in the support. \u001b[39;00m\n\u001b[1;32m    410\u001b[0m \u001b[38;5;124;03m    \"\"\"\u001b[39;00m\n\u001b[0;32m--> 411\u001b[0m     coordinates, support, distances, metric, hull, edge_correction \u001b[38;5;241m=\u001b[39m \u001b[43m_prepare\u001b[49m\u001b[43m(\u001b[49m\n\u001b[1;32m    412\u001b[0m \u001b[43m        \u001b[49m\u001b[43mcoordinates\u001b[49m\u001b[43m,\u001b[49m\u001b[43m \u001b[49m\u001b[43msupport\u001b[49m\u001b[43m,\u001b[49m\u001b[43m \u001b[49m\u001b[43mdistances\u001b[49m\u001b[43m,\u001b[49m\u001b[43m \u001b[49m\u001b[43mmetric\u001b[49m\u001b[43m,\u001b[49m\u001b[43m \u001b[49m\u001b[38;5;28;43;01mNone\u001b[39;49;00m\u001b[43m,\u001b[49m\u001b[43m \u001b[49m\u001b[43medge_correction\u001b[49m\n\u001b[1;32m    413\u001b[0m \u001b[43m    \u001b[49m\u001b[43m)\u001b[49m\n\u001b[1;32m    414\u001b[0m     n \u001b[38;5;241m=\u001b[39m coordinates\u001b[38;5;241m.\u001b[39mshape[\u001b[38;5;241m0\u001b[39m]\n\u001b[1;32m    415\u001b[0m     upper_tri_n \u001b[38;5;241m=\u001b[39m n \u001b[38;5;241m*\u001b[39m (n \u001b[38;5;241m-\u001b[39m \u001b[38;5;241m1\u001b[39m) \u001b[38;5;241m*\u001b[39m \u001b[38;5;241m0.5\u001b[39m\n",
      "File \u001b[0;32m~/code/saturation/venv/lib/python3.10/site-packages/pointpats/distance_statistics.py:60\u001b[0m, in \u001b[0;36m_prepare\u001b[0;34m(coordinates, support, distances, metric, hull, edge_correction)\u001b[0m\n\u001b[1;32m     58\u001b[0m \u001b[38;5;28;01melse\u001b[39;00m:\n\u001b[1;32m     59\u001b[0m     coordinates \u001b[38;5;241m=\u001b[39m numpy\u001b[38;5;241m.\u001b[39masarray(coordinates)\n\u001b[0;32m---> 60\u001b[0m hull \u001b[38;5;241m=\u001b[39m \u001b[43m_prepare_hull\u001b[49m\u001b[43m(\u001b[49m\u001b[43mcoordinates\u001b[49m\u001b[43m,\u001b[49m\u001b[43m \u001b[49m\u001b[43mhull\u001b[49m\u001b[43m)\u001b[49m\n\u001b[1;32m     62\u001b[0m \u001b[38;5;66;03m# evaluate distances\u001b[39;00m\n\u001b[1;32m     63\u001b[0m \u001b[38;5;28;01mif\u001b[39;00m (distances \u001b[38;5;129;01mis\u001b[39;00m \u001b[38;5;28;01mNone\u001b[39;00m) \u001b[38;5;129;01mand\u001b[39;00m metric \u001b[38;5;241m==\u001b[39m \u001b[38;5;124m\"\u001b[39m\u001b[38;5;124mprecomputed\u001b[39m\u001b[38;5;124m\"\u001b[39m:\n",
      "File \u001b[0;32m~/code/saturation/venv/lib/python3.10/site-packages/pointpats/geometry.py:398\u001b[0m, in \u001b[0;36mprepare_hull\u001b[0;34m(coordinates, hull)\u001b[0m\n\u001b[1;32m    396\u001b[0m     \u001b[38;5;28;01mreturn\u001b[39;00m hull\n\u001b[1;32m    397\u001b[0m \u001b[38;5;28;01mif\u001b[39;00m (hull \u001b[38;5;129;01mis\u001b[39;00m \u001b[38;5;28;01mNone\u001b[39;00m) \u001b[38;5;129;01mor\u001b[39;00m (hull \u001b[38;5;241m==\u001b[39m \u001b[38;5;124m\"\u001b[39m\u001b[38;5;124mbbox\u001b[39m\u001b[38;5;124m\"\u001b[39m):\n\u001b[0;32m--> 398\u001b[0m     \u001b[38;5;28;01mreturn\u001b[39;00m \u001b[43mbbox\u001b[49m\u001b[43m(\u001b[49m\u001b[43mcoordinates\u001b[49m\u001b[43m)\u001b[49m\n\u001b[1;32m    399\u001b[0m \u001b[38;5;28;01mif\u001b[39;00m HAS_SHAPELY:  \u001b[38;5;66;03m# protect the isinstance check if import has failed\u001b[39;00m\n\u001b[1;32m    400\u001b[0m     \u001b[38;5;28;01mif\u001b[39;00m \u001b[38;5;28misinstance\u001b[39m(hull, (_ShapelyPolygon, _ShapelyMultiPolygon)):\n",
      "File \u001b[0;32m/usr/lib/python3.10/functools.py:889\u001b[0m, in \u001b[0;36msingledispatch.<locals>.wrapper\u001b[0;34m(*args, **kw)\u001b[0m\n\u001b[1;32m    885\u001b[0m \u001b[38;5;28;01mif\u001b[39;00m \u001b[38;5;129;01mnot\u001b[39;00m args:\n\u001b[1;32m    886\u001b[0m     \u001b[38;5;28;01mraise\u001b[39;00m \u001b[38;5;167;01mTypeError\u001b[39;00m(\u001b[38;5;124mf\u001b[39m\u001b[38;5;124m'\u001b[39m\u001b[38;5;132;01m{\u001b[39;00mfuncname\u001b[38;5;132;01m}\u001b[39;00m\u001b[38;5;124m requires at least \u001b[39m\u001b[38;5;124m'\u001b[39m\n\u001b[1;32m    887\u001b[0m                     \u001b[38;5;124m'\u001b[39m\u001b[38;5;124m1 positional argument\u001b[39m\u001b[38;5;124m'\u001b[39m)\n\u001b[0;32m--> 889\u001b[0m \u001b[38;5;28;01mreturn\u001b[39;00m \u001b[43mdispatch\u001b[49m\u001b[43m(\u001b[49m\u001b[43margs\u001b[49m\u001b[43m[\u001b[49m\u001b[38;5;241;43m0\u001b[39;49m\u001b[43m]\u001b[49m\u001b[38;5;241;43m.\u001b[39;49m\u001b[38;5;18;43m__class__\u001b[39;49m\u001b[43m)\u001b[49m\u001b[43m(\u001b[49m\u001b[38;5;241;43m*\u001b[39;49m\u001b[43margs\u001b[49m\u001b[43m,\u001b[49m\u001b[43m \u001b[49m\u001b[38;5;241;43m*\u001b[39;49m\u001b[38;5;241;43m*\u001b[39;49m\u001b[43mkw\u001b[49m\u001b[43m)\u001b[49m\n",
      "File \u001b[0;32m~/code/saturation/venv/lib/python3.10/site-packages/pointpats/geometry.py:79\u001b[0m, in \u001b[0;36m_\u001b[0;34m(shape)\u001b[0m\n\u001b[1;32m     73\u001b[0m \u001b[38;5;129m@bbox\u001b[39m\u001b[38;5;241m.\u001b[39mregister\n\u001b[1;32m     74\u001b[0m \u001b[38;5;28;01mdef\u001b[39;00m \u001b[38;5;21m_\u001b[39m(shape: numpy\u001b[38;5;241m.\u001b[39mndarray):\n\u001b[1;32m     75\u001b[0m     \u001b[38;5;124;03m\"\"\"\u001b[39;00m\n\u001b[1;32m     76\u001b[0m \u001b[38;5;124;03m    If a shape is an array of points, compute the minima/maxima \u001b[39;00m\n\u001b[1;32m     77\u001b[0m \u001b[38;5;124;03m    or let it pass through if it's 1 dimensional & length 4\u001b[39;00m\n\u001b[1;32m     78\u001b[0m \u001b[38;5;124;03m    \"\"\"\u001b[39;00m\n\u001b[0;32m---> 79\u001b[0m     \u001b[38;5;28;01mif\u001b[39;00m (shape\u001b[38;5;241m.\u001b[39mndim \u001b[38;5;241m==\u001b[39m \u001b[38;5;241m1\u001b[39m) \u001b[38;5;241m&\u001b[39m (\u001b[38;5;28;43mlen\u001b[39;49m\u001b[43m(\u001b[49m\u001b[43mshape\u001b[49m\u001b[43m)\u001b[49m \u001b[38;5;241m==\u001b[39m \u001b[38;5;241m4\u001b[39m):\n\u001b[1;32m     80\u001b[0m         \u001b[38;5;28;01mreturn\u001b[39;00m shape\n\u001b[1;32m     81\u001b[0m     \u001b[38;5;28;01mreturn\u001b[39;00m numpy\u001b[38;5;241m.\u001b[39marray([\u001b[38;5;241m*\u001b[39mshape\u001b[38;5;241m.\u001b[39mmin(axis\u001b[38;5;241m=\u001b[39m\u001b[38;5;241m0\u001b[39m), \u001b[38;5;241m*\u001b[39mshape\u001b[38;5;241m.\u001b[39mmax(axis\u001b[38;5;241m=\u001b[39m\u001b[38;5;241m0\u001b[39m)])\n",
      "\u001b[0;31mTypeError\u001b[0m: len() of unsized object"
     ]
    }
   ],
   "source": [
    "lpl = l(pp)\n",
    "lpl.plot()"
   ]
  },
  {
   "cell_type": "code",
   "execution_count": null,
   "id": "b635df63-85b3-48e2-aac6-305a428c80a5",
   "metadata": {},
   "outputs": [],
   "source": []
  }
 ],
 "metadata": {
  "kernelspec": {
   "display_name": "Python 3 (ipykernel)",
   "language": "python",
   "name": "python3"
  },
  "language_info": {
   "codemirror_mode": {
    "name": "ipython",
    "version": 3
   },
   "file_extension": ".py",
   "mimetype": "text/x-python",
   "name": "python",
   "nbconvert_exporter": "python",
   "pygments_lexer": "ipython3",
   "version": "3.10.6"
  }
 },
 "nbformat": 4,
 "nbformat_minor": 5
}
