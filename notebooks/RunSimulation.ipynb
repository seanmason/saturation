{
 "cells": [
  {
   "cell_type": "markdown",
   "id": "894f9cc5-4ea6-44df-b38d-304f6f587883",
   "metadata": {},
   "source": [
    "### Run Simulation"
   ]
  },
  {
   "cell_type": "code",
   "execution_count": 1,
   "id": "ff4b0f2d-05bb-4b47-98de-6de79eec5836",
   "metadata": {},
   "outputs": [],
   "source": [
    "import datetime\n",
    "import numpy as np\n",
    "\n",
    "from saturation.simulation import *\n",
    "from saturation.distributions import *\n",
    "from saturation.geometry import *\n",
    "from saturation.plotting import *"
   ]
  },
  {
   "cell_type": "code",
   "execution_count": 2,
   "id": "0eda42e3-2a05-46ef-8274-7735adc6619c",
   "metadata": {},
   "outputs": [],
   "source": [
    "n_craters = 30000\n",
    "slope = -2\n",
    "terrain_size = 12500\n",
    "min_crater_radius = 2.5\n",
    "min_rim_percentage = 0.5\n",
    "effective_radius_multiplier = 1.5\n",
    "min_crater_radius_multiplier_for_stats = 9\n",
    "max_crater_radius = (terrain_size * 0.8) // 4\n",
    "\n",
    "size_distribution = PowerLawProbabilityDistribution(slope=slope, min_value=min_crater_radius, max_value=max_crater_radius)"
   ]
  },
  {
   "cell_type": "code",
   "execution_count": null,
   "id": "cd0f8e7e-27a6-4fe5-89c4-c53c2d2fb094",
   "metadata": {},
   "outputs": [
    {
     "name": "stdout",
     "output_type": "stream",
     "text": [
      "500,59,51,0.01482435\n",
      "1000,118,106,0.05263582\n",
      "1500,171,150,0.06743218\n",
      "2000,234,160,0.11989074\n",
      "2500,299,160,0.21232484\n",
      "3000,356,203,0.23990939\n",
      "3500,419,255,0.25861247\n",
      "4000,485,251,0.23322536\n",
      "4500,548,253,0.26159071\n",
      "5000,600,291,0.26975903\n",
      "5500,666,285,0.28280564\n",
      "6000,724,285,0.29083083\n",
      "6500,793,343,0.29835908\n"
     ]
    }
   ],
   "source": [
    "# Prev best 11 mins\n",
    "start = datetime.datetime.now()\n",
    "with open('/tmp/metrics7.csv', 'w') as output_file:\n",
    "    run_simulation(n_craters,\n",
    "                   size_distribution,\n",
    "                   min_crater_radius,\n",
    "                   min_rim_percentage,\n",
    "                   effective_radius_multiplier,\n",
    "                   min_crater_radius_multiplier_for_stats,\n",
    "                   terrain_size,\n",
    "                   output_file)\n",
    "\n",
    "print(datetime.datetime.now() - start)"
   ]
  },
  {
   "cell_type": "code",
   "execution_count": null,
   "id": "4a83134a-1486-4aac-abe7-d4e0ba05124a",
   "metadata": {},
   "outputs": [],
   "source": [
    "start = datetime.datetime.now()\n",
    "with open('/tmp/metrics8.csv', 'w') as output_file:\n",
    "    run_simulation(n_craters,\n",
    "                   size_distribution,\n",
    "                   min_crater_radius,\n",
    "                   min_rim_percentage,\n",
    "                   effective_radius_multiplier,\n",
    "                   min_crater_radius_multiplier_for_stats,\n",
    "                   terrain_size,\n",
    "                   output_file)\n",
    "\n",
    "print(datetime.datetime.now() - start)"
   ]
  },
  {
   "cell_type": "code",
   "execution_count": null,
   "id": "ccb11488-b801-4f43-8274-829400de8d1d",
   "metadata": {},
   "outputs": [],
   "source": [
    "start = datetime.datetime.now()\n",
    "with open('/tmp/metrics5.csv', 'w') as output_file:\n",
    "    run_simulation(n_craters,\n",
    "                   size_distribution,\n",
    "                   min_crater_radius,\n",
    "                   min_rim_percentage,\n",
    "                   effective_radius_multiplier,\n",
    "                   min_crater_radius_multiplier_for_stats,\n",
    "                   terrain_size,\n",
    "                   output_file)\n",
    "\n",
    "print(datetime.datetime.now() - start)"
   ]
  },
  {
   "cell_type": "code",
   "execution_count": null,
   "id": "4a63ee09-7143-4144-b06a-0175a0f7737c",
   "metadata": {},
   "outputs": [],
   "source": [
    "start = datetime.datetime.now()\n",
    "with open('/tmp/metrics6.csv', 'w') as output_file:\n",
    "    run_simulation(n_craters,\n",
    "                   size_distribution,\n",
    "                   min_crater_radius,\n",
    "                   min_rim_percentage,\n",
    "                   effective_radius_multiplier,\n",
    "                   min_crater_radius_multiplier_for_stats,\n",
    "                   terrain_size,\n",
    "                   output_file)\n",
    "\n",
    "print(datetime.datetime.now() - start)"
   ]
  },
  {
   "cell_type": "code",
   "execution_count": null,
   "id": "4e0a2d59-dcaa-4393-a41c-a755ec42d889",
   "metadata": {},
   "outputs": [],
   "source": []
  },
  {
   "cell_type": "code",
   "execution_count": null,
   "id": "ced867d2-f91c-40bf-95a5-69e39605c713",
   "metadata": {},
   "outputs": [],
   "source": [
    "# Before efficiency fix:\n",
    "# 200,15,15,0.00412184\n",
    "# 900,94,78,0.13525178\n",
    "# 1300,141,105,0.26435875\n",
    "# 1600,166,129,0.26539982\n",
    "# 2700,291,150,0.22526\n",
    "# 3500,372,207,0.25759674\n",
    "# 4600,472,239,0.1845546\n",
    "# 4700,485,251,0.18476965\n",
    "# 7700,828,371,0.25668587\n",
    "# 7800,840,380,0.25751119\n",
    "# 8400,906,433,0.26492655\n",
    "# 8500,916,442,0.26502444\n",
    "# 9300,1002,442,0.25408119\n",
    "# 12100,1296,558,0.28939551\n",
    "# 13400,1449,504,0.30243335\n",
    "# 13700,1481,471,0.30804985\n",
    "# 14700,1589,505,0.32193223\n",
    "# 15700,1704,532,0.33059371\n",
    "# 15800,1717,541,0.33075196\n",
    "# 16200,1755,470,0.3450441\n",
    "# 16500,1787,459,0.35519147\n",
    "# 17900,1947,487,0.23300163\n",
    "# 18600,2038,545,0.24601985\n",
    "# 20000,2184,449,0.2788194\n",
    "# 23100,2532,558,0.31770866\n",
    "# 23200,2541,566,0.3177271\n",
    "# 25000,2735,427,0.33508798\n",
    "# 25300,2778,436,0.31148721\n",
    "# 26400,2892,472,0.28578862\n",
    "# 26800,2938,393,0.31258169\n",
    "# 27000,2957,366,0.30852817\n",
    "# 27100,2972,344,0.2652805\n",
    "# 27400,3015,334,0.29073411\n",
    "# 28000,3097,303,0.32351617\n",
    "# 28100,3104,310,0.32353403\n",
    "# 28700,3171,372,0.32723466\n",
    "# 29500,3264,401,0.30338058\n",
    "# 1:14:45.142652"
   ]
  }
 ],
 "metadata": {
  "kernelspec": {
   "display_name": "Python 3 (ipykernel)",
   "language": "python",
   "name": "python3"
  },
  "language_info": {
   "codemirror_mode": {
    "name": "ipython",
    "version": 3
   },
   "file_extension": ".py",
   "mimetype": "text/x-python",
   "name": "python",
   "nbconvert_exporter": "python",
   "pygments_lexer": "ipython3",
   "version": "3.10.4"
  }
 },
 "nbformat": 4,
 "nbformat_minor": 5
}
