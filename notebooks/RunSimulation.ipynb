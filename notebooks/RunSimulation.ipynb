{
 "cells": [
  {
   "cell_type": "markdown",
   "id": "894f9cc5-4ea6-44df-b38d-304f6f587883",
   "metadata": {},
   "source": [
    "### Run Simulation"
   ]
  },
  {
   "cell_type": "code",
   "execution_count": 1,
   "id": "ff4b0f2d-05bb-4b47-98de-6de79eec5836",
   "metadata": {},
   "outputs": [],
   "source": [
    "import datetime\n",
    "import numpy as np\n",
    "\n",
    "from saturation.simulation import *\n",
    "from saturation.distributions import *\n",
    "from saturation.geometry import *\n",
    "from saturation.plotting import *"
   ]
  },
  {
   "cell_type": "code",
   "execution_count": 2,
   "id": "0eda42e3-2a05-46ef-8274-7735adc6619c",
   "metadata": {},
   "outputs": [],
   "source": [
    "n_craters = 30000\n",
    "slope = -2\n",
    "terrain_size = 12500\n",
    "min_crater_radius = 2.5\n",
    "min_rim_percentage = 0.5\n",
    "effective_radius_multiplier = 1.5\n",
    "min_crater_radius_multiplier_for_stats = 9\n",
    "max_crater_radius = (terrain_size * 0.8) // 4\n",
    "\n",
    "size_distribution = PowerLawProbabilityDistribution(slope=slope, min_value=min_crater_radius, max_value=max_crater_radius)"
   ]
  },
  {
   "cell_type": "code",
   "execution_count": null,
   "id": "cd0f8e7e-27a6-4fe5-89c4-c53c2d2fb094",
   "metadata": {},
   "outputs": [
    {
     "name": "stdout",
     "output_type": "stream",
     "text": [
      "500,53,49,0.00305332,-2.1810103852354,-2.170617376726204\n",
      "1000,117,104,0.05265893,-0.8705765497545952,-0.546524992679656\n",
      "1500,183,156,0.04033789,-0.6369118108645593,-0.3196176778553187\n",
      "2000,241,206,0.06500108,-0.621697060521368,0.0009844015085503526\n",
      "2500,299,188,0.20183166,-2.182641642426044,-0.36351775803513126\n",
      "3000,349,167,0.26252367,-2.9510424267167155,-0.5872805584060474\n",
      "3500,400,215,0.17119893,-1.7034420734975912,0.0585362031718908\n",
      "4000,462,224,0.2283301,-0.5034241219422759,2.1004106379527485\n",
      "4500,528,261,0.28122947,-1.3784405930093975,2.024836221866292\n",
      "5000,577,248,0.37485776,-2.1079615306132347,2.1922706361129154\n",
      "5500,627,204,0.399116,-2.860634474433661,1.050511769095129\n",
      "6000,672,248,0.40317734,-1.6416902531443207,3.218489921133118\n",
      "6500,730,271,0.33917322,-2.3408092363970203,1.5232945439222876\n",
      "7000,788,311,0.33852409,-1.7008501633241142,2.65862910643816\n",
      "7500,847,318,0.34143279,-0.6393222494382085,4.431731545406506\n",
      "8000,894,353,0.35176259,-0.5027229970054721,5.2507316934171575\n",
      "8500,956,377,0.30980298,-0.49926175958657,4.612433405496171\n",
      "9000,1012,392,0.26807897,-2.073036251287005,1.9472740946591665\n",
      "9500,1076,436,0.28513344,-2.263562753121469,2.3036268148398262\n",
      "10000,1129,410,0.29603751,-1.867012288172888,3.194087139893149\n",
      "10500,1179,412,0.29602485,-1.1497438085614438,4.1958293240032845\n",
      "11000,1234,451,0.3087365,-0.1455073666012501,5.9703217807092654\n",
      "11500,1287,380,0.33526148,-0.5519550442676159,5.3432835712666416\n",
      "12000,1344,373,0.38047437,-2.440986662298426,3.5657803143621742\n",
      "12500,1397,403,0.38948061,-3.0158459503527886,3.302381870055309\n",
      "13000,1459,425,0.32475713,-3.5814682410305334,1.2559257006220734\n",
      "13500,1516,417,0.32435765,-3.0488573818363225,1.8497346032114887\n",
      "14000,1573,314,0.35793105,-3.0942010392899366,1.7718108054065584\n",
      "14500,1612,340,0.35669861,-2.7592535382262704,2.4754854216156783\n",
      "15000,1659,348,0.36168361,-2.536979152998639,2.759930141148419\n",
      "15500,1706,381,0.37001943,-3.6858810323200366,1.8769875979059385\n",
      "16000,1753,360,0.28268554,-4.784489460592362,-1.4008278680650268\n"
     ]
    }
   ],
   "source": [
    "# Prev best 11 mins\n",
    "start = datetime.datetime.now()\n",
    "with open('/tmp/metrics7.csv', 'w') as output_file:\n",
    "    run_simulation(n_craters,\n",
    "                   size_distribution,\n",
    "                   min_crater_radius,\n",
    "                   min_rim_percentage,\n",
    "                   effective_radius_multiplier,\n",
    "                   min_crater_radius_multiplier_for_stats,\n",
    "                   terrain_size,\n",
    "                   output_file)\n",
    "\n",
    "print(datetime.datetime.now() - start)"
   ]
  },
  {
   "cell_type": "code",
   "execution_count": null,
   "id": "4a83134a-1486-4aac-abe7-d4e0ba05124a",
   "metadata": {},
   "outputs": [],
   "source": [
    "start = datetime.datetime.now()\n",
    "with open('/tmp/metrics8.csv', 'w') as output_file:\n",
    "    run_simulation(n_craters,\n",
    "                   size_distribution,\n",
    "                   min_crater_radius,\n",
    "                   min_rim_percentage,\n",
    "                   effective_radius_multiplier,\n",
    "                   min_crater_radius_multiplier_for_stats,\n",
    "                   terrain_size,\n",
    "                   output_file)\n",
    "\n",
    "print(datetime.datetime.now() - start)"
   ]
  },
  {
   "cell_type": "code",
   "execution_count": null,
   "id": "ccb11488-b801-4f43-8274-829400de8d1d",
   "metadata": {},
   "outputs": [],
   "source": [
    "start = datetime.datetime.now()\n",
    "with open('/tmp/metrics5.csv', 'w') as output_file:\n",
    "    run_simulation(n_craters,\n",
    "                   size_distribution,\n",
    "                   min_crater_radius,\n",
    "                   min_rim_percentage,\n",
    "                   effective_radius_multiplier,\n",
    "                   min_crater_radius_multiplier_for_stats,\n",
    "                   terrain_size,\n",
    "                   output_file)\n",
    "\n",
    "print(datetime.datetime.now() - start)"
   ]
  },
  {
   "cell_type": "code",
   "execution_count": null,
   "id": "4a63ee09-7143-4144-b06a-0175a0f7737c",
   "metadata": {},
   "outputs": [],
   "source": [
    "start = datetime.datetime.now()\n",
    "with open('/tmp/metrics6.csv', 'w') as output_file:\n",
    "    run_simulation(n_craters,\n",
    "                   size_distribution,\n",
    "                   min_crater_radius,\n",
    "                   min_rim_percentage,\n",
    "                   effective_radius_multiplier,\n",
    "                   min_crater_radius_multiplier_for_stats,\n",
    "                   terrain_size,\n",
    "                   output_file)\n",
    "\n",
    "print(datetime.datetime.now() - start)"
   ]
  },
  {
   "cell_type": "code",
   "execution_count": null,
   "id": "4e0a2d59-dcaa-4393-a41c-a755ec42d889",
   "metadata": {},
   "outputs": [],
   "source": []
  },
  {
   "cell_type": "code",
   "execution_count": null,
   "id": "ced867d2-f91c-40bf-95a5-69e39605c713",
   "metadata": {},
   "outputs": [],
   "source": [
    "# Before efficiency fix:\n",
    "# 200,15,15,0.00412184\n",
    "# 900,94,78,0.13525178\n",
    "# 1300,141,105,0.26435875\n",
    "# 1600,166,129,0.26539982\n",
    "# 2700,291,150,0.22526\n",
    "# 3500,372,207,0.25759674\n",
    "# 4600,472,239,0.1845546\n",
    "# 4700,485,251,0.18476965\n",
    "# 7700,828,371,0.25668587\n",
    "# 7800,840,380,0.25751119\n",
    "# 8400,906,433,0.26492655\n",
    "# 8500,916,442,0.26502444\n",
    "# 9300,1002,442,0.25408119\n",
    "# 12100,1296,558,0.28939551\n",
    "# 13400,1449,504,0.30243335\n",
    "# 13700,1481,471,0.30804985\n",
    "# 14700,1589,505,0.32193223\n",
    "# 15700,1704,532,0.33059371\n",
    "# 15800,1717,541,0.33075196\n",
    "# 16200,1755,470,0.3450441\n",
    "# 16500,1787,459,0.35519147\n",
    "# 17900,1947,487,0.23300163\n",
    "# 18600,2038,545,0.24601985\n",
    "# 20000,2184,449,0.2788194\n",
    "# 23100,2532,558,0.31770866\n",
    "# 23200,2541,566,0.3177271\n",
    "# 25000,2735,427,0.33508798\n",
    "# 25300,2778,436,0.31148721\n",
    "# 26400,2892,472,0.28578862\n",
    "# 26800,2938,393,0.31258169\n",
    "# 27000,2957,366,0.30852817\n",
    "# 27100,2972,344,0.2652805\n",
    "# 27400,3015,334,0.29073411\n",
    "# 28000,3097,303,0.32351617\n",
    "# 28100,3104,310,0.32353403\n",
    "# 28700,3171,372,0.32723466\n",
    "# 29500,3264,401,0.30338058\n",
    "# 1:14:45.142652"
   ]
  }
 ],
 "metadata": {
  "kernelspec": {
   "display_name": "Python 3 (ipykernel)",
   "language": "python",
   "name": "python3"
  },
  "language_info": {
   "codemirror_mode": {
    "name": "ipython",
    "version": 3
   },
   "file_extension": ".py",
   "mimetype": "text/x-python",
   "name": "python",
   "nbconvert_exporter": "python",
   "pygments_lexer": "ipython3",
   "version": "3.10.4"
  }
 },
 "nbformat": 4,
 "nbformat_minor": 5
}
