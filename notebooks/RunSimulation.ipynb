{
 "cells": [
  {
   "cell_type": "markdown",
   "id": "894f9cc5-4ea6-44df-b38d-304f6f587883",
   "metadata": {},
   "source": [
    "### Run Simulation"
   ]
  },
  {
   "cell_type": "code",
   "execution_count": 1,
   "id": "ff4b0f2d-05bb-4b47-98de-6de79eec5836",
   "metadata": {},
   "outputs": [],
   "source": [
    "import numpy as np\n",
    "\n",
    "from saturation.simulation import *\n",
    "from saturation.distributions import *\n",
    "from saturation.geometry import *\n",
    "from saturation.plotting import *"
   ]
  },
  {
   "cell_type": "code",
   "execution_count": 2,
   "id": "0eda42e3-2a05-46ef-8274-7735adc6619c",
   "metadata": {},
   "outputs": [],
   "source": [
    "n_craters = 20000\n",
    "slope = -3\n",
    "terrain_size = 12500\n",
    "min_crater_radius = 2.5\n",
    "min_rim_percentage = 0.5\n",
    "effective_radius_multiplier = 1.5\n",
    "min_crater_radius_multiplier_for_stats = 9\n",
    "max_crater_radius = (terrain_size * 0.8) // 4\n",
    "\n",
    "size_distribution = PowerLawProbabilityDistribution(slope=slope, min_value=min_crater_radius, max_value=max_crater_radius)"
   ]
  },
  {
   "cell_type": "code",
   "execution_count": 3,
   "id": "cd0f8e7e-27a6-4fe5-89c4-c53c2d2fb094",
   "metadata": {},
   "outputs": [
    {
     "name": "stdout",
     "output_type": "stream",
     "text": [
      "20000,253,251,0.01785467\n"
     ]
    }
   ],
   "source": [
    "with open('/tmp/metrics.csv', 'w') as output_file:\n",
    "    run_simulation(n_craters,\n",
    "                   size_distribution,\n",
    "                   min_crater_radius,\n",
    "                   min_rim_percentage,\n",
    "                   effective_radius_multiplier,\n",
    "                   min_crater_radius_multiplier_for_stats,\n",
    "                   terrain_size,\n",
    "                   output_file)"
   ]
  }
 ],
 "metadata": {
  "kernelspec": {
   "display_name": "Python 3 (ipykernel)",
   "language": "python",
   "name": "python3"
  },
  "language_info": {
   "codemirror_mode": {
    "name": "ipython",
    "version": 3
   },
   "file_extension": ".py",
   "mimetype": "text/x-python",
   "name": "python",
   "nbconvert_exporter": "python",
   "pygments_lexer": "ipython3",
   "version": "3.10.4"
  }
 },
 "nbformat": 4,
 "nbformat_minor": 5
}
