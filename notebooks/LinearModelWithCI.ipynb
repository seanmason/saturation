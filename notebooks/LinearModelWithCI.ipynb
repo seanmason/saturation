{
 "cells": [
  {
   "cell_type": "markdown",
   "id": "0862e1de-50d4-424b-86e2-25fd84456ee8",
   "metadata": {},
   "source": [
    "#### Data preparation\n",
    "- 243 simulations, 3 per point in the CCD design\n",
    "- Hold out 1 simulation per CCD point for testing\n",
    "- From the final 50,000 steps of each simulation, take a random sample of 5,000\n",
    "\n",
    "#### Models\n",
    "$\\gamma = \\beta * X + \\epsilon$\n",
    "\n",
    "$Z = \\beta * X + \\epsilon$\n",
    "\n",
    "$Za = \\beta * X + \\epsilon$\n",
    "\n",
    "where $\\gamma$ is areal density and X is the design matrix.\n",
    "\n",
    "Predictor variables (PVs) in the design matrix are:\n",
    "- slope\n",
    "- R_stat multiplier\n",
    "- Min rim percentage\n",
    "- Effective radius multiplier\n",
    "- Number of craters in the study region"
   ]
  },
  {
   "cell_type": "code",
   "execution_count": 70,
   "id": "0a8697b0-37cd-4be9-9d9e-77a08a58a36a",
   "metadata": {},
   "outputs": [],
   "source": [
    "import matplotlib.pyplot as plt\n",
    "import plotly.express as px\n",
    "import plotly.io as pio\n",
    "import plotly.graph_objects as go\n",
    "import numpy as np\n",
    "\n",
    "from pathlib import Path\n",
    "import pandas as pd\n",
    "\n",
    "import statsmodels.api as sm\n",
    "\n",
    "import sklearn\n",
    "from sklearn import preprocessing\n",
    "from sklearn.preprocessing import MinMaxScaler\n",
    "\n",
    "pio.renderers.default = \"iframe\""
   ]
  },
  {
   "cell_type": "code",
   "execution_count": 122,
   "id": "cd7247ec-2a88-428e-a90a-353dd44cb55f",
   "metadata": {},
   "outputs": [],
   "source": [
    "base_path = \"/data/saturation/central_composite_design/ccd5\"\n",
    "ivs = [\"slope\", \"effective_radius_multiplier\", \"r_stat_multiplier\", \"min_rim_percentage\", \"n_craters_in_study_region\"]"
   ]
  },
  {
   "cell_type": "code",
   "execution_count": 123,
   "id": "d24096cf-555b-4268-8733-63e89e68272b",
   "metadata": {},
   "outputs": [],
   "source": [
    "# stats_df = pd.read_csv(f\"{base_path}/post_saturation_sample_500.csv\")\n",
    "stats_df = pd.read_csv(f\"{base_path}/post_saturation_sample_5000.csv\")\n",
    "\n",
    "min_max_scaler = MinMaxScaler()\n",
    "stats_df[ivs] = min_max_scaler.fit_transform(stats_df[ivs])\n",
    "\n",
    "paths = list(Path(base_path).glob(\"simulation_*.parquet\"))\n",
    "holdout_sim_dfs = [pd.read_parquet(x) for x in paths]\n",
    "\n",
    "# metric = \"areal_density\"\n",
    "metric = \"za\"\n",
    "# metric = \"z\""
   ]
  },
  {
   "cell_type": "code",
   "execution_count": null,
   "id": "d4747606-6cd0-4ed7-a630-262109541872",
   "metadata": {},
   "outputs": [],
   "source": []
  },
  {
   "cell_type": "code",
   "execution_count": 156,
   "id": "9c4880ae-d963-4579-b981-58eb8d5292dc",
   "metadata": {},
   "outputs": [],
   "source": [
    "# Transform za using boxcox\n",
    "from scipy.stats import boxcox\n",
    "\n",
    "metric_to_transform = \"za\"\n",
    "metric = \"za_transformed\"\n",
    "\n",
    "# metric_to_transform = \"areal_density\"\n",
    "# metric = \"areal_density_transformed\"\n",
    "\n",
    "stats_df[metric] = np.log(stats_df[metric_to_transform].fillna(0) - stats_df[metric_to_transform].min() + 1)\n",
    "# stats_df[metric], lmbda = boxcox(stats_df[metric_to_transform].fillna(0) - stats_df[metric_to_transform].min() + 1)\n",
    "# stats_df[metric], lmbda = boxcox(stats_df[metric_to_transform])"
   ]
  },
  {
   "cell_type": "code",
   "execution_count": 149,
   "id": "4a12b364-09f5-4340-ab47-c6a64ac2140e",
   "metadata": {},
   "outputs": [
    {
     "data": {
      "text/plain": [
       "-0.14250784421293938"
      ]
     },
     "execution_count": 149,
     "metadata": {},
     "output_type": "execute_result"
    }
   ],
   "source": [
    "# Box-Cox lambda\n",
    "lmbda"
   ]
  },
  {
   "cell_type": "code",
   "execution_count": 150,
   "id": "37aca7e5-9d15-4a9a-a9cc-22be147c73dd",
   "metadata": {},
   "outputs": [
    {
     "data": {
      "image/png": "[encoded data removed]",
      "text/plain": [
       "<Figure size 432x288 with 1 Axes>"
      ]
     },
     "metadata": {
      "needs_background": "light"
     },
     "output_type": "display_data"
    }
   ],
   "source": [
    "plt.hist(stats_df[metric_to_transform], bins=50)\n",
    "plt.show()"
   ]
  },
  {
   "cell_type": "code",
   "execution_count": 157,
   "id": "a9096bc8-baf6-4d5f-89b2-0c2c79fd2111",
   "metadata": {},
   "outputs": [
    {
     "data": {
      "image/png": "[encoded data removed]",
      "text/plain": [
       "<Figure size 432x288 with 1 Axes>"
      ]
     },
     "metadata": {
      "needs_background": "light"
     },
     "output_type": "display_data"
    }
   ],
   "source": [
    "plt.hist(stats_df[metric], bins=50)\n",
    "plt.show()"
   ]
  },
  {
   "cell_type": "code",
   "execution_count": null,
   "id": "5ee314ff-1dae-4730-bcb3-1feb2b6ed466",
   "metadata": {},
   "outputs": [],
   "source": []
  },
  {
   "cell_type": "code",
   "execution_count": null,
   "id": "ed4799a8-d7f8-46b2-8970-64e100e70941",
   "metadata": {},
   "outputs": [],
   "source": []
  },
  {
   "cell_type": "code",
   "execution_count": 152,
   "id": "43e10856-cf79-4408-89e0-421044a4b0eb",
   "metadata": {},
   "outputs": [],
   "source": [
    "poly_transform = sklearn.preprocessing.PolynomialFeatures(degree=1)\n",
    "X = poly_transform.fit_transform(stats_df[ivs])\n",
    "X = pd.DataFrame(X, columns=poly_transform.get_feature_names_out())"
   ]
  },
  {
   "cell_type": "code",
   "execution_count": 153,
   "id": "94c70dc2-a61c-41ac-ac96-ec898b12ee7d",
   "metadata": {},
   "outputs": [
    {
     "data": {
      "text/html": [
       "<table class=\"simpletable\">\n",
       "<caption>OLS Regression Results</caption>\n",
       "<tr>\n",
       "  <th>Dep. Variable:</th>     <td>za_transformed</td>  <th>  R-squared:         </th>  <td>   0.951</td> \n",
       "</tr>\n",
       "<tr>\n",
       "  <th>Model:</th>                   <td>OLS</td>       <th>  Adj. R-squared:    </th>  <td>   0.951</td> \n",
       "</tr>\n",
       "<tr>\n",
       "  <th>Method:</th>             <td>Least Squares</td>  <th>  F-statistic:       </th>  <td>4.233e+06</td>\n",
       "</tr>\n",
       "<tr>\n",
       "  <th>Date:</th>             <td>Sun, 26 Feb 2023</td> <th>  Prob (F-statistic):</th>   <td>  0.00</td>  \n",
       "</tr>\n",
       "<tr>\n",
       "  <th>Time:</th>                 <td>15:19:19</td>     <th>  Log-Likelihood:    </th> <td>9.1405e+05</td>\n",
       "</tr>\n",
       "<tr>\n",
       "  <th>No. Observations:</th>      <td>1080788</td>     <th>  AIC:               </th> <td>-1.828e+06</td>\n",
       "</tr>\n",
       "<tr>\n",
       "  <th>Df Residuals:</th>          <td>1080782</td>     <th>  BIC:               </th> <td>-1.828e+06</td>\n",
       "</tr>\n",
       "<tr>\n",
       "  <th>Df Model:</th>              <td>     5</td>      <th>                     </th>      <td> </td>    \n",
       "</tr>\n",
       "<tr>\n",
       "  <th>Covariance Type:</th>      <td>nonrobust</td>    <th>                     </th>      <td> </td>    \n",
       "</tr>\n",
       "</table>\n",
       "<table class=\"simpletable\">\n",
       "<tr>\n",
       "               <td></td>                  <th>coef</th>     <th>std err</th>      <th>t</th>      <th>P>|t|</th>  <th>[0.025</th>    <th>0.975]</th>  \n",
       "</tr>\n",
       "<tr>\n",
       "  <th>1</th>                           <td>    3.2429</td> <td>    0.000</td> <td>  1.1e+04</td> <td> 0.000</td> <td>    3.242</td> <td>    3.243</td>\n",
       "</tr>\n",
       "<tr>\n",
       "  <th>slope</th>                       <td>    0.9235</td> <td>    0.000</td> <td> 1985.489</td> <td> 0.000</td> <td>    0.923</td> <td>    0.924</td>\n",
       "</tr>\n",
       "<tr>\n",
       "  <th>effective_radius_multiplier</th> <td>   -0.4883</td> <td>    0.000</td> <td>-1623.964</td> <td> 0.000</td> <td>   -0.489</td> <td>   -0.488</td>\n",
       "</tr>\n",
       "<tr>\n",
       "  <th>r_stat_multiplier</th>           <td>   -0.0005</td> <td>    0.000</td> <td>   -1.878</td> <td> 0.060</td> <td>   -0.001</td> <td> 2.05e-05</td>\n",
       "</tr>\n",
       "<tr>\n",
       "  <th>min_rim_percentage</th>          <td>   -0.2285</td> <td>    0.000</td> <td> -842.449</td> <td> 0.000</td> <td>   -0.229</td> <td>   -0.228</td>\n",
       "</tr>\n",
       "<tr>\n",
       "  <th>n_craters_in_study_region</th>   <td>    0.1267</td> <td>    0.001</td> <td>  146.714</td> <td> 0.000</td> <td>    0.125</td> <td>    0.128</td>\n",
       "</tr>\n",
       "</table>\n",
       "<table class=\"simpletable\">\n",
       "<tr>\n",
       "  <th>Omnibus:</th>       <td>58897.059</td> <th>  Durbin-Watson:     </th>  <td>   0.015</td> \n",
       "</tr>\n",
       "<tr>\n",
       "  <th>Prob(Omnibus):</th>  <td> 0.000</td>   <th>  Jarque-Bera (JB):  </th> <td>194071.032</td>\n",
       "</tr>\n",
       "<tr>\n",
       "  <th>Skew:</th>           <td> 0.215</td>   <th>  Prob(JB):          </th>  <td>    0.00</td> \n",
       "</tr>\n",
       "<tr>\n",
       "  <th>Kurtosis:</th>       <td> 5.031</td>   <th>  Cond. No.          </th>  <td>    14.4</td> \n",
       "</tr>\n",
       "</table><br/><br/>Notes:<br/>[1] Standard Errors assume that the covariance matrix of the errors is correctly specified."
      ],
      "text/plain": [
       "<class 'statsmodels.iolib.summary.Summary'>\n",
       "\"\"\"\n",
       "                            OLS Regression Results                            \n",
       "==============================================================================\n",
       "Dep. Variable:         za_transformed   R-squared:                       0.951\n",
       "Model:                            OLS   Adj. R-squared:                  0.951\n",
       "Method:                 Least Squares   F-statistic:                 4.233e+06\n",
       "Date:                Sun, 26 Feb 2023   Prob (F-statistic):               0.00\n",
       "Time:                        15:19:19   Log-Likelihood:             9.1405e+05\n",
       "No. Observations:             1080788   AIC:                        -1.828e+06\n",
       "Df Residuals:                 1080782   BIC:                        -1.828e+06\n",
       "Df Model:                           5                                         \n",
       "Covariance Type:            nonrobust                                         \n",
       "===============================================================================================\n",
       "                                  coef    std err          t      P>|t|      [0.025      0.975]\n",
       "-----------------------------------------------------------------------------------------------\n",
       "1                               3.2429      0.000    1.1e+04      0.000       3.242       3.243\n",
       "slope                           0.9235      0.000   1985.489      0.000       0.923       0.924\n",
       "effective_radius_multiplier    -0.4883      0.000  -1623.964      0.000      -0.489      -0.488\n",
       "r_stat_multiplier              -0.0005      0.000     -1.878      0.060      -0.001    2.05e-05\n",
       "min_rim_percentage             -0.2285      0.000   -842.449      0.000      -0.229      -0.228\n",
       "n_craters_in_study_region       0.1267      0.001    146.714      0.000       0.125       0.128\n",
       "==============================================================================\n",
       "Omnibus:                    58897.059   Durbin-Watson:                   0.015\n",
       "Prob(Omnibus):                  0.000   Jarque-Bera (JB):           194071.032\n",
       "Skew:                           0.215   Prob(JB):                         0.00\n",
       "Kurtosis:                       5.031   Cond. No.                         14.4\n",
       "==============================================================================\n",
       "\n",
       "Notes:\n",
       "[1] Standard Errors assume that the covariance matrix of the errors is correctly specified.\n",
       "\"\"\""
      ]
     },
     "execution_count": 153,
     "metadata": {},
     "output_type": "execute_result"
    }
   ],
   "source": [
    "# With the Box-Cox transformed target\n",
    "y = stats_df[metric]\n",
    "\n",
    "model = sm.OLS(y, X).fit()\n",
    "model.summary()"
   ]
  },
  {
   "cell_type": "code",
   "execution_count": null,
   "id": "5575881d-f10b-4858-bae6-3e516738c9f4",
   "metadata": {},
   "outputs": [],
   "source": []
  },
  {
   "cell_type": "code",
   "execution_count": 154,
   "id": "c0cbf61c-1108-4a97-bb20-68ebe8f76d89",
   "metadata": {},
   "outputs": [
    {
     "data": {
      "image/png": "[encoded data removed]",
      "text/plain": [
       "<Figure size 432x288 with 1 Axes>"
      ]
     },
     "metadata": {
      "needs_background": "light"
     },
     "output_type": "display_data"
    }
   ],
   "source": [
    "plt.hist(model.resid, bins=50)\n",
    "plt.show()"
   ]
  },
  {
   "cell_type": "code",
   "execution_count": 141,
   "id": "5f9461de-6f37-4393-a2ab-6a1a1dc9fd9e",
   "metadata": {},
   "outputs": [
    {
     "data": {
      "text/html": [
       "<table class=\"simpletable\">\n",
       "<caption>OLS Regression Results</caption>\n",
       "<tr>\n",
       "  <th>Dep. Variable:</th>           <td>za</td>        <th>  R-squared:         </th>  <td>   0.951</td>  \n",
       "</tr>\n",
       "<tr>\n",
       "  <th>Model:</th>                   <td>OLS</td>       <th>  Adj. R-squared:    </th>  <td>   0.951</td>  \n",
       "</tr>\n",
       "<tr>\n",
       "  <th>Method:</th>             <td>Least Squares</td>  <th>  F-statistic:       </th>  <td>4.174e+06</td> \n",
       "</tr>\n",
       "<tr>\n",
       "  <th>Date:</th>             <td>Sun, 26 Feb 2023</td> <th>  Prob (F-statistic):</th>   <td>  0.00</td>   \n",
       "</tr>\n",
       "<tr>\n",
       "  <th>Time:</th>                 <td>15:16:18</td>     <th>  Log-Likelihood:    </th> <td>-5.4405e+06</td>\n",
       "</tr>\n",
       "<tr>\n",
       "  <th>No. Observations:</th>      <td>1080788</td>     <th>  AIC:               </th>  <td>1.088e+07</td> \n",
       "</tr>\n",
       "<tr>\n",
       "  <th>Df Residuals:</th>          <td>1080782</td>     <th>  BIC:               </th>  <td>1.088e+07</td> \n",
       "</tr>\n",
       "<tr>\n",
       "  <th>Df Model:</th>              <td>     5</td>      <th>                     </th>      <td> </td>     \n",
       "</tr>\n",
       "<tr>\n",
       "  <th>Covariance Type:</th>      <td>nonrobust</td>    <th>                     </th>      <td> </td>     \n",
       "</tr>\n",
       "</table>\n",
       "<table class=\"simpletable\">\n",
       "<tr>\n",
       "               <td></td>                  <th>coef</th>     <th>std err</th>      <th>t</th>      <th>P>|t|</th>  <th>[0.025</th>    <th>0.975]</th>  \n",
       "</tr>\n",
       "<tr>\n",
       "  <th>1</th>                           <td>   52.2967</td> <td>    0.105</td> <td>  498.121</td> <td> 0.000</td> <td>   52.091</td> <td>   52.502</td>\n",
       "</tr>\n",
       "<tr>\n",
       "  <th>slope</th>                       <td>  -66.3616</td> <td>    0.166</td> <td> -398.898</td> <td> 0.000</td> <td>  -66.688</td> <td>  -66.036</td>\n",
       "</tr>\n",
       "<tr>\n",
       "  <th>effective_radius_multiplier</th> <td>  -33.1071</td> <td>    0.108</td> <td> -307.833</td> <td> 0.000</td> <td>  -33.318</td> <td>  -32.896</td>\n",
       "</tr>\n",
       "<tr>\n",
       "  <th>r_stat_multiplier</th>           <td>   -1.1889</td> <td>    0.089</td> <td>  -13.326</td> <td> 0.000</td> <td>   -1.364</td> <td>   -1.014</td>\n",
       "</tr>\n",
       "<tr>\n",
       "  <th>min_rim_percentage</th>          <td>  -27.3790</td> <td>    0.097</td> <td> -282.257</td> <td> 0.000</td> <td>  -27.569</td> <td>  -27.189</td>\n",
       "</tr>\n",
       "<tr>\n",
       "  <th>n_craters_in_study_region</th>   <td>  727.0617</td> <td>    0.309</td> <td> 2354.473</td> <td> 0.000</td> <td>  726.457</td> <td>  727.667</td>\n",
       "</tr>\n",
       "</table>\n",
       "<table class=\"simpletable\">\n",
       "<tr>\n",
       "  <th>Omnibus:</th>       <td>215475.962</td> <th>  Durbin-Watson:     </th>  <td>   0.001</td> \n",
       "</tr>\n",
       "<tr>\n",
       "  <th>Prob(Omnibus):</th>   <td> 0.000</td>   <th>  Jarque-Bera (JB):  </th> <td>571478.182</td>\n",
       "</tr>\n",
       "<tr>\n",
       "  <th>Skew:</th>            <td> 1.082</td>   <th>  Prob(JB):          </th>  <td>    0.00</td> \n",
       "</tr>\n",
       "<tr>\n",
       "  <th>Kurtosis:</th>        <td> 5.830</td>   <th>  Cond. No.          </th>  <td>    14.4</td> \n",
       "</tr>\n",
       "</table><br/><br/>Notes:<br/>[1] Standard Errors assume that the covariance matrix of the errors is correctly specified."
      ],
      "text/plain": [
       "<class 'statsmodels.iolib.summary.Summary'>\n",
       "\"\"\"\n",
       "                            OLS Regression Results                            \n",
       "==============================================================================\n",
       "Dep. Variable:                     za   R-squared:                       0.951\n",
       "Model:                            OLS   Adj. R-squared:                  0.951\n",
       "Method:                 Least Squares   F-statistic:                 4.174e+06\n",
       "Date:                Sun, 26 Feb 2023   Prob (F-statistic):               0.00\n",
       "Time:                        15:16:18   Log-Likelihood:            -5.4405e+06\n",
       "No. Observations:             1080788   AIC:                         1.088e+07\n",
       "Df Residuals:                 1080782   BIC:                         1.088e+07\n",
       "Df Model:                           5                                         \n",
       "Covariance Type:            nonrobust                                         \n",
       "===============================================================================================\n",
       "                                  coef    std err          t      P>|t|      [0.025      0.975]\n",
       "-----------------------------------------------------------------------------------------------\n",
       "1                              52.2967      0.105    498.121      0.000      52.091      52.502\n",
       "slope                         -66.3616      0.166   -398.898      0.000     -66.688     -66.036\n",
       "effective_radius_multiplier   -33.1071      0.108   -307.833      0.000     -33.318     -32.896\n",
       "r_stat_multiplier              -1.1889      0.089    -13.326      0.000      -1.364      -1.014\n",
       "min_rim_percentage            -27.3790      0.097   -282.257      0.000     -27.569     -27.189\n",
       "n_craters_in_study_region     727.0617      0.309   2354.473      0.000     726.457     727.667\n",
       "==============================================================================\n",
       "Omnibus:                   215475.962   Durbin-Watson:                   0.001\n",
       "Prob(Omnibus):                  0.000   Jarque-Bera (JB):           571478.182\n",
       "Skew:                           1.082   Prob(JB):                         0.00\n",
       "Kurtosis:                       5.830   Cond. No.                         14.4\n",
       "==============================================================================\n",
       "\n",
       "Notes:\n",
       "[1] Standard Errors assume that the covariance matrix of the errors is correctly specified.\n",
       "\"\"\""
      ]
     },
     "execution_count": 141,
     "metadata": {},
     "output_type": "execute_result"
    }
   ],
   "source": [
    "# With the untransformed target\n",
    "y = stats_df[metric_to_transform]\n",
    "\n",
    "model = sm.OLS(y, X).fit()\n",
    "model.summary()"
   ]
  },
  {
   "cell_type": "code",
   "execution_count": 142,
   "id": "76ab754c-bdf1-418c-9b25-964ed15c2e5e",
   "metadata": {},
   "outputs": [
    {
     "data": {
      "image/png": "[encoded data removed]",
      "text/plain": [
       "<Figure size 432x288 with 1 Axes>"
      ]
     },
     "metadata": {
      "needs_background": "light"
     },
     "output_type": "display_data"
    }
   ],
   "source": [
    "plt.hist(model.resid, bins=50)\n",
    "plt.show()"
   ]
  },
  {
   "cell_type": "code",
   "execution_count": null,
   "id": "328a37ce-ed46-4335-84fb-156f2b445a0c",
   "metadata": {},
   "outputs": [],
   "source": []
  },
  {
   "cell_type": "code",
   "execution_count": null,
   "id": "b6708ce6-4255-43b7-b162-0b585ea4a6d7",
   "metadata": {},
   "outputs": [],
   "source": []
  },
  {
   "cell_type": "code",
   "execution_count": 64,
   "id": "b775f044-0c32-4faf-a7f5-1235b5dc34f5",
   "metadata": {},
   "outputs": [],
   "source": [
    "holdout_index = 2\n",
    "sample_cadence = 250\n",
    "\n",
    "holdout_sim = holdout_sim_dfs[holdout_index]\n",
    "holdout_sim = holdout_sim.iloc[[x * sample_cadence for x in range(holdout_sim.shape[0] // sample_cadence)]].copy()\n",
    "\n",
    "holdout_X = holdout_sim[ivs]\n",
    "holdout_X = min_max_scaler.transform(holdout_X)\n",
    "holdout_X = pd.DataFrame(holdout_X, columns=min_max_scaler.get_feature_names_out())\n",
    "holdout_X = poly_transform.transform(holdout_X)\n",
    "holdout_X = pd.DataFrame(holdout_X, columns=poly_transform.get_feature_names_out())\n",
    "\n",
    "holdout_X = sm.add_constant(holdout_X)\n",
    "\n",
    "holdout_y = holdout_sim[metric_to_transform]\n",
    "holdout_y = boxcox(holdout_sim[metric_to_transform].fillna(0) - stats_df[metric_to_transform].min() + 1, lmbda)"
   ]
  },
  {
   "cell_type": "code",
   "execution_count": 65,
   "id": "00dd2ddf-d787-4b0b-a1a1-673e49495b78",
   "metadata": {},
   "outputs": [],
   "source": [
    "predictions = model.get_prediction(holdout_X)\n",
    "pred_df = pd.concat([holdout_X, predictions.summary_frame(alpha=0.1)], axis=1)\n",
    "pred_df[\"actual\"] = list(holdout_y)\n",
    "pred_df[\"n_craters\"] = list(holdout_sim.index)"
   ]
  },
  {
   "cell_type": "code",
   "execution_count": 66,
   "id": "156517ca-76d3-462a-859a-7335ee7fbbfd",
   "metadata": {},
   "outputs": [
    {
     "data": {
      "text/html": [
       "<iframe\n",
       "    scrolling=\"no\"\n",
       "    width=\"100%\"\n",
       "    height=\"545px\"\n",
       "    src=\"iframe_figures/figure_66.html\"\n",
       "    frameborder=\"0\"\n",
       "    allowfullscreen\n",
       "></iframe>\n"
      ]
     },
     "metadata": {},
     "output_type": "display_data"
    }
   ],
   "source": [
    "fig = go.Figure()\n",
    "\n",
    "fig.add_scatter(x=pred_df[\"n_craters\"],\n",
    "                y=pred_df[\"actual\"],\n",
    "                mode=\"lines\",\n",
    "                name=\"Actual\")\n",
    "fig.add_scatter(x=pred_df[\"n_craters\"],\n",
    "                y=pred_df[\"mean\"],\n",
    "                mode=\"lines\",\n",
    "                name=\"Predicted\")\n",
    "fig.add_scatter(x=pred_df[\"n_craters\"],\n",
    "                y=pred_df[\"obs_ci_lower\"],\n",
    "                mode=\"lines\",\n",
    "                name=\"Lower 5%\")\n",
    "fig.add_scatter(x=pred_df[\"n_craters\"],\n",
    "                y=pred_df[\"obs_ci_upper\"],\n",
    "                mode=\"lines\",\n",
    "                name=\"Upper 95%\")\n",
    "\n",
    "fig.update_layout(\n",
    "    xaxis_title=\"N Craters\",\n",
    "    yaxis_title=metric\n",
    ")\n",
    "\n",
    "fig.show()"
   ]
  },
  {
   "cell_type": "code",
   "execution_count": 67,
   "id": "52cfbfc5-6989-4d30-ab17-94c4a9b653f6",
   "metadata": {},
   "outputs": [
    {
     "data": {
      "text/plain": [
       "0.0"
      ]
     },
     "execution_count": 67,
     "metadata": {},
     "output_type": "execute_result"
    }
   ],
   "source": [
    "d = pred_df.iloc[-500:]\n",
    "d[d.actual < d.obs_ci_lower].shape[0] / d.shape[0]"
   ]
  },
  {
   "cell_type": "code",
   "execution_count": null,
   "id": "46b7e0b8-5823-4a8c-8594-648708107c8d",
   "metadata": {},
   "outputs": [],
   "source": []
  }
 ],
 "metadata": {
  "kernelspec": {
   "display_name": "Python 3 (ipykernel)",
   "language": "python",
   "name": "python3"
  },
  "language_info": {
   "codemirror_mode": {
    "name": "ipython",
    "version": 3
   },
   "file_extension": ".py",
   "mimetype": "text/x-python",
   "name": "python",
   "nbconvert_exporter": "python",
   "pygments_lexer": "ipython3",
   "version": "3.10.6"
  }
 },
 "nbformat": 4,
 "nbformat_minor": 5
}
