{
 "cells": [
  {
   "cell_type": "code",
   "execution_count": 17,
   "id": "e99968aa-332e-4766-b316-472d1715a36c",
   "metadata": {},
   "outputs": [],
   "source": [
    "# base_path = \"/data/saturation/random_runs_large\"\n",
    "# base_path = \"/data/saturation/random_runs_large_bungled\"\n",
    "# base_path = \"/data/saturation/r_stat_changes\"\n",
    "# base_path = \"/data/saturation/r_stat_changes_smaller_min\"\n",
    "# base_path = \"/data/saturation/tests/test_timings_cell_sizes_buffer_31_boundaries\"\n",
    "base_path = \"/data/saturation/central_composite_design/ccd4\"\n",
    "n_cores = 15"
   ]
  },
  {
   "cell_type": "code",
   "execution_count": null,
   "id": "a9908a76-4d8e-496d-bf4a-026601c8dae6",
   "metadata": {},
   "outputs": [],
   "source": []
  },
  {
   "cell_type": "markdown",
   "id": "e46ad524-f140-422e-9186-ea7cc62fb953",
   "metadata": {},
   "source": [
    "### Calculating post-saturation statistics"
   ]
  },
  {
   "cell_type": "code",
   "execution_count": 18,
   "id": "5b66df2a-b07a-4e4c-b1df-43d2831db54b",
   "metadata": {},
   "outputs": [],
   "source": [
    "import pandas as pd\n",
    "from pathlib import Path\n",
    "import glob\n",
    "import yaml\n",
    "from typing import Dict\n",
    "from functools import reduce\n",
    "\n",
    "import pyspark\n",
    "from pyspark.sql import SparkSession\n",
    "from pyspark.sql import DataFrame, Row"
   ]
  },
  {
   "cell_type": "code",
   "execution_count": 19,
   "id": "fe157c55-bcdc-4ff9-951e-274504b6f545",
   "metadata": {},
   "outputs": [],
   "source": [
    "def read_config(path: Path) -> Dict:\n",
    "    with path.open(\"r\") as config_file:\n",
    "        config = yaml.safe_load(config_file)\n",
    "    return config\n",
    "\n",
    "def normalize_config_output_path(config: Dict) -> Dict:\n",
    "    config[\"output_path\"] = Path(config[\"output_path\"])\n",
    "    return config\n",
    "\n",
    "def get_statistics(series: pd.Series) -> Dict[str, float]:\n",
    "    result = {\n",
    "        f\"{quantile:.0f}_percentile\": series.quantile(quantile / 100)\n",
    "        for quantile in range(1, 100)\n",
    "    }\n",
    "    result.update({\n",
    "        \"99.9_percentile\": series.quantile(.999),\n",
    "        \"max\": series.max(),\n",
    "        \"min\": series.min(),\n",
    "        \"median\": series.median(),\n",
    "        \"mean\": series.mean(),\n",
    "        \"stdev\": series.std()\n",
    "    })\n",
    "    return result\n",
    "\n",
    "def read_parquet_and_calculate_statistics(config: Dict) -> Row:\n",
    "    fields_to_add_from_config = [\n",
    "        \"slope\",\n",
    "        \"effective_radius_multiplier\",\n",
    "        \"r_stat_multiplier\",\n",
    "        \"min_rim_percentage\"\n",
    "    ]\n",
    "    columns_to_calculate_stats = [\n",
    "        \"areal_density\",\n",
    "        \"z\",\n",
    "        \"za\",\n",
    "        \"n_craters_in_study_region\",\n",
    "        \"n_craters_added_in_study_region\"\n",
    "    ]\n",
    "    \n",
    "    with (config[\"output_path\"] / \"completed.txt\").open(\"r\") as f:\n",
    "        duration = float(f.readlines()[0].split(\" \")[1])\n",
    "\n",
    "    # Read all statistics parquet files\n",
    "    filenames = config[\"output_path\"].glob(\"statistics*.parquet\")\n",
    "    \n",
    "    dataframes = []\n",
    "    for filename in filenames:\n",
    "        df = pd.read_parquet(filename)\n",
    "        dataframes.append(df)\n",
    "    df = pd.concat(dataframes)\n",
    "    df = df.sort_values(by=[\"crater_id\"]).reset_index(drop=True)\n",
    "    n_craters_at_completion = df.shape[0]\n",
    "\n",
    "    ad = df.areal_density\n",
    "    \n",
    "    # Find the max areal density; treat this as the saturation point\n",
    "    saturation_point = max(df[\"areal_density\"].idxmax(), df[\"n_craters_in_study_region\"].idxmax())\n",
    "    df = df.iloc[saturation_point:]\n",
    "\n",
    "    # Calculate post-saturation statistics\n",
    "    stats = {f\"{x}_{y[0]}\": float(y[1])\n",
    "             for x in columns_to_calculate_stats\n",
    "             for y in get_statistics(df[x]).items()}\n",
    "    stats.update({\n",
    "        x: config[x]\n",
    "        for x in fields_to_add_from_config\n",
    "    })\n",
    "    \n",
    "    stats[\"areal_density_index_90_percentile_max\"] = float(ad[ad >= ad.quantile(.9)].index[0] / ad.shape[0])\n",
    "    stats[\"areal_density_index_95_percentile_max\"] = float(ad[ad >= ad.quantile(.95)].index[0] / ad.shape[0])\n",
    "    stats[\"areal_density_index_97_percentile_max\"] = float(ad[ad >= ad.quantile(.97)].index[0] / ad.shape[0])\n",
    "    stats[\"areal_density_index_99_percentile_max\"] = float(ad[ad >= ad.quantile(.99)].index[0] / ad.shape[0])\n",
    "    stats[\"areal_density_index_995_percentile_max\"] = float(ad[ad >= ad.quantile(.995)].index[0] / ad.shape[0])\n",
    "    \n",
    "    stats[\"path\"] = str(config[\"output_path\"])\n",
    "    stats[\"n_craters_at_completion\"] = n_craters_at_completion\n",
    "    stats[\"n_craters_saturation\"] = saturation_point\n",
    "    stats[\"run_duration_seconds\"] = duration\n",
    "    return Row(**stats)"
   ]
  },
  {
   "cell_type": "code",
   "execution_count": 20,
   "id": "12bed1c2-8c60-4714-a50c-731b00873ae5",
   "metadata": {},
   "outputs": [],
   "source": [
    "spark = SparkSession.builder \\\n",
    "                    .master(f\"local[{n_cores}]\") \\\n",
    "                    .appName(\"Saturation\") \\\n",
    "                    .config(\"spark.driver.memory\", \"48g\") \\\n",
    "                    .getOrCreate()\n",
    "sc = spark.sparkContext"
   ]
  },
  {
   "cell_type": "code",
   "execution_count": 21,
   "id": "9eeb924c-d0d2-46f9-a4de-c8d8f4b06325",
   "metadata": {},
   "outputs": [],
   "source": [
    "completed_filenames = list(Path(base_path).glob(\"*/*/completed.txt\"))\n",
    "# completed_filenames = completed_filenames + list(Path(base_path).glob(\"center*/*/completed.txt\"))\n",
    "configs = map(lambda x: x.parent / \"config.yaml\", completed_filenames)\n",
    "configs = map(read_config, configs)\n",
    "configs = list(map(normalize_config_output_path, configs))\n",
    "configs = sc.parallelize(configs)\n",
    "\n",
    "statistics = configs.map(read_parquet_and_calculate_statistics)\n",
    "statistics = statistics.toDF().cache()"
   ]
  },
  {
   "cell_type": "code",
   "execution_count": 22,
   "id": "a4843e41-18b4-452b-b53e-824e70fd9c4a",
   "metadata": {},
   "outputs": [
    {
     "name": "stderr",
     "output_type": "stream",
     "text": [
      "                                                                                \r"
     ]
    }
   ],
   "source": [
    "stats_df = statistics.toPandas().reset_index(drop=True).copy()"
   ]
  },
  {
   "cell_type": "code",
   "execution_count": 23,
   "id": "a36d08b5-d1e2-4c72-bdc2-1ff9d6b70476",
   "metadata": {},
   "outputs": [],
   "source": [
    "stats_df.to_csv(f\"{base_path}/post_saturation_statistics_corners.csv\", index=False)"
   ]
  },
  {
   "cell_type": "code",
   "execution_count": 24,
   "id": "728146b7-33f0-4325-a518-145083c71b9d",
   "metadata": {},
   "outputs": [
    {
     "data": {
      "text/plain": [
       "0.977988"
      ]
     },
     "execution_count": 24,
     "metadata": {},
     "output_type": "execute_result"
    }
   ],
   "source": [
    "stats_df.areal_density_index_99_percentile_max.max()"
   ]
  },
  {
   "cell_type": "code",
   "execution_count": null,
   "id": "c4014657-b777-4798-9f53-33707c2f149e",
   "metadata": {},
   "outputs": [],
   "source": []
  },
  {
   "cell_type": "code",
   "execution_count": null,
   "id": "7a95a26d-d096-405c-9a15-cf801ac57025",
   "metadata": {},
   "outputs": [],
   "source": []
  },
  {
   "cell_type": "code",
   "execution_count": null,
   "id": "6f1efc26-9826-4dc9-a22a-07c490b27ebc",
   "metadata": {},
   "outputs": [],
   "source": [
    "config = configs.take(1)[0]"
   ]
  },
  {
   "cell_type": "code",
   "execution_count": null,
   "id": "f8b9b1ea-11f3-402b-865b-1cbfc8c3313d",
   "metadata": {},
   "outputs": [],
   "source": [
    "fields_to_add_from_config = [\n",
    "    \"slope\",\n",
    "    \"effective_radius_multiplier\",\n",
    "    \"r_stat_multiplier\",\n",
    "    \"min_rim_percentage\"\n",
    "]\n",
    "columns_to_calculate_stats = [\n",
    "    \"areal_density\",\n",
    "    \"z\",\n",
    "    \"za\",\n",
    "    \"n_craters_in_study_region\",\n",
    "    \"n_craters_added_in_study_region\"\n",
    "]\n",
    "\n",
    "with (config[\"output_path\"] / \"completed.txt\").open(\"r\") as f:\n",
    "    duration = float(f.readlines()[0].split(\" \")[1])\n",
    "\n",
    "# Read all statistics parquet files\n",
    "filenames = config[\"output_path\"].glob(\"statistics*.parquet\")\n",
    "\n",
    "dataframes = []\n",
    "for filename in filenames:\n",
    "    df = pd.read_parquet(filename)\n",
    "    dataframes.append(df)\n",
    "df = pd.concat(dataframes)\n",
    "df = df.sort_values(by=[\"crater_id\"]).reset_index(drop=True)\n",
    "n_craters_at_completion = df.shape[0]\n",
    "\n",
    "ad = df.areal_density"
   ]
  },
  {
   "cell_type": "code",
   "execution_count": null,
   "id": "9606cb69-5508-44dc-b411-74c44949aabe",
   "metadata": {},
   "outputs": [],
   "source": [
    "float(ad[ad >= ad.quantile(.9)].idxmin() / ad.shape[0])"
   ]
  },
  {
   "cell_type": "code",
   "execution_count": null,
   "id": "64e9f26c-de95-473d-8749-0f8ae4c27df9",
   "metadata": {},
   "outputs": [],
   "source": [
    "float(ad[ad >= ad.quantile(.95)].idxmin() / ad.shape[0])"
   ]
  },
  {
   "cell_type": "code",
   "execution_count": null,
   "id": "734cc99e-e07f-4a02-b327-a68449c7128f",
   "metadata": {},
   "outputs": [],
   "source": [
    "float(ad[ad >= ad.quantile(.97)].idxmin() / ad.shape[0])"
   ]
  },
  {
   "cell_type": "code",
   "execution_count": null,
   "id": "d5bc5ad0-7c77-43d5-806d-7c4f1ffda468",
   "metadata": {},
   "outputs": [],
   "source": [
    "float(ad[ad >= ad.quantile(.99)].idxmin() / ad.shape[0])"
   ]
  },
  {
   "cell_type": "code",
   "execution_count": null,
   "id": "1f44bfa9-c61b-4dbd-9df6-f75deb9c252d",
   "metadata": {},
   "outputs": [],
   "source": [
    "float(ad[ad >= ad.quantile(.9)].idxmin() / ad.shape[0])"
   ]
  },
  {
   "cell_type": "code",
   "execution_count": null,
   "id": "8289b971-5850-4e57-8d37-29499e91099a",
   "metadata": {},
   "outputs": [],
   "source": [
    "ad.quantile(.97)"
   ]
  },
  {
   "cell_type": "code",
   "execution_count": null,
   "id": "dd2c153e-9df7-4e61-a9c2-d27726fbeead",
   "metadata": {},
   "outputs": [],
   "source": [
    "ad.quantile(.99)"
   ]
  },
  {
   "cell_type": "code",
   "execution_count": null,
   "id": "645fcb68-08ae-4233-a4be-87e9287ad184",
   "metadata": {},
   "outputs": [],
   "source": []
  },
  {
   "cell_type": "code",
   "execution_count": null,
   "id": "47d71288-f915-4d99-9caa-fd560156e4e7",
   "metadata": {},
   "outputs": [],
   "source": [
    "ad[ad >= ad.quantile(.97)].index[0]"
   ]
  },
  {
   "cell_type": "code",
   "execution_count": null,
   "id": "2ebae0cf-e021-4e03-ab92-c698594e6a1a",
   "metadata": {},
   "outputs": [],
   "source": [
    "ad[ad >= ad.quantile(.99)].index[0]"
   ]
  },
  {
   "cell_type": "code",
   "execution_count": null,
   "id": "d31b98ef-9f3f-4565-93ba-23a42d9e2e9a",
   "metadata": {},
   "outputs": [],
   "source": []
  },
  {
   "cell_type": "code",
   "execution_count": null,
   "id": "824b2a4f-57f1-49e4-b809-97ba5ff60051",
   "metadata": {},
   "outputs": [],
   "source": []
  },
  {
   "cell_type": "markdown",
   "id": "5896888a-96ff-433d-8d60-f292a70fa9a8",
   "metadata": {},
   "source": [
    "### Creating a lookup function"
   ]
  },
  {
   "cell_type": "code",
   "execution_count": null,
   "id": "e019721a-4d31-4df9-b8e1-b0b5b916d5fb",
   "metadata": {},
   "outputs": [],
   "source": [
    "import matplotlib.pyplot as plt\n",
    "import plotly.express as px\n",
    "import plotly.io as pio\n",
    "from typing import *"
   ]
  },
  {
   "cell_type": "code",
   "execution_count": null,
   "id": "b0d3ebe2-1f84-4dcd-96d4-d131f9d51143",
   "metadata": {},
   "outputs": [],
   "source": [
    "pio.renderers.default = \"iframe\""
   ]
  },
  {
   "cell_type": "code",
   "execution_count": null,
   "id": "388970c2-08c9-4d0d-b40c-62ba7af38a00",
   "metadata": {},
   "outputs": [],
   "source": [
    "stats_df = pd.read_csv(f\"{base_path}/post_saturation_statistics.csv\")"
   ]
  },
  {
   "cell_type": "code",
   "execution_count": null,
   "id": "5e874594-e7bd-4ca2-8e36-a52de8831c84",
   "metadata": {},
   "outputs": [],
   "source": [
    "def lookup_statistics(*,\n",
    "                      data: pd.DataFrame,\n",
    "                      slope_range: tuple[float, float],\n",
    "                      effective_radius_multiplier_range: tuple[float, float],\n",
    "                      r_stat_multiplier_range: tuple[float, float],\n",
    "                      min_rim_percentage_range: tuple[float, float]) -> pd.DataFrame:\n",
    "    result = data\n",
    "    result = result[result.slope.between(*slope_range)]\n",
    "    result = result[result.effective_radius_multiplier.between(*effective_radius_multiplier_range)]\n",
    "    result = result[result.r_stat_multiplier.between(*r_stat_multiplier_range)]\n",
    "    result = result[result.min_rim_percentage.between(*min_rim_percentage_range)]\n",
    "    \n",
    "    return result.reset_index(drop=True).copy()                      "
   ]
  },
  {
   "cell_type": "code",
   "execution_count": null,
   "id": "c5fef8ea-6bed-4ffb-b17f-ed51e4f3ad01",
   "metadata": {},
   "outputs": [],
   "source": [
    "lookup_result = lookup_statistics(\n",
    "    data=stats_df,\n",
    "    slope_range=(1.8, 2.0),\n",
    "    effective_radius_multiplier_range=(1.3, 1.7),\n",
    "    r_stat_multiplier_range=(5.5, 6.5),\n",
    "    min_rim_percentage_range=(0.4, 0.5)\n",
    ")"
   ]
  },
  {
   "cell_type": "code",
   "execution_count": null,
   "id": "58d12332-65c2-45a7-83a4-88fb69d2f262",
   "metadata": {},
   "outputs": [],
   "source": [
    "series = lookup_result.areal_density_max\n",
    "print(f\"Mean={series.mean():.3f}, Stdev={series.std():.3f}, IQR=({series.quantile(0.25):.3f}, {series.quantile(0.75):.3f})\")"
   ]
  },
  {
   "cell_type": "code",
   "execution_count": null,
   "id": "9243d94e-8ebb-45d3-b85f-a97703316faa",
   "metadata": {},
   "outputs": [],
   "source": [
    "series = lookup_result.areal_density_95_percentile\n",
    "print(f\"Mean={series.mean():.3f}, Stdev={series.std():.3f}, IQR=({series.quantile(0.25):.3f}, {series.quantile(0.75):.3f})\")"
   ]
  },
  {
   "cell_type": "code",
   "execution_count": null,
   "id": "d5a89075-21e5-4781-b99a-186e60615b81",
   "metadata": {},
   "outputs": [],
   "source": [
    "series = lookup_result.areal_density_median\n",
    "print(f\"Mean={series.mean():.3f}, Stdev={series.std():.3f}, IQR=({series.quantile(0.25):.3f}, {series.quantile(0.75):.3f})\")"
   ]
  },
  {
   "cell_type": "code",
   "execution_count": null,
   "id": "ac2bceee-cef1-468a-8ffb-b111ce5cf803",
   "metadata": {},
   "outputs": [],
   "source": []
  },
  {
   "cell_type": "code",
   "execution_count": null,
   "id": "377a67c3-329b-4483-a47f-183872d0b5ae",
   "metadata": {},
   "outputs": [],
   "source": [
    "series = lookup_result.n_craters_in_study_region_median\n",
    "print(f\"Mean={series.mean():.3f}, Stdev={series.std():.3f}, IQR=({series.quantile(0.25):.3f}, {series.quantile(0.75):.3f})\")"
   ]
  },
  {
   "cell_type": "code",
   "execution_count": null,
   "id": "86c7f125-fae3-4d4b-849d-a96986c053b9",
   "metadata": {},
   "outputs": [],
   "source": [
    "lookup_result.areal_density_median.min()"
   ]
  },
  {
   "cell_type": "code",
   "execution_count": null,
   "id": "75634cb0-e585-4f5f-833e-939abec9813c",
   "metadata": {},
   "outputs": [],
   "source": [
    "lookup_result.areal_density_median.max()"
   ]
  },
  {
   "cell_type": "code",
   "execution_count": null,
   "id": "9cd5f8e8-4026-433a-a94d-cdb5a143d00f",
   "metadata": {},
   "outputs": [],
   "source": []
  }
 ],
 "metadata": {
  "kernelspec": {
   "display_name": "Python 3 (ipykernel)",
   "language": "python",
   "name": "python3"
  },
  "language_info": {
   "codemirror_mode": {
    "name": "ipython",
    "version": 3
   },
   "file_extension": ".py",
   "mimetype": "text/x-python",
   "name": "python",
   "nbconvert_exporter": "python",
   "pygments_lexer": "ipython3",
   "version": "3.10.6"
  }
 },
 "nbformat": 4,
 "nbformat_minor": 5
}
